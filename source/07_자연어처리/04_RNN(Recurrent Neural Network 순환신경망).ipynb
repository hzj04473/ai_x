{
 "cells": [
  {
   "cell_type": "code",
   "execution_count": 21,
   "metadata": {},
   "outputs": [
    {
     "data": {
      "text/html": [
       "\n",
       "<style>\n",
       "* {font-family:D2Coding;}\n",
       "div.container{width:87% !important;}\n",
       "div.cell.code_cell.rendered{width:100%;}\n",
       "div.CodeMirror {font-size:12pt;}\n",
       "div.output {font-size:12pt; font-weight:bold;}\n",
       "div.input { font-size:12pt;}\n",
       "div.prompt {min-width:70px;}\n",
       "div#toc-wrapper{padding-top:120px;}\n",
       "div.text_cell_render ul li{font-size:12pt;padding:3px;}\n",
       "table.dataframe{font-size:12px;}\n",
       "</style>\n"
      ],
      "text/plain": [
       "<IPython.core.display.HTML object>"
      ]
     },
     "metadata": {},
     "output_type": "display_data"
    }
   ],
   "source": [
    "from IPython.display import display, HTML\n",
    "display(\n",
    "    HTML(\"\"\"\n",
    "<style>\n",
    "* {font-family:D2Coding;}\n",
    "div.container{width:87% !important;}\n",
    "div.cell.code_cell.rendered{width:100%;}\n",
    "div.CodeMirror {font-size:12pt;}\n",
    "div.output {font-size:12pt; font-weight:bold;}\n",
    "div.input { font-size:12pt;}\n",
    "div.prompt {min-width:70px;}\n",
    "div#toc-wrapper{padding-top:120px;}\n",
    "div.text_cell_render ul li{font-size:12pt;padding:3px;}\n",
    "table.dataframe{font-size:12px;}\n",
    "</style>\n",
    "\"\"\"))"
   ]
  },
  {
   "cell_type": "markdown",
   "metadata": {},
   "source": [
    "# <span style='color:red'>Ch4. RNN(Recurrent Neural Network 순환신경망)</span>\n",
    "\n",
    "# 1. 문맥을 이용하여 모델만들기"
   ]
  },
  {
   "cell_type": "code",
   "execution_count": 22,
   "metadata": {},
   "outputs": [],
   "source": [
    "text = \"\"\"경마장에 있는 말이 띄고 있다\n",
    "그 말이 법이다\n",
    "가는 말이 고와야 오는 말이 곱다\"\"\"\n",
    "\n",
    "# text1 = \"\"\"장마철이 오고 있다\"\"\""
   ]
  },
  {
   "cell_type": "code",
   "execution_count": 23,
   "metadata": {},
   "outputs": [],
   "source": [
    "# 원환인코딩\n",
    "# from tensorflow.keras.preprocessing.text import Tokenizer\n",
    "# # from keras_preprocessing.text import Tokenizer\n",
    "# t = Tokenizer()\n",
    "\n",
    "# # 2. 텍스트 학습 (텍스트 안의 단어를 인덱스로 변환할 준비)\n",
    "# t.fit_on_texts([text, text1])\n",
    "\n",
    "# # 3. 시퀀스로 변환 (실제 인덱스 배열로 변환)\n",
    "# encorded = t.texts_to_sequences([text, text1])\n",
    "\n",
    "# print(encorded)\n",
    "# print(t.word_index)"
   ]
  },
  {
   "cell_type": "code",
   "execution_count": 24,
   "metadata": {},
   "outputs": [
    {
     "name": "stdout",
     "output_type": "stream",
     "text": [
      "[[2, 3, 1, 4, 5, 6, 1, 7, 8, 1, 9, 10, 1, 11]]\n",
      "{'말이': 1, '경마장에': 2, '있는': 3, '띄고': 4, '있다': 5, '그': 6, '법이다': 7, '가는': 8, '고와야': 9, '오는': 10, '곱다': 11}\n"
     ]
    }
   ],
   "source": [
    "from tensorflow.keras.preprocessing.text import Tokenizer\n",
    "# from keras_preprocessing.text import Tokenizer\n",
    "t = Tokenizer()\n",
    "\n",
    "# 2. 텍스트 학습 (텍스트 안의 단어를 인덱스로 변환할 준비)\n",
    "t.fit_on_texts([text])\n",
    "\n",
    "# 3. 시퀀스로 변환 (실제 인덱스 배열로 변환)\n",
    "encorded = t.texts_to_sequences([text])\n",
    "\n",
    "print(encorded)\n",
    "print(t.word_index)"
   ]
  },
  {
   "cell_type": "code",
   "execution_count": 25,
   "metadata": {},
   "outputs": [
    {
     "name": "stdout",
     "output_type": "stream",
     "text": [
      "[[2, 1, 5], [1]]\n",
      "[8, 1, 11]\n"
     ]
    }
   ],
   "source": [
    "# 문자열 리스트를 인덱스 시쿼스로 변환\n",
    "# 반드시 리스트 형식으로 넣어야 함\n",
    "# 없는 단어는 나오지 않는다. (뛴다)\n",
    "print(t.texts_to_sequences(['경마장에 말이 있다','말이 띈다']))\n",
    "print(t.texts_to_sequences(['가는 말이 곱다'])[0])"
   ]
  },
  {
   "cell_type": "code",
   "execution_count": 26,
   "metadata": {},
   "outputs": [],
   "source": [
    "text = \"\"\"경마장에 있는 말이 띄고 있다\n",
    "그 말이 법이다\n",
    "가는 말이 고와야 오는 말이 곱다\"\"\""
   ]
  },
  {
   "cell_type": "code",
   "execution_count": 27,
   "metadata": {},
   "outputs": [
    {
     "name": "stdout",
     "output_type": "stream",
     "text": [
      "말이 1\n",
      "경마장에 2\n",
      "있는 3\n",
      "띄고 4\n",
      "있다 5\n",
      "그 6\n",
      "법이다 7\n",
      "가는 8\n",
      "고와야 9\n",
      "오는 10\n",
      "곱다 11\n"
     ]
    }
   ],
   "source": [
    "for key, value in t.word_index.items():\n",
    "    print(key, value)\n"
   ]
  },
  {
   "cell_type": "code",
   "execution_count": 28,
   "metadata": {},
   "outputs": [
    {
     "name": "stdout",
     "output_type": "stream",
     "text": [
      "원문장 : 경마장에 있는 말이 띄고 있다\n",
      "encorded 된 문장 [2, 3, 1, 4, 5]\n",
      "원문장 : 그 말이 법이다\n",
      "encorded 된 문장 [6, 1, 7]\n",
      "원문장 : 가는 말이 고와야 오는 말이 곱다\n",
      "encorded 된 문장 [8, 1, 9, 10, 1, 11]\n",
      "sequence와 해석 출력\n",
      "2:경마장에 3:있는 \n",
      "2:경마장에 3:있는 1:말이 \n",
      "2:경마장에 3:있는 1:말이 4:띄고 \n",
      "2:경마장에 3:있는 1:말이 4:띄고 5:있다 \n",
      "3:있는 1:말이 \n",
      "3:있는 1:말이 4:띄고 \n",
      "3:있는 1:말이 4:띄고 5:있다 \n",
      "1:말이 4:띄고 \n",
      "1:말이 4:띄고 5:있다 \n",
      "4:띄고 5:있다 \n",
      "6:그 1:말이 \n",
      "6:그 1:말이 7:법이다 \n",
      "1:말이 7:법이다 \n",
      "8:가는 1:말이 \n",
      "8:가는 1:말이 9:고와야 \n",
      "8:가는 1:말이 9:고와야 10:오는 \n",
      "8:가는 1:말이 9:고와야 10:오는 1:말이 \n",
      "8:가는 1:말이 9:고와야 10:오는 1:말이 11:곱다 \n",
      "1:말이 9:고와야 \n",
      "1:말이 9:고와야 10:오는 \n",
      "1:말이 9:고와야 10:오는 1:말이 \n",
      "1:말이 9:고와야 10:오는 1:말이 11:곱다 \n",
      "9:고와야 10:오는 \n",
      "9:고와야 10:오는 1:말이 \n",
      "9:고와야 10:오는 1:말이 11:곱다 \n",
      "10:오는 1:말이 \n",
      "10:오는 1:말이 11:곱다 \n",
      "1:말이 11:곱다 \n"
     ]
    }
   ],
   "source": [
    "# 학습을 시키기 위해 ['경마장에 있는','경마장에 있는 말이',...]\n",
    "sequences = []\n",
    "\n",
    "for line in text.split('\\n'):\n",
    "    print('원문장 :', line)\n",
    "    encorded = t.texts_to_sequences([line])[0]\n",
    "    print('encorded 된 문장', encorded)\n",
    "\n",
    "    for i in range(0, len(encorded)-1): # i:시작index\n",
    "        for j in range(i + 2, len(encorded)+1): # j:끝나는 index 바로 뒤\n",
    "            # print(encorded[i:j])\n",
    "            sequences.append(encorded[i:j])\n",
    "\n",
    "# print(sequences)\n",
    "print('sequence와 해석 출력')\n",
    "for sequence in sequences:\n",
    "    for word_seq in sequence:\n",
    "        # print(word_seq)\n",
    "        for word, id in t.word_index.items():\n",
    "            if word_seq == id :\n",
    "                print(\"{}:{}\".format(word_seq, word), end=' ')\n",
    "                break\n",
    "    print()\n",
    "            "
   ]
  },
  {
   "cell_type": "code",
   "execution_count": 29,
   "metadata": {},
   "outputs": [
    {
     "name": "stdout",
     "output_type": "stream",
     "text": [
      "[2, 3, 4, 5, 2, 3, 4, 2, 3, 2, 2, 3, 2, 2, 3, 4, 5, 6, 2, 3, 4, 5, 2, 3, 4, 2, 3, 2]\n"
     ]
    },
    {
     "data": {
      "text/plain": [
       "6"
      ]
     },
     "execution_count": 29,
     "metadata": {},
     "output_type": "execute_result"
    }
   ],
   "source": [
    "print([len(sequence) for sequence in sequences])\n",
    "\n",
    "# my_len = max([len(sequence) for sequence in sequences])\n",
    "my_len = max(len(sequence) for sequence in sequences)\n",
    "my_len"
   ]
  },
  {
   "cell_type": "code",
   "execution_count": 30,
   "metadata": {},
   "outputs": [
    {
     "data": {
      "text/plain": [
       "((28, 6), numpy.ndarray)"
      ]
     },
     "execution_count": 30,
     "metadata": {},
     "output_type": "execute_result"
    }
   ],
   "source": [
    "# sequences를 훈련 가능하도록 모두 6개로 조정 - padding작업\n",
    "from tensorflow.keras.preprocessing.sequence import pad_sequences\n",
    "padded_sequences = pad_sequences(sequences=sequences, \n",
    "                                maxlen=my_len, \n",
    "                                # padding='post',\n",
    "                                padding='pre'\n",
    "                                )\n",
    "# padded_sequences\n",
    "padded_sequences.shape, type(padded_sequences)\n"
   ]
  },
  {
   "cell_type": "code",
   "execution_count": 31,
   "metadata": {},
   "outputs": [
    {
     "data": {
      "text/plain": [
       "array([3, 1, 4, 5, 1], dtype=int32)"
      ]
     },
     "execution_count": 31,
     "metadata": {},
     "output_type": "execute_result"
    }
   ],
   "source": [
    "# 독립변수(X)와 타켓변수(y)로 분리\n",
    "X = padded_sequences[:,:-1]\n",
    "y = padded_sequences[:,-1]\n",
    "X[:5]\n",
    "y[:5]\n"
   ]
  },
  {
   "cell_type": "code",
   "execution_count": 32,
   "metadata": {},
   "outputs": [
    {
     "data": {
      "text/plain": [
       "12"
      ]
     },
     "execution_count": 32,
     "metadata": {},
     "output_type": "execute_result"
    }
   ],
   "source": [
    "# X를 엠베딩 작업할 떄 필요한 입력 bit 수 (단어수 + 1)\n",
    "# print(len(t.word_index))\n",
    "input_dim = len(t.word_index) + 1\n",
    "input_dim"
   ]
  },
  {
   "cell_type": "code",
   "execution_count": 33,
   "metadata": {},
   "outputs": [
    {
     "data": {
      "text/plain": [
       "((28, 5), (28, 12), 12)"
      ]
     },
     "execution_count": 33,
     "metadata": {},
     "output_type": "execute_result"
    }
   ],
   "source": [
    "# y 의 원핫인코딩\n",
    "from tensorflow.keras.utils import to_categorical\n",
    "Y = to_categorical(y, input_dim)\n",
    "X.shape, Y.shape, input_dim"
   ]
  },
  {
   "cell_type": "code",
   "execution_count": 34,
   "metadata": {},
   "outputs": [
    {
     "name": "stderr",
     "output_type": "stream",
     "text": [
      "/Users/teamkim/anaconda3/envs/ml-dl-nlp/lib/python3.10/site-packages/keras/src/layers/core/embedding.py:97: UserWarning: Argument `input_length` is deprecated. Just remove it.\n",
      "  warnings.warn(\n"
     ]
    },
    {
     "data": {
      "text/html": [
       "<pre style=\"white-space:pre;overflow-x:auto;line-height:normal;font-family:Menlo,'DejaVu Sans Mono',consolas,'Courier New',monospace\"><span style=\"font-weight: bold\">Model: \"sequential_1\"</span>\n",
       "</pre>\n"
      ],
      "text/plain": [
       "\u001b[1mModel: \"sequential_1\"\u001b[0m\n"
      ]
     },
     "metadata": {},
     "output_type": "display_data"
    },
    {
     "data": {
      "text/html": [
       "<pre style=\"white-space:pre;overflow-x:auto;line-height:normal;font-family:Menlo,'DejaVu Sans Mono',consolas,'Courier New',monospace\">┏━━━━━━━━━━━━━━━━━━━━━━━━━━━━━━━━━┳━━━━━━━━━━━━━━━━━━━━━━━━┳━━━━━━━━━━━━━━━┓\n",
       "┃<span style=\"font-weight: bold\"> Layer (type)                    </span>┃<span style=\"font-weight: bold\"> Output Shape           </span>┃<span style=\"font-weight: bold\">       Param # </span>┃\n",
       "┡━━━━━━━━━━━━━━━━━━━━━━━━━━━━━━━━━╇━━━━━━━━━━━━━━━━━━━━━━━━╇━━━━━━━━━━━━━━━┩\n",
       "│ embedding_1 (<span style=\"color: #0087ff; text-decoration-color: #0087ff\">Embedding</span>)         │ ?                      │   <span style=\"color: #00af00; text-decoration-color: #00af00\">0</span> (unbuilt) │\n",
       "├─────────────────────────────────┼────────────────────────┼───────────────┤\n",
       "│ simple_rnn_1 (<span style=\"color: #0087ff; text-decoration-color: #0087ff\">SimpleRNN</span>)        │ ?                      │   <span style=\"color: #00af00; text-decoration-color: #00af00\">0</span> (unbuilt) │\n",
       "├─────────────────────────────────┼────────────────────────┼───────────────┤\n",
       "│ dense_1 (<span style=\"color: #0087ff; text-decoration-color: #0087ff\">Dense</span>)                 │ ?                      │   <span style=\"color: #00af00; text-decoration-color: #00af00\">0</span> (unbuilt) │\n",
       "└─────────────────────────────────┴────────────────────────┴───────────────┘\n",
       "</pre>\n"
      ],
      "text/plain": [
       "┏━━━━━━━━━━━━━━━━━━━━━━━━━━━━━━━━━┳━━━━━━━━━━━━━━━━━━━━━━━━┳━━━━━━━━━━━━━━━┓\n",
       "┃\u001b[1m \u001b[0m\u001b[1mLayer (type)                   \u001b[0m\u001b[1m \u001b[0m┃\u001b[1m \u001b[0m\u001b[1mOutput Shape          \u001b[0m\u001b[1m \u001b[0m┃\u001b[1m \u001b[0m\u001b[1m      Param #\u001b[0m\u001b[1m \u001b[0m┃\n",
       "┡━━━━━━━━━━━━━━━━━━━━━━━━━━━━━━━━━╇━━━━━━━━━━━━━━━━━━━━━━━━╇━━━━━━━━━━━━━━━┩\n",
       "│ embedding_1 (\u001b[38;5;33mEmbedding\u001b[0m)         │ ?                      │   \u001b[38;5;34m0\u001b[0m (unbuilt) │\n",
       "├─────────────────────────────────┼────────────────────────┼───────────────┤\n",
       "│ simple_rnn_1 (\u001b[38;5;33mSimpleRNN\u001b[0m)        │ ?                      │   \u001b[38;5;34m0\u001b[0m (unbuilt) │\n",
       "├─────────────────────────────────┼────────────────────────┼───────────────┤\n",
       "│ dense_1 (\u001b[38;5;33mDense\u001b[0m)                 │ ?                      │   \u001b[38;5;34m0\u001b[0m (unbuilt) │\n",
       "└─────────────────────────────────┴────────────────────────┴───────────────┘\n"
      ]
     },
     "metadata": {},
     "output_type": "display_data"
    },
    {
     "data": {
      "text/html": [
       "<pre style=\"white-space:pre;overflow-x:auto;line-height:normal;font-family:Menlo,'DejaVu Sans Mono',consolas,'Courier New',monospace\"><span style=\"font-weight: bold\"> Total params: </span><span style=\"color: #00af00; text-decoration-color: #00af00\">0</span> (0.00 B)\n",
       "</pre>\n"
      ],
      "text/plain": [
       "\u001b[1m Total params: \u001b[0m\u001b[38;5;34m0\u001b[0m (0.00 B)\n"
      ]
     },
     "metadata": {},
     "output_type": "display_data"
    },
    {
     "data": {
      "text/html": [
       "<pre style=\"white-space:pre;overflow-x:auto;line-height:normal;font-family:Menlo,'DejaVu Sans Mono',consolas,'Courier New',monospace\"><span style=\"font-weight: bold\"> Trainable params: </span><span style=\"color: #00af00; text-decoration-color: #00af00\">0</span> (0.00 B)\n",
       "</pre>\n"
      ],
      "text/plain": [
       "\u001b[1m Trainable params: \u001b[0m\u001b[38;5;34m0\u001b[0m (0.00 B)\n"
      ]
     },
     "metadata": {},
     "output_type": "display_data"
    },
    {
     "data": {
      "text/html": [
       "<pre style=\"white-space:pre;overflow-x:auto;line-height:normal;font-family:Menlo,'DejaVu Sans Mono',consolas,'Courier New',monospace\"><span style=\"font-weight: bold\"> Non-trainable params: </span><span style=\"color: #00af00; text-decoration-color: #00af00\">0</span> (0.00 B)\n",
       "</pre>\n"
      ],
      "text/plain": [
       "\u001b[1m Non-trainable params: \u001b[0m\u001b[38;5;34m0\u001b[0m (0.00 B)\n"
      ]
     },
     "metadata": {},
     "output_type": "display_data"
    },
    {
     "name": "stdout",
     "output_type": "stream",
     "text": [
      "None\n",
      "Epoch 1/300\n",
      "1/1 - 1s - 992ms/step - accuracy: 0.0714 - loss: 2.4773\n",
      "Epoch 2/300\n",
      "1/1 - 0s - 64ms/step - accuracy: 0.1071 - loss: 2.4634\n",
      "Epoch 3/300\n",
      "1/1 - 0s - 61ms/step - accuracy: 0.1429 - loss: 2.4493\n",
      "Epoch 4/300\n",
      "1/1 - 0s - 61ms/step - accuracy: 0.1429 - loss: 2.4349\n",
      "Epoch 5/300\n",
      "1/1 - 0s - 60ms/step - accuracy: 0.1429 - loss: 2.4202\n",
      "Epoch 6/300\n",
      "1/1 - 0s - 62ms/step - accuracy: 0.1786 - loss: 2.4050\n",
      "Epoch 7/300\n",
      "1/1 - 0s - 62ms/step - accuracy: 0.2500 - loss: 2.3893\n",
      "Epoch 8/300\n",
      "1/1 - 0s - 61ms/step - accuracy: 0.2500 - loss: 2.3730\n",
      "Epoch 9/300\n",
      "1/1 - 0s - 63ms/step - accuracy: 0.2500 - loss: 2.3561\n",
      "Epoch 10/300\n",
      "1/1 - 0s - 62ms/step - accuracy: 0.3214 - loss: 2.3385\n",
      "Epoch 11/300\n",
      "1/1 - 0s - 66ms/step - accuracy: 0.3214 - loss: 2.3203\n",
      "Epoch 12/300\n",
      "1/1 - 0s - 86ms/step - accuracy: 0.3214 - loss: 2.3013\n",
      "Epoch 13/300\n",
      "1/1 - 0s - 83ms/step - accuracy: 0.3571 - loss: 2.2816\n",
      "Epoch 14/300\n",
      "1/1 - 0s - 81ms/step - accuracy: 0.3214 - loss: 2.2612\n",
      "Epoch 15/300\n",
      "1/1 - 0s - 76ms/step - accuracy: 0.2857 - loss: 2.2402\n",
      "Epoch 16/300\n",
      "1/1 - 0s - 64ms/step - accuracy: 0.3214 - loss: 2.2186\n",
      "Epoch 17/300\n",
      "1/1 - 0s - 64ms/step - accuracy: 0.3214 - loss: 2.1966\n",
      "Epoch 18/300\n",
      "1/1 - 0s - 139ms/step - accuracy: 0.3214 - loss: 2.1741\n",
      "Epoch 19/300\n",
      "1/1 - 0s - 62ms/step - accuracy: 0.3214 - loss: 2.1513\n",
      "Epoch 20/300\n",
      "1/1 - 0s - 61ms/step - accuracy: 0.3571 - loss: 2.1285\n",
      "Epoch 21/300\n",
      "1/1 - 0s - 61ms/step - accuracy: 0.3571 - loss: 2.1056\n",
      "Epoch 22/300\n",
      "1/1 - 0s - 61ms/step - accuracy: 0.3571 - loss: 2.0829\n",
      "Epoch 23/300\n",
      "1/1 - 0s - 61ms/step - accuracy: 0.3571 - loss: 2.0605\n",
      "Epoch 24/300\n",
      "1/1 - 0s - 61ms/step - accuracy: 0.3571 - loss: 2.0385\n",
      "Epoch 25/300\n",
      "1/1 - 0s - 62ms/step - accuracy: 0.3571 - loss: 2.0171\n",
      "Epoch 26/300\n",
      "1/1 - 0s - 64ms/step - accuracy: 0.3571 - loss: 1.9964\n",
      "Epoch 27/300\n",
      "1/1 - 0s - 63ms/step - accuracy: 0.3571 - loss: 1.9764\n",
      "Epoch 28/300\n",
      "1/1 - 0s - 70ms/step - accuracy: 0.3571 - loss: 1.9573\n",
      "Epoch 29/300\n",
      "1/1 - 0s - 63ms/step - accuracy: 0.3571 - loss: 1.9390\n",
      "Epoch 30/300\n",
      "1/1 - 0s - 63ms/step - accuracy: 0.3571 - loss: 1.9215\n",
      "Epoch 31/300\n",
      "1/1 - 0s - 63ms/step - accuracy: 0.3571 - loss: 1.9049\n",
      "Epoch 32/300\n",
      "1/1 - 0s - 63ms/step - accuracy: 0.3571 - loss: 1.8890\n",
      "Epoch 33/300\n",
      "1/1 - 0s - 63ms/step - accuracy: 0.3571 - loss: 1.8738\n",
      "Epoch 34/300\n",
      "1/1 - 0s - 63ms/step - accuracy: 0.3571 - loss: 1.8592\n",
      "Epoch 35/300\n",
      "1/1 - 0s - 63ms/step - accuracy: 0.3571 - loss: 1.8451\n",
      "Epoch 36/300\n",
      "1/1 - 0s - 62ms/step - accuracy: 0.3571 - loss: 1.8313\n",
      "Epoch 37/300\n",
      "1/1 - 0s - 63ms/step - accuracy: 0.3571 - loss: 1.8179\n",
      "Epoch 38/300\n",
      "1/1 - 0s - 62ms/step - accuracy: 0.3571 - loss: 1.8048\n",
      "Epoch 39/300\n",
      "1/1 - 0s - 63ms/step - accuracy: 0.3571 - loss: 1.7918\n",
      "Epoch 40/300\n",
      "1/1 - 0s - 63ms/step - accuracy: 0.3571 - loss: 1.7790\n",
      "Epoch 41/300\n",
      "1/1 - 0s - 63ms/step - accuracy: 0.3929 - loss: 1.7662\n",
      "Epoch 42/300\n",
      "1/1 - 0s - 62ms/step - accuracy: 0.3929 - loss: 1.7534\n",
      "Epoch 43/300\n",
      "1/1 - 0s - 64ms/step - accuracy: 0.4286 - loss: 1.7406\n",
      "Epoch 44/300\n",
      "1/1 - 0s - 63ms/step - accuracy: 0.4286 - loss: 1.7275\n",
      "Epoch 45/300\n",
      "1/1 - 0s - 63ms/step - accuracy: 0.4286 - loss: 1.7143\n",
      "Epoch 46/300\n",
      "1/1 - 0s - 63ms/step - accuracy: 0.4286 - loss: 1.7007\n",
      "Epoch 47/300\n",
      "1/1 - 0s - 64ms/step - accuracy: 0.4643 - loss: 1.6867\n",
      "Epoch 48/300\n",
      "1/1 - 0s - 63ms/step - accuracy: 0.4643 - loss: 1.6724\n",
      "Epoch 49/300\n",
      "1/1 - 0s - 62ms/step - accuracy: 0.4643 - loss: 1.6576\n",
      "Epoch 50/300\n",
      "1/1 - 0s - 62ms/step - accuracy: 0.4643 - loss: 1.6424\n",
      "Epoch 51/300\n",
      "1/1 - 0s - 110ms/step - accuracy: 0.4643 - loss: 1.6268\n",
      "Epoch 52/300\n",
      "1/1 - 0s - 64ms/step - accuracy: 0.5000 - loss: 1.6107\n",
      "Epoch 53/300\n",
      "1/1 - 0s - 63ms/step - accuracy: 0.5000 - loss: 1.5942\n",
      "Epoch 54/300\n",
      "1/1 - 0s - 64ms/step - accuracy: 0.5357 - loss: 1.5774\n",
      "Epoch 55/300\n",
      "1/1 - 0s - 62ms/step - accuracy: 0.5357 - loss: 1.5602\n",
      "Epoch 56/300\n",
      "1/1 - 0s - 63ms/step - accuracy: 0.5357 - loss: 1.5427\n",
      "Epoch 57/300\n",
      "1/1 - 0s - 65ms/step - accuracy: 0.5357 - loss: 1.5250\n",
      "Epoch 58/300\n",
      "1/1 - 0s - 67ms/step - accuracy: 0.5714 - loss: 1.5071\n",
      "Epoch 59/300\n",
      "1/1 - 0s - 70ms/step - accuracy: 0.5714 - loss: 1.4891\n",
      "Epoch 60/300\n",
      "1/1 - 0s - 65ms/step - accuracy: 0.6071 - loss: 1.4711\n",
      "Epoch 61/300\n",
      "1/1 - 0s - 63ms/step - accuracy: 0.6071 - loss: 1.4530\n",
      "Epoch 62/300\n",
      "1/1 - 0s - 63ms/step - accuracy: 0.6071 - loss: 1.4349\n",
      "Epoch 63/300\n",
      "1/1 - 0s - 65ms/step - accuracy: 0.6071 - loss: 1.4169\n",
      "Epoch 64/300\n",
      "1/1 - 0s - 64ms/step - accuracy: 0.6071 - loss: 1.3990\n",
      "Epoch 65/300\n",
      "1/1 - 0s - 65ms/step - accuracy: 0.6071 - loss: 1.3813\n",
      "Epoch 66/300\n",
      "1/1 - 0s - 63ms/step - accuracy: 0.6071 - loss: 1.3638\n",
      "Epoch 67/300\n",
      "1/1 - 0s - 65ms/step - accuracy: 0.6071 - loss: 1.3465\n",
      "Epoch 68/300\n",
      "1/1 - 0s - 67ms/step - accuracy: 0.6071 - loss: 1.3294\n",
      "Epoch 69/300\n",
      "1/1 - 0s - 65ms/step - accuracy: 0.6071 - loss: 1.3126\n",
      "Epoch 70/300\n",
      "1/1 - 0s - 69ms/step - accuracy: 0.6071 - loss: 1.2961\n",
      "Epoch 71/300\n",
      "1/1 - 0s - 69ms/step - accuracy: 0.6071 - loss: 1.2799\n",
      "Epoch 72/300\n",
      "1/1 - 0s - 65ms/step - accuracy: 0.6071 - loss: 1.2639\n",
      "Epoch 73/300\n",
      "1/1 - 0s - 66ms/step - accuracy: 0.6071 - loss: 1.2483\n",
      "Epoch 74/300\n",
      "1/1 - 0s - 70ms/step - accuracy: 0.6071 - loss: 1.2330\n",
      "Epoch 75/300\n",
      "1/1 - 0s - 69ms/step - accuracy: 0.6071 - loss: 1.2180\n",
      "Epoch 76/300\n",
      "1/1 - 0s - 64ms/step - accuracy: 0.6071 - loss: 1.2033\n",
      "Epoch 77/300\n",
      "1/1 - 0s - 66ms/step - accuracy: 0.6071 - loss: 1.1889\n",
      "Epoch 78/300\n",
      "1/1 - 0s - 63ms/step - accuracy: 0.6071 - loss: 1.1748\n",
      "Epoch 79/300\n",
      "1/1 - 0s - 64ms/step - accuracy: 0.6071 - loss: 1.1610\n",
      "Epoch 80/300\n",
      "1/1 - 0s - 64ms/step - accuracy: 0.6071 - loss: 1.1475\n",
      "Epoch 81/300\n",
      "1/1 - 0s - 64ms/step - accuracy: 0.6071 - loss: 1.1342\n",
      "Epoch 82/300\n",
      "1/1 - 0s - 113ms/step - accuracy: 0.6071 - loss: 1.1213\n",
      "Epoch 83/300\n",
      "1/1 - 0s - 64ms/step - accuracy: 0.6071 - loss: 1.1086\n",
      "Epoch 84/300\n",
      "1/1 - 0s - 64ms/step - accuracy: 0.6071 - loss: 1.0961\n",
      "Epoch 85/300\n",
      "1/1 - 0s - 64ms/step - accuracy: 0.6071 - loss: 1.0840\n",
      "Epoch 86/300\n",
      "1/1 - 0s - 76ms/step - accuracy: 0.6071 - loss: 1.0720\n",
      "Epoch 87/300\n",
      "1/1 - 0s - 82ms/step - accuracy: 0.6429 - loss: 1.0604\n",
      "Epoch 88/300\n",
      "1/1 - 0s - 89ms/step - accuracy: 0.6429 - loss: 1.0489\n",
      "Epoch 89/300\n",
      "1/1 - 0s - 83ms/step - accuracy: 0.6786 - loss: 1.0377\n",
      "Epoch 90/300\n",
      "1/1 - 0s - 75ms/step - accuracy: 0.6786 - loss: 1.0267\n",
      "Epoch 91/300\n",
      "1/1 - 0s - 73ms/step - accuracy: 0.6786 - loss: 1.0160\n",
      "Epoch 92/300\n",
      "1/1 - 0s - 71ms/step - accuracy: 0.6786 - loss: 1.0054\n",
      "Epoch 93/300\n",
      "1/1 - 0s - 77ms/step - accuracy: 0.6786 - loss: 0.9950\n",
      "Epoch 94/300\n",
      "1/1 - 0s - 84ms/step - accuracy: 0.6786 - loss: 0.9849\n",
      "Epoch 95/300\n",
      "1/1 - 0s - 80ms/step - accuracy: 0.6786 - loss: 0.9749\n",
      "Epoch 96/300\n",
      "1/1 - 0s - 70ms/step - accuracy: 0.6786 - loss: 0.9650\n",
      "Epoch 97/300\n",
      "1/1 - 0s - 67ms/step - accuracy: 0.6786 - loss: 0.9554\n",
      "Epoch 98/300\n",
      "1/1 - 0s - 67ms/step - accuracy: 0.6786 - loss: 0.9459\n",
      "Epoch 99/300\n",
      "1/1 - 0s - 67ms/step - accuracy: 0.6786 - loss: 0.9365\n",
      "Epoch 100/300\n",
      "1/1 - 0s - 69ms/step - accuracy: 0.6786 - loss: 0.9273\n",
      "Epoch 101/300\n",
      "1/1 - 0s - 67ms/step - accuracy: 0.6786 - loss: 0.9182\n",
      "Epoch 102/300\n",
      "1/1 - 0s - 67ms/step - accuracy: 0.6786 - loss: 0.9093\n",
      "Epoch 103/300\n",
      "1/1 - 0s - 67ms/step - accuracy: 0.6786 - loss: 0.9004\n",
      "Epoch 104/300\n",
      "1/1 - 0s - 66ms/step - accuracy: 0.6786 - loss: 0.8917\n",
      "Epoch 105/300\n",
      "1/1 - 0s - 64ms/step - accuracy: 0.6786 - loss: 0.8831\n",
      "Epoch 106/300\n",
      "1/1 - 0s - 65ms/step - accuracy: 0.6786 - loss: 0.8747\n",
      "Epoch 107/300\n",
      "1/1 - 0s - 68ms/step - accuracy: 0.7500 - loss: 0.8663\n",
      "Epoch 108/300\n",
      "1/1 - 0s - 74ms/step - accuracy: 0.7500 - loss: 0.8580\n",
      "Epoch 109/300\n",
      "1/1 - 0s - 74ms/step - accuracy: 0.7500 - loss: 0.8498\n",
      "Epoch 110/300\n",
      "1/1 - 0s - 79ms/step - accuracy: 0.7500 - loss: 0.8417\n",
      "Epoch 111/300\n",
      "1/1 - 0s - 73ms/step - accuracy: 0.7857 - loss: 0.8337\n",
      "Epoch 112/300\n",
      "1/1 - 0s - 82ms/step - accuracy: 0.7857 - loss: 0.8258\n",
      "Epoch 113/300\n",
      "1/1 - 0s - 75ms/step - accuracy: 0.7857 - loss: 0.8180\n",
      "Epoch 114/300\n",
      "1/1 - 0s - 116ms/step - accuracy: 0.7857 - loss: 0.8102\n",
      "Epoch 115/300\n",
      "1/1 - 0s - 61ms/step - accuracy: 0.7857 - loss: 0.8026\n",
      "Epoch 116/300\n",
      "1/1 - 0s - 60ms/step - accuracy: 0.7857 - loss: 0.7950\n",
      "Epoch 117/300\n",
      "1/1 - 0s - 61ms/step - accuracy: 0.7857 - loss: 0.7875\n",
      "Epoch 118/300\n",
      "1/1 - 0s - 61ms/step - accuracy: 0.7857 - loss: 0.7800\n",
      "Epoch 119/300\n",
      "1/1 - 0s - 61ms/step - accuracy: 0.7857 - loss: 0.7727\n",
      "Epoch 120/300\n",
      "1/1 - 0s - 61ms/step - accuracy: 0.7857 - loss: 0.7654\n",
      "Epoch 121/300\n",
      "1/1 - 0s - 63ms/step - accuracy: 0.7857 - loss: 0.7582\n",
      "Epoch 122/300\n",
      "1/1 - 0s - 63ms/step - accuracy: 0.7857 - loss: 0.7511\n",
      "Epoch 123/300\n",
      "1/1 - 0s - 61ms/step - accuracy: 0.7857 - loss: 0.7441\n",
      "Epoch 124/300\n",
      "1/1 - 0s - 64ms/step - accuracy: 0.7857 - loss: 0.7371\n",
      "Epoch 125/300\n",
      "1/1 - 0s - 65ms/step - accuracy: 0.7857 - loss: 0.7302\n",
      "Epoch 126/300\n",
      "1/1 - 0s - 64ms/step - accuracy: 0.7857 - loss: 0.7234\n",
      "Epoch 127/300\n",
      "1/1 - 0s - 64ms/step - accuracy: 0.7857 - loss: 0.7166\n",
      "Epoch 128/300\n",
      "1/1 - 0s - 63ms/step - accuracy: 0.7857 - loss: 0.7100\n",
      "Epoch 129/300\n",
      "1/1 - 0s - 63ms/step - accuracy: 0.7857 - loss: 0.7034\n",
      "Epoch 130/300\n",
      "1/1 - 0s - 68ms/step - accuracy: 0.7857 - loss: 0.6969\n",
      "Epoch 131/300\n",
      "1/1 - 0s - 63ms/step - accuracy: 0.7857 - loss: 0.6904\n",
      "Epoch 132/300\n",
      "1/1 - 0s - 62ms/step - accuracy: 0.7857 - loss: 0.6840\n",
      "Epoch 133/300\n",
      "1/1 - 0s - 63ms/step - accuracy: 0.7857 - loss: 0.6778\n",
      "Epoch 134/300\n",
      "1/1 - 0s - 62ms/step - accuracy: 0.7857 - loss: 0.6715\n",
      "Epoch 135/300\n",
      "1/1 - 0s - 66ms/step - accuracy: 0.8214 - loss: 0.6654\n",
      "Epoch 136/300\n",
      "1/1 - 0s - 69ms/step - accuracy: 0.8214 - loss: 0.6593\n",
      "Epoch 137/300\n",
      "1/1 - 0s - 65ms/step - accuracy: 0.8214 - loss: 0.6534\n",
      "Epoch 138/300\n",
      "1/1 - 0s - 65ms/step - accuracy: 0.8214 - loss: 0.6474\n",
      "Epoch 139/300\n",
      "1/1 - 0s - 64ms/step - accuracy: 0.8214 - loss: 0.6416\n",
      "Epoch 140/300\n",
      "1/1 - 0s - 62ms/step - accuracy: 0.8214 - loss: 0.6359\n",
      "Epoch 141/300\n",
      "1/1 - 0s - 67ms/step - accuracy: 0.8214 - loss: 0.6302\n",
      "Epoch 142/300\n",
      "1/1 - 0s - 69ms/step - accuracy: 0.8214 - loss: 0.6246\n",
      "Epoch 143/300\n",
      "1/1 - 0s - 65ms/step - accuracy: 0.8214 - loss: 0.6190\n",
      "Epoch 144/300\n",
      "1/1 - 0s - 62ms/step - accuracy: 0.8214 - loss: 0.6136\n",
      "Epoch 145/300\n",
      "1/1 - 0s - 116ms/step - accuracy: 0.8214 - loss: 0.6082\n",
      "Epoch 146/300\n",
      "1/1 - 0s - 64ms/step - accuracy: 0.8214 - loss: 0.6029\n",
      "Epoch 147/300\n",
      "1/1 - 0s - 65ms/step - accuracy: 0.8214 - loss: 0.5977\n",
      "Epoch 148/300\n",
      "1/1 - 0s - 79ms/step - accuracy: 0.8571 - loss: 0.5925\n",
      "Epoch 149/300\n",
      "1/1 - 0s - 85ms/step - accuracy: 0.8571 - loss: 0.5874\n",
      "Epoch 150/300\n",
      "1/1 - 0s - 88ms/step - accuracy: 0.8571 - loss: 0.5824\n",
      "Epoch 151/300\n",
      "1/1 - 0s - 87ms/step - accuracy: 0.8571 - loss: 0.5775\n",
      "Epoch 152/300\n",
      "1/1 - 0s - 78ms/step - accuracy: 0.8571 - loss: 0.5726\n",
      "Epoch 153/300\n",
      "1/1 - 0s - 67ms/step - accuracy: 0.8571 - loss: 0.5678\n",
      "Epoch 154/300\n",
      "1/1 - 0s - 62ms/step - accuracy: 0.8571 - loss: 0.5630\n",
      "Epoch 155/300\n",
      "1/1 - 0s - 63ms/step - accuracy: 0.8571 - loss: 0.5584\n",
      "Epoch 156/300\n",
      "1/1 - 0s - 62ms/step - accuracy: 0.8571 - loss: 0.5537\n",
      "Epoch 157/300\n",
      "1/1 - 0s - 63ms/step - accuracy: 0.8571 - loss: 0.5492\n",
      "Epoch 158/300\n",
      "1/1 - 0s - 63ms/step - accuracy: 0.8571 - loss: 0.5447\n",
      "Epoch 159/300\n",
      "1/1 - 0s - 66ms/step - accuracy: 0.8571 - loss: 0.5403\n",
      "Epoch 160/300\n",
      "1/1 - 0s - 78ms/step - accuracy: 0.8571 - loss: 0.5359\n",
      "Epoch 161/300\n",
      "1/1 - 0s - 63ms/step - accuracy: 0.8571 - loss: 0.5317\n",
      "Epoch 162/300\n",
      "1/1 - 0s - 63ms/step - accuracy: 0.8571 - loss: 0.5274\n",
      "Epoch 163/300\n",
      "1/1 - 0s - 71ms/step - accuracy: 0.8571 - loss: 0.5232\n",
      "Epoch 164/300\n",
      "1/1 - 0s - 71ms/step - accuracy: 0.8571 - loss: 0.5191\n",
      "Epoch 165/300\n",
      "1/1 - 0s - 68ms/step - accuracy: 0.8571 - loss: 0.5151\n",
      "Epoch 166/300\n",
      "1/1 - 0s - 63ms/step - accuracy: 0.8571 - loss: 0.5111\n",
      "Epoch 167/300\n",
      "1/1 - 0s - 63ms/step - accuracy: 0.8571 - loss: 0.5071\n",
      "Epoch 168/300\n",
      "1/1 - 0s - 64ms/step - accuracy: 0.8571 - loss: 0.5032\n",
      "Epoch 169/300\n",
      "1/1 - 0s - 64ms/step - accuracy: 0.8571 - loss: 0.4994\n",
      "Epoch 170/300\n",
      "1/1 - 0s - 67ms/step - accuracy: 0.8571 - loss: 0.4956\n",
      "Epoch 171/300\n",
      "1/1 - 0s - 63ms/step - accuracy: 0.8571 - loss: 0.4919\n",
      "Epoch 172/300\n",
      "1/1 - 0s - 66ms/step - accuracy: 0.8571 - loss: 0.4882\n",
      "Epoch 173/300\n",
      "1/1 - 0s - 64ms/step - accuracy: 0.8571 - loss: 0.4846\n",
      "Epoch 174/300\n",
      "1/1 - 0s - 65ms/step - accuracy: 0.8571 - loss: 0.4810\n",
      "Epoch 175/300\n",
      "1/1 - 0s - 64ms/step - accuracy: 0.8571 - loss: 0.4774\n",
      "Epoch 176/300\n",
      "1/1 - 0s - 67ms/step - accuracy: 0.8571 - loss: 0.4740\n",
      "Epoch 177/300\n",
      "1/1 - 0s - 66ms/step - accuracy: 0.8929 - loss: 0.4705\n",
      "Epoch 178/300\n",
      "1/1 - 0s - 64ms/step - accuracy: 0.8929 - loss: 0.4671\n",
      "Epoch 179/300\n",
      "1/1 - 0s - 63ms/step - accuracy: 0.8929 - loss: 0.4638\n",
      "Epoch 180/300\n",
      "1/1 - 0s - 64ms/step - accuracy: 0.8929 - loss: 0.4605\n",
      "Epoch 181/300\n",
      "1/1 - 0s - 63ms/step - accuracy: 0.8929 - loss: 0.4572\n",
      "Epoch 182/300\n",
      "1/1 - 0s - 64ms/step - accuracy: 0.8929 - loss: 0.4540\n",
      "Epoch 183/300\n",
      "1/1 - 0s - 115ms/step - accuracy: 0.8929 - loss: 0.4508\n",
      "Epoch 184/300\n",
      "1/1 - 0s - 65ms/step - accuracy: 0.8929 - loss: 0.4477\n",
      "Epoch 185/300\n",
      "1/1 - 0s - 63ms/step - accuracy: 0.8929 - loss: 0.4446\n",
      "Epoch 186/300\n",
      "1/1 - 0s - 62ms/step - accuracy: 0.8929 - loss: 0.4415\n",
      "Epoch 187/300\n",
      "1/1 - 0s - 63ms/step - accuracy: 0.8929 - loss: 0.4385\n",
      "Epoch 188/300\n",
      "1/1 - 0s - 62ms/step - accuracy: 0.8929 - loss: 0.4356\n",
      "Epoch 189/300\n",
      "1/1 - 0s - 63ms/step - accuracy: 0.8929 - loss: 0.4326\n",
      "Epoch 190/300\n",
      "1/1 - 0s - 62ms/step - accuracy: 0.8929 - loss: 0.4297\n",
      "Epoch 191/300\n",
      "1/1 - 0s - 62ms/step - accuracy: 0.8929 - loss: 0.4269\n",
      "Epoch 192/300\n",
      "1/1 - 0s - 64ms/step - accuracy: 0.8929 - loss: 0.4240\n",
      "Epoch 193/300\n",
      "1/1 - 0s - 63ms/step - accuracy: 0.8929 - loss: 0.4212\n",
      "Epoch 194/300\n",
      "1/1 - 0s - 63ms/step - accuracy: 0.8929 - loss: 0.4185\n",
      "Epoch 195/300\n",
      "1/1 - 0s - 64ms/step - accuracy: 0.8929 - loss: 0.4158\n",
      "Epoch 196/300\n",
      "1/1 - 0s - 63ms/step - accuracy: 0.8929 - loss: 0.4131\n",
      "Epoch 197/300\n",
      "1/1 - 0s - 63ms/step - accuracy: 0.8929 - loss: 0.4104\n",
      "Epoch 198/300\n",
      "1/1 - 0s - 63ms/step - accuracy: 0.8929 - loss: 0.4078\n",
      "Epoch 199/300\n",
      "1/1 - 0s - 63ms/step - accuracy: 0.8929 - loss: 0.4052\n",
      "Epoch 200/300\n",
      "1/1 - 0s - 63ms/step - accuracy: 0.8929 - loss: 0.4027\n",
      "Epoch 201/300\n",
      "1/1 - 0s - 63ms/step - accuracy: 0.8929 - loss: 0.4002\n",
      "Epoch 202/300\n",
      "1/1 - 0s - 62ms/step - accuracy: 0.8929 - loss: 0.3977\n",
      "Epoch 203/300\n",
      "1/1 - 0s - 66ms/step - accuracy: 0.8929 - loss: 0.3952\n",
      "Epoch 204/300\n",
      "1/1 - 0s - 63ms/step - accuracy: 0.8929 - loss: 0.3928\n",
      "Epoch 205/300\n",
      "1/1 - 0s - 63ms/step - accuracy: 0.8929 - loss: 0.3904\n",
      "Epoch 206/300\n",
      "1/1 - 0s - 64ms/step - accuracy: 0.8929 - loss: 0.3880\n",
      "Epoch 207/300\n",
      "1/1 - 0s - 63ms/step - accuracy: 0.8929 - loss: 0.3857\n",
      "Epoch 208/300\n",
      "1/1 - 0s - 62ms/step - accuracy: 0.8929 - loss: 0.3834\n",
      "Epoch 209/300\n",
      "1/1 - 0s - 62ms/step - accuracy: 0.8929 - loss: 0.3811\n",
      "Epoch 210/300\n",
      "1/1 - 0s - 68ms/step - accuracy: 0.8929 - loss: 0.3789\n",
      "Epoch 211/300\n",
      "1/1 - 0s - 62ms/step - accuracy: 0.8929 - loss: 0.3766\n",
      "Epoch 212/300\n",
      "1/1 - 0s - 64ms/step - accuracy: 0.8929 - loss: 0.3744\n",
      "Epoch 213/300\n",
      "1/1 - 0s - 109ms/step - accuracy: 0.8929 - loss: 0.3723\n",
      "Epoch 214/300\n",
      "1/1 - 0s - 62ms/step - accuracy: 0.8929 - loss: 0.3701\n",
      "Epoch 215/300\n",
      "1/1 - 0s - 64ms/step - accuracy: 0.8929 - loss: 0.3680\n",
      "Epoch 216/300\n",
      "1/1 - 0s - 61ms/step - accuracy: 0.8929 - loss: 0.3659\n",
      "Epoch 217/300\n",
      "1/1 - 0s - 62ms/step - accuracy: 0.8929 - loss: 0.3639\n",
      "Epoch 218/300\n",
      "1/1 - 0s - 62ms/step - accuracy: 0.8929 - loss: 0.3618\n",
      "Epoch 219/300\n",
      "1/1 - 0s - 63ms/step - accuracy: 0.8929 - loss: 0.3598\n",
      "Epoch 220/300\n",
      "1/1 - 0s - 63ms/step - accuracy: 0.8929 - loss: 0.3578\n",
      "Epoch 221/300\n",
      "1/1 - 0s - 63ms/step - accuracy: 0.8929 - loss: 0.3559\n",
      "Epoch 222/300\n",
      "1/1 - 0s - 64ms/step - accuracy: 0.8929 - loss: 0.3539\n",
      "Epoch 223/300\n",
      "1/1 - 0s - 62ms/step - accuracy: 0.8929 - loss: 0.3520\n",
      "Epoch 224/300\n",
      "1/1 - 0s - 62ms/step - accuracy: 0.8929 - loss: 0.3501\n",
      "Epoch 225/300\n",
      "1/1 - 0s - 65ms/step - accuracy: 0.8929 - loss: 0.3483\n",
      "Epoch 226/300\n",
      "1/1 - 0s - 63ms/step - accuracy: 0.8929 - loss: 0.3464\n",
      "Epoch 227/300\n",
      "1/1 - 0s - 62ms/step - accuracy: 0.8929 - loss: 0.3446\n",
      "Epoch 228/300\n",
      "1/1 - 0s - 61ms/step - accuracy: 0.8929 - loss: 0.3428\n",
      "Epoch 229/300\n",
      "1/1 - 0s - 65ms/step - accuracy: 0.8929 - loss: 0.3410\n",
      "Epoch 230/300\n",
      "1/1 - 0s - 64ms/step - accuracy: 0.8929 - loss: 0.3393\n",
      "Epoch 231/300\n",
      "1/1 - 0s - 63ms/step - accuracy: 0.8929 - loss: 0.3376\n",
      "Epoch 232/300\n",
      "1/1 - 0s - 63ms/step - accuracy: 0.8929 - loss: 0.3358\n",
      "Epoch 233/300\n",
      "1/1 - 0s - 63ms/step - accuracy: 0.8929 - loss: 0.3342\n",
      "Epoch 234/300\n",
      "1/1 - 0s - 62ms/step - accuracy: 0.8929 - loss: 0.3325\n",
      "Epoch 235/300\n",
      "1/1 - 0s - 64ms/step - accuracy: 0.8929 - loss: 0.3309\n",
      "Epoch 236/300\n",
      "1/1 - 0s - 63ms/step - accuracy: 0.8929 - loss: 0.3292\n",
      "Epoch 237/300\n",
      "1/1 - 0s - 62ms/step - accuracy: 0.8929 - loss: 0.3276\n",
      "Epoch 238/300\n",
      "1/1 - 0s - 62ms/step - accuracy: 0.8929 - loss: 0.3261\n",
      "Epoch 239/300\n",
      "1/1 - 0s - 62ms/step - accuracy: 0.8929 - loss: 0.3245\n",
      "Epoch 240/300\n",
      "1/1 - 0s - 63ms/step - accuracy: 0.8929 - loss: 0.3230\n",
      "Epoch 241/300\n",
      "1/1 - 0s - 64ms/step - accuracy: 0.8929 - loss: 0.3214\n",
      "Epoch 242/300\n",
      "1/1 - 0s - 63ms/step - accuracy: 0.8929 - loss: 0.3199\n",
      "Epoch 243/300\n",
      "1/1 - 0s - 63ms/step - accuracy: 0.8929 - loss: 0.3185\n",
      "Epoch 244/300\n",
      "1/1 - 0s - 110ms/step - accuracy: 0.8929 - loss: 0.3170\n",
      "Epoch 245/300\n",
      "1/1 - 0s - 63ms/step - accuracy: 0.8929 - loss: 0.3156\n",
      "Epoch 246/300\n",
      "1/1 - 0s - 64ms/step - accuracy: 0.8929 - loss: 0.3142\n",
      "Epoch 247/300\n",
      "1/1 - 0s - 63ms/step - accuracy: 0.8929 - loss: 0.3128\n",
      "Epoch 248/300\n",
      "1/1 - 0s - 62ms/step - accuracy: 0.8929 - loss: 0.3114\n",
      "Epoch 249/300\n",
      "1/1 - 0s - 63ms/step - accuracy: 0.8929 - loss: 0.3100\n",
      "Epoch 250/300\n",
      "1/1 - 0s - 62ms/step - accuracy: 0.8929 - loss: 0.3087\n",
      "Epoch 251/300\n",
      "1/1 - 0s - 65ms/step - accuracy: 0.8929 - loss: 0.3073\n",
      "Epoch 252/300\n",
      "1/1 - 0s - 63ms/step - accuracy: 0.8929 - loss: 0.3060\n",
      "Epoch 253/300\n",
      "1/1 - 0s - 63ms/step - accuracy: 0.8929 - loss: 0.3047\n",
      "Epoch 254/300\n",
      "1/1 - 0s - 61ms/step - accuracy: 0.8929 - loss: 0.3035\n",
      "Epoch 255/300\n",
      "1/1 - 0s - 63ms/step - accuracy: 0.8929 - loss: 0.3022\n",
      "Epoch 256/300\n",
      "1/1 - 0s - 64ms/step - accuracy: 0.8929 - loss: 0.3010\n",
      "Epoch 257/300\n",
      "1/1 - 0s - 63ms/step - accuracy: 0.8929 - loss: 0.2997\n",
      "Epoch 258/300\n",
      "1/1 - 0s - 62ms/step - accuracy: 0.8929 - loss: 0.2985\n",
      "Epoch 259/300\n",
      "1/1 - 0s - 63ms/step - accuracy: 0.8929 - loss: 0.2973\n",
      "Epoch 260/300\n",
      "1/1 - 0s - 63ms/step - accuracy: 0.8929 - loss: 0.2962\n",
      "Epoch 261/300\n",
      "1/1 - 0s - 63ms/step - accuracy: 0.8929 - loss: 0.2950\n",
      "Epoch 262/300\n",
      "1/1 - 0s - 64ms/step - accuracy: 0.8929 - loss: 0.2939\n",
      "Epoch 263/300\n",
      "1/1 - 0s - 63ms/step - accuracy: 0.8929 - loss: 0.2927\n",
      "Epoch 264/300\n",
      "1/1 - 0s - 61ms/step - accuracy: 0.8929 - loss: 0.2916\n",
      "Epoch 265/300\n",
      "1/1 - 0s - 64ms/step - accuracy: 0.8929 - loss: 0.2905\n",
      "Epoch 266/300\n",
      "1/1 - 0s - 64ms/step - accuracy: 0.8929 - loss: 0.2894\n",
      "Epoch 267/300\n",
      "1/1 - 0s - 62ms/step - accuracy: 0.8929 - loss: 0.2884\n",
      "Epoch 268/300\n",
      "1/1 - 0s - 64ms/step - accuracy: 0.8929 - loss: 0.2873\n",
      "Epoch 269/300\n",
      "1/1 - 0s - 68ms/step - accuracy: 0.8929 - loss: 0.2863\n",
      "Epoch 270/300\n",
      "1/1 - 0s - 64ms/step - accuracy: 0.8929 - loss: 0.2853\n",
      "Epoch 271/300\n",
      "1/1 - 0s - 63ms/step - accuracy: 0.8929 - loss: 0.2843\n",
      "Epoch 272/300\n",
      "1/1 - 0s - 64ms/step - accuracy: 0.8929 - loss: 0.2833\n",
      "Epoch 273/300\n",
      "1/1 - 0s - 63ms/step - accuracy: 0.8929 - loss: 0.2823\n",
      "Epoch 274/300\n",
      "1/1 - 0s - 109ms/step - accuracy: 0.8929 - loss: 0.2813\n",
      "Epoch 275/300\n",
      "1/1 - 0s - 64ms/step - accuracy: 0.8929 - loss: 0.2804\n",
      "Epoch 276/300\n",
      "1/1 - 0s - 64ms/step - accuracy: 0.8929 - loss: 0.2794\n",
      "Epoch 277/300\n",
      "1/1 - 0s - 64ms/step - accuracy: 0.8929 - loss: 0.2785\n",
      "Epoch 278/300\n",
      "1/1 - 0s - 63ms/step - accuracy: 0.8929 - loss: 0.2776\n",
      "Epoch 279/300\n",
      "1/1 - 0s - 63ms/step - accuracy: 0.8929 - loss: 0.2767\n",
      "Epoch 280/300\n",
      "1/1 - 0s - 62ms/step - accuracy: 0.8929 - loss: 0.2758\n",
      "Epoch 281/300\n",
      "1/1 - 0s - 63ms/step - accuracy: 0.8929 - loss: 0.2749\n",
      "Epoch 282/300\n",
      "1/1 - 0s - 62ms/step - accuracy: 0.8929 - loss: 0.2741\n",
      "Epoch 283/300\n",
      "1/1 - 0s - 64ms/step - accuracy: 0.8929 - loss: 0.2732\n",
      "Epoch 284/300\n",
      "1/1 - 0s - 64ms/step - accuracy: 0.8929 - loss: 0.2724\n",
      "Epoch 285/300\n",
      "1/1 - 0s - 62ms/step - accuracy: 0.8929 - loss: 0.2716\n",
      "Epoch 286/300\n",
      "1/1 - 0s - 61ms/step - accuracy: 0.8929 - loss: 0.2708\n",
      "Epoch 287/300\n",
      "1/1 - 0s - 63ms/step - accuracy: 0.8929 - loss: 0.2700\n",
      "Epoch 288/300\n",
      "1/1 - 0s - 64ms/step - accuracy: 0.8929 - loss: 0.2692\n",
      "Epoch 289/300\n",
      "1/1 - 0s - 64ms/step - accuracy: 0.8929 - loss: 0.2684\n",
      "Epoch 290/300\n",
      "1/1 - 0s - 62ms/step - accuracy: 0.8929 - loss: 0.2676\n",
      "Epoch 291/300\n",
      "1/1 - 0s - 62ms/step - accuracy: 0.8929 - loss: 0.2669\n",
      "Epoch 292/300\n",
      "1/1 - 0s - 62ms/step - accuracy: 0.8929 - loss: 0.2661\n",
      "Epoch 293/300\n",
      "1/1 - 0s - 63ms/step - accuracy: 0.8929 - loss: 0.2654\n",
      "Epoch 294/300\n",
      "1/1 - 0s - 62ms/step - accuracy: 0.8929 - loss: 0.2647\n",
      "Epoch 295/300\n",
      "1/1 - 0s - 62ms/step - accuracy: 0.8929 - loss: 0.2640\n",
      "Epoch 296/300\n",
      "1/1 - 0s - 64ms/step - accuracy: 0.8929 - loss: 0.2633\n",
      "Epoch 297/300\n",
      "1/1 - 0s - 64ms/step - accuracy: 0.8929 - loss: 0.2626\n",
      "Epoch 298/300\n",
      "1/1 - 0s - 64ms/step - accuracy: 0.8929 - loss: 0.2619\n",
      "Epoch 299/300\n",
      "1/1 - 0s - 64ms/step - accuracy: 0.8929 - loss: 0.2612\n",
      "Epoch 300/300\n",
      "1/1 - 0s - 63ms/step - accuracy: 0.8929 - loss: 0.2605\n",
      "CPU times: user 26.8 s, sys: 22.4 s, total: 49.2 s\n",
      "Wall time: 21.7 s\n"
     ]
    }
   ],
   "source": [
    "%%time\n",
    "# 2 모델 생성하기\n",
    "from pickletools import optimize\n",
    "from tabnanny import verbose\n",
    "from tensorflow.keras.models import Sequential\n",
    "from tensorflow.keras.layers import Embedding # Xi의 원홧인코딩한 희소행렬 변환\n",
    "from tensorflow.keras.layers import SimpleRNN, Dense\n",
    "import matplotlib.pyplot as plt\n",
    "\n",
    "model = Sequential()\n",
    "\n",
    "model.add(Embedding(input_dim=input_dim,    # 12개로 원핫인코딩\n",
    "                    output_dim=10,          # 임베딩 출력의 갯수\n",
    "                    input_length=X.shape[1]))\n",
    "model.add(SimpleRNN(units=32))\n",
    "\n",
    "model.add(Dense(units=12, activation='softmax'))\n",
    "\n",
    "print(model.summary())\n",
    "\n",
    "# 3. 모델 학습 과정 설정\n",
    "model.compile(loss='categorical_crossentropy', optimizer='adam', metrics=['accuracy'])\n",
    "\n",
    "hist = model.fit(X, Y, epochs=300, verbose=2)"
   ]
  },
  {
   "cell_type": "code",
   "execution_count": 35,
   "metadata": {},
   "outputs": [
    {
     "data": {
      "image/png": "[encoded data removed]",
      "text/plain": [
       "<Figure size 1200x600 with 2 Axes>"
      ]
     },
     "metadata": {},
     "output_type": "display_data"
    }
   ],
   "source": [
    "# 학습과정\n",
    "# 그래프\n",
    "fig, loss_ax = plt.subplots(figsize=(12,6))\n",
    "loss_ax.plot(hist.history['loss'], 'y', label='train loss')\n",
    "acc_ax = loss_ax.twinx()\n",
    "acc_ax.plot(hist.history['accuracy'], 'g', label='train accuracy')\n",
    "loss_ax.set_xlabel('epochs')\n",
    "loss_ax.set_ylabel('loss')\n",
    "acc_ax.set_ylabel('accuracy')\n",
    "loss_ax.legend(loc='center right')\n",
    "acc_ax.legend()\n",
    "plt.show()"
   ]
  },
  {
   "cell_type": "code",
   "execution_count": 36,
   "metadata": {},
   "outputs": [
    {
     "name": "stdout",
     "output_type": "stream",
     "text": [
      "입력데이터 : [[0 0 0 0 1]]\n",
      "예츧된 단어 : 고와야\n"
     ]
    }
   ],
   "source": [
    "# 모델 사용하기 (경마장에 → 있는)\n",
    "from tabnanny import verbose\n",
    "\n",
    "input_word = input('입력단어 :')\n",
    "# ecoded = t.texts_to_sequences(['경마장에 있는 말이'])[0]\n",
    "ecoded = t.texts_to_sequences([input_word])[0]\n",
    "\n",
    "input_data = pad_sequences([ecoded], maxlen=my_len-1, padding='pre')\n",
    "print('입력데이터 :',input_data)\n",
    "result = model.predict(input_data, verbose=0).argmax()\n",
    "\n",
    "# word = t.index_word.get(result,'??')\n",
    "word = t.index_word[result]\n",
    "print('예츧된 단어 :', word)\n"
   ]
  },
  {
   "cell_type": "code",
   "execution_count": 37,
   "metadata": {},
   "outputs": [
    {
     "data": {
      "text/plain": [
       "[[]]"
      ]
     },
     "execution_count": 37,
     "metadata": {},
     "output_type": "execute_result"
    }
   ],
   "source": [
    "t.texts_to_sequences(['업는 단어'])"
   ]
  },
  {
   "cell_type": "markdown",
   "metadata": {},
   "source": [
    "# 2. 다음 문맥 예측해 보기"
   ]
  },
  {
   "cell_type": "code",
   "execution_count": 40,
   "metadata": {},
   "outputs": [
    {
     "data": {
      "text/plain": [
       "'경마장에 있는 말이 띄고'"
      ]
     },
     "execution_count": 40,
     "metadata": {},
     "output_type": "execute_result"
    }
   ],
   "source": [
    "# \"경마장\"에 이후에 올 단어를 3개 예측 → 경마장에 있는 말이 뛰고\n",
    "def sentence_generation(current_word, n):\n",
    "    # print('입력된 단어 :', current_word)\n",
    "    for i in range(1, n+1):\n",
    "        encoded = t.texts_to_sequences([current_word])[0]\n",
    "        # print(encoded)\n",
    "        input_data = pad_sequences([encoded], maxlen=my_len-1, padding='pre')\n",
    "        # print(input_date)\n",
    "        result = model.predict(input_data, verbose=0).argmax()\n",
    "        word = t.index_word[result]\n",
    "        # print(current_word + ' ' + word)\n",
    "        current_word = current_word + ' ' + word\n",
    "        # print('{}번째 생성 문맥 {} ( {} {} )'.format(i, current_word, encoded, result))\n",
    "    return current_word     \n",
    "\n",
    "sentence_generation('경마장에', 3)\n"
   ]
  },
  {
   "cell_type": "code",
   "execution_count": 41,
   "metadata": {},
   "outputs": [
    {
     "data": {
      "text/plain": [
       "'그 말이 법이다 있다 말이 법이다 오는'"
      ]
     },
     "execution_count": 41,
     "metadata": {},
     "output_type": "execute_result"
    }
   ],
   "source": [
    "sentence_generation('그 말이', 5)"
   ]
  },
  {
   "cell_type": "code",
   "execution_count": null,
   "metadata": {},
   "outputs": [],
   "source": []
  },
  {
   "cell_type": "code",
   "execution_count": null,
   "metadata": {},
   "outputs": [],
   "source": []
  },
  {
   "cell_type": "code",
   "execution_count": null,
   "metadata": {},
   "outputs": [],
   "source": []
  },
  {
   "cell_type": "code",
   "execution_count": null,
   "metadata": {},
   "outputs": [],
   "source": []
  },
  {
   "cell_type": "code",
   "execution_count": null,
   "metadata": {},
   "outputs": [],
   "source": []
  },
  {
   "cell_type": "code",
   "execution_count": null,
   "metadata": {},
   "outputs": [],
   "source": []
  },
  {
   "cell_type": "code",
   "execution_count": null,
   "metadata": {},
   "outputs": [],
   "source": []
  },
  {
   "cell_type": "code",
   "execution_count": null,
   "metadata": {},
   "outputs": [],
   "source": []
  },
  {
   "cell_type": "code",
   "execution_count": null,
   "metadata": {},
   "outputs": [],
   "source": []
  },
  {
   "cell_type": "code",
   "execution_count": null,
   "metadata": {},
   "outputs": [],
   "source": []
  }
 ],
 "metadata": {
  "kernelspec": {
   "display_name": "ml-dl-nlp",
   "language": "python",
   "name": "python3"
  },
  "language_info": {
   "codemirror_mode": {
    "name": "ipython",
    "version": 3
   },
   "file_extension": ".py",
   "mimetype": "text/x-python",
   "name": "python",
   "nbconvert_exporter": "python",
   "pygments_lexer": "ipython3",
   "version": "3.10.18"
  }
 },
 "nbformat": 4,
 "nbformat_minor": 2
}
