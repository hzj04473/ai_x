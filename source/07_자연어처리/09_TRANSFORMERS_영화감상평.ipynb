{
 "cells": [
  {
   "cell_type": "code",
   "execution_count": 2,
   "metadata": {},
   "outputs": [
    {
     "data": {
      "text/html": [
       "\n",
       "<style>\n",
       "* {font-family:D2Coding;}\n",
       "div.container{width:87% !important;}\n",
       "div.cell.code_cell.rendered{width:100%;}\n",
       "div.CodeMirror {font-size:12pt;}\n",
       "div.output {font-size:12pt; font-weight:bold;}\n",
       "div.input { font-size:12pt;}\n",
       "div.prompt {min-width:70px;}\n",
       "div#toc-wrapper{padding-top:120px;}\n",
       "div.text_cell_render ul li{font-size:12pt;padding:3px;}\n",
       "table.dataframe{font-size:12px;}\n",
       "</style>\n"
      ],
      "text/plain": [
       "<IPython.core.display.HTML object>"
      ]
     },
     "metadata": {},
     "output_type": "display_data"
    }
   ],
   "source": [
    "from IPython.display import display, HTML\n",
    "display(\n",
    "    HTML(\"\"\"\n",
    "<style>\n",
    "* {font-family:D2Coding;}\n",
    "div.container{width:87% !important;}\n",
    "div.cell.code_cell.rendered{width:100%;}\n",
    "div.CodeMirror {font-size:12pt;}\n",
    "div.output {font-size:12pt; font-weight:bold;}\n",
    "div.input { font-size:12pt;}\n",
    "div.prompt {min-width:70px;}\n",
    "div#toc-wrapper{padding-top:120px;}\n",
    "div.text_cell_render ul li{font-size:12pt;padding:3px;}\n",
    "table.dataframe{font-size:12px;}\n",
    "</style>\n",
    "\"\"\"))"
   ]
  },
  {
   "cell_type": "markdown",
   "metadata": {},
   "source": [
    "# <span style='color:red'>Ch9. TRANSFORMERS</span>\n",
    "\n",
    "- 인코더 층만으로 구현 (입력:자연어, 출력:긍정/부정)\n",
    "- 5만개 영화 감상평 (독립변수) → 부정 / 긍정(타켓변수)\n",
    "- [영화평가]https://www.imdb.com/title/tt10919420/reviews/?ref_=tt_ov_ql_2"
   ]
  },
  {
   "cell_type": "markdown",
   "metadata": {},
   "source": [
    "## 1. 패키지"
   ]
  },
  {
   "cell_type": "code",
   "execution_count": 3,
   "metadata": {},
   "outputs": [],
   "source": [
    "import numpy as np\n",
    "# import os\n",
    "# os.environ[\"CUDA_VISIBLE_DEVICES\"] = \"-1\"\n",
    "\n",
    "from tensorflow.keras.datasets import imdb\n",
    "from tensorflow.keras.preprocessing.sequence import pad_sequences\n",
    "from tensorflow.keras.models import Sequential\n",
    "from tensorflow.keras.layers import Embedding, LSTM, GRU, Dense, Input\n",
    "from time import time\n",
    "\n",
    "from sklearn.metrics import confusion_matrix, f1_score, precision_score, recall_score\n",
    "\n"
   ]
  },
  {
   "cell_type": "markdown",
   "metadata": {},
   "source": [
    "## 2. 하이퍼 파라미터 설정 (이 파라미터를 바꾸면, 정확도나 학습 속도에 차이남)"
   ]
  },
  {
   "cell_type": "code",
   "execution_count": 4,
   "metadata": {},
   "outputs": [],
   "source": [
    "MY_WORDS  = 10000 # imdb 데이터의 단어수\n",
    "MY_LENGTH = 80    # 영화평 단어수 80개만 독립변수\n",
    "MY_EMBED  = 32    # Embedding layer의 결과 차원\n",
    "MY_HIDDEN = 64    # LSTM의 units 차원\n",
    "\n",
    "MY_EPOCH  = 10    # 학습 수(fit)\n",
    "MY_BATCH  = 200   # batch_size(fit시 매번 데이터를 가져오는 데이터)"
   ]
  },
  {
   "cell_type": "markdown",
   "metadata": {},
   "source": [
    "## 3. 데이터 불러오기"
   ]
  },
  {
   "cell_type": "code",
   "execution_count": 5,
   "metadata": {},
   "outputs": [],
   "source": [
    "\n",
    "(x_train, y_train), (x_test, y_test) = imdb.load_data(num_words=MY_WORDS)\n"
   ]
  },
  {
   "cell_type": "code",
   "execution_count": 6,
   "metadata": {},
   "outputs": [
    {
     "name": "stdout",
     "output_type": "stream",
     "text": [
      "학습셋 입력변수 모양 : (25000,)\n",
      "학습셋 타겟변수 모양 : (25000,)\n",
      "학습셋 샘플 : <class 'list'> [1, 13, 244, 6, 87, 337, 7, 628, 2219, 5, 28, 285, 15, 240, 93, 23, 288, 549, 18, 1455, 673, 4, 241, 534, 3635, 8448, 20, 38, 54, 13, 258, 46, 44, 14, 13, 1241, 7258, 12, 5, 5, 51, 9, 14, 45, 6, 762, 7, 2, 1309, 328, 5, 428, 2473, 15, 26, 1292, 5, 3939, 6728, 5, 1960, 279, 13, 92, 124, 803, 52, 21, 279, 14, 9, 43, 6, 762, 7, 595, 15, 16, 2, 23, 4, 1071, 467, 4, 403, 7, 628, 2219, 8, 97, 6, 171, 3596, 99, 387, 72, 97, 12, 788, 15, 13, 161, 459, 44, 4, 3939, 1101, 173, 21, 69, 8, 401, 2, 4, 481, 88, 61, 4731, 238, 28, 32, 11, 32, 14, 9, 6, 545, 1332, 766, 5, 203, 73, 28, 43, 77, 317, 11, 4, 2, 953, 270, 17, 6, 3616, 13, 545, 386, 25, 92, 1142, 129, 278, 23, 14, 241, 46, 7, 158] 0\n",
      "테스트셋 변수들 모양 : (25000,) (25000,)\n"
     ]
    }
   ],
   "source": [
    "print('학습셋 입력변수 모양 :', x_train.shape)\n",
    "print('학습셋 타겟변수 모양 :', y_train.shape)\n",
    "print('학습셋 샘플 :', type(x_train[2]), x_train[100], y_train[2])\n",
    "print('테스트셋 변수들 모양 :', x_test.shape, y_test.shape)"
   ]
  },
  {
   "cell_type": "code",
   "execution_count": 7,
   "metadata": {},
   "outputs": [
    {
     "name": "stdout",
     "output_type": "stream",
     "text": [
      "학습셋의 긍정 갯수 : 12500\n",
      "테스트셋의 긍정 갯수 : 12500\n"
     ]
    }
   ],
   "source": [
    "# 긍정/부정 갯수\n",
    "print('학습셋의 긍정 갯수 :', y_train.sum())\n",
    "print('테스트셋의 긍정 갯수 :', y_test.sum())"
   ]
  },
  {
   "cell_type": "markdown",
   "metadata": {},
   "source": [
    "## 4. 문자단어 → 정수"
   ]
  },
  {
   "cell_type": "code",
   "execution_count": 11,
   "metadata": {},
   "outputs": [
    {
     "name": "stdout",
     "output_type": "stream",
     "text": [
      "17\n",
      "19\n",
      "16816\n",
      "3\n",
      "1\n",
      "the\n",
      "a\n"
     ]
    }
   ],
   "source": [
    "word_to_id = imdb.get_word_index() # {'word':id}\n",
    "print(word_to_id['movie'])\n",
    "print(word_to_id['film'])\n",
    "print(word_to_id['sonja'])\n",
    "print(word_to_id['a'])\n",
    "print(word_to_id['the'])\n",
    "# 정수 -> 문자 단어\n",
    "id_to_word = {} #{1:'the', 3: 'a', 16816:'sonja'}\n",
    "for word, value in word_to_id.items():\n",
    "    id_to_word[value] = word\n",
    "print(id_to_word[1])\n",
    "print(id_to_word[3])"
   ]
  },
  {
   "cell_type": "code",
   "execution_count": 12,
   "metadata": {},
   "outputs": [
    {
     "name": "stdout",
     "output_type": "stream",
     "text": [
      "원 후기 내용 : ['what', 'a', 'wonderful', 'movie']\n",
      "encoded된 data : [1, 51, 6, 389, 20]\n",
      "추정된 data : ['???', 'what', 'a', 'wonderful', 'movie']\n",
      "추정된 data : ??? what a wonderful movie\n"
     ]
    }
   ],
   "source": [
    "msg = \"What a wonderful movie\"\n",
    "msg = msg.lower().split()\n",
    "# 1:리뷰시작을 알리는 숫자, 2:문자가짤려서잘못읽어옴, 3:padding처리\n",
    "data = [1] + [word_to_id.get(m, -1)+3 for m in msg]\n",
    "print('원 후기 내용 :', msg)\n",
    "print('encoded된 data :', data)\n",
    "print('추정된 data :', [id_to_word.get(d-3, '???') for d in data])\n",
    "print('추정된 data :', ' '.join([id_to_word.get(d-3, '???') for d in data]))"
   ]
  },
  {
   "cell_type": "markdown",
   "metadata": {},
   "source": [
    "## 5. 숫자영화평 → 자연어 영화평 return 함수"
   ]
  },
  {
   "cell_type": "code",
   "execution_count": 13,
   "metadata": {},
   "outputs": [],
   "source": [
    "def decoding(review_num):\n",
    "    decoded = [id_to_word.get(num-3, '???') for num in review_num]\n",
    "    return ' '.join(decoded)"
   ]
  },
  {
   "cell_type": "code",
   "execution_count": 14,
   "metadata": {},
   "outputs": [
    {
     "name": "stdout",
     "output_type": "stream",
     "text": [
      "??? big hair big boobs bad music and a giant safety pin these are the words to best describe this terrible movie i love cheesy horror movies and i've seen hundreds but this had got to be on of the worst ever made the plot is paper thin and ridiculous the acting is an abomination the script is completely laughable the best is the end showdown with the cop and how he worked out who the killer is it's just so damn terribly written the clothes are sickening and funny in equal ??? the hair is big lots of boobs ??? men wear those cut ??? shirts that show off their ??? sickening that men actually wore them and the music is just ??? trash that plays over and over again in almost every scene there is trashy music boobs and ??? taking away bodies and the gym still doesn't close for ??? all joking aside this is a truly bad film whose only charm is to look back on the disaster that was the 80's and have a good old laugh at how bad everything was back then 0\n"
     ]
    }
   ],
   "source": [
    "print(decoding(x_train[1]), y_train[1])"
   ]
  },
  {
   "cell_type": "markdown",
   "metadata": {},
   "source": [
    "## 6. 영화평 (입력변수)의 길이\n"
   ]
  },
  {
   "cell_type": "code",
   "execution_count": 15,
   "metadata": {},
   "outputs": [],
   "source": [
    "def show_length(x_train):\n",
    "    print('첫 20개 영화평 길이')\n",
    "    print([len(x_data) for x_data in x_train[:20]])"
   ]
  },
  {
   "cell_type": "code",
   "execution_count": 16,
   "metadata": {},
   "outputs": [
    {
     "name": "stdout",
     "output_type": "stream",
     "text": [
      "첫 20개 영화평 길이\n",
      "[218, 189, 141, 550, 147, 43, 123, 562, 233, 130, 450, 99, 117, 238, 109, 129, 163, 752, 212, 177]\n"
     ]
    }
   ],
   "source": [
    "# pad_sequence 전\n",
    "show_length(x_train)"
   ]
  },
  {
   "cell_type": "code",
   "execution_count": 17,
   "metadata": {},
   "outputs": [
    {
     "name": "stdout",
     "output_type": "stream",
     "text": [
      "제일 긴 영화평 단어 길이 : 2494\n",
      "제일 짧은 영화평 단어 길이 : 11\n",
      "영화평 단어 길이 중위수 : 178.0\n"
     ]
    }
   ],
   "source": [
    "print('제일 긴 영화평 단어 길이 :', \n",
    "     max(len(x_data) for x_data in x_train))\n",
    "print('제일 짧은 영화평 단어 길이 :', \n",
    "     min(len(x_data) for x_data in x_train))\n",
    "print('영화평 단어 길이 중위수 :',\n",
    "     np.median([len(x_data) for x_data in x_train]))\n"
   ]
  },
  {
   "cell_type": "markdown",
   "metadata": {},
   "source": [
    "## 7. 모든 영화평 길이를 동일하게 (MY_LENGTH : 80)"
   ]
  },
  {
   "cell_type": "code",
   "execution_count": 18,
   "metadata": {},
   "outputs": [
    {
     "name": "stdout",
     "output_type": "stream",
     "text": [
      "첫 20개 영화평 길이\n",
      "[80, 80, 80, 80, 80, 80, 80, 80, 80, 80, 80, 80, 80, 80, 80, 80, 80, 80, 80, 80]\n",
      "첫 20개 영화평 길이\n",
      "[80, 80, 80, 80, 80, 80, 80, 80, 80, 80, 80, 80, 80, 80, 80, 80, 80, 80, 80, 80]\n"
     ]
    },
    {
     "data": {
      "text/plain": [
       "(None, None)"
      ]
     },
     "execution_count": 18,
     "metadata": {},
     "output_type": "execute_result"
    }
   ],
   "source": [
    "X_train = pad_sequences(x_train,\n",
    "                       padding='pre',\n",
    "                       truncating='pre', # 뒷부분을 짜르고 앞부분을 남김\n",
    "                       maxlen=MY_LENGTH)\n",
    "X_test = pad_sequences(x_test,\n",
    "                      padding='pre',\n",
    "                      truncating='pre',\n",
    "                      maxlen=MY_LENGTH)\n",
    "show_length(X_train), show_length(X_test)"
   ]
  },
  {
   "cell_type": "markdown",
   "metadata": {},
   "source": [
    "## 8. 최종 데이터 shape 확인\n"
   ]
  },
  {
   "cell_type": "code",
   "execution_count": 19,
   "metadata": {},
   "outputs": [
    {
     "data": {
      "text/plain": [
       "((25000, 80), (25000,), (25000, 80), (25000,))"
      ]
     },
     "execution_count": 19,
     "metadata": {},
     "output_type": "execute_result"
    }
   ],
   "source": [
    "X_train.shape, y_train.shape, X_test.shape, y_test.shape"
   ]
  },
  {
   "cell_type": "code",
   "execution_count": 20,
   "metadata": {},
   "outputs": [
    {
     "name": "stdout",
     "output_type": "stream",
     "text": [
      "[1, 14, 22, 16, 43, 530, 973, 1622, 1385, 65, 458, 4468, 66, 3941, 4, 173, 36, 256, 5, 25, 100, 43, 838, 112, 50, 670, 2, 9, 35, 480, 284, 5, 150, 4, 172, 112, 167, 2, 336, 385, 39, 4, 172, 4536, 1111, 17, 546, 38, 13, 447, 4, 192, 50, 16, 6, 147, 2025, 19, 14, 22, 4, 1920, 4613, 469, 4, 22, 71, 87, 12, 16, 43, 530, 38, 76, 15, 13, 1247, 4, 22, 17, 515, 17, 12, 16, 626, 18, 2, 5, 62, 386, 12, 8, 316, 8, 106, 5, 4, 2223, 5244, 16, 480, 66, 3785, 33, 4, 130, 12, 16, 38, 619, 5, 25, 124, 51, 36, 135, 48, 25, 1415, 33, 6, 22, 12, 215, 28, 77, 52, 5, 14, 407, 16, 82, 2, 8, 4, 107, 117, 5952, 15, 256, 4, 2, 7, 3766, 5, 723, 36, 71, 43, 530, 476, 26, 400, 317, 46, 7, 4, 2, 1029, 13, 104, 88, 4, 381, 15, 297, 98, 32, 2071, 56, 26, 141, 6, 194, 7486, 18, 4, 226, 22, 21, 134, 476, 26, 480, 5, 144, 30, 5535, 18, 51, 36, 28, 224, 92, 25, 104, 4, 226, 65, 16, 38, 1334, 88, 12, 16, 283, 5, 16, 4472, 113, 103, 32, 15, 16, 5345, 19, 178, 32]\n"
     ]
    }
   ],
   "source": [
    "print(x_train[0])"
   ]
  },
  {
   "cell_type": "code",
   "execution_count": 21,
   "metadata": {},
   "outputs": [
    {
     "data": {
      "text/plain": [
       "array([  15,  256,    4,    2,    7, 3766,    5,  723,   36,   71,   43,\n",
       "        530,  476,   26,  400,  317,   46,    7,    4,    2, 1029,   13,\n",
       "        104,   88,    4,  381,   15,  297,   98,   32, 2071,   56,   26,\n",
       "        141,    6,  194, 7486,   18,    4,  226,   22,   21,  134,  476,\n",
       "         26,  480,    5,  144,   30, 5535,   18,   51,   36,   28,  224,\n",
       "         92,   25,  104,    4,  226,   65,   16,   38, 1334,   88,   12,\n",
       "         16,  283,    5,   16, 4472,  113,  103,   32,   15,   16, 5345,\n",
       "         19,  178,   32], dtype=int32)"
      ]
     },
     "execution_count": 21,
     "metadata": {},
     "output_type": "execute_result"
    }
   ],
   "source": [
    "X_train[0]"
   ]
  },
  {
   "cell_type": "markdown",
   "metadata": {},
   "source": [
    "## 9. 모델 구현 (LSTM)"
   ]
  },
  {
   "cell_type": "code",
   "execution_count": null,
   "metadata": {},
   "outputs": [],
   "source": [
    "# model = Sequential()\n",
    "# model.add(Embedding(input_dim=MY_WORDS, # 10000\n",
    "#                    output_dim=MY_EMBED, # 32\n",
    "#                    input_length=MY_LENGTH)) # 80\n",
    "# # RNN : 입력 단어의 길이 수가 너무 길면 파리미터 업데이트 안 됨\n",
    "# # 개선모델1. LSTM 개선모델2. GRU\n",
    "# model.add(LSTM(units=MY_HIDDEN,\n",
    "#               input_shape=(MY_LENGTH, MY_EMBED)\n",
    "#          ))\n",
    "# model.add(Dense(units=1, activation='sigmoid'))\n",
    "# model.summary()"
   ]
  },
  {
   "cell_type": "markdown",
   "metadata": {},
   "source": [
    "## 9. 모델구현 (TRANSFORMERS - ENCODING 부분만)"
   ]
  },
  {
   "cell_type": "code",
   "execution_count": 22,
   "metadata": {},
   "outputs": [
    {
     "name": "stdout",
     "output_type": "stream",
     "text": [
      "Metal device set to: Apple M1 Pro\n",
      "\n",
      "systemMemory: 16.00 GB\n",
      "maxCacheSize: 5.33 GB\n",
      "\n",
      "Model: \"model\"\n",
      "__________________________________________________________________________________________________\n",
      " Layer (type)                   Output Shape         Param #     Connected to                     \n",
      "==================================================================================================\n",
      " input_1 (InputLayer)           [(None, 80)]         0           []                               \n",
      "                                                                                                  \n",
      " embedding (Embedding)          (None, 80, 32)       320000      ['input_1[0][0]']                \n",
      "                                                                                                  \n",
      " tf.__operators__.add (TFOpLamb  (None, 80, 32)      0           ['embedding[0][0]']              \n",
      " da)                                                                                              \n",
      "                                                                                                  \n",
      " multi_head_attention (MultiHea  (None, 80, 32)      12608       ['tf.__operators__.add[0][0]',   \n",
      " dAttention)                                                      'tf.__operators__.add[0][0]']   \n",
      "                                                                                                  \n",
      " add (Add)                      (None, 80, 32)       0           ['tf.__operators__.add[0][0]',   \n",
      "                                                                  'multi_head_attention[0][0]']   \n",
      "                                                                                                  \n",
      " batch_normalization (BatchNorm  (None, 80, 32)      128         ['add[0][0]']                    \n",
      " alization)                                                                                       \n",
      "                                                                                                  \n",
      " sequential (Sequential)        (None, 80, 32)       4192        ['batch_normalization[0][0]']    \n",
      "                                                                                                  \n",
      " add_1 (Add)                    (None, 80, 32)       0           ['sequential[0][0]',             \n",
      "                                                                  'batch_normalization[0][0]']    \n",
      "                                                                                                  \n",
      " batch_normalization_1 (BatchNo  (None, 80, 32)      128         ['add_1[0][0]']                  \n",
      " rmalization)                                                                                     \n",
      "                                                                                                  \n",
      " global_average_pooling1d (Glob  (None, 32)          0           ['batch_normalization_1[0][0]']  \n",
      " alAveragePooling1D)                                                                              \n",
      "                                                                                                  \n",
      " dropout (Dropout)              (None, 32)           0           ['global_average_pooling1d[0][0]'\n",
      "                                                                 ]                                \n",
      "                                                                                                  \n",
      " dense_2 (Dense)                (None, 64)           2112        ['dropout[0][0]']                \n",
      "                                                                                                  \n",
      " dropout_1 (Dropout)            (None, 64)           0           ['dense_2[0][0]']                \n",
      "                                                                                                  \n",
      " dense_3 (Dense)                (None, 2)            130         ['dropout_1[0][0]']              \n",
      "                                                                                                  \n",
      "==================================================================================================\n",
      "Total params: 339,298\n",
      "Trainable params: 339,170\n",
      "Non-trainable params: 128\n",
      "__________________________________________________________________________________________________\n"
     ]
    }
   ],
   "source": [
    "import tensorflow as tf\n",
    "from tensorflow.keras import layers\n",
    "from tensorflow.keras.models import Sequential, Model\n",
    "\n",
    "INPUTS = layers.Input(shape=(MY_LENGTH,)) # 80\n",
    "INPUT_EMBEDDING = layers.Embedding(input_dim=MY_WORDS, # 10000\n",
    "output_dim=MY_EMBED)(INPUTS)# 32\n",
    "\n",
    "# Positional Encoding\n",
    "POSITIONS = tf.range(start=0, limit=MY_LENGTH)\n",
    "POS_ENCODING = layers.Embedding(input_dim=MY_LENGTH, output_dim=MY_EMBED)(POSITIONS)\n",
    "POS_ENC_OUTPUT = POS_ENCODING + INPUT_EMBEDDING\n",
    "ATTENTION_OUTPUT = layers.MultiHeadAttention(num_heads=3,\n",
    "key_dim=MY_EMBED)(POS_ENC_OUTPUT, POS_ENC_OUTPUT)\n",
    "X = layers.add([POS_ENC_OUTPUT, ATTENTION_OUTPUT])\n",
    "X = layers.BatchNormalization()(X)\n",
    "\n",
    "# FeedForward Network\n",
    "FFN = Sequential([layers.Dense(MY_HIDDEN, activation=\"relu\"),\n",
    "layers.Dense(MY_EMBED, activation=\"relu\")])(X)\n",
    "X = layers.add([FFN, X])\n",
    "X = layers.BatchNormalization()(X)\n",
    "\n",
    "# 하나의 벡터로 압축해서 Dense로 보내줌\n",
    "X = layers.GlobalAveragePooling1D()(X)\n",
    "X = layers.Dropout(0.1)(X)\n",
    "\n",
    "X = layers.Dense(MY_HIDDEN, activation=\"relu\")(X)\n",
    "X = layers.Dropout(0.1)(X)\n",
    "\n",
    "OUTPUTS = layers.Dense(2, activation=\"softmax\")(X)\n",
    "model = Model(inputs=INPUTS, outputs=OUTPUTS)\n",
    "\n",
    "model.summary()"
   ]
  },
  {
   "cell_type": "markdown",
   "metadata": {},
   "source": [
    "## 10. 학습환경 및 학습하기\n"
   ]
  },
  {
   "cell_type": "code",
   "execution_count": 24,
   "metadata": {},
   "outputs": [
    {
     "name": "stdout",
     "output_type": "stream",
     "text": [
      "Epoch 1/10\n"
     ]
    },
    {
     "name": "stderr",
     "output_type": "stream",
     "text": [
      "2025-06-24 11:57:34.818941: W tensorflow/tsl/platform/profile_utils/cpu_utils.cc:128] Failed to get CPU frequency: 0 Hz\n"
     ]
    },
    {
     "name": "stdout",
     "output_type": "stream",
     "text": [
      "100/100 [==============================] - 13s 89ms/step - loss: 0.4731 - acc: 0.7685 - val_loss: 0.6189 - val_acc: 0.6872\n",
      "Epoch 2/10\n",
      "100/100 [==============================] - 8s 84ms/step - loss: 0.2810 - acc: 0.8865 - val_loss: 0.5612 - val_acc: 0.7292\n",
      "Epoch 3/10\n",
      "100/100 [==============================] - 8s 83ms/step - loss: 0.2163 - acc: 0.9111 - val_loss: 0.4972 - val_acc: 0.7664\n",
      "Epoch 4/10\n",
      "100/100 [==============================] - 9s 85ms/step - loss: 0.1699 - acc: 0.9270 - val_loss: 0.4639 - val_acc: 0.7798\n",
      "Epoch 5/10\n",
      "100/100 [==============================] - 8s 84ms/step - loss: 0.1316 - acc: 0.9392 - val_loss: 0.5724 - val_acc: 0.7924\n",
      "Epoch 6/10\n",
      "100/100 [==============================] - 8s 83ms/step - loss: 0.1066 - acc: 0.9497 - val_loss: 0.7200 - val_acc: 0.8138\n",
      "Epoch 7/10\n",
      "100/100 [==============================] - 8s 84ms/step - loss: 0.0929 - acc: 0.9582 - val_loss: 0.9826 - val_acc: 0.8056\n",
      "Epoch 8/10\n",
      "100/100 [==============================] - 8s 83ms/step - loss: 0.0850 - acc: 0.9624 - val_loss: 1.0107 - val_acc: 0.8104\n",
      "Epoch 9/10\n",
      "100/100 [==============================] - 8s 81ms/step - loss: 0.0662 - acc: 0.9730 - val_loss: 1.1978 - val_acc: 0.8088\n",
      "Epoch 10/10\n",
      "100/100 [==============================] - 8s 82ms/step - loss: 0.0583 - acc: 0.9765 - val_loss: 1.3366 - val_acc: 0.8062\n",
      "총 학습시간 : 87.68105006217957\n"
     ]
    }
   ],
   "source": [
    "model.compile(# loss='sparse_categorical_crossentropy', # 이진분류시 손실함수\n",
    "             loss='sparse_categorical_crossentropy',\n",
    "             optimizer='adam',\n",
    "             metrics=['acc'])\n",
    "begin = time() # 70.1.1부터 현재까지의 초수\n",
    "hist = model.fit(X_train, y_train,\n",
    "                epochs=MY_EPOCH,\n",
    "                batch_size=MY_BATCH,\n",
    "                validation_split=0.2,\n",
    "                verbose=1)\n",
    "end = time() # 70.1.1부터 이 시점까지의 초수\n",
    "print('총 학습시간 :', (end-begin))"
   ]
  },
  {
   "cell_type": "code",
   "execution_count": 25,
   "metadata": {},
   "outputs": [
    {
     "data": {
      "text/plain": [
       "dict_keys(['loss', 'acc', 'val_loss', 'val_acc'])"
      ]
     },
     "execution_count": 25,
     "metadata": {},
     "output_type": "execute_result"
    }
   ],
   "source": [
    "hist.history.keys()"
   ]
  },
  {
   "cell_type": "code",
   "execution_count": 26,
   "metadata": {},
   "outputs": [
    {
     "data": {
      "image/png": "[encoded data removed]",
      "text/plain": [
       "<Figure size 1200x600 with 2 Axes>"
      ]
     },
     "metadata": {},
     "output_type": "display_data"
    }
   ],
   "source": [
    "# 5. 모델 학습과정 시각화\n",
    "import matplotlib.pyplot as plt\n",
    "fig, loss_ax = plt.subplots(figsize=(12,6))\n",
    "loss_ax.plot(hist.history['loss'], 'y', label='train loss')\n",
    "loss_ax.plot(hist.history['val_loss'], 'r', label='val loss')\n",
    "acc_ax = loss_ax.twinx()\n",
    "acc_ax.plot(hist.history['acc'], 'g', label='train accuracy')\n",
    "acc_ax.plot(hist.history['val_acc'], 'b', label='val accuracy')\n",
    "\n",
    "loss_ax.set_xlabel('epochs')\n",
    "loss_ax.set_ylabel('loss')\n",
    "acc_ax.set_ylabel('accuracy')\n",
    "loss_ax.legend(loc='center right')\n",
    "acc_ax.legend(loc='upper left')\n",
    "plt.show()"
   ]
  },
  {
   "cell_type": "markdown",
   "metadata": {},
   "source": [
    "# 11. 모델평가"
   ]
  },
  {
   "cell_type": "code",
   "execution_count": 27,
   "metadata": {},
   "outputs": [
    {
     "name": "stdout",
     "output_type": "stream",
     "text": [
      "782/782 [==============================] - 14s 17ms/step - loss: 1.3168 - acc: 0.8030\n",
      "정확도 : 0.8030400276184082\n"
     ]
    }
   ],
   "source": [
    "# pad_sequences 'post' : 75.81%\n",
    "# pad_sequences 'pre' : 80.19%\n",
    "loss, acc = model.evaluate(X_test, y_test)\n",
    "print('정확도 :', acc)"
   ]
  },
  {
   "cell_type": "code",
   "execution_count": 28,
   "metadata": {},
   "outputs": [
    {
     "data": {
      "text/plain": [
       "array([0, 1, 0, ..., 0, 0, 1], dtype=int16)"
      ]
     },
     "execution_count": 28,
     "metadata": {},
     "output_type": "execute_result"
    }
   ],
   "source": [
    "# 혼동행렬, recall, precision을 위한 yhat\n",
    "yhat = (model.predict(X_test, verbose=0) > 0.5).astype(np.int16).reshape(-1)\n",
    "yhat"
   ]
  },
  {
   "cell_type": "code",
   "execution_count": 29,
   "metadata": {},
   "outputs": [
    {
     "ename": "ValueError",
     "evalue": "Found input variables with inconsistent numbers of samples: [25000, 50000]",
     "output_type": "error",
     "traceback": [
      "\u001b[0;31m---------------------------------------------------------------------------\u001b[0m",
      "\u001b[0;31mValueError\u001b[0m                                Traceback (most recent call last)",
      "Cell \u001b[0;32mIn[29], line 1\u001b[0m\n\u001b[0;32m----> 1\u001b[0m \u001b[43mconfusion_matrix\u001b[49m\u001b[43m(\u001b[49m\u001b[43my_test\u001b[49m\u001b[43m,\u001b[49m\u001b[43m \u001b[49m\u001b[43myhat\u001b[49m\u001b[43m)\u001b[49m\n",
      "File \u001b[0;32m~/anaconda3/envs/ml-dl-nlp/lib/python3.10/site-packages/sklearn/metrics/_classification.py:317\u001b[0m, in \u001b[0;36mconfusion_matrix\u001b[0;34m(y_true, y_pred, labels, sample_weight, normalize)\u001b[0m\n\u001b[1;32m    232\u001b[0m \u001b[38;5;28;01mdef\u001b[39;00m\u001b[38;5;250m \u001b[39m\u001b[38;5;21mconfusion_matrix\u001b[39m(\n\u001b[1;32m    233\u001b[0m     y_true, y_pred, \u001b[38;5;241m*\u001b[39m, labels\u001b[38;5;241m=\u001b[39m\u001b[38;5;28;01mNone\u001b[39;00m, sample_weight\u001b[38;5;241m=\u001b[39m\u001b[38;5;28;01mNone\u001b[39;00m, normalize\u001b[38;5;241m=\u001b[39m\u001b[38;5;28;01mNone\u001b[39;00m\n\u001b[1;32m    234\u001b[0m ):\n\u001b[1;32m    235\u001b[0m \u001b[38;5;250m    \u001b[39m\u001b[38;5;124;03m\"\"\"Compute confusion matrix to evaluate the accuracy of a classification.\u001b[39;00m\n\u001b[1;32m    236\u001b[0m \n\u001b[1;32m    237\u001b[0m \u001b[38;5;124;03m    By definition a confusion matrix :math:`C` is such that :math:`C_{i, j}`\u001b[39;00m\n\u001b[0;32m   (...)\u001b[0m\n\u001b[1;32m    315\u001b[0m \u001b[38;5;124;03m    (0, 2, 1, 1)\u001b[39;00m\n\u001b[1;32m    316\u001b[0m \u001b[38;5;124;03m    \"\"\"\u001b[39;00m\n\u001b[0;32m--> 317\u001b[0m     y_type, y_true, y_pred \u001b[38;5;241m=\u001b[39m \u001b[43m_check_targets\u001b[49m\u001b[43m(\u001b[49m\u001b[43my_true\u001b[49m\u001b[43m,\u001b[49m\u001b[43m \u001b[49m\u001b[43my_pred\u001b[49m\u001b[43m)\u001b[49m\n\u001b[1;32m    318\u001b[0m     \u001b[38;5;28;01mif\u001b[39;00m y_type \u001b[38;5;129;01mnot\u001b[39;00m \u001b[38;5;129;01min\u001b[39;00m (\u001b[38;5;124m\"\u001b[39m\u001b[38;5;124mbinary\u001b[39m\u001b[38;5;124m\"\u001b[39m, \u001b[38;5;124m\"\u001b[39m\u001b[38;5;124mmulticlass\u001b[39m\u001b[38;5;124m\"\u001b[39m):\n\u001b[1;32m    319\u001b[0m         \u001b[38;5;28;01mraise\u001b[39;00m \u001b[38;5;167;01mValueError\u001b[39;00m(\u001b[38;5;124m\"\u001b[39m\u001b[38;5;132;01m%s\u001b[39;00m\u001b[38;5;124m is not supported\u001b[39m\u001b[38;5;124m\"\u001b[39m \u001b[38;5;241m%\u001b[39m y_type)\n",
      "File \u001b[0;32m~/anaconda3/envs/ml-dl-nlp/lib/python3.10/site-packages/sklearn/metrics/_classification.py:86\u001b[0m, in \u001b[0;36m_check_targets\u001b[0;34m(y_true, y_pred)\u001b[0m\n\u001b[1;32m     59\u001b[0m \u001b[38;5;28;01mdef\u001b[39;00m\u001b[38;5;250m \u001b[39m\u001b[38;5;21m_check_targets\u001b[39m(y_true, y_pred):\n\u001b[1;32m     60\u001b[0m \u001b[38;5;250m    \u001b[39m\u001b[38;5;124;03m\"\"\"Check that y_true and y_pred belong to the same classification task.\u001b[39;00m\n\u001b[1;32m     61\u001b[0m \n\u001b[1;32m     62\u001b[0m \u001b[38;5;124;03m    This converts multiclass or binary types to a common shape, and raises a\u001b[39;00m\n\u001b[0;32m   (...)\u001b[0m\n\u001b[1;32m     84\u001b[0m \u001b[38;5;124;03m    y_pred : array or indicator matrix\u001b[39;00m\n\u001b[1;32m     85\u001b[0m \u001b[38;5;124;03m    \"\"\"\u001b[39;00m\n\u001b[0;32m---> 86\u001b[0m     \u001b[43mcheck_consistent_length\u001b[49m\u001b[43m(\u001b[49m\u001b[43my_true\u001b[49m\u001b[43m,\u001b[49m\u001b[43m \u001b[49m\u001b[43my_pred\u001b[49m\u001b[43m)\u001b[49m\n\u001b[1;32m     87\u001b[0m     type_true \u001b[38;5;241m=\u001b[39m type_of_target(y_true, input_name\u001b[38;5;241m=\u001b[39m\u001b[38;5;124m\"\u001b[39m\u001b[38;5;124my_true\u001b[39m\u001b[38;5;124m\"\u001b[39m)\n\u001b[1;32m     88\u001b[0m     type_pred \u001b[38;5;241m=\u001b[39m type_of_target(y_pred, input_name\u001b[38;5;241m=\u001b[39m\u001b[38;5;124m\"\u001b[39m\u001b[38;5;124my_pred\u001b[39m\u001b[38;5;124m\"\u001b[39m)\n",
      "File \u001b[0;32m~/anaconda3/envs/ml-dl-nlp/lib/python3.10/site-packages/sklearn/utils/validation.py:397\u001b[0m, in \u001b[0;36mcheck_consistent_length\u001b[0;34m(*arrays)\u001b[0m\n\u001b[1;32m    395\u001b[0m uniques \u001b[38;5;241m=\u001b[39m np\u001b[38;5;241m.\u001b[39munique(lengths)\n\u001b[1;32m    396\u001b[0m \u001b[38;5;28;01mif\u001b[39;00m \u001b[38;5;28mlen\u001b[39m(uniques) \u001b[38;5;241m>\u001b[39m \u001b[38;5;241m1\u001b[39m:\n\u001b[0;32m--> 397\u001b[0m     \u001b[38;5;28;01mraise\u001b[39;00m \u001b[38;5;167;01mValueError\u001b[39;00m(\n\u001b[1;32m    398\u001b[0m         \u001b[38;5;124m\"\u001b[39m\u001b[38;5;124mFound input variables with inconsistent numbers of samples: \u001b[39m\u001b[38;5;132;01m%r\u001b[39;00m\u001b[38;5;124m\"\u001b[39m\n\u001b[1;32m    399\u001b[0m         \u001b[38;5;241m%\u001b[39m [\u001b[38;5;28mint\u001b[39m(l) \u001b[38;5;28;01mfor\u001b[39;00m l \u001b[38;5;129;01min\u001b[39;00m lengths]\n\u001b[1;32m    400\u001b[0m     )\n",
      "\u001b[0;31mValueError\u001b[0m: Found input variables with inconsistent numbers of samples: [25000, 50000]"
     ]
    }
   ],
   "source": [
    "confusion_matrix(y_test, yhat)"
   ]
  },
  {
   "cell_type": "code",
   "execution_count": 25,
   "metadata": {},
   "outputs": [
    {
     "data": {
      "text/plain": [
       "0.79248"
      ]
     },
     "execution_count": 25,
     "metadata": {},
     "output_type": "execute_result"
    }
   ],
   "source": [
    "# recall (실재 True인 것 중 True로 예측한 것의 비율)\n",
    "recall_score(y_test, yhat)"
   ]
  },
  {
   "cell_type": "code",
   "execution_count": 26,
   "metadata": {},
   "outputs": [
    {
     "data": {
      "text/plain": [
       "0.8081253059226627"
      ]
     },
     "execution_count": 26,
     "metadata": {},
     "output_type": "execute_result"
    }
   ],
   "source": [
    "# precision (예측한 것 중 실재 True인 것의 비율)\n",
    "precision_score(y_test, yhat)"
   ]
  },
  {
   "cell_type": "code",
   "execution_count": 27,
   "metadata": {},
   "outputs": [
    {
     "data": {
      "text/plain": [
       "0.8002261895145003"
      ]
     },
     "execution_count": 27,
     "metadata": {},
     "output_type": "execute_result"
    }
   ],
   "source": [
    "# f1-score (recall과 precision의 조화평균)\n",
    "f1_score(y_test, yhat)"
   ]
  },
  {
   "cell_type": "markdown",
   "metadata": {},
   "source": [
    "## 12. 모델 사용하기"
   ]
  },
  {
   "cell_type": "code",
   "execution_count": 36,
   "metadata": {},
   "outputs": [
    {
     "name": "stdout",
     "output_type": "stream",
     "text": [
      "영화평(특수문자 제외) the movie was really exciting \n",
      "and i watched it throughout the movie hoping it wouldn't end without \n",
      "watching the clock i strongly recommend it\n",
      "and the story was fun \n",
      "[1, 4, 20, 16, 66, 1127, 5, 13, 296, 12, 469, 4, 20, 1383, 12, 586, 130, 209, 149, 4, 5431, 13, 2303, 386, 12, 5, 4, 65, 16, 253] 30\n"
     ]
    }
   ],
   "source": [
    "# 모델 사용하기\n",
    "review = \"\"\"The movie was really exciting, \n",
    "and I watched it throughout the movie hoping it wouldn't end without \n",
    "watching the clock. I strongly recommend it.\n",
    "and the story was fun @_@ㅠ.ㅠ\"\"\".lower()\n",
    "import re\n",
    "review = re.sub(r'[^a-zA-Z\\'\\s]', '', review)\n",
    "# review\n",
    "print('영화평(특수문자 제외)', review)\n",
    "review = review.split() # 단어 list\n",
    "review = [1] + [word_to_id.get(word, -1) +3 for word in review]\n",
    "print(review, len(review))\n"
   ]
  },
  {
   "cell_type": "code",
   "execution_count": 37,
   "metadata": {},
   "outputs": [
    {
     "data": {
      "text/plain": [
       "array([[   0,    0,    0,    0,    0,    0,    0,    0,    0,    0,    0,\n",
       "           0,    0,    0,    0,    0,    0,    0,    0,    0,    0,    0,\n",
       "           0,    0,    0,    0,    0,    0,    0,    0,    0,    0,    0,\n",
       "           0,    0,    0,    0,    0,    0,    0,    0,    0,    0,    0,\n",
       "           0,    0,    0,    0,    0,    0,    1,    4,   20,   16,   66,\n",
       "        1127,    5,   13,  296,   12,  469,    4,   20, 1383,   12,  586,\n",
       "         130,  209,  149,    4, 5431,   13, 2303,  386,   12,    5,    4,\n",
       "          65,   16,  253]], dtype=int32)"
      ]
     },
     "execution_count": 37,
     "metadata": {},
     "output_type": "execute_result"
    }
   ],
   "source": [
    "input_data = pad_sequences([review],\n",
    "                       padding='pre',\n",
    "                       truncating='pre', # 뒷부분을 짜르고 앞부분을 남김\n",
    "                       maxlen=MY_LENGTH)\n",
    "input_data"
   ]
  },
  {
   "cell_type": "code",
   "execution_count": 38,
   "metadata": {},
   "outputs": [
    {
     "name": "stdout",
     "output_type": "stream",
     "text": [
      "1/1 [==============================] - 0s 18ms/step\n"
     ]
    },
    {
     "data": {
      "text/plain": [
       "array([0], dtype=int8)"
      ]
     },
     "execution_count": 38,
     "metadata": {},
     "output_type": "execute_result"
    }
   ],
   "source": [
    "result = (model.predict(input_data)>0.5).astype('int8').reshape(-1)\n",
    "result\n"
   ]
  },
  {
   "cell_type": "code",
   "execution_count": null,
   "metadata": {},
   "outputs": [],
   "source": []
  },
  {
   "cell_type": "code",
   "execution_count": null,
   "metadata": {},
   "outputs": [],
   "source": []
  }
 ],
 "metadata": {
  "kernelspec": {
   "display_name": "ml-dl-nlp",
   "language": "python",
   "name": "python3"
  },
  "language_info": {
   "codemirror_mode": {
    "name": "ipython",
    "version": 3
   },
   "file_extension": ".py",
   "mimetype": "text/x-python",
   "name": "python",
   "nbconvert_exporter": "python",
   "pygments_lexer": "ipython3",
   "version": "3.10.18"
  }
 },
 "nbformat": 4,
 "nbformat_minor": 2
}
