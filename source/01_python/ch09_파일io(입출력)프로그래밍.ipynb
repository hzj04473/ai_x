{
 "cells": [
  {
   "cell_type": "code",
   "execution_count": 82,
   "id": "b2e09670",
   "metadata": {
    "ExecuteTime": {
     "end_time": "2025-04-22T03:50:23.153611Z",
     "start_time": "2025-04-22T03:50:23.139649Z"
    }
   },
   "outputs": [
    {
     "data": {
      "text/html": [
       "\n",
       "<style>\n",
       "* {font-family:Consolas;}\n",
       "div.container{width:87% !important;}\n",
       "div.cell.code_cell.rendered{width:100%;}\n",
       "div.CodeMirror {font-size:12pt;}\n",
       "div.output {font-size:12pt; font-weight:bold;}\n",
       "div.input { font-size:12pt;}\n",
       "div.prompt {min-width:70px;}\n",
       "div#toc-wrapper{padding-top:120px;}\n",
       "div.text_cell_render ul li{font-size:12pt;padding:3px;}\n",
       "table.dataframe{font-size:12px;}\n",
       "</style>\n"
      ],
      "text/plain": [
       "<IPython.core.display.HTML object>"
      ]
     },
     "metadata": {},
     "output_type": "display_data"
    }
   ],
   "source": [
    "from IPython.display import display, HTML\n",
    "\n",
    "display(\n",
    "    HTML(\"\"\"\n",
    "<style>\n",
    "* {font-family:Consolas;}\n",
    "div.container{width:87% !important;}\n",
    "div.cell.code_cell.rendered{width:100%;}\n",
    "div.CodeMirror {font-size:12pt;}\n",
    "div.output {font-size:12pt; font-weight:bold;}\n",
    "div.input { font-size:12pt;}\n",
    "div.prompt {min-width:70px;}\n",
    "div#toc-wrapper{padding-top:120px;}\n",
    "div.text_cell_render ul li{font-size:12pt;padding:3px;}\n",
    "table.dataframe{font-size:12px;}\n",
    "</style>\n",
    "\"\"\"))"
   ]
  },
  {
   "cell_type": "markdown",
   "id": "2ce99538",
   "metadata": {},
   "source": [
    "# 강의 순서\n",
    "```\n",
    "1. *.txt\n",
    "   김희원, 33, 아무동9\n",
    "   이희원, 22, 무시기동8\n",
    "   \n",
    "2. pickle파일(*.data) : 객체리스트 저장 (가벼운 머신러닝 모델저장용)\n",
    "\n",
    "3. *.csv : 지나간 데이터를 가져올떄 쓴다. (cp949로 오픈해야 한글이 꺠지지 않는다.)\n",
    "   name,age,address\n",
    "   \"김희원,33,\"아무동9\"\n",
    "   \"이희원\",22,\"무시기동8\"\n",
    "\n",
    "4. *.json : 실시간 데이터를 가져올떄, 많이 쓴다.\n",
    "   [{'name': '김희원', 'age':33, 'address': '아무동9'},\n",
    "    {'name': '이희원', 'age':22, 'address': '무시기동8'}]\n",
    "\n",
    "5. *.h5, *.hdf5 : 딥러닝 모델 저장\n",
    "   HDVview로 읽을 수 있음\n",
    "   \n",
    "6. *.xml\n",
    "   <customer>\n",
    "       <name>김희원</name>\n",
    "       <age>33</age>\n",
    "       <address>아무동9</address>       \n",
    "   </customer>\n",
    "   <customer>\n",
    "       <name>이희원</name>\n",
    "       <age>22</age>\n",
    "       <address>무시기동8</address>       \n",
    "   </customer>\n",
    "```"
   ]
  },
  {
   "cell_type": "markdown",
   "id": "ca149edd",
   "metadata": {},
   "source": [
    "<b><font size=\"6\" color=\"red\">ch09.파일io(입출력)프로그래밍</font></b>\n",
    "\n",
    "- 파일 : txt, pickle, csv, json, hdf5(h5)\n",
    "\n",
    "# 1절. txt 파일에 데이터 저장하고 불러오기"
   ]
  },
  {
   "cell_type": "markdown",
   "id": "e87d8cd6",
   "metadata": {},
   "source": [
    "## 1-1. 저장"
   ]
  },
  {
   "cell_type": "code",
   "execution_count": 5,
   "id": "3ca5554a",
   "metadata": {
    "ExecuteTime": {
     "end_time": "2025-04-22T01:23:29.857012Z",
     "start_time": "2025-04-22T01:23:29.835642Z"
    }
   },
   "outputs": [],
   "source": [
    "try:\n",
    "    f = open(\"data/ch09.txt\", 'w')\n",
    "    # 데이터 출력\n",
    "except FileExistsError as e:\n",
    "    print(e)\n",
    "finally:\n",
    "    f.close()"
   ]
  },
  {
   "cell_type": "code",
   "execution_count": 8,
   "id": "266125af",
   "metadata": {
    "ExecuteTime": {
     "end_time": "2025-04-22T01:25:30.516504Z",
     "start_time": "2025-04-22T01:25:30.501576Z"
    }
   },
   "outputs": [
    {
     "name": "stdout",
     "output_type": "stream",
     "text": [
      "쓰기 가능한지 여부 : True\n"
     ]
    }
   ],
   "source": [
    "f = open(\"data/ch09.txt\", 'w')\n",
    "print('쓰기 가능한지 여부 :',f.writable())"
   ]
  },
  {
   "cell_type": "code",
   "execution_count": 9,
   "id": "260cc7f9",
   "metadata": {
    "ExecuteTime": {
     "end_time": "2025-04-22T01:25:32.808594Z",
     "start_time": "2025-04-22T01:25:32.798008Z"
    }
   },
   "outputs": [],
   "source": [
    "f.write('Hello\\nWrold')\n",
    "f.close() # close() 쓰기한 내용이 저장이 안됨"
   ]
  },
  {
   "cell_type": "code",
   "execution_count": 11,
   "id": "635b5d02",
   "metadata": {
    "ExecuteTime": {
     "end_time": "2025-04-22T01:38:05.384498Z",
     "start_time": "2025-04-22T01:38:05.368542Z"
    }
   },
   "outputs": [
    {
     "name": "stdout",
     "output_type": "stream",
     "text": [
      "쓰기 가능한지 여부 : True\n"
     ]
    }
   ],
   "source": [
    "# mode : 'r' 또는 'rt' - 파일이 없는 경우 예외, 파일이 있는 경우 text읽기 모드\n",
    "#        'tb' - 바이너리 읽기 모드\n",
    "# 읽기 모드에서 파일이 없으면, 예외발생\n",
    "#        'w' 또는 'wt' - text쓰기 모드 (파일이 있으면 덮어씀, 파일이 없으면 파일 생성)\n",
    "#        'wb'- 바이너리 쓰기 모드\n",
    "#        'a' 또는 'at' - text 추가 모드 (파일이 있으면 append, 파일이 없으면 파일 생성)\n",
    "# 쓰기 모드에서 폴더가 없으면, 예외발생\n",
    "\n",
    "# encording\n",
    "#        'euc-kr' (한글완성형)\n",
    "#        'cp949'  (확장된 한글완성형) : open() 함수 기본 encording방식 (win)\n",
    "#        'utf-8'  (한글조합형) : open() 함수 기본 encording방식 (mac, linux), 주피터노트북 기본\n",
    "with open(\"data/ch09.txt\", 'w') as f:\n",
    "    print('쓰기 가능한지 여부 :', f.writable())\n",
    "    f.write(\"Hello\\nPython\")"
   ]
  },
  {
   "cell_type": "code",
   "execution_count": 31,
   "id": "1f822795",
   "metadata": {
    "ExecuteTime": {
     "end_time": "2025-04-22T02:12:16.559330Z",
     "start_time": "2025-04-22T02:12:16.540378Z"
    }
   },
   "outputs": [],
   "source": [
    "# utf-8 encording \n",
    "with open('data/ch09.txt', 'w', encoding='utf-8') as f:\n",
    "# cp949 encording     \n",
    "# with open('data/ch09.txt', 'w') as f:\n",
    "    # 1 방법\n",
    "    f.write('홍길동, 33, 아무동9\\n')\n",
    "    f.write('김길동, 33, 아무동9\\n')\n",
    "    \n",
    "    # 2 방법\n",
    "    textlist = ['홍길동, 33, 아무동9\\n', '김길동, 33, 아무동9\\n']\n",
    "    for line in textlist:\n",
    "        f.write(line)\n",
    "    # 3 방법\n",
    "    f.writelines(textlist)"
   ]
  },
  {
   "cell_type": "markdown",
   "id": "07b36340",
   "metadata": {},
   "source": [
    "## 1-2. 읽기"
   ]
  },
  {
   "cell_type": "code",
   "execution_count": 32,
   "id": "e76a72e9",
   "metadata": {
    "ExecuteTime": {
     "end_time": "2025-04-22T02:12:18.561057Z",
     "start_time": "2025-04-22T02:12:18.534563Z"
    }
   },
   "outputs": [
    {
     "name": "stdout",
     "output_type": "stream",
     "text": [
      "홍길동, 33, 아무동9\n",
      "김길동, 33, 아무동9\n",
      "홍길동, 33, 아무동9\n",
      "김길동, 33, 아무동9\n",
      "홍길동, 33, 아무동9\n",
      "김길동, 33, 아무동9\n"
     ]
    }
   ],
   "source": [
    "# 한줄씩 읽기\n",
    "with open('data/ch09.txt', 'r', encoding='utf-8') as f:\n",
    "    line = f.readline()\n",
    "    while line !='':\n",
    "        print(line, end='')\n",
    "        line = f.readline()"
   ]
  },
  {
   "cell_type": "markdown",
   "id": "1ce2b9cb",
   "metadata": {},
   "source": [
    "### ※ 읽기 제일 많이 쓰는 방식"
   ]
  },
  {
   "cell_type": "code",
   "execution_count": 33,
   "id": "5eef4b04",
   "metadata": {
    "ExecuteTime": {
     "end_time": "2025-04-22T02:12:20.910603Z",
     "start_time": "2025-04-22T02:12:20.885867Z"
    }
   },
   "outputs": [
    {
     "name": "stdout",
     "output_type": "stream",
     "text": [
      "['홍길동, 33, 아무동9\\n', '김길동, 33, 아무동9\\n', '홍길동, 33, 아무동9\\n', '김길동, 33, 아무동9\\n', '홍길동, 33, 아무동9\\n', '김길동, 33, 아무동9\\n']\n"
     ]
    }
   ],
   "source": [
    "# 모든 줄을 읽기\n",
    "# 제일 많이 쓰는 방식\n",
    "with open('data/ch09.txt', 'r', encoding='utf-8') as f:\n",
    "    lines = f.readlines()\n",
    "    print(lines)"
   ]
  },
  {
   "cell_type": "code",
   "execution_count": 35,
   "id": "2c9fda98",
   "metadata": {
    "ExecuteTime": {
     "end_time": "2025-04-22T02:17:21.579854Z",
     "start_time": "2025-04-22T02:17:21.564490Z"
    }
   },
   "outputs": [
    {
     "data": {
      "text/plain": [
       "'홍길동, 33, 아무동9\\n김길동, 33, 아무동9\\n홍길동, 33, 아무동9\\n김길동, 33, 아무동9\\n홍길동, 33, 아무동9\\n김길동, 33, 아무동9\\n'"
      ]
     },
     "execution_count": 35,
     "metadata": {},
     "output_type": "execute_result"
    }
   ],
   "source": [
    "# 모두 읽기\n",
    "with open('data/ch09.txt', 'r', encoding='utf-8') as f:\n",
    "    lines = f.read()\n",
    "#     print(lines)\n",
    "lines"
   ]
  },
  {
   "cell_type": "markdown",
   "id": "34354fec",
   "metadata": {},
   "source": [
    "# 2절. 피클(pickle)을 이용한 객체 저장 및 불러오기\n",
    "\n",
    "\n",
    "## 2.1. 형식이 있는 txt 데이터 불러오기"
   ]
  },
  {
   "cell_type": "code",
   "execution_count": 44,
   "id": "a358f88e",
   "metadata": {
    "ExecuteTime": {
     "end_time": "2025-04-22T02:50:47.132974Z",
     "start_time": "2025-04-22T02:50:47.106579Z"
    }
   },
   "outputs": [],
   "source": [
    "class Member:\n",
    "    def __init__(self, name, age, email, address):\n",
    "        self.name = name\n",
    "        self.age = age\n",
    "        self.email = email\n",
    "        self.address = address\n",
    "\n",
    "    def __str__(self):\n",
    "        return \"{}, {}, {}, {}\".format(self.name,\n",
    "                                       \"성년\" if self.age > 18 else \"미성년\",\n",
    "                                       self.email, self.address)\n",
    "\n",
    "    def as_dict(self):\n",
    "        return {\n",
    "            \"name\": self.name,\n",
    "            \"age\": self.age,\n",
    "            \"email\": self.email,\n",
    "            \"address\": self.address\n",
    "        }\n",
    "\n",
    "    def __eq__(self, other):\n",
    "        return self.name == other.name and \\\n",
    "            self.age == other.age and \\\n",
    "            self.email == other.email and \\\n",
    "            self.address == other.address"
   ]
  },
  {
   "cell_type": "code",
   "execution_count": 48,
   "id": "4bcb87ff",
   "metadata": {
    "ExecuteTime": {
     "end_time": "2025-04-22T02:52:50.238885Z",
     "start_time": "2025-04-22T02:52:50.226917Z"
    }
   },
   "outputs": [
    {
     "name": "stdout",
     "output_type": "stream",
     "text": [
      "True\n",
      "True\n"
     ]
    }
   ],
   "source": [
    "user1 = Member('홍', 20, 'a@a.com', '신림동')\n",
    "user2 = Member('홍', 20, 'a@a.com', '신림동')\n",
    "\n",
    "print(user1 == user2)\n",
    "print(user1.__eq__(user2)) # 같은 내용이면 True "
   ]
  },
  {
   "cell_type": "code",
   "execution_count": 59,
   "id": "eb536afc",
   "metadata": {
    "ExecuteTime": {
     "end_time": "2025-04-22T03:08:47.262014Z",
     "start_time": "2025-04-22T03:08:47.248009Z"
    }
   },
   "outputs": [],
   "source": [
    "# 형식이 있는 txt 파일 내용을 member list(픽클 저장), 딕셔너리 list (데이터프레임)로 저장\n",
    "\n",
    "user_list = []  # member list\n",
    "user_dict = []  # 딕셔너리 list\n",
    "\n",
    "with open('data/ch09_member.txt', 'r', encoding=\"utf-8\") as text_file:\n",
    "    lines = text_file.readlines()\n",
    "\n",
    "#print(lines)\n",
    "\n",
    "for line in lines:\n",
    "    data = line.split(\",\")\n",
    "    # print(data)\n",
    "    name = data[0]\n",
    "    age = int(data[1].strip())  # strip() 좌우 공백 (space, \\t, \\n) 제거\n",
    "    email = data[2].strip()\n",
    "    address = data[3].strip()\n",
    "\n",
    "    user = Member(name, age, email, address)\n",
    "    # print(user)\n",
    "    user_list.append(user)\n",
    "    user_dict.append(user.as_dict())\n",
    "    # user_dict.append(user.__dict__)"
   ]
  },
  {
   "cell_type": "code",
   "execution_count": 64,
   "id": "8a6fbd3d",
   "metadata": {
    "ExecuteTime": {
     "end_time": "2025-04-22T03:13:04.392878Z",
     "start_time": "2025-04-22T03:13:04.375922Z"
    }
   },
   "outputs": [
    {
     "name": "stdout",
     "output_type": "stream",
     "text": [
      "홍길동, 성년, kildong@hong.com, 서울시 관악구\n",
      "홍길숙, 성년, kilsuk1@hong.com, 서울시 영등포구\n",
      "신길동, 성년, shinkil@hong.com, 서울시 동작구\n"
     ]
    }
   ],
   "source": [
    "user_dict\n",
    "\n",
    "for user in user_list:\n",
    "    print(user)"
   ]
  },
  {
   "cell_type": "markdown",
   "id": "1f000c4d",
   "metadata": {},
   "source": [
    "## 2.2. 피클링\n",
    "\n",
    "- 객체 리스트 (user_list) -> 피클파일로 쓰기\n",
    "- 피클 파일을 읽기 -> 객체 리스트 (load_user_list)"
   ]
  },
  {
   "cell_type": "code",
   "execution_count": 65,
   "id": "391b4822",
   "metadata": {
    "ExecuteTime": {
     "end_time": "2025-04-22T03:19:13.514706Z",
     "start_time": "2025-04-22T03:19:13.500713Z"
    }
   },
   "outputs": [],
   "source": [
    "# 피클링을 이용한 객체를 저장하기\n",
    "\n",
    "import pickle\n",
    "\n",
    "with open('data/ch09_member.data', 'wb') as f:\n",
    "    pickle.dump(user_list, f)"
   ]
  },
  {
   "cell_type": "code",
   "execution_count": 66,
   "id": "e14bfd2d",
   "metadata": {
    "ExecuteTime": {
     "end_time": "2025-04-22T03:36:23.075284Z",
     "start_time": "2025-04-22T03:36:23.060426Z"
    }
   },
   "outputs": [],
   "source": [
    "# 피클링을 이용한 파일에서 객체 데이터로 읽기\n",
    "with open('data/ch09_member.data', 'rb') as f:\n",
    "    load_user_list = pickle.load(f)"
   ]
  },
  {
   "cell_type": "code",
   "execution_count": 68,
   "id": "77394435",
   "metadata": {
    "ExecuteTime": {
     "end_time": "2025-04-22T03:36:48.734502Z",
     "start_time": "2025-04-22T03:36:48.720955Z"
    }
   },
   "outputs": [
    {
     "name": "stdout",
     "output_type": "stream",
     "text": [
      "True\n"
     ]
    }
   ],
   "source": [
    "print(user_list == load_user_list)"
   ]
  },
  {
   "cell_type": "code",
   "execution_count": 72,
   "id": "6fde4ff4",
   "metadata": {
    "ExecuteTime": {
     "end_time": "2025-04-22T03:39:49.498117Z",
     "start_time": "2025-04-22T03:39:49.492165Z"
    }
   },
   "outputs": [
    {
     "name": "stdout",
     "output_type": "stream",
     "text": [
      "0 홍길동, 성년, kildong@hong.com, 서울시 관악구\n",
      "0 홍길동, 성년, kildong@hong.com, 서울시 관악구\n",
      "1 홍길숙, 성년, kilsuk1@hong.com, 서울시 영등포구\n",
      "1 홍길숙, 성년, kilsuk1@hong.com, 서울시 영등포구\n",
      "2 신길동, 성년, shinkil@hong.com, 서울시 동작구\n",
      "2 신길동, 성년, shinkil@hong.com, 서울시 동작구\n"
     ]
    }
   ],
   "source": [
    "for idx in range(len(user_list)):\n",
    "    print(idx, user[idx])\n",
    "    print(idx, load_user_list[idx])\n",
    "    "
   ]
  },
  {
   "cell_type": "code",
   "execution_count": 79,
   "id": "3410ddc0",
   "metadata": {
    "ExecuteTime": {
     "end_time": "2025-04-22T03:42:44.658594Z",
     "start_time": "2025-04-22T03:42:44.630941Z"
    }
   },
   "outputs": [
    {
     "name": "stdout",
     "output_type": "stream",
     "text": [
      "0 홍길동, 성년, kildong@hong.com, 서울시 관악구\n",
      "0 홍길동, 성년, kildong@hong.com, 서울시 관악구\n",
      "True\n",
      "1 홍길숙, 성년, kilsuk1@hong.com, 서울시 영등포구\n",
      "1 홍길숙, 성년, kilsuk1@hong.com, 서울시 영등포구\n",
      "True\n",
      "2 신길동, 성년, shinkil@hong.com, 서울시 동작구\n",
      "2 신길동, 성년, shinkil@hong.com, 서울시 동작구\n",
      "True\n"
     ]
    }
   ],
   "source": [
    "for idx, (user, load_user) in enumerate(zip(user_list, load_user_list)):\n",
    "    print(idx, user)\n",
    "    print(idx, load_user)\n",
    "    print(user==load_user)"
   ]
  },
  {
   "cell_type": "code",
   "execution_count": 81,
   "id": "ea9e5cea",
   "metadata": {
    "ExecuteTime": {
     "end_time": "2025-04-22T03:48:36.056876Z",
     "start_time": "2025-04-22T03:48:36.045733Z"
    }
   },
   "outputs": [
    {
     "data": {
      "text/plain": [
       "True"
      ]
     },
     "execution_count": 81,
     "metadata": {},
     "output_type": "execute_result"
    }
   ],
   "source": [
    "result = []\n",
    "for user, load_user in zip(user_list, load_user_list):\n",
    "    result.append(user == load_user)\n",
    "all(result)"
   ]
  },
  {
   "cell_type": "markdown",
   "id": "cc49b100",
   "metadata": {},
   "source": [
    "# 3절. CSV형식 파일 읽기 / 쓰기\n",
    "\n",
    "- CSV 파일 <-> 리스트데이터로 읽기 3.1 / 쓰기 3.2\n",
    "- CSV 파일 <-> 딕셔너리데이터 읽기 3.3 / 쓰기 3.4"
   ]
  },
  {
   "cell_type": "markdown",
   "id": "fab6710f",
   "metadata": {},
   "source": [
    "## 3.1 reader"
   ]
  },
  {
   "cell_type": "code",
   "execution_count": 90,
   "id": "7304725a",
   "metadata": {
    "ExecuteTime": {
     "end_time": "2025-04-22T04:08:58.297132Z",
     "start_time": "2025-04-22T04:08:58.280494Z"
    }
   },
   "outputs": [
    {
     "name": "stdout",
     "output_type": "stream",
     "text": [
      "[['홍길동', '20', 'kildong@hong.com', '서울시 관악구'], ['김길동', '40', 'kimdong@hong.com', '서울시 영등포구'], ['신길동', '30', 'sindong@hong.com', '서울시 동작구']]\n"
     ]
    }
   ],
   "source": [
    "import csv\n",
    "with open('data/ch09_member1.csv', 'r', encoding=\"utf-8\") as f:\n",
    "    reader = csv.reader(f)\n",
    "    # print(list(reader))\n",
    "    result = list(reader)\n",
    "# print(list(reader)) error 발생\n",
    "print(result)"
   ]
  },
  {
   "cell_type": "code",
   "execution_count": 93,
   "id": "a6257503",
   "metadata": {
    "ExecuteTime": {
     "end_time": "2025-04-22T04:13:05.778056Z",
     "start_time": "2025-04-22T04:13:05.759824Z"
    }
   },
   "outputs": [
    {
     "name": "stdout",
     "output_type": "stream",
     "text": [
      "[['홍길동', 20.0, 'kildong@hong.com', '서울시 관악구'], ['김길동', 40.0, 'kimdong@hong.com', '서울시 영등포구'], ['신길동', 30.0, 'sindong@hong.com', '서울시 동작구']]\n"
     ]
    }
   ],
   "source": [
    "# \"\"(따옴표)가 없는 데이터는 numeric 으로 \n",
    "import csv\n",
    "with open('data/ch09_member1.csv', 'r', encoding=\"utf-8\") as f:\n",
    "    reader = csv.reader(f, quoting=csv.QUOTE_NONNUMERIC)\n",
    "    result = list(reader)\n",
    "print(result)"
   ]
  },
  {
   "cell_type": "code",
   "execution_count": null,
   "id": "59cee0bd",
   "metadata": {},
   "outputs": [],
   "source": []
  },
  {
   "cell_type": "code",
   "execution_count": null,
   "id": "91a94a6e",
   "metadata": {},
   "outputs": [],
   "source": []
  },
  {
   "cell_type": "code",
   "execution_count": null,
   "id": "40eede94",
   "metadata": {},
   "outputs": [],
   "source": []
  },
  {
   "cell_type": "code",
   "execution_count": null,
   "id": "7a112dbd",
   "metadata": {},
   "outputs": [],
   "source": []
  },
  {
   "cell_type": "code",
   "execution_count": null,
   "id": "cff71b99",
   "metadata": {},
   "outputs": [],
   "source": []
  },
  {
   "cell_type": "code",
   "execution_count": null,
   "id": "c9442a8d",
   "metadata": {},
   "outputs": [],
   "source": []
  },
  {
   "cell_type": "code",
   "execution_count": null,
   "id": "a627e841",
   "metadata": {},
   "outputs": [],
   "source": []
  },
  {
   "cell_type": "code",
   "execution_count": null,
   "id": "2dd9ca80",
   "metadata": {},
   "outputs": [],
   "source": []
  },
  {
   "cell_type": "code",
   "execution_count": null,
   "id": "d9c0f309",
   "metadata": {},
   "outputs": [],
   "source": []
  },
  {
   "cell_type": "code",
   "execution_count": null,
   "id": "2cc0df15",
   "metadata": {},
   "outputs": [],
   "source": []
  },
  {
   "cell_type": "code",
   "execution_count": null,
   "id": "9141c739",
   "metadata": {},
   "outputs": [],
   "source": []
  },
  {
   "cell_type": "code",
   "execution_count": null,
   "id": "b7c7ef3d",
   "metadata": {},
   "outputs": [],
   "source": []
  },
  {
   "cell_type": "code",
   "execution_count": null,
   "id": "553648f3",
   "metadata": {},
   "outputs": [],
   "source": []
  },
  {
   "cell_type": "code",
   "execution_count": null,
   "id": "875cd61c",
   "metadata": {},
   "outputs": [],
   "source": []
  }
 ],
 "metadata": {
  "kernelspec": {
   "display_name": "Python 3 (ipykernel)",
   "language": "python",
   "name": "python3"
  },
  "language_info": {
   "codemirror_mode": {
    "name": "ipython",
    "version": 3
   },
   "file_extension": ".py",
   "mimetype": "text/x-python",
   "name": "python",
   "nbconvert_exporter": "python",
   "pygments_lexer": "ipython3",
   "version": "3.10.9"
  },
  "toc": {
   "base_numbering": 1,
   "nav_menu": {},
   "number_sections": false,
   "sideBar": true,
   "skip_h1_title": false,
   "title_cell": "Table of Contents",
   "title_sidebar": "Contents",
   "toc_cell": false,
   "toc_position": {
    "height": "calc(100% - 180px)",
    "left": "10px",
    "top": "150px",
    "width": "165px"
   },
   "toc_section_display": true,
   "toc_window_display": true
  },
  "varInspector": {
   "cols": {
    "lenName": 16,
    "lenType": 16,
    "lenVar": 40
   },
   "kernels_config": {
    "python": {
     "delete_cmd_postfix": "",
     "delete_cmd_prefix": "del ",
     "library": "var_list.py",
     "varRefreshCmd": "print(var_dic_list())"
    },
    "r": {
     "delete_cmd_postfix": ") ",
     "delete_cmd_prefix": "rm(",
     "library": "var_list.r",
     "varRefreshCmd": "cat(var_dic_list()) "
    }
   },
   "types_to_exclude": [
    "module",
    "function",
    "builtin_function_or_method",
    "instance",
    "_Feature"
   ],
   "window_display": false
  }
 },
 "nbformat": 4,
 "nbformat_minor": 5
}
