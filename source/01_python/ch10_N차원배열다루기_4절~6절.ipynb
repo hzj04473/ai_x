{
 "cells": [
  {
   "cell_type": "code",
   "execution_count": 1,
   "id": "73b3c484",
   "metadata": {
    "ExecuteTime": {
     "end_time": "2025-04-28T05:10:52.001153Z",
     "start_time": "2025-04-28T05:10:51.968151Z"
    }
   },
   "outputs": [
    {
     "data": {
      "text/html": [
       "\n",
       "<style>\n",
       "* {font-family:Consolas;}\n",
       "div.container{width:87% !important;}\n",
       "div.cell.code_cell.rendered{width:100%;}\n",
       "div.CodeMirror {font-size:12pt;}\n",
       "div.output {font-size:12pt; font-weight:bold;}\n",
       "div.input { font-size:12pt;}\n",
       "div.prompt {min-width:70px;}\n",
       "div#toc-wrapper{padding-top:120px;}\n",
       "div.text_cell_render ul li{font-size:12pt;padding:3px;}\n",
       "table.dataframe{font-size:12px;}\n",
       "</style>\n"
      ],
      "text/plain": [
       "<IPython.core.display.HTML object>"
      ]
     },
     "metadata": {},
     "output_type": "display_data"
    }
   ],
   "source": [
    "from IPython.display import display, HTML\n",
    "\n",
    "display(\n",
    "    HTML(\"\"\"\n",
    "<style>\n",
    "* {font-family:Consolas;}\n",
    "div.container{width:87% !important;}\n",
    "div.cell.code_cell.rendered{width:100%;}\n",
    "div.CodeMirror {font-size:12pt;}\n",
    "div.output {font-size:12pt; font-weight:bold;}\n",
    "div.input { font-size:12pt;}\n",
    "div.prompt {min-width:70px;}\n",
    "div#toc-wrapper{padding-top:120px;}\n",
    "div.text_cell_render ul li{font-size:12pt;padding:3px;}\n",
    "table.dataframe{font-size:12px;}\n",
    "</style>\n",
    "\"\"\"))"
   ]
  },
  {
   "cell_type": "markdown",
   "id": "851f7eb0",
   "metadata": {},
   "source": [
    "<font size=\"5\" color=\"red\">ch10_N차원배열다루기_4절~6절</font>\n",
    "\n",
    "# 4절. 복사와 뷰\n",
    "\n",
    "## 4.1. 할당"
   ]
  },
  {
   "cell_type": "code",
   "execution_count": 2,
   "id": "673b4bc6",
   "metadata": {
    "ExecuteTime": {
     "end_time": "2025-04-28T05:11:18.022518Z",
     "start_time": "2025-04-28T05:11:18.002168Z"
    }
   },
   "outputs": [],
   "source": [
    "import numpy as np"
   ]
  },
  {
   "cell_type": "code",
   "execution_count": 3,
   "id": "9cc1a5cf",
   "metadata": {
    "ExecuteTime": {
     "end_time": "2025-04-25T07:15:15.531437Z",
     "start_time": "2025-04-25T07:15:15.508498Z"
    }
   },
   "outputs": [
    {
     "data": {
      "text/plain": [
       "array([0, 1, 2, 3, 4, 5])"
      ]
     },
     "execution_count": 3,
     "metadata": {},
     "output_type": "execute_result"
    }
   ],
   "source": [
    "a = np.arange(6)\n",
    "a"
   ]
  },
  {
   "cell_type": "code",
   "execution_count": 5,
   "id": "26df266c",
   "metadata": {
    "ExecuteTime": {
     "end_time": "2025-04-25T07:15:50.155801Z",
     "start_time": "2025-04-25T07:15:50.130959Z"
    }
   },
   "outputs": [
    {
     "data": {
      "text/plain": [
       "array([0, 1, 2, 3, 4, 5])"
      ]
     },
     "execution_count": 5,
     "metadata": {},
     "output_type": "execute_result"
    }
   ],
   "source": [
    "b = a\n",
    "b"
   ]
  },
  {
   "cell_type": "code",
   "execution_count": 7,
   "id": "f0d32394",
   "metadata": {
    "ExecuteTime": {
     "end_time": "2025-04-25T07:16:36.094788Z",
     "start_time": "2025-04-25T07:16:36.069278Z"
    }
   },
   "outputs": [
    {
     "data": {
      "text/plain": [
       "True"
      ]
     },
     "execution_count": 7,
     "metadata": {},
     "output_type": "execute_result"
    }
   ],
   "source": [
    "# a 와 b가 같은 객체냐?\n",
    "a is b"
   ]
  },
  {
   "cell_type": "code",
   "execution_count": 10,
   "id": "688e7c3d",
   "metadata": {
    "ExecuteTime": {
     "end_time": "2025-04-25T07:17:13.454631Z",
     "start_time": "2025-04-25T07:17:13.441653Z"
    }
   },
   "outputs": [
    {
     "data": {
      "text/plain": [
       "array([[0, 1, 2],\n",
       "       [3, 4, 5]])"
      ]
     },
     "execution_count": 10,
     "metadata": {},
     "output_type": "execute_result"
    }
   ],
   "source": [
    "b.shape = (2,3)\n",
    "b"
   ]
  },
  {
   "cell_type": "code",
   "execution_count": 11,
   "id": "4ab3a715",
   "metadata": {
    "ExecuteTime": {
     "end_time": "2025-04-25T07:17:14.861663Z",
     "start_time": "2025-04-25T07:17:14.837039Z"
    }
   },
   "outputs": [
    {
     "data": {
      "text/plain": [
       "array([[0, 1, 2],\n",
       "       [3, 4, 5]])"
      ]
     },
     "execution_count": 11,
     "metadata": {},
     "output_type": "execute_result"
    }
   ],
   "source": [
    "a"
   ]
  },
  {
   "cell_type": "markdown",
   "id": "93082e43",
   "metadata": {},
   "source": [
    "## 4.2. 뷰 (VIEW)\n",
    "\n",
    "- 슬라이싱할 경우 자동 view 생성"
   ]
  },
  {
   "cell_type": "code",
   "execution_count": 13,
   "id": "69e02d28",
   "metadata": {
    "ExecuteTime": {
     "end_time": "2025-04-25T07:19:07.998362Z",
     "start_time": "2025-04-25T07:19:07.972512Z"
    }
   },
   "outputs": [
    {
     "data": {
      "text/plain": [
       "array([[ 0,  1,  2,  3,  4,  5],\n",
       "       [ 6,  7,  8,  9, 10, 11]])"
      ]
     },
     "execution_count": 13,
     "metadata": {},
     "output_type": "execute_result"
    }
   ],
   "source": [
    "c = np.arange(12).reshape(2, -1)\n",
    "c"
   ]
  },
  {
   "cell_type": "code",
   "execution_count": 15,
   "id": "bc7b22eb",
   "metadata": {
    "ExecuteTime": {
     "end_time": "2025-04-25T07:21:07.885073Z",
     "start_time": "2025-04-25T07:21:07.873413Z"
    }
   },
   "outputs": [
    {
     "data": {
      "text/plain": [
       "False"
      ]
     },
     "execution_count": 15,
     "metadata": {},
     "output_type": "execute_result"
    }
   ],
   "source": [
    "d = c.view()  # c의 뷰 생성 : 얇은 복사\n",
    "d is c  # c객체와 d객체가 같냐?"
   ]
  },
  {
   "cell_type": "code",
   "execution_count": 16,
   "id": "ba433d9a",
   "metadata": {
    "ExecuteTime": {
     "end_time": "2025-04-25T07:21:39.630358Z",
     "start_time": "2025-04-25T07:21:39.611336Z"
    }
   },
   "outputs": [
    {
     "data": {
      "text/plain": [
       "(2758303887120, 2758303889232)"
      ]
     },
     "execution_count": 16,
     "metadata": {},
     "output_type": "execute_result"
    }
   ],
   "source": [
    "id(c), id(d)"
   ]
  },
  {
   "cell_type": "code",
   "execution_count": 23,
   "id": "a15b604b",
   "metadata": {
    "ExecuteTime": {
     "end_time": "2025-04-25T07:23:28.896014Z",
     "start_time": "2025-04-25T07:23:28.869513Z"
    }
   },
   "outputs": [
    {
     "data": {
      "text/plain": [
       "True"
      ]
     },
     "execution_count": 23,
     "metadata": {},
     "output_type": "execute_result"
    }
   ],
   "source": [
    "np.all(c == d) # c 와 d 의 내용이 모두 같음"
   ]
  },
  {
   "cell_type": "code",
   "execution_count": 26,
   "id": "e7d1d0fb",
   "metadata": {
    "ExecuteTime": {
     "end_time": "2025-04-25T07:23:48.834752Z",
     "start_time": "2025-04-25T07:23:48.809873Z"
    }
   },
   "outputs": [
    {
     "data": {
      "text/plain": [
       "array([[ 0,  1,  2,  3],\n",
       "       [ 4,  5,  6,  7],\n",
       "       [ 8,  9, 10, 11]])"
      ]
     },
     "execution_count": 26,
     "metadata": {},
     "output_type": "execute_result"
    }
   ],
   "source": [
    "d.shape = (3, 4)\n",
    "d"
   ]
  },
  {
   "cell_type": "code",
   "execution_count": 27,
   "id": "adcfcefd",
   "metadata": {
    "ExecuteTime": {
     "end_time": "2025-04-25T07:24:04.319103Z",
     "start_time": "2025-04-25T07:24:04.294170Z"
    }
   },
   "outputs": [
    {
     "data": {
      "text/plain": [
       "array([[ 0,  1,  2,  3,  4,  5],\n",
       "       [ 6,  7,  8,  9, 10, 11]])"
      ]
     },
     "execution_count": 27,
     "metadata": {},
     "output_type": "execute_result"
    }
   ],
   "source": [
    "c"
   ]
  },
  {
   "cell_type": "code",
   "execution_count": 31,
   "id": "5d0ff824",
   "metadata": {
    "ExecuteTime": {
     "end_time": "2025-04-25T07:28:40.733333Z",
     "start_time": "2025-04-25T07:28:40.715381Z"
    }
   },
   "outputs": [
    {
     "data": {
      "text/plain": [
       "array([[-99,   1, -99,   3],\n",
       "       [  4,   5,   6,   7],\n",
       "       [  8,   9,  10,  11]])"
      ]
     },
     "execution_count": 31,
     "metadata": {},
     "output_type": "execute_result"
    }
   ],
   "source": [
    "d[0,::2] = -99\n",
    "d"
   ]
  },
  {
   "cell_type": "code",
   "execution_count": 33,
   "id": "f55b37a5",
   "metadata": {
    "ExecuteTime": {
     "end_time": "2025-04-25T07:32:34.017838Z",
     "start_time": "2025-04-25T07:32:34.005868Z"
    }
   },
   "outputs": [
    {
     "data": {
      "text/plain": [
       "array([[-99,   1, -99,   3,   4,   5],\n",
       "       [  6,   7,   8,   9,  10,  11]])"
      ]
     },
     "execution_count": 33,
     "metadata": {},
     "output_type": "execute_result"
    }
   ],
   "source": [
    "c"
   ]
  },
  {
   "cell_type": "code",
   "execution_count": 36,
   "id": "8653bcae",
   "metadata": {
    "ExecuteTime": {
     "end_time": "2025-04-25T07:33:12.506679Z",
     "start_time": "2025-04-25T07:33:12.479744Z"
    }
   },
   "outputs": [
    {
     "data": {
      "text/plain": [
       "array([[ 0,  1,  2,  3,  4,  5],\n",
       "       [ 6,  7,  8,  9, 10, 11]])"
      ]
     },
     "execution_count": 36,
     "metadata": {},
     "output_type": "execute_result"
    }
   ],
   "source": [
    "# 슬라이싱이 될떄, 자동 뷰가 반환됨\n",
    "c = np.arange(12).reshape(2, 6)\n",
    "c"
   ]
  },
  {
   "cell_type": "code",
   "execution_count": 38,
   "id": "8c867cfa",
   "metadata": {
    "ExecuteTime": {
     "end_time": "2025-04-25T07:33:44.024461Z",
     "start_time": "2025-04-25T07:33:44.000744Z"
    }
   },
   "outputs": [
    {
     "data": {
      "text/plain": [
       "array([[ 0,  1,  2,  3,  4],\n",
       "       [ 6,  7,  8,  9, 10]])"
      ]
     },
     "execution_count": 38,
     "metadata": {},
     "output_type": "execute_result"
    }
   ],
   "source": [
    "d = c[:,:-1]\n",
    "d"
   ]
  },
  {
   "cell_type": "code",
   "execution_count": 39,
   "id": "591682a7",
   "metadata": {
    "ExecuteTime": {
     "end_time": "2025-04-25T07:36:45.702672Z",
     "start_time": "2025-04-25T07:36:45.677748Z"
    }
   },
   "outputs": [
    {
     "data": {
      "text/plain": [
       "array([[ 0,  1,  2,  3, 99],\n",
       "       [ 6,  7,  8,  9, 99]])"
      ]
     },
     "execution_count": 39,
     "metadata": {},
     "output_type": "execute_result"
    }
   ],
   "source": [
    "d[..., -1] = 99\n",
    "d"
   ]
  },
  {
   "cell_type": "code",
   "execution_count": 40,
   "id": "e5de24a0",
   "metadata": {
    "ExecuteTime": {
     "end_time": "2025-04-25T07:36:52.202319Z",
     "start_time": "2025-04-25T07:36:52.181405Z"
    }
   },
   "outputs": [
    {
     "data": {
      "text/plain": [
       "array([[ 0,  1,  2,  3, 99,  5],\n",
       "       [ 6,  7,  8,  9, 99, 11]])"
      ]
     },
     "execution_count": 40,
     "metadata": {},
     "output_type": "execute_result"
    }
   ],
   "source": [
    "c"
   ]
  },
  {
   "cell_type": "markdown",
   "id": "acc0b81e",
   "metadata": {},
   "source": [
    "## 4.3. 깊은복사"
   ]
  },
  {
   "cell_type": "code",
   "execution_count": 41,
   "id": "c1e68eed",
   "metadata": {
    "ExecuteTime": {
     "end_time": "2025-04-25T07:38:00.214183Z",
     "start_time": "2025-04-25T07:38:00.187252Z"
    }
   },
   "outputs": [
    {
     "data": {
      "text/plain": [
       "array([[ 0,  1,  2,  3,  4,  5],\n",
       "       [ 6,  7,  8,  9, 10, 11]])"
      ]
     },
     "execution_count": 41,
     "metadata": {},
     "output_type": "execute_result"
    }
   ],
   "source": [
    "c = np.arange(12).reshape(2, 6)\n",
    "c"
   ]
  },
  {
   "cell_type": "code",
   "execution_count": 47,
   "id": "5546e790",
   "metadata": {
    "ExecuteTime": {
     "end_time": "2025-04-25T07:39:11.631079Z",
     "start_time": "2025-04-25T07:39:11.618098Z"
    }
   },
   "outputs": [
    {
     "data": {
      "text/plain": [
       "array([[ 0,  1,  2, 99,  4],\n",
       "       [ 6,  7,  8, 99, 10]])"
      ]
     },
     "execution_count": 47,
     "metadata": {},
     "output_type": "execute_result"
    }
   ],
   "source": [
    "d = c[:, :-1].copy()  # 깊은 복사\n",
    "d[..., -2] = 99\n",
    "d"
   ]
  },
  {
   "cell_type": "code",
   "execution_count": 48,
   "id": "45ed6c19",
   "metadata": {
    "ExecuteTime": {
     "end_time": "2025-04-25T07:39:20.208818Z",
     "start_time": "2025-04-25T07:39:20.187874Z"
    }
   },
   "outputs": [
    {
     "data": {
      "text/plain": [
       "array([[ 0,  1,  2,  3,  4,  5],\n",
       "       [ 6,  7,  8,  9, 10, 11]])"
      ]
     },
     "execution_count": 48,
     "metadata": {},
     "output_type": "execute_result"
    }
   ],
   "source": [
    "c"
   ]
  },
  {
   "cell_type": "markdown",
   "id": "f9ae97aa",
   "metadata": {},
   "source": [
    "# 5절. 고급인덱싱\n",
    "\n",
    "## 5.1. 인덱싱 배열로 인덱싱"
   ]
  },
  {
   "cell_type": "code",
   "execution_count": 60,
   "id": "6e525d71",
   "metadata": {
    "ExecuteTime": {
     "end_time": "2025-04-25T07:44:43.875592Z",
     "start_time": "2025-04-25T07:44:43.857639Z"
    }
   },
   "outputs": [
    {
     "data": {
      "text/plain": [
       "array([  0,   1,   4,   9,  16,  25,  36,  49,  64,  81, 100, 121])"
      ]
     },
     "execution_count": 60,
     "metadata": {},
     "output_type": "execute_result"
    }
   ],
   "source": [
    "a = np.arange(12)**2\n",
    "a"
   ]
  },
  {
   "cell_type": "code",
   "execution_count": 61,
   "id": "69878a2d",
   "metadata": {
    "ExecuteTime": {
     "end_time": "2025-04-25T07:44:45.161603Z",
     "start_time": "2025-04-25T07:44:45.136658Z"
    }
   },
   "outputs": [
    {
     "data": {
      "text/plain": [
       "array([ 0,  0,  1, 25])"
      ]
     },
     "execution_count": 61,
     "metadata": {},
     "output_type": "execute_result"
    }
   ],
   "source": [
    "a[[0, 0, 1, 5]]"
   ]
  },
  {
   "cell_type": "code",
   "execution_count": 72,
   "id": "b376c3fd",
   "metadata": {
    "ExecuteTime": {
     "end_time": "2025-04-25T07:48:16.601629Z",
     "start_time": "2025-04-25T07:48:16.588666Z"
    }
   },
   "outputs": [
    {
     "data": {
      "text/plain": [
       "array([ 0,  0,  1, 25])"
      ]
     },
     "execution_count": 72,
     "metadata": {},
     "output_type": "execute_result"
    }
   ],
   "source": [
    "## 인덱싱하기 위한 값을 배열로 만듧\n",
    "i = np.array([0, 0, 1, 5])\n",
    "a[i]\n"
   ]
  },
  {
   "cell_type": "code",
   "execution_count": 65,
   "id": "2812ef21",
   "metadata": {
    "ExecuteTime": {
     "end_time": "2025-04-25T07:45:57.195280Z",
     "start_time": "2025-04-25T07:45:57.172342Z"
    }
   },
   "outputs": [
    {
     "data": {
      "text/plain": [
       "array([[ 0,  0],\n",
       "       [ 1, 25]])"
      ]
     },
     "execution_count": 65,
     "metadata": {},
     "output_type": "execute_result"
    }
   ],
   "source": [
    "# 인덱실하기 위한 값을 배열로 만듧\n",
    "j = np.array([[0,0],[1,5]])\n",
    "a[j]"
   ]
  },
  {
   "cell_type": "code",
   "execution_count": null,
   "id": "6c33b788",
   "metadata": {},
   "outputs": [],
   "source": [
    "# image_data = [\n",
    "#     [[255, 255, 255], [255, 255, 255][255, 255, 255][0, 0, 0]],\n",
    "# ]"
   ]
  },
  {
   "cell_type": "code",
   "execution_count": 75,
   "id": "2617f68b",
   "metadata": {
    "ExecuteTime": {
     "end_time": "2025-04-25T07:57:10.942202Z",
     "start_time": "2025-04-25T07:57:10.922259Z"
    }
   },
   "outputs": [],
   "source": [
    "palette = np.array([[0, 0, 0], # black\n",
    "                   [255, 0, 0], # red\n",
    "                   [0, 255, 0], # green\n",
    "                   [0, 0, 255], # blue\n",
    "                   [255, 255, 255]]) # white"
   ]
  },
  {
   "cell_type": "code",
   "execution_count": 93,
   "id": "99af0d1b",
   "metadata": {
    "ExecuteTime": {
     "end_time": "2025-04-25T08:20:27.130811Z",
     "start_time": "2025-04-25T08:20:27.123813Z"
    }
   },
   "outputs": [],
   "source": [
    "image_index = np.array([[4, 4, 4, 0, 0, 0, 0, 4, 4, 4],\n",
    "                        [4, 0, 0, 4, 4, 4, 4, 0, 0, 4],\n",
    "                        [0, 0, 4, 4, 4, 4, 4, 4, 0, 0],\n",
    "                        [0, 4, 4, 1, 4, 4, 3, 4, 4, 0],\n",
    "                        [0, 4, 4, 1, 4, 4, 3, 4, 4, 0],\n",
    "                        [0, 4, 4, 4, 4, 4, 4, 4, 4, 0],\n",
    "                        [0, 4, 4, 2, 4, 4, 2, 4, 4, 0],\n",
    "                        [4, 0, 4, 4, 2, 2, 4, 4, 0, 4],\n",
    "                        [4, 4, 0, 4, 4, 4, 4, 0, 4, 4],\n",
    "                        [4, 4, 4, 0, 0, 0, 0, 4, 4, 4]])\n",
    "# palette.shape\n",
    "image_data = palette[image_index]"
   ]
  },
  {
   "cell_type": "code",
   "execution_count": 95,
   "id": "c2cc98ef",
   "metadata": {
    "ExecuteTime": {
     "end_time": "2025-04-25T08:21:24.447661Z",
     "start_time": "2025-04-25T08:21:24.421756Z"
    }
   },
   "outputs": [
    {
     "data": {
      "text/plain": [
       "(10, 10, 3)"
      ]
     },
     "execution_count": 95,
     "metadata": {},
     "output_type": "execute_result"
    }
   ],
   "source": [
    "image_data.shape"
   ]
  },
  {
   "cell_type": "code",
   "execution_count": 100,
   "id": "d6f376d1",
   "metadata": {
    "ExecuteTime": {
     "end_time": "2025-04-25T08:23:29.568783Z",
     "start_time": "2025-04-25T08:23:29.439101Z"
    }
   },
   "outputs": [
    {
     "data": {
      "image/png": "[encoded data removed]",
      "text/plain": [
       "<Figure size 500x500 with 1 Axes>"
      ]
     },
     "metadata": {},
     "output_type": "display_data"
    }
   ],
   "source": [
    "from matplotlib import pyplot as plt\n",
    "plt.figure(figsize=(5,5))\n",
    "plt.imshow(image_data)\n",
    "plt.show()"
   ]
  },
  {
   "cell_type": "markdown",
   "id": "e5eb43a3",
   "metadata": {},
   "source": [
    "## 5.2. 논리 배열을 이용한 인덱싱"
   ]
  },
  {
   "cell_type": "code",
   "execution_count": 102,
   "id": "049011a9",
   "metadata": {
    "ExecuteTime": {
     "end_time": "2025-04-25T08:25:14.806431Z",
     "start_time": "2025-04-25T08:25:14.780522Z"
    }
   },
   "outputs": [
    {
     "data": {
      "text/plain": [
       "array([ 0,  1, 10, 11, 12, 13, 14, 15, 99])"
      ]
     },
     "execution_count": 102,
     "metadata": {},
     "output_type": "execute_result"
    }
   ],
   "source": [
    "a = np.array([0,1,10,11,12,13,14,15,99])\n",
    "a"
   ]
  },
  {
   "cell_type": "code",
   "execution_count": 105,
   "id": "1873e518",
   "metadata": {
    "ExecuteTime": {
     "end_time": "2025-04-25T08:26:20.195037Z",
     "start_time": "2025-04-25T08:26:20.171102Z"
    }
   },
   "outputs": [
    {
     "data": {
      "text/plain": [
       "array([ True, False,  True, False,  True, False,  True, False, False])"
      ]
     },
     "execution_count": 105,
     "metadata": {},
     "output_type": "execute_result"
    }
   ],
   "source": [
    "a % 2 == 0  # 논리배열"
   ]
  },
  {
   "cell_type": "code",
   "execution_count": 107,
   "id": "12e6f695",
   "metadata": {
    "ExecuteTime": {
     "end_time": "2025-04-25T08:27:10.049617Z",
     "start_time": "2025-04-25T08:27:10.024714Z"
    }
   },
   "outputs": [
    {
     "data": {
      "text/plain": [
       "array([ 0, 10, 12, 14])"
      ]
     },
     "execution_count": 107,
     "metadata": {},
     "output_type": "execute_result"
    }
   ],
   "source": [
    "a[[True, False, True, False, True, False, True, False, False]]"
   ]
  },
  {
   "cell_type": "code",
   "execution_count": 108,
   "id": "47ad891d",
   "metadata": {
    "ExecuteTime": {
     "end_time": "2025-04-25T08:27:39.335251Z",
     "start_time": "2025-04-25T08:27:39.310322Z"
    }
   },
   "outputs": [
    {
     "data": {
      "text/plain": [
       "array([ 0, 10, 12, 14])"
      ]
     },
     "execution_count": 108,
     "metadata": {},
     "output_type": "execute_result"
    }
   ],
   "source": [
    "a[a % 2 == 0] # 논리 배열을 이용한 인덱싱 시 True요소만 추출 "
   ]
  },
  {
   "cell_type": "code",
   "execution_count": 109,
   "id": "08255a17",
   "metadata": {
    "ExecuteTime": {
     "end_time": "2025-04-25T08:28:53.064111Z",
     "start_time": "2025-04-25T08:28:53.038180Z"
    }
   },
   "outputs": [
    {
     "data": {
      "text/plain": [
       "array([13, 14, 15, 99])"
      ]
     },
     "execution_count": 109,
     "metadata": {},
     "output_type": "execute_result"
    }
   ],
   "source": [
    "# a 에서 12 보다 큰 값만 추출\n",
    "a[a > 12]"
   ]
  },
  {
   "cell_type": "markdown",
   "id": "60d046b2",
   "metadata": {},
   "source": [
    "# 6절. 선형대수\n",
    "\n",
    "- 2차원 넘파이배열을 행렬\n",
    "    * 행렬곱 : @, dot(), 단위행렬\n",
    "    * 역행렬 : np.linalg.inv(행렬) : 역행렬@행렬 - 단위행렬\n",
    "    * 전치행렬 : 행렬.T / 행렬.transpose()"
   ]
  },
  {
   "cell_type": "code",
   "execution_count": 111,
   "id": "fef93d28",
   "metadata": {
    "ExecuteTime": {
     "end_time": "2025-04-25T08:52:09.537367Z",
     "start_time": "2025-04-25T08:52:09.518419Z"
    }
   },
   "outputs": [
    {
     "data": {
      "text/plain": [
       "array([[1, 2],\n",
       "       [3, 4]])"
      ]
     },
     "execution_count": 111,
     "metadata": {},
     "output_type": "execute_result"
    }
   ],
   "source": [
    "a = np.array([[1, 2], [3, 4]])\n",
    "a  # 정방행렬 : 정방행렬만 역행렬을 구할 수 있다."
   ]
  },
  {
   "cell_type": "code",
   "execution_count": null,
   "id": "54b420d4",
   "metadata": {},
   "outputs": [],
   "source": []
  },
  {
   "cell_type": "code",
   "execution_count": null,
   "id": "38632c89",
   "metadata": {},
   "outputs": [],
   "source": []
  },
  {
   "cell_type": "code",
   "execution_count": 113,
   "id": "1267c0a3",
   "metadata": {
    "ExecuteTime": {
     "end_time": "2025-04-25T08:53:35.882824Z",
     "start_time": "2025-04-25T08:53:35.855900Z"
    }
   },
   "outputs": [
    {
     "data": {
      "text/plain": [
       "array([[-2. ,  1. ],\n",
       "       [ 1.5, -0.5]])"
      ]
     },
     "execution_count": 113,
     "metadata": {},
     "output_type": "execute_result"
    }
   ],
   "source": [
    "# a의 역행렬 : a의 역행렬 @ a = a @ a의 역행렬 -> 단위행렬\n",
    "np.linalg.inv(a)"
   ]
  },
  {
   "cell_type": "code",
   "execution_count": 115,
   "id": "c5152b6a",
   "metadata": {
    "ExecuteTime": {
     "end_time": "2025-04-25T08:55:19.232395Z",
     "start_time": "2025-04-25T08:55:19.222383Z"
    }
   },
   "outputs": [
    {
     "data": {
      "text/plain": [
       "array([[1.0000000e+00, 4.4408921e-16],\n",
       "       [0.0000000e+00, 1.0000000e+00]])"
      ]
     },
     "execution_count": 115,
     "metadata": {},
     "output_type": "execute_result"
    }
   ],
   "source": [
    "# 단위행렬\n",
    "np.linalg.inv(a) @ a"
   ]
  },
  {
   "cell_type": "markdown",
   "id": "d433dd1a",
   "metadata": {},
   "source": [
    "## 6.1. 선형 연립 방정식 풀기 (독립변수1, 데이터2)"
   ]
  },
  {
   "cell_type": "code",
   "execution_count": 30,
   "id": "eaaceaa9",
   "metadata": {
    "ExecuteTime": {
     "end_time": "2025-04-28T00:52:51.264638Z",
     "start_time": "2025-04-28T00:52:51.249017Z"
    }
   },
   "outputs": [
    {
     "data": {
      "text/plain": [
       "(array([[2., 1.],\n",
       "        [4., 1.]]),\n",
       " (2, 2))"
      ]
     },
     "execution_count": 30,
     "metadata": {},
     "output_type": "execute_result"
    }
   ],
   "source": [
    "x = np.array([2, 4])  # 독립변수\n",
    "Y = np.array([40, 60])  # 종속변수\n",
    "\n",
    "# X = np.dstack((x, np.ones(len(x)))) # dstack : 차원증가\n",
    "X = np.column_stack((x, np.ones(len(x))))\n",
    "\n",
    "X, X.shape"
   ]
  },
  {
   "cell_type": "code",
   "execution_count": 31,
   "id": "12addd49",
   "metadata": {
    "ExecuteTime": {
     "end_time": "2025-04-28T00:52:52.814301Z",
     "start_time": "2025-04-28T00:52:52.794073Z"
    }
   },
   "outputs": [
    {
     "data": {
      "text/plain": [
       "array([[40],\n",
       "       [60]])"
      ]
     },
     "execution_count": 31,
     "metadata": {},
     "output_type": "execute_result"
    }
   ],
   "source": [
    "Y.reshape(-1,1) # 출력결과가 나오면, Y는 그대로, return \n",
    "# Y = Y.reshape(-1,1)\n",
    "# Y"
   ]
  },
  {
   "cell_type": "code",
   "execution_count": 32,
   "id": "51c6d97c",
   "metadata": {
    "ExecuteTime": {
     "end_time": "2025-04-28T00:52:55.753812Z",
     "start_time": "2025-04-28T00:52:55.735288Z"
    }
   },
   "outputs": [
    {
     "data": {
      "text/plain": [
       "array([10., 20.])"
      ]
     },
     "execution_count": 32,
     "metadata": {},
     "output_type": "execute_result"
    }
   ],
   "source": [
    "# X @ wb = Y\n",
    "# X의 역행렬 @ X @ wb = X의 역행렬 @ Y\n",
    "# wb = X의 역행렬 @ Y\n",
    "# print(X, Y)\n",
    "wb = np.linalg.inv(X) @ Y\n",
    "wb"
   ]
  },
  {
   "cell_type": "code",
   "execution_count": 33,
   "id": "17bf3842",
   "metadata": {
    "ExecuteTime": {
     "end_time": "2025-04-28T00:52:58.667613Z",
     "start_time": "2025-04-28T00:52:58.474579Z"
    }
   },
   "outputs": [
    {
     "data": {
      "image/png": "[encoded data removed]",
      "text/plain": [
       "<Figure size 640x480 with 1 Axes>"
      ]
     },
     "metadata": {},
     "output_type": "display_data"
    }
   ],
   "source": [
    "import matplotlib.pyplot as plt\n",
    "\n",
    "plt.scatter(x, Y)\n",
    "plt.plot(x, 10 * x + 20, 'r') # r은 RED 색상\n",
    "plt.show()"
   ]
  },
  {
   "cell_type": "code",
   "execution_count": 34,
   "id": "d888ef13",
   "metadata": {
    "ExecuteTime": {
     "end_time": "2025-04-28T00:53:00.999117Z",
     "start_time": "2025-04-28T00:53:00.981801Z"
    }
   },
   "outputs": [
    {
     "data": {
      "text/plain": [
       "array([10., 20.])"
      ]
     },
     "execution_count": 34,
     "metadata": {},
     "output_type": "execute_result"
    }
   ],
   "source": [
    "np.linalg.solve(X, Y) # w (기울기), b (Y절편)을 구하는 함수"
   ]
  },
  {
   "cell_type": "markdown",
   "id": "045bb4df",
   "metadata": {},
   "source": [
    "## 6.2. 선형연립방정식 풀기(회귀분석) : 독립변수 1개, 데이터 n개\n",
    "\n"
   ]
  },
  {
   "cell_type": "code",
   "execution_count": 43,
   "id": "7fcbf90f",
   "metadata": {
    "ExecuteTime": {
     "end_time": "2025-04-28T01:06:49.505370Z",
     "start_time": "2025-04-28T01:06:49.473124Z"
    }
   },
   "outputs": [
    {
     "data": {
      "text/plain": [
       "array([[ 32.,   1.],\n",
       "       [ 64.,   1.],\n",
       "       [ 96.,   1.],\n",
       "       [118.,   1.]])"
      ]
     },
     "execution_count": 43,
     "metadata": {},
     "output_type": "execute_result"
    }
   ],
   "source": [
    "x = np.array([32, 64, 96, 118])\n",
    "X = np.c_[x, np.ones(len(x))]\n",
    "X # 정방행렬이 아님\n"
   ]
  },
  {
   "cell_type": "code",
   "execution_count": null,
   "id": "a1f028fc",
   "metadata": {},
   "outputs": [],
   "source": [
    "# np.linalg.inv(X) X가 정방행렬이 아니면 역행렬을 구할 수 없음"
   ]
  },
  {
   "cell_type": "code",
   "execution_count": 44,
   "id": "6b1c3e41",
   "metadata": {
    "ExecuteTime": {
     "end_time": "2025-04-28T01:07:53.906070Z",
     "start_time": "2025-04-28T01:07:53.892102Z"
    }
   },
   "outputs": [],
   "source": [
    "# X의 역행렬 @ X @ wb = X 의 역행렬 @Y"
   ]
  },
  {
   "cell_type": "code",
   "execution_count": 46,
   "id": "7b54a202",
   "metadata": {
    "ExecuteTime": {
     "end_time": "2025-04-28T01:09:10.108296Z",
     "start_time": "2025-04-28T01:09:10.092327Z"
    }
   },
   "outputs": [
    {
     "data": {
      "text/plain": [
       "(array([[ 32.,  64.,  96., 118.],\n",
       "        [  1.,   1.,   1.,   1.]]),\n",
       " array([[ 32.,  64.,  96., 118.],\n",
       "        [  1.,   1.,   1.,   1.]]))"
      ]
     },
     "execution_count": 46,
     "metadata": {},
     "output_type": "execute_result"
    }
   ],
   "source": [
    "X.T, X.transpose() # 전치행렬"
   ]
  },
  {
   "cell_type": "code",
   "execution_count": 47,
   "id": "563e7bc5",
   "metadata": {
    "ExecuteTime": {
     "end_time": "2025-04-28T01:10:48.376328Z",
     "start_time": "2025-04-28T01:10:48.362331Z"
    }
   },
   "outputs": [
    {
     "data": {
      "text/plain": [
       "array([[2.826e+04, 3.100e+02],\n",
       "       [3.100e+02, 4.000e+00]])"
      ]
     },
     "execution_count": 47,
     "metadata": {},
     "output_type": "execute_result"
    }
   ],
   "source": [
    "X_ = X.T @ X\n",
    "X_"
   ]
  },
  {
   "cell_type": "code",
   "execution_count": 49,
   "id": "09f0566f",
   "metadata": {
    "ExecuteTime": {
     "end_time": "2025-04-28T01:13:27.636333Z",
     "start_time": "2025-04-28T01:13:27.620333Z"
    }
   },
   "outputs": [
    {
     "data": {
      "text/plain": [
       "array([[1., 0.],\n",
       "       [0., 1.]])"
      ]
     },
     "execution_count": 49,
     "metadata": {},
     "output_type": "execute_result"
    }
   ],
   "source": [
    "# X가 정방행렬이 아닐 경우, X.T @ X 로 정방행렬을 만든 후 역행렬을 곱\n",
    "np.linalg.inv(X_) @ X_"
   ]
  },
  {
   "cell_type": "code",
   "execution_count": 3,
   "id": "3f896ee2",
   "metadata": {
    "ExecuteTime": {
     "end_time": "2025-04-28T05:14:02.308223Z",
     "start_time": "2025-04-28T05:14:02.289011Z"
    }
   },
   "outputs": [
    {
     "data": {
      "text/plain": [
       "(array([[ 32. ,   1. ],\n",
       "        [ 64. ,   1. ],\n",
       "        [ 96. ,   1. ],\n",
       "        [118. ,   1. ],\n",
       "        [126. ,   1. ],\n",
       "        [144. ,   1. ],\n",
       "        [152.5,   1. ],\n",
       "        [158. ,   1. ]]),\n",
       " array([[ 18. ],\n",
       "        [ 24. ],\n",
       "        [ 61.5],\n",
       "        [ 49. ],\n",
       "        [ 52. ],\n",
       "        [105. ],\n",
       "        [130.3],\n",
       "        [125. ]]))"
      ]
     },
     "execution_count": 3,
     "metadata": {},
     "output_type": "execute_result"
    }
   ],
   "source": [
    "x = np.array([32, 64, 96, 118, 126, 144, 152.5, 158])\n",
    "y = np.array([18, 24, 61.5, 49, 52, 105, 130.3, 125])\n",
    "X = np.c_[x, np.ones(len(x))] # np.c_[x, np.ones(x.shape[0])]\n",
    "Y = y.reshape(-1, 1)\n",
    "X, Y"
   ]
  },
  {
   "cell_type": "code",
   "execution_count": null,
   "id": "28950adb",
   "metadata": {},
   "outputs": [],
   "source": []
  },
  {
   "cell_type": "code",
   "execution_count": null,
   "id": "69b56add",
   "metadata": {},
   "outputs": [],
   "source": []
  },
  {
   "cell_type": "code",
   "execution_count": 4,
   "id": "10f46aaf",
   "metadata": {
    "ExecuteTime": {
     "end_time": "2025-04-28T05:14:37.857612Z",
     "start_time": "2025-04-28T05:14:37.809346Z"
    },
    "code_folding": []
   },
   "outputs": [
    {
     "data": {
      "text/plain": [
       "array([[  0.87493126],\n",
       "       [-26.79078617]])"
      ]
     },
     "execution_count": 4,
     "metadata": {},
     "output_type": "execute_result"
    }
   ],
   "source": [
    "#              X @ wb  = Y\n",
    "#        X_(X.T @ X) @ wb  = X.T @ Y\n",
    "# (X.T @ X)의 역행렬 @ X.T @ X @ wb = (X.T @ X)의 역행렬 @ X.T @ Y\n",
    "    # X_의 역행렬 @ X_ @ wb = X_의 역행렬 @ X.T @ Y\n",
    "wb = np.linalg.inv(X.T @ X) @ X.T @ Y\n",
    "wb"
   ]
  },
  {
   "cell_type": "code",
   "execution_count": 5,
   "id": "2bec755a",
   "metadata": {
    "ExecuteTime": {
     "end_time": "2025-04-28T05:14:39.409117Z",
     "start_time": "2025-04-28T05:14:39.384120Z"
    }
   },
   "outputs": [
    {
     "name": "stdout",
     "output_type": "stream",
     "text": [
      "0.8749312625981291 -26.79078616795418\n",
      "독립변수 :  [ 32.   64.   96.  118.  126.  144.  152.5 158. ]\n",
      "종속변수 :  [ 18.   24.   61.5  49.   52.  105.  130.3 125. ]\n",
      "예측값 :  [  1.20701424  29.20481464  57.20261504  76.45110282  83.45055292\n",
      "  99.19931565 106.63623138 111.44835332]\n"
     ]
    }
   ],
   "source": [
    "print(wb[0, 0], wb[1, 0])  # 기울기와 Y절편\n",
    "\n",
    "y_hat = wb[0, 0] * x + wb[1, 0]\n",
    "print('독립변수 : ', x)\n",
    "print('종속변수 : ', y)\n",
    "print('예측값 : ', y_hat)"
   ]
  },
  {
   "cell_type": "code",
   "execution_count": 6,
   "id": "93f1f48c",
   "metadata": {
    "ExecuteTime": {
     "end_time": "2025-04-28T05:14:42.311898Z",
     "start_time": "2025-04-28T05:14:41.652733Z"
    }
   },
   "outputs": [
    {
     "data": {
      "image/png": "[encoded data removed]",
      "text/plain": [
       "<Figure size 500x300 with 1 Axes>"
      ]
     },
     "metadata": {},
     "output_type": "display_data"
    }
   ],
   "source": [
    "import matplotlib.pyplot as plt\n",
    "\n",
    "plt.figure(figsize=(5,3))\n",
    "plt.scatter(x, y)\n",
    "plt.plot(x, y_hat, 'r')\n",
    "plt.show()"
   ]
  },
  {
   "cell_type": "markdown",
   "id": "dd9a877f",
   "metadata": {},
   "source": [
    "# 7절. 연습문제\n",
    "\n",
    "## 7.1. 실습문제 (실습형)"
   ]
  },
  {
   "cell_type": "code",
   "execution_count": 118,
   "id": "3d8cfa49",
   "metadata": {
    "ExecuteTime": {
     "end_time": "2025-04-28T02:03:10.922778Z",
     "start_time": "2025-04-28T02:03:10.896336Z"
    }
   },
   "outputs": [
    {
     "name": "stdout",
     "output_type": "stream",
     "text": [
      "dict_keys(['data', 'target', 'frame', 'target_names', 'DESCR', 'feature_names', 'filename', 'data_module'])\n"
     ]
    },
    {
     "data": {
      "text/plain": [
       "array([[5.1, 3.5, 1.4, 0.2],\n",
       "       [4.9, 3. , 1.4, 0.2],\n",
       "       [4.7, 3.2, 1.3, 0.2],\n",
       "       [4.6, 3.1, 1.5, 0.2],\n",
       "       [5. , 3.6, 1.4, 0.2],\n",
       "       [5.4, 3.9, 1.7, 0.4],\n",
       "       [4.6, 3.4, 1.4, 0.3],\n",
       "       [5. , 3.4, 1.5, 0.2],\n",
       "       [4.4, 2.9, 1.4, 0.2],\n",
       "       [4.9, 3.1, 1.5, 0.1],\n",
       "       [5.4, 3.7, 1.5, 0.2],\n",
       "       [4.8, 3.4, 1.6, 0.2],\n",
       "       [4.8, 3. , 1.4, 0.1],\n",
       "       [4.3, 3. , 1.1, 0.1],\n",
       "       [5.8, 4. , 1.2, 0.2],\n",
       "       [5.7, 4.4, 1.5, 0.4],\n",
       "       [5.4, 3.9, 1.3, 0.4],\n",
       "       [5.1, 3.5, 1.4, 0.3],\n",
       "       [5.7, 3.8, 1.7, 0.3],\n",
       "       [5.1, 3.8, 1.5, 0.3],\n",
       "       [5.4, 3.4, 1.7, 0.2],\n",
       "       [5.1, 3.7, 1.5, 0.4],\n",
       "       [4.6, 3.6, 1. , 0.2],\n",
       "       [5.1, 3.3, 1.7, 0.5],\n",
       "       [4.8, 3.4, 1.9, 0.2],\n",
       "       [5. , 3. , 1.6, 0.2],\n",
       "       [5. , 3.4, 1.6, 0.4],\n",
       "       [5.2, 3.5, 1.5, 0.2],\n",
       "       [5.2, 3.4, 1.4, 0.2],\n",
       "       [4.7, 3.2, 1.6, 0.2],\n",
       "       [4.8, 3.1, 1.6, 0.2],\n",
       "       [5.4, 3.4, 1.5, 0.4],\n",
       "       [5.2, 4.1, 1.5, 0.1],\n",
       "       [5.5, 4.2, 1.4, 0.2],\n",
       "       [4.9, 3.1, 1.5, 0.2],\n",
       "       [5. , 3.2, 1.2, 0.2],\n",
       "       [5.5, 3.5, 1.3, 0.2],\n",
       "       [4.9, 3.6, 1.4, 0.1],\n",
       "       [4.4, 3. , 1.3, 0.2],\n",
       "       [5.1, 3.4, 1.5, 0.2],\n",
       "       [5. , 3.5, 1.3, 0.3],\n",
       "       [4.5, 2.3, 1.3, 0.3],\n",
       "       [4.4, 3.2, 1.3, 0.2],\n",
       "       [5. , 3.5, 1.6, 0.6],\n",
       "       [5.1, 3.8, 1.9, 0.4],\n",
       "       [4.8, 3. , 1.4, 0.3],\n",
       "       [5.1, 3.8, 1.6, 0.2],\n",
       "       [4.6, 3.2, 1.4, 0.2],\n",
       "       [5.3, 3.7, 1.5, 0.2],\n",
       "       [5. , 3.3, 1.4, 0.2],\n",
       "       [7. , 3.2, 4.7, 1.4],\n",
       "       [6.4, 3.2, 4.5, 1.5],\n",
       "       [6.9, 3.1, 4.9, 1.5],\n",
       "       [5.5, 2.3, 4. , 1.3],\n",
       "       [6.5, 2.8, 4.6, 1.5],\n",
       "       [5.7, 2.8, 4.5, 1.3],\n",
       "       [6.3, 3.3, 4.7, 1.6],\n",
       "       [4.9, 2.4, 3.3, 1. ],\n",
       "       [6.6, 2.9, 4.6, 1.3],\n",
       "       [5.2, 2.7, 3.9, 1.4],\n",
       "       [5. , 2. , 3.5, 1. ],\n",
       "       [5.9, 3. , 4.2, 1.5],\n",
       "       [6. , 2.2, 4. , 1. ],\n",
       "       [6.1, 2.9, 4.7, 1.4],\n",
       "       [5.6, 2.9, 3.6, 1.3],\n",
       "       [6.7, 3.1, 4.4, 1.4],\n",
       "       [5.6, 3. , 4.5, 1.5],\n",
       "       [5.8, 2.7, 4.1, 1. ],\n",
       "       [6.2, 2.2, 4.5, 1.5],\n",
       "       [5.6, 2.5, 3.9, 1.1],\n",
       "       [5.9, 3.2, 4.8, 1.8],\n",
       "       [6.1, 2.8, 4. , 1.3],\n",
       "       [6.3, 2.5, 4.9, 1.5],\n",
       "       [6.1, 2.8, 4.7, 1.2],\n",
       "       [6.4, 2.9, 4.3, 1.3],\n",
       "       [6.6, 3. , 4.4, 1.4],\n",
       "       [6.8, 2.8, 4.8, 1.4],\n",
       "       [6.7, 3. , 5. , 1.7],\n",
       "       [6. , 2.9, 4.5, 1.5],\n",
       "       [5.7, 2.6, 3.5, 1. ],\n",
       "       [5.5, 2.4, 3.8, 1.1],\n",
       "       [5.5, 2.4, 3.7, 1. ],\n",
       "       [5.8, 2.7, 3.9, 1.2],\n",
       "       [6. , 2.7, 5.1, 1.6],\n",
       "       [5.4, 3. , 4.5, 1.5],\n",
       "       [6. , 3.4, 4.5, 1.6],\n",
       "       [6.7, 3.1, 4.7, 1.5],\n",
       "       [6.3, 2.3, 4.4, 1.3],\n",
       "       [5.6, 3. , 4.1, 1.3],\n",
       "       [5.5, 2.5, 4. , 1.3],\n",
       "       [5.5, 2.6, 4.4, 1.2],\n",
       "       [6.1, 3. , 4.6, 1.4],\n",
       "       [5.8, 2.6, 4. , 1.2],\n",
       "       [5. , 2.3, 3.3, 1. ],\n",
       "       [5.6, 2.7, 4.2, 1.3],\n",
       "       [5.7, 3. , 4.2, 1.2],\n",
       "       [5.7, 2.9, 4.2, 1.3],\n",
       "       [6.2, 2.9, 4.3, 1.3],\n",
       "       [5.1, 2.5, 3. , 1.1],\n",
       "       [5.7, 2.8, 4.1, 1.3],\n",
       "       [6.3, 3.3, 6. , 2.5],\n",
       "       [5.8, 2.7, 5.1, 1.9],\n",
       "       [7.1, 3. , 5.9, 2.1],\n",
       "       [6.3, 2.9, 5.6, 1.8],\n",
       "       [6.5, 3. , 5.8, 2.2],\n",
       "       [7.6, 3. , 6.6, 2.1],\n",
       "       [4.9, 2.5, 4.5, 1.7],\n",
       "       [7.3, 2.9, 6.3, 1.8],\n",
       "       [6.7, 2.5, 5.8, 1.8],\n",
       "       [7.2, 3.6, 6.1, 2.5],\n",
       "       [6.5, 3.2, 5.1, 2. ],\n",
       "       [6.4, 2.7, 5.3, 1.9],\n",
       "       [6.8, 3. , 5.5, 2.1],\n",
       "       [5.7, 2.5, 5. , 2. ],\n",
       "       [5.8, 2.8, 5.1, 2.4],\n",
       "       [6.4, 3.2, 5.3, 2.3],\n",
       "       [6.5, 3. , 5.5, 1.8],\n",
       "       [7.7, 3.8, 6.7, 2.2],\n",
       "       [7.7, 2.6, 6.9, 2.3],\n",
       "       [6. , 2.2, 5. , 1.5],\n",
       "       [6.9, 3.2, 5.7, 2.3],\n",
       "       [5.6, 2.8, 4.9, 2. ],\n",
       "       [7.7, 2.8, 6.7, 2. ],\n",
       "       [6.3, 2.7, 4.9, 1.8],\n",
       "       [6.7, 3.3, 5.7, 2.1],\n",
       "       [7.2, 3.2, 6. , 1.8],\n",
       "       [6.2, 2.8, 4.8, 1.8],\n",
       "       [6.1, 3. , 4.9, 1.8],\n",
       "       [6.4, 2.8, 5.6, 2.1],\n",
       "       [7.2, 3. , 5.8, 1.6],\n",
       "       [7.4, 2.8, 6.1, 1.9],\n",
       "       [7.9, 3.8, 6.4, 2. ],\n",
       "       [6.4, 2.8, 5.6, 2.2],\n",
       "       [6.3, 2.8, 5.1, 1.5],\n",
       "       [6.1, 2.6, 5.6, 1.4],\n",
       "       [7.7, 3. , 6.1, 2.3],\n",
       "       [6.3, 3.4, 5.6, 2.4],\n",
       "       [6.4, 3.1, 5.5, 1.8],\n",
       "       [6. , 3. , 4.8, 1.8],\n",
       "       [6.9, 3.1, 5.4, 2.1],\n",
       "       [6.7, 3.1, 5.6, 2.4],\n",
       "       [6.9, 3.1, 5.1, 2.3],\n",
       "       [5.8, 2.7, 5.1, 1.9],\n",
       "       [6.8, 3.2, 5.9, 2.3],\n",
       "       [6.7, 3.3, 5.7, 2.5],\n",
       "       [6.7, 3. , 5.2, 2.3],\n",
       "       [6.3, 2.5, 5. , 1.9],\n",
       "       [6.5, 3. , 5.2, 2. ],\n",
       "       [6.2, 3.4, 5.4, 2.3],\n",
       "       [5.9, 3. , 5.1, 1.8]])"
      ]
     },
     "execution_count": 118,
     "metadata": {},
     "output_type": "execute_result"
    }
   ],
   "source": [
    "# 1) 문제\n",
    "# 다음 코드는 iris 데이터의 독립변수(sepal_length, sepal_width, petal_length, petal_length)\n",
    "# 정보만 갖도록 한 코드입니다. 이를 이용해서 주어진 문제를 해결하세요.\n",
    "\n",
    "import numpy as np\n",
    "from sklearn import datasets\n",
    "iris = datasets.load_iris()\n",
    "print(iris.keys())\n",
    "iris.data = iris.data\n",
    "iris.data\n",
    "# type(iris_data), iris_data.dtype, iris_data.shape\n"
   ]
  },
  {
   "cell_type": "code",
   "execution_count": 255,
   "id": "5591d8e1",
   "metadata": {
    "ExecuteTime": {
     "end_time": "2025-04-28T03:35:09.980925Z",
     "start_time": "2025-04-28T03:35:09.960611Z"
    }
   },
   "outputs": [
    {
     "data": {
      "text/plain": [
       "array([5.84333333, 3.05733333, 3.758     , 1.19933333])"
      ]
     },
     "execution_count": 255,
     "metadata": {},
     "output_type": "execute_result"
    }
   ],
   "source": [
    "# 1. 열별 평균\n",
    "iris_data.mean(axis=0)\n",
    "np.mean(iris_data, axis=0)\n",
    "np.average(iris_data, axis=0) "
   ]
  },
  {
   "cell_type": "code",
   "execution_count": 104,
   "id": "d006bb96",
   "metadata": {
    "ExecuteTime": {
     "end_time": "2025-04-28T01:55:26.804403Z",
     "start_time": "2025-04-28T01:55:26.786227Z"
    }
   },
   "outputs": [
    {
     "data": {
      "text/html": [
       "<div>\n",
       "<style scoped>\n",
       "    .dataframe tbody tr th:only-of-type {\n",
       "        vertical-align: middle;\n",
       "    }\n",
       "\n",
       "    .dataframe tbody tr th {\n",
       "        vertical-align: top;\n",
       "    }\n",
       "\n",
       "    .dataframe thead th {\n",
       "        text-align: right;\n",
       "    }\n",
       "</style>\n",
       "<table border=\"1\" class=\"dataframe\">\n",
       "  <thead>\n",
       "    <tr style=\"text-align: right;\">\n",
       "      <th></th>\n",
       "      <th>sepal_length</th>\n",
       "      <th>sepal_width</th>\n",
       "      <th>petal_length</th>\n",
       "      <th>petal_width</th>\n",
       "      <th>species</th>\n",
       "    </tr>\n",
       "  </thead>\n",
       "  <tbody>\n",
       "    <tr>\n",
       "      <th>0</th>\n",
       "      <td>5.1</td>\n",
       "      <td>3.5</td>\n",
       "      <td>1.4</td>\n",
       "      <td>0.2</td>\n",
       "      <td>setosa</td>\n",
       "    </tr>\n",
       "    <tr>\n",
       "      <th>1</th>\n",
       "      <td>4.9</td>\n",
       "      <td>3.0</td>\n",
       "      <td>1.4</td>\n",
       "      <td>0.2</td>\n",
       "      <td>setosa</td>\n",
       "    </tr>\n",
       "    <tr>\n",
       "      <th>2</th>\n",
       "      <td>4.7</td>\n",
       "      <td>3.2</td>\n",
       "      <td>1.3</td>\n",
       "      <td>0.2</td>\n",
       "      <td>setosa</td>\n",
       "    </tr>\n",
       "    <tr>\n",
       "      <th>3</th>\n",
       "      <td>4.6</td>\n",
       "      <td>3.1</td>\n",
       "      <td>1.5</td>\n",
       "      <td>0.2</td>\n",
       "      <td>setosa</td>\n",
       "    </tr>\n",
       "    <tr>\n",
       "      <th>4</th>\n",
       "      <td>5.0</td>\n",
       "      <td>3.6</td>\n",
       "      <td>1.4</td>\n",
       "      <td>0.2</td>\n",
       "      <td>setosa</td>\n",
       "    </tr>\n",
       "  </tbody>\n",
       "</table>\n",
       "</div>"
      ],
      "text/plain": [
       "   sepal_length  sepal_width  petal_length  petal_width species\n",
       "0           5.1          3.5           1.4          0.2  setosa\n",
       "1           4.9          3.0           1.4          0.2  setosa\n",
       "2           4.7          3.2           1.3          0.2  setosa\n",
       "3           4.6          3.1           1.5          0.2  setosa\n",
       "4           5.0          3.6           1.4          0.2  setosa"
      ]
     },
     "execution_count": 104,
     "metadata": {},
     "output_type": "execute_result"
    }
   ],
   "source": [
    "import seaborn as sns\n",
    "sns.load_dataset('iris').head()"
   ]
  },
  {
   "cell_type": "code",
   "execution_count": 257,
   "id": "6f49eaa3",
   "metadata": {
    "ExecuteTime": {
     "end_time": "2025-04-28T03:36:23.406165Z",
     "start_time": "2025-04-28T03:36:23.385959Z"
    }
   },
   "outputs": [
    {
     "data": {
      "text/plain": [
       "array([[5.1, 3.5, 1.4, 0.2],\n",
       "       [4.9, 3. , 1.4, 0.2],\n",
       "       [4.7, 3.2, 1.3, 0.2],\n",
       "       [4.6, 3.1, 1.5, 0.2],\n",
       "       [5. , 3.6, 1.4, 0.2]])"
      ]
     },
     "execution_count": 257,
     "metadata": {},
     "output_type": "execute_result"
    }
   ],
   "source": [
    "# 2. 처음 다섯개 행을 출력하세요.\n",
    "iris.data[:5]"
   ]
  },
  {
   "cell_type": "code",
   "execution_count": 269,
   "id": "4b0193d9",
   "metadata": {
    "ExecuteTime": {
     "end_time": "2025-04-28T03:37:22.672439Z",
     "start_time": "2025-04-28T03:37:22.656378Z"
    }
   },
   "outputs": [
    {
     "data": {
      "text/plain": [
       "array([[5.1, 3.5, 1.4],\n",
       "       [4.9, 3. , 1.4],\n",
       "       [4.7, 3.2, 1.3],\n",
       "       [4.6, 3.1, 1.5],\n",
       "       [5. , 3.6, 1.4]])"
      ]
     },
     "execution_count": 269,
     "metadata": {},
     "output_type": "execute_result"
    }
   ],
   "source": [
    "# 3. 처음 다섯개 행에서 마지막 열을 제외한 나너지 열을 출려하세요\n",
    "ex3 = iris.data[:5,:-1]\n",
    "ex3"
   ]
  },
  {
   "cell_type": "code",
   "execution_count": 146,
   "id": "808840a7",
   "metadata": {
    "ExecuteTime": {
     "end_time": "2025-04-28T02:12:10.115938Z",
     "start_time": "2025-04-28T02:12:10.095992Z"
    }
   },
   "outputs": [
    {
     "data": {
      "text/plain": [
       "array([0.2, 0.2, 0.2, 0.2, 0.2])"
      ]
     },
     "execution_count": 146,
     "metadata": {},
     "output_type": "execute_result"
    }
   ],
   "source": [
    "# 4. 처음 다섯개 행에서 마지막 열만 출력하세요\n",
    "iris.data[:5,-1]"
   ]
  },
  {
   "cell_type": "code",
   "execution_count": null,
   "id": "6cd1be04",
   "metadata": {},
   "outputs": [],
   "source": [
    "# 5. 3번 배열과 4번 배열을 원래 모양이 되도록 합치세요. 실행 결과는 2번의 결과와 같아야 합니다."
   ]
  },
  {
   "cell_type": "code",
   "execution_count": 276,
   "id": "e2d643ad",
   "metadata": {
    "ExecuteTime": {
     "end_time": "2025-04-28T03:38:22.393604Z",
     "start_time": "2025-04-28T03:38:22.377981Z"
    }
   },
   "outputs": [
    {
     "name": "stdout",
     "output_type": "stream",
     "text": [
      "[[5.1 3.5 1.4 0.2]\n",
      " [4.9 3.  1.4 0.2]\n",
      " [4.7 3.2 1.3 0.2]\n",
      " [4.6 3.1 1.5 0.2]\n",
      " [5.  3.6 1.4 0.2]]\n"
     ]
    }
   ],
   "source": [
    "a_data = iris.data[:5,:-1]\n",
    "b_data = iris.data[:5,-1]\n",
    "result = np.c_[a_data, b_data] # 제일 많이 쓴다.\n",
    "\n",
    "# result = np.hstack([a_data, b_data.reshape(-1, 1)])\n",
    "print(result)"
   ]
  },
  {
   "cell_type": "code",
   "execution_count": 305,
   "id": "ad490fe5",
   "metadata": {
    "ExecuteTime": {
     "end_time": "2025-04-28T03:53:51.920993Z",
     "start_time": "2025-04-28T03:53:51.903743Z"
    }
   },
   "outputs": [
    {
     "data": {
      "text/plain": [
       "True"
      ]
     },
     "execution_count": 305,
     "metadata": {},
     "output_type": "execute_result"
    }
   ],
   "source": [
    "# 문제풀이형5. (2)\n",
    "a = np.array([1, 2, 3, 4, 5])\n",
    "b = np.array([6, 7, 8, 9, 10])\n",
    "answer1 = np.c_[a, b]\n",
    "answer2 = np.column_stack([a, b])\n",
    "answer3 = np.hstack((a[:, np.newaxis], b[:, np.newaxis]))\n",
    "answer4 = np.stack([a, b], axis=1)\n",
    "answer5 = np.stack([a, b], axis=-1)\n",
    "\n",
    "answers = [answer1, answer2, answer3, answer4, answer5]\n",
    "\n",
    "# all([np.all(answer1 == answer) for answer in answers])\n",
    "# all(np.all(answer1 == answer) for answer in answers)\n",
    "\n",
    "same_all(answer1, answer2, answer3, answer4, answer5)\n",
    "#same_all(*answers) # 9번쨰 줄부터를 대체\n",
    "\n",
    "# 위의 5개 답이 다 같은지 여부\n",
    "# np.all(answer1 == answer2)\n",
    "# np.all(answer1 == answer3)\n",
    "# np.all(answer1 == answer4)\n",
    "# np.all(answer1 == answer5)"
   ]
  },
  {
   "cell_type": "code",
   "execution_count": 304,
   "id": "e7b46ec7",
   "metadata": {
    "ExecuteTime": {
     "end_time": "2025-04-28T03:53:49.767495Z",
     "start_time": "2025-04-28T03:53:49.736444Z"
    }
   },
   "outputs": [],
   "source": [
    "def same_all(*answers):\n",
    "    if len(answers) > 0:\n",
    "        return all(np.all(answers[0] == answer) for answer in answers)\n",
    "    else:\n",
    "        return False"
   ]
  },
  {
   "cell_type": "code",
   "execution_count": 328,
   "id": "3899db62",
   "metadata": {
    "ExecuteTime": {
     "end_time": "2025-04-28T04:03:05.267406Z",
     "start_time": "2025-04-28T04:03:05.247692Z"
    }
   },
   "outputs": [
    {
     "name": "stdout",
     "output_type": "stream",
     "text": [
      "x [[5.1 3.5 1.4 0.2]\n",
      " [4.9 3.  1.4 0.2]\n",
      " [4.7 3.2 1.3 0.2]\n",
      " [4.6 3.1 1.5 0.2]\n",
      " [5.  3.6 1.4 0.2]]\n",
      "열평균 :  [4.86 3.28 1.4  0.2 ]\n",
      "[5.1 3.5 4.9 1.5 5.  3.6]\n"
     ]
    }
   ],
   "source": [
    "# 6. 처음 다섯 개 행을 이용해서 각 열 별로 평균보다 큰 값들만 출력하세요\n",
    "x = iris.data[:5].copy()\n",
    "print(\"x\", x)\n",
    "\n",
    "# 열평균\n",
    "c_means = np.mean(x, axis = 0)\n",
    "print(\"열평균 : \", c_means)\n",
    "\n",
    "result = x > c_means\n",
    "result\n",
    "\n",
    "values = x[result]\n",
    "print(values)\n"
   ]
  },
  {
   "cell_type": "code",
   "execution_count": 327,
   "id": "37f7b814",
   "metadata": {
    "ExecuteTime": {
     "end_time": "2025-04-28T04:02:49.634406Z",
     "start_time": "2025-04-28T04:02:49.611130Z"
    }
   },
   "outputs": [
    {
     "data": {
      "text/plain": [
       "array([[5.1, 3.5, nan, nan],\n",
       "       [4.9, nan, nan, nan],\n",
       "       [nan, nan, nan, nan],\n",
       "       [nan, nan, 1.5, nan],\n",
       "       [5. , 3.6, nan, nan]])"
      ]
     },
     "execution_count": 327,
     "metadata": {},
     "output_type": "execute_result"
    }
   ],
   "source": [
    "# 6. 다른 풀이\n",
    "\n",
    "x[x > np.mean(x, axis=0)]\n",
    "x[x <= np.mean(x, axis=0)] = None # 결측치(타입:float)\n",
    "x"
   ]
  },
  {
   "cell_type": "code",
   "execution_count": 333,
   "id": "cc8c7ae3",
   "metadata": {
    "ExecuteTime": {
     "end_time": "2025-04-28T04:04:48.501386Z",
     "start_time": "2025-04-28T04:04:48.482497Z"
    }
   },
   "outputs": [
    {
     "data": {
      "text/plain": [
       "array([[5.1, 3.5, None, None],\n",
       "       [4.9, None, None, None],\n",
       "       [None, None, None, None],\n",
       "       [None, None, 1.5, None],\n",
       "       [5.0, 3.6, None, None]], dtype=object)"
      ]
     },
     "execution_count": 333,
     "metadata": {},
     "output_type": "execute_result"
    }
   ],
   "source": [
    "x = iris.data[:5].copy()\n",
    "# 위의 결과를 출력\n",
    "np.where(x > np.mean(x, axis=0), x, None) # x의 배열은 안 바뀜"
   ]
  },
  {
   "cell_type": "markdown",
   "id": "27773be6",
   "metadata": {},
   "source": [
    "## 7.2. 실습문제 (문제풀이형)"
   ]
  },
  {
   "cell_type": "code",
   "execution_count": 335,
   "id": "69c2d293",
   "metadata": {
    "ExecuteTime": {
     "end_time": "2025-04-28T04:05:59.355550Z",
     "start_time": "2025-04-28T04:05:59.335298Z"
    }
   },
   "outputs": [
    {
     "name": "stdout",
     "output_type": "stream",
     "text": [
      "a [[ 0  1  2  3]\n",
      " [ 4  5  6  7]\n",
      " [ 8  9 10 11]]\n",
      "a.sum(0) [12 15 18 21]\n"
     ]
    }
   ],
   "source": [
    "# 1. 다음 보기의 데이터가 있을 경우 print(a.sum(0))의 결과는?\n",
    "import numpy as np\n",
    "a = np.arange(12).reshape(3,4)\n",
    "print(\"a\", a)\n",
    "print(\"a.sum(0)\", a.sum(0))\n",
    "\n",
    "# 정답 : 3번"
   ]
  },
  {
   "cell_type": "code",
   "execution_count": 336,
   "id": "107b5f60",
   "metadata": {
    "ExecuteTime": {
     "end_time": "2025-04-28T04:06:40.466774Z",
     "start_time": "2025-04-28T04:06:40.451152Z"
    }
   },
   "outputs": [
    {
     "name": "stdout",
     "output_type": "stream",
     "text": [
      "a [[4. 4. 8. 7.]\n",
      " [5. 3. 9. 5.]\n",
      " [7. 6. 9. 3.]]\n",
      "shape (3, 4)\n",
      "a.ravel() [4. 4. 8. 7. 5. 3. 9. 5. 7. 6. 9. 3.]\n",
      "reshape [[4. 4.]\n",
      " [8. 7.]\n",
      " [5. 3.]\n",
      " [9. 5.]\n",
      " [7. 6.]\n",
      " [9. 3.]]\n",
      "resize None\n",
      "a.T [[4. 8. 5. 9. 7. 9.]\n",
      " [4. 7. 3. 5. 6. 3.]]\n"
     ]
    }
   ],
   "source": [
    "# 2. a 데이터가 다음과 같을 떄, 다음중 차원을 바꿀 수 있는 방법을 모두 고르세요\n",
    "a = np.floor(10 * np.random.random((3, 4)))\n",
    "print(\"a\", a)\n",
    "\n",
    "print(\"shape\", a.shape)\n",
    "\n",
    "print(\"a.ravel()\",a.ravel())\n",
    "print(\"reshape\", a.reshape(6, 2))\n",
    "print(\"resize\", a.resize(6, 2))\n",
    "print(\"a.T\", a.T)\n",
    "\n",
    "# 정답 : 3"
   ]
  },
  {
   "cell_type": "code",
   "execution_count": 337,
   "id": "3c86ea6e",
   "metadata": {
    "ExecuteTime": {
     "end_time": "2025-04-28T04:07:07.965526Z",
     "start_time": "2025-04-28T04:07:07.943434Z"
    }
   },
   "outputs": [
    {
     "name": "stdout",
     "output_type": "stream",
     "text": [
      "a [[ 0  1  2  3]\n",
      " [ 4  5  6  7]\n",
      " [ 8  9 10 11]]\n",
      "\n",
      "a[:2] [[0 1 2 3]\n",
      " [4 5 6 7]]\n",
      "\n",
      "a[:, :2] [[0 1]\n",
      " [4 5]\n",
      " [8 9]]\n",
      "\n",
      "a[1,2] 6\n",
      "\n",
      "a[1][2] 6\n",
      "\n"
     ]
    }
   ],
   "source": [
    "# 3. 다음 데이터에서 첫번째 행과 두번째 행만 뽑아내고 싶습니다. 빈칸에 들어갈 내용으로 옳은 것을 고르세요.\n",
    "\n",
    "a = np.arange(12).reshape(3,4)\n",
    "print(\"a\", a , end=\"\\n\\n\")\n",
    "print(\"a[:2]\", a[:2], end=\"\\n\\n\")\n",
    "print(\"a[:, :2]\", a[:, :2], end=\"\\n\\n\")\n",
    "print(\"a[1,2]\",a[1,2], end=\"\\n\\n\")\n",
    "print(\"a[1][2]\", a[1][2], end=\"\\n\\n\")\n",
    "\n",
    "# 정답 : 1"
   ]
  },
  {
   "cell_type": "code",
   "execution_count": 229,
   "id": "499d4ba4",
   "metadata": {
    "ExecuteTime": {
     "end_time": "2025-04-28T02:52:32.154909Z",
     "start_time": "2025-04-28T02:52:32.134689Z"
    }
   },
   "outputs": [
    {
     "data": {
      "text/plain": [
       "array([1, 0, 3, 0, 0])"
      ]
     },
     "execution_count": 229,
     "metadata": {},
     "output_type": "execute_result"
    }
   ],
   "source": [
    "# 4.다음 코드의 실행 결과는 ?\n",
    "a = np.array([1,2,3,4,5])\n",
    "a[[1,3,4]] = 0\n",
    "a\n",
    "\n",
    "# 정답 : 2\n",
    "    \n",
    "    "
   ]
  },
  {
   "cell_type": "code",
   "execution_count": 235,
   "id": "ccb31798",
   "metadata": {
    "ExecuteTime": {
     "end_time": "2025-04-28T02:55:30.379945Z",
     "start_time": "2025-04-28T02:55:30.356763Z"
    }
   },
   "outputs": [
    {
     "name": "stdout",
     "output_type": "stream",
     "text": [
      "np.r_[a,b] [ 1  2  3  4  5  6  7  8  9 10]\n",
      "np.r_[a,b] [[ 1  6]\n",
      " [ 2  7]\n",
      " [ 3  8]\n",
      " [ 4  9]\n",
      " [ 5 10]]\n",
      "np.ix_(a,b) (array([[1],\n",
      "       [2],\n",
      "       [3],\n",
      "       [4],\n",
      "       [5]]), array([[ 6,  7,  8,  9, 10]]))\n",
      "[[a],[b]] [[array([1, 2, 3, 4, 5])], [array([ 6,  7,  8,  9, 10])]]\n"
     ]
    }
   ],
   "source": [
    "# 5.다음 두 배열 a, b를 출력의 예시처럼 만들고 싶을 때 빈 칸에 입력해야 할 내용으로 바른 것은?\n",
    "\n",
    "a = np.array([1,2,3,4,5])\n",
    "b = np.array([6,7,8,9,10])\n",
    "\n",
    "print(\"np.r_[a,b]\",np.r_[a,b])\n",
    "print(\"np.r_[a,b]\",np.c_[a,b])\n",
    "print(\"np.ix_(a,b)\",np.ix_(a,b))\n",
    "print(\"[[a],[b]]\",[[a],[b]])\n",
    "\n",
    "# 정답 : 2번"
   ]
  }
 ],
 "metadata": {
  "kernelspec": {
   "display_name": "Python 3 (ipykernel)",
   "language": "python",
   "name": "python3"
  },
  "language_info": {
   "codemirror_mode": {
    "name": "ipython",
    "version": 3
   },
   "file_extension": ".py",
   "mimetype": "text/x-python",
   "name": "python",
   "nbconvert_exporter": "python",
   "pygments_lexer": "ipython3",
   "version": "3.10.9"
  },
  "toc": {
   "base_numbering": 1,
   "nav_menu": {},
   "number_sections": false,
   "sideBar": true,
   "skip_h1_title": false,
   "title_cell": "Table of Contents",
   "title_sidebar": "Contents",
   "toc_cell": false,
   "toc_position": {
    "height": "calc(100% - 180px)",
    "left": "10px",
    "top": "150px",
    "width": "165px"
   },
   "toc_section_display": true,
   "toc_window_display": true
  },
  "varInspector": {
   "cols": {
    "lenName": 16,
    "lenType": 16,
    "lenVar": 40
   },
   "kernels_config": {
    "python": {
     "delete_cmd_postfix": "",
     "delete_cmd_prefix": "del ",
     "library": "var_list.py",
     "varRefreshCmd": "print(var_dic_list())"
    },
    "r": {
     "delete_cmd_postfix": ") ",
     "delete_cmd_prefix": "rm(",
     "library": "var_list.r",
     "varRefreshCmd": "cat(var_dic_list()) "
    }
   },
   "types_to_exclude": [
    "module",
    "function",
    "builtin_function_or_method",
    "instance",
    "_Feature"
   ],
   "window_display": false
  }
 },
 "nbformat": 4,
 "nbformat_minor": 5
}
