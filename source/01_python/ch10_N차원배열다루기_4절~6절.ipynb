{
 "cells": [
  {
   "cell_type": "code",
   "execution_count": 1,
   "id": "73b3c484",
   "metadata": {
    "ExecuteTime": {
     "end_time": "2025-04-25T07:14:13.984592Z",
     "start_time": "2025-04-25T07:14:13.955892Z"
    }
   },
   "outputs": [
    {
     "data": {
      "text/html": [
       "\n",
       "<style>\n",
       "* {font-family:Consolas;}\n",
       "div.container{width:87% !important;}\n",
       "div.cell.code_cell.rendered{width:100%;}\n",
       "div.CodeMirror {font-size:12pt;}\n",
       "div.output {font-size:12pt; font-weight:bold;}\n",
       "div.input { font-size:12pt;}\n",
       "div.prompt {min-width:70px;}\n",
       "div#toc-wrapper{padding-top:120px;}\n",
       "div.text_cell_render ul li{font-size:12pt;padding:3px;}\n",
       "table.dataframe{font-size:12px;}\n",
       "</style>\n"
      ],
      "text/plain": [
       "<IPython.core.display.HTML object>"
      ]
     },
     "metadata": {},
     "output_type": "display_data"
    }
   ],
   "source": [
    "from IPython.display import display, HTML\n",
    "\n",
    "display(\n",
    "    HTML(\"\"\"\n",
    "<style>\n",
    "* {font-family:Consolas;}\n",
    "div.container{width:87% !important;}\n",
    "div.cell.code_cell.rendered{width:100%;}\n",
    "div.CodeMirror {font-size:12pt;}\n",
    "div.output {font-size:12pt; font-weight:bold;}\n",
    "div.input { font-size:12pt;}\n",
    "div.prompt {min-width:70px;}\n",
    "div#toc-wrapper{padding-top:120px;}\n",
    "div.text_cell_render ul li{font-size:12pt;padding:3px;}\n",
    "table.dataframe{font-size:12px;}\n",
    "</style>\n",
    "\"\"\"))"
   ]
  },
  {
   "cell_type": "markdown",
   "id": "851f7eb0",
   "metadata": {},
   "source": [
    "<font size=\"5\" color=\"red\">ch10_N차원배열다루기_4절~6절</font>\n",
    "\n",
    "# 4절. 복사와 뷰\n",
    "\n",
    "## 4.1. 할당"
   ]
  },
  {
   "cell_type": "code",
   "execution_count": 2,
   "id": "673b4bc6",
   "metadata": {
    "ExecuteTime": {
     "end_time": "2025-04-25T07:14:56.713854Z",
     "start_time": "2025-04-25T07:14:56.691001Z"
    }
   },
   "outputs": [],
   "source": [
    "import numpy as np"
   ]
  },
  {
   "cell_type": "code",
   "execution_count": 3,
   "id": "9cc1a5cf",
   "metadata": {
    "ExecuteTime": {
     "end_time": "2025-04-25T07:15:15.531437Z",
     "start_time": "2025-04-25T07:15:15.508498Z"
    }
   },
   "outputs": [
    {
     "data": {
      "text/plain": [
       "array([0, 1, 2, 3, 4, 5])"
      ]
     },
     "execution_count": 3,
     "metadata": {},
     "output_type": "execute_result"
    }
   ],
   "source": [
    "a = np.arange(6)\n",
    "a"
   ]
  },
  {
   "cell_type": "code",
   "execution_count": 5,
   "id": "26df266c",
   "metadata": {
    "ExecuteTime": {
     "end_time": "2025-04-25T07:15:50.155801Z",
     "start_time": "2025-04-25T07:15:50.130959Z"
    }
   },
   "outputs": [
    {
     "data": {
      "text/plain": [
       "array([0, 1, 2, 3, 4, 5])"
      ]
     },
     "execution_count": 5,
     "metadata": {},
     "output_type": "execute_result"
    }
   ],
   "source": [
    "b = a\n",
    "b"
   ]
  },
  {
   "cell_type": "code",
   "execution_count": 7,
   "id": "f0d32394",
   "metadata": {
    "ExecuteTime": {
     "end_time": "2025-04-25T07:16:36.094788Z",
     "start_time": "2025-04-25T07:16:36.069278Z"
    }
   },
   "outputs": [
    {
     "data": {
      "text/plain": [
       "True"
      ]
     },
     "execution_count": 7,
     "metadata": {},
     "output_type": "execute_result"
    }
   ],
   "source": [
    "# a 와 b가 같은 객체냐?\n",
    "a is b"
   ]
  },
  {
   "cell_type": "code",
   "execution_count": 10,
   "id": "688e7c3d",
   "metadata": {
    "ExecuteTime": {
     "end_time": "2025-04-25T07:17:13.454631Z",
     "start_time": "2025-04-25T07:17:13.441653Z"
    }
   },
   "outputs": [
    {
     "data": {
      "text/plain": [
       "array([[0, 1, 2],\n",
       "       [3, 4, 5]])"
      ]
     },
     "execution_count": 10,
     "metadata": {},
     "output_type": "execute_result"
    }
   ],
   "source": [
    "b.shape = (2,3)\n",
    "b"
   ]
  },
  {
   "cell_type": "code",
   "execution_count": 11,
   "id": "4ab3a715",
   "metadata": {
    "ExecuteTime": {
     "end_time": "2025-04-25T07:17:14.861663Z",
     "start_time": "2025-04-25T07:17:14.837039Z"
    }
   },
   "outputs": [
    {
     "data": {
      "text/plain": [
       "array([[0, 1, 2],\n",
       "       [3, 4, 5]])"
      ]
     },
     "execution_count": 11,
     "metadata": {},
     "output_type": "execute_result"
    }
   ],
   "source": [
    "a"
   ]
  },
  {
   "cell_type": "markdown",
   "id": "93082e43",
   "metadata": {},
   "source": [
    "## 4.2. 뷰 (VIEW)\n",
    "\n",
    "- 슬라이싱할 경우 자동 view 생성"
   ]
  },
  {
   "cell_type": "code",
   "execution_count": 13,
   "id": "69e02d28",
   "metadata": {
    "ExecuteTime": {
     "end_time": "2025-04-25T07:19:07.998362Z",
     "start_time": "2025-04-25T07:19:07.972512Z"
    }
   },
   "outputs": [
    {
     "data": {
      "text/plain": [
       "array([[ 0,  1,  2,  3,  4,  5],\n",
       "       [ 6,  7,  8,  9, 10, 11]])"
      ]
     },
     "execution_count": 13,
     "metadata": {},
     "output_type": "execute_result"
    }
   ],
   "source": [
    "c = np.arange(12).reshape(2, -1)\n",
    "c"
   ]
  },
  {
   "cell_type": "code",
   "execution_count": 15,
   "id": "bc7b22eb",
   "metadata": {
    "ExecuteTime": {
     "end_time": "2025-04-25T07:21:07.885073Z",
     "start_time": "2025-04-25T07:21:07.873413Z"
    }
   },
   "outputs": [
    {
     "data": {
      "text/plain": [
       "False"
      ]
     },
     "execution_count": 15,
     "metadata": {},
     "output_type": "execute_result"
    }
   ],
   "source": [
    "d = c.view()  # c의 뷰 생성 : 얇은 복사\n",
    "d is c  # c객체와 d객체가 같냐?"
   ]
  },
  {
   "cell_type": "code",
   "execution_count": 16,
   "id": "ba433d9a",
   "metadata": {
    "ExecuteTime": {
     "end_time": "2025-04-25T07:21:39.630358Z",
     "start_time": "2025-04-25T07:21:39.611336Z"
    }
   },
   "outputs": [
    {
     "data": {
      "text/plain": [
       "(2758303887120, 2758303889232)"
      ]
     },
     "execution_count": 16,
     "metadata": {},
     "output_type": "execute_result"
    }
   ],
   "source": [
    "id(c), id(d)"
   ]
  },
  {
   "cell_type": "code",
   "execution_count": 23,
   "id": "a15b604b",
   "metadata": {
    "ExecuteTime": {
     "end_time": "2025-04-25T07:23:28.896014Z",
     "start_time": "2025-04-25T07:23:28.869513Z"
    }
   },
   "outputs": [
    {
     "data": {
      "text/plain": [
       "True"
      ]
     },
     "execution_count": 23,
     "metadata": {},
     "output_type": "execute_result"
    }
   ],
   "source": [
    "np.all(c == d) # c 와 d 의 내용이 모두 같음"
   ]
  },
  {
   "cell_type": "code",
   "execution_count": 26,
   "id": "e7d1d0fb",
   "metadata": {
    "ExecuteTime": {
     "end_time": "2025-04-25T07:23:48.834752Z",
     "start_time": "2025-04-25T07:23:48.809873Z"
    }
   },
   "outputs": [
    {
     "data": {
      "text/plain": [
       "array([[ 0,  1,  2,  3],\n",
       "       [ 4,  5,  6,  7],\n",
       "       [ 8,  9, 10, 11]])"
      ]
     },
     "execution_count": 26,
     "metadata": {},
     "output_type": "execute_result"
    }
   ],
   "source": [
    "d.shape = (3, 4)\n",
    "d"
   ]
  },
  {
   "cell_type": "code",
   "execution_count": 27,
   "id": "adcfcefd",
   "metadata": {
    "ExecuteTime": {
     "end_time": "2025-04-25T07:24:04.319103Z",
     "start_time": "2025-04-25T07:24:04.294170Z"
    }
   },
   "outputs": [
    {
     "data": {
      "text/plain": [
       "array([[ 0,  1,  2,  3,  4,  5],\n",
       "       [ 6,  7,  8,  9, 10, 11]])"
      ]
     },
     "execution_count": 27,
     "metadata": {},
     "output_type": "execute_result"
    }
   ],
   "source": [
    "c"
   ]
  },
  {
   "cell_type": "code",
   "execution_count": 31,
   "id": "5d0ff824",
   "metadata": {
    "ExecuteTime": {
     "end_time": "2025-04-25T07:28:40.733333Z",
     "start_time": "2025-04-25T07:28:40.715381Z"
    }
   },
   "outputs": [
    {
     "data": {
      "text/plain": [
       "array([[-99,   1, -99,   3],\n",
       "       [  4,   5,   6,   7],\n",
       "       [  8,   9,  10,  11]])"
      ]
     },
     "execution_count": 31,
     "metadata": {},
     "output_type": "execute_result"
    }
   ],
   "source": [
    "d[0,::2] = -99\n",
    "d"
   ]
  },
  {
   "cell_type": "code",
   "execution_count": 33,
   "id": "f55b37a5",
   "metadata": {
    "ExecuteTime": {
     "end_time": "2025-04-25T07:32:34.017838Z",
     "start_time": "2025-04-25T07:32:34.005868Z"
    }
   },
   "outputs": [
    {
     "data": {
      "text/plain": [
       "array([[-99,   1, -99,   3,   4,   5],\n",
       "       [  6,   7,   8,   9,  10,  11]])"
      ]
     },
     "execution_count": 33,
     "metadata": {},
     "output_type": "execute_result"
    }
   ],
   "source": [
    "c"
   ]
  },
  {
   "cell_type": "code",
   "execution_count": 36,
   "id": "8653bcae",
   "metadata": {
    "ExecuteTime": {
     "end_time": "2025-04-25T07:33:12.506679Z",
     "start_time": "2025-04-25T07:33:12.479744Z"
    }
   },
   "outputs": [
    {
     "data": {
      "text/plain": [
       "array([[ 0,  1,  2,  3,  4,  5],\n",
       "       [ 6,  7,  8,  9, 10, 11]])"
      ]
     },
     "execution_count": 36,
     "metadata": {},
     "output_type": "execute_result"
    }
   ],
   "source": [
    "# 슬라이싱이 될떄, 자동 뷰가 반환됨\n",
    "c = np.arange(12).reshape(2, 6)\n",
    "c"
   ]
  },
  {
   "cell_type": "code",
   "execution_count": 38,
   "id": "8c867cfa",
   "metadata": {
    "ExecuteTime": {
     "end_time": "2025-04-25T07:33:44.024461Z",
     "start_time": "2025-04-25T07:33:44.000744Z"
    }
   },
   "outputs": [
    {
     "data": {
      "text/plain": [
       "array([[ 0,  1,  2,  3,  4],\n",
       "       [ 6,  7,  8,  9, 10]])"
      ]
     },
     "execution_count": 38,
     "metadata": {},
     "output_type": "execute_result"
    }
   ],
   "source": [
    "d = c[:,:-1]\n",
    "d"
   ]
  },
  {
   "cell_type": "code",
   "execution_count": 39,
   "id": "591682a7",
   "metadata": {
    "ExecuteTime": {
     "end_time": "2025-04-25T07:36:45.702672Z",
     "start_time": "2025-04-25T07:36:45.677748Z"
    }
   },
   "outputs": [
    {
     "data": {
      "text/plain": [
       "array([[ 0,  1,  2,  3, 99],\n",
       "       [ 6,  7,  8,  9, 99]])"
      ]
     },
     "execution_count": 39,
     "metadata": {},
     "output_type": "execute_result"
    }
   ],
   "source": [
    "d[..., -1] = 99\n",
    "d"
   ]
  },
  {
   "cell_type": "code",
   "execution_count": 40,
   "id": "e5de24a0",
   "metadata": {
    "ExecuteTime": {
     "end_time": "2025-04-25T07:36:52.202319Z",
     "start_time": "2025-04-25T07:36:52.181405Z"
    }
   },
   "outputs": [
    {
     "data": {
      "text/plain": [
       "array([[ 0,  1,  2,  3, 99,  5],\n",
       "       [ 6,  7,  8,  9, 99, 11]])"
      ]
     },
     "execution_count": 40,
     "metadata": {},
     "output_type": "execute_result"
    }
   ],
   "source": [
    "c"
   ]
  },
  {
   "cell_type": "markdown",
   "id": "acc0b81e",
   "metadata": {},
   "source": [
    "## 4.3. 깊은복사"
   ]
  },
  {
   "cell_type": "code",
   "execution_count": 41,
   "id": "c1e68eed",
   "metadata": {
    "ExecuteTime": {
     "end_time": "2025-04-25T07:38:00.214183Z",
     "start_time": "2025-04-25T07:38:00.187252Z"
    }
   },
   "outputs": [
    {
     "data": {
      "text/plain": [
       "array([[ 0,  1,  2,  3,  4,  5],\n",
       "       [ 6,  7,  8,  9, 10, 11]])"
      ]
     },
     "execution_count": 41,
     "metadata": {},
     "output_type": "execute_result"
    }
   ],
   "source": [
    "c = np.arange(12).reshape(2, 6)\n",
    "c"
   ]
  },
  {
   "cell_type": "code",
   "execution_count": 47,
   "id": "5546e790",
   "metadata": {
    "ExecuteTime": {
     "end_time": "2025-04-25T07:39:11.631079Z",
     "start_time": "2025-04-25T07:39:11.618098Z"
    }
   },
   "outputs": [
    {
     "data": {
      "text/plain": [
       "array([[ 0,  1,  2, 99,  4],\n",
       "       [ 6,  7,  8, 99, 10]])"
      ]
     },
     "execution_count": 47,
     "metadata": {},
     "output_type": "execute_result"
    }
   ],
   "source": [
    "d = c[:, :-1].copy()  # 깊은 복사\n",
    "d[..., -2] = 99\n",
    "d"
   ]
  },
  {
   "cell_type": "code",
   "execution_count": 48,
   "id": "45ed6c19",
   "metadata": {
    "ExecuteTime": {
     "end_time": "2025-04-25T07:39:20.208818Z",
     "start_time": "2025-04-25T07:39:20.187874Z"
    }
   },
   "outputs": [
    {
     "data": {
      "text/plain": [
       "array([[ 0,  1,  2,  3,  4,  5],\n",
       "       [ 6,  7,  8,  9, 10, 11]])"
      ]
     },
     "execution_count": 48,
     "metadata": {},
     "output_type": "execute_result"
    }
   ],
   "source": [
    "c"
   ]
  },
  {
   "cell_type": "markdown",
   "id": "f9ae97aa",
   "metadata": {},
   "source": [
    "# 5절. 고급인덱싱\n",
    "\n",
    "## 5.1. 인덱싱 배열로 인덱싱"
   ]
  },
  {
   "cell_type": "code",
   "execution_count": 60,
   "id": "6e525d71",
   "metadata": {
    "ExecuteTime": {
     "end_time": "2025-04-25T07:44:43.875592Z",
     "start_time": "2025-04-25T07:44:43.857639Z"
    }
   },
   "outputs": [
    {
     "data": {
      "text/plain": [
       "array([  0,   1,   4,   9,  16,  25,  36,  49,  64,  81, 100, 121])"
      ]
     },
     "execution_count": 60,
     "metadata": {},
     "output_type": "execute_result"
    }
   ],
   "source": [
    "a = np.arange(12)**2\n",
    "a"
   ]
  },
  {
   "cell_type": "code",
   "execution_count": 61,
   "id": "69878a2d",
   "metadata": {
    "ExecuteTime": {
     "end_time": "2025-04-25T07:44:45.161603Z",
     "start_time": "2025-04-25T07:44:45.136658Z"
    }
   },
   "outputs": [
    {
     "data": {
      "text/plain": [
       "array([ 0,  0,  1, 25])"
      ]
     },
     "execution_count": 61,
     "metadata": {},
     "output_type": "execute_result"
    }
   ],
   "source": [
    "a[[0, 0, 1, 5]]"
   ]
  },
  {
   "cell_type": "code",
   "execution_count": 72,
   "id": "b376c3fd",
   "metadata": {
    "ExecuteTime": {
     "end_time": "2025-04-25T07:48:16.601629Z",
     "start_time": "2025-04-25T07:48:16.588666Z"
    }
   },
   "outputs": [
    {
     "data": {
      "text/plain": [
       "array([ 0,  0,  1, 25])"
      ]
     },
     "execution_count": 72,
     "metadata": {},
     "output_type": "execute_result"
    }
   ],
   "source": [
    "## 인덱싱하기 위한 값을 배열로 만듧\n",
    "i = np.array([0, 0, 1, 5])\n",
    "a[i]\n"
   ]
  },
  {
   "cell_type": "code",
   "execution_count": 65,
   "id": "2812ef21",
   "metadata": {
    "ExecuteTime": {
     "end_time": "2025-04-25T07:45:57.195280Z",
     "start_time": "2025-04-25T07:45:57.172342Z"
    }
   },
   "outputs": [
    {
     "data": {
      "text/plain": [
       "array([[ 0,  0],\n",
       "       [ 1, 25]])"
      ]
     },
     "execution_count": 65,
     "metadata": {},
     "output_type": "execute_result"
    }
   ],
   "source": [
    "# 인덱실하기 위한 값을 배열로 만듧\n",
    "j = np.array([[0,0],[1,5]])\n",
    "a[j]"
   ]
  },
  {
   "cell_type": "code",
   "execution_count": null,
   "id": "6c33b788",
   "metadata": {},
   "outputs": [],
   "source": [
    "# image_data = [\n",
    "#     [[255, 255, 255], [255, 255, 255][255, 255, 255][0, 0, 0]],\n",
    "# ]"
   ]
  },
  {
   "cell_type": "code",
   "execution_count": 75,
   "id": "2617f68b",
   "metadata": {
    "ExecuteTime": {
     "end_time": "2025-04-25T07:57:10.942202Z",
     "start_time": "2025-04-25T07:57:10.922259Z"
    }
   },
   "outputs": [],
   "source": [
    "palette = np.array([[0, 0, 0], # black\n",
    "                   [255, 0, 0], # red\n",
    "                   [0, 255, 0], # green\n",
    "                   [0, 0, 255], # blue\n",
    "                   [255, 255, 255]]) # white"
   ]
  },
  {
   "cell_type": "code",
   "execution_count": 93,
   "id": "99af0d1b",
   "metadata": {
    "ExecuteTime": {
     "end_time": "2025-04-25T08:20:27.130811Z",
     "start_time": "2025-04-25T08:20:27.123813Z"
    }
   },
   "outputs": [],
   "source": [
    "image_index = np.array([[4, 4, 4, 0, 0, 0, 0, 4, 4, 4],\n",
    "                        [4, 0, 0, 4, 4, 4, 4, 0, 0, 4],\n",
    "                        [0, 0, 4, 4, 4, 4, 4, 4, 0, 0],\n",
    "                        [0, 4, 4, 1, 4, 4, 3, 4, 4, 0],\n",
    "                        [0, 4, 4, 1, 4, 4, 3, 4, 4, 0],\n",
    "                        [0, 4, 4, 4, 4, 4, 4, 4, 4, 0],\n",
    "                        [0, 4, 4, 2, 4, 4, 2, 4, 4, 0],\n",
    "                        [4, 0, 4, 4, 2, 2, 4, 4, 0, 4],\n",
    "                        [4, 4, 0, 4, 4, 4, 4, 0, 4, 4],\n",
    "                        [4, 4, 4, 0, 0, 0, 0, 4, 4, 4]])\n",
    "# palette.shape\n",
    "image_data = palette[image_index]"
   ]
  },
  {
   "cell_type": "code",
   "execution_count": 95,
   "id": "c2cc98ef",
   "metadata": {
    "ExecuteTime": {
     "end_time": "2025-04-25T08:21:24.447661Z",
     "start_time": "2025-04-25T08:21:24.421756Z"
    }
   },
   "outputs": [
    {
     "data": {
      "text/plain": [
       "(10, 10, 3)"
      ]
     },
     "execution_count": 95,
     "metadata": {},
     "output_type": "execute_result"
    }
   ],
   "source": [
    "image_data.shape"
   ]
  },
  {
   "cell_type": "code",
   "execution_count": 100,
   "id": "d6f376d1",
   "metadata": {
    "ExecuteTime": {
     "end_time": "2025-04-25T08:23:29.568783Z",
     "start_time": "2025-04-25T08:23:29.439101Z"
    }
   },
   "outputs": [
    {
     "data": {
      "image/png": "[encoded data removed]",
      "text/plain": [
       "<Figure size 500x500 with 1 Axes>"
      ]
     },
     "metadata": {},
     "output_type": "display_data"
    }
   ],
   "source": [
    "from matplotlib import pyplot as plt\n",
    "plt.figure(figsize=(5,5))\n",
    "plt.imshow(image_data)\n",
    "plt.show()"
   ]
  },
  {
   "cell_type": "markdown",
   "id": "e5eb43a3",
   "metadata": {},
   "source": [
    "## 5.2. 논리 배열을 이용한 인덱싱"
   ]
  },
  {
   "cell_type": "code",
   "execution_count": 102,
   "id": "049011a9",
   "metadata": {
    "ExecuteTime": {
     "end_time": "2025-04-25T08:25:14.806431Z",
     "start_time": "2025-04-25T08:25:14.780522Z"
    }
   },
   "outputs": [
    {
     "data": {
      "text/plain": [
       "array([ 0,  1, 10, 11, 12, 13, 14, 15, 99])"
      ]
     },
     "execution_count": 102,
     "metadata": {},
     "output_type": "execute_result"
    }
   ],
   "source": [
    "a = np.array([0,1,10,11,12,13,14,15,99])\n",
    "a"
   ]
  },
  {
   "cell_type": "code",
   "execution_count": 105,
   "id": "1873e518",
   "metadata": {
    "ExecuteTime": {
     "end_time": "2025-04-25T08:26:20.195037Z",
     "start_time": "2025-04-25T08:26:20.171102Z"
    }
   },
   "outputs": [
    {
     "data": {
      "text/plain": [
       "array([ True, False,  True, False,  True, False,  True, False, False])"
      ]
     },
     "execution_count": 105,
     "metadata": {},
     "output_type": "execute_result"
    }
   ],
   "source": [
    "a % 2 == 0  # 논리배열"
   ]
  },
  {
   "cell_type": "code",
   "execution_count": 107,
   "id": "12e6f695",
   "metadata": {
    "ExecuteTime": {
     "end_time": "2025-04-25T08:27:10.049617Z",
     "start_time": "2025-04-25T08:27:10.024714Z"
    }
   },
   "outputs": [
    {
     "data": {
      "text/plain": [
       "array([ 0, 10, 12, 14])"
      ]
     },
     "execution_count": 107,
     "metadata": {},
     "output_type": "execute_result"
    }
   ],
   "source": [
    "a[[True, False, True, False, True, False, True, False, False]]"
   ]
  },
  {
   "cell_type": "code",
   "execution_count": 108,
   "id": "47ad891d",
   "metadata": {
    "ExecuteTime": {
     "end_time": "2025-04-25T08:27:39.335251Z",
     "start_time": "2025-04-25T08:27:39.310322Z"
    }
   },
   "outputs": [
    {
     "data": {
      "text/plain": [
       "array([ 0, 10, 12, 14])"
      ]
     },
     "execution_count": 108,
     "metadata": {},
     "output_type": "execute_result"
    }
   ],
   "source": [
    "a[a % 2 == 0] # 논리 배열을 이용한 인덱싱 시 True요소만 추출 "
   ]
  },
  {
   "cell_type": "code",
   "execution_count": 109,
   "id": "08255a17",
   "metadata": {
    "ExecuteTime": {
     "end_time": "2025-04-25T08:28:53.064111Z",
     "start_time": "2025-04-25T08:28:53.038180Z"
    }
   },
   "outputs": [
    {
     "data": {
      "text/plain": [
       "array([13, 14, 15, 99])"
      ]
     },
     "execution_count": 109,
     "metadata": {},
     "output_type": "execute_result"
    }
   ],
   "source": [
    "# a 에서 12 보다 큰 값만 추출\n",
    "a[a > 12]"
   ]
  },
  {
   "cell_type": "markdown",
   "id": "60d046b2",
   "metadata": {},
   "source": [
    "# 6절. 선형대수\n",
    "\n",
    "- 2차원 넘파이배열을 행렬\n",
    "    * 행렬곱 : @, dot(), 단위행렬\n",
    "    * 역행렬 : np.linalg.inv(행렬) : 역행렬@행렬 - 단위행렬\n",
    "    * 전치행렬 : 행렬.T / 행렬.transpose()"
   ]
  },
  {
   "cell_type": "code",
   "execution_count": 111,
   "id": "fef93d28",
   "metadata": {
    "ExecuteTime": {
     "end_time": "2025-04-25T08:52:09.537367Z",
     "start_time": "2025-04-25T08:52:09.518419Z"
    }
   },
   "outputs": [
    {
     "data": {
      "text/plain": [
       "array([[1, 2],\n",
       "       [3, 4]])"
      ]
     },
     "execution_count": 111,
     "metadata": {},
     "output_type": "execute_result"
    }
   ],
   "source": [
    "a = np.array([[1, 2], [3, 4]])\n",
    "a  # 정방행렬 : 정방행렬만 역행렬을 구할 수 있다."
   ]
  },
  {
   "cell_type": "code",
   "execution_count": null,
   "id": "54b420d4",
   "metadata": {},
   "outputs": [],
   "source": []
  },
  {
   "cell_type": "code",
   "execution_count": null,
   "id": "38632c89",
   "metadata": {},
   "outputs": [],
   "source": []
  },
  {
   "cell_type": "code",
   "execution_count": 113,
   "id": "1267c0a3",
   "metadata": {
    "ExecuteTime": {
     "end_time": "2025-04-25T08:53:35.882824Z",
     "start_time": "2025-04-25T08:53:35.855900Z"
    }
   },
   "outputs": [
    {
     "data": {
      "text/plain": [
       "array([[-2. ,  1. ],\n",
       "       [ 1.5, -0.5]])"
      ]
     },
     "execution_count": 113,
     "metadata": {},
     "output_type": "execute_result"
    }
   ],
   "source": [
    "# a의 역행렬 : a의 역행렬 @ a = a @ a의 역행렬 -> 단위행렬\n",
    "np.linalg.inv(a)"
   ]
  },
  {
   "cell_type": "code",
   "execution_count": 115,
   "id": "c5152b6a",
   "metadata": {
    "ExecuteTime": {
     "end_time": "2025-04-25T08:55:19.232395Z",
     "start_time": "2025-04-25T08:55:19.222383Z"
    }
   },
   "outputs": [
    {
     "data": {
      "text/plain": [
       "array([[1.0000000e+00, 4.4408921e-16],\n",
       "       [0.0000000e+00, 1.0000000e+00]])"
      ]
     },
     "execution_count": 115,
     "metadata": {},
     "output_type": "execute_result"
    }
   ],
   "source": [
    "# 단위행렬\n",
    "np.linalg.inv(a) @ a"
   ]
  },
  {
   "cell_type": "markdown",
   "id": "d433dd1a",
   "metadata": {},
   "source": [
    "## 6.1. 선형 연립 방정식 풀기 (독립변수1, 데이터2)"
   ]
  },
  {
   "cell_type": "code",
   "execution_count": 123,
   "id": "eaaceaa9",
   "metadata": {
    "ExecuteTime": {
     "end_time": "2025-04-25T08:58:56.544132Z",
     "start_time": "2025-04-25T08:58:56.528216Z"
    }
   },
   "outputs": [
    {
     "data": {
      "text/plain": [
       "array([[[2., 1.],\n",
       "        [4., 1.]]])"
      ]
     },
     "execution_count": 123,
     "metadata": {},
     "output_type": "execute_result"
    }
   ],
   "source": [
    "x = np.array([2, 4])  # 독립변수\n",
    "Y = np.array([40, 60])  # 종속변수\n",
    "\n",
    "X = np.dstack((x, np.ones(len(x))))\n",
    "X"
   ]
  },
  {
   "cell_type": "code",
   "execution_count": 124,
   "id": "51c6d97c",
   "metadata": {
    "ExecuteTime": {
     "end_time": "2025-04-25T09:01:16.382555Z",
     "start_time": "2025-04-25T09:01:16.359615Z"
    }
   },
   "outputs": [
    {
     "data": {
      "text/plain": [
       "array([[10., 20.]])"
      ]
     },
     "execution_count": 124,
     "metadata": {},
     "output_type": "execute_result"
    }
   ],
   "source": [
    "# X @ wb = Y\n",
    "# X의 역행렬 @ X @ wb = X의 역행렬 @ Y\n",
    "# wb = X의 역행렬 @ Y\n",
    "\n",
    "wb = np.linalg.inv(X) @ Y\n",
    "wb"
   ]
  },
  {
   "cell_type": "code",
   "execution_count": 128,
   "id": "17bf3842",
   "metadata": {
    "ExecuteTime": {
     "end_time": "2025-04-25T09:02:54.220320Z",
     "start_time": "2025-04-25T09:02:54.005929Z"
    }
   },
   "outputs": [
    {
     "data": {
      "text/plain": [
       "[<matplotlib.lines.Line2D at 0x2823bc968f0>]"
      ]
     },
     "execution_count": 128,
     "metadata": {},
     "output_type": "execute_result"
    },
    {
     "data": {
      "image/png": "[encoded data removed]",
      "text/plain": [
       "<Figure size 640x480 with 1 Axes>"
      ]
     },
     "metadata": {},
     "output_type": "display_data"
    }
   ],
   "source": [
    "import matplotlib.pyplot as plt\n",
    "\n",
    "plt.scatter(x, Y)\n",
    "plt.plot(x, 10 * x + 20, 'r')"
   ]
  },
  {
   "cell_type": "code",
   "execution_count": 129,
   "id": "d888ef13",
   "metadata": {
    "ExecuteTime": {
     "end_time": "2025-04-25T09:03:32.028997Z",
     "start_time": "2025-04-25T09:03:32.005063Z"
    }
   },
   "outputs": [
    {
     "data": {
      "text/plain": [
       "70"
      ]
     },
     "execution_count": 129,
     "metadata": {},
     "output_type": "execute_result"
    }
   ],
   "source": [
    "5*10+20"
   ]
  },
  {
   "cell_type": "code",
   "execution_count": null,
   "id": "6c05dff7",
   "metadata": {},
   "outputs": [],
   "source": []
  }
 ],
 "metadata": {
  "kernelspec": {
   "display_name": "Python 3 (ipykernel)",
   "language": "python",
   "name": "python3"
  },
  "language_info": {
   "codemirror_mode": {
    "name": "ipython",
    "version": 3
   },
   "file_extension": ".py",
   "mimetype": "text/x-python",
   "name": "python",
   "nbconvert_exporter": "python",
   "pygments_lexer": "ipython3",
   "version": "3.10.9"
  },
  "toc": {
   "base_numbering": 1,
   "nav_menu": {},
   "number_sections": false,
   "sideBar": true,
   "skip_h1_title": false,
   "title_cell": "Table of Contents",
   "title_sidebar": "Contents",
   "toc_cell": false,
   "toc_position": {
    "height": "calc(100% - 180px)",
    "left": "10px",
    "top": "150px",
    "width": "328px"
   },
   "toc_section_display": true,
   "toc_window_display": true
  },
  "varInspector": {
   "cols": {
    "lenName": 16,
    "lenType": 16,
    "lenVar": 40
   },
   "kernels_config": {
    "python": {
     "delete_cmd_postfix": "",
     "delete_cmd_prefix": "del ",
     "library": "var_list.py",
     "varRefreshCmd": "print(var_dic_list())"
    },
    "r": {
     "delete_cmd_postfix": ") ",
     "delete_cmd_prefix": "rm(",
     "library": "var_list.r",
     "varRefreshCmd": "cat(var_dic_list()) "
    }
   },
   "types_to_exclude": [
    "module",
    "function",
    "builtin_function_or_method",
    "instance",
    "_Feature"
   ],
   "window_display": false
  }
 },
 "nbformat": 4,
 "nbformat_minor": 5
}
