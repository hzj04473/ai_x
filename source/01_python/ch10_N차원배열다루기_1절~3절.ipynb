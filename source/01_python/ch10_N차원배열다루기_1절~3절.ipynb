{
 "cells": [
  {
   "cell_type": "code",
   "execution_count": 1,
   "id": "760a949d",
   "metadata": {
    "ExecuteTime": {
     "end_time": "2025-04-25T04:34:06.604719Z",
     "start_time": "2025-04-25T04:34:06.592927Z"
    }
   },
   "outputs": [
    {
     "data": {
      "text/html": [
       "\n",
       "<style>\n",
       "* {font-family:Consolas;}\n",
       "div.container{width:87% !important;}\n",
       "div.cell.code_cell.rendered{width:100%;}\n",
       "div.CodeMirror {font-size:12pt;}\n",
       "div.output {font-size:12pt; font-weight:bold;}\n",
       "div.input { font-size:12pt;}\n",
       "div.prompt {min-width:70px;}\n",
       "div#toc-wrapper{padding-top:120px;}\n",
       "div.text_cell_render ul li{font-size:12pt;padding:3px;}\n",
       "table.dataframe{font-size:12px;}\n",
       "</style>\n"
      ],
      "text/plain": [
       "<IPython.core.display.HTML object>"
      ]
     },
     "metadata": {},
     "output_type": "display_data"
    }
   ],
   "source": [
    "from IPython.display import display, HTML\n",
    "\n",
    "display(\n",
    "    HTML(\"\"\"\n",
    "<style>\n",
    "* {font-family:Consolas;}\n",
    "div.container{width:87% !important;}\n",
    "div.cell.code_cell.rendered{width:100%;}\n",
    "div.CodeMirror {font-size:12pt;}\n",
    "div.output {font-size:12pt; font-weight:bold;}\n",
    "div.input { font-size:12pt;}\n",
    "div.prompt {min-width:70px;}\n",
    "div#toc-wrapper{padding-top:120px;}\n",
    "div.text_cell_render ul li{font-size:12pt;padding:3px;}\n",
    "table.dataframe{font-size:12px;}\n",
    "</style>\n",
    "\"\"\"))"
   ]
  },
  {
   "cell_type": "markdown",
   "id": "f4e66c75",
   "metadata": {
    "ExecuteTime": {
     "end_time": "2025-04-24T03:51:01.583998Z",
     "start_time": "2025-04-24T03:51:01.559943Z"
    }
   },
   "source": [
    "<font size=\"5\" color=\"red\">ch10_N차원배열다루기_1절~3절</font>\n",
    "    \n",
    "- [numpy] (https://numpy.org/doc/stable/)\n",
    "- [numpy_API] (https://numpy.org/doc/stable/reference/index.html#reference)\n",
    "- N차원 배열 객체\n",
    "- 2차원 배열은 행렬개념\n",
    "- numpy 패키지는 c언어로 구현되어 고성능 수치 계산 패키지\n",
    "\n",
    "# 1절 numpy(넘파이) 패키지"
   ]
  },
  {
   "cell_type": "code",
   "execution_count": 43,
   "id": "e09bd623",
   "metadata": {
    "ExecuteTime": {
     "end_time": "2025-04-24T05:40:51.494012Z",
     "start_time": "2025-04-24T05:40:51.481049Z"
    }
   },
   "outputs": [
    {
     "data": {
      "text/plain": [
       "'1.23.5'"
      ]
     },
     "execution_count": 43,
     "metadata": {},
     "output_type": "execute_result"
    }
   ],
   "source": [
    "import numpy as np\n",
    "np.__version__"
   ]
  },
  {
   "cell_type": "code",
   "execution_count": 44,
   "id": "7aa6c142",
   "metadata": {
    "ExecuteTime": {
     "end_time": "2025-04-24T05:40:52.825105Z",
     "start_time": "2025-04-24T05:40:52.800175Z"
    }
   },
   "outputs": [
    {
     "data": {
      "text/plain": [
       "(numpy.ndarray,\n",
       " array([ 0,  1,  2,  3,  4,  5,  6,  7,  8,  9, 10, 11, 12, 13, 14]))"
      ]
     },
     "execution_count": 44,
     "metadata": {},
     "output_type": "execute_result"
    }
   ],
   "source": [
    "# 배열 생성 함수\n",
    "# np.arange(from, stop, step) : from부터 stop앞까지 step씩 증감한 정수값을 배열로 생성\n",
    "a = np.arange(15)\n",
    "type(a), a"
   ]
  },
  {
   "cell_type": "markdown",
   "id": "81aa3320",
   "metadata": {},
   "source": [
    "## 1.1. 배열속성"
   ]
  },
  {
   "cell_type": "code",
   "execution_count": 45,
   "id": "c4d21e7a",
   "metadata": {
    "ExecuteTime": {
     "end_time": "2025-04-24T05:40:54.312843Z",
     "start_time": "2025-04-24T05:40:54.296887Z"
    }
   },
   "outputs": [
    {
     "data": {
      "text/plain": [
       "array([[ 0,  1,  2,  3,  4],\n",
       "       [ 5,  6,  7,  8,  9],\n",
       "       [10, 11, 12, 13, 14]])"
      ]
     },
     "execution_count": 45,
     "metadata": {},
     "output_type": "execute_result"
    }
   ],
   "source": [
    "from numpy import arange\n",
    "\n",
    "a = arange(15).reshape(3,5) #3행 5열짜리 2차원 배열로 return\n",
    "a"
   ]
  },
  {
   "cell_type": "code",
   "execution_count": 46,
   "id": "acb188dd",
   "metadata": {
    "ExecuteTime": {
     "end_time": "2025-04-24T05:40:58.305468Z",
     "start_time": "2025-04-24T05:40:58.293500Z"
    }
   },
   "outputs": [
    {
     "data": {
      "text/plain": [
       "numpy.ndarray"
      ]
     },
     "execution_count": 46,
     "metadata": {},
     "output_type": "execute_result"
    }
   ],
   "source": [
    "type(a) # a변수의 타입"
   ]
  },
  {
   "cell_type": "code",
   "execution_count": 47,
   "id": "9037dfed",
   "metadata": {
    "ExecuteTime": {
     "end_time": "2025-04-24T05:40:59.763416Z",
     "start_time": "2025-04-24T05:40:59.743878Z"
    }
   },
   "outputs": [
    {
     "data": {
      "text/plain": [
       "dtype('int32')"
      ]
     },
     "execution_count": 47,
     "metadata": {},
     "output_type": "execute_result"
    }
   ],
   "source": [
    "a.dtype # a배열 요소의 type"
   ]
  },
  {
   "cell_type": "code",
   "execution_count": 48,
   "id": "b58881ad",
   "metadata": {
    "ExecuteTime": {
     "end_time": "2025-04-24T05:41:02.298412Z",
     "start_time": "2025-04-24T05:41:02.272451Z"
    }
   },
   "outputs": [
    {
     "data": {
      "text/plain": [
       "'int32'"
      ]
     },
     "execution_count": 48,
     "metadata": {},
     "output_type": "execute_result"
    }
   ],
   "source": [
    "a.dtype.name"
   ]
  },
  {
   "cell_type": "code",
   "execution_count": 49,
   "id": "711007e8",
   "metadata": {
    "ExecuteTime": {
     "end_time": "2025-04-24T05:41:05.193152Z",
     "start_time": "2025-04-24T05:41:05.168219Z"
    }
   },
   "outputs": [
    {
     "data": {
      "text/plain": [
       "4"
      ]
     },
     "execution_count": 49,
     "metadata": {},
     "output_type": "execute_result"
    }
   ],
   "source": [
    "a.itemsize # 한 요소의 bytesize"
   ]
  },
  {
   "cell_type": "code",
   "execution_count": 50,
   "id": "7799ef78",
   "metadata": {
    "ExecuteTime": {
     "end_time": "2025-04-24T05:41:07.055693Z",
     "start_time": "2025-04-24T05:41:07.029759Z"
    }
   },
   "outputs": [
    {
     "data": {
      "text/plain": [
       "2"
      ]
     },
     "execution_count": 50,
     "metadata": {},
     "output_type": "execute_result"
    }
   ],
   "source": [
    "a.ndim # 차원수(축수)"
   ]
  },
  {
   "cell_type": "code",
   "execution_count": 51,
   "id": "f37bd091",
   "metadata": {
    "ExecuteTime": {
     "end_time": "2025-04-24T05:41:08.987493Z",
     "start_time": "2025-04-24T05:41:08.963521Z"
    }
   },
   "outputs": [
    {
     "data": {
      "text/plain": [
       "15"
      ]
     },
     "execution_count": 51,
     "metadata": {},
     "output_type": "execute_result"
    }
   ],
   "source": [
    "a.size # 배열 요소의 수"
   ]
  },
  {
   "cell_type": "code",
   "execution_count": 52,
   "id": "7d5a49b9",
   "metadata": {
    "ExecuteTime": {
     "end_time": "2025-04-24T05:41:10.485624Z",
     "start_time": "2025-04-24T05:41:10.469656Z"
    }
   },
   "outputs": [
    {
     "data": {
      "text/plain": [
       "(3, 5)"
      ]
     },
     "execution_count": 52,
     "metadata": {},
     "output_type": "execute_result"
    }
   ],
   "source": [
    "a.shape # 배열 구조의 (튜븦)"
   ]
  },
  {
   "cell_type": "markdown",
   "id": "ac163292",
   "metadata": {},
   "source": [
    "## 1-2. 배열 변경(구조, 타입)"
   ]
  },
  {
   "cell_type": "code",
   "execution_count": 58,
   "id": "36057773",
   "metadata": {
    "ExecuteTime": {
     "end_time": "2025-04-24T05:41:20.378869Z",
     "start_time": "2025-04-24T05:41:20.358566Z"
    }
   },
   "outputs": [
    {
     "name": "stdout",
     "output_type": "stream",
     "text": [
      "구조변경 전\n",
      "[[ 0  1  2  3  4]\n",
      " [ 5  6  7  8  9]\n",
      " [10 11 12 13 14]]\n",
      "구조변경 후\n",
      "[[ 0  1  2]\n",
      " [ 3  4  5]\n",
      " [ 6  7  8]\n",
      " [ 9 10 11]\n",
      " [12 13 14]]\n"
     ]
    }
   ],
   "source": [
    "# 구조변경\n",
    "print(\"구조변경 전\", a, sep=\"\\n\")\n",
    "a.shape = (5, 3)\n",
    "print(\"구조변경 후\", a, sep=\"\\n\")"
   ]
  },
  {
   "cell_type": "code",
   "execution_count": 60,
   "id": "eb6a3e1c",
   "metadata": {
    "ExecuteTime": {
     "end_time": "2025-04-24T05:42:19.858811Z",
     "start_time": "2025-04-24T05:42:19.836710Z"
    }
   },
   "outputs": [
    {
     "data": {
      "text/plain": [
       "array([[ 0,  1,  2,  3],\n",
       "       [ 4,  5,  6,  7],\n",
       "       [ 8,  9, 10, 11]])"
      ]
     },
     "execution_count": 60,
     "metadata": {},
     "output_type": "execute_result"
    }
   ],
   "source": [
    "# 타입변경 (x) - 이렇게 하면 안 된다.\n",
    " \n",
    "a = arange(12).reshape(3,4)\n",
    "a"
   ]
  },
  {
   "cell_type": "code",
   "execution_count": 61,
   "id": "5df62445",
   "metadata": {
    "ExecuteTime": {
     "end_time": "2025-04-24T05:42:34.069848Z",
     "start_time": "2025-04-24T05:42:34.046638Z"
    }
   },
   "outputs": [
    {
     "data": {
      "text/plain": [
       "dtype('int32')"
      ]
     },
     "execution_count": 61,
     "metadata": {},
     "output_type": "execute_result"
    }
   ],
   "source": [
    "a.dtype"
   ]
  },
  {
   "cell_type": "code",
   "execution_count": 63,
   "id": "60596e0b",
   "metadata": {
    "ExecuteTime": {
     "end_time": "2025-04-24T05:44:37.120133Z",
     "start_time": "2025-04-24T05:44:37.100167Z"
    }
   },
   "outputs": [
    {
     "data": {
      "text/plain": [
       "4"
      ]
     },
     "execution_count": 63,
     "metadata": {},
     "output_type": "execute_result"
    }
   ],
   "source": [
    "a.itemsize"
   ]
  },
  {
   "cell_type": "code",
   "execution_count": 65,
   "id": "35c09d94",
   "metadata": {
    "ExecuteTime": {
     "end_time": "2025-04-24T05:46:37.645186Z",
     "start_time": "2025-04-24T05:46:37.622246Z"
    }
   },
   "outputs": [
    {
     "data": {
      "text/plain": [
       "dtype('int64')"
      ]
     },
     "execution_count": 65,
     "metadata": {},
     "output_type": "execute_result"
    }
   ],
   "source": [
    "a.dtype = np.int64 # a배열을 읽을 떄 64bit씩 읽는다.\n",
    "a.dtype"
   ]
  },
  {
   "cell_type": "code",
   "execution_count": 69,
   "id": "afd7b4ec",
   "metadata": {
    "ExecuteTime": {
     "end_time": "2025-04-24T05:48:32.882815Z",
     "start_time": "2025-04-24T05:48:32.867857Z"
    }
   },
   "outputs": [
    {
     "data": {
      "text/plain": [
       "(6, (3, 2))"
      ]
     },
     "execution_count": 69,
     "metadata": {},
     "output_type": "execute_result"
    }
   ],
   "source": [
    "a.size, a.shape"
   ]
  },
  {
   "cell_type": "code",
   "execution_count": 70,
   "id": "8cee9b49",
   "metadata": {
    "ExecuteTime": {
     "end_time": "2025-04-24T05:48:37.392678Z",
     "start_time": "2025-04-24T05:48:37.377716Z"
    }
   },
   "outputs": [
    {
     "data": {
      "text/plain": [
       "array([[ 4294967296, 12884901890],\n",
       "       [21474836484, 30064771078],\n",
       "       [38654705672, 47244640266]], dtype=int64)"
      ]
     },
     "execution_count": 70,
     "metadata": {},
     "output_type": "execute_result"
    }
   ],
   "source": [
    "a"
   ]
  },
  {
   "cell_type": "code",
   "execution_count": 88,
   "id": "c98db3c8",
   "metadata": {
    "ExecuteTime": {
     "end_time": "2025-04-24T05:55:48.582620Z",
     "start_time": "2025-04-24T05:55:48.567661Z"
    }
   },
   "outputs": [
    {
     "data": {
      "text/plain": [
       "array([[ 0,  1,  2,  3],\n",
       "       [ 4,  5,  6,  7],\n",
       "       [ 8,  9, 10, 11]])"
      ]
     },
     "execution_count": 88,
     "metadata": {},
     "output_type": "execute_result"
    }
   ],
   "source": [
    "# 타입변경 (O)\n",
    "a = arange(12).reshape(3,4)\n",
    "a"
   ]
  },
  {
   "cell_type": "code",
   "execution_count": null,
   "id": "7b8cd0dc",
   "metadata": {},
   "outputs": [],
   "source": [
    "a.astype(np.int64) # a.astype('int64') 같음"
   ]
  },
  {
   "cell_type": "code",
   "execution_count": 99,
   "id": "0d018a0a",
   "metadata": {
    "ExecuteTime": {
     "end_time": "2025-04-24T05:58:45.436646Z",
     "start_time": "2025-04-24T05:58:45.426659Z"
    }
   },
   "outputs": [],
   "source": [
    "a = a.astype(np.int64)"
   ]
  },
  {
   "cell_type": "code",
   "execution_count": 100,
   "id": "1e2d5377",
   "metadata": {
    "ExecuteTime": {
     "end_time": "2025-04-24T05:58:47.367588Z",
     "start_time": "2025-04-24T05:58:47.343527Z"
    }
   },
   "outputs": [
    {
     "data": {
      "text/plain": [
       "array([[ 0,  1,  2,  3],\n",
       "       [ 4,  5,  6,  7],\n",
       "       [ 8,  9, 10, 11]], dtype=int64)"
      ]
     },
     "execution_count": 100,
     "metadata": {},
     "output_type": "execute_result"
    }
   ],
   "source": [
    "a.astype('int64')"
   ]
  },
  {
   "cell_type": "code",
   "execution_count": 101,
   "id": "0aec6450",
   "metadata": {
    "ExecuteTime": {
     "end_time": "2025-04-24T05:58:49.633252Z",
     "start_time": "2025-04-24T05:58:49.610305Z"
    }
   },
   "outputs": [
    {
     "data": {
      "text/plain": [
       "dtype('int64')"
      ]
     },
     "execution_count": 101,
     "metadata": {},
     "output_type": "execute_result"
    }
   ],
   "source": [
    "a.dtype"
   ]
  },
  {
   "cell_type": "code",
   "execution_count": 102,
   "id": "d2601afb",
   "metadata": {
    "ExecuteTime": {
     "end_time": "2025-04-24T05:58:51.287177Z",
     "start_time": "2025-04-24T05:58:51.273223Z"
    }
   },
   "outputs": [
    {
     "data": {
      "text/plain": [
       "8"
      ]
     },
     "execution_count": 102,
     "metadata": {},
     "output_type": "execute_result"
    }
   ],
   "source": [
    "a.itemsize"
   ]
  },
  {
   "cell_type": "code",
   "execution_count": 103,
   "id": "abd51253",
   "metadata": {
    "ExecuteTime": {
     "end_time": "2025-04-24T05:58:52.984489Z",
     "start_time": "2025-04-24T05:58:52.958822Z"
    }
   },
   "outputs": [
    {
     "data": {
      "text/plain": [
       "(12, (3, 4))"
      ]
     },
     "execution_count": 103,
     "metadata": {},
     "output_type": "execute_result"
    }
   ],
   "source": [
    "a.size, a.shape"
   ]
  },
  {
   "cell_type": "code",
   "execution_count": 104,
   "id": "a92197be",
   "metadata": {
    "ExecuteTime": {
     "end_time": "2025-04-24T05:58:55.120324Z",
     "start_time": "2025-04-24T05:58:55.104327Z"
    }
   },
   "outputs": [
    {
     "data": {
      "text/plain": [
       "array([[ 0,  1,  2,  3],\n",
       "       [ 4,  5,  6,  7],\n",
       "       [ 8,  9, 10, 11]], dtype=int64)"
      ]
     },
     "execution_count": 104,
     "metadata": {},
     "output_type": "execute_result"
    }
   ],
   "source": [
    "a"
   ]
  },
  {
   "cell_type": "code",
   "execution_count": 105,
   "id": "f11b8e1a",
   "metadata": {
    "ExecuteTime": {
     "end_time": "2025-04-24T05:58:56.919963Z",
     "start_time": "2025-04-24T05:58:56.896341Z"
    }
   },
   "outputs": [
    {
     "data": {
      "text/plain": [
       "array([ 0,  1,  2,  3,  4,  5,  6,  7,  8,  9, 10, 11], dtype=int64)"
      ]
     },
     "execution_count": 105,
     "metadata": {},
     "output_type": "execute_result"
    }
   ],
   "source": [
    "a.flatten()"
   ]
  },
  {
   "cell_type": "code",
   "execution_count": 106,
   "id": "8f7422e2",
   "metadata": {
    "ExecuteTime": {
     "end_time": "2025-04-24T05:58:58.375291Z",
     "start_time": "2025-04-24T05:58:58.362293Z"
    }
   },
   "outputs": [
    {
     "data": {
      "text/plain": [
       "array([ 0,  1,  2,  3,  4,  5,  6,  7,  8,  9, 10, 11], dtype=int64)"
      ]
     },
     "execution_count": 106,
     "metadata": {},
     "output_type": "execute_result"
    }
   ],
   "source": [
    "a.ravel()"
   ]
  },
  {
   "cell_type": "markdown",
   "id": "69137805",
   "metadata": {},
   "source": [
    "## 1.3. 배열저장"
   ]
  },
  {
   "cell_type": "code",
   "execution_count": null,
   "id": "baeda9bf",
   "metadata": {},
   "outputs": [],
   "source": [
    "# 배열 저장 - pkl , npy\n",
    "# 딥러닝모델 저장 - h5(hdf5), keras\n",
    "# 머신러닝 저장 - pkl , joblib"
   ]
  },
  {
   "cell_type": "code",
   "execution_count": 107,
   "id": "86690d5d",
   "metadata": {
    "ExecuteTime": {
     "end_time": "2025-04-24T06:15:07.107445Z",
     "start_time": "2025-04-24T06:15:07.090490Z"
    }
   },
   "outputs": [
    {
     "data": {
      "text/plain": [
       "array([[ 0,  1,  2,  3],\n",
       "       [ 4,  5,  6,  7],\n",
       "       [ 8,  9, 10, 11]], dtype=int64)"
      ]
     },
     "execution_count": 107,
     "metadata": {},
     "output_type": "execute_result"
    }
   ],
   "source": [
    "a"
   ]
  },
  {
   "cell_type": "code",
   "execution_count": 108,
   "id": "7fa7b8fb",
   "metadata": {
    "ExecuteTime": {
     "end_time": "2025-04-24T06:16:40.985909Z",
     "start_time": "2025-04-24T06:16:40.958991Z"
    }
   },
   "outputs": [],
   "source": [
    "# 용량이 작은\n",
    "import pickle\n",
    "with open(\"data/ch10_a.pkl\", \"wb\") as f:\n",
    "    pickle.dump(a, f)"
   ]
  },
  {
   "cell_type": "code",
   "execution_count": 109,
   "id": "dd6a40d0",
   "metadata": {
    "ExecuteTime": {
     "end_time": "2025-04-24T06:17:56.295488Z",
     "start_time": "2025-04-24T06:17:56.269530Z"
    }
   },
   "outputs": [],
   "source": [
    "with open(\"data/ch10_a.pkl\", 'rb') as f:\n",
    "    load_a = pickle.load(f)"
   ]
  },
  {
   "cell_type": "code",
   "execution_count": 110,
   "id": "f98a8a38",
   "metadata": {
    "ExecuteTime": {
     "end_time": "2025-04-24T06:17:59.820604Z",
     "start_time": "2025-04-24T06:17:59.804628Z"
    }
   },
   "outputs": [
    {
     "data": {
      "text/plain": [
       "array([[ 0,  1,  2,  3],\n",
       "       [ 4,  5,  6,  7],\n",
       "       [ 8,  9, 10, 11]], dtype=int64)"
      ]
     },
     "execution_count": 110,
     "metadata": {},
     "output_type": "execute_result"
    }
   ],
   "source": [
    "load_a"
   ]
  },
  {
   "cell_type": "code",
   "execution_count": 114,
   "id": "b0fd7e0a",
   "metadata": {
    "ExecuteTime": {
     "end_time": "2025-04-24T06:19:03.468741Z",
     "start_time": "2025-04-24T06:19:03.441803Z"
    }
   },
   "outputs": [
    {
     "data": {
      "text/plain": [
       "True"
      ]
     },
     "execution_count": 114,
     "metadata": {},
     "output_type": "execute_result"
    }
   ],
   "source": [
    "# a == load_a\n",
    "np.all(a == load_a) # a 넘파이배열과 load_a 넘파이 배열이 같은지"
   ]
  },
  {
   "cell_type": "code",
   "execution_count": 115,
   "id": "b5fc45df",
   "metadata": {
    "ExecuteTime": {
     "end_time": "2025-04-24T06:21:24.677764Z",
     "start_time": "2025-04-24T06:21:24.653275Z"
    }
   },
   "outputs": [],
   "source": [
    "# 용량이 큰\n",
    "np.save(\"data/ch10_a.npy\",a)"
   ]
  },
  {
   "cell_type": "code",
   "execution_count": 116,
   "id": "3b9ff315",
   "metadata": {
    "ExecuteTime": {
     "end_time": "2025-04-24T06:21:52.128202Z",
     "start_time": "2025-04-24T06:21:52.106260Z"
    }
   },
   "outputs": [
    {
     "data": {
      "text/plain": [
       "array([[ 0,  1,  2,  3],\n",
       "       [ 4,  5,  6,  7],\n",
       "       [ 8,  9, 10, 11]], dtype=int64)"
      ]
     },
     "execution_count": 116,
     "metadata": {},
     "output_type": "execute_result"
    }
   ],
   "source": [
    "load_a2 = np.load('data/ch10_a.npy')\n",
    "load_a2"
   ]
  },
  {
   "cell_type": "code",
   "execution_count": 117,
   "id": "6c891aa5",
   "metadata": {
    "ExecuteTime": {
     "end_time": "2025-04-24T06:22:07.622622Z",
     "start_time": "2025-04-24T06:22:07.595734Z"
    }
   },
   "outputs": [
    {
     "data": {
      "text/plain": [
       "True"
      ]
     },
     "execution_count": 117,
     "metadata": {},
     "output_type": "execute_result"
    }
   ],
   "source": [
    "np.all(load_a2 == a)"
   ]
  },
  {
   "cell_type": "markdown",
   "id": "e8c9ce38",
   "metadata": {},
   "source": [
    "# 2절. 넘파이 배열\n",
    "\n",
    "- array() 함수 : 다른 파이썬 데이터 구조를 배열로 변환\n",
    "- arange(), ons(), zeros(), empty()\n",
    "- 랜덤값을 갖는 함수들...\n",
    "\n",
    "## 2.1. array() 함수로 넘파이 배열 만들기\n",
    "\n",
    "- np.array(list나 tuple, dtype=np.xxx, copy=T/F)"
   ]
  },
  {
   "cell_type": "code",
   "execution_count": 125,
   "id": "bc15cd5d",
   "metadata": {
    "ExecuteTime": {
     "end_time": "2025-04-24T06:32:59.931230Z",
     "start_time": "2025-04-24T06:32:59.918235Z"
    }
   },
   "outputs": [
    {
     "data": {
      "text/plain": [
       "array([2, 4, 6], dtype=int8)"
      ]
     },
     "execution_count": 125,
     "metadata": {},
     "output_type": "execute_result"
    }
   ],
   "source": [
    "a = np.array([2,4,6], dtype=np.int8) # 정수의 기본 타입은 int32 / 실수의 기본타입은 float64\n",
    "a"
   ]
  },
  {
   "cell_type": "code",
   "execution_count": 127,
   "id": "dc578cca",
   "metadata": {
    "ExecuteTime": {
     "end_time": "2025-04-24T06:33:32.907795Z",
     "start_time": "2025-04-24T06:33:32.886815Z"
    }
   },
   "outputs": [
    {
     "data": {
      "text/plain": [
       "(2, 4, 6)"
      ]
     },
     "execution_count": 127,
     "metadata": {},
     "output_type": "execute_result"
    }
   ],
   "source": [
    "a[0], a[1], a[2]"
   ]
  },
  {
   "cell_type": "code",
   "execution_count": 129,
   "id": "6d04891d",
   "metadata": {
    "ExecuteTime": {
     "end_time": "2025-04-24T06:33:51.619607Z",
     "start_time": "2025-04-24T06:33:51.606642Z"
    }
   },
   "outputs": [
    {
     "data": {
      "text/plain": [
       "dtype('int8')"
      ]
     },
     "execution_count": 129,
     "metadata": {},
     "output_type": "execute_result"
    }
   ],
   "source": [
    "a.dtype"
   ]
  },
  {
   "cell_type": "code",
   "execution_count": 133,
   "id": "4653cf7f",
   "metadata": {
    "ExecuteTime": {
     "end_time": "2025-04-24T06:36:04.586324Z",
     "start_time": "2025-04-24T06:36:04.565259Z"
    }
   },
   "outputs": [
    {
     "data": {
      "text/plain": [
       "array([[1.3, 2.4],\n",
       "       [4. , 5. ]])"
      ]
     },
     "execution_count": 133,
     "metadata": {},
     "output_type": "execute_result"
    }
   ],
   "source": [
    "b = np.array([[1.3, 2.4], [4, 5]])\n",
    "b"
   ]
  },
  {
   "cell_type": "code",
   "execution_count": 134,
   "id": "1df5ab80",
   "metadata": {
    "ExecuteTime": {
     "end_time": "2025-04-24T06:36:13.284016Z",
     "start_time": "2025-04-24T06:36:13.267057Z"
    }
   },
   "outputs": [
    {
     "data": {
      "text/plain": [
       "dtype('float64')"
      ]
     },
     "execution_count": 134,
     "metadata": {},
     "output_type": "execute_result"
    }
   ],
   "source": [
    "b.dtype"
   ]
  },
  {
   "cell_type": "code",
   "execution_count": 137,
   "id": "165a7176",
   "metadata": {
    "ExecuteTime": {
     "end_time": "2025-04-24T06:37:42.898781Z",
     "start_time": "2025-04-24T06:37:42.880828Z"
    }
   },
   "outputs": [
    {
     "data": {
      "text/plain": [
       "array([[1.3, 2.4, 4. , 5. ]], dtype=float32)"
      ]
     },
     "execution_count": 137,
     "metadata": {},
     "output_type": "execute_result"
    }
   ],
   "source": [
    "b = np.array([[1.3, 2.4], [4, 5]], dtype=np.float32).reshape(1,4)\n",
    "b"
   ]
  },
  {
   "cell_type": "code",
   "execution_count": 138,
   "id": "f9c7f1b1",
   "metadata": {
    "ExecuteTime": {
     "end_time": "2025-04-24T06:38:01.691105Z",
     "start_time": "2025-04-24T06:38:01.679136Z"
    }
   },
   "outputs": [
    {
     "data": {
      "text/plain": [
       "4"
      ]
     },
     "execution_count": 138,
     "metadata": {},
     "output_type": "execute_result"
    }
   ],
   "source": [
    "b.itemsize"
   ]
  },
  {
   "cell_type": "code",
   "execution_count": 139,
   "id": "c8b2f640",
   "metadata": {
    "ExecuteTime": {
     "end_time": "2025-04-24T06:38:16.090900Z",
     "start_time": "2025-04-24T06:38:16.073943Z"
    }
   },
   "outputs": [
    {
     "data": {
      "text/plain": [
       "array([[1.29999995, 2.4000001 , 4.        , 5.        ]])"
      ]
     },
     "execution_count": 139,
     "metadata": {},
     "output_type": "execute_result"
    }
   ],
   "source": [
    "b.astype(np.float64)"
   ]
  },
  {
   "cell_type": "code",
   "execution_count": 144,
   "id": "f6f9cdec",
   "metadata": {
    "ExecuteTime": {
     "end_time": "2025-04-24T06:42:05.444241Z",
     "start_time": "2025-04-24T06:42:05.425293Z"
    }
   },
   "outputs": [
    {
     "name": "stdout",
     "output_type": "stream",
     "text": [
      "1\t2\t\n",
      "3.4\t4.5\t\n"
     ]
    }
   ],
   "source": [
    "l = [[1, 2], [3.4, 4.5]]\n",
    "\n",
    "for row in l:\n",
    "#     print(row)\n",
    "    for data in row:\n",
    "        print(data, end=\"\\t\")\n",
    "    print()"
   ]
  },
  {
   "cell_type": "code",
   "execution_count": 152,
   "id": "8055b8ea",
   "metadata": {
    "ExecuteTime": {
     "end_time": "2025-04-24T06:46:57.051471Z",
     "start_time": "2025-04-24T06:46:57.028492Z"
    }
   },
   "outputs": [
    {
     "data": {
      "text/plain": [
       "array([[1. , 2. ],\n",
       "       [3.4, 4.5]])"
      ]
     },
     "execution_count": 152,
     "metadata": {},
     "output_type": "execute_result"
    }
   ],
   "source": [
    "c = np.array([[1, 2], [3.4, 4.5]], dtype=np.float64)\n",
    "c"
   ]
  },
  {
   "cell_type": "code",
   "execution_count": 153,
   "id": "68d11115",
   "metadata": {
    "ExecuteTime": {
     "end_time": "2025-04-24T06:46:59.222513Z",
     "start_time": "2025-04-24T06:46:59.205561Z"
    }
   },
   "outputs": [
    {
     "name": "stdout",
     "output_type": "stream",
     "text": [
      "0행, 0열 1.0\t0행, 1열 2.0\t1행, 0열 3.4\t1행, 1열 4.5\t"
     ]
    }
   ],
   "source": [
    "for i, row in enumerate(c):\n",
    "    for j, item in enumerate(row):\n",
    "        print(\"{}행, {}열 {}\".format(i, j, item), end='\\t')\n",
    "    "
   ]
  },
  {
   "cell_type": "code",
   "execution_count": 159,
   "id": "288ea970",
   "metadata": {
    "ExecuteTime": {
     "end_time": "2025-04-24T06:49:46.867308Z",
     "start_time": "2025-04-24T06:49:46.841341Z"
    }
   },
   "outputs": [
    {
     "data": {
      "text/plain": [
       "array([[ 1,  2,  3,  4,  5],\n",
       "       [ 6,  7,  8,  9, 10]], dtype=int16)"
      ]
     },
     "execution_count": 159,
     "metadata": {},
     "output_type": "execute_result"
    }
   ],
   "source": [
    "c = np.array([[1,2,3,4,5],[6,7,8,9,10]], dtype=np.int16)\n",
    "c"
   ]
  },
  {
   "cell_type": "code",
   "execution_count": 161,
   "id": "cb8738b3",
   "metadata": {
    "ExecuteTime": {
     "end_time": "2025-04-24T06:49:57.975361Z",
     "start_time": "2025-04-24T06:49:57.949393Z"
    }
   },
   "outputs": [
    {
     "data": {
      "text/plain": [
       "4"
      ]
     },
     "execution_count": 161,
     "metadata": {},
     "output_type": "execute_result"
    }
   ],
   "source": [
    "c[0, 3]"
   ]
  },
  {
   "cell_type": "code",
   "execution_count": 170,
   "id": "b155593c",
   "metadata": {
    "ExecuteTime": {
     "end_time": "2025-04-24T06:54:46.576426Z",
     "start_time": "2025-04-24T06:54:46.551455Z"
    }
   },
   "outputs": [
    {
     "data": {
      "text/plain": [
       "array([[2, 3],\n",
       "       [7, 8]], dtype=int16)"
      ]
     },
     "execution_count": 170,
     "metadata": {},
     "output_type": "execute_result"
    }
   ],
   "source": [
    "c[:,1:3]"
   ]
  },
  {
   "cell_type": "code",
   "execution_count": 181,
   "id": "aaaf145b",
   "metadata": {
    "ExecuteTime": {
     "end_time": "2025-04-24T06:56:36.011240Z",
     "start_time": "2025-04-24T06:56:35.996281Z"
    }
   },
   "outputs": [
    {
     "data": {
      "text/plain": [
       "array([3, 4, 5], dtype=int16)"
      ]
     },
     "execution_count": 181,
     "metadata": {},
     "output_type": "execute_result"
    }
   ],
   "source": [
    "c[0, 2:5]"
   ]
  },
  {
   "cell_type": "code",
   "execution_count": 188,
   "id": "e4ac2a6e",
   "metadata": {
    "ExecuteTime": {
     "end_time": "2025-04-24T07:00:04.643164Z",
     "start_time": "2025-04-24T07:00:04.616237Z"
    }
   },
   "outputs": [
    {
     "data": {
      "text/plain": [
       "array([ 5, 10], dtype=int16)"
      ]
     },
     "execution_count": 188,
     "metadata": {},
     "output_type": "execute_result"
    }
   ],
   "source": [
    "# 모든행의 맨 마지막 열만 추출\n",
    "c[:,-1]"
   ]
  },
  {
   "cell_type": "code",
   "execution_count": 187,
   "id": "4c24e1e6",
   "metadata": {
    "ExecuteTime": {
     "end_time": "2025-04-24T06:59:59.767995Z",
     "start_time": "2025-04-24T06:59:59.742065Z"
    }
   },
   "outputs": [
    {
     "data": {
      "text/plain": [
       "array([[1, 2, 3, 4],\n",
       "       [6, 7, 8, 9]], dtype=int16)"
      ]
     },
     "execution_count": 187,
     "metadata": {},
     "output_type": "execute_result"
    }
   ],
   "source": [
    "# 모든행의 맨마지막 열을 제외한 호출\n",
    "c[:, :-1]"
   ]
  },
  {
   "cell_type": "code",
   "execution_count": 200,
   "id": "265dee4c",
   "metadata": {
    "ExecuteTime": {
     "end_time": "2025-04-24T07:16:15.835695Z",
     "start_time": "2025-04-24T07:16:15.818750Z"
    }
   },
   "outputs": [
    {
     "name": "stdout",
     "output_type": "stream",
     "text": [
      "c = \n",
      "[[1 2]\n",
      " [3 4]]\n",
      "d = \n",
      "[[1 2]\n",
      " [3 4]]\n",
      "c = \n",
      "[[   1    2]\n",
      " [3333    4]]\n",
      "d = \n",
      "[[   1    2]\n",
      " [3333    4]]\n",
      "c주소 = 2183658780304, d주소 = 2183658780304\n"
     ]
    }
   ],
   "source": [
    "c = np.array([[1,2],[3,4]])\n",
    "d = np.array(c, copy=False) # d = c , copy=False일 경우 c, d 가 같은 주소값을 참조, 얕은복사\n",
    "print('c = ',c, sep=\"\\n\")\n",
    "print('d = ',d, sep=\"\\n\")\n",
    "d[1,0] = 3333\n",
    "print('c = ',c, sep=\"\\n\")\n",
    "print('d = ',d, sep=\"\\n\")\n",
    "\n",
    "print('c주소 = {}, d주소 = {}'.format(id(c), id(d)))"
   ]
  },
  {
   "cell_type": "code",
   "execution_count": 201,
   "id": "7e4e739f",
   "metadata": {
    "ExecuteTime": {
     "end_time": "2025-04-24T07:17:52.586796Z",
     "start_time": "2025-04-24T07:17:52.563859Z"
    }
   },
   "outputs": [
    {
     "name": "stdout",
     "output_type": "stream",
     "text": [
      "c = \n",
      "[[1 2]\n",
      " [3 4]]\n",
      "d = \n",
      "[[1 2]\n",
      " [3 4]]\n",
      "c = \n",
      "[[1 2]\n",
      " [3 4]]\n",
      "d = \n",
      "[[   1    2]\n",
      " [3333    4]]\n",
      "c주소 = 2183659436144, d주소 = 2183660083152\n"
     ]
    }
   ],
   "source": [
    "c = np.array([[1,2],[3,4]])\n",
    "d = np.array(c, copy=True) # copy=True 깊은복사\n",
    "print('c = ',c, sep=\"\\n\")\n",
    "print('d = ',d, sep=\"\\n\")\n",
    "d[1,0] = 3333\n",
    "print('c = ',c, sep=\"\\n\")\n",
    "print('d = ',d, sep=\"\\n\")\n",
    "\n",
    "print('c주소 = {}, d주소 = {}'.format(id(c), id(d)))"
   ]
  },
  {
   "cell_type": "markdown",
   "id": "5bde0b73",
   "metadata": {},
   "source": [
    "## 2.2. 기본값이 있는 배열 만들기\n",
    "\n",
    "- np.zeros(tup) = np.zeros((256,256)) : 요소들이 다 0 \n",
    "- np.ones(tup) : 요소들이 다 1\n",
    "- np.full(tup, 기본값) : 요소들이 다 기본값 \n",
    "- np.empty(tup) : 요소들이 임의의 값 (메모리 상태에 따라 달라짐)\n",
    "```\n",
    "※ 위의 함수를 이용해서, 생성된 배열은 기본 dtype이 float64. datype속성 따라 지정 가능\n",
    "```"
   ]
  },
  {
   "cell_type": "code",
   "execution_count": 205,
   "id": "20f57945",
   "metadata": {
    "ExecuteTime": {
     "end_time": "2025-04-24T07:21:43.874894Z",
     "start_time": "2025-04-24T07:21:43.848964Z"
    }
   },
   "outputs": [
    {
     "data": {
      "text/plain": [
       "array([[0, 0, 0, 0, 0],\n",
       "       [0, 0, 0, 0, 0],\n",
       "       [0, 0, 0, 0, 0]], dtype=int8)"
      ]
     },
     "execution_count": 205,
     "metadata": {},
     "output_type": "execute_result"
    }
   ],
   "source": [
    "np.zeros((3, 5), dtype=np.int8)"
   ]
  },
  {
   "cell_type": "code",
   "execution_count": 208,
   "id": "fed3c164",
   "metadata": {
    "ExecuteTime": {
     "end_time": "2025-04-24T07:26:47.917628Z",
     "start_time": "2025-04-24T07:26:47.890700Z"
    }
   },
   "outputs": [
    {
     "data": {
      "text/plain": [
       "(dtype('float64'),\n",
       " array([[1., 1., 1., 1., 1.],\n",
       "        [1., 1., 1., 1., 1.],\n",
       "        [1., 1., 1., 1., 1.]]))"
      ]
     },
     "execution_count": 208,
     "metadata": {},
     "output_type": "execute_result"
    }
   ],
   "source": [
    "x = np.ones((3,5))\n",
    "\n",
    "x.dtype,x"
   ]
  },
  {
   "cell_type": "code",
   "execution_count": 217,
   "id": "b0207de1",
   "metadata": {
    "ExecuteTime": {
     "end_time": "2025-04-24T07:28:27.396418Z",
     "start_time": "2025-04-24T07:28:27.369491Z"
    }
   },
   "outputs": [
    {
     "data": {
      "text/plain": [
       "(dtype('int32'),\n",
       " array([[-256, -256, -256, -256, -256],\n",
       "        [-256, -256, -256, -256, -256],\n",
       "        [-256, -256, -256, -256, -256]]))"
      ]
     },
     "execution_count": 217,
     "metadata": {},
     "output_type": "execute_result"
    }
   ],
   "source": [
    "f = np.full((3,5), -256, dtype=np.int32)\n",
    "f.dtype, f"
   ]
  },
  {
   "cell_type": "code",
   "execution_count": 4,
   "id": "f610a033",
   "metadata": {
    "ExecuteTime": {
     "end_time": "2025-04-24T07:29:18.709336Z",
     "start_time": "2025-04-24T07:29:18.685401Z"
    }
   },
   "outputs": [
    {
     "data": {
      "text/plain": [
       "array([[0., 0., 0., 0., 0.],\n",
       "       [0., 0., 0., 0., 0.],\n",
       "       [0., 0., 0., 0., 0.]])"
      ]
     },
     "execution_count": 4,
     "metadata": {},
     "output_type": "execute_result"
    }
   ],
   "source": [
    "e = np.empty( (3,5) )\n",
    "e"
   ]
  },
  {
   "cell_type": "markdown",
   "id": "befbf363",
   "metadata": {},
   "source": [
    "## 2.3. 랜덤값을 갖는 배열 만들기\n",
    "\n",
    "- 0 <= 난수 < 1\n",
    "- np.random.random(tup) : 0부터 1미만의 **균등분포**를 갖는 랜덤값 (실수)\n",
    "- np.random.uniform(low=0, hi=1.0, size=tup) : low부터 high미만의 **균등분포**를 갖는 랜덤값\n",
    "- np.random.normal(loc=0, scale=1.0, size=tup) : 평균loc과 표준편자scale을 갖는 **정규분포** 랜덤값\n",
    "- np.random.rand(n) : **균등분포**의 **1차원** 난수 배열 발생(난수 n개)\n",
    "- np.random.randn(n) : **표준정규분포** (평균0, 표준편차1인 정규분포)의 **1차원** 난수 배열 발생 (난수 n개)\n",
    "\n",
    "```\n",
    "위의 것은 아래의 것과 틀림\n",
    "cf. random.randint(n) : 0부터 n미만의 정수 난수 1개 발생\n",
    "```"
   ]
  },
  {
   "cell_type": "code",
   "execution_count": 139,
   "id": "0023c0ed",
   "metadata": {
    "ExecuteTime": {
     "end_time": "2025-04-25T06:40:47.350891Z",
     "start_time": "2025-04-25T06:40:46.624005Z"
    }
   },
   "outputs": [
    {
     "data": {
      "image/png": "[encoded data removed]",
      "text/plain": [
       "<Figure size 1500x200 with 1 Axes>"
      ]
     },
     "metadata": {},
     "output_type": "display_data"
    }
   ],
   "source": [
    "import matplotlib.pyplot as plt\n",
    "\n",
    "x = np.random.rand(100000)\n",
    "x\n",
    "plt.figure(figsize=(15,2)) # 그래프 크기 figsize=(가로,세로)\n",
    "plt.hist(x, bins=50)\n",
    "plt.show()"
   ]
  },
  {
   "cell_type": "code",
   "execution_count": 142,
   "id": "3673e249",
   "metadata": {
    "ExecuteTime": {
     "end_time": "2025-04-25T06:41:06.546275Z",
     "start_time": "2025-04-25T06:41:06.247938Z"
    }
   },
   "outputs": [
    {
     "data": {
      "image/png": "[encoded data removed]",
      "text/plain": [
       "<Figure size 1500x200 with 1 Axes>"
      ]
     },
     "metadata": {},
     "output_type": "display_data"
    }
   ],
   "source": [
    "x = np.random.randn(100000)\n",
    "plt.figure(figsize=(15,2)) # 그래프 크기 figsize=(가로,세로)\n",
    "plt.hist(x, bins=150)\n",
    "plt.show()"
   ]
  },
  {
   "cell_type": "code",
   "execution_count": 52,
   "id": "b760193b",
   "metadata": {
    "ExecuteTime": {
     "end_time": "2025-04-24T08:16:02.383990Z",
     "start_time": "2025-04-24T08:16:02.368047Z"
    }
   },
   "outputs": [
    {
     "data": {
      "text/plain": [
       "array([[0.15416284, 0.7400497 , 0.26331502, 0.53373939, 0.01457496],\n",
       "       [0.91874701, 0.90071485, 0.03342143, 0.95694934, 0.13720932]])"
      ]
     },
     "execution_count": 52,
     "metadata": {},
     "output_type": "execute_result"
    }
   ],
   "source": [
    "# 2차원 난수 배열\n",
    "np.random.seed(12) # seed값을 맞추면 발생되는 난수 순서가 동일\n",
    "np.random.random((2,5)) # 0부터 1미만의 랜덤 배열"
   ]
  },
  {
   "cell_type": "code",
   "execution_count": 54,
   "id": "27c1ae09",
   "metadata": {
    "ExecuteTime": {
     "end_time": "2025-04-24T08:18:14.746029Z",
     "start_time": "2025-04-24T08:18:14.720086Z"
    }
   },
   "outputs": [
    {
     "data": {
      "text/plain": [
       "array([[ 7.41016495, -0.77109222,  0.48731196,  0.27900319,  2.40887343],\n",
       "       [ 6.3859791 ,  4.18352756,  7.97785128,  2.18545462,  7.06438575]])"
      ]
     },
     "execution_count": 54,
     "metadata": {},
     "output_type": "execute_result"
    }
   ],
   "source": [
    "np.random.uniform(-1, 10, (2,5)) # -1 ~ 10 미나의 균등분포 난수 배열"
   ]
  },
  {
   "cell_type": "code",
   "execution_count": 56,
   "id": "ee9cad2c",
   "metadata": {
    "ExecuteTime": {
     "end_time": "2025-04-24T08:19:48.990389Z",
     "start_time": "2025-04-24T08:19:48.982441Z"
    }
   },
   "outputs": [
    {
     "data": {
      "text/plain": [
       "array([[ 5.56293011,  8.70513844,  8.94319136,  9.92158165, 10.4299519 ],\n",
       "       [ 9.23128239,  9.49219184, 10.14650415,  8.00559233,  8.57228742]])"
      ]
     },
     "execution_count": 56,
     "metadata": {},
     "output_type": "execute_result"
    }
   ],
   "source": [
    "np.random.normal(10, 2, (2,5)) # 평균 10, 표준편차 2인 정규분포 난수 배열"
   ]
  },
  {
   "cell_type": "markdown",
   "id": "82859a67",
   "metadata": {},
   "source": [
    "## 2.4. 연속된 값을 갖는 배열 만들기\n",
    "\n",
    "- np.arange(from, stop, step, dtype) : from 부터 stop 앞까지 step 씩 증감하는 정수 배열\n",
    "- np.linspace(from, to, count) : from 부터 to 까지(to포함) count개 숫자를 1차원 배열"
   ]
  },
  {
   "cell_type": "code",
   "execution_count": 65,
   "id": "64e55623",
   "metadata": {
    "ExecuteTime": {
     "end_time": "2025-04-24T08:24:39.143329Z",
     "start_time": "2025-04-24T08:24:39.129369Z"
    }
   },
   "outputs": [
    {
     "data": {
      "text/plain": [
       "array([0.        , 0.10526316, 0.21052632, 0.31578947, 0.42105263,\n",
       "       0.52631579, 0.63157895, 0.73684211, 0.84210526, 0.94736842,\n",
       "       1.05263158, 1.15789474, 1.26315789, 1.36842105, 1.47368421,\n",
       "       1.57894737, 1.68421053, 1.78947368, 1.89473684, 2.        ])"
      ]
     },
     "execution_count": 65,
     "metadata": {},
     "output_type": "execute_result"
    }
   ],
   "source": [
    "np.linspace(0, 2, 20)"
   ]
  },
  {
   "cell_type": "code",
   "execution_count": 80,
   "id": "5e8ec588",
   "metadata": {
    "ExecuteTime": {
     "end_time": "2025-04-24T08:29:24.012047Z",
     "start_time": "2025-04-24T08:29:23.996089Z"
    }
   },
   "outputs": [],
   "source": [
    "# linspace 는 많은 수의 점들을 생성\n",
    "x = np.linspace(0,2*np.pi,1000)\n",
    "y = np.sin(x)"
   ]
  },
  {
   "cell_type": "code",
   "execution_count": 79,
   "id": "a37c8b58",
   "metadata": {
    "ExecuteTime": {
     "end_time": "2025-04-24T08:29:19.401989Z",
     "start_time": "2025-04-24T08:29:19.242417Z"
    }
   },
   "outputs": [
    {
     "data": {
      "image/png": "[encoded data removed]",
      "text/plain": [
       "<Figure size 500x400 with 1 Axes>"
      ]
     },
     "metadata": {},
     "output_type": "display_data"
    }
   ],
   "source": [
    "import matplotlib.pyplot as plt\n",
    "\n",
    "plt.figure(figsize=(5,4))\n",
    "plt.plot(x,y)\n",
    "plt.show()"
   ]
  },
  {
   "cell_type": "code",
   "execution_count": 85,
   "id": "4c4e529e",
   "metadata": {
    "ExecuteTime": {
     "end_time": "2025-04-24T08:33:23.223869Z",
     "start_time": "2025-04-24T08:33:23.196905Z"
    }
   },
   "outputs": [
    {
     "data": {
      "text/plain": [
       "array([[0.        , 0.10526316, 0.21052632, 0.31578947, 0.42105263,\n",
       "        0.52631579, 0.63157895, 0.73684211, 0.84210526, 0.94736842],\n",
       "       [1.05263158, 1.15789474, 1.26315789, 1.36842105, 1.47368421,\n",
       "        1.57894737, 1.68421053, 1.78947368, 1.89473684, 2.        ]])"
      ]
     },
     "execution_count": 85,
     "metadata": {},
     "output_type": "execute_result"
    }
   ],
   "source": [
    "np.linspace(0, 2, 20).reshape(2,10)"
   ]
  },
  {
   "cell_type": "code",
   "execution_count": 83,
   "id": "c8255bb7",
   "metadata": {
    "ExecuteTime": {
     "end_time": "2025-04-24T08:31:23.621874Z",
     "start_time": "2025-04-24T08:31:23.595926Z"
    }
   },
   "outputs": [
    {
     "data": {
      "text/plain": [
       "array([10, 13, 16, 19, 22, 25, 28], dtype=int8)"
      ]
     },
     "execution_count": 83,
     "metadata": {},
     "output_type": "execute_result"
    }
   ],
   "source": [
    "np.arange(10, 30, 3,dtype=np.int8)"
   ]
  },
  {
   "cell_type": "markdown",
   "id": "bb568099",
   "metadata": {},
   "source": [
    "## 2.5. 배열의 차원 변경하기\n",
    "\n",
    "- reshape([면수,] 행수, 열수) : -1 이 올 수도\n",
    "- resize([면수,] 행수, 열수)  : -1 불가\n",
    "- T : 전치행렬로 변환\n",
    "- transpose() : 전치행렬로 변환\n",
    "\n",
    "```\n",
    "※ 실행결과가 출력되면, 배열이 수정되지 않고, 실행결과가 없으면, 배열 수정됨\n",
    "```"
   ]
  },
  {
   "cell_type": "code",
   "execution_count": 183,
   "id": "ee0154ca",
   "metadata": {
    "ExecuteTime": {
     "end_time": "2025-04-25T02:35:00.465327Z",
     "start_time": "2025-04-25T02:35:00.440430Z"
    }
   },
   "outputs": [
    {
     "data": {
      "text/plain": [
       "array([[0.00590936, 0.64292615, 0.38521698],\n",
       "       [0.59574189, 0.61080706, 0.59961919]])"
      ]
     },
     "execution_count": 183,
     "metadata": {},
     "output_type": "execute_result"
    }
   ],
   "source": [
    "a = np.random.random((2, 3))\n",
    "a"
   ]
  },
  {
   "cell_type": "code",
   "execution_count": 184,
   "id": "3a1da74d",
   "metadata": {
    "ExecuteTime": {
     "end_time": "2025-04-25T02:35:02.393194Z",
     "start_time": "2025-04-25T02:35:02.384246Z"
    }
   },
   "outputs": [
    {
     "data": {
      "text/plain": [
       "array([[0., 6., 4.],\n",
       "       [6., 6., 6.]])"
      ]
     },
     "execution_count": 184,
     "metadata": {},
     "output_type": "execute_result"
    }
   ],
   "source": [
    "a = np.round(a * 10) # round : 반올림 / floor : 내림 / ceil : 올림\n",
    "a"
   ]
  },
  {
   "cell_type": "code",
   "execution_count": 185,
   "id": "8d4b9856",
   "metadata": {
    "ExecuteTime": {
     "end_time": "2025-04-25T02:35:04.053371Z",
     "start_time": "2025-04-25T02:35:04.036398Z"
    }
   },
   "outputs": [
    {
     "data": {
      "text/plain": [
       "array([[0., 6.],\n",
       "       [4., 6.],\n",
       "       [6., 6.]])"
      ]
     },
     "execution_count": 185,
     "metadata": {},
     "output_type": "execute_result"
    }
   ],
   "source": [
    "a = a.reshape(3, 2)\n",
    "a"
   ]
  },
  {
   "cell_type": "code",
   "execution_count": 186,
   "id": "91a3507d",
   "metadata": {
    "ExecuteTime": {
     "end_time": "2025-04-25T02:35:06.102103Z",
     "start_time": "2025-04-25T02:35:06.085136Z"
    }
   },
   "outputs": [
    {
     "data": {
      "text/plain": [
       "array([[0., 6., 4.],\n",
       "       [6., 6., 6.]])"
      ]
     },
     "execution_count": 186,
     "metadata": {},
     "output_type": "execute_result"
    }
   ],
   "source": [
    "a.reshape(2, -1) # -1 이 주어지면, 해당 차원의 크기가 자동 계산"
   ]
  },
  {
   "cell_type": "code",
   "execution_count": 187,
   "id": "a2d16c06",
   "metadata": {
    "ExecuteTime": {
     "end_time": "2025-04-25T02:35:08.793035Z",
     "start_time": "2025-04-25T02:35:08.775046Z"
    }
   },
   "outputs": [
    {
     "data": {
      "text/plain": [
       "array([[0.],\n",
       "       [6.],\n",
       "       [4.],\n",
       "       [6.],\n",
       "       [6.],\n",
       "       [6.]])"
      ]
     },
     "execution_count": 187,
     "metadata": {},
     "output_type": "execute_result"
    }
   ],
   "source": [
    "a = a.reshape(-1, 1)\n",
    "a"
   ]
  },
  {
   "cell_type": "code",
   "execution_count": 188,
   "id": "4b3b996b",
   "metadata": {
    "ExecuteTime": {
     "end_time": "2025-04-25T02:35:11.607979Z",
     "start_time": "2025-04-25T02:35:11.584077Z"
    }
   },
   "outputs": [],
   "source": [
    "a.resize((2,3)) # 결과를 출력하지 않는 함수는 배열을 바꿈 (-1불가)"
   ]
  },
  {
   "cell_type": "code",
   "execution_count": 189,
   "id": "b6032edf",
   "metadata": {
    "ExecuteTime": {
     "end_time": "2025-04-25T02:35:14.165266Z",
     "start_time": "2025-04-25T02:35:14.142327Z"
    }
   },
   "outputs": [
    {
     "data": {
      "text/plain": [
       "array([[0., 6., 4.],\n",
       "       [6., 6., 6.]])"
      ]
     },
     "execution_count": 189,
     "metadata": {},
     "output_type": "execute_result"
    }
   ],
   "source": [
    "a"
   ]
  },
  {
   "cell_type": "code",
   "execution_count": 190,
   "id": "2af6b34b",
   "metadata": {
    "ExecuteTime": {
     "end_time": "2025-04-25T02:35:16.358506Z",
     "start_time": "2025-04-25T02:35:16.343545Z"
    }
   },
   "outputs": [
    {
     "data": {
      "text/plain": [
       "(array([0., 6., 4., 6., 6., 6.]), array([0., 6., 4., 6., 6., 6.]))"
      ]
     },
     "execution_count": 190,
     "metadata": {},
     "output_type": "execute_result"
    }
   ],
   "source": [
    "a.ravel(), a.flatten()"
   ]
  },
  {
   "cell_type": "code",
   "execution_count": 191,
   "id": "1ed8e6ec",
   "metadata": {
    "ExecuteTime": {
     "end_time": "2025-04-25T02:35:19.919174Z",
     "start_time": "2025-04-25T02:35:19.907193Z"
    }
   },
   "outputs": [
    {
     "data": {
      "text/plain": [
       "array([[0., 6., 4.],\n",
       "       [6., 6., 6.]])"
      ]
     },
     "execution_count": 191,
     "metadata": {},
     "output_type": "execute_result"
    }
   ],
   "source": [
    "a"
   ]
  },
  {
   "cell_type": "code",
   "execution_count": null,
   "id": "bea06059",
   "metadata": {},
   "outputs": [],
   "source": []
  },
  {
   "cell_type": "code",
   "execution_count": 192,
   "id": "54767bca",
   "metadata": {
    "ExecuteTime": {
     "end_time": "2025-04-25T02:35:23.189269Z",
     "start_time": "2025-04-25T02:35:23.171287Z"
    }
   },
   "outputs": [
    {
     "data": {
      "text/plain": [
       "array([[0., 6.],\n",
       "       [6., 6.],\n",
       "       [4., 6.]])"
      ]
     },
     "execution_count": 192,
     "metadata": {},
     "output_type": "execute_result"
    }
   ],
   "source": [
    "a.T # 전치행렬(행과 열을 뒤바뀐 행렬)"
   ]
  },
  {
   "cell_type": "code",
   "execution_count": 193,
   "id": "f9babe1c",
   "metadata": {
    "ExecuteTime": {
     "end_time": "2025-04-25T02:35:25.167163Z",
     "start_time": "2025-04-25T02:35:25.149177Z"
    }
   },
   "outputs": [
    {
     "data": {
      "text/plain": [
       "array([[0., 6.],\n",
       "       [6., 6.],\n",
       "       [4., 6.]])"
      ]
     },
     "execution_count": 193,
     "metadata": {},
     "output_type": "execute_result"
    }
   ],
   "source": [
    "a.transpose() # 전치행렬"
   ]
  },
  {
   "cell_type": "markdown",
   "id": "444bed5c",
   "metadata": {},
   "source": [
    "## 2.6 배열 인쇄"
   ]
  },
  {
   "cell_type": "code",
   "execution_count": 124,
   "id": "c42ea0b8",
   "metadata": {
    "ExecuteTime": {
     "end_time": "2025-04-25T01:34:31.560665Z",
     "start_time": "2025-04-25T01:34:31.546710Z"
    }
   },
   "outputs": [
    {
     "name": "stdout",
     "output_type": "stream",
     "text": [
      "[   0    1    2 ... 9997 9998 9999]\n"
     ]
    }
   ],
   "source": [
    "# 배열이 커서 출력이 안 될 경우\n",
    "print(np.arange(10000))"
   ]
  },
  {
   "cell_type": "code",
   "execution_count": 125,
   "id": "f059a0de",
   "metadata": {
    "ExecuteTime": {
     "end_time": "2025-04-25T01:34:44.001519Z",
     "start_time": "2025-04-25T01:34:43.979579Z"
    }
   },
   "outputs": [
    {
     "data": {
      "text/plain": [
       "array([[   0,    1,    2, ...,   97,   98,   99],\n",
       "       [ 100,  101,  102, ...,  197,  198,  199],\n",
       "       [ 200,  201,  202, ...,  297,  298,  299],\n",
       "       ...,\n",
       "       [9700, 9701, 9702, ..., 9797, 9798, 9799],\n",
       "       [9800, 9801, 9802, ..., 9897, 9898, 9899],\n",
       "       [9900, 9901, 9902, ..., 9997, 9998, 9999]])"
      ]
     },
     "execution_count": 125,
     "metadata": {},
     "output_type": "execute_result"
    }
   ],
   "source": [
    "np.arange(10000).reshape(100, 100)"
   ]
  },
  {
   "cell_type": "code",
   "execution_count": 128,
   "id": "6eab4c86",
   "metadata": {
    "ExecuteTime": {
     "end_time": "2025-04-25T01:35:53.275525Z",
     "start_time": "2025-04-25T01:35:53.265590Z"
    }
   },
   "outputs": [],
   "source": [
    "# 배열 출력 옵션 변경(인쇄할 사이즈를 10000, 최대치, 무한대)\n",
    "import sys # 최대치 : sys.maxsize\n",
    "#np.set_printoptions(threshold=10000)\n",
    "# np.set_printoptions(threshold=sys.maxsize)\n",
    "np.set_printoptions(threshold=np.inf)\n",
    "# 커널 재시작시 threshold 값 복귀"
   ]
  },
  {
   "cell_type": "code",
   "execution_count": 127,
   "id": "ff20bf63",
   "metadata": {
    "ExecuteTime": {
     "end_time": "2025-04-25T01:35:15.022519Z",
     "start_time": "2025-04-25T01:35:14.972673Z"
    }
   },
   "outputs": [
    {
     "data": {
      "text/plain": [
       "array([[   0,    1,    2,    3,    4,    5,    6,    7,    8,    9,   10,\n",
       "          11,   12,   13,   14,   15,   16,   17,   18,   19,   20,   21,\n",
       "          22,   23,   24,   25,   26,   27,   28,   29,   30,   31,   32,\n",
       "          33,   34,   35,   36,   37,   38,   39,   40,   41,   42,   43,\n",
       "          44,   45,   46,   47,   48,   49,   50,   51,   52,   53,   54,\n",
       "          55,   56,   57,   58,   59,   60,   61,   62,   63,   64,   65,\n",
       "          66,   67,   68,   69,   70,   71,   72,   73,   74,   75,   76,\n",
       "          77,   78,   79,   80,   81,   82,   83,   84,   85,   86,   87,\n",
       "          88,   89,   90,   91,   92,   93,   94,   95,   96,   97,   98,\n",
       "          99],\n",
       "       [ 100,  101,  102,  103,  104,  105,  106,  107,  108,  109,  110,\n",
       "         111,  112,  113,  114,  115,  116,  117,  118,  119,  120,  121,\n",
       "         122,  123,  124,  125,  126,  127,  128,  129,  130,  131,  132,\n",
       "         133,  134,  135,  136,  137,  138,  139,  140,  141,  142,  143,\n",
       "         144,  145,  146,  147,  148,  149,  150,  151,  152,  153,  154,\n",
       "         155,  156,  157,  158,  159,  160,  161,  162,  163,  164,  165,\n",
       "         166,  167,  168,  169,  170,  171,  172,  173,  174,  175,  176,\n",
       "         177,  178,  179,  180,  181,  182,  183,  184,  185,  186,  187,\n",
       "         188,  189,  190,  191,  192,  193,  194,  195,  196,  197,  198,\n",
       "         199],\n",
       "       [ 200,  201,  202,  203,  204,  205,  206,  207,  208,  209,  210,\n",
       "         211,  212,  213,  214,  215,  216,  217,  218,  219,  220,  221,\n",
       "         222,  223,  224,  225,  226,  227,  228,  229,  230,  231,  232,\n",
       "         233,  234,  235,  236,  237,  238,  239,  240,  241,  242,  243,\n",
       "         244,  245,  246,  247,  248,  249,  250,  251,  252,  253,  254,\n",
       "         255,  256,  257,  258,  259,  260,  261,  262,  263,  264,  265,\n",
       "         266,  267,  268,  269,  270,  271,  272,  273,  274,  275,  276,\n",
       "         277,  278,  279,  280,  281,  282,  283,  284,  285,  286,  287,\n",
       "         288,  289,  290,  291,  292,  293,  294,  295,  296,  297,  298,\n",
       "         299],\n",
       "       [ 300,  301,  302,  303,  304,  305,  306,  307,  308,  309,  310,\n",
       "         311,  312,  313,  314,  315,  316,  317,  318,  319,  320,  321,\n",
       "         322,  323,  324,  325,  326,  327,  328,  329,  330,  331,  332,\n",
       "         333,  334,  335,  336,  337,  338,  339,  340,  341,  342,  343,\n",
       "         344,  345,  346,  347,  348,  349,  350,  351,  352,  353,  354,\n",
       "         355,  356,  357,  358,  359,  360,  361,  362,  363,  364,  365,\n",
       "         366,  367,  368,  369,  370,  371,  372,  373,  374,  375,  376,\n",
       "         377,  378,  379,  380,  381,  382,  383,  384,  385,  386,  387,\n",
       "         388,  389,  390,  391,  392,  393,  394,  395,  396,  397,  398,\n",
       "         399],\n",
       "       [ 400,  401,  402,  403,  404,  405,  406,  407,  408,  409,  410,\n",
       "         411,  412,  413,  414,  415,  416,  417,  418,  419,  420,  421,\n",
       "         422,  423,  424,  425,  426,  427,  428,  429,  430,  431,  432,\n",
       "         433,  434,  435,  436,  437,  438,  439,  440,  441,  442,  443,\n",
       "         444,  445,  446,  447,  448,  449,  450,  451,  452,  453,  454,\n",
       "         455,  456,  457,  458,  459,  460,  461,  462,  463,  464,  465,\n",
       "         466,  467,  468,  469,  470,  471,  472,  473,  474,  475,  476,\n",
       "         477,  478,  479,  480,  481,  482,  483,  484,  485,  486,  487,\n",
       "         488,  489,  490,  491,  492,  493,  494,  495,  496,  497,  498,\n",
       "         499],\n",
       "       [ 500,  501,  502,  503,  504,  505,  506,  507,  508,  509,  510,\n",
       "         511,  512,  513,  514,  515,  516,  517,  518,  519,  520,  521,\n",
       "         522,  523,  524,  525,  526,  527,  528,  529,  530,  531,  532,\n",
       "         533,  534,  535,  536,  537,  538,  539,  540,  541,  542,  543,\n",
       "         544,  545,  546,  547,  548,  549,  550,  551,  552,  553,  554,\n",
       "         555,  556,  557,  558,  559,  560,  561,  562,  563,  564,  565,\n",
       "         566,  567,  568,  569,  570,  571,  572,  573,  574,  575,  576,\n",
       "         577,  578,  579,  580,  581,  582,  583,  584,  585,  586,  587,\n",
       "         588,  589,  590,  591,  592,  593,  594,  595,  596,  597,  598,\n",
       "         599],\n",
       "       [ 600,  601,  602,  603,  604,  605,  606,  607,  608,  609,  610,\n",
       "         611,  612,  613,  614,  615,  616,  617,  618,  619,  620,  621,\n",
       "         622,  623,  624,  625,  626,  627,  628,  629,  630,  631,  632,\n",
       "         633,  634,  635,  636,  637,  638,  639,  640,  641,  642,  643,\n",
       "         644,  645,  646,  647,  648,  649,  650,  651,  652,  653,  654,\n",
       "         655,  656,  657,  658,  659,  660,  661,  662,  663,  664,  665,\n",
       "         666,  667,  668,  669,  670,  671,  672,  673,  674,  675,  676,\n",
       "         677,  678,  679,  680,  681,  682,  683,  684,  685,  686,  687,\n",
       "         688,  689,  690,  691,  692,  693,  694,  695,  696,  697,  698,\n",
       "         699],\n",
       "       [ 700,  701,  702,  703,  704,  705,  706,  707,  708,  709,  710,\n",
       "         711,  712,  713,  714,  715,  716,  717,  718,  719,  720,  721,\n",
       "         722,  723,  724,  725,  726,  727,  728,  729,  730,  731,  732,\n",
       "         733,  734,  735,  736,  737,  738,  739,  740,  741,  742,  743,\n",
       "         744,  745,  746,  747,  748,  749,  750,  751,  752,  753,  754,\n",
       "         755,  756,  757,  758,  759,  760,  761,  762,  763,  764,  765,\n",
       "         766,  767,  768,  769,  770,  771,  772,  773,  774,  775,  776,\n",
       "         777,  778,  779,  780,  781,  782,  783,  784,  785,  786,  787,\n",
       "         788,  789,  790,  791,  792,  793,  794,  795,  796,  797,  798,\n",
       "         799],\n",
       "       [ 800,  801,  802,  803,  804,  805,  806,  807,  808,  809,  810,\n",
       "         811,  812,  813,  814,  815,  816,  817,  818,  819,  820,  821,\n",
       "         822,  823,  824,  825,  826,  827,  828,  829,  830,  831,  832,\n",
       "         833,  834,  835,  836,  837,  838,  839,  840,  841,  842,  843,\n",
       "         844,  845,  846,  847,  848,  849,  850,  851,  852,  853,  854,\n",
       "         855,  856,  857,  858,  859,  860,  861,  862,  863,  864,  865,\n",
       "         866,  867,  868,  869,  870,  871,  872,  873,  874,  875,  876,\n",
       "         877,  878,  879,  880,  881,  882,  883,  884,  885,  886,  887,\n",
       "         888,  889,  890,  891,  892,  893,  894,  895,  896,  897,  898,\n",
       "         899],\n",
       "       [ 900,  901,  902,  903,  904,  905,  906,  907,  908,  909,  910,\n",
       "         911,  912,  913,  914,  915,  916,  917,  918,  919,  920,  921,\n",
       "         922,  923,  924,  925,  926,  927,  928,  929,  930,  931,  932,\n",
       "         933,  934,  935,  936,  937,  938,  939,  940,  941,  942,  943,\n",
       "         944,  945,  946,  947,  948,  949,  950,  951,  952,  953,  954,\n",
       "         955,  956,  957,  958,  959,  960,  961,  962,  963,  964,  965,\n",
       "         966,  967,  968,  969,  970,  971,  972,  973,  974,  975,  976,\n",
       "         977,  978,  979,  980,  981,  982,  983,  984,  985,  986,  987,\n",
       "         988,  989,  990,  991,  992,  993,  994,  995,  996,  997,  998,\n",
       "         999],\n",
       "       [1000, 1001, 1002, 1003, 1004, 1005, 1006, 1007, 1008, 1009, 1010,\n",
       "        1011, 1012, 1013, 1014, 1015, 1016, 1017, 1018, 1019, 1020, 1021,\n",
       "        1022, 1023, 1024, 1025, 1026, 1027, 1028, 1029, 1030, 1031, 1032,\n",
       "        1033, 1034, 1035, 1036, 1037, 1038, 1039, 1040, 1041, 1042, 1043,\n",
       "        1044, 1045, 1046, 1047, 1048, 1049, 1050, 1051, 1052, 1053, 1054,\n",
       "        1055, 1056, 1057, 1058, 1059, 1060, 1061, 1062, 1063, 1064, 1065,\n",
       "        1066, 1067, 1068, 1069, 1070, 1071, 1072, 1073, 1074, 1075, 1076,\n",
       "        1077, 1078, 1079, 1080, 1081, 1082, 1083, 1084, 1085, 1086, 1087,\n",
       "        1088, 1089, 1090, 1091, 1092, 1093, 1094, 1095, 1096, 1097, 1098,\n",
       "        1099],\n",
       "       [1100, 1101, 1102, 1103, 1104, 1105, 1106, 1107, 1108, 1109, 1110,\n",
       "        1111, 1112, 1113, 1114, 1115, 1116, 1117, 1118, 1119, 1120, 1121,\n",
       "        1122, 1123, 1124, 1125, 1126, 1127, 1128, 1129, 1130, 1131, 1132,\n",
       "        1133, 1134, 1135, 1136, 1137, 1138, 1139, 1140, 1141, 1142, 1143,\n",
       "        1144, 1145, 1146, 1147, 1148, 1149, 1150, 1151, 1152, 1153, 1154,\n",
       "        1155, 1156, 1157, 1158, 1159, 1160, 1161, 1162, 1163, 1164, 1165,\n",
       "        1166, 1167, 1168, 1169, 1170, 1171, 1172, 1173, 1174, 1175, 1176,\n",
       "        1177, 1178, 1179, 1180, 1181, 1182, 1183, 1184, 1185, 1186, 1187,\n",
       "        1188, 1189, 1190, 1191, 1192, 1193, 1194, 1195, 1196, 1197, 1198,\n",
       "        1199],\n",
       "       [1200, 1201, 1202, 1203, 1204, 1205, 1206, 1207, 1208, 1209, 1210,\n",
       "        1211, 1212, 1213, 1214, 1215, 1216, 1217, 1218, 1219, 1220, 1221,\n",
       "        1222, 1223, 1224, 1225, 1226, 1227, 1228, 1229, 1230, 1231, 1232,\n",
       "        1233, 1234, 1235, 1236, 1237, 1238, 1239, 1240, 1241, 1242, 1243,\n",
       "        1244, 1245, 1246, 1247, 1248, 1249, 1250, 1251, 1252, 1253, 1254,\n",
       "        1255, 1256, 1257, 1258, 1259, 1260, 1261, 1262, 1263, 1264, 1265,\n",
       "        1266, 1267, 1268, 1269, 1270, 1271, 1272, 1273, 1274, 1275, 1276,\n",
       "        1277, 1278, 1279, 1280, 1281, 1282, 1283, 1284, 1285, 1286, 1287,\n",
       "        1288, 1289, 1290, 1291, 1292, 1293, 1294, 1295, 1296, 1297, 1298,\n",
       "        1299],\n",
       "       [1300, 1301, 1302, 1303, 1304, 1305, 1306, 1307, 1308, 1309, 1310,\n",
       "        1311, 1312, 1313, 1314, 1315, 1316, 1317, 1318, 1319, 1320, 1321,\n",
       "        1322, 1323, 1324, 1325, 1326, 1327, 1328, 1329, 1330, 1331, 1332,\n",
       "        1333, 1334, 1335, 1336, 1337, 1338, 1339, 1340, 1341, 1342, 1343,\n",
       "        1344, 1345, 1346, 1347, 1348, 1349, 1350, 1351, 1352, 1353, 1354,\n",
       "        1355, 1356, 1357, 1358, 1359, 1360, 1361, 1362, 1363, 1364, 1365,\n",
       "        1366, 1367, 1368, 1369, 1370, 1371, 1372, 1373, 1374, 1375, 1376,\n",
       "        1377, 1378, 1379, 1380, 1381, 1382, 1383, 1384, 1385, 1386, 1387,\n",
       "        1388, 1389, 1390, 1391, 1392, 1393, 1394, 1395, 1396, 1397, 1398,\n",
       "        1399],\n",
       "       [1400, 1401, 1402, 1403, 1404, 1405, 1406, 1407, 1408, 1409, 1410,\n",
       "        1411, 1412, 1413, 1414, 1415, 1416, 1417, 1418, 1419, 1420, 1421,\n",
       "        1422, 1423, 1424, 1425, 1426, 1427, 1428, 1429, 1430, 1431, 1432,\n",
       "        1433, 1434, 1435, 1436, 1437, 1438, 1439, 1440, 1441, 1442, 1443,\n",
       "        1444, 1445, 1446, 1447, 1448, 1449, 1450, 1451, 1452, 1453, 1454,\n",
       "        1455, 1456, 1457, 1458, 1459, 1460, 1461, 1462, 1463, 1464, 1465,\n",
       "        1466, 1467, 1468, 1469, 1470, 1471, 1472, 1473, 1474, 1475, 1476,\n",
       "        1477, 1478, 1479, 1480, 1481, 1482, 1483, 1484, 1485, 1486, 1487,\n",
       "        1488, 1489, 1490, 1491, 1492, 1493, 1494, 1495, 1496, 1497, 1498,\n",
       "        1499],\n",
       "       [1500, 1501, 1502, 1503, 1504, 1505, 1506, 1507, 1508, 1509, 1510,\n",
       "        1511, 1512, 1513, 1514, 1515, 1516, 1517, 1518, 1519, 1520, 1521,\n",
       "        1522, 1523, 1524, 1525, 1526, 1527, 1528, 1529, 1530, 1531, 1532,\n",
       "        1533, 1534, 1535, 1536, 1537, 1538, 1539, 1540, 1541, 1542, 1543,\n",
       "        1544, 1545, 1546, 1547, 1548, 1549, 1550, 1551, 1552, 1553, 1554,\n",
       "        1555, 1556, 1557, 1558, 1559, 1560, 1561, 1562, 1563, 1564, 1565,\n",
       "        1566, 1567, 1568, 1569, 1570, 1571, 1572, 1573, 1574, 1575, 1576,\n",
       "        1577, 1578, 1579, 1580, 1581, 1582, 1583, 1584, 1585, 1586, 1587,\n",
       "        1588, 1589, 1590, 1591, 1592, 1593, 1594, 1595, 1596, 1597, 1598,\n",
       "        1599],\n",
       "       [1600, 1601, 1602, 1603, 1604, 1605, 1606, 1607, 1608, 1609, 1610,\n",
       "        1611, 1612, 1613, 1614, 1615, 1616, 1617, 1618, 1619, 1620, 1621,\n",
       "        1622, 1623, 1624, 1625, 1626, 1627, 1628, 1629, 1630, 1631, 1632,\n",
       "        1633, 1634, 1635, 1636, 1637, 1638, 1639, 1640, 1641, 1642, 1643,\n",
       "        1644, 1645, 1646, 1647, 1648, 1649, 1650, 1651, 1652, 1653, 1654,\n",
       "        1655, 1656, 1657, 1658, 1659, 1660, 1661, 1662, 1663, 1664, 1665,\n",
       "        1666, 1667, 1668, 1669, 1670, 1671, 1672, 1673, 1674, 1675, 1676,\n",
       "        1677, 1678, 1679, 1680, 1681, 1682, 1683, 1684, 1685, 1686, 1687,\n",
       "        1688, 1689, 1690, 1691, 1692, 1693, 1694, 1695, 1696, 1697, 1698,\n",
       "        1699],\n",
       "       [1700, 1701, 1702, 1703, 1704, 1705, 1706, 1707, 1708, 1709, 1710,\n",
       "        1711, 1712, 1713, 1714, 1715, 1716, 1717, 1718, 1719, 1720, 1721,\n",
       "        1722, 1723, 1724, 1725, 1726, 1727, 1728, 1729, 1730, 1731, 1732,\n",
       "        1733, 1734, 1735, 1736, 1737, 1738, 1739, 1740, 1741, 1742, 1743,\n",
       "        1744, 1745, 1746, 1747, 1748, 1749, 1750, 1751, 1752, 1753, 1754,\n",
       "        1755, 1756, 1757, 1758, 1759, 1760, 1761, 1762, 1763, 1764, 1765,\n",
       "        1766, 1767, 1768, 1769, 1770, 1771, 1772, 1773, 1774, 1775, 1776,\n",
       "        1777, 1778, 1779, 1780, 1781, 1782, 1783, 1784, 1785, 1786, 1787,\n",
       "        1788, 1789, 1790, 1791, 1792, 1793, 1794, 1795, 1796, 1797, 1798,\n",
       "        1799],\n",
       "       [1800, 1801, 1802, 1803, 1804, 1805, 1806, 1807, 1808, 1809, 1810,\n",
       "        1811, 1812, 1813, 1814, 1815, 1816, 1817, 1818, 1819, 1820, 1821,\n",
       "        1822, 1823, 1824, 1825, 1826, 1827, 1828, 1829, 1830, 1831, 1832,\n",
       "        1833, 1834, 1835, 1836, 1837, 1838, 1839, 1840, 1841, 1842, 1843,\n",
       "        1844, 1845, 1846, 1847, 1848, 1849, 1850, 1851, 1852, 1853, 1854,\n",
       "        1855, 1856, 1857, 1858, 1859, 1860, 1861, 1862, 1863, 1864, 1865,\n",
       "        1866, 1867, 1868, 1869, 1870, 1871, 1872, 1873, 1874, 1875, 1876,\n",
       "        1877, 1878, 1879, 1880, 1881, 1882, 1883, 1884, 1885, 1886, 1887,\n",
       "        1888, 1889, 1890, 1891, 1892, 1893, 1894, 1895, 1896, 1897, 1898,\n",
       "        1899],\n",
       "       [1900, 1901, 1902, 1903, 1904, 1905, 1906, 1907, 1908, 1909, 1910,\n",
       "        1911, 1912, 1913, 1914, 1915, 1916, 1917, 1918, 1919, 1920, 1921,\n",
       "        1922, 1923, 1924, 1925, 1926, 1927, 1928, 1929, 1930, 1931, 1932,\n",
       "        1933, 1934, 1935, 1936, 1937, 1938, 1939, 1940, 1941, 1942, 1943,\n",
       "        1944, 1945, 1946, 1947, 1948, 1949, 1950, 1951, 1952, 1953, 1954,\n",
       "        1955, 1956, 1957, 1958, 1959, 1960, 1961, 1962, 1963, 1964, 1965,\n",
       "        1966, 1967, 1968, 1969, 1970, 1971, 1972, 1973, 1974, 1975, 1976,\n",
       "        1977, 1978, 1979, 1980, 1981, 1982, 1983, 1984, 1985, 1986, 1987,\n",
       "        1988, 1989, 1990, 1991, 1992, 1993, 1994, 1995, 1996, 1997, 1998,\n",
       "        1999],\n",
       "       [2000, 2001, 2002, 2003, 2004, 2005, 2006, 2007, 2008, 2009, 2010,\n",
       "        2011, 2012, 2013, 2014, 2015, 2016, 2017, 2018, 2019, 2020, 2021,\n",
       "        2022, 2023, 2024, 2025, 2026, 2027, 2028, 2029, 2030, 2031, 2032,\n",
       "        2033, 2034, 2035, 2036, 2037, 2038, 2039, 2040, 2041, 2042, 2043,\n",
       "        2044, 2045, 2046, 2047, 2048, 2049, 2050, 2051, 2052, 2053, 2054,\n",
       "        2055, 2056, 2057, 2058, 2059, 2060, 2061, 2062, 2063, 2064, 2065,\n",
       "        2066, 2067, 2068, 2069, 2070, 2071, 2072, 2073, 2074, 2075, 2076,\n",
       "        2077, 2078, 2079, 2080, 2081, 2082, 2083, 2084, 2085, 2086, 2087,\n",
       "        2088, 2089, 2090, 2091, 2092, 2093, 2094, 2095, 2096, 2097, 2098,\n",
       "        2099],\n",
       "       [2100, 2101, 2102, 2103, 2104, 2105, 2106, 2107, 2108, 2109, 2110,\n",
       "        2111, 2112, 2113, 2114, 2115, 2116, 2117, 2118, 2119, 2120, 2121,\n",
       "        2122, 2123, 2124, 2125, 2126, 2127, 2128, 2129, 2130, 2131, 2132,\n",
       "        2133, 2134, 2135, 2136, 2137, 2138, 2139, 2140, 2141, 2142, 2143,\n",
       "        2144, 2145, 2146, 2147, 2148, 2149, 2150, 2151, 2152, 2153, 2154,\n",
       "        2155, 2156, 2157, 2158, 2159, 2160, 2161, 2162, 2163, 2164, 2165,\n",
       "        2166, 2167, 2168, 2169, 2170, 2171, 2172, 2173, 2174, 2175, 2176,\n",
       "        2177, 2178, 2179, 2180, 2181, 2182, 2183, 2184, 2185, 2186, 2187,\n",
       "        2188, 2189, 2190, 2191, 2192, 2193, 2194, 2195, 2196, 2197, 2198,\n",
       "        2199],\n",
       "       [2200, 2201, 2202, 2203, 2204, 2205, 2206, 2207, 2208, 2209, 2210,\n",
       "        2211, 2212, 2213, 2214, 2215, 2216, 2217, 2218, 2219, 2220, 2221,\n",
       "        2222, 2223, 2224, 2225, 2226, 2227, 2228, 2229, 2230, 2231, 2232,\n",
       "        2233, 2234, 2235, 2236, 2237, 2238, 2239, 2240, 2241, 2242, 2243,\n",
       "        2244, 2245, 2246, 2247, 2248, 2249, 2250, 2251, 2252, 2253, 2254,\n",
       "        2255, 2256, 2257, 2258, 2259, 2260, 2261, 2262, 2263, 2264, 2265,\n",
       "        2266, 2267, 2268, 2269, 2270, 2271, 2272, 2273, 2274, 2275, 2276,\n",
       "        2277, 2278, 2279, 2280, 2281, 2282, 2283, 2284, 2285, 2286, 2287,\n",
       "        2288, 2289, 2290, 2291, 2292, 2293, 2294, 2295, 2296, 2297, 2298,\n",
       "        2299],\n",
       "       [2300, 2301, 2302, 2303, 2304, 2305, 2306, 2307, 2308, 2309, 2310,\n",
       "        2311, 2312, 2313, 2314, 2315, 2316, 2317, 2318, 2319, 2320, 2321,\n",
       "        2322, 2323, 2324, 2325, 2326, 2327, 2328, 2329, 2330, 2331, 2332,\n",
       "        2333, 2334, 2335, 2336, 2337, 2338, 2339, 2340, 2341, 2342, 2343,\n",
       "        2344, 2345, 2346, 2347, 2348, 2349, 2350, 2351, 2352, 2353, 2354,\n",
       "        2355, 2356, 2357, 2358, 2359, 2360, 2361, 2362, 2363, 2364, 2365,\n",
       "        2366, 2367, 2368, 2369, 2370, 2371, 2372, 2373, 2374, 2375, 2376,\n",
       "        2377, 2378, 2379, 2380, 2381, 2382, 2383, 2384, 2385, 2386, 2387,\n",
       "        2388, 2389, 2390, 2391, 2392, 2393, 2394, 2395, 2396, 2397, 2398,\n",
       "        2399],\n",
       "       [2400, 2401, 2402, 2403, 2404, 2405, 2406, 2407, 2408, 2409, 2410,\n",
       "        2411, 2412, 2413, 2414, 2415, 2416, 2417, 2418, 2419, 2420, 2421,\n",
       "        2422, 2423, 2424, 2425, 2426, 2427, 2428, 2429, 2430, 2431, 2432,\n",
       "        2433, 2434, 2435, 2436, 2437, 2438, 2439, 2440, 2441, 2442, 2443,\n",
       "        2444, 2445, 2446, 2447, 2448, 2449, 2450, 2451, 2452, 2453, 2454,\n",
       "        2455, 2456, 2457, 2458, 2459, 2460, 2461, 2462, 2463, 2464, 2465,\n",
       "        2466, 2467, 2468, 2469, 2470, 2471, 2472, 2473, 2474, 2475, 2476,\n",
       "        2477, 2478, 2479, 2480, 2481, 2482, 2483, 2484, 2485, 2486, 2487,\n",
       "        2488, 2489, 2490, 2491, 2492, 2493, 2494, 2495, 2496, 2497, 2498,\n",
       "        2499],\n",
       "       [2500, 2501, 2502, 2503, 2504, 2505, 2506, 2507, 2508, 2509, 2510,\n",
       "        2511, 2512, 2513, 2514, 2515, 2516, 2517, 2518, 2519, 2520, 2521,\n",
       "        2522, 2523, 2524, 2525, 2526, 2527, 2528, 2529, 2530, 2531, 2532,\n",
       "        2533, 2534, 2535, 2536, 2537, 2538, 2539, 2540, 2541, 2542, 2543,\n",
       "        2544, 2545, 2546, 2547, 2548, 2549, 2550, 2551, 2552, 2553, 2554,\n",
       "        2555, 2556, 2557, 2558, 2559, 2560, 2561, 2562, 2563, 2564, 2565,\n",
       "        2566, 2567, 2568, 2569, 2570, 2571, 2572, 2573, 2574, 2575, 2576,\n",
       "        2577, 2578, 2579, 2580, 2581, 2582, 2583, 2584, 2585, 2586, 2587,\n",
       "        2588, 2589, 2590, 2591, 2592, 2593, 2594, 2595, 2596, 2597, 2598,\n",
       "        2599],\n",
       "       [2600, 2601, 2602, 2603, 2604, 2605, 2606, 2607, 2608, 2609, 2610,\n",
       "        2611, 2612, 2613, 2614, 2615, 2616, 2617, 2618, 2619, 2620, 2621,\n",
       "        2622, 2623, 2624, 2625, 2626, 2627, 2628, 2629, 2630, 2631, 2632,\n",
       "        2633, 2634, 2635, 2636, 2637, 2638, 2639, 2640, 2641, 2642, 2643,\n",
       "        2644, 2645, 2646, 2647, 2648, 2649, 2650, 2651, 2652, 2653, 2654,\n",
       "        2655, 2656, 2657, 2658, 2659, 2660, 2661, 2662, 2663, 2664, 2665,\n",
       "        2666, 2667, 2668, 2669, 2670, 2671, 2672, 2673, 2674, 2675, 2676,\n",
       "        2677, 2678, 2679, 2680, 2681, 2682, 2683, 2684, 2685, 2686, 2687,\n",
       "        2688, 2689, 2690, 2691, 2692, 2693, 2694, 2695, 2696, 2697, 2698,\n",
       "        2699],\n",
       "       [2700, 2701, 2702, 2703, 2704, 2705, 2706, 2707, 2708, 2709, 2710,\n",
       "        2711, 2712, 2713, 2714, 2715, 2716, 2717, 2718, 2719, 2720, 2721,\n",
       "        2722, 2723, 2724, 2725, 2726, 2727, 2728, 2729, 2730, 2731, 2732,\n",
       "        2733, 2734, 2735, 2736, 2737, 2738, 2739, 2740, 2741, 2742, 2743,\n",
       "        2744, 2745, 2746, 2747, 2748, 2749, 2750, 2751, 2752, 2753, 2754,\n",
       "        2755, 2756, 2757, 2758, 2759, 2760, 2761, 2762, 2763, 2764, 2765,\n",
       "        2766, 2767, 2768, 2769, 2770, 2771, 2772, 2773, 2774, 2775, 2776,\n",
       "        2777, 2778, 2779, 2780, 2781, 2782, 2783, 2784, 2785, 2786, 2787,\n",
       "        2788, 2789, 2790, 2791, 2792, 2793, 2794, 2795, 2796, 2797, 2798,\n",
       "        2799],\n",
       "       [2800, 2801, 2802, 2803, 2804, 2805, 2806, 2807, 2808, 2809, 2810,\n",
       "        2811, 2812, 2813, 2814, 2815, 2816, 2817, 2818, 2819, 2820, 2821,\n",
       "        2822, 2823, 2824, 2825, 2826, 2827, 2828, 2829, 2830, 2831, 2832,\n",
       "        2833, 2834, 2835, 2836, 2837, 2838, 2839, 2840, 2841, 2842, 2843,\n",
       "        2844, 2845, 2846, 2847, 2848, 2849, 2850, 2851, 2852, 2853, 2854,\n",
       "        2855, 2856, 2857, 2858, 2859, 2860, 2861, 2862, 2863, 2864, 2865,\n",
       "        2866, 2867, 2868, 2869, 2870, 2871, 2872, 2873, 2874, 2875, 2876,\n",
       "        2877, 2878, 2879, 2880, 2881, 2882, 2883, 2884, 2885, 2886, 2887,\n",
       "        2888, 2889, 2890, 2891, 2892, 2893, 2894, 2895, 2896, 2897, 2898,\n",
       "        2899],\n",
       "       [2900, 2901, 2902, 2903, 2904, 2905, 2906, 2907, 2908, 2909, 2910,\n",
       "        2911, 2912, 2913, 2914, 2915, 2916, 2917, 2918, 2919, 2920, 2921,\n",
       "        2922, 2923, 2924, 2925, 2926, 2927, 2928, 2929, 2930, 2931, 2932,\n",
       "        2933, 2934, 2935, 2936, 2937, 2938, 2939, 2940, 2941, 2942, 2943,\n",
       "        2944, 2945, 2946, 2947, 2948, 2949, 2950, 2951, 2952, 2953, 2954,\n",
       "        2955, 2956, 2957, 2958, 2959, 2960, 2961, 2962, 2963, 2964, 2965,\n",
       "        2966, 2967, 2968, 2969, 2970, 2971, 2972, 2973, 2974, 2975, 2976,\n",
       "        2977, 2978, 2979, 2980, 2981, 2982, 2983, 2984, 2985, 2986, 2987,\n",
       "        2988, 2989, 2990, 2991, 2992, 2993, 2994, 2995, 2996, 2997, 2998,\n",
       "        2999],\n",
       "       [3000, 3001, 3002, 3003, 3004, 3005, 3006, 3007, 3008, 3009, 3010,\n",
       "        3011, 3012, 3013, 3014, 3015, 3016, 3017, 3018, 3019, 3020, 3021,\n",
       "        3022, 3023, 3024, 3025, 3026, 3027, 3028, 3029, 3030, 3031, 3032,\n",
       "        3033, 3034, 3035, 3036, 3037, 3038, 3039, 3040, 3041, 3042, 3043,\n",
       "        3044, 3045, 3046, 3047, 3048, 3049, 3050, 3051, 3052, 3053, 3054,\n",
       "        3055, 3056, 3057, 3058, 3059, 3060, 3061, 3062, 3063, 3064, 3065,\n",
       "        3066, 3067, 3068, 3069, 3070, 3071, 3072, 3073, 3074, 3075, 3076,\n",
       "        3077, 3078, 3079, 3080, 3081, 3082, 3083, 3084, 3085, 3086, 3087,\n",
       "        3088, 3089, 3090, 3091, 3092, 3093, 3094, 3095, 3096, 3097, 3098,\n",
       "        3099],\n",
       "       [3100, 3101, 3102, 3103, 3104, 3105, 3106, 3107, 3108, 3109, 3110,\n",
       "        3111, 3112, 3113, 3114, 3115, 3116, 3117, 3118, 3119, 3120, 3121,\n",
       "        3122, 3123, 3124, 3125, 3126, 3127, 3128, 3129, 3130, 3131, 3132,\n",
       "        3133, 3134, 3135, 3136, 3137, 3138, 3139, 3140, 3141, 3142, 3143,\n",
       "        3144, 3145, 3146, 3147, 3148, 3149, 3150, 3151, 3152, 3153, 3154,\n",
       "        3155, 3156, 3157, 3158, 3159, 3160, 3161, 3162, 3163, 3164, 3165,\n",
       "        3166, 3167, 3168, 3169, 3170, 3171, 3172, 3173, 3174, 3175, 3176,\n",
       "        3177, 3178, 3179, 3180, 3181, 3182, 3183, 3184, 3185, 3186, 3187,\n",
       "        3188, 3189, 3190, 3191, 3192, 3193, 3194, 3195, 3196, 3197, 3198,\n",
       "        3199],\n",
       "       [3200, 3201, 3202, 3203, 3204, 3205, 3206, 3207, 3208, 3209, 3210,\n",
       "        3211, 3212, 3213, 3214, 3215, 3216, 3217, 3218, 3219, 3220, 3221,\n",
       "        3222, 3223, 3224, 3225, 3226, 3227, 3228, 3229, 3230, 3231, 3232,\n",
       "        3233, 3234, 3235, 3236, 3237, 3238, 3239, 3240, 3241, 3242, 3243,\n",
       "        3244, 3245, 3246, 3247, 3248, 3249, 3250, 3251, 3252, 3253, 3254,\n",
       "        3255, 3256, 3257, 3258, 3259, 3260, 3261, 3262, 3263, 3264, 3265,\n",
       "        3266, 3267, 3268, 3269, 3270, 3271, 3272, 3273, 3274, 3275, 3276,\n",
       "        3277, 3278, 3279, 3280, 3281, 3282, 3283, 3284, 3285, 3286, 3287,\n",
       "        3288, 3289, 3290, 3291, 3292, 3293, 3294, 3295, 3296, 3297, 3298,\n",
       "        3299],\n",
       "       [3300, 3301, 3302, 3303, 3304, 3305, 3306, 3307, 3308, 3309, 3310,\n",
       "        3311, 3312, 3313, 3314, 3315, 3316, 3317, 3318, 3319, 3320, 3321,\n",
       "        3322, 3323, 3324, 3325, 3326, 3327, 3328, 3329, 3330, 3331, 3332,\n",
       "        3333, 3334, 3335, 3336, 3337, 3338, 3339, 3340, 3341, 3342, 3343,\n",
       "        3344, 3345, 3346, 3347, 3348, 3349, 3350, 3351, 3352, 3353, 3354,\n",
       "        3355, 3356, 3357, 3358, 3359, 3360, 3361, 3362, 3363, 3364, 3365,\n",
       "        3366, 3367, 3368, 3369, 3370, 3371, 3372, 3373, 3374, 3375, 3376,\n",
       "        3377, 3378, 3379, 3380, 3381, 3382, 3383, 3384, 3385, 3386, 3387,\n",
       "        3388, 3389, 3390, 3391, 3392, 3393, 3394, 3395, 3396, 3397, 3398,\n",
       "        3399],\n",
       "       [3400, 3401, 3402, 3403, 3404, 3405, 3406, 3407, 3408, 3409, 3410,\n",
       "        3411, 3412, 3413, 3414, 3415, 3416, 3417, 3418, 3419, 3420, 3421,\n",
       "        3422, 3423, 3424, 3425, 3426, 3427, 3428, 3429, 3430, 3431, 3432,\n",
       "        3433, 3434, 3435, 3436, 3437, 3438, 3439, 3440, 3441, 3442, 3443,\n",
       "        3444, 3445, 3446, 3447, 3448, 3449, 3450, 3451, 3452, 3453, 3454,\n",
       "        3455, 3456, 3457, 3458, 3459, 3460, 3461, 3462, 3463, 3464, 3465,\n",
       "        3466, 3467, 3468, 3469, 3470, 3471, 3472, 3473, 3474, 3475, 3476,\n",
       "        3477, 3478, 3479, 3480, 3481, 3482, 3483, 3484, 3485, 3486, 3487,\n",
       "        3488, 3489, 3490, 3491, 3492, 3493, 3494, 3495, 3496, 3497, 3498,\n",
       "        3499],\n",
       "       [3500, 3501, 3502, 3503, 3504, 3505, 3506, 3507, 3508, 3509, 3510,\n",
       "        3511, 3512, 3513, 3514, 3515, 3516, 3517, 3518, 3519, 3520, 3521,\n",
       "        3522, 3523, 3524, 3525, 3526, 3527, 3528, 3529, 3530, 3531, 3532,\n",
       "        3533, 3534, 3535, 3536, 3537, 3538, 3539, 3540, 3541, 3542, 3543,\n",
       "        3544, 3545, 3546, 3547, 3548, 3549, 3550, 3551, 3552, 3553, 3554,\n",
       "        3555, 3556, 3557, 3558, 3559, 3560, 3561, 3562, 3563, 3564, 3565,\n",
       "        3566, 3567, 3568, 3569, 3570, 3571, 3572, 3573, 3574, 3575, 3576,\n",
       "        3577, 3578, 3579, 3580, 3581, 3582, 3583, 3584, 3585, 3586, 3587,\n",
       "        3588, 3589, 3590, 3591, 3592, 3593, 3594, 3595, 3596, 3597, 3598,\n",
       "        3599],\n",
       "       [3600, 3601, 3602, 3603, 3604, 3605, 3606, 3607, 3608, 3609, 3610,\n",
       "        3611, 3612, 3613, 3614, 3615, 3616, 3617, 3618, 3619, 3620, 3621,\n",
       "        3622, 3623, 3624, 3625, 3626, 3627, 3628, 3629, 3630, 3631, 3632,\n",
       "        3633, 3634, 3635, 3636, 3637, 3638, 3639, 3640, 3641, 3642, 3643,\n",
       "        3644, 3645, 3646, 3647, 3648, 3649, 3650, 3651, 3652, 3653, 3654,\n",
       "        3655, 3656, 3657, 3658, 3659, 3660, 3661, 3662, 3663, 3664, 3665,\n",
       "        3666, 3667, 3668, 3669, 3670, 3671, 3672, 3673, 3674, 3675, 3676,\n",
       "        3677, 3678, 3679, 3680, 3681, 3682, 3683, 3684, 3685, 3686, 3687,\n",
       "        3688, 3689, 3690, 3691, 3692, 3693, 3694, 3695, 3696, 3697, 3698,\n",
       "        3699],\n",
       "       [3700, 3701, 3702, 3703, 3704, 3705, 3706, 3707, 3708, 3709, 3710,\n",
       "        3711, 3712, 3713, 3714, 3715, 3716, 3717, 3718, 3719, 3720, 3721,\n",
       "        3722, 3723, 3724, 3725, 3726, 3727, 3728, 3729, 3730, 3731, 3732,\n",
       "        3733, 3734, 3735, 3736, 3737, 3738, 3739, 3740, 3741, 3742, 3743,\n",
       "        3744, 3745, 3746, 3747, 3748, 3749, 3750, 3751, 3752, 3753, 3754,\n",
       "        3755, 3756, 3757, 3758, 3759, 3760, 3761, 3762, 3763, 3764, 3765,\n",
       "        3766, 3767, 3768, 3769, 3770, 3771, 3772, 3773, 3774, 3775, 3776,\n",
       "        3777, 3778, 3779, 3780, 3781, 3782, 3783, 3784, 3785, 3786, 3787,\n",
       "        3788, 3789, 3790, 3791, 3792, 3793, 3794, 3795, 3796, 3797, 3798,\n",
       "        3799],\n",
       "       [3800, 3801, 3802, 3803, 3804, 3805, 3806, 3807, 3808, 3809, 3810,\n",
       "        3811, 3812, 3813, 3814, 3815, 3816, 3817, 3818, 3819, 3820, 3821,\n",
       "        3822, 3823, 3824, 3825, 3826, 3827, 3828, 3829, 3830, 3831, 3832,\n",
       "        3833, 3834, 3835, 3836, 3837, 3838, 3839, 3840, 3841, 3842, 3843,\n",
       "        3844, 3845, 3846, 3847, 3848, 3849, 3850, 3851, 3852, 3853, 3854,\n",
       "        3855, 3856, 3857, 3858, 3859, 3860, 3861, 3862, 3863, 3864, 3865,\n",
       "        3866, 3867, 3868, 3869, 3870, 3871, 3872, 3873, 3874, 3875, 3876,\n",
       "        3877, 3878, 3879, 3880, 3881, 3882, 3883, 3884, 3885, 3886, 3887,\n",
       "        3888, 3889, 3890, 3891, 3892, 3893, 3894, 3895, 3896, 3897, 3898,\n",
       "        3899],\n",
       "       [3900, 3901, 3902, 3903, 3904, 3905, 3906, 3907, 3908, 3909, 3910,\n",
       "        3911, 3912, 3913, 3914, 3915, 3916, 3917, 3918, 3919, 3920, 3921,\n",
       "        3922, 3923, 3924, 3925, 3926, 3927, 3928, 3929, 3930, 3931, 3932,\n",
       "        3933, 3934, 3935, 3936, 3937, 3938, 3939, 3940, 3941, 3942, 3943,\n",
       "        3944, 3945, 3946, 3947, 3948, 3949, 3950, 3951, 3952, 3953, 3954,\n",
       "        3955, 3956, 3957, 3958, 3959, 3960, 3961, 3962, 3963, 3964, 3965,\n",
       "        3966, 3967, 3968, 3969, 3970, 3971, 3972, 3973, 3974, 3975, 3976,\n",
       "        3977, 3978, 3979, 3980, 3981, 3982, 3983, 3984, 3985, 3986, 3987,\n",
       "        3988, 3989, 3990, 3991, 3992, 3993, 3994, 3995, 3996, 3997, 3998,\n",
       "        3999],\n",
       "       [4000, 4001, 4002, 4003, 4004, 4005, 4006, 4007, 4008, 4009, 4010,\n",
       "        4011, 4012, 4013, 4014, 4015, 4016, 4017, 4018, 4019, 4020, 4021,\n",
       "        4022, 4023, 4024, 4025, 4026, 4027, 4028, 4029, 4030, 4031, 4032,\n",
       "        4033, 4034, 4035, 4036, 4037, 4038, 4039, 4040, 4041, 4042, 4043,\n",
       "        4044, 4045, 4046, 4047, 4048, 4049, 4050, 4051, 4052, 4053, 4054,\n",
       "        4055, 4056, 4057, 4058, 4059, 4060, 4061, 4062, 4063, 4064, 4065,\n",
       "        4066, 4067, 4068, 4069, 4070, 4071, 4072, 4073, 4074, 4075, 4076,\n",
       "        4077, 4078, 4079, 4080, 4081, 4082, 4083, 4084, 4085, 4086, 4087,\n",
       "        4088, 4089, 4090, 4091, 4092, 4093, 4094, 4095, 4096, 4097, 4098,\n",
       "        4099],\n",
       "       [4100, 4101, 4102, 4103, 4104, 4105, 4106, 4107, 4108, 4109, 4110,\n",
       "        4111, 4112, 4113, 4114, 4115, 4116, 4117, 4118, 4119, 4120, 4121,\n",
       "        4122, 4123, 4124, 4125, 4126, 4127, 4128, 4129, 4130, 4131, 4132,\n",
       "        4133, 4134, 4135, 4136, 4137, 4138, 4139, 4140, 4141, 4142, 4143,\n",
       "        4144, 4145, 4146, 4147, 4148, 4149, 4150, 4151, 4152, 4153, 4154,\n",
       "        4155, 4156, 4157, 4158, 4159, 4160, 4161, 4162, 4163, 4164, 4165,\n",
       "        4166, 4167, 4168, 4169, 4170, 4171, 4172, 4173, 4174, 4175, 4176,\n",
       "        4177, 4178, 4179, 4180, 4181, 4182, 4183, 4184, 4185, 4186, 4187,\n",
       "        4188, 4189, 4190, 4191, 4192, 4193, 4194, 4195, 4196, 4197, 4198,\n",
       "        4199],\n",
       "       [4200, 4201, 4202, 4203, 4204, 4205, 4206, 4207, 4208, 4209, 4210,\n",
       "        4211, 4212, 4213, 4214, 4215, 4216, 4217, 4218, 4219, 4220, 4221,\n",
       "        4222, 4223, 4224, 4225, 4226, 4227, 4228, 4229, 4230, 4231, 4232,\n",
       "        4233, 4234, 4235, 4236, 4237, 4238, 4239, 4240, 4241, 4242, 4243,\n",
       "        4244, 4245, 4246, 4247, 4248, 4249, 4250, 4251, 4252, 4253, 4254,\n",
       "        4255, 4256, 4257, 4258, 4259, 4260, 4261, 4262, 4263, 4264, 4265,\n",
       "        4266, 4267, 4268, 4269, 4270, 4271, 4272, 4273, 4274, 4275, 4276,\n",
       "        4277, 4278, 4279, 4280, 4281, 4282, 4283, 4284, 4285, 4286, 4287,\n",
       "        4288, 4289, 4290, 4291, 4292, 4293, 4294, 4295, 4296, 4297, 4298,\n",
       "        4299],\n",
       "       [4300, 4301, 4302, 4303, 4304, 4305, 4306, 4307, 4308, 4309, 4310,\n",
       "        4311, 4312, 4313, 4314, 4315, 4316, 4317, 4318, 4319, 4320, 4321,\n",
       "        4322, 4323, 4324, 4325, 4326, 4327, 4328, 4329, 4330, 4331, 4332,\n",
       "        4333, 4334, 4335, 4336, 4337, 4338, 4339, 4340, 4341, 4342, 4343,\n",
       "        4344, 4345, 4346, 4347, 4348, 4349, 4350, 4351, 4352, 4353, 4354,\n",
       "        4355, 4356, 4357, 4358, 4359, 4360, 4361, 4362, 4363, 4364, 4365,\n",
       "        4366, 4367, 4368, 4369, 4370, 4371, 4372, 4373, 4374, 4375, 4376,\n",
       "        4377, 4378, 4379, 4380, 4381, 4382, 4383, 4384, 4385, 4386, 4387,\n",
       "        4388, 4389, 4390, 4391, 4392, 4393, 4394, 4395, 4396, 4397, 4398,\n",
       "        4399],\n",
       "       [4400, 4401, 4402, 4403, 4404, 4405, 4406, 4407, 4408, 4409, 4410,\n",
       "        4411, 4412, 4413, 4414, 4415, 4416, 4417, 4418, 4419, 4420, 4421,\n",
       "        4422, 4423, 4424, 4425, 4426, 4427, 4428, 4429, 4430, 4431, 4432,\n",
       "        4433, 4434, 4435, 4436, 4437, 4438, 4439, 4440, 4441, 4442, 4443,\n",
       "        4444, 4445, 4446, 4447, 4448, 4449, 4450, 4451, 4452, 4453, 4454,\n",
       "        4455, 4456, 4457, 4458, 4459, 4460, 4461, 4462, 4463, 4464, 4465,\n",
       "        4466, 4467, 4468, 4469, 4470, 4471, 4472, 4473, 4474, 4475, 4476,\n",
       "        4477, 4478, 4479, 4480, 4481, 4482, 4483, 4484, 4485, 4486, 4487,\n",
       "        4488, 4489, 4490, 4491, 4492, 4493, 4494, 4495, 4496, 4497, 4498,\n",
       "        4499],\n",
       "       [4500, 4501, 4502, 4503, 4504, 4505, 4506, 4507, 4508, 4509, 4510,\n",
       "        4511, 4512, 4513, 4514, 4515, 4516, 4517, 4518, 4519, 4520, 4521,\n",
       "        4522, 4523, 4524, 4525, 4526, 4527, 4528, 4529, 4530, 4531, 4532,\n",
       "        4533, 4534, 4535, 4536, 4537, 4538, 4539, 4540, 4541, 4542, 4543,\n",
       "        4544, 4545, 4546, 4547, 4548, 4549, 4550, 4551, 4552, 4553, 4554,\n",
       "        4555, 4556, 4557, 4558, 4559, 4560, 4561, 4562, 4563, 4564, 4565,\n",
       "        4566, 4567, 4568, 4569, 4570, 4571, 4572, 4573, 4574, 4575, 4576,\n",
       "        4577, 4578, 4579, 4580, 4581, 4582, 4583, 4584, 4585, 4586, 4587,\n",
       "        4588, 4589, 4590, 4591, 4592, 4593, 4594, 4595, 4596, 4597, 4598,\n",
       "        4599],\n",
       "       [4600, 4601, 4602, 4603, 4604, 4605, 4606, 4607, 4608, 4609, 4610,\n",
       "        4611, 4612, 4613, 4614, 4615, 4616, 4617, 4618, 4619, 4620, 4621,\n",
       "        4622, 4623, 4624, 4625, 4626, 4627, 4628, 4629, 4630, 4631, 4632,\n",
       "        4633, 4634, 4635, 4636, 4637, 4638, 4639, 4640, 4641, 4642, 4643,\n",
       "        4644, 4645, 4646, 4647, 4648, 4649, 4650, 4651, 4652, 4653, 4654,\n",
       "        4655, 4656, 4657, 4658, 4659, 4660, 4661, 4662, 4663, 4664, 4665,\n",
       "        4666, 4667, 4668, 4669, 4670, 4671, 4672, 4673, 4674, 4675, 4676,\n",
       "        4677, 4678, 4679, 4680, 4681, 4682, 4683, 4684, 4685, 4686, 4687,\n",
       "        4688, 4689, 4690, 4691, 4692, 4693, 4694, 4695, 4696, 4697, 4698,\n",
       "        4699],\n",
       "       [4700, 4701, 4702, 4703, 4704, 4705, 4706, 4707, 4708, 4709, 4710,\n",
       "        4711, 4712, 4713, 4714, 4715, 4716, 4717, 4718, 4719, 4720, 4721,\n",
       "        4722, 4723, 4724, 4725, 4726, 4727, 4728, 4729, 4730, 4731, 4732,\n",
       "        4733, 4734, 4735, 4736, 4737, 4738, 4739, 4740, 4741, 4742, 4743,\n",
       "        4744, 4745, 4746, 4747, 4748, 4749, 4750, 4751, 4752, 4753, 4754,\n",
       "        4755, 4756, 4757, 4758, 4759, 4760, 4761, 4762, 4763, 4764, 4765,\n",
       "        4766, 4767, 4768, 4769, 4770, 4771, 4772, 4773, 4774, 4775, 4776,\n",
       "        4777, 4778, 4779, 4780, 4781, 4782, 4783, 4784, 4785, 4786, 4787,\n",
       "        4788, 4789, 4790, 4791, 4792, 4793, 4794, 4795, 4796, 4797, 4798,\n",
       "        4799],\n",
       "       [4800, 4801, 4802, 4803, 4804, 4805, 4806, 4807, 4808, 4809, 4810,\n",
       "        4811, 4812, 4813, 4814, 4815, 4816, 4817, 4818, 4819, 4820, 4821,\n",
       "        4822, 4823, 4824, 4825, 4826, 4827, 4828, 4829, 4830, 4831, 4832,\n",
       "        4833, 4834, 4835, 4836, 4837, 4838, 4839, 4840, 4841, 4842, 4843,\n",
       "        4844, 4845, 4846, 4847, 4848, 4849, 4850, 4851, 4852, 4853, 4854,\n",
       "        4855, 4856, 4857, 4858, 4859, 4860, 4861, 4862, 4863, 4864, 4865,\n",
       "        4866, 4867, 4868, 4869, 4870, 4871, 4872, 4873, 4874, 4875, 4876,\n",
       "        4877, 4878, 4879, 4880, 4881, 4882, 4883, 4884, 4885, 4886, 4887,\n",
       "        4888, 4889, 4890, 4891, 4892, 4893, 4894, 4895, 4896, 4897, 4898,\n",
       "        4899],\n",
       "       [4900, 4901, 4902, 4903, 4904, 4905, 4906, 4907, 4908, 4909, 4910,\n",
       "        4911, 4912, 4913, 4914, 4915, 4916, 4917, 4918, 4919, 4920, 4921,\n",
       "        4922, 4923, 4924, 4925, 4926, 4927, 4928, 4929, 4930, 4931, 4932,\n",
       "        4933, 4934, 4935, 4936, 4937, 4938, 4939, 4940, 4941, 4942, 4943,\n",
       "        4944, 4945, 4946, 4947, 4948, 4949, 4950, 4951, 4952, 4953, 4954,\n",
       "        4955, 4956, 4957, 4958, 4959, 4960, 4961, 4962, 4963, 4964, 4965,\n",
       "        4966, 4967, 4968, 4969, 4970, 4971, 4972, 4973, 4974, 4975, 4976,\n",
       "        4977, 4978, 4979, 4980, 4981, 4982, 4983, 4984, 4985, 4986, 4987,\n",
       "        4988, 4989, 4990, 4991, 4992, 4993, 4994, 4995, 4996, 4997, 4998,\n",
       "        4999],\n",
       "       [5000, 5001, 5002, 5003, 5004, 5005, 5006, 5007, 5008, 5009, 5010,\n",
       "        5011, 5012, 5013, 5014, 5015, 5016, 5017, 5018, 5019, 5020, 5021,\n",
       "        5022, 5023, 5024, 5025, 5026, 5027, 5028, 5029, 5030, 5031, 5032,\n",
       "        5033, 5034, 5035, 5036, 5037, 5038, 5039, 5040, 5041, 5042, 5043,\n",
       "        5044, 5045, 5046, 5047, 5048, 5049, 5050, 5051, 5052, 5053, 5054,\n",
       "        5055, 5056, 5057, 5058, 5059, 5060, 5061, 5062, 5063, 5064, 5065,\n",
       "        5066, 5067, 5068, 5069, 5070, 5071, 5072, 5073, 5074, 5075, 5076,\n",
       "        5077, 5078, 5079, 5080, 5081, 5082, 5083, 5084, 5085, 5086, 5087,\n",
       "        5088, 5089, 5090, 5091, 5092, 5093, 5094, 5095, 5096, 5097, 5098,\n",
       "        5099],\n",
       "       [5100, 5101, 5102, 5103, 5104, 5105, 5106, 5107, 5108, 5109, 5110,\n",
       "        5111, 5112, 5113, 5114, 5115, 5116, 5117, 5118, 5119, 5120, 5121,\n",
       "        5122, 5123, 5124, 5125, 5126, 5127, 5128, 5129, 5130, 5131, 5132,\n",
       "        5133, 5134, 5135, 5136, 5137, 5138, 5139, 5140, 5141, 5142, 5143,\n",
       "        5144, 5145, 5146, 5147, 5148, 5149, 5150, 5151, 5152, 5153, 5154,\n",
       "        5155, 5156, 5157, 5158, 5159, 5160, 5161, 5162, 5163, 5164, 5165,\n",
       "        5166, 5167, 5168, 5169, 5170, 5171, 5172, 5173, 5174, 5175, 5176,\n",
       "        5177, 5178, 5179, 5180, 5181, 5182, 5183, 5184, 5185, 5186, 5187,\n",
       "        5188, 5189, 5190, 5191, 5192, 5193, 5194, 5195, 5196, 5197, 5198,\n",
       "        5199],\n",
       "       [5200, 5201, 5202, 5203, 5204, 5205, 5206, 5207, 5208, 5209, 5210,\n",
       "        5211, 5212, 5213, 5214, 5215, 5216, 5217, 5218, 5219, 5220, 5221,\n",
       "        5222, 5223, 5224, 5225, 5226, 5227, 5228, 5229, 5230, 5231, 5232,\n",
       "        5233, 5234, 5235, 5236, 5237, 5238, 5239, 5240, 5241, 5242, 5243,\n",
       "        5244, 5245, 5246, 5247, 5248, 5249, 5250, 5251, 5252, 5253, 5254,\n",
       "        5255, 5256, 5257, 5258, 5259, 5260, 5261, 5262, 5263, 5264, 5265,\n",
       "        5266, 5267, 5268, 5269, 5270, 5271, 5272, 5273, 5274, 5275, 5276,\n",
       "        5277, 5278, 5279, 5280, 5281, 5282, 5283, 5284, 5285, 5286, 5287,\n",
       "        5288, 5289, 5290, 5291, 5292, 5293, 5294, 5295, 5296, 5297, 5298,\n",
       "        5299],\n",
       "       [5300, 5301, 5302, 5303, 5304, 5305, 5306, 5307, 5308, 5309, 5310,\n",
       "        5311, 5312, 5313, 5314, 5315, 5316, 5317, 5318, 5319, 5320, 5321,\n",
       "        5322, 5323, 5324, 5325, 5326, 5327, 5328, 5329, 5330, 5331, 5332,\n",
       "        5333, 5334, 5335, 5336, 5337, 5338, 5339, 5340, 5341, 5342, 5343,\n",
       "        5344, 5345, 5346, 5347, 5348, 5349, 5350, 5351, 5352, 5353, 5354,\n",
       "        5355, 5356, 5357, 5358, 5359, 5360, 5361, 5362, 5363, 5364, 5365,\n",
       "        5366, 5367, 5368, 5369, 5370, 5371, 5372, 5373, 5374, 5375, 5376,\n",
       "        5377, 5378, 5379, 5380, 5381, 5382, 5383, 5384, 5385, 5386, 5387,\n",
       "        5388, 5389, 5390, 5391, 5392, 5393, 5394, 5395, 5396, 5397, 5398,\n",
       "        5399],\n",
       "       [5400, 5401, 5402, 5403, 5404, 5405, 5406, 5407, 5408, 5409, 5410,\n",
       "        5411, 5412, 5413, 5414, 5415, 5416, 5417, 5418, 5419, 5420, 5421,\n",
       "        5422, 5423, 5424, 5425, 5426, 5427, 5428, 5429, 5430, 5431, 5432,\n",
       "        5433, 5434, 5435, 5436, 5437, 5438, 5439, 5440, 5441, 5442, 5443,\n",
       "        5444, 5445, 5446, 5447, 5448, 5449, 5450, 5451, 5452, 5453, 5454,\n",
       "        5455, 5456, 5457, 5458, 5459, 5460, 5461, 5462, 5463, 5464, 5465,\n",
       "        5466, 5467, 5468, 5469, 5470, 5471, 5472, 5473, 5474, 5475, 5476,\n",
       "        5477, 5478, 5479, 5480, 5481, 5482, 5483, 5484, 5485, 5486, 5487,\n",
       "        5488, 5489, 5490, 5491, 5492, 5493, 5494, 5495, 5496, 5497, 5498,\n",
       "        5499],\n",
       "       [5500, 5501, 5502, 5503, 5504, 5505, 5506, 5507, 5508, 5509, 5510,\n",
       "        5511, 5512, 5513, 5514, 5515, 5516, 5517, 5518, 5519, 5520, 5521,\n",
       "        5522, 5523, 5524, 5525, 5526, 5527, 5528, 5529, 5530, 5531, 5532,\n",
       "        5533, 5534, 5535, 5536, 5537, 5538, 5539, 5540, 5541, 5542, 5543,\n",
       "        5544, 5545, 5546, 5547, 5548, 5549, 5550, 5551, 5552, 5553, 5554,\n",
       "        5555, 5556, 5557, 5558, 5559, 5560, 5561, 5562, 5563, 5564, 5565,\n",
       "        5566, 5567, 5568, 5569, 5570, 5571, 5572, 5573, 5574, 5575, 5576,\n",
       "        5577, 5578, 5579, 5580, 5581, 5582, 5583, 5584, 5585, 5586, 5587,\n",
       "        5588, 5589, 5590, 5591, 5592, 5593, 5594, 5595, 5596, 5597, 5598,\n",
       "        5599],\n",
       "       [5600, 5601, 5602, 5603, 5604, 5605, 5606, 5607, 5608, 5609, 5610,\n",
       "        5611, 5612, 5613, 5614, 5615, 5616, 5617, 5618, 5619, 5620, 5621,\n",
       "        5622, 5623, 5624, 5625, 5626, 5627, 5628, 5629, 5630, 5631, 5632,\n",
       "        5633, 5634, 5635, 5636, 5637, 5638, 5639, 5640, 5641, 5642, 5643,\n",
       "        5644, 5645, 5646, 5647, 5648, 5649, 5650, 5651, 5652, 5653, 5654,\n",
       "        5655, 5656, 5657, 5658, 5659, 5660, 5661, 5662, 5663, 5664, 5665,\n",
       "        5666, 5667, 5668, 5669, 5670, 5671, 5672, 5673, 5674, 5675, 5676,\n",
       "        5677, 5678, 5679, 5680, 5681, 5682, 5683, 5684, 5685, 5686, 5687,\n",
       "        5688, 5689, 5690, 5691, 5692, 5693, 5694, 5695, 5696, 5697, 5698,\n",
       "        5699],\n",
       "       [5700, 5701, 5702, 5703, 5704, 5705, 5706, 5707, 5708, 5709, 5710,\n",
       "        5711, 5712, 5713, 5714, 5715, 5716, 5717, 5718, 5719, 5720, 5721,\n",
       "        5722, 5723, 5724, 5725, 5726, 5727, 5728, 5729, 5730, 5731, 5732,\n",
       "        5733, 5734, 5735, 5736, 5737, 5738, 5739, 5740, 5741, 5742, 5743,\n",
       "        5744, 5745, 5746, 5747, 5748, 5749, 5750, 5751, 5752, 5753, 5754,\n",
       "        5755, 5756, 5757, 5758, 5759, 5760, 5761, 5762, 5763, 5764, 5765,\n",
       "        5766, 5767, 5768, 5769, 5770, 5771, 5772, 5773, 5774, 5775, 5776,\n",
       "        5777, 5778, 5779, 5780, 5781, 5782, 5783, 5784, 5785, 5786, 5787,\n",
       "        5788, 5789, 5790, 5791, 5792, 5793, 5794, 5795, 5796, 5797, 5798,\n",
       "        5799],\n",
       "       [5800, 5801, 5802, 5803, 5804, 5805, 5806, 5807, 5808, 5809, 5810,\n",
       "        5811, 5812, 5813, 5814, 5815, 5816, 5817, 5818, 5819, 5820, 5821,\n",
       "        5822, 5823, 5824, 5825, 5826, 5827, 5828, 5829, 5830, 5831, 5832,\n",
       "        5833, 5834, 5835, 5836, 5837, 5838, 5839, 5840, 5841, 5842, 5843,\n",
       "        5844, 5845, 5846, 5847, 5848, 5849, 5850, 5851, 5852, 5853, 5854,\n",
       "        5855, 5856, 5857, 5858, 5859, 5860, 5861, 5862, 5863, 5864, 5865,\n",
       "        5866, 5867, 5868, 5869, 5870, 5871, 5872, 5873, 5874, 5875, 5876,\n",
       "        5877, 5878, 5879, 5880, 5881, 5882, 5883, 5884, 5885, 5886, 5887,\n",
       "        5888, 5889, 5890, 5891, 5892, 5893, 5894, 5895, 5896, 5897, 5898,\n",
       "        5899],\n",
       "       [5900, 5901, 5902, 5903, 5904, 5905, 5906, 5907, 5908, 5909, 5910,\n",
       "        5911, 5912, 5913, 5914, 5915, 5916, 5917, 5918, 5919, 5920, 5921,\n",
       "        5922, 5923, 5924, 5925, 5926, 5927, 5928, 5929, 5930, 5931, 5932,\n",
       "        5933, 5934, 5935, 5936, 5937, 5938, 5939, 5940, 5941, 5942, 5943,\n",
       "        5944, 5945, 5946, 5947, 5948, 5949, 5950, 5951, 5952, 5953, 5954,\n",
       "        5955, 5956, 5957, 5958, 5959, 5960, 5961, 5962, 5963, 5964, 5965,\n",
       "        5966, 5967, 5968, 5969, 5970, 5971, 5972, 5973, 5974, 5975, 5976,\n",
       "        5977, 5978, 5979, 5980, 5981, 5982, 5983, 5984, 5985, 5986, 5987,\n",
       "        5988, 5989, 5990, 5991, 5992, 5993, 5994, 5995, 5996, 5997, 5998,\n",
       "        5999],\n",
       "       [6000, 6001, 6002, 6003, 6004, 6005, 6006, 6007, 6008, 6009, 6010,\n",
       "        6011, 6012, 6013, 6014, 6015, 6016, 6017, 6018, 6019, 6020, 6021,\n",
       "        6022, 6023, 6024, 6025, 6026, 6027, 6028, 6029, 6030, 6031, 6032,\n",
       "        6033, 6034, 6035, 6036, 6037, 6038, 6039, 6040, 6041, 6042, 6043,\n",
       "        6044, 6045, 6046, 6047, 6048, 6049, 6050, 6051, 6052, 6053, 6054,\n",
       "        6055, 6056, 6057, 6058, 6059, 6060, 6061, 6062, 6063, 6064, 6065,\n",
       "        6066, 6067, 6068, 6069, 6070, 6071, 6072, 6073, 6074, 6075, 6076,\n",
       "        6077, 6078, 6079, 6080, 6081, 6082, 6083, 6084, 6085, 6086, 6087,\n",
       "        6088, 6089, 6090, 6091, 6092, 6093, 6094, 6095, 6096, 6097, 6098,\n",
       "        6099],\n",
       "       [6100, 6101, 6102, 6103, 6104, 6105, 6106, 6107, 6108, 6109, 6110,\n",
       "        6111, 6112, 6113, 6114, 6115, 6116, 6117, 6118, 6119, 6120, 6121,\n",
       "        6122, 6123, 6124, 6125, 6126, 6127, 6128, 6129, 6130, 6131, 6132,\n",
       "        6133, 6134, 6135, 6136, 6137, 6138, 6139, 6140, 6141, 6142, 6143,\n",
       "        6144, 6145, 6146, 6147, 6148, 6149, 6150, 6151, 6152, 6153, 6154,\n",
       "        6155, 6156, 6157, 6158, 6159, 6160, 6161, 6162, 6163, 6164, 6165,\n",
       "        6166, 6167, 6168, 6169, 6170, 6171, 6172, 6173, 6174, 6175, 6176,\n",
       "        6177, 6178, 6179, 6180, 6181, 6182, 6183, 6184, 6185, 6186, 6187,\n",
       "        6188, 6189, 6190, 6191, 6192, 6193, 6194, 6195, 6196, 6197, 6198,\n",
       "        6199],\n",
       "       [6200, 6201, 6202, 6203, 6204, 6205, 6206, 6207, 6208, 6209, 6210,\n",
       "        6211, 6212, 6213, 6214, 6215, 6216, 6217, 6218, 6219, 6220, 6221,\n",
       "        6222, 6223, 6224, 6225, 6226, 6227, 6228, 6229, 6230, 6231, 6232,\n",
       "        6233, 6234, 6235, 6236, 6237, 6238, 6239, 6240, 6241, 6242, 6243,\n",
       "        6244, 6245, 6246, 6247, 6248, 6249, 6250, 6251, 6252, 6253, 6254,\n",
       "        6255, 6256, 6257, 6258, 6259, 6260, 6261, 6262, 6263, 6264, 6265,\n",
       "        6266, 6267, 6268, 6269, 6270, 6271, 6272, 6273, 6274, 6275, 6276,\n",
       "        6277, 6278, 6279, 6280, 6281, 6282, 6283, 6284, 6285, 6286, 6287,\n",
       "        6288, 6289, 6290, 6291, 6292, 6293, 6294, 6295, 6296, 6297, 6298,\n",
       "        6299],\n",
       "       [6300, 6301, 6302, 6303, 6304, 6305, 6306, 6307, 6308, 6309, 6310,\n",
       "        6311, 6312, 6313, 6314, 6315, 6316, 6317, 6318, 6319, 6320, 6321,\n",
       "        6322, 6323, 6324, 6325, 6326, 6327, 6328, 6329, 6330, 6331, 6332,\n",
       "        6333, 6334, 6335, 6336, 6337, 6338, 6339, 6340, 6341, 6342, 6343,\n",
       "        6344, 6345, 6346, 6347, 6348, 6349, 6350, 6351, 6352, 6353, 6354,\n",
       "        6355, 6356, 6357, 6358, 6359, 6360, 6361, 6362, 6363, 6364, 6365,\n",
       "        6366, 6367, 6368, 6369, 6370, 6371, 6372, 6373, 6374, 6375, 6376,\n",
       "        6377, 6378, 6379, 6380, 6381, 6382, 6383, 6384, 6385, 6386, 6387,\n",
       "        6388, 6389, 6390, 6391, 6392, 6393, 6394, 6395, 6396, 6397, 6398,\n",
       "        6399],\n",
       "       [6400, 6401, 6402, 6403, 6404, 6405, 6406, 6407, 6408, 6409, 6410,\n",
       "        6411, 6412, 6413, 6414, 6415, 6416, 6417, 6418, 6419, 6420, 6421,\n",
       "        6422, 6423, 6424, 6425, 6426, 6427, 6428, 6429, 6430, 6431, 6432,\n",
       "        6433, 6434, 6435, 6436, 6437, 6438, 6439, 6440, 6441, 6442, 6443,\n",
       "        6444, 6445, 6446, 6447, 6448, 6449, 6450, 6451, 6452, 6453, 6454,\n",
       "        6455, 6456, 6457, 6458, 6459, 6460, 6461, 6462, 6463, 6464, 6465,\n",
       "        6466, 6467, 6468, 6469, 6470, 6471, 6472, 6473, 6474, 6475, 6476,\n",
       "        6477, 6478, 6479, 6480, 6481, 6482, 6483, 6484, 6485, 6486, 6487,\n",
       "        6488, 6489, 6490, 6491, 6492, 6493, 6494, 6495, 6496, 6497, 6498,\n",
       "        6499],\n",
       "       [6500, 6501, 6502, 6503, 6504, 6505, 6506, 6507, 6508, 6509, 6510,\n",
       "        6511, 6512, 6513, 6514, 6515, 6516, 6517, 6518, 6519, 6520, 6521,\n",
       "        6522, 6523, 6524, 6525, 6526, 6527, 6528, 6529, 6530, 6531, 6532,\n",
       "        6533, 6534, 6535, 6536, 6537, 6538, 6539, 6540, 6541, 6542, 6543,\n",
       "        6544, 6545, 6546, 6547, 6548, 6549, 6550, 6551, 6552, 6553, 6554,\n",
       "        6555, 6556, 6557, 6558, 6559, 6560, 6561, 6562, 6563, 6564, 6565,\n",
       "        6566, 6567, 6568, 6569, 6570, 6571, 6572, 6573, 6574, 6575, 6576,\n",
       "        6577, 6578, 6579, 6580, 6581, 6582, 6583, 6584, 6585, 6586, 6587,\n",
       "        6588, 6589, 6590, 6591, 6592, 6593, 6594, 6595, 6596, 6597, 6598,\n",
       "        6599],\n",
       "       [6600, 6601, 6602, 6603, 6604, 6605, 6606, 6607, 6608, 6609, 6610,\n",
       "        6611, 6612, 6613, 6614, 6615, 6616, 6617, 6618, 6619, 6620, 6621,\n",
       "        6622, 6623, 6624, 6625, 6626, 6627, 6628, 6629, 6630, 6631, 6632,\n",
       "        6633, 6634, 6635, 6636, 6637, 6638, 6639, 6640, 6641, 6642, 6643,\n",
       "        6644, 6645, 6646, 6647, 6648, 6649, 6650, 6651, 6652, 6653, 6654,\n",
       "        6655, 6656, 6657, 6658, 6659, 6660, 6661, 6662, 6663, 6664, 6665,\n",
       "        6666, 6667, 6668, 6669, 6670, 6671, 6672, 6673, 6674, 6675, 6676,\n",
       "        6677, 6678, 6679, 6680, 6681, 6682, 6683, 6684, 6685, 6686, 6687,\n",
       "        6688, 6689, 6690, 6691, 6692, 6693, 6694, 6695, 6696, 6697, 6698,\n",
       "        6699],\n",
       "       [6700, 6701, 6702, 6703, 6704, 6705, 6706, 6707, 6708, 6709, 6710,\n",
       "        6711, 6712, 6713, 6714, 6715, 6716, 6717, 6718, 6719, 6720, 6721,\n",
       "        6722, 6723, 6724, 6725, 6726, 6727, 6728, 6729, 6730, 6731, 6732,\n",
       "        6733, 6734, 6735, 6736, 6737, 6738, 6739, 6740, 6741, 6742, 6743,\n",
       "        6744, 6745, 6746, 6747, 6748, 6749, 6750, 6751, 6752, 6753, 6754,\n",
       "        6755, 6756, 6757, 6758, 6759, 6760, 6761, 6762, 6763, 6764, 6765,\n",
       "        6766, 6767, 6768, 6769, 6770, 6771, 6772, 6773, 6774, 6775, 6776,\n",
       "        6777, 6778, 6779, 6780, 6781, 6782, 6783, 6784, 6785, 6786, 6787,\n",
       "        6788, 6789, 6790, 6791, 6792, 6793, 6794, 6795, 6796, 6797, 6798,\n",
       "        6799],\n",
       "       [6800, 6801, 6802, 6803, 6804, 6805, 6806, 6807, 6808, 6809, 6810,\n",
       "        6811, 6812, 6813, 6814, 6815, 6816, 6817, 6818, 6819, 6820, 6821,\n",
       "        6822, 6823, 6824, 6825, 6826, 6827, 6828, 6829, 6830, 6831, 6832,\n",
       "        6833, 6834, 6835, 6836, 6837, 6838, 6839, 6840, 6841, 6842, 6843,\n",
       "        6844, 6845, 6846, 6847, 6848, 6849, 6850, 6851, 6852, 6853, 6854,\n",
       "        6855, 6856, 6857, 6858, 6859, 6860, 6861, 6862, 6863, 6864, 6865,\n",
       "        6866, 6867, 6868, 6869, 6870, 6871, 6872, 6873, 6874, 6875, 6876,\n",
       "        6877, 6878, 6879, 6880, 6881, 6882, 6883, 6884, 6885, 6886, 6887,\n",
       "        6888, 6889, 6890, 6891, 6892, 6893, 6894, 6895, 6896, 6897, 6898,\n",
       "        6899],\n",
       "       [6900, 6901, 6902, 6903, 6904, 6905, 6906, 6907, 6908, 6909, 6910,\n",
       "        6911, 6912, 6913, 6914, 6915, 6916, 6917, 6918, 6919, 6920, 6921,\n",
       "        6922, 6923, 6924, 6925, 6926, 6927, 6928, 6929, 6930, 6931, 6932,\n",
       "        6933, 6934, 6935, 6936, 6937, 6938, 6939, 6940, 6941, 6942, 6943,\n",
       "        6944, 6945, 6946, 6947, 6948, 6949, 6950, 6951, 6952, 6953, 6954,\n",
       "        6955, 6956, 6957, 6958, 6959, 6960, 6961, 6962, 6963, 6964, 6965,\n",
       "        6966, 6967, 6968, 6969, 6970, 6971, 6972, 6973, 6974, 6975, 6976,\n",
       "        6977, 6978, 6979, 6980, 6981, 6982, 6983, 6984, 6985, 6986, 6987,\n",
       "        6988, 6989, 6990, 6991, 6992, 6993, 6994, 6995, 6996, 6997, 6998,\n",
       "        6999],\n",
       "       [7000, 7001, 7002, 7003, 7004, 7005, 7006, 7007, 7008, 7009, 7010,\n",
       "        7011, 7012, 7013, 7014, 7015, 7016, 7017, 7018, 7019, 7020, 7021,\n",
       "        7022, 7023, 7024, 7025, 7026, 7027, 7028, 7029, 7030, 7031, 7032,\n",
       "        7033, 7034, 7035, 7036, 7037, 7038, 7039, 7040, 7041, 7042, 7043,\n",
       "        7044, 7045, 7046, 7047, 7048, 7049, 7050, 7051, 7052, 7053, 7054,\n",
       "        7055, 7056, 7057, 7058, 7059, 7060, 7061, 7062, 7063, 7064, 7065,\n",
       "        7066, 7067, 7068, 7069, 7070, 7071, 7072, 7073, 7074, 7075, 7076,\n",
       "        7077, 7078, 7079, 7080, 7081, 7082, 7083, 7084, 7085, 7086, 7087,\n",
       "        7088, 7089, 7090, 7091, 7092, 7093, 7094, 7095, 7096, 7097, 7098,\n",
       "        7099],\n",
       "       [7100, 7101, 7102, 7103, 7104, 7105, 7106, 7107, 7108, 7109, 7110,\n",
       "        7111, 7112, 7113, 7114, 7115, 7116, 7117, 7118, 7119, 7120, 7121,\n",
       "        7122, 7123, 7124, 7125, 7126, 7127, 7128, 7129, 7130, 7131, 7132,\n",
       "        7133, 7134, 7135, 7136, 7137, 7138, 7139, 7140, 7141, 7142, 7143,\n",
       "        7144, 7145, 7146, 7147, 7148, 7149, 7150, 7151, 7152, 7153, 7154,\n",
       "        7155, 7156, 7157, 7158, 7159, 7160, 7161, 7162, 7163, 7164, 7165,\n",
       "        7166, 7167, 7168, 7169, 7170, 7171, 7172, 7173, 7174, 7175, 7176,\n",
       "        7177, 7178, 7179, 7180, 7181, 7182, 7183, 7184, 7185, 7186, 7187,\n",
       "        7188, 7189, 7190, 7191, 7192, 7193, 7194, 7195, 7196, 7197, 7198,\n",
       "        7199],\n",
       "       [7200, 7201, 7202, 7203, 7204, 7205, 7206, 7207, 7208, 7209, 7210,\n",
       "        7211, 7212, 7213, 7214, 7215, 7216, 7217, 7218, 7219, 7220, 7221,\n",
       "        7222, 7223, 7224, 7225, 7226, 7227, 7228, 7229, 7230, 7231, 7232,\n",
       "        7233, 7234, 7235, 7236, 7237, 7238, 7239, 7240, 7241, 7242, 7243,\n",
       "        7244, 7245, 7246, 7247, 7248, 7249, 7250, 7251, 7252, 7253, 7254,\n",
       "        7255, 7256, 7257, 7258, 7259, 7260, 7261, 7262, 7263, 7264, 7265,\n",
       "        7266, 7267, 7268, 7269, 7270, 7271, 7272, 7273, 7274, 7275, 7276,\n",
       "        7277, 7278, 7279, 7280, 7281, 7282, 7283, 7284, 7285, 7286, 7287,\n",
       "        7288, 7289, 7290, 7291, 7292, 7293, 7294, 7295, 7296, 7297, 7298,\n",
       "        7299],\n",
       "       [7300, 7301, 7302, 7303, 7304, 7305, 7306, 7307, 7308, 7309, 7310,\n",
       "        7311, 7312, 7313, 7314, 7315, 7316, 7317, 7318, 7319, 7320, 7321,\n",
       "        7322, 7323, 7324, 7325, 7326, 7327, 7328, 7329, 7330, 7331, 7332,\n",
       "        7333, 7334, 7335, 7336, 7337, 7338, 7339, 7340, 7341, 7342, 7343,\n",
       "        7344, 7345, 7346, 7347, 7348, 7349, 7350, 7351, 7352, 7353, 7354,\n",
       "        7355, 7356, 7357, 7358, 7359, 7360, 7361, 7362, 7363, 7364, 7365,\n",
       "        7366, 7367, 7368, 7369, 7370, 7371, 7372, 7373, 7374, 7375, 7376,\n",
       "        7377, 7378, 7379, 7380, 7381, 7382, 7383, 7384, 7385, 7386, 7387,\n",
       "        7388, 7389, 7390, 7391, 7392, 7393, 7394, 7395, 7396, 7397, 7398,\n",
       "        7399],\n",
       "       [7400, 7401, 7402, 7403, 7404, 7405, 7406, 7407, 7408, 7409, 7410,\n",
       "        7411, 7412, 7413, 7414, 7415, 7416, 7417, 7418, 7419, 7420, 7421,\n",
       "        7422, 7423, 7424, 7425, 7426, 7427, 7428, 7429, 7430, 7431, 7432,\n",
       "        7433, 7434, 7435, 7436, 7437, 7438, 7439, 7440, 7441, 7442, 7443,\n",
       "        7444, 7445, 7446, 7447, 7448, 7449, 7450, 7451, 7452, 7453, 7454,\n",
       "        7455, 7456, 7457, 7458, 7459, 7460, 7461, 7462, 7463, 7464, 7465,\n",
       "        7466, 7467, 7468, 7469, 7470, 7471, 7472, 7473, 7474, 7475, 7476,\n",
       "        7477, 7478, 7479, 7480, 7481, 7482, 7483, 7484, 7485, 7486, 7487,\n",
       "        7488, 7489, 7490, 7491, 7492, 7493, 7494, 7495, 7496, 7497, 7498,\n",
       "        7499],\n",
       "       [7500, 7501, 7502, 7503, 7504, 7505, 7506, 7507, 7508, 7509, 7510,\n",
       "        7511, 7512, 7513, 7514, 7515, 7516, 7517, 7518, 7519, 7520, 7521,\n",
       "        7522, 7523, 7524, 7525, 7526, 7527, 7528, 7529, 7530, 7531, 7532,\n",
       "        7533, 7534, 7535, 7536, 7537, 7538, 7539, 7540, 7541, 7542, 7543,\n",
       "        7544, 7545, 7546, 7547, 7548, 7549, 7550, 7551, 7552, 7553, 7554,\n",
       "        7555, 7556, 7557, 7558, 7559, 7560, 7561, 7562, 7563, 7564, 7565,\n",
       "        7566, 7567, 7568, 7569, 7570, 7571, 7572, 7573, 7574, 7575, 7576,\n",
       "        7577, 7578, 7579, 7580, 7581, 7582, 7583, 7584, 7585, 7586, 7587,\n",
       "        7588, 7589, 7590, 7591, 7592, 7593, 7594, 7595, 7596, 7597, 7598,\n",
       "        7599],\n",
       "       [7600, 7601, 7602, 7603, 7604, 7605, 7606, 7607, 7608, 7609, 7610,\n",
       "        7611, 7612, 7613, 7614, 7615, 7616, 7617, 7618, 7619, 7620, 7621,\n",
       "        7622, 7623, 7624, 7625, 7626, 7627, 7628, 7629, 7630, 7631, 7632,\n",
       "        7633, 7634, 7635, 7636, 7637, 7638, 7639, 7640, 7641, 7642, 7643,\n",
       "        7644, 7645, 7646, 7647, 7648, 7649, 7650, 7651, 7652, 7653, 7654,\n",
       "        7655, 7656, 7657, 7658, 7659, 7660, 7661, 7662, 7663, 7664, 7665,\n",
       "        7666, 7667, 7668, 7669, 7670, 7671, 7672, 7673, 7674, 7675, 7676,\n",
       "        7677, 7678, 7679, 7680, 7681, 7682, 7683, 7684, 7685, 7686, 7687,\n",
       "        7688, 7689, 7690, 7691, 7692, 7693, 7694, 7695, 7696, 7697, 7698,\n",
       "        7699],\n",
       "       [7700, 7701, 7702, 7703, 7704, 7705, 7706, 7707, 7708, 7709, 7710,\n",
       "        7711, 7712, 7713, 7714, 7715, 7716, 7717, 7718, 7719, 7720, 7721,\n",
       "        7722, 7723, 7724, 7725, 7726, 7727, 7728, 7729, 7730, 7731, 7732,\n",
       "        7733, 7734, 7735, 7736, 7737, 7738, 7739, 7740, 7741, 7742, 7743,\n",
       "        7744, 7745, 7746, 7747, 7748, 7749, 7750, 7751, 7752, 7753, 7754,\n",
       "        7755, 7756, 7757, 7758, 7759, 7760, 7761, 7762, 7763, 7764, 7765,\n",
       "        7766, 7767, 7768, 7769, 7770, 7771, 7772, 7773, 7774, 7775, 7776,\n",
       "        7777, 7778, 7779, 7780, 7781, 7782, 7783, 7784, 7785, 7786, 7787,\n",
       "        7788, 7789, 7790, 7791, 7792, 7793, 7794, 7795, 7796, 7797, 7798,\n",
       "        7799],\n",
       "       [7800, 7801, 7802, 7803, 7804, 7805, 7806, 7807, 7808, 7809, 7810,\n",
       "        7811, 7812, 7813, 7814, 7815, 7816, 7817, 7818, 7819, 7820, 7821,\n",
       "        7822, 7823, 7824, 7825, 7826, 7827, 7828, 7829, 7830, 7831, 7832,\n",
       "        7833, 7834, 7835, 7836, 7837, 7838, 7839, 7840, 7841, 7842, 7843,\n",
       "        7844, 7845, 7846, 7847, 7848, 7849, 7850, 7851, 7852, 7853, 7854,\n",
       "        7855, 7856, 7857, 7858, 7859, 7860, 7861, 7862, 7863, 7864, 7865,\n",
       "        7866, 7867, 7868, 7869, 7870, 7871, 7872, 7873, 7874, 7875, 7876,\n",
       "        7877, 7878, 7879, 7880, 7881, 7882, 7883, 7884, 7885, 7886, 7887,\n",
       "        7888, 7889, 7890, 7891, 7892, 7893, 7894, 7895, 7896, 7897, 7898,\n",
       "        7899],\n",
       "       [7900, 7901, 7902, 7903, 7904, 7905, 7906, 7907, 7908, 7909, 7910,\n",
       "        7911, 7912, 7913, 7914, 7915, 7916, 7917, 7918, 7919, 7920, 7921,\n",
       "        7922, 7923, 7924, 7925, 7926, 7927, 7928, 7929, 7930, 7931, 7932,\n",
       "        7933, 7934, 7935, 7936, 7937, 7938, 7939, 7940, 7941, 7942, 7943,\n",
       "        7944, 7945, 7946, 7947, 7948, 7949, 7950, 7951, 7952, 7953, 7954,\n",
       "        7955, 7956, 7957, 7958, 7959, 7960, 7961, 7962, 7963, 7964, 7965,\n",
       "        7966, 7967, 7968, 7969, 7970, 7971, 7972, 7973, 7974, 7975, 7976,\n",
       "        7977, 7978, 7979, 7980, 7981, 7982, 7983, 7984, 7985, 7986, 7987,\n",
       "        7988, 7989, 7990, 7991, 7992, 7993, 7994, 7995, 7996, 7997, 7998,\n",
       "        7999],\n",
       "       [8000, 8001, 8002, 8003, 8004, 8005, 8006, 8007, 8008, 8009, 8010,\n",
       "        8011, 8012, 8013, 8014, 8015, 8016, 8017, 8018, 8019, 8020, 8021,\n",
       "        8022, 8023, 8024, 8025, 8026, 8027, 8028, 8029, 8030, 8031, 8032,\n",
       "        8033, 8034, 8035, 8036, 8037, 8038, 8039, 8040, 8041, 8042, 8043,\n",
       "        8044, 8045, 8046, 8047, 8048, 8049, 8050, 8051, 8052, 8053, 8054,\n",
       "        8055, 8056, 8057, 8058, 8059, 8060, 8061, 8062, 8063, 8064, 8065,\n",
       "        8066, 8067, 8068, 8069, 8070, 8071, 8072, 8073, 8074, 8075, 8076,\n",
       "        8077, 8078, 8079, 8080, 8081, 8082, 8083, 8084, 8085, 8086, 8087,\n",
       "        8088, 8089, 8090, 8091, 8092, 8093, 8094, 8095, 8096, 8097, 8098,\n",
       "        8099],\n",
       "       [8100, 8101, 8102, 8103, 8104, 8105, 8106, 8107, 8108, 8109, 8110,\n",
       "        8111, 8112, 8113, 8114, 8115, 8116, 8117, 8118, 8119, 8120, 8121,\n",
       "        8122, 8123, 8124, 8125, 8126, 8127, 8128, 8129, 8130, 8131, 8132,\n",
       "        8133, 8134, 8135, 8136, 8137, 8138, 8139, 8140, 8141, 8142, 8143,\n",
       "        8144, 8145, 8146, 8147, 8148, 8149, 8150, 8151, 8152, 8153, 8154,\n",
       "        8155, 8156, 8157, 8158, 8159, 8160, 8161, 8162, 8163, 8164, 8165,\n",
       "        8166, 8167, 8168, 8169, 8170, 8171, 8172, 8173, 8174, 8175, 8176,\n",
       "        8177, 8178, 8179, 8180, 8181, 8182, 8183, 8184, 8185, 8186, 8187,\n",
       "        8188, 8189, 8190, 8191, 8192, 8193, 8194, 8195, 8196, 8197, 8198,\n",
       "        8199],\n",
       "       [8200, 8201, 8202, 8203, 8204, 8205, 8206, 8207, 8208, 8209, 8210,\n",
       "        8211, 8212, 8213, 8214, 8215, 8216, 8217, 8218, 8219, 8220, 8221,\n",
       "        8222, 8223, 8224, 8225, 8226, 8227, 8228, 8229, 8230, 8231, 8232,\n",
       "        8233, 8234, 8235, 8236, 8237, 8238, 8239, 8240, 8241, 8242, 8243,\n",
       "        8244, 8245, 8246, 8247, 8248, 8249, 8250, 8251, 8252, 8253, 8254,\n",
       "        8255, 8256, 8257, 8258, 8259, 8260, 8261, 8262, 8263, 8264, 8265,\n",
       "        8266, 8267, 8268, 8269, 8270, 8271, 8272, 8273, 8274, 8275, 8276,\n",
       "        8277, 8278, 8279, 8280, 8281, 8282, 8283, 8284, 8285, 8286, 8287,\n",
       "        8288, 8289, 8290, 8291, 8292, 8293, 8294, 8295, 8296, 8297, 8298,\n",
       "        8299],\n",
       "       [8300, 8301, 8302, 8303, 8304, 8305, 8306, 8307, 8308, 8309, 8310,\n",
       "        8311, 8312, 8313, 8314, 8315, 8316, 8317, 8318, 8319, 8320, 8321,\n",
       "        8322, 8323, 8324, 8325, 8326, 8327, 8328, 8329, 8330, 8331, 8332,\n",
       "        8333, 8334, 8335, 8336, 8337, 8338, 8339, 8340, 8341, 8342, 8343,\n",
       "        8344, 8345, 8346, 8347, 8348, 8349, 8350, 8351, 8352, 8353, 8354,\n",
       "        8355, 8356, 8357, 8358, 8359, 8360, 8361, 8362, 8363, 8364, 8365,\n",
       "        8366, 8367, 8368, 8369, 8370, 8371, 8372, 8373, 8374, 8375, 8376,\n",
       "        8377, 8378, 8379, 8380, 8381, 8382, 8383, 8384, 8385, 8386, 8387,\n",
       "        8388, 8389, 8390, 8391, 8392, 8393, 8394, 8395, 8396, 8397, 8398,\n",
       "        8399],\n",
       "       [8400, 8401, 8402, 8403, 8404, 8405, 8406, 8407, 8408, 8409, 8410,\n",
       "        8411, 8412, 8413, 8414, 8415, 8416, 8417, 8418, 8419, 8420, 8421,\n",
       "        8422, 8423, 8424, 8425, 8426, 8427, 8428, 8429, 8430, 8431, 8432,\n",
       "        8433, 8434, 8435, 8436, 8437, 8438, 8439, 8440, 8441, 8442, 8443,\n",
       "        8444, 8445, 8446, 8447, 8448, 8449, 8450, 8451, 8452, 8453, 8454,\n",
       "        8455, 8456, 8457, 8458, 8459, 8460, 8461, 8462, 8463, 8464, 8465,\n",
       "        8466, 8467, 8468, 8469, 8470, 8471, 8472, 8473, 8474, 8475, 8476,\n",
       "        8477, 8478, 8479, 8480, 8481, 8482, 8483, 8484, 8485, 8486, 8487,\n",
       "        8488, 8489, 8490, 8491, 8492, 8493, 8494, 8495, 8496, 8497, 8498,\n",
       "        8499],\n",
       "       [8500, 8501, 8502, 8503, 8504, 8505, 8506, 8507, 8508, 8509, 8510,\n",
       "        8511, 8512, 8513, 8514, 8515, 8516, 8517, 8518, 8519, 8520, 8521,\n",
       "        8522, 8523, 8524, 8525, 8526, 8527, 8528, 8529, 8530, 8531, 8532,\n",
       "        8533, 8534, 8535, 8536, 8537, 8538, 8539, 8540, 8541, 8542, 8543,\n",
       "        8544, 8545, 8546, 8547, 8548, 8549, 8550, 8551, 8552, 8553, 8554,\n",
       "        8555, 8556, 8557, 8558, 8559, 8560, 8561, 8562, 8563, 8564, 8565,\n",
       "        8566, 8567, 8568, 8569, 8570, 8571, 8572, 8573, 8574, 8575, 8576,\n",
       "        8577, 8578, 8579, 8580, 8581, 8582, 8583, 8584, 8585, 8586, 8587,\n",
       "        8588, 8589, 8590, 8591, 8592, 8593, 8594, 8595, 8596, 8597, 8598,\n",
       "        8599],\n",
       "       [8600, 8601, 8602, 8603, 8604, 8605, 8606, 8607, 8608, 8609, 8610,\n",
       "        8611, 8612, 8613, 8614, 8615, 8616, 8617, 8618, 8619, 8620, 8621,\n",
       "        8622, 8623, 8624, 8625, 8626, 8627, 8628, 8629, 8630, 8631, 8632,\n",
       "        8633, 8634, 8635, 8636, 8637, 8638, 8639, 8640, 8641, 8642, 8643,\n",
       "        8644, 8645, 8646, 8647, 8648, 8649, 8650, 8651, 8652, 8653, 8654,\n",
       "        8655, 8656, 8657, 8658, 8659, 8660, 8661, 8662, 8663, 8664, 8665,\n",
       "        8666, 8667, 8668, 8669, 8670, 8671, 8672, 8673, 8674, 8675, 8676,\n",
       "        8677, 8678, 8679, 8680, 8681, 8682, 8683, 8684, 8685, 8686, 8687,\n",
       "        8688, 8689, 8690, 8691, 8692, 8693, 8694, 8695, 8696, 8697, 8698,\n",
       "        8699],\n",
       "       [8700, 8701, 8702, 8703, 8704, 8705, 8706, 8707, 8708, 8709, 8710,\n",
       "        8711, 8712, 8713, 8714, 8715, 8716, 8717, 8718, 8719, 8720, 8721,\n",
       "        8722, 8723, 8724, 8725, 8726, 8727, 8728, 8729, 8730, 8731, 8732,\n",
       "        8733, 8734, 8735, 8736, 8737, 8738, 8739, 8740, 8741, 8742, 8743,\n",
       "        8744, 8745, 8746, 8747, 8748, 8749, 8750, 8751, 8752, 8753, 8754,\n",
       "        8755, 8756, 8757, 8758, 8759, 8760, 8761, 8762, 8763, 8764, 8765,\n",
       "        8766, 8767, 8768, 8769, 8770, 8771, 8772, 8773, 8774, 8775, 8776,\n",
       "        8777, 8778, 8779, 8780, 8781, 8782, 8783, 8784, 8785, 8786, 8787,\n",
       "        8788, 8789, 8790, 8791, 8792, 8793, 8794, 8795, 8796, 8797, 8798,\n",
       "        8799],\n",
       "       [8800, 8801, 8802, 8803, 8804, 8805, 8806, 8807, 8808, 8809, 8810,\n",
       "        8811, 8812, 8813, 8814, 8815, 8816, 8817, 8818, 8819, 8820, 8821,\n",
       "        8822, 8823, 8824, 8825, 8826, 8827, 8828, 8829, 8830, 8831, 8832,\n",
       "        8833, 8834, 8835, 8836, 8837, 8838, 8839, 8840, 8841, 8842, 8843,\n",
       "        8844, 8845, 8846, 8847, 8848, 8849, 8850, 8851, 8852, 8853, 8854,\n",
       "        8855, 8856, 8857, 8858, 8859, 8860, 8861, 8862, 8863, 8864, 8865,\n",
       "        8866, 8867, 8868, 8869, 8870, 8871, 8872, 8873, 8874, 8875, 8876,\n",
       "        8877, 8878, 8879, 8880, 8881, 8882, 8883, 8884, 8885, 8886, 8887,\n",
       "        8888, 8889, 8890, 8891, 8892, 8893, 8894, 8895, 8896, 8897, 8898,\n",
       "        8899],\n",
       "       [8900, 8901, 8902, 8903, 8904, 8905, 8906, 8907, 8908, 8909, 8910,\n",
       "        8911, 8912, 8913, 8914, 8915, 8916, 8917, 8918, 8919, 8920, 8921,\n",
       "        8922, 8923, 8924, 8925, 8926, 8927, 8928, 8929, 8930, 8931, 8932,\n",
       "        8933, 8934, 8935, 8936, 8937, 8938, 8939, 8940, 8941, 8942, 8943,\n",
       "        8944, 8945, 8946, 8947, 8948, 8949, 8950, 8951, 8952, 8953, 8954,\n",
       "        8955, 8956, 8957, 8958, 8959, 8960, 8961, 8962, 8963, 8964, 8965,\n",
       "        8966, 8967, 8968, 8969, 8970, 8971, 8972, 8973, 8974, 8975, 8976,\n",
       "        8977, 8978, 8979, 8980, 8981, 8982, 8983, 8984, 8985, 8986, 8987,\n",
       "        8988, 8989, 8990, 8991, 8992, 8993, 8994, 8995, 8996, 8997, 8998,\n",
       "        8999],\n",
       "       [9000, 9001, 9002, 9003, 9004, 9005, 9006, 9007, 9008, 9009, 9010,\n",
       "        9011, 9012, 9013, 9014, 9015, 9016, 9017, 9018, 9019, 9020, 9021,\n",
       "        9022, 9023, 9024, 9025, 9026, 9027, 9028, 9029, 9030, 9031, 9032,\n",
       "        9033, 9034, 9035, 9036, 9037, 9038, 9039, 9040, 9041, 9042, 9043,\n",
       "        9044, 9045, 9046, 9047, 9048, 9049, 9050, 9051, 9052, 9053, 9054,\n",
       "        9055, 9056, 9057, 9058, 9059, 9060, 9061, 9062, 9063, 9064, 9065,\n",
       "        9066, 9067, 9068, 9069, 9070, 9071, 9072, 9073, 9074, 9075, 9076,\n",
       "        9077, 9078, 9079, 9080, 9081, 9082, 9083, 9084, 9085, 9086, 9087,\n",
       "        9088, 9089, 9090, 9091, 9092, 9093, 9094, 9095, 9096, 9097, 9098,\n",
       "        9099],\n",
       "       [9100, 9101, 9102, 9103, 9104, 9105, 9106, 9107, 9108, 9109, 9110,\n",
       "        9111, 9112, 9113, 9114, 9115, 9116, 9117, 9118, 9119, 9120, 9121,\n",
       "        9122, 9123, 9124, 9125, 9126, 9127, 9128, 9129, 9130, 9131, 9132,\n",
       "        9133, 9134, 9135, 9136, 9137, 9138, 9139, 9140, 9141, 9142, 9143,\n",
       "        9144, 9145, 9146, 9147, 9148, 9149, 9150, 9151, 9152, 9153, 9154,\n",
       "        9155, 9156, 9157, 9158, 9159, 9160, 9161, 9162, 9163, 9164, 9165,\n",
       "        9166, 9167, 9168, 9169, 9170, 9171, 9172, 9173, 9174, 9175, 9176,\n",
       "        9177, 9178, 9179, 9180, 9181, 9182, 9183, 9184, 9185, 9186, 9187,\n",
       "        9188, 9189, 9190, 9191, 9192, 9193, 9194, 9195, 9196, 9197, 9198,\n",
       "        9199],\n",
       "       [9200, 9201, 9202, 9203, 9204, 9205, 9206, 9207, 9208, 9209, 9210,\n",
       "        9211, 9212, 9213, 9214, 9215, 9216, 9217, 9218, 9219, 9220, 9221,\n",
       "        9222, 9223, 9224, 9225, 9226, 9227, 9228, 9229, 9230, 9231, 9232,\n",
       "        9233, 9234, 9235, 9236, 9237, 9238, 9239, 9240, 9241, 9242, 9243,\n",
       "        9244, 9245, 9246, 9247, 9248, 9249, 9250, 9251, 9252, 9253, 9254,\n",
       "        9255, 9256, 9257, 9258, 9259, 9260, 9261, 9262, 9263, 9264, 9265,\n",
       "        9266, 9267, 9268, 9269, 9270, 9271, 9272, 9273, 9274, 9275, 9276,\n",
       "        9277, 9278, 9279, 9280, 9281, 9282, 9283, 9284, 9285, 9286, 9287,\n",
       "        9288, 9289, 9290, 9291, 9292, 9293, 9294, 9295, 9296, 9297, 9298,\n",
       "        9299],\n",
       "       [9300, 9301, 9302, 9303, 9304, 9305, 9306, 9307, 9308, 9309, 9310,\n",
       "        9311, 9312, 9313, 9314, 9315, 9316, 9317, 9318, 9319, 9320, 9321,\n",
       "        9322, 9323, 9324, 9325, 9326, 9327, 9328, 9329, 9330, 9331, 9332,\n",
       "        9333, 9334, 9335, 9336, 9337, 9338, 9339, 9340, 9341, 9342, 9343,\n",
       "        9344, 9345, 9346, 9347, 9348, 9349, 9350, 9351, 9352, 9353, 9354,\n",
       "        9355, 9356, 9357, 9358, 9359, 9360, 9361, 9362, 9363, 9364, 9365,\n",
       "        9366, 9367, 9368, 9369, 9370, 9371, 9372, 9373, 9374, 9375, 9376,\n",
       "        9377, 9378, 9379, 9380, 9381, 9382, 9383, 9384, 9385, 9386, 9387,\n",
       "        9388, 9389, 9390, 9391, 9392, 9393, 9394, 9395, 9396, 9397, 9398,\n",
       "        9399],\n",
       "       [9400, 9401, 9402, 9403, 9404, 9405, 9406, 9407, 9408, 9409, 9410,\n",
       "        9411, 9412, 9413, 9414, 9415, 9416, 9417, 9418, 9419, 9420, 9421,\n",
       "        9422, 9423, 9424, 9425, 9426, 9427, 9428, 9429, 9430, 9431, 9432,\n",
       "        9433, 9434, 9435, 9436, 9437, 9438, 9439, 9440, 9441, 9442, 9443,\n",
       "        9444, 9445, 9446, 9447, 9448, 9449, 9450, 9451, 9452, 9453, 9454,\n",
       "        9455, 9456, 9457, 9458, 9459, 9460, 9461, 9462, 9463, 9464, 9465,\n",
       "        9466, 9467, 9468, 9469, 9470, 9471, 9472, 9473, 9474, 9475, 9476,\n",
       "        9477, 9478, 9479, 9480, 9481, 9482, 9483, 9484, 9485, 9486, 9487,\n",
       "        9488, 9489, 9490, 9491, 9492, 9493, 9494, 9495, 9496, 9497, 9498,\n",
       "        9499],\n",
       "       [9500, 9501, 9502, 9503, 9504, 9505, 9506, 9507, 9508, 9509, 9510,\n",
       "        9511, 9512, 9513, 9514, 9515, 9516, 9517, 9518, 9519, 9520, 9521,\n",
       "        9522, 9523, 9524, 9525, 9526, 9527, 9528, 9529, 9530, 9531, 9532,\n",
       "        9533, 9534, 9535, 9536, 9537, 9538, 9539, 9540, 9541, 9542, 9543,\n",
       "        9544, 9545, 9546, 9547, 9548, 9549, 9550, 9551, 9552, 9553, 9554,\n",
       "        9555, 9556, 9557, 9558, 9559, 9560, 9561, 9562, 9563, 9564, 9565,\n",
       "        9566, 9567, 9568, 9569, 9570, 9571, 9572, 9573, 9574, 9575, 9576,\n",
       "        9577, 9578, 9579, 9580, 9581, 9582, 9583, 9584, 9585, 9586, 9587,\n",
       "        9588, 9589, 9590, 9591, 9592, 9593, 9594, 9595, 9596, 9597, 9598,\n",
       "        9599],\n",
       "       [9600, 9601, 9602, 9603, 9604, 9605, 9606, 9607, 9608, 9609, 9610,\n",
       "        9611, 9612, 9613, 9614, 9615, 9616, 9617, 9618, 9619, 9620, 9621,\n",
       "        9622, 9623, 9624, 9625, 9626, 9627, 9628, 9629, 9630, 9631, 9632,\n",
       "        9633, 9634, 9635, 9636, 9637, 9638, 9639, 9640, 9641, 9642, 9643,\n",
       "        9644, 9645, 9646, 9647, 9648, 9649, 9650, 9651, 9652, 9653, 9654,\n",
       "        9655, 9656, 9657, 9658, 9659, 9660, 9661, 9662, 9663, 9664, 9665,\n",
       "        9666, 9667, 9668, 9669, 9670, 9671, 9672, 9673, 9674, 9675, 9676,\n",
       "        9677, 9678, 9679, 9680, 9681, 9682, 9683, 9684, 9685, 9686, 9687,\n",
       "        9688, 9689, 9690, 9691, 9692, 9693, 9694, 9695, 9696, 9697, 9698,\n",
       "        9699],\n",
       "       [9700, 9701, 9702, 9703, 9704, 9705, 9706, 9707, 9708, 9709, 9710,\n",
       "        9711, 9712, 9713, 9714, 9715, 9716, 9717, 9718, 9719, 9720, 9721,\n",
       "        9722, 9723, 9724, 9725, 9726, 9727, 9728, 9729, 9730, 9731, 9732,\n",
       "        9733, 9734, 9735, 9736, 9737, 9738, 9739, 9740, 9741, 9742, 9743,\n",
       "        9744, 9745, 9746, 9747, 9748, 9749, 9750, 9751, 9752, 9753, 9754,\n",
       "        9755, 9756, 9757, 9758, 9759, 9760, 9761, 9762, 9763, 9764, 9765,\n",
       "        9766, 9767, 9768, 9769, 9770, 9771, 9772, 9773, 9774, 9775, 9776,\n",
       "        9777, 9778, 9779, 9780, 9781, 9782, 9783, 9784, 9785, 9786, 9787,\n",
       "        9788, 9789, 9790, 9791, 9792, 9793, 9794, 9795, 9796, 9797, 9798,\n",
       "        9799],\n",
       "       [9800, 9801, 9802, 9803, 9804, 9805, 9806, 9807, 9808, 9809, 9810,\n",
       "        9811, 9812, 9813, 9814, 9815, 9816, 9817, 9818, 9819, 9820, 9821,\n",
       "        9822, 9823, 9824, 9825, 9826, 9827, 9828, 9829, 9830, 9831, 9832,\n",
       "        9833, 9834, 9835, 9836, 9837, 9838, 9839, 9840, 9841, 9842, 9843,\n",
       "        9844, 9845, 9846, 9847, 9848, 9849, 9850, 9851, 9852, 9853, 9854,\n",
       "        9855, 9856, 9857, 9858, 9859, 9860, 9861, 9862, 9863, 9864, 9865,\n",
       "        9866, 9867, 9868, 9869, 9870, 9871, 9872, 9873, 9874, 9875, 9876,\n",
       "        9877, 9878, 9879, 9880, 9881, 9882, 9883, 9884, 9885, 9886, 9887,\n",
       "        9888, 9889, 9890, 9891, 9892, 9893, 9894, 9895, 9896, 9897, 9898,\n",
       "        9899],\n",
       "       [9900, 9901, 9902, 9903, 9904, 9905, 9906, 9907, 9908, 9909, 9910,\n",
       "        9911, 9912, 9913, 9914, 9915, 9916, 9917, 9918, 9919, 9920, 9921,\n",
       "        9922, 9923, 9924, 9925, 9926, 9927, 9928, 9929, 9930, 9931, 9932,\n",
       "        9933, 9934, 9935, 9936, 9937, 9938, 9939, 9940, 9941, 9942, 9943,\n",
       "        9944, 9945, 9946, 9947, 9948, 9949, 9950, 9951, 9952, 9953, 9954,\n",
       "        9955, 9956, 9957, 9958, 9959, 9960, 9961, 9962, 9963, 9964, 9965,\n",
       "        9966, 9967, 9968, 9969, 9970, 9971, 9972, 9973, 9974, 9975, 9976,\n",
       "        9977, 9978, 9979, 9980, 9981, 9982, 9983, 9984, 9985, 9986, 9987,\n",
       "        9988, 9989, 9990, 9991, 9992, 9993, 9994, 9995, 9996, 9997, 9998,\n",
       "        9999]])"
      ]
     },
     "execution_count": 127,
     "metadata": {},
     "output_type": "execute_result"
    }
   ],
   "source": [
    "np.arange(10000).reshape(100, 100)"
   ]
  },
  {
   "cell_type": "markdown",
   "id": "ec4b2caa",
   "metadata": {},
   "source": [
    "## 2.7 기본 연산 동작\n",
    "\n",
    "### 1) 배열의 요소별 연산"
   ]
  },
  {
   "cell_type": "code",
   "execution_count": 113,
   "id": "002f4418",
   "metadata": {
    "ExecuteTime": {
     "end_time": "2025-04-25T01:31:55.482768Z",
     "start_time": "2025-04-25T01:31:55.455804Z"
    }
   },
   "outputs": [
    {
     "name": "stdout",
     "output_type": "stream",
     "text": [
      "[10 20 30 40] int8\n",
      "[0 1 2 3] int32\n"
     ]
    }
   ],
   "source": [
    "a = np.array([10, 20, 30, 40], dtype=np.int8)\n",
    "b = np.arange(4)\n",
    "print(a, a.dtype)\n",
    "print(b, b.dtype)"
   ]
  },
  {
   "cell_type": "code",
   "execution_count": 114,
   "id": "e18e93e1",
   "metadata": {
    "ExecuteTime": {
     "end_time": "2025-04-25T01:32:06.993786Z",
     "start_time": "2025-04-25T01:32:06.970849Z"
    }
   },
   "outputs": [
    {
     "data": {
      "text/plain": [
       "array([10, 21, 32, 43])"
      ]
     },
     "execution_count": 114,
     "metadata": {},
     "output_type": "execute_result"
    }
   ],
   "source": [
    "a + b"
   ]
  },
  {
   "cell_type": "code",
   "execution_count": 115,
   "id": "90bbd390",
   "metadata": {
    "ExecuteTime": {
     "end_time": "2025-04-25T01:32:27.487266Z",
     "start_time": "2025-04-25T01:32:27.461328Z"
    }
   },
   "outputs": [
    {
     "data": {
      "text/plain": [
       "(array([10, 21, 32, 43]), dtype('int32'))"
      ]
     },
     "execution_count": 115,
     "metadata": {},
     "output_type": "execute_result"
    }
   ],
   "source": [
    "c = a + b\n",
    "c, c.dtype"
   ]
  },
  {
   "cell_type": "code",
   "execution_count": 116,
   "id": "5742a097",
   "metadata": {
    "ExecuteTime": {
     "end_time": "2025-04-25T01:32:47.928768Z",
     "start_time": "2025-04-25T01:32:47.903850Z"
    }
   },
   "outputs": [
    {
     "data": {
      "text/plain": [
       "array([10, 21, 32, 43], dtype=int8)"
      ]
     },
     "execution_count": 116,
     "metadata": {},
     "output_type": "execute_result"
    }
   ],
   "source": [
    "a += b # a = a + b\n",
    "a"
   ]
  },
  {
   "cell_type": "code",
   "execution_count": 117,
   "id": "a1b84ad9",
   "metadata": {
    "ExecuteTime": {
     "end_time": "2025-04-25T01:32:57.294497Z",
     "start_time": "2025-04-25T01:32:57.279568Z"
    }
   },
   "outputs": [
    {
     "data": {
      "text/plain": [
       "(array([10, 22, 34, 46]), dtype('int32'))"
      ]
     },
     "execution_count": 117,
     "metadata": {},
     "output_type": "execute_result"
    }
   ],
   "source": [
    "a = a + b\n",
    "a, a.dtype"
   ]
  },
  {
   "cell_type": "code",
   "execution_count": 118,
   "id": "bd91bdbc",
   "metadata": {
    "ExecuteTime": {
     "end_time": "2025-04-25T01:33:07.551095Z",
     "start_time": "2025-04-25T01:33:07.526167Z"
    }
   },
   "outputs": [
    {
     "name": "stdout",
     "output_type": "stream",
     "text": [
      "[10 20 30 40] int8\n",
      "[0 1 2 3] int32\n"
     ]
    }
   ],
   "source": [
    "a = np.array([10, 20, 30, 40], dtype=np.int8)\n",
    "b = np.arange(4)\n",
    "print(a, a.dtype)\n",
    "print(b, b.dtype)"
   ]
  },
  {
   "cell_type": "code",
   "execution_count": 119,
   "id": "42a64906",
   "metadata": {
    "ExecuteTime": {
     "end_time": "2025-04-25T01:33:20.163023Z",
     "start_time": "2025-04-25T01:33:20.145037Z"
    }
   },
   "outputs": [
    {
     "data": {
      "text/plain": [
       "array([    1,    20,   900, 64000], dtype=int32)"
      ]
     },
     "execution_count": 119,
     "metadata": {},
     "output_type": "execute_result"
    }
   ],
   "source": [
    "a ** b # ** 승연산 a의 b"
   ]
  },
  {
   "cell_type": "code",
   "execution_count": 120,
   "id": "cbd8259e",
   "metadata": {
    "ExecuteTime": {
     "end_time": "2025-04-25T01:33:27.109057Z",
     "start_time": "2025-04-25T01:33:27.093132Z"
    }
   },
   "outputs": [
    {
     "data": {
      "text/plain": [
       "array([ True,  True, False, False])"
      ]
     },
     "execution_count": 120,
     "metadata": {},
     "output_type": "execute_result"
    }
   ],
   "source": [
    "a < 30"
   ]
  },
  {
   "cell_type": "code",
   "execution_count": 123,
   "id": "5a853b89",
   "metadata": {
    "ExecuteTime": {
     "end_time": "2025-04-25T01:34:00.771550Z",
     "start_time": "2025-04-25T01:34:00.755558Z"
    }
   },
   "outputs": [
    {
     "name": "stdout",
     "output_type": "stream",
     "text": [
      "[10 20]\n",
      "[10 20]\n"
     ]
    }
   ],
   "source": [
    "print(a[ [True,  True, False, False] ])\n",
    "print(a[a<30])\n"
   ]
  },
  {
   "cell_type": "markdown",
   "id": "ebfddb81",
   "metadata": {
    "ExecuteTime": {
     "end_time": "2025-04-25T01:38:57.349054Z",
     "start_time": "2025-04-25T01:38:57.326084Z"
    }
   },
   "source": [
    "### 2) 행렬(2차원 배열)의 곱(@, dot함수)\n",
    "\n",
    "cf  * (요소별 곱)"
   ]
  },
  {
   "cell_type": "code",
   "execution_count": 137,
   "id": "9a9a7250",
   "metadata": {
    "ExecuteTime": {
     "end_time": "2025-04-25T01:41:20.839270Z",
     "start_time": "2025-04-25T01:41:20.822326Z"
    }
   },
   "outputs": [
    {
     "data": {
      "text/plain": [
       "(array([[1, 2],\n",
       "        [0, 1]]),\n",
       " array([[2, 0],\n",
       "        [3, 4]]))"
      ]
     },
     "execution_count": 137,
     "metadata": {},
     "output_type": "execute_result"
    }
   ],
   "source": [
    "a = np.array([[1,2],[0,1]])\n",
    "b = np.array([[2,0],[3,4]])\n",
    "\n",
    "a, b"
   ]
  },
  {
   "cell_type": "code",
   "execution_count": 145,
   "id": "db0d30bf",
   "metadata": {
    "ExecuteTime": {
     "end_time": "2025-04-25T02:02:59.341123Z",
     "start_time": "2025-04-25T02:02:59.333175Z"
    }
   },
   "outputs": [
    {
     "name": "stdout",
     "output_type": "stream",
     "text": [
      "요소별 곱 a*b = \n",
      "[[2 0]\n",
      " [0 4]]\n",
      "행렬곱 a@b = \n",
      "[[8 8]\n",
      " [3 4]]\n",
      "행렬곱 a.dot(b) = \n",
      "[[8 8]\n",
      " [3 4]]\n"
     ]
    }
   ],
   "source": [
    "print(\"요소별 곱 a*b = \", a*b, sep=\"\\n\")\n",
    "print(\"행렬곱 a@b = \", a@b, sep=\"\\n\")\n",
    "print(\"행렬곱 a.dot(b) = \", a.dot(b), sep=\"\\n\")"
   ]
  },
  {
   "cell_type": "code",
   "execution_count": 146,
   "id": "77dbed53",
   "metadata": {
    "ExecuteTime": {
     "end_time": "2025-04-25T02:03:09.040476Z",
     "start_time": "2025-04-25T02:03:09.031500Z"
    }
   },
   "outputs": [
    {
     "data": {
      "text/plain": [
       "array([[8, 8],\n",
       "       [3, 4]])"
      ]
     },
     "execution_count": 146,
     "metadata": {},
     "output_type": "execute_result"
    }
   ],
   "source": [
    "a @ b"
   ]
  },
  {
   "cell_type": "code",
   "execution_count": 147,
   "id": "93739a40",
   "metadata": {
    "ExecuteTime": {
     "end_time": "2025-04-25T02:04:17.664894Z",
     "start_time": "2025-04-25T02:04:17.648938Z"
    }
   },
   "outputs": [
    {
     "data": {
      "text/plain": [
       "array([[False, False],\n",
       "       [ True, False]])"
      ]
     },
     "execution_count": 147,
     "metadata": {},
     "output_type": "execute_result"
    }
   ],
   "source": [
    "a * b == b *a\n",
    "a@b == b@a"
   ]
  },
  {
   "cell_type": "code",
   "execution_count": 156,
   "id": "e0938131",
   "metadata": {
    "ExecuteTime": {
     "end_time": "2025-04-25T02:05:57.935005Z",
     "start_time": "2025-04-25T02:05:57.917056Z"
    }
   },
   "outputs": [
    {
     "data": {
      "text/plain": [
       "array([[1., 0., 0.],\n",
       "       [0., 1., 0.],\n",
       "       [0., 0., 1.]])"
      ]
     },
     "execution_count": 156,
     "metadata": {},
     "output_type": "execute_result"
    }
   ],
   "source": [
    "# n 행 n열의 단위행렬 : np.eye(n) : A@단위행렬=A\n",
    "np.eye(3)"
   ]
  },
  {
   "cell_type": "markdown",
   "id": "315fe1c8",
   "metadata": {},
   "source": [
    "### 3) 복합 대입연산자 사용\n",
    "\n",
    "- 배열에서는 a = a + b (보다 안전), a += b 다소 다르게 작동\n"
   ]
  },
  {
   "cell_type": "code",
   "execution_count": 167,
   "id": "38b0fd7a",
   "metadata": {
    "ExecuteTime": {
     "end_time": "2025-04-25T02:11:04.063449Z",
     "start_time": "2025-04-25T02:11:04.049449Z"
    }
   },
   "outputs": [
    {
     "data": {
      "text/plain": [
       "array([[1, 1, 1],\n",
       "       [1, 1, 1]])"
      ]
     },
     "execution_count": 167,
     "metadata": {},
     "output_type": "execute_result"
    }
   ],
   "source": [
    "a = np.ones((2, 3),dtype=int) # 2행 3열 int32 배열\n",
    "a"
   ]
  },
  {
   "cell_type": "code",
   "execution_count": 168,
   "id": "4e0f4d7f",
   "metadata": {
    "ExecuteTime": {
     "end_time": "2025-04-25T02:11:05.520928Z",
     "start_time": "2025-04-25T02:11:05.493004Z"
    }
   },
   "outputs": [
    {
     "data": {
      "text/plain": [
       "array([[0.94655582, 0.85719056, 0.68892767],\n",
       "       [0.00328797, 0.9001035 , 0.91986487]])"
      ]
     },
     "execution_count": 168,
     "metadata": {},
     "output_type": "execute_result"
    }
   ],
   "source": [
    "b = np.random.random( (2, 3)) # 2행 3열 float64 배열\n",
    "b"
   ]
  },
  {
   "cell_type": "code",
   "execution_count": 169,
   "id": "9745f473",
   "metadata": {
    "ExecuteTime": {
     "end_time": "2025-04-25T02:11:06.959782Z",
     "start_time": "2025-04-25T02:11:06.933849Z"
    }
   },
   "outputs": [
    {
     "ename": "UFuncTypeError",
     "evalue": "Cannot cast ufunc 'add' output from dtype('float64') to dtype('int32') with casting rule 'same_kind'",
     "output_type": "error",
     "traceback": [
      "\u001b[1;31m---------------------------------------------------------------------------\u001b[0m",
      "\u001b[1;31mUFuncTypeError\u001b[0m                            Traceback (most recent call last)",
      "Cell \u001b[1;32mIn[169], line 3\u001b[0m\n\u001b[0;32m      1\u001b[0m \u001b[38;5;66;03m# error\u001b[39;00m\n\u001b[0;32m      2\u001b[0m \u001b[38;5;66;03m# \u001b[39;00m\n\u001b[1;32m----> 3\u001b[0m a \u001b[38;5;241m+\u001b[39m\u001b[38;5;241m=\u001b[39m b\n",
      "\u001b[1;31mUFuncTypeError\u001b[0m: Cannot cast ufunc 'add' output from dtype('float64') to dtype('int32') with casting rule 'same_kind'"
     ]
    }
   ],
   "source": [
    "# error\n",
    "a += b # a + b 를 기준 a에 넣는다."
   ]
  },
  {
   "cell_type": "code",
   "execution_count": 170,
   "id": "849191af",
   "metadata": {
    "ExecuteTime": {
     "end_time": "2025-04-25T02:11:08.408489Z",
     "start_time": "2025-04-25T02:11:08.393526Z"
    }
   },
   "outputs": [
    {
     "data": {
      "text/plain": [
       "array([[1.94655582, 1.85719056, 1.68892767],\n",
       "       [1.00328797, 1.9001035 , 1.91986487]])"
      ]
     },
     "execution_count": 170,
     "metadata": {},
     "output_type": "execute_result"
    }
   ],
   "source": [
    "b += a\n",
    "b"
   ]
  },
  {
   "cell_type": "code",
   "execution_count": 175,
   "id": "fe92baa5",
   "metadata": {
    "ExecuteTime": {
     "end_time": "2025-04-25T02:12:29.918425Z",
     "start_time": "2025-04-25T02:12:29.892457Z"
    }
   },
   "outputs": [
    {
     "data": {
      "text/plain": [
       "array([[10.73277911, 10.28595279,  9.44463833],\n",
       "       [ 6.01643984, 10.5005175 , 10.59932435]])"
      ]
     },
     "execution_count": 175,
     "metadata": {},
     "output_type": "execute_result"
    }
   ],
   "source": [
    "a = a + b # a + b 를 새로운 변수 a 할당\n",
    "a"
   ]
  },
  {
   "cell_type": "markdown",
   "id": "3a0ba3e0",
   "metadata": {},
   "source": [
    "### 4) 배열 요소별 집계\n",
    "\n",
    "- sum, min, max, mean(평균), var(분산), std(표준편차)"
   ]
  },
  {
   "cell_type": "code",
   "execution_count": 194,
   "id": "d3158336",
   "metadata": {
    "ExecuteTime": {
     "end_time": "2025-04-25T02:40:59.449510Z",
     "start_time": "2025-04-25T02:40:59.432518Z"
    }
   },
   "outputs": [
    {
     "data": {
      "text/plain": [
       "array([[2, 2, 2, 3],\n",
       "       [4, 3, 2, 1]])"
      ]
     },
     "execution_count": 194,
     "metadata": {},
     "output_type": "execute_result"
    }
   ],
   "source": [
    "a = np.array([[2, 2, 2, 3], \n",
    "              [4, 3, 2, 1]])\n",
    "a"
   ]
  },
  {
   "cell_type": "code",
   "execution_count": 179,
   "id": "80babf0c",
   "metadata": {
    "ExecuteTime": {
     "end_time": "2025-04-25T02:17:20.278557Z",
     "start_time": "2025-04-25T02:17:20.253588Z"
    }
   },
   "outputs": [
    {
     "name": "stdout",
     "output_type": "stream",
     "text": [
      "전체합 :  19 19\n",
      "전체최소 :  1 1\n",
      "전체최대 :  4 4\n",
      "전체평균 :  2.375 2.375\n",
      "전체분산 :  0.734375 0.734375\n",
      "전체표준편차 :  0.8569568250501305 0.8569568250501305\n"
     ]
    }
   ],
   "source": [
    "print(\"전체합 : \", np.sum(a), a.sum())\n",
    "print(\"전체최소 : \", np.min(a), a.min())\n",
    "print(\"전체최대 : \", np.max(a), a.max())\n",
    "print(\"전체평균 : \", np.mean(a), a.mean())\n",
    "print(\"전체분산 : \", np.var(a), a.var())\n",
    "print(\"전체표준편차 : \", np.std(a), a.std())"
   ]
  },
  {
   "cell_type": "markdown",
   "id": "0ff8d846",
   "metadata": {},
   "source": [
    "### 5) ※ 배열 축별 집계\n",
    "\n",
    "- sum, min, max, mean(평균), var(분산), std(표준편차), argmax(최대값의 인덱스)"
   ]
  },
  {
   "cell_type": "code",
   "execution_count": 202,
   "id": "09ba8af3",
   "metadata": {
    "ExecuteTime": {
     "end_time": "2025-04-25T02:50:57.873299Z",
     "start_time": "2025-04-25T02:50:57.849366Z"
    }
   },
   "outputs": [
    {
     "data": {
      "text/plain": [
       "array([[2, 2, 2, 3],\n",
       "       [4, 3, 2, 1]])"
      ]
     },
     "execution_count": 202,
     "metadata": {},
     "output_type": "execute_result"
    }
   ],
   "source": [
    "a"
   ]
  },
  {
   "cell_type": "code",
   "execution_count": 200,
   "id": "fe959b5c",
   "metadata": {
    "ExecuteTime": {
     "end_time": "2025-04-25T02:50:53.285520Z",
     "start_time": "2025-04-25T02:50:53.262588Z"
    }
   },
   "outputs": [
    {
     "name": "stdout",
     "output_type": "stream",
     "text": [
      "a의 행별 합 :  [ 9 10] [ 9 10]\n"
     ]
    }
   ],
   "source": [
    "# 행 - axis : 1\n",
    "# axis = 1 : 0축을 고정으로 1축(열)들의 합\n",
    "\n",
    "print('a의 행별 합 : ', a.sum(axis=1), np.sum(a, axis=1))"
   ]
  },
  {
   "cell_type": "code",
   "execution_count": 204,
   "id": "abb88765",
   "metadata": {
    "ExecuteTime": {
     "end_time": "2025-04-25T02:52:12.868469Z",
     "start_time": "2025-04-25T02:52:12.852519Z"
    }
   },
   "outputs": [
    {
     "name": "stdout",
     "output_type": "stream",
     "text": [
      "a의 열별 합 :  [6 5 4 4] [6 5 4 4]\n"
     ]
    }
   ],
   "source": [
    "# axis = 0 : 1축을 고정으로 0축(행)들의 합\n",
    "print('a의 열별 합 : ', a.sum(axis=0), np.sum(a, axis=0))"
   ]
  },
  {
   "cell_type": "code",
   "execution_count": 203,
   "id": "9567c25a",
   "metadata": {
    "ExecuteTime": {
     "end_time": "2025-04-25T02:52:04.805367Z",
     "start_time": "2025-04-25T02:52:04.785403Z"
    }
   },
   "outputs": [
    {
     "name": "stdout",
     "output_type": "stream",
     "text": [
      "a의 행별 최대값 위치 :  [3 0] [3 0]\n"
     ]
    }
   ],
   "source": [
    "print(\"a의 행별 최대값 위치 : \", a.argmax(axis=1), np.argmax(a, axis=1))"
   ]
  },
  {
   "cell_type": "code",
   "execution_count": 206,
   "id": "afb4959e",
   "metadata": {
    "ExecuteTime": {
     "end_time": "2025-04-25T02:54:15.854991Z",
     "start_time": "2025-04-25T02:54:15.841030Z"
    }
   },
   "outputs": [
    {
     "data": {
      "text/plain": [
       "(array([[[ 0,  1,  2,  3],\n",
       "         [ 4,  5,  6,  7],\n",
       "         [ 8,  9, 10, 11]],\n",
       " \n",
       "        [[12, 13, 14, 15],\n",
       "         [16, 17, 18, 19],\n",
       "         [20, 21, 22, 23]]]),\n",
       " 3)"
      ]
     },
     "execution_count": 206,
     "metadata": {},
     "output_type": "execute_result"
    }
   ],
   "source": [
    "# 3차원 배열의 축별 집계\n",
    "b = np.arange(24).reshape(2,3,4) # 2면 3행 4열\n",
    "b, b.ndim"
   ]
  },
  {
   "cell_type": "code",
   "execution_count": 208,
   "id": "23981c6a",
   "metadata": {
    "ExecuteTime": {
     "end_time": "2025-04-25T02:56:55.433614Z",
     "start_time": "2025-04-25T02:56:55.406674Z"
    }
   },
   "outputs": [
    {
     "data": {
      "text/plain": [
       "(array([[12, 14, 16, 18],\n",
       "        [20, 22, 24, 26],\n",
       "        [28, 30, 32, 34]]),\n",
       " array([[12, 14, 16, 18],\n",
       "        [20, 22, 24, 26],\n",
       "        [28, 30, 32, 34]]))"
      ]
     },
     "execution_count": 208,
     "metadata": {},
     "output_type": "execute_result"
    }
   ],
   "source": [
    "# axis = 0 : 1축, 2축은 고정하고, 0축(0면, 1면)들의 합\n",
    "b.sum(axis=0), np.sum(b, axis=0)"
   ]
  },
  {
   "cell_type": "code",
   "execution_count": 209,
   "id": "14435c4a",
   "metadata": {
    "ExecuteTime": {
     "end_time": "2025-04-25T02:57:52.588378Z",
     "start_time": "2025-04-25T02:57:52.572422Z"
    }
   },
   "outputs": [
    {
     "data": {
      "text/plain": [
       "(array([[12, 15, 18, 21],\n",
       "        [48, 51, 54, 57]]),\n",
       " array([[12, 15, 18, 21],\n",
       "        [48, 51, 54, 57]]))"
      ]
     },
     "execution_count": 209,
     "metadata": {},
     "output_type": "execute_result"
    }
   ],
   "source": [
    "# axis = 1: 0축, 2축 고정하고, 1축(0행, 1행, 2행)들의 합\n",
    "b.sum(axis=1), np.sum(b, axis=1)"
   ]
  },
  {
   "cell_type": "code",
   "execution_count": 211,
   "id": "ed645c8d",
   "metadata": {
    "ExecuteTime": {
     "end_time": "2025-04-25T03:00:26.007003Z",
     "start_time": "2025-04-25T03:00:25.981037Z"
    }
   },
   "outputs": [
    {
     "data": {
      "text/plain": [
       "(array([[ 6, 22, 38],\n",
       "        [54, 70, 86]]),\n",
       " array([[ 6, 22, 38],\n",
       "        [54, 70, 86]]))"
      ]
     },
     "execution_count": 211,
     "metadata": {},
     "output_type": "execute_result"
    }
   ],
   "source": [
    "b.sum(axis=2), np.sum(b, axis=2)"
   ]
  },
  {
   "cell_type": "markdown",
   "id": "04d3bc70",
   "metadata": {},
   "source": [
    "## 2.8. 그 외 요소별 계산하는 범용함수들\n",
    "\n",
    "- 메모리나 시간을 효율적으로 사용할 수 있음\n",
    "- np.add(A, B, C) = C = np.add(A, B) = C = A + B\n",
    "- np.subtract(A, B, C) = C = np.subtract(A, B) = C = A - B\n",
    "- np.multiply(A, B, C) = C = np.multiply(A, B) = C = A * B\n",
    "- np.sqrt(배열) : 요소별 제곱근 cf. math.sqrt(스칼라값)"
   ]
  },
  {
   "cell_type": "code",
   "execution_count": 217,
   "id": "8c4bddc5",
   "metadata": {
    "ExecuteTime": {
     "end_time": "2025-04-25T03:06:19.367088Z",
     "start_time": "2025-04-25T03:06:19.342155Z"
    }
   },
   "outputs": [
    {
     "name": "stdout",
     "output_type": "stream",
     "text": [
      "CPU times: total: 0 ns\n",
      "Wall time: 0 ns\n"
     ]
    }
   ],
   "source": [
    "%time\n",
    "a = np.array([1, 2])\n",
    "b = np.array([3, 4])\n",
    "c = a+b"
   ]
  },
  {
   "cell_type": "code",
   "execution_count": 216,
   "id": "8f8932ea",
   "metadata": {
    "ExecuteTime": {
     "end_time": "2025-04-25T03:05:51.579431Z",
     "start_time": "2025-04-25T03:05:51.567464Z"
    }
   },
   "outputs": [
    {
     "data": {
      "text/plain": [
       "array([4, 6])"
      ]
     },
     "execution_count": 216,
     "metadata": {},
     "output_type": "execute_result"
    }
   ],
   "source": [
    "c"
   ]
  },
  {
   "cell_type": "code",
   "execution_count": 218,
   "id": "011d3dfb",
   "metadata": {
    "ExecuteTime": {
     "end_time": "2025-04-25T03:08:07.389554Z",
     "start_time": "2025-04-25T03:08:07.371566Z"
    }
   },
   "outputs": [
    {
     "data": {
      "text/plain": [
       "array([4, 6])"
      ]
     },
     "execution_count": 218,
     "metadata": {},
     "output_type": "execute_result"
    }
   ],
   "source": [
    "np.add(a, b, c)"
   ]
  },
  {
   "cell_type": "code",
   "execution_count": 219,
   "id": "66921eaa",
   "metadata": {
    "ExecuteTime": {
     "end_time": "2025-04-25T03:08:27.182809Z",
     "start_time": "2025-04-25T03:08:27.164822Z"
    }
   },
   "outputs": [
    {
     "data": {
      "text/plain": [
       "array([4, 6])"
      ]
     },
     "execution_count": 219,
     "metadata": {},
     "output_type": "execute_result"
    }
   ],
   "source": [
    "c = np.add(a, b)\n",
    "c"
   ]
  },
  {
   "cell_type": "code",
   "execution_count": 220,
   "id": "30caf92c",
   "metadata": {
    "ExecuteTime": {
     "end_time": "2025-04-25T03:08:57.052043Z",
     "start_time": "2025-04-25T03:08:57.035089Z"
    }
   },
   "outputs": [
    {
     "data": {
      "text/plain": [
       "(array([1, 2]), array([1.        , 1.41421356]), 2.0)"
      ]
     },
     "execution_count": 220,
     "metadata": {},
     "output_type": "execute_result"
    }
   ],
   "source": [
    "# np.sqrt(배열 또는 스칼라값), cf. math.sqrt(스칼라)\n",
    "a, np.sqrt(a), np.sqrt(4)"
   ]
  },
  {
   "cell_type": "code",
   "execution_count": 223,
   "id": "31e3a0b5",
   "metadata": {
    "ExecuteTime": {
     "end_time": "2025-04-25T03:10:26.374350Z",
     "start_time": "2025-04-25T03:10:26.364337Z"
    }
   },
   "outputs": [
    {
     "data": {
      "text/plain": [
       "2.0"
      ]
     },
     "execution_count": 223,
     "metadata": {},
     "output_type": "execute_result"
    }
   ],
   "source": [
    "import math\n",
    "\n",
    "math.sqrt(4)\n",
    "# math.sqrt(a) 스칼라 값이 아니면 error 발생"
   ]
  },
  {
   "cell_type": "markdown",
   "id": "45868180",
   "metadata": {},
   "source": [
    "## 2.9. 브로드 케이스팅\n",
    "\n",
    "- pdf page 27.\n",
    "- 서로 다른 크기의 배열 간 연산을 수행할 수 있도록 해 주는 강력한 기능\n"
   ]
  },
  {
   "cell_type": "code",
   "execution_count": 226,
   "id": "954eb5c2",
   "metadata": {
    "ExecuteTime": {
     "end_time": "2025-04-25T03:14:02.470230Z",
     "start_time": "2025-04-25T03:14:02.446299Z"
    }
   },
   "outputs": [
    {
     "name": "stdout",
     "output_type": "stream",
     "text": [
      "[11 12 13]\n",
      "[11 12 13]\n"
     ]
    }
   ],
   "source": [
    "# 1차원 배열\n",
    "a = np.array([1, 2, 3])\n",
    "b = 10\n",
    "print(a + b)\n",
    "print(np.add(a, b))"
   ]
  },
  {
   "cell_type": "code",
   "execution_count": 228,
   "id": "32fddcf6",
   "metadata": {
    "ExecuteTime": {
     "end_time": "2025-04-25T03:16:12.339459Z",
     "start_time": "2025-04-25T03:16:12.323502Z"
    }
   },
   "outputs": [
    {
     "name": "stdout",
     "output_type": "stream",
     "text": [
      "[11 12 13]\n",
      "[11 12 13]\n"
     ]
    }
   ],
   "source": [
    "# 1차원 배열의 브로드캐스팅\n",
    "a = np.array([1, 2, 3])\n",
    "b = np.array([10])\n",
    "\n",
    "print(a + b)\n",
    "print(np.add(a, b))"
   ]
  },
  {
   "cell_type": "code",
   "execution_count": 230,
   "id": "591bd7cf",
   "metadata": {
    "ExecuteTime": {
     "end_time": "2025-04-25T03:20:35.071211Z",
     "start_time": "2025-04-25T03:20:35.045291Z"
    }
   },
   "outputs": [
    {
     "data": {
      "text/plain": [
       "array([[ 1,  2,  3],\n",
       "       [11, 12, 13],\n",
       "       [21, 22, 23],\n",
       "       [31, 32, 33]])"
      ]
     },
     "execution_count": 230,
     "metadata": {},
     "output_type": "execute_result"
    }
   ],
   "source": [
    "# 2차원 배열의 브로드캐스팅\n",
    "a = np.array([[0, 0, 0], [10, 10, 10], [20, 20, 20], [30, 30, 30]]) # 4행 3열\n",
    "b = np.array([1, 2,3]) # 3열\n",
    "a+b"
   ]
  },
  {
   "cell_type": "code",
   "execution_count": 232,
   "id": "768f01db",
   "metadata": {
    "ExecuteTime": {
     "end_time": "2025-04-25T03:35:18.125923Z",
     "start_time": "2025-04-25T03:35:18.109959Z"
    }
   },
   "outputs": [
    {
     "data": {
      "text/plain": [
       "array([[ 1,  1,  1],\n",
       "       [12, 12, 12],\n",
       "       [23, 23, 23],\n",
       "       [34, 34, 34]])"
      ]
     },
     "execution_count": 232,
     "metadata": {},
     "output_type": "execute_result"
    }
   ],
   "source": [
    "# 2차원 배열의 브로드캐스팅\n",
    "a = np.array([[0, 0, 0], [10, 10, 10], [20, 20, 20], [30, 30, 30]])  # 4행 3열\n",
    "b = np.array([[1], [2], [3], [4]])  # 4행 1열\n",
    "a + b"
   ]
  },
  {
   "cell_type": "code",
   "execution_count": 249,
   "id": "4c5aa901",
   "metadata": {
    "ExecuteTime": {
     "end_time": "2025-04-25T03:42:20.623574Z",
     "start_time": "2025-04-25T03:42:20.599629Z"
    }
   },
   "outputs": [
    {
     "data": {
      "text/plain": [
       "array([[1],\n",
       "       [2],\n",
       "       [3],\n",
       "       [4]])"
      ]
     },
     "execution_count": 249,
     "metadata": {},
     "output_type": "execute_result"
    }
   ],
   "source": [
    "a = np.array([[0, 0, 0], [10, 10, 10], [20, 20, 20], [30, 30, 30]])  # 4행 3열\n",
    "b = np.array([1, 2, 3, 4])  # 4열 -> (축증가) -> 4행 1열\n",
    "\n",
    "# 축증가 방법 1.\n",
    "# b_1 = b.reshape(4, 1)\n",
    "\n",
    "# ※ 축증가 방법 2 (많이 씀)\n",
    "b_1 = b[:, np.newaxis]\n",
    "\n",
    "# 축증가 방법 3\n",
    "# b_1 = np.expand_dims(b, axis=1)\n",
    "\n",
    "b_1"
   ]
  },
  {
   "cell_type": "code",
   "execution_count": 252,
   "id": "692eca4c",
   "metadata": {
    "ExecuteTime": {
     "end_time": "2025-04-25T03:43:07.644629Z",
     "start_time": "2025-04-25T03:43:07.628685Z"
    }
   },
   "outputs": [
    {
     "data": {
      "text/plain": [
       "array([[ 1,  1,  1],\n",
       "       [12, 12, 12],\n",
       "       [23, 23, 23],\n",
       "       [34, 34, 34]])"
      ]
     },
     "execution_count": 252,
     "metadata": {},
     "output_type": "execute_result"
    }
   ],
   "source": [
    "a + b[:, np.newaxis]"
   ]
  },
  {
   "cell_type": "code",
   "execution_count": 257,
   "id": "defb33e3",
   "metadata": {
    "ExecuteTime": {
     "end_time": "2025-04-25T03:47:17.415315Z",
     "start_time": "2025-04-25T03:47:17.389370Z"
    }
   },
   "outputs": [
    {
     "data": {
      "text/plain": [
       "array([[12, 13, 14, 15],\n",
       "       [22, 23, 24, 25],\n",
       "       [32, 33, 34, 35],\n",
       "       [42, 43, 44, 45]])"
      ]
     },
     "execution_count": 257,
     "metadata": {},
     "output_type": "execute_result"
    }
   ],
   "source": [
    "# a와 b의 모든 쌍의 조합에 대해 계산하고 싶을 떄\n",
    "a = np.array([2, 3, 4, 5])\n",
    "b = np.array([10, 20, 30, 40])\n",
    "\n",
    "a + b[:, np.newaxis]"
   ]
  },
  {
   "cell_type": "code",
   "execution_count": 258,
   "id": "705915e2",
   "metadata": {
    "ExecuteTime": {
     "end_time": "2025-04-25T03:48:04.719912Z",
     "start_time": "2025-04-25T03:48:04.694975Z"
    }
   },
   "outputs": [
    {
     "data": {
      "text/plain": [
       "array([[12, 22, 32, 42],\n",
       "       [13, 23, 33, 43],\n",
       "       [14, 24, 34, 44],\n",
       "       [15, 25, 35, 45]])"
      ]
     },
     "execution_count": 258,
     "metadata": {},
     "output_type": "execute_result"
    }
   ],
   "source": [
    "a[:, np.newaxis]+b"
   ]
  },
  {
   "cell_type": "code",
   "execution_count": 263,
   "id": "4a763ea6",
   "metadata": {
    "ExecuteTime": {
     "end_time": "2025-04-25T03:49:19.498378Z",
     "start_time": "2025-04-25T03:49:19.481394Z"
    }
   },
   "outputs": [
    {
     "name": "stdout",
     "output_type": "stream",
     "text": [
      "(array([[2],\n",
      "       [3],\n",
      "       [4],\n",
      "       [5]]), array([[10, 20, 30, 40]]))\n"
     ]
    },
    {
     "data": {
      "text/plain": [
       "array([[12, 22, 32, 42],\n",
       "       [13, 23, 33, 43],\n",
       "       [14, 24, 34, 44],\n",
       "       [15, 25, 35, 45]])"
      ]
     },
     "execution_count": 263,
     "metadata": {},
     "output_type": "execute_result"
    }
   ],
   "source": [
    "print(np.ix_(a, b))\n",
    "ax, bx = np.ix_(a, b)\n",
    "ax+bx"
   ]
  },
  {
   "cell_type": "markdown",
   "id": "33be40ef",
   "metadata": {},
   "source": [
    "# 3절. 배열 합치기 / 분리하기\n",
    "\n",
    "- 슬라이싱\n",
    "- 두배열을 합치는 함수 / 두배열을 분리하는 함수\n",
    "- r_, c_ 라는 객체\n",
    "- 두 배열을 분리하는 함수\n",
    "\n",
    "## 3.1. 인덱싱과 슬라이싱\n",
    "\n",
    "- 인덱싱에는 없는 인덱스 사용시 에러\n",
    "- 슬라이싱에는 없는 인덱스 사용시 끝까지\n",
    "- 음수 인덱는 끝에서부터"
   ]
  },
  {
   "cell_type": "code",
   "execution_count": 5,
   "id": "84698fe5",
   "metadata": {
    "ExecuteTime": {
     "end_time": "2025-04-25T04:34:55.052939Z",
     "start_time": "2025-04-25T04:34:55.037980Z"
    }
   },
   "outputs": [
    {
     "data": {
      "text/plain": [
       "array([ 0,  3,  6,  9, 12, 15, 18, 21, 24, 27])"
      ]
     },
     "execution_count": 5,
     "metadata": {},
     "output_type": "execute_result"
    }
   ],
   "source": [
    "a = np.arange(10)*3\n",
    "a"
   ]
  },
  {
   "cell_type": "code",
   "execution_count": 6,
   "id": "a8f3a355",
   "metadata": {
    "ExecuteTime": {
     "end_time": "2025-04-25T04:35:04.887490Z",
     "start_time": "2025-04-25T04:35:04.846336Z"
    }
   },
   "outputs": [
    {
     "ename": "IndexError",
     "evalue": "index 20 is out of bounds for axis 0 with size 10",
     "output_type": "error",
     "traceback": [
      "\u001b[1;31m---------------------------------------------------------------------------\u001b[0m",
      "\u001b[1;31mIndexError\u001b[0m                                Traceback (most recent call last)",
      "Cell \u001b[1;32mIn[6], line 1\u001b[0m\n\u001b[1;32m----> 1\u001b[0m \u001b[43ma\u001b[49m\u001b[43m[\u001b[49m\u001b[38;5;241;43m20\u001b[39;49m\u001b[43m]\u001b[49m\n",
      "\u001b[1;31mIndexError\u001b[0m: index 20 is out of bounds for axis 0 with size 10"
     ]
    }
   ],
   "source": [
    "a[20]"
   ]
  },
  {
   "cell_type": "code",
   "execution_count": 7,
   "id": "cbf2d79b",
   "metadata": {
    "ExecuteTime": {
     "end_time": "2025-04-25T04:35:07.768241Z",
     "start_time": "2025-04-25T04:35:07.753280Z"
    }
   },
   "outputs": [
    {
     "data": {
      "text/plain": [
       "array([[ 0,  1,  2,  3],\n",
       "       [ 4,  5,  6,  7],\n",
       "       [ 8,  9, 10, 11],\n",
       "       [12, 13, 14, 15],\n",
       "       [16, 17, 18, 19]])"
      ]
     },
     "execution_count": 7,
     "metadata": {},
     "output_type": "execute_result"
    }
   ],
   "source": [
    "a = np.arange(20).reshape(5, 4)\n",
    "a"
   ]
  },
  {
   "cell_type": "code",
   "execution_count": 270,
   "id": "4673930a",
   "metadata": {
    "ExecuteTime": {
     "end_time": "2025-04-25T03:57:51.655154Z",
     "start_time": "2025-04-25T03:57:51.640206Z"
    }
   },
   "outputs": [
    {
     "data": {
      "text/plain": [
       "array([[ 5,  6],\n",
       "       [ 9, 10]])"
      ]
     },
     "execution_count": 270,
     "metadata": {},
     "output_type": "execute_result"
    }
   ],
   "source": [
    "a[1:3, 1:3]"
   ]
  },
  {
   "cell_type": "code",
   "execution_count": 279,
   "id": "e288817e",
   "metadata": {
    "ExecuteTime": {
     "end_time": "2025-04-25T04:01:12.613564Z",
     "start_time": "2025-04-25T04:01:12.601562Z"
    }
   },
   "outputs": [
    {
     "data": {
      "text/plain": [
       "(array([[ 0,  1,  2],\n",
       "        [ 4,  5,  6],\n",
       "        [ 8,  9, 10],\n",
       "        [12, 13, 14],\n",
       "        [16, 17, 18]]),\n",
       " array([[ 0,  1,  2],\n",
       "        [ 4,  5,  6],\n",
       "        [ 8,  9, 10],\n",
       "        [12, 13, 14],\n",
       "        [16, 17, 18]]))"
      ]
     },
     "execution_count": 279,
     "metadata": {},
     "output_type": "execute_result"
    }
   ],
   "source": [
    "# 모든 행의 마지막 열 앞까지 (모든 행 = 모든 0축의 경우 ':' 나 '...' 을 반드시 명시)\n",
    "a[:, 0:-1] , a[..., :-1]"
   ]
  },
  {
   "cell_type": "code",
   "execution_count": 283,
   "id": "b4a6992b",
   "metadata": {
    "ExecuteTime": {
     "end_time": "2025-04-25T04:03:53.539809Z",
     "start_time": "2025-04-25T04:03:53.515863Z"
    }
   },
   "outputs": [
    {
     "data": {
      "text/plain": [
       "(array([[0, 1, 2, 3],\n",
       "        [4, 5, 6, 7]]),\n",
       " array([[0, 1, 2, 3],\n",
       "        [4, 5, 6, 7]]),\n",
       " array([[0, 1, 2, 3],\n",
       "        [4, 5, 6, 7]]))"
      ]
     },
     "execution_count": 283,
     "metadata": {},
     "output_type": "execute_result"
    }
   ],
   "source": [
    "# 0 ~ 1 행까지 모든 열 추출 (모든 열 (1축)의 경우 생략 가능 : ':', '...' 사용 가능)\n",
    "a[0:2, :], a[:2, ...], a[:2]"
   ]
  },
  {
   "cell_type": "code",
   "execution_count": 284,
   "id": "27f603a1",
   "metadata": {
    "ExecuteTime": {
     "end_time": "2025-04-25T04:04:48.945545Z",
     "start_time": "2025-04-25T04:04:48.932583Z"
    }
   },
   "outputs": [
    {
     "data": {
      "text/plain": [
       "array([[ 0,  1,  2,  3],\n",
       "       [ 4,  5,  6,  7],\n",
       "       [ 8,  9, 10, 11],\n",
       "       [12, 13, 14, 15],\n",
       "       [16, 17, 18, 19]])"
      ]
     },
     "execution_count": 284,
     "metadata": {},
     "output_type": "execute_result"
    }
   ],
   "source": [
    "a"
   ]
  },
  {
   "cell_type": "code",
   "execution_count": 36,
   "id": "d915be04",
   "metadata": {
    "ExecuteTime": {
     "end_time": "2025-04-25T05:21:40.674650Z",
     "start_time": "2025-04-25T05:21:40.662682Z"
    }
   },
   "outputs": [
    {
     "data": {
      "text/plain": [
       "array([[16, 17, 18, 19]])"
      ]
     },
     "execution_count": 36,
     "metadata": {},
     "output_type": "execute_result"
    }
   ],
   "source": [
    "# 마지막행의 데이터를 2차원으로 변환 > 4행 1열\n",
    "x = a[4:, ...]\n",
    "x\n",
    "# x.reshape(4, 1)"
   ]
  },
  {
   "cell_type": "code",
   "execution_count": 25,
   "id": "d9265f64",
   "metadata": {
    "ExecuteTime": {
     "end_time": "2025-04-25T05:19:53.843472Z",
     "start_time": "2025-04-25T05:19:53.820534Z"
    }
   },
   "outputs": [
    {
     "data": {
      "text/plain": [
       "(array([16, 17, 18, 19]),\n",
       " array([[16],\n",
       "        [17],\n",
       "        [18],\n",
       "        [19]]),\n",
       " array([[16],\n",
       "        [17],\n",
       "        [18],\n",
       "        [19]]),\n",
       " array([[16],\n",
       "        [17],\n",
       "        [18],\n",
       "        [19]]))"
      ]
     },
     "execution_count": 25,
     "metadata": {},
     "output_type": "execute_result"
    }
   ],
   "source": [
    "a[-1],a[-1][:, np.newaxis], a[-1].reshape(4, -1), np.expand_dims(a[-1], axis=1)"
   ]
  },
  {
   "cell_type": "markdown",
   "id": "81fb43dd",
   "metadata": {},
   "source": [
    "## 3.2. 배열을 합치는 함수\n",
    "\n",
    "\n",
    "- **vstack(tup) : 아래로 추가하는 방식**\n",
    "- **hstack(tup) : 옆으로 추가하는 방식**\n",
    "- **dstack(tup) : 마지막 축(열)을 쌓아 합침 (차원증가)**\n",
    "\n",
    "\n",
    "\n",
    "\n"
   ]
  },
  {
   "cell_type": "code",
   "execution_count": 45,
   "id": "c24406a1",
   "metadata": {
    "ExecuteTime": {
     "end_time": "2025-04-25T05:37:34.423602Z",
     "start_time": "2025-04-25T05:37:34.406659Z"
    }
   },
   "outputs": [
    {
     "name": "stdout",
     "output_type": "stream",
     "text": [
      "vstack 아래로 합치기\n",
      "[[1 2 3]\n",
      " [4 5 6]]\n",
      "(2, 3)\n",
      "hstack 옆으로 합치기\n",
      "[1 2 3 4 5 6]\n",
      "(6,)\n",
      "dstack 축을 depth로 합치기\n",
      "[[[1 4]\n",
      "  [2 5]\n",
      "  [3 6]]]\n",
      "(1, 3, 2)\n"
     ]
    }
   ],
   "source": [
    "a = np.array([1,2,3])\n",
    "b = np.array([4,5,6])\n",
    "v = np.vstack((a, b))\n",
    "\n",
    "print(\"vstack 아래로 합치기\", v, v.shape, sep=\"\\n\")\n",
    "\n",
    "h = np.hstack((a, b))\n",
    "print(\"hstack 옆으로 합치기\", h, h.shape, sep=\"\\n\")\n",
    "\n",
    "d = np.dstack((a, b))\n",
    "print(\"dstack 축을 depth로 합치기\", d, d.shape, sep=\"\\n\")"
   ]
  },
  {
   "cell_type": "code",
   "execution_count": 48,
   "id": "fa02aae1",
   "metadata": {
    "ExecuteTime": {
     "end_time": "2025-04-25T05:39:48.643229Z",
     "start_time": "2025-04-25T05:39:48.619294Z"
    }
   },
   "outputs": [
    {
     "data": {
      "text/plain": [
       "(array([[ 0,  1,  2,  3],\n",
       "        [ 4,  5,  6,  7],\n",
       "        [ 8,  9, 10, 11]]),\n",
       " array([[12, 13, 14, 15],\n",
       "        [16, 17, 18, 19],\n",
       "        [20, 21, 22, 23]]))"
      ]
     },
     "execution_count": 48,
     "metadata": {},
     "output_type": "execute_result"
    }
   ],
   "source": [
    "c = np.arange(24).reshape(2, 3, 4)\n",
    "a, b = c[0], c[1]\n",
    "a,b"
   ]
  },
  {
   "cell_type": "code",
   "execution_count": 49,
   "id": "83d4bb42",
   "metadata": {
    "ExecuteTime": {
     "end_time": "2025-04-25T05:40:42.151031Z",
     "start_time": "2025-04-25T05:40:42.134075Z"
    }
   },
   "outputs": [
    {
     "name": "stdout",
     "output_type": "stream",
     "text": [
      "vstack 아래로 합치기\n",
      "[[ 0  1  2  3]\n",
      " [ 4  5  6  7]\n",
      " [ 8  9 10 11]\n",
      " [12 13 14 15]\n",
      " [16 17 18 19]\n",
      " [20 21 22 23]]\n",
      "(6, 4)\n",
      "hstack 옆으로 합치기\n",
      "[[ 0  1  2  3 12 13 14 15]\n",
      " [ 4  5  6  7 16 17 18 19]\n",
      " [ 8  9 10 11 20 21 22 23]]\n",
      "(3, 8)\n",
      "dstack 축을 depth로 합치기\n",
      "[[[ 0 12]\n",
      "  [ 1 13]\n",
      "  [ 2 14]\n",
      "  [ 3 15]]\n",
      "\n",
      " [[ 4 16]\n",
      "  [ 5 17]\n",
      "  [ 6 18]\n",
      "  [ 7 19]]\n",
      "\n",
      " [[ 8 20]\n",
      "  [ 9 21]\n",
      "  [10 22]\n",
      "  [11 23]]]\n",
      "(3, 4, 2)\n"
     ]
    }
   ],
   "source": [
    "v = np.vstack((a, b))\n",
    "\n",
    "print(\"vstack 아래로 합치기\", v, v.shape, sep=\"\\n\")\n",
    "\n",
    "h = np.hstack((a, b))\n",
    "print(\"hstack 옆으로 합치기\", h, h.shape, sep=\"\\n\")\n",
    "\n",
    "d = np.dstack((a, b))\n",
    "print(\"dstack 축을 depth로 합치기\", d, d.shape, sep=\"\\n\")"
   ]
  },
  {
   "cell_type": "code",
   "execution_count": 50,
   "id": "f2302c25",
   "metadata": {
    "ExecuteTime": {
     "end_time": "2025-04-25T05:42:30.340303Z",
     "start_time": "2025-04-25T05:42:30.325358Z"
    }
   },
   "outputs": [
    {
     "data": {
      "text/plain": [
       "array([[ 0,  1,  2,  3],\n",
       "       [ 4,  5,  6,  7],\n",
       "       [ 8,  9, 10, 11],\n",
       "       [12, 13, 14, 15],\n",
       "       [16, 17, 18, 19],\n",
       "       [20, 21, 22, 23]])"
      ]
     },
     "execution_count": 50,
     "metadata": {},
     "output_type": "execute_result"
    }
   ],
   "source": [
    "np.concatenate((a, b), axis=0)  # = vstack( (a, b) )"
   ]
  },
  {
   "cell_type": "code",
   "execution_count": 54,
   "id": "30231c1a",
   "metadata": {
    "ExecuteTime": {
     "end_time": "2025-04-25T05:43:48.423577Z",
     "start_time": "2025-04-25T05:43:48.398682Z"
    }
   },
   "outputs": [
    {
     "data": {
      "text/plain": [
       "array([[ 0,  1,  2,  3, 12, 13, 14, 15],\n",
       "       [ 4,  5,  6,  7, 16, 17, 18, 19],\n",
       "       [ 8,  9, 10, 11, 20, 21, 22, 23]])"
      ]
     },
     "execution_count": 54,
     "metadata": {},
     "output_type": "execute_result"
    }
   ],
   "source": [
    "np.concatenate((a, b), axis=1)  # = hstack( (a, b) )"
   ]
  },
  {
   "cell_type": "markdown",
   "id": "10884378",
   "metadata": {},
   "source": [
    "- **column_stack(tup) : 열단위로 합침 == hstack(tup)**\n",
    "- **row-stack(tup) : 행단위로 합침 == vstack(tup)**\n",
    "- **stack(tup, axis) : axis 속성에 따라 배열 합침 axis 음수파차원 가능**"
   ]
  },
  {
   "cell_type": "code",
   "execution_count": 56,
   "id": "e3175e79",
   "metadata": {
    "ExecuteTime": {
     "end_time": "2025-04-25T05:49:15.928814Z",
     "start_time": "2025-04-25T05:49:15.904877Z"
    }
   },
   "outputs": [
    {
     "data": {
      "text/plain": [
       "array([[1, 4, 7],\n",
       "       [2, 5, 8],\n",
       "       [3, 6, 9]])"
      ]
     },
     "execution_count": 56,
     "metadata": {},
     "output_type": "execute_result"
    }
   ],
   "source": [
    "a = np.array([1, 2, 3])\n",
    "b = np.array([4, 5, 6])\n",
    "c = np.array([7, 8, 9])\n",
    "np.column_stack((a, b, c))"
   ]
  },
  {
   "cell_type": "code",
   "execution_count": 59,
   "id": "eb823576",
   "metadata": {
    "ExecuteTime": {
     "end_time": "2025-04-25T05:50:18.043886Z",
     "start_time": "2025-04-25T05:50:18.024938Z"
    }
   },
   "outputs": [
    {
     "data": {
      "text/plain": [
       "array([[1, 2, 3],\n",
       "       [4, 5, 6],\n",
       "       [7, 8, 9]])"
      ]
     },
     "execution_count": 59,
     "metadata": {},
     "output_type": "execute_result"
    }
   ],
   "source": [
    "np.row_stack((a, b, c))"
   ]
  },
  {
   "cell_type": "code",
   "execution_count": 69,
   "id": "dfbf9f2a",
   "metadata": {
    "ExecuteTime": {
     "end_time": "2025-04-25T05:54:11.463490Z",
     "start_time": "2025-04-25T05:54:11.436570Z"
    }
   },
   "outputs": [
    {
     "data": {
      "text/plain": [
       "(array([[ 0,  1,  2,  3],\n",
       "        [ 4,  5,  6,  7],\n",
       "        [ 8,  9, 10, 11]]),\n",
       " array([[12, 13, 14, 15],\n",
       "        [16, 17, 18, 19],\n",
       "        [20, 21, 22, 23]]))"
      ]
     },
     "execution_count": 69,
     "metadata": {},
     "output_type": "execute_result"
    }
   ],
   "source": [
    "c = np.arange(24).reshape(2, 3, 4)\n",
    "a, b = c[0], c[1]\n",
    "a, b"
   ]
  },
  {
   "cell_type": "code",
   "execution_count": 93,
   "id": "20ac9011",
   "metadata": {
    "ExecuteTime": {
     "end_time": "2025-04-25T05:56:33.673237Z",
     "start_time": "2025-04-25T05:56:33.656294Z"
    }
   },
   "outputs": [
    {
     "data": {
      "text/plain": [
       "array([[[ 0,  1,  2,  3],\n",
       "        [ 4,  5,  6,  7],\n",
       "        [ 8,  9, 10, 11]],\n",
       "\n",
       "       [[12, 13, 14, 15],\n",
       "        [16, 17, 18, 19],\n",
       "        [20, 21, 22, 23]]])"
      ]
     },
     "execution_count": 93,
     "metadata": {},
     "output_type": "execute_result"
    }
   ],
   "source": [
    "np.stack((a, b), axis=0)  # 0면 a, 1면 b"
   ]
  },
  {
   "cell_type": "code",
   "execution_count": 92,
   "id": "80bfde23",
   "metadata": {
    "ExecuteTime": {
     "end_time": "2025-04-25T05:56:31.128275Z",
     "start_time": "2025-04-25T05:56:31.103306Z"
    }
   },
   "outputs": [
    {
     "data": {
      "text/plain": [
       "array([[[ 0,  1,  2,  3],\n",
       "        [12, 13, 14, 15]],\n",
       "\n",
       "       [[ 4,  5,  6,  7],\n",
       "        [16, 17, 18, 19]],\n",
       "\n",
       "       [[ 8,  9, 10, 11],\n",
       "        [20, 21, 22, 23]]])"
      ]
     },
     "execution_count": 92,
     "metadata": {},
     "output_type": "execute_result"
    }
   ],
   "source": [
    "np.stack( (a, b), axis=1 )"
   ]
  },
  {
   "cell_type": "code",
   "execution_count": 88,
   "id": "e7ff4005",
   "metadata": {
    "ExecuteTime": {
     "end_time": "2025-04-25T05:56:05.333189Z",
     "start_time": "2025-04-25T05:56:05.317231Z"
    }
   },
   "outputs": [
    {
     "data": {
      "text/plain": [
       "array([[[ 0, 12],\n",
       "        [ 1, 13],\n",
       "        [ 2, 14],\n",
       "        [ 3, 15]],\n",
       "\n",
       "       [[ 4, 16],\n",
       "        [ 5, 17],\n",
       "        [ 6, 18],\n",
       "        [ 7, 19]],\n",
       "\n",
       "       [[ 8, 20],\n",
       "        [ 9, 21],\n",
       "        [10, 22],\n",
       "        [11, 23]]])"
      ]
     },
     "execution_count": 88,
     "metadata": {},
     "output_type": "execute_result"
    }
   ],
   "source": [
    "np.stack( (a, b), axis=-1 )"
   ]
  },
  {
   "cell_type": "markdown",
   "id": "51accac3",
   "metadata": {},
   "source": [
    "## 3.3. r_, c_"
   ]
  },
  {
   "cell_type": "code",
   "execution_count": 97,
   "id": "f6b60174",
   "metadata": {
    "ExecuteTime": {
     "end_time": "2025-04-25T05:58:51.246720Z",
     "start_time": "2025-04-25T05:58:51.222748Z"
    }
   },
   "outputs": [],
   "source": [
    "a = np.array([1, 2, 3, 4])\n",
    "b = np.array([5, 5, 5, 5])\n",
    "c = np.array([6, 6, 6, 6])"
   ]
  },
  {
   "cell_type": "code",
   "execution_count": 98,
   "id": "2d149062",
   "metadata": {
    "ExecuteTime": {
     "end_time": "2025-04-25T05:58:52.490216Z",
     "start_time": "2025-04-25T05:58:52.465282Z"
    }
   },
   "outputs": [
    {
     "data": {
      "text/plain": [
       "array([1, 2, 3, 4, 5, 5, 5, 5, 6, 6, 6, 6])"
      ]
     },
     "execution_count": 98,
     "metadata": {},
     "output_type": "execute_result"
    }
   ],
   "source": [
    "np.r_[a, b, c]"
   ]
  },
  {
   "cell_type": "code",
   "execution_count": 99,
   "id": "1d000aca",
   "metadata": {
    "ExecuteTime": {
     "end_time": "2025-04-25T05:59:13.319618Z",
     "start_time": "2025-04-25T05:59:13.307603Z"
    }
   },
   "outputs": [
    {
     "data": {
      "text/plain": [
       "array([[1, 2, 3, 4],\n",
       "       [5, 5, 5, 5],\n",
       "       [6, 6, 6, 6]])"
      ]
     },
     "execution_count": 99,
     "metadata": {},
     "output_type": "execute_result"
    }
   ],
   "source": [
    "np.r_[[a], [b], [c]]"
   ]
  },
  {
   "cell_type": "code",
   "execution_count": 103,
   "id": "c59c3b8a",
   "metadata": {
    "ExecuteTime": {
     "end_time": "2025-04-25T06:00:15.894990Z",
     "start_time": "2025-04-25T06:00:15.872016Z"
    }
   },
   "outputs": [
    {
     "data": {
      "text/plain": [
       "array([[1, 5, 6],\n",
       "       [2, 5, 6],\n",
       "       [3, 5, 6],\n",
       "       [4, 5, 6]])"
      ]
     },
     "execution_count": 103,
     "metadata": {},
     "output_type": "execute_result"
    }
   ],
   "source": [
    "np.c_[a, b, c] # 컬럼 쌓기"
   ]
  },
  {
   "cell_type": "markdown",
   "id": "69b581f2",
   "metadata": {},
   "source": [
    "## 3.4. 배열을 분리하는 함수\n",
    "\n",
    "- **vsplit(arr, 정수나 벡터) 첫번쨰 축을 따라 분할**\n",
    "- **hsplit(arr, 정수나 벡터) 두번쨰 축을 따라 분할**\n",
    "- **dsplit(arr, 정수나 벡터) depth따라 나눔 (3차원 이상에서만 동작)**\n",
    "    - 정수 n : n개 분리\n",
    "    - 벡터 [n] : n번쨰 인덱스 기점으로 분리\n",
    "    - [m, n] : m번째, n번쨰 인덱스를 기점으로 분리"
   ]
  },
  {
   "cell_type": "code",
   "execution_count": 106,
   "id": "73078360",
   "metadata": {
    "ExecuteTime": {
     "end_time": "2025-04-25T06:21:25.977762Z",
     "start_time": "2025-04-25T06:21:25.954851Z"
    }
   },
   "outputs": [
    {
     "data": {
      "text/plain": [
       "array([[ 0,  1,  2,  3],\n",
       "       [ 4,  5,  6,  7],\n",
       "       [ 8,  9, 10, 11]])"
      ]
     },
     "execution_count": 106,
     "metadata": {},
     "output_type": "execute_result"
    }
   ],
   "source": [
    "a = np.arange(12).reshape(3, 4)\n",
    "a"
   ]
  },
  {
   "cell_type": "code",
   "execution_count": 109,
   "id": "bf3baab8",
   "metadata": {
    "ExecuteTime": {
     "end_time": "2025-04-25T06:22:49.995284Z",
     "start_time": "2025-04-25T06:22:49.976335Z"
    }
   },
   "outputs": [
    {
     "data": {
      "text/plain": [
       "[array([[0, 1, 2, 3]]), array([[4, 5, 6, 7]]), array([[ 8,  9, 10, 11]])]"
      ]
     },
     "execution_count": 109,
     "metadata": {},
     "output_type": "execute_result"
    }
   ],
   "source": [
    "a_vsplit = np.vsplit(a, 3) # 2개로 분리는 에러\n",
    "a_vsplit"
   ]
  },
  {
   "cell_type": "code",
   "execution_count": 115,
   "id": "21dea94b",
   "metadata": {
    "ExecuteTime": {
     "end_time": "2025-04-25T06:25:00.727985Z",
     "start_time": "2025-04-25T06:25:00.707038Z"
    }
   },
   "outputs": [
    {
     "data": {
      "text/plain": [
       "[array([[0, 1, 2, 3],\n",
       "        [4, 5, 6, 7]]),\n",
       " array([[ 8,  9, 10, 11]])]"
      ]
     },
     "execution_count": 115,
     "metadata": {},
     "output_type": "execute_result"
    }
   ],
   "source": [
    "a_vsplit = np.vsplit(a, [2]) # 2번 인덱스 기점으로 분리\n",
    "a_vsplit"
   ]
  },
  {
   "cell_type": "code",
   "execution_count": 117,
   "id": "f13df064",
   "metadata": {
    "ExecuteTime": {
     "end_time": "2025-04-25T06:25:25.538457Z",
     "start_time": "2025-04-25T06:25:25.517478Z"
    }
   },
   "outputs": [
    {
     "data": {
      "text/plain": [
       "[array([[0, 1],\n",
       "        [4, 5],\n",
       "        [8, 9]]),\n",
       " array([[ 2,  3],\n",
       "        [ 6,  7],\n",
       "        [10, 11]])]"
      ]
     },
     "execution_count": 117,
     "metadata": {},
     "output_type": "execute_result"
    }
   ],
   "source": [
    "a_hsplit = np.hsplit(a, 2) # 3개로 분리는 에러\n",
    "a_hsplit"
   ]
  },
  {
   "cell_type": "code",
   "execution_count": 123,
   "id": "407cfed3",
   "metadata": {
    "ExecuteTime": {
     "end_time": "2025-04-25T06:26:15.957685Z",
     "start_time": "2025-04-25T06:26:15.941729Z"
    }
   },
   "outputs": [
    {
     "data": {
      "text/plain": [
       "[array([[0, 1],\n",
       "        [4, 5],\n",
       "        [8, 9]]),\n",
       " array([[ 2],\n",
       "        [ 6],\n",
       "        [10]]),\n",
       " array([[ 3],\n",
       "        [ 7],\n",
       "        [11]])]"
      ]
     },
     "execution_count": 123,
     "metadata": {},
     "output_type": "execute_result"
    }
   ],
   "source": [
    "a_hsplit = np.hsplit(a, [2,3]) # [2,3]:분리될 기준 인덱스\n",
    "a_hsplit"
   ]
  },
  {
   "cell_type": "markdown",
   "id": "652bd963",
   "metadata": {},
   "source": [
    "- **split(arr, 갯수나 인덱스벡터, axis)**\n",
    "    - axis = 0 : vsplit() 동일\n",
    "    - axis = 1 : hsplit() 동일\n",
    "    - axis = 2 : 3차원 이상에서만 동작 dsplit() 동일\n",
    "- **array_split(arr, 갯수나 인덱스벡터, axis)**\n",
    "    - split과의 차이점은 나눠지지 않은 정수로도 사용 가능\n",
    "\n",
    "- cf. stack( (a, b), axis = 0 )"
   ]
  },
  {
   "cell_type": "code",
   "execution_count": 125,
   "id": "4c52e459",
   "metadata": {
    "ExecuteTime": {
     "end_time": "2025-04-25T06:32:36.337752Z",
     "start_time": "2025-04-25T06:32:36.313817Z"
    }
   },
   "outputs": [
    {
     "data": {
      "text/plain": [
       "array([[ 0,  1,  2,  3,  4,  5,  6,  7,  8,  9],\n",
       "       [10, 11, 12, 13, 14, 15, 16, 17, 18, 19]])"
      ]
     },
     "execution_count": 125,
     "metadata": {},
     "output_type": "execute_result"
    }
   ],
   "source": [
    "a = np.arange(20).reshape(2, 10)\n",
    "a"
   ]
  },
  {
   "cell_type": "code",
   "execution_count": 128,
   "id": "62dadc1f",
   "metadata": {
    "ExecuteTime": {
     "end_time": "2025-04-25T06:33:49.178654Z",
     "start_time": "2025-04-25T06:33:49.163633Z"
    }
   },
   "outputs": [
    {
     "data": {
      "text/plain": [
       "[array([[0, 1, 2, 3, 4, 5, 6, 7, 8, 9]]),\n",
       " array([[10, 11, 12, 13, 14, 15, 16, 17, 18, 19]])]"
      ]
     },
     "execution_count": 128,
     "metadata": {},
     "output_type": "execute_result"
    }
   ],
   "source": [
    "np.split(a, 2, axis=0)  # 행분리"
   ]
  },
  {
   "cell_type": "code",
   "execution_count": 134,
   "id": "90419988",
   "metadata": {
    "ExecuteTime": {
     "end_time": "2025-04-25T06:34:37.166236Z",
     "start_time": "2025-04-25T06:34:37.144250Z"
    }
   },
   "outputs": [
    {
     "data": {
      "text/plain": [
       "[array([[ 0,  1,  2,  3,  4],\n",
       "        [10, 11, 12, 13, 14]]),\n",
       " array([[ 5,  6,  7,  8,  9],\n",
       "        [15, 16, 17, 18, 19]])]"
      ]
     },
     "execution_count": 134,
     "metadata": {},
     "output_type": "execute_result"
    }
   ],
   "source": [
    "np.split(a, 2, axis=1)  # 열분리"
   ]
  },
  {
   "cell_type": "code",
   "execution_count": 137,
   "id": "3460a743",
   "metadata": {
    "ExecuteTime": {
     "end_time": "2025-04-25T06:35:55.302388Z",
     "start_time": "2025-04-25T06:35:55.277487Z"
    }
   },
   "outputs": [
    {
     "data": {
      "text/plain": [
       "[array([[ 0,  1,  2,  3],\n",
       "        [10, 11, 12, 13]]),\n",
       " array([[ 4,  5,  6],\n",
       "        [14, 15, 16]]),\n",
       " array([[ 7,  8,  9],\n",
       "        [17, 18, 19]])]"
      ]
     },
     "execution_count": 137,
     "metadata": {},
     "output_type": "execute_result"
    }
   ],
   "source": [
    "# np.split(a, 3, axis=1)  # 3으로 하면 error\n",
    "np.array_split(a, 3, axis=1)"
   ]
  },
  {
   "cell_type": "code",
   "execution_count": null,
   "id": "f711fd91",
   "metadata": {},
   "outputs": [],
   "source": []
  },
  {
   "cell_type": "code",
   "execution_count": null,
   "id": "a6b1fbb2",
   "metadata": {},
   "outputs": [],
   "source": []
  },
  {
   "cell_type": "code",
   "execution_count": null,
   "id": "c8b7eae5",
   "metadata": {},
   "outputs": [],
   "source": []
  },
  {
   "cell_type": "code",
   "execution_count": null,
   "id": "d36743a1",
   "metadata": {},
   "outputs": [],
   "source": []
  },
  {
   "cell_type": "code",
   "execution_count": null,
   "id": "62a3a51d",
   "metadata": {},
   "outputs": [],
   "source": []
  },
  {
   "cell_type": "code",
   "execution_count": null,
   "id": "b05dd986",
   "metadata": {},
   "outputs": [],
   "source": []
  },
  {
   "cell_type": "code",
   "execution_count": null,
   "id": "5ee80142",
   "metadata": {},
   "outputs": [],
   "source": []
  }
 ],
 "metadata": {
  "kernelspec": {
   "display_name": "Python 3 (ipykernel)",
   "language": "python",
   "name": "python3"
  },
  "language_info": {
   "codemirror_mode": {
    "name": "ipython",
    "version": 3
   },
   "file_extension": ".py",
   "mimetype": "text/x-python",
   "name": "python",
   "nbconvert_exporter": "python",
   "pygments_lexer": "ipython3",
   "version": "3.10.9"
  },
  "toc": {
   "base_numbering": 1,
   "nav_menu": {},
   "number_sections": false,
   "sideBar": true,
   "skip_h1_title": false,
   "title_cell": "Table of Contents",
   "title_sidebar": "Contents",
   "toc_cell": false,
   "toc_position": {
    "height": "calc(100% - 180px)",
    "left": "10px",
    "top": "150px",
    "width": "202px"
   },
   "toc_section_display": true,
   "toc_window_display": true
  },
  "varInspector": {
   "cols": {
    "lenName": 16,
    "lenType": 16,
    "lenVar": 40
   },
   "kernels_config": {
    "python": {
     "delete_cmd_postfix": "",
     "delete_cmd_prefix": "del ",
     "library": "var_list.py",
     "varRefreshCmd": "print(var_dic_list())"
    },
    "r": {
     "delete_cmd_postfix": ") ",
     "delete_cmd_prefix": "rm(",
     "library": "var_list.r",
     "varRefreshCmd": "cat(var_dic_list()) "
    }
   },
   "types_to_exclude": [
    "module",
    "function",
    "builtin_function_or_method",
    "instance",
    "_Feature"
   ],
   "window_display": false
  }
 },
 "nbformat": 4,
 "nbformat_minor": 5
}
