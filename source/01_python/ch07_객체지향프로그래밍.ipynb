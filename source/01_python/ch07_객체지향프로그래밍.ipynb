{
 "cells": [
  {
   "cell_type": "code",
   "execution_count": 1,
   "id": "41454d08",
   "metadata": {
    "ExecuteTime": {
     "end_time": "2025-04-21T05:05:09.478224Z",
     "start_time": "2025-04-21T05:05:09.459712Z"
    }
   },
   "outputs": [
    {
     "data": {
      "text/html": [
       "\n",
       "<style>\n",
       "* {font-family:Consolas;}\n",
       "div.container{width:87% !important;}\n",
       "div.cell.code_cell.rendered{width:100%;}\n",
       "div.CodeMirror {font-size:12pt;}\n",
       "div.output {font-size:12pt; font-weight:bold;}\n",
       "div.input { font-size:12pt;}\n",
       "div.prompt {min-width:70px;}\n",
       "div#toc-wrapper{padding-top:120px;}\n",
       "div.text_cell_render ul li{font-size:12pt;padding:3px;}\n",
       "table.dataframe{font-size:12px;}\n",
       "</style>\n"
      ],
      "text/plain": [
       "<IPython.core.display.HTML object>"
      ]
     },
     "metadata": {},
     "output_type": "display_data"
    }
   ],
   "source": [
    "from IPython.display import display, HTML\n",
    "\n",
    "display(\n",
    "    HTML(\"\"\"\n",
    "<style>\n",
    "* {font-family:Consolas;}\n",
    "div.container{width:87% !important;}\n",
    "div.cell.code_cell.rendered{width:100%;}\n",
    "div.CodeMirror {font-size:12pt;}\n",
    "div.output {font-size:12pt; font-weight:bold;}\n",
    "div.input { font-size:12pt;}\n",
    "div.prompt {min-width:70px;}\n",
    "div#toc-wrapper{padding-top:120px;}\n",
    "div.text_cell_render ul li{font-size:12pt;padding:3px;}\n",
    "table.dataframe{font-size:12px;}\n",
    "</style>\n",
    "\"\"\"))"
   ]
  },
  {
   "cell_type": "markdown",
   "id": "581cd71f",
   "metadata": {},
   "source": [
    "<b><font color=\"red\" size=\"6\">ch07.객체지향프로그래밍</font></b>\n",
    "\n",
    "# 1절. 객체와 클래스\n",
    "\n",
    "## 맛보기"
   ]
  },
  {
   "cell_type": "code",
   "execution_count": 2,
   "id": "bde67b2f",
   "metadata": {
    "ExecuteTime": {
     "end_time": "2025-04-21T02:56:18.503879Z",
     "start_time": "2025-04-21T02:56:18.492482Z"
    }
   },
   "outputs": [
    {
     "name": "stdout",
     "output_type": "stream",
     "text": [
      "홍길동 남자 MBC\n",
      "홍길쑥 None MBC\n",
      "{'name': '홍길쑥', 'sender': '여자', 'academy': 'MBC'}\n"
     ]
    }
   ],
   "source": [
    "person1 = {\n",
    "    \"name\": \"홍길동\",\n",
    "    \"gender\": \"남자\",\n",
    "    \"academy\": \"MBC\",\n",
    "}\n",
    "person2 = {\n",
    "    \"name\": \"홍길순\",\n",
    "    \"sender\": \"여자\",\n",
    "    \"academy\": \"MBC\",\n",
    "}\n",
    "\n",
    "print(person1['name'], person1['gender'], person1['academy'])\n",
    "person2['name'] = '홍길쑥'\n",
    "print(person2['name'], person2.get('gender'), person2['academy'])\n",
    "print(person2)"
   ]
  },
  {
   "cell_type": "code",
   "execution_count": 3,
   "id": "0d59dc91",
   "metadata": {
    "ExecuteTime": {
     "end_time": "2025-04-21T02:56:18.523536Z",
     "start_time": "2025-04-21T02:56:18.508454Z"
    }
   },
   "outputs": [],
   "source": [
    "class Person:\n",
    "    academy = 'MBC'  # 클래스 변수\n",
    "\n",
    "    def __init__(self, name, gender):  # 생성자함수\n",
    "        self.name = name  # 객체아느이 변수 (인스턴스 변수)\n",
    "        self.gender = gender\n",
    "\n",
    "    def print_info(self):\n",
    "        print(\"{}는 {}입니다. {}를 다닙니다.\".format(self.name, self.gender,\n",
    "                                            self.academy))\n",
    "\n",
    "    # __str__() : Object 에서 상속\n",
    "    def __str__(self):\n",
    "        return \"{}는 {}입니다. {}를 다닙니다.\".format(self.name, self.gender,\n",
    "                                             self.academy)"
   ]
  },
  {
   "cell_type": "code",
   "execution_count": 4,
   "id": "760204f8",
   "metadata": {
    "ExecuteTime": {
     "end_time": "2025-04-21T02:56:18.539568Z",
     "start_time": "2025-04-21T02:56:18.526490Z"
    }
   },
   "outputs": [
    {
     "name": "stdout",
     "output_type": "stream",
     "text": [
      "홍길동는 남자입니다. MBC를 다닙니다.\n",
      "홍길숙는 여자입니다. MBC를 다닙니다.\n",
      "---------------------------------\n",
      "마길동는 남자입니다. CBC를 다닙니다.\n",
      "홍길숙는 여자입니다. MBC를 다닙니다.\n",
      "---------------------------------\n",
      "마길동는 남자입니다. CBC를 다닙니다.\n",
      "홍길숙는 여자입니다. MBC를 다닙니다.\n"
     ]
    }
   ],
   "source": [
    "p1 = Person('홍길동', '남자')\n",
    "p2 = Person('홍길숙', '여자')\n",
    "\n",
    "p1.print_info()\n",
    "p2.print_info()\n",
    "\n",
    "p1.name = '마길동'\n",
    "p1.academy = 'CBC'\n",
    "\n",
    "print('---------------------------------')\n",
    "\n",
    "p1.print_info()\n",
    "p2.print_info()\n",
    "\n",
    "print('---------------------------------')\n",
    "\n",
    "print(p1)\n",
    "print(p2)"
   ]
  },
  {
   "cell_type": "markdown",
   "id": "8fe92205",
   "metadata": {},
   "source": [
    "## 1-1. 객체와 클래스\n",
    "\n",
    "```\n",
    "class 클래스명 (상속받을 클래스명):\n",
    "    변수나 함수들 선언\n",
    "```"
   ]
  },
  {
   "cell_type": "code",
   "execution_count": 5,
   "id": "9f29e252",
   "metadata": {
    "ExecuteTime": {
     "end_time": "2025-04-21T02:56:18.556446Z",
     "start_time": "2025-04-21T02:56:18.542448Z"
    }
   },
   "outputs": [
    {
     "name": "stdout",
     "output_type": "stream",
     "text": [
      "<method-wrapper '__str__' of Person object at 0x00000237538602E0>\n",
      "<class '__main__.Person'>\n"
     ]
    }
   ],
   "source": [
    "class Person:\n",
    "    'Person 클래스는 어쩌구 저쩌구 설명하는 독스트링 (한줄)'\n",
    "    '''\n",
    "    Person 클래스는 어쩌구 저쩌구 설명하는 독스트링 (여러줄)\n",
    "    생성자 함수가 없을 경우, 디폴트 생성자 함수가 자동 생성\n",
    "    '''\n",
    "\n",
    "    # def __init__(self): # 생성자함수 (없을수 있다. 자동으로 만들어 진다.)\n",
    "    # pass\n",
    "\n",
    "    pass\n",
    "\n",
    "\n",
    "p1 = Person()\n",
    "print(p1.__str__)\n",
    "print((type(p1)))"
   ]
  },
  {
   "cell_type": "code",
   "execution_count": 6,
   "id": "3f8ae14b",
   "metadata": {
    "ExecuteTime": {
     "end_time": "2025-04-21T02:56:18.572476Z",
     "start_time": "2025-04-21T02:56:18.559403Z"
    }
   },
   "outputs": [
    {
     "data": {
      "text/plain": [
       "True"
      ]
     },
     "execution_count": 6,
     "metadata": {},
     "output_type": "execute_result"
    }
   ],
   "source": [
    "isinstance(p1, Person)"
   ]
  },
  {
   "cell_type": "code",
   "execution_count": 7,
   "id": "ceb51bc5",
   "metadata": {
    "ExecuteTime": {
     "end_time": "2025-04-21T02:56:18.588360Z",
     "start_time": "2025-04-21T02:56:18.575390Z"
    }
   },
   "outputs": [
    {
     "data": {
      "text/plain": [
       "'Person 클래스는 어쩌구 저쩌구 설명하는 독스트링 (한줄)'"
      ]
     },
     "execution_count": 7,
     "metadata": {},
     "output_type": "execute_result"
    }
   ],
   "source": [
    "p1.__doc__"
   ]
  },
  {
   "cell_type": "markdown",
   "id": "c12e5db9",
   "metadata": {},
   "source": [
    "# 2절. 생성자와 소멸자 (__init__)\n",
    "\n",
    "```\n",
    "- 생성자 : __init__(self, 매개변수,...) : 객체가 생성될 떄 자동 실행 \n",
    "          **객체 생성시 필요한 인스턴스 변수 초시화를 포함**\n",
    "- 소멸자 : __del__(self) : 객체가 소멸될 때 자동 실행\n",
    "          **인스턴스 객체의 레퍼런스 카운트가 0일 될 때 실행**\n",
    "```"
   ]
  },
  {
   "cell_type": "code",
   "execution_count": 8,
   "id": "e57a7244",
   "metadata": {
    "ExecuteTime": {
     "end_time": "2025-04-21T02:56:18.604318Z",
     "start_time": "2025-04-21T02:56:18.591095Z"
    }
   },
   "outputs": [],
   "source": [
    "class Person:\n",
    "    # def __init__(self, name, gender): # 파이썬은 함수 오버로딩(함수 중복 정의) 지원하지 않는다.\n",
    "    #    self.name = name  # 인스턴스 변수\n",
    "    #    self.gender = gender  # 인스턴스 변수\n",
    "    #    print('Person 객체를 생성합니다.', name)\n",
    "\n",
    "    def __init__(self, name, gender=\"남자\"):\n",
    "        self.name = name  # 인스턴스 변수\n",
    "        self.gender = gender  # 인스턴스 변수\n",
    "        print('Person 객체를 생성합니다.', self.name)\n",
    "\n",
    "    # del\n",
    "    def __del__(self):\n",
    "        print(\"Person 객체를 소멸시킵니다.\", self.name)\n",
    "\n",
    "    def print_info(self):\n",
    "        print(\"{}는 {}입니다.\".format(self.name, self.gender))\n",
    "\n",
    "    # print()\n",
    "    def __str__(self):  # 오버라이딩 (함수 재정의)\n",
    "        return f\"{self.name}는 {self.gender} 입니다.\""
   ]
  },
  {
   "cell_type": "code",
   "execution_count": 9,
   "id": "066d0f25",
   "metadata": {
    "ExecuteTime": {
     "end_time": "2025-04-21T02:56:18.623335Z",
     "start_time": "2025-04-21T02:56:18.607305Z"
    }
   },
   "outputs": [
    {
     "name": "stdout",
     "output_type": "stream",
     "text": [
      "Person 객체를 생성합니다. 신사임당\n"
     ]
    }
   ],
   "source": [
    "p1 = Person(\"신사임당\", \"여자\")"
   ]
  },
  {
   "cell_type": "code",
   "execution_count": 10,
   "id": "1042cfed",
   "metadata": {
    "ExecuteTime": {
     "end_time": "2025-04-21T02:56:18.640849Z",
     "start_time": "2025-04-21T02:56:18.627326Z"
    }
   },
   "outputs": [
    {
     "name": "stdout",
     "output_type": "stream",
     "text": [
      "Person 객체를 생성합니다. 홍길동\n",
      "홍길동는 남자 입니다.\n"
     ]
    }
   ],
   "source": [
    "p2 = Person(\"홍길동\")\n",
    "print(p2)"
   ]
  },
  {
   "cell_type": "code",
   "execution_count": 11,
   "id": "e2cb8c21",
   "metadata": {
    "ExecuteTime": {
     "end_time": "2025-04-21T02:56:18.651835Z",
     "start_time": "2025-04-21T02:56:18.643817Z"
    }
   },
   "outputs": [],
   "source": [
    "p3 = p2"
   ]
  },
  {
   "cell_type": "code",
   "execution_count": 12,
   "id": "8abe6776",
   "metadata": {
    "ExecuteTime": {
     "end_time": "2025-04-21T02:56:18.667489Z",
     "start_time": "2025-04-21T02:56:18.659510Z"
    }
   },
   "outputs": [
    {
     "name": "stdout",
     "output_type": "stream",
     "text": [
      "Person 객체를 소멸시킵니다. 신사임당\n"
     ]
    }
   ],
   "source": [
    "del p1"
   ]
  },
  {
   "cell_type": "code",
   "execution_count": 13,
   "id": "2d529528",
   "metadata": {
    "ExecuteTime": {
     "end_time": "2025-04-21T02:56:18.691371Z",
     "start_time": "2025-04-21T02:56:18.671610Z"
    }
   },
   "outputs": [],
   "source": [
    "del p2"
   ]
  },
  {
   "cell_type": "code",
   "execution_count": 14,
   "id": "46977b25",
   "metadata": {
    "ExecuteTime": {
     "end_time": "2025-04-21T02:56:18.706364Z",
     "start_time": "2025-04-21T02:56:18.694389Z"
    }
   },
   "outputs": [
    {
     "name": "stdout",
     "output_type": "stream",
     "text": [
      "Person 객체를 소멸시킵니다. 홍길동\n"
     ]
    }
   ],
   "source": [
    "del p3"
   ]
  },
  {
   "cell_type": "markdown",
   "id": "f1297cd9",
   "metadata": {},
   "source": [
    "# 3절. 변수와 메소드(함수)\n",
    "\n",
    "- 인스턴스 변수 vs 클래스 변수\n",
    "- 인스턴스 메소드 (self) vs 클래스메소드 (clz) vs static 메소드 ()"
   ]
  },
  {
   "cell_type": "markdown",
   "id": "bf1b935d",
   "metadata": {},
   "source": [
    "## 3.1. 인스턴스 변수 vs 클래스 변수"
   ]
  },
  {
   "cell_type": "code",
   "execution_count": 15,
   "id": "7f55f56d",
   "metadata": {
    "ExecuteTime": {
     "end_time": "2025-04-21T02:56:18.723316Z",
     "start_time": "2025-04-21T02:56:18.709541Z"
    }
   },
   "outputs": [
    {
     "name": "stdout",
     "output_type": "stream",
     "text": [
      "홍길동 남자\n"
     ]
    }
   ],
   "source": [
    "class Person:\n",
    "    name = \"홍길동\"  # 클래스 변수\n",
    "    gender = \"남자\"\n",
    "\n",
    "\n",
    "print(Person.name, Person.gender)"
   ]
  },
  {
   "cell_type": "code",
   "execution_count": 16,
   "id": "4be98dd8",
   "metadata": {
    "ExecuteTime": {
     "end_time": "2025-04-21T02:56:18.740240Z",
     "start_time": "2025-04-21T02:56:18.726280Z"
    }
   },
   "outputs": [
    {
     "name": "stdout",
     "output_type": "stream",
     "text": [
      "홍길동 남자\n",
      "홍길동 남자\n",
      "홍길동 남자\n"
     ]
    }
   ],
   "source": [
    "p1 = Person()\n",
    "p2 = Person()\n",
    "\n",
    "print(Person.name, Person.gender)\n",
    "print(p1.name, p1.gender)\n",
    "print(p2.name, p2.gender)"
   ]
  },
  {
   "cell_type": "code",
   "execution_count": 17,
   "id": "792e9807",
   "metadata": {
    "ExecuteTime": {
     "end_time": "2025-04-21T02:56:18.756197Z",
     "start_time": "2025-04-21T02:56:18.743234Z"
    }
   },
   "outputs": [
    {
     "name": "stdout",
     "output_type": "stream",
     "text": [
      "홍길동 남자\n",
      "홍길동 남자\n",
      "이순신 남자\n"
     ]
    }
   ],
   "source": [
    "p2.name = \"이순신\"\n",
    "print(Person.name, Person.gender)\n",
    "print(p1.name, p1.gender)\n",
    "print(p2.name, p2.gender)"
   ]
  },
  {
   "cell_type": "code",
   "execution_count": 18,
   "id": "72041d29",
   "metadata": {
    "ExecuteTime": {
     "end_time": "2025-04-21T02:56:18.773261Z",
     "start_time": "2025-04-21T02:56:18.759635Z"
    }
   },
   "outputs": [
    {
     "name": "stdout",
     "output_type": "stream",
     "text": [
      "리사 여자\n",
      "리사 여자\n",
      "이순신 여자\n"
     ]
    }
   ],
   "source": [
    "Person.name = \"리사\"\n",
    "Person.gender = \"여자\"\n",
    "print(Person.name, Person.gender)\n",
    "print(p1.name, p1.gender)\n",
    "print(p2.name, p2.gender)"
   ]
  },
  {
   "cell_type": "markdown",
   "id": "05f5ee0a",
   "metadata": {},
   "source": [
    "## 3.2. 인스턴스 메소드 (self) vs 클래스 메소드 (clz) vs static 메소드 ()\n",
    "\n",
    "- 인스턴스 메소드 : 첫번쨰 인자에 self를 꼭 명시. 객체를 통해서만 호출할 수 있는 메소드\n",
    "- 클래스 메소드 : 메소드위에 @classmethod를 선언한 메소드, 첫번째 인자에 cls(clz) 꼭 명시\n",
    "- static 메소드 : 메소드위에 @staticmethod를 선언한 메소드, 인자를 넣지 않는다."
   ]
  },
  {
   "cell_type": "code",
   "execution_count": 19,
   "id": "e0a80a80",
   "metadata": {
    "ExecuteTime": {
     "end_time": "2025-04-21T02:56:18.783782Z",
     "start_time": "2025-04-21T02:56:18.776263Z"
    }
   },
   "outputs": [],
   "source": [
    "class Person:\n",
    "    name = \"홍길동\"  # 클래스 변수\n",
    "    gender = \"남자\"\n",
    "\n",
    "    def print_info(self):  # 객체변수명.print_info()로 호출\n",
    "        print(f\"인스턴스(일반) 메소드 - {self.name}는 {self.gender} 입니다.\")\n",
    "\n",
    "    def change_info(self, name, gender=\"남자\"):  # 객체변수명.change_info(\"김\",\"여자\")\n",
    "        self.name = name\n",
    "        self.gender = gender\n",
    "        print(f\"인스턴스(일반) 메소드 - {self.name} / {self.gender} 변경 완료\")\n",
    "\n",
    "    @classmethod\n",
    "    def do_(clz):  # clz == Person. 클래스 변수를 이용한 로직 Person.do_() 호출\n",
    "        clz.name = \"신사임당\"\n",
    "        clz.gender = \"여자\"\n",
    "        print(f\"클래스 메소드 = {clz.name} / {clz.gender} 변경 완료\")\n",
    "\n",
    "    @staticmethod\n",
    "    def that_():  # 클래스 변수를 이용하기 보다는 로직이 우선일 경우 Person.that_()\n",
    "        Person.name = \"신길동\"\n",
    "        Person.gender = \"남자\"\n",
    "        print(f\"static 메소드 = {Person.name} / {Person.gender} 변경 완료\")"
   ]
  },
  {
   "cell_type": "code",
   "execution_count": 20,
   "id": "804b5c95",
   "metadata": {
    "ExecuteTime": {
     "end_time": "2025-04-21T02:56:18.791307Z",
     "start_time": "2025-04-21T02:56:18.787115Z"
    }
   },
   "outputs": [
    {
     "name": "stdout",
     "output_type": "stream",
     "text": [
      "인스턴스(일반) 메소드 - 홍길동는 남자 입니다.\n"
     ]
    }
   ],
   "source": [
    "p1 = Person()\n",
    "\n",
    "p1.print_info()"
   ]
  },
  {
   "cell_type": "code",
   "execution_count": 21,
   "id": "a8eaf897",
   "metadata": {
    "ExecuteTime": {
     "end_time": "2025-04-21T02:56:18.812132Z",
     "start_time": "2025-04-21T02:56:18.794097Z"
    }
   },
   "outputs": [
    {
     "name": "stdout",
     "output_type": "stream",
     "text": [
      "클래스 메소드 = 신사임당 / 여자 변경 완료\n"
     ]
    }
   ],
   "source": [
    "Person.do_()"
   ]
  },
  {
   "cell_type": "code",
   "execution_count": 22,
   "id": "09422699",
   "metadata": {
    "ExecuteTime": {
     "end_time": "2025-04-21T02:56:18.828139Z",
     "start_time": "2025-04-21T02:56:18.815091Z"
    }
   },
   "outputs": [
    {
     "name": "stdout",
     "output_type": "stream",
     "text": [
      "static 메소드 = 신길동 / 남자 변경 완료\n"
     ]
    }
   ],
   "source": [
    "Person.that_()"
   ]
  },
  {
   "cell_type": "code",
   "execution_count": 23,
   "id": "80c3d7d6",
   "metadata": {
    "ExecuteTime": {
     "end_time": "2025-04-21T02:56:18.841482Z",
     "start_time": "2025-04-21T02:56:18.832053Z"
    }
   },
   "outputs": [
    {
     "name": "stdout",
     "output_type": "stream",
     "text": [
      "인스턴스(일반) 메소드 - 신길동는 남자 입니다.\n"
     ]
    }
   ],
   "source": [
    "p1.print_info()"
   ]
  },
  {
   "cell_type": "markdown",
   "id": "a7427019",
   "metadata": {},
   "source": [
    "## 요약\n",
    "\n",
    "**객체를 이용하면 객체에 정보를 저장하고, 그 정보를 이용해서 어떤 기능을 수행할 수 있다.**\n",
    "**객체 = 데이터 (변수: 객체마다 고유의 값) + 기능 (메소스, 함사)**\n",
    "\n",
    "**그 객체를 만들기 위한 틀 => 클래스**\n",
    "\n",
    "```\n",
    "     class 클래스명 :\n",
    "        '독스트링'\n",
    "        클래스변수명 = 값\n",
    "        def __init__(self, [객체멤버를 초기화할 변수=값,...])\n",
    "            self.인스턴스(일반)변수 = 값\n",
    "            객체를 생성할 떄 객체 멤버변수의 초기화\n",
    "        def method(self) :\n",
    "            인스턴스 메소스 (일반 함수)의 매개변수는 self를 반드시 포함\n",
    "        \n",
    "        @classmethod\n",
    "        def classmethod(cls):\n",
    "            코드\n",
    "        @staticmethod\n",
    "        def staticmethod([division=124*124]):\n",
    "            코드\n",
    "            \n",
    "            \n",
    "    객체변수 = 클래스명()\n",
    "    객제변수.method()\n",
    "    클래스명.classmethod()\n",
    "    클래스명.staticmethod([256*256])\n",
    "```"
   ]
  },
  {
   "cell_type": "code",
   "execution_count": 24,
   "id": "0361ab1b",
   "metadata": {
    "ExecuteTime": {
     "end_time": "2025-04-21T02:56:18.856979Z",
     "start_time": "2025-04-21T02:56:18.844195Z"
    }
   },
   "outputs": [
    {
     "name": "stdout",
     "output_type": "stream",
     "text": [
      "홍길동 입니다.\n",
      "홍길동 입니다.\n"
     ]
    },
    {
     "data": {
      "text/plain": [
       "(True, True)"
      ]
     },
     "execution_count": 24,
     "metadata": {},
     "output_type": "execute_result"
    }
   ],
   "source": [
    "class Person:\n",
    "    def __init__(self, name):\n",
    "        self.name = name\n",
    "\n",
    "    def __str__(self):\n",
    "        return f\"{self.name} 입니다.\"\n",
    "\n",
    "    def print_info(self):\n",
    "        #print(f\"({self.name} 입니다.\")\n",
    "        print(self)\n",
    "\n",
    "\n",
    "p = Person('홍길동')\n",
    "p.print_info()\n",
    "print(p)\n",
    "\n",
    "# 파이썬은 동적으로 인스턴스 멤버 추가가 가능합니다.\n",
    "p.nickname = \"홍별명\"\n",
    "\n",
    "p1 = Person('홍길숙')\n",
    "isinstance(p, Person), isinstance(p1, Person)"
   ]
  },
  {
   "cell_type": "markdown",
   "id": "b5ae1277",
   "metadata": {},
   "source": [
    "# 4절. 상속과 재정의\n",
    "\n",
    "- 클래스를 재사용\n",
    "- 상속을 이용하면, 부모클래스의 모든 속성을 자식클래스로 물려줄 수 있음\n",
    "- 문법 : class 자식클래스명(부모클래스명) : \n",
    "\n",
    "## 4.1. 상속과 재정의"
   ]
  },
  {
   "cell_type": "code",
   "execution_count": 25,
   "id": "8aafb1ce",
   "metadata": {
    "ExecuteTime": {
     "end_time": "2025-04-21T02:56:18.873046Z",
     "start_time": "2025-04-21T02:56:18.858975Z"
    }
   },
   "outputs": [
    {
     "name": "stdout",
     "output_type": "stream",
     "text": [
      "두 수 초기화\n",
      "4\n",
      "4\n",
      "두 수 초기화\n",
      "5\n"
     ]
    }
   ],
   "source": [
    "class Cal:\n",
    "    def __init__(self, num1=1, num2=2):\n",
    "        print('두 수 초기화')\n",
    "        self.num1 = num1\n",
    "        self.num2 = num2\n",
    "\n",
    "    def add(self):\n",
    "        return self.num1 + self.num2\n",
    "\n",
    "    def sub(self):\n",
    "        return self.num1 - self.num2\n",
    "\n",
    "    def div(self):\n",
    "\n",
    "        return self.num1 / self.num2 if self.num2 != 0 else '0으로 나눌 수 없어요'\n",
    "\n",
    "    def __str__(self):\n",
    "        return 'num1 = {}, num2 = {}'.format(self.num1, self.num2)\n",
    "\n",
    "\n",
    "class Cal_inherit(Cal):\n",
    "    def mul(self):\n",
    "        return self.num1 * self.num2\n",
    "    \n",
    "\n",
    "obj1 = Cal_inherit(2, 2)\n",
    "print(obj1.add())\n",
    "print(obj1.mul())\n",
    "\n",
    "obj2 = Cal(2, 3)\n",
    "print(obj2.add())"
   ]
  },
  {
   "cell_type": "code",
   "execution_count": 26,
   "id": "7ae4c458",
   "metadata": {
    "ExecuteTime": {
     "end_time": "2025-04-21T02:56:18.888658Z",
     "start_time": "2025-04-21T02:56:18.875955Z"
    }
   },
   "outputs": [
    {
     "data": {
      "text/plain": [
       "(type, type)"
      ]
     },
     "execution_count": 26,
     "metadata": {},
     "output_type": "execute_result"
    }
   ],
   "source": [
    "type(Cal), type(Cal_inherit)"
   ]
  },
  {
   "cell_type": "code",
   "execution_count": 27,
   "id": "a3d170ba",
   "metadata": {
    "ExecuteTime": {
     "end_time": "2025-04-21T02:56:18.898113Z",
     "start_time": "2025-04-21T02:56:18.891505Z"
    }
   },
   "outputs": [
    {
     "data": {
      "text/plain": [
       "(__main__.Cal_inherit, True, True)"
      ]
     },
     "execution_count": 27,
     "metadata": {},
     "output_type": "execute_result"
    }
   ],
   "source": [
    "type(obj1), isinstance(obj1, Cal_inherit), isinstance(obj1, Cal)\n",
    "# Cal_inherit is a Cal (상속은 is a 관계)"
   ]
  },
  {
   "cell_type": "code",
   "execution_count": 28,
   "id": "1fb68e61",
   "metadata": {
    "ExecuteTime": {
     "end_time": "2025-04-21T02:56:18.908156Z",
     "start_time": "2025-04-21T02:56:18.900861Z"
    }
   },
   "outputs": [
    {
     "name": "stdout",
     "output_type": "stream",
     "text": [
      "이름과 성별 초기화\n",
      "홍길동님은 남자\n"
     ]
    }
   ],
   "source": [
    "class Person:\n",
    "    'Person은 이름과 성별을 멤버변수로 갖고, 출력기능'\n",
    "    def __init__(self, name, gender):\n",
    "        print(\"이름과 성별 초기화\")\n",
    "        self.name = name\n",
    "        self.gender = gender\n",
    "    def __str__(self):\n",
    "        return \"{}님은 {}\".format(self.name, self.gender)\n",
    "    \n",
    "    def print_info(self):\n",
    "        print(self)\n",
    "        \n",
    "p = Person(\"홍길동\", \"남자\")\n",
    "p.print_info()"
   ]
  },
  {
   "cell_type": "code",
   "execution_count": 29,
   "id": "12b780b6",
   "metadata": {
    "ExecuteTime": {
     "end_time": "2025-04-21T02:56:18.929892Z",
     "start_time": "2025-04-21T02:56:18.909841Z"
    }
   },
   "outputs": [],
   "source": [
    "# override : 함수의 재정의(부모클래스의 함수를 자식클래스에서 다시 정의)\n",
    "#            부모클래스의 함수명과 매개변수 개수가 동일\n",
    "# overroad : 함수의 중복 정의(같은 이름의 함수를 매개변수 갯수를 달리 해서 정의) - 파이썬에서 불가\n",
    "class Student(Person):\n",
    "    def __init__(self, name, gender, major):\n",
    "        # self.name = name\n",
    "        # self.gender = gender\n",
    "        super().__init__(name, gender)  # super() : '부모클래스의' 라는 뜻\n",
    "        # Person.__init__(self, name, gender) # super().__init__(name, gender) 와 같은 뜻\n",
    "        self.major = major\n",
    "\n",
    "    def __str__(self):  # override\n",
    "        # return \"{}님은 {}이고, 전공은 {}\".format(self.name, self.gender, self.major)\n",
    "        return super().__str__() + \"이고, 전공은 {}\".format(self.major)"
   ]
  },
  {
   "cell_type": "code",
   "execution_count": 30,
   "id": "0ca0f786",
   "metadata": {
    "ExecuteTime": {
     "end_time": "2025-04-21T02:56:18.941937Z",
     "start_time": "2025-04-21T02:56:18.932806Z"
    }
   },
   "outputs": [
    {
     "name": "stdout",
     "output_type": "stream",
     "text": [
      "이름과 성별 초기화\n",
      "홍길숙님은 여자이고, 전공은 AI\n",
      "홍길숙님은 여자이고, 전공은 AI\n"
     ]
    }
   ],
   "source": [
    "s = Student(\"홍길숙\", '여자', 'AI')\n",
    "print(s)\n",
    "s.print_info()"
   ]
  },
  {
   "cell_type": "code",
   "execution_count": 31,
   "id": "9c0eea89",
   "metadata": {
    "ExecuteTime": {
     "end_time": "2025-04-21T02:56:18.957042Z",
     "start_time": "2025-04-21T02:56:18.944774Z"
    }
   },
   "outputs": [
    {
     "data": {
      "text/plain": [
       "(True, True)"
      ]
     },
     "execution_count": 31,
     "metadata": {},
     "output_type": "execute_result"
    }
   ],
   "source": [
    "isinstance(s, Student), isinstance(s, Person)"
   ]
  },
  {
   "cell_type": "markdown",
   "id": "3cd4a96e",
   "metadata": {},
   "source": [
    "## 정적변수(static 변수)\n",
    ": 여러 객체들 사이에 데이터를 공유하고 싶을 때 사용\n",
    "\n",
    "- static 변수 앞에 under score 2개 ( __ ) 를 붙이면 클래스명._클래스명__static변수명 으로 참조\n",
    "- 클래스변수는 외부에서 바로 접근 가능\n",
    "- static 변수는 외부에서 바로 접근하는 것을 방지\n",
    "- static 변수는 클래스 내부에서만 접근하도록 하려는 의도."
   ]
  },
  {
   "cell_type": "code",
   "execution_count": 1,
   "id": "7283d2d3",
   "metadata": {
    "ExecuteTime": {
     "end_time": "2025-04-21T02:57:15.513898Z",
     "start_time": "2025-04-21T02:57:15.486382Z"
    }
   },
   "outputs": [],
   "source": [
    "class Person:\n",
    "    def __init__(self, name, gender):\n",
    "        self.name = name\n",
    "        self.gender = gender\n",
    "\n",
    "    def print_info(self):  # 추상메소스 (이거 쓰지 말고, 상속 받아서 만들어서 사용해 라는 뜻 )\n",
    "        raise Exception(\"이 메소드를 호출하면 예외가 납니다.\")  # 강제 예외 발생\n",
    "\n",
    "    def __str__(self):\n",
    "        return f\"{self.name}은 {self.gender}\"\n",
    "\n",
    "\n",
    "class Student(Person):\n",
    "    classvar = \"MBC\"\n",
    "    __count = 0  # static 변수 (객체의 갯수)\n",
    "\n",
    "    # 클래스명.클래스명__count로 사용, 클래스명.__counter는 외부에서 접근이 불가\n",
    "    def __init__(self, name, gender, major):\n",
    "        super().__init__(name, gender)\n",
    "        self.major = major\n",
    "        Student._Student__count += 1  # 객체가 생성될때마다 __count 1 증가\n",
    "\n",
    "    def __del__(self):\n",
    "        print(\"객체 소멸\")\n",
    "        Student._Student__count -= 1  # 객체가 소멸될 떄마다 __count 1 감소\n",
    "\n",
    "    def print_info(self):\n",
    "        print(\"{}는 {}이고, 전공은 {}({}번째 객체)\".format(self.name, self.gender,\n",
    "                                                 self.major,\n",
    "                                                 Student._Student__count))\n",
    "\n",
    "    def __str__(self):\n",
    "        return super().__str__() + \"이고, 전공은 {}\".format(self.major)\n",
    "\n",
    "    @classmethod\n",
    "    def get_count(cls):\n",
    "        # return cls.__count\n",
    "        return Student._Student__count\n",
    "\n",
    "\n",
    "p = Person(\"홍길동\", \"남\")\n",
    "# p.print_info()"
   ]
  },
  {
   "cell_type": "code",
   "execution_count": 33,
   "id": "333459a4",
   "metadata": {
    "ExecuteTime": {
     "end_time": "2025-04-21T02:56:18.983703Z",
     "start_time": "2025-04-21T02:56:18.975691Z"
    }
   },
   "outputs": [],
   "source": [
    "# Student.classvar\n",
    "# Student.__count # 바로 접근 불가"
   ]
  },
  {
   "cell_type": "code",
   "execution_count": 2,
   "id": "da37b1c9",
   "metadata": {
    "ExecuteTime": {
     "end_time": "2025-04-21T02:57:17.005200Z",
     "start_time": "2025-04-21T02:57:16.991986Z"
    }
   },
   "outputs": [
    {
     "name": "stdout",
     "output_type": "stream",
     "text": [
      "홍길동는 남자이고, 전공은 AI(1번째 객체)\n"
     ]
    }
   ],
   "source": [
    "# p = Person(\"홍\", \"남자\")\n",
    "# p.print_info() # 추상메소드 error 발생"
   ]
  },
  {
   "cell_type": "code",
   "execution_count": 8,
   "id": "87d9faf1",
   "metadata": {
    "ExecuteTime": {
     "end_time": "2025-04-21T02:59:47.396389Z",
     "start_time": "2025-04-21T02:59:47.385643Z"
    }
   },
   "outputs": [
    {
     "name": "stdout",
     "output_type": "stream",
     "text": [
      "객체 소멸\n",
      "홍길동는 남자이고, 전공은 AI(1번째 객체)\n"
     ]
    }
   ],
   "source": [
    "s1 = Student(\"홍길동\", \"남자\", \"AI\")\n",
    "\n",
    "s1.print_info()"
   ]
  },
  {
   "cell_type": "code",
   "execution_count": 9,
   "id": "9f20018c",
   "metadata": {
    "ExecuteTime": {
     "end_time": "2025-04-21T02:59:49.660049Z",
     "start_time": "2025-04-21T02:59:49.644895Z"
    }
   },
   "outputs": [
    {
     "name": "stdout",
     "output_type": "stream",
     "text": [
      "김길숙는 여자이고, 전공은 데이터통계(2번째 객체)\n"
     ]
    }
   ],
   "source": [
    "s2 = Student(\"김길숙\", \"여자\",\"데이터통계\")\n",
    "s2.print_info()"
   ]
  },
  {
   "cell_type": "code",
   "execution_count": 10,
   "id": "800c51bd",
   "metadata": {
    "ExecuteTime": {
     "end_time": "2025-04-21T02:59:52.075366Z",
     "start_time": "2025-04-21T02:59:52.065262Z"
    }
   },
   "outputs": [
    {
     "name": "stdout",
     "output_type": "stream",
     "text": [
      "신길동는 남자이고, 전공은 컴공(3번째 객체)\n"
     ]
    }
   ],
   "source": [
    "s3 = Student(\"신길동\", \"남자\", \"컴공\")\n",
    "s3.print_info()"
   ]
  },
  {
   "cell_type": "code",
   "execution_count": 11,
   "id": "05c75e63",
   "metadata": {
    "ExecuteTime": {
     "end_time": "2025-04-21T02:59:53.715348Z",
     "start_time": "2025-04-21T02:59:53.699253Z"
    }
   },
   "outputs": [
    {
     "data": {
      "text/plain": [
       "3"
      ]
     },
     "execution_count": 11,
     "metadata": {},
     "output_type": "execute_result"
    }
   ],
   "source": [
    "Student.get_count()"
   ]
  },
  {
   "cell_type": "code",
   "execution_count": 12,
   "id": "dad0bbac",
   "metadata": {
    "ExecuteTime": {
     "end_time": "2025-04-21T02:59:55.344826Z",
     "start_time": "2025-04-21T02:59:55.331267Z"
    }
   },
   "outputs": [
    {
     "name": "stdout",
     "output_type": "stream",
     "text": [
      "객체 소멸\n",
      "객체 소멸\n"
     ]
    }
   ],
   "source": [
    "del s3, s2"
   ]
  },
  {
   "cell_type": "code",
   "execution_count": 13,
   "id": "90c5c573",
   "metadata": {
    "ExecuteTime": {
     "end_time": "2025-04-21T02:59:56.781307Z",
     "start_time": "2025-04-21T02:59:56.766294Z"
    }
   },
   "outputs": [
    {
     "data": {
      "text/plain": [
       "1"
      ]
     },
     "execution_count": 13,
     "metadata": {},
     "output_type": "execute_result"
    }
   ],
   "source": [
    "Student.get_count()"
   ]
  },
  {
   "cell_type": "markdown",
   "id": "fb401cbb",
   "metadata": {},
   "source": [
    "# 5절. 연습문제"
   ]
  },
  {
   "cell_type": "code",
   "execution_count": null,
   "id": "43623f00",
   "metadata": {},
   "outputs": [],
   "source": [
    "# 1.다음 조건을 만족하는 클래스를 작성하세요\n",
    "\n",
    "# ★ 도형 ( 클래스와 삼각형 (Triangle) 클래스를 만들어야 합니다\n",
    "# ★ 도형 ( 클래스\n",
    "#     • 생성자를 통해 x, y 좌표를 초기화할 수 있습니다 . x, y 좌표의 기본값은 0, 0 입니다\n",
    "#     • x, y 좌표를 이동시킬 수 있는 move 함수가 있습니다\n",
    "#     • x, y 좌표값 정보를 문자열로 리턴하는 str __ 함수가 있습니다\n",
    "#     • 도형의 면적을 구하는 함수 calc_area 가 있습니다 . 다만 도형 클래스의 calc_area 는 구현되어 있지 않아 호출하면 오류가 발생합니다 파이썬은 추상메소드가 없음 추상메소드 역할을 구현\n",
    "#     • 정적메소드 staticmethod 를 하나 이상 구현합니다\n",
    "# ★ 삼각형 ( 클래스는 도형 ( 클래스이다 관계가 성립해야 합니다\n",
    "#    ★ 생성자를 통해 , width, height, x, y 좌표를 초기화하고 x, y 좌표의 기본값은 0, 0 입니다\n",
    "#    ★ 삼각형의 면적을 구하는 메소드 calc_area 를 재정의합니다\n",
    "#    ★ 삼각형의 정보를 문자열로 반환하는 str __() 함수가 있습니다\n",
    "#    ★ 삼각형 객체가 몇 개가 만들어져 있는지 정보를 저장하는 클래스 변수를 추가하고 생성자에서 객체를 만들 때마다 증가시키고 소멸자에서 객체를 소멸시킬 때마다 감소합니다"
   ]
  },
  {
   "cell_type": "code",
   "execution_count": 14,
   "id": "b39045d6",
   "metadata": {
    "ExecuteTime": {
     "end_time": "2025-04-21T05:09:23.467383Z",
     "start_time": "2025-04-21T05:09:23.448166Z"
    }
   },
   "outputs": [],
   "source": [
    "class Shape:\n",
    "    def __init__(self, x=0, y=0):\n",
    "        self.x = x\n",
    "        self.y = y\n",
    "\n",
    "    def move(self):\n",
    "        print(\"x좌표 : {}, y좌표 : {} 입니다.\".format(self.x, self.y))\n",
    "\n",
    "    def __str__(self):\n",
    "        return \"x좌표 : {}, y좌표 : {} 입니다.\".format(self.x, self.y)\n",
    "\n",
    "    def calc_area(self):\n",
    "        raise Exception(\"구현되어 있지 않아 호출하면 오류가 발생합니다\")\n",
    "\n",
    "    @staticmethod\n",
    "    def get_count():\n",
    "        return 0\n",
    "\n",
    "\n",
    "class Triangle(Shape):\n",
    "    __count = 0\n",
    "\n",
    "    def __init__(self, x, y, width, height):\n",
    "        super().__init__(x, y)\n",
    "        self.width = width\n",
    "        self.height = height\n",
    "        Triangle._Triangle__count += 1\n",
    "\n",
    "    def calc_area(self):\n",
    "        return self.width * self.height / 2\n",
    "\n",
    "    def __str__(self):\n",
    "        return super().__str__() + \"면적은 {:2.0f}입니다.\".format(self.calc_area())\n",
    "\n",
    "    def __del__(self):\n",
    "        print(\"소멸\")\n",
    "        Triangle._Triangle__count -= 1\n",
    "\n",
    "    @classmethod\n",
    "    def get_count(cls):\n",
    "        return cls.__count"
   ]
  },
  {
   "cell_type": "code",
   "execution_count": 32,
   "id": "1ded697b",
   "metadata": {
    "ExecuteTime": {
     "end_time": "2025-04-21T05:25:49.658988Z",
     "start_time": "2025-04-21T05:25:49.642288Z"
    }
   },
   "outputs": [],
   "source": [
    "# 문제 풀이\n",
    "class Shape:\n",
    "    def __init__(self, x=0, y=0):\n",
    "        self.x = x\n",
    "        self.y = y\n",
    "\n",
    "    def move(self, x, y):\n",
    "        self.x += x\n",
    "        self.y += y\n",
    "        print(\"x좌표 : {}, y좌표 : {} 로 이동\".format(self.x, self.y))\n",
    "\n",
    "    def __str__(self):\n",
    "        return \"x좌표 : {}, y좌표 : {} 입니다.\".format(self.x, self.y)\n",
    "\n",
    "    def calc_area(self):\n",
    "        raise Exception(\"강제 예외발생(이 메소드는 상속받는 곳에서 재정의 강요 : 추상메소드)\")\n",
    "\n",
    "    @staticmethod\n",
    "    def staticmethod():  # 호출 : Shape.staticmethod() -\n",
    "        print(\"도형 클래스 staticmethod 호출\")\n",
    "\n",
    "\n",
    "class Triangle(Shape):\n",
    "    __count = 0\n",
    "\n",
    "    def __init__(self, width, height, x=0, y=0):\n",
    "        super().__init__(x, y)\n",
    "        self.width = width\n",
    "        self.height = height\n",
    "        Triangle._Triangle__count += 1\n",
    "\n",
    "    def __del__(self):\n",
    "        print(\"소멸\")\n",
    "        Triangle._Triangle__count -= 1\n",
    "\n",
    "    def __str__(self):\n",
    "        return super().__str__() + \"면적은 {:2.0f}입니다.\".format(self.calc_area())\n",
    "\n",
    "    def calc_area(self):\n",
    "        return (self.width * self.height) / 2\n",
    "\n",
    "    @classmethod\n",
    "    def get_count(cls):\n",
    "        return cls.__count"
   ]
  },
  {
   "cell_type": "code",
   "execution_count": 36,
   "id": "4f3a8f0f",
   "metadata": {
    "ExecuteTime": {
     "end_time": "2025-04-21T05:25:52.644990Z",
     "start_time": "2025-04-21T05:25:52.616819Z"
    }
   },
   "outputs": [
    {
     "name": "stdout",
     "output_type": "stream",
     "text": [
      "x좌표 : 12, y좌표 : 18 로 이동\n",
      "x좌표 : 12, y좌표 : 18 입니다.\n",
      "소멸\n",
      "x좌표 : 10, y좌표 : 20 입니다.면적은  4입니다.\n"
     ]
    },
    {
     "data": {
      "text/plain": [
       "0"
      ]
     },
     "execution_count": 36,
     "metadata": {},
     "output_type": "execute_result"
    }
   ],
   "source": [
    "s1 = Shape(2, 3)\n",
    "s1.move(10,15)\n",
    "\n",
    "print(s1)\n",
    "\n",
    "t1 = Triangle(2, 4, 10, 20)\n",
    "t1.calc_area()\n",
    "print(t1)\n",
    "t1.get_count()\n",
    "# t1.get_count()\n",
    "\n",
    "# # t1.calc_area()"
   ]
  },
  {
   "cell_type": "code",
   "execution_count": null,
   "id": "d73f7115",
   "metadata": {},
   "outputs": [],
   "source": [
    "# 1. 다음중 올바른 클래스 정의는?\n",
    "\n",
    "# 1. class Person:\n",
    "# 2. class Person():\n",
    "# 3. p1 = Person()\n",
    "# 4. def Person\n",
    "\n",
    "# 정답 : 1번"
   ]
  },
  {
   "cell_type": "code",
   "execution_count": null,
   "id": "d0d15392",
   "metadata": {},
   "outputs": [],
   "source": [
    "# 2. 다음중 Person클래스의 객체를 생성하는 올바른 방법은\n",
    "\n",
    "# 1. p1 = Person\n",
    "# 2. p1 = Person()\n",
    "# 3. Person.p1\n",
    "# 4. P1 = Person._init__()\n",
    "\n",
    "# 정답 : 2"
   ]
  },
  {
   "cell_type": "code",
   "execution_count": null,
   "id": "90ec574c",
   "metadata": {},
   "outputs": [],
   "source": [
    "# 3. 다음 중 인스턴스 메소드를 선언하는 가장 올바른 방법은?\n",
    "\n",
    "# 1. def print_info():\n",
    "# 2. @instancemethod \n",
    "#     def print_info()\n",
    "# 3. @method\n",
    "#     def print_info()\n",
    "# 4. def print_info(self)\n",
    "\n",
    "# 정답 : 4"
   ]
  },
  {
   "cell_type": "code",
   "execution_count": null,
   "id": "dcf692c3",
   "metadata": {},
   "outputs": [],
   "source": [
    "# 4. 다음 중 생성자와 소먈자에 대해 잘 못 설명한 것은?\n",
    "\n",
    "# 1. 생성자는 중복(overloading) 정의해서 사용할 수 있다.\n",
    "# 2. 소멸자는 객체 참조 수가 0 이 되면 실행된다.\n",
    "# 3. 생성자의 원형은 __init__(self) 이다.\n",
    "# 4. 생성자는 객체의 변수(또는 속성)를 초기화 하는데 사용한다.\n",
    "\n",
    "# 정답 : 1"
   ]
  },
  {
   "cell_type": "code",
   "execution_count": null,
   "id": "8c8bf8ed",
   "metadata": {},
   "outputs": [],
   "source": [
    "# 5. 다음중 \"Student is a Person\" 을 클래스 상속으로 바르게 표현한 것은?\n",
    "\n",
    "# 1. class Person(Studnent)\n",
    "# 2. class Student(Person):\n",
    "# 3. class Person is Student\n",
    "# 4. class Student:Person\n",
    "    \n",
    "# 정답 : 2"
   ]
  },
  {
   "cell_type": "code",
   "execution_count": null,
   "id": "468464f8",
   "metadata": {},
   "outputs": [],
   "source": [
    "# 6. 다음 중 상속과 재정의 (Overiding)에 대해 잘못 성명한 것은\n",
    "\n",
    "# 1. 부모클래스의 메소드를 자식클래스에서 정의하는 것을 \"재정의\" 라고 한다.\n",
    "# 2. 메소드의 재정의는 상속을 전제로 한다.\n",
    "# 3. 재정의는 메소드의 이름은 같고, 매개변수의 수는 다른게 정의해야 한다.\n",
    "# 4. super() 를 이용하면 부모의 멤버를 호출할 수 있다.\n",
    "\n",
    "# 정답 : 3"
   ]
  },
  {
   "cell_type": "code",
   "execution_count": 16,
   "id": "7699970b",
   "metadata": {
    "ExecuteTime": {
     "end_time": "2025-04-21T03:13:40.982391Z",
     "start_time": "2025-04-21T03:13:40.972387Z"
    }
   },
   "outputs": [
    {
     "name": "stdout",
     "output_type": "stream",
     "text": [
      "method a\n",
      "method b\n",
      "method b\n"
     ]
    }
   ],
   "source": [
    "# 7. 다음 클래스이 메소드 호출 하는 방법 중 잘못된 것은\n",
    "\n",
    "class SomeClass:\n",
    "    def method_a (self):\n",
    "        print(\"method a\")\n",
    "        \n",
    "    @classmethod\n",
    "    def method_b(cls):\n",
    "        print(\"method b\")\n",
    "        \n",
    "obj = SomeClass()\n",
    "\n",
    "# 1. obj.method_a()\n",
    "# 2. obj.method_b()\n",
    "# 3. SomeClass.method_a()\n",
    "# 4. SomeClass.method_b()\n",
    "\n",
    "정답 : 3"
   ]
  },
  {
   "cell_type": "code",
   "execution_count": 40,
   "id": "4f1682b8",
   "metadata": {
    "ExecuteTime": {
     "end_time": "2025-04-21T05:36:04.605963Z",
     "start_time": "2025-04-21T05:36:04.591641Z"
    }
   },
   "outputs": [
    {
     "name": "stdout",
     "output_type": "stream",
     "text": [
      "super.do_\n",
      "super.do_\n",
      "------------------------------------\n",
      "super.do_\n",
      "sub.do\n"
     ]
    }
   ],
   "source": [
    "# 8. 두 클래스와 코드이 실행결과 다음과 같이 출려되도록 해야 한다면, 빈 칸에 넣을 수 없는 것을 고르세요.\n",
    "class Super:\n",
    "    def do_(self, a):\n",
    "        print(\"super.do_\")\n",
    "\n",
    "s = Super()\n",
    "s.do_('a')\n",
    "Super.do_(s,'a')\n",
    "print('------------------------------------')        \n",
    "class Sub(Super):\n",
    "    def do_(self, a):\n",
    "        super().do_(a)\n",
    "        # Super.do_(self,'a') # 써도 되나 거의 쓰지 않는다.\n",
    "        print(\"sub.do\")\n",
    "        \n",
    "s1 = Sub()\n",
    "s1.do_(10)\n",
    "\n",
    "# 정답 :2 super().do_(a)"
   ]
  },
  {
   "cell_type": "code",
   "execution_count": 55,
   "id": "fccb7e01",
   "metadata": {
    "ExecuteTime": {
     "end_time": "2025-04-21T05:42:52.246793Z",
     "start_time": "2025-04-21T05:42:52.228635Z"
    }
   },
   "outputs": [
    {
     "name": "stdout",
     "output_type": "stream",
     "text": [
      "__dict__ :  {'name': '홍길동', 'gender': '남자'}\n",
      "as_dict() :  {'name': '홍길동', 'gender': '남자'}\n",
      "독스트링은 클래스 첫번쨰 줄에 있는 문자열(클래스, 설명서)\n"
     ]
    }
   ],
   "source": [
    "# 9. 다음 중 파이썬의 특별한 용도로 정의되어 있는 속성과 메소드에 대한 설명 중 잘못 된 것은?\n",
    "\n",
    "# 1. __dict__ 속성을 이용하면, 클래스의 멤버를 확인할 수 있따.\n",
    "# 2. __str__() 메소드는 print()함수의 인자로 객체를 전달할 떄 호출되는 메소드입니다. 이 메소드는 매개변수를 가질 수 업다.\n",
    "# 3. __doc__ 속성은 독스트링을 갖는다.\n",
    "# 4. __init() 메소드는 생정자를 정의할 떄 사용한다.\n",
    "\n",
    "# 정답 : 2 ?\n",
    "\n",
    "\n",
    "# 문제풀이\n",
    "# __dict__ 설명\n",
    "class Person:\n",
    "    '독스트링은 클래스 첫번쨰 줄에 있는 문자열(클래스, 설명서)'\n",
    "    \n",
    "    def __init__(self, name, gender):  # 생성자함수\n",
    "        self.name = name  # 객체아느이 변수 (인스턴스 변수)\n",
    "        self.gender = gender\n",
    "\n",
    "    def print_info(self):\n",
    "        print(\"{}는 {}입니다. {}를 다닙니다.\".format(self.name, self.gender,\n",
    "                                            self.academy))\n",
    "\n",
    "    # __str__() : Object 에서 상속\n",
    "    def __str__(self):\n",
    "        return \"{}는 {}입니다. {}를 다닙니다.\".format(self.name, self.gender,\n",
    "                                             self.academy)\n",
    "\n",
    "    def as_dict(self):\n",
    "        return {\"name\": self.name, 'gender': self.gender}\n",
    "\n",
    "\n",
    "p = Person(\"홍길동\", \"남자\")\n",
    "#  __dict__\n",
    "print(\"__dict__ : \", p.__dict__)  # 객체를 딕셔너리 타입으로 전환\n",
    "\n",
    "print(\"as_dict() : \", p.as_dict())\n",
    "\n",
    "print(p.__doc__)"
   ]
  },
  {
   "cell_type": "code",
   "execution_count": null,
   "id": "3f2e3c69",
   "metadata": {},
   "outputs": [],
   "source": []
  }
 ],
 "metadata": {
  "kernelspec": {
   "display_name": "Python 3 (ipykernel)",
   "language": "python",
   "name": "python3"
  },
  "language_info": {
   "codemirror_mode": {
    "name": "ipython",
    "version": 3
   },
   "file_extension": ".py",
   "mimetype": "text/x-python",
   "name": "python",
   "nbconvert_exporter": "python",
   "pygments_lexer": "ipython3",
   "version": "3.10.9"
  },
  "toc": {
   "base_numbering": 1,
   "nav_menu": {},
   "number_sections": false,
   "sideBar": true,
   "skip_h1_title": false,
   "title_cell": "Table of Contents",
   "title_sidebar": "Contents",
   "toc_cell": false,
   "toc_position": {
    "height": "calc(100% - 180px)",
    "left": "10px",
    "top": "150px",
    "width": "165px"
   },
   "toc_section_display": true,
   "toc_window_display": true
  },
  "varInspector": {
   "cols": {
    "lenName": 16,
    "lenType": 16,
    "lenVar": 40
   },
   "kernels_config": {
    "python": {
     "delete_cmd_postfix": "",
     "delete_cmd_prefix": "del ",
     "library": "var_list.py",
     "varRefreshCmd": "print(var_dic_list())"
    },
    "r": {
     "delete_cmd_postfix": ") ",
     "delete_cmd_prefix": "rm(",
     "library": "var_list.r",
     "varRefreshCmd": "cat(var_dic_list()) "
    }
   },
   "types_to_exclude": [
    "module",
    "function",
    "builtin_function_or_method",
    "instance",
    "_Feature"
   ],
   "window_display": false
  }
 },
 "nbformat": 4,
 "nbformat_minor": 5
}
