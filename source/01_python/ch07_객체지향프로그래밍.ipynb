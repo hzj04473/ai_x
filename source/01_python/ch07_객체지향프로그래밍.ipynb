{
 "cells": [
  {
   "cell_type": "code",
   "execution_count": 1,
   "id": "d0de5fc8",
   "metadata": {
    "ExecuteTime": {
     "end_time": "2025-04-18T05:52:03.390555Z",
     "start_time": "2025-04-18T05:52:03.378586Z"
    }
   },
   "outputs": [
    {
     "data": {
      "text/html": [
       "\n",
       "<style>\n",
       "* {font-family:Consolas;}\n",
       "div.container{width:87% !important;}\n",
       "div.cell.code_cell.rendered{width:100%;}\n",
       "div.CodeMirror {font-size:12pt;}\n",
       "div.output {font-size:12pt; font-weight:bold;}\n",
       "div.input { font-size:12pt;}\n",
       "div.prompt {min-width:70px;}\n",
       "div#toc-wrapper{padding-top:120px;}\n",
       "div.text_cell_render ul li{font-size:12pt;padding:3px;}\n",
       "table.dataframe{font-size:12px;}\n",
       "</style>\n"
      ],
      "text/plain": [
       "<IPython.core.display.HTML object>"
      ]
     },
     "metadata": {},
     "output_type": "display_data"
    }
   ],
   "source": [
    "from IPython.display import display, HTML\n",
    "\n",
    "display(\n",
    "    HTML(\"\"\"\n",
    "<style>\n",
    "* {font-family:Consolas;}\n",
    "div.container{width:87% !important;}\n",
    "div.cell.code_cell.rendered{width:100%;}\n",
    "div.CodeMirror {font-size:12pt;}\n",
    "div.output {font-size:12pt; font-weight:bold;}\n",
    "div.input { font-size:12pt;}\n",
    "div.prompt {min-width:70px;}\n",
    "div#toc-wrapper{padding-top:120px;}\n",
    "div.text_cell_render ul li{font-size:12pt;padding:3px;}\n",
    "table.dataframe{font-size:12px;}\n",
    "</style>\n",
    "\"\"\"))"
   ]
  },
  {
   "cell_type": "markdown",
   "id": "3658ef49",
   "metadata": {},
   "source": [
    "<b><font color=\"red\" size=\"6\">ch07.객체지향프로그래밍</font></b>\n",
    "\n",
    "# 1절. 객체와 클래스\n",
    "\n",
    "## 맛보기"
   ]
  },
  {
   "cell_type": "code",
   "execution_count": 14,
   "id": "47203db8",
   "metadata": {
    "ExecuteTime": {
     "end_time": "2025-04-18T06:18:37.051771Z",
     "start_time": "2025-04-18T06:18:37.043915Z"
    }
   },
   "outputs": [
    {
     "name": "stdout",
     "output_type": "stream",
     "text": [
      "홍길동 남자 MBC\n",
      "홍길쑥 None MBC\n",
      "{'name': '홍길쑥', 'sender': '여자', 'academy': 'MBC'}\n"
     ]
    }
   ],
   "source": [
    "person1 = {\n",
    "    \"name\": \"홍길동\",\n",
    "    \"gender\": \"남자\",\n",
    "    \"academy\": \"MBC\",\n",
    "}\n",
    "person2 = {\n",
    "    \"name\": \"홍길순\",\n",
    "    \"sender\": \"여자\",\n",
    "    \"academy\": \"MBC\",\n",
    "}\n",
    "\n",
    "print(person1['name'], person1['gender'], person1['academy'])\n",
    "person2['name'] = '홍길쑥'\n",
    "print(person2['name'], person2.get('gender'), person2['academy'])\n",
    "print(person2)"
   ]
  },
  {
   "cell_type": "code",
   "execution_count": 57,
   "id": "6247f6a3",
   "metadata": {
    "ExecuteTime": {
     "end_time": "2025-04-18T06:56:09.701110Z",
     "start_time": "2025-04-18T06:56:09.687833Z"
    }
   },
   "outputs": [],
   "source": [
    "class Person:\n",
    "    academy = 'MBC'  # 클래스 변수\n",
    "\n",
    "    def __init__(self, name, gender):  # 생성자함수\n",
    "        self.name = name  # 객체아느이 변수 (인스턴스 변수)\n",
    "        self.gender = gender\n",
    "\n",
    "    def print_info(self):\n",
    "        print(\"{}는 {}입니다. {}를 다닙니다.\".format(self.name, self.gender,\n",
    "                                            self.academy))\n",
    "\n",
    "    # __str__() : Object 에서 상속\n",
    "    def __str__(self):\n",
    "        return \"{}는 {}입니다. {}를 다닙니다.\".format(self.name, self.gender,\n",
    "                                             self.academy)"
   ]
  },
  {
   "cell_type": "code",
   "execution_count": 58,
   "id": "1104723f",
   "metadata": {
    "ExecuteTime": {
     "end_time": "2025-04-18T06:56:15.470638Z",
     "start_time": "2025-04-18T06:56:15.446842Z"
    }
   },
   "outputs": [
    {
     "name": "stdout",
     "output_type": "stream",
     "text": [
      "홍길동는 남자입니다. MBC를 다닙니다.\n",
      "홍길숙는 여자입니다. MBC를 다닙니다.\n",
      "---------------------------------\n",
      "마길동는 남자입니다. CBC를 다닙니다.\n",
      "홍길숙는 여자입니다. MBC를 다닙니다.\n",
      "---------------------------------\n",
      "마길동는 남자입니다. CBC를 다닙니다.\n",
      "홍길숙는 여자입니다. MBC를 다닙니다.\n"
     ]
    }
   ],
   "source": [
    "p1 = Person('홍길동', '남자')\n",
    "p2 = Person('홍길숙', '여자')\n",
    "\n",
    "p1.print_info()\n",
    "p2.print_info()\n",
    "\n",
    "p1.name = '마길동'\n",
    "p1.academy = 'CBC'\n",
    "\n",
    "print('---------------------------------')\n",
    "\n",
    "p1.print_info()\n",
    "p2.print_info()\n",
    "\n",
    "print('---------------------------------')\n",
    "\n",
    "print(p1)\n",
    "print(p2)"
   ]
  },
  {
   "cell_type": "markdown",
   "id": "393c1a99",
   "metadata": {},
   "source": [
    "## 1-1. 객체와 클래스\n",
    "\n",
    "```\n",
    "class 클래스명 (상속받을 클래스명):\n",
    "    변수나 함수들 선언\n",
    "```"
   ]
  },
  {
   "cell_type": "code",
   "execution_count": 75,
   "id": "f5cb359a",
   "metadata": {
    "ExecuteTime": {
     "end_time": "2025-04-18T07:30:42.690529Z",
     "start_time": "2025-04-18T07:30:42.675910Z"
    }
   },
   "outputs": [
    {
     "name": "stdout",
     "output_type": "stream",
     "text": [
      "<method-wrapper '__str__' of Person object at 0x0000014B8597DF30>\n",
      "<class '__main__.Person'>\n"
     ]
    }
   ],
   "source": [
    "class Person:\n",
    "    'Person 클래스는 어쩌구 저쩌구 설명하는 독스트링 (한줄)'\n",
    "    '''\n",
    "    Person 클래스는 어쩌구 저쩌구 설명하는 독스트링 (여러줄)\n",
    "    생성자 함수가 없을 경우, 디폴트 생성자 함수가 자동 생성\n",
    "    '''\n",
    "\n",
    "    # def __init__(self): # 생성자함수 (없을수 있다. 자동으로 만들어 진다.)\n",
    "    # pass\n",
    "\n",
    "    pass\n",
    "\n",
    "\n",
    "p1 = Person()\n",
    "print(p1.__str__)\n",
    "print((type(p1)))"
   ]
  },
  {
   "cell_type": "code",
   "execution_count": 76,
   "id": "98a36566",
   "metadata": {
    "ExecuteTime": {
     "end_time": "2025-04-18T07:30:44.358405Z",
     "start_time": "2025-04-18T07:30:44.332086Z"
    }
   },
   "outputs": [
    {
     "data": {
      "text/plain": [
       "True"
      ]
     },
     "execution_count": 76,
     "metadata": {},
     "output_type": "execute_result"
    }
   ],
   "source": [
    "isinstance(p1, Person)"
   ]
  },
  {
   "cell_type": "code",
   "execution_count": 77,
   "id": "44443c47",
   "metadata": {
    "ExecuteTime": {
     "end_time": "2025-04-18T07:30:46.010150Z",
     "start_time": "2025-04-18T07:30:45.993287Z"
    }
   },
   "outputs": [
    {
     "data": {
      "text/plain": [
       "'Person 클래스는 어쩌구 저쩌구 설명하는 독스트링 (한줄)'"
      ]
     },
     "execution_count": 77,
     "metadata": {},
     "output_type": "execute_result"
    }
   ],
   "source": [
    "p1.__doc__"
   ]
  },
  {
   "cell_type": "markdown",
   "id": "fddf8cfc",
   "metadata": {},
   "source": [
    "# 2절. 생성자와 소멸자 (__init__)\n",
    "\n",
    "```\n",
    "- 생성자 : __init__(self, 매개변수,...) : 객체가 생성될 떄 자동 실행 \n",
    "          **객체 생성시 필요한 인스턴스 변수 초시화를 포함**\n",
    "- 소멸자 : __del__(self) : 객체가 소멸될 때 자동 실행\n",
    "          **인스턴스 객체의 레퍼런스 카운트가 0일 될 때 실행**\n",
    "```"
   ]
  },
  {
   "cell_type": "code",
   "execution_count": 1,
   "id": "b39eeaac",
   "metadata": {
    "ExecuteTime": {
     "end_time": "2025-04-18T07:53:09.487125Z",
     "start_time": "2025-04-18T07:53:09.470172Z"
    }
   },
   "outputs": [],
   "source": [
    "class Person:\n",
    "    # def __init__(self, name, gender): # 파이썬은 함수 오버로딩(함수 중복 정의) 지원하지 않는다.\n",
    "    #    self.name = name  # 인스턴스 변수\n",
    "    #    self.gender = gender  # 인스턴스 변수\n",
    "    #    print('Person 객체를 생성합니다.', name)\n",
    "\n",
    "    def __init__(self, name, gender=\"남자\"):\n",
    "        self.name = name\n",
    "        self.gender = gender\n",
    "        print('Person 객체를 생성합니다.', self.name)\n",
    "\n",
    "    # del      \n",
    "    def __del__(self):\n",
    "        print(\"Person 객체를 소멸시킵니다.\", self.name)\n",
    "\n",
    "    def print_info(self):\n",
    "        print(\"{}는 {}입니다.\".format(self.name, self.gender))\n",
    "\n",
    "    # print()\n",
    "    def __str__(self):  # 오버라이딩 (함수 재정의)\n",
    "        return f\"{self.name}는 {self.gender} 입니다.\""
   ]
  },
  {
   "cell_type": "code",
   "execution_count": 2,
   "id": "3e68dfcf",
   "metadata": {
    "ExecuteTime": {
     "end_time": "2025-04-18T07:53:10.843152Z",
     "start_time": "2025-04-18T07:53:10.824417Z"
    }
   },
   "outputs": [
    {
     "name": "stdout",
     "output_type": "stream",
     "text": [
      "Person 객체를 생성합니다. 신사임당\n"
     ]
    }
   ],
   "source": [
    "p1 = Person(\"신사임당\", \"여자\")"
   ]
  },
  {
   "cell_type": "code",
   "execution_count": 3,
   "id": "19d787f2",
   "metadata": {
    "ExecuteTime": {
     "end_time": "2025-04-18T07:53:12.248552Z",
     "start_time": "2025-04-18T07:53:12.224108Z"
    }
   },
   "outputs": [
    {
     "name": "stdout",
     "output_type": "stream",
     "text": [
      "Person 객체를 생성합니다. 홍길동\n",
      "홍길동는 남자 입니다.\n"
     ]
    }
   ],
   "source": [
    "p2 = Person(\"홍길동\")\n",
    "print(p2)"
   ]
  },
  {
   "cell_type": "code",
   "execution_count": 4,
   "id": "58630379",
   "metadata": {
    "ExecuteTime": {
     "end_time": "2025-04-18T07:53:13.616383Z",
     "start_time": "2025-04-18T07:53:13.603453Z"
    }
   },
   "outputs": [],
   "source": [
    "p3 = p2"
   ]
  },
  {
   "cell_type": "code",
   "execution_count": 5,
   "id": "3c96175e",
   "metadata": {
    "ExecuteTime": {
     "end_time": "2025-04-18T07:53:16.611258Z",
     "start_time": "2025-04-18T07:53:16.585225Z"
    }
   },
   "outputs": [
    {
     "name": "stdout",
     "output_type": "stream",
     "text": [
      "Person 객체를 소멸시킵니다. 신사임당\n"
     ]
    }
   ],
   "source": [
    "del p1"
   ]
  },
  {
   "cell_type": "code",
   "execution_count": 6,
   "id": "eb587fbb",
   "metadata": {
    "ExecuteTime": {
     "end_time": "2025-04-18T07:54:25.342209Z",
     "start_time": "2025-04-18T07:54:25.317736Z"
    }
   },
   "outputs": [],
   "source": [
    "del p2"
   ]
  },
  {
   "cell_type": "code",
   "execution_count": 7,
   "id": "e3f2c547",
   "metadata": {
    "ExecuteTime": {
     "end_time": "2025-04-18T07:55:00.786426Z",
     "start_time": "2025-04-18T07:55:00.777000Z"
    }
   },
   "outputs": [
    {
     "name": "stdout",
     "output_type": "stream",
     "text": [
      "Person 객체를 소멸시킵니다. 홍길동\n"
     ]
    }
   ],
   "source": [
    "del p3"
   ]
  },
  {
   "cell_type": "markdown",
   "id": "3bf9f011",
   "metadata": {},
   "source": [
    "# 3절. 변수와 메소드(함수)\n",
    "\n",
    "- 인스턴스 변수 vs 클래스 변수\n",
    "- 인스턴스 메소드 (self) vs 클래스메소드 (clz) vs static 메소드 ()"
   ]
  },
  {
   "cell_type": "markdown",
   "id": "557640d9",
   "metadata": {},
   "source": [
    "## 3.1. 인스턴스 변수 vs 클래스 변수"
   ]
  },
  {
   "cell_type": "code",
   "execution_count": 14,
   "id": "8e42d871",
   "metadata": {
    "ExecuteTime": {
     "end_time": "2025-04-18T08:26:00.028277Z",
     "start_time": "2025-04-18T08:26:00.016045Z"
    }
   },
   "outputs": [
    {
     "name": "stdout",
     "output_type": "stream",
     "text": [
      "홍길동 남자\n"
     ]
    }
   ],
   "source": [
    "class Person:\n",
    "    name = \"홍길동\"  # 클래스 변수\n",
    "    gender = \"남자\"\n",
    "\n",
    "\n",
    "print(Person.name, Person.gender)"
   ]
  },
  {
   "cell_type": "code",
   "execution_count": 15,
   "id": "6c70f020",
   "metadata": {
    "ExecuteTime": {
     "end_time": "2025-04-18T08:26:36.081533Z",
     "start_time": "2025-04-18T08:26:36.063165Z"
    }
   },
   "outputs": [
    {
     "name": "stdout",
     "output_type": "stream",
     "text": [
      "홍길동 남자\n",
      "홍길동 남자\n",
      "홍길동 남자\n"
     ]
    }
   ],
   "source": [
    "p1 = Person()\n",
    "p2 = Person()\n",
    "\n",
    "print(Person.name, Person.gender)\n",
    "print(p1.name, p1.gender)\n",
    "print(p2.name, p2.gender)"
   ]
  },
  {
   "cell_type": "code",
   "execution_count": 16,
   "id": "5eaeb20d",
   "metadata": {
    "ExecuteTime": {
     "end_time": "2025-04-18T08:26:46.669610Z",
     "start_time": "2025-04-18T08:26:46.646155Z"
    }
   },
   "outputs": [
    {
     "name": "stdout",
     "output_type": "stream",
     "text": [
      "홍길동 남자\n",
      "홍길동 남자\n",
      "이순신 남자\n"
     ]
    }
   ],
   "source": [
    "p2.name = \"이순신\"\n",
    "print(Person.name, Person.gender)\n",
    "print(p1.name, p1.gender)\n",
    "print(p2.name, p2.gender)"
   ]
  },
  {
   "cell_type": "code",
   "execution_count": 18,
   "id": "5d5ff8b3",
   "metadata": {
    "ExecuteTime": {
     "end_time": "2025-04-18T08:29:24.292983Z",
     "start_time": "2025-04-18T08:29:24.274757Z"
    }
   },
   "outputs": [
    {
     "name": "stdout",
     "output_type": "stream",
     "text": [
      "리사 여자\n",
      "리사 여자\n",
      "이순신 여자\n"
     ]
    }
   ],
   "source": [
    "Person.name = \"리사\"\n",
    "Person.gender = \"여자\"\n",
    "print(Person.name, Person.gender)\n",
    "print(p1.name, p1.gender)\n",
    "print(p2.name, p2.gender)"
   ]
  },
  {
   "cell_type": "markdown",
   "id": "1e03560a",
   "metadata": {},
   "source": [
    "## 3.2. 인스턴스 메소드 (self) vs 클래스 메소드 (clz) vs static 메소드 ()\n",
    "\n",
    "- 인스턴스 메소드 : 첫번쨰 인자에 self를 꼭 명시. 객체를 통해서만 호출할 수 있는 메소드\n",
    "- 클래스 메소드 : 메소드위에 @classmethod를 선언한 메소드, 첫번째 인자에 cls(clz) 꼭 명시\n",
    "- static 메소드 : 메소드위에 @staticmethod를 선언한 메소드, 인자를 넣지 않는다."
   ]
  },
  {
   "cell_type": "code",
   "execution_count": 26,
   "id": "afdde7b3",
   "metadata": {
    "ExecuteTime": {
     "end_time": "2025-04-18T08:53:55.948069Z",
     "start_time": "2025-04-18T08:53:55.925842Z"
    }
   },
   "outputs": [],
   "source": [
    "class Person:\n",
    "    name = \"홍길동\"  # 클래스 변수\n",
    "    gender = \"남자\"\n",
    "\n",
    "    def print_info(self):  # 객체변수명.print_info()로 호출\n",
    "        print(f\"인스턴스(일반) 메소드 - {self.name}는 {self.gender} 입니다.\")\n",
    "\n",
    "    def change_info(self, name, gender=\"남자\"):  # 객체변수명.change_info(\"김\",\"여자\")\n",
    "        self.name = name\n",
    "        self.gender = gender\n",
    "        print(f\"인스턴스(일반) 메소드 - {self.name} / {self.gender} 변경 완료\")\n",
    "\n",
    "    @classmethod\n",
    "    def do_(clz):  # clz == Person. 클래스 변수를 이용한 로직 Person.do_() 호출\n",
    "        clz.name = \"신사임당\"\n",
    "        clz.gender = \"여자\"\n",
    "        print(f\"클래스 메소드 = {clz.name} / {clz.gender} 변경 완료\")\n",
    "\n",
    "    @staticmethod\n",
    "    def that_():  # 클래스 변수를 이용하기 보다는 로직이 우선일 경우 Person.that_()\n",
    "        Person.name = \"신길동\"\n",
    "        Person.gender = \"남자\"\n",
    "        print(f\"static 메소드 = {Person.name} / {Person.gender} 변경 완료\")"
   ]
  },
  {
   "cell_type": "code",
   "execution_count": 27,
   "id": "2b4ab49a",
   "metadata": {
    "ExecuteTime": {
     "end_time": "2025-04-18T08:54:20.248806Z",
     "start_time": "2025-04-18T08:54:20.236469Z"
    }
   },
   "outputs": [
    {
     "name": "stdout",
     "output_type": "stream",
     "text": [
      "인스턴스(일반) 메소드 - 홍길동는 남자 입니다.\n"
     ]
    }
   ],
   "source": [
    "p1 = Person()\n",
    "\n",
    "p1.print_info()"
   ]
  },
  {
   "cell_type": "code",
   "execution_count": 28,
   "id": "9ced190a",
   "metadata": {
    "ExecuteTime": {
     "end_time": "2025-04-18T08:54:43.785758Z",
     "start_time": "2025-04-18T08:54:43.771062Z"
    }
   },
   "outputs": [
    {
     "name": "stdout",
     "output_type": "stream",
     "text": [
      "클래스 메소드 = 신사임당 / 여자 변경 완료\n"
     ]
    }
   ],
   "source": [
    "Person.do_()"
   ]
  },
  {
   "cell_type": "code",
   "execution_count": 29,
   "id": "288cafe5",
   "metadata": {
    "ExecuteTime": {
     "end_time": "2025-04-18T08:55:02.328186Z",
     "start_time": "2025-04-18T08:55:02.316654Z"
    }
   },
   "outputs": [
    {
     "name": "stdout",
     "output_type": "stream",
     "text": [
      "static 메소드 = 신길동 / 남자 변경 완료\n"
     ]
    }
   ],
   "source": [
    "Person.that_()"
   ]
  },
  {
   "cell_type": "code",
   "execution_count": 30,
   "id": "84f596a3",
   "metadata": {
    "ExecuteTime": {
     "end_time": "2025-04-18T08:55:31.523363Z",
     "start_time": "2025-04-18T08:55:31.513421Z"
    }
   },
   "outputs": [
    {
     "name": "stdout",
     "output_type": "stream",
     "text": [
      "인스턴스(일반) 메소드 - 신길동는 남자 입니다.\n"
     ]
    }
   ],
   "source": [
    "p1.print_info()"
   ]
  },
  {
   "cell_type": "markdown",
   "id": "5f66d8b5",
   "metadata": {},
   "source": [
    "# 4절. 상속과 재정의"
   ]
  }
 ],
 "metadata": {
  "kernelspec": {
   "display_name": "Python 3 (ipykernel)",
   "language": "python",
   "name": "python3"
  },
  "language_info": {
   "codemirror_mode": {
    "name": "ipython",
    "version": 3
   },
   "file_extension": ".py",
   "mimetype": "text/x-python",
   "name": "python",
   "nbconvert_exporter": "python",
   "pygments_lexer": "ipython3",
   "version": "3.10.9"
  },
  "toc": {
   "base_numbering": 1,
   "nav_menu": {},
   "number_sections": false,
   "sideBar": true,
   "skip_h1_title": false,
   "title_cell": "Table of Contents",
   "title_sidebar": "Contents",
   "toc_cell": false,
   "toc_position": {
    "height": "calc(100% - 180px)",
    "left": "10px",
    "top": "150px",
    "width": "165px"
   },
   "toc_section_display": true,
   "toc_window_display": true
  },
  "varInspector": {
   "cols": {
    "lenName": 16,
    "lenType": 16,
    "lenVar": 40
   },
   "kernels_config": {
    "python": {
     "delete_cmd_postfix": "",
     "delete_cmd_prefix": "del ",
     "library": "var_list.py",
     "varRefreshCmd": "print(var_dic_list())"
    },
    "r": {
     "delete_cmd_postfix": ") ",
     "delete_cmd_prefix": "rm(",
     "library": "var_list.r",
     "varRefreshCmd": "cat(var_dic_list()) "
    }
   },
   "types_to_exclude": [
    "module",
    "function",
    "builtin_function_or_method",
    "instance",
    "_Feature"
   ],
   "window_display": false
  }
 },
 "nbformat": 4,
 "nbformat_minor": 5
}
