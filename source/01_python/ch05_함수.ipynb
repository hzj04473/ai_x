{
 "cells": [
  {
   "cell_type": "code",
   "execution_count": 2,
   "id": "3dd26da1",
   "metadata": {
    "ExecuteTime": {
     "end_time": "2025-04-18T00:22:08.464992Z",
     "start_time": "2025-04-18T00:22:08.446356Z"
    }
   },
   "outputs": [
    {
     "data": {
      "text/html": [
       "\n",
       "<style>\n",
       "* {font-family:Consolas;}\n",
       "div.container{width:87% !important;}\n",
       "div.cell.code_cell.rendered{width:100%;}\n",
       "div.CodeMirror {font-size:12pt;}\n",
       "div.output {font-size:12pt; font-weight:bold;}\n",
       "div.input { font-size:12pt;}\n",
       "div.prompt {min-width:70px;}\n",
       "div#toc-wrapper{padding-top:120px;}\n",
       "div.text_cell_render ul li{font-size:12pt;padding:3px;}\n",
       "table.dataframe{font-size:12px;}\n",
       "</style>\n"
      ],
      "text/plain": [
       "<IPython.core.display.HTML object>"
      ]
     },
     "metadata": {},
     "output_type": "display_data"
    }
   ],
   "source": [
    "from IPython.display import display, HTML\n",
    "\n",
    "display(\n",
    "    HTML(\"\"\"\n",
    "<style>\n",
    "* {font-family:Consolas;}\n",
    "div.container{width:87% !important;}\n",
    "div.cell.code_cell.rendered{width:100%;}\n",
    "div.CodeMirror {font-size:12pt;}\n",
    "div.output {font-size:12pt; font-weight:bold;}\n",
    "div.input { font-size:12pt;}\n",
    "div.prompt {min-width:70px;}\n",
    "div#toc-wrapper{padding-top:120px;}\n",
    "div.text_cell_render ul li{font-size:12pt;padding:3px;}\n",
    "table.dataframe{font-size:12px;}\n",
    "</style>\n",
    "\"\"\"))"
   ]
  },
  {
   "cell_type": "markdown",
   "id": "41fb8f59",
   "metadata": {},
   "source": [
    "<b><font size=\"5\" color=\"red\">ch05 함수 </font></b>\n",
    "\n",
    "- 사용할 코드를 묶어 놓고, 그것에 이름을 붙인 것\n",
    "- 오버로딩(함수이름이 같고, 매개변수의 타입이나 갯수로 다른 함수를 허용하는 것) 불가\n",
    "```\n",
    "def 함수명 ( [매개변수1, .. , 매개변수n] ) : \n",
    "    명령어1\n",
    "    명령어2\n",
    "    명령어n\n",
    "```\n",
    "\n",
    "# 1절 함수의 정의 및 사용\n",
    "\n",
    "## 1.1 함수 정의"
   ]
  },
  {
   "cell_type": "code",
   "execution_count": 7,
   "id": "86301a8e",
   "metadata": {},
   "outputs": [],
   "source": [
    "def add(a, b):\n",
    "    print(1)\n",
    "\n",
    "\n",
    "def add(a):\n",
    "    print(2)\n",
    "\n",
    "\n",
    "# add(\"A\",\"b\") 오버로딩 불가 def **add(a, b):** 삭제\n",
    "\n",
    "# a = 10\n",
    "# a = 20 # a = 10 값이 없어지는 것과 같음"
   ]
  },
  {
   "cell_type": "code",
   "execution_count": 13,
   "id": "7f3ac0bf",
   "metadata": {},
   "outputs": [],
   "source": [
    "# 함수 정의\n",
    "def hello():\n",
    "    for i in range(5):\n",
    "        print(\"Hello\")\n",
    "\n",
    "\n",
    "def my_message(x, msg):  # msg를 x번 출력하는 함수\n",
    "    for i in range(x):\n",
    "        print(msg)"
   ]
  },
  {
   "cell_type": "code",
   "execution_count": 14,
   "id": "6775230c",
   "metadata": {},
   "outputs": [
    {
     "name": "stdout",
     "output_type": "stream",
     "text": [
      "Hello\n",
      "Hello\n",
      "Hello\n",
      "Hello\n",
      "Hello\n",
      "My Hello\n",
      "My Hello\n",
      "My Hello\n",
      "My Hello\n",
      "My Hello\n"
     ]
    }
   ],
   "source": [
    "# 함수 사용\n",
    "hello()\n",
    "my_message(5, 'My Hello')"
   ]
  },
  {
   "cell_type": "code",
   "execution_count": 15,
   "id": "221a364a",
   "metadata": {},
   "outputs": [
    {
     "name": "stdout",
     "output_type": "stream",
     "text": [
      "my hello\n",
      "my hello\n",
      "my hello\n",
      "my hello\n"
     ]
    }
   ],
   "source": [
    "# 함수이름의 재정의\n",
    "my_msg = my_message\n",
    "my_msg(4, 'my hello')"
   ]
  },
  {
   "cell_type": "code",
   "execution_count": 16,
   "id": "792f04ba",
   "metadata": {},
   "outputs": [
    {
     "data": {
      "text/plain": [
       "(function, function)"
      ]
     },
     "execution_count": 16,
     "metadata": {},
     "output_type": "execute_result"
    }
   ],
   "source": [
    "type(my_msg), type(my_message)"
   ]
  },
  {
   "cell_type": "code",
   "execution_count": 11,
   "id": "a6c54b25",
   "metadata": {},
   "outputs": [
    {
     "name": "stdout",
     "output_type": "stream",
     "text": [
      "Hello\n",
      "hello2\n"
     ]
    }
   ],
   "source": [
    "print(\"Hello\")  # 파이썬 내장함수(import 하지 않고 사용할 수 있는 함수)\n",
    "print = 5\n",
    "# print(\"hello\")\n",
    "del print\n",
    "print(\"hello2\")"
   ]
  },
  {
   "cell_type": "code",
   "execution_count": 17,
   "id": "77a9b758",
   "metadata": {},
   "outputs": [
    {
     "name": "stdout",
     "output_type": "stream",
     "text": [
      "Hello\n",
      "Hello\n"
     ]
    }
   ],
   "source": [
    "my_message(2, 'Hello')"
   ]
  },
  {
   "cell_type": "code",
   "execution_count": 24,
   "id": "aebe9a89",
   "metadata": {},
   "outputs": [],
   "source": [
    "my_message = 5"
   ]
  },
  {
   "cell_type": "code",
   "execution_count": 23,
   "id": "ca3a3723",
   "metadata": {},
   "outputs": [
    {
     "ename": "TypeError",
     "evalue": "'int' object is not callable",
     "output_type": "error",
     "traceback": [
      "\u001b[1;31m---------------------------------------------------------------------------\u001b[0m",
      "\u001b[1;31mTypeError\u001b[0m                                 Traceback (most recent call last)",
      "Cell \u001b[1;32mIn[23], line 1\u001b[0m\n\u001b[1;32m----> 1\u001b[0m \u001b[43mmy_message\u001b[49m\u001b[43m(\u001b[49m\u001b[38;5;241;43m2\u001b[39;49m\u001b[43m,\u001b[49m\u001b[43m \u001b[49m\u001b[38;5;124;43m'\u001b[39;49m\u001b[38;5;124;43mHello\u001b[39;49m\u001b[38;5;124;43m'\u001b[39;49m\u001b[43m)\u001b[49m\n",
      "\u001b[1;31mTypeError\u001b[0m: 'int' object is not callable"
     ]
    }
   ],
   "source": [
    "my_message(2, 'Hello')"
   ]
  },
  {
   "cell_type": "code",
   "execution_count": 27,
   "id": "6d871a65",
   "metadata": {},
   "outputs": [
    {
     "ename": "NameError",
     "evalue": "name 'my_message' is not defined",
     "output_type": "error",
     "traceback": [
      "\u001b[1;31m---------------------------------------------------------------------------\u001b[0m",
      "\u001b[1;31mNameError\u001b[0m                                 Traceback (most recent call last)",
      "Cell \u001b[1;32mIn[27], line 1\u001b[0m\n\u001b[1;32m----> 1\u001b[0m \u001b[38;5;28;01mdel\u001b[39;00m my_message\n",
      "\u001b[1;31mNameError\u001b[0m: name 'my_message' is not defined"
     ]
    }
   ],
   "source": [
    "del my_message \n",
    "# 변수를 삭제해도 함수 사용불가 (파이썬 내장함수가 아니라서...)"
   ]
  },
  {
   "cell_type": "code",
   "execution_count": 26,
   "id": "e52d926e",
   "metadata": {},
   "outputs": [
    {
     "ename": "NameError",
     "evalue": "name 'my_message' is not defined",
     "output_type": "error",
     "traceback": [
      "\u001b[1;31m---------------------------------------------------------------------------\u001b[0m",
      "\u001b[1;31mNameError\u001b[0m                                 Traceback (most recent call last)",
      "Cell \u001b[1;32mIn[26], line 1\u001b[0m\n\u001b[1;32m----> 1\u001b[0m \u001b[43mmy_message\u001b[49m(\u001b[38;5;241m2\u001b[39m, \u001b[38;5;124m'\u001b[39m\u001b[38;5;124mHello\u001b[39m\u001b[38;5;124m'\u001b[39m)\n",
      "\u001b[1;31mNameError\u001b[0m: name 'my_message' is not defined"
     ]
    }
   ],
   "source": [
    "my_message(2, 'Hello')"
   ]
  },
  {
   "cell_type": "code",
   "execution_count": 3,
   "id": "7fe73c16",
   "metadata": {},
   "outputs": [],
   "source": [
    "# 함수 정의 : 4월 16일(수)\n",
    "def my_hello():\n",
    "    print('Hello Python')\n",
    "    print('Hello World')\n",
    "\n",
    "def my_hello(cnt):\n",
    "    for i in range(cnt):\n",
    "        print('Hello Python')\n",
    "        print('Hello World')"
   ]
  },
  {
   "cell_type": "code",
   "execution_count": 21,
   "id": "f4f82d61",
   "metadata": {},
   "outputs": [
    {
     "name": "stdout",
     "output_type": "stream",
     "text": [
      "Hello Python\n",
      "Hello World\n",
      "Hello Python\n",
      "Hello World\n"
     ]
    }
   ],
   "source": [
    "# 함수사용 = 함수호출\n",
    "# my_hello()\n",
    "my_hello(2)"
   ]
  },
  {
   "cell_type": "code",
   "execution_count": 22,
   "id": "6e2331a7",
   "metadata": {},
   "outputs": [
    {
     "data": {
      "text/plain": [
       "<function __main__.my_hello(cnt)>"
      ]
     },
     "execution_count": 22,
     "metadata": {},
     "output_type": "execute_result"
    }
   ],
   "source": [
    "my_hello"
   ]
  },
  {
   "cell_type": "code",
   "execution_count": 23,
   "id": "2cf6f853",
   "metadata": {},
   "outputs": [
    {
     "data": {
      "text/plain": [
       "'__main__'"
      ]
     },
     "execution_count": 23,
     "metadata": {},
     "output_type": "execute_result"
    }
   ],
   "source": [
    "__name__"
   ]
  },
  {
   "cell_type": "code",
   "execution_count": 34,
   "id": "fbfed183",
   "metadata": {},
   "outputs": [
    {
     "name": "stdout",
     "output_type": "stream",
     "text": [
      "Hello Python\n",
      "Hello World\n",
      "Hello Python\n",
      "Hello World\n"
     ]
    }
   ],
   "source": [
    "if  __name__ == \"__main__\":\n",
    "    my_hello(2)"
   ]
  },
  {
   "cell_type": "code",
   "execution_count": 8,
   "id": "4831df0d",
   "metadata": {},
   "outputs": [],
   "source": [
    "import ch05 # ch05모듈을 Load"
   ]
  },
  {
   "cell_type": "code",
   "execution_count": 9,
   "id": "4da9ad3b",
   "metadata": {},
   "outputs": [
    {
     "name": "stdout",
     "output_type": "stream",
     "text": [
      "Hello Python\n",
      "Hello World\n",
      "Hello Python\n",
      "Hello World\n"
     ]
    }
   ],
   "source": [
    "ch05.my_hello(2)"
   ]
  },
  {
   "cell_type": "code",
   "execution_count": 11,
   "id": "d8677695",
   "metadata": {},
   "outputs": [],
   "source": [
    "from ch05 import my_hello # ch05모듈안의 my_hello 만 Load"
   ]
  },
  {
   "cell_type": "code",
   "execution_count": 12,
   "id": "e4c644f6",
   "metadata": {},
   "outputs": [
    {
     "name": "stdout",
     "output_type": "stream",
     "text": [
      "Hello Python\n",
      "Hello World\n",
      "Hello Python\n",
      "Hello World\n"
     ]
    }
   ],
   "source": [
    "my_hello(2)"
   ]
  },
  {
   "cell_type": "markdown",
   "id": "b9b75814",
   "metadata": {},
   "source": [
    "## 1.2 docstring"
   ]
  },
  {
   "cell_type": "code",
   "execution_count": null,
   "id": "08e4c6de",
   "metadata": {},
   "outputs": [],
   "source": [
    "def my_function():\n",
    "    '''\n",
    "    함수의 첫라인에 독스트링을 포함할 수 있습니다.\n",
    "    독스트링은 함수의 설명서를 달아주는 역할\n",
    "    주석보다 많은 기능 (shift + tab으로 독스트링을 볼 수 있음)\n",
    "    '''\n",
    "    pass"
   ]
  },
  {
   "cell_type": "code",
   "execution_count": null,
   "id": "2e6f92d4",
   "metadata": {},
   "outputs": [],
   "source": [
    "my_function()"
   ]
  },
  {
   "cell_type": "code",
   "execution_count": 16,
   "id": "22b01120",
   "metadata": {},
   "outputs": [
    {
     "name": "stdout",
     "output_type": "stream",
     "text": [
      "\n",
      "    함수의 첫라인에 독스트링을 포함할 수 있습니다.\n",
      "    독스트링은 함수의 설명서를 달아주는 역할\n",
      "    주석보다 많은 기능 (shift + tab으로 독스트링을 볼 수 있음)\n",
      "    \n"
     ]
    }
   ],
   "source": [
    "print(my_function.__doc__)"
   ]
  },
  {
   "cell_type": "code",
   "execution_count": 20,
   "id": "cb3212b4",
   "metadata": {},
   "outputs": [],
   "source": [
    "def fibonacci(n):\n",
    "    a, b = 0, 1\n",
    "    while a < n:\n",
    "        print(a, end=' ')\n",
    "        a, b = b, a + b\n",
    "    print() # 개행"
   ]
  },
  {
   "cell_type": "code",
   "execution_count": 23,
   "id": "e2c0b264",
   "metadata": {},
   "outputs": [
    {
     "name": "stdout",
     "output_type": "stream",
     "text": [
      "0 1 1 2 3 5 8 \n"
     ]
    }
   ],
   "source": [
    "fibonacci(10)"
   ]
  },
  {
   "cell_type": "code",
   "execution_count": 26,
   "id": "2b6cbc6f",
   "metadata": {},
   "outputs": [
    {
     "ename": "NameError",
     "evalue": "name 'a' is not defined",
     "output_type": "error",
     "traceback": [
      "\u001b[1;31m---------------------------------------------------------------------------\u001b[0m",
      "\u001b[1;31mNameError\u001b[0m                                 Traceback (most recent call last)",
      "Cell \u001b[1;32mIn[26], line 1\u001b[0m\n\u001b[1;32m----> 1\u001b[0m \u001b[43ma\u001b[49m, b\n",
      "\u001b[1;31mNameError\u001b[0m: name 'a' is not defined"
     ]
    }
   ],
   "source": [
    "# 함수안에 있는 변수는 실행이 끝나면 없어짐\n",
    "a, b "
   ]
  },
  {
   "cell_type": "markdown",
   "id": "8bc22c94",
   "metadata": {},
   "source": [
    "## 1.3 지역변수 (local var) 와 전역변수 (global var)\n"
   ]
  },
  {
   "cell_type": "code",
   "execution_count": 29,
   "id": "c8db2408",
   "metadata": {},
   "outputs": [
    {
     "name": "stdout",
     "output_type": "stream",
     "text": [
      "함수 안 : 100\n",
      "함수 밖 : 100\n"
     ]
    }
   ],
   "source": [
    "global_var = 100 # 전역변수\n",
    "\n",
    "def func1() :\n",
    "    print(\"함수 안 :\", global_var)\n",
    "\n",
    "func1()\n",
    "print('함수 밖 :', global_var)"
   ]
  },
  {
   "cell_type": "code",
   "execution_count": 31,
   "id": "a7394f63",
   "metadata": {},
   "outputs": [
    {
     "name": "stdout",
     "output_type": "stream",
     "text": [
      "함수 안 : 200\n"
     ]
    },
    {
     "ename": "NameError",
     "evalue": "name 'local_var' is not defined",
     "output_type": "error",
     "traceback": [
      "\u001b[1;31m---------------------------------------------------------------------------\u001b[0m",
      "\u001b[1;31mNameError\u001b[0m                                 Traceback (most recent call last)",
      "Cell \u001b[1;32mIn[31], line 7\u001b[0m\n\u001b[0;32m      3\u001b[0m     \u001b[38;5;28mprint\u001b[39m(\u001b[38;5;124m\"\u001b[39m\u001b[38;5;124m함수 안 :\u001b[39m\u001b[38;5;124m\"\u001b[39m, local_var)\n\u001b[0;32m      5\u001b[0m func2()  \n\u001b[1;32m----> 7\u001b[0m \u001b[38;5;28mprint\u001b[39m(\u001b[38;5;124m'\u001b[39m\u001b[38;5;124m함수 밖 :\u001b[39m\u001b[38;5;124m'\u001b[39m, \u001b[43mlocal_var\u001b[49m)\n",
      "\u001b[1;31mNameError\u001b[0m: name 'local_var' is not defined"
     ]
    }
   ],
   "source": [
    "def func2() :\n",
    "    local_var = 200 # 지역변수\n",
    "    print(\"함수 안 :\", local_var)\n",
    "\n",
    "func2()  \n",
    "\n",
    "print('함수 밖 :', local_var)"
   ]
  },
  {
   "cell_type": "code",
   "execution_count": 11,
   "id": "fc7ab6aa",
   "metadata": {},
   "outputs": [
    {
     "name": "stdout",
     "output_type": "stream",
     "text": [
      "함수 안 (지역변수 g_var): 200\n",
      "함수 밖 : 100\n"
     ]
    }
   ],
   "source": [
    "g_var = 100 # 전역변수\n",
    "\n",
    "def func3() :\n",
    "    g_var = 200 # 지역변수 (변수 선언과 할당)\n",
    "    print(\"함수 안 (지역변수 g_var):\", g_var)\n",
    "\n",
    "func3()\n",
    "print('함수 밖 :', g_var)"
   ]
  },
  {
   "cell_type": "code",
   "execution_count": 12,
   "id": "969c4d0f",
   "metadata": {},
   "outputs": [
    {
     "ename": "UnboundLocalError",
     "evalue": "local variable 'g_var' referenced before assignment",
     "output_type": "error",
     "traceback": [
      "\u001b[1;31m---------------------------------------------------------------------------\u001b[0m",
      "\u001b[1;31mUnboundLocalError\u001b[0m                         Traceback (most recent call last)",
      "Cell \u001b[1;32mIn[12], line 7\u001b[0m\n\u001b[0;32m      5\u001b[0m     \u001b[38;5;28mprint\u001b[39m(\u001b[38;5;124m\"\u001b[39m\u001b[38;5;124m함수 안 g_var :\u001b[39m\u001b[38;5;124m\"\u001b[39m, g_var)\n\u001b[0;32m      6\u001b[0m     g_var \u001b[38;5;241m=\u001b[39m \u001b[38;5;241m200\u001b[39m \u001b[38;5;66;03m# 지역변수\u001b[39;00m\n\u001b[1;32m----> 7\u001b[0m \u001b[43mfunc4\u001b[49m\u001b[43m(\u001b[49m\u001b[43m)\u001b[49m\n",
      "Cell \u001b[1;32mIn[12], line 5\u001b[0m, in \u001b[0;36mfunc4\u001b[1;34m()\u001b[0m\n\u001b[0;32m      4\u001b[0m \u001b[38;5;28;01mdef\u001b[39;00m \u001b[38;5;21mfunc4\u001b[39m() :\n\u001b[1;32m----> 5\u001b[0m     \u001b[38;5;28mprint\u001b[39m(\u001b[38;5;124m\"\u001b[39m\u001b[38;5;124m함수 안 g_var :\u001b[39m\u001b[38;5;124m\"\u001b[39m, \u001b[43mg_var\u001b[49m)\n\u001b[0;32m      6\u001b[0m     g_var \u001b[38;5;241m=\u001b[39m \u001b[38;5;241m200\u001b[39m\n",
      "\u001b[1;31mUnboundLocalError\u001b[0m: local variable 'g_var' referenced before assignment"
     ]
    }
   ],
   "source": [
    "# 렉시컬 특성\n",
    "g_ver = 100 # 전역변수\n",
    "\n",
    "def func4() :\n",
    "    print(\"함수 안 g_var :\", g_var)\n",
    "    g_var = 200 # 지역변수\n",
    "func4()"
   ]
  },
  {
   "cell_type": "code",
   "execution_count": 13,
   "id": "7ad8054c",
   "metadata": {},
   "outputs": [
    {
     "name": "stdout",
     "output_type": "stream",
     "text": [
      "함수 안 g_var : 100\n",
      "함수 밖 g_var : 200\n"
     ]
    }
   ],
   "source": [
    "# 렉시컬 특성\n",
    "g_ver = 100 # 전역변수\n",
    "\n",
    "def func4() :\n",
    "    global g_var # func4 함수내의 g_var는 전역변수를 쓴다.\n",
    "    print(\"함수 안 g_var :\", g_var)\n",
    "    g_var = 200 # 지역변수\n",
    "func4()\n",
    "print(\"함수 밖 g_var :\", g_var)"
   ]
  },
  {
   "cell_type": "code",
   "execution_count": null,
   "id": "1796388f",
   "metadata": {},
   "outputs": [],
   "source": [
    "### 변수의 우선 순위\n",
    "### 3.내장된이름테이블 < 2.전역심볼테이블 < 1.로컬심볼테이블"
   ]
  },
  {
   "cell_type": "markdown",
   "id": "c550745e",
   "metadata": {},
   "source": [
    "## 1.4 값에 의한 호출\n",
    "\n",
    "- 함수의 매개변수(인수, 인자)로 전달되는 변수가 스칼라(문자, 숫자, 논리형) 변수일 떄"
   ]
  },
  {
   "cell_type": "code",
   "execution_count": 39,
   "id": "cbd85150",
   "metadata": {},
   "outputs": [
    {
     "data": {
      "text/plain": [
       "2163912278544"
      ]
     },
     "execution_count": 39,
     "metadata": {},
     "output_type": "execute_result"
    }
   ],
   "source": [
    "foo = 10 # 전역변수\n",
    "id(foo)"
   ]
  },
  {
   "cell_type": "code",
   "execution_count": 47,
   "id": "f846b80e",
   "metadata": {},
   "outputs": [
    {
     "name": "stdout",
     "output_type": "stream",
     "text": [
      "Before : 10  id(f) : 2163912278544\n",
      "After : 30  id(f) : 2163912279184 "
     ]
    }
   ],
   "source": [
    "def func1(f) : # 매개변수 f는 지역변수\n",
    "    print(\"Before :\", f ,' id(f) :',id(f))\n",
    "    f = f * 3\n",
    "    print(\"After :\", f ,' id(f) :',id(f), end = ' ')\n",
    "\n",
    "func1(foo)"
   ]
  },
  {
   "cell_type": "code",
   "execution_count": 49,
   "id": "57df8938",
   "metadata": {},
   "outputs": [
    {
     "name": "stdout",
     "output_type": "stream",
     "text": [
      "10 id(foo) : 2163912278544\n"
     ]
    }
   ],
   "source": [
    "print(foo, 'id(foo) :', id(foo)) # 값만 전달 하므로, foo 값의 변경은 없다."
   ]
  },
  {
   "cell_type": "markdown",
   "id": "e37bdb02",
   "metadata": {},
   "source": [
    "## 1.5 참조에 의한 호출\n",
    "\n",
    "- 함수의 매개변수(인수, 인자)로 전달되는 변수가 리스트, 튜플, 셋, 딕셔너리, 객체일 경우"
   ]
  },
  {
   "cell_type": "code",
   "execution_count": 25,
   "id": "9ac79f06",
   "metadata": {},
   "outputs": [
    {
     "data": {
      "text/plain": [
       "2164024452672"
      ]
     },
     "execution_count": 25,
     "metadata": {},
     "output_type": "execute_result"
    }
   ],
   "source": [
    "L = [1, 2, 3]\n",
    "id(L)"
   ]
  },
  {
   "cell_type": "code",
   "execution_count": 50,
   "id": "d7f28d2f",
   "metadata": {},
   "outputs": [
    {
     "name": "stdout",
     "output_type": "stream",
     "text": [
      "Before : [1, 2, 3, 4]  id(f) : 2164024452672\n",
      "After : [1, 2, 3, 4, 4]  id(f) : 2164024452672 "
     ]
    }
   ],
   "source": [
    "def func2(f) : # 매개변수 f는 지역변수\n",
    "    print(\"Before :\", f, \" id(f) :\", id(f))\n",
    "    f.append(4)\n",
    "    print(\"After :\", f, \" id(f) :\", id(f), end = ' ')\n",
    "func2(L)"
   ]
  },
  {
   "cell_type": "code",
   "execution_count": 55,
   "id": "c462ad8e",
   "metadata": {},
   "outputs": [
    {
     "name": "stdout",
     "output_type": "stream",
     "text": [
      "L =  [1, 2, 3, 4, 4] 2164024452672\n"
     ]
    }
   ],
   "source": [
    "print('L = ', L, id(L))"
   ]
  },
  {
   "cell_type": "markdown",
   "id": "f0d4ee00",
   "metadata": {},
   "source": [
    "# 2절 함수의 실행결과를 반환하는 return"
   ]
  },
  {
   "cell_type": "code",
   "execution_count": 81,
   "id": "5065b6ae",
   "metadata": {},
   "outputs": [],
   "source": [
    "def add(x, y) :\n",
    "    pass\n",
    "#     return True\n",
    "#     return x + y"
   ]
  },
  {
   "cell_type": "code",
   "execution_count": 84,
   "id": "3f353d7c",
   "metadata": {},
   "outputs": [
    {
     "name": "stdout",
     "output_type": "stream",
     "text": [
      "None\n"
     ]
    }
   ],
   "source": [
    "i = 2; j = 3\n",
    "print(add(i, j))"
   ]
  },
  {
   "cell_type": "code",
   "execution_count": 112,
   "id": "e70cdd82",
   "metadata": {},
   "outputs": [],
   "source": [
    "def fibonacci_print(n):\n",
    "    '''\n",
    "    매개변수로 들어온 n값 미만의 피보나치 수열을 출력\n",
    "    ex. n=10이면, 0 1 1 2 3 5 8 출력\n",
    "    '''\n",
    "    a, b = 0, 1\n",
    "    while a < n:\n",
    "        print(a, end=' ')\n",
    "        a, b = b, a + b\n",
    "    print() # 개행\n",
    "    \n",
    "def fibonacci_return(n):\n",
    "    '''\n",
    "    매개변수로 들어온 n값 미만의 피보나치 수열을 리스트로 return\n",
    "    ex. n=10이면, 0 1 1 2 3 5 8 을 return\n",
    "    '''\n",
    "    result = []\n",
    "    a, b = 0, 1\n",
    "    while a < n :\n",
    "        result.append(a)\n",
    "        a, b = b, a + b\n",
    "    return result"
   ]
  },
  {
   "cell_type": "code",
   "execution_count": 113,
   "id": "f4979a8b",
   "metadata": {},
   "outputs": [
    {
     "name": "stdout",
     "output_type": "stream",
     "text": [
      "0 1 1 2 3 5 8 13 21 34 55 89 \n",
      "None <class 'NoneType'>\n"
     ]
    }
   ],
   "source": [
    "x = fibonacci_print(100)\n",
    "print(x, type(x))"
   ]
  },
  {
   "cell_type": "code",
   "execution_count": 110,
   "id": "f77fc4dd",
   "metadata": {},
   "outputs": [
    {
     "name": "stdout",
     "output_type": "stream",
     "text": [
      "[0, 1, 1, 2, 3, 5, 8, 13, 21, 34, 55, 89] <class 'list'>\n"
     ]
    }
   ],
   "source": [
    "x = fibonacci_return(100)\n",
    "print(x, type(x))"
   ]
  },
  {
   "cell_type": "markdown",
   "id": "6b21cb52",
   "metadata": {},
   "source": [
    "## 2.1 여러개 값 return"
   ]
  },
  {
   "cell_type": "code",
   "execution_count": 114,
   "id": "09dea2eb",
   "metadata": {},
   "outputs": [],
   "source": [
    "def swap(a , b) :\n",
    "    '매개변수의 순서를 바꿔서 return'\n",
    "    return b, a"
   ]
  },
  {
   "cell_type": "code",
   "execution_count": 120,
   "id": "fa2605fd",
   "metadata": {},
   "outputs": [
    {
     "name": "stdout",
     "output_type": "stream",
     "text": [
      "함수 실행 전 x=5,  y =10\n",
      "함수 실행 후 x=10,  y =5\n"
     ]
    }
   ],
   "source": [
    "x, y = 5, 10\n",
    "print(f\"함수 실행 전 x={x},  y ={y}\")\n",
    "\n",
    "x, y = swap(x, y)\n",
    "print(f\"함수 실행 후 x={x},  y ={y}\")"
   ]
  },
  {
   "cell_type": "markdown",
   "id": "29041ae9",
   "metadata": {},
   "source": [
    "# 3절 함수의 매개변수 ★\n",
    "\n",
    "## 3.1 기본값을 갖는 매개변수"
   ]
  },
  {
   "cell_type": "code",
   "execution_count": 141,
   "id": "29689a9e",
   "metadata": {},
   "outputs": [],
   "source": [
    "def make_url(ip, port=80) :\n",
    "# def make_url(port=80, ip) : # 순서 인수(ip) > 기본값을 갖는 매개변수(port)\n",
    "    return \"http://{}:{}\".format(ip, port)"
   ]
  },
  {
   "cell_type": "code",
   "execution_count": 146,
   "id": "132793fc",
   "metadata": {},
   "outputs": [
    {
     "name": "stdout",
     "output_type": "stream",
     "text": [
      "http://www.naver.com:80\n",
      "http://localhost:8090\n",
      "http://localhost:8090\n"
     ]
    }
   ],
   "source": [
    "print(make_url(\"www.naver.com\"))\n",
    "print(make_url(\"localhost\",8090))\n",
    "print(make_url(port=8090, ip=\"localhost\"))"
   ]
  },
  {
   "cell_type": "markdown",
   "id": "46669fdd",
   "metadata": {},
   "source": [
    "## 3.2 기본변수를 갖는 매개변수\n",
    "\n",
    "- 기본변수가 스칼라 변수일 떄\n",
    "- 기본변수가 리스트, 셋, 딕셔너리 등의 객체일 때"
   ]
  },
  {
   "cell_type": "code",
   "execution_count": 153,
   "id": "e3c59852",
   "metadata": {},
   "outputs": [],
   "source": [
    "i = 5\n",
    "# 기본값을 갖는 변수가 스칼라 변수일 떄 : arg의 기본값은 호출되는 시점의 값\n",
    "def func2(arg=i) :\n",
    "    print(\"arg = \", arg)"
   ]
  },
  {
   "cell_type": "code",
   "execution_count": 155,
   "id": "06c82161",
   "metadata": {},
   "outputs": [
    {
     "name": "stdout",
     "output_type": "stream",
     "text": [
      "arg =  5\n",
      "arg =  50\n"
     ]
    }
   ],
   "source": [
    "i = 50\n",
    "func2()\n",
    "func2(i)"
   ]
  },
  {
   "cell_type": "code",
   "execution_count": 165,
   "id": "f1781b80",
   "metadata": {},
   "outputs": [],
   "source": [
    "list_ = []\n",
    "# 기본값을 갖는 변수가 객체(데이터구조) 일 떄 : arg의 기본값은 실행되는 시점\n",
    "def func3(data, L=list_) :\n",
    "    'data를 L에 append'\n",
    "    L.append(data)\n",
    "    return L"
   ]
  },
  {
   "cell_type": "code",
   "execution_count": 166,
   "id": "207a8b90",
   "metadata": {},
   "outputs": [
    {
     "name": "stdout",
     "output_type": "stream",
     "text": [
      "[10]\n"
     ]
    }
   ],
   "source": [
    "print(func3(10)) # list_가 수정 : [] -> [10,..........]"
   ]
  },
  {
   "cell_type": "code",
   "execution_count": 168,
   "id": "e2aa61da",
   "metadata": {},
   "outputs": [
    {
     "name": "stdout",
     "output_type": "stream",
     "text": [
      "[10, 20]\n"
     ]
    }
   ],
   "source": [
    "print(func3(20))"
   ]
  },
  {
   "cell_type": "code",
   "execution_count": 169,
   "id": "f3f7b7fd",
   "metadata": {},
   "outputs": [
    {
     "data": {
      "text/plain": [
       "[10, 20]"
      ]
     },
     "execution_count": 169,
     "metadata": {},
     "output_type": "execute_result"
    }
   ],
   "source": [
    "list_"
   ]
  },
  {
   "cell_type": "code",
   "execution_count": 170,
   "id": "a7b1fa16",
   "metadata": {},
   "outputs": [],
   "source": [
    "def func4(data, L=None) :\n",
    "    if L == None:\n",
    "        L = []\n",
    "    L.append(data)\n",
    "    return L"
   ]
  },
  {
   "cell_type": "code",
   "execution_count": 171,
   "id": "d3d21d78",
   "metadata": {},
   "outputs": [
    {
     "name": "stdout",
     "output_type": "stream",
     "text": [
      "[10]\n",
      "[10, 20, 10]\n"
     ]
    }
   ],
   "source": [
    "print(func4(10))\n",
    "print(func4(10, list_))"
   ]
  },
  {
   "cell_type": "markdown",
   "id": "6b70c6f7",
   "metadata": {},
   "source": [
    "## 3.3 튜플 매개변수를 이용한 가변인수(자) 설정\n",
    "### ※ *aggs"
   ]
  },
  {
   "cell_type": "code",
   "execution_count": 175,
   "id": "ae0d58b5",
   "metadata": {},
   "outputs": [],
   "source": [
    "# 파이썬은 오버로딩(함수의 중복)을 지원하지 않습니다.\n",
    "def add(a, b):\n",
    "    return a+b\n",
    "\n",
    "def add(a, b, c):\n",
    "    return a+b+c"
   ]
  },
  {
   "cell_type": "code",
   "execution_count": 176,
   "id": "2274251a",
   "metadata": {},
   "outputs": [
    {
     "ename": "TypeError",
     "evalue": "add() takes 3 positional arguments but 4 were given",
     "output_type": "error",
     "traceback": [
      "\u001b[1;31m---------------------------------------------------------------------------\u001b[0m",
      "\u001b[1;31mTypeError\u001b[0m                                 Traceback (most recent call last)",
      "Cell \u001b[1;32mIn[176], line 1\u001b[0m\n\u001b[1;32m----> 1\u001b[0m \u001b[43madd\u001b[49m\u001b[43m(\u001b[49m\u001b[38;5;241;43m1\u001b[39;49m\u001b[43m,\u001b[49m\u001b[43m \u001b[49m\u001b[38;5;241;43m2\u001b[39;49m\u001b[43m,\u001b[49m\u001b[43m \u001b[49m\u001b[38;5;241;43m3\u001b[39;49m\u001b[43m,\u001b[49m\u001b[43m \u001b[49m\u001b[38;5;241;43m4\u001b[39;49m\u001b[43m)\u001b[49m\n",
      "\u001b[1;31mTypeError\u001b[0m: add() takes 3 positional arguments but 4 were given"
     ]
    }
   ],
   "source": [
    "add(1, 2, 3, 4)"
   ]
  },
  {
   "cell_type": "code",
   "execution_count": 190,
   "id": "6b54537d",
   "metadata": {},
   "outputs": [],
   "source": [
    "# *args : 매개변수들을 하나의 튜플 변수 args로 전달받음\n",
    "def add(*args):\n",
    "    '전달받은 매개변수들의 합을 return'\n",
    "    # print(args)\n",
    "    result_tot = 0 # 누적변수\n",
    "    for data in args:\n",
    "        result_tot += data\n",
    "    return result_tot"
   ]
  },
  {
   "cell_type": "code",
   "execution_count": 193,
   "id": "26a59630",
   "metadata": {},
   "outputs": [
    {
     "name": "stdout",
     "output_type": "stream",
     "text": [
      "1\n",
      "3\n",
      "6\n",
      "10\n",
      "25\n"
     ]
    }
   ],
   "source": [
    "print(add(1))\n",
    "print(add(1,  2))\n",
    "print(add(1, 2, 3))\n",
    "print(add(1, 2, 3 ,4))\n",
    "print(add(1, 2, 3 ,4, 5, 10))"
   ]
  },
  {
   "cell_type": "code",
   "execution_count": 195,
   "id": "8f727409",
   "metadata": {},
   "outputs": [
    {
     "data": {
      "text/plain": [
       "'Python/Oracle/DL/ML'"
      ]
     },
     "execution_count": 195,
     "metadata": {},
     "output_type": "execute_result"
    }
   ],
   "source": [
    "subject = ('Python', 'Oracle', 'DL', 'ML')\n",
    "\"/\".join(subject)"
   ]
  },
  {
   "cell_type": "code",
   "execution_count": 311,
   "id": "d539aa6a",
   "metadata": {},
   "outputs": [],
   "source": [
    "def concat(*subject, sep) :\n",
    "    return sep.join(subject)"
   ]
  },
  {
   "cell_type": "code",
   "execution_count": 312,
   "id": "e3449a1b",
   "metadata": {},
   "outputs": [
    {
     "ename": "TypeError",
     "evalue": "concat() missing 1 required keyword-only argument: 'sep'",
     "output_type": "error",
     "traceback": [
      "\u001b[1;31m---------------------------------------------------------------------------\u001b[0m",
      "\u001b[1;31mTypeError\u001b[0m                                 Traceback (most recent call last)",
      "Cell \u001b[1;32mIn[312], line 1\u001b[0m\n\u001b[1;32m----> 1\u001b[0m \u001b[43mconcat\u001b[49m\u001b[43m(\u001b[49m\u001b[38;5;124;43m'\u001b[39;49m\u001b[38;5;124;43mPython\u001b[39;49m\u001b[38;5;124;43m'\u001b[39;49m\u001b[43m,\u001b[49m\u001b[43m \u001b[49m\u001b[38;5;124;43m'\u001b[39;49m\u001b[38;5;124;43mOracle\u001b[39;49m\u001b[38;5;124;43m'\u001b[39;49m\u001b[43m,\u001b[49m\u001b[43m \u001b[49m\u001b[38;5;124;43m'\u001b[39;49m\u001b[38;5;124;43mWebstandard\u001b[39;49m\u001b[38;5;124;43m'\u001b[39;49m\u001b[43m,\u001b[49m\u001b[43m \u001b[49m\u001b[38;5;124;43m'\u001b[39;49m\u001b[38;5;124;43mJavascript\u001b[39;49m\u001b[38;5;124;43m'\u001b[39;49m\u001b[43m,\u001b[49m\u001b[43m \u001b[49m\u001b[38;5;124;43m'\u001b[39;49m\u001b[38;5;124;43mDL\u001b[39;49m\u001b[38;5;124;43m'\u001b[39;49m\u001b[43m,\u001b[49m\u001b[43m \u001b[49m\u001b[38;5;124;43m'\u001b[39;49m\u001b[38;5;124;43mML\u001b[39;49m\u001b[38;5;124;43m'\u001b[39;49m\u001b[43m,\u001b[49m\u001b[43m \u001b[49m\u001b[38;5;124;43m'\u001b[39;49m\u001b[38;5;124;43m/\u001b[39;49m\u001b[38;5;124;43m'\u001b[39;49m\u001b[43m)\u001b[49m\n",
      "\u001b[1;31mTypeError\u001b[0m: concat() missing 1 required keyword-only argument: 'sep'"
     ]
    }
   ],
   "source": [
    "concat('Python', 'Oracle', 'Webstandard', 'Javascript', 'DL', 'ML', '/')\n",
    "# => 'Python' / 'Oracle' / 'Webstandard' / 'Javascript' / 'DL' / 'ML'"
   ]
  },
  {
   "cell_type": "markdown",
   "id": "66071f94",
   "metadata": {},
   "source": [
    "### 에러 해결결1 : 매개변수 이름을 지정해서 호출\n"
   ]
  },
  {
   "cell_type": "code",
   "execution_count": 305,
   "id": "17fa06e6",
   "metadata": {},
   "outputs": [
    {
     "data": {
      "text/plain": [
       "'Python / Oracle / Webstandard / Javascript / DL / ML'"
      ]
     },
     "execution_count": 305,
     "metadata": {},
     "output_type": "execute_result"
    }
   ],
   "source": [
    "concat('Python', 'Oracle', 'Webstandard', 'Javascript', 'DL', 'ML', sep= ' / ')"
   ]
  },
  {
   "cell_type": "markdown",
   "id": "772a9395",
   "metadata": {},
   "source": [
    "### 에러 해결책2 : 기본값을 갖는 반드시 갖는 \"키워드인수\" 사용\n"
   ]
  },
  {
   "cell_type": "code",
   "execution_count": 258,
   "id": "b41e3b1d",
   "metadata": {},
   "outputs": [],
   "source": [
    "def concat(*subject, sep=' ~ ') :\n",
    "    return sep.join(subject)"
   ]
  },
  {
   "cell_type": "code",
   "execution_count": 266,
   "id": "4611bbd9",
   "metadata": {},
   "outputs": [
    {
     "data": {
      "text/plain": [
       "'Python / Oracle / Webstandard / Javascript / DL / ML'"
      ]
     },
     "execution_count": 266,
     "metadata": {},
     "output_type": "execute_result"
    }
   ],
   "source": [
    "concat('Python', 'Oracle', 'Webstandard', 'Javascript', 'DL', 'ML', sep=' / ')"
   ]
  },
  {
   "cell_type": "code",
   "execution_count": 267,
   "id": "aab572cc",
   "metadata": {},
   "outputs": [
    {
     "name": "stdout",
     "output_type": "stream",
     "text": [
      "Python / Oracle / Webstandard / Javascript / DL / ML\n"
     ]
    }
   ],
   "source": [
    "print('Python', 'Oracle', 'Webstandard', 'Javascript', 'DL', 'ML', sep=' / ')"
   ]
  },
  {
   "cell_type": "markdown",
   "id": "3b38148e",
   "metadata": {},
   "source": [
    "### 에러 해결책3 : sep을 순서인수로 앞에 선언"
   ]
  },
  {
   "cell_type": "code",
   "execution_count": 323,
   "id": "39fb851e",
   "metadata": {},
   "outputs": [],
   "source": [
    "def concat(sep, *subject) :\n",
    "    return sep.join(subject)"
   ]
  },
  {
   "cell_type": "code",
   "execution_count": 324,
   "id": "0fc25de3",
   "metadata": {},
   "outputs": [
    {
     "data": {
      "text/plain": [
       "'Python/Oracle/Webstandard/Javascript/DL/ML'"
      ]
     },
     "execution_count": 324,
     "metadata": {},
     "output_type": "execute_result"
    }
   ],
   "source": [
    "concat('/', 'Python', 'Oracle', 'Webstandard', 'Javascript', 'DL', 'ML')"
   ]
  },
  {
   "cell_type": "markdown",
   "id": "348139b2",
   "metadata": {},
   "source": [
    "## 3.4 딕셔너리 매개변수\n",
    "\n",
    "- 여러 개의 키워드인수를 딕셔너리 형태로 받아서, 가변키워드 인수 처리"
   ]
  },
  {
   "cell_type": "code",
   "execution_count": 407,
   "id": "ff1da5b3",
   "metadata": {},
   "outputs": [],
   "source": [
    "def func5(**kwargs):\n",
    "    print(kwargs)\n",
    "    print(type(kwargs))\n",
    "    print(\"이름 :\", kwargs.get(\"name\",\"대마왕\"))\n",
    "    print(\"나이 :\", kwargs.get(\"age\",30))\n",
    "    print(\"주소 :\", kwargs.get(\"address\",'서울'))\n",
    "    \n",
    "    for item in kwargs.values():\n",
    "        print(item)"
   ]
  },
  {
   "cell_type": "code",
   "execution_count": 414,
   "id": "a44b3dd6",
   "metadata": {},
   "outputs": [
    {
     "name": "stdout",
     "output_type": "stream",
     "text": [
      "{'name': '홍길동', 'age': 30, 'address': '신림동'}\n",
      "<class 'dict'>\n",
      "이름 : 홍길동\n",
      "나이 : 30\n",
      "주소 : 신림동\n",
      "홍길동\n",
      "30\n",
      "신림동\n"
     ]
    }
   ],
   "source": [
    "func5(name=\"홍길동\", age=30, address='신림동')"
   ]
  },
  {
   "cell_type": "code",
   "execution_count": 365,
   "id": "abaf9e01",
   "metadata": {},
   "outputs": [
    {
     "name": "stdout",
     "output_type": "stream",
     "text": [
      "{'name': '김길동'}\n",
      "<class 'dict'>\n",
      "이름 : 김길동\n",
      "나이 : 30\n",
      "주소 : 서울\n"
     ]
    }
   ],
   "source": [
    "func5(name='김길동')"
   ]
  },
  {
   "cell_type": "markdown",
   "id": "3e4a9c00",
   "metadata": {},
   "source": [
    "## 3.5 함수정의시 매개변수 순서\n",
    "- 순서인수 > 튜플매개변수(*) > 키워드인수(매개변수이름반드시명시) > 딕셔너리매개변수(**)"
   ]
  },
  {
   "cell_type": "code",
   "execution_count": 415,
   "id": "cd414128",
   "metadata": {},
   "outputs": [],
   "source": [
    "def func6(a, b, *c, **d) :\n",
    "    print(\"순서인수 a : \", a)\n",
    "    print(\"순서인수 b : \", b)\n",
    "    print(\"튜플인수 c : \", c)\n",
    "    print(\"딕셔너리 인수 d : \", d)"
   ]
  },
  {
   "cell_type": "code",
   "execution_count": 416,
   "id": "cbe8a3eb",
   "metadata": {},
   "outputs": [
    {
     "name": "stdout",
     "output_type": "stream",
     "text": [
      "순서인수 a :  10\n",
      "순서인수 b :  20\n",
      "튜플인수 c :  (1, 2, 3, 4, 5, 6, 7, 8, 9)\n",
      "딕셔너리 인수 d :  {'name': '홍길동', 'age': 30, 'address': '서울'}\n"
     ]
    }
   ],
   "source": [
    "func6(10, 20, 1, 2, 3, 4, 5, 6, 7, 8, 9, name=\"홍길동\", age=30, address='서울')"
   ]
  },
  {
   "cell_type": "code",
   "execution_count": 439,
   "id": "e28d91ac",
   "metadata": {},
   "outputs": [],
   "source": [
    "def func7(a, b, *c, d='기본값', **e):\n",
    "    print(\"순서인수 a : \", a)\n",
    "    print(\"순서인수 b : \", b)\n",
    "    print(\"튜플인수 c : \", c)\n",
    "    print(\"키워드인수(기본값을 갖는 인수, 호출시 매개변수 이름 반드시 명시) d : \", d)\n",
    "    print(\"딕셔너리 인수 e : \", e)"
   ]
  },
  {
   "cell_type": "code",
   "execution_count": 446,
   "id": "221c6450",
   "metadata": {},
   "outputs": [
    {
     "name": "stdout",
     "output_type": "stream",
     "text": [
      "순서인수 a :  10\n",
      "순서인수 b :  20\n",
      "튜플인수 c :  (1, 2, 3, 4, 5, 6, 7, 8, 9)\n",
      "키워드인수(기본값을 갖는 인수, 호출시 매개변수 이름 반드시 명시) d :  딴거\n",
      "딕셔너리 인수 e :  {'fontsize': 12, 'fontfamily': 'cibsika'}\n",
      "-------------------------------------------------------------------------------\n",
      "순서인수 a :  10\n",
      "순서인수 b :  20\n",
      "튜플인수 c :  (1, 2, 3, 4, 5, 6, 7, 8, 9)\n",
      "키워드인수(기본값을 갖는 인수, 호출시 매개변수 이름 반드시 명시) d :  기본값\n",
      "딕셔너리 인수 e :  {'fontsize': 12, 'fontfamily': 'cibsika'}\n"
     ]
    }
   ],
   "source": [
    "func7(10, 20, 1, 2, 3, 4, 5, 6, 7, 8, 9, d='딴거', fontsize=12, fontfamily='cibsika')\n",
    "print('-------------------------------------------------------------------------------')\n",
    "func7(10, 20, 1, 2, 3, 4, 5, 6, 7, 8, 9, fontsize=12, fontfamily='cibsika')"
   ]
  },
  {
   "cell_type": "markdown",
   "id": "14be67ff",
   "metadata": {},
   "source": [
    "## 3.6 인수의 언패킹\n",
    "\n",
    "### 튜플인수 언패킹\n",
    "#### ※ *\n",
    "- 튜플인수 언패킹 : 함수 호출시 매개변수앞에 * 붙임\n",
    "- 튜플인수 패킹 : 함수 정의시 매개변수 앞에 * 붙임 (튜플매개변수)"
   ]
  },
  {
   "cell_type": "code",
   "execution_count": 584,
   "id": "61f63971",
   "metadata": {
    "ExecuteTime": {
     "end_time": "2025-04-17T00:26:50.679241Z",
     "start_time": "2025-04-17T00:26:50.663355Z"
    }
   },
   "outputs": [],
   "source": [
    "def add(*args) :\n",
    "    print(args)\n",
    "    tot = 0\n",
    "    \n",
    "    for num in args:\n",
    "        tot += num\n",
    "        \n",
    "    return tot"
   ]
  },
  {
   "cell_type": "code",
   "execution_count": 473,
   "id": "d1338b60",
   "metadata": {},
   "outputs": [
    {
     "name": "stdout",
     "output_type": "stream",
     "text": [
      "(1, 2)\n",
      "3\n",
      "(1, 2, 3, 4)\n",
      "10\n",
      "(1, 2, 3, 4, 5)\n",
      "15\n"
     ]
    }
   ],
   "source": [
    "print(add(1,2))\n",
    "print(add(1, 2, 3, 4))\n",
    "print(add(1, 2, 3, 4, 5))"
   ]
  },
  {
   "cell_type": "code",
   "execution_count": 475,
   "id": "089f8309",
   "metadata": {},
   "outputs": [
    {
     "name": "stdout",
     "output_type": "stream",
     "text": [
      "(1, 2, 3, 4)\n"
     ]
    },
    {
     "data": {
      "text/plain": [
       "10"
      ]
     },
     "execution_count": 475,
     "metadata": {},
     "output_type": "execute_result"
    }
   ],
   "source": [
    "numbers = [1, 2, 3, 4]\n",
    "add(*numbers) # 언패킹"
   ]
  },
  {
   "cell_type": "code",
   "execution_count": 477,
   "id": "349bc1a4",
   "metadata": {},
   "outputs": [
    {
     "name": "stdout",
     "output_type": "stream",
     "text": [
      "(1, 2, 3, 4)\n"
     ]
    },
    {
     "data": {
      "text/plain": [
       "10"
      ]
     },
     "execution_count": 477,
     "metadata": {},
     "output_type": "execute_result"
    }
   ],
   "source": [
    "numbers = (1, 2, 3, 4)\n",
    "add(*numbers) # 언패킹"
   ]
  },
  {
   "cell_type": "markdown",
   "id": "0e9ed42c",
   "metadata": {},
   "source": [
    "### 딕셔너리 언패킹\n",
    "\n",
    "#### ※ **\n",
    "- 딕셔너리 언패킹 : 함수 호출시 매개변수앞에 ** 붙임\n",
    "- 딕셔너리 패킹 : 함수 정의시 매개변수 앞에 ** 붙임 (딕셔너리 매개변수)"
   ]
  },
  {
   "cell_type": "code",
   "execution_count": 482,
   "id": "a9755d30",
   "metadata": {},
   "outputs": [],
   "source": [
    "def func5(**data):\n",
    "    print(data)\n",
    "    print(type(data))\n",
    "    for key, item in data.items():\n",
    "        print(f\"{key} : {item}\")"
   ]
  },
  {
   "cell_type": "code",
   "execution_count": 486,
   "id": "5ea7353a",
   "metadata": {},
   "outputs": [
    {
     "name": "stdout",
     "output_type": "stream",
     "text": [
      "{'name': '홍길동', 'age': 30, 'address': '신림'}\n",
      "<class 'dict'>\n",
      "name : 홍길동\n",
      "age : 30\n",
      "address : 신림\n"
     ]
    }
   ],
   "source": [
    "func5(name = \"홍길동\", age = 30, address ='신림')"
   ]
  },
  {
   "cell_type": "code",
   "execution_count": 485,
   "id": "30166945",
   "metadata": {},
   "outputs": [
    {
     "name": "stdout",
     "output_type": "stream",
     "text": [
      "{'name': '홍길동', 'age': 30, 'address': '서울시 강남구', 'score': 900}\n",
      "<class 'dict'>\n",
      "name : 홍길동\n",
      "age : 30\n",
      "address : 서울시 강남구\n",
      "score : 900\n"
     ]
    }
   ],
   "source": [
    "customIno = {'name' : '홍길동', 'age' : 30, 'address' : '서울시 강남구', 'score' : 900}\n",
    "func5(**customIno)"
   ]
  },
  {
   "cell_type": "markdown",
   "id": "f5782c65",
   "metadata": {},
   "source": [
    "# 4절 람다식 (lambda)\n",
    "\n",
    "- return 한 줄짜리 작은 익명 함수\n",
    "\n",
    "## 4.1 람다식 연습"
   ]
  },
  {
   "cell_type": "code",
   "execution_count": 495,
   "id": "657095e5",
   "metadata": {},
   "outputs": [
    {
     "data": {
      "text/plain": [
       "7"
      ]
     },
     "execution_count": 495,
     "metadata": {},
     "output_type": "execute_result"
    }
   ],
   "source": [
    "def add(a, b):\n",
    "    return a + b\n",
    "add(3, 4)"
   ]
  },
  {
   "cell_type": "code",
   "execution_count": 496,
   "id": "cc4ee4d2",
   "metadata": {},
   "outputs": [
    {
     "data": {
      "text/plain": [
       "7"
      ]
     },
     "execution_count": 496,
     "metadata": {},
     "output_type": "execute_result"
    }
   ],
   "source": [
    "add2 = lambda a, b: a + b\n",
    "add2(3, 4)"
   ]
  },
  {
   "cell_type": "code",
   "execution_count": 498,
   "id": "a30b02f1",
   "metadata": {},
   "outputs": [
    {
     "name": "stdout",
     "output_type": "stream",
     "text": [
      "add : <class 'function'>\n",
      "add2 : <class 'function'>\n"
     ]
    }
   ],
   "source": [
    "print(f\"add :\", type(add))\n",
    "print(f\"add2 :\", type(add2))"
   ]
  },
  {
   "cell_type": "code",
   "execution_count": 506,
   "id": "5e08cd87",
   "metadata": {},
   "outputs": [
    {
     "data": {
      "text/plain": [
       "7"
      ]
     },
     "execution_count": 506,
     "metadata": {},
     "output_type": "execute_result"
    }
   ],
   "source": [
    "(lambda a, b : a+b) (3, 4)"
   ]
  },
  {
   "cell_type": "code",
   "execution_count": 519,
   "id": "c56754d0",
   "metadata": {},
   "outputs": [
    {
     "name": "stdout",
     "output_type": "stream",
     "text": [
      "func :  짝수\n",
      "lambda :  홀수\n"
     ]
    }
   ],
   "source": [
    "# ex1. 매개변수로 들어온 값이 짝수인지 홀수인지 return\n",
    "def ex1(num):\n",
    "#     if num % 2:\n",
    "#         result = \"홀수\"\n",
    "#     else:\n",
    "#         result = \"짝수\"        \n",
    "    return \"홀수\" if num % 2 else \"짝수\"\n",
    "print(\"func : \", ex1(2))\n",
    "\n",
    "lambda_ex1 = lambda num : \"홀수\" if num % 2 else \"짝수\"\n",
    "print(\"lambda : \", lambda_ex1(1))"
   ]
  },
  {
   "cell_type": "code",
   "execution_count": 556,
   "id": "faa106f6",
   "metadata": {},
   "outputs": [
    {
     "name": "stdout",
     "output_type": "stream",
     "text": [
      "5\n",
      "5\n",
      "func : 1 10\n",
      "lambda : 1 10\n"
     ]
    }
   ],
   "source": [
    "# ex2. 두 매개변수의 차이를 return\n",
    "lambda_ex2 = lambda num1, num2 : num1-num2 if num1 > num2 else num2-num1\n",
    "print(lambda_ex2(10,5))\n",
    "print(lambda_ex2(5,10))\n",
    "\n",
    "# 문제풀이\n",
    "def diff(a, b):\n",
    "#     if a >b :\n",
    "#         result = a - b\n",
    "#     else :\n",
    "#         result = b - a\n",
    "    result =a-b if a > b else b - a\n",
    "    return result\n",
    "\n",
    "print(\"func :\", diff(2, 1), diff(10,20))\n",
    "\n",
    "exam2 = lambda a, b : a - b if a > b else b - a\n",
    "print(\"lambda :\", exam2(2,1), exam2(10,20))"
   ]
  },
  {
   "cell_type": "code",
   "execution_count": 583,
   "id": "be7851a2",
   "metadata": {
    "ExecuteTime": {
     "end_time": "2025-04-17T00:25:32.847240Z",
     "start_time": "2025-04-17T00:25:32.828545Z"
    }
   },
   "outputs": [
    {
     "name": "stdout",
     "output_type": "stream",
     "text": [
      "1000\n",
      "negative\n"
     ]
    }
   ],
   "source": [
    "# ex3. 매개변수로 잔액을 받아 양수면 잔액을 return, 음수면 \"negative\" 를 return\n",
    "#문제풀이\n",
    "ex3 = lambda money: money if money >= 0 else \"negative\"\n",
    "\n",
    "print(ex3(1000))\n",
    "print(ex3(-100))"
   ]
  },
  {
   "cell_type": "code",
   "execution_count": 581,
   "id": "87169e17",
   "metadata": {
    "ExecuteTime": {
     "end_time": "2025-04-17T00:25:08.164220Z",
     "start_time": "2025-04-17T00:25:08.145608Z"
    }
   },
   "outputs": [
    {
     "name": "stdout",
     "output_type": "stream",
     "text": [
      "유효하지 않음\n",
      "A팀\n",
      "B팀\n",
      "재시험\n"
     ]
    }
   ],
   "source": [
    "# ex4. 정수를 입력받아 점수가 80점 이상은 \"A\"팀, 60점 이상은 \"B\"팀, 60점 미만은 \"재시험\" 그외는 유효하지 않음\n",
    "\n",
    "# score = int(input(\"점수를 입력해 주세요 : \"))\n",
    "\n",
    "# lambda_ex4 = lambda score : \"A팀\" if 80<= score <=100 else \"B팀\" elif 80< score <=60  else \"유효하지 않음\"\n",
    "# print(lambda_ex4(score))\n",
    "\n",
    "# 문제풀이\n",
    "ex4 = lambda score : \"A팀\" if 80<= score <=100  else \\\n",
    "                     \"B팀\" if 60<= score <80 else \\\n",
    "                     \"재시험\"  if 0<= score <60 else \\\n",
    "                     \"유효하지 않음\"\n",
    "\n",
    "print(ex4(120))\n",
    "print(ex4(90))\n",
    "print(ex4(70))\n",
    "print(ex4(50))"
   ]
  },
  {
   "cell_type": "code",
   "execution_count": 565,
   "id": "03d127f7",
   "metadata": {},
   "outputs": [
    {
     "name": "stdout",
     "output_type": "stream",
     "text": [
      "func : 4\n",
      "lambda : 4\n"
     ]
    },
    {
     "data": {
      "text/plain": [
       "(-1, 1)"
      ]
     },
     "execution_count": 565,
     "metadata": {},
     "output_type": "execute_result"
    }
   ],
   "source": [
    "# ex5. safe_index\n",
    "def safe_index(vector, data):\n",
    "    if data in vector:\n",
    "        return vector.index(data)\n",
    "    else:\n",
    "        retutn - 1\n",
    "\n",
    "\n",
    "lambda_ex5 = lambda lst, data: lst.index(data) if data in lst else -1\n",
    "\n",
    "print(\"func :\", safe_index([1, 2, 3, 4, 5], 5))\n",
    "print(\"lambda :\", lambda_ex5([1, 2, 3, 4, 5], 5))\n",
    "\n",
    "# 문제풀이\n",
    "ex5 = lambda vector, data: vector.index(data) if data in vector else -1\n",
    "tup = (1, 2, 3)\n",
    "\n",
    "ex5(tup, 4), ex5(tup, 2)"
   ]
  },
  {
   "cell_type": "markdown",
   "id": "a3b59cf2",
   "metadata": {},
   "source": [
    "### ※ 파이썬 개발 허들\n",
    "\n",
    "- 5절 함수 (lambda)\n",
    "- 11절 데이터프레임과 시리즈\n",
    "- 12절 데이터 시각화"
   ]
  },
  {
   "cell_type": "markdown",
   "id": "ea0a989e",
   "metadata": {},
   "source": [
    "## 4.2 함수의 매개변수에 람다식 이용\n",
    "```\n",
    "def map_t ( fun (람다식), data ):\n",
    "    명령어\n",
    "```    \n",
    "\n",
    "### (1)  map"
   ]
  },
  {
   "cell_type": "code",
   "execution_count": 591,
   "id": "731f6ec7",
   "metadata": {
    "ExecuteTime": {
     "end_time": "2025-04-17T01:01:30.913846Z",
     "start_time": "2025-04-17T01:01:30.897357Z"
    }
   },
   "outputs": [],
   "source": [
    "# def map_template(func, L=[1, 2, 3]) :\n",
    "def map_template(func, L=[]):\n",
    "    '''\n",
    "    L의 모든 요소를 func() 함수를 적용시켜 return\n",
    "    [2, 4, 6]\n",
    "    [func(l) for l in L]\n",
    "    '''\n",
    "    result = []\n",
    "    for l in L:\n",
    "        result.append(func(l))\n",
    "    return result\n",
    "\n",
    "\n",
    "#     return [func(l) for l in L ]"
   ]
  },
  {
   "cell_type": "code",
   "execution_count": 592,
   "id": "aef67995",
   "metadata": {
    "ExecuteTime": {
     "end_time": "2025-04-17T01:01:32.266714Z",
     "start_time": "2025-04-17T01:01:32.253089Z"
    }
   },
   "outputs": [
    {
     "data": {
      "text/plain": [
       "[2, 4, 6, 8, 10, 12, 14, 16, 18, 20]"
      ]
     },
     "execution_count": 592,
     "metadata": {},
     "output_type": "execute_result"
    }
   ],
   "source": [
    "# 리스트 데이터를 가공 방법 1.map_template\n",
    "\n",
    "list_data = [1, 2, 3, 4, 5, 6, 7, 8, 9, 10]\n",
    "\n",
    "# 1번 함수 방식 (없어보임)\n",
    "# def x_2(x):\n",
    "#     return x * 2\n",
    "\n",
    "# map_template(x_2, list_data)\n",
    "\n",
    "# 2번 lambda (최신)\n",
    "map_template(lambda x: x * 2, list_data)"
   ]
  },
  {
   "cell_type": "code",
   "execution_count": 593,
   "id": "9c6fafe9",
   "metadata": {
    "ExecuteTime": {
     "end_time": "2025-04-17T01:03:29.906310Z",
     "start_time": "2025-04-17T01:03:29.894153Z"
    }
   },
   "outputs": [
    {
     "data": {
      "text/plain": [
       "[2, 4, 6, 8, 10, 12, 14, 16, 18, 20]"
      ]
     },
     "execution_count": 593,
     "metadata": {},
     "output_type": "execute_result"
    }
   ],
   "source": [
    "# 리스트 데이터를 가공 방법 2. 리스트 컴프리헨션\n",
    "[l * 2 for l in list_data]"
   ]
  },
  {
   "cell_type": "code",
   "execution_count": 597,
   "id": "8a023120",
   "metadata": {
    "ExecuteTime": {
     "end_time": "2025-04-17T01:08:27.611617Z",
     "start_time": "2025-04-17T01:08:27.588932Z"
    }
   },
   "outputs": [
    {
     "data": {
      "text/plain": [
       "[2, 4, 6, 8, 10, 12, 14, 16, 18, 20]"
      ]
     },
     "execution_count": 597,
     "metadata": {},
     "output_type": "execute_result"
    }
   ],
   "source": [
    "# 리스트 데이터를 가공 방법 3. map() : 파이썬 내장함수\n",
    "list(map(lambda x : x * 2, list_data))"
   ]
  },
  {
   "cell_type": "code",
   "execution_count": 599,
   "id": "61252a3a",
   "metadata": {
    "ExecuteTime": {
     "end_time": "2025-04-17T01:09:09.905062Z",
     "start_time": "2025-04-17T01:09:09.893145Z"
    }
   },
   "outputs": [
    {
     "name": "stdout",
     "output_type": "stream",
     "text": [
      "2 4 6 8 10 12 14 16 18 20 "
     ]
    }
   ],
   "source": [
    "for item in map(lambda x : x * 2, list_data):\n",
    "    print(item, end=\" \")"
   ]
  },
  {
   "cell_type": "markdown",
   "id": "784a749b",
   "metadata": {},
   "source": [
    "#### 연습문제"
   ]
  },
  {
   "cell_type": "code",
   "execution_count": null,
   "id": "7d7701f6",
   "metadata": {},
   "outputs": [],
   "source": []
  },
  {
   "cell_type": "code",
   "execution_count": 646,
   "id": "4930f356",
   "metadata": {
    "ExecuteTime": {
     "end_time": "2025-04-17T01:39:08.726141Z",
     "start_time": "2025-04-17T01:39:08.704449Z"
    }
   },
   "outputs": [
    {
     "data": {
      "text/plain": [
       "[5000, 800, 1000, 6000]"
      ]
     },
     "execution_count": 646,
     "metadata": {},
     "output_type": "execute_result"
    }
   ],
   "source": [
    "# 예제 1\n",
    "# ['5000','800','1000','6000']로 바꾸시요\n",
    "price = ['5,000', '800', '1000', '6,000']\n",
    "\n",
    "# [item.replace(\",\",\"\") for item in price]\n",
    "\n",
    "\n",
    "# 문제풀이\n",
    "def func(x):\n",
    "    return int(x.replace(\",\", \"\"))\n",
    "\n",
    "\n",
    "func(\"5,000\"), func(\"1800\")\n",
    "\n",
    "list(map(lambda x: int(x.replace(\",\", \"\")), price))"
   ]
  },
  {
   "cell_type": "code",
   "execution_count": 829,
   "id": "5544f447",
   "metadata": {
    "ExecuteTime": {
     "end_time": "2025-04-17T02:55:25.267030Z",
     "start_time": "2025-04-17T02:55:25.250589Z"
    }
   },
   "outputs": [
    {
     "name": "stdout",
     "output_type": "stream",
     "text": [
      "[{'name': '홍길동', 'year': 2000, 'month': 1, 'day': 1}, {'name': '신길동', 'year': 1998, 'month': 12, 'day': 31}]\n"
     ]
    }
   ],
   "source": [
    "# 예제 2\n",
    "# member1 = [{'name':'홍길동', 'birth':'2000-01-01'},{'name':'신길동', 'birth':'1998-12-31'}]\n",
    "# member2 = [{'name':'홍길동', 'year':'2000', 'month':'01', 'day'='01'},{'name':'신길동', 'year':'1998', 'month':'12', 'day'='31'}]\n",
    "\n",
    "# 문제풀이\n",
    "\n",
    "member1 = [{\n",
    "    'name': '홍길동',\n",
    "    'birth': '2000-01-01'\n",
    "}, {\n",
    "    'name': '신길동',\n",
    "    'birth': '1998-12-31'\n",
    "}]\n",
    "\n",
    "\n",
    "# 일자 나누기\n",
    "# '2000-01-01' =>{'year':'2000', 'month':'01', 'day'='01'}\n",
    "def split_date(date):\n",
    "    split_data = date.split(\"-\")\n",
    "    print(split_data[0], split_data[1], split_data[2])\n",
    "    return {\n",
    "        'year': int(split_data[0]),\n",
    "        'month': int(split_data[1]),\n",
    "        \"day\": int(split_data[2])\n",
    "    }\n",
    "\n",
    "\n",
    "# split_date(\"2000-01-01\")\n",
    "\n",
    "\n",
    "# 멤버 데이터 가져오기 함수\n",
    "def member_func(member):  # {'name':'홍길동', 'birth':'2000-01-01'}\n",
    "    \"{'name':'홍길동', 'year':'2000', 'month':'01', 'day'='01'} 식으로 return\"\n",
    "\n",
    "    return {\n",
    "        'name': member.get('name'),\n",
    "        'year': int(member.get('birth').split('-')[0]),\n",
    "        'month': int(member.get('birth').split('-')[1]),\n",
    "        'day': int(member.get('birth').split('-')[2])\n",
    "    }\n",
    "\n",
    "\n",
    "member_func(member1[0])\n",
    "\n",
    "member2 = list(\n",
    "    map(\n",
    "        lambda member: {\n",
    "            'name': member.get('name'),\n",
    "            'year': int(member.get('birth').split('-')[0]),\n",
    "            'month': int(member.get('birth').split('-')[1]),\n",
    "            'day': int(member.get('birth').split('-')[2])\n",
    "        }, member1))\n",
    "\n",
    "print(member2)"
   ]
  },
  {
   "cell_type": "code",
   "execution_count": 803,
   "id": "236d4c8f",
   "metadata": {
    "ExecuteTime": {
     "end_time": "2025-04-17T02:36:31.408604Z",
     "start_time": "2025-04-17T02:36:31.395648Z"
    }
   },
   "outputs": [
    {
     "data": {
      "text/plain": [
       "[{'name': '홍길동', 'birth': '2000-01-01'},\n",
       " {'name': '신길동', 'birth': '1998-12-31'}]"
      ]
     },
     "execution_count": 803,
     "metadata": {},
     "output_type": "execute_result"
    }
   ],
   "source": [
    "# 예제 3\n",
    "# member2를 member1 로 바꿉니다.\n",
    "import datetime\n",
    "\n",
    "\n",
    "def member_join_func(member):\n",
    "    return {\n",
    "        'name':\n",
    "        member.get('name'),\n",
    "        'birth':\n",
    "        \"{}\".format(\n",
    "            datetime.datetime(member.get('year'), member.get('month'),\n",
    "                              member.get('day')).strftime('%Y-%m-%d'))\n",
    "    }\n",
    "\n",
    "\n",
    "# member2[0]\n",
    "# member_join_func(member2[0])\n",
    "\n",
    "list(\n",
    "    map(\n",
    "        lambda member2: {\n",
    "            'name':\n",
    "            member2.get('name'),\n",
    "            'birth':\n",
    "            \"{}\".format(\n",
    "                datetime.datetime(member2.get('year'), member2.get('month'),\n",
    "                                  member2.get('day')).strftime('%Y-%m-%d'))\n",
    "        }, member2))"
   ]
  },
  {
   "cell_type": "code",
   "execution_count": 810,
   "id": "e35ee647",
   "metadata": {
    "ExecuteTime": {
     "end_time": "2025-04-17T02:41:06.748285Z",
     "start_time": "2025-04-17T02:41:06.724173Z"
    }
   },
   "outputs": [
    {
     "data": {
      "text/plain": [
       "'2000-01-01'"
      ]
     },
     "execution_count": 810,
     "metadata": {},
     "output_type": "execute_result"
    }
   ],
   "source": [
    "# 문제풀이\n",
    "\n",
    "\n",
    "def join_date(data):\n",
    "    #    print(data.get('year'), data.get('month'), data.get('day'))\n",
    "    year = str(data.get('year'))\n",
    "\n",
    "    month = data.get('month')\n",
    "\n",
    "    if month < 10:\n",
    "        month = '0' + str(month)\n",
    "    else:\n",
    "        month = str(month)\n",
    "\n",
    "    day = data.get('day')\n",
    "\n",
    "    if day < 10:\n",
    "        day = '0' + str(day)\n",
    "    else:\n",
    "        day = str(day)\n",
    "\n",
    "    return '-'.join([year, month, day])\n",
    "\n",
    "\n",
    "join_date({'year': 2000, 'month': 1, 'day': 1})"
   ]
  },
  {
   "cell_type": "code",
   "execution_count": 811,
   "id": "20d85f96",
   "metadata": {
    "ExecuteTime": {
     "end_time": "2025-04-17T02:47:24.693417Z",
     "start_time": "2025-04-17T02:47:24.679973Z"
    }
   },
   "outputs": [
    {
     "name": "stdout",
     "output_type": "stream",
     "text": [
      "2000-01-01\n"
     ]
    }
   ],
   "source": [
    "def join_date(data):\n",
    "    print (\"{}-{:02}-{:02}\".format(data.get('year'), data.get('month'),data.get('day')))\n",
    "\n",
    "\n",
    "join_date({'year': 2000, 'month': 1, 'day': 1})"
   ]
  },
  {
   "cell_type": "code",
   "execution_count": 812,
   "id": "b3aca1b0",
   "metadata": {
    "ExecuteTime": {
     "end_time": "2025-04-17T02:48:10.913402Z",
     "start_time": "2025-04-17T02:48:10.897811Z"
    }
   },
   "outputs": [
    {
     "name": "stdout",
     "output_type": "stream",
     "text": [
      "2000-01-01\n"
     ]
    }
   ],
   "source": [
    "def join_date(data):\n",
    "    print(\"{year}-{month:02}-{day:02}\".format(year=data.get('year'),\n",
    "                                              month=data.get('month'),\n",
    "                                              day=data.get('day')))\n",
    "\n",
    "\n",
    "join_date({'year': 2000, 'month': 1, 'day': 1})"
   ]
  },
  {
   "cell_type": "code",
   "execution_count": 820,
   "id": "6294fffe",
   "metadata": {
    "ExecuteTime": {
     "end_time": "2025-04-17T02:50:41.829787Z",
     "start_time": "2025-04-17T02:50:41.812262Z"
    }
   },
   "outputs": [
    {
     "data": {
      "text/plain": [
       "'2000-01-01'"
      ]
     },
     "execution_count": 820,
     "metadata": {},
     "output_type": "execute_result"
    }
   ],
   "source": [
    "def join_date(data):\n",
    "    return \"{year}-{month:02}-{day:02}\".format(**data)\n",
    "\n",
    "\n",
    "join_date({'year': 2000, 'month': 1, 'day': 1})"
   ]
  },
  {
   "cell_type": "code",
   "execution_count": 831,
   "id": "fc940451",
   "metadata": {
    "ExecuteTime": {
     "end_time": "2025-04-17T02:55:50.219151Z",
     "start_time": "2025-04-17T02:55:50.205802Z"
    }
   },
   "outputs": [
    {
     "data": {
      "text/plain": [
       "[{'name': '홍길동', 'birth': '2000-01-01'},\n",
       " {'name': '신길동', 'birth': '1998-12-31'}]"
      ]
     },
     "execution_count": 831,
     "metadata": {},
     "output_type": "execute_result"
    }
   ],
   "source": [
    "# member2 = [{'name':'홍길동', 'year':'2000', 'month':'01', 'day'='01'},{'name':'신길동', 'year':'1998', 'month':'12', 'day'='31'}] 를\n",
    "# member1 = [{'name':'홍길동', 'birth':'2000-01-01'},{'name':'신길동', 'birth':'1998-12-31'}] 로 가공\n",
    "\n",
    "list(\n",
    "    map(\n",
    "        lambda member: {\n",
    "            'name': member.get('name'),\n",
    "            'birth': \"{year}-{month:02}-{day:02}\".format(**member)\n",
    "        }, member2))"
   ]
  },
  {
   "cell_type": "markdown",
   "id": "1f1e0477",
   "metadata": {},
   "source": [
    "### (2) filter\n",
    "\n",
    "- map : [1, 2, 3, 4, 5] => [2, 4, 6, 8, 10] (벡터의 모든 데이터를 가공)\n",
    "- filter : [1, 2, 3, 4, 5] => [2, 4] (원하는 정보를 추출)\n",
    "\n",
    "* cf. 리스트 컴프리헨션"
   ]
  },
  {
   "cell_type": "code",
   "execution_count": 833,
   "id": "705c6b1a",
   "metadata": {
    "ExecuteTime": {
     "end_time": "2025-04-17T03:07:07.612328Z",
     "start_time": "2025-04-17T03:07:07.604282Z"
    }
   },
   "outputs": [],
   "source": [
    "def filter_template(func, L=[]):\n",
    "    result = []\n",
    "    for l in L:\n",
    "        if func(l):\n",
    "            result.append(l)\n",
    "    return result"
   ]
  },
  {
   "cell_type": "code",
   "execution_count": 835,
   "id": "8d49610f",
   "metadata": {
    "ExecuteTime": {
     "end_time": "2025-04-17T03:10:11.488297Z",
     "start_time": "2025-04-17T03:10:11.475751Z"
    }
   },
   "outputs": [
    {
     "data": {
      "text/plain": [
       "(True, False)"
      ]
     },
     "execution_count": 835,
     "metadata": {},
     "output_type": "execute_result"
    }
   ],
   "source": [
    "def evenChk(value):\n",
    "    #     True if value % 2 else False\n",
    "    return value % 2 == 0\n",
    "\n",
    "evenChk(10), evenChk(-9)"
   ]
  },
  {
   "cell_type": "code",
   "execution_count": 836,
   "id": "b2f25815",
   "metadata": {
    "ExecuteTime": {
     "end_time": "2025-04-17T03:11:35.406592Z",
     "start_time": "2025-04-17T03:11:35.387286Z"
    }
   },
   "outputs": [
    {
     "data": {
      "text/plain": [
       "[2, 4]"
      ]
     },
     "execution_count": 836,
     "metadata": {},
     "output_type": "execute_result"
    }
   ],
   "source": [
    "list_data = [1,2 ,3, 4, 5]\n",
    "filter_template(lambda value : value % 2 == 0 , list_data)"
   ]
  },
  {
   "cell_type": "code",
   "execution_count": 837,
   "id": "84cef8cd",
   "metadata": {
    "ExecuteTime": {
     "end_time": "2025-04-17T03:12:27.209217Z",
     "start_time": "2025-04-17T03:12:27.199687Z"
    }
   },
   "outputs": [
    {
     "data": {
      "text/plain": [
       "[2, 4]"
      ]
     },
     "execution_count": 837,
     "metadata": {},
     "output_type": "execute_result"
    }
   ],
   "source": [
    "list(filter(lambda value : value % 2 == 0, list_data))"
   ]
  },
  {
   "cell_type": "code",
   "execution_count": 848,
   "id": "8b412b9c",
   "metadata": {
    "ExecuteTime": {
     "end_time": "2025-04-17T03:39:56.629250Z",
     "start_time": "2025-04-17T03:39:56.617391Z"
    }
   },
   "outputs": [
    {
     "data": {
      "text/plain": [
       "[2, 4]"
      ]
     },
     "execution_count": 848,
     "metadata": {},
     "output_type": "execute_result"
    }
   ],
   "source": [
    "[data for data in list_data if data % 2 == 0]"
   ]
  },
  {
   "cell_type": "markdown",
   "id": "af026233",
   "metadata": {},
   "source": [
    "### (3) sort"
   ]
  },
  {
   "cell_type": "code",
   "execution_count": 843,
   "id": "cf437871",
   "metadata": {
    "ExecuteTime": {
     "end_time": "2025-04-17T03:16:59.913173Z",
     "start_time": "2025-04-17T03:16:59.897931Z"
    }
   },
   "outputs": [
    {
     "data": {
      "text/plain": [
       "[9, 7, 2]"
      ]
     },
     "execution_count": 843,
     "metadata": {},
     "output_type": "execute_result"
    }
   ],
   "source": [
    "p = [9, 2, 7]\n",
    "p.sort(reverse=True)\n",
    "p"
   ]
  },
  {
   "cell_type": "code",
   "execution_count": 847,
   "id": "bf7f22e9",
   "metadata": {
    "ExecuteTime": {
     "end_time": "2025-04-17T03:36:03.356773Z",
     "start_time": "2025-04-17T03:36:03.337996Z"
    }
   },
   "outputs": [
    {
     "data": {
      "text/plain": [
       "[(1, 'one'), (2, 'two'), (3, 'three'), (4, 'four')]"
      ]
     },
     "execution_count": 847,
     "metadata": {},
     "output_type": "execute_result"
    }
   ],
   "source": [
    "# 무조건 0번쨰 item 기준으로 정렬\n",
    "pairs = [(2, 'two'), (1, 'one'), (4, 'four'), (3, 'three')]\n",
    "pairs.sort()\n",
    "pairs"
   ]
  },
  {
   "cell_type": "code",
   "execution_count": 852,
   "id": "b63e374d",
   "metadata": {
    "ExecuteTime": {
     "end_time": "2025-04-17T03:41:01.646191Z",
     "start_time": "2025-04-17T03:41:01.631017Z"
    }
   },
   "outputs": [
    {
     "data": {
      "text/plain": [
       "[(4, 'four'), (1, 'one'), (3, 'three'), (2, 'two')]"
      ]
     },
     "execution_count": 852,
     "metadata": {},
     "output_type": "execute_result"
    }
   ],
   "source": [
    "# 1번쨰 item 기준으로 정렬 (abc순)\n",
    "\n",
    "pairs.sort(key=lambda pair: pair[1])\n",
    "pairs"
   ]
  },
  {
   "cell_type": "code",
   "execution_count": 855,
   "id": "e3e986eb",
   "metadata": {
    "ExecuteTime": {
     "end_time": "2025-04-17T03:41:40.369504Z",
     "start_time": "2025-04-17T03:41:40.360210Z"
    }
   },
   "outputs": [
    {
     "data": {
      "text/plain": [
       "[[10, 1], [9, 9, 9, 9, 9, 9], [1, 100]]"
      ]
     },
     "execution_count": 855,
     "metadata": {},
     "output_type": "execute_result"
    }
   ],
   "source": [
    "# 무조건 0번째 item 기준으로 정렬\n",
    "number2d = [[9, 9, 9, 9, 9, 9], [1, 100], [10, 1]]\n",
    "\n",
    "number2d.sort(reverse=True) # 기본 (reverse=False) : 오름차순정렬, (reverse=True) : 내림차순정렬\n",
    "number2d"
   ]
  },
  {
   "cell_type": "code",
   "execution_count": 863,
   "id": "0daf1aed",
   "metadata": {
    "ExecuteTime": {
     "end_time": "2025-04-17T03:52:20.936998Z",
     "start_time": "2025-04-17T03:52:20.913064Z"
    }
   },
   "outputs": [
    {
     "data": {
      "text/plain": [
       "6"
      ]
     },
     "execution_count": 863,
     "metadata": {},
     "output_type": "execute_result"
    }
   ],
   "source": [
    "# 리스트를 매개변수로 받아 합을 return 테스트\n",
    "(lambda item : sum(item))([1,2,3,])"
   ]
  },
  {
   "cell_type": "code",
   "execution_count": 862,
   "id": "13e7f73d",
   "metadata": {
    "ExecuteTime": {
     "end_time": "2025-04-17T03:52:18.413625Z",
     "start_time": "2025-04-17T03:52:18.401034Z"
    }
   },
   "outputs": [
    {
     "data": {
      "text/plain": [
       "[[1, 100], [9, 9, 9, 9, 9, 9], [10, 1]]"
      ]
     },
     "execution_count": 862,
     "metadata": {},
     "output_type": "execute_result"
    }
   ],
   "source": [
    "# 합이 큰 순으로 정렬\n",
    "number2d.sort(key=lambda item : sum(item), reverse=True)\n",
    "number2d"
   ]
  },
  {
   "cell_type": "code",
   "execution_count": 2,
   "id": "4cb2a4ab",
   "metadata": {
    "ExecuteTime": {
     "end_time": "2025-04-17T04:08:10.286696Z",
     "start_time": "2025-04-17T04:08:10.271681Z"
    }
   },
   "outputs": [],
   "source": [
    "students = [{\"name\": \"홍길동\", 'score': 90},{\"name\": \"김길동\", 'score': 50},{\"name\": \"윤길동\", 'score': 99},{'score': 100}]"
   ]
  },
  {
   "cell_type": "code",
   "execution_count": 3,
   "id": "60ec7eb6",
   "metadata": {
    "ExecuteTime": {
     "end_time": "2025-04-17T04:09:14.796955Z",
     "start_time": "2025-04-17T04:09:14.789026Z"
    },
    "code_folding": []
   },
   "outputs": [
    {
     "data": {
      "text/plain": [
       "[{'name': '김길동', 'score': 50},\n",
       " {'name': '윤길동', 'score': 99},\n",
       " {'name': '홍길동', 'score': 90},\n",
       " {'score': 100}]"
      ]
     },
     "execution_count": 3,
     "metadata": {},
     "output_type": "execute_result"
    }
   ],
   "source": [
    "# 이름순으로 정렬(ㄱ, ㄴ, ㄷ순)\n",
    "students.sort(key = lambda item : item.get('name','힝'))\n",
    "students"
   ]
  },
  {
   "cell_type": "code",
   "execution_count": null,
   "id": "7037151f",
   "metadata": {
    "ExecuteTime": {
     "end_time": "2025-04-17T04:09:16.918163Z",
     "start_time": "2025-04-17T04:09:16.907184Z"
    }
   },
   "outputs": [
    {
     "data": {
      "text/plain": [
       "[{'score': 100},\n",
       " {'name': '윤길동', 'score': 99},\n",
       " {'name': '홍길동', 'score': 90},\n",
       " {'name': '김길동', 'score': 50}]"
      ]
     },
     "execution_count": 4,
     "metadata": {},
     "output_type": "execute_result"
    }
   ],
   "source": [
    "# 점수순으로 정렬(내림차순정렬)\n",
    "students.sort(key = lambda item : item.get('score',0), reverse=True)\n",
    "students"
   ]
  },
  {
   "cell_type": "code",
   "execution_count": 67,
   "id": "fbc6a45f",
   "metadata": {
    "ExecuteTime": {
     "end_time": "2025-04-17T06:55:37.059406Z",
     "start_time": "2025-04-17T06:55:37.032490Z"
    }
   },
   "outputs": [],
   "source": [
    "# 책 제목순 정렬 (ㄱ,ㄴ,ㄷ 순), 저자순 정렬(ㄱ,ㄴ,ㄷ 순), 가격순 오름차순 정렬\n",
    "books = [\n",
    "    {\n",
    "        'no': 1,\n",
    "        'title': '강남 아파트 인사이트',\n",
    "        'writer': '오스틀',\n",
    "        'price': '25,200'\n",
    "    },\n",
    "    {\n",
    "        'no': 2,\n",
    "        'title': '단 한 번의 삶',\n",
    "        'writer': '김영하',\n",
    "        'price': '18,100'\n",
    "    },\n",
    "    {\n",
    "        'no': 3,\n",
    "        'title': '흔한남매 19',\n",
    "        'writer': '백난도',\n",
    "        'price': '14,220'\n",
    "    },\n",
    "    {\n",
    "        'no': 4,\n",
    "        'title': '가격이잘못',\n",
    "        'writer': '홍길동',\n",
    "        'price': '-'\n",
    "    },\n",
    "    {\n",
    "        'no': 5,\n",
    "        'title': '가격이숫자',\n",
    "        'writer': '신길동',\n",
    "        'price': 900\n",
    "    },\n",
    "    {\n",
    "        'no': 6,\n",
    "        'title': '가격이없음',\n",
    "        'writer': '김길동'\n",
    "    },\n",
    "]"
   ]
  },
  {
   "cell_type": "code",
   "execution_count": 68,
   "id": "6c0c7db3",
   "metadata": {
    "ExecuteTime": {
     "end_time": "2025-04-17T06:55:38.984130Z",
     "start_time": "2025-04-17T06:55:38.968229Z"
    }
   },
   "outputs": [
    {
     "data": {
      "text/plain": [
       "[{'no': 5, 'title': '가격이숫자', 'writer': '신길동', 'price': 900},\n",
       " {'no': 6, 'title': '가격이없음', 'writer': '김길동'},\n",
       " {'no': 4, 'title': '가격이잘못', 'writer': '홍길동', 'price': '-'},\n",
       " {'no': 1, 'title': '강남 아파트 인사이트', 'writer': '오스틀', 'price': '25,200'},\n",
       " {'no': 2, 'title': '단 한 번의 삶', 'writer': '김영하', 'price': '18,100'},\n",
       " {'no': 3, 'title': '흔한남매 19', 'writer': '백난도', 'price': '14,220'}]"
      ]
     },
     "execution_count": 68,
     "metadata": {},
     "output_type": "execute_result"
    }
   ],
   "source": [
    "# title sort\n",
    "books.sort(key = lambda book : book.get('title'))\n",
    "books"
   ]
  },
  {
   "cell_type": "code",
   "execution_count": 69,
   "id": "ee68a1b5",
   "metadata": {
    "ExecuteTime": {
     "end_time": "2025-04-17T06:55:41.850201Z",
     "start_time": "2025-04-17T06:55:41.834249Z"
    }
   },
   "outputs": [
    {
     "data": {
      "text/plain": [
       "[{'no': 6, 'title': '가격이없음', 'writer': '김길동'},\n",
       " {'no': 2, 'title': '단 한 번의 삶', 'writer': '김영하', 'price': '18,100'},\n",
       " {'no': 3, 'title': '흔한남매 19', 'writer': '백난도', 'price': '14,220'},\n",
       " {'no': 5, 'title': '가격이숫자', 'writer': '신길동', 'price': 900},\n",
       " {'no': 1, 'title': '강남 아파트 인사이트', 'writer': '오스틀', 'price': '25,200'},\n",
       " {'no': 4, 'title': '가격이잘못', 'writer': '홍길동', 'price': '-'}]"
      ]
     },
     "execution_count": 69,
     "metadata": {},
     "output_type": "execute_result"
    }
   ],
   "source": [
    "# writer sort\n",
    "books.sort(key = lambda book : book.get('writer'))\n",
    "books"
   ]
  },
  {
   "cell_type": "code",
   "execution_count": 66,
   "id": "a91a33cf",
   "metadata": {},
   "outputs": [],
   "source": [
    "# error\n",
    "# books.sort(key = lambda book : book.get('price',0))\n",
    "# books"
   ]
  },
  {
   "cell_type": "code",
   "execution_count": 70,
   "id": "a437cc96",
   "metadata": {
    "ExecuteTime": {
     "end_time": "2025-04-17T06:55:44.698398Z",
     "start_time": "2025-04-17T06:55:44.685434Z"
    }
   },
   "outputs": [],
   "source": [
    "# '14,000' -> 14000 / \"2000\" -> 2000 / 800 -> 800 / '-' -> 0\n",
    "\n",
    "\n",
    "def parseInt(price):\n",
    "    # print(type(price))\n",
    "    if isinstance(price, str) and price.replace(\",\", '').isdigit():\n",
    "        return int(price.replace(\",\", \"\"))\n",
    "    elif isinstance(price, int):\n",
    "        return price\n",
    "    else:\n",
    "        return 0"
   ]
  },
  {
   "cell_type": "code",
   "execution_count": 71,
   "id": "920b5fd2",
   "metadata": {
    "ExecuteTime": {
     "end_time": "2025-04-17T06:55:47.146614Z",
     "start_time": "2025-04-17T06:55:47.131886Z"
    }
   },
   "outputs": [
    {
     "data": {
      "text/plain": [
       "(8000, 8000, 800, 0)"
      ]
     },
     "execution_count": 71,
     "metadata": {},
     "output_type": "execute_result"
    }
   ],
   "source": [
    "parseInt(\"8,000\"), parseInt(8000), parseInt(800), parseInt('-')"
   ]
  },
  {
   "cell_type": "code",
   "execution_count": 72,
   "id": "7294bf78",
   "metadata": {
    "ExecuteTime": {
     "end_time": "2025-04-17T06:55:48.789631Z",
     "start_time": "2025-04-17T06:55:48.769649Z"
    }
   },
   "outputs": [],
   "source": [
    "# {'no': 6, 'title': '가격이없음', 'writer': '김길동'} => 0 retutn\n",
    "# {'no': 3, 'title': '흔한남매 19', 'writer': '백난도', 'price': '14,220'} => 14200\n",
    "# {'no': 5, 'title': '가격이숫자', 'writer': '신길동', 'price': 900} => 900\n",
    "\n",
    "\n",
    "def parse_int(book):\n",
    "    if isinstance(book.get('price'), str) and book.get('price').replace(\n",
    "            \",\", \"\").isdigit():\n",
    "        return int(book.get('price').replace(',', ''))\n",
    "    elif isinstance(book.get('price'), int):\n",
    "        return book.get('price')\n",
    "    else:\n",
    "        return 0"
   ]
  },
  {
   "cell_type": "code",
   "execution_count": 73,
   "id": "6c96697f",
   "metadata": {
    "ExecuteTime": {
     "end_time": "2025-04-17T06:55:52.173750Z",
     "start_time": "2025-04-17T06:55:52.148043Z"
    }
   },
   "outputs": [
    {
     "data": {
      "text/plain": [
       "(0, 18100, 14220, 900, 25200)"
      ]
     },
     "execution_count": 73,
     "metadata": {},
     "output_type": "execute_result"
    }
   ],
   "source": [
    "parse_int(books[0]), parse_int(books[1]), parse_int(books[2]), parse_int(books[3]), parse_int(books[4])"
   ]
  },
  {
   "cell_type": "code",
   "execution_count": 74,
   "id": "9897003f",
   "metadata": {
    "ExecuteTime": {
     "end_time": "2025-04-17T06:55:55.414276Z",
     "start_time": "2025-04-17T06:55:55.399309Z"
    }
   },
   "outputs": [],
   "source": [
    "# books.sort(key = lambda book : int(book.get('price').replace(',','')) if isinstance(book.get('price'), str) and book.get('price').replace(\",\",\"\").isdigit() else book.get('price') if isinstance(book.get('price'),int) else 0, reverse=True)\n",
    "\n",
    "# books\n",
    "\n",
    "books = [\n",
    "    {\n",
    "        'no': 1,\n",
    "        'title': '강남 아파트 인사이트',\n",
    "        'writer': '오스틀',\n",
    "        'price': '25,200'\n",
    "    },\n",
    "    {\n",
    "        'no': 2,\n",
    "        'title': '단 한 번의 삶',\n",
    "        'writer': '김영하',\n",
    "        'price': '18,100'\n",
    "    },\n",
    "    {\n",
    "        'no': 3,\n",
    "        'title': '흔한남매 19',\n",
    "        'writer': '백난도',\n",
    "        'price': '14,220'\n",
    "    },\n",
    "    {\n",
    "        'no': 4,\n",
    "        'title': '가격이잘못',\n",
    "        'writer': '홍길동',\n",
    "        'price': '-'\n",
    "    },\n",
    "    {\n",
    "        'no': 5,\n",
    "        'title': '가격이숫자',\n",
    "        'writer': '신길동',\n",
    "        'price': 900\n",
    "    },\n",
    "    {\n",
    "        'no': 6,\n",
    "        'title': '가격이없음',\n",
    "        'writer': '김길동'\n",
    "    },\n",
    "]\n",
    "\n",
    "copy_books = books.copy()\n",
    "\n",
    "copy_books.sort(key = lambda book :\n",
    "                int(book.get('price').replace(',','')) \\\n",
    "                  if isinstance(book.get('price'), str) and \\\n",
    "                    book.get('price').replace(\",\",\"\").isdigit() else \\\n",
    "                  book.get('price') if isinstance(book.get('price'),int) else \\\n",
    "                    0, reverse=True)"
   ]
  },
  {
   "cell_type": "code",
   "execution_count": 75,
   "id": "dc1670fc",
   "metadata": {
    "ExecuteTime": {
     "end_time": "2025-04-17T06:56:02.583232Z",
     "start_time": "2025-04-17T06:56:02.565095Z"
    }
   },
   "outputs": [
    {
     "data": {
      "text/plain": [
       "[{'no': 1, 'title': '강남 아파트 인사이트', 'writer': '오스틀', 'price': '25,200'},\n",
       " {'no': 2, 'title': '단 한 번의 삶', 'writer': '김영하', 'price': '18,100'},\n",
       " {'no': 3, 'title': '흔한남매 19', 'writer': '백난도', 'price': '14,220'},\n",
       " {'no': 5, 'title': '가격이숫자', 'writer': '신길동', 'price': 900},\n",
       " {'no': 4, 'title': '가격이잘못', 'writer': '홍길동', 'price': '-'},\n",
       " {'no': 6, 'title': '가격이없음', 'writer': '김길동'}]"
      ]
     },
     "execution_count": 75,
     "metadata": {},
     "output_type": "execute_result"
    }
   ],
   "source": [
    "copy_books"
   ]
  },
  {
   "cell_type": "code",
   "execution_count": 83,
   "id": "86c4b165",
   "metadata": {
    "ExecuteTime": {
     "end_time": "2025-04-17T06:57:10.702431Z",
     "start_time": "2025-04-17T06:57:10.687884Z"
    }
   },
   "outputs": [
    {
     "data": {
      "text/plain": [
       "[{'no': 1, 'title': '강남 아파트 인사이트', 'writer': '오스틀', 'price': '25,200'},\n",
       " {'no': 2, 'title': '단 한 번의 삶', 'writer': '김영하', 'price': '18,100'},\n",
       " {'no': 3, 'title': '흔한남매 19', 'writer': '백난도', 'price': '14,220'},\n",
       " {'no': 4, 'title': '가격이잘못', 'writer': '홍길동', 'price': '-'},\n",
       " {'no': 5, 'title': '가격이숫자', 'writer': '신길동', 'price': 900},\n",
       " {'no': 6, 'title': '가격이없음', 'writer': '김길동'}]"
      ]
     },
     "execution_count": 83,
     "metadata": {},
     "output_type": "execute_result"
    }
   ],
   "source": [
    "books"
   ]
  },
  {
   "cell_type": "code",
   "execution_count": 89,
   "id": "6daecc1f",
   "metadata": {
    "ExecuteTime": {
     "end_time": "2025-04-17T06:57:53.902675Z",
     "start_time": "2025-04-17T06:57:53.877790Z"
    }
   },
   "outputs": [
    {
     "data": {
      "text/plain": [
       "0"
      ]
     },
     "execution_count": 89,
     "metadata": {},
     "output_type": "execute_result"
    }
   ],
   "source": [
    "# 람다식 테스트 확인\n",
    "(lambda book :\n",
    "                int(book.get('price').replace(',','')) \\\n",
    "                  if isinstance(book.get('price'), str) and \\\n",
    "                    book.get('price').replace(\",\",\"\").isdigit() else \\\n",
    "                  book.get('price') if isinstance(book.get('price'),int) else \\\n",
    "                    0)(books[5])"
   ]
  },
  {
   "cell_type": "markdown",
   "id": "94739225",
   "metadata": {},
   "source": [
    "# 4.3 return 문에 람다식 이용"
   ]
  },
  {
   "cell_type": "code",
   "execution_count": 32,
   "id": "61c8619b",
   "metadata": {
    "ExecuteTime": {
     "end_time": "2025-04-17T06:41:55.281034Z",
     "start_time": "2025-04-17T06:41:55.267610Z"
    }
   },
   "outputs": [],
   "source": [
    "# 함수를 return\n",
    "def make_box(shape):\n",
    "    # shape : [l] => len가 l인 list 를 생성하는 함수 return,\n",
    "    #         [r, c] => r행 c열인 2차원 list 를 생성하는 함수 return\n",
    "    #         [d, r, c] => d면, r행, c열 3차원 list 를 생성하는 함수 return\n",
    "\n",
    "    def box(init_value):\n",
    "        if len(shape) == 1:\n",
    "            return [init_value] * shape[0]\n",
    "        elif len(shape) == 2:\n",
    "            return [[init_value] * shape[1]] * shape[0]\n",
    "    return box"
   ]
  },
  {
   "cell_type": "code",
   "execution_count": 50,
   "id": "08df3ded",
   "metadata": {
    "ExecuteTime": {
     "end_time": "2025-04-17T06:45:45.411446Z",
     "start_time": "2025-04-17T06:45:45.399041Z"
    }
   },
   "outputs": [],
   "source": [
    "def make_box(shape):\n",
    "    if len(shape)==1:\n",
    "        return lambda init_value : [init_value] * shape[0]\n",
    "    elif len(shape) ==2 :\n",
    "        return lambda init_value : [[init_value]* shape[1]] * shape[0]"
   ]
  },
  {
   "cell_type": "code",
   "execution_count": 51,
   "id": "d7ebcf5c",
   "metadata": {
    "ExecuteTime": {
     "end_time": "2025-04-17T06:45:46.939176Z",
     "start_time": "2025-04-17T06:45:46.923591Z"
    }
   },
   "outputs": [
    {
     "data": {
      "text/plain": [
       "[[3, 3, 3], [3, 3, 3]]"
      ]
     },
     "execution_count": 51,
     "metadata": {},
     "output_type": "execute_result"
    }
   ],
   "source": [
    "line_func = make_box([2, 3])\n",
    "line_func(3)"
   ]
  },
  {
   "cell_type": "code",
   "execution_count": 90,
   "id": "5577dff1",
   "metadata": {
    "ExecuteTime": {
     "end_time": "2025-04-17T06:58:25.112652Z",
     "start_time": "2025-04-17T06:58:25.093200Z"
    }
   },
   "outputs": [
    {
     "data": {
      "text/plain": [
       "[3, 3, 3, 3, 3, 3, 3, 3, 3, 3]"
      ]
     },
     "execution_count": 90,
     "metadata": {},
     "output_type": "execute_result"
    }
   ],
   "source": [
    "line_func1 = make_box([10])\n",
    "line_func1(3)"
   ]
  },
  {
   "cell_type": "markdown",
   "id": "be424f01",
   "metadata": {},
   "source": [
    "# 5절 파이썬 내장함수\n",
    "\n",
    "- import 하지 않고 바로 사용 가능한 함수\n",
    "- 키워드처럼 간주되므로, 식별자(변수명, 함수명, 클래스명)로 사용하는 것을 피한다.\n",
    "\n",
    "## 5.1 와우"
   ]
  },
  {
   "cell_type": "code",
   "execution_count": 53,
   "id": "3ad016c9",
   "metadata": {
    "ExecuteTime": {
     "end_time": "2025-04-17T06:48:46.445936Z",
     "start_time": "2025-04-17T06:48:46.381732Z"
    },
    "collapsed": true
   },
   "outputs": [
    {
     "data": {
      "text/plain": [
       "{'__name__': '__main__',\n",
       " '__doc__': 'Automatically created module for IPython interactive environment',\n",
       " '__package__': None,\n",
       " '__loader__': None,\n",
       " '__spec__': None,\n",
       " '__builtin__': <module 'builtins' (built-in)>,\n",
       " '__builtins__': <module 'builtins' (built-in)>,\n",
       " '_ih': ['',\n",
       "  'from IPython.display import display, HTML\\ndisplay(HTML(\"\"\"\\n<style>\\n* {font-family:;}\\ndiv.container{width:87% !important;}\\ndiv.cell.code_cell.rendered{width:100%;}\\ndiv.CodeMirror {font-size:12pt;}\\ndiv.output {font-size:12pt; font-weight:bold;}\\ndiv.input { font-size:12pt;}\\ndiv.prompt {min-width:70px;}\\ndiv#toc-wrapper{padding-top:120px;}\\ndiv.text_cell_render ul li{font-size:12pt;padding:5px;}\\ntable.dataframe{font-size:12px;}\\n</style>\\n\"\"\"))',\n",
       "  'books',\n",
       "  '# books.sort(key = lambda book : int(book.get(\\'price\\').replace(\\',\\',\\'\\')) if isinstance(book.get(\\'price\\'), str) and book.get(\\'price\\').replace(\",\",\"\").isdigit() else book.get(\\'price\\') if isinstance(book.get(\\'price\\'),int) else 0, reverse=True)\\n\\n# books\\n\\nbooks = [\\n    {\\n        \\'no\\': 1,\\n        \\'title\\': \\'강남 아파트 인사이트\\',\\n        \\'writer\\': \\'오스틀\\',\\n        \\'price\\': \\'25,200\\'\\n    },\\n    {\\n        \\'no\\': 2,\\n        \\'title\\': \\'단 한 번의 삶\\',\\n        \\'writer\\': \\'김영하\\',\\n        \\'price\\': \\'18,100\\'\\n    },\\n    {\\n        \\'no\\': 3,\\n        \\'title\\': \\'흔한남매 19\\',\\n        \\'writer\\': \\'백난도\\',\\n        \\'price\\': \\'14,220\\'\\n    },\\n    {\\n        \\'no\\': 4,\\n        \\'title\\': \\'가격이잘못\\',\\n        \\'writer\\': \\'홍길동\\',\\n        \\'price\\': \\'-\\'\\n    },\\n    {\\n        \\'no\\': 5,\\n        \\'title\\': \\'가격이숫자\\',\\n        \\'writer\\': \\'신길동\\',\\n        \\'price\\': 900\\n    },\\n    {\\n        \\'no\\': 6,\\n        \\'title\\': \\'가격이없음\\',\\n        \\'writer\\': \\'김길동\\'\\n    },\\n]\\n\\ncopy_books = books.copy()\\n\\ncopy_books.sort(key = lambda book :\\n                int(book.get(\\'price\\').replace(\\',\\',\\'\\')) \\\\\\n                  if isinstance(book.get(\\'price\\'), str) and \\\\\\n                    book.get(\\'price\\').replace(\",\",\"\").isdigit() else \\\\\\n                  book.get(\\'price\\') if isinstance(book.get(\\'price\\'),int) else \\\\\\n                    0, reverse=True)\\ncopy_books',\n",
       "  'books',\n",
       "  '# books.sort(key = lambda book : int(book.get(\\'price\\').replace(\\',\\',\\'\\')) if isinstance(book.get(\\'price\\'), str) and book.get(\\'price\\').replace(\",\",\"\").isdigit() else book.get(\\'price\\') if isinstance(book.get(\\'price\\'),int) else 0, reverse=True)\\n\\n# books\\n\\nbooks = [\\n    {\\n        \\'no\\': 1,\\n        \\'title\\': \\'강남 아파트 인사이트\\',\\n        \\'writer\\': \\'오스틀\\',\\n        \\'price\\': \\'25,200\\'\\n    },\\n    {\\n        \\'no\\': 2,\\n        \\'title\\': \\'단 한 번의 삶\\',\\n        \\'writer\\': \\'김영하\\',\\n        \\'price\\': \\'18,100\\'\\n    },\\n    {\\n        \\'no\\': 3,\\n        \\'title\\': \\'흔한남매 19\\',\\n        \\'writer\\': \\'백난도\\',\\n        \\'price\\': \\'14,220\\'\\n    },\\n    {\\n        \\'no\\': 4,\\n        \\'title\\': \\'가격이잘못\\',\\n        \\'writer\\': \\'홍길동\\',\\n        \\'price\\': \\'-\\'\\n    },\\n    {\\n        \\'no\\': 5,\\n        \\'title\\': \\'가격이숫자\\',\\n        \\'writer\\': \\'신길동\\',\\n        \\'price\\': 900\\n    },\\n    {\\n        \\'no\\': 6,\\n        \\'title\\': \\'가격이없음\\',\\n        \\'writer\\': \\'김길동\\'\\n    },\\n]\\n\\ncopy_books = books.copy()\\n\\ncopy_books.sort(key = lambda book :\\n                int(book.get(\\'price\\').replace(\\',\\',\\'\\')) \\\\\\n                  if isinstance(book.get(\\'price\\'), str) and \\\\\\n                    book.get(\\'price\\').replace(\",\",\"\").isdigit() else \\\\\\n                  book.get(\\'price\\') if isinstance(book.get(\\'price\\'),int) else \\\\\\n                    0, reverse=True)\\ncopy_books',\n",
       "  'lambda book :\\n                int(book.get(\\'price\\').replace(\\',\\',\\'\\')) \\\\\\n                  if isinstance(book.get(\\'price\\'), str) and \\\\\\n                    book.get(\\'price\\').replace(\",\",\"\").isdigit() else \\\\\\n                  book.get(\\'price\\') if isinstance(book.get(\\'price\\'),int) else \\\\\\n                    0)(books[0])',\n",
       "  '(lambda book :\\n                int(book.get(\\'price\\').replace(\\',\\',\\'\\')) \\\\\\n                  if isinstance(book.get(\\'price\\'), str) and \\\\\\n                    book.get(\\'price\\').replace(\",\",\"\").isdigit() else \\\\\\n                  book.get(\\'price\\') if isinstance(book.get(\\'price\\'),int) else \\\\\\n                    0)(books[0])',\n",
       "  '# books.sort(key = lambda book : int(book.get(\\'price\\').replace(\\',\\',\\'\\')) if isinstance(book.get(\\'price\\'), str) and book.get(\\'price\\').replace(\",\",\"\").isdigit() else book.get(\\'price\\') if isinstance(book.get(\\'price\\'),int) else 0, reverse=True)\\n\\n# books\\n\\nbooks = [\\n    {\\n        \\'no\\': 1,\\n        \\'title\\': \\'강남 아파트 인사이트\\',\\n        \\'writer\\': \\'오스틀\\',\\n        \\'price\\': \\'25,200\\'\\n    },\\n    {\\n        \\'no\\': 2,\\n        \\'title\\': \\'단 한 번의 삶\\',\\n        \\'writer\\': \\'김영하\\',\\n        \\'price\\': \\'18,100\\'\\n    },\\n    {\\n        \\'no\\': 3,\\n        \\'title\\': \\'흔한남매 19\\',\\n        \\'writer\\': \\'백난도\\',\\n        \\'price\\': \\'14,220\\'\\n    },\\n    {\\n        \\'no\\': 4,\\n        \\'title\\': \\'가격이잘못\\',\\n        \\'writer\\': \\'홍길동\\',\\n        \\'price\\': \\'-\\'\\n    },\\n    {\\n        \\'no\\': 5,\\n        \\'title\\': \\'가격이숫자\\',\\n        \\'writer\\': \\'신길동\\',\\n        \\'price\\': 900\\n    },\\n    {\\n        \\'no\\': 6,\\n        \\'title\\': \\'가격이없음\\',\\n        \\'writer\\': \\'김길동\\'\\n    },\\n]\\n\\ncopy_books = books.copy()\\n\\ncopy_books.sort(key = lambda book :\\n                int(book.get(\\'price\\').replace(\\',\\',\\'\\')) \\\\\\n                  if isinstance(book.get(\\'price\\'), str) and \\\\\\n                    book.get(\\'price\\').replace(\",\",\"\").isdigit() else \\\\\\n                  book.get(\\'price\\') if isinstance(book.get(\\'price\\'),int) else \\\\\\n                    0, reverse=True)\\ncopy_books',\n",
       "  '(lambda book :\\n                int(book.get(\\'price\\').replace(\\',\\',\\'\\')) \\\\\\n                  if isinstance(book.get(\\'price\\'), str) and \\\\\\n                    book.get(\\'price\\').replace(\",\",\"\").isdigit() else \\\\\\n                  book.get(\\'price\\') if isinstance(book.get(\\'price\\'),int) else \\\\\\n                    0)(books[0])',\n",
       "  '(lambda book :\\n                int(book.get(\\'price\\').replace(\\',\\',\\'\\')) \\\\\\n                  if isinstance(book.get(\\'price\\'), str) and \\\\\\n                    book.get(\\'price\\').replace(\",\",\"\").isdigit() else \\\\\\n                  book.get(\\'price\\') if isinstance(book.get(\\'price\\'),int) else \\\\\\n                    0)(books[0])',\n",
       "  '(lambda book :\\n                int(book.get(\\'price\\').replace(\\',\\',\\'\\')) \\\\\\n                  if isinstance(book.get(\\'price\\'), str) and \\\\\\n                    book.get(\\'price\\').replace(\",\",\"\").isdigit() else \\\\\\n                  book.get(\\'price\\') if isinstance(book.get(\\'price\\'),int) else \\\\\\n                    0)(books[0])',\n",
       "  '(lambda book :\\n                int(book.get(\\'price\\').replace(\\',\\',\\'\\')) \\\\\\n                  if isinstance(book.get(\\'price\\'), str) and \\\\\\n                    book.get(\\'price\\').replace(\",\",\"\").isdigit() else \\\\\\n                  book.get(\\'price\\') if isinstance(book.get(\\'price\\'),int) else \\\\\\n                    0)(books[0])',\n",
       "  'copy_books',\n",
       "  '# books.sort(key = lambda book : int(book.get(\\'price\\').replace(\\',\\',\\'\\')) if isinstance(book.get(\\'price\\'), str) and book.get(\\'price\\').replace(\",\",\"\").isdigit() else book.get(\\'price\\') if isinstance(book.get(\\'price\\'),int) else 0, reverse=True)\\n\\n# books\\n\\nbooks = [\\n    {\\n        \\'no\\': 1,\\n        \\'title\\': \\'강남 아파트 인사이트\\',\\n        \\'writer\\': \\'오스틀\\',\\n        \\'price\\': \\'25,200\\'\\n    },\\n    {\\n        \\'no\\': 2,\\n        \\'title\\': \\'단 한 번의 삶\\',\\n        \\'writer\\': \\'김영하\\',\\n        \\'price\\': \\'18,100\\'\\n    },\\n    {\\n        \\'no\\': 3,\\n        \\'title\\': \\'흔한남매 19\\',\\n        \\'writer\\': \\'백난도\\',\\n        \\'price\\': \\'14,220\\'\\n    },\\n    {\\n        \\'no\\': 4,\\n        \\'title\\': \\'가격이잘못\\',\\n        \\'writer\\': \\'홍길동\\',\\n        \\'price\\': \\'-\\'\\n    },\\n    {\\n        \\'no\\': 5,\\n        \\'title\\': \\'가격이숫자\\',\\n        \\'writer\\': \\'신길동\\',\\n        \\'price\\': 900\\n    },\\n    {\\n        \\'no\\': 6,\\n        \\'title\\': \\'가격이없음\\',\\n        \\'writer\\': \\'김길동\\'\\n    },\\n]\\n\\ncopy_books = books.copy()\\n\\ncopy_books.sort(key = lambda book :\\n                int(book.get(\\'price\\').replace(\\',\\',\\'\\')) \\\\\\n                  if isinstance(book.get(\\'price\\'), str) and \\\\\\n                    book.get(\\'price\\').replace(\",\",\"\").isdigit() else \\\\\\n                  book.get(\\'price\\') if isinstance(book.get(\\'price\\'),int) else \\\\\\n                    0, reverse=True)',\n",
       "  'copy_books',\n",
       "  '(lambda book :\\n                int(book.get(\\'price\\').replace(\\',\\',\\'\\')) \\\\\\n                  if isinstance(book.get(\\'price\\'), str) and \\\\\\n                    book.get(\\'price\\').replace(\",\",\"\").isdigit() else \\\\\\n                  book.get(\\'price\\') if isinstance(book.get(\\'price\\'),int) else \\\\\\n                    0)(books[0])',\n",
       "  '(lambda book :\\n                int(book.get(\\'price\\').replace(\\',\\',\\'\\')) \\\\\\n                  if isinstance(book.get(\\'price\\'), str) and \\\\\\n                    book.get(\\'price\\').replace(\",\",\"\").isdigit() else \\\\\\n                  book.get(\\'price\\') if isinstance(book.get(\\'price\\'),int) else \\\\\\n                    0)(books[0])',\n",
       "  '(lambda book :\\n                int(book.get(\\'price\\').replace(\\',\\',\\'\\')) \\\\\\n                  if isinstance(book.get(\\'price\\'), str) and \\\\\\n                    book.get(\\'price\\').replace(\",\",\"\").isdigit() else \\\\\\n                  book.get(\\'price\\') if isinstance(book.get(\\'price\\'),int) else \\\\\\n                    0)(books[0])',\n",
       "  'books',\n",
       "  'from IPython.display import display, HTML\\ndisplay(HTML(\"\"\"\\n<style>\\n* {font-family:Consolas;}\\ndiv.container{width:87% !important;}\\ndiv.cell.code_cell.rendered{width:100%;}\\ndiv.CodeMirror {font-size:12pt;}\\ndiv.output {font-size:12pt; font-weight:bold;}\\ndiv.input { font-size:12pt;}\\ndiv.prompt {min-width:70px;}\\ndiv#toc-wrapper{padding-top:120px;}\\ndiv.text_cell_render ul li{font-size:12pt;padding:5px;}\\ntable.dataframe{font-size:12px;}\\n</style>\\n\"\"\"))',\n",
       "  '# 함수를 return\\ndef make_box(shape) :# shape : [l] => len가 l인 list 를 생성하는 함수 return, \\n                    #          [r, c] => r행 c열인 2차원 list 를 생성하는 함수 return\\n                    #          [d, r, c] => d면, r행, c열 3차원 list 를 생성하는 함수 return\\n            \\n    def box(init_value) :\\n        if len(shape):\\n            return [init_value]*shape[0]',\n",
       "  '# 함수를 return\\ndef make_box(shape) :# shape : [l] => len가 l인 list 를 생성하는 함수 return, \\n                    #          [r, c] => r행 c열인 2차원 list 를 생성하는 함수 return\\n                    #          [d, r, c] => d면, r행, c열 3차원 list 를 생성하는 함수 return\\n            \\n    def box(init_value) :\\n        if len(shape) == 1:\\n            return [init_value]*shape[0]\\n        elif len(shape) == 2:\\n            return [ [init_value] * shape[1] ] * shape[0]',\n",
       "  '# 함수를 return\\ndef make_box(shape) :# shape : [l] => len가 l인 list 를 생성하는 함수 return, \\n                    #          [r, c] => r행 c열인 2차원 list 를 생성하는 함수 return\\n                    #          [d, r, c] => d면, r행, c열 3차원 list 를 생성하는 함수 return\\n            \\n    def box(init_value) :\\n        if len(shape) == 1:\\n            return [init_value]*shape[0]\\n        elif len(shape) == 2:\\n            return [ [init_value] * shape[1] ] * shape[0]',\n",
       "  '# 함수를 return\\ndef make_box(shape) :# shape : [l] => len가 l인 list 를 생성하는 함수 return, \\n                    #          [r, c] => r행 c열인 2차원 list 를 생성하는 함수 return\\n                    #          [d, r, c] => d면, r행, c열 3차원 list 를 생성하는 함수 return\\n            \\n    def box(init_value) :\\n        if len(shape) == 1:\\n            return [init_value]*shape[0]\\n        elif len(shape) == 2:\\n            return [ [init_value] * shape[1] ] * shape[0]',\n",
       "  'line_func = make_box([2, 3])',\n",
       "  'line_func = make_box([2, 3])\\n\\nprint(line_func)',\n",
       "  'line_func = make_box([2, 3])\\n\\nline_func(3)',\n",
       "  'line_func1 = make_box([10])\\nline_func1(3)',\n",
       "  '# 함수를 return\\ndef make_box(shape):\\n    # shape : [l] => len가 l인 list 를 생성하는 함수 return,\\n    #         [r, c] => r행 c열인 2차원 list 를 생성하는 함수 return\\n    #         [d, r, c] => d면, r행, c열 3차원 list 를 생성하는 함수 return\\n\\n    def box(init_value):\\n        if len(shape) == 1:\\n            return [init_value] * shape[0]\\n        elif len(shape) == 2:\\n            return [[init_value] * shape[1]] * shape[0]]\\n    return box',\n",
       "  'line_func = make_box([2, 3])\\n\\nline_func(3)',\n",
       "  'line_func1 = make_box([10])\\nline_func1(3)',\n",
       "  '# 함수를 return\\ndef make_box(shape):\\n    # shape : [l] => len가 l인 list 를 생성하는 함수 return,\\n    #         [r, c] => r행 c열인 2차원 list 를 생성하는 함수 return\\n    #         [d, r, c] => d면, r행, c열 3차원 list 를 생성하는 함수 return\\n\\n    def box(init_value):\\n        if len(shape) == 1:\\n            return [init_value] * shape[0]\\n        elif len(shape) == 2:\\n            return [[init_value] * shape[1]] * shape[0]\\n    return box',\n",
       "  'line_func = make_box([2, 3])\\n\\nline_func(3)',\n",
       "  'line_func1 = make_box([10])\\nline_func1(3)',\n",
       "  'def make_box(shape):\\n    if len(shape)==1:',\n",
       "  'def make_box(shape):\\n    if len(shape)==1:\\n        return lambda init_value : [init_value] * shape[0]\\n    elif len(shape) ==2 :\\n        return [[init_value]* shape[1]] * shape[0]',\n",
       "  'line_func = make_box([2, 3])\\n\\nline_func(3)',\n",
       "  'def make_box(shape):\\n    if len(shape)==1:\\n        return lambda init_value : [init_value] * shape[0]\\n    elif len(shape) ==2 :\\n        return [[init_value]* shape[1]] * shape[0]',\n",
       "  'line_func = make_box([2, 3])\\n\\nline_func(3)',\n",
       "  'line_func1 = make_box([10])\\nline_func1(3)',\n",
       "  'line_func = make_box([2, 3])\\n\\nline_func(3)',\n",
       "  'line_func = make_box([2, 3])\\n\\nline_func(3)',\n",
       "  'line_func = make_box([2, 3])\\n\\nline_func(3)',\n",
       "  'line_func = make_box([2, 3])\\n\\nline_func(3)',\n",
       "  'line_func = make_box([2, 3])\\n\\nline_func(3)',\n",
       "  'line_func = make_box([2, 3])\\n\\nline_func(3)',\n",
       "  'line_func = make_box([2, 3])\\n\\nline_func(3)',\n",
       "  'line_func = make_box([2, 3])\\nline_func(3)',\n",
       "  'def make_box(shape):\\n    if len(shape)==1:\\n        return lambda init_value : [init_value] * shape[0]\\n    elif len(shape) ==2 :\\n        return lambda [[init_value]* shape[1]] * shape[0]',\n",
       "  'def make_box(shape):\\n    if len(shape)==1:\\n        return lambda init_value : [init_value] * shape[0]\\n    elif len(shape) ==2 :\\n        return lambda init_value : [[init_value]* shape[1]] * shape[0]',\n",
       "  'line_func = make_box([2, 3])\\nline_func(3)',\n",
       "  'line_func1 = make_box([10])\\nline_func1(3)',\n",
       "  'globals()'],\n",
       " '_oh': {3: [{'no': 1,\n",
       "    'title': '강남 아파트 인사이트',\n",
       "    'writer': '오스틀',\n",
       "    'price': '25,200'},\n",
       "   {'no': 2, 'title': '단 한 번의 삶', 'writer': '김영하', 'price': '18,100'},\n",
       "   {'no': 3, 'title': '흔한남매 19', 'writer': '백난도', 'price': '14,220'},\n",
       "   {'no': 5, 'title': '가격이숫자', 'writer': '신길동', 'price': 900},\n",
       "   {'no': 4, 'title': '가격이잘못', 'writer': '홍길동', 'price': '-'},\n",
       "   {'no': 6, 'title': '가격이없음', 'writer': '김길동'}],\n",
       "  4: [{'no': 1, 'title': '강남 아파트 인사이트', 'writer': '오스틀', 'price': '25,200'},\n",
       "   {'no': 2, 'title': '단 한 번의 삶', 'writer': '김영하', 'price': '18,100'},\n",
       "   {'no': 3, 'title': '흔한남매 19', 'writer': '백난도', 'price': '14,220'},\n",
       "   {'no': 4, 'title': '가격이잘못', 'writer': '홍길동', 'price': '-'},\n",
       "   {'no': 5, 'title': '가격이숫자', 'writer': '신길동', 'price': 900},\n",
       "   {'no': 6, 'title': '가격이없음', 'writer': '김길동'}],\n",
       "  5: [{'no': 1, 'title': '강남 아파트 인사이트', 'writer': '오스틀', 'price': '25,200'},\n",
       "   {'no': 2, 'title': '단 한 번의 삶', 'writer': '김영하', 'price': '18,100'},\n",
       "   {'no': 3, 'title': '흔한남매 19', 'writer': '백난도', 'price': '14,220'},\n",
       "   {'no': 5, 'title': '가격이숫자', 'writer': '신길동', 'price': 900},\n",
       "   {'no': 4, 'title': '가격이잘못', 'writer': '홍길동', 'price': '-'},\n",
       "   {'no': 6, 'title': '가격이없음', 'writer': '김길동'}],\n",
       "  7: 25200,\n",
       "  8: [{'no': 1, 'title': '강남 아파트 인사이트', 'writer': '오스틀', 'price': '25,200'},\n",
       "   {'no': 2, 'title': '단 한 번의 삶', 'writer': '김영하', 'price': '18,100'},\n",
       "   {'no': 3, 'title': '흔한남매 19', 'writer': '백난도', 'price': '14,220'},\n",
       "   {'no': 5, 'title': '가격이숫자', 'writer': '신길동', 'price': 900},\n",
       "   {'no': 4, 'title': '가격이잘못', 'writer': '홍길동', 'price': '-'},\n",
       "   {'no': 6, 'title': '가격이없음', 'writer': '김길동'}],\n",
       "  9: 25200,\n",
       "  10: 25200,\n",
       "  11: 25200,\n",
       "  12: 25200,\n",
       "  13: [{'no': 1, 'title': '강남 아파트 인사이트', 'writer': '오스틀', 'price': '25,200'},\n",
       "   {'no': 2, 'title': '단 한 번의 삶', 'writer': '김영하', 'price': '18,100'},\n",
       "   {'no': 3, 'title': '흔한남매 19', 'writer': '백난도', 'price': '14,220'},\n",
       "   {'no': 5, 'title': '가격이숫자', 'writer': '신길동', 'price': 900},\n",
       "   {'no': 4, 'title': '가격이잘못', 'writer': '홍길동', 'price': '-'},\n",
       "   {'no': 6, 'title': '가격이없음', 'writer': '김길동'}],\n",
       "  15: [{'no': 1, 'title': '강남 아파트 인사이트', 'writer': '오스틀', 'price': '25,200'},\n",
       "   {'no': 2, 'title': '단 한 번의 삶', 'writer': '김영하', 'price': '18,100'},\n",
       "   {'no': 3, 'title': '흔한남매 19', 'writer': '백난도', 'price': '14,220'},\n",
       "   {'no': 5, 'title': '가격이숫자', 'writer': '신길동', 'price': 900},\n",
       "   {'no': 4, 'title': '가격이잘못', 'writer': '홍길동', 'price': '-'},\n",
       "   {'no': 6, 'title': '가격이없음', 'writer': '김길동'}],\n",
       "  16: 25200,\n",
       "  17: 25200,\n",
       "  18: 25200,\n",
       "  19: [{'no': 1, 'title': '강남 아파트 인사이트', 'writer': '오스틀', 'price': '25,200'},\n",
       "   {'no': 2, 'title': '단 한 번의 삶', 'writer': '김영하', 'price': '18,100'},\n",
       "   {'no': 3, 'title': '흔한남매 19', 'writer': '백난도', 'price': '14,220'},\n",
       "   {'no': 4, 'title': '가격이잘못', 'writer': '홍길동', 'price': '-'},\n",
       "   {'no': 5, 'title': '가격이숫자', 'writer': '신길동', 'price': 900},\n",
       "   {'no': 6, 'title': '가격이없음', 'writer': '김길동'}],\n",
       "  33: [[3, 3, 3], [3, 3, 3]],\n",
       "  34: [3, 3, 3, 3, 3, 3, 3, 3, 3, 3],\n",
       "  40: [3, 3, 3, 3, 3, 3, 3, 3, 3, 3],\n",
       "  51: [[3, 3, 3], [3, 3, 3]],\n",
       "  52: [3, 3, 3, 3, 3, 3, 3, 3, 3, 3]},\n",
       " '_dh': [WindowsPath('C:/ai_x/source/01_python')],\n",
       " 'In': ['',\n",
       "  'from IPython.display import display, HTML\\ndisplay(HTML(\"\"\"\\n<style>\\n* {font-family:;}\\ndiv.container{width:87% !important;}\\ndiv.cell.code_cell.rendered{width:100%;}\\ndiv.CodeMirror {font-size:12pt;}\\ndiv.output {font-size:12pt; font-weight:bold;}\\ndiv.input { font-size:12pt;}\\ndiv.prompt {min-width:70px;}\\ndiv#toc-wrapper{padding-top:120px;}\\ndiv.text_cell_render ul li{font-size:12pt;padding:5px;}\\ntable.dataframe{font-size:12px;}\\n</style>\\n\"\"\"))',\n",
       "  'books',\n",
       "  '# books.sort(key = lambda book : int(book.get(\\'price\\').replace(\\',\\',\\'\\')) if isinstance(book.get(\\'price\\'), str) and book.get(\\'price\\').replace(\",\",\"\").isdigit() else book.get(\\'price\\') if isinstance(book.get(\\'price\\'),int) else 0, reverse=True)\\n\\n# books\\n\\nbooks = [\\n    {\\n        \\'no\\': 1,\\n        \\'title\\': \\'강남 아파트 인사이트\\',\\n        \\'writer\\': \\'오스틀\\',\\n        \\'price\\': \\'25,200\\'\\n    },\\n    {\\n        \\'no\\': 2,\\n        \\'title\\': \\'단 한 번의 삶\\',\\n        \\'writer\\': \\'김영하\\',\\n        \\'price\\': \\'18,100\\'\\n    },\\n    {\\n        \\'no\\': 3,\\n        \\'title\\': \\'흔한남매 19\\',\\n        \\'writer\\': \\'백난도\\',\\n        \\'price\\': \\'14,220\\'\\n    },\\n    {\\n        \\'no\\': 4,\\n        \\'title\\': \\'가격이잘못\\',\\n        \\'writer\\': \\'홍길동\\',\\n        \\'price\\': \\'-\\'\\n    },\\n    {\\n        \\'no\\': 5,\\n        \\'title\\': \\'가격이숫자\\',\\n        \\'writer\\': \\'신길동\\',\\n        \\'price\\': 900\\n    },\\n    {\\n        \\'no\\': 6,\\n        \\'title\\': \\'가격이없음\\',\\n        \\'writer\\': \\'김길동\\'\\n    },\\n]\\n\\ncopy_books = books.copy()\\n\\ncopy_books.sort(key = lambda book :\\n                int(book.get(\\'price\\').replace(\\',\\',\\'\\')) \\\\\\n                  if isinstance(book.get(\\'price\\'), str) and \\\\\\n                    book.get(\\'price\\').replace(\",\",\"\").isdigit() else \\\\\\n                  book.get(\\'price\\') if isinstance(book.get(\\'price\\'),int) else \\\\\\n                    0, reverse=True)\\ncopy_books',\n",
       "  'books',\n",
       "  '# books.sort(key = lambda book : int(book.get(\\'price\\').replace(\\',\\',\\'\\')) if isinstance(book.get(\\'price\\'), str) and book.get(\\'price\\').replace(\",\",\"\").isdigit() else book.get(\\'price\\') if isinstance(book.get(\\'price\\'),int) else 0, reverse=True)\\n\\n# books\\n\\nbooks = [\\n    {\\n        \\'no\\': 1,\\n        \\'title\\': \\'강남 아파트 인사이트\\',\\n        \\'writer\\': \\'오스틀\\',\\n        \\'price\\': \\'25,200\\'\\n    },\\n    {\\n        \\'no\\': 2,\\n        \\'title\\': \\'단 한 번의 삶\\',\\n        \\'writer\\': \\'김영하\\',\\n        \\'price\\': \\'18,100\\'\\n    },\\n    {\\n        \\'no\\': 3,\\n        \\'title\\': \\'흔한남매 19\\',\\n        \\'writer\\': \\'백난도\\',\\n        \\'price\\': \\'14,220\\'\\n    },\\n    {\\n        \\'no\\': 4,\\n        \\'title\\': \\'가격이잘못\\',\\n        \\'writer\\': \\'홍길동\\',\\n        \\'price\\': \\'-\\'\\n    },\\n    {\\n        \\'no\\': 5,\\n        \\'title\\': \\'가격이숫자\\',\\n        \\'writer\\': \\'신길동\\',\\n        \\'price\\': 900\\n    },\\n    {\\n        \\'no\\': 6,\\n        \\'title\\': \\'가격이없음\\',\\n        \\'writer\\': \\'김길동\\'\\n    },\\n]\\n\\ncopy_books = books.copy()\\n\\ncopy_books.sort(key = lambda book :\\n                int(book.get(\\'price\\').replace(\\',\\',\\'\\')) \\\\\\n                  if isinstance(book.get(\\'price\\'), str) and \\\\\\n                    book.get(\\'price\\').replace(\",\",\"\").isdigit() else \\\\\\n                  book.get(\\'price\\') if isinstance(book.get(\\'price\\'),int) else \\\\\\n                    0, reverse=True)\\ncopy_books',\n",
       "  'lambda book :\\n                int(book.get(\\'price\\').replace(\\',\\',\\'\\')) \\\\\\n                  if isinstance(book.get(\\'price\\'), str) and \\\\\\n                    book.get(\\'price\\').replace(\",\",\"\").isdigit() else \\\\\\n                  book.get(\\'price\\') if isinstance(book.get(\\'price\\'),int) else \\\\\\n                    0)(books[0])',\n",
       "  '(lambda book :\\n                int(book.get(\\'price\\').replace(\\',\\',\\'\\')) \\\\\\n                  if isinstance(book.get(\\'price\\'), str) and \\\\\\n                    book.get(\\'price\\').replace(\",\",\"\").isdigit() else \\\\\\n                  book.get(\\'price\\') if isinstance(book.get(\\'price\\'),int) else \\\\\\n                    0)(books[0])',\n",
       "  '# books.sort(key = lambda book : int(book.get(\\'price\\').replace(\\',\\',\\'\\')) if isinstance(book.get(\\'price\\'), str) and book.get(\\'price\\').replace(\",\",\"\").isdigit() else book.get(\\'price\\') if isinstance(book.get(\\'price\\'),int) else 0, reverse=True)\\n\\n# books\\n\\nbooks = [\\n    {\\n        \\'no\\': 1,\\n        \\'title\\': \\'강남 아파트 인사이트\\',\\n        \\'writer\\': \\'오스틀\\',\\n        \\'price\\': \\'25,200\\'\\n    },\\n    {\\n        \\'no\\': 2,\\n        \\'title\\': \\'단 한 번의 삶\\',\\n        \\'writer\\': \\'김영하\\',\\n        \\'price\\': \\'18,100\\'\\n    },\\n    {\\n        \\'no\\': 3,\\n        \\'title\\': \\'흔한남매 19\\',\\n        \\'writer\\': \\'백난도\\',\\n        \\'price\\': \\'14,220\\'\\n    },\\n    {\\n        \\'no\\': 4,\\n        \\'title\\': \\'가격이잘못\\',\\n        \\'writer\\': \\'홍길동\\',\\n        \\'price\\': \\'-\\'\\n    },\\n    {\\n        \\'no\\': 5,\\n        \\'title\\': \\'가격이숫자\\',\\n        \\'writer\\': \\'신길동\\',\\n        \\'price\\': 900\\n    },\\n    {\\n        \\'no\\': 6,\\n        \\'title\\': \\'가격이없음\\',\\n        \\'writer\\': \\'김길동\\'\\n    },\\n]\\n\\ncopy_books = books.copy()\\n\\ncopy_books.sort(key = lambda book :\\n                int(book.get(\\'price\\').replace(\\',\\',\\'\\')) \\\\\\n                  if isinstance(book.get(\\'price\\'), str) and \\\\\\n                    book.get(\\'price\\').replace(\",\",\"\").isdigit() else \\\\\\n                  book.get(\\'price\\') if isinstance(book.get(\\'price\\'),int) else \\\\\\n                    0, reverse=True)\\ncopy_books',\n",
       "  '(lambda book :\\n                int(book.get(\\'price\\').replace(\\',\\',\\'\\')) \\\\\\n                  if isinstance(book.get(\\'price\\'), str) and \\\\\\n                    book.get(\\'price\\').replace(\",\",\"\").isdigit() else \\\\\\n                  book.get(\\'price\\') if isinstance(book.get(\\'price\\'),int) else \\\\\\n                    0)(books[0])',\n",
       "  '(lambda book :\\n                int(book.get(\\'price\\').replace(\\',\\',\\'\\')) \\\\\\n                  if isinstance(book.get(\\'price\\'), str) and \\\\\\n                    book.get(\\'price\\').replace(\",\",\"\").isdigit() else \\\\\\n                  book.get(\\'price\\') if isinstance(book.get(\\'price\\'),int) else \\\\\\n                    0)(books[0])',\n",
       "  '(lambda book :\\n                int(book.get(\\'price\\').replace(\\',\\',\\'\\')) \\\\\\n                  if isinstance(book.get(\\'price\\'), str) and \\\\\\n                    book.get(\\'price\\').replace(\",\",\"\").isdigit() else \\\\\\n                  book.get(\\'price\\') if isinstance(book.get(\\'price\\'),int) else \\\\\\n                    0)(books[0])',\n",
       "  '(lambda book :\\n                int(book.get(\\'price\\').replace(\\',\\',\\'\\')) \\\\\\n                  if isinstance(book.get(\\'price\\'), str) and \\\\\\n                    book.get(\\'price\\').replace(\",\",\"\").isdigit() else \\\\\\n                  book.get(\\'price\\') if isinstance(book.get(\\'price\\'),int) else \\\\\\n                    0)(books[0])',\n",
       "  'copy_books',\n",
       "  '# books.sort(key = lambda book : int(book.get(\\'price\\').replace(\\',\\',\\'\\')) if isinstance(book.get(\\'price\\'), str) and book.get(\\'price\\').replace(\",\",\"\").isdigit() else book.get(\\'price\\') if isinstance(book.get(\\'price\\'),int) else 0, reverse=True)\\n\\n# books\\n\\nbooks = [\\n    {\\n        \\'no\\': 1,\\n        \\'title\\': \\'강남 아파트 인사이트\\',\\n        \\'writer\\': \\'오스틀\\',\\n        \\'price\\': \\'25,200\\'\\n    },\\n    {\\n        \\'no\\': 2,\\n        \\'title\\': \\'단 한 번의 삶\\',\\n        \\'writer\\': \\'김영하\\',\\n        \\'price\\': \\'18,100\\'\\n    },\\n    {\\n        \\'no\\': 3,\\n        \\'title\\': \\'흔한남매 19\\',\\n        \\'writer\\': \\'백난도\\',\\n        \\'price\\': \\'14,220\\'\\n    },\\n    {\\n        \\'no\\': 4,\\n        \\'title\\': \\'가격이잘못\\',\\n        \\'writer\\': \\'홍길동\\',\\n        \\'price\\': \\'-\\'\\n    },\\n    {\\n        \\'no\\': 5,\\n        \\'title\\': \\'가격이숫자\\',\\n        \\'writer\\': \\'신길동\\',\\n        \\'price\\': 900\\n    },\\n    {\\n        \\'no\\': 6,\\n        \\'title\\': \\'가격이없음\\',\\n        \\'writer\\': \\'김길동\\'\\n    },\\n]\\n\\ncopy_books = books.copy()\\n\\ncopy_books.sort(key = lambda book :\\n                int(book.get(\\'price\\').replace(\\',\\',\\'\\')) \\\\\\n                  if isinstance(book.get(\\'price\\'), str) and \\\\\\n                    book.get(\\'price\\').replace(\",\",\"\").isdigit() else \\\\\\n                  book.get(\\'price\\') if isinstance(book.get(\\'price\\'),int) else \\\\\\n                    0, reverse=True)',\n",
       "  'copy_books',\n",
       "  '(lambda book :\\n                int(book.get(\\'price\\').replace(\\',\\',\\'\\')) \\\\\\n                  if isinstance(book.get(\\'price\\'), str) and \\\\\\n                    book.get(\\'price\\').replace(\",\",\"\").isdigit() else \\\\\\n                  book.get(\\'price\\') if isinstance(book.get(\\'price\\'),int) else \\\\\\n                    0)(books[0])',\n",
       "  '(lambda book :\\n                int(book.get(\\'price\\').replace(\\',\\',\\'\\')) \\\\\\n                  if isinstance(book.get(\\'price\\'), str) and \\\\\\n                    book.get(\\'price\\').replace(\",\",\"\").isdigit() else \\\\\\n                  book.get(\\'price\\') if isinstance(book.get(\\'price\\'),int) else \\\\\\n                    0)(books[0])',\n",
       "  '(lambda book :\\n                int(book.get(\\'price\\').replace(\\',\\',\\'\\')) \\\\\\n                  if isinstance(book.get(\\'price\\'), str) and \\\\\\n                    book.get(\\'price\\').replace(\",\",\"\").isdigit() else \\\\\\n                  book.get(\\'price\\') if isinstance(book.get(\\'price\\'),int) else \\\\\\n                    0)(books[0])',\n",
       "  'books',\n",
       "  'from IPython.display import display, HTML\\ndisplay(HTML(\"\"\"\\n<style>\\n* {font-family:Consolas;}\\ndiv.container{width:87% !important;}\\ndiv.cell.code_cell.rendered{width:100%;}\\ndiv.CodeMirror {font-size:12pt;}\\ndiv.output {font-size:12pt; font-weight:bold;}\\ndiv.input { font-size:12pt;}\\ndiv.prompt {min-width:70px;}\\ndiv#toc-wrapper{padding-top:120px;}\\ndiv.text_cell_render ul li{font-size:12pt;padding:5px;}\\ntable.dataframe{font-size:12px;}\\n</style>\\n\"\"\"))',\n",
       "  '# 함수를 return\\ndef make_box(shape) :# shape : [l] => len가 l인 list 를 생성하는 함수 return, \\n                    #          [r, c] => r행 c열인 2차원 list 를 생성하는 함수 return\\n                    #          [d, r, c] => d면, r행, c열 3차원 list 를 생성하는 함수 return\\n            \\n    def box(init_value) :\\n        if len(shape):\\n            return [init_value]*shape[0]',\n",
       "  '# 함수를 return\\ndef make_box(shape) :# shape : [l] => len가 l인 list 를 생성하는 함수 return, \\n                    #          [r, c] => r행 c열인 2차원 list 를 생성하는 함수 return\\n                    #          [d, r, c] => d면, r행, c열 3차원 list 를 생성하는 함수 return\\n            \\n    def box(init_value) :\\n        if len(shape) == 1:\\n            return [init_value]*shape[0]\\n        elif len(shape) == 2:\\n            return [ [init_value] * shape[1] ] * shape[0]',\n",
       "  '# 함수를 return\\ndef make_box(shape) :# shape : [l] => len가 l인 list 를 생성하는 함수 return, \\n                    #          [r, c] => r행 c열인 2차원 list 를 생성하는 함수 return\\n                    #          [d, r, c] => d면, r행, c열 3차원 list 를 생성하는 함수 return\\n            \\n    def box(init_value) :\\n        if len(shape) == 1:\\n            return [init_value]*shape[0]\\n        elif len(shape) == 2:\\n            return [ [init_value] * shape[1] ] * shape[0]',\n",
       "  '# 함수를 return\\ndef make_box(shape) :# shape : [l] => len가 l인 list 를 생성하는 함수 return, \\n                    #          [r, c] => r행 c열인 2차원 list 를 생성하는 함수 return\\n                    #          [d, r, c] => d면, r행, c열 3차원 list 를 생성하는 함수 return\\n            \\n    def box(init_value) :\\n        if len(shape) == 1:\\n            return [init_value]*shape[0]\\n        elif len(shape) == 2:\\n            return [ [init_value] * shape[1] ] * shape[0]',\n",
       "  'line_func = make_box([2, 3])',\n",
       "  'line_func = make_box([2, 3])\\n\\nprint(line_func)',\n",
       "  'line_func = make_box([2, 3])\\n\\nline_func(3)',\n",
       "  'line_func1 = make_box([10])\\nline_func1(3)',\n",
       "  '# 함수를 return\\ndef make_box(shape):\\n    # shape : [l] => len가 l인 list 를 생성하는 함수 return,\\n    #         [r, c] => r행 c열인 2차원 list 를 생성하는 함수 return\\n    #         [d, r, c] => d면, r행, c열 3차원 list 를 생성하는 함수 return\\n\\n    def box(init_value):\\n        if len(shape) == 1:\\n            return [init_value] * shape[0]\\n        elif len(shape) == 2:\\n            return [[init_value] * shape[1]] * shape[0]]\\n    return box',\n",
       "  'line_func = make_box([2, 3])\\n\\nline_func(3)',\n",
       "  'line_func1 = make_box([10])\\nline_func1(3)',\n",
       "  '# 함수를 return\\ndef make_box(shape):\\n    # shape : [l] => len가 l인 list 를 생성하는 함수 return,\\n    #         [r, c] => r행 c열인 2차원 list 를 생성하는 함수 return\\n    #         [d, r, c] => d면, r행, c열 3차원 list 를 생성하는 함수 return\\n\\n    def box(init_value):\\n        if len(shape) == 1:\\n            return [init_value] * shape[0]\\n        elif len(shape) == 2:\\n            return [[init_value] * shape[1]] * shape[0]\\n    return box',\n",
       "  'line_func = make_box([2, 3])\\n\\nline_func(3)',\n",
       "  'line_func1 = make_box([10])\\nline_func1(3)',\n",
       "  'def make_box(shape):\\n    if len(shape)==1:',\n",
       "  'def make_box(shape):\\n    if len(shape)==1:\\n        return lambda init_value : [init_value] * shape[0]\\n    elif len(shape) ==2 :\\n        return [[init_value]* shape[1]] * shape[0]',\n",
       "  'line_func = make_box([2, 3])\\n\\nline_func(3)',\n",
       "  'def make_box(shape):\\n    if len(shape)==1:\\n        return lambda init_value : [init_value] * shape[0]\\n    elif len(shape) ==2 :\\n        return [[init_value]* shape[1]] * shape[0]',\n",
       "  'line_func = make_box([2, 3])\\n\\nline_func(3)',\n",
       "  'line_func1 = make_box([10])\\nline_func1(3)',\n",
       "  'line_func = make_box([2, 3])\\n\\nline_func(3)',\n",
       "  'line_func = make_box([2, 3])\\n\\nline_func(3)',\n",
       "  'line_func = make_box([2, 3])\\n\\nline_func(3)',\n",
       "  'line_func = make_box([2, 3])\\n\\nline_func(3)',\n",
       "  'line_func = make_box([2, 3])\\n\\nline_func(3)',\n",
       "  'line_func = make_box([2, 3])\\n\\nline_func(3)',\n",
       "  'line_func = make_box([2, 3])\\n\\nline_func(3)',\n",
       "  'line_func = make_box([2, 3])\\nline_func(3)',\n",
       "  'def make_box(shape):\\n    if len(shape)==1:\\n        return lambda init_value : [init_value] * shape[0]\\n    elif len(shape) ==2 :\\n        return lambda [[init_value]* shape[1]] * shape[0]',\n",
       "  'def make_box(shape):\\n    if len(shape)==1:\\n        return lambda init_value : [init_value] * shape[0]\\n    elif len(shape) ==2 :\\n        return lambda init_value : [[init_value]* shape[1]] * shape[0]',\n",
       "  'line_func = make_box([2, 3])\\nline_func(3)',\n",
       "  'line_func1 = make_box([10])\\nline_func1(3)',\n",
       "  'globals()'],\n",
       " 'Out': {3: [{'no': 1,\n",
       "    'title': '강남 아파트 인사이트',\n",
       "    'writer': '오스틀',\n",
       "    'price': '25,200'},\n",
       "   {'no': 2, 'title': '단 한 번의 삶', 'writer': '김영하', 'price': '18,100'},\n",
       "   {'no': 3, 'title': '흔한남매 19', 'writer': '백난도', 'price': '14,220'},\n",
       "   {'no': 5, 'title': '가격이숫자', 'writer': '신길동', 'price': 900},\n",
       "   {'no': 4, 'title': '가격이잘못', 'writer': '홍길동', 'price': '-'},\n",
       "   {'no': 6, 'title': '가격이없음', 'writer': '김길동'}],\n",
       "  4: [{'no': 1, 'title': '강남 아파트 인사이트', 'writer': '오스틀', 'price': '25,200'},\n",
       "   {'no': 2, 'title': '단 한 번의 삶', 'writer': '김영하', 'price': '18,100'},\n",
       "   {'no': 3, 'title': '흔한남매 19', 'writer': '백난도', 'price': '14,220'},\n",
       "   {'no': 4, 'title': '가격이잘못', 'writer': '홍길동', 'price': '-'},\n",
       "   {'no': 5, 'title': '가격이숫자', 'writer': '신길동', 'price': 900},\n",
       "   {'no': 6, 'title': '가격이없음', 'writer': '김길동'}],\n",
       "  5: [{'no': 1, 'title': '강남 아파트 인사이트', 'writer': '오스틀', 'price': '25,200'},\n",
       "   {'no': 2, 'title': '단 한 번의 삶', 'writer': '김영하', 'price': '18,100'},\n",
       "   {'no': 3, 'title': '흔한남매 19', 'writer': '백난도', 'price': '14,220'},\n",
       "   {'no': 5, 'title': '가격이숫자', 'writer': '신길동', 'price': 900},\n",
       "   {'no': 4, 'title': '가격이잘못', 'writer': '홍길동', 'price': '-'},\n",
       "   {'no': 6, 'title': '가격이없음', 'writer': '김길동'}],\n",
       "  7: 25200,\n",
       "  8: [{'no': 1, 'title': '강남 아파트 인사이트', 'writer': '오스틀', 'price': '25,200'},\n",
       "   {'no': 2, 'title': '단 한 번의 삶', 'writer': '김영하', 'price': '18,100'},\n",
       "   {'no': 3, 'title': '흔한남매 19', 'writer': '백난도', 'price': '14,220'},\n",
       "   {'no': 5, 'title': '가격이숫자', 'writer': '신길동', 'price': 900},\n",
       "   {'no': 4, 'title': '가격이잘못', 'writer': '홍길동', 'price': '-'},\n",
       "   {'no': 6, 'title': '가격이없음', 'writer': '김길동'}],\n",
       "  9: 25200,\n",
       "  10: 25200,\n",
       "  11: 25200,\n",
       "  12: 25200,\n",
       "  13: [{'no': 1, 'title': '강남 아파트 인사이트', 'writer': '오스틀', 'price': '25,200'},\n",
       "   {'no': 2, 'title': '단 한 번의 삶', 'writer': '김영하', 'price': '18,100'},\n",
       "   {'no': 3, 'title': '흔한남매 19', 'writer': '백난도', 'price': '14,220'},\n",
       "   {'no': 5, 'title': '가격이숫자', 'writer': '신길동', 'price': 900},\n",
       "   {'no': 4, 'title': '가격이잘못', 'writer': '홍길동', 'price': '-'},\n",
       "   {'no': 6, 'title': '가격이없음', 'writer': '김길동'}],\n",
       "  15: [{'no': 1, 'title': '강남 아파트 인사이트', 'writer': '오스틀', 'price': '25,200'},\n",
       "   {'no': 2, 'title': '단 한 번의 삶', 'writer': '김영하', 'price': '18,100'},\n",
       "   {'no': 3, 'title': '흔한남매 19', 'writer': '백난도', 'price': '14,220'},\n",
       "   {'no': 5, 'title': '가격이숫자', 'writer': '신길동', 'price': 900},\n",
       "   {'no': 4, 'title': '가격이잘못', 'writer': '홍길동', 'price': '-'},\n",
       "   {'no': 6, 'title': '가격이없음', 'writer': '김길동'}],\n",
       "  16: 25200,\n",
       "  17: 25200,\n",
       "  18: 25200,\n",
       "  19: [{'no': 1, 'title': '강남 아파트 인사이트', 'writer': '오스틀', 'price': '25,200'},\n",
       "   {'no': 2, 'title': '단 한 번의 삶', 'writer': '김영하', 'price': '18,100'},\n",
       "   {'no': 3, 'title': '흔한남매 19', 'writer': '백난도', 'price': '14,220'},\n",
       "   {'no': 4, 'title': '가격이잘못', 'writer': '홍길동', 'price': '-'},\n",
       "   {'no': 5, 'title': '가격이숫자', 'writer': '신길동', 'price': 900},\n",
       "   {'no': 6, 'title': '가격이없음', 'writer': '김길동'}],\n",
       "  33: [[3, 3, 3], [3, 3, 3]],\n",
       "  34: [3, 3, 3, 3, 3, 3, 3, 3, 3, 3],\n",
       "  40: [3, 3, 3, 3, 3, 3, 3, 3, 3, 3],\n",
       "  51: [[3, 3, 3], [3, 3, 3]],\n",
       "  52: [3, 3, 3, 3, 3, 3, 3, 3, 3, 3]},\n",
       " 'get_ipython': <function IPython.core.getipython.get_ipython()>,\n",
       " 'exit': <IPython.core.autocall.ZMQExitAutocall at 0x29e7499f5e0>,\n",
       " 'quit': <IPython.core.autocall.ZMQExitAutocall at 0x29e7499f5e0>,\n",
       " 'open': <function io.open(file, mode='r', buffering=-1, encoding=None, errors=None, newline=None, closefd=True, opener=None)>,\n",
       " '_': [3, 3, 3, 3, 3, 3, 3, 3, 3, 3],\n",
       " '__': [[3, 3, 3], [3, 3, 3]],\n",
       " '___': [3, 3, 3, 3, 3, 3, 3, 3, 3, 3],\n",
       " 'json': <module 'json' from 'C:\\\\Users\\\\Admin\\\\anaconda3\\\\lib\\\\json\\\\__init__.py'>,\n",
       " 'yapf_reformat': <function __main__.yapf_reformat(cell_text)>,\n",
       " 'autopep8': <module 'autopep8' from 'C:\\\\Users\\\\Admin\\\\anaconda3\\\\lib\\\\site-packages\\\\autopep8.py'>,\n",
       " 'getsizeof': <function sys.getsizeof>,\n",
       " 'NamespaceMagics': IPython.core.magics.namespace.NamespaceMagics,\n",
       " '_nms': <IPython.core.magics.namespace.NamespaceMagics at 0x29e74e7e500>,\n",
       " '_Jupyter': <ipykernel.zmqshell.ZMQInteractiveShell at 0x29e7498feb0>,\n",
       " 'np': <module 'numpy' from 'C:\\\\Users\\\\Admin\\\\anaconda3\\\\lib\\\\site-packages\\\\numpy\\\\__init__.py'>,\n",
       " '_getsizeof': <function __main__._getsizeof(x)>,\n",
       " '_getshapeof': <function __main__._getshapeof(x)>,\n",
       " '_getcontentof': <function __main__._getcontentof(x)>,\n",
       " 'var_dic_list': <function __main__.var_dic_list()>,\n",
       " '_i': 'line_func1 = make_box([10])\\nline_func1(3)',\n",
       " '_ii': 'line_func = make_box([2, 3])\\nline_func(3)',\n",
       " '_iii': 'def make_box(shape):\\n    if len(shape)==1:\\n        return lambda init_value : [init_value] * shape[0]\\n    elif len(shape) ==2 :\\n        return lambda init_value : [[init_value]* shape[1]] * shape[0]',\n",
       " '_i1': 'from IPython.display import display, HTML\\ndisplay(HTML(\"\"\"\\n<style>\\n* {font-family:;}\\ndiv.container{width:87% !important;}\\ndiv.cell.code_cell.rendered{width:100%;}\\ndiv.CodeMirror {font-size:12pt;}\\ndiv.output {font-size:12pt; font-weight:bold;}\\ndiv.input { font-size:12pt;}\\ndiv.prompt {min-width:70px;}\\ndiv#toc-wrapper{padding-top:120px;}\\ndiv.text_cell_render ul li{font-size:12pt;padding:5px;}\\ntable.dataframe{font-size:12px;}\\n</style>\\n\"\"\"))',\n",
       " 'display': <function IPython.core.display_functions.display(*objs, include=None, exclude=None, metadata=None, transient=None, display_id=None, raw=False, clear=False, **kwargs)>,\n",
       " 'HTML': IPython.core.display.HTML,\n",
       " '_i2': 'books',\n",
       " '_i3': '# books.sort(key = lambda book : int(book.get(\\'price\\').replace(\\',\\',\\'\\')) if isinstance(book.get(\\'price\\'), str) and book.get(\\'price\\').replace(\",\",\"\").isdigit() else book.get(\\'price\\') if isinstance(book.get(\\'price\\'),int) else 0, reverse=True)\\n\\n# books\\n\\nbooks = [\\n    {\\n        \\'no\\': 1,\\n        \\'title\\': \\'강남 아파트 인사이트\\',\\n        \\'writer\\': \\'오스틀\\',\\n        \\'price\\': \\'25,200\\'\\n    },\\n    {\\n        \\'no\\': 2,\\n        \\'title\\': \\'단 한 번의 삶\\',\\n        \\'writer\\': \\'김영하\\',\\n        \\'price\\': \\'18,100\\'\\n    },\\n    {\\n        \\'no\\': 3,\\n        \\'title\\': \\'흔한남매 19\\',\\n        \\'writer\\': \\'백난도\\',\\n        \\'price\\': \\'14,220\\'\\n    },\\n    {\\n        \\'no\\': 4,\\n        \\'title\\': \\'가격이잘못\\',\\n        \\'writer\\': \\'홍길동\\',\\n        \\'price\\': \\'-\\'\\n    },\\n    {\\n        \\'no\\': 5,\\n        \\'title\\': \\'가격이숫자\\',\\n        \\'writer\\': \\'신길동\\',\\n        \\'price\\': 900\\n    },\\n    {\\n        \\'no\\': 6,\\n        \\'title\\': \\'가격이없음\\',\\n        \\'writer\\': \\'김길동\\'\\n    },\\n]\\n\\ncopy_books = books.copy()\\n\\ncopy_books.sort(key = lambda book :\\n                int(book.get(\\'price\\').replace(\\',\\',\\'\\')) \\\\\\n                  if isinstance(book.get(\\'price\\'), str) and \\\\\\n                    book.get(\\'price\\').replace(\",\",\"\").isdigit() else \\\\\\n                  book.get(\\'price\\') if isinstance(book.get(\\'price\\'),int) else \\\\\\n                    0, reverse=True)\\ncopy_books',\n",
       " 'books': [{'no': 1,\n",
       "   'title': '강남 아파트 인사이트',\n",
       "   'writer': '오스틀',\n",
       "   'price': '25,200'},\n",
       "  {'no': 2, 'title': '단 한 번의 삶', 'writer': '김영하', 'price': '18,100'},\n",
       "  {'no': 3, 'title': '흔한남매 19', 'writer': '백난도', 'price': '14,220'},\n",
       "  {'no': 4, 'title': '가격이잘못', 'writer': '홍길동', 'price': '-'},\n",
       "  {'no': 5, 'title': '가격이숫자', 'writer': '신길동', 'price': 900},\n",
       "  {'no': 6, 'title': '가격이없음', 'writer': '김길동'}],\n",
       " 'copy_books': [{'no': 1,\n",
       "   'title': '강남 아파트 인사이트',\n",
       "   'writer': '오스틀',\n",
       "   'price': '25,200'},\n",
       "  {'no': 2, 'title': '단 한 번의 삶', 'writer': '김영하', 'price': '18,100'},\n",
       "  {'no': 3, 'title': '흔한남매 19', 'writer': '백난도', 'price': '14,220'},\n",
       "  {'no': 5, 'title': '가격이숫자', 'writer': '신길동', 'price': 900},\n",
       "  {'no': 4, 'title': '가격이잘못', 'writer': '홍길동', 'price': '-'},\n",
       "  {'no': 6, 'title': '가격이없음', 'writer': '김길동'}],\n",
       " '_3': [{'no': 1, 'title': '강남 아파트 인사이트', 'writer': '오스틀', 'price': '25,200'},\n",
       "  {'no': 2, 'title': '단 한 번의 삶', 'writer': '김영하', 'price': '18,100'},\n",
       "  {'no': 3, 'title': '흔한남매 19', 'writer': '백난도', 'price': '14,220'},\n",
       "  {'no': 5, 'title': '가격이숫자', 'writer': '신길동', 'price': 900},\n",
       "  {'no': 4, 'title': '가격이잘못', 'writer': '홍길동', 'price': '-'},\n",
       "  {'no': 6, 'title': '가격이없음', 'writer': '김길동'}],\n",
       " '_i4': 'books',\n",
       " '_4': [{'no': 1, 'title': '강남 아파트 인사이트', 'writer': '오스틀', 'price': '25,200'},\n",
       "  {'no': 2, 'title': '단 한 번의 삶', 'writer': '김영하', 'price': '18,100'},\n",
       "  {'no': 3, 'title': '흔한남매 19', 'writer': '백난도', 'price': '14,220'},\n",
       "  {'no': 4, 'title': '가격이잘못', 'writer': '홍길동', 'price': '-'},\n",
       "  {'no': 5, 'title': '가격이숫자', 'writer': '신길동', 'price': 900},\n",
       "  {'no': 6, 'title': '가격이없음', 'writer': '김길동'}],\n",
       " '_i5': '# books.sort(key = lambda book : int(book.get(\\'price\\').replace(\\',\\',\\'\\')) if isinstance(book.get(\\'price\\'), str) and book.get(\\'price\\').replace(\",\",\"\").isdigit() else book.get(\\'price\\') if isinstance(book.get(\\'price\\'),int) else 0, reverse=True)\\n\\n# books\\n\\nbooks = [\\n    {\\n        \\'no\\': 1,\\n        \\'title\\': \\'강남 아파트 인사이트\\',\\n        \\'writer\\': \\'오스틀\\',\\n        \\'price\\': \\'25,200\\'\\n    },\\n    {\\n        \\'no\\': 2,\\n        \\'title\\': \\'단 한 번의 삶\\',\\n        \\'writer\\': \\'김영하\\',\\n        \\'price\\': \\'18,100\\'\\n    },\\n    {\\n        \\'no\\': 3,\\n        \\'title\\': \\'흔한남매 19\\',\\n        \\'writer\\': \\'백난도\\',\\n        \\'price\\': \\'14,220\\'\\n    },\\n    {\\n        \\'no\\': 4,\\n        \\'title\\': \\'가격이잘못\\',\\n        \\'writer\\': \\'홍길동\\',\\n        \\'price\\': \\'-\\'\\n    },\\n    {\\n        \\'no\\': 5,\\n        \\'title\\': \\'가격이숫자\\',\\n        \\'writer\\': \\'신길동\\',\\n        \\'price\\': 900\\n    },\\n    {\\n        \\'no\\': 6,\\n        \\'title\\': \\'가격이없음\\',\\n        \\'writer\\': \\'김길동\\'\\n    },\\n]\\n\\ncopy_books = books.copy()\\n\\ncopy_books.sort(key = lambda book :\\n                int(book.get(\\'price\\').replace(\\',\\',\\'\\')) \\\\\\n                  if isinstance(book.get(\\'price\\'), str) and \\\\\\n                    book.get(\\'price\\').replace(\",\",\"\").isdigit() else \\\\\\n                  book.get(\\'price\\') if isinstance(book.get(\\'price\\'),int) else \\\\\\n                    0, reverse=True)\\ncopy_books',\n",
       " '_5': [{'no': 1, 'title': '강남 아파트 인사이트', 'writer': '오스틀', 'price': '25,200'},\n",
       "  {'no': 2, 'title': '단 한 번의 삶', 'writer': '김영하', 'price': '18,100'},\n",
       "  {'no': 3, 'title': '흔한남매 19', 'writer': '백난도', 'price': '14,220'},\n",
       "  {'no': 5, 'title': '가격이숫자', 'writer': '신길동', 'price': 900},\n",
       "  {'no': 4, 'title': '가격이잘못', 'writer': '홍길동', 'price': '-'},\n",
       "  {'no': 6, 'title': '가격이없음', 'writer': '김길동'}],\n",
       " '_i6': 'lambda book :\\n                int(book.get(\\'price\\').replace(\\',\\',\\'\\')) \\\\\\n                  if isinstance(book.get(\\'price\\'), str) and \\\\\\n                    book.get(\\'price\\').replace(\",\",\"\").isdigit() else \\\\\\n                  book.get(\\'price\\') if isinstance(book.get(\\'price\\'),int) else \\\\\\n                    0)(books[0])',\n",
       " '_i7': '(lambda book :\\n                int(book.get(\\'price\\').replace(\\',\\',\\'\\')) \\\\\\n                  if isinstance(book.get(\\'price\\'), str) and \\\\\\n                    book.get(\\'price\\').replace(\",\",\"\").isdigit() else \\\\\\n                  book.get(\\'price\\') if isinstance(book.get(\\'price\\'),int) else \\\\\\n                    0)(books[0])',\n",
       " '_7': 25200,\n",
       " '_i8': '# books.sort(key = lambda book : int(book.get(\\'price\\').replace(\\',\\',\\'\\')) if isinstance(book.get(\\'price\\'), str) and book.get(\\'price\\').replace(\",\",\"\").isdigit() else book.get(\\'price\\') if isinstance(book.get(\\'price\\'),int) else 0, reverse=True)\\n\\n# books\\n\\nbooks = [\\n    {\\n        \\'no\\': 1,\\n        \\'title\\': \\'강남 아파트 인사이트\\',\\n        \\'writer\\': \\'오스틀\\',\\n        \\'price\\': \\'25,200\\'\\n    },\\n    {\\n        \\'no\\': 2,\\n        \\'title\\': \\'단 한 번의 삶\\',\\n        \\'writer\\': \\'김영하\\',\\n        \\'price\\': \\'18,100\\'\\n    },\\n    {\\n        \\'no\\': 3,\\n        \\'title\\': \\'흔한남매 19\\',\\n        \\'writer\\': \\'백난도\\',\\n        \\'price\\': \\'14,220\\'\\n    },\\n    {\\n        \\'no\\': 4,\\n        \\'title\\': \\'가격이잘못\\',\\n        \\'writer\\': \\'홍길동\\',\\n        \\'price\\': \\'-\\'\\n    },\\n    {\\n        \\'no\\': 5,\\n        \\'title\\': \\'가격이숫자\\',\\n        \\'writer\\': \\'신길동\\',\\n        \\'price\\': 900\\n    },\\n    {\\n        \\'no\\': 6,\\n        \\'title\\': \\'가격이없음\\',\\n        \\'writer\\': \\'김길동\\'\\n    },\\n]\\n\\ncopy_books = books.copy()\\n\\ncopy_books.sort(key = lambda book :\\n                int(book.get(\\'price\\').replace(\\',\\',\\'\\')) \\\\\\n                  if isinstance(book.get(\\'price\\'), str) and \\\\\\n                    book.get(\\'price\\').replace(\",\",\"\").isdigit() else \\\\\\n                  book.get(\\'price\\') if isinstance(book.get(\\'price\\'),int) else \\\\\\n                    0, reverse=True)\\ncopy_books',\n",
       " '_8': [{'no': 1, 'title': '강남 아파트 인사이트', 'writer': '오스틀', 'price': '25,200'},\n",
       "  {'no': 2, 'title': '단 한 번의 삶', 'writer': '김영하', 'price': '18,100'},\n",
       "  {'no': 3, 'title': '흔한남매 19', 'writer': '백난도', 'price': '14,220'},\n",
       "  {'no': 5, 'title': '가격이숫자', 'writer': '신길동', 'price': 900},\n",
       "  {'no': 4, 'title': '가격이잘못', 'writer': '홍길동', 'price': '-'},\n",
       "  {'no': 6, 'title': '가격이없음', 'writer': '김길동'}],\n",
       " '_i9': '(lambda book :\\n                int(book.get(\\'price\\').replace(\\',\\',\\'\\')) \\\\\\n                  if isinstance(book.get(\\'price\\'), str) and \\\\\\n                    book.get(\\'price\\').replace(\",\",\"\").isdigit() else \\\\\\n                  book.get(\\'price\\') if isinstance(book.get(\\'price\\'),int) else \\\\\\n                    0)(books[0])',\n",
       " '_9': 25200,\n",
       " '_i10': '(lambda book :\\n                int(book.get(\\'price\\').replace(\\',\\',\\'\\')) \\\\\\n                  if isinstance(book.get(\\'price\\'), str) and \\\\\\n                    book.get(\\'price\\').replace(\",\",\"\").isdigit() else \\\\\\n                  book.get(\\'price\\') if isinstance(book.get(\\'price\\'),int) else \\\\\\n                    0)(books[0])',\n",
       " '_10': 25200,\n",
       " '_i11': '(lambda book :\\n                int(book.get(\\'price\\').replace(\\',\\',\\'\\')) \\\\\\n                  if isinstance(book.get(\\'price\\'), str) and \\\\\\n                    book.get(\\'price\\').replace(\",\",\"\").isdigit() else \\\\\\n                  book.get(\\'price\\') if isinstance(book.get(\\'price\\'),int) else \\\\\\n                    0)(books[0])',\n",
       " '_11': 25200,\n",
       " '_i12': '(lambda book :\\n                int(book.get(\\'price\\').replace(\\',\\',\\'\\')) \\\\\\n                  if isinstance(book.get(\\'price\\'), str) and \\\\\\n                    book.get(\\'price\\').replace(\",\",\"\").isdigit() else \\\\\\n                  book.get(\\'price\\') if isinstance(book.get(\\'price\\'),int) else \\\\\\n                    0)(books[0])',\n",
       " '_12': 25200,\n",
       " '_i13': 'copy_books',\n",
       " '_13': [{'no': 1, 'title': '강남 아파트 인사이트', 'writer': '오스틀', 'price': '25,200'},\n",
       "  {'no': 2, 'title': '단 한 번의 삶', 'writer': '김영하', 'price': '18,100'},\n",
       "  {'no': 3, 'title': '흔한남매 19', 'writer': '백난도', 'price': '14,220'},\n",
       "  {'no': 5, 'title': '가격이숫자', 'writer': '신길동', 'price': 900},\n",
       "  {'no': 4, 'title': '가격이잘못', 'writer': '홍길동', 'price': '-'},\n",
       "  {'no': 6, 'title': '가격이없음', 'writer': '김길동'}],\n",
       " '_i14': '# books.sort(key = lambda book : int(book.get(\\'price\\').replace(\\',\\',\\'\\')) if isinstance(book.get(\\'price\\'), str) and book.get(\\'price\\').replace(\",\",\"\").isdigit() else book.get(\\'price\\') if isinstance(book.get(\\'price\\'),int) else 0, reverse=True)\\n\\n# books\\n\\nbooks = [\\n    {\\n        \\'no\\': 1,\\n        \\'title\\': \\'강남 아파트 인사이트\\',\\n        \\'writer\\': \\'오스틀\\',\\n        \\'price\\': \\'25,200\\'\\n    },\\n    {\\n        \\'no\\': 2,\\n        \\'title\\': \\'단 한 번의 삶\\',\\n        \\'writer\\': \\'김영하\\',\\n        \\'price\\': \\'18,100\\'\\n    },\\n    {\\n        \\'no\\': 3,\\n        \\'title\\': \\'흔한남매 19\\',\\n        \\'writer\\': \\'백난도\\',\\n        \\'price\\': \\'14,220\\'\\n    },\\n    {\\n        \\'no\\': 4,\\n        \\'title\\': \\'가격이잘못\\',\\n        \\'writer\\': \\'홍길동\\',\\n        \\'price\\': \\'-\\'\\n    },\\n    {\\n        \\'no\\': 5,\\n        \\'title\\': \\'가격이숫자\\',\\n        \\'writer\\': \\'신길동\\',\\n        \\'price\\': 900\\n    },\\n    {\\n        \\'no\\': 6,\\n        \\'title\\': \\'가격이없음\\',\\n        \\'writer\\': \\'김길동\\'\\n    },\\n]\\n\\ncopy_books = books.copy()\\n\\ncopy_books.sort(key = lambda book :\\n                int(book.get(\\'price\\').replace(\\',\\',\\'\\')) \\\\\\n                  if isinstance(book.get(\\'price\\'), str) and \\\\\\n                    book.get(\\'price\\').replace(\",\",\"\").isdigit() else \\\\\\n                  book.get(\\'price\\') if isinstance(book.get(\\'price\\'),int) else \\\\\\n                    0, reverse=True)',\n",
       " '_i15': 'copy_books',\n",
       " '_15': [{'no': 1, 'title': '강남 아파트 인사이트', 'writer': '오스틀', 'price': '25,200'},\n",
       "  {'no': 2, 'title': '단 한 번의 삶', 'writer': '김영하', 'price': '18,100'},\n",
       "  {'no': 3, 'title': '흔한남매 19', 'writer': '백난도', 'price': '14,220'},\n",
       "  {'no': 5, 'title': '가격이숫자', 'writer': '신길동', 'price': 900},\n",
       "  {'no': 4, 'title': '가격이잘못', 'writer': '홍길동', 'price': '-'},\n",
       "  {'no': 6, 'title': '가격이없음', 'writer': '김길동'}],\n",
       " '_i16': '(lambda book :\\n                int(book.get(\\'price\\').replace(\\',\\',\\'\\')) \\\\\\n                  if isinstance(book.get(\\'price\\'), str) and \\\\\\n                    book.get(\\'price\\').replace(\",\",\"\").isdigit() else \\\\\\n                  book.get(\\'price\\') if isinstance(book.get(\\'price\\'),int) else \\\\\\n                    0)(books[0])',\n",
       " '_16': 25200,\n",
       " '_i17': '(lambda book :\\n                int(book.get(\\'price\\').replace(\\',\\',\\'\\')) \\\\\\n                  if isinstance(book.get(\\'price\\'), str) and \\\\\\n                    book.get(\\'price\\').replace(\",\",\"\").isdigit() else \\\\\\n                  book.get(\\'price\\') if isinstance(book.get(\\'price\\'),int) else \\\\\\n                    0)(books[0])',\n",
       " '_17': 25200,\n",
       " '_i18': '(lambda book :\\n                int(book.get(\\'price\\').replace(\\',\\',\\'\\')) \\\\\\n                  if isinstance(book.get(\\'price\\'), str) and \\\\\\n                    book.get(\\'price\\').replace(\",\",\"\").isdigit() else \\\\\\n                  book.get(\\'price\\') if isinstance(book.get(\\'price\\'),int) else \\\\\\n                    0)(books[0])',\n",
       " '_18': 25200,\n",
       " '_i19': 'books',\n",
       " '_19': [{'no': 1, 'title': '강남 아파트 인사이트', 'writer': '오스틀', 'price': '25,200'},\n",
       "  {'no': 2, 'title': '단 한 번의 삶', 'writer': '김영하', 'price': '18,100'},\n",
       "  {'no': 3, 'title': '흔한남매 19', 'writer': '백난도', 'price': '14,220'},\n",
       "  {'no': 4, 'title': '가격이잘못', 'writer': '홍길동', 'price': '-'},\n",
       "  {'no': 5, 'title': '가격이숫자', 'writer': '신길동', 'price': 900},\n",
       "  {'no': 6, 'title': '가격이없음', 'writer': '김길동'}],\n",
       " '_i20': 'from IPython.display import display, HTML\\ndisplay(HTML(\"\"\"\\n<style>\\n* {font-family:Consolas;}\\ndiv.container{width:87% !important;}\\ndiv.cell.code_cell.rendered{width:100%;}\\ndiv.CodeMirror {font-size:12pt;}\\ndiv.output {font-size:12pt; font-weight:bold;}\\ndiv.input { font-size:12pt;}\\ndiv.prompt {min-width:70px;}\\ndiv#toc-wrapper{padding-top:120px;}\\ndiv.text_cell_render ul li{font-size:12pt;padding:5px;}\\ntable.dataframe{font-size:12px;}\\n</style>\\n\"\"\"))',\n",
       " '_i21': '# 함수를 return\\ndef make_box(shape) :# shape : [l] => len가 l인 list 를 생성하는 함수 return, \\n                    #          [r, c] => r행 c열인 2차원 list 를 생성하는 함수 return\\n                    #          [d, r, c] => d면, r행, c열 3차원 list 를 생성하는 함수 return\\n            \\n    def box(init_value) :\\n        if len(shape):\\n            return [init_value]*shape[0]',\n",
       " 'make_box': <function __main__.make_box(shape)>,\n",
       " '_i22': '# 함수를 return\\ndef make_box(shape) :# shape : [l] => len가 l인 list 를 생성하는 함수 return, \\n                    #          [r, c] => r행 c열인 2차원 list 를 생성하는 함수 return\\n                    #          [d, r, c] => d면, r행, c열 3차원 list 를 생성하는 함수 return\\n            \\n    def box(init_value) :\\n        if len(shape) == 1:\\n            return [init_value]*shape[0]\\n        elif len(shape) == 2:\\n            return [ [init_value] * shape[1] ] * shape[0]',\n",
       " '_i23': '# 함수를 return\\ndef make_box(shape) :# shape : [l] => len가 l인 list 를 생성하는 함수 return, \\n                    #          [r, c] => r행 c열인 2차원 list 를 생성하는 함수 return\\n                    #          [d, r, c] => d면, r행, c열 3차원 list 를 생성하는 함수 return\\n            \\n    def box(init_value) :\\n        if len(shape) == 1:\\n            return [init_value]*shape[0]\\n        elif len(shape) == 2:\\n            return [ [init_value] * shape[1] ] * shape[0]',\n",
       " '_i24': '# 함수를 return\\ndef make_box(shape) :# shape : [l] => len가 l인 list 를 생성하는 함수 return, \\n                    #          [r, c] => r행 c열인 2차원 list 를 생성하는 함수 return\\n                    #          [d, r, c] => d면, r행, c열 3차원 list 를 생성하는 함수 return\\n            \\n    def box(init_value) :\\n        if len(shape) == 1:\\n            return [init_value]*shape[0]\\n        elif len(shape) == 2:\\n            return [ [init_value] * shape[1] ] * shape[0]',\n",
       " '_i25': 'line_func = make_box([2, 3])',\n",
       " 'line_func': <function __main__.make_box.<locals>.<lambda>(init_value)>,\n",
       " '_i26': 'line_func = make_box([2, 3])\\n\\nprint(line_func)',\n",
       " '_i27': 'line_func = make_box([2, 3])\\n\\nline_func(3)',\n",
       " '_i28': 'line_func1 = make_box([10])\\nline_func1(3)',\n",
       " 'line_func1': <function __main__.make_box.<locals>.<lambda>(init_value)>,\n",
       " '_i29': '# 함수를 return\\ndef make_box(shape):\\n    # shape : [l] => len가 l인 list 를 생성하는 함수 return,\\n    #         [r, c] => r행 c열인 2차원 list 를 생성하는 함수 return\\n    #         [d, r, c] => d면, r행, c열 3차원 list 를 생성하는 함수 return\\n\\n    def box(init_value):\\n        if len(shape) == 1:\\n            return [init_value] * shape[0]\\n        elif len(shape) == 2:\\n            return [[init_value] * shape[1]] * shape[0]]\\n    return box',\n",
       " '_i30': 'line_func = make_box([2, 3])\\n\\nline_func(3)',\n",
       " '_i31': 'line_func1 = make_box([10])\\nline_func1(3)',\n",
       " '_i32': '# 함수를 return\\ndef make_box(shape):\\n    # shape : [l] => len가 l인 list 를 생성하는 함수 return,\\n    #         [r, c] => r행 c열인 2차원 list 를 생성하는 함수 return\\n    #         [d, r, c] => d면, r행, c열 3차원 list 를 생성하는 함수 return\\n\\n    def box(init_value):\\n        if len(shape) == 1:\\n            return [init_value] * shape[0]\\n        elif len(shape) == 2:\\n            return [[init_value] * shape[1]] * shape[0]\\n    return box',\n",
       " '_i33': 'line_func = make_box([2, 3])\\n\\nline_func(3)',\n",
       " '_33': [[3, 3, 3], [3, 3, 3]],\n",
       " '_i34': 'line_func1 = make_box([10])\\nline_func1(3)',\n",
       " '_34': [3, 3, 3, 3, 3, 3, 3, 3, 3, 3],\n",
       " '_i35': 'def make_box(shape):\\n    if len(shape)==1:',\n",
       " '_i36': 'def make_box(shape):\\n    if len(shape)==1:\\n        return lambda init_value : [init_value] * shape[0]\\n    elif len(shape) ==2 :\\n        return [[init_value]* shape[1]] * shape[0]',\n",
       " '_i37': 'line_func = make_box([2, 3])\\n\\nline_func(3)',\n",
       " '_i38': 'def make_box(shape):\\n    if len(shape)==1:\\n        return lambda init_value : [init_value] * shape[0]\\n    elif len(shape) ==2 :\\n        return [[init_value]* shape[1]] * shape[0]',\n",
       " '_i39': 'line_func = make_box([2, 3])\\n\\nline_func(3)',\n",
       " '_i40': 'line_func1 = make_box([10])\\nline_func1(3)',\n",
       " '_40': [3, 3, 3, 3, 3, 3, 3, 3, 3, 3],\n",
       " '_i41': 'line_func = make_box([2, 3])\\n\\nline_func(3)',\n",
       " '_i42': 'line_func = make_box([2, 3])\\n\\nline_func(3)',\n",
       " '_i43': 'line_func = make_box([2, 3])\\n\\nline_func(3)',\n",
       " '_i44': 'line_func = make_box([2, 3])\\n\\nline_func(3)',\n",
       " '_i45': 'line_func = make_box([2, 3])\\n\\nline_func(3)',\n",
       " '_i46': 'line_func = make_box([2, 3])\\n\\nline_func(3)',\n",
       " '_i47': 'line_func = make_box([2, 3])\\n\\nline_func(3)',\n",
       " '_i48': 'line_func = make_box([2, 3])\\nline_func(3)',\n",
       " '_i49': 'def make_box(shape):\\n    if len(shape)==1:\\n        return lambda init_value : [init_value] * shape[0]\\n    elif len(shape) ==2 :\\n        return lambda [[init_value]* shape[1]] * shape[0]',\n",
       " '_i50': 'def make_box(shape):\\n    if len(shape)==1:\\n        return lambda init_value : [init_value] * shape[0]\\n    elif len(shape) ==2 :\\n        return lambda init_value : [[init_value]* shape[1]] * shape[0]',\n",
       " '_i51': 'line_func = make_box([2, 3])\\nline_func(3)',\n",
       " '_51': [[3, 3, 3], [3, 3, 3]],\n",
       " '_i52': 'line_func1 = make_box([10])\\nline_func1(3)',\n",
       " '_52': [3, 3, 3, 3, 3, 3, 3, 3, 3, 3],\n",
       " '_i53': 'globals()'}"
      ]
     },
     "execution_count": 53,
     "metadata": {},
     "output_type": "execute_result"
    }
   ],
   "source": [
    "globals() # 전역변수 리스트"
   ]
  },
  {
   "cell_type": "code",
   "execution_count": 59,
   "id": "f728d292",
   "metadata": {
    "ExecuteTime": {
     "end_time": "2025-04-17T06:50:21.919712Z",
     "start_time": "2025-04-17T06:50:21.898737Z"
    }
   },
   "outputs": [
    {
     "data": {
      "text/plain": [
       "False"
      ]
     },
     "execution_count": 59,
     "metadata": {},
     "output_type": "execute_result"
    }
   ],
   "source": [
    "all([True, True, True, False]) # 전부 True인지 여부"
   ]
  },
  {
   "cell_type": "code",
   "execution_count": 60,
   "id": "d9cebe4f",
   "metadata": {
    "ExecuteTime": {
     "end_time": "2025-04-17T06:50:57.525795Z",
     "start_time": "2025-04-17T06:50:57.500669Z"
    }
   },
   "outputs": [
    {
     "data": {
      "text/plain": [
       "4"
      ]
     },
     "execution_count": 60,
     "metadata": {},
     "output_type": "execute_result"
    }
   ],
   "source": [
    "round(3.5) # 반올림"
   ]
  },
  {
   "cell_type": "code",
   "execution_count": 66,
   "id": "552befae",
   "metadata": {
    "ExecuteTime": {
     "end_time": "2025-04-17T06:52:59.527096Z",
     "start_time": "2025-04-17T06:52:59.508685Z"
    }
   },
   "outputs": [
    {
     "data": {
      "text/plain": [
       "(4.0, 4.0, 3.0)"
      ]
     },
     "execution_count": 66,
     "metadata": {},
     "output_type": "execute_result"
    }
   ],
   "source": [
    "import numpy as np # numpy 모듈을 np라는 이름으로 Load\n",
    "np.round(3.5), np.ceil(3.1), np.floor(3.9) # 반올림, 올림, 내림"
   ]
  },
  {
   "cell_type": "markdown",
   "id": "af1d0ea8",
   "metadata": {},
   "source": [
    "# 연습문제(실습형)"
   ]
  },
  {
   "cell_type": "code",
   "execution_count": 99,
   "id": "bfc402f4",
   "metadata": {
    "ExecuteTime": {
     "end_time": "2025-04-17T07:21:51.018113Z",
     "start_time": "2025-04-17T07:21:51.004125Z"
    }
   },
   "outputs": [
    {
     "name": "stdout",
     "output_type": "stream",
     "text": [
      "함수 :  최대값 100, 최소값 1\n",
      "람다 :  최대값 100, 최소값 1\n"
     ]
    }
   ],
   "source": [
    "# 1. 함수의인자로 리스트를 받은 후 리스트 내에 있는 모든 정수값에 대한 최대값과 최소값을 리턴하는 함수를 작성하세요\n",
    "# • def get_max_min(data_list):\n",
    "# • get_max_min= lambda ~\n",
    "\n",
    "def get_max_min(data_list):\n",
    "    result = f\"최대값 {max(data_list)}, 최소값 {min(data_list)}\"\n",
    "    return result\n",
    "\n",
    "print(\"함수 : \", get_max_min([1, 100, 11, 2, 3, 4, 6, 50]))\n",
    "\n",
    "get_max_min_lambda = lambda x : f\"최대값 {max(data_list)}, 최소값 {min(data_list)}\"\n",
    "\n",
    "print(\"람다 : \",get_max_min_lambda([1, 100, 11, 2, 3, 4, 6, 50]))\n",
    "\n"
   ]
  },
  {
   "cell_type": "code",
   "execution_count": 30,
   "id": "c6eaebd7",
   "metadata": {
    "ExecuteTime": {
     "end_time": "2025-04-17T09:02:41.587693Z",
     "start_time": "2025-04-17T09:02:41.560495Z"
    }
   },
   "outputs": [
    {
     "name": "stdout",
     "output_type": "stream",
     "text": [
      "표준\n",
      "고도비만\n"
     ]
    }
   ],
   "source": [
    "# 2.체질량 지수(Body Mass Index, BMI)는 체중과 키를 이용해 비만도를 나타내는 지수로 아래의 수식에 의해 계산됩니다. 함수의 인자로 체중(kg)과 신장(m)를입력받은 후 BMI값에 따라 ‘마른 체형‘, ‘표준‘, ‘비만‘, ‘고도비만‘ 중 하나의 상태를 출력하는 함수를 구현해 보세요.\n",
    "# • getBMI(kg, m):\n",
    "# • BMI지수 = 체중(kg) / 신장(m)의 제곱\n",
    "# • BMI<18.5 : 마른체형\n",
    "# • 18.5<=BMI<25 : 표준\n",
    "# • 25<=BMI<30 : 비만\n",
    "# • BMI >=30 : 고도비만\n",
    "\n",
    "def getBMI (kg, cm):\n",
    "    m = cm / 100  # cm를 m로 변환\n",
    "    bmi = kg / (m ** 2)\n",
    "    \n",
    "    # print(bmi)\n",
    "    return \"마름체형\" if bmi < 18.5 else \"표준\" if 18.5<=bmi<25 else \"비만\" if 25<=bmi<30 else \"고도비만\" if bmi >= 30 else '측정불가'\n",
    "    \n",
    "print(getBMI(70, 175))\n",
    "\n",
    "getBMI_lambda = lambda kg, cm : \"마름체형\" if kg / ((cm / 100) ** 2) < 18.5 else \\\n",
    "                            \"표준\" if 18.5<=kg / ((cm / 100) ** 2)<25 else \\\n",
    "                            \"비만\" if 25<=kg / ((cm / 100) ** 2)<30 else \\\n",
    "                            \"고도비만\" if kg / ((cm / 100) ** 2) >= 30 else \\\n",
    "                            \"측정불가\"\n",
    "print(getBMI_lambda(90, 164))\n"
   ]
  },
  {
   "cell_type": "code",
   "execution_count": 24,
   "id": "f6f8f020",
   "metadata": {
    "ExecuteTime": {
     "end_time": "2025-04-17T08:56:39.962508Z",
     "start_time": "2025-04-17T08:56:39.949049Z"
    }
   },
   "outputs": [
    {
     "data": {
      "text/plain": [
       "{'넓이': 6.0, '둘레': 12.0}"
      ]
     },
     "execution_count": 24,
     "metadata": {},
     "output_type": "execute_result"
    }
   ],
   "source": [
    "# 3.직각삼각형의 밑변과 높이를 입력받은 후 삼각형의 면적과 둘레를 계산하는 함수를 작성하세요\n",
    "# • 리턴값은 면적과 둘레를 return하도록 구현하세요\n",
    "# • math.sqrt() : 제곱근을 구하는 함수이용 (ex)math.sqrt(25) : 5.0\n",
    "# • def get_triangle(width, height):\n",
    "\n",
    "import math\n",
    "def get_triangle(width, height):\n",
    "    area = width * height * 0.5\n",
    "    perimeter = width + height + math.sqrt(width*width + height*height)\n",
    "    return {'넓이':area, '둘레':perimeter}\n",
    " # math 모듈을 사용하라고 하지만 구현능력을 위해 하드코딩이라고 함(훈련생 曰)\n",
    "get_triangle_lambda = lambda width, height : {\n",
    "        '넓이':width * height * 0.5,\n",
    "        '둘레':width + height + (width*width + height*height)**0.5\n",
    "}\n",
    "get_triangle(3,4)"
   ]
  },
  {
   "cell_type": "code",
   "execution_count": 25,
   "id": "556d908d",
   "metadata": {},
   "outputs": [
    {
     "data": {
      "text/plain": [
       "5.0"
      ]
     },
     "execution_count": 25,
     "metadata": {},
     "output_type": "execute_result"
    }
   ],
   "source": [
    "# cf. 제곱근을 구하는 함수\n",
    "import math\n",
    "math.sqrt(25)"
   ]
  },
  {
   "cell_type": "code",
   "execution_count": 23,
   "id": "7f962613",
   "metadata": {
    "ExecuteTime": {
     "end_time": "2025-04-17T08:57:02.666829Z",
     "start_time": "2025-04-17T08:57:02.648978Z"
    }
   },
   "outputs": [
    {
     "name": "stdout",
     "output_type": "stream",
     "text": [
      "33\n",
      "33\n"
     ]
    }
   ],
   "source": [
    "# 4.함수의 인자로 시작과 끝 숫자가 주어질 때 시작부터 끝까지의 모든 정수값의 합을 리턴하는 함수를 작성하세요(시작값과 끝값 포함).\n",
    "# •def mysum(from, end):\n",
    "\n",
    "def mysum(fRom, end):\n",
    "    result = 0\n",
    "    for item in range(fRom, end+1):\n",
    "        result += item\n",
    "    return result\n",
    "\n",
    "print(mysum(10, 12))\n",
    "\n",
    "\n",
    "mysum2 = lambda fRom, end : sum(range(fRom, end+1))\n",
    "print(mysum2(10, 12))"
   ]
  },
  {
   "cell_type": "code",
   "execution_count": 6,
   "id": "8cc1654f",
   "metadata": {
    "ExecuteTime": {
     "end_time": "2025-04-18T00:24:59.444769Z",
     "start_time": "2025-04-18T00:24:59.429417Z"
    }
   },
   "outputs": [
    {
     "name": "stdout",
     "output_type": "stream",
     "text": [
      "함수 : ['Seo', 'Dae', 'Kwa', 'Jej']\n",
      "람다 : ['Seo', 'Dae', 'Kwa', 'Jej']\n"
     ]
    }
   ],
   "source": [
    "# 5. 함수의인자로 문자열을 포함하는 리스트가 입력될 때 각 문자열의 첫 세글자로만 구성된 리스트를 리턴하는 함수와 람다식을 작성하세요\n",
    "# • 예를 들어 함수의 입력으로 [‘Seoul’, ‘Daegu’, ‘Kwangju’, ‘Jeju’]가 입력될 때 함수의 리턴값은 [‘Seo’, ‘Dae’, ‘Kwa’,’Jej’]\n",
    "# • def get_abbrs(lst):\n",
    "\n",
    "def get_abbrs(lst):\n",
    "    # print(lst)\n",
    "    return [item[0:3] for item in lst]\n",
    "    \n",
    "print(\"함수 :\", get_abbrs(['Seoul', 'Daegu', 'Kwangju', 'Jeju']))\n",
    "\n",
    "get_abbrs_lambda = lambda lst : [(item[0:3]) for item in lst]\n",
    "\n",
    "print(\"람다 :\", get_abbrs_lambda(['Seoul', 'Daegu', 'Kwangju', 'Jeju']))"
   ]
  },
  {
   "cell_type": "code",
   "execution_count": 263,
   "id": "086e6796",
   "metadata": {
    "ExecuteTime": {
     "end_time": "2025-04-17T08:36:16.380423Z",
     "start_time": "2025-04-17T08:36:16.365085Z"
    }
   },
   "outputs": [
    {
     "name": "stdout",
     "output_type": "stream",
     "text": [
      "1\n"
     ]
    },
    {
     "data": {
      "text/plain": [
       "1"
      ]
     },
     "execution_count": 263,
     "metadata": {},
     "output_type": "execute_result"
    }
   ],
   "source": [
    "# 6. 다음 코드를 람다 함수 형태로 수정할 때 알맞은 코드를 작성하시오\n",
    "def f(x, y) :\n",
    "    return x ** y\n",
    "\n",
    "print(f(1,2))\n",
    "\n",
    "(lambda x, y : x ** y)(1,2)"
   ]
  },
  {
   "cell_type": "code",
   "execution_count": 20,
   "id": "da13d16b",
   "metadata": {},
   "outputs": [
    {
     "name": "stdout",
     "output_type": "stream",
     "text": [
      "8\n",
      "8\n"
     ]
    }
   ],
   "source": [
    "# 문제풀이\n",
    "# 실습형 6 함수를 람다식으로 변경\n",
    "fun = lambda x, y : x**y\n",
    "print(fun(2, 3))\n",
    "print((lambda x, y : x**y)(2,3))"
   ]
  },
  {
   "cell_type": "code",
   "execution_count": 19,
   "id": "2aa15775",
   "metadata": {
    "ExecuteTime": {
     "end_time": "2025-04-17T08:33:31.715770Z",
     "start_time": "2025-04-17T08:33:31.695792Z"
    }
   },
   "outputs": [
    {
     "data": {
      "text/plain": [
       "[1, 4, 9, 16, 25]"
      ]
     },
     "execution_count": 19,
     "metadata": {},
     "output_type": "execute_result"
    }
   ],
   "source": [
    "# 7. ex = [1,2,3,4,5]를 [1,4,9,16,25]의 결과를 얻을 수 있도록 람다함수와 map()함수를 사용하여 구현과 리스트 컴프리헨션으로 구현하시오.\n",
    "\n",
    "ex = [1, 2, 3, 4, 5]\n",
    "\n",
    "list(map(lambda ex_item: ex_item * ex_item, ex))\n",
    "\n",
    "# 문제풀이\n",
    "ex = [1,2,3,4,5]\n",
    "list(map(lambda x : x**2, ex))\n",
    "\n",
    "# 실습형 7. 리스트컴프리헨션 이용\n",
    "[x**2 for x in ex]\n"
   ]
  },
  {
   "cell_type": "code",
   "execution_count": 18,
   "id": "226439a2",
   "metadata": {
    "ExecuteTime": {
     "end_time": "2025-04-17T08:03:11.487738Z",
     "start_time": "2025-04-17T08:03:11.466845Z"
    }
   },
   "outputs": [
    {
     "name": "stdout",
     "output_type": "stream",
     "text": [
      "1 2 3\n",
      "[1, 2, 3]\n"
     ]
    }
   ],
   "source": [
    "# 8. 다음코드를 각각 실행하면 서로 다른 결과가 나온다. 이런 결과가 나오는 이유를 서술하시오\n",
    "a = [1, 2, 3]\n",
    "print(*a) #언패킹\n",
    "\n",
    "print(a) # 패킹\n",
    "\n",
    "\n",
    "answer=\"\"\"\n",
    "별표(asterisk, *)는 함수의 인자(argument)로 사용될 때, \n",
    "시퀀스형 자료형의 각각의 값(element)을 하나의 값(element)으로 넣어주게 된다(언패킹)\n",
    "그러므로 print(*a)의 의미는 사실 print(a[0], a[1], a[2])으로 나타나게 된다.\n",
    "\"\"\""
   ]
  },
  {
   "cell_type": "code",
   "execution_count": 19,
   "id": "e4d92015",
   "metadata": {
    "ExecuteTime": {
     "end_time": "2025-04-18T00:34:12.873882Z",
     "start_time": "2025-04-18T00:34:12.854991Z"
    }
   },
   "outputs": [
    {
     "data": {
      "text/plain": [
       "'2024-9-6'"
      ]
     },
     "execution_count": 19,
     "metadata": {},
     "output_type": "execute_result"
    }
   ],
   "source": [
    "# 9. 다음 코드의 실행 결과는?\n",
    "data_info = {'year': 2024, 'month': 9, 'day': 6}\n",
    "\n",
    "result = '{year}-{month}-{day}'.format(**data_info)\n",
    "result\n",
    "\n"
   ]
  },
  {
   "cell_type": "code",
   "execution_count": 34,
   "id": "86c98db8",
   "metadata": {
    "ExecuteTime": {
     "end_time": "2025-04-18T00:37:24.230577Z",
     "start_time": "2025-04-18T00:37:24.216861Z"
    }
   },
   "outputs": [
    {
     "data": {
      "text/plain": [
       "'2024-09-06'"
      ]
     },
     "execution_count": 34,
     "metadata": {},
     "output_type": "execute_result"
    }
   ],
   "source": [
    "# 문제풀이\n",
    "data_info = {'year': 2024, 'month': 9, 'day': 6}\n",
    "\n",
    "# result = \"{year}-{month}-{day}\".format(year='2019', month=9, day=6)\n",
    "# '2024-09-06을 원하면'\n",
    "result = \"{year}-{month:02}-{day:02}\".format(**data_info)\n",
    "result\n",
    "\n",
    "\n",
    "\n",
    "# 값이 문자일 경우\n",
    "data_info = {'year': '2024', 'month': '9', 'day': '6'}\n",
    "result = \"{year}-{month:>02}-{day:>02}\".format(**data_info)\n",
    "result"
   ]
  },
  {
   "cell_type": "code",
   "execution_count": 10,
   "id": "f2fb289a",
   "metadata": {
    "ExecuteTime": {
     "end_time": "2025-04-17T08:30:44.834409Z",
     "start_time": "2025-04-17T08:30:44.822441Z"
    }
   },
   "outputs": [
    {
     "data": {
      "text/plain": [
       "True"
      ]
     },
     "execution_count": 10,
     "metadata": {},
     "output_type": "execute_result"
    }
   ],
   "source": [
    "# 10. n개의 벡터(리스트나 튜플, 셋등)의 크기들이 같은지 여부를 reutrn하는 vector_size_check(*vector _var) 를 한 줄의 코드(리스트 컴프리헨션 이용)로 작성하시오.\n",
    "\n",
    "# vector_var = [(1, 2, 3, 4, 5, 6),[10,10],{\"name\":\"홍길동\"}]\n",
    "\n",
    "# def vector_size_check(*vector_var):\n",
    "#     # print(vector_var)\n",
    "#     return [len(item) for item in vector_var]\n",
    "    \n",
    "    \n",
    "# vector_size_check(*vector_var)"
   ]
  },
  {
   "cell_type": "code",
   "execution_count": 14,
   "id": "83a33ded",
   "metadata": {},
   "outputs": [
    {
     "data": {
      "text/plain": [
       "[2, 2, 2, 2]"
      ]
     },
     "execution_count": 14,
     "metadata": {},
     "output_type": "execute_result"
    }
   ],
   "source": [
    "# 문제풀이\n",
    "\n",
    "# 실습형 10. \n",
    "# 입력받은 n개의 벡터(리스트나 튜플이나 셋)의 크기들을 return 하는 함수\n",
    "def vector_size(*vector_var):\n",
    "    result = []\n",
    "    for vector in vector_var:\n",
    "        result.append(len(vector))\n",
    "    return result\n",
    "\n",
    "def vector_size(*vector_var):\n",
    "    return [len(vector) for vector in vector_var]\n",
    "\n",
    "vector_size([10, 20], (100, 200), {'name':'홍', 'age':20}, {1, 2})"
   ]
  },
  {
   "cell_type": "code",
   "execution_count": 38,
   "id": "5e173f6d",
   "metadata": {
    "ExecuteTime": {
     "end_time": "2025-04-18T00:42:02.395078Z",
     "start_time": "2025-04-18T00:42:02.375969Z"
    }
   },
   "outputs": [
    {
     "data": {
      "text/plain": [
       "True"
      ]
     },
     "execution_count": 38,
     "metadata": {},
     "output_type": "execute_result"
    }
   ],
   "source": [
    "# 원래 실습형 10. (셋 이용)\n",
    "# 입력받은 n개의 벡터(리스트나 튜플이나 셋)의 크기들이 모두 같은지 여부 return : 셋 이용\n",
    "# def vector_size_check(*vector_var):\n",
    "#     result = set()\n",
    "#     for vector in vector_var:\n",
    "#         result.add(len(vector))\n",
    "#     return len(result)==1\n",
    "\n",
    "\n",
    "def vector_size_check(*vector_var):\n",
    "    return len(set([len(vector) for vector in vector_var])) == 1\n",
    "\n",
    "\n",
    "vector_size_check([10, 20], (100, 200), {'name': '홍', 'age': 20}, {1, 2})"
   ]
  },
  {
   "cell_type": "code",
   "execution_count": 15,
   "id": "323db837",
   "metadata": {
    "ExecuteTime": {
     "end_time": "2025-04-18T00:29:02.074684Z",
     "start_time": "2025-04-18T00:29:02.056664Z"
    }
   },
   "outputs": [
    {
     "data": {
      "text/plain": [
       "False"
      ]
     },
     "execution_count": 15,
     "metadata": {},
     "output_type": "execute_result"
    }
   ],
   "source": [
    "vector_size_check([10, 20], (100,), {'name':'홍', 'age':20}, {1, 2})"
   ]
  },
  {
   "cell_type": "code",
   "execution_count": 11,
   "id": "48883f54",
   "metadata": {
    "code_folding": []
   },
   "outputs": [
    {
     "data": {
      "text/plain": [
       "True"
      ]
     },
     "execution_count": 11,
     "metadata": {},
     "output_type": "execute_result"
    }
   ],
   "source": [
    "# 원래 실습형 10. (all이용)\n",
    "# 입력받은 n개의 벡터(리스트나 튜플이나 셋)의 크기들이 모두 같은지 여부 return : all이용\n",
    "# def vector_size_check(*vector_var):\n",
    "#     result = []\n",
    "#     for vector in vector_var:\n",
    "#         result.append(len(vector))\n",
    "#     return all(result)\n",
    "\n",
    "\n",
    "def vector_size_check(*vector_var):\n",
    "    return all([len(vector) for vector in vector_var])\n",
    "\n",
    "\n",
    "vector_size_check([10, 20], (100, 200), {'name': '홍', 'age': 20}, {1, 2})"
   ]
  },
  {
   "cell_type": "code",
   "execution_count": 39,
   "id": "183dacb6",
   "metadata": {
    "ExecuteTime": {
     "end_time": "2025-04-18T00:46:33.938850Z",
     "start_time": "2025-04-18T00:46:33.910639Z"
    }
   },
   "outputs": [
    {
     "data": {
      "text/plain": [
       "False"
      ]
     },
     "execution_count": 39,
     "metadata": {},
     "output_type": "execute_result"
    }
   ],
   "source": [
    "vector_size_check([10, 20], (100,), {'name':'홍', 'age':20}, {1, 2})"
   ]
  },
  {
   "cell_type": "code",
   "execution_count": 40,
   "id": "eff99e38",
   "metadata": {
    "ExecuteTime": {
     "end_time": "2025-04-18T00:47:39.866014Z",
     "start_time": "2025-04-18T00:47:39.848387Z"
    }
   },
   "outputs": [
    {
     "data": {
      "text/plain": [
       "True"
      ]
     },
     "execution_count": 40,
     "metadata": {},
     "output_type": "execute_result"
    }
   ],
   "source": [
    "all([5, 5, 5, 5])"
   ]
  },
  {
   "cell_type": "code",
   "execution_count": null,
   "id": "8f69b152",
   "metadata": {},
   "outputs": [],
   "source": []
  },
  {
   "cell_type": "code",
   "execution_count": null,
   "id": "7a89d924",
   "metadata": {},
   "outputs": [],
   "source": [
    "# 11. 다음과 같은 결과를 얻기 위해 하나의 스칼라값을 리스트나 튜플, 셋등 벡터에 곱하는 코드를 작성하시오.(단 입력되는 벡터의 크기는 일정하지 않음)\n",
    "# 실습형 11 scalar_vector_product(5, [1,2,3,4]) => [5,10,15,20]\n",
    "def scalar_vector_product(num, vector):\n",
    "    return [num*vec for vec in vector]\n",
    "\n",
    "scalar_vector_product(5, [1,2,3,4])\n"
   ]
  },
  {
   "cell_type": "markdown",
   "id": "7b05a66c",
   "metadata": {},
   "source": [
    "\n",
    "# 연습문제(서술형)"
   ]
  },
  {
   "cell_type": "code",
   "execution_count": 155,
   "id": "add0296f",
   "metadata": {
    "ExecuteTime": {
     "end_time": "2025-04-17T07:45:08.439667Z",
     "start_time": "2025-04-17T07:45:08.412016Z"
    }
   },
   "outputs": [
    {
     "data": {
      "text/plain": [
       "[(4, 'a'), (3, 'b'), (2, 'c'), (1, 'd')]"
      ]
     },
     "execution_count": 155,
     "metadata": {},
     "output_type": "execute_result"
    }
   ],
   "source": [
    "# 1. 다음코드의 실행 결과는? \n",
    "pairs = [(1, 'd'), (2, 'c'), (3, 'b'), (4, 'a')]\n",
    "pairs.sort(key=lambda pair:pair[1])\n",
    "pairs\n",
    "\n",
    "# 정답: 2"
   ]
  },
  {
   "cell_type": "code",
   "execution_count": 49,
   "id": "5666c983",
   "metadata": {
    "ExecuteTime": {
     "end_time": "2025-04-18T00:51:18.678916Z",
     "start_time": "2025-04-18T00:51:18.660912Z"
    }
   },
   "outputs": [
    {
     "name": "stdout",
     "output_type": "stream",
     "text": [
      "6(func에서 a는 지역변수) 12(sub에서 a는 전역변수) 6(func에서 a는 지역변수) 13(sub에서 a는 전역변수) "
     ]
    }
   ],
   "source": [
    "# 2. 에러에 대한 문제 해결\n",
    "a = 10\n",
    "\n",
    "def sub() :\n",
    "    global a # 문제해결을 위한 코드\n",
    "    a += 1\n",
    "    print(a, end='(sub에서 a는 전역변수) ')\n",
    "    \n",
    "def func():\n",
    "    for i in range(2):\n",
    "        a = 5 # 지역변수\n",
    "        a += 1\n",
    "        print(a, end='(func에서 a는 지역변수) ')\n",
    "        sub()\n",
    "a += 1\n",
    "func()\n",
    "\n",
    "answer ='''\n",
    "오류가 발생하는 라인 : 원래 3번째줄(a += 1부분)\n",
    "a = a+1 : a에 값을 할당하면 지역변수가 됨\n",
    "          지역변수 a+1를 계산할 수 없음\n",
    "문제해결을 위해 : 에러나는 줄 앞에 global a 선언\n",
    "'''\n",
    "    "
   ]
  },
  {
   "cell_type": "code",
   "execution_count": 179,
   "id": "85ea925d",
   "metadata": {
    "ExecuteTime": {
     "end_time": "2025-04-17T07:52:12.582300Z",
     "start_time": "2025-04-17T07:52:12.568194Z"
    }
   },
   "outputs": [
    {
     "name": "stdout",
     "output_type": "stream",
     "text": [
      "func brfore :  100\n",
      "func after :  200\n",
      "전역변수 : 100\n"
     ]
    }
   ],
   "source": [
    "# 3. 다음구문을 실행한 결과는\n",
    "var = 100\n",
    "def func(var):\n",
    "    print(\"func brfore : \", var)\n",
    "    var = 200\n",
    "    print(\"func after : \", var)\n",
    "func(var)\n",
    "\n",
    "print(\"전역변수 :\", var)"
   ]
  },
  {
   "cell_type": "code",
   "execution_count": 3,
   "id": "cf843d6a",
   "metadata": {
    "ExecuteTime": {
     "end_time": "2025-04-17T07:52:56.355225Z",
     "start_time": "2025-04-17T07:52:56.339139Z"
    }
   },
   "outputs": [
    {
     "data": {
      "text/plain": [
       "5"
      ]
     },
     "execution_count": 3,
     "metadata": {},
     "output_type": "execute_result"
    }
   ],
   "source": [
    "# 4. 다음구문의실행 결과는?\n",
    "def my_func(func, *args):\n",
    "    return func(*args)\n",
    "\n",
    "import numpy as np\n",
    "\n",
    "my_func(np.add, 2, 3)\n",
    "\n",
    "# 출력값 5 "
   ]
  },
  {
   "cell_type": "code",
   "execution_count": 4,
   "id": "0ca5085e",
   "metadata": {},
   "outputs": [
    {
     "data": {
      "text/plain": [
       "5"
      ]
     },
     "execution_count": 4,
     "metadata": {},
     "output_type": "execute_result"
    }
   ],
   "source": [
    "np.add(2,3)"
   ]
  },
  {
   "cell_type": "code",
   "execution_count": 186,
   "id": "b493be4b",
   "metadata": {
    "ExecuteTime": {
     "end_time": "2025-04-17T07:55:22.156442Z",
     "start_time": "2025-04-17T07:55:22.129738Z"
    }
   },
   "outputs": [
    {
     "data": {
      "text/plain": [
       "9"
      ]
     },
     "execution_count": 186,
     "metadata": {},
     "output_type": "execute_result"
    }
   ],
   "source": [
    "# 5. 다음구문의 실행결과는?\n",
    "def my_func(func, *args):\n",
    "    return func(*args)\n",
    "\n",
    "my_func(lambda a, b : a**b, 3, 2)"
   ]
  },
  {
   "cell_type": "code",
   "execution_count": null,
   "id": "09df816f",
   "metadata": {},
   "outputs": [],
   "source": [
    "# 6. 파이썬 함수에 대한 설명 중 잘못된 것은?\n",
    "# ① 파이썬의 함수는 중복 정의해 사용할 수 있다.\n",
    "# ② 파이썬의 함수 매개변수는 기본값을 가질 수 있다.\n",
    "# ③ **args 형식의 매개변수가 있으면 키워드 인수는 딕셔너리 형식으로 받는다.\n",
    "# ④ 함수를 호출할 때 매개변수 이름이 없는 인수는 매개변수 이름이 있는 인수보다 앞에 와야 한다.\n",
    "\n",
    "# 정답 : 1"
   ]
  },
  {
   "cell_type": "code",
   "execution_count": 50,
   "id": "24781c3c",
   "metadata": {
    "ExecuteTime": {
     "end_time": "2025-04-18T00:53:57.396926Z",
     "start_time": "2025-04-18T00:53:57.372237Z"
    }
   },
   "outputs": [],
   "source": [
    "# 7. 다음과 같은 구문이 있을 경우 오류가 발생하는 함수 호출 ?\n",
    "\n",
    "list_ = []\n",
    "\n",
    "def func(a, L=None) :\n",
    "    if L is None:\n",
    "        L = []\n",
    "    L.append(a)\n",
    "    \n",
    "    return L\n",
    "\n",
    "# func(10, list_)\n",
    "# func(20, L=list_)\n",
    "# func(a=30)\n",
    "# func([], a =40)\n",
    "\n",
    "# 정답 : 4번"
   ]
  },
  {
   "cell_type": "code",
   "execution_count": 51,
   "id": "cfe071ad",
   "metadata": {
    "ExecuteTime": {
     "end_time": "2025-04-18T00:54:00.654113Z",
     "start_time": "2025-04-18T00:54:00.643887Z"
    }
   },
   "outputs": [],
   "source": [
    "# 8. 다음 보기가 설명하는 것을 작성하기 위한 키워드를 쓰세요 (영문 소문자로 쓰세요)\n",
    "# - 작은 익명함수를 의미합니다. \n",
    "# - 함수가 실행할 문장이 한 문장일 경우에 만들어 사용할 수 있습니다.\n",
    "# - 다른 함수의 인수 또는 리턴값에 사용할 수 있습니다.\n",
    "\n",
    "# 정답 : lambda"
   ]
  }
 ],
 "metadata": {
  "kernelspec": {
   "display_name": "Python 3 (ipykernel)",
   "language": "python",
   "name": "python3"
  },
  "language_info": {
   "codemirror_mode": {
    "name": "ipython",
    "version": 3
   },
   "file_extension": ".py",
   "mimetype": "text/x-python",
   "name": "python",
   "nbconvert_exporter": "python",
   "pygments_lexer": "ipython3",
   "version": "3.10.9"
  },
  "toc": {
   "base_numbering": 1,
   "nav_menu": {},
   "number_sections": false,
   "sideBar": true,
   "skip_h1_title": false,
   "title_cell": "Table of Contents",
   "title_sidebar": "Contents",
   "toc_cell": false,
   "toc_position": {
    "height": "calc(100% - 180px)",
    "left": "10px",
    "top": "150px",
    "width": "221px"
   },
   "toc_section_display": true,
   "toc_window_display": true
  },
  "varInspector": {
   "cols": {
    "lenName": 16,
    "lenType": 16,
    "lenVar": 40
   },
   "kernels_config": {
    "python": {
     "delete_cmd_postfix": "",
     "delete_cmd_prefix": "del ",
     "library": "var_list.py",
     "varRefreshCmd": "print(var_dic_list())"
    },
    "r": {
     "delete_cmd_postfix": ") ",
     "delete_cmd_prefix": "rm(",
     "library": "var_list.r",
     "varRefreshCmd": "cat(var_dic_list()) "
    }
   },
   "types_to_exclude": [
    "module",
    "function",
    "builtin_function_or_method",
    "instance",
    "_Feature"
   ],
   "window_display": false
  }
 },
 "nbformat": 4,
 "nbformat_minor": 5
}
