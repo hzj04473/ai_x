{
 "cells": [
  {
   "cell_type": "code",
   "execution_count": 159,
   "id": "3dd26da1",
   "metadata": {},
   "outputs": [
    {
     "data": {
      "text/html": [
       "\n",
       "<style>\n",
       "* {font-family:'Fira Code';line-height:180%}\n",
       "div.container{width:86% !important;}\n",
       "div.cell.code_cell.rendered{width:100%;}\n",
       "div.CodeMirror {font-size:12pt;}\n",
       "div.output {font-size:12pt; font-weight:bold;}\n",
       "div.input { font-size:12pt;}\n",
       "div.prompt {min-width:70px;}\n",
       "div#toc-wrapper{padding-top:120px;}\n",
       "div.text_cell_render ul li{font-size:12pt;padding:5px;}\n",
       "table.dataframe{font-size:12px;}\n",
       "</style>\n"
      ],
      "text/plain": [
       "<IPython.core.display.HTML object>"
      ]
     },
     "metadata": {},
     "output_type": "display_data"
    }
   ],
   "source": [
    "from IPython.display import display, HTML\n",
    "display(HTML(\"\"\"\n",
    "<style>\n",
    "* {font-family:'Fira Code';line-height:180%}\n",
    "div.container{width:86% !important;}\n",
    "div.cell.code_cell.rendered{width:100%;}\n",
    "div.CodeMirror {font-size:12pt;}\n",
    "div.output {font-size:12pt; font-weight:bold;}\n",
    "div.input { font-size:12pt;}\n",
    "div.prompt {min-width:70px;}\n",
    "div#toc-wrapper{padding-top:120px;}\n",
    "div.text_cell_render ul li{font-size:12pt;padding:5px;}\n",
    "table.dataframe{font-size:12px;}\n",
    "</style>\n",
    "\"\"\"))"
   ]
  },
  {
   "cell_type": "markdown",
   "id": "41fb8f59",
   "metadata": {},
   "source": [
    "<b><font size=\"5\" color=\"red\">ch05 함수 </font></b>\n",
    "\n",
    "- 사용할 코드를 묶어 놓고, 그것에 이름을 붙인 것\n",
    "- 오버로딩(함수이름이 같고, 매개변수의 타입이나 갯수로 다른 함수를 허용하는 것) 불가\n",
    "```\n",
    "def 함수명 ( [매개변수1, .. , 매개변수n] ) : \n",
    "    명령어1\n",
    "    명령어2\n",
    "    명령어n\n",
    "```\n",
    "\n",
    "# 1절 함수의 정의 및 사용\n",
    "\n",
    "## 1.1 함수 정의"
   ]
  },
  {
   "cell_type": "code",
   "execution_count": 7,
   "id": "86301a8e",
   "metadata": {},
   "outputs": [],
   "source": [
    "def add(a, b):\n",
    "    print(1)\n",
    "def add(a):\n",
    "    print(2)\n",
    "# add(\"A\",\"b\") 오버로딩 불가 def **add(a, b):** 삭제\n",
    "\n",
    "# a = 10\n",
    "# a = 20 # a = 10 값이 없어지는 것과 같음"
   ]
  },
  {
   "cell_type": "code",
   "execution_count": 13,
   "id": "7f3ac0bf",
   "metadata": {},
   "outputs": [],
   "source": [
    "# 함수 정의\n",
    "def hello() :\n",
    "    for i in range(5):\n",
    "        print(\"Hello\")\n",
    "\n",
    "def my_message(x, msg) : # msg를 x번 출력하는 함수\n",
    "    for i in range(x):\n",
    "        print(msg)"
   ]
  },
  {
   "cell_type": "code",
   "execution_count": 14,
   "id": "6775230c",
   "metadata": {},
   "outputs": [
    {
     "name": "stdout",
     "output_type": "stream",
     "text": [
      "Hello\n",
      "Hello\n",
      "Hello\n",
      "Hello\n",
      "Hello\n",
      "My Hello\n",
      "My Hello\n",
      "My Hello\n",
      "My Hello\n",
      "My Hello\n"
     ]
    }
   ],
   "source": [
    "# 함수 사용\n",
    "hello()\n",
    "my_message(5, 'My Hello')"
   ]
  },
  {
   "cell_type": "code",
   "execution_count": 15,
   "id": "221a364a",
   "metadata": {},
   "outputs": [
    {
     "name": "stdout",
     "output_type": "stream",
     "text": [
      "my hello\n",
      "my hello\n",
      "my hello\n",
      "my hello\n"
     ]
    }
   ],
   "source": [
    "# 함수이름의 재정의\n",
    "my_msg = my_message\n",
    "my_msg(4, 'my hello')"
   ]
  },
  {
   "cell_type": "code",
   "execution_count": 16,
   "id": "792f04ba",
   "metadata": {},
   "outputs": [
    {
     "data": {
      "text/plain": [
       "(function, function)"
      ]
     },
     "execution_count": 16,
     "metadata": {},
     "output_type": "execute_result"
    }
   ],
   "source": [
    "type(my_msg), type(my_message)"
   ]
  },
  {
   "cell_type": "code",
   "execution_count": 11,
   "id": "a6c54b25",
   "metadata": {},
   "outputs": [
    {
     "name": "stdout",
     "output_type": "stream",
     "text": [
      "Hello\n",
      "hello2\n"
     ]
    }
   ],
   "source": [
    "print(\"Hello\") # 파이썬 내장함수(import 하지 않고 사용할 수 있는 함수)\n",
    "print = 5\n",
    "# print(\"hello\")\n",
    "del print\n",
    "print(\"hello2\")"
   ]
  },
  {
   "cell_type": "code",
   "execution_count": 17,
   "id": "77a9b758",
   "metadata": {},
   "outputs": [
    {
     "name": "stdout",
     "output_type": "stream",
     "text": [
      "Hello\n",
      "Hello\n"
     ]
    }
   ],
   "source": [
    "my_message(2, 'Hello')"
   ]
  },
  {
   "cell_type": "code",
   "execution_count": 24,
   "id": "aebe9a89",
   "metadata": {},
   "outputs": [],
   "source": [
    "my_message = 5"
   ]
  },
  {
   "cell_type": "code",
   "execution_count": 23,
   "id": "ca3a3723",
   "metadata": {},
   "outputs": [
    {
     "ename": "TypeError",
     "evalue": "'int' object is not callable",
     "output_type": "error",
     "traceback": [
      "\u001b[1;31m---------------------------------------------------------------------------\u001b[0m",
      "\u001b[1;31mTypeError\u001b[0m                                 Traceback (most recent call last)",
      "Cell \u001b[1;32mIn[23], line 1\u001b[0m\n\u001b[1;32m----> 1\u001b[0m \u001b[43mmy_message\u001b[49m\u001b[43m(\u001b[49m\u001b[38;5;241;43m2\u001b[39;49m\u001b[43m,\u001b[49m\u001b[43m \u001b[49m\u001b[38;5;124;43m'\u001b[39;49m\u001b[38;5;124;43mHello\u001b[39;49m\u001b[38;5;124;43m'\u001b[39;49m\u001b[43m)\u001b[49m\n",
      "\u001b[1;31mTypeError\u001b[0m: 'int' object is not callable"
     ]
    }
   ],
   "source": [
    "my_message(2, 'Hello')"
   ]
  },
  {
   "cell_type": "code",
   "execution_count": 27,
   "id": "6d871a65",
   "metadata": {},
   "outputs": [
    {
     "ename": "NameError",
     "evalue": "name 'my_message' is not defined",
     "output_type": "error",
     "traceback": [
      "\u001b[1;31m---------------------------------------------------------------------------\u001b[0m",
      "\u001b[1;31mNameError\u001b[0m                                 Traceback (most recent call last)",
      "Cell \u001b[1;32mIn[27], line 1\u001b[0m\n\u001b[1;32m----> 1\u001b[0m \u001b[38;5;28;01mdel\u001b[39;00m my_message\n",
      "\u001b[1;31mNameError\u001b[0m: name 'my_message' is not defined"
     ]
    }
   ],
   "source": [
    "del my_message \n",
    "# 변수를 삭제해도 함수 사용불가 (파이썬 내장함수가 아니라서...)"
   ]
  },
  {
   "cell_type": "code",
   "execution_count": 26,
   "id": "e52d926e",
   "metadata": {},
   "outputs": [
    {
     "ename": "NameError",
     "evalue": "name 'my_message' is not defined",
     "output_type": "error",
     "traceback": [
      "\u001b[1;31m---------------------------------------------------------------------------\u001b[0m",
      "\u001b[1;31mNameError\u001b[0m                                 Traceback (most recent call last)",
      "Cell \u001b[1;32mIn[26], line 1\u001b[0m\n\u001b[1;32m----> 1\u001b[0m \u001b[43mmy_message\u001b[49m(\u001b[38;5;241m2\u001b[39m, \u001b[38;5;124m'\u001b[39m\u001b[38;5;124mHello\u001b[39m\u001b[38;5;124m'\u001b[39m)\n",
      "\u001b[1;31mNameError\u001b[0m: name 'my_message' is not defined"
     ]
    }
   ],
   "source": [
    "my_message(2, 'Hello')"
   ]
  },
  {
   "cell_type": "code",
   "execution_count": 3,
   "id": "7fe73c16",
   "metadata": {},
   "outputs": [],
   "source": [
    "# 함수 정의 : 4월 16일(수)\n",
    "def my_hello():\n",
    "    print('Hello Python')\n",
    "    print('Hello World')\n",
    "\n",
    "def my_hello(cnt):\n",
    "    for i in range(cnt):\n",
    "        print('Hello Python')\n",
    "        print('Hello World')"
   ]
  },
  {
   "cell_type": "code",
   "execution_count": 21,
   "id": "f4f82d61",
   "metadata": {},
   "outputs": [
    {
     "name": "stdout",
     "output_type": "stream",
     "text": [
      "Hello Python\n",
      "Hello World\n",
      "Hello Python\n",
      "Hello World\n"
     ]
    }
   ],
   "source": [
    "# 함수사용 = 함수호출\n",
    "# my_hello()\n",
    "my_hello(2)"
   ]
  },
  {
   "cell_type": "code",
   "execution_count": 22,
   "id": "6e2331a7",
   "metadata": {},
   "outputs": [
    {
     "data": {
      "text/plain": [
       "<function __main__.my_hello(cnt)>"
      ]
     },
     "execution_count": 22,
     "metadata": {},
     "output_type": "execute_result"
    }
   ],
   "source": [
    "my_hello"
   ]
  },
  {
   "cell_type": "code",
   "execution_count": 23,
   "id": "2cf6f853",
   "metadata": {},
   "outputs": [
    {
     "data": {
      "text/plain": [
       "'__main__'"
      ]
     },
     "execution_count": 23,
     "metadata": {},
     "output_type": "execute_result"
    }
   ],
   "source": [
    "__name__"
   ]
  },
  {
   "cell_type": "code",
   "execution_count": 34,
   "id": "fbfed183",
   "metadata": {},
   "outputs": [
    {
     "name": "stdout",
     "output_type": "stream",
     "text": [
      "Hello Python\n",
      "Hello World\n",
      "Hello Python\n",
      "Hello World\n"
     ]
    }
   ],
   "source": [
    "if  __name__ == \"__main__\":\n",
    "    my_hello(2)"
   ]
  },
  {
   "cell_type": "code",
   "execution_count": 8,
   "id": "4831df0d",
   "metadata": {},
   "outputs": [],
   "source": [
    "import ch05 # ch05모듈을 Load"
   ]
  },
  {
   "cell_type": "code",
   "execution_count": 9,
   "id": "4da9ad3b",
   "metadata": {},
   "outputs": [
    {
     "name": "stdout",
     "output_type": "stream",
     "text": [
      "Hello Python\n",
      "Hello World\n",
      "Hello Python\n",
      "Hello World\n"
     ]
    }
   ],
   "source": [
    "ch05.my_hello(2)"
   ]
  },
  {
   "cell_type": "code",
   "execution_count": 11,
   "id": "d8677695",
   "metadata": {},
   "outputs": [],
   "source": [
    "from ch05 import my_hello # ch05모듈안의 my_hello 만 Load"
   ]
  },
  {
   "cell_type": "code",
   "execution_count": 12,
   "id": "e4c644f6",
   "metadata": {},
   "outputs": [
    {
     "name": "stdout",
     "output_type": "stream",
     "text": [
      "Hello Python\n",
      "Hello World\n",
      "Hello Python\n",
      "Hello World\n"
     ]
    }
   ],
   "source": [
    "my_hello(2)"
   ]
  },
  {
   "cell_type": "markdown",
   "id": "b9b75814",
   "metadata": {},
   "source": [
    "## 1.2 docstring"
   ]
  },
  {
   "cell_type": "code",
   "execution_count": null,
   "id": "08e4c6de",
   "metadata": {},
   "outputs": [],
   "source": [
    "def my_function():\n",
    "    '''\n",
    "    함수의 첫라인에 독스트링을 포함할 수 있습니다.\n",
    "    독스트링은 함수의 설명서를 달아주는 역할\n",
    "    주석보다 많은 기능 (shift + tab으로 독스트링을 볼 수 있음)\n",
    "    '''\n",
    "    pass"
   ]
  },
  {
   "cell_type": "code",
   "execution_count": null,
   "id": "2e6f92d4",
   "metadata": {},
   "outputs": [],
   "source": [
    "my_function()"
   ]
  },
  {
   "cell_type": "code",
   "execution_count": 16,
   "id": "22b01120",
   "metadata": {},
   "outputs": [
    {
     "name": "stdout",
     "output_type": "stream",
     "text": [
      "\n",
      "    함수의 첫라인에 독스트링을 포함할 수 있습니다.\n",
      "    독스트링은 함수의 설명서를 달아주는 역할\n",
      "    주석보다 많은 기능 (shift + tab으로 독스트링을 볼 수 있음)\n",
      "    \n"
     ]
    }
   ],
   "source": [
    "print(my_function.__doc__)"
   ]
  },
  {
   "cell_type": "code",
   "execution_count": 20,
   "id": "cb3212b4",
   "metadata": {},
   "outputs": [],
   "source": [
    "def fibonacci(n):\n",
    "    a, b = 0, 1\n",
    "    while a < n:\n",
    "        print(a, end=' ')\n",
    "        a, b = b, a + b\n",
    "    print() # 개행"
   ]
  },
  {
   "cell_type": "code",
   "execution_count": 23,
   "id": "e2c0b264",
   "metadata": {},
   "outputs": [
    {
     "name": "stdout",
     "output_type": "stream",
     "text": [
      "0 1 1 2 3 5 8 \n"
     ]
    }
   ],
   "source": [
    "fibonacci(10)"
   ]
  },
  {
   "cell_type": "code",
   "execution_count": 26,
   "id": "2b6cbc6f",
   "metadata": {},
   "outputs": [
    {
     "ename": "NameError",
     "evalue": "name 'a' is not defined",
     "output_type": "error",
     "traceback": [
      "\u001b[1;31m---------------------------------------------------------------------------\u001b[0m",
      "\u001b[1;31mNameError\u001b[0m                                 Traceback (most recent call last)",
      "Cell \u001b[1;32mIn[26], line 1\u001b[0m\n\u001b[1;32m----> 1\u001b[0m \u001b[43ma\u001b[49m, b\n",
      "\u001b[1;31mNameError\u001b[0m: name 'a' is not defined"
     ]
    }
   ],
   "source": [
    "# 함수안에 있는 변수는 실행이 끝나면 없어짐\n",
    "a, b "
   ]
  },
  {
   "cell_type": "markdown",
   "id": "8bc22c94",
   "metadata": {},
   "source": [
    "## 1.3 지역변수 (local var) 와 전역변수 (global var)\n"
   ]
  },
  {
   "cell_type": "code",
   "execution_count": 29,
   "id": "c8db2408",
   "metadata": {},
   "outputs": [
    {
     "name": "stdout",
     "output_type": "stream",
     "text": [
      "함수 안 : 100\n",
      "함수 밖 : 100\n"
     ]
    }
   ],
   "source": [
    "global_var = 100 # 전역변수\n",
    "\n",
    "def func1() :\n",
    "    print(\"함수 안 :\", global_var)\n",
    "\n",
    "func1()\n",
    "print('함수 밖 :', global_var)"
   ]
  },
  {
   "cell_type": "code",
   "execution_count": 31,
   "id": "a7394f63",
   "metadata": {},
   "outputs": [
    {
     "name": "stdout",
     "output_type": "stream",
     "text": [
      "함수 안 : 200\n"
     ]
    },
    {
     "ename": "NameError",
     "evalue": "name 'local_var' is not defined",
     "output_type": "error",
     "traceback": [
      "\u001b[1;31m---------------------------------------------------------------------------\u001b[0m",
      "\u001b[1;31mNameError\u001b[0m                                 Traceback (most recent call last)",
      "Cell \u001b[1;32mIn[31], line 7\u001b[0m\n\u001b[0;32m      3\u001b[0m     \u001b[38;5;28mprint\u001b[39m(\u001b[38;5;124m\"\u001b[39m\u001b[38;5;124m함수 안 :\u001b[39m\u001b[38;5;124m\"\u001b[39m, local_var)\n\u001b[0;32m      5\u001b[0m func2()  \n\u001b[1;32m----> 7\u001b[0m \u001b[38;5;28mprint\u001b[39m(\u001b[38;5;124m'\u001b[39m\u001b[38;5;124m함수 밖 :\u001b[39m\u001b[38;5;124m'\u001b[39m, \u001b[43mlocal_var\u001b[49m)\n",
      "\u001b[1;31mNameError\u001b[0m: name 'local_var' is not defined"
     ]
    }
   ],
   "source": [
    "def func2() :\n",
    "    local_var = 200 # 지역변수\n",
    "    print(\"함수 안 :\", local_var)\n",
    "\n",
    "func2()  \n",
    "\n",
    "print('함수 밖 :', local_var)"
   ]
  },
  {
   "cell_type": "code",
   "execution_count": 11,
   "id": "fc7ab6aa",
   "metadata": {},
   "outputs": [
    {
     "name": "stdout",
     "output_type": "stream",
     "text": [
      "함수 안 (지역변수 g_var): 200\n",
      "함수 밖 : 100\n"
     ]
    }
   ],
   "source": [
    "g_var = 100 # 전역변수\n",
    "\n",
    "def func3() :\n",
    "    g_var = 200 # 지역변수 (변수 선언과 할당)\n",
    "    print(\"함수 안 (지역변수 g_var):\", g_var)\n",
    "\n",
    "func3()\n",
    "print('함수 밖 :', g_var)"
   ]
  },
  {
   "cell_type": "code",
   "execution_count": 12,
   "id": "969c4d0f",
   "metadata": {},
   "outputs": [
    {
     "ename": "UnboundLocalError",
     "evalue": "local variable 'g_var' referenced before assignment",
     "output_type": "error",
     "traceback": [
      "\u001b[1;31m---------------------------------------------------------------------------\u001b[0m",
      "\u001b[1;31mUnboundLocalError\u001b[0m                         Traceback (most recent call last)",
      "Cell \u001b[1;32mIn[12], line 7\u001b[0m\n\u001b[0;32m      5\u001b[0m     \u001b[38;5;28mprint\u001b[39m(\u001b[38;5;124m\"\u001b[39m\u001b[38;5;124m함수 안 g_var :\u001b[39m\u001b[38;5;124m\"\u001b[39m, g_var)\n\u001b[0;32m      6\u001b[0m     g_var \u001b[38;5;241m=\u001b[39m \u001b[38;5;241m200\u001b[39m \u001b[38;5;66;03m# 지역변수\u001b[39;00m\n\u001b[1;32m----> 7\u001b[0m \u001b[43mfunc4\u001b[49m\u001b[43m(\u001b[49m\u001b[43m)\u001b[49m\n",
      "Cell \u001b[1;32mIn[12], line 5\u001b[0m, in \u001b[0;36mfunc4\u001b[1;34m()\u001b[0m\n\u001b[0;32m      4\u001b[0m \u001b[38;5;28;01mdef\u001b[39;00m \u001b[38;5;21mfunc4\u001b[39m() :\n\u001b[1;32m----> 5\u001b[0m     \u001b[38;5;28mprint\u001b[39m(\u001b[38;5;124m\"\u001b[39m\u001b[38;5;124m함수 안 g_var :\u001b[39m\u001b[38;5;124m\"\u001b[39m, \u001b[43mg_var\u001b[49m)\n\u001b[0;32m      6\u001b[0m     g_var \u001b[38;5;241m=\u001b[39m \u001b[38;5;241m200\u001b[39m\n",
      "\u001b[1;31mUnboundLocalError\u001b[0m: local variable 'g_var' referenced before assignment"
     ]
    }
   ],
   "source": [
    "# 렉시컬 특성\n",
    "g_ver = 100 # 전역변수\n",
    "\n",
    "def func4() :\n",
    "    print(\"함수 안 g_var :\", g_var)\n",
    "    g_var = 200 # 지역변수\n",
    "func4()"
   ]
  },
  {
   "cell_type": "code",
   "execution_count": 13,
   "id": "7ad8054c",
   "metadata": {},
   "outputs": [
    {
     "name": "stdout",
     "output_type": "stream",
     "text": [
      "함수 안 g_var : 100\n",
      "함수 밖 g_var : 200\n"
     ]
    }
   ],
   "source": [
    "# 렉시컬 특성\n",
    "g_ver = 100 # 전역변수\n",
    "\n",
    "def func4() :\n",
    "    global g_var # func4 함수내의 g_var는 전역변수를 쓴다.\n",
    "    print(\"함수 안 g_var :\", g_var)\n",
    "    g_var = 200 # 지역변수\n",
    "func4()\n",
    "print(\"함수 밖 g_var :\", g_var)"
   ]
  },
  {
   "cell_type": "code",
   "execution_count": null,
   "id": "1796388f",
   "metadata": {},
   "outputs": [],
   "source": [
    "### 변수의 우선 순위\n",
    "### 3.내장된이름테이블 < 2.전역심볼테이블 < 1.로컬심볼테이블"
   ]
  },
  {
   "cell_type": "markdown",
   "id": "c550745e",
   "metadata": {},
   "source": [
    "## 1.4 값에 의한 호출\n",
    "\n",
    "- 함수의 매개변수(인수, 인자)로 전달되는 변수가 스칼라(문자, 숫자, 논리형) 변수일 떄"
   ]
  },
  {
   "cell_type": "code",
   "execution_count": 39,
   "id": "cbd85150",
   "metadata": {},
   "outputs": [
    {
     "data": {
      "text/plain": [
       "2163912278544"
      ]
     },
     "execution_count": 39,
     "metadata": {},
     "output_type": "execute_result"
    }
   ],
   "source": [
    "foo = 10 # 전역변수\n",
    "id(foo)"
   ]
  },
  {
   "cell_type": "code",
   "execution_count": 47,
   "id": "f846b80e",
   "metadata": {},
   "outputs": [
    {
     "name": "stdout",
     "output_type": "stream",
     "text": [
      "Before : 10  id(f) : 2163912278544\n",
      "After : 30  id(f) : 2163912279184 "
     ]
    }
   ],
   "source": [
    "def func1(f) : # 매개변수 f는 지역변수\n",
    "    print(\"Before :\", f ,' id(f) :',id(f))\n",
    "    f = f * 3\n",
    "    print(\"After :\", f ,' id(f) :',id(f), end = ' ')\n",
    "\n",
    "func1(foo)"
   ]
  },
  {
   "cell_type": "code",
   "execution_count": 49,
   "id": "57df8938",
   "metadata": {},
   "outputs": [
    {
     "name": "stdout",
     "output_type": "stream",
     "text": [
      "10 id(foo) : 2163912278544\n"
     ]
    }
   ],
   "source": [
    "print(foo, 'id(foo) :', id(foo)) # 값만 전달 하므로, foo 값의 변경은 없다."
   ]
  },
  {
   "cell_type": "markdown",
   "id": "e37bdb02",
   "metadata": {},
   "source": [
    "## 1.5 참조에 의한 호출\n",
    "\n",
    "- 함수의 매개변수(인수, 인자)로 전달되는 변수가 리스트, 튜플, 셋, 딕셔너리, 객체일 경우"
   ]
  },
  {
   "cell_type": "code",
   "execution_count": 25,
   "id": "9ac79f06",
   "metadata": {},
   "outputs": [
    {
     "data": {
      "text/plain": [
       "2164024452672"
      ]
     },
     "execution_count": 25,
     "metadata": {},
     "output_type": "execute_result"
    }
   ],
   "source": [
    "L = [1, 2, 3]\n",
    "id(L)"
   ]
  },
  {
   "cell_type": "code",
   "execution_count": 50,
   "id": "d7f28d2f",
   "metadata": {},
   "outputs": [
    {
     "name": "stdout",
     "output_type": "stream",
     "text": [
      "Before : [1, 2, 3, 4]  id(f) : 2164024452672\n",
      "After : [1, 2, 3, 4, 4]  id(f) : 2164024452672 "
     ]
    }
   ],
   "source": [
    "def func2(f) : # 매개변수 f는 지역변수\n",
    "    print(\"Before :\", f, \" id(f) :\", id(f))\n",
    "    f.append(4)\n",
    "    print(\"After :\", f, \" id(f) :\", id(f), end = ' ')\n",
    "func2(L)"
   ]
  },
  {
   "cell_type": "code",
   "execution_count": 55,
   "id": "c462ad8e",
   "metadata": {},
   "outputs": [
    {
     "name": "stdout",
     "output_type": "stream",
     "text": [
      "L =  [1, 2, 3, 4, 4] 2164024452672\n"
     ]
    }
   ],
   "source": [
    "print('L = ', L, id(L))"
   ]
  },
  {
   "cell_type": "markdown",
   "id": "f0d4ee00",
   "metadata": {},
   "source": [
    "# 2절 함수의 실행결과를 반환하는 return"
   ]
  },
  {
   "cell_type": "code",
   "execution_count": 81,
   "id": "5065b6ae",
   "metadata": {},
   "outputs": [],
   "source": [
    "def add(x, y) :\n",
    "    pass\n",
    "#     return True\n",
    "#     return x + y"
   ]
  },
  {
   "cell_type": "code",
   "execution_count": 84,
   "id": "3f353d7c",
   "metadata": {},
   "outputs": [
    {
     "name": "stdout",
     "output_type": "stream",
     "text": [
      "None\n"
     ]
    }
   ],
   "source": [
    "i = 2; j = 3\n",
    "print(add(i, j))"
   ]
  },
  {
   "cell_type": "code",
   "execution_count": 112,
   "id": "e70cdd82",
   "metadata": {},
   "outputs": [],
   "source": [
    "def fibonacci_print(n):\n",
    "    '''\n",
    "    매개변수로 들어온 n값 미만의 피보나치 수열을 출력\n",
    "    ex. n=10이면, 0 1 1 2 3 5 8 출력\n",
    "    '''\n",
    "    a, b = 0, 1\n",
    "    while a < n:\n",
    "        print(a, end=' ')\n",
    "        a, b = b, a + b\n",
    "    print() # 개행\n",
    "    \n",
    "def fibonacci_return(n):\n",
    "    '''\n",
    "    매개변수로 들어온 n값 미만의 피보나치 수열을 리스트로 return\n",
    "    ex. n=10이면, 0 1 1 2 3 5 8 을 return\n",
    "    '''\n",
    "    result = []\n",
    "    a, b = 0, 1\n",
    "    while a < n :\n",
    "        result.append(a)\n",
    "        a, b = b, a + b\n",
    "    return result"
   ]
  },
  {
   "cell_type": "code",
   "execution_count": 113,
   "id": "f4979a8b",
   "metadata": {},
   "outputs": [
    {
     "name": "stdout",
     "output_type": "stream",
     "text": [
      "0 1 1 2 3 5 8 13 21 34 55 89 \n",
      "None <class 'NoneType'>\n"
     ]
    }
   ],
   "source": [
    "x = fibonacci_print(100)\n",
    "print(x, type(x))"
   ]
  },
  {
   "cell_type": "code",
   "execution_count": 110,
   "id": "f77fc4dd",
   "metadata": {},
   "outputs": [
    {
     "name": "stdout",
     "output_type": "stream",
     "text": [
      "[0, 1, 1, 2, 3, 5, 8, 13, 21, 34, 55, 89] <class 'list'>\n"
     ]
    }
   ],
   "source": [
    "x = fibonacci_return(100)\n",
    "print(x, type(x))"
   ]
  },
  {
   "cell_type": "markdown",
   "id": "6b21cb52",
   "metadata": {},
   "source": [
    "## 2.1 여러개 값 return"
   ]
  },
  {
   "cell_type": "code",
   "execution_count": 114,
   "id": "09dea2eb",
   "metadata": {},
   "outputs": [],
   "source": [
    "def swap(a , b) :\n",
    "    '매개변수의 순서를 바꿔서 return'\n",
    "    return b, a"
   ]
  },
  {
   "cell_type": "code",
   "execution_count": 120,
   "id": "fa2605fd",
   "metadata": {},
   "outputs": [
    {
     "name": "stdout",
     "output_type": "stream",
     "text": [
      "함수 실행 전 x=5,  y =10\n",
      "함수 실행 후 x=10,  y =5\n"
     ]
    }
   ],
   "source": [
    "x, y = 5, 10\n",
    "print(f\"함수 실행 전 x={x},  y ={y}\")\n",
    "\n",
    "x, y = swap(x, y)\n",
    "print(f\"함수 실행 후 x={x},  y ={y}\")"
   ]
  },
  {
   "cell_type": "markdown",
   "id": "29041ae9",
   "metadata": {},
   "source": [
    "# 3절 함수의 매개변수 ★\n",
    "\n",
    "## 3.1 기본값을 갖는 매개변수"
   ]
  },
  {
   "cell_type": "code",
   "execution_count": 141,
   "id": "29689a9e",
   "metadata": {},
   "outputs": [],
   "source": [
    "def make_url(ip, port=80) :\n",
    "# def make_url(port=80, ip) : # 순서 인수(ip) > 기본값을 갖는 매개변수(port)\n",
    "    return \"http://{}:{}\".format(ip, port)"
   ]
  },
  {
   "cell_type": "code",
   "execution_count": 146,
   "id": "132793fc",
   "metadata": {},
   "outputs": [
    {
     "name": "stdout",
     "output_type": "stream",
     "text": [
      "http://www.naver.com:80\n",
      "http://localhost:8090\n",
      "http://localhost:8090\n"
     ]
    }
   ],
   "source": [
    "print(make_url(\"www.naver.com\"))\n",
    "print(make_url(\"localhost\",8090))\n",
    "print(make_url(port=8090, ip=\"localhost\"))"
   ]
  },
  {
   "cell_type": "markdown",
   "id": "46669fdd",
   "metadata": {},
   "source": [
    "## 3.2 기본변수를 갖는 매개변수\n",
    "\n",
    "- 기본변수가 스칼라 변수일 떄\n",
    "- 기본변수가 리스트, 셋, 딕셔너리 등의 객체일 때"
   ]
  },
  {
   "cell_type": "code",
   "execution_count": 153,
   "id": "e3c59852",
   "metadata": {},
   "outputs": [],
   "source": [
    "i = 5\n",
    "# 기본값을 갖는 변수가 스칼라 변수일 떄 : arg의 기본값은 호출되는 시점의 값\n",
    "def func2(arg=i) :\n",
    "    print(\"arg = \", arg)"
   ]
  },
  {
   "cell_type": "code",
   "execution_count": 155,
   "id": "06c82161",
   "metadata": {},
   "outputs": [
    {
     "name": "stdout",
     "output_type": "stream",
     "text": [
      "arg =  5\n",
      "arg =  50\n"
     ]
    }
   ],
   "source": [
    "i = 50\n",
    "func2()\n",
    "func2(i)"
   ]
  },
  {
   "cell_type": "code",
   "execution_count": 165,
   "id": "f1781b80",
   "metadata": {},
   "outputs": [],
   "source": [
    "list_ = []\n",
    "# 기본값을 갖는 변수가 객체(데이터구조) 일 떄 : arg의 기본값은 실행되는 시점\n",
    "def func3(data, L=list_) :\n",
    "    'data를 L에 append'\n",
    "    L.append(data)\n",
    "    return L"
   ]
  },
  {
   "cell_type": "code",
   "execution_count": 166,
   "id": "207a8b90",
   "metadata": {},
   "outputs": [
    {
     "name": "stdout",
     "output_type": "stream",
     "text": [
      "[10]\n"
     ]
    }
   ],
   "source": [
    "print(func3(10)) # list_가 수정 : [] -> [10,..........]"
   ]
  },
  {
   "cell_type": "code",
   "execution_count": 168,
   "id": "e2aa61da",
   "metadata": {},
   "outputs": [
    {
     "name": "stdout",
     "output_type": "stream",
     "text": [
      "[10, 20]\n"
     ]
    }
   ],
   "source": [
    "print(func3(20))"
   ]
  },
  {
   "cell_type": "code",
   "execution_count": 169,
   "id": "f3f7b7fd",
   "metadata": {},
   "outputs": [
    {
     "data": {
      "text/plain": [
       "[10, 20]"
      ]
     },
     "execution_count": 169,
     "metadata": {},
     "output_type": "execute_result"
    }
   ],
   "source": [
    "list_"
   ]
  },
  {
   "cell_type": "code",
   "execution_count": 170,
   "id": "a7b1fa16",
   "metadata": {},
   "outputs": [],
   "source": [
    "def func4(data, L=None) :\n",
    "    if L == None:\n",
    "        L = []\n",
    "    L.append(data)\n",
    "    return L"
   ]
  },
  {
   "cell_type": "code",
   "execution_count": 171,
   "id": "d3d21d78",
   "metadata": {},
   "outputs": [
    {
     "name": "stdout",
     "output_type": "stream",
     "text": [
      "[10]\n",
      "[10, 20, 10]\n"
     ]
    }
   ],
   "source": [
    "print(func4(10))\n",
    "print(func4(10, list_))"
   ]
  },
  {
   "cell_type": "markdown",
   "id": "6b70c6f7",
   "metadata": {},
   "source": [
    "## 3.3 튜플 매개변수를 이용한 가변인수(자) 설정\n",
    "### ※ *aggs"
   ]
  },
  {
   "cell_type": "code",
   "execution_count": 175,
   "id": "ae0d58b5",
   "metadata": {},
   "outputs": [],
   "source": [
    "# 파이썬은 오버로딩(함수의 중복)을 지원하지 않습니다.\n",
    "def add(a, b):\n",
    "    return a+b\n",
    "\n",
    "def add(a, b, c):\n",
    "    return a+b+c"
   ]
  },
  {
   "cell_type": "code",
   "execution_count": 176,
   "id": "2274251a",
   "metadata": {},
   "outputs": [
    {
     "ename": "TypeError",
     "evalue": "add() takes 3 positional arguments but 4 were given",
     "output_type": "error",
     "traceback": [
      "\u001b[1;31m---------------------------------------------------------------------------\u001b[0m",
      "\u001b[1;31mTypeError\u001b[0m                                 Traceback (most recent call last)",
      "Cell \u001b[1;32mIn[176], line 1\u001b[0m\n\u001b[1;32m----> 1\u001b[0m \u001b[43madd\u001b[49m\u001b[43m(\u001b[49m\u001b[38;5;241;43m1\u001b[39;49m\u001b[43m,\u001b[49m\u001b[43m \u001b[49m\u001b[38;5;241;43m2\u001b[39;49m\u001b[43m,\u001b[49m\u001b[43m \u001b[49m\u001b[38;5;241;43m3\u001b[39;49m\u001b[43m,\u001b[49m\u001b[43m \u001b[49m\u001b[38;5;241;43m4\u001b[39;49m\u001b[43m)\u001b[49m\n",
      "\u001b[1;31mTypeError\u001b[0m: add() takes 3 positional arguments but 4 were given"
     ]
    }
   ],
   "source": [
    "add(1, 2, 3, 4)"
   ]
  },
  {
   "cell_type": "code",
   "execution_count": 190,
   "id": "6b54537d",
   "metadata": {},
   "outputs": [],
   "source": [
    "# *args : 매개변수들을 하나의 튜플 변수 args로 전달받음\n",
    "def add(*args):\n",
    "    '전달받은 매개변수들의 합을 return'\n",
    "    # print(args)\n",
    "    result_tot = 0 # 누적변수\n",
    "    for data in args:\n",
    "        result_tot += data\n",
    "    return result_tot"
   ]
  },
  {
   "cell_type": "code",
   "execution_count": 193,
   "id": "26a59630",
   "metadata": {},
   "outputs": [
    {
     "name": "stdout",
     "output_type": "stream",
     "text": [
      "1\n",
      "3\n",
      "6\n",
      "10\n",
      "25\n"
     ]
    }
   ],
   "source": [
    "print(add(1))\n",
    "print(add(1,  2))\n",
    "print(add(1, 2, 3))\n",
    "print(add(1, 2, 3 ,4))\n",
    "print(add(1, 2, 3 ,4, 5, 10))"
   ]
  },
  {
   "cell_type": "code",
   "execution_count": 195,
   "id": "8f727409",
   "metadata": {},
   "outputs": [
    {
     "data": {
      "text/plain": [
       "'Python/Oracle/DL/ML'"
      ]
     },
     "execution_count": 195,
     "metadata": {},
     "output_type": "execute_result"
    }
   ],
   "source": [
    "subject = ('Python', 'Oracle', 'DL', 'ML')\n",
    "\"/\".join(subject)"
   ]
  },
  {
   "cell_type": "code",
   "execution_count": 311,
   "id": "d539aa6a",
   "metadata": {},
   "outputs": [],
   "source": [
    "def concat(*subject, sep) :\n",
    "    return sep.join(subject)"
   ]
  },
  {
   "cell_type": "code",
   "execution_count": 312,
   "id": "e3449a1b",
   "metadata": {},
   "outputs": [
    {
     "ename": "TypeError",
     "evalue": "concat() missing 1 required keyword-only argument: 'sep'",
     "output_type": "error",
     "traceback": [
      "\u001b[1;31m---------------------------------------------------------------------------\u001b[0m",
      "\u001b[1;31mTypeError\u001b[0m                                 Traceback (most recent call last)",
      "Cell \u001b[1;32mIn[312], line 1\u001b[0m\n\u001b[1;32m----> 1\u001b[0m \u001b[43mconcat\u001b[49m\u001b[43m(\u001b[49m\u001b[38;5;124;43m'\u001b[39;49m\u001b[38;5;124;43mPython\u001b[39;49m\u001b[38;5;124;43m'\u001b[39;49m\u001b[43m,\u001b[49m\u001b[43m \u001b[49m\u001b[38;5;124;43m'\u001b[39;49m\u001b[38;5;124;43mOracle\u001b[39;49m\u001b[38;5;124;43m'\u001b[39;49m\u001b[43m,\u001b[49m\u001b[43m \u001b[49m\u001b[38;5;124;43m'\u001b[39;49m\u001b[38;5;124;43mWebstandard\u001b[39;49m\u001b[38;5;124;43m'\u001b[39;49m\u001b[43m,\u001b[49m\u001b[43m \u001b[49m\u001b[38;5;124;43m'\u001b[39;49m\u001b[38;5;124;43mJavascript\u001b[39;49m\u001b[38;5;124;43m'\u001b[39;49m\u001b[43m,\u001b[49m\u001b[43m \u001b[49m\u001b[38;5;124;43m'\u001b[39;49m\u001b[38;5;124;43mDL\u001b[39;49m\u001b[38;5;124;43m'\u001b[39;49m\u001b[43m,\u001b[49m\u001b[43m \u001b[49m\u001b[38;5;124;43m'\u001b[39;49m\u001b[38;5;124;43mML\u001b[39;49m\u001b[38;5;124;43m'\u001b[39;49m\u001b[43m,\u001b[49m\u001b[43m \u001b[49m\u001b[38;5;124;43m'\u001b[39;49m\u001b[38;5;124;43m/\u001b[39;49m\u001b[38;5;124;43m'\u001b[39;49m\u001b[43m)\u001b[49m\n",
      "\u001b[1;31mTypeError\u001b[0m: concat() missing 1 required keyword-only argument: 'sep'"
     ]
    }
   ],
   "source": [
    "concat('Python', 'Oracle', 'Webstandard', 'Javascript', 'DL', 'ML', '/')\n",
    "# => 'Python' / 'Oracle' / 'Webstandard' / 'Javascript' / 'DL' / 'ML'"
   ]
  },
  {
   "cell_type": "markdown",
   "id": "66071f94",
   "metadata": {},
   "source": [
    "### 에러 해결결1 : 매개변수 이름을 지정해서 호출\n"
   ]
  },
  {
   "cell_type": "code",
   "execution_count": 305,
   "id": "17fa06e6",
   "metadata": {},
   "outputs": [
    {
     "data": {
      "text/plain": [
       "'Python / Oracle / Webstandard / Javascript / DL / ML'"
      ]
     },
     "execution_count": 305,
     "metadata": {},
     "output_type": "execute_result"
    }
   ],
   "source": [
    "concat('Python', 'Oracle', 'Webstandard', 'Javascript', 'DL', 'ML', sep= ' / ')"
   ]
  },
  {
   "cell_type": "markdown",
   "id": "772a9395",
   "metadata": {},
   "source": [
    "### 에러 해결책2 : 기본값을 갖는 반드시 갖는 \"키워드인수\" 사용\n"
   ]
  },
  {
   "cell_type": "code",
   "execution_count": 258,
   "id": "b41e3b1d",
   "metadata": {},
   "outputs": [],
   "source": [
    "def concat(*subject, sep=' ~ ') :\n",
    "    return sep.join(subject)"
   ]
  },
  {
   "cell_type": "code",
   "execution_count": 266,
   "id": "4611bbd9",
   "metadata": {},
   "outputs": [
    {
     "data": {
      "text/plain": [
       "'Python / Oracle / Webstandard / Javascript / DL / ML'"
      ]
     },
     "execution_count": 266,
     "metadata": {},
     "output_type": "execute_result"
    }
   ],
   "source": [
    "concat('Python', 'Oracle', 'Webstandard', 'Javascript', 'DL', 'ML', sep=' / ')"
   ]
  },
  {
   "cell_type": "code",
   "execution_count": 267,
   "id": "aab572cc",
   "metadata": {},
   "outputs": [
    {
     "name": "stdout",
     "output_type": "stream",
     "text": [
      "Python / Oracle / Webstandard / Javascript / DL / ML\n"
     ]
    }
   ],
   "source": [
    "print('Python', 'Oracle', 'Webstandard', 'Javascript', 'DL', 'ML', sep=' / ')"
   ]
  },
  {
   "cell_type": "markdown",
   "id": "3b38148e",
   "metadata": {},
   "source": [
    "### 에러 해결책3 : sep을 순서인수로 앞에 선언"
   ]
  },
  {
   "cell_type": "code",
   "execution_count": 323,
   "id": "39fb851e",
   "metadata": {},
   "outputs": [],
   "source": [
    "def concat(sep, *subject) :\n",
    "    return sep.join(subject)"
   ]
  },
  {
   "cell_type": "code",
   "execution_count": 324,
   "id": "0fc25de3",
   "metadata": {},
   "outputs": [
    {
     "data": {
      "text/plain": [
       "'Python/Oracle/Webstandard/Javascript/DL/ML'"
      ]
     },
     "execution_count": 324,
     "metadata": {},
     "output_type": "execute_result"
    }
   ],
   "source": [
    "concat('/', 'Python', 'Oracle', 'Webstandard', 'Javascript', 'DL', 'ML')"
   ]
  },
  {
   "cell_type": "markdown",
   "id": "348139b2",
   "metadata": {},
   "source": [
    "## 3.4 딕셔너리 매개변수\n",
    "\n",
    "- 여러 개의 키워드인수를 딕셔너리 형태로 받아서, 가변키워드 인수 처리"
   ]
  },
  {
   "cell_type": "code",
   "execution_count": 407,
   "id": "ff1da5b3",
   "metadata": {},
   "outputs": [],
   "source": [
    "def func5(**kwargs):\n",
    "    print(kwargs)\n",
    "    print(type(kwargs))\n",
    "    print(\"이름 :\", kwargs.get(\"name\",\"대마왕\"))\n",
    "    print(\"나이 :\", kwargs.get(\"age\",30))\n",
    "    print(\"주소 :\", kwargs.get(\"address\",'서울'))\n",
    "    \n",
    "    for item in kwargs.values():\n",
    "        print(item)"
   ]
  },
  {
   "cell_type": "code",
   "execution_count": 414,
   "id": "a44b3dd6",
   "metadata": {},
   "outputs": [
    {
     "name": "stdout",
     "output_type": "stream",
     "text": [
      "{'name': '홍길동', 'age': 30, 'address': '신림동'}\n",
      "<class 'dict'>\n",
      "이름 : 홍길동\n",
      "나이 : 30\n",
      "주소 : 신림동\n",
      "홍길동\n",
      "30\n",
      "신림동\n"
     ]
    }
   ],
   "source": [
    "func5(name=\"홍길동\", age=30, address='신림동')"
   ]
  },
  {
   "cell_type": "code",
   "execution_count": 365,
   "id": "abaf9e01",
   "metadata": {},
   "outputs": [
    {
     "name": "stdout",
     "output_type": "stream",
     "text": [
      "{'name': '김길동'}\n",
      "<class 'dict'>\n",
      "이름 : 김길동\n",
      "나이 : 30\n",
      "주소 : 서울\n"
     ]
    }
   ],
   "source": [
    "func5(name='김길동')"
   ]
  },
  {
   "cell_type": "markdown",
   "id": "3e4a9c00",
   "metadata": {},
   "source": [
    "## 3.5 함수정의시 매개변수 순서\n",
    "- 순서인수 > 튜플매개변수(*) > 키워드인수(매개변수이름반드시명시) > 딕셔너리매개변수(**)"
   ]
  },
  {
   "cell_type": "code",
   "execution_count": 415,
   "id": "cd414128",
   "metadata": {},
   "outputs": [],
   "source": [
    "def func6(a, b, *c, **d) :\n",
    "    print(\"순서인수 a : \", a)\n",
    "    print(\"순서인수 b : \", b)\n",
    "    print(\"튜플인수 c : \", c)\n",
    "    print(\"딕셔너리 인수 d : \", d)"
   ]
  },
  {
   "cell_type": "code",
   "execution_count": 416,
   "id": "cbe8a3eb",
   "metadata": {},
   "outputs": [
    {
     "name": "stdout",
     "output_type": "stream",
     "text": [
      "순서인수 a :  10\n",
      "순서인수 b :  20\n",
      "튜플인수 c :  (1, 2, 3, 4, 5, 6, 7, 8, 9)\n",
      "딕셔너리 인수 d :  {'name': '홍길동', 'age': 30, 'address': '서울'}\n"
     ]
    }
   ],
   "source": [
    "func6(10, 20, 1, 2, 3, 4, 5, 6, 7, 8, 9, name=\"홍길동\", age=30, address='서울')"
   ]
  },
  {
   "cell_type": "code",
   "execution_count": 439,
   "id": "e28d91ac",
   "metadata": {},
   "outputs": [],
   "source": [
    "def func7(a, b, *c, d='기본값', **e):\n",
    "    print(\"순서인수 a : \", a)\n",
    "    print(\"순서인수 b : \", b)\n",
    "    print(\"튜플인수 c : \", c)\n",
    "    print(\"키워드인수(기본값을 갖는 인수, 호출시 매개변수 이름 반드시 명시) d : \", d)\n",
    "    print(\"딕셔너리 인수 e : \", e)"
   ]
  },
  {
   "cell_type": "code",
   "execution_count": 446,
   "id": "221c6450",
   "metadata": {},
   "outputs": [
    {
     "name": "stdout",
     "output_type": "stream",
     "text": [
      "순서인수 a :  10\n",
      "순서인수 b :  20\n",
      "튜플인수 c :  (1, 2, 3, 4, 5, 6, 7, 8, 9)\n",
      "키워드인수(기본값을 갖는 인수, 호출시 매개변수 이름 반드시 명시) d :  딴거\n",
      "딕셔너리 인수 e :  {'fontsize': 12, 'fontfamily': 'cibsika'}\n",
      "-------------------------------------------------------------------------------\n",
      "순서인수 a :  10\n",
      "순서인수 b :  20\n",
      "튜플인수 c :  (1, 2, 3, 4, 5, 6, 7, 8, 9)\n",
      "키워드인수(기본값을 갖는 인수, 호출시 매개변수 이름 반드시 명시) d :  기본값\n",
      "딕셔너리 인수 e :  {'fontsize': 12, 'fontfamily': 'cibsika'}\n"
     ]
    }
   ],
   "source": [
    "func7(10, 20, 1, 2, 3, 4, 5, 6, 7, 8, 9, d='딴거', fontsize=12, fontfamily='cibsika')\n",
    "print('-------------------------------------------------------------------------------')\n",
    "func7(10, 20, 1, 2, 3, 4, 5, 6, 7, 8, 9, fontsize=12, fontfamily='cibsika')"
   ]
  },
  {
   "cell_type": "markdown",
   "id": "14be67ff",
   "metadata": {},
   "source": [
    "## 3.6 인수의 언패킹\n",
    "\n",
    "### 튜플인수 언패킹\n",
    "#### ※ *\n",
    "- 튜플인수 언패킹 : 함수 호출시 매개변수앞에 * 붙임\n",
    "- 튜플인수 패킹 : 함수 정의시 매개변수 앞에 * 붙임 (튜플매개변수)"
   ]
  },
  {
   "cell_type": "code",
   "execution_count": 478,
   "id": "61f63971",
   "metadata": {},
   "outputs": [],
   "source": [
    "def add(*args) :\n",
    "    print(args)\n",
    "    tot = 0\n",
    "    \n",
    "    for num in args:\n",
    "        tot += num\n",
    "        \n",
    "    return tot"
   ]
  },
  {
   "cell_type": "code",
   "execution_count": 473,
   "id": "d1338b60",
   "metadata": {},
   "outputs": [
    {
     "name": "stdout",
     "output_type": "stream",
     "text": [
      "(1, 2)\n",
      "3\n",
      "(1, 2, 3, 4)\n",
      "10\n",
      "(1, 2, 3, 4, 5)\n",
      "15\n"
     ]
    }
   ],
   "source": [
    "print(add(1,2))\n",
    "print(add(1, 2, 3, 4))\n",
    "print(add(1, 2, 3, 4, 5))"
   ]
  },
  {
   "cell_type": "code",
   "execution_count": 475,
   "id": "089f8309",
   "metadata": {},
   "outputs": [
    {
     "name": "stdout",
     "output_type": "stream",
     "text": [
      "(1, 2, 3, 4)\n"
     ]
    },
    {
     "data": {
      "text/plain": [
       "10"
      ]
     },
     "execution_count": 475,
     "metadata": {},
     "output_type": "execute_result"
    }
   ],
   "source": [
    "numbers = [1, 2, 3, 4]\n",
    "add(*numbers) # 언패킹"
   ]
  },
  {
   "cell_type": "code",
   "execution_count": 477,
   "id": "349bc1a4",
   "metadata": {},
   "outputs": [
    {
     "name": "stdout",
     "output_type": "stream",
     "text": [
      "(1, 2, 3, 4)\n"
     ]
    },
    {
     "data": {
      "text/plain": [
       "10"
      ]
     },
     "execution_count": 477,
     "metadata": {},
     "output_type": "execute_result"
    }
   ],
   "source": [
    "numbers = (1, 2, 3, 4)\n",
    "add(*numbers) # 언패킹"
   ]
  },
  {
   "cell_type": "markdown",
   "id": "0e9ed42c",
   "metadata": {},
   "source": [
    "### 딕셔너리 언패킹\n",
    "\n",
    "#### ※ **\n",
    "- 딕셔너리 언패킹 : 함수 호출시 매개변수앞에 ** 붙임\n",
    "- 딕셔너리 패킹 : 함수 정의시 매개변수 앞에 ** 붙임 (딕셔너리 매개변수)"
   ]
  },
  {
   "cell_type": "code",
   "execution_count": 482,
   "id": "a9755d30",
   "metadata": {},
   "outputs": [],
   "source": [
    "def func5(**data):\n",
    "    print(data)\n",
    "    print(type(data))\n",
    "    for key, item in data.items():\n",
    "        print(f\"{key} : {item}\")"
   ]
  },
  {
   "cell_type": "code",
   "execution_count": 486,
   "id": "5ea7353a",
   "metadata": {},
   "outputs": [
    {
     "name": "stdout",
     "output_type": "stream",
     "text": [
      "{'name': '홍길동', 'age': 30, 'address': '신림'}\n",
      "<class 'dict'>\n",
      "name : 홍길동\n",
      "age : 30\n",
      "address : 신림\n"
     ]
    }
   ],
   "source": [
    "func5(name = \"홍길동\", age = 30, address ='신림')"
   ]
  },
  {
   "cell_type": "code",
   "execution_count": 485,
   "id": "30166945",
   "metadata": {},
   "outputs": [
    {
     "name": "stdout",
     "output_type": "stream",
     "text": [
      "{'name': '홍길동', 'age': 30, 'address': '서울시 강남구', 'score': 900}\n",
      "<class 'dict'>\n",
      "name : 홍길동\n",
      "age : 30\n",
      "address : 서울시 강남구\n",
      "score : 900\n"
     ]
    }
   ],
   "source": [
    "customIno = {'name' : '홍길동', 'age' : 30, 'address' : '서울시 강남구', 'score' : 900}\n",
    "func5(**customIno)"
   ]
  },
  {
   "cell_type": "markdown",
   "id": "f5782c65",
   "metadata": {},
   "source": [
    "# 4절 람다식 (lambda)\n",
    "\n",
    "- return 한 줄짜리 작은 익명 함수\n",
    "\n",
    "## 4.1 람다식 연습"
   ]
  },
  {
   "cell_type": "code",
   "execution_count": 495,
   "id": "657095e5",
   "metadata": {},
   "outputs": [
    {
     "data": {
      "text/plain": [
       "7"
      ]
     },
     "execution_count": 495,
     "metadata": {},
     "output_type": "execute_result"
    }
   ],
   "source": [
    "def add(a, b):\n",
    "    return a + b\n",
    "add(3, 4)"
   ]
  },
  {
   "cell_type": "code",
   "execution_count": 496,
   "id": "cc4ee4d2",
   "metadata": {},
   "outputs": [
    {
     "data": {
      "text/plain": [
       "7"
      ]
     },
     "execution_count": 496,
     "metadata": {},
     "output_type": "execute_result"
    }
   ],
   "source": [
    "add2 = lambda a, b : a+b\n",
    "add2(3, 4)"
   ]
  },
  {
   "cell_type": "code",
   "execution_count": 498,
   "id": "a30b02f1",
   "metadata": {},
   "outputs": [
    {
     "name": "stdout",
     "output_type": "stream",
     "text": [
      "add : <class 'function'>\n",
      "add2 : <class 'function'>\n"
     ]
    }
   ],
   "source": [
    "print(f\"add :\", type(add))\n",
    "print(f\"add2 :\", type(add2))"
   ]
  },
  {
   "cell_type": "code",
   "execution_count": 506,
   "id": "5e08cd87",
   "metadata": {},
   "outputs": [
    {
     "data": {
      "text/plain": [
       "7"
      ]
     },
     "execution_count": 506,
     "metadata": {},
     "output_type": "execute_result"
    }
   ],
   "source": [
    "(lambda a, b : a+b) (3, 4)"
   ]
  },
  {
   "cell_type": "code",
   "execution_count": 519,
   "id": "c56754d0",
   "metadata": {},
   "outputs": [
    {
     "name": "stdout",
     "output_type": "stream",
     "text": [
      "func :  짝수\n",
      "lambda :  홀수\n"
     ]
    }
   ],
   "source": [
    "# ex1. 매개변수로 들어온 값이 짝수인지 홀수인지 return\n",
    "def ex1(num):\n",
    "#     if num % 2:\n",
    "#         result = \"홀수\"\n",
    "#     else:\n",
    "#         result = \"짝수\"        \n",
    "    return \"홀수\" if num % 2 else \"짝수\"\n",
    "print(\"func : \", ex1(2))\n",
    "\n",
    "lambda_ex1 = lambda num : \"홀수\" if num % 2 else \"짝수\"\n",
    "print(\"lambda : \", lambda_ex1(1))"
   ]
  },
  {
   "cell_type": "code",
   "execution_count": 556,
   "id": "faa106f6",
   "metadata": {},
   "outputs": [
    {
     "name": "stdout",
     "output_type": "stream",
     "text": [
      "5\n",
      "5\n",
      "func : 1 10\n",
      "lambda : 1 10\n"
     ]
    }
   ],
   "source": [
    "# ex2. 두 매개변수의 차이를 return\n",
    "lambda_ex2 = lambda num1, num2 : num1-num2 if num1 > num2 else num2-num1\n",
    "print(lambda_ex2(10,5))\n",
    "print(lambda_ex2(5,10))\n",
    "\n",
    "# 문제풀이\n",
    "def diff(a, b):\n",
    "#     if a >b :\n",
    "#         result = a - b\n",
    "#     else :\n",
    "#         result = b - a\n",
    "    result =a-b if a > b else b - a\n",
    "    return result\n",
    "\n",
    "print(\"func :\", diff(2, 1), diff(10,20))\n",
    "\n",
    "exam2 = lambda a, b : a - b if a > b else b - a\n",
    "print(\"lambda :\", exam2(2,1), exam2(10,20))"
   ]
  },
  {
   "cell_type": "code",
   "execution_count": 558,
   "id": "be7851a2",
   "metadata": {},
   "outputs": [
    {
     "name": "stdout",
     "output_type": "stream",
     "text": [
      "1000\n",
      "negative\n"
     ]
    }
   ],
   "source": [
    "# ex3. 매개변수로 잔액을 받아 양수면 잔액을 return, 음수면 \"negative\" 를 return\n",
    "#문제풀이\n",
    "ex3 = lambda money : money if money >=0 else \"negative\"\n",
    "\n",
    "print(ex3(1000))\n",
    "print(ex3(-100))"
   ]
  },
  {
   "cell_type": "code",
   "execution_count": 564,
   "id": "87169e17",
   "metadata": {},
   "outputs": [
    {
     "name": "stdout",
     "output_type": "stream",
     "text": [
      "유효하지 않음\n",
      "A팀\n",
      "B팀\n",
      "재시험\n"
     ]
    }
   ],
   "source": [
    "# ex4. 정수를 입력받아 점수가 80점 이상은 \"A\"팀, 60점 이상은 \"B\"팀, 60점 미만은 \"재시험\" 그외는 유효하지 않음\n",
    "\n",
    "# score = int(input(\"점수를 입력해 주세요 : \"))\n",
    " \n",
    "# lambda_ex4 = lambda score : \"A팀\" if 80<= score <=100 else \"B팀\" elif 80< score <=60  else \"유효하지 않음\"\n",
    "# print(lambda_ex4(score))\n",
    "\n",
    "# 문제풀이\n",
    "ex4 = lambda score : \"A팀\" if 80<= score <=100  else \\\n",
    "                            \"B팀\" if 60<= score <80 else \\\n",
    "                            \"재시험\"  if 0<= score <60 else \\\n",
    "                            \"유효하지 않음\"\n",
    "\n",
    "print(ex4(120))\n",
    "print(ex4(90))\n",
    "print(ex4(70))\n",
    "print(ex4(50))"
   ]
  },
  {
   "cell_type": "code",
   "execution_count": 565,
   "id": "03d127f7",
   "metadata": {},
   "outputs": [
    {
     "name": "stdout",
     "output_type": "stream",
     "text": [
      "func : 4\n",
      "lambda : 4\n"
     ]
    },
    {
     "data": {
      "text/plain": [
       "(-1, 1)"
      ]
     },
     "execution_count": 565,
     "metadata": {},
     "output_type": "execute_result"
    }
   ],
   "source": [
    "# ex5. safe_index \n",
    "def safe_index(vector, data) :\n",
    "    if data in vector:\n",
    "        return vector.index(data)\n",
    "    else :\n",
    "        retutn -1\n",
    "\n",
    "lambda_ex5 = lambda lst, data : lst.index(data) if data in lst else -1\n",
    "\n",
    "print(\"func :\",safe_index([1,2,3,4,5], 5 ))\n",
    "print(\"lambda :\", lambda_ex5([1,2,3,4,5], 5 ))\n",
    "\n",
    "# 문제풀이\n",
    "ex5 = lambda vector, data : vector.index(data) if data in vector else -1\n",
    "tup = (1, 2, 3)\n",
    "\n",
    "ex5(tup, 4), ex5(tup, 2)"
   ]
  },
  {
   "cell_type": "code",
   "execution_count": null,
   "id": "4944582b",
   "metadata": {},
   "outputs": [],
   "source": []
  },
  {
   "cell_type": "code",
   "execution_count": null,
   "id": "789a64a0",
   "metadata": {},
   "outputs": [],
   "source": []
  },
  {
   "cell_type": "code",
   "execution_count": null,
   "id": "47032c47",
   "metadata": {},
   "outputs": [],
   "source": []
  },
  {
   "cell_type": "code",
   "execution_count": null,
   "id": "cddb619a",
   "metadata": {},
   "outputs": [],
   "source": []
  },
  {
   "cell_type": "code",
   "execution_count": null,
   "id": "f26ba234",
   "metadata": {},
   "outputs": [],
   "source": []
  },
  {
   "cell_type": "code",
   "execution_count": null,
   "id": "b8b1ff32",
   "metadata": {},
   "outputs": [],
   "source": []
  },
  {
   "cell_type": "code",
   "execution_count": null,
   "id": "b744a72b",
   "metadata": {},
   "outputs": [],
   "source": []
  },
  {
   "cell_type": "code",
   "execution_count": null,
   "id": "2e2787d3",
   "metadata": {},
   "outputs": [],
   "source": []
  }
 ],
 "metadata": {
  "kernelspec": {
   "display_name": "Python 3 (ipykernel)",
   "language": "python",
   "name": "python3"
  },
  "language_info": {
   "codemirror_mode": {
    "name": "ipython",
    "version": 3
   },
   "file_extension": ".py",
   "mimetype": "text/x-python",
   "name": "python",
   "nbconvert_exporter": "python",
   "pygments_lexer": "ipython3",
   "version": "3.10.9"
  },
  "toc": {
   "base_numbering": 1,
   "nav_menu": {},
   "number_sections": false,
   "sideBar": true,
   "skip_h1_title": false,
   "title_cell": "Table of Contents",
   "title_sidebar": "Contents",
   "toc_cell": false,
   "toc_position": {
    "height": "calc(100% - 180px)",
    "left": "10px",
    "top": "150px",
    "width": "191px"
   },
   "toc_section_display": true,
   "toc_window_display": true
  }
 },
 "nbformat": 4,
 "nbformat_minor": 5
}
