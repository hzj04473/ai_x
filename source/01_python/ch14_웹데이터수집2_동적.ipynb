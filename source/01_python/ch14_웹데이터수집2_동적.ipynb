{
 "cells": [
  {
   "cell_type": "code",
   "execution_count": 3,
   "id": "755b9a76",
   "metadata": {},
   "outputs": [
    {
     "data": {
      "text/html": [
       "\n",
       "<style>\n",
       "* {font-family:D2Coding;}\n",
       "div.container{width:87% !important;}\n",
       "div.cell.code_cell.rendered{width:100%;}\n",
       "div.CodeMirror {font-size:12pt;}\n",
       "div.output {font-size:12pt; font-weight:bold;}\n",
       "div.input { font-size:12pt;}\n",
       "div.prompt {min-width:70px;}\n",
       "div#toc-wrapper{padding-top:120px;}\n",
       "div.text_cell_render ul li{font-size:12pt;padding:3px;}\n",
       "table.dataframe{font-size:12px;}\n",
       "</style>\n"
      ],
      "text/plain": [
       "<IPython.core.display.HTML object>"
      ]
     },
     "metadata": {},
     "output_type": "display_data"
    }
   ],
   "source": [
    "from IPython.display import display, HTML\n",
    "\n",
    "display(\n",
    "    HTML(\"\"\"\n",
    "<style>\n",
    "* {font-family:D2Coding;}\n",
    "div.container{width:87% !important;}\n",
    "div.cell.code_cell.rendered{width:100%;}\n",
    "div.CodeMirror {font-size:12pt;}\n",
    "div.output {font-size:12pt; font-weight:bold;}\n",
    "div.input { font-size:12pt;}\n",
    "div.prompt {min-width:70px;}\n",
    "div#toc-wrapper{padding-top:120px;}\n",
    "div.text_cell_render ul li{font-size:12pt;padding:3px;}\n",
    "table.dataframe{font-size:12px;}\n",
    "</style>\n",
    "\"\"\"))"
   ]
  },
  {
   "cell_type": "markdown",
   "id": "6372121c",
   "metadata": {},
   "source": [
    "<b><font size=\"5\" color=\"red\">ch14_웹데이터 수집2_동적</font></b>\n",
    "\n",
    "# 3절. 동적 웹데이터 수집\n",
    "\n",
    "## 3-1. 문법\n",
    "\n",
    "```\n",
    "pip install selenium\n",
    "```\n",
    "- [selenium Docs] https://www.selenium.dev/documentation/ 또는 https://selenium-python.readthedocs.io/\n",
    "\n"
   ]
  },
  {
   "cell_type": "code",
   "execution_count": 55,
   "id": "dc13676b",
   "metadata": {},
   "outputs": [],
   "source": [
    "from selenium import webdriver\n",
    "from selenium.webdriver.common.by import By\n",
    "from selenium.webdriver.common.keys import Keys\n",
    "\n",
    "driver = webdriver.Chrome()\n",
    "driver.get(\"http://www.python.org\")\n",
    "\n",
    "elem = driver.find_element(By.NAME, 'q')\n",
    "elem.clear()\n",
    "\n",
    "elem.send_keys(\"pycon\")\n",
    "elem.send_keys(Keys.RETURN) # Enter 효과"
   ]
  },
  {
   "cell_type": "code",
   "execution_count": 56,
   "id": "8f3c1370",
   "metadata": {},
   "outputs": [
    {
     "name": "stdout",
     "output_type": "stream",
     "text": [
      "PSF PyCon Trademark Usage Policy - https://www.python.org/psf/trademarks/pycon\n",
      "PyCon Italia 2016 (PyCon Sette) - https://www.python.org/events/python-events/378/\n",
      "PyCon Australia 2013 - https://www.python.org/events/python-events/57/\n",
      "PyCon AU 2019 - https://www.python.org/events/python-events/776/\n",
      "PyCon Australia 2014 - https://www.python.org/events/python-events/10/\n",
      "PyCon Ireland 2012 - https://www.python.org/events/python-events/76/\n",
      "PyCon Ireland 2016 - https://www.python.org/events/python-events/429/\n",
      "PyCon Ireland 2022 - https://www.python.org/events/python-events/1320/\n",
      "PyCon Australia 2014 - https://www.python.org/events/python-events/1447/\n",
      "PyCon Ireland 2024 - https://www.python.org/events/python-events/1862/\n",
      "PyCon APAC 2025 - https://www.python.org/events/python-events/1879/\n",
      "PyCon AU 2018 - https://www.python.org/events/python-events/696/\n",
      "PyCon APAC 2022 - https://www.python.org/events/python-events/1216/\n",
      "PyCon PH 2024 - https://www.python.org/events/python-events/1661/\n",
      "PyCon Ireland 2023 - https://www.python.org/events/python-events/1568/\n",
      "PyCon PL 2014 - https://www.python.org/events/python-events/191/\n",
      "PyCon MY 2015 - https://www.python.org/events/python-events/313/\n",
      "PyCon Ireland 2015 - https://www.python.org/events/python-events/333/\n",
      "PyCon AU 2015 - https://www.python.org/events/python-events/273/\n",
      "PyCon Australia 2016 - https://www.python.org/events/python-events/357/\n"
     ]
    }
   ],
   "source": [
    "result_list = driver.find_elements(By.CSS_SELECTOR, 'li > h3 > a')\n",
    "for result in result_list:\n",
    "    print(\"{} - {}\".format(result.text, result.get_attribute('href')))"
   ]
  },
  {
   "cell_type": "code",
   "execution_count": 57,
   "id": "be361c72",
   "metadata": {},
   "outputs": [
    {
     "name": "stdout",
     "output_type": "stream",
     "text": [
      "PSF PyCon Trademark Usage Policy - /psf/trademarks/pycon\n",
      "PyCon Italia 2016 (PyCon Sette) - /events/python-events/378/\n",
      "PyCon Australia 2013 - /events/python-events/57/\n",
      "PyCon AU 2019 - /events/python-events/776/\n",
      "PyCon Australia 2014 - /events/python-events/10/\n",
      "PyCon Ireland 2012 - /events/python-events/76/\n",
      "PyCon Ireland 2016 - /events/python-events/429/\n",
      "PyCon Ireland 2022 - /events/python-events/1320/\n",
      "PyCon Australia 2014 - /events/python-events/1447/\n",
      "PyCon Ireland 2024 - /events/python-events/1862/\n",
      "PyCon APAC 2025 - /events/python-events/1879/\n",
      "PyCon AU 2018 - /events/python-events/696/\n",
      "PyCon APAC 2022 - /events/python-events/1216/\n",
      "PyCon PH 2024 - /events/python-events/1661/\n",
      "PyCon Ireland 2023 - /events/python-events/1568/\n",
      "PyCon PL 2014 - /events/python-events/191/\n",
      "PyCon MY 2015 - /events/python-events/313/\n",
      "PyCon Ireland 2015 - /events/python-events/333/\n",
      "PyCon AU 2015 - /events/python-events/273/\n",
      "PyCon Australia 2016 - /events/python-events/357/\n"
     ]
    }
   ],
   "source": [
    "from bs4 import BeautifulSoup\n",
    "# print(driver.page_source)\n",
    "soup = BeautifulSoup(driver.page_source, 'html.parser')  # driver.page_source\n",
    "\n",
    "result_list = soup.select('li > h3 > a')\n",
    "\n",
    "for result in result_list:\n",
    "    print(\"{} - {}\".format(result.text, result.attrs['href']))"
   ]
  },
  {
   "cell_type": "code",
   "execution_count": 58,
   "id": "ef80d79e",
   "metadata": {},
   "outputs": [
    {
     "name": "stdout",
     "output_type": "stream",
     "text": [
      "현재 주소 : https://www.python.org/search/?q=pycon&submit=\n",
      "parse_url : ParseResult(scheme='https', netloc='www.python.org', path='/search/', params='', query='q=pycon&submit=', fragment='')\n",
      "https://www.python.org\n"
     ]
    }
   ],
   "source": [
    "# 셀레니윰을 통해 접근한 현재 url\n",
    "from urllib.parse import urlparse\n",
    "\n",
    "current_url = driver.current_url\n",
    "print('현재 주소 :', current_url)\n",
    "\n",
    "parse_url = urlparse(current_url)\n",
    "print('parse_url :', parse_url)\n",
    "\n",
    "domain = f'{parse_url.scheme}://{parse_url.netloc}'\n",
    "print(domain)"
   ]
  },
  {
   "cell_type": "code",
   "execution_count": 59,
   "id": "94e082b4",
   "metadata": {},
   "outputs": [
    {
     "name": "stdout",
     "output_type": "stream",
     "text": [
      "PSF PyCon Trademark Usage Policy - https://www.python.org/psf/trademarks/pycon\n",
      "PyCon Italia 2016 (PyCon Sette) - https://www.python.org/events/python-events/378/\n",
      "PyCon Australia 2013 - https://www.python.org/events/python-events/57/\n",
      "PyCon AU 2019 - https://www.python.org/events/python-events/776/\n",
      "PyCon Australia 2014 - https://www.python.org/events/python-events/10/\n",
      "PyCon Ireland 2012 - https://www.python.org/events/python-events/76/\n",
      "PyCon Ireland 2016 - https://www.python.org/events/python-events/429/\n",
      "PyCon Ireland 2022 - https://www.python.org/events/python-events/1320/\n",
      "PyCon Australia 2014 - https://www.python.org/events/python-events/1447/\n",
      "PyCon Ireland 2024 - https://www.python.org/events/python-events/1862/\n",
      "PyCon APAC 2025 - https://www.python.org/events/python-events/1879/\n",
      "PyCon AU 2018 - https://www.python.org/events/python-events/696/\n",
      "PyCon APAC 2022 - https://www.python.org/events/python-events/1216/\n",
      "PyCon PH 2024 - https://www.python.org/events/python-events/1661/\n",
      "PyCon Ireland 2023 - https://www.python.org/events/python-events/1568/\n",
      "PyCon PL 2014 - https://www.python.org/events/python-events/191/\n",
      "PyCon MY 2015 - https://www.python.org/events/python-events/313/\n",
      "PyCon Ireland 2015 - https://www.python.org/events/python-events/333/\n",
      "PyCon AU 2015 - https://www.python.org/events/python-events/273/\n",
      "PyCon Australia 2016 - https://www.python.org/events/python-events/357/\n"
     ]
    }
   ],
   "source": [
    "from bs4 import BeautifulSoup\n",
    "\n",
    "# print(driver.page_source)\n",
    "soup = BeautifulSoup(driver.page_source, 'html.parser')  # driver.page_source\n",
    "\n",
    "result_list = soup.select('li > h3 > a')\n",
    "\n",
    "for result in result_list:\n",
    "    print(\"{} - {}\".format(result.text, domain+result.attrs['href']))"
   ]
  },
  {
   "cell_type": "code",
   "execution_count": 60,
   "id": "cec5f467",
   "metadata": {},
   "outputs": [],
   "source": [
    "driver.close() # 브라저 종료"
   ]
  },
  {
   "cell_type": "markdown",
   "id": "2264c814",
   "metadata": {},
   "source": [
    "## 3.2. 예제\n",
    "\n",
    "### 1) 다음 뉴스 검색"
   ]
  },
  {
   "cell_type": "code",
   "execution_count": 95,
   "id": "233b1c85",
   "metadata": {},
   "outputs": [
    {
     "name": "stdout",
     "output_type": "stream",
     "text": [
      "검색하고자 하는 단어는?비트코인\n",
      "‘클릭 한번에 150억원’ 비트코인 최고가 경신에... 암호화폐 부자 노린 강력범죄 급증 http://v.daum.net/v/20250530134417903\n",
      "가격 하락에도 기관 자금은 ‘역주행’···비트코인 ETF에 42억 달러 유입 http://v.daum.net/v/20250530140605584\n",
      "\"조정 왔나\"…비트코인, 기관 수요에도 1억4700만원대로 '털썩' http://v.daum.net/v/20250530094255957\n",
      "[비트코인 2025]대세 떠오른 비트코인 비축기업들 http://v.daum.net/v/20250530150900894\n",
      "[비트코인 2025] 테더 CEO “올해 말 세계 최대 비트코인 채굴기업 될 것” http://v.daum.net/v/20250530090905481\n",
      "[비트코인 2025]세계최대 스테이블코인 테더 CEO “비트코인까지 쓸어담을 것” http://v.daum.net/v/20250530151200002\n",
      "떨어지는 비트코인 http://v.daum.net/v/20250530103117094\n",
      "하락세 탄 비트코인 http://v.daum.net/v/20250530103107086\n",
      "[비즈 나우] 美, 1경 '은퇴자금' 비트코인 투자 빗장 풀었다 http://v.daum.net/v/20250530074812188\n",
      "\"지금 들어갈까\"...천장 뚫던 비트코인 '주춤' http://v.daum.net/v/20250530080346539\n"
     ]
    },
    {
     "data": {
      "text/plain": [
       "[['‘클릭 한번에 150억원’ 비트코인 최고가 경신에... 암호화폐 부자 노린 강력범죄 급증',\n",
       "  'http://v.daum.net/v/20250530134417903'],\n",
       " ['가격 하락에도 기관 자금은 ‘역주행’···비트코인 ETF에 42억 달러 유입',\n",
       "  'http://v.daum.net/v/20250530140605584'],\n",
       " ['\"조정 왔나\"…비트코인, 기관 수요에도 1억4700만원대로 \\'털썩\\'',\n",
       "  'http://v.daum.net/v/20250530094255957'],\n",
       " ['[비트코인 2025]대세 떠오른 비트코인 비축기업들', 'http://v.daum.net/v/20250530150900894'],\n",
       " ['[비트코인 2025] 테더 CEO “올해 말 세계 최대 비트코인 채굴기업 될 것”',\n",
       "  'http://v.daum.net/v/20250530090905481'],\n",
       " ['[비트코인 2025]세계최대 스테이블코인 테더 CEO “비트코인까지 쓸어담을 것”',\n",
       "  'http://v.daum.net/v/20250530151200002'],\n",
       " ['떨어지는 비트코인', 'http://v.daum.net/v/20250530103117094'],\n",
       " ['하락세 탄 비트코인', 'http://v.daum.net/v/20250530103107086'],\n",
       " [\"[비즈 나우] 美, 1경 '은퇴자금' 비트코인 투자 빗장 풀었다\",\n",
       "  'http://v.daum.net/v/20250530074812188'],\n",
       " ['\"지금 들어갈까\"...천장 뚫던 비트코인 \\'주춤\\'', 'http://v.daum.net/v/20250530080346539']]"
      ]
     },
     "execution_count": 95,
     "metadata": {},
     "output_type": "execute_result"
    }
   ],
   "source": [
    "from selenium import webdriver\n",
    "from selenium.webdriver.common.by import By\n",
    "from selenium.webdriver.common.keys import Keys\n",
    "import time\n",
    "\n",
    "driver = webdriver.Chrome()\n",
    "driver.get(\"https://www.daum.net\")\n",
    "\n",
    "# 1초 \n",
    "time.sleep(1)\n",
    "\n",
    "# input 태그를 click\n",
    "driver.find_element(By.NAME, 'q').click()\n",
    "query = input('검색하고자 하는 단어는?')\n",
    "\n",
    "driver.find_element(By.CSS_SELECTOR, 'input[name=\"q\"]').send_keys(query)\n",
    "# driver.find_element(By.NAME, 'q').send_keys(query)\n",
    "driver.find_element(By.CLASS_NAME,'btn_ksearch').click()\n",
    "\n",
    "# 2초\n",
    "time.sleep(2)\n",
    "\n",
    "# 뉴스탭 클릭 : ul.list_tab > li\n",
    "# driver.find_elements(By.CSS_SELECTOR,'ul.list_tab > li')[3].click()\n",
    "driver.find_element(By.LINK_TEXT,'뉴스').click() # 뉴스가 있는 탭 클릭\n",
    "\n",
    "# 뉴스리스트\n",
    "news_list = []\n",
    "elems = driver.find_elements(By.CSS_SELECTOR, 'div.item-title > strong.tit-g.clamp-g > a')\n",
    "# print(len(elems))\n",
    "for elem in elems:\n",
    "    title = elem.text\n",
    "    link = elem.get_attribute('href')\n",
    "    news_list.append([title, link])\n",
    "    print(title,link)\n",
    "news_list\n"
   ]
  },
  {
   "cell_type": "code",
   "execution_count": 98,
   "id": "dc64fed7",
   "metadata": {},
   "outputs": [
    {
     "name": "stdout",
     "output_type": "stream",
     "text": [
      "1 2 3 4 5\n"
     ]
    }
   ],
   "source": [
    "# 2page로\n",
    "page_div = driver.find_element(By.CSS_SELECTOR,'div.inner_paging')\n",
    "print(page_div.text)\n",
    "\n",
    "next_page = page_div.find_element(By.LINK_TEXT,'2')\n",
    "next_page.click()"
   ]
  },
  {
   "cell_type": "markdown",
   "id": "43cf9fe6",
   "metadata": {},
   "source": [
    "#### 페이징 처리\n",
    "- 다음 뉴스 검색 : 원하는 단어를 원하는 page수 만큼"
   ]
  },
  {
   "cell_type": "code",
   "execution_count": 103,
   "id": "8128f2b3",
   "metadata": {},
   "outputs": [
    {
     "name": "stdout",
     "output_type": "stream",
     "text": [
      "검색하고자 하는 단어는? 비트코인\n",
      "몇 페이지? 2\n",
      "-- 현재 1 페이지 데이터 수집 중입니다 --\n",
      "-- 현재 2 페이지 데이터 수집 중입니다 --\n"
     ]
    }
   ],
   "source": [
    "from selenium import webdriver\n",
    "from selenium.webdriver.common.by import By\n",
    "from selenium.webdriver.common.keys import Keys\n",
    "import time\n",
    "\n",
    "driver = webdriver.Chrome()\n",
    "driver.get(\"https://www.daum.net\")\n",
    "\n",
    "# 1초\n",
    "time.sleep(1)\n",
    "\n",
    "# input 태그를 click\n",
    "driver.find_element(By.NAME, 'q').click()\n",
    "query = input('검색하고자 하는 단어는? ')\n",
    "pages = int(input('몇 페이지? '))\n",
    "driver.find_element(By.CSS_SELECTOR, 'input[name=\"q\"]').send_keys(query)\n",
    "# driver.find_element(By.NAME, 'q').send_keys(query)\n",
    "driver.find_element(By.CLASS_NAME, 'btn_ksearch').click()\n",
    "\n",
    "# 2초\n",
    "time.sleep(2)\n",
    "\n",
    "# 뉴스탭 클릭 : ul.list_tab > li\n",
    "# driver.find_elements(By.CSS_SELECTOR,'ul.list_tab > li')[3].click()\n",
    "driver.find_element(By.LINK_TEXT, '뉴스').click()  # 뉴스가 있는 탭 클릭\n",
    "\n",
    "# 뉴스리스트\n",
    "news_list = []\n",
    "\n",
    "\n",
    "\n",
    "for page in range(1, pages + 1):\n",
    "    elems = driver.find_elements(By.CSS_SELECTOR,\n",
    "                                 'div.item-title > strong.tit-g.clamp-g > a')\n",
    "    # print(len(elems))\n",
    "    for elem in elems:\n",
    "        title = elem.text\n",
    "        link = elem.get_attribute('href')\n",
    "        news_list.append([title, link])\n",
    "        #print(title,link)\n",
    "\n",
    "    # 2page로\n",
    "    page_div = driver.find_element(By.CSS_SELECTOR, 'div.inner_paging')\n",
    "    next_page = page_div.find_element(By.LINK_TEXT, str(page + 1))\n",
    "    next_page.click()\n",
    "    \n",
    "    # 1.5초\n",
    "    time.sleep(2.5)\n",
    "    print(f'-- 현재 {page} 페이지 데이터 수집 중입니다 --')\n",
    "driver.close()\n",
    "\n",
    "import pandas as pd\n",
    "df = pd.DataFrame(news_list, columns=['title','link'])\n",
    "df.to_csv('data/ch14_daum.csv', index=False)"
   ]
  },
  {
   "cell_type": "markdown",
   "id": "ff7adca4",
   "metadata": {},
   "source": [
    "### 2) 맞춤법 검사기\n",
    "\n",
    "- 네이버 맞춤법 검사기 이용"
   ]
  },
  {
   "cell_type": "code",
   "execution_count": 161,
   "id": "6fd0a1b0",
   "metadata": {},
   "outputs": [
    {
     "name": "stdout",
     "output_type": "stream",
     "text": [
      "총 글자 수 : 1329\n",
      "259\n",
      "174\n",
      "174\n",
      "183\n",
      "277\n"
     ]
    },
    {
     "data": {
      "text/plain": [
       "['오잉! 좋은 인생 ',\n",
       " '\\n그리고 사람들과에',\n",
       " '\\n또하나, 내가 무',\n",
       " '\\n물론 인생이 항상',\n",
       " '\\n매일매일 새로운걸',\n",
       " '\\n결론적으로 좋은 ']"
      ]
     },
     "execution_count": 161,
     "metadata": {},
     "output_type": "execute_result"
    }
   ],
   "source": [
    "# ch14_맞춤법전.txt를 300자이내로 자르기\n",
    "\n",
    "with open('./data/ch14_맞춤법전.txt', mode='r', encoding='utf-8') as f:\n",
    "    text = f.read()\n",
    "\n",
    "print('총 글자 수 :', len(text))\n",
    "\n",
    "ready_list = []  # 맞춤법 검사할 text 내용 (300자 이내로 list)\n",
    "\n",
    "while (len(text) > 300):\n",
    "    temp = text[:300]\n",
    "    new_line_char_index = temp.rfind('\\n')\n",
    "    print(new_line_char_index)\n",
    "    ready_list.append(text[:new_line_char_index])\n",
    "\n",
    "    text = text[new_line_char_index:]\n",
    "\n",
    "ready_list.append(text)\n",
    "\n",
    "[ready[:10] for ready in ready_list]"
   ]
  },
  {
   "cell_type": "code",
   "execution_count": 163,
   "id": "3ffd908d",
   "metadata": {},
   "outputs": [
    {
     "data": {
      "text/plain": [
       "'오잉! 좋은 인생 이야긴데, 맞춤법을 틀리게 써달라고? 으음~ 알겠어! 네가 부탁하는 거니까 한번 해볼껭!자~ 좋은 인생이 뭘까? 진짜 어렵지만, 내가 생각하는 것들을 마구마구 이야기해볼게!일단 제일 중요한 건, 바로 \\'나\\' 자신인 것 가타. 남들이 뭐라고 하든, 내가 나를 얼마나 아끼고 사랑하는지가 진짜 중요해! 매일매일 거울을 보면서 \"오늘도 수고해서! 너 최고다!\" 라구 말해주는 거 어때? 나 자신에게 친절하게 대하는 게 좋은 인생의 시작일 수 있어.'"
      ]
     },
     "execution_count": 163,
     "metadata": {},
     "output_type": "execute_result"
    }
   ],
   "source": [
    "from selenium import webdriver\n",
    "from selenium.webdriver.common.by import By\n",
    "from selenium.webdriver.common.keys import Keys\n",
    "import time\n",
    "\n",
    "driver = webdriver.Chrome()\n",
    "driver.get(\"http://www.naver.com\")\n",
    "\n",
    "input_elem = driver.find_element(By.CSS_SELECTOR, 'input[name=query]')\n",
    "input_elem.send_keys('맞춤법 검사기')\n",
    "input_elem.send_keys(Keys.RETURN)\n",
    "\n",
    "time.sleep(0.5)\n",
    "\n",
    "# ready_list[0]\n",
    "textarea = driver.find_element(By.CLASS_NAME,'txt_gray')\n",
    "textarea.click()\n",
    "time.sleep(2)\n",
    "textarea.send_keys(ready_list[0])\n",
    "\n",
    "button = driver.find_element(By.CLASS_NAME,'btn_check')\n",
    "button.click()\n",
    "\n",
    "time.sleep(2)\n",
    "\n",
    "soup = BeautifulSoup(driver.page_source,'html.parser')\n",
    "result = soup.select_one('p._result_text.stand_txt').text\n",
    "result"
   ]
  },
  {
   "cell_type": "code",
   "execution_count": null,
   "id": "45debeb3",
   "metadata": {},
   "outputs": [],
   "source": []
  },
  {
   "cell_type": "markdown",
   "id": "40fef6f3",
   "metadata": {},
   "source": [
    "#### ✅ 맞춤법 검사기 최종소스"
   ]
  },
  {
   "cell_type": "code",
   "execution_count": 167,
   "id": "9a6dd395",
   "metadata": {},
   "outputs": [],
   "source": [
    "# 최종 소스\n",
    "from selenium import webdriver\n",
    "from selenium.webdriver.common.by import By\n",
    "from selenium.webdriver.common.keys import Keys\n",
    "import time\n",
    "\n",
    "driver = webdriver.Chrome()\n",
    "driver.get(\"http://www.naver.com\")\n",
    "\n",
    "input_elem = driver.find_element(By.CSS_SELECTOR, 'input[name=query]')\n",
    "input_elem.send_keys('맞춤법 검사기')\n",
    "input_elem.send_keys(Keys.RETURN)\n",
    "\n",
    "time.sleep(0.5)\n",
    "\n",
    "results = ''\n",
    "\n",
    "textarea = driver.find_element(By.CLASS_NAME,'txt_gray')\n",
    "\n",
    "for ready in ready_list:\n",
    "    \n",
    "    time.sleep(2)\n",
    "    \n",
    "    textarea.send_keys(Keys.COMMAND,'a') # 또는 textarea.clear()\n",
    "    # textarea.clear()\n",
    "    textarea.send_keys(ready)\n",
    "\n",
    "    button = driver.find_element(By.CLASS_NAME,'btn_check')\n",
    "    button.click()\n",
    "\n",
    "    time.sleep(2)\n",
    "\n",
    "    soup = BeautifulSoup(driver.page_source,'html.parser')\n",
    "    result = soup.select_one('p._result_text.stand_txt').text\n",
    "    results += result + '\\n\\n'\n",
    "    \n",
    "driver.close()\n",
    "\n",
    "with open('./data/ch14_맞춤법후.txt',mode='w', encoding='utf-8') as f:\n",
    "    f.write(results)"
   ]
  },
  {
   "cell_type": "markdown",
   "id": "424a5454",
   "metadata": {},
   "source": [
    "### 연습문제\n",
    "\n",
    "```\n",
    "영어번역 자동화 프로그램을 구현하시오. 네이버 맞춤법 검사를 마친 텍스트를 https://translate.kakao.com/를 통해 영어로 번역된 텍스트를 파일로 출력하는 동적 웹크롤링 프로그램을 구현하시오.\n",
    "```\n",
    "- 번역전 파일 : ch14_맞춤법후.txt\n",
    "- 번역후 파일 : 2_자동화영어번역본.txt\n"
   ]
  },
  {
   "cell_type": "code",
   "execution_count": 177,
   "id": "b700e32f",
   "metadata": {},
   "outputs": [
    {
     "name": "stdout",
     "output_type": "stream",
     "text": [
      "총 글자 수 : 1329\n",
      "607\n",
      "661\n"
     ]
    },
    {
     "data": {
      "text/plain": [
       "['오잉! 좋은 인생 ', '\\n물론 인생이 항상', '\\n앗, 그리고 혹시']"
      ]
     },
     "execution_count": 177,
     "metadata": {},
     "output_type": "execute_result"
    }
   ],
   "source": [
    "with open('./data/ch14_연습문제_맞춤법전.txt', mode='r', encoding='utf-8') as f:\n",
    "    text = f.read()\n",
    "\n",
    "print('총 글자 수 :', len(text))\n",
    "\n",
    "ready_list = []  # 맞춤법 검사할 text 내용 (300자 이내로 list)\n",
    "\n",
    "while (len(text) > 700):\n",
    "    temp = text[:700]\n",
    "    new_line_char_index = temp.rfind('\\n')\n",
    "    print(new_line_char_index)\n",
    "    ready_list.append(text[:new_line_char_index])\n",
    "\n",
    "    text = text[new_line_char_index:]\n",
    "\n",
    "ready_list.append(text)\n",
    "\n",
    "[ready[:10] for ready in ready_list]"
   ]
  },
  {
   "cell_type": "code",
   "execution_count": 193,
   "id": "4344cced",
   "metadata": {},
   "outputs": [],
   "source": [
    "from selenium import webdriver\n",
    "from selenium.webdriver.common.by import By\n",
    "from selenium.webdriver.common.keys import Keys\n",
    "import time\n",
    "\n",
    "driver = webdriver.Chrome()\n",
    "driver.get(\"http://www.daum.net\")\n",
    "\n",
    "tf_keyword = driver.find_element(By.CLASS_NAME, 'tf_keyword')\n",
    "tf_keyword.clear()\n",
    "tf_keyword.click()\n",
    "tf_keyword.send_keys(\"맞춤법 검사기\")\n",
    "\n",
    "btn_ksearch = driver.find_element(By.CLASS_NAME, 'btn_ksearch').click()\n",
    "\n",
    "time.sleep(1)\n",
    "\n",
    "# ready_list 700자씩 넣기\n",
    "results = ''\n",
    "\n",
    "for ready in ready_list:\n",
    "    textarea = driver.find_element(By.ID, 'tfGrammar')\n",
    "    textarea.clear()\n",
    "    textarea.click()\n",
    "\n",
    "    textarea.send_keys(ready)\n",
    "\n",
    "    time.sleep(1.5)\n",
    "\n",
    "    btnGrammarCheck = driver.find_element(By.ID, 'btnGrammarCheck')\n",
    "    btnGrammarCheck.click()\n",
    "\n",
    "    time.sleep(1.5)\n",
    "\n",
    "    soup = BeautifulSoup(driver.page_source, 'html.parser')\n",
    "\n",
    "    contResult = soup.select_one('#contResult').text\n",
    "    results += contResult + '\\n\\n'\n",
    "\n",
    "driver.close() # .py 만들경우는 driver.close() 필요없음\n",
    "\n",
    "with open('./data/ch14_연습문제_맞춤법후.txt', mode='w',\n",
    "          encoding='utf-8') as f:\n",
    "    f.write(results)"
   ]
  },
  {
   "cell_type": "code",
   "execution_count": null,
   "id": "e76fe7c4",
   "metadata": {},
   "outputs": [],
   "source": []
  },
  {
   "cell_type": "code",
   "execution_count": null,
   "id": "07274f45",
   "metadata": {},
   "outputs": [],
   "source": [
    "# 선생님 소스"
   ]
  },
  {
   "cell_type": "code",
   "execution_count": null,
   "id": "80dab1cd",
   "metadata": {},
   "outputs": [],
   "source": [
    "# test\n",
    "from selenium import webdriver\n",
    "from selenium.webdriver.common.by import By\n",
    "from selenium.webdriver.common.keys import Keys\n",
    "import time\n",
    "driver = webdriver.Chrome()\n",
    "time.sleep(0.5)\n",
    "driver.get('https://translate.kakao.com/')\n",
    "textarea = driver.find_element(By.CSS_SELECTOR, 'textarea.translate_area.area_item.translate_many')\n",
    "button = driver.find_element(By.CSS_SELECTOR, 'div.btn_item')\n",
    "textarea.send_keys(\"반갑습니다\")\n",
    "button.click()\n",
    "time.sleep(1)\n",
    "\n",
    "# soup = BeautifulSoup(driver.page_source, \"html.parser\")\n",
    "# result = soup.select_one('div.result_area.translate_many').text\n",
    "result = driver.find_element(By.CSS_SELECTOR, 'div.result_area.translate_many').text\n",
    "print(result)"
   ]
  },
  {
   "cell_type": "code",
   "execution_count": null,
   "id": "1cac6d3b",
   "metadata": {},
   "outputs": [],
   "source": [
    "# ch14_맞춤법후.txt를 1000자이내로 자르기\n",
    "with open('data/ch14_맞춤법후.txt', 'r', encoding='utf-8') as f:\n",
    "    text = f.read()\n",
    "ready_list = [] # 맞춤법 검사할 text 내용(300이자 이내로 list)\n",
    "while(len(text) > 1000):\n",
    "    temp = text[:1000]\n",
    "    new_line_char_index = temp.rfind('\\n')\n",
    "    ready_list.append(text[:new_line_char_index])\n",
    "    text = text[new_line_char_index:]\n",
    "ready_list.append(text)\n",
    "print('크롤링 할 text 수 :',[len(ready) for ready in ready_list])\n",
    "# 크롤링\n",
    "from selenium import webdriver\n",
    "from selenium.webdriver.common.by import By\n",
    "from selenium.webdriver.common.keys import Keys\n",
    "import time\n",
    "driver = webdriver.Chrome()\n",
    "time.sleep(0.5)\n",
    "driver.get('https://translate.kakao.com/')\n",
    "textarea = driver.find_element(By.CSS_SELECTOR, 'textarea.translate_area.area_item.translate_many')\n",
    "button = driver.find_element(By.CSS_SELECTOR, 'div.btn_item')\n",
    "results = ''\n",
    "for idx, ready in enumerate(ready_list):\n",
    "    print( f'{round(idx/len(ready_list) * 100, 2)}% 번역 중입니다')\n",
    "    textarea.clear()\n",
    "    textarea.send_keys(ready)\n",
    "    button.click()\n",
    "    time.sleep(1)\n",
    "\n",
    "    # soup = BeautifulSoup(driver.page_source, \"html.parser\")\n",
    "    # result = soup.select_one('div.result_area.translate_many').text\n",
    "    result = driver.find_element(By.CSS_SELECTOR, 'div.result_area.translate_many').text\n",
    "    results += result + '\\n\\n'\n",
    "driver.close()    \n",
    "# 번역한 결과 파일 출력\n",
    "with open('data/ch14_자동화영어번역본.txt', 'w', encoding='utf-8') as f:\n",
    "    f.write(results)\n",
    "print('번역 완료')"
   ]
  }
 ],
 "metadata": {
  "kernelspec": {
   "display_name": "Python 3 (ipykernel)",
   "language": "python",
   "name": "python3"
  },
  "language_info": {
   "codemirror_mode": {
    "name": "ipython",
    "version": 3
   },
   "file_extension": ".py",
   "mimetype": "text/x-python",
   "name": "python",
   "nbconvert_exporter": "python",
   "pygments_lexer": "ipython3",
   "version": "3.10.9"
  },
  "toc": {
   "base_numbering": 1,
   "nav_menu": {},
   "number_sections": false,
   "sideBar": true,
   "skip_h1_title": false,
   "title_cell": "Table of Contents",
   "title_sidebar": "Contents",
   "toc_cell": false,
   "toc_position": {
    "height": "calc(100% - 180px)",
    "left": "10px",
    "top": "150px",
    "width": "258px"
   },
   "toc_section_display": true,
   "toc_window_display": true
  }
 },
 "nbformat": 4,
 "nbformat_minor": 5
}
