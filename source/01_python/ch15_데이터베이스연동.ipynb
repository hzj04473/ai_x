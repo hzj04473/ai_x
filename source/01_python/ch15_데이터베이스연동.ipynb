{
 "cells": [
  {
   "cell_type": "code",
   "execution_count": 1,
   "id": "2284691a",
   "metadata": {},
   "outputs": [
    {
     "data": {
      "text/html": [
       "\n",
       "<style>\n",
       "* {font-family:D2Coding;}\n",
       "div.container{width:87% !important;}\n",
       "div.cell.code_cell.rendered{width:100%;}\n",
       "div.CodeMirror {font-size:12pt;}\n",
       "div.output {font-size:12pt; font-weight:bold;}\n",
       "div.input { font-size:12pt;}\n",
       "div.prompt {min-width:70px;}\n",
       "div#toc-wrapper{padding-top:120px;}\n",
       "div.text_cell_render ul li{font-size:12pt;padding:3px;}\n",
       "table.dataframe{font-size:12px;}\n",
       "</style>\n"
      ],
      "text/plain": [
       "<IPython.core.display.HTML object>"
      ]
     },
     "metadata": {},
     "output_type": "display_data"
    }
   ],
   "source": [
    "from IPython.display import display, HTML\n",
    "\n",
    "display(\n",
    "    HTML(\"\"\"\n",
    "<style>\n",
    "* {font-family:D2Coding;}\n",
    "div.container{width:87% !important;}\n",
    "div.cell.code_cell.rendered{width:100%;}\n",
    "div.CodeMirror {font-size:12pt;}\n",
    "div.output {font-size:12pt; font-weight:bold;}\n",
    "div.input { font-size:12pt;}\n",
    "div.prompt {min-width:70px;}\n",
    "div#toc-wrapper{padding-top:120px;}\n",
    "div.text_cell_render ul li{font-size:12pt;padding:3px;}\n",
    "table.dataframe{font-size:12px;}\n",
    "</style>\n",
    "\"\"\"))"
   ]
  },
  {
   "cell_type": "markdown",
   "id": "9ab547e8",
   "metadata": {},
   "source": [
    "<font color=\"red\" size=\"5\">ch15. 데이터베이스 연동</font>\n",
    "# 1절. SQLite 데이터 베이스 연동\n",
    "- SQLite 데이터베이스는 별도의 DBMS없이 SQL을 이용하여 DB 엑세스 가능한 디스크 기반 DB\n",
    "- SQLite는 프로토타입(시제품) 용도\n",
    "- 프로젝트 단계 : 분석 - 설계 - 구현 - 테스트 - 고객에게 배포 - 유지보수\n",
    "-                 SQLite    Oracle/MySql, MariaDB, ...\n",
    "- C 라이브러리\n",
    "- [db browser for sqlite](https://sqlitebrowser.org/)\n",
    "## 1.1 SQLite 패키지 load"
   ]
  },
  {
   "cell_type": "code",
   "execution_count": 3,
   "id": "d08cc761",
   "metadata": {},
   "outputs": [
    {
     "data": {
      "text/plain": [
       "'3.40.1'"
      ]
     },
     "execution_count": 3,
     "metadata": {},
     "output_type": "execute_result"
    }
   ],
   "source": [
    "import sqlite3\n",
    "sqlite3.sqlite_version"
   ]
  },
  {
   "cell_type": "code",
   "execution_count": 4,
   "id": "9751d5c8",
   "metadata": {},
   "outputs": [
    {
     "data": {
      "text/plain": [
       "'1.5.3'"
      ]
     },
     "execution_count": 4,
     "metadata": {},
     "output_type": "execute_result"
    }
   ],
   "source": [
    "import pandas as pd\n",
    "pd.__version__"
   ]
  },
  {
   "cell_type": "markdown",
   "id": "d3073b04",
   "metadata": {},
   "source": [
    "## 1.2 데이터 베이스 연결"
   ]
  },
  {
   "cell_type": "code",
   "execution_count": 5,
   "id": "26099696",
   "metadata": {},
   "outputs": [
    {
     "data": {
      "text/plain": [
       "<sqlite3.Connection at 0x23b83812940>"
      ]
     },
     "execution_count": 5,
     "metadata": {},
     "output_type": "execute_result"
    }
   ],
   "source": [
    "# DB 연결\n",
    "conn = sqlite3.connect('data/ch15_exmple.db')\n",
    "conn"
   ]
  },
  {
   "cell_type": "code",
   "execution_count": 6,
   "id": "3244f999",
   "metadata": {},
   "outputs": [
    {
     "data": {
      "text/plain": [
       "<sqlite3.Cursor at 0x23b83954a40>"
      ]
     },
     "execution_count": 6,
     "metadata": {},
     "output_type": "execute_result"
    }
   ],
   "source": [
    "# 커서객체(SQL문 실행->결과 조회) 생성\n",
    "cursor = conn.cursor()\n",
    "cursor"
   ]
  },
  {
   "cell_type": "code",
   "execution_count": 8,
   "id": "2e2a55ad",
   "metadata": {},
   "outputs": [
    {
     "data": {
      "text/plain": [
       "<sqlite3.Cursor at 0x19dae1d23c0>"
      ]
     },
     "execution_count": 8,
     "metadata": {},
     "output_type": "execute_result"
    }
   ],
   "source": [
    "cursor.execute('''\n",
    "    CREATE TABLE MEMBER(\n",
    "        NAME TEXT,\n",
    "        AGE  INT,\n",
    "        EMAIL TEXT\n",
    "    )\n",
    "''')"
   ]
  },
  {
   "cell_type": "markdown",
   "id": "6da9e9ab",
   "metadata": {},
   "source": [
    "### insert, update, delete 전송"
   ]
  },
  {
   "cell_type": "code",
   "execution_count": 7,
   "id": "d2b3d087",
   "metadata": {},
   "outputs": [
    {
     "name": "stdout",
     "output_type": "stream",
     "text": [
      "수행 결과 행수 : 1\n"
     ]
    }
   ],
   "source": [
    "cursor.execute('''\n",
    "    INSERT INTO MEMBER VALUES ('홍길동', 20, 'h@h.com')\n",
    "''')\n",
    "print('수행 결과 행수 :', cursor.rowcount)"
   ]
  },
  {
   "cell_type": "code",
   "execution_count": 8,
   "id": "f54de714",
   "metadata": {},
   "outputs": [
    {
     "name": "stdout",
     "output_type": "stream",
     "text": [
      "INSERT INTO MEMBER VALUES ('박길동', 30, 'k@h.com')\n",
      "수행 결과 행수 : 1\n"
     ]
    }
   ],
   "source": [
    "sql = \"INSERT INTO MEMBER VALUES ('박길동', 30, 'k@h.com')\"\n",
    "print(sql)\n",
    "cursor.execute(sql)\n",
    "print('수행 결과 행수 :', cursor.rowcount)"
   ]
  },
  {
   "cell_type": "code",
   "execution_count": 9,
   "id": "b5c24452",
   "metadata": {},
   "outputs": [],
   "source": [
    "conn.commit() # (반) conn.rollback() DML에서만 가능"
   ]
  },
  {
   "cell_type": "markdown",
   "id": "ab6a983b",
   "metadata": {},
   "source": [
    "### select 전송"
   ]
  },
  {
   "cell_type": "code",
   "execution_count": 14,
   "id": "d4b83aaf",
   "metadata": {},
   "outputs": [
    {
     "data": {
      "text/plain": [
       "<sqlite3.Cursor at 0x23b83954a40>"
      ]
     },
     "execution_count": 14,
     "metadata": {},
     "output_type": "execute_result"
    }
   ],
   "source": [
    "cursor.execute('''\n",
    "    SELECT NAME, AGE+1 NEXTAGE, EMAIL FROM MEMBER\n",
    "''')"
   ]
  },
  {
   "cell_type": "code",
   "execution_count": 15,
   "id": "e9075494",
   "metadata": {},
   "outputs": [
    {
     "name": "stdout",
     "output_type": "stream",
     "text": [
      "[('홍길동', 21, 'h@h.com'), ('김길동', 31, 'k@h.com'), ('마길동', 31, 'k@h.com'), ('윤길동', 31, 'k@h.com'), ('박길동', 31, 'k@h.com'), ('이순신', 55, 'lee@korea.com'), ('홍길동', 21, 'h@h.com'), ('박길동', 31, 'k@h.com')]\n"
     ]
    }
   ],
   "source": [
    "# SELECT 전송\n",
    "#   select 문 실행결과를 받는 함수\n",
    "#    cursor.fetchone() : 결과를 한행씩 받을 때(튜플)\n",
    "#    cursor.fetchall() : 결과를 모두 받을 때 (튜플 list)\n",
    "#    cursor.fetchmany(n) : 결과를 n행 받을 때(튜플 list)\n",
    "#    cursor.description : header 내용을 포함한 내용들(list)\n",
    "\n",
    "# INSERT, UPDATE, DELETE 전송 : cursor.rowcount\n",
    "print(cursor.fetchall())"
   ]
  },
  {
   "cell_type": "code",
   "execution_count": 16,
   "id": "a10bcee3",
   "metadata": {},
   "outputs": [
    {
     "name": "stdout",
     "output_type": "stream",
     "text": [
      "[]\n"
     ]
    }
   ],
   "source": [
    "print(cursor.fetchall())"
   ]
  },
  {
   "cell_type": "code",
   "execution_count": 17,
   "id": "afdb7433",
   "metadata": {},
   "outputs": [
    {
     "data": {
      "text/plain": [
       "[('홍길동', 21, 'h@h.com'), ('홍길동', 21, 'h@h.com'), ('김길동', 31, 'k@h.com')]"
      ]
     },
     "execution_count": 17,
     "metadata": {},
     "output_type": "execute_result"
    }
   ],
   "source": [
    "cursor.execute('''\n",
    "    SELECT NAME, AGE+1 NEXTAGE, EMAIL FROM MEMBER order by NEXTAGE\n",
    "''')\n",
    "members = cursor.fetchmany(3)\n",
    "members"
   ]
  },
  {
   "cell_type": "code",
   "execution_count": 18,
   "id": "bea33b00",
   "metadata": {},
   "outputs": [
    {
     "data": {
      "text/plain": [
       "('홍길동', 21, 'h@h.com')"
      ]
     },
     "execution_count": 18,
     "metadata": {},
     "output_type": "execute_result"
    }
   ],
   "source": [
    "cursor.execute('''\n",
    "    SELECT NAME, AGE+1 NEXTAGE, EMAIL FROM MEMBER order by NEXTAGE\n",
    "''')\n",
    "members = cursor.fetchone()\n",
    "members"
   ]
  },
  {
   "cell_type": "code",
   "execution_count": 24,
   "id": "2c02fe31",
   "metadata": {},
   "outputs": [
    {
     "data": {
      "text/plain": [
       "[('김길동', 31, 'k@h.com'),\n",
       " ('마길동', 31, 'k@h.com'),\n",
       " ('윤길동', 31, 'k@h.com'),\n",
       " ('박길동', 31, 'k@h.com')]"
      ]
     },
     "execution_count": 24,
     "metadata": {},
     "output_type": "execute_result"
    }
   ],
   "source": [
    "cursor.fetchall()"
   ]
  },
  {
   "cell_type": "code",
   "execution_count": 19,
   "id": "28cdae7f",
   "metadata": {},
   "outputs": [
    {
     "name": "stdout",
     "output_type": "stream",
     "text": [
      "('홍길동', 21, 'h@h.com')\n",
      "('홍길동', 21, 'h@h.com')\n",
      "('김길동', 31, 'k@h.com')\n",
      "('마길동', 31, 'k@h.com')\n",
      "('윤길동', 31, 'k@h.com')\n",
      "('박길동', 31, 'k@h.com')\n",
      "('박길동', 31, 'k@h.com')\n",
      "('이순신', 55, 'lee@korea.com')\n"
     ]
    },
    {
     "data": {
      "text/html": [
       "<div>\n",
       "<style scoped>\n",
       "    .dataframe tbody tr th:only-of-type {\n",
       "        vertical-align: middle;\n",
       "    }\n",
       "\n",
       "    .dataframe tbody tr th {\n",
       "        vertical-align: top;\n",
       "    }\n",
       "\n",
       "    .dataframe thead th {\n",
       "        text-align: right;\n",
       "    }\n",
       "</style>\n",
       "<table border=\"1\" class=\"dataframe\">\n",
       "  <thead>\n",
       "    <tr style=\"text-align: right;\">\n",
       "      <th></th>\n",
       "      <th>name</th>\n",
       "      <th>age</th>\n",
       "      <th>email</th>\n",
       "    </tr>\n",
       "  </thead>\n",
       "  <tbody>\n",
       "    <tr>\n",
       "      <th>0</th>\n",
       "      <td>홍길동</td>\n",
       "      <td>21</td>\n",
       "      <td>h@h.com</td>\n",
       "    </tr>\n",
       "    <tr>\n",
       "      <th>1</th>\n",
       "      <td>홍길동</td>\n",
       "      <td>21</td>\n",
       "      <td>h@h.com</td>\n",
       "    </tr>\n",
       "    <tr>\n",
       "      <th>2</th>\n",
       "      <td>김길동</td>\n",
       "      <td>31</td>\n",
       "      <td>k@h.com</td>\n",
       "    </tr>\n",
       "    <tr>\n",
       "      <th>3</th>\n",
       "      <td>마길동</td>\n",
       "      <td>31</td>\n",
       "      <td>k@h.com</td>\n",
       "    </tr>\n",
       "    <tr>\n",
       "      <th>4</th>\n",
       "      <td>윤길동</td>\n",
       "      <td>31</td>\n",
       "      <td>k@h.com</td>\n",
       "    </tr>\n",
       "    <tr>\n",
       "      <th>5</th>\n",
       "      <td>박길동</td>\n",
       "      <td>31</td>\n",
       "      <td>k@h.com</td>\n",
       "    </tr>\n",
       "    <tr>\n",
       "      <th>6</th>\n",
       "      <td>박길동</td>\n",
       "      <td>31</td>\n",
       "      <td>k@h.com</td>\n",
       "    </tr>\n",
       "    <tr>\n",
       "      <th>7</th>\n",
       "      <td>이순신</td>\n",
       "      <td>55</td>\n",
       "      <td>lee@korea.com</td>\n",
       "    </tr>\n",
       "  </tbody>\n",
       "</table>\n",
       "</div>"
      ],
      "text/plain": [
       "  name  age          email\n",
       "0  홍길동   21        h@h.com\n",
       "1  홍길동   21        h@h.com\n",
       "2  김길동   31        k@h.com\n",
       "3  마길동   31        k@h.com\n",
       "4  윤길동   31        k@h.com\n",
       "5  박길동   31        k@h.com\n",
       "6  박길동   31        k@h.com\n",
       "7  이순신   55  lee@korea.com"
      ]
     },
     "execution_count": 19,
     "metadata": {},
     "output_type": "execute_result"
    }
   ],
   "source": [
    "# 데이터 한줄씩 가져오기\n",
    "cursor.execute('''\n",
    "    SELECT NAME, AGE+1 NEXTAGE, EMAIL FROM MEMBER order by NEXTAGE\n",
    "''')\n",
    "members = []\n",
    "while True:\n",
    "    member = cursor.fetchone()\n",
    "    if member is None:\n",
    "        break\n",
    "    print(member)\n",
    "    members.append({'name':member[0], 'age':member[1], 'email':member[2]})\n",
    "import pandas as pd\n",
    "pd.DataFrame(members)"
   ]
  },
  {
   "cell_type": "code",
   "execution_count": 20,
   "id": "f9fc230a",
   "metadata": {},
   "outputs": [
    {
     "data": {
      "text/html": [
       "<div>\n",
       "<style scoped>\n",
       "    .dataframe tbody tr th:only-of-type {\n",
       "        vertical-align: middle;\n",
       "    }\n",
       "\n",
       "    .dataframe tbody tr th {\n",
       "        vertical-align: top;\n",
       "    }\n",
       "\n",
       "    .dataframe thead th {\n",
       "        text-align: right;\n",
       "    }\n",
       "</style>\n",
       "<table border=\"1\" class=\"dataframe\">\n",
       "  <thead>\n",
       "    <tr style=\"text-align: right;\">\n",
       "      <th></th>\n",
       "      <th>NAME</th>\n",
       "      <th>NEXTAGE</th>\n",
       "      <th>EMAIL</th>\n",
       "    </tr>\n",
       "  </thead>\n",
       "  <tbody>\n",
       "    <tr>\n",
       "      <th>0</th>\n",
       "      <td>홍길동</td>\n",
       "      <td>21</td>\n",
       "      <td>h@h.com</td>\n",
       "    </tr>\n",
       "    <tr>\n",
       "      <th>1</th>\n",
       "      <td>홍길동</td>\n",
       "      <td>21</td>\n",
       "      <td>h@h.com</td>\n",
       "    </tr>\n",
       "    <tr>\n",
       "      <th>2</th>\n",
       "      <td>김길동</td>\n",
       "      <td>31</td>\n",
       "      <td>k@h.com</td>\n",
       "    </tr>\n",
       "    <tr>\n",
       "      <th>3</th>\n",
       "      <td>마길동</td>\n",
       "      <td>31</td>\n",
       "      <td>k@h.com</td>\n",
       "    </tr>\n",
       "    <tr>\n",
       "      <th>4</th>\n",
       "      <td>윤길동</td>\n",
       "      <td>31</td>\n",
       "      <td>k@h.com</td>\n",
       "    </tr>\n",
       "    <tr>\n",
       "      <th>5</th>\n",
       "      <td>박길동</td>\n",
       "      <td>31</td>\n",
       "      <td>k@h.com</td>\n",
       "    </tr>\n",
       "    <tr>\n",
       "      <th>6</th>\n",
       "      <td>박길동</td>\n",
       "      <td>31</td>\n",
       "      <td>k@h.com</td>\n",
       "    </tr>\n",
       "    <tr>\n",
       "      <th>7</th>\n",
       "      <td>이순신</td>\n",
       "      <td>55</td>\n",
       "      <td>lee@korea.com</td>\n",
       "    </tr>\n",
       "  </tbody>\n",
       "</table>\n",
       "</div>"
      ],
      "text/plain": [
       "  NAME  NEXTAGE          EMAIL\n",
       "0  홍길동       21        h@h.com\n",
       "1  홍길동       21        h@h.com\n",
       "2  김길동       31        k@h.com\n",
       "3  마길동       31        k@h.com\n",
       "4  윤길동       31        k@h.com\n",
       "5  박길동       31        k@h.com\n",
       "6  박길동       31        k@h.com\n",
       "7  이순신       55  lee@korea.com"
      ]
     },
     "execution_count": 20,
     "metadata": {},
     "output_type": "execute_result"
    }
   ],
   "source": [
    "cursor.execute('''\n",
    "    SELECT NAME, AGE+1 NEXTAGE, EMAIL FROM MEMBER order by NEXTAGE\n",
    "''')\n",
    "members = cursor.fetchall()\n",
    "df = pd.DataFrame(members, \n",
    "                  columns=[description[0] for description in cursor.description])\n",
    "df"
   ]
  },
  {
   "cell_type": "code",
   "execution_count": 21,
   "id": "5ac07f7c",
   "metadata": {},
   "outputs": [
    {
     "data": {
      "text/plain": [
       "(('NAME', None, None, None, None, None, None),\n",
       " ('NEXTAGE', None, None, None, None, None, None),\n",
       " ('EMAIL', None, None, None, None, None, None))"
      ]
     },
     "execution_count": 21,
     "metadata": {},
     "output_type": "execute_result"
    }
   ],
   "source": [
    "# select문을 수행한 필드 정보\n",
    "cursor.description"
   ]
  },
  {
   "cell_type": "code",
   "execution_count": 22,
   "id": "6d899a79",
   "metadata": {},
   "outputs": [
    {
     "data": {
      "text/plain": [
       "['NAME', 'NEXTAGE', 'EMAIL']"
      ]
     },
     "execution_count": 22,
     "metadata": {},
     "output_type": "execute_result"
    }
   ],
   "source": [
    "[description[0] for description in cursor.description]"
   ]
  },
  {
   "cell_type": "markdown",
   "id": "7747aa48",
   "metadata": {},
   "source": [
    "## 1.3 SQL구문에 파라미터 사용하기\n",
    "- qmark(DB에 따라 불가한 경우 있음)\n",
    "- named(추천)"
   ]
  },
  {
   "cell_type": "code",
   "execution_count": 23,
   "id": "fdda87c5",
   "metadata": {},
   "outputs": [
    {
     "data": {
      "text/plain": [
       "[('홍길동', 20, 'h@h.com'), ('김길동', 30, 'k@h.com'), ('홍길동', 20, 'h@h.com')]"
      ]
     },
     "execution_count": 23,
     "metadata": {},
     "output_type": "execute_result"
    }
   ],
   "source": [
    "conn = sqlite3.connect('data/ch15_exmple.db')\n",
    "cursor = conn.cursor()\n",
    "cursor.execute(\"SELECT * FROM MEMBER WHERE NAME IN ('홍길동','김길동')\")\n",
    "cursor.fetchall()"
   ]
  },
  {
   "cell_type": "code",
   "execution_count": 24,
   "id": "a7c1c62a",
   "metadata": {},
   "outputs": [
    {
     "name": "stdout",
     "output_type": "stream",
     "text": [
      "검색할 이름은?홍길동\n",
      "검색할 다른이름은?박길동\n"
     ]
    },
    {
     "data": {
      "text/plain": [
       "[('홍길동', 20, 'h@h.com'),\n",
       " ('박길동', 30, 'k@h.com'),\n",
       " ('홍길동', 20, 'h@h.com'),\n",
       " ('박길동', 30, 'k@h.com')]"
      ]
     },
     "execution_count": 24,
     "metadata": {},
     "output_type": "execute_result"
    }
   ],
   "source": [
    "# 파라미터 사용하기 : qmark 방법 이용\n",
    "sql = \"SELECT * FROM MEMBER WHERE NAME IN (?,?)\"\n",
    "name1 = input('검색할 이름은?')\n",
    "name2 = input('검색할 다른이름은?')\n",
    "cursor.execute(sql, (name1, name2))\n",
    "cursor.fetchall()"
   ]
  },
  {
   "cell_type": "code",
   "execution_count": 35,
   "id": "bd082584",
   "metadata": {},
   "outputs": [
    {
     "name": "stdout",
     "output_type": "stream",
     "text": [
      "검색할 이름은?홍길동\n",
      "검색할 다른이름은?김길동\n"
     ]
    },
    {
     "data": {
      "text/plain": [
       "[('홍길동', 20, 'h@h.com'), ('김길동', 30, 'k@h.com')]"
      ]
     },
     "execution_count": 35,
     "metadata": {},
     "output_type": "execute_result"
    }
   ],
   "source": [
    "# 파라미터 사용하기 : named 방법 이용\n",
    "sql = \"SELECT * FROM MEMBER WHERE NAME IN (:name1, :name2)\"\n",
    "name1 = input('검색할 이름은?')\n",
    "name2 = input('검색할 다른이름은?')\n",
    "cursor.execute(sql, {'name1':name1, 'name2':name2})\n",
    "cursor.fetchall()"
   ]
  },
  {
   "cell_type": "code",
   "execution_count": 37,
   "id": "e4be73e7",
   "metadata": {},
   "outputs": [
    {
     "name": "stdout",
     "output_type": "stream",
     "text": [
      "입력할 이름은?이순신\n",
      "입력할 나이는?54\n",
      "입력할 메일은?lee@korea.com\n",
      "입력성공\n"
     ]
    }
   ],
   "source": [
    "# named 방법으로 데이터 입력하기\n",
    "try:\n",
    "    name = input('입력할 이름은?')\n",
    "    age = int(input('입력할 나이는?'))\n",
    "except ValueError:\n",
    "    print('유효하지 않은 나이를 입력하시면 18세로 초기화')\n",
    "    age = 18\n",
    "finally:\n",
    "    email = input('입력할 메일은?')\n",
    "cursor.execute('INSERT INTO MEMBER VALUES (:name, :age, :email)', \n",
    "               {'name':name, 'age':age, 'email':email})\n",
    "conn.commit()\n",
    "if cursor.rowcount == 1:\n",
    "    print('입력성공')\n",
    "else:\n",
    "    print('입력실패')"
   ]
  },
  {
   "cell_type": "code",
   "execution_count": 38,
   "id": "d58cc72d",
   "metadata": {},
   "outputs": [],
   "source": [
    "cursor.close()\n",
    "conn.close()"
   ]
  },
  {
   "cell_type": "markdown",
   "id": "2a53cc32",
   "metadata": {},
   "source": [
    "# 2절. 오라클 데이터 베이스 연결\n",
    "- pip install cx_oracle"
   ]
  },
  {
   "cell_type": "code",
   "execution_count": 25,
   "id": "03319c92",
   "metadata": {},
   "outputs": [
    {
     "data": {
      "text/plain": [
       "<cx_Oracle.Connection to scott@localhost:1521/xe>"
      ]
     },
     "execution_count": 25,
     "metadata": {},
     "output_type": "execute_result"
    }
   ],
   "source": [
    "import cx_Oracle\n",
    "# conn 얻어오는 방법1\n",
    "conn = cx_Oracle.connect('scott','tiger','localhost:1521/xe')\n",
    "conn"
   ]
  },
  {
   "cell_type": "code",
   "execution_count": 26,
   "id": "cc7e4c4a",
   "metadata": {},
   "outputs": [
    {
     "data": {
      "text/plain": [
       "<cx_Oracle.Connection to scott@(DESCRIPTION=(ADDRESS=(PROTOCOL=TCP)(HOST=localhost)(PORT=1521))(CONNECT_DATA=(SID=xe)))>"
      ]
     },
     "execution_count": 26,
     "metadata": {},
     "output_type": "execute_result"
    }
   ],
   "source": [
    "# conn 얻어오는 방법2\n",
    "oracle_dsn = cx_Oracle.makedsn(host='localhost',port=1521, sid=\"xe\")\n",
    "conn = cx_Oracle.connect(\"scott\", \"tiger\", dsn=oracle_dsn)\n",
    "conn"
   ]
  },
  {
   "cell_type": "code",
   "execution_count": 27,
   "id": "82fd5f11",
   "metadata": {},
   "outputs": [
    {
     "name": "stdout",
     "output_type": "stream",
     "text": [
      "(7369, 'SMITH', 'CLERK', 7902, 800.0, None)\n",
      "(7499, 'ALLEN', 'SALESMAN', 7698, 1600.0, 300.0)\n",
      "(7521, 'WARD', 'SALESMAN', 7698, 1250.0, 500.0)\n",
      "(7566, 'JONES', 'MANAGER', 7839, 2975.0, None)\n",
      "(7654, 'MARTIN', 'SALESMAN', 7698, 1250.0, 1400.0)\n",
      "(7698, 'BLAKE', 'MANAGER', 7839, 2850.0, None)\n",
      "(7782, 'CLARK', 'MANAGER', 7839, 2450.0, None)\n",
      "(7788, 'SCOTT', 'ANALYST', 7566, 3000.0, None)\n",
      "(7839, 'KING', 'PRESIDENT', None, 5000.0, None)\n",
      "(7844, 'TURNER', 'SALESMAN', 7698, 1500.0, 0.0)\n",
      "(7876, 'ADAMS', 'CLERK', 7788, 1100.0, None)\n",
      "(7900, 'JAMES', 'CLERK', 7698, 950.0, None)\n",
      "(7902, 'FORD', 'ANALYST', 7566, 3000.0, None)\n",
      "(7934, 'MILLER', 'CLERK', 7782, 1300.0, None)\n"
     ]
    }
   ],
   "source": [
    "cursor = conn.cursor()\n",
    "cursor.execute('SELECT EMPNO NO, ENAME, JOB, MGR, SAL, COMM FROM EMP')\n",
    "emps = cursor.fetchall()\n",
    "for emp in emps:\n",
    "    print(emp)"
   ]
  },
  {
   "cell_type": "code",
   "execution_count": 28,
   "id": "daf71a75",
   "metadata": {},
   "outputs": [
    {
     "data": {
      "text/html": [
       "<div>\n",
       "<style scoped>\n",
       "    .dataframe tbody tr th:only-of-type {\n",
       "        vertical-align: middle;\n",
       "    }\n",
       "\n",
       "    .dataframe tbody tr th {\n",
       "        vertical-align: top;\n",
       "    }\n",
       "\n",
       "    .dataframe thead th {\n",
       "        text-align: right;\n",
       "    }\n",
       "</style>\n",
       "<table border=\"1\" class=\"dataframe\">\n",
       "  <thead>\n",
       "    <tr style=\"text-align: right;\">\n",
       "      <th></th>\n",
       "      <th>NO</th>\n",
       "      <th>ENAME</th>\n",
       "      <th>JOB</th>\n",
       "      <th>MGR</th>\n",
       "      <th>SAL</th>\n",
       "      <th>COMM</th>\n",
       "    </tr>\n",
       "  </thead>\n",
       "  <tbody>\n",
       "    <tr>\n",
       "      <th>0</th>\n",
       "      <td>7369</td>\n",
       "      <td>SMITH</td>\n",
       "      <td>CLERK</td>\n",
       "      <td>7902.0</td>\n",
       "      <td>800.0</td>\n",
       "      <td>NaN</td>\n",
       "    </tr>\n",
       "    <tr>\n",
       "      <th>1</th>\n",
       "      <td>7499</td>\n",
       "      <td>ALLEN</td>\n",
       "      <td>SALESMAN</td>\n",
       "      <td>7698.0</td>\n",
       "      <td>1600.0</td>\n",
       "      <td>300.0</td>\n",
       "    </tr>\n",
       "    <tr>\n",
       "      <th>2</th>\n",
       "      <td>7521</td>\n",
       "      <td>WARD</td>\n",
       "      <td>SALESMAN</td>\n",
       "      <td>7698.0</td>\n",
       "      <td>1250.0</td>\n",
       "      <td>500.0</td>\n",
       "    </tr>\n",
       "    <tr>\n",
       "      <th>3</th>\n",
       "      <td>7566</td>\n",
       "      <td>JONES</td>\n",
       "      <td>MANAGER</td>\n",
       "      <td>7839.0</td>\n",
       "      <td>2975.0</td>\n",
       "      <td>NaN</td>\n",
       "    </tr>\n",
       "    <tr>\n",
       "      <th>4</th>\n",
       "      <td>7654</td>\n",
       "      <td>MARTIN</td>\n",
       "      <td>SALESMAN</td>\n",
       "      <td>7698.0</td>\n",
       "      <td>1250.0</td>\n",
       "      <td>1400.0</td>\n",
       "    </tr>\n",
       "    <tr>\n",
       "      <th>5</th>\n",
       "      <td>7698</td>\n",
       "      <td>BLAKE</td>\n",
       "      <td>MANAGER</td>\n",
       "      <td>7839.0</td>\n",
       "      <td>2850.0</td>\n",
       "      <td>NaN</td>\n",
       "    </tr>\n",
       "    <tr>\n",
       "      <th>6</th>\n",
       "      <td>7782</td>\n",
       "      <td>CLARK</td>\n",
       "      <td>MANAGER</td>\n",
       "      <td>7839.0</td>\n",
       "      <td>2450.0</td>\n",
       "      <td>NaN</td>\n",
       "    </tr>\n",
       "    <tr>\n",
       "      <th>7</th>\n",
       "      <td>7788</td>\n",
       "      <td>SCOTT</td>\n",
       "      <td>ANALYST</td>\n",
       "      <td>7566.0</td>\n",
       "      <td>3000.0</td>\n",
       "      <td>NaN</td>\n",
       "    </tr>\n",
       "    <tr>\n",
       "      <th>8</th>\n",
       "      <td>7839</td>\n",
       "      <td>KING</td>\n",
       "      <td>PRESIDENT</td>\n",
       "      <td>NaN</td>\n",
       "      <td>5000.0</td>\n",
       "      <td>NaN</td>\n",
       "    </tr>\n",
       "    <tr>\n",
       "      <th>9</th>\n",
       "      <td>7844</td>\n",
       "      <td>TURNER</td>\n",
       "      <td>SALESMAN</td>\n",
       "      <td>7698.0</td>\n",
       "      <td>1500.0</td>\n",
       "      <td>0.0</td>\n",
       "    </tr>\n",
       "    <tr>\n",
       "      <th>10</th>\n",
       "      <td>7876</td>\n",
       "      <td>ADAMS</td>\n",
       "      <td>CLERK</td>\n",
       "      <td>7788.0</td>\n",
       "      <td>1100.0</td>\n",
       "      <td>NaN</td>\n",
       "    </tr>\n",
       "    <tr>\n",
       "      <th>11</th>\n",
       "      <td>7900</td>\n",
       "      <td>JAMES</td>\n",
       "      <td>CLERK</td>\n",
       "      <td>7698.0</td>\n",
       "      <td>950.0</td>\n",
       "      <td>NaN</td>\n",
       "    </tr>\n",
       "    <tr>\n",
       "      <th>12</th>\n",
       "      <td>7902</td>\n",
       "      <td>FORD</td>\n",
       "      <td>ANALYST</td>\n",
       "      <td>7566.0</td>\n",
       "      <td>3000.0</td>\n",
       "      <td>NaN</td>\n",
       "    </tr>\n",
       "    <tr>\n",
       "      <th>13</th>\n",
       "      <td>7934</td>\n",
       "      <td>MILLER</td>\n",
       "      <td>CLERK</td>\n",
       "      <td>7782.0</td>\n",
       "      <td>1300.0</td>\n",
       "      <td>NaN</td>\n",
       "    </tr>\n",
       "  </tbody>\n",
       "</table>\n",
       "</div>"
      ],
      "text/plain": [
       "      NO   ENAME        JOB     MGR     SAL    COMM\n",
       "0   7369   SMITH      CLERK  7902.0   800.0     NaN\n",
       "1   7499   ALLEN   SALESMAN  7698.0  1600.0   300.0\n",
       "2   7521    WARD   SALESMAN  7698.0  1250.0   500.0\n",
       "3   7566   JONES    MANAGER  7839.0  2975.0     NaN\n",
       "4   7654  MARTIN   SALESMAN  7698.0  1250.0  1400.0\n",
       "5   7698   BLAKE    MANAGER  7839.0  2850.0     NaN\n",
       "6   7782   CLARK    MANAGER  7839.0  2450.0     NaN\n",
       "7   7788   SCOTT    ANALYST  7566.0  3000.0     NaN\n",
       "8   7839    KING  PRESIDENT     NaN  5000.0     NaN\n",
       "9   7844  TURNER   SALESMAN  7698.0  1500.0     0.0\n",
       "10  7876   ADAMS      CLERK  7788.0  1100.0     NaN\n",
       "11  7900   JAMES      CLERK  7698.0   950.0     NaN\n",
       "12  7902    FORD    ANALYST  7566.0  3000.0     NaN\n",
       "13  7934  MILLER      CLERK  7782.0  1300.0     NaN"
      ]
     },
     "execution_count": 28,
     "metadata": {},
     "output_type": "execute_result"
    }
   ],
   "source": [
    "pd.DataFrame(emps,\n",
    "            columns=[des[0] for des in cursor.description])"
   ]
  },
  {
   "cell_type": "code",
   "execution_count": null,
   "id": "429957e4",
   "metadata": {},
   "outputs": [],
   "source": []
  },
  {
   "cell_type": "code",
   "execution_count": null,
   "id": "90d0cdc3",
   "metadata": {},
   "outputs": [],
   "source": []
  },
  {
   "cell_type": "code",
   "execution_count": null,
   "id": "ff23e412",
   "metadata": {},
   "outputs": [],
   "source": []
  },
  {
   "cell_type": "code",
   "execution_count": null,
   "id": "ad439a06",
   "metadata": {},
   "outputs": [],
   "source": []
  },
  {
   "cell_type": "code",
   "execution_count": null,
   "id": "b33ae0a9",
   "metadata": {},
   "outputs": [],
   "source": []
  },
  {
   "cell_type": "code",
   "execution_count": null,
   "id": "5eebdb18",
   "metadata": {},
   "outputs": [],
   "source": []
  }
 ],
 "metadata": {
  "kernelspec": {
   "display_name": "Python 3 (ipykernel)",
   "language": "python",
   "name": "python3"
  },
  "language_info": {
   "codemirror_mode": {
    "name": "ipython",
    "version": 3
   },
   "file_extension": ".py",
   "mimetype": "text/x-python",
   "name": "python",
   "nbconvert_exporter": "python",
   "pygments_lexer": "ipython3",
   "version": "3.10.9"
  },
  "toc": {
   "base_numbering": 1,
   "nav_menu": {},
   "number_sections": false,
   "sideBar": true,
   "skip_h1_title": false,
   "title_cell": "Table of Contents",
   "title_sidebar": "Contents",
   "toc_cell": false,
   "toc_position": {
    "height": "calc(100% - 180px)",
    "left": "10px",
    "top": "150px",
    "width": "165px"
   },
   "toc_section_display": true,
   "toc_window_display": true
  }
 },
 "nbformat": 4,
 "nbformat_minor": 5
}
