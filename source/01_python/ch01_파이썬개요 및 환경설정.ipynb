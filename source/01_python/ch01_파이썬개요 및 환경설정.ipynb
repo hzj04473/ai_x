{
 "cells": [
  {
   "cell_type": "code",
   "execution_count": 1,
   "id": "f9b7e012",
   "metadata": {},
   "outputs": [
    {
     "data": {
      "text/html": [
       "\n",
       "<style>\n",
       "div.container{width:86% !important;}\n",
       "div.cell.code_cell.rendered{width:100%;}\n",
       "div.CodeMirror {font-family:Consolas; font-size:15pt;}\n",
       "div.output {font-size:15pt; font-weight:bold;}\n",
       "div.input {font-family:Consolas; font-size:15pt;}\n",
       "div.prompt {min-width:70px;}\n",
       "div#toc-wrapper{padding-top:120px;}\n",
       "div.text_cell_render ul li{font-size:12pt;padding:5px;}\n",
       "table.dataframe{font-size:15px;}\n",
       "</style>\n"
      ],
      "text/plain": [
       "<IPython.core.display.HTML object>"
      ]
     },
     "metadata": {},
     "output_type": "display_data"
    }
   ],
   "source": [
    "from IPython.display import display, HTML\n",
    "\n",
    "display(HTML(\"\"\"\n",
    "<style>\n",
    "div.container{width:86% !important;}\n",
    "div.cell.code_cell.rendered{width:100%;}\n",
    "div.CodeMirror {font-family:Consolas; font-size:15pt;}\n",
    "div.output {font-size:15pt; font-weight:bold;}\n",
    "div.input {font-family:Consolas; font-size:15pt;}\n",
    "div.prompt {min-width:70px;}\n",
    "div#toc-wrapper{padding-top:120px;}\n",
    "div.text_cell_render ul li{font-size:12pt;padding:5px;}\n",
    "table.dataframe{font-size:15px;}\n",
    "</style>\n",
    "\"\"\"))"
   ]
  },
  {
   "cell_type": "markdown",
   "id": "d00d8a65",
   "metadata": {},
   "source": [
    "<font size=\"5\" color=\"red\">ch01 파이썬 개요 및 환경 설정</font>\n",
    "\n",
    "# 1. 주피터 노트북 사용법\n",
    "\n",
    "- shift + Enter : 선택된 셀이 실행되고, 다음셀로 이동\n",
    "- alt + Enter : 포커스된 셀이 실행되고, 다음셀이 생성된 후 다음셀로 이동\n",
    "- ctrl + Enter : 선택된 셀이 실행되고, 해당셀에 있음\n",
    "- Enter(셀 클릭) : 다시 편집상태로 돌아감"
   ]
  },
  {
   "cell_type": "code",
   "execution_count": 2,
   "id": "da19419c",
   "metadata": {},
   "outputs": [
    {
     "name": "stdout",
     "output_type": "stream",
     "text": [
      "Hello, World\n",
      "홍길동\n"
     ]
    }
   ],
   "source": [
    "print(\"Hello, World\\n홍길동\")"
   ]
  },
  {
   "cell_type": "code",
   "execution_count": 3,
   "id": "e0fe60c3",
   "metadata": {},
   "outputs": [
    {
     "name": "stdout",
     "output_type": "stream",
     "text": [
      "252\n",
      "27\n"
     ]
    }
   ],
   "source": [
    "age = 25\n",
    "duration = \"2\"\n",
    "print(str(age) + duration)\n",
    "print(age + int(duration))"
   ]
  },
  {
   "cell_type": "code",
   "execution_count": 4,
   "id": "8740c089",
   "metadata": {},
   "outputs": [],
   "source": [
    "# 반복하는 명령 (주석 : 실행하지 않고 개발자가 보는 용도)\n",
    "# for i in range(10):\n",
    "#     print(i)"
   ]
  },
  {
   "cell_type": "code",
   "execution_count": 5,
   "id": "93f08e3e",
   "metadata": {},
   "outputs": [],
   "source": [
    "print = 10"
   ]
  },
  {
   "cell_type": "code",
   "execution_count": 6,
   "id": "2a6838e7",
   "metadata": {},
   "outputs": [
    {
     "data": {
      "text/plain": [
       "10"
      ]
     },
     "execution_count": 6,
     "metadata": {},
     "output_type": "execute_result"
    }
   ],
   "source": [
    "print"
   ]
  },
  {
   "cell_type": "code",
   "execution_count": 7,
   "id": "b3f1035c",
   "metadata": {},
   "outputs": [
    {
     "ename": "TypeError",
     "evalue": "'int' object is not callable",
     "output_type": "error",
     "traceback": [
      "\u001b[0;31m---------------------------------------------------------------------------\u001b[0m",
      "\u001b[0;31mTypeError\u001b[0m                                 Traceback (most recent call last)",
      "Cell \u001b[0;32mIn[7], line 1\u001b[0m\n\u001b[0;32m----> 1\u001b[0m \u001b[38;5;28mprint\u001b[39m(\u001b[38;5;124m\"\u001b[39m\u001b[38;5;124mHello\u001b[39m\u001b[38;5;124m\"\u001b[39m)\n",
      "\u001b[0;31mTypeError\u001b[0m: 'int' object is not callable"
     ]
    }
   ],
   "source": [
    "print(\"Hello\")"
   ]
  },
  {
   "cell_type": "code",
   "execution_count": 8,
   "id": "b8fefdcd",
   "metadata": {},
   "outputs": [],
   "source": [
    "# 실수로 print에 10 할당을 취소\n",
    "# 1. 커널 재시작\n",
    "# 2. print 변수만 제거\n",
    "del print"
   ]
  },
  {
   "cell_type": "code",
   "execution_count": 9,
   "id": "1ac8759a",
   "metadata": {},
   "outputs": [
    {
     "name": "stdout",
     "output_type": "stream",
     "text": [
      "Hello\n"
     ]
    }
   ],
   "source": [
    "print(\"Hello\")"
   ]
  },
  {
   "cell_type": "markdown",
   "id": "614777fd",
   "metadata": {},
   "source": [
    "# 2. ESC 키 누르고 (핫키)\n",
    "\n",
    "- dd : 삭제\n",
    "- a : 윗셀 추가\n",
    "- b : 아래셀 추가\n",
    "- m : 마크다운셀(문서셀)로 변경\n",
    "- y : 코드셀로 변경\n",
    "- o : 실행결과 접기/펴기(토글기능)"
   ]
  },
  {
   "cell_type": "markdown",
   "id": "dc06f8fa",
   "metadata": {},
   "source": [
    "# 3. 마크다운이란?\n",
    "\n",
    "- 코드와 함께 문서화할수 있음\n",
    "- 다양한 문서화 문법 ex. README.md"
   ]
  },
  {
   "cell_type": "code",
   "execution_count": 10,
   "id": "dfe3d733",
   "metadata": {},
   "outputs": [
    {
     "name": "stdout",
     "output_type": "stream",
     "text": [
      "ch01_파이썬개요\\ 및\\ 환경설정.ipynb\r\n",
      "ch02_자료형과연산자(1절~4절).ipynb\r\n",
      "ch02_자료형과연산자(5절~끝까지).ipynb\r\n",
      "ch03_데이터구조.ipynb\r\n",
      "ch04_제어문.ipynb\r\n",
      "ch05.py\r\n",
      "ch05_함수.ipynb\r\n",
      "ch06_모듈과패키지.ipynb\r\n",
      "ch07_객체지향프로그래밍.ipynb\r\n",
      "ch08_예외처리.ipynb\r\n",
      "ch09_ex\r\n",
      "ch09_파일io(입출력)프로그래밍.ipynb\r\n",
      "ch10_N차원배열다루기_1절~3절.ipynb\r\n",
      "ch10_N차원배열다루기_4절~6절.ipynb\r\n",
      "ch11_데이터프레임과\\ 시리즈_1절~8절(Pandas).ipynb\r\n",
      "ch11_데이터프레임과\\ 시리즈_9절~13절(Pandas).ipynb\r\n",
      "ch12_데이터시각화_1절_Matplotlib.ipynb\r\n",
      "ch12_데이터시각화_2절_Seaborn.ipynb\r\n",
      "ch13_예1_포트폴리오_아파트분양가분석.ipynb\r\n",
      "ch13_예2_서울부산상가분석사례연구.ipynb\r\n",
      "ch14_웹데이터수집1_정적_공공api.ipynb\r\n",
      "ch14_웹데이터수집2_동적.ipynb\r\n",
      "ch15_데이터베이스연동.ipynb\r\n",
      "data\r\n",
      "fonts\r\n",
      "safe.py\r\n",
      "test.py\r\n",
      "test.txt\r\n",
      "메인_1_청바지.jpeg\r\n",
      "평가소스.ipynb\r\n"
     ]
    }
   ],
   "source": [
    "# 주피터 노트북에서 cmd명령을 실행하는 방법\n",
    "# 윈도우 터미널\n",
    "! dir"
   ]
  },
  {
   "cell_type": "code",
   "execution_count": 21,
   "id": "8ee8b7a8",
   "metadata": {},
   "outputs": [
    {
     "name": "stdout",
     "output_type": "stream",
     "text": [
      " C 드라이브의 볼륨에는 이름이 없습니다.\n",
      " 볼륨 일련 번호: 3664-591E\n",
      "\n",
      " C:\\ai_x\\source\\01_python 디렉터리\n",
      "\n",
      "2025-04-08  오후 12:39    <DIR>          .\n",
      "2025-04-08  오후 12:39    <DIR>          ..\n",
      "2025-04-08  오전 11:37    <DIR>          .ipynb_checkpoints\n",
      "2025-04-08  오후 12:39             8,203 ch01_파이썬개요 및 환경설정.ipynb\n",
      "2025-04-08  오전 11:17                21 test.py\n",
      "               2개 파일               8,224 바이트\n",
      "               3개 디렉터리  163,596,972,032 바이트 남음\n"
     ]
    }
   ],
   "source": [
    "# 리눅스 터미널\n",
    "%ls"
   ]
  },
  {
   "cell_type": "code",
   "execution_count": null,
   "id": "4bce6dfd",
   "metadata": {},
   "outputs": [],
   "source": []
  },
  {
   "cell_type": "code",
   "execution_count": null,
   "id": "7d34897e",
   "metadata": {},
   "outputs": [],
   "source": []
  },
  {
   "cell_type": "code",
   "execution_count": null,
   "id": "f1b98606",
   "metadata": {},
   "outputs": [],
   "source": []
  }
 ],
 "metadata": {
  "kernelspec": {
   "display_name": "Python 3 (ipykernel)",
   "language": "python",
   "name": "python3"
  },
  "language_info": {
   "codemirror_mode": {
    "name": "ipython",
    "version": 3
   },
   "file_extension": ".py",
   "mimetype": "text/x-python",
   "name": "python",
   "nbconvert_exporter": "python",
   "pygments_lexer": "ipython3",
   "version": "3.10.9"
  },
  "toc": {
   "base_numbering": 1,
   "nav_menu": {},
   "number_sections": false,
   "sideBar": true,
   "skip_h1_title": false,
   "title_cell": "Table of Contents",
   "title_sidebar": "Contents",
   "toc_cell": false,
   "toc_position": {
    "height": "calc(100% - 180px)",
    "left": "10px",
    "top": "150px",
    "width": "184px"
   },
   "toc_section_display": true,
   "toc_window_display": true
  }
 },
 "nbformat": 4,
 "nbformat_minor": 5
}
