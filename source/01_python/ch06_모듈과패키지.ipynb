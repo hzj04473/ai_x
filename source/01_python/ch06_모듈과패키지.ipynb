{
 "cells": [
  {
   "cell_type": "code",
   "execution_count": 1,
   "id": "5e0bc130",
   "metadata": {
    "ExecuteTime": {
     "end_time": "2025-04-18T01:14:21.018389Z",
     "start_time": "2025-04-18T01:14:20.990434Z"
    }
   },
   "outputs": [
    {
     "data": {
      "text/html": [
       "\n",
       "<style>\n",
       "* {font-family:Consolas;}\n",
       "div.container{width:87% !important;}\n",
       "div.cell.code_cell.rendered{width:100%;}\n",
       "div.CodeMirror {font-size:12pt;}\n",
       "div.output {font-size:12pt; font-weight:bold;}\n",
       "div.input { font-size:12pt;}\n",
       "div.prompt {min-width:70px;}\n",
       "div#toc-wrapper{padding-top:120px;}\n",
       "div.text_cell_render ul li{font-size:12pt;padding:3px;}\n",
       "table.dataframe{font-size:12px;}\n",
       "</style>\n"
      ],
      "text/plain": [
       "<IPython.core.display.HTML object>"
      ]
     },
     "metadata": {},
     "output_type": "display_data"
    }
   ],
   "source": [
    "from IPython.display import display, HTML\n",
    "\n",
    "display(\n",
    "    HTML(\"\"\"\n",
    "<style>\n",
    "* {font-family:Consolas;}\n",
    "div.container{width:87% !important;}\n",
    "div.cell.code_cell.rendered{width:100%;}\n",
    "div.CodeMirror {font-size:12pt;}\n",
    "div.output {font-size:12pt; font-weight:bold;}\n",
    "div.input { font-size:12pt;}\n",
    "div.prompt {min-width:70px;}\n",
    "div#toc-wrapper{padding-top:120px;}\n",
    "div.text_cell_render ul li{font-size:12pt;padding:3px;}\n",
    "table.dataframe{font-size:12px;}\n",
    "</style>\n",
    "\"\"\"))"
   ]
  },
  {
   "cell_type": "markdown",
   "id": "799b18bc",
   "metadata": {},
   "source": [
    "<b><font color=\"red\" size=\"6\">ch06. 모듈과 패키지</font></b>\n",
    "\n",
    "- 모듈 : 함수, 변수, 클래스 등을 담고 있는 파이썬 코드 파일(*.py파일)\n",
    "- 패키지 : 모듈들이 포함된 폴더\n",
    "\n",
    "# 1절. 파이썬 모듈 사용\n",
    "\n",
    "- anaconda는 1500개 이상의 패키지가 install (정확한 갯수는 버전에 따라 상이)\n",
    "- miniconda : python.org 버전보다 조금 많이 install (최소한의 것만)\n",
    "- python.org : 파이썬 인터프리터와 함께 파이썬 표준 모듈 200여개 install (re, datetime,...)"
   ]
  },
  {
   "cell_type": "markdown",
   "id": "b72300f8",
   "metadata": {},
   "source": [
    "## 1-1. import 모듈명"
   ]
  },
  {
   "cell_type": "code",
   "execution_count": 107,
   "id": "64e35f9d",
   "metadata": {
    "ExecuteTime": {
     "end_time": "2025-04-18T01:46:21.347322Z",
     "start_time": "2025-04-18T01:46:21.335717Z"
    }
   },
   "outputs": [
    {
     "data": {
      "text/plain": [
       "'Fri Apr 18 10:46:21 2025'"
      ]
     },
     "execution_count": 107,
     "metadata": {},
     "output_type": "execute_result"
    }
   ],
   "source": [
    "# 1. import 모듈명 : 모듈안의 함수, 클래스, 변수를 모듈명.함수명()... 사용가능\n",
    "import time  # time 모듈안의 모든 함수, 클랫, 변수 메모리에 로드\n",
    "time.ctime()"
   ]
  },
  {
   "cell_type": "code",
   "execution_count": 109,
   "id": "6a6628f8",
   "metadata": {
    "ExecuteTime": {
     "end_time": "2025-04-18T01:46:23.463659Z",
     "start_time": "2025-04-18T01:46:23.450166Z"
    }
   },
   "outputs": [
    {
     "data": {
      "text/plain": [
       "1744940783.4532738"
      ]
     },
     "execution_count": 109,
     "metadata": {},
     "output_type": "execute_result"
    }
   ],
   "source": [
    "time.time() # 70.01.01 01 ~ 25.04.18 현재시간 까지의 밀리세컨 수"
   ]
  },
  {
   "cell_type": "code",
   "execution_count": 113,
   "id": "11079bd9",
   "metadata": {
    "ExecuteTime": {
     "end_time": "2025-04-18T01:52:10.139789Z",
     "start_time": "2025-04-18T01:52:10.133222Z"
    }
   },
   "outputs": [],
   "source": [
    "del time # time 모듈이 메모리에서 삭제 (unload)"
   ]
  },
  {
   "cell_type": "markdown",
   "id": "5bf41c07",
   "metadata": {},
   "source": [
    "## 1-2. from 모듈(A) import 함수 | 클래스 | 변수 (B)"
   ]
  },
  {
   "cell_type": "code",
   "execution_count": null,
   "id": "0cdb12de",
   "metadata": {},
   "outputs": [],
   "source": [
    "# 2. from 모듈(A) import 함수 | 클래스 | 변수 (B) : A 모듈안의 B만 load\n",
    "#    from 패키지(A) import 모듈(B) : A패키지안의 B모듈을 load\n",
    "#    from 패키지(A).모듈명(B) import 함수 | 클래스 | 변수 (C) : A패키지밑의 B모듈의 C만 load "
   ]
  },
  {
   "cell_type": "code",
   "execution_count": 115,
   "id": "d55c3817",
   "metadata": {
    "ExecuteTime": {
     "end_time": "2025-04-18T01:52:32.027917Z",
     "start_time": "2025-04-18T01:52:32.017555Z"
    }
   },
   "outputs": [],
   "source": [
    "from time import ctime, time\n",
    "# from time import time"
   ]
  },
  {
   "cell_type": "code",
   "execution_count": 111,
   "id": "29900af8",
   "metadata": {
    "ExecuteTime": {
     "end_time": "2025-04-18T01:51:56.500063Z",
     "start_time": "2025-04-18T01:51:56.492924Z"
    }
   },
   "outputs": [
    {
     "data": {
      "text/plain": [
       "'Fri Apr 18 10:51:56 2025'"
      ]
     },
     "execution_count": 111,
     "metadata": {},
     "output_type": "execute_result"
    }
   ],
   "source": [
    "ctime()"
   ]
  },
  {
   "cell_type": "code",
   "execution_count": 112,
   "id": "808e2c0d",
   "metadata": {
    "ExecuteTime": {
     "end_time": "2025-04-18T01:51:59.286790Z",
     "start_time": "2025-04-18T01:51:59.278329Z"
    }
   },
   "outputs": [
    {
     "data": {
      "text/plain": [
       "1744941119.2795968"
      ]
     },
     "execution_count": 112,
     "metadata": {},
     "output_type": "execute_result"
    }
   ],
   "source": [
    "time()"
   ]
  },
  {
   "cell_type": "code",
   "execution_count": 116,
   "id": "9d0bc9e9",
   "metadata": {
    "ExecuteTime": {
     "end_time": "2025-04-18T01:52:33.802507Z",
     "start_time": "2025-04-18T01:52:33.791575Z"
    }
   },
   "outputs": [],
   "source": [
    "del ctime, time"
   ]
  },
  {
   "cell_type": "markdown",
   "id": "d7cf9f0a",
   "metadata": {},
   "source": [
    "## 1-3. import 모듈명 as 별칭"
   ]
  },
  {
   "cell_type": "code",
   "execution_count": 127,
   "id": "215b3281",
   "metadata": {
    "ExecuteTime": {
     "end_time": "2025-04-18T02:00:19.628820Z",
     "start_time": "2025-04-18T02:00:19.607764Z"
    }
   },
   "outputs": [],
   "source": [
    "# 3. import 모듈명 as 별칭 : 모듈을 메모리에서 load하고 별칭으로 사용\n",
    "import time as t\n",
    "# import numpy as np"
   ]
  },
  {
   "cell_type": "code",
   "execution_count": 119,
   "id": "419881f7",
   "metadata": {
    "ExecuteTime": {
     "end_time": "2025-04-18T01:56:11.869735Z",
     "start_time": "2025-04-18T01:56:11.853719Z"
    }
   },
   "outputs": [
    {
     "data": {
      "text/plain": [
       "'Fri Apr 18 10:56:11 2025'"
      ]
     },
     "execution_count": 119,
     "metadata": {},
     "output_type": "execute_result"
    }
   ],
   "source": [
    "t.ctime()"
   ]
  },
  {
   "cell_type": "code",
   "execution_count": 120,
   "id": "b93486ac",
   "metadata": {
    "ExecuteTime": {
     "end_time": "2025-04-18T01:56:33.764539Z",
     "start_time": "2025-04-18T01:56:33.750778Z"
    }
   },
   "outputs": [
    {
     "data": {
      "text/plain": [
       "1744941393.752055"
      ]
     },
     "execution_count": 120,
     "metadata": {},
     "output_type": "execute_result"
    }
   ],
   "source": [
    "t.time()"
   ]
  },
  {
   "cell_type": "code",
   "execution_count": 128,
   "id": "cd15a7a7",
   "metadata": {
    "ExecuteTime": {
     "end_time": "2025-04-18T02:00:22.286681Z",
     "start_time": "2025-04-18T02:00:22.275708Z"
    }
   },
   "outputs": [],
   "source": [
    "del t"
   ]
  },
  {
   "cell_type": "markdown",
   "id": "3f65d080",
   "metadata": {},
   "source": [
    "## 1-4. from 모듈명 import 함수 as 별칭"
   ]
  },
  {
   "cell_type": "code",
   "execution_count": 122,
   "id": "b825bea6",
   "metadata": {
    "ExecuteTime": {
     "end_time": "2025-04-18T01:58:31.589924Z",
     "start_time": "2025-04-18T01:58:31.579998Z"
    }
   },
   "outputs": [],
   "source": [
    "# 4. from 모듈명 import 함수 as 별칭\n",
    "#    from 패키지명 import 모듈명 as 별칭\n",
    "#    from 패키지명.모듈명 import 함수 as 별칭"
   ]
  },
  {
   "cell_type": "code",
   "execution_count": 129,
   "id": "808126a2",
   "metadata": {
    "ExecuteTime": {
     "end_time": "2025-04-18T02:00:38.282939Z",
     "start_time": "2025-04-18T02:00:38.264986Z"
    }
   },
   "outputs": [],
   "source": [
    "from time import ctime as ct, time as ti\n",
    "# from time import tome as ti"
   ]
  },
  {
   "cell_type": "markdown",
   "id": "5dcbe4ae",
   "metadata": {},
   "source": [
    "# 2절. 사용자 정의 모듈\n",
    "\n",
    "- 모듈 가져오는 순서 (1) 파이썬 표준 모듈 (2) sys.path변수에 저장된 경로"
   ]
  },
  {
   "cell_type": "code",
   "execution_count": 130,
   "id": "ad26b090",
   "metadata": {
    "ExecuteTime": {
     "end_time": "2025-04-18T02:11:42.092985Z",
     "start_time": "2025-04-18T02:11:42.086212Z"
    }
   },
   "outputs": [
    {
     "data": {
      "text/plain": [
       "['C:\\\\ai_x\\\\source\\\\01_python',\n",
       " 'C:\\\\Users\\\\Admin\\\\anaconda3\\\\python310.zip',\n",
       " 'C:\\\\Users\\\\Admin\\\\anaconda3\\\\DLLs',\n",
       " 'C:\\\\Users\\\\Admin\\\\anaconda3\\\\lib',\n",
       " 'C:\\\\Users\\\\Admin\\\\anaconda3',\n",
       " '',\n",
       " 'C:\\\\Users\\\\Admin\\\\anaconda3\\\\lib\\\\site-packages',\n",
       " 'C:\\\\Users\\\\Admin\\\\anaconda3\\\\lib\\\\site-packages\\\\win32',\n",
       " 'C:\\\\Users\\\\Admin\\\\anaconda3\\\\lib\\\\site-packages\\\\win32\\\\lib',\n",
       " 'C:\\\\Users\\\\Admin\\\\anaconda3\\\\lib\\\\site-packages\\\\Pythonwin']"
      ]
     },
     "execution_count": 130,
     "metadata": {},
     "output_type": "execute_result"
    }
   ],
   "source": [
    "import sys\n",
    "sys.path"
   ]
  },
  {
   "cell_type": "code",
   "execution_count": 131,
   "id": "91648f41",
   "metadata": {
    "ExecuteTime": {
     "end_time": "2025-04-18T02:18:19.587616Z",
     "start_time": "2025-04-18T02:18:19.572930Z"
    }
   },
   "outputs": [
    {
     "data": {
      "text/plain": [
       "['C:\\\\ai_x\\\\source\\\\01_python',\n",
       " 'C:\\\\Users\\\\Admin\\\\anaconda3\\\\python310.zip',\n",
       " 'C:\\\\Users\\\\Admin\\\\anaconda3\\\\DLLs',\n",
       " 'C:\\\\Users\\\\Admin\\\\anaconda3\\\\lib',\n",
       " 'C:\\\\Users\\\\Admin\\\\anaconda3',\n",
       " '',\n",
       " 'C:\\\\Users\\\\Admin\\\\anaconda3\\\\lib\\\\site-packages',\n",
       " 'C:\\\\Users\\\\Admin\\\\anaconda3\\\\lib\\\\site-packages\\\\win32',\n",
       " 'C:\\\\Users\\\\Admin\\\\anaconda3\\\\lib\\\\site-packages\\\\win32\\\\lib',\n",
       " 'C:\\\\Users\\\\Admin\\\\anaconda3\\\\lib\\\\site-packages\\\\Pythonwin',\n",
       " 'C:\\\\ai_x\\\\source\\\\pylib']"
      ]
     },
     "execution_count": 131,
     "metadata": {},
     "output_type": "execute_result"
    }
   ],
   "source": [
    "# sys.path.append(r'C:\\ai_x\\source\\pylib')\n",
    "# sys.path"
   ]
  },
  {
   "cell_type": "markdown",
   "id": "046304bc",
   "metadata": {
    "ExecuteTime": {
     "end_time": "2025-04-18T03:19:08.460071Z",
     "start_time": "2025-04-18T03:19:08.449163Z"
    }
   },
   "source": [
    "## 2-1. 사용자 정의 모듈"
   ]
  },
  {
   "cell_type": "code",
   "execution_count": 137,
   "id": "80b4b04b",
   "metadata": {
    "ExecuteTime": {
     "end_time": "2025-04-18T03:00:53.095788Z",
     "start_time": "2025-04-18T03:00:53.071252Z"
    }
   },
   "outputs": [
    {
     "name": "stdout",
     "output_type": "stream",
     "text": [
      "0 1 1 2 3 5 8 13 21 34 55 89 144 \n",
      "[0, 1, 1, 2, 3, 5, 8, 13, 21, 34, 55, 89]\n"
     ]
    }
   ],
   "source": [
    "# 1.\n",
    "import fibo\n",
    "fibo.fibonacci_print(200)\n",
    "print(fibo.fibonacci_return(100))"
   ]
  },
  {
   "cell_type": "code",
   "execution_count": 140,
   "id": "c396b0b6",
   "metadata": {
    "ExecuteTime": {
     "end_time": "2025-04-18T03:02:04.277684Z",
     "start_time": "2025-04-18T03:02:04.265396Z"
    }
   },
   "outputs": [],
   "source": [
    "del fibo"
   ]
  },
  {
   "cell_type": "code",
   "execution_count": 143,
   "id": "3fa6a259",
   "metadata": {
    "ExecuteTime": {
     "end_time": "2025-04-18T03:06:17.177155Z",
     "start_time": "2025-04-18T03:06:17.164781Z"
    }
   },
   "outputs": [
    {
     "name": "stdout",
     "output_type": "stream",
     "text": [
      "0 1 1 2 3 5 8 13 21 34 55 89 \n"
     ]
    },
    {
     "data": {
      "text/plain": [
       "[0, 1, 1, 2, 3, 5, 8, 13, 21, 34, 55, 89, 144]"
      ]
     },
     "execution_count": 143,
     "metadata": {},
     "output_type": "execute_result"
    }
   ],
   "source": [
    "from fibo import fibonacci_print, fibonacci_return\n",
    "\n",
    "fibonacci_print(100)\n",
    "fibonacci_return(200)"
   ]
  },
  {
   "cell_type": "code",
   "execution_count": 145,
   "id": "b237b5f3",
   "metadata": {
    "ExecuteTime": {
     "end_time": "2025-04-18T03:06:30.105889Z",
     "start_time": "2025-04-18T03:06:30.095920Z"
    }
   },
   "outputs": [],
   "source": [
    "del fibonacci_print, fibonacci_return"
   ]
  },
  {
   "cell_type": "code",
   "execution_count": 146,
   "id": "2f32959d",
   "metadata": {
    "ExecuteTime": {
     "end_time": "2025-04-18T03:07:03.933258Z",
     "start_time": "2025-04-18T03:07:03.912649Z"
    }
   },
   "outputs": [
    {
     "name": "stdout",
     "output_type": "stream",
     "text": [
      "0 1 1 2 3 5 8 13 21 34 55 89 144 \n"
     ]
    },
    {
     "data": {
      "text/plain": [
       "[0, 1, 1, 2, 3, 5, 8, 13, 21, 34, 55, 89, 144]"
      ]
     },
     "execution_count": 146,
     "metadata": {},
     "output_type": "execute_result"
    }
   ],
   "source": [
    "# 3.\n",
    "import fibo as f\n",
    "f.fibonacci_print(200)\n",
    "f.fibonacci_return(200)"
   ]
  },
  {
   "cell_type": "code",
   "execution_count": 148,
   "id": "73ee541a",
   "metadata": {
    "ExecuteTime": {
     "end_time": "2025-04-18T03:07:46.197076Z",
     "start_time": "2025-04-18T03:07:46.182002Z"
    }
   },
   "outputs": [],
   "source": [
    "del f"
   ]
  },
  {
   "cell_type": "code",
   "execution_count": 149,
   "id": "446096a0",
   "metadata": {
    "ExecuteTime": {
     "end_time": "2025-04-18T03:07:47.686703Z",
     "start_time": "2025-04-18T03:07:47.664709Z"
    }
   },
   "outputs": [
    {
     "data": {
      "text/plain": [
       "[0, 1, 1, 2, 3, 5, 8, 13, 21, 34, 55, 89, 144]"
      ]
     },
     "execution_count": 149,
     "metadata": {},
     "output_type": "execute_result"
    }
   ],
   "source": [
    "# 4\n",
    "from fibo import fibonacci_return as fibo_r\n",
    "fibo_r(200)"
   ]
  },
  {
   "cell_type": "markdown",
   "id": "7e771226",
   "metadata": {},
   "source": [
    "# 3절. 사용자 정의 패키지와 모듈\n",
    "\n",
    "## 3.1. 사용자 정의 패키지와 모듈"
   ]
  },
  {
   "cell_type": "code",
   "execution_count": 158,
   "id": "10402313",
   "metadata": {
    "ExecuteTime": {
     "end_time": "2025-04-18T03:37:33.560531Z",
     "start_time": "2025-04-18T03:37:33.547579Z"
    }
   },
   "outputs": [
    {
     "data": {
      "text/plain": [
       "['C:\\\\ai_x\\\\source\\\\01_python',\n",
       " 'C:\\\\Users\\\\Admin\\\\anaconda3\\\\python310.zip',\n",
       " 'C:\\\\Users\\\\Admin\\\\anaconda3\\\\DLLs',\n",
       " 'C:\\\\Users\\\\Admin\\\\anaconda3\\\\lib',\n",
       " 'C:\\\\Users\\\\Admin\\\\anaconda3',\n",
       " '',\n",
       " 'C:\\\\Users\\\\Admin\\\\anaconda3\\\\lib\\\\site-packages',\n",
       " 'C:\\\\Users\\\\Admin\\\\anaconda3\\\\lib\\\\site-packages\\\\win32',\n",
       " 'C:\\\\Users\\\\Admin\\\\anaconda3\\\\lib\\\\site-packages\\\\win32\\\\lib',\n",
       " 'C:\\\\Users\\\\Admin\\\\anaconda3\\\\lib\\\\site-packages\\\\Pythonwin',\n",
       " 'C:\\\\ai_x\\\\source\\\\pylib']"
      ]
     },
     "execution_count": 158,
     "metadata": {},
     "output_type": "execute_result"
    }
   ],
   "source": [
    "import sys\n",
    "sys.path"
   ]
  },
  {
   "cell_type": "code",
   "execution_count": 184,
   "id": "dcb74602",
   "metadata": {
    "ExecuteTime": {
     "end_time": "2025-04-18T03:58:51.944180Z",
     "start_time": "2025-04-18T03:58:51.936348Z"
    }
   },
   "outputs": [],
   "source": [
    "import sample_pac"
   ]
  },
  {
   "cell_type": "code",
   "execution_count": 185,
   "id": "715b6ac9",
   "metadata": {
    "ExecuteTime": {
     "end_time": "2025-04-18T03:58:53.331658Z",
     "start_time": "2025-04-18T03:58:53.314910Z"
    }
   },
   "outputs": [],
   "source": [
    "from sample_pac.ab import *"
   ]
  },
  {
   "cell_type": "code",
   "execution_count": 186,
   "id": "3aa59941",
   "metadata": {
    "ExecuteTime": {
     "end_time": "2025-04-18T03:58:54.632152Z",
     "start_time": "2025-04-18T03:58:54.614651Z"
    }
   },
   "outputs": [
    {
     "name": "stdout",
     "output_type": "stream",
     "text": [
      "sample_pac/ab/a모듈의 hello\n"
     ]
    }
   ],
   "source": [
    "a.hello()"
   ]
  },
  {
   "cell_type": "code",
   "execution_count": 187,
   "id": "4ff80b2c",
   "metadata": {
    "ExecuteTime": {
     "end_time": "2025-04-18T03:58:56.148415Z",
     "start_time": "2025-04-18T03:58:56.135974Z"
    }
   },
   "outputs": [],
   "source": [
    "from sample_pac.ab import b"
   ]
  },
  {
   "cell_type": "code",
   "execution_count": 191,
   "id": "cff7075a",
   "metadata": {
    "ExecuteTime": {
     "end_time": "2025-04-18T03:59:02.815377Z",
     "start_time": "2025-04-18T03:59:02.802125Z"
    }
   },
   "outputs": [
    {
     "name": "stdout",
     "output_type": "stream",
     "text": [
      "sample_pac/ab/a모듈의 world\n"
     ]
    }
   ],
   "source": [
    "b.world()"
   ]
  },
  {
   "cell_type": "code",
   "execution_count": 189,
   "id": "c5831817",
   "metadata": {
    "ExecuteTime": {
     "end_time": "2025-04-18T03:58:58.920203Z",
     "start_time": "2025-04-18T03:58:58.914552Z"
    }
   },
   "outputs": [],
   "source": [
    "from sample_pac.ab.b import world"
   ]
  },
  {
   "cell_type": "code",
   "execution_count": 190,
   "id": "96fd83e3",
   "metadata": {
    "ExecuteTime": {
     "end_time": "2025-04-18T03:59:00.631492Z",
     "start_time": "2025-04-18T03:59:00.611036Z"
    }
   },
   "outputs": [
    {
     "name": "stdout",
     "output_type": "stream",
     "text": [
      "sample_pac/ab/a모듈의 world\n"
     ]
    }
   ],
   "source": [
    "world()"
   ]
  },
  {
   "cell_type": "code",
   "execution_count": 210,
   "id": "fd4dc55e",
   "metadata": {
    "ExecuteTime": {
     "end_time": "2025-04-18T04:37:02.006238Z",
     "start_time": "2025-04-18T04:37:01.989812Z"
    }
   },
   "outputs": [
    {
     "name": "stdout",
     "output_type": "stream",
     "text": [
      "smaple_pac/cd/c모듈안의 nice\n",
      "sample_pac/ab/a모듈의 hello\n"
     ]
    }
   ],
   "source": [
    "import sample_pac.cd.c as c\n",
    "c.nice()"
   ]
  },
  {
   "cell_type": "code",
   "execution_count": 211,
   "id": "bea5359e",
   "metadata": {
    "ExecuteTime": {
     "end_time": "2025-04-18T04:37:04.151781Z",
     "start_time": "2025-04-18T04:37:04.142977Z"
    }
   },
   "outputs": [
    {
     "name": "stdout",
     "output_type": "stream",
     "text": [
      "sample_pac/ab/a모듈의 hello\n"
     ]
    }
   ],
   "source": [
    "c.a.hello()"
   ]
  },
  {
   "cell_type": "markdown",
   "id": "bb79c6a8",
   "metadata": {},
   "source": [
    "# 4절. 패키지 설치 및 삭제\n",
    "\n",
    "## 4.1. 패키지 설치 및 삭제\n",
    "\n",
    "- pip 업데이트 : python -m pip install --upgrade pip\n",
    "\n",
    "* 아나콘다 프롬프트에서 실행\n",
    "\n",
    "- 패키지 설치 : pip install 패키지명 [ == 버전 ] / conda install 패키지명[ == 버전]\n",
    "- 패키지 설치 실패 : pip install 패키지화일명(*.whl 출처 : pypi.org\n",
    "- 패키지 확인 : pip show 패키지명                / conda list 패키지명\n",
    "- 패키지 삭제 : pip uninstall 패키지명           / conda remove 패키지명"
   ]
  },
  {
   "cell_type": "code",
   "execution_count": 215,
   "id": "b2cc14c4",
   "metadata": {
    "ExecuteTime": {
     "end_time": "2025-04-18T05:32:53.834987Z",
     "start_time": "2025-04-18T05:32:53.815007Z"
    }
   },
   "outputs": [],
   "source": [
    "import objgraph # 메모리 사용량 출력하는 함수\n"
   ]
  },
  {
   "cell_type": "code",
   "execution_count": 214,
   "id": "7e455da6",
   "metadata": {
    "ExecuteTime": {
     "end_time": "2025-04-18T05:31:18.838486Z",
     "start_time": "2025-04-18T05:31:18.827690Z"
    }
   },
   "outputs": [
    {
     "data": {
      "text/plain": [
       "['C:\\\\ai_x\\\\source\\\\01_python',\n",
       " 'C:\\\\Users\\\\Admin\\\\anaconda3\\\\python310.zip',\n",
       " 'C:\\\\Users\\\\Admin\\\\anaconda3\\\\DLLs',\n",
       " 'C:\\\\Users\\\\Admin\\\\anaconda3\\\\lib',\n",
       " 'C:\\\\Users\\\\Admin\\\\anaconda3',\n",
       " '',\n",
       " 'C:\\\\Users\\\\Admin\\\\anaconda3\\\\lib\\\\site-packages',\n",
       " 'C:\\\\Users\\\\Admin\\\\anaconda3\\\\lib\\\\site-packages\\\\win32',\n",
       " 'C:\\\\Users\\\\Admin\\\\anaconda3\\\\lib\\\\site-packages\\\\win32\\\\lib',\n",
       " 'C:\\\\Users\\\\Admin\\\\anaconda3\\\\lib\\\\site-packages\\\\Pythonwin',\n",
       " 'C:\\\\ai_x\\\\source\\\\pylib']"
      ]
     },
     "execution_count": 214,
     "metadata": {},
     "output_type": "execute_result"
    }
   ],
   "source": [
    "import sys\n",
    "sys.path"
   ]
  },
  {
   "cell_type": "code",
   "execution_count": 218,
   "id": "f7fe3886",
   "metadata": {
    "ExecuteTime": {
     "end_time": "2025-04-18T05:36:19.015331Z",
     "start_time": "2025-04-18T05:36:18.998931Z"
    }
   },
   "outputs": [],
   "source": [
    "import objgraph # 메모리 사용량 출력하는 함수"
   ]
  },
  {
   "cell_type": "code",
   "execution_count": 219,
   "id": "007a1782",
   "metadata": {
    "ExecuteTime": {
     "end_time": "2025-04-18T05:36:21.018299Z",
     "start_time": "2025-04-18T05:36:20.861678Z"
    }
   },
   "outputs": [
    {
     "name": "stdout",
     "output_type": "stream",
     "text": [
      "list          41318\n",
      "dict          36367\n",
      "function      22007\n",
      "Operator      19941\n",
      "Token         16864\n",
      "Name          16006\n",
      "tuple         15596\n",
      "PythonNode    14517\n",
      "ReferenceType 5845\n",
      "DFAPlan       5418\n"
     ]
    }
   ],
   "source": [
    "objgraph.show_most_common_types()"
   ]
  },
  {
   "cell_type": "code",
   "execution_count": null,
   "id": "d68622ae",
   "metadata": {},
   "outputs": [],
   "source": []
  },
  {
   "cell_type": "code",
   "execution_count": null,
   "id": "605d4f6b",
   "metadata": {},
   "outputs": [],
   "source": []
  },
  {
   "cell_type": "code",
   "execution_count": null,
   "id": "2a63a0d4",
   "metadata": {},
   "outputs": [],
   "source": []
  },
  {
   "cell_type": "code",
   "execution_count": null,
   "id": "873bf959",
   "metadata": {},
   "outputs": [],
   "source": []
  },
  {
   "cell_type": "code",
   "execution_count": null,
   "id": "1c0c1520",
   "metadata": {},
   "outputs": [],
   "source": []
  },
  {
   "cell_type": "code",
   "execution_count": null,
   "id": "d6b32f8a",
   "metadata": {},
   "outputs": [],
   "source": []
  },
  {
   "cell_type": "code",
   "execution_count": null,
   "id": "66ec4549",
   "metadata": {},
   "outputs": [],
   "source": []
  },
  {
   "cell_type": "code",
   "execution_count": null,
   "id": "ec059650",
   "metadata": {},
   "outputs": [],
   "source": []
  },
  {
   "cell_type": "code",
   "execution_count": null,
   "id": "870a099f",
   "metadata": {},
   "outputs": [],
   "source": []
  },
  {
   "cell_type": "code",
   "execution_count": null,
   "id": "cfa11d87",
   "metadata": {},
   "outputs": [],
   "source": []
  },
  {
   "cell_type": "code",
   "execution_count": null,
   "id": "6a208234",
   "metadata": {},
   "outputs": [],
   "source": []
  },
  {
   "cell_type": "code",
   "execution_count": null,
   "id": "3f604da2",
   "metadata": {},
   "outputs": [],
   "source": []
  },
  {
   "cell_type": "code",
   "execution_count": null,
   "id": "ef1c1db1",
   "metadata": {},
   "outputs": [],
   "source": []
  },
  {
   "cell_type": "code",
   "execution_count": null,
   "id": "4f61e9f5",
   "metadata": {},
   "outputs": [],
   "source": []
  },
  {
   "cell_type": "code",
   "execution_count": null,
   "id": "c9af6353",
   "metadata": {},
   "outputs": [],
   "source": []
  },
  {
   "cell_type": "code",
   "execution_count": null,
   "id": "27dd7c04",
   "metadata": {},
   "outputs": [],
   "source": []
  },
  {
   "cell_type": "code",
   "execution_count": null,
   "id": "e5b63405",
   "metadata": {},
   "outputs": [],
   "source": []
  },
  {
   "cell_type": "code",
   "execution_count": null,
   "id": "a8ce3bb4",
   "metadata": {},
   "outputs": [],
   "source": []
  },
  {
   "cell_type": "code",
   "execution_count": null,
   "id": "dabf6017",
   "metadata": {},
   "outputs": [],
   "source": []
  },
  {
   "cell_type": "code",
   "execution_count": null,
   "id": "31654bd1",
   "metadata": {},
   "outputs": [],
   "source": []
  },
  {
   "cell_type": "code",
   "execution_count": null,
   "id": "6aeffb0e",
   "metadata": {},
   "outputs": [],
   "source": []
  },
  {
   "cell_type": "code",
   "execution_count": null,
   "id": "43364687",
   "metadata": {},
   "outputs": [],
   "source": []
  },
  {
   "cell_type": "code",
   "execution_count": null,
   "id": "2ae7e4fe",
   "metadata": {},
   "outputs": [],
   "source": []
  }
 ],
 "metadata": {
  "kernelspec": {
   "display_name": "Python 3 (ipykernel)",
   "language": "python",
   "name": "python3"
  },
  "language_info": {
   "codemirror_mode": {
    "name": "ipython",
    "version": 3
   },
   "file_extension": ".py",
   "mimetype": "text/x-python",
   "name": "python",
   "nbconvert_exporter": "python",
   "pygments_lexer": "ipython3",
   "version": "3.10.9"
  },
  "toc": {
   "base_numbering": 1,
   "nav_menu": {},
   "number_sections": false,
   "sideBar": true,
   "skip_h1_title": false,
   "title_cell": "Table of Contents",
   "title_sidebar": "Contents",
   "toc_cell": false,
   "toc_position": {
    "height": "calc(100% - 180px)",
    "left": "10px",
    "top": "150px",
    "width": "223px"
   },
   "toc_section_display": true,
   "toc_window_display": true
  },
  "varInspector": {
   "cols": {
    "lenName": 16,
    "lenType": 16,
    "lenVar": 40
   },
   "kernels_config": {
    "python": {
     "delete_cmd_postfix": "",
     "delete_cmd_prefix": "del ",
     "library": "var_list.py",
     "varRefreshCmd": "print(var_dic_list())"
    },
    "r": {
     "delete_cmd_postfix": ") ",
     "delete_cmd_prefix": "rm(",
     "library": "var_list.r",
     "varRefreshCmd": "cat(var_dic_list()) "
    }
   },
   "types_to_exclude": [
    "module",
    "function",
    "builtin_function_or_method",
    "instance",
    "_Feature"
   ],
   "window_display": false
  }
 },
 "nbformat": 4,
 "nbformat_minor": 5
}
