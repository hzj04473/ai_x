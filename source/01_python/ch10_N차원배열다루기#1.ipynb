{
 "cells": [
  {
   "cell_type": "code",
   "execution_count": 5,
   "id": "d95dca4e",
   "metadata": {
    "ExecuteTime": {
     "end_time": "2025-04-24T03:52:51.700060Z",
     "start_time": "2025-04-24T03:52:51.673975Z"
    }
   },
   "outputs": [
    {
     "data": {
      "text/html": [
       "\n",
       "<style>\n",
       "* {font-family:Consolas;}\n",
       "div.container{width:87% !important;}\n",
       "div.cell.code_cell.rendered{width:100%;}\n",
       "div.CodeMirror {font-size:12pt;}\n",
       "div.output {font-size:12pt; font-weight:bold;}\n",
       "div.input { font-size:12pt;}\n",
       "div.prompt {min-width:70px;}\n",
       "div#toc-wrapper{padding-top:120px;}\n",
       "div.text_cell_render ul li{font-size:12pt;padding:3px;}\n",
       "table.dataframe{font-size:12px;}\n",
       "</style>\n"
      ],
      "text/plain": [
       "<IPython.core.display.HTML object>"
      ]
     },
     "metadata": {},
     "output_type": "display_data"
    }
   ],
   "source": [
    "from IPython.display import display, HTML\n",
    "\n",
    "display(\n",
    "    HTML(\"\"\"\n",
    "<style>\n",
    "* {font-family:Consolas;}\n",
    "div.container{width:87% !important;}\n",
    "div.cell.code_cell.rendered{width:100%;}\n",
    "div.CodeMirror {font-size:12pt;}\n",
    "div.output {font-size:12pt; font-weight:bold;}\n",
    "div.input { font-size:12pt;}\n",
    "div.prompt {min-width:70px;}\n",
    "div#toc-wrapper{padding-top:120px;}\n",
    "div.text_cell_render ul li{font-size:12pt;padding:3px;}\n",
    "table.dataframe{font-size:12px;}\n",
    "</style>\n",
    "\"\"\"))"
   ]
  },
  {
   "cell_type": "markdown",
   "id": "dd38a71d",
   "metadata": {
    "ExecuteTime": {
     "end_time": "2025-04-24T03:51:01.583998Z",
     "start_time": "2025-04-24T03:51:01.559943Z"
    }
   },
   "source": [
    "<font size=\"5\" color=\"red\">ch10.N차원배열다루기#1</font>\n",
    "    \n",
    "- [numpy] (https://numpy.org/doc/stable/)\n",
    "- [numpy_API] (https://numpy.org/doc/stable/reference/index.html#reference)\n",
    "- N차원 배열 객체\n",
    "- 2차원 배열은 행렬개념\n",
    "- numpy 패키지는 c언어로 구현되어 고성능 수치 계산 패키지\n",
    "\n",
    "# 1절 numpy(넘파이) 패키지"
   ]
  },
  {
   "cell_type": "code",
   "execution_count": 43,
   "id": "3d1c53f3",
   "metadata": {
    "ExecuteTime": {
     "end_time": "2025-04-24T05:40:51.494012Z",
     "start_time": "2025-04-24T05:40:51.481049Z"
    }
   },
   "outputs": [
    {
     "data": {
      "text/plain": [
       "'1.23.5'"
      ]
     },
     "execution_count": 43,
     "metadata": {},
     "output_type": "execute_result"
    }
   ],
   "source": [
    "import numpy as np\n",
    "np.__version__"
   ]
  },
  {
   "cell_type": "code",
   "execution_count": 44,
   "id": "5064ce71",
   "metadata": {
    "ExecuteTime": {
     "end_time": "2025-04-24T05:40:52.825105Z",
     "start_time": "2025-04-24T05:40:52.800175Z"
    }
   },
   "outputs": [
    {
     "data": {
      "text/plain": [
       "(numpy.ndarray,\n",
       " array([ 0,  1,  2,  3,  4,  5,  6,  7,  8,  9, 10, 11, 12, 13, 14]))"
      ]
     },
     "execution_count": 44,
     "metadata": {},
     "output_type": "execute_result"
    }
   ],
   "source": [
    "# 배열 생성 함수\n",
    "# np.arange(from, stop, step) : from부터 stop앞까지 step씩 증감한 정수값을 배열로 생성\n",
    "a = np.arange(15)\n",
    "type(a), a"
   ]
  },
  {
   "cell_type": "markdown",
   "id": "463f714a",
   "metadata": {},
   "source": [
    "## 1.1. 배열속성"
   ]
  },
  {
   "cell_type": "code",
   "execution_count": 45,
   "id": "7bafa187",
   "metadata": {
    "ExecuteTime": {
     "end_time": "2025-04-24T05:40:54.312843Z",
     "start_time": "2025-04-24T05:40:54.296887Z"
    }
   },
   "outputs": [
    {
     "data": {
      "text/plain": [
       "array([[ 0,  1,  2,  3,  4],\n",
       "       [ 5,  6,  7,  8,  9],\n",
       "       [10, 11, 12, 13, 14]])"
      ]
     },
     "execution_count": 45,
     "metadata": {},
     "output_type": "execute_result"
    }
   ],
   "source": [
    "from numpy import arange\n",
    "\n",
    "a = arange(15).reshape(3,5) #3행 5열짜리 2차원 배열로 return\n",
    "a"
   ]
  },
  {
   "cell_type": "code",
   "execution_count": 46,
   "id": "fde0ca4d",
   "metadata": {
    "ExecuteTime": {
     "end_time": "2025-04-24T05:40:58.305468Z",
     "start_time": "2025-04-24T05:40:58.293500Z"
    }
   },
   "outputs": [
    {
     "data": {
      "text/plain": [
       "numpy.ndarray"
      ]
     },
     "execution_count": 46,
     "metadata": {},
     "output_type": "execute_result"
    }
   ],
   "source": [
    "type(a) # a변수의 타입"
   ]
  },
  {
   "cell_type": "code",
   "execution_count": 47,
   "id": "fdba77bb",
   "metadata": {
    "ExecuteTime": {
     "end_time": "2025-04-24T05:40:59.763416Z",
     "start_time": "2025-04-24T05:40:59.743878Z"
    }
   },
   "outputs": [
    {
     "data": {
      "text/plain": [
       "dtype('int32')"
      ]
     },
     "execution_count": 47,
     "metadata": {},
     "output_type": "execute_result"
    }
   ],
   "source": [
    "a.dtype # a배열 요소의 type"
   ]
  },
  {
   "cell_type": "code",
   "execution_count": 48,
   "id": "deabce7b",
   "metadata": {
    "ExecuteTime": {
     "end_time": "2025-04-24T05:41:02.298412Z",
     "start_time": "2025-04-24T05:41:02.272451Z"
    }
   },
   "outputs": [
    {
     "data": {
      "text/plain": [
       "'int32'"
      ]
     },
     "execution_count": 48,
     "metadata": {},
     "output_type": "execute_result"
    }
   ],
   "source": [
    "a.dtype.name"
   ]
  },
  {
   "cell_type": "code",
   "execution_count": 49,
   "id": "d43c4f84",
   "metadata": {
    "ExecuteTime": {
     "end_time": "2025-04-24T05:41:05.193152Z",
     "start_time": "2025-04-24T05:41:05.168219Z"
    }
   },
   "outputs": [
    {
     "data": {
      "text/plain": [
       "4"
      ]
     },
     "execution_count": 49,
     "metadata": {},
     "output_type": "execute_result"
    }
   ],
   "source": [
    "a.itemsize # 한 요소의 bytesize"
   ]
  },
  {
   "cell_type": "code",
   "execution_count": 50,
   "id": "1fb72613",
   "metadata": {
    "ExecuteTime": {
     "end_time": "2025-04-24T05:41:07.055693Z",
     "start_time": "2025-04-24T05:41:07.029759Z"
    }
   },
   "outputs": [
    {
     "data": {
      "text/plain": [
       "2"
      ]
     },
     "execution_count": 50,
     "metadata": {},
     "output_type": "execute_result"
    }
   ],
   "source": [
    "a.ndim # 차원수(축수)"
   ]
  },
  {
   "cell_type": "code",
   "execution_count": 51,
   "id": "3c709c5b",
   "metadata": {
    "ExecuteTime": {
     "end_time": "2025-04-24T05:41:08.987493Z",
     "start_time": "2025-04-24T05:41:08.963521Z"
    }
   },
   "outputs": [
    {
     "data": {
      "text/plain": [
       "15"
      ]
     },
     "execution_count": 51,
     "metadata": {},
     "output_type": "execute_result"
    }
   ],
   "source": [
    "a.size # 배열 요소의 수"
   ]
  },
  {
   "cell_type": "code",
   "execution_count": 52,
   "id": "db089485",
   "metadata": {
    "ExecuteTime": {
     "end_time": "2025-04-24T05:41:10.485624Z",
     "start_time": "2025-04-24T05:41:10.469656Z"
    }
   },
   "outputs": [
    {
     "data": {
      "text/plain": [
       "(3, 5)"
      ]
     },
     "execution_count": 52,
     "metadata": {},
     "output_type": "execute_result"
    }
   ],
   "source": [
    "a.shape # 배열 구조의 (튜븦)"
   ]
  },
  {
   "cell_type": "markdown",
   "id": "1b5acf00",
   "metadata": {},
   "source": [
    "## 1-2. 배열 변경(구조, 타입)"
   ]
  },
  {
   "cell_type": "code",
   "execution_count": 58,
   "id": "2daee967",
   "metadata": {
    "ExecuteTime": {
     "end_time": "2025-04-24T05:41:20.378869Z",
     "start_time": "2025-04-24T05:41:20.358566Z"
    }
   },
   "outputs": [
    {
     "name": "stdout",
     "output_type": "stream",
     "text": [
      "구조변경 전\n",
      "[[ 0  1  2  3  4]\n",
      " [ 5  6  7  8  9]\n",
      " [10 11 12 13 14]]\n",
      "구조변경 후\n",
      "[[ 0  1  2]\n",
      " [ 3  4  5]\n",
      " [ 6  7  8]\n",
      " [ 9 10 11]\n",
      " [12 13 14]]\n"
     ]
    }
   ],
   "source": [
    "# 구조변경\n",
    "print(\"구조변경 전\", a, sep=\"\\n\")\n",
    "a.shape = (5, 3)\n",
    "print(\"구조변경 후\", a, sep=\"\\n\")"
   ]
  },
  {
   "cell_type": "code",
   "execution_count": 60,
   "id": "13b72604",
   "metadata": {
    "ExecuteTime": {
     "end_time": "2025-04-24T05:42:19.858811Z",
     "start_time": "2025-04-24T05:42:19.836710Z"
    }
   },
   "outputs": [
    {
     "data": {
      "text/plain": [
       "array([[ 0,  1,  2,  3],\n",
       "       [ 4,  5,  6,  7],\n",
       "       [ 8,  9, 10, 11]])"
      ]
     },
     "execution_count": 60,
     "metadata": {},
     "output_type": "execute_result"
    }
   ],
   "source": [
    "# 타입변경 (x) - 이렇게 하면 안 된다.\n",
    " \n",
    "a = arange(12).reshape(3,4)\n",
    "a"
   ]
  },
  {
   "cell_type": "code",
   "execution_count": 61,
   "id": "aba63834",
   "metadata": {
    "ExecuteTime": {
     "end_time": "2025-04-24T05:42:34.069848Z",
     "start_time": "2025-04-24T05:42:34.046638Z"
    }
   },
   "outputs": [
    {
     "data": {
      "text/plain": [
       "dtype('int32')"
      ]
     },
     "execution_count": 61,
     "metadata": {},
     "output_type": "execute_result"
    }
   ],
   "source": [
    "a.dtype"
   ]
  },
  {
   "cell_type": "code",
   "execution_count": 63,
   "id": "1a5a1201",
   "metadata": {
    "ExecuteTime": {
     "end_time": "2025-04-24T05:44:37.120133Z",
     "start_time": "2025-04-24T05:44:37.100167Z"
    }
   },
   "outputs": [
    {
     "data": {
      "text/plain": [
       "4"
      ]
     },
     "execution_count": 63,
     "metadata": {},
     "output_type": "execute_result"
    }
   ],
   "source": [
    "a.itemsize"
   ]
  },
  {
   "cell_type": "code",
   "execution_count": 65,
   "id": "e52a74d4",
   "metadata": {
    "ExecuteTime": {
     "end_time": "2025-04-24T05:46:37.645186Z",
     "start_time": "2025-04-24T05:46:37.622246Z"
    }
   },
   "outputs": [
    {
     "data": {
      "text/plain": [
       "dtype('int64')"
      ]
     },
     "execution_count": 65,
     "metadata": {},
     "output_type": "execute_result"
    }
   ],
   "source": [
    "a.dtype = np.int64 # a배열을 읽을 떄 64bit씩 읽는다.\n",
    "a.dtype"
   ]
  },
  {
   "cell_type": "code",
   "execution_count": 69,
   "id": "ccf08849",
   "metadata": {
    "ExecuteTime": {
     "end_time": "2025-04-24T05:48:32.882815Z",
     "start_time": "2025-04-24T05:48:32.867857Z"
    }
   },
   "outputs": [
    {
     "data": {
      "text/plain": [
       "(6, (3, 2))"
      ]
     },
     "execution_count": 69,
     "metadata": {},
     "output_type": "execute_result"
    }
   ],
   "source": [
    "a.size, a.shape"
   ]
  },
  {
   "cell_type": "code",
   "execution_count": 70,
   "id": "0d138219",
   "metadata": {
    "ExecuteTime": {
     "end_time": "2025-04-24T05:48:37.392678Z",
     "start_time": "2025-04-24T05:48:37.377716Z"
    }
   },
   "outputs": [
    {
     "data": {
      "text/plain": [
       "array([[ 4294967296, 12884901890],\n",
       "       [21474836484, 30064771078],\n",
       "       [38654705672, 47244640266]], dtype=int64)"
      ]
     },
     "execution_count": 70,
     "metadata": {},
     "output_type": "execute_result"
    }
   ],
   "source": [
    "a"
   ]
  },
  {
   "cell_type": "code",
   "execution_count": 88,
   "id": "25967bf4",
   "metadata": {
    "ExecuteTime": {
     "end_time": "2025-04-24T05:55:48.582620Z",
     "start_time": "2025-04-24T05:55:48.567661Z"
    }
   },
   "outputs": [
    {
     "data": {
      "text/plain": [
       "array([[ 0,  1,  2,  3],\n",
       "       [ 4,  5,  6,  7],\n",
       "       [ 8,  9, 10, 11]])"
      ]
     },
     "execution_count": 88,
     "metadata": {},
     "output_type": "execute_result"
    }
   ],
   "source": [
    "# 타입변경 (O)\n",
    "a = arange(12).reshape(3,4)\n",
    "a"
   ]
  },
  {
   "cell_type": "code",
   "execution_count": null,
   "id": "2908dd0a",
   "metadata": {},
   "outputs": [],
   "source": [
    "a.astype(np.int64) # a.astype('int64') 같음"
   ]
  },
  {
   "cell_type": "code",
   "execution_count": 99,
   "id": "883be3f2",
   "metadata": {
    "ExecuteTime": {
     "end_time": "2025-04-24T05:58:45.436646Z",
     "start_time": "2025-04-24T05:58:45.426659Z"
    }
   },
   "outputs": [],
   "source": [
    "a = a.astype(np.int64)"
   ]
  },
  {
   "cell_type": "code",
   "execution_count": 100,
   "id": "45207662",
   "metadata": {
    "ExecuteTime": {
     "end_time": "2025-04-24T05:58:47.367588Z",
     "start_time": "2025-04-24T05:58:47.343527Z"
    }
   },
   "outputs": [
    {
     "data": {
      "text/plain": [
       "array([[ 0,  1,  2,  3],\n",
       "       [ 4,  5,  6,  7],\n",
       "       [ 8,  9, 10, 11]], dtype=int64)"
      ]
     },
     "execution_count": 100,
     "metadata": {},
     "output_type": "execute_result"
    }
   ],
   "source": [
    "a.astype('int64')"
   ]
  },
  {
   "cell_type": "code",
   "execution_count": 101,
   "id": "0daa7d97",
   "metadata": {
    "ExecuteTime": {
     "end_time": "2025-04-24T05:58:49.633252Z",
     "start_time": "2025-04-24T05:58:49.610305Z"
    }
   },
   "outputs": [
    {
     "data": {
      "text/plain": [
       "dtype('int64')"
      ]
     },
     "execution_count": 101,
     "metadata": {},
     "output_type": "execute_result"
    }
   ],
   "source": [
    "a.dtype"
   ]
  },
  {
   "cell_type": "code",
   "execution_count": 102,
   "id": "9bf3c6b2",
   "metadata": {
    "ExecuteTime": {
     "end_time": "2025-04-24T05:58:51.287177Z",
     "start_time": "2025-04-24T05:58:51.273223Z"
    }
   },
   "outputs": [
    {
     "data": {
      "text/plain": [
       "8"
      ]
     },
     "execution_count": 102,
     "metadata": {},
     "output_type": "execute_result"
    }
   ],
   "source": [
    "a.itemsize"
   ]
  },
  {
   "cell_type": "code",
   "execution_count": 103,
   "id": "5f6ab738",
   "metadata": {
    "ExecuteTime": {
     "end_time": "2025-04-24T05:58:52.984489Z",
     "start_time": "2025-04-24T05:58:52.958822Z"
    }
   },
   "outputs": [
    {
     "data": {
      "text/plain": [
       "(12, (3, 4))"
      ]
     },
     "execution_count": 103,
     "metadata": {},
     "output_type": "execute_result"
    }
   ],
   "source": [
    "a.size, a.shape"
   ]
  },
  {
   "cell_type": "code",
   "execution_count": 104,
   "id": "c1a4ac6a",
   "metadata": {
    "ExecuteTime": {
     "end_time": "2025-04-24T05:58:55.120324Z",
     "start_time": "2025-04-24T05:58:55.104327Z"
    }
   },
   "outputs": [
    {
     "data": {
      "text/plain": [
       "array([[ 0,  1,  2,  3],\n",
       "       [ 4,  5,  6,  7],\n",
       "       [ 8,  9, 10, 11]], dtype=int64)"
      ]
     },
     "execution_count": 104,
     "metadata": {},
     "output_type": "execute_result"
    }
   ],
   "source": [
    "a"
   ]
  },
  {
   "cell_type": "code",
   "execution_count": 105,
   "id": "a7fc2d56",
   "metadata": {
    "ExecuteTime": {
     "end_time": "2025-04-24T05:58:56.919963Z",
     "start_time": "2025-04-24T05:58:56.896341Z"
    }
   },
   "outputs": [
    {
     "data": {
      "text/plain": [
       "array([ 0,  1,  2,  3,  4,  5,  6,  7,  8,  9, 10, 11], dtype=int64)"
      ]
     },
     "execution_count": 105,
     "metadata": {},
     "output_type": "execute_result"
    }
   ],
   "source": [
    "a.flatten()"
   ]
  },
  {
   "cell_type": "code",
   "execution_count": 106,
   "id": "b6420e2d",
   "metadata": {
    "ExecuteTime": {
     "end_time": "2025-04-24T05:58:58.375291Z",
     "start_time": "2025-04-24T05:58:58.362293Z"
    }
   },
   "outputs": [
    {
     "data": {
      "text/plain": [
       "array([ 0,  1,  2,  3,  4,  5,  6,  7,  8,  9, 10, 11], dtype=int64)"
      ]
     },
     "execution_count": 106,
     "metadata": {},
     "output_type": "execute_result"
    }
   ],
   "source": [
    "a.ravel()"
   ]
  },
  {
   "cell_type": "markdown",
   "id": "ef9fc893",
   "metadata": {},
   "source": [
    "## 1.3. 배열저장"
   ]
  },
  {
   "cell_type": "code",
   "execution_count": null,
   "id": "35b8f6c5",
   "metadata": {},
   "outputs": [],
   "source": [
    "# 배열 저장 - pkl , npy\n",
    "# 딥러닝모델 저장 - h5(hdf5), keras\n",
    "# 머신러닝 저장 - pkl , joblib"
   ]
  },
  {
   "cell_type": "code",
   "execution_count": 107,
   "id": "82d1b753",
   "metadata": {
    "ExecuteTime": {
     "end_time": "2025-04-24T06:15:07.107445Z",
     "start_time": "2025-04-24T06:15:07.090490Z"
    }
   },
   "outputs": [
    {
     "data": {
      "text/plain": [
       "array([[ 0,  1,  2,  3],\n",
       "       [ 4,  5,  6,  7],\n",
       "       [ 8,  9, 10, 11]], dtype=int64)"
      ]
     },
     "execution_count": 107,
     "metadata": {},
     "output_type": "execute_result"
    }
   ],
   "source": [
    "a"
   ]
  },
  {
   "cell_type": "code",
   "execution_count": 108,
   "id": "360ba733",
   "metadata": {
    "ExecuteTime": {
     "end_time": "2025-04-24T06:16:40.985909Z",
     "start_time": "2025-04-24T06:16:40.958991Z"
    }
   },
   "outputs": [],
   "source": [
    "# 용량이 작은\n",
    "import pickle\n",
    "with open(\"data/ch10_a.pkl\", \"wb\") as f:\n",
    "    pickle.dump(a, f)"
   ]
  },
  {
   "cell_type": "code",
   "execution_count": 109,
   "id": "c82145ea",
   "metadata": {
    "ExecuteTime": {
     "end_time": "2025-04-24T06:17:56.295488Z",
     "start_time": "2025-04-24T06:17:56.269530Z"
    }
   },
   "outputs": [],
   "source": [
    "with open(\"data/ch10_a.pkl\", 'rb') as f:\n",
    "    load_a = pickle.load(f)"
   ]
  },
  {
   "cell_type": "code",
   "execution_count": 110,
   "id": "9b3b0b99",
   "metadata": {
    "ExecuteTime": {
     "end_time": "2025-04-24T06:17:59.820604Z",
     "start_time": "2025-04-24T06:17:59.804628Z"
    }
   },
   "outputs": [
    {
     "data": {
      "text/plain": [
       "array([[ 0,  1,  2,  3],\n",
       "       [ 4,  5,  6,  7],\n",
       "       [ 8,  9, 10, 11]], dtype=int64)"
      ]
     },
     "execution_count": 110,
     "metadata": {},
     "output_type": "execute_result"
    }
   ],
   "source": [
    "load_a"
   ]
  },
  {
   "cell_type": "code",
   "execution_count": 114,
   "id": "28ba05fb",
   "metadata": {
    "ExecuteTime": {
     "end_time": "2025-04-24T06:19:03.468741Z",
     "start_time": "2025-04-24T06:19:03.441803Z"
    }
   },
   "outputs": [
    {
     "data": {
      "text/plain": [
       "True"
      ]
     },
     "execution_count": 114,
     "metadata": {},
     "output_type": "execute_result"
    }
   ],
   "source": [
    "# a == load_a\n",
    "np.all(a == load_a) # a 넘파이배열과 load_a 넘파이 배열이 같은지"
   ]
  },
  {
   "cell_type": "code",
   "execution_count": 115,
   "id": "f7d256f8",
   "metadata": {
    "ExecuteTime": {
     "end_time": "2025-04-24T06:21:24.677764Z",
     "start_time": "2025-04-24T06:21:24.653275Z"
    }
   },
   "outputs": [],
   "source": [
    "# 용량이 큰\n",
    "np.save(\"data/ch10_a.npy\",a)"
   ]
  },
  {
   "cell_type": "code",
   "execution_count": 116,
   "id": "5cb3b7aa",
   "metadata": {
    "ExecuteTime": {
     "end_time": "2025-04-24T06:21:52.128202Z",
     "start_time": "2025-04-24T06:21:52.106260Z"
    }
   },
   "outputs": [
    {
     "data": {
      "text/plain": [
       "array([[ 0,  1,  2,  3],\n",
       "       [ 4,  5,  6,  7],\n",
       "       [ 8,  9, 10, 11]], dtype=int64)"
      ]
     },
     "execution_count": 116,
     "metadata": {},
     "output_type": "execute_result"
    }
   ],
   "source": [
    "load_a2 = np.load('data/ch10_a.npy')\n",
    "load_a2"
   ]
  },
  {
   "cell_type": "code",
   "execution_count": 117,
   "id": "017015ea",
   "metadata": {
    "ExecuteTime": {
     "end_time": "2025-04-24T06:22:07.622622Z",
     "start_time": "2025-04-24T06:22:07.595734Z"
    }
   },
   "outputs": [
    {
     "data": {
      "text/plain": [
       "True"
      ]
     },
     "execution_count": 117,
     "metadata": {},
     "output_type": "execute_result"
    }
   ],
   "source": [
    "np.all(load_a2 == a)"
   ]
  },
  {
   "cell_type": "markdown",
   "id": "18018ed7",
   "metadata": {},
   "source": [
    "# 2절. 넘파이 배열\n",
    "\n",
    "- array() 함수 : 다른 파이썬 데이터 구조를 배열로 변환\n",
    "- arange(), ons(), zeros(), empty()\n",
    "- 랜덤값을 갖는 함수들...\n",
    "\n",
    "## 2.1. array() 함수로 넘파이 배열 만들기\n",
    "\n",
    "- np.array(list나 tuple, dtype=np.xxx, copy=T/F)"
   ]
  },
  {
   "cell_type": "code",
   "execution_count": 125,
   "id": "c2387ab0",
   "metadata": {
    "ExecuteTime": {
     "end_time": "2025-04-24T06:32:59.931230Z",
     "start_time": "2025-04-24T06:32:59.918235Z"
    }
   },
   "outputs": [
    {
     "data": {
      "text/plain": [
       "array([2, 4, 6], dtype=int8)"
      ]
     },
     "execution_count": 125,
     "metadata": {},
     "output_type": "execute_result"
    }
   ],
   "source": [
    "a = np.array([2,4,6], dtype=np.int8) # 정수의 기본 타입은 int32 / 실수의 기본타입은 float64\n",
    "a"
   ]
  },
  {
   "cell_type": "code",
   "execution_count": 127,
   "id": "7d7c6ff8",
   "metadata": {
    "ExecuteTime": {
     "end_time": "2025-04-24T06:33:32.907795Z",
     "start_time": "2025-04-24T06:33:32.886815Z"
    }
   },
   "outputs": [
    {
     "data": {
      "text/plain": [
       "(2, 4, 6)"
      ]
     },
     "execution_count": 127,
     "metadata": {},
     "output_type": "execute_result"
    }
   ],
   "source": [
    "a[0], a[1], a[2]"
   ]
  },
  {
   "cell_type": "code",
   "execution_count": 129,
   "id": "2adbbb32",
   "metadata": {
    "ExecuteTime": {
     "end_time": "2025-04-24T06:33:51.619607Z",
     "start_time": "2025-04-24T06:33:51.606642Z"
    }
   },
   "outputs": [
    {
     "data": {
      "text/plain": [
       "dtype('int8')"
      ]
     },
     "execution_count": 129,
     "metadata": {},
     "output_type": "execute_result"
    }
   ],
   "source": [
    "a.dtype"
   ]
  },
  {
   "cell_type": "code",
   "execution_count": 133,
   "id": "a449d596",
   "metadata": {
    "ExecuteTime": {
     "end_time": "2025-04-24T06:36:04.586324Z",
     "start_time": "2025-04-24T06:36:04.565259Z"
    }
   },
   "outputs": [
    {
     "data": {
      "text/plain": [
       "array([[1.3, 2.4],\n",
       "       [4. , 5. ]])"
      ]
     },
     "execution_count": 133,
     "metadata": {},
     "output_type": "execute_result"
    }
   ],
   "source": [
    "b = np.array([[1.3, 2.4], [4, 5]])\n",
    "b"
   ]
  },
  {
   "cell_type": "code",
   "execution_count": 134,
   "id": "a44f17ad",
   "metadata": {
    "ExecuteTime": {
     "end_time": "2025-04-24T06:36:13.284016Z",
     "start_time": "2025-04-24T06:36:13.267057Z"
    }
   },
   "outputs": [
    {
     "data": {
      "text/plain": [
       "dtype('float64')"
      ]
     },
     "execution_count": 134,
     "metadata": {},
     "output_type": "execute_result"
    }
   ],
   "source": [
    "b.dtype"
   ]
  },
  {
   "cell_type": "code",
   "execution_count": 137,
   "id": "9476e5b0",
   "metadata": {
    "ExecuteTime": {
     "end_time": "2025-04-24T06:37:42.898781Z",
     "start_time": "2025-04-24T06:37:42.880828Z"
    }
   },
   "outputs": [
    {
     "data": {
      "text/plain": [
       "array([[1.3, 2.4, 4. , 5. ]], dtype=float32)"
      ]
     },
     "execution_count": 137,
     "metadata": {},
     "output_type": "execute_result"
    }
   ],
   "source": [
    "b = np.array([[1.3, 2.4], [4, 5]], dtype=np.float32).reshape(1,4)\n",
    "b"
   ]
  },
  {
   "cell_type": "code",
   "execution_count": 138,
   "id": "78265810",
   "metadata": {
    "ExecuteTime": {
     "end_time": "2025-04-24T06:38:01.691105Z",
     "start_time": "2025-04-24T06:38:01.679136Z"
    }
   },
   "outputs": [
    {
     "data": {
      "text/plain": [
       "4"
      ]
     },
     "execution_count": 138,
     "metadata": {},
     "output_type": "execute_result"
    }
   ],
   "source": [
    "b.itemsize"
   ]
  },
  {
   "cell_type": "code",
   "execution_count": 139,
   "id": "f0cf60ba",
   "metadata": {
    "ExecuteTime": {
     "end_time": "2025-04-24T06:38:16.090900Z",
     "start_time": "2025-04-24T06:38:16.073943Z"
    }
   },
   "outputs": [
    {
     "data": {
      "text/plain": [
       "array([[1.29999995, 2.4000001 , 4.        , 5.        ]])"
      ]
     },
     "execution_count": 139,
     "metadata": {},
     "output_type": "execute_result"
    }
   ],
   "source": [
    "b.astype(np.float64)"
   ]
  },
  {
   "cell_type": "code",
   "execution_count": 144,
   "id": "3f26d527",
   "metadata": {
    "ExecuteTime": {
     "end_time": "2025-04-24T06:42:05.444241Z",
     "start_time": "2025-04-24T06:42:05.425293Z"
    }
   },
   "outputs": [
    {
     "name": "stdout",
     "output_type": "stream",
     "text": [
      "1\t2\t\n",
      "3.4\t4.5\t\n"
     ]
    }
   ],
   "source": [
    "l = [[1, 2], [3.4, 4.5]]\n",
    "\n",
    "for row in l:\n",
    "#     print(row)\n",
    "    for data in row:\n",
    "        print(data, end=\"\\t\")\n",
    "    print()"
   ]
  },
  {
   "cell_type": "code",
   "execution_count": 152,
   "id": "d407ed7e",
   "metadata": {
    "ExecuteTime": {
     "end_time": "2025-04-24T06:46:57.051471Z",
     "start_time": "2025-04-24T06:46:57.028492Z"
    }
   },
   "outputs": [
    {
     "data": {
      "text/plain": [
       "array([[1. , 2. ],\n",
       "       [3.4, 4.5]])"
      ]
     },
     "execution_count": 152,
     "metadata": {},
     "output_type": "execute_result"
    }
   ],
   "source": [
    "c = np.array([[1, 2], [3.4, 4.5]], dtype=np.float64)\n",
    "c"
   ]
  },
  {
   "cell_type": "code",
   "execution_count": 153,
   "id": "26fadbe6",
   "metadata": {
    "ExecuteTime": {
     "end_time": "2025-04-24T06:46:59.222513Z",
     "start_time": "2025-04-24T06:46:59.205561Z"
    }
   },
   "outputs": [
    {
     "name": "stdout",
     "output_type": "stream",
     "text": [
      "0행, 0열 1.0\t0행, 1열 2.0\t1행, 0열 3.4\t1행, 1열 4.5\t"
     ]
    }
   ],
   "source": [
    "for i, row in enumerate(c):\n",
    "    for j, item in enumerate(row):\n",
    "        print(\"{}행, {}열 {}\".format(i, j, item), end='\\t')\n",
    "    "
   ]
  },
  {
   "cell_type": "code",
   "execution_count": 159,
   "id": "a4565422",
   "metadata": {
    "ExecuteTime": {
     "end_time": "2025-04-24T06:49:46.867308Z",
     "start_time": "2025-04-24T06:49:46.841341Z"
    }
   },
   "outputs": [
    {
     "data": {
      "text/plain": [
       "array([[ 1,  2,  3,  4,  5],\n",
       "       [ 6,  7,  8,  9, 10]], dtype=int16)"
      ]
     },
     "execution_count": 159,
     "metadata": {},
     "output_type": "execute_result"
    }
   ],
   "source": [
    "c = np.array([[1,2,3,4,5],[6,7,8,9,10]], dtype=np.int16)\n",
    "c"
   ]
  },
  {
   "cell_type": "code",
   "execution_count": 161,
   "id": "9dcd8087",
   "metadata": {
    "ExecuteTime": {
     "end_time": "2025-04-24T06:49:57.975361Z",
     "start_time": "2025-04-24T06:49:57.949393Z"
    }
   },
   "outputs": [
    {
     "data": {
      "text/plain": [
       "4"
      ]
     },
     "execution_count": 161,
     "metadata": {},
     "output_type": "execute_result"
    }
   ],
   "source": [
    "c[0, 3]"
   ]
  },
  {
   "cell_type": "code",
   "execution_count": 170,
   "id": "702f3189",
   "metadata": {
    "ExecuteTime": {
     "end_time": "2025-04-24T06:54:46.576426Z",
     "start_time": "2025-04-24T06:54:46.551455Z"
    }
   },
   "outputs": [
    {
     "data": {
      "text/plain": [
       "array([[2, 3],\n",
       "       [7, 8]], dtype=int16)"
      ]
     },
     "execution_count": 170,
     "metadata": {},
     "output_type": "execute_result"
    }
   ],
   "source": [
    "c[:,1:3]"
   ]
  },
  {
   "cell_type": "code",
   "execution_count": 181,
   "id": "2b7d3bc6",
   "metadata": {
    "ExecuteTime": {
     "end_time": "2025-04-24T06:56:36.011240Z",
     "start_time": "2025-04-24T06:56:35.996281Z"
    }
   },
   "outputs": [
    {
     "data": {
      "text/plain": [
       "array([3, 4, 5], dtype=int16)"
      ]
     },
     "execution_count": 181,
     "metadata": {},
     "output_type": "execute_result"
    }
   ],
   "source": [
    "c[0, 2:5]"
   ]
  },
  {
   "cell_type": "code",
   "execution_count": 188,
   "id": "4fb2a637",
   "metadata": {
    "ExecuteTime": {
     "end_time": "2025-04-24T07:00:04.643164Z",
     "start_time": "2025-04-24T07:00:04.616237Z"
    }
   },
   "outputs": [
    {
     "data": {
      "text/plain": [
       "array([ 5, 10], dtype=int16)"
      ]
     },
     "execution_count": 188,
     "metadata": {},
     "output_type": "execute_result"
    }
   ],
   "source": [
    "# 모든행의 맨 마지막 열만 추출\n",
    "c[:,-1]"
   ]
  },
  {
   "cell_type": "code",
   "execution_count": 187,
   "id": "23cd96e5",
   "metadata": {
    "ExecuteTime": {
     "end_time": "2025-04-24T06:59:59.767995Z",
     "start_time": "2025-04-24T06:59:59.742065Z"
    }
   },
   "outputs": [
    {
     "data": {
      "text/plain": [
       "array([[1, 2, 3, 4],\n",
       "       [6, 7, 8, 9]], dtype=int16)"
      ]
     },
     "execution_count": 187,
     "metadata": {},
     "output_type": "execute_result"
    }
   ],
   "source": [
    "# 모든행의 맨마지막 열을 제외한 호출\n",
    "c[:, :-1]"
   ]
  },
  {
   "cell_type": "code",
   "execution_count": 200,
   "id": "69ff40c8",
   "metadata": {
    "ExecuteTime": {
     "end_time": "2025-04-24T07:16:15.835695Z",
     "start_time": "2025-04-24T07:16:15.818750Z"
    }
   },
   "outputs": [
    {
     "name": "stdout",
     "output_type": "stream",
     "text": [
      "c = \n",
      "[[1 2]\n",
      " [3 4]]\n",
      "d = \n",
      "[[1 2]\n",
      " [3 4]]\n",
      "c = \n",
      "[[   1    2]\n",
      " [3333    4]]\n",
      "d = \n",
      "[[   1    2]\n",
      " [3333    4]]\n",
      "c주소 = 2183658780304, d주소 = 2183658780304\n"
     ]
    }
   ],
   "source": [
    "c = np.array([[1,2],[3,4]])\n",
    "d = np.array(c, copy=False) # d = c , copy=False일 경우 c, d 가 같은 주소값을 참조, 얕은복사\n",
    "print('c = ',c, sep=\"\\n\")\n",
    "print('d = ',d, sep=\"\\n\")\n",
    "d[1,0] = 3333\n",
    "print('c = ',c, sep=\"\\n\")\n",
    "print('d = ',d, sep=\"\\n\")\n",
    "\n",
    "print('c주소 = {}, d주소 = {}'.format(id(c), id(d)))"
   ]
  },
  {
   "cell_type": "code",
   "execution_count": 201,
   "id": "9a57e571",
   "metadata": {
    "ExecuteTime": {
     "end_time": "2025-04-24T07:17:52.586796Z",
     "start_time": "2025-04-24T07:17:52.563859Z"
    }
   },
   "outputs": [
    {
     "name": "stdout",
     "output_type": "stream",
     "text": [
      "c = \n",
      "[[1 2]\n",
      " [3 4]]\n",
      "d = \n",
      "[[1 2]\n",
      " [3 4]]\n",
      "c = \n",
      "[[1 2]\n",
      " [3 4]]\n",
      "d = \n",
      "[[   1    2]\n",
      " [3333    4]]\n",
      "c주소 = 2183659436144, d주소 = 2183660083152\n"
     ]
    }
   ],
   "source": [
    "c = np.array([[1,2],[3,4]])\n",
    "d = np.array(c, copy=True) # copy=True 깊은복사\n",
    "print('c = ',c, sep=\"\\n\")\n",
    "print('d = ',d, sep=\"\\n\")\n",
    "d[1,0] = 3333\n",
    "print('c = ',c, sep=\"\\n\")\n",
    "print('d = ',d, sep=\"\\n\")\n",
    "\n",
    "print('c주소 = {}, d주소 = {}'.format(id(c), id(d)))"
   ]
  },
  {
   "cell_type": "markdown",
   "id": "32210e62",
   "metadata": {},
   "source": [
    "## 2.2. 기본값이 있는 배열 만들기\n",
    "\n",
    "- np.zeros(tup) = np.zeros((256,256)) : 요소들이 다 0 \n",
    "- np.ones(tup) : 요소들이 다 1\n",
    "- np.full(tup, 기본값) : 요소들이 다 기본값 \n",
    "- np.empty(tup) : 요소들이 임의의 값 (메모리 상태에 따라 달라짐)\n",
    "```\n",
    "※ 위의 함수를 이용해서, 생성된 배열은 기본 dtype이 float64. datype속성 따라 지정 가능\n",
    "```"
   ]
  },
  {
   "cell_type": "code",
   "execution_count": 205,
   "id": "4ab909a9",
   "metadata": {
    "ExecuteTime": {
     "end_time": "2025-04-24T07:21:43.874894Z",
     "start_time": "2025-04-24T07:21:43.848964Z"
    }
   },
   "outputs": [
    {
     "data": {
      "text/plain": [
       "array([[0, 0, 0, 0, 0],\n",
       "       [0, 0, 0, 0, 0],\n",
       "       [0, 0, 0, 0, 0]], dtype=int8)"
      ]
     },
     "execution_count": 205,
     "metadata": {},
     "output_type": "execute_result"
    }
   ],
   "source": [
    "np.zeros((3, 5), dtype=np.int8)"
   ]
  },
  {
   "cell_type": "code",
   "execution_count": 208,
   "id": "5d3159b4",
   "metadata": {
    "ExecuteTime": {
     "end_time": "2025-04-24T07:26:47.917628Z",
     "start_time": "2025-04-24T07:26:47.890700Z"
    }
   },
   "outputs": [
    {
     "data": {
      "text/plain": [
       "(dtype('float64'),\n",
       " array([[1., 1., 1., 1., 1.],\n",
       "        [1., 1., 1., 1., 1.],\n",
       "        [1., 1., 1., 1., 1.]]))"
      ]
     },
     "execution_count": 208,
     "metadata": {},
     "output_type": "execute_result"
    }
   ],
   "source": [
    "x = np.ones((3,5))\n",
    "\n",
    "x.dtype,x"
   ]
  },
  {
   "cell_type": "code",
   "execution_count": 217,
   "id": "4d3f7e1f",
   "metadata": {
    "ExecuteTime": {
     "end_time": "2025-04-24T07:28:27.396418Z",
     "start_time": "2025-04-24T07:28:27.369491Z"
    }
   },
   "outputs": [
    {
     "data": {
      "text/plain": [
       "(dtype('int32'),\n",
       " array([[-256, -256, -256, -256, -256],\n",
       "        [-256, -256, -256, -256, -256],\n",
       "        [-256, -256, -256, -256, -256]]))"
      ]
     },
     "execution_count": 217,
     "metadata": {},
     "output_type": "execute_result"
    }
   ],
   "source": [
    "f = np.full((3,5), -256, dtype=np.int32)\n",
    "f.dtype, f"
   ]
  },
  {
   "cell_type": "code",
   "execution_count": 4,
   "id": "39d1384d",
   "metadata": {
    "ExecuteTime": {
     "end_time": "2025-04-24T07:29:18.709336Z",
     "start_time": "2025-04-24T07:29:18.685401Z"
    }
   },
   "outputs": [
    {
     "data": {
      "text/plain": [
       "array([[0., 0., 0., 0., 0.],\n",
       "       [0., 0., 0., 0., 0.],\n",
       "       [0., 0., 0., 0., 0.]])"
      ]
     },
     "execution_count": 4,
     "metadata": {},
     "output_type": "execute_result"
    }
   ],
   "source": [
    "e = np.empty( (3,5) )\n",
    "e"
   ]
  },
  {
   "cell_type": "markdown",
   "id": "e218d392",
   "metadata": {},
   "source": [
    "## 2.3. 랜덤값을 갖는 배열 만들기\n",
    "\n",
    "- 0 <= 난수 < 1\n",
    "- np.random.random(tup) : 0부터 1미만의 **균등분포**를 갖는 랜덤값 (실수)\n",
    "- np.random.uniform(low=0, hi=1.0, size=tup) : low부터 high미만의 **균등분포**를 갖는 랜덤값\n",
    "- np.random.normal(loc=0, scale=1.0, size=tup) : 평균loc과 표준편자scale을 갖는 **정규분포** 랜덤값\n",
    "- np.random.rand(n) : **균등분포**의 **1차원** 난수 배열 발생(난수 n개)\n",
    "- np.random.randn(n) : **표준정규분포** (평균0, 표준편차1인 정규분포)의 **1차원** 난수 배열 발생 (난수 n개)\n",
    "\n",
    "```\n",
    "위의 것은 아래의 것과 틀림\n",
    "cf. random.randint(n) : 0부터 n미만의 정수 난수 1개 발생\n",
    "```"
   ]
  },
  {
   "cell_type": "code",
   "execution_count": 38,
   "id": "1c2b56c5",
   "metadata": {
    "ExecuteTime": {
     "end_time": "2025-04-24T07:59:06.527341Z",
     "start_time": "2025-04-24T07:59:06.334826Z"
    }
   },
   "outputs": [
    {
     "data": {
      "image/png": "[encoded data removed]",
      "text/plain": [
       "<Figure size 1500x200 with 1 Axes>"
      ]
     },
     "metadata": {},
     "output_type": "display_data"
    }
   ],
   "source": [
    "import matplotlib.pyplot as plt\n",
    "\n",
    "x = np.random.rand(100000)\n",
    "x\n",
    "plt.figure(figsize=(15,2)) # 그래프 크기 figsize=(가로,세로)\n",
    "plt.hist(x, bins=50)\n",
    "plt.show()"
   ]
  },
  {
   "cell_type": "code",
   "execution_count": 45,
   "id": "ae79e47a",
   "metadata": {
    "ExecuteTime": {
     "end_time": "2025-04-24T08:12:34.273202Z",
     "start_time": "2025-04-24T08:12:34.089080Z"
    }
   },
   "outputs": [
    {
     "data": {
      "image/png": "[encoded data removed]",
      "text/plain": [
       "<Figure size 1500x200 with 1 Axes>"
      ]
     },
     "metadata": {},
     "output_type": "display_data"
    }
   ],
   "source": [
    "x = np.random.randn(100000)\n",
    "plt.figure(figsize=(15,2)) # 그래프 크기 figsize=(가로,세로)\n",
    "plt.hist(x, bins=50)\n",
    "wplt.show()"
   ]
  },
  {
   "cell_type": "code",
   "execution_count": 52,
   "id": "e325ab34",
   "metadata": {
    "ExecuteTime": {
     "end_time": "2025-04-24T08:16:02.383990Z",
     "start_time": "2025-04-24T08:16:02.368047Z"
    }
   },
   "outputs": [
    {
     "data": {
      "text/plain": [
       "array([[0.15416284, 0.7400497 , 0.26331502, 0.53373939, 0.01457496],\n",
       "       [0.91874701, 0.90071485, 0.03342143, 0.95694934, 0.13720932]])"
      ]
     },
     "execution_count": 52,
     "metadata": {},
     "output_type": "execute_result"
    }
   ],
   "source": [
    "# 2차원 난수 배열\n",
    "np.random.seed(12) # seed값을 맞추면 발생되는 난수 순서가 동일\n",
    "np.random.random((2,5)) # 0부터 1미만의 랜덤 배열"
   ]
  },
  {
   "cell_type": "code",
   "execution_count": 54,
   "id": "9889e5e7",
   "metadata": {
    "ExecuteTime": {
     "end_time": "2025-04-24T08:18:14.746029Z",
     "start_time": "2025-04-24T08:18:14.720086Z"
    }
   },
   "outputs": [
    {
     "data": {
      "text/plain": [
       "array([[ 7.41016495, -0.77109222,  0.48731196,  0.27900319,  2.40887343],\n",
       "       [ 6.3859791 ,  4.18352756,  7.97785128,  2.18545462,  7.06438575]])"
      ]
     },
     "execution_count": 54,
     "metadata": {},
     "output_type": "execute_result"
    }
   ],
   "source": [
    "np.random.uniform(-1, 10, (2,5)) # -1 ~ 10 미나의 균등분포 난수 배열"
   ]
  },
  {
   "cell_type": "code",
   "execution_count": 56,
   "id": "25247fb2",
   "metadata": {
    "ExecuteTime": {
     "end_time": "2025-04-24T08:19:48.990389Z",
     "start_time": "2025-04-24T08:19:48.982441Z"
    }
   },
   "outputs": [
    {
     "data": {
      "text/plain": [
       "array([[ 5.56293011,  8.70513844,  8.94319136,  9.92158165, 10.4299519 ],\n",
       "       [ 9.23128239,  9.49219184, 10.14650415,  8.00559233,  8.57228742]])"
      ]
     },
     "execution_count": 56,
     "metadata": {},
     "output_type": "execute_result"
    }
   ],
   "source": [
    "np.random.normal(10, 2, (2,5)) # 평균 10, 표준편차 2인 정규분포 난수 배열"
   ]
  },
  {
   "cell_type": "markdown",
   "id": "2208238b",
   "metadata": {},
   "source": [
    "## 2.4. 연속된 값을 갖는 배열 만들기\n",
    "\n",
    "- np.arange(from, stop, step, dtype) : from 부터 stop 앞까지 step 씩 증감하는 정수 배열\n",
    "- np.linspace(from, to, count) : from 부터 to 까지(to포함) count개 숫자를 1차원 배열"
   ]
  },
  {
   "cell_type": "code",
   "execution_count": 65,
   "id": "6739f664",
   "metadata": {
    "ExecuteTime": {
     "end_time": "2025-04-24T08:24:39.143329Z",
     "start_time": "2025-04-24T08:24:39.129369Z"
    }
   },
   "outputs": [
    {
     "data": {
      "text/plain": [
       "array([0.        , 0.10526316, 0.21052632, 0.31578947, 0.42105263,\n",
       "       0.52631579, 0.63157895, 0.73684211, 0.84210526, 0.94736842,\n",
       "       1.05263158, 1.15789474, 1.26315789, 1.36842105, 1.47368421,\n",
       "       1.57894737, 1.68421053, 1.78947368, 1.89473684, 2.        ])"
      ]
     },
     "execution_count": 65,
     "metadata": {},
     "output_type": "execute_result"
    }
   ],
   "source": [
    "np.linspace(0, 2, 20)"
   ]
  },
  {
   "cell_type": "code",
   "execution_count": 80,
   "id": "6c940011",
   "metadata": {
    "ExecuteTime": {
     "end_time": "2025-04-24T08:29:24.012047Z",
     "start_time": "2025-04-24T08:29:23.996089Z"
    }
   },
   "outputs": [],
   "source": [
    "# linspace 는 많은 수의 점들을 생성\n",
    "x = np.linspace(0,2*np.pi,1000)\n",
    "y = np.sin(x)"
   ]
  },
  {
   "cell_type": "code",
   "execution_count": 79,
   "id": "96b07b8c",
   "metadata": {
    "ExecuteTime": {
     "end_time": "2025-04-24T08:29:19.401989Z",
     "start_time": "2025-04-24T08:29:19.242417Z"
    }
   },
   "outputs": [
    {
     "data": {
      "image/png": "[encoded data removed]",
      "text/plain": [
       "<Figure size 500x400 with 1 Axes>"
      ]
     },
     "metadata": {},
     "output_type": "display_data"
    }
   ],
   "source": [
    "import matplotlib.pyplot as plt\n",
    "\n",
    "plt.figure(figsize=(5,4))\n",
    "plt.plot(x,y)\n",
    "plt.show()"
   ]
  },
  {
   "cell_type": "code",
   "execution_count": 85,
   "id": "b57c416b",
   "metadata": {
    "ExecuteTime": {
     "end_time": "2025-04-24T08:33:23.223869Z",
     "start_time": "2025-04-24T08:33:23.196905Z"
    }
   },
   "outputs": [
    {
     "data": {
      "text/plain": [
       "array([[0.        , 0.10526316, 0.21052632, 0.31578947, 0.42105263,\n",
       "        0.52631579, 0.63157895, 0.73684211, 0.84210526, 0.94736842],\n",
       "       [1.05263158, 1.15789474, 1.26315789, 1.36842105, 1.47368421,\n",
       "        1.57894737, 1.68421053, 1.78947368, 1.89473684, 2.        ]])"
      ]
     },
     "execution_count": 85,
     "metadata": {},
     "output_type": "execute_result"
    }
   ],
   "source": [
    "np.linspace(0, 2, 20).reshape(2,10)"
   ]
  },
  {
   "cell_type": "code",
   "execution_count": 83,
   "id": "a74496a5",
   "metadata": {
    "ExecuteTime": {
     "end_time": "2025-04-24T08:31:23.621874Z",
     "start_time": "2025-04-24T08:31:23.595926Z"
    }
   },
   "outputs": [
    {
     "data": {
      "text/plain": [
       "array([10, 13, 16, 19, 22, 25, 28], dtype=int8)"
      ]
     },
     "execution_count": 83,
     "metadata": {},
     "output_type": "execute_result"
    }
   ],
   "source": [
    "np.arange(10, 30, 3,dtype=np.int8)"
   ]
  },
  {
   "cell_type": "markdown",
   "id": "3ef9330b",
   "metadata": {},
   "source": [
    "## 2.5. 배열의 차원 변경하기\n",
    "\n",
    "- reshape([면수,] 행수, 열수) : -1 이 올 수도\n",
    "- resize([면수,] 행수, 열수)  : -1 불가\n",
    "- T : 전치행렬로 변환\n",
    "- transpose() : 전치행렬로 변환\n",
    "\n",
    "```\n",
    "※ 실행결과가 출력되면, 배열이 수정되지 않고, 실행결과가 없으면, 배열 수정됨\n",
    "```"
   ]
  },
  {
   "cell_type": "code",
   "execution_count": 99,
   "id": "4593a11a",
   "metadata": {
    "ExecuteTime": {
     "end_time": "2025-04-24T08:57:28.545811Z",
     "start_time": "2025-04-24T08:57:28.532835Z"
    }
   },
   "outputs": [
    {
     "data": {
      "text/plain": [
       "array([[0.20850049, 0.94458146, 0.07347004],\n",
       "       [0.59515246, 0.03115107, 0.66525743]])"
      ]
     },
     "execution_count": 99,
     "metadata": {},
     "output_type": "execute_result"
    }
   ],
   "source": [
    "a = np.random.random((2, 3))\n",
    "a"
   ]
  },
  {
   "cell_type": "code",
   "execution_count": 100,
   "id": "0bd095e5",
   "metadata": {
    "ExecuteTime": {
     "end_time": "2025-04-24T08:57:30.101549Z",
     "start_time": "2025-04-24T08:57:30.083616Z"
    }
   },
   "outputs": [
    {
     "data": {
      "text/plain": [
       "array([[2., 9., 1.],\n",
       "       [6., 0., 7.]])"
      ]
     },
     "execution_count": 100,
     "metadata": {},
     "output_type": "execute_result"
    }
   ],
   "source": [
    "a = np.round(a * 10) # round : 반올림 / floor : 내림 / ceil : 올림\n",
    "a"
   ]
  },
  {
   "cell_type": "code",
   "execution_count": 101,
   "id": "92995578",
   "metadata": {
    "ExecuteTime": {
     "end_time": "2025-04-24T08:57:32.854985Z",
     "start_time": "2025-04-24T08:57:32.833054Z"
    }
   },
   "outputs": [
    {
     "data": {
      "text/plain": [
       "array([[2., 9.],\n",
       "       [1., 6.],\n",
       "       [0., 7.]])"
      ]
     },
     "execution_count": 101,
     "metadata": {},
     "output_type": "execute_result"
    }
   ],
   "source": [
    "a = a.reshape(3, 2)\n",
    "a"
   ]
  },
  {
   "cell_type": "code",
   "execution_count": 103,
   "id": "c0e3d934",
   "metadata": {
    "ExecuteTime": {
     "end_time": "2025-04-24T08:58:30.024946Z",
     "start_time": "2025-04-24T08:58:29.999535Z"
    }
   },
   "outputs": [
    {
     "data": {
      "text/plain": [
       "array([[2., 9., 1.],\n",
       "       [6., 0., 7.]])"
      ]
     },
     "execution_count": 103,
     "metadata": {},
     "output_type": "execute_result"
    }
   ],
   "source": [
    "a.reshape(2, -1) # -1 이 주어지면, 해당 차원의 크기가 자동 계산"
   ]
  },
  {
   "cell_type": "code",
   "execution_count": 107,
   "id": "897cda9e",
   "metadata": {
    "ExecuteTime": {
     "end_time": "2025-04-24T08:59:58.252907Z",
     "start_time": "2025-04-24T08:59:58.240911Z"
    }
   },
   "outputs": [
    {
     "data": {
      "text/plain": [
       "array([[2.],\n",
       "       [9.],\n",
       "       [1.],\n",
       "       [6.],\n",
       "       [0.],\n",
       "       [7.]])"
      ]
     },
     "execution_count": 107,
     "metadata": {},
     "output_type": "execute_result"
    }
   ],
   "source": [
    "a = a.reshape(-1, 1)\n",
    "a"
   ]
  },
  {
   "cell_type": "code",
   "execution_count": 111,
   "id": "b7c0b134",
   "metadata": {
    "ExecuteTime": {
     "end_time": "2025-04-24T09:01:09.140401Z",
     "start_time": "2025-04-24T09:01:09.129441Z"
    }
   },
   "outputs": [],
   "source": [
    "a.resize((2,3)) # 결과를 출력하지 않는 함수는 배열을 바꿈 (-1불가)"
   ]
  },
  {
   "cell_type": "code",
   "execution_count": 112,
   "id": "52bea267",
   "metadata": {
    "ExecuteTime": {
     "end_time": "2025-04-24T09:01:11.328039Z",
     "start_time": "2025-04-24T09:01:11.304427Z"
    }
   },
   "outputs": [
    {
     "data": {
      "text/plain": [
       "array([[2., 9., 1.],\n",
       "       [6., 0., 7.]])"
      ]
     },
     "execution_count": 112,
     "metadata": {},
     "output_type": "execute_result"
    }
   ],
   "source": [
    "a"
   ]
  },
  {
   "cell_type": "code",
   "execution_count": null,
   "id": "c7f6bf11",
   "metadata": {},
   "outputs": [],
   "source": []
  },
  {
   "cell_type": "code",
   "execution_count": null,
   "id": "f101361e",
   "metadata": {},
   "outputs": [],
   "source": []
  },
  {
   "cell_type": "code",
   "execution_count": null,
   "id": "bf8e4626",
   "metadata": {},
   "outputs": [],
   "source": []
  }
 ],
 "metadata": {
  "kernelspec": {
   "display_name": "Python 3 (ipykernel)",
   "language": "python",
   "name": "python3"
  },
  "language_info": {
   "codemirror_mode": {
    "name": "ipython",
    "version": 3
   },
   "file_extension": ".py",
   "mimetype": "text/x-python",
   "name": "python",
   "nbconvert_exporter": "python",
   "pygments_lexer": "ipython3",
   "version": "3.10.9"
  },
  "toc": {
   "base_numbering": 1,
   "nav_menu": {},
   "number_sections": false,
   "sideBar": true,
   "skip_h1_title": false,
   "title_cell": "Table of Contents",
   "title_sidebar": "Contents",
   "toc_cell": false,
   "toc_position": {
    "height": "calc(100% - 180px)",
    "left": "10px",
    "top": "150px",
    "width": "202px"
   },
   "toc_section_display": true,
   "toc_window_display": true
  },
  "varInspector": {
   "cols": {
    "lenName": 16,
    "lenType": 16,
    "lenVar": 40
   },
   "kernels_config": {
    "python": {
     "delete_cmd_postfix": "",
     "delete_cmd_prefix": "del ",
     "library": "var_list.py",
     "varRefreshCmd": "print(var_dic_list())"
    },
    "r": {
     "delete_cmd_postfix": ") ",
     "delete_cmd_prefix": "rm(",
     "library": "var_list.r",
     "varRefreshCmd": "cat(var_dic_list()) "
    }
   },
   "types_to_exclude": [
    "module",
    "function",
    "builtin_function_or_method",
    "instance",
    "_Feature"
   ],
   "window_display": false
  }
 },
 "nbformat": 4,
 "nbformat_minor": 5
}
