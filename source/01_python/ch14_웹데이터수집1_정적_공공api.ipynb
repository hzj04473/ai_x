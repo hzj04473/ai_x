{
 "cells": [
  {
   "cell_type": "code",
   "execution_count": 1,
   "id": "55784b3c",
   "metadata": {},
   "outputs": [
    {
     "data": {
      "text/html": [
       "\n",
       "<style>\n",
       "* {font-family:D2Coding;}\n",
       "div.container{width:87% !important;}\n",
       "div.cell.code_cell.rendered{width:100%;}\n",
       "div.CodeMirror {font-size:12pt;}\n",
       "div.output {font-size:12pt; font-weight:bold;}\n",
       "div.input { font-size:12pt;}\n",
       "div.prompt {min-width:70px;}\n",
       "div#toc-wrapper{padding-top:120px;}\n",
       "div.text_cell_render ul li{font-size:12pt;padding:3px;}\n",
       "table.dataframe{font-size:12px;}\n",
       "</style>\n"
      ],
      "text/plain": [
       "<IPython.core.display.HTML object>"
      ]
     },
     "metadata": {},
     "output_type": "display_data"
    }
   ],
   "source": [
    "from IPython.display import display, HTML\n",
    "\n",
    "display(\n",
    "    HTML(\"\"\"\n",
    "<style>\n",
    "* {font-family:D2Coding;}\n",
    "div.container{width:87% !important;}\n",
    "div.cell.code_cell.rendered{width:100%;}\n",
    "div.CodeMirror {font-size:12pt;}\n",
    "div.output {font-size:12pt; font-weight:bold;}\n",
    "div.input { font-size:12pt;}\n",
    "div.prompt {min-width:70px;}\n",
    "div#toc-wrapper{padding-top:120px;}\n",
    "div.text_cell_render ul li{font-size:12pt;padding:3px;}\n",
    "table.dataframe{font-size:12px;}\n",
    "</style>\n",
    "\"\"\"))"
   ]
  },
  {
   "cell_type": "markdown",
   "id": "08ad6cb7",
   "metadata": {},
   "source": [
    "<b><font size=\"5\" color=\"red\">ch14_웹데이터 수집</font></b>\n",
    "\n",
    "# 1절. BeautifulSoup과 parser\n",
    "\n",
    "```pip install bs4``` 아나콘다를 설치하면 7500개여개의 패키지 설치\n",
    "- [BeautifulSoup 공식사이트] : https://www.crummy.com/software/BeautifulSoup/\n",
    "- [BeautifulSoup 공식문서] : https://www.crummy.com/software/BeautifulSoup/bs4/doc/"
   ]
  },
  {
   "cell_type": "code",
   "execution_count": 23,
   "id": "922f9b1e",
   "metadata": {},
   "outputs": [],
   "source": [
    "# https://pypi.org/project/requests/\n",
    "import requests # HTTP 요청 처리 lib\n",
    "\n",
    "# https://pypi.org/project/requests-file/\n",
    "from requests_file import FileAdapter"
   ]
  },
  {
   "cell_type": "code",
   "execution_count": 43,
   "id": "055c44d6",
   "metadata": {},
   "outputs": [
    {
     "name": "stdout",
     "output_type": "stream",
     "text": [
      "<Response [200]>\n"
     ]
    }
   ],
   "source": [
    "s = requests.Session() # HTTP 요청관리를 위한 세션 객체\n",
    "s.mount(\"file://\", FileAdapter())\n",
    "# print(s)\n",
    "response = s.get('file:///Volumes/DATA/mbc/ai_x/source/01_python/data/ch14_sample.html')\n",
    "print(response)"
   ]
  },
  {
   "cell_type": "code",
   "execution_count": 44,
   "id": "b56dc267",
   "metadata": {},
   "outputs": [
    {
     "data": {
      "text/plain": [
       "200"
      ]
     },
     "execution_count": 44,
     "metadata": {},
     "output_type": "execute_result"
    }
   ],
   "source": [
    "response.status_code\n",
    "#200 : 정상\n",
    "#404 : 없는페이지 오류\n",
    "#406 : get, post 오류\n",
    "#500 : 파이썬 문법 오류"
   ]
  },
  {
   "cell_type": "code",
   "execution_count": 45,
   "id": "6f548917",
   "metadata": {},
   "outputs": [
    {
     "data": {
      "text/plain": [
       "b'<!DOCTYPE html>\\r\\n<html lang=\"en\">\\r\\n  <head>\\r\\n    <meta charset=\"UTF-8\" />\\r\\n  </head>\\r\\n  <body>\\r\\n    <h1 class=\"greeting css\" id=\"text\" title=\"greeting\">Hello, CSS</h1>\\r\\n    <h1 class=\"css\">Hi, CSS</h1>\\r\\n    <div id=\"subject\">subject \\xec\\x84\\xa0\\xed\\x83\\x9d\\xec\\x9e\\x90 \\xec\\x95\\x88\\xec\\x9d\\x98 \\xeb\\x82\\xb4\\xec\\x9a\\xa9</div>\\r\\n    <p>CSS \\xec\\x84\\xa0\\xed\\x83\\x9d\\xec\\x9e\\x90\\xeb\\x8a\\x94 \\xeb\\x8b\\xa4\\xec\\x96\\x91\\xed\\x95\\x9c \\xea\\xb3\\xb3\\xec\\x97\\x90\\xec\\x84\\x9c \\xed\\x99\\x9c\\xec\\x9a\\xa9\\xeb\\x90\\xa9\\xeb\\x8b\\x88\\xeb\\x8b\\xa4</p>\\r\\n    <div class=\"contents\">\\r\\n      \\xec\\x84\\xa0\\xed\\x83\\x9d\\xec\\x9e\\x90\\xeb\\xa5\\xbc \\xec\\x96\\xb4\\xeb\\x96\\xbb\\xea\\xb2\\x8c \\xec\\x9e\\x91\\xec\\x84\\xb1\\xed\\x95\\x98\\xeb\\x8a\\x90\\xeb\\x83\\x90\\xec\\x97\\x90 \\xeb\\x94\\xb0\\xeb\\x9d\\xbc\\r\\n      <span>\\xeb\\x8b\\xa4\\xeb\\xa5\\xb8<b>\\xec\\x9a\\x94\\xec\\x86\\x8c\\xea\\xb0\\x80 \\xeb\\xb0\\x98\\xed\\x99\\x98</b></span\\r\\n      >\\xeb\\x90\\xa9\\xeb\\x8b\\x88\\xeb\\x8b\\xa4\\r\\n    </div>\\r\\n    <div>CSS \\xec\\x84\\xa0\\xed\\x83\\x9d\\xec\\x9e\\x90\\xeb\\x8a\\x94 \\xeb\\x8b\\xa4\\xec\\x96\\x91\\xed\\x95\\x9c \\xea\\xb3\\xb3\\xec\\x97\\x90 <b>\\xed\\x99\\x9c\\xec\\x9a\\xa9</b>\\xeb\\x90\\xa9\\xeb\\x8b\\x88\\xeb\\x8b\\xa4</div>\\r\\n  </body>\\r\\n</html>\\r\\n'"
      ]
     },
     "execution_count": 45,
     "metadata": {},
     "output_type": "execute_result"
    }
   ],
   "source": [
    "response.content # 바이너리 형식의 내용"
   ]
  },
  {
   "cell_type": "code",
   "execution_count": 46,
   "id": "6425c673",
   "metadata": {},
   "outputs": [
    {
     "data": {
      "text/plain": [
       "'<!DOCTYPE html>\\r\\n<html lang=\"en\">\\r\\n  <head>\\r\\n    <meta charset=\"UTF-8\" />\\r\\n  </head>\\r\\n  <body>\\r\\n    <h1 class=\"greeting css\" id=\"text\" title=\"greeting\">Hello, CSS</h1>\\r\\n    <h1 class=\"css\">Hi, CSS</h1>\\r\\n    <div id=\"subject\">subject 선택자 안의 내용</div>\\r\\n    <p>CSS 선택자는 다양한 곳에서 활용됩니다</p>\\r\\n    <div class=\"contents\">\\r\\n      선택자를 어떻게 작성하느냐에 따라\\r\\n      <span>다른<b>요소가 반환</b></span\\r\\n      >됩니다\\r\\n    </div>\\r\\n    <div>CSS 선택자는 다양한 곳에 <b>활용</b>됩니다</div>\\r\\n  </body>\\r\\n</html>\\r\\n'"
      ]
     },
     "execution_count": 46,
     "metadata": {},
     "output_type": "execute_result"
    }
   ],
   "source": [
    "response.content.decode('utf-8')"
   ]
  },
  {
   "cell_type": "code",
   "execution_count": 47,
   "id": "a5d11e8a",
   "metadata": {},
   "outputs": [
    {
     "data": {
      "text/plain": [
       "'<!DOCTYPE html>\\r\\n<html lang=\"en\">\\r\\n  <head>\\r\\n    <meta charset=\"UTF-8\" />\\r\\n  </head>\\r\\n  <body>\\r\\n    <h1 class=\"greeting css\" id=\"text\" title=\"greeting\">Hello, CSS</h1>\\r\\n    <h1 class=\"css\">Hi, CSS</h1>\\r\\n    <div id=\"subject\">subject 선택자 안의 내용</div>\\r\\n    <p>CSS 선택자는 다양한 곳에서 활용됩니다</p>\\r\\n    <div class=\"contents\">\\r\\n      선택자를 어떻게 작성하느냐에 따라\\r\\n      <span>다른<b>요소가 반환</b></span\\r\\n      >됩니다\\r\\n    </div>\\r\\n    <div>CSS 선택자는 다양한 곳에 <b>활용</b>됩니다</div>\\r\\n  </body>\\r\\n</html>\\r\\n'"
      ]
     },
     "execution_count": 47,
     "metadata": {},
     "output_type": "execute_result"
    }
   ],
   "source": [
    "# decode('utf-8') 와 같아서,\n",
    "# 앞으로 이걸로 크롤링을 할 예정\n",
    "response.text"
   ]
  },
  {
   "cell_type": "code",
   "execution_count": 51,
   "id": "9f656263",
   "metadata": {},
   "outputs": [
    {
     "data": {
      "text/plain": [
       "<!DOCTYPE html>\n",
       "\n",
       "<html lang=\"en\">\n",
       "<head>\n",
       "<meta charset=\"utf-8\"/>\n",
       "</head>\n",
       "<body>\n",
       "<h1 class=\"greeting css\" id=\"text\" title=\"greeting\">Hello, CSS</h1>\n",
       "<h1 class=\"css\">Hi, CSS</h1>\n",
       "<div id=\"subject\">subject 선택자 안의 내용</div>\n",
       "<p>CSS 선택자는 다양한 곳에서 활용됩니다</p>\n",
       "<div class=\"contents\">\n",
       "      선택자를 어떻게 작성하느냐에 따라\n",
       "      <span>다른<b>요소가 반환</b></span>됩니다\n",
       "    </div>\n",
       "<div>CSS 선택자는 다양한 곳에 <b>활용</b>됩니다</div>\n",
       "</body>\n",
       "</html>"
      ]
     },
     "execution_count": 51,
     "metadata": {},
     "output_type": "execute_result"
    }
   ],
   "source": [
    "# html 파싱\n",
    "from bs4 import BeautifulSoup\n",
    "# 객체 생성\n",
    "soup = BeautifulSoup(response.content, \"html.parser\") # 또는 response.text\n",
    "\n",
    "soup"
   ]
  },
  {
   "cell_type": "code",
   "execution_count": 56,
   "id": "6315e16a",
   "metadata": {},
   "outputs": [
    {
     "name": "stdout",
     "output_type": "stream",
     "text": [
      "e1 : <h1 class=\"greeting css\" id=\"text\" title=\"greeting\">Hello, CSS</h1>\n",
      "e1.text : Hello, CSS\n",
      "e1.string : Hello, CSS\n",
      "e1의 속성들 : {'class': ['greeting', 'css'], 'id': 'text', 'title': 'greeting'}\n",
      "e1의 title 속성 : greeting\n",
      "e1의 title 속성 : greeting\n",
      "e1의 이름 : h1\n"
     ]
    }
   ],
   "source": [
    "# soup.select_one('선택자') : 해당 선택자 처음 하나만\n",
    "e1 = soup.select_one('h1'); # ★ 처음 나오는 h1태그 하나만\n",
    "print('e1 :', e1) # ★\n",
    "print('e1.text :', e1.text) # ★\n",
    "print('e1.string :', e1.string)\n",
    "print('e1의 속성들 :', e1.attrs)\n",
    "print('e1의 title 속성 :', e1.attrs['title'])\n",
    "print('e1의 title 속성 :', e1.attrs.get('title')) # ★ 딕셔너리는 이렇게 가져 오는 것이 더 좋다.\n",
    "print('e1의 이름 :', e1.name)"
   ]
  },
  {
   "cell_type": "code",
   "execution_count": 74,
   "id": "c3604ab2",
   "metadata": {},
   "outputs": [
    {
     "name": "stdout",
     "output_type": "stream",
     "text": [
      "리스트 el :  [<h1 class=\"greeting css\" id=\"text\" title=\"greeting\">Hello, CSS</h1>, <h1 class=\"css\">Hi, CSS</h1>]\n",
      "el의 text들 :  ['Hello, CSS', 'Hi, CSS']\n",
      "el의 속성들 :  [{'class': ['greeting', 'css'], 'id': 'text', 'title': 'greeting'}, {'class': ['css']}]\n",
      "el의 class속성들 :  [['greeting', 'css'], ['css']]\n"
     ]
    }
   ],
   "source": [
    "# soup.select('선택자') : 해당 선택자 모든 엘리먼트를 리스트로\n",
    "el = soup.select('h1')\n",
    "\n",
    "\n",
    "print('리스트 el : ', el)\n",
    "print('el의 text들 : ',[e.text for e in el])\n",
    "# for e in el:\n",
    "#     print(e.text, end=',')\n",
    "print('el의 속성들 : ',[e.attrs for e in el])\n",
    "print('el의 class속성들 : ',[ e.attrs.get('class') for e in el ])"
   ]
  },
  {
   "cell_type": "code",
   "execution_count": 86,
   "id": "7b962ed6",
   "metadata": {},
   "outputs": [
    {
     "name": "stdout",
     "output_type": "stream",
     "text": [
      "soup.select_one : <h1 class=\"greeting css\" id=\"text\" title=\"greeting\">Hello, CSS</h1>\n",
      "soup.find : <h1 class=\"greeting css\" id=\"text\" title=\"greeting\">Hello, CSS</h1>\n",
      "soup.find : <h1 class=\"greeting css\" id=\"text\" title=\"greeting\">Hello, CSS</h1>\n",
      "\n",
      "soup.select_one <h1 class=\"greeting css\" id=\"text\" title=\"greeting\">Hello, CSS</h1>\n",
      "soup.find <h1 class=\"greeting css\" id=\"text\" title=\"greeting\">Hello, CSS</h1>\n",
      "\n",
      "soup.select\n"
     ]
    }
   ],
   "source": [
    "# soup.select_one(선택자) 와 soup.find(태그, 속성)\n",
    "print('soup.select_one :', soup.select_one('h1.css'))\n",
    "print('soup.find :', soup.find('h1',{'class':'css'}))\n",
    "print('soup.find :', soup.find('h1', class_='css')) # class만 가능\n",
    "print()\n",
    "print('soup.select_one',soup.select_one('h1#text'))\n",
    "print('soup.find',soup.find('h1', {'id':'text'}))\n",
    "print()\n",
    "print('soup.select')"
   ]
  },
  {
   "cell_type": "code",
   "execution_count": 101,
   "id": "190ae420",
   "metadata": {},
   "outputs": [
    {
     "name": "stdout",
     "output_type": "stream",
     "text": [
      "모든 h1.css, span 태그 (select) : [<h1 class=\"greeting css\" id=\"text\" title=\"greeting\">Hello, CSS</h1>, <h1 class=\"css\">Hi, CSS</h1>, <span>다른<b>요소가 반환</b></span>]\n",
      "모든 h1.css, span 태그 (find_all) : [<h1 class=\"greeting css\" id=\"text\" title=\"greeting\">Hello, CSS</h1>, <h1 class=\"css\">Hi, CSS</h1>]\n"
     ]
    }
   ],
   "source": [
    "# select(선택자)와 find_all(태그, 속성)\n",
    "print('모든 h1.css, span 태그 (select) :', soup.select('h1.css, span'))\n",
    "print('모든 h1.css, span 태그 (find_all) :', soup.find_all(['h1','span'], class_='css'))"
   ]
  },
  {
   "cell_type": "code",
   "execution_count": 100,
   "id": "a57e2022",
   "metadata": {},
   "outputs": [
    {
     "name": "stdout",
     "output_type": "stream",
     "text": [
      "find_all : []\n",
      "find : None\n",
      "select []\n",
      "select_one None\n"
     ]
    }
   ],
   "source": [
    "# 없는 엘리먼트 찾기\n",
    "print('find_all :', soup.find_all('a', class_='css')) # 빈 리스트\n",
    "print('find :', soup.find('a', class_='css')) # None\n",
    "print('select', soup.select('a.css'))\n",
    "print('select_one', soup.select_one('a.css'))"
   ]
  },
  {
   "cell_type": "markdown",
   "id": "7483ebe8",
   "metadata": {},
   "source": [
    "<h1>2절. 정적 웹 데이터 수집 (정적 웹크롤링)</h1>\n",
    "\n",
    "- json\n",
    "- xml, html : select_one, select, find, find_all 가능\n",
    "\n",
    "<h2>2-1. JSON파일</h2>\n",
    "\n",
    "- requests모듈(get)\n",
    "- urllib.request모듈(urlopen)"
   ]
  },
  {
   "cell_type": "code",
   "execution_count": null,
   "id": "15f9a76c",
   "metadata": {},
   "outputs": [],
   "source": [
    "# 크롤링 허용 범위는 사이트마다 ~/robots.txt 에서 확인할 수 있습니다."
   ]
  },
  {
   "cell_type": "code",
   "execution_count": 240,
   "id": "2d054ba0",
   "metadata": {},
   "outputs": [],
   "source": [
    "# 방법1\n",
    "import requests\n",
    "import json\n",
    "# response = requests.get('https://api.github.com')\n",
    "# response, response.status_code\n",
    "# response.text"
   ]
  },
  {
   "cell_type": "code",
   "execution_count": 239,
   "id": "bbf9518f",
   "metadata": {},
   "outputs": [],
   "source": [
    "# 방법2\n",
    "from urllib.request import urlopen\n",
    "# response = urlopen('https://api.github.com')\n",
    "# response.status\n"
   ]
  },
  {
   "cell_type": "code",
   "execution_count": 236,
   "id": "06c26dfe",
   "metadata": {},
   "outputs": [
    {
     "data": {
      "text/plain": [
       "str"
      ]
     },
     "execution_count": 236,
     "metadata": {},
     "output_type": "execute_result"
    }
   ],
   "source": [
    "text = '{\"속성1\":\"값1\", \"속성2\":\"값2\"}'\n",
    "\n",
    "type(text)"
   ]
  },
  {
   "cell_type": "code",
   "execution_count": 237,
   "id": "47bec843",
   "metadata": {},
   "outputs": [
    {
     "data": {
      "text/plain": [
       "{'속성1': '값1', '속성2': '값2'}"
      ]
     },
     "execution_count": 237,
     "metadata": {},
     "output_type": "execute_result"
    }
   ],
   "source": [
    "# 문자(딕셔너리 타입)를 딕셔너리로\n",
    "# '{\"속성1\":\"값1\", \"속성2\":\"값2\"}' => {\"속성1\":\"값1\", \"속성2\":\"값2\"}\n",
    "import json\n",
    "json.loads(text)"
   ]
  },
  {
   "cell_type": "code",
   "execution_count": null,
   "id": "b207211d",
   "metadata": {},
   "outputs": [],
   "source": []
  },
  {
   "cell_type": "code",
   "execution_count": null,
   "id": "0ba13573",
   "metadata": {},
   "outputs": [],
   "source": []
  },
  {
   "cell_type": "markdown",
   "id": "cb4239bd",
   "metadata": {},
   "source": [
    "## 2-2. html 파일\n",
    "\n",
    "### 1) 환율정보 가져오기 (네이버 → 증권 → 시장지표)"
   ]
  },
  {
   "cell_type": "code",
   "execution_count": 134,
   "id": "dff2e86e",
   "metadata": {},
   "outputs": [],
   "source": [
    "import requests\n",
    "from bs4 import BeautifulSoup\n",
    "url = \"https://finance.naver.com/marketindex/\"\n",
    "response = requests.get(url)\n",
    "# response, response.status_code\n",
    "# response.content (바이너리)\n",
    "# response.content.decode('cp949') == response.text\n",
    "\n",
    "soup = BeautifulSoup(response.text,'html.parser') # 또는 response.content\n",
    "# soup"
   ]
  },
  {
   "cell_type": "code",
   "execution_count": 139,
   "id": "309a2e93",
   "metadata": {},
   "outputs": [],
   "source": [
    "from urllib.request import urlopen\n",
    "from bs4 import BeautifulSoup\n",
    "url = \"https://finance.naver.com/marketindex/\"\n",
    "response = urlopen(url)\n",
    "# response.status 상태코드\n",
    "# response.read()\n",
    "# response.read().decode('cp949')\n",
    "soup = BeautifulSoup(response, 'html.parser') # 또는 response.read()\n",
    "# soup"
   ]
  },
  {
   "cell_type": "code",
   "execution_count": 146,
   "id": "dd2abb2a",
   "metadata": {},
   "outputs": [
    {
     "name": "stdout",
     "output_type": "stream",
     "text": [
      "['미국 USD', '일본 JPY(100엔)', '유럽연합 EUR', '중국 CNY', '달러/일본 엔', '유로/달러', '영국 파운드/달러', '달러인덱스', 'WTI', '휘발유', '국제 금', '국내 금']\n",
      "['1,373.90', '952.28', '1,555.05', '190.92', '1.1342', '1.3520', '60.89', '1633.17', '3300.4']\n"
     ]
    }
   ],
   "source": [
    "title = soup.select(\"h3.h_lst > span.blind\")\n",
    "[t.text for t in title]\n"
   ]
  },
  {
   "cell_type": "code",
   "execution_count": 166,
   "id": "e9bf5065",
   "metadata": {},
   "outputs": [
    {
     "data": {
      "text/plain": [
       "[1374, 952, 1555, 191, 144, 1, 1, 99, 61, 1633, 3300, 146245]"
      ]
     },
     "execution_count": 166,
     "metadata": {},
     "output_type": "execute_result"
    }
   ],
   "source": [
    "price = soup.select(\"div.head_info > span.value\")\n",
    "[p.text for p in price]\n",
    "[round(float(p.text.replace(',',''))) for p in price]\n",
    "[round(float(''.join(p.text.split(',')))) for p in price]"
   ]
  },
  {
   "cell_type": "code",
   "execution_count": 158,
   "id": "ca48d0e6",
   "metadata": {},
   "outputs": [
    {
     "data": {
      "text/plain": [
       "1374"
      ]
     },
     "execution_count": 158,
     "metadata": {},
     "output_type": "execute_result"
    }
   ],
   "source": [
    "# ',' 빼는 법\n",
    "\n",
    "out = '1,373.90'\n",
    "# 1번쨰\n",
    "round(float(''.join(out.split(','))))"
   ]
  },
  {
   "cell_type": "code",
   "execution_count": 160,
   "id": "9e4acb98",
   "metadata": {},
   "outputs": [
    {
     "data": {
      "text/plain": [
       "1374"
      ]
     },
     "execution_count": 160,
     "metadata": {},
     "output_type": "execute_result"
    }
   ],
   "source": [
    "# 2번쨰\n",
    "round(float(out.replace(',','')))"
   ]
  },
  {
   "cell_type": "code",
   "execution_count": 196,
   "id": "826e647d",
   "metadata": {},
   "outputs": [
    {
     "data": {
      "text/plain": [
       "['원', '원', '원', '원', '엔', '달러', '달러', '', '달러', '원', '달러', '원']"
      ]
     },
     "execution_count": 196,
     "metadata": {},
     "output_type": "execute_result"
    }
   ],
   "source": [
    "unit = soup.select('div.head_info > span > span.blind')\n",
    "unit = [u.text for u in unit]\n",
    "unit.insert(7, '') # 7번째 index에 '' 추가\n",
    "unit"
   ]
  },
  {
   "cell_type": "code",
   "execution_count": 197,
   "id": "9d4c7cd0",
   "metadata": {},
   "outputs": [
    {
     "data": {
      "text/plain": [
       "['하락', '하락', '하락', '하락', '상승', '하락', '하락', '상승', '하락', '하락', '하락', '상승']"
      ]
     },
     "execution_count": 197,
     "metadata": {},
     "output_type": "execute_result"
    }
   ],
   "source": [
    "status = soup.select('div.head_info > span.blind')\n",
    "\n",
    "[t.text for t in title]\n",
    "[p.text for p in price]\n",
    "unit\n",
    "[s.text for s in status]"
   ]
  },
  {
   "cell_type": "code",
   "execution_count": 188,
   "id": "b4e9a02c",
   "metadata": {},
   "outputs": [
    {
     "data": {
      "text/plain": [
       "(12, 12, 12, 12)"
      ]
     },
     "execution_count": 188,
     "metadata": {},
     "output_type": "execute_result"
    }
   ],
   "source": [
    "len(title), len(price), len(unit), len(status)"
   ]
  },
  {
   "cell_type": "code",
   "execution_count": 201,
   "id": "ede56667",
   "metadata": {},
   "outputs": [
    {
     "name": "stdout",
     "output_type": "stream",
     "text": [
      "1.미국 USD : 1,373.90원 - 하락\n",
      "2.일본 JPY(100엔) : 952.28원 - 하락\n",
      "3.유럽연합 EUR : 1,555.05원 - 하락\n",
      "4.중국 CNY : 190.92원 - 하락\n",
      "5.달러/일본 엔 : 144.3800엔 - 상승\n",
      "6.유로/달러 : 1.1342달러 - 하락\n",
      "7.영국 파운드/달러 : 1.3520달러 - 하락\n",
      "8.달러인덱스 : 99.4200 - 상승\n",
      "9.WTI : 60.89달러 - 하락\n",
      "10.휘발유 : 1633.17원 - 하락\n",
      "11.국제 금 : 3300.4달러 - 하락\n",
      "12.국내 금 : 146244.92원 - 상승\n"
     ]
    }
   ],
   "source": [
    "for idx in range(len(title)):\n",
    "    print(\"{}.{} : {}{} - {}\".format(idx+1, title[idx].text, price[idx].text, unit[idx], status[idx].text ))"
   ]
  },
  {
   "cell_type": "code",
   "execution_count": 206,
   "id": "6cc05ffb",
   "metadata": {},
   "outputs": [
    {
     "name": "stdout",
     "output_type": "stream",
     "text": [
      "미국 USD: 1,373.90원 - 하락\n",
      "일본 JPY(100엔): 952.28원 - 하락\n",
      "유럽연합 EUR: 1,555.05원 - 하락\n",
      "중국 CNY: 190.92원 - 하락\n",
      "달러/일본 엔: 144.3800엔 - 상승\n",
      "유로/달러: 1.1342달러 - 하락\n",
      "영국 파운드/달러: 1.3520달러 - 하락\n",
      "달러인덱스: 99.4200 - 상승\n",
      "WTI: 60.89달러 - 하락\n",
      "휘발유: 1633.17원 - 하락\n",
      "국제 금: 3300.4달러 - 하락\n",
      "국내 금: 146244.92원 - 상승\n"
     ]
    }
   ],
   "source": [
    "# zip 함수 이용\n",
    "for t, p, u, s in zip(title, price, unit, status) :\n",
    "    print(\"{}: {}{} - {}\".format(t.text, p.text, u, s.text))"
   ]
  },
  {
   "cell_type": "code",
   "execution_count": 208,
   "id": "55b1392f",
   "metadata": {},
   "outputs": [
    {
     "name": "stdout",
     "output_type": "stream",
     "text": [
      "1. 미국 USD: 1,373.90원 - 하락\n",
      "2. 일본 JPY(100엔): 952.28원 - 하락\n",
      "3. 유럽연합 EUR: 1,555.05원 - 하락\n",
      "4. 중국 CNY: 190.92원 - 하락\n",
      "5. 달러/일본 엔: 144.3800엔 - 상승\n",
      "6. 유로/달러: 1.1342달러 - 하락\n",
      "7. 영국 파운드/달러: 1.3520달러 - 하락\n",
      "8. 달러인덱스: 99.4200 - 상승\n",
      "9. WTI: 60.89달러 - 하락\n",
      "10. 휘발유: 1633.17원 - 하락\n",
      "11. 국제 금: 3300.4달러 - 하락\n",
      "12. 국내 금: 146244.92원 - 상승\n"
     ]
    }
   ],
   "source": [
    "for idx, (t, p, u, s) in enumerate(zip(title, price, unit, status)) :\n",
    "    print(\"{}. {}: {}{} - {}\".format(idx+1,t.text, p.text, u, s.text))"
   ]
  },
  {
   "cell_type": "markdown",
   "id": "3dad2290",
   "metadata": {},
   "source": [
    "### 2) 이번주 로또번호 출력\n",
    "\n",
    "- https://dhlottery.co.kr/gameResult.do?method=byWin&wiselog=H_C_1_1 \n",
    "\n",
    "```\n",
    "1173회(2025년 05월 24일 추첨)\n",
    "당첨번호 [1 5 18 20 30 35]\n",
    "보너스 3\n",
    "```"
   ]
  },
  {
   "cell_type": "code",
   "execution_count": 285,
   "id": "4b2352a6",
   "metadata": {},
   "outputs": [
    {
     "name": "stdout",
     "output_type": "stream",
     "text": [
      "1173회 (2025년 05월 24일 추첨)\n",
      "당첨번호 ['1', '5', '18', '20', '30', '35']\n",
      "보너스 3\n"
     ]
    }
   ],
   "source": [
    "import requests\n",
    "from bs4 import BeautifulSoup\n",
    "\n",
    "url = 'https://dhlottery.co.kr/gameResult.do?method=byWin&wiselog=H_C_1_1'\n",
    "response = requests.get(url)\n",
    "# response.status_code\n",
    "\n",
    "soup = BeautifulSoup(response.text,'html.parser')\n",
    "\n",
    "title = soup.select_one('div.win_result > h4 > strong').text\n",
    "desc = soup.select_one('div.win_result > p.desc').text\n",
    "title1 = soup.select_one('div.win_result > div.nums > div.win strong').text\n",
    "ball = soup.select('div.win_result > div.nums > div.win p > span')\n",
    "ball = [b.text for b in ball]\n",
    "\n",
    "title2 = soup.select_one('div.win_result > div.nums > div.bonus > strong').text\n",
    "bonus = soup.select_one('div.win_result > div.nums > div.bonus > p > span').text\n",
    "\n",
    "print('{} {}'.format(title, desc))\n",
    "print('{} {}'.format(title1, ball))\n",
    "print('{} {}'.format(title2, bonus))"
   ]
  },
  {
   "cell_type": "code",
   "execution_count": null,
   "id": "1b16f0fa",
   "metadata": {},
   "outputs": [
    {
     "name": "stdout",
     "output_type": "stream",
     "text": [
      "1173회 (2025년 05월 24일 추첨)\n",
      "당첨번호 [1, 5, 18, 20, 30, 35]\n",
      "보너스 3\n"
     ]
    }
   ],
   "source": [
    "import requests\n",
    "from bs4 import BeautifulSoup\n",
    "\n",
    "url = 'https://dhlottery.co.kr/gameResult.do?method=byWin&wiselog=H_C_1_1'\n",
    "response = requests.get(url)\n",
    "# response.status_code\n",
    "\n",
    "soup = BeautifulSoup(response.text,'html.parser')\n",
    "\n",
    "win_result = soup.find('div', class_='win_result')\n",
    "# print(win_result)\n",
    "\n",
    "times = win_result.find('strong').text\n",
    "\n",
    "# times\n",
    "date = soup.find('p',class_='desc').text\n",
    "\n",
    "print(times, date)\n",
    "\n",
    "num_win = soup.find('div',class_=['num','win'])\n",
    "# num_win\n",
    "\n",
    "title1 = num_win.find('strong').text\n",
    "lotto_number = num_win.find_all('span') #배열\n",
    "\n",
    "print(title1, [int(lotto.text) for lotto in lotto_number])\n",
    "\n",
    "num_bonus = soup.find('div', class_=['bonus'])\n",
    "\n",
    "# num_bonus\n",
    "title2 = num_bonus.find('strong').text\n",
    "bonus_number = num_bonus.find('span').text\n",
    "print(title2, bonus_number)\n"
   ]
  },
  {
   "cell_type": "code",
   "execution_count": 2,
   "id": "acee8674",
   "metadata": {},
   "outputs": [
    {
     "name": "stdout",
     "output_type": "stream",
     "text": [
      "1173회 (2025년 05월 24일 추첨)\n",
      "당첨번호 ['1', '5', '18', '20', '30', '35']\n",
      "보너스 3\n"
     ]
    }
   ],
   "source": [
    "from urllib.request import urlopen\n",
    "from bs4 import BeautifulSoup\n",
    "\n",
    "url = 'https://dhlottery.co.kr/gameResult.do?method=byWin&wiselog=H_C_1_1'\n",
    "response = urlopen(url)\n",
    "# response.status\n",
    "\n",
    "soup = BeautifulSoup(response,'html.parser')\n",
    "# soup\n",
    "\n",
    "title = soup.select_one('div.win_result > h4 > strong').text\n",
    "desc = soup.select_one('div.win_result > p.desc').text\n",
    "title1 = soup.select_one('div.win_result > div.nums > div.win strong').text\n",
    "ball = soup.select('div.win_result > div.nums > div.win p > span')\n",
    "ball = [b.text for b in ball]\n",
    "title2 = soup.select_one('div.win_result > div.nums > div.bonus > strong').text\n",
    "bonus = soup.select_one('div.win_result > div.nums > div.bonus > p > span').text\n",
    "\n",
    "print('{} {}'.format(title, desc))\n",
    "print('{} {}'.format(title1, ball))\n",
    "print('{} {}'.format(title2, bonus))"
   ]
  },
  {
   "cell_type": "code",
   "execution_count": 25,
   "id": "8f0f207f",
   "metadata": {},
   "outputs": [
    {
     "name": "stdout",
     "output_type": "stream",
     "text": [
      "1173회 (2025년 05월 24일 추첨)\n",
      "당첨번호 [1, 5, 18, 20, 30, 35]\n",
      "보너스 3\n"
     ]
    }
   ],
   "source": [
    "from urllib.request import urlopen\n",
    "from bs4 import BeautifulSoup\n",
    "\n",
    "url = 'https://dhlottery.co.kr/gameResult.do?method=byWin&wiselog=H_C_1_1'\n",
    "response = urlopen(url)\n",
    "soup = BeautifulSoup(response, 'html.parser')\n",
    "\n",
    "win_result = soup.find('div', class_='win_result')\n",
    "# print(win_result)\n",
    "\n",
    "times = win_result.find('strong').text\n",
    "\n",
    "# times\n",
    "date = soup.find('p',class_='desc').text\n",
    "\n",
    "print(times, date)\n",
    "\n",
    "num_win = soup.find('div',class_=['num','win'])\n",
    "# num_win\n",
    "\n",
    "title1 = num_win.find('strong').text\n",
    "lotto_number = num_win.find_all('span') #배열\n",
    "\n",
    "print(title1, [int(lotto.text) for lotto in lotto_number])\n",
    "\n",
    "num_bonus = soup.find('div', class_=['bonus'])\n",
    "\n",
    "# num_bonus\n",
    "title2 = num_bonus.find('strong').text\n",
    "bonus_number = num_bonus.find('span').text\n",
    "print(title2, bonus_number)"
   ]
  },
  {
   "cell_type": "markdown",
   "id": "97db0564",
   "metadata": {},
   "source": [
    "### 3) 다음 검색 리스트\n",
    "\n",
    "```\n",
    "no   title                                                                  link\n",
    "0    [비트코인 2025] 백악관 크립토 차르 “美 정부 비트코인 추가 매입 검토…부채 안 늘리면 가능  https://v.daum.net/v/20250528103907230\n",
    "1    [비즈 나우] 비트코인 2025 컨퍼런스 개막…'전략자산' 선언 코앞                      https://v.daum.net/v/20250528075215864 \n",
    "```"
   ]
  },
  {
   "cell_type": "code",
   "execution_count": 92,
   "id": "66f8a30e",
   "metadata": {},
   "outputs": [
    {
     "data": {
      "text/html": [
       "<div>\n",
       "<style scoped>\n",
       "    .dataframe tbody tr th:only-of-type {\n",
       "        vertical-align: middle;\n",
       "    }\n",
       "\n",
       "    .dataframe tbody tr th {\n",
       "        vertical-align: top;\n",
       "    }\n",
       "\n",
       "    .dataframe thead th {\n",
       "        text-align: right;\n",
       "    }\n",
       "</style>\n",
       "<table border=\"1\" class=\"dataframe\">\n",
       "  <thead>\n",
       "    <tr style=\"text-align: right;\">\n",
       "      <th></th>\n",
       "      <th>no</th>\n",
       "      <th>title</th>\n",
       "      <th>link</th>\n",
       "    </tr>\n",
       "  </thead>\n",
       "  <tbody>\n",
       "    <tr>\n",
       "      <th>0</th>\n",
       "      <td>0</td>\n",
       "      <td>[비트코인 2025] 백악관 크립토 차르 “美 정부 비트코인 추가 매입 검토…부채...</td>\n",
       "      <td>http://v.daum.net/v/20250528103907230</td>\n",
       "    </tr>\n",
       "    <tr>\n",
       "      <th>1</th>\n",
       "      <td>1</td>\n",
       "      <td>[비즈 나우] 비트코인 2025 컨퍼런스 개막…'전략자산' 선언 코앞</td>\n",
       "      <td>http://v.daum.net/v/20250528075215864</td>\n",
       "    </tr>\n",
       "    <tr>\n",
       "      <th>2</th>\n",
       "      <td>2</td>\n",
       "      <td>“맥O날드보다 맛없어!” 혹평이 가득한 트럼프 만찬과 비트코인 피자데이[엠블록레터]</td>\n",
       "      <td>http://v.daum.net/v/20250528143002735</td>\n",
       "    </tr>\n",
       "    <tr>\n",
       "      <th>3</th>\n",
       "      <td>3</td>\n",
       "      <td>블랙록, 자사 비트코인 ETF 보유량 25% 확대…기관 투자 본격화 신호탄</td>\n",
       "      <td>http://v.daum.net/v/20250528151802080</td>\n",
       "    </tr>\n",
       "    <tr>\n",
       "      <th>4</th>\n",
       "      <td>4</td>\n",
       "      <td>비트코인, 트럼프 미디어 비축 소식에도 주춤…1억5100만원대</td>\n",
       "      <td>http://v.daum.net/v/20250528095112897</td>\n",
       "    </tr>\n",
       "    <tr>\n",
       "      <th>5</th>\n",
       "      <td>5</td>\n",
       "      <td>'비트코인 빚투' 스트레티지, 또 샀다…보유량 58만개 돌파</td>\n",
       "      <td>http://v.daum.net/v/20250528042404292</td>\n",
       "    </tr>\n",
       "    <tr>\n",
       "      <th>6</th>\n",
       "      <td>6</td>\n",
       "      <td>美 상원의원 \"트럼프 대통령, 비트코인법 지지\"</td>\n",
       "      <td>http://v.daum.net/v/20250528090342853</td>\n",
       "    </tr>\n",
       "    <tr>\n",
       "      <th>7</th>\n",
       "      <td>7</td>\n",
       "      <td>숨 고르는 비트코인, 10만8000달러선 '주춤'</td>\n",
       "      <td>http://v.daum.net/v/20250528095921258</td>\n",
       "    </tr>\n",
       "    <tr>\n",
       "      <th>8</th>\n",
       "      <td>8</td>\n",
       "      <td>[비트코인 2025] 로빈후드 창업자 “토큰화 증권은 美 ‘자본 패권’ 키우는 수단”</td>\n",
       "      <td>http://v.daum.net/v/20250528110600761</td>\n",
       "    </tr>\n",
       "    <tr>\n",
       "      <th>9</th>\n",
       "      <td>9</td>\n",
       "      <td>트럼프미디어그룹, 25억 달러 규모 자금 조달 통해 비트코인 매입 예고</td>\n",
       "      <td>http://v.daum.net/v/20250528084245020</td>\n",
       "    </tr>\n",
       "  </tbody>\n",
       "</table>\n",
       "</div>"
      ],
      "text/plain": [
       "   no                                              title  \\\n",
       "0   0   [비트코인 2025] 백악관 크립토 차르 “美 정부 비트코인 추가 매입 검토…부채...   \n",
       "1   1            [비즈 나우] 비트코인 2025 컨퍼런스 개막…'전략자산' 선언 코앞    \n",
       "2   2    “맥O날드보다 맛없어!” 혹평이 가득한 트럼프 만찬과 비트코인 피자데이[엠블록레터]    \n",
       "3   3         블랙록, 자사 비트코인 ETF 보유량 25% 확대…기관 투자 본격화 신호탄    \n",
       "4   4                비트코인, 트럼프 미디어 비축 소식에도 주춤…1억5100만원대    \n",
       "5   5                 '비트코인 빚투' 스트레티지, 또 샀다…보유량 58만개 돌파    \n",
       "6   6                        美 상원의원 \"트럼프 대통령, 비트코인법 지지\"    \n",
       "7   7                       숨 고르는 비트코인, 10만8000달러선 '주춤'    \n",
       "8   8   [비트코인 2025] 로빈후드 창업자 “토큰화 증권은 美 ‘자본 패권’ 키우는 수단”    \n",
       "9   9           트럼프미디어그룹, 25억 달러 규모 자금 조달 통해 비트코인 매입 예고    \n",
       "\n",
       "                                    link  \n",
       "0  http://v.daum.net/v/20250528103907230  \n",
       "1  http://v.daum.net/v/20250528075215864  \n",
       "2  http://v.daum.net/v/20250528143002735  \n",
       "3  http://v.daum.net/v/20250528151802080  \n",
       "4  http://v.daum.net/v/20250528095112897  \n",
       "5  http://v.daum.net/v/20250528042404292  \n",
       "6  http://v.daum.net/v/20250528090342853  \n",
       "7  http://v.daum.net/v/20250528095921258  \n",
       "8  http://v.daum.net/v/20250528110600761  \n",
       "9  http://v.daum.net/v/20250528084245020  "
      ]
     },
     "execution_count": 92,
     "metadata": {},
     "output_type": "execute_result"
    }
   ],
   "source": [
    "# 방법1\n",
    "import requests\n",
    "import pandas as pd\n",
    "from bs4 import BeautifulSoup\n",
    "\n",
    "word = '비트코인'\n",
    "url = \"https://search.daum.net/search?w=news&nil_search=btn&DA=NTB&enc=utf8&cluster=y&cluster_page=1&q=\"+word\n",
    "\n",
    "response = requests.get(url)\n",
    "response, response.status_code\n",
    "\n",
    "soup = BeautifulSoup(response.content,'html.parser')\n",
    "\n",
    "items_find_list = [] # 검색한 결과를 담는 dict list\n",
    "\n",
    "item_el = soup.select('div.item-title > strong.tit-g.clamp-g > a')\n",
    "\n",
    "len(item_el)\n",
    "\n",
    "for idx, item in enumerate(item_el):\n",
    "    # print(idx, item.text, item.attrs['href'])\n",
    "    # print(idx, item.text, item.attrs.get('href'))\n",
    "    items_find_list.append({'no':idx, 'title':item.text, 'link':item.attrs.get('href')})\n",
    "\n",
    "pd.DataFrame(items_find_list)\n"
   ]
  },
  {
   "cell_type": "code",
   "execution_count": 95,
   "id": "9dacdfa6",
   "metadata": {},
   "outputs": [
    {
     "data": {
      "text/html": [
       "<div>\n",
       "<style scoped>\n",
       "    .dataframe tbody tr th:only-of-type {\n",
       "        vertical-align: middle;\n",
       "    }\n",
       "\n",
       "    .dataframe tbody tr th {\n",
       "        vertical-align: top;\n",
       "    }\n",
       "\n",
       "    .dataframe thead th {\n",
       "        text-align: right;\n",
       "    }\n",
       "</style>\n",
       "<table border=\"1\" class=\"dataframe\">\n",
       "  <thead>\n",
       "    <tr style=\"text-align: right;\">\n",
       "      <th></th>\n",
       "      <th>no</th>\n",
       "      <th>title</th>\n",
       "      <th>link</th>\n",
       "    </tr>\n",
       "  </thead>\n",
       "  <tbody>\n",
       "    <tr>\n",
       "      <th>0</th>\n",
       "      <td>0</td>\n",
       "      <td>[비트코인 2025] 백악관 크립토 차르 “美 정부 비트코인 추가 매입 검토…부채...</td>\n",
       "      <td>http://v.daum.net/v/20250528103907230</td>\n",
       "    </tr>\n",
       "    <tr>\n",
       "      <th>1</th>\n",
       "      <td>1</td>\n",
       "      <td>[비즈 나우] 비트코인 2025 컨퍼런스 개막…'전략자산' 선언 코앞</td>\n",
       "      <td>http://v.daum.net/v/20250528075215864</td>\n",
       "    </tr>\n",
       "    <tr>\n",
       "      <th>2</th>\n",
       "      <td>2</td>\n",
       "      <td>“맥O날드보다 맛없어!” 혹평이 가득한 트럼프 만찬과 비트코인 피자데이[엠블록레터]</td>\n",
       "      <td>http://v.daum.net/v/20250528143002735</td>\n",
       "    </tr>\n",
       "    <tr>\n",
       "      <th>3</th>\n",
       "      <td>3</td>\n",
       "      <td>블랙록, 자사 비트코인 ETF 보유량 25% 확대…기관 투자 본격화 신호탄</td>\n",
       "      <td>http://v.daum.net/v/20250528151802080</td>\n",
       "    </tr>\n",
       "    <tr>\n",
       "      <th>4</th>\n",
       "      <td>4</td>\n",
       "      <td>비트코인, 트럼프 미디어 비축 소식에도 주춤…1억5100만원대</td>\n",
       "      <td>http://v.daum.net/v/20250528095112897</td>\n",
       "    </tr>\n",
       "    <tr>\n",
       "      <th>5</th>\n",
       "      <td>5</td>\n",
       "      <td>'비트코인 빚투' 스트레티지, 또 샀다…보유량 58만개 돌파</td>\n",
       "      <td>http://v.daum.net/v/20250528042404292</td>\n",
       "    </tr>\n",
       "    <tr>\n",
       "      <th>6</th>\n",
       "      <td>6</td>\n",
       "      <td>美 상원의원 \"트럼프 대통령, 비트코인법 지지\"</td>\n",
       "      <td>http://v.daum.net/v/20250528090342853</td>\n",
       "    </tr>\n",
       "    <tr>\n",
       "      <th>7</th>\n",
       "      <td>7</td>\n",
       "      <td>숨 고르는 비트코인, 10만8000달러선 '주춤'</td>\n",
       "      <td>http://v.daum.net/v/20250528095921258</td>\n",
       "    </tr>\n",
       "    <tr>\n",
       "      <th>8</th>\n",
       "      <td>8</td>\n",
       "      <td>[비트코인 2025] 로빈후드 창업자 “토큰화 증권은 美 ‘자본 패권’ 키우는 수단”</td>\n",
       "      <td>http://v.daum.net/v/20250528110600761</td>\n",
       "    </tr>\n",
       "    <tr>\n",
       "      <th>9</th>\n",
       "      <td>9</td>\n",
       "      <td>트럼프미디어그룹, 25억 달러 규모 자금 조달 통해 비트코인 매입 예고</td>\n",
       "      <td>http://v.daum.net/v/20250528084245020</td>\n",
       "    </tr>\n",
       "  </tbody>\n",
       "</table>\n",
       "</div>"
      ],
      "text/plain": [
       "   no                                              title  \\\n",
       "0   0   [비트코인 2025] 백악관 크립토 차르 “美 정부 비트코인 추가 매입 검토…부채...   \n",
       "1   1            [비즈 나우] 비트코인 2025 컨퍼런스 개막…'전략자산' 선언 코앞    \n",
       "2   2    “맥O날드보다 맛없어!” 혹평이 가득한 트럼프 만찬과 비트코인 피자데이[엠블록레터]    \n",
       "3   3         블랙록, 자사 비트코인 ETF 보유량 25% 확대…기관 투자 본격화 신호탄    \n",
       "4   4                비트코인, 트럼프 미디어 비축 소식에도 주춤…1억5100만원대    \n",
       "5   5                 '비트코인 빚투' 스트레티지, 또 샀다…보유량 58만개 돌파    \n",
       "6   6                        美 상원의원 \"트럼프 대통령, 비트코인법 지지\"    \n",
       "7   7                       숨 고르는 비트코인, 10만8000달러선 '주춤'    \n",
       "8   8   [비트코인 2025] 로빈후드 창업자 “토큰화 증권은 美 ‘자본 패권’ 키우는 수단”    \n",
       "9   9           트럼프미디어그룹, 25억 달러 규모 자금 조달 통해 비트코인 매입 예고    \n",
       "\n",
       "                                    link  \n",
       "0  http://v.daum.net/v/20250528103907230  \n",
       "1  http://v.daum.net/v/20250528075215864  \n",
       "2  http://v.daum.net/v/20250528143002735  \n",
       "3  http://v.daum.net/v/20250528151802080  \n",
       "4  http://v.daum.net/v/20250528095112897  \n",
       "5  http://v.daum.net/v/20250528042404292  \n",
       "6  http://v.daum.net/v/20250528090342853  \n",
       "7  http://v.daum.net/v/20250528095921258  \n",
       "8  http://v.daum.net/v/20250528110600761  \n",
       "9  http://v.daum.net/v/20250528084245020  "
      ]
     },
     "execution_count": 95,
     "metadata": {},
     "output_type": "execute_result"
    }
   ],
   "source": [
    "\n",
    "import requests\n",
    "import pandas as pd\n",
    "from bs4 import BeautifulSoup\n",
    "\n",
    "word = '비트코인'\n",
    "\n",
    "url = \"https://search.daum.net/search?w=news&nil_search=btn&DA=NTB&enc=utf8&cluster=y&cluster_page=1&q=\"+word\n",
    "\n",
    "response = requests.get(url)\n",
    "response, response.status_code\n",
    "\n",
    "soup = BeautifulSoup(response.text,'html.parser')\n",
    "\n",
    "items_find_list = [] # 검색한 결과를 담는 2차원 리스트\n",
    "\n",
    "item_el = soup.select('div.item-title > strong.tit-g.clamp-g > a')\n",
    "\n",
    "for idx, item in enumerate(item_el):\n",
    "    items_find_list.append([idx, item.text, item.attrs.get('href')])\n",
    "\n",
    "pd.DataFrame(items_find_list,columns=['no','title','link'])"
   ]
  },
  {
   "cell_type": "code",
   "execution_count": null,
   "id": "d1e134bf",
   "metadata": {},
   "outputs": [
    {
     "name": "stdout",
     "output_type": "stream",
     "text": [
      "{'no': 10, 'title': ' 트럼프미디어그룹, 25억 달러 규모 자금 조달 통해 비트코인 매입 예고 ', 'link': 'http://v.daum.net/v/20250528084245020'}\n",
      "{'no': 11, 'title': ' 연일 최고가 경신하는 비트코인…투자자들 강 건너 불구경하는 이유는 ', 'link': 'http://v.daum.net/v/20250526212400275'}\n",
      "{'no': 12, 'title': ' \"비트코인 산다\"…트럼프家, 25억달러 자금 조달 추진[코인브리핑] ', 'link': 'http://v.daum.net/v/20250528111837527'}\n",
      "{'no': 13, 'title': ' [김대호 박사의 오늘의 키워드] 소비자신뢰지수·비트코인 2025·머스크 한마디·애플 괘씸죄 ', 'link': 'http://v.daum.net/v/20250528071325361'}\n",
      "{'no': 14, 'title': ' 잘 나가는 비트코인 산다는데 왜?…트럼프 미디어 주가 10% 급락 [투자360] ', 'link': 'http://v.daum.net/v/20250528074002668'}\n",
      "{'no': 15, 'title': ' \"테슬라 팔고 갈아탔어요\"…자녀계좌 보던 엄마들 \\'돌변\\' [마켓PRO] ', 'link': 'http://v.daum.net/v/20250528094602647'}\n",
      "{'no': 16, 'title': ' 스트래티지, 비트코인 4020개 추가 매입...보유량 58만개 돌파 ', 'link': 'http://v.daum.net/v/20250527081116129'}\n",
      "{'no': 17, 'title': ' 달러 스테이블코인, 국내 거래 확산…당국 외환흐름 통제력 약화 우려 ', 'link': 'http://v.daum.net/v/20250528152520516'}\n",
      "{'no': 18, 'title': ' 비트코인과 엇갈리는 이더리움·리플, 왜? ', 'link': 'http://v.daum.net/v/20250526164319028'}\n",
      "{'no': 19, 'title': ' [영상] “강세장 진입한 비트코인, 내년 2분기까지 최소 20만~30만 달러 갈 듯” ', 'link': 'http://v.daum.net/v/20250527090137566'}\n"
     ]
    }
   ],
   "source": [
    "# 다음 뉴스 검색(키워드, 원하는 페이ㅣ)\n",
    "import requests\n",
    "from bs4 import BeautifulSoup\n",
    "import pandas as pd\n",
    "import time\n",
    "\n",
    "keyword = '비트코인'\n",
    "page = 2\n",
    "\n",
    "# url = f\"https://search.daum.net/search?w=news&nil_search=btn&DA=NTB&enc=utf8&cluster=y&q={keyword}&p={page}\"\n",
    "# print(url)\n",
    "# response = requests.get(url)\n",
    "\n",
    "url = f\"https://search.daum.net/search?w=news&nil_search=btn&DA=NTB&enc=utf8&cluster=y\"\n",
    "params = {'q':keyword,'p':page}\n",
    "response = requests.get(url, params=params)\n",
    "soup = BeautifulSoup(response.text,'html.parser')\n",
    "\n",
    "items_find_list = [] # 검색한 결과를 담는 2차원 리스트\n",
    "item_el = soup.select('div.item-title > strong.tit-g.clamp-g > a')\n",
    "\n",
    "for idx, item in enumerate(item_el):\n",
    "    items_find_list.append({'no': (page-1)*10+idx, 'title':item.text, 'link':item.attrs.get('href')})\n",
    "    print({'no': (page-1)*10+idx, 'title':item.text, 'link':item.attrs.get('href')})\n",
    "    \n",
    "# pd.DataFrame(items_find_list)"
   ]
  },
  {
   "cell_type": "code",
   "execution_count": 14,
   "id": "f29a1539",
   "metadata": {},
   "outputs": [
    {
     "data": {
      "text/plain": [
       "[{'no': 20,\n",
       "  'title': ' <단독>\"예배 참석하면 코인 드려요. 5년 안에 비트코인 넘어섭니다\"..신앙심 노린 코인 유사 사기 기승 ',\n",
       "  'link': 'http://v.daum.net/v/20250528083323774'},\n",
       " {'no': 21,\n",
       "  'title': ' 트럼프미디어, 비트코인 3.4조 투자 발표에 주가 10% 폭락 ',\n",
       "  'link': 'http://v.daum.net/v/20250528080206055'},\n",
       " {'no': 22,\n",
       "  'title': ' “가상화폐=애완용 돌” 직격했던 ‘월가황제’ 돌변…美 1위 은행도 주목한 ‘이것’ [월가그루픽] ',\n",
       "  'link': 'http://v.daum.net/v/20250528153835219'},\n",
       " {'no': 23,\n",
       "  'title': ' 비트레이어, 비트코인 채굴업체와 협력...“BTC 디파이로 나아갈 것” ',\n",
       "  'link': 'http://v.daum.net/v/20250527114126672'},\n",
       " {'no': 24,\n",
       "  'title': ' 뉴욕증시 휴장에 10.9만弗선 숨고른 비트코인 [매일코인] ',\n",
       "  'link': 'http://v.daum.net/v/20250527103810840'},\n",
       " {'no': 25,\n",
       "  'title': ' 스트래티지, 비트코인 4020개 추가 매입...보유량 58만개 돌파 ',\n",
       "  'link': 'http://v.daum.net/v/20250527081116129'},\n",
       " {'no': 26,\n",
       "  'title': ' \"죽고 싶지 않으면 비트코인 비번 내놔\"···외국인 납치·고문한 \\'가상자산 왕\\' ',\n",
       "  'link': 'http://v.daum.net/v/20250528060036428'},\n",
       " {'no': 27,\n",
       "  'title': ' [영상] “강세장 진입한 비트코인, 내년 2분기까지 최소 20만~30만 달러 갈 듯” ',\n",
       "  'link': 'http://v.daum.net/v/20250527090137566'},\n",
       " {'no': 28,\n",
       "  'title': ' 美 트럼프 대통령, EU 관세 연기…비트코인, 1.67% 상승 ',\n",
       "  'link': 'http://v.daum.net/v/20250527072542319'},\n",
       " {'no': 29,\n",
       "  'title': ' \"비트코인, 해킹에 안전한 시간 20년 남아…완벽한 양자컴에 뚫려\" ',\n",
       "  'link': 'http://v.daum.net/v/20250527084812094'}]"
      ]
     },
     "execution_count": 14,
     "metadata": {},
     "output_type": "execute_result"
    }
   ],
   "source": [
    "import requests\n",
    "from bs4 import BeautifulSoup\n",
    "import pandas as pd\n",
    "import time\n",
    "\n",
    "def collect_list(keyword, page=1):\n",
    "    'keyword로 다음 검색한 결과(해당 page)를 return'\n",
    "    url = f\"https://search.daum.net/search?w=news&nil_search=btn&DA=NTB&enc=utf8&cluster=y\"\n",
    "    params = {'q':keyword,'p':page}\n",
    "    response = requests.get(url, params=params)\n",
    "    soup = BeautifulSoup(response.text,'html.parser')\n",
    "\n",
    "    items_find_list = [] # 검색한 결과를 담는 2차원 리스트\n",
    "    item_el = soup.select('div.item-title > strong.tit-g.clamp-g > a')\n",
    "\n",
    "    for idx, item in enumerate(item_el):\n",
    "        items_find_list.append({'no': (page-1)*10+idx, 'title':item.text, 'link':item.attrs.get('href')})\n",
    "\n",
    "    return items_find_list\n",
    "\n",
    "collect_list('비트코인',3)    \n",
    "    \n",
    "# pd.DataFrame(items_find_list)"
   ]
  },
  {
   "cell_type": "code",
   "execution_count": 30,
   "id": "bb7ab758",
   "metadata": {},
   "outputs": [
    {
     "data": {
      "text/html": [
       "<div>\n",
       "<style scoped>\n",
       "    .dataframe tbody tr th:only-of-type {\n",
       "        vertical-align: middle;\n",
       "    }\n",
       "\n",
       "    .dataframe tbody tr th {\n",
       "        vertical-align: top;\n",
       "    }\n",
       "\n",
       "    .dataframe thead th {\n",
       "        text-align: right;\n",
       "    }\n",
       "</style>\n",
       "<table border=\"1\" class=\"dataframe\">\n",
       "  <thead>\n",
       "    <tr style=\"text-align: right;\">\n",
       "      <th></th>\n",
       "      <th>no</th>\n",
       "      <th>title</th>\n",
       "      <th>link</th>\n",
       "    </tr>\n",
       "  </thead>\n",
       "  <tbody>\n",
       "    <tr>\n",
       "      <th>0</th>\n",
       "      <td>0</td>\n",
       "      <td>[단독]대선 투표도 거르고 ‘외유성 출장’···대구지역 노사 대표들 해외 방문 논란</td>\n",
       "      <td>http://v.daum.net/v/20250527060110255</td>\n",
       "    </tr>\n",
       "    <tr>\n",
       "      <th>1</th>\n",
       "      <td>1</td>\n",
       "      <td>[팩트체크] 세로쓰기에서 가로쓰기까지…대선 투표용지 변천사</td>\n",
       "      <td>http://v.daum.net/v/20250528065513098</td>\n",
       "    </tr>\n",
       "    <tr>\n",
       "      <th>2</th>\n",
       "      <td>2</td>\n",
       "      <td>“대선 투표 꼭…” 한국교회, 캠페인·기도회로 독려</td>\n",
       "      <td>http://v.daum.net/v/20250528030315081</td>\n",
       "    </tr>\n",
       "    <tr>\n",
       "      <th>3</th>\n",
       "      <td>3</td>\n",
       "      <td>우범기 전주시장, 대선 투표 독려 캠페인 동참</td>\n",
       "      <td>http://v.daum.net/v/20250528110014351</td>\n",
       "    </tr>\n",
       "    <tr>\n",
       "      <th>4</th>\n",
       "      <td>4</td>\n",
       "      <td>\"근로자 대선 투표 보장\"…광주상의·경총·TP, 실천 캠페인(종합)</td>\n",
       "      <td>http://v.daum.net/v/20250527173934357</td>\n",
       "    </tr>\n",
       "  </tbody>\n",
       "</table>\n",
       "</div>"
      ],
      "text/plain": [
       "   no                                             title  \\\n",
       "0   0   [단독]대선 투표도 거르고 ‘외유성 출장’···대구지역 노사 대표들 해외 방문 논란    \n",
       "1   1                 [팩트체크] 세로쓰기에서 가로쓰기까지…대선 투표용지 변천사    \n",
       "2   2                     “대선 투표 꼭…” 한국교회, 캠페인·기도회로 독려    \n",
       "3   3                        우범기 전주시장, 대선 투표 독려 캠페인 동참    \n",
       "4   4            \"근로자 대선 투표 보장\"…광주상의·경총·TP, 실천 캠페인(종합)    \n",
       "\n",
       "                                    link  \n",
       "0  http://v.daum.net/v/20250527060110255  \n",
       "1  http://v.daum.net/v/20250528065513098  \n",
       "2  http://v.daum.net/v/20250528030315081  \n",
       "3  http://v.daum.net/v/20250528110014351  \n",
       "4  http://v.daum.net/v/20250527173934357  "
      ]
     },
     "execution_count": 30,
     "metadata": {},
     "output_type": "execute_result"
    }
   ],
   "source": [
    "# 원하는 keyword 다음검색\n",
    "\n",
    "import requests\n",
    "from bs4 import BeautifulSoup\n",
    "import pandas as pd\n",
    "import time\n",
    "\n",
    "result = []\n",
    "keyword = \"청바지\"\n",
    "pages = 3\n",
    "\n",
    "for page in range(1, pages+1):\n",
    "    result.extend(collect_list(keyword, page))\n",
    "    time.sleep(3)\n",
    "    \n",
    "result_pd = pd.DataFrame(result)\n",
    "result_pd\n",
    "result_pd.head()"
   ]
  },
  {
   "cell_type": "code",
   "execution_count": 34,
   "id": "6ffe0b80",
   "metadata": {},
   "outputs": [
    {
     "name": "stdout",
     "output_type": "stream",
     "text": [
      "~~~0번째 청바지 5 검색 중입니다.~~~\n",
      "0 청바지 1\n",
      "0 청바지 2\n",
      "0 청바지 3\n",
      "0 청바지 4\n",
      "0 청바지 5\n",
      "~~~1번째 면바지 5 검색 중입니다.~~~\n",
      "1 면바지 1\n",
      "1 면바지 2\n",
      "1 면바지 3\n",
      "1 면바지 4\n",
      "1 면바지 5\n"
     ]
    }
   ],
   "source": [
    "keywords = ['청바지','면바지']\n",
    "pages = 5\n",
    "result0 = [] # 청바지 검색결과 50개\n",
    "result1 = [] # 면바지 검색결과 50개\n",
    "\n",
    "for i, keyword in enumerate(keywords):\n",
    "    print(f'~~~{i}번째 {keyword} {page} 검색 중입니다.~~~')\n",
    "    for page in range(1, pages+1):\n",
    "        print(i, keyword, page)\n",
    "        if i == 0:\n",
    "            result0.extend(collect_list(keyword, page))\n",
    "        else :\n",
    "            result1.extend(collect_list(keyword, page))\n",
    "        time.sleep(3)"
   ]
  },
  {
   "cell_type": "code",
   "execution_count": 35,
   "id": "4faf51b5",
   "metadata": {},
   "outputs": [
    {
     "data": {
      "text/html": [
       "<div>\n",
       "<style scoped>\n",
       "    .dataframe tbody tr th:only-of-type {\n",
       "        vertical-align: middle;\n",
       "    }\n",
       "\n",
       "    .dataframe tbody tr th {\n",
       "        vertical-align: top;\n",
       "    }\n",
       "\n",
       "    .dataframe thead th {\n",
       "        text-align: right;\n",
       "    }\n",
       "</style>\n",
       "<table border=\"1\" class=\"dataframe\">\n",
       "  <thead>\n",
       "    <tr style=\"text-align: right;\">\n",
       "      <th></th>\n",
       "      <th>no</th>\n",
       "      <th>title</th>\n",
       "      <th>link</th>\n",
       "    </tr>\n",
       "  </thead>\n",
       "  <tbody>\n",
       "    <tr>\n",
       "      <th>0</th>\n",
       "      <td>30</td>\n",
       "      <td>아이브 가을 ‘청바지핏 뽐내는 시구’ [MK포토]</td>\n",
       "      <td>http://v.daum.net/v/20250527184503588</td>\n",
       "    </tr>\n",
       "    <tr>\n",
       "      <th>1</th>\n",
       "      <td>31</td>\n",
       "      <td>'윤남기♥' 이다은, 다이어트 21kg 감량 효과 있네···완벽한 청바지 자태</td>\n",
       "      <td>http://v.daum.net/v/20250427195408997</td>\n",
       "    </tr>\n",
       "    <tr>\n",
       "      <th>2</th>\n",
       "      <td>32</td>\n",
       "      <td>손담비, 출산 25일 만에 외출…붓기 없이 청바지 ‘완벽핏’ [MD★스타]</td>\n",
       "      <td>http://v.daum.net/v/20250506155104793</td>\n",
       "    </tr>\n",
       "    <tr>\n",
       "      <th>3</th>\n",
       "      <td>33</td>\n",
       "      <td>하이키 옐, ‘톡식’ 커버 영상 화제…흰 티+청바지로도 ‘핫해’</td>\n",
       "      <td>http://v.daum.net/v/20250430145626938</td>\n",
       "    </tr>\n",
       "    <tr>\n",
       "      <th>4</th>\n",
       "      <td>34</td>\n",
       "      <td>효민, 신행 다녀와서 ♥S대 금융맨家 찾았나? 흰티+청바지 청순룩 컴백</td>\n",
       "      <td>http://v.daum.net/v/20250430135410662</td>\n",
       "    </tr>\n",
       "  </tbody>\n",
       "</table>\n",
       "</div>"
      ],
      "text/plain": [
       "   no                                          title  \\\n",
       "0  30                   아이브 가을 ‘청바지핏 뽐내는 시구’ [MK포토]    \n",
       "1  31   '윤남기♥' 이다은, 다이어트 21kg 감량 효과 있네···완벽한 청바지 자태    \n",
       "2  32     손담비, 출산 25일 만에 외출…붓기 없이 청바지 ‘완벽핏’ [MD★스타]    \n",
       "3  33           하이키 옐, ‘톡식’ 커버 영상 화제…흰 티+청바지로도 ‘핫해’    \n",
       "4  34       효민, 신행 다녀와서 ♥S대 금융맨家 찾았나? 흰티+청바지 청순룩 컴백    \n",
       "\n",
       "                                    link  \n",
       "0  http://v.daum.net/v/20250527184503588  \n",
       "1  http://v.daum.net/v/20250427195408997  \n",
       "2  http://v.daum.net/v/20250506155104793  \n",
       "3  http://v.daum.net/v/20250430145626938  \n",
       "4  http://v.daum.net/v/20250430135410662  "
      ]
     },
     "execution_count": 35,
     "metadata": {},
     "output_type": "execute_result"
    }
   ],
   "source": [
    "result0_df = pd.DataFrame(result0)\n",
    "result0_df.head()"
   ]
  },
  {
   "cell_type": "code",
   "execution_count": 37,
   "id": "eafc53ef",
   "metadata": {},
   "outputs": [
    {
     "data": {
      "text/html": [
       "<div>\n",
       "<style scoped>\n",
       "    .dataframe tbody tr th:only-of-type {\n",
       "        vertical-align: middle;\n",
       "    }\n",
       "\n",
       "    .dataframe tbody tr th {\n",
       "        vertical-align: top;\n",
       "    }\n",
       "\n",
       "    .dataframe thead th {\n",
       "        text-align: right;\n",
       "    }\n",
       "</style>\n",
       "<table border=\"1\" class=\"dataframe\">\n",
       "  <thead>\n",
       "    <tr style=\"text-align: right;\">\n",
       "      <th></th>\n",
       "      <th>no</th>\n",
       "      <th>title</th>\n",
       "      <th>link</th>\n",
       "    </tr>\n",
       "  </thead>\n",
       "  <tbody>\n",
       "    <tr>\n",
       "      <th>0</th>\n",
       "      <td>0</td>\n",
       "      <td>사천에서 쾌청한 날씨 속 탁 트인 남해 풍경 즐겨요!</td>\n",
       "      <td>http://v.daum.net/v/20250528104429529</td>\n",
       "    </tr>\n",
       "    <tr>\n",
       "      <th>1</th>\n",
       "      <td>1</td>\n",
       "      <td>윤승아, ♥김무열 쏙 빼닮은 깜찍 子 하객룩 공개‥벌써 우월한 유전자</td>\n",
       "      <td>http://v.daum.net/v/20250526145941690</td>\n",
       "    </tr>\n",
       "    <tr>\n",
       "      <th>2</th>\n",
       "      <td>2</td>\n",
       "      <td>이번 주 포천 여행,반팔 하나로 충분할까?</td>\n",
       "      <td>http://v.daum.net/v/20250527171732518</td>\n",
       "    </tr>\n",
       "    <tr>\n",
       "      <th>3</th>\n",
       "      <td>3</td>\n",
       "      <td>이재명, 첫 대학 방문…이준석 겨냥?</td>\n",
       "      <td>http://v.daum.net/v/20250526191942751</td>\n",
       "    </tr>\n",
       "    <tr>\n",
       "      <th>4</th>\n",
       "      <td>4</td>\n",
       "      <td>\"나는 젊어\" 팔소매 접은 이준석의 '흰셔츠' 속에도 뼈가 담겼다[21대 대선 리...</td>\n",
       "      <td>http://v.daum.net/v/20250525070013619</td>\n",
       "    </tr>\n",
       "  </tbody>\n",
       "</table>\n",
       "</div>"
      ],
      "text/plain": [
       "   no                                              title  \\\n",
       "0   0                     사천에서 쾌청한 날씨 속 탁 트인 남해 풍경 즐겨요!    \n",
       "1   1            윤승아, ♥김무열 쏙 빼닮은 깜찍 子 하객룩 공개‥벌써 우월한 유전자    \n",
       "2   2                           이번 주 포천 여행,반팔 하나로 충분할까?    \n",
       "3   3                              이재명, 첫 대학 방문…이준석 겨냥?    \n",
       "4   4   \"나는 젊어\" 팔소매 접은 이준석의 '흰셔츠' 속에도 뼈가 담겼다[21대 대선 리...   \n",
       "\n",
       "                                    link  \n",
       "0  http://v.daum.net/v/20250528104429529  \n",
       "1  http://v.daum.net/v/20250526145941690  \n",
       "2  http://v.daum.net/v/20250527171732518  \n",
       "3  http://v.daum.net/v/20250526191942751  \n",
       "4  http://v.daum.net/v/20250525070013619  "
      ]
     },
     "execution_count": 37,
     "metadata": {},
     "output_type": "execute_result"
    }
   ],
   "source": [
    "result1_df = pd.DataFrame(result1)\n",
    "result1_df.head()"
   ]
  },
  {
   "cell_type": "code",
   "execution_count": 48,
   "id": "e5604a16",
   "metadata": {},
   "outputs": [],
   "source": [
    "result0_df.to_csv('data/ch14_'+keywords[0]+'.csv', index=False, encoding='cp949')\n",
    "result1_df.to_csv('data/ch14_'+keywords[1]+'.csv', index=False) # utf-8"
   ]
  },
  {
   "cell_type": "markdown",
   "id": "d0b5eec8",
   "metadata": {},
   "source": [
    "### 4) user-agent 를 추가하여 크롤링\n",
    "\n",
    "- urlopen() 함수를 사용하면 크롤링이 안 되는 사이트\n",
    "- User-agent 를 추가하여 크롤링 ex) Mozilla/5.0 (Macintosh; Intel Mac OS X 10_15_7) AppleWebKit/537.36 (KHTML, like Gecko) Chrome/137.0.0.0 Safari/537.36"
   ]
  },
  {
   "cell_type": "code",
   "execution_count": 46,
   "id": "ac9c8db4",
   "metadata": {},
   "outputs": [
    {
     "data": {
      "text/plain": [
       "[{'no': 20,\n",
       "  'title': ' 백종원 빽다방, 내달 12일까지 음료 할인…비용 본사가 부담 ',\n",
       "  'link': 'http://v.daum.net/v/20250527082714508'},\n",
       " {'no': 21,\n",
       "  'title': ' K푸드 수출, 이젠 소스다…불닭 넘는 다음 한 수는 ',\n",
       "  'link': 'http://v.daum.net/v/20250528140952873'},\n",
       " {'no': 22,\n",
       "  'title': ' 쏟아지는 악재 악재...매출 45% 급감 끝없는 ‘백종원 리스크’ ',\n",
       "  'link': 'http://v.daum.net/v/20250526113905209'},\n",
       " {'no': 23,\n",
       "  'title': ' \"백종원 대놓고 사기 쳐\" 연이은 악재에 또...가맹점 매출 \\'급감\\' [지금이뉴스] ',\n",
       "  'link': 'http://v.daum.net/v/20250526111905124'},\n",
       " {'no': 24,\n",
       "  'title': ' 백종원 빽다방, 릴레이 할인 진행…\"가맹점 부담 NO\" ',\n",
       "  'link': 'http://v.daum.net/v/20250527081520232'},\n",
       " {'no': 25,\n",
       "  'title': ' 빽다방, 할인 행사…\"본사가 비용 전액 부담해 가맹점 매출 증대\" ',\n",
       "  'link': 'http://v.daum.net/v/20250527090303655'},\n",
       " {'no': 26,\n",
       "  'title': ' 빽다방, 아메리카노 500원에 판다…할인 프로모션 내달 12일까지 ',\n",
       "  'link': 'http://v.daum.net/v/20250527185546889'},\n",
       " {'no': 27,\n",
       "  'title': \" 백종원 리스크에 가맹점주들 '직격타'…매출 20% 급감 \",\n",
       "  'link': 'http://v.daum.net/v/20250526090415260'},\n",
       " {'no': 28,\n",
       "  'title': ' \"아아 500원, 라떼 1000원\" 빽다방 릴레이 할인 ',\n",
       "  'link': 'http://v.daum.net/v/20250527160152665'},\n",
       " {'no': 29,\n",
       "  'title': ' 빽다방 \"아메리카노 500원\" 파격행사…비용은 본사 부담 ',\n",
       "  'link': 'http://v.daum.net/v/20250527115751260'}]"
      ]
     },
     "execution_count": 46,
     "metadata": {},
     "output_type": "execute_result"
    }
   ],
   "source": [
    "# 방법2\n",
    "from urllib.request import urlopen, Request\n",
    "import urllib.parse\n",
    "import pandas as pd\n",
    "from bs4 import BeautifulSoup\n",
    "\n",
    "word = '비트코인'\n",
    "word = urllib.parse.quote(word)\n",
    "\n",
    "url = \"https://search.daum.net/search?w=news&nil_search=btn&DA=PGD&enc=utf8&cluster=y&cluster_page=1&q=\"+word+\"&p=2\"\n",
    "# print(url)\n",
    "\n",
    "# User-Agent 를 추가하여, 브라우저처험 보이게 포장\n",
    "headers = {'user-agent':'Mozilla/5.0 (Macintosh; Intel Mac OS X 10_15_7) AppleWebKit/537.36 (KHTML, like Gecko) Chrome/137.0.0.0 Safari/537.36'}\n",
    "\n",
    "request = Request(url, headers=headers)\n",
    "response = urlopen(request)\n",
    "response.status\n",
    "\n",
    "soup = BeautifulSoup(response.read(),'html.parser')\n",
    "\n",
    "def collect_list(keyword, page=1):\n",
    "    'keyword로 다음 검색한 결과(해당 page)를 return'\n",
    "    url = f\"https://search.daum.net/search?w=news&nil_search=btn&DA=NTB&enc=utf8&cluster=y\"\n",
    "    params = {'q':keyword,'p':page}\n",
    "    response = requests.get(url, params=params)\n",
    "    soup = BeautifulSoup(response.text,'html.parser')\n",
    "\n",
    "    items_find_list = [] # 검색한 결과를 담는 2차원 리스트\n",
    "    item_el = soup.select('div.item-title > strong.tit-g.clamp-g > a')\n",
    "\n",
    "    for idx, item in enumerate(item_el):\n",
    "        items_find_list.append({'no': (page-1)*10+idx, 'title':item.text, 'link':item.attrs.get('href')})\n",
    "\n",
    "    return items_find_list\n",
    "\n",
    "\n",
    "collect_list('백종원',3)"
   ]
  },
  {
   "cell_type": "markdown",
   "id": "88d97a63",
   "metadata": {},
   "source": [
    "- ★ 꼭 User-Agent를 사용하여햐 하는 경우 : https://www.melon.com/chart/index.htm"
   ]
  },
  {
   "cell_type": "code",
   "execution_count": 51,
   "id": "8167c34c",
   "metadata": {},
   "outputs": [
    {
     "data": {
      "text/plain": [
       "406"
      ]
     },
     "execution_count": 51,
     "metadata": {},
     "output_type": "execute_result"
    }
   ],
   "source": [
    "# 방법1\n",
    "import requests\n",
    "from bs4 import BeautifulSoup\n",
    "\n",
    "url = \"https://www.melon.com/chart/index.htm\"\n",
    "\n",
    "melon_page = requests.get(url)\n",
    "melon_page.status_code # 406 페이지가 막혀있는 코드"
   ]
  },
  {
   "cell_type": "code",
   "execution_count": 57,
   "id": "c3afb18a",
   "metadata": {},
   "outputs": [
    {
     "ename": "HTTPError",
     "evalue": "HTTP Error 406: Not Acceptable",
     "output_type": "error",
     "traceback": [
      "\u001b[0;31m---------------------------------------------------------------------------\u001b[0m",
      "\u001b[0;31mHTTPError\u001b[0m                                 Traceback (most recent call last)",
      "Cell \u001b[0;32mIn[57], line 4\u001b[0m\n\u001b[1;32m      1\u001b[0m \u001b[38;5;28;01mfrom\u001b[39;00m \u001b[38;5;21;01murllib\u001b[39;00m\u001b[38;5;21;01m.\u001b[39;00m\u001b[38;5;21;01mrequest\u001b[39;00m \u001b[38;5;28;01mimport\u001b[39;00m urlopen\n\u001b[1;32m      2\u001b[0m url \u001b[38;5;241m=\u001b[39m \u001b[38;5;124m\"\u001b[39m\u001b[38;5;124mhttps://www.melon.com/chart/index.htm\u001b[39m\u001b[38;5;124m\"\u001b[39m\n\u001b[0;32m----> 4\u001b[0m melon_page \u001b[38;5;241m=\u001b[39m \u001b[43murlopen\u001b[49m\u001b[43m(\u001b[49m\u001b[43murl\u001b[49m\u001b[43m)\u001b[49m\n\u001b[1;32m      5\u001b[0m melon_page\n",
      "File \u001b[0;32m~/anaconda3/lib/python3.10/urllib/request.py:216\u001b[0m, in \u001b[0;36murlopen\u001b[0;34m(url, data, timeout, cafile, capath, cadefault, context)\u001b[0m\n\u001b[1;32m    214\u001b[0m \u001b[38;5;28;01melse\u001b[39;00m:\n\u001b[1;32m    215\u001b[0m     opener \u001b[38;5;241m=\u001b[39m _opener\n\u001b[0;32m--> 216\u001b[0m \u001b[38;5;28;01mreturn\u001b[39;00m \u001b[43mopener\u001b[49m\u001b[38;5;241;43m.\u001b[39;49m\u001b[43mopen\u001b[49m\u001b[43m(\u001b[49m\u001b[43murl\u001b[49m\u001b[43m,\u001b[49m\u001b[43m \u001b[49m\u001b[43mdata\u001b[49m\u001b[43m,\u001b[49m\u001b[43m \u001b[49m\u001b[43mtimeout\u001b[49m\u001b[43m)\u001b[49m\n",
      "File \u001b[0;32m~/anaconda3/lib/python3.10/urllib/request.py:525\u001b[0m, in \u001b[0;36mOpenerDirector.open\u001b[0;34m(self, fullurl, data, timeout)\u001b[0m\n\u001b[1;32m    523\u001b[0m \u001b[38;5;28;01mfor\u001b[39;00m processor \u001b[38;5;129;01min\u001b[39;00m \u001b[38;5;28mself\u001b[39m\u001b[38;5;241m.\u001b[39mprocess_response\u001b[38;5;241m.\u001b[39mget(protocol, []):\n\u001b[1;32m    524\u001b[0m     meth \u001b[38;5;241m=\u001b[39m \u001b[38;5;28mgetattr\u001b[39m(processor, meth_name)\n\u001b[0;32m--> 525\u001b[0m     response \u001b[38;5;241m=\u001b[39m \u001b[43mmeth\u001b[49m\u001b[43m(\u001b[49m\u001b[43mreq\u001b[49m\u001b[43m,\u001b[49m\u001b[43m \u001b[49m\u001b[43mresponse\u001b[49m\u001b[43m)\u001b[49m\n\u001b[1;32m    527\u001b[0m \u001b[38;5;28;01mreturn\u001b[39;00m response\n",
      "File \u001b[0;32m~/anaconda3/lib/python3.10/urllib/request.py:634\u001b[0m, in \u001b[0;36mHTTPErrorProcessor.http_response\u001b[0;34m(self, request, response)\u001b[0m\n\u001b[1;32m    631\u001b[0m \u001b[38;5;66;03m# According to RFC 2616, \"2xx\" code indicates that the client's\u001b[39;00m\n\u001b[1;32m    632\u001b[0m \u001b[38;5;66;03m# request was successfully received, understood, and accepted.\u001b[39;00m\n\u001b[1;32m    633\u001b[0m \u001b[38;5;28;01mif\u001b[39;00m \u001b[38;5;129;01mnot\u001b[39;00m (\u001b[38;5;241m200\u001b[39m \u001b[38;5;241m<\u001b[39m\u001b[38;5;241m=\u001b[39m code \u001b[38;5;241m<\u001b[39m \u001b[38;5;241m300\u001b[39m):\n\u001b[0;32m--> 634\u001b[0m     response \u001b[38;5;241m=\u001b[39m \u001b[38;5;28;43mself\u001b[39;49m\u001b[38;5;241;43m.\u001b[39;49m\u001b[43mparent\u001b[49m\u001b[38;5;241;43m.\u001b[39;49m\u001b[43merror\u001b[49m\u001b[43m(\u001b[49m\n\u001b[1;32m    635\u001b[0m \u001b[43m        \u001b[49m\u001b[38;5;124;43m'\u001b[39;49m\u001b[38;5;124;43mhttp\u001b[39;49m\u001b[38;5;124;43m'\u001b[39;49m\u001b[43m,\u001b[49m\u001b[43m \u001b[49m\u001b[43mrequest\u001b[49m\u001b[43m,\u001b[49m\u001b[43m \u001b[49m\u001b[43mresponse\u001b[49m\u001b[43m,\u001b[49m\u001b[43m \u001b[49m\u001b[43mcode\u001b[49m\u001b[43m,\u001b[49m\u001b[43m \u001b[49m\u001b[43mmsg\u001b[49m\u001b[43m,\u001b[49m\u001b[43m \u001b[49m\u001b[43mhdrs\u001b[49m\u001b[43m)\u001b[49m\n\u001b[1;32m    637\u001b[0m \u001b[38;5;28;01mreturn\u001b[39;00m response\n",
      "File \u001b[0;32m~/anaconda3/lib/python3.10/urllib/request.py:563\u001b[0m, in \u001b[0;36mOpenerDirector.error\u001b[0;34m(self, proto, *args)\u001b[0m\n\u001b[1;32m    561\u001b[0m \u001b[38;5;28;01mif\u001b[39;00m http_err:\n\u001b[1;32m    562\u001b[0m     args \u001b[38;5;241m=\u001b[39m (\u001b[38;5;28mdict\u001b[39m, \u001b[38;5;124m'\u001b[39m\u001b[38;5;124mdefault\u001b[39m\u001b[38;5;124m'\u001b[39m, \u001b[38;5;124m'\u001b[39m\u001b[38;5;124mhttp_error_default\u001b[39m\u001b[38;5;124m'\u001b[39m) \u001b[38;5;241m+\u001b[39m orig_args\n\u001b[0;32m--> 563\u001b[0m     \u001b[38;5;28;01mreturn\u001b[39;00m \u001b[38;5;28;43mself\u001b[39;49m\u001b[38;5;241;43m.\u001b[39;49m\u001b[43m_call_chain\u001b[49m\u001b[43m(\u001b[49m\u001b[38;5;241;43m*\u001b[39;49m\u001b[43margs\u001b[49m\u001b[43m)\u001b[49m\n",
      "File \u001b[0;32m~/anaconda3/lib/python3.10/urllib/request.py:496\u001b[0m, in \u001b[0;36mOpenerDirector._call_chain\u001b[0;34m(self, chain, kind, meth_name, *args)\u001b[0m\n\u001b[1;32m    494\u001b[0m \u001b[38;5;28;01mfor\u001b[39;00m handler \u001b[38;5;129;01min\u001b[39;00m handlers:\n\u001b[1;32m    495\u001b[0m     func \u001b[38;5;241m=\u001b[39m \u001b[38;5;28mgetattr\u001b[39m(handler, meth_name)\n\u001b[0;32m--> 496\u001b[0m     result \u001b[38;5;241m=\u001b[39m \u001b[43mfunc\u001b[49m\u001b[43m(\u001b[49m\u001b[38;5;241;43m*\u001b[39;49m\u001b[43margs\u001b[49m\u001b[43m)\u001b[49m\n\u001b[1;32m    497\u001b[0m     \u001b[38;5;28;01mif\u001b[39;00m result \u001b[38;5;129;01mis\u001b[39;00m \u001b[38;5;129;01mnot\u001b[39;00m \u001b[38;5;28;01mNone\u001b[39;00m:\n\u001b[1;32m    498\u001b[0m         \u001b[38;5;28;01mreturn\u001b[39;00m result\n",
      "File \u001b[0;32m~/anaconda3/lib/python3.10/urllib/request.py:643\u001b[0m, in \u001b[0;36mHTTPDefaultErrorHandler.http_error_default\u001b[0;34m(self, req, fp, code, msg, hdrs)\u001b[0m\n\u001b[1;32m    642\u001b[0m \u001b[38;5;28;01mdef\u001b[39;00m \u001b[38;5;21mhttp_error_default\u001b[39m(\u001b[38;5;28mself\u001b[39m, req, fp, code, msg, hdrs):\n\u001b[0;32m--> 643\u001b[0m     \u001b[38;5;28;01mraise\u001b[39;00m HTTPError(req\u001b[38;5;241m.\u001b[39mfull_url, code, msg, hdrs, fp)\n",
      "\u001b[0;31mHTTPError\u001b[0m: HTTP Error 406: Not Acceptable"
     ]
    }
   ],
   "source": [
    "# 방법2\n",
    "from urllib.request import urlopen\n",
    "url = \"https://www.melon.com/chart/index.htm\"\n",
    "\n",
    "melon_page = urlopen(url) # 에러남\n",
    "melon_page"
   ]
  },
  {
   "cell_type": "code",
   "execution_count": 98,
   "id": "9942c6ba",
   "metadata": {},
   "outputs": [],
   "source": [
    "# user-agent 추가\n",
    "import requests\n",
    "from urllib.request import urlopen, Request\n",
    "from bs4 import BeautifulSoup\n",
    "import pandas as pd\n",
    "import time\n",
    "url = \"https://www.melon.com/chart/index.htm\"\n",
    "headers = {\"user-agent\":\"Mozilla/5.0 (Macintosh; Intel Mac OS X 10_15_7) AppleWebKit/537.36 (KHTML, like Gecko) Chrome/137.0.0.0 Safari/537.36\"}\n",
    "\n",
    "# 방법2\n",
    "# request = Request(url, headers=headers)\n",
    "# melon_page = urlopen(request)\n",
    "# melon_page.status\n",
    "\n",
    "# soup = BeautifulSoup(melon_page,'html.parser')\n",
    "\n",
    "# 방법1\n",
    "melon_page = requests.get(url, headers=headers)\n",
    "melon_page.status_code\n",
    "\n",
    "soup = BeautifulSoup(melon_page.text,'html.parser')\n",
    "# soup\n"
   ]
  },
  {
   "cell_type": "code",
   "execution_count": 110,
   "id": "323da98f",
   "metadata": {},
   "outputs": [
    {
     "data": {
      "text/html": [
       "<div>\n",
       "<style scoped>\n",
       "    .dataframe tbody tr th:only-of-type {\n",
       "        vertical-align: middle;\n",
       "    }\n",
       "\n",
       "    .dataframe tbody tr th {\n",
       "        vertical-align: top;\n",
       "    }\n",
       "\n",
       "    .dataframe thead th {\n",
       "        text-align: right;\n",
       "    }\n",
       "</style>\n",
       "<table border=\"1\" class=\"dataframe\">\n",
       "  <thead>\n",
       "    <tr style=\"text-align: right;\">\n",
       "      <th></th>\n",
       "      <th>멜론순위</th>\n",
       "      <th>노래제목</th>\n",
       "      <th>가수</th>\n",
       "    </tr>\n",
       "  </thead>\n",
       "  <tbody>\n",
       "    <tr>\n",
       "      <th>0</th>\n",
       "      <td>1</td>\n",
       "      <td>너에게 닿기를</td>\n",
       "      <td>10CM</td>\n",
       "    </tr>\n",
       "    <tr>\n",
       "      <th>1</th>\n",
       "      <td>2</td>\n",
       "      <td>Never Ending Story</td>\n",
       "      <td>아이유</td>\n",
       "    </tr>\n",
       "    <tr>\n",
       "      <th>2</th>\n",
       "      <td>3</td>\n",
       "      <td>Drowning</td>\n",
       "      <td>WOODZ</td>\n",
       "    </tr>\n",
       "    <tr>\n",
       "      <th>3</th>\n",
       "      <td>4</td>\n",
       "      <td>like JENNIE</td>\n",
       "      <td>제니 (JENNIE)</td>\n",
       "    </tr>\n",
       "    <tr>\n",
       "      <th>4</th>\n",
       "      <td>5</td>\n",
       "      <td>모르시나요(PROD.로코베리)</td>\n",
       "      <td>조째즈</td>\n",
       "    </tr>\n",
       "    <tr>\n",
       "      <th>5</th>\n",
       "      <td>6</td>\n",
       "      <td>THUNDER</td>\n",
       "      <td>세븐틴 (SEVENTEEN)</td>\n",
       "    </tr>\n",
       "    <tr>\n",
       "      <th>6</th>\n",
       "      <td>7</td>\n",
       "      <td>TOO BAD (feat. Anderson .Paak)</td>\n",
       "      <td>G-DRAGON</td>\n",
       "    </tr>\n",
       "    <tr>\n",
       "      <th>7</th>\n",
       "      <td>8</td>\n",
       "      <td>네모의 꿈</td>\n",
       "      <td>아이유</td>\n",
       "    </tr>\n",
       "    <tr>\n",
       "      <th>8</th>\n",
       "      <td>9</td>\n",
       "      <td>Whiplash</td>\n",
       "      <td>aespa</td>\n",
       "    </tr>\n",
       "    <tr>\n",
       "      <th>9</th>\n",
       "      <td>10</td>\n",
       "      <td>HOME SWEET HOME (feat. 태양, 대성)</td>\n",
       "      <td>G-DRAGON</td>\n",
       "    </tr>\n",
       "    <tr>\n",
       "      <th>10</th>\n",
       "      <td>11</td>\n",
       "      <td>나는 반딧불</td>\n",
       "      <td>황가람</td>\n",
       "    </tr>\n",
       "    <tr>\n",
       "      <th>11</th>\n",
       "      <td>12</td>\n",
       "      <td>어제보다 슬픈 오늘</td>\n",
       "      <td>우디 (Woody)</td>\n",
       "    </tr>\n",
       "    <tr>\n",
       "      <th>12</th>\n",
       "      <td>13</td>\n",
       "      <td>오늘만 I LOVE YOU</td>\n",
       "      <td>BOYNEXTDOOR</td>\n",
       "    </tr>\n",
       "    <tr>\n",
       "      <th>13</th>\n",
       "      <td>14</td>\n",
       "      <td>REBEL HEART</td>\n",
       "      <td>IVE (아이브)</td>\n",
       "    </tr>\n",
       "    <tr>\n",
       "      <th>14</th>\n",
       "      <td>15</td>\n",
       "      <td>HAPPY</td>\n",
       "      <td>DAY6 (데이식스)</td>\n",
       "    </tr>\n",
       "    <tr>\n",
       "      <th>15</th>\n",
       "      <td>16</td>\n",
       "      <td>빨간 운동화</td>\n",
       "      <td>아이유</td>\n",
       "    </tr>\n",
       "    <tr>\n",
       "      <th>16</th>\n",
       "      <td>17</td>\n",
       "      <td>Flower</td>\n",
       "      <td>오반(OVAN)</td>\n",
       "    </tr>\n",
       "    <tr>\n",
       "      <th>17</th>\n",
       "      <td>18</td>\n",
       "      <td>APT.</td>\n",
       "      <td>로제 (ROSÉ), Bruno Mars</td>\n",
       "    </tr>\n",
       "  </tbody>\n",
       "</table>\n",
       "</div>"
      ],
      "text/plain": [
       "    멜론순위                            노래제목                     가수\n",
       "0      1                         너에게 닿기를                   10CM\n",
       "1      2              Never Ending Story                    아이유\n",
       "2      3                        Drowning                  WOODZ\n",
       "3      4                     like JENNIE            제니 (JENNIE)\n",
       "4      5                모르시나요(PROD.로코베리)                    조째즈\n",
       "5      6                         THUNDER        세븐틴 (SEVENTEEN)\n",
       "6      7  TOO BAD (feat. Anderson .Paak)               G-DRAGON\n",
       "7      8                           네모의 꿈                    아이유\n",
       "8      9                        Whiplash                  aespa\n",
       "9     10  HOME SWEET HOME (feat. 태양, 대성)               G-DRAGON\n",
       "10    11                          나는 반딧불                    황가람\n",
       "11    12                      어제보다 슬픈 오늘             우디 (Woody)\n",
       "12    13                  오늘만 I LOVE YOU            BOYNEXTDOOR\n",
       "13    14                     REBEL HEART              IVE (아이브)\n",
       "14    15                           HAPPY            DAY6 (데이식스)\n",
       "15    16                          빨간 운동화                    아이유\n",
       "16    17                          Flower               오반(OVAN)\n",
       "17    18                            APT.  로제 (ROSÉ), Bruno Mars"
      ]
     },
     "execution_count": 110,
     "metadata": {},
     "output_type": "execute_result"
    }
   ],
   "source": [
    "# 멜론 순위  노래제목,       가수  \n",
    "# 1위        너에게 달기를   10cm  \n",
    "\n",
    "title = soup.select('table div.ellipsis > span:nth-child(1) > a')\n",
    "\n",
    "# [t.text.strip() for t in title]\n",
    "\n",
    "writer = soup.select('table div.ellipsis > span.checkEllipsis')\n",
    "# [w.text for w in write]\n",
    "\n",
    "\n",
    "result = []\n",
    "\n",
    "# for idx, t in enumerate(title):\n",
    "#     print(f'{idx}')\n",
    "#     result.append({'멜론순위': idx+1,\"노래제목\":title[idx].text, \"가수\":writer[idx].text})\n",
    "# #     time.sleep(1)\n",
    "\n",
    "for idx, (t, w) in enumerate(zip(title, writer)):\n",
    "    result.append({\n",
    "        '멜론순위':idx+1, \"노래제목\":t.text, \"가수\":w.text\n",
    "    })\n",
    "# result\n",
    "melongData = pd.DataFrame(result)\n",
    "melongData.head(18)"
   ]
  },
  {
   "cell_type": "code",
   "execution_count": null,
   "id": "f0a91840",
   "metadata": {},
   "outputs": [],
   "source": []
  },
  {
   "cell_type": "code",
   "execution_count": null,
   "id": "dcd6cbe7",
   "metadata": {},
   "outputs": [],
   "source": []
  },
  {
   "cell_type": "code",
   "execution_count": null,
   "id": "47da900d",
   "metadata": {},
   "outputs": [],
   "source": []
  },
  {
   "cell_type": "code",
   "execution_count": null,
   "id": "a285ec80",
   "metadata": {},
   "outputs": [],
   "source": []
  },
  {
   "cell_type": "code",
   "execution_count": null,
   "id": "6182af1a",
   "metadata": {},
   "outputs": [],
   "source": []
  },
  {
   "cell_type": "code",
   "execution_count": null,
   "id": "00e419e2",
   "metadata": {},
   "outputs": [],
   "source": []
  },
  {
   "cell_type": "code",
   "execution_count": null,
   "id": "ff1ba68d",
   "metadata": {},
   "outputs": [],
   "source": []
  },
  {
   "cell_type": "code",
   "execution_count": null,
   "id": "015e7cf1",
   "metadata": {},
   "outputs": [],
   "source": []
  },
  {
   "cell_type": "code",
   "execution_count": null,
   "id": "e818da19",
   "metadata": {},
   "outputs": [],
   "source": []
  },
  {
   "cell_type": "code",
   "execution_count": null,
   "id": "a01584c4",
   "metadata": {},
   "outputs": [],
   "source": []
  },
  {
   "cell_type": "code",
   "execution_count": null,
   "id": "b3eee4bd",
   "metadata": {},
   "outputs": [],
   "source": []
  },
  {
   "cell_type": "code",
   "execution_count": null,
   "id": "dff2d8b3",
   "metadata": {},
   "outputs": [],
   "source": []
  },
  {
   "cell_type": "code",
   "execution_count": null,
   "id": "22d132b5",
   "metadata": {},
   "outputs": [],
   "source": []
  },
  {
   "cell_type": "code",
   "execution_count": null,
   "id": "4e75f262",
   "metadata": {},
   "outputs": [],
   "source": []
  },
  {
   "cell_type": "code",
   "execution_count": null,
   "id": "1f006cf5",
   "metadata": {},
   "outputs": [],
   "source": []
  },
  {
   "cell_type": "code",
   "execution_count": null,
   "id": "168bd725",
   "metadata": {},
   "outputs": [],
   "source": []
  },
  {
   "cell_type": "code",
   "execution_count": null,
   "id": "4435ad92",
   "metadata": {},
   "outputs": [],
   "source": []
  },
  {
   "cell_type": "code",
   "execution_count": null,
   "id": "88f75856",
   "metadata": {},
   "outputs": [],
   "source": []
  },
  {
   "cell_type": "code",
   "execution_count": null,
   "id": "9d40e896",
   "metadata": {},
   "outputs": [],
   "source": []
  },
  {
   "cell_type": "code",
   "execution_count": null,
   "id": "0abb50af",
   "metadata": {},
   "outputs": [],
   "source": []
  }
 ],
 "metadata": {
  "kernelspec": {
   "display_name": "Python 3 (ipykernel)",
   "language": "python",
   "name": "python3"
  },
  "language_info": {
   "codemirror_mode": {
    "name": "ipython",
    "version": 3
   },
   "file_extension": ".py",
   "mimetype": "text/x-python",
   "name": "python",
   "nbconvert_exporter": "python",
   "pygments_lexer": "ipython3",
   "version": "3.10.9"
  },
  "toc": {
   "base_numbering": 1,
   "nav_menu": {},
   "number_sections": false,
   "sideBar": true,
   "skip_h1_title": false,
   "title_cell": "Table of Contents",
   "title_sidebar": "Contents",
   "toc_cell": false,
   "toc_position": {
    "height": "calc(100% - 180px)",
    "left": "10px",
    "top": "150px",
    "width": "215px"
   },
   "toc_section_display": true,
   "toc_window_display": true
  }
 },
 "nbformat": 4,
 "nbformat_minor": 5
}
