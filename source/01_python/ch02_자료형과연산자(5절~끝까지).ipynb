{
 "cells": [
  {
   "cell_type": "code",
   "execution_count": 1,
   "id": "29969941",
   "metadata": {},
   "outputs": [
    {
     "data": {
      "text/html": [
       "\n",
       "<style>\n",
       "div.container{width:86% !important;}\n",
       "div.cell.code_cell.rendered{width:100%;}\n",
       "div.CodeMirror {font-family:Consolas; font-size:15pt;}\n",
       "div.output {font-size:15pt; font-weight:bold;}\n",
       "div.input {font-family:Consolas; font-size:15pt;}\n",
       "div.prompt {min-width:70px;}\n",
       "div#toc-wrapper{padding-top:120px;}\n",
       "div.text_cell_render ul li{font-size:12pt;padding:5px;}\n",
       "table.dataframe{font-size:15px;}\n",
       "</style>\n"
      ],
      "text/plain": [
       "<IPython.core.display.HTML object>"
      ]
     },
     "metadata": {},
     "output_type": "display_data"
    }
   ],
   "source": [
    "from IPython.display import display, HTML\n",
    "display(HTML(\"\"\"\n",
    "<style>\n",
    "div.container{width:86% !important;}\n",
    "div.cell.code_cell.rendered{width:100%;}\n",
    "div.CodeMirror {font-family:Consolas; font-size:15pt;}\n",
    "div.output {font-size:15pt; font-weight:bold;}\n",
    "div.input {font-family:Consolas; font-size:15pt;}\n",
    "div.prompt {min-width:70px;}\n",
    "div#toc-wrapper{padding-top:120px;}\n",
    "div.text_cell_render ul li{font-size:12pt;padding:5px;}\n",
    "table.dataframe{font-size:15px;}\n",
    "</style>\n",
    "\"\"\"))"
   ]
  },
  {
   "cell_type": "markdown",
   "id": "3098b494",
   "metadata": {},
   "source": [
    "<font size=\"5\" color=\"red\">ch02 자료형과 연산자</font>\n",
    "\n",
    "# 5절 연산자\n",
    "\n",
    "## 5.1 산술연산자 : +, - , *, / (무조건 실수), // (몫연산자), % (나머지), ** (제곱) "
   ]
  },
  {
   "cell_type": "code",
   "execution_count": 19,
   "id": "6013f42d",
   "metadata": {},
   "outputs": [
    {
     "name": "stdout",
     "output_type": "stream",
     "text": [
      "10의 5승 : 100000\n",
      "4 / 2 (결과 실수) : 2.0\n",
      "4 // 2 (몫) : 2\n",
      "4 % 2 (나머지) : 0\n"
     ]
    }
   ],
   "source": [
    "print(f'10의 5승 : {10 ** 5}')\n",
    "print(f'4 / 2 (결과 실수) : {4 / 2}')\n",
    "print(f'4 // 2 (몫) : {4 // 2}')\n",
    "print(f'4 % 2 (나머지) : {4 % 2}')"
   ]
  },
  {
   "cell_type": "code",
   "execution_count": 26,
   "id": "79ead554",
   "metadata": {},
   "outputs": [
    {
     "name": "stdout",
     "output_type": "stream",
     "text": [
      "정수를 입력하세요 : 10\n",
      "입력하신 수는 10, 2로 나눈 나머지는 짝수. 그래서 짝수를 입력하셨군요\n"
     ]
    }
   ],
   "source": [
    "# quiz 1. 정수를 입력받아 짝수인지 홀수인지 여부를 출력\n",
    "\n",
    "num = int(input('정수를 입력하세요 : '))\n",
    "result = num % 2\n",
    "\n",
    "if result:\n",
    "    temp = \"홀수\"\n",
    "else:\n",
    "    temp = \"짝수\"\n",
    "    \n",
    "print(f'입력하신 수는 {num}, 2로 나눈 나머지는 {temp}. 그래서 짝수를 입력하셨군요')"
   ]
  },
  {
   "cell_type": "code",
   "execution_count": 29,
   "id": "c7cc262d",
   "metadata": {},
   "outputs": [
    {
     "name": "stdout",
     "output_type": "stream",
     "text": [
      "정수를 입력하세요 : 3\n",
      "입력하신 수는 3, 5의 배수 아닙니다.\n"
     ]
    }
   ],
   "source": [
    "# quiz 2. 정수를 입력받아 5의 배수인지 여부를 출력\n",
    "# 진경\n",
    "num = int(input('정수를 입력하세요 : '))\n",
    "result = num % 5\n",
    "\n",
    "if result:\n",
    "    temp = \"입니다\"\n",
    "else:\n",
    "    temp = \"아닙니다\"\n",
    "\n",
    "print(f'입력하신 수는 {num}, 5의 배수 {temp}.')"
   ]
  },
  {
   "cell_type": "code",
   "execution_count": 55,
   "id": "0f138ca4",
   "metadata": {},
   "outputs": [
    {
     "name": "stdout",
     "output_type": "stream",
     "text": [
      "정수를 입력하세요 : 5\n",
      "입력하신 수는 5, 5의 배수를 입력하셨군요\n"
     ]
    }
   ],
   "source": [
    "# 답\n",
    "num = int(input('정수를 입력하세요 : '))\n",
    "result = num % 5\n",
    "\n",
    "if result:\n",
    "    temp = \"5의 배수가 아님\"\n",
    "else:\n",
    "    temp = \"5의 배수\"\n",
    "    \n",
    "print(f'입력하신 수는 {num}, {temp}를 입력하셨군요')"
   ]
  },
  {
   "cell_type": "code",
   "execution_count": 54,
   "id": "e5536640",
   "metadata": {},
   "outputs": [
    {
     "name": "stdout",
     "output_type": "stream",
     "text": [
      "국어 점수를 입력하세요 : 99\n",
      "영어 점수를 입력하세요 : 100\n",
      "수학 점수를 입력하세요 : 99\n",
      "국어 :  99\t영어 : 100 \t수학 :  99\n",
      "총점 : 298\t평균 :  99.3\n"
     ]
    }
   ],
   "source": [
    "# quiz3. 국, 영, 수를 입력받아 다음셀에서 다음과 같이 출력하도록 구현하시오\n",
    "# 국어 : 99  영어 : 100 수학 : 99\n",
    "# 총점 : 296 평균 : 99.3\n",
    "# 진경        \n",
    "k_score = int(input('국어 점수를 입력하세요 : '))\n",
    "e_score = int(input('영어 점수를 입력하세요 : '))\n",
    "m_score = int(input('수학 점수를 입력하세요 : '))\n",
    "\n",
    "score_sum = k_score + e_score + m_score\n",
    "# score_avg = (k_score + e_score + m_score) / 3\n",
    "score_avg = score_sum / 3\n",
    "\n",
    "print('국어 : {:>3d}\\t영어 : {:>3d} \\t수학 : {:>3d}\\n총점 : {:>3d}\\t평균 : {:>5.1f}'.format(k_score, e_score, m_score, score_sum, score_avg))"
   ]
  },
  {
   "cell_type": "code",
   "execution_count": 58,
   "id": "2d9aa62c",
   "metadata": {},
   "outputs": [
    {
     "name": "stdout",
     "output_type": "stream",
     "text": [
      "국어? 99\n",
      "영어? 100\n",
      "수학? 99\n",
      "국어 :  99\t영어 : 100 \t수학 :  99\n",
      "총점 : 298\t평균 :  99.3\n"
     ]
    }
   ],
   "source": [
    "# 답\n",
    "kor = int(input('국어? '))\n",
    "eng = int(input('영어? '))\n",
    "mat = int(input('수학? '))\n",
    "\n",
    "sum = kor + eng + mat\n",
    "avg = sum / 3\n",
    "\n",
    "print('국어 : {:3d}\\t영어 : {:3d} \\t수학 : {:3d}'.format(kor, eng, mat))\n",
    "print('총점 : {:3d}\\t평균 : {:5.1f}'.format(sum, avg))"
   ]
  },
  {
   "cell_type": "markdown",
   "id": "ee167e53",
   "metadata": {},
   "source": [
    "## 5.2 할당연산자 : =, +=, -=, *=, /=, //=, %=  "
   ]
  },
  {
   "cell_type": "code",
   "execution_count": 69,
   "id": "4e15f64f",
   "metadata": {},
   "outputs": [
    {
     "name": "stdout",
     "output_type": "stream",
     "text": [
      "5더하기 : 15\n"
     ]
    }
   ],
   "source": [
    "a = 10\n",
    "a += 5 # a = a + 5\n",
    "print(\"5더하기 :\", a)"
   ]
  },
  {
   "cell_type": "code",
   "execution_count": 70,
   "id": "814f7d79",
   "metadata": {},
   "outputs": [
    {
     "name": "stdout",
     "output_type": "stream",
     "text": [
      "5빼기 : 10\n",
      "5배 : 50\n"
     ]
    }
   ],
   "source": [
    "a -= 5 # a = a - 5\n",
    "print(\"5빼기 :\", a)\n",
    "\n",
    "a *= 5 # a = a * 5\n",
    "print(\"5배 :\", a)"
   ]
  },
  {
   "cell_type": "markdown",
   "id": "bb638acf",
   "metadata": {},
   "source": [
    "## 5.3 논리연산자 : &, and, |, or, not"
   ]
  },
  {
   "cell_type": "code",
   "execution_count": 78,
   "id": "a5d8ba45",
   "metadata": {},
   "outputs": [
    {
     "name": "stdout",
     "output_type": "stream",
     "text": [
      "True\n",
      "0\n"
     ]
    }
   ],
   "source": [
    "# & 논리연산\n",
    "print((10 > 3)&(10 > 5)) # 논리연산 True & True\n",
    "print(12 & 1) # 비트연산 12 : 0000 1100\n",
    "              #          1 : 0000 0001\n",
    "              #     12 & 1 : 0000 0000"
   ]
  },
  {
   "cell_type": "code",
   "execution_count": 86,
   "id": "8ba242a7",
   "metadata": {},
   "outputs": [
    {
     "name": "stdout",
     "output_type": "stream",
     "text": [
      "True\n",
      "False\n",
      "3\n",
      "0\n",
      "abc\n",
      "False\n"
     ]
    }
   ],
   "source": [
    "# and : 논리연산에서만 사용 가능 \n",
    "# False 로 판별되는 첫번쨰 항의 결과 반환\n",
    "# 모든 항이 참이면, 마지막 항을 반환\n",
    "print(True and True and True)\n",
    "print(False and True and True)\n",
    "\n",
    "print(True and 1 and 3)\n",
    "print(0 and True)\n",
    "print(True and 'abc')\n",
    "print(True and False and True and True and True and True)"
   ]
  },
  {
   "cell_type": "code",
   "execution_count": 91,
   "id": "c2647e1f",
   "metadata": {},
   "outputs": [
    {
     "name": "stdout",
     "output_type": "stream",
     "text": [
      "논리연산(연산자 앞뒤에 논리형일 떄) :  True\n",
      "비트연산(연산자 앞이나 뒤에 숫자일 때) :  3\n"
     ]
    }
   ],
   "source": [
    "# | : 논리연산, 비트연산\n",
    "result = False | True\n",
    "print('논리연산(연산자 앞뒤에 논리형일 떄) : ', result)\n",
    "\n",
    "result = False | 3 # 0000 0000 (False)\n",
    "                   # 0000 0011 (3)\n",
    "print('비트연산(연산자 앞이나 뒤에 숫자일 때) : ', result)"
   ]
  },
  {
   "cell_type": "code",
   "execution_count": 94,
   "id": "0897cf40",
   "metadata": {},
   "outputs": [
    {
     "name": "stdout",
     "output_type": "stream",
     "text": [
      "None\n",
      "Hong\n"
     ]
    }
   ],
   "source": [
    "# or : 논리연산 참으로 판별되는 첫번째 항의 반환\n",
    "#      모든 항이 거짓이면, 마지막항을 반환\n",
    "print(False or False or None)\n",
    "print('Hong' or '' or False)"
   ]
  },
  {
   "cell_type": "code",
   "execution_count": 96,
   "id": "c3ee7d17",
   "metadata": {},
   "outputs": [
    {
     "name": "stdout",
     "output_type": "stream",
     "text": [
      "False\n"
     ]
    }
   ],
   "source": [
    "print(not True)"
   ]
  },
  {
   "cell_type": "markdown",
   "id": "d5abdd7a",
   "metadata": {},
   "source": [
    "## 5.4 비교연산자 : >, >=, <, <=, ==(같다), !=(다르다)"
   ]
  },
  {
   "cell_type": "code",
   "execution_count": 99,
   "id": "9acecdb2",
   "metadata": {},
   "outputs": [
    {
     "name": "stdout",
     "output_type": "stream",
     "text": [
      "True\n",
      "True\n"
     ]
    }
   ],
   "source": [
    "# 비교연산자는 이항, 삼항, 사항... 다항연산자\n",
    "x = 5\n",
    "print((4 < x) & (x < 10))\n",
    "print(4 < x < 10)"
   ]
  },
  {
   "cell_type": "code",
   "execution_count": 104,
   "id": "16a16ad1",
   "metadata": {},
   "outputs": [
    {
     "name": "stdout",
     "output_type": "stream",
     "text": [
      "True\n",
      "False\n",
      "False\n",
      "True\n"
     ]
    }
   ],
   "source": [
    "# 비교연산자(<)의 우선순위가 논리연산(&)의 우선순위보다 낮다\n",
    "print((10 > 5) & (10 > 7))\n",
    "print(10 > 5 & 10 > 7) # 0101 (5)\n",
    "                       # 1010 (10)\n",
    "print(10 > 0 > 7)\n",
    "print(10 > 5 and 10 > 7) # 논리연산(and)의 우선순위가 높다 결과 True"
   ]
  },
  {
   "cell_type": "code",
   "execution_count": 111,
   "id": "d41855e5",
   "metadata": {},
   "outputs": [
    {
     "name": "stdout",
     "output_type": "stream",
     "text": [
      "False\n",
      "False\n"
     ]
    }
   ],
   "source": [
    "address = \"서울\"\n",
    "age = 29\n",
    "\n",
    "# print(address == '서울' & age >= 30) # 에러발생 -> ()로 묶어줘야 합니다.\n",
    "print( (address == '서울') & (age >= 30) )\n",
    "\n",
    "print( (address != '서울') & (age >= 30) )"
   ]
  },
  {
   "cell_type": "code",
   "execution_count": 112,
   "id": "a8eda81b",
   "metadata": {},
   "outputs": [
    {
     "data": {
      "text/plain": [
       "True"
      ]
     },
     "execution_count": 112,
     "metadata": {},
     "output_type": "execute_result"
    }
   ],
   "source": [
    "# 문자 비교 : ASCII 코드 순으로 비교 가능 : 특수문자 < 숫자 < 대문자 < 소문자\n",
    "# https://namu.wiki/w/%EC%95%84%EC%8A%A4%ED%82%A4%20%EC%BD%94%EB%93%9C \n",
    "'scott' < 'tiger'\n",
    "\n"
   ]
  },
  {
   "cell_type": "code",
   "execution_count": 113,
   "id": "306657bd",
   "metadata": {},
   "outputs": [
    {
     "data": {
      "text/plain": [
       "True"
      ]
     },
     "execution_count": 113,
     "metadata": {},
     "output_type": "execute_result"
    }
   ],
   "source": [
    "'9' > '10'"
   ]
  },
  {
   "cell_type": "code",
   "execution_count": 116,
   "id": "4173911e",
   "metadata": {},
   "outputs": [
    {
     "data": {
      "text/plain": [
       "True"
      ]
     },
     "execution_count": 116,
     "metadata": {},
     "output_type": "execute_result"
    }
   ],
   "source": [
    "'김길동김수한무거북이와두루미삼척갑산동방석시리' < '홍길동'"
   ]
  },
  {
   "cell_type": "markdown",
   "id": "9338825b",
   "metadata": {},
   "source": [
    "## 비트연산자 : &, |, ^(XOR), ~"
   ]
  },
  {
   "cell_type": "code",
   "execution_count": null,
   "id": "fb254256",
   "metadata": {},
   "outputs": [],
   "source": [
    "x    y    x & y    x ^ y\n",
    "0    0      0        0\n",
    "0    1      0        1  \n",
    "1    0      0        1\n",
    "1    1      1        0"
   ]
  },
  {
   "cell_type": "code",
   "execution_count": 125,
   "id": "c5820e3a",
   "metadata": {},
   "outputs": [
    {
     "name": "stdout",
     "output_type": "stream",
     "text": [
      "  a   = 15 : 1111\n",
      "  b   =  2 : 0010\n",
      "a ^ b = 13 : 1101\n"
     ]
    }
   ],
   "source": [
    "a = 15 # 1111\n",
    "b = 2 # 0010\n",
    "\n",
    "print(\"  a   = {0:2} : {0:04b}\".format(a))\n",
    "print(\"  b   = {0:2} : {0:04b}\".format(b))\n",
    "print(\"a ^ b = {0:2} : {0:04b}\".format(a ^ b))"
   ]
  },
  {
   "cell_type": "markdown",
   "id": "cf032cb4",
   "metadata": {},
   "source": [
    "+ 연산자 \n",
    "    - 산술연산 : + - * / // % **\n",
    "    - 할당연산 : = += -= *= /= //= %=\n",
    "    - 논리연산 : & and | or not\n",
    "    - 비교연산 : > >= < <= == !=\n",
    "    - 비트연산 : & | ^\n",
    "    - & 와 | 은 비교연산자보다 우선순위가 높다."
   ]
  },
  {
   "cell_type": "markdown",
   "id": "e7c6b1af",
   "metadata": {},
   "source": [
    "# 6절 문자열 다루기\n",
    "\n",
    "- 문자열 슬라이싱 변경 : [start : stop : step]\n",
    "- len(문자열변수) : 문자갯수\n",
    "\n",
    "- upper() : 대문자\n",
    "- lower() : 소문자\n",
    "- title() : 각 어절의 첫글자만 대문자로\n",
    "- capitalize() : 첫문자만 대문자로\n",
    "- count('찾을문자') : '찾을문자'가 몇개 들어있는지 갯수 반환\n",
    "- find('찾을문자') : '찾을문자'열이 왼쪽부터 시작하여, 몇번째 인덱스에 있는지 인텍스 반환\n",
    "- rfind('찾을문자') : '찾을문자'열이 오른쪽부터 시작하여, 몇번째 인덱스에 있는지 인텍스 반환\n",
    "    - **찾을문자열이 없으면 -1을 반환**\n",
    "    - **cf) index('찾을문자') 찾을 문자열의 인덱스를 반환 **찾을문자열이 없으면 오류**\n",
    "- startswitch('특정문자열') : 특정문자열로 시작하는지 여부\n",
    "- endswitch('특정문자열') : 특정문자열로 끝나는지 여부\n",
    "- strip() : 좌우 공백 제거\n",
    "- rstrip() : 오른쪽 공백 제거\n",
    "- lstrip() : 왼쪽 공백 제거\n",
    "- isdigit() : 문자열이 숫자문자열인지 여부 \"100점\" - 문자열\n",
    "- islower() : 소문자문자열인지 여부\n",
    "- isupper() : 대문자문자열인지 여부\n",
    "- replace(oldstr, newstr) : oldstr을 newstr로 변경"
   ]
  },
  {
   "cell_type": "code",
   "execution_count": 155,
   "id": "4dd7eddd",
   "metadata": {},
   "outputs": [
    {
     "name": "stdout",
     "output_type": "stream",
     "text": [
      "1. 글자수 : 39\n"
     ]
    }
   ],
   "source": [
    "temp = \"python is easy. Python is smart. python\"\n",
    "#       012345678901234567890123456789012345678\n",
    "print('1. 글자수 :', len(temp))"
   ]
  },
  {
   "cell_type": "code",
   "execution_count": 156,
   "id": "df63ebaa",
   "metadata": {},
   "outputs": [
    {
     "name": "stdout",
     "output_type": "stream",
     "text": [
      "2. 대문자로 : PYTHON IS EASY. PYTHON IS SMART. PYTHON\n"
     ]
    }
   ],
   "source": [
    "print('2. 대문자로 :', temp.upper())"
   ]
  },
  {
   "cell_type": "code",
   "execution_count": 157,
   "id": "6ec30f63",
   "metadata": {},
   "outputs": [
    {
     "name": "stdout",
     "output_type": "stream",
     "text": [
      "3. 소문자로 : python is easy. python is smart. python\n"
     ]
    }
   ],
   "source": [
    "print('3. 소문자로 :', temp.lower())"
   ]
  },
  {
   "cell_type": "code",
   "execution_count": 158,
   "id": "0aef825d",
   "metadata": {},
   "outputs": [
    {
     "name": "stdout",
     "output_type": "stream",
     "text": [
      "4. title : Python Is Easy. Python Is Smart. Python\n"
     ]
    }
   ],
   "source": [
    "print('4. title :', temp.title())"
   ]
  },
  {
   "cell_type": "code",
   "execution_count": 181,
   "id": "f64bfc5f",
   "metadata": {},
   "outputs": [
    {
     "name": "stdout",
     "output_type": "stream",
     "text": [
      "5. capitalize() : Python is easy. python is smart. python\n"
     ]
    }
   ],
   "source": [
    "print('5. capitalize() :', temp.capitalize())"
   ]
  },
  {
   "cell_type": "code",
   "execution_count": 179,
   "id": "043a74b9",
   "metadata": {},
   "outputs": [
    {
     "name": "stdout",
     "output_type": "stream",
     "text": [
      "6. python 몇번 나오는지 2\n"
     ]
    }
   ],
   "source": [
    "print('6. python 몇번 나오는지', temp.count('python'))"
   ]
  },
  {
   "cell_type": "code",
   "execution_count": 176,
   "id": "cf92c0bf",
   "metadata": {},
   "outputs": [
    {
     "name": "stdout",
     "output_type": "stream",
     "text": [
      "7. 대문자구분없이 python이 몇번 나오는지 :  3\n",
      "7. 대문자구분없이 PYTHON 몇번 나오는지 :  3\n",
      "7. 대문자구분없이 Python 몇번 나오는지 :  3\n"
     ]
    }
   ],
   "source": [
    "print('7. 대문자구분없이 python이 몇번 나오는지 : ', temp.lower().count('python'))\n",
    "print('7. 대문자구분없이 PYTHON 몇번 나오는지 : ', temp.upper().count('PYTHON'))\n",
    "print('7. 대문자구분없이 Python 몇번 나오는지 : ', temp.title().count('Python'))"
   ]
  },
  {
   "cell_type": "code",
   "execution_count": 183,
   "id": "8bf60252",
   "metadata": {},
   "outputs": [
    {
     "name": "stdout",
     "output_type": "stream",
     "text": [
      "8. python이 나오는 첫 index 위치 0\n",
      "8. python이 나오는 마지막 index 위치 33\n",
      "8. java 나오는 마지막 index 위치 -1\n"
     ]
    }
   ],
   "source": [
    "print('8. python이 나오는 첫 index 위치',temp.find('python'))\n",
    "print('8. python이 나오는 마지막 index 위치',temp.rfind('python'))\n",
    "print('8. java 나오는 마지막 index 위치',temp.find('java'))"
   ]
  },
  {
   "cell_type": "code",
   "execution_count": 187,
   "id": "ab5dd235",
   "metadata": {},
   "outputs": [
    {
     "name": "stdout",
     "output_type": "stream",
     "text": [
      "9. python으로 시작하는지 여부 True\n",
      "10. python으로 시작하는지 여부 False\n",
      "10. 대소문자 구분없이 python으로 시작하는지 여부 True\n"
     ]
    }
   ],
   "source": [
    "print('9. python으로 시작하는지 여부',temp.startswith('python'))\n",
    "print('10. python으로 시작하는지 여부',temp.endswith('PYTHON'))\n",
    "print('10. 대소문자 구분없이 PYTHON으로 시작하는지 여부',temp.upper().endswith('PYTHON'))"
   ]
  },
  {
   "cell_type": "code",
   "execution_count": 222,
   "id": "b6dadc46",
   "metadata": {},
   "outputs": [
    {
     "name": "stdout",
     "output_type": "stream",
     "text": [
      "11. 좌우공백제거 : [Python is easy.]\n",
      "11. 좌측공백제거 : [Python is easy.       ]\n",
      "11. 우측공백제거 : [        Python is easy.]\n"
     ]
    }
   ],
   "source": [
    "temp = '        Python is easy.       '\n",
    "notdisit = '1,000,000'\n",
    "num_str = \"1000\"\n",
    "\n",
    "print('11. 좌우공백제거 : [{}]'.format(temp.strip()))\n",
    "print('11. 좌측공백제거 : [{}]'.format(temp.lstrip()))\n",
    "print('11. 우측공백제거 : [{}]'.format(temp.rstrip()))"
   ]
  },
  {
   "cell_type": "code",
   "execution_count": 197,
   "id": "c591fd22",
   "metadata": {},
   "outputs": [
    {
     "name": "stdout",
     "output_type": "stream",
     "text": [
      "12. 숫자문자열인지 : False\n"
     ]
    }
   ],
   "source": [
    "print('12. 숫자문자열인지 :',format(notdisit.isdigit()))"
   ]
  },
  {
   "cell_type": "code",
   "execution_count": 238,
   "id": "0fb42de8",
   "metadata": {},
   "outputs": [
    {
     "name": "stdout",
     "output_type": "stream",
     "text": [
      "13. 소문자문자열인지 : False\n",
      "13. 대문자문자열인지 : False\n"
     ]
    }
   ],
   "source": [
    "print('13. 소문자문자열인지 :',temp.islower())\n",
    "print('13. 대문자문자열인지 :',temp.isupper())"
   ]
  },
  {
   "cell_type": "code",
   "execution_count": 226,
   "id": "de5743ee",
   "metadata": {},
   "outputs": [
    {
     "name": "stdout",
     "output_type": "stream",
     "text": [
      "14. ,제거 : 1000000\n",
      "14. ,제거 : 1000\n"
     ]
    }
   ],
   "source": [
    "print('14. ,제거 :', notdisit.replace(',',''))\n",
    "print('14. ,제거 :', num_str.replace(',',''))"
   ]
  },
  {
   "cell_type": "code",
   "execution_count": 230,
   "id": "4b0e0efb",
   "metadata": {},
   "outputs": [
    {
     "name": "stdout",
     "output_type": "stream",
     "text": [
      "space단위로 temp를 분리 :  ['홍길동', '김길동', '신기똥', '유길동']\n"
     ]
    }
   ],
   "source": [
    "temp = \" 홍길동     김길동 신기똥 유길동\"\n",
    "\n",
    "print(\"space단위로 temp를 분리 :\", temp.split()) # 기본이 space 단위로 분리"
   ]
  },
  {
   "cell_type": "code",
   "execution_count": 247,
   "id": "c3ecc1b5",
   "metadata": {},
   "outputs": [
    {
     "name": "stdout",
     "output_type": "stream",
     "text": [
      " - 단위로 data를 분리(결과 : list)\n",
      "['2025', '04', '10']\n",
      "2025년 04월 10일\n"
     ]
    }
   ],
   "source": [
    "\n",
    "\n",
    "print(\" - 단위로 data를 분리(결과 : list)\")\n",
    "data_list = data.split('-')\n",
    "print(data_list)\n",
    "print('{Y}년 {M}월 {D}일'.format(Y=data_list[0],M=data_list[1],D=data_list[2]))"
   ]
  },
  {
   "cell_type": "code",
   "execution_count": 251,
   "id": "3d1f4403",
   "metadata": {},
   "outputs": [
    {
     "name": "stdout",
     "output_type": "stream",
     "text": [
      "원 데이터 :  Python - HTML/CSS - Javascript - DBMS\n",
      "분리된 데이터 ['Python', 'HTML/CSS', 'Javascript', 'DBMS']\n",
      "join된 데이터 Python/HTML/CSS/Javascript/DBMS\n"
     ]
    }
   ],
   "source": [
    "# \" - \" 을 '/'로 바꾸기\n",
    "temp = \"Python - HTML/CSS - Javascript - DBMS\"\n",
    "# temp = \"Python - HTML/CSS - Javascript - DBMS - 딥러닝(DNN-CNN-RNN) - 머신러닝\"\n",
    "# print(temp.replace(' - ', '/'))\n",
    "\n",
    "print(\"원 데이터 : \", temp)\n",
    "\n",
    "splited_temp = temp.split(' - ')\n",
    "print(\"분리된 데이터\", splited_temp)\n",
    "\n",
    "joined_temp = '/'.join(splited_temp)\n",
    "print(\"join된 데이터\", joined_temp)"
   ]
  },
  {
   "cell_type": "code",
   "execution_count": 254,
   "id": "bea5f714",
   "metadata": {},
   "outputs": [],
   "source": [
    "str_ = 'ABC'\n",
    "# str_ = ['A','B','C']"
   ]
  },
  {
   "cell_type": "code",
   "execution_count": 260,
   "id": "216d2b1c",
   "metadata": {
    "collapsed": true
   },
   "outputs": [
    {
     "data": {
      "text/plain": [
       "['__add__',\n",
       " '__class__',\n",
       " '__contains__',\n",
       " '__delattr__',\n",
       " '__dir__',\n",
       " '__doc__',\n",
       " '__eq__',\n",
       " '__format__',\n",
       " '__ge__',\n",
       " '__getattribute__',\n",
       " '__getitem__',\n",
       " '__getnewargs__',\n",
       " '__gt__',\n",
       " '__hash__',\n",
       " '__init__',\n",
       " '__init_subclass__',\n",
       " '__iter__',\n",
       " '__le__',\n",
       " '__len__',\n",
       " '__lt__',\n",
       " '__mod__',\n",
       " '__mul__',\n",
       " '__ne__',\n",
       " '__new__',\n",
       " '__reduce__',\n",
       " '__reduce_ex__',\n",
       " '__repr__',\n",
       " '__rmod__',\n",
       " '__rmul__',\n",
       " '__setattr__',\n",
       " '__sizeof__',\n",
       " '__str__',\n",
       " '__subclasshook__',\n",
       " 'capitalize',\n",
       " 'casefold',\n",
       " 'center',\n",
       " 'count',\n",
       " 'encode',\n",
       " 'endswith',\n",
       " 'expandtabs',\n",
       " 'find',\n",
       " 'format',\n",
       " 'format_map',\n",
       " 'index',\n",
       " 'isalnum',\n",
       " 'isalpha',\n",
       " 'isascii',\n",
       " 'isdecimal',\n",
       " 'isdigit',\n",
       " 'isidentifier',\n",
       " 'islower',\n",
       " 'isnumeric',\n",
       " 'isprintable',\n",
       " 'isspace',\n",
       " 'istitle',\n",
       " 'isupper',\n",
       " 'join',\n",
       " 'ljust',\n",
       " 'lower',\n",
       " 'lstrip',\n",
       " 'maketrans',\n",
       " 'partition',\n",
       " 'removeprefix',\n",
       " 'removesuffix',\n",
       " 'replace',\n",
       " 'rfind',\n",
       " 'rindex',\n",
       " 'rjust',\n",
       " 'rpartition',\n",
       " 'rsplit',\n",
       " 'rstrip',\n",
       " 'split',\n",
       " 'splitlines',\n",
       " 'startswith',\n",
       " 'strip',\n",
       " 'swapcase',\n",
       " 'title',\n",
       " 'translate',\n",
       " 'upper',\n",
       " 'zfill']"
      ]
     },
     "execution_count": 260,
     "metadata": {},
     "output_type": "execute_result"
    }
   ],
   "source": [
    "# 문자열이 다룰 수 있는 함수들과 변수들 목록\n",
    "dir(str)"
   ]
  },
  {
   "cell_type": "markdown",
   "id": "16e3aa3d",
   "metadata": {},
   "source": [
    "# 7절 시간, 날짜, 날짜시간 다루기"
   ]
  },
  {
   "cell_type": "code",
   "execution_count": 79,
   "id": "73af54d8",
   "metadata": {},
   "outputs": [
    {
     "data": {
      "text/plain": [
       "'C:\\\\Users\\\\Admin\\\\anaconda3\\\\lib\\\\datetime.py'"
      ]
     },
     "execution_count": 79,
     "metadata": {},
     "output_type": "execute_result"
    }
   ],
   "source": [
    "import datetime\n",
    "datetime.__file__"
   ]
  },
  {
   "cell_type": "code",
   "execution_count": 83,
   "id": "041b2fe7",
   "metadata": {},
   "outputs": [],
   "source": [
    "# datetime 모듈 (datetime.py) 안에 datetime, date, time을 import\n",
    "from datetime import datetime, date, time"
   ]
  },
  {
   "cell_type": "markdown",
   "id": "3d1f184d",
   "metadata": {},
   "source": [
    "## 7.1 시간과 날짜"
   ]
  },
  {
   "cell_type": "code",
   "execution_count": 85,
   "id": "eec8dd57",
   "metadata": {},
   "outputs": [
    {
     "data": {
      "text/plain": [
       "datetime.datetime(2025, 4, 7, 9, 30)"
      ]
     },
     "execution_count": 85,
     "metadata": {},
     "output_type": "execute_result"
    }
   ],
   "source": [
    "# 특정한 시점을 갖는 datetime 객체를 생성\n",
    "thatday = datetime(2025, 4, 7, 9, 30, 0)\n",
    "thatday"
   ]
  },
  {
   "cell_type": "code",
   "execution_count": 94,
   "id": "d5f2340d",
   "metadata": {},
   "outputs": [
    {
     "name": "stdout",
     "output_type": "stream",
     "text": [
      "2025-04-07 09:30:00\n",
      "Mon Apr  7 09:30:00 2025\n",
      "2025년04월07일(월요일) 오전 09시30분00초\n",
      "2025년04월07일(월요일) 오전 09시30분00초\n"
     ]
    }
   ],
   "source": [
    "print(thatday)\n",
    "print(thatday.ctime()) # ctime() : 사람이 읽기 쉬운 형태로 반환\n",
    "print(\"{:%Y년%m월%d일(%A) %p %I시%M분%S초}\".format(thatday))\n",
    "print(thatday.strftime(\"%Y년%m월%d일(%A) %p %I시%M분%S초\"))"
   ]
  },
  {
   "cell_type": "code",
   "execution_count": 93,
   "id": "db6d7dd7",
   "metadata": {},
   "outputs": [
    {
     "data": {
      "text/plain": [
       "'ko_KR'"
      ]
     },
     "execution_count": 93,
     "metadata": {},
     "output_type": "execute_result"
    }
   ],
   "source": [
    "import locale\n",
    "locale.setlocale(locale.LC_TIME, 'ko_KR')"
   ]
  },
  {
   "cell_type": "code",
   "execution_count": 119,
   "id": "d900f4a4",
   "metadata": {},
   "outputs": [
    {
     "name": "stdout",
     "output_type": "stream",
     "text": [
      "2025-04-11 10:38:18.238887\n",
      "Fri Apr 11 10:38:18 2025\n",
      "25년04월11일(금요일) 오전 10시38분18초\n",
      "25-04-11(금요일) 10:38:18\n"
     ]
    }
   ],
   "source": [
    "now = datetime.now()\n",
    "now\n",
    "print(now)\n",
    "print(now.ctime())\n",
    "print(\"{:%y년%m월%d일(%A) %p %I시%M분%S초}\".format(now))\n",
    "print(now.strftime(\"%y-%m-%d(%A) %H:%M:%S\"))"
   ]
  },
  {
   "cell_type": "code",
   "execution_count": 103,
   "id": "a3789501",
   "metadata": {},
   "outputs": [
    {
     "data": {
      "text/plain": [
       "datetime.timedelta(days=4, seconds=2741, microseconds=400081)"
      ]
     },
     "execution_count": 103,
     "metadata": {},
     "output_type": "execute_result"
    }
   ],
   "source": [
    "diff = now-thatday\n",
    "diff"
   ]
  },
  {
   "cell_type": "code",
   "execution_count": 104,
   "id": "1508f805",
   "metadata": {},
   "outputs": [
    {
     "data": {
      "text/plain": [
       "4"
      ]
     },
     "execution_count": 104,
     "metadata": {},
     "output_type": "execute_result"
    }
   ],
   "source": [
    "diff.days"
   ]
  },
  {
   "cell_type": "markdown",
   "id": "110141f0",
   "metadata": {},
   "source": [
    "## 7.2 날짜"
   ]
  },
  {
   "cell_type": "code",
   "execution_count": 116,
   "id": "b8a6f6e7",
   "metadata": {},
   "outputs": [
    {
     "data": {
      "text/plain": [
       "datetime.date(2025, 9, 2)"
      ]
     },
     "execution_count": 116,
     "metadata": {},
     "output_type": "execute_result"
    }
   ],
   "source": [
    "someday = date(2025, 9, 2)\n",
    "someday"
   ]
  },
  {
   "cell_type": "code",
   "execution_count": 117,
   "id": "9a5d9fd2",
   "metadata": {},
   "outputs": [
    {
     "name": "stdout",
     "output_type": "stream",
     "text": [
      "2025년09월02일\n"
     ]
    }
   ],
   "source": [
    "print(someday.strftime(\"%Y년%m월%d일\"))"
   ]
  },
  {
   "cell_type": "code",
   "execution_count": 112,
   "id": "3e4e434c",
   "metadata": {},
   "outputs": [
    {
     "data": {
      "text/plain": [
       "True"
      ]
     },
     "execution_count": 112,
     "metadata": {},
     "output_type": "execute_result"
    }
   ],
   "source": [
    "# 오늘\n",
    "today1 = datetime.now().date()\n",
    "today2 = date.today()\n",
    "\n",
    "today1 == today2"
   ]
  },
  {
   "cell_type": "code",
   "execution_count": 115,
   "id": "205f1ef1",
   "metadata": {},
   "outputs": [
    {
     "name": "stdout",
     "output_type": "stream",
     "text": [
      "2025년04월11일\n",
      "2025년04월11일\n"
     ]
    }
   ],
   "source": [
    "print(today1.strftime(\"%Y년%m월%d일\"))\n",
    "print(today2.strftime(\"%Y년%m월%d일\"))"
   ]
  },
  {
   "cell_type": "code",
   "execution_count": 122,
   "id": "e596c627",
   "metadata": {},
   "outputs": [
    {
     "data": {
      "text/plain": [
       "144"
      ]
     },
     "execution_count": 122,
     "metadata": {},
     "output_type": "execute_result"
    }
   ],
   "source": [
    "diff = someday - today\n",
    "diff.days"
   ]
  },
  {
   "cell_type": "markdown",
   "id": "de205795",
   "metadata": {},
   "source": [
    "## 7.3 시간"
   ]
  },
  {
   "cell_type": "code",
   "execution_count": 124,
   "id": "506b1ce4",
   "metadata": {},
   "outputs": [
    {
     "data": {
      "text/plain": [
       "datetime.time(13, 10)"
      ]
     },
     "execution_count": 124,
     "metadata": {},
     "output_type": "execute_result"
    }
   ],
   "source": [
    "# 특정시간\n",
    "t = time(13, 10)\n",
    "t"
   ]
  },
  {
   "cell_type": "code",
   "execution_count": 126,
   "id": "94035029",
   "metadata": {},
   "outputs": [
    {
     "name": "stdout",
     "output_type": "stream",
     "text": [
      "13:10:00\n",
      "오후 01시 10분\n"
     ]
    }
   ],
   "source": [
    "print(t)\n",
    "print(t.strftime(\"%p %I시 %M분\"))"
   ]
  },
  {
   "cell_type": "code",
   "execution_count": 128,
   "id": "8486159c",
   "metadata": {},
   "outputs": [
    {
     "data": {
      "text/plain": [
       "datetime.time(10, 42, 27, 642368)"
      ]
     },
     "execution_count": 128,
     "metadata": {},
     "output_type": "execute_result"
    }
   ],
   "source": [
    "# 지금시간\n",
    "now_time = datetime.now().time()\n",
    "now_time"
   ]
  },
  {
   "cell_type": "code",
   "execution_count": 130,
   "id": "2a2f2ee0",
   "metadata": {},
   "outputs": [
    {
     "name": "stdout",
     "output_type": "stream",
     "text": [
      "10:42:27.642368\n",
      "10시42분27초\n"
     ]
    }
   ],
   "source": [
    "print(now_time)\n",
    "print(now_time.strftime(\"%H시%M분%S초\"))"
   ]
  },
  {
   "cell_type": "markdown",
   "id": "971f5039",
   "metadata": {},
   "source": [
    "**datetime, date, time형들을 원하는 포맷의 문자형으로 반환 : strftime()**\n",
    "- %Y %y %m, %d %A(요일) %p(오전/오후) %H(24시), %I(12시), %M(분), %S(초)"
   ]
  },
  {
   "cell_type": "code",
   "execution_count": null,
   "id": "0eba20eb",
   "metadata": {},
   "outputs": [],
   "source": []
  },
  {
   "cell_type": "code",
   "execution_count": null,
   "id": "89a175ef",
   "metadata": {},
   "outputs": [],
   "source": []
  },
  {
   "cell_type": "markdown",
   "id": "8ebff649",
   "metadata": {},
   "source": [
    "# 8절 연습문제"
   ]
  },
  {
   "cell_type": "code",
   "execution_count": 267,
   "id": "777a6cf2",
   "metadata": {},
   "outputs": [
    {
     "name": "stdout",
     "output_type": "stream",
     "text": [
      "[출력형식 : 홍길동님의 나이는 23 살입니다.]\n"
     ]
    }
   ],
   "source": [
    "# 1. 이름과 나이 변수를 다음 형식으로 출력하도록 format() 함수를 이용해 형식화하세요\n",
    "# [출력형식 : 홍길동님의 나이는 23 살입니다]\n",
    "name = \"홍길동\"\n",
    "age = 23\n",
    "\n",
    "print(\"[출력형식 : {}님의 나이는 {} 살입니다.]\".format(name, age))"
   ]
  },
  {
   "cell_type": "code",
   "execution_count": 269,
   "id": "0ece32cd",
   "metadata": {},
   "outputs": [
    {
     "name": "stdout",
     "output_type": "stream",
     "text": [
      "첫번째 정수를 입력해 주세요.10\n",
      "두번쨰 정수를 입력해 주세요.2\n",
      "10 + 2 = 12\n",
      "10 - 2 = 8\n",
      "10 * 2 = 20\n",
      "10 / 2 = 5.0\n",
      "10 // 2 = 5\n",
      "10 % 2 = 0\n"
     ]
    }
   ],
   "source": [
    "# 2. 두 정수를 입력받아 두 수의 덧셈 , 뺄셈 , 곱셈 , 나눗셈 , 몫 , 나머지를 출력하세요.\n",
    "\n",
    "first_num = int(input('첫번째 정수를 입력해 주세요.'))\n",
    "second_num = int(input('두번쨰 정수를 입력해 주세요.'))\n",
    "\n",
    "print(f\"{first_num} + {second_num} = {first_num + second_num}\")\n",
    "print(f\"{first_num} - {second_num} = {first_num - second_num}\")\n",
    "print(f\"{first_num} * {second_num} = {first_num * second_num}\")\n",
    "print(f\"{first_num} / {second_num} = {first_num / second_num}\")\n",
    "print(f\"{first_num} // {second_num} = {first_num // second_num}\")\n",
    "print(f\"{first_num} % {second_num} = {first_num % second_num}\")\n"
   ]
  },
  {
   "cell_type": "code",
   "execution_count": 26,
   "id": "1ee67849",
   "metadata": {},
   "outputs": [
    {
     "name": "stdout",
     "output_type": "stream",
     "text": [
      "['Hello', 'Wolrd']\n",
      "Wolrd Hello\n"
     ]
    }
   ],
   "source": [
    "# 3. 문자열의 분리하기와 합치기 기능을 이용하여 'Hello Wolrd'가 할당된 변수를 이용하여 'World Hello' 로 출력하세요\n",
    "text = \"Hello Wolrd\"\n",
    "\n",
    "textSplit = text.split();\n",
    "print(textSplit)\n",
    "print(textSplit[1], textSplit[0])\n",
    "\n",
    "# join_text = \" \".join(textSplit)\n",
    "# print(join_text)"
   ]
  },
  {
   "cell_type": "code",
   "execution_count": 282,
   "id": "9eaf95ae",
   "metadata": {},
   "outputs": [
    {
     "name": "stdout",
     "output_type": "stream",
     "text": [
      "bcdefa\n"
     ]
    }
   ],
   "source": [
    "# 4. x = 'abcdef'를 이용하여 'bcdefa' 로 출력하세요 (문자 슬라이싱이용)\n",
    "x = 'abcdef'\n",
    "\n",
    "print(f\"{x[1:]}{x[0:1]}\")"
   ]
  },
  {
   "cell_type": "code",
   "execution_count": 280,
   "id": "8f262693",
   "metadata": {},
   "outputs": [
    {
     "name": "stdout",
     "output_type": "stream",
     "text": [
      "fedcba\n"
     ]
    }
   ],
   "source": [
    "# 5. x = ‘ abcdef 를 이용하여 fedcba 로 출력하세요\n",
    "print(x[::-1])"
   ]
  },
  {
   "cell_type": "code",
   "execution_count": 301,
   "id": "fc682b0a",
   "metadata": {},
   "outputs": [
    {
     "name": "stdout",
     "output_type": "stream",
     "text": [
      "섭씨(C) 온도를 입력해 주세요.\n",
      "화씨(F)온도로 변경을 해 드릴께요 10\n",
      "50.0\n",
      "True\n",
      "입력된 섭씨온도는 10 이며, 화씨온도로 변경하면 50 입니다.\n"
     ]
    }
   ],
   "source": [
    "# 6. 오늘의 온도를 섭씨온도로 입력받아 화씨 온도로 변환하는 프로그램을 작성하세요 . \n",
    "# 화씨 온도는 소수점이 있을 경우만 두번째 자리까지 출력되고 \n",
    "# 소수점이하 값이 없는 경우 소수점을 출력하지 않도록 합니다 \n",
    "# (다음은 섭씨와 화씨의 변환 공식입니다 .C 는 섭씨 ,F 는 화씨)\n",
    "# C = (F-32) / 1.8\n",
    "# F = (C*1.8) + 32\n",
    "\n",
    "c = int(input(\"섭씨(C) 온도를 입력해 주세요.\\n화씨(F)온도로 변경을 해 드릴께요 \"))\n",
    "# f = int(input(\"화씨(F) 온도를 입력해 주세요.\\n섭씨(C)온도로 변경을 해 드릴께요 \"))\n",
    "result = (c*1.8) + 32\n",
    "print(result)\n",
    "print(result.is_integer())\n",
    "if result.is_integer():\n",
    "    print(\"입력된 섭씨온도는 {:2d} 이며, 화씨온도로 변경하면 {:2d} 입니다.\".format(c, int(result)))\n",
    "else:\n",
    "    print(\"입력된 섭씨온도는 {:2d} 이며, 화씨온도로 변경하면 {:.2f} 입니다.\".format(c, result))"
   ]
  },
  {
   "cell_type": "code",
   "execution_count": null,
   "id": "b13a88ec",
   "metadata": {},
   "outputs": [],
   "source": [
    "# 7. 다음 중 변수 선언으로 잘못된 것을 모두 고르시오\n",
    "① for\n",
    "② 10th\n",
    "③ Student.name\n",
    "④ _1234\n",
    "\n",
    "# 정답 : ① ② ③"
   ]
  },
  {
   "cell_type": "code",
   "execution_count": 265,
   "id": "5b1a51ea",
   "metadata": {},
   "outputs": [
    {
     "name": "stdout",
     "output_type": "stream",
     "text": [
      "SeounSeoul\n",
      "Seou n Seoul\n"
     ]
    }
   ],
   "source": [
    "# 8. 다음의 코드의 실행결과는?\n",
    "text = \"Seoul A001 - programming with python\"\n",
    "print(text[:4] + text[-1] + text.split()[0])\n",
    "print(text[:4], text[-1], text.split()[0])"
   ]
  },
  {
   "cell_type": "code",
   "execution_count": 133,
   "id": "dff62c38",
   "metadata": {},
   "outputs": [
    {
     "name": "stdout",
     "output_type": "stream",
     "text": [
      "4 4.0 64\n"
     ]
    }
   ],
   "source": [
    "# 9.다음 중 파이썬 3.x 버전에서 연산식과 그 결과의 출력이 잘못된 것은\n",
    "# ① 수식 8//2 결과 4\n",
    "# ② 식 8/2 결과 4\n",
    "# ③ 수식 8 ** 2 결과 64\n",
    "\n",
    "print(8//2, 8/2, 8**2)\n",
    "\n",
    "# 정답 : ②"
   ]
  },
  {
   "cell_type": "code",
   "execution_count": 131,
   "id": "82991345",
   "metadata": {
    "collapsed": true
   },
   "outputs": [
    {
     "ename": "TypeError",
     "evalue": "unsupported operand type(s) for +: 'int' and 'str'",
     "output_type": "error",
     "traceback": [
      "\u001b[1;31m---------------------------------------------------------------------------\u001b[0m",
      "\u001b[1;31mTypeError\u001b[0m                                 Traceback (most recent call last)",
      "Cell \u001b[1;32mIn[131], line 5\u001b[0m\n\u001b[0;32m      3\u001b[0m x \u001b[38;5;241m=\u001b[39m \u001b[38;5;241m5\u001b[39m\n\u001b[0;32m      4\u001b[0m y \u001b[38;5;241m=\u001b[39m \u001b[38;5;124m\"\u001b[39m\u001b[38;5;124mJohn\u001b[39m\u001b[38;5;124m\"\u001b[39m\n\u001b[1;32m----> 5\u001b[0m \u001b[38;5;28mprint\u001b[39m(\u001b[43mx\u001b[49m\u001b[43m \u001b[49m\u001b[38;5;241;43m+\u001b[39;49m\u001b[43m \u001b[49m\u001b[43my\u001b[49m)\n",
      "\u001b[1;31mTypeError\u001b[0m: unsupported operand type(s) for +: 'int' and 'str'"
     ]
    }
   ],
   "source": [
    "# 10.아래 프로그램의 결과는\n",
    "\n",
    "x = 5\n",
    "y = \"John\"\n",
    "print(x + y) # error\n",
    "\n",
    "# 정답 : error"
   ]
  },
  {
   "cell_type": "code",
   "execution_count": 290,
   "id": "0c7ed6fb",
   "metadata": {},
   "outputs": [
    {
     "name": "stdout",
     "output_type": "stream",
     "text": [
      "나라\n"
     ]
    }
   ],
   "source": [
    "# 11.split() 함수를 이용하여 str_ 의 값 중 나라 를 출력하는 프로그램을 완성하시오\n",
    "\n",
    "str_ = \"우리 나라 대한 민국\".split(\" \")\n",
    "# print(str_)\n",
    "print(str_[1])"
   ]
  }
 ],
 "metadata": {
  "kernelspec": {
   "display_name": "Python 3 (ipykernel)",
   "language": "python",
   "name": "python3"
  },
  "language_info": {
   "codemirror_mode": {
    "name": "ipython",
    "version": 3
   },
   "file_extension": ".py",
   "mimetype": "text/x-python",
   "name": "python",
   "nbconvert_exporter": "python",
   "pygments_lexer": "ipython3",
   "version": "3.10.9"
  },
  "toc": {
   "base_numbering": 1,
   "nav_menu": {},
   "number_sections": false,
   "sideBar": true,
   "skip_h1_title": false,
   "title_cell": "Table of Contents",
   "title_sidebar": "Contents",
   "toc_cell": false,
   "toc_position": {
    "height": "calc(100% - 180px)",
    "left": "10px",
    "top": "150px",
    "width": "165px"
   },
   "toc_section_display": true,
   "toc_window_display": true
  }
 },
 "nbformat": 4,
 "nbformat_minor": 5
}
