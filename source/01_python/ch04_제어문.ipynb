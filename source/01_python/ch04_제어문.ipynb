{
 "cells": [
  {
   "cell_type": "code",
   "execution_count": 1,
   "id": "3e6389f7",
   "metadata": {
    "ExecuteTime": {
     "end_time": "2025-04-21T08:26:40.745565Z",
     "start_time": "2025-04-21T08:26:40.715581Z"
    }
   },
   "outputs": [
    {
     "data": {
      "text/html": [
       "\n",
       "<style>\n",
       "div.container{width:86% !important;}\n",
       "div.cell.code_cell.rendered{width:100%;}\n",
       "div.CodeMirror {font-family:Consolas; font-size:13pt;}\n",
       "div.output {font-size:15pt; font-weight:bold;}\n",
       "div.input {font-family:Consolas; font-size:15pt;}\n",
       "div.prompt {min-width:70px;}\n",
       "div#toc-wrapper{padding-top:120px;}\n",
       "div.text_cell_render ul li{font-size:12pt;padding:5px;}\n",
       "table.dataframe{font-size:15px;}\n",
       "</style>\n"
      ],
      "text/plain": [
       "<IPython.core.display.HTML object>"
      ]
     },
     "metadata": {},
     "output_type": "display_data"
    }
   ],
   "source": [
    "from IPython.display import display, HTML\n",
    "display(HTML(\"\"\"\n",
    "<style>\n",
    "div.container{width:86% !important;}\n",
    "div.cell.code_cell.rendered{width:100%;}\n",
    "div.CodeMirror {font-family:Consolas; font-size:13pt;}\n",
    "div.output {font-size:15pt; font-weight:bold;}\n",
    "div.input {font-family:Consolas; font-size:15pt;}\n",
    "div.prompt {min-width:70px;}\n",
    "div#toc-wrapper{padding-top:120px;}\n",
    "div.text_cell_render ul li{font-size:12pt;padding:5px;}\n",
    "table.dataframe{font-size:15px;}\n",
    "</style>\n",
    "\"\"\"))"
   ]
  },
  {
   "cell_type": "code",
   "execution_count": null,
   "id": "c4c2b57d",
   "metadata": {},
   "outputs": [],
   "source": []
  },
  {
   "cell_type": "markdown",
   "id": "3a79c450",
   "metadata": {},
   "source": [
    "<b><font size=\"5\" color=\"red\">ch04 제어문</font></b>\n",
    "\n",
    "- 조거문 : if 문 중첩가능\n",
    "- 반복문 : for 문 , while 문 중첩가능"
   ]
  },
  {
   "cell_type": "markdown",
   "id": "ee89e84f",
   "metadata": {},
   "source": [
    "# 1절 조건문(if)\n",
    "```\n",
    "if 조건1 :\n",
    "    조건1이 참일 경우 수행할 명령어를 \n",
    "elif 조건2 :\n",
    "    조건1이 거짓이고, 조건2가 참일 경우 수행할 명령어들\n",
    "else :\n",
    "    모든 조건을 만족하지 않을 떄 수행할 명령어들\n",
    "```"
   ]
  },
  {
   "cell_type": "code",
   "execution_count": 1,
   "id": "60ac5dcb",
   "metadata": {},
   "outputs": [
    {
     "name": "stdout",
     "output_type": "stream",
     "text": [
      "점수는 : 50\n",
      "재시험 응시하셔야 합니다.\n",
      "화이팅\n"
     ]
    }
   ],
   "source": [
    "score = int(input(\"점수는 : \"))\n",
    "\n",
    "if score >= 90 :\n",
    "    print('참 잘했어요.')\n",
    "    print('다음에도 기대할께요')\n",
    "elif score >= 60 :\n",
    "    print('분발하세요.')\n",
    "    print('뭐 그래도 고생하셨어요')\n",
    "else :\n",
    "    print('재시험 응시하셔야 합니다.')\n",
    "    print('화이팅')"
   ]
  },
  {
   "cell_type": "code",
   "execution_count": 6,
   "id": "1290b1c5",
   "metadata": {},
   "outputs": [
    {
     "name": "stdout",
     "output_type": "stream",
     "text": [
      "점수는 > 101\n",
      "입력하신 점수는 101점이고, 유효하지 않은 정수등급입니다.\n"
     ]
    }
   ],
   "source": [
    "# 점수(0~100점)을 입력받아 학점을 출력하시요.(A, B, C, D, F, 유효하지 않은 점수)\n",
    "\n",
    "score = int(input('점수는 > '))\n",
    "\n",
    "if 90<= score <=100 : # (score >=90) & (score <=100) :\n",
    "    grade = \"A\"\n",
    "elif 80<= score < 90 :\n",
    "    grade = \"B\"\n",
    "elif 70<= score < 80 :\n",
    "    grade = \"C\"            \n",
    "elif 60<= score < 70 :\n",
    "    grade = \"D\"   \n",
    "elif 50<= score < 60 :\n",
    "    grade = \"F\"   \n",
    "else :\n",
    "    grade = \"유효하지 않은 정수\"\n",
    "\n",
    "print(\"입력하신 점수는 {}점이고, {}등급입니다.\".format(score, grade))"
   ]
  },
  {
   "cell_type": "markdown",
   "id": "bccd5dd7",
   "metadata": {},
   "source": [
    "# 2절 반복문\n",
    "\n",
    "## 2.1 for-in 문\n",
    "\n",
    "```\n",
    "for 임시변수 in 나열가능한자료 :\n",
    "    반복할명령어1\n",
    "    반복할명령러2\n",
    "    if 조건 :\n",
    "        break\n",
    "else :\n",
    "    나열가능한 자료가 다 소요하여, for 블럭을 다 수행한 후 최종 한번 수행할 명령어\n",
    "    for문안에 break를 수행할 경우 else 블록을 수행하지 않음\n",
    "```"
   ]
  },
  {
   "cell_type": "code",
   "execution_count": 11,
   "id": "48d494e6",
   "metadata": {},
   "outputs": [
    {
     "name": "stdout",
     "output_type": "stream",
     "text": [
      "1\t3\t5\t7\t9\t\n",
      "Done\n",
      "END\n"
     ]
    }
   ],
   "source": [
    "for  i in range(1,10,2):\n",
    "    print(i, end=\"\\t\")\n",
    "else:\n",
    "    print('\\nDone')\n",
    "print('END')"
   ]
  },
  {
   "cell_type": "code",
   "execution_count": 13,
   "id": "20a350fc",
   "metadata": {},
   "outputs": [
    {
     "name": "stdout",
     "output_type": "stream",
     "text": [
      "1\t3\tEND\n"
     ]
    }
   ],
   "source": [
    "for  i in range(1,10,2):\n",
    "    if i == 5 :\n",
    "        break\n",
    "    print(i, end=\"\\t\")\n",
    "else:\n",
    "    print('\\nDone')\n",
    "print('END')"
   ]
  },
  {
   "cell_type": "code",
   "execution_count": 26,
   "id": "d7ba41e9",
   "metadata": {},
   "outputs": [
    {
     "name": "stdout",
     "output_type": "stream",
     "text": [
      "1 ~ 100까지 합은 5050\n"
     ]
    }
   ],
   "source": [
    "# 1 ~ 100까지 누적합을 출력하시오 (for문)\n",
    "tot = 0 # 누적변수\n",
    "\n",
    "for i in range(1, 101) :\n",
    "    tot += i # tot = tot + 1\n",
    "print(\"1 ~ 100까지 합은\", tot)"
   ]
  },
  {
   "cell_type": "code",
   "execution_count": 27,
   "id": "1cf8eade",
   "metadata": {},
   "outputs": [
    {
     "name": "stdout",
     "output_type": "stream",
     "text": [
      "1 ~ 100까지 짝수들의 합은 2550\n"
     ]
    }
   ],
   "source": [
    "# 1 ~ 100까지 짝수들의 누적합을 출력하시오 (for문)\n",
    "tot = 0 # 누적변수\n",
    "\n",
    "for i in range(1, 101) :\n",
    "    # if not i % 2:\n",
    "    if i % 2 == 0:\n",
    "        tot += i # tot = tot + 1\n",
    "print(\"1 ~ 100까지 짝수들의 합은\", tot)"
   ]
  },
  {
   "cell_type": "markdown",
   "id": "29fbaf15",
   "metadata": {},
   "source": [
    "## 2.2 while 문\n",
    "\n",
    "```\n",
    "while 조건 :\n",
    "    조건이 참일 경우 반복할 문잘들\n",
    "else :\n",
    "    조건이 거짓일 경우 한번 실행할 문장 (else구문 선택사항)\n",
    "```"
   ]
  },
  {
   "cell_type": "code",
   "execution_count": 31,
   "id": "aae1e726",
   "metadata": {},
   "outputs": [
    {
     "name": "stdout",
     "output_type": "stream",
     "text": [
      "1 ~ 100까지 합은 5050\n"
     ]
    }
   ],
   "source": [
    "# 1 ~ 100까지 누적합을 출력하시오 (for문)\n",
    "tot = 0 # 누적변수\n",
    "i = 1\n",
    "while i <= 100:\n",
    "    tot += i # tot = tot + 1\n",
    "    i += 1\n",
    "print(\"1 ~ 100까지 합은\", tot)"
   ]
  },
  {
   "cell_type": "code",
   "execution_count": 34,
   "id": "b8864248",
   "metadata": {},
   "outputs": [
    {
     "name": "stdout",
     "output_type": "stream",
     "text": [
      "1 ~ 100까지 짝수들의 합은 2550\n"
     ]
    }
   ],
   "source": [
    "# 1 ~ 100까지 짝수들의 누적합을 출력하시오 (for문)\n",
    "tot = 0 # 누적변수\n",
    "i = 1\n",
    "while i <= 100:\n",
    "    if i % 2 == 0 :\n",
    "        tot += i # tot = tot + 1\n",
    "    i += 1\n",
    "print(\"1 ~ 100까지 짝수들의 합은\", tot)"
   ]
  },
  {
   "cell_type": "code",
   "execution_count": 518,
   "id": "bd539acd",
   "metadata": {},
   "outputs": [
    {
     "name": "stdout",
     "output_type": "stream",
     "text": [
      "첫번쨰 정수를 입력해 주세요10\n",
      "두번쨰 정수를 입력해 주세요11\n",
      "작은수 부터 큰수까지 홀수의 합 : 11\n"
     ]
    }
   ],
   "source": [
    "# ex1. 사용자에게 두 정수를 입력 받아, 작은수 부터 큰수까지 홀수의 합을 누적해서 출력\n",
    "\n",
    "first_num = int(input(\"첫번쨰 정수를 입력해 주세요\"))\n",
    "second_num = int(input(\"두번쨰 정수를 입력해 주세요\"))\n",
    "tot = 0\n",
    "\n",
    "if first_num > second_num:\n",
    "    first_num_ = second_num\n",
    "    second_num_ = first_num\n",
    "else :\n",
    "    first_num_ = first_num\n",
    "    second_num_ = second_num\n",
    "    \n",
    "for i in range(first_num_, second_num_ + 1) :\n",
    "    if i % 2 :\n",
    "        tot += i\n",
    "\n",
    "print(f\"작은수 부터 큰수까지 홀수의 합 : {tot}\")"
   ]
  },
  {
   "cell_type": "code",
   "execution_count": 558,
   "id": "7eed9568",
   "metadata": {},
   "outputs": [
    {
     "name": "stdout",
     "output_type": "stream",
     "text": [
      "첫번쨰 정수를 입력해 주세요10\n",
      "두번쨰 정수를 입력해 주세요11\n",
      "10부터 11까지 홀수들의 합은 11 입니다\n"
     ]
    }
   ],
   "source": [
    "# 정답 1\n",
    "\n",
    "# ex1. 사용자에게 두 정수를 입력 받아, 작은수 부터 큰수까지 홀수의 합을 누적해서 출력\n",
    "first = int(input(\"첫번쨰 정수를 입력해 주세요\"))\n",
    "second = int(input(\"두번쨰 정수를 입력해 주세요\"))\n",
    "\n",
    "# (1-1) 두 수 중 작은 수는 min_ 에 큰수는 max_ 에 할당\n",
    "if first < second :\n",
    "    min_ = first\n",
    "    max_ = second\n",
    "else :\n",
    "    min_ = second\n",
    "    max_ = first\n",
    "    \n",
    "# (1-2) min_ 부터 max_ 까지 홀수합 누적\n",
    "tot = 0\n",
    "for i in range(min_, max_ + 1) :\n",
    "    if i % 2 : \n",
    "        tot += i\n",
    "\n",
    "# (1-3) 출력\n",
    "print(f\"{min_}부터 {max_}까지 홀수들의 합은 {tot} 입니다\")\n"
   ]
  },
  {
   "cell_type": "code",
   "execution_count": 565,
   "id": "2b23cbd0",
   "metadata": {},
   "outputs": [
    {
     "name": "stdout",
     "output_type": "stream",
     "text": [
      "첫번쨰 정수를 입력해 주세요100\n",
      "두번쨰 정수를 입력해 주세요50\n",
      "50 100\n",
      "50부터 100까지 홀수들의 합은 1875 입니다\n"
     ]
    }
   ],
   "source": [
    "# 정답 2\n",
    "\n",
    "# ex1. 사용자에게 두 정수를 입력 받아, 작은수 부터 큰수까지 홀수의 합을 누적해서 출력\n",
    "first = int(input(\"첫번쨰 정수를 입력해 주세요\"))\n",
    "second = int(input(\"두번쨰 정수를 입력해 주세요\"))\n",
    "\n",
    "# (2-1) first에 작은 수로 second에 큰수가 되도록 함\n",
    "if first > second:\n",
    "    # 바꿔 (python 외의 언어)\n",
    "    # temp = first\n",
    "    # first = second\n",
    "    # second = temp\n",
    "    first, second = second, first\n",
    "    \n",
    "print(first, second)\n",
    "# (2-2) first부터 second까지 홀수를 누적\n",
    "tot = 0\n",
    "for i in range(first, second + 1) :\n",
    "    if i % 2 : \n",
    "        tot += i\n",
    "\n",
    "# (2-3) 출력\n",
    "print(f\"{first}부터 {second}까지 홀수들의 합은 {tot} 입니다\")"
   ]
  },
  {
   "cell_type": "code",
   "execution_count": 489,
   "id": "93a6ebef",
   "metadata": {},
   "outputs": [],
   "source": [
    "# 난수 발생\n",
    "import random\n",
    "# random.random() : 0 <= 실수난수 < 1\n",
    "# random.randint(a, b) : a ~ b 의 정수 난수\n",
    "# int(random.random()*b) + a : a ~ b 의 정수 난수 (추천하지 않는다)\n",
    "# 실행할 떄마다 난수의 순서를 일치시키려면 random.seed(특정수)"
   ]
  },
  {
   "cell_type": "code",
   "execution_count": 407,
   "id": "3374a629",
   "metadata": {},
   "outputs": [
    {
     "data": {
      "text/plain": [
       "35"
      ]
     },
     "execution_count": 407,
     "metadata": {},
     "output_type": "execute_result"
    }
   ],
   "source": [
    "int(random.random() * 45)+1 # 1 < random.random()*45 < 46"
   ]
  },
  {
   "cell_type": "code",
   "execution_count": 486,
   "id": "b228a2e2",
   "metadata": {},
   "outputs": [
    {
     "data": {
      "text/plain": [
       "31"
      ]
     },
     "execution_count": 486,
     "metadata": {},
     "output_type": "execute_result"
    }
   ],
   "source": [
    "# 정수\n",
    "# random.seed(12)\n",
    "random.randint(1, 45) # 1 ~ 45 까지의 정수 난수"
   ]
  },
  {
   "cell_type": "code",
   "execution_count": 487,
   "id": "89ba4b01",
   "metadata": {},
   "outputs": [
    {
     "data": {
      "text/plain": [
       "18"
      ]
     },
     "execution_count": 487,
     "metadata": {},
     "output_type": "execute_result"
    }
   ],
   "source": [
    "random.randint(1, 45) # 1 ~ 45 까지의 정수 난수"
   ]
  },
  {
   "cell_type": "code",
   "execution_count": 488,
   "id": "cbc9c7d1",
   "metadata": {},
   "outputs": [
    {
     "data": {
      "text/plain": [
       "43"
      ]
     },
     "execution_count": 488,
     "metadata": {},
     "output_type": "execute_result"
    }
   ],
   "source": [
    "random.randint(1, 45) # 1 ~ 45 까지의 정수 난수"
   ]
  },
  {
   "cell_type": "code",
   "execution_count": 947,
   "id": "6af3b61d",
   "metadata": {},
   "outputs": [
    {
     "name": "stdout",
     "output_type": "stream",
     "text": [
      "[18, 19, 21, 34, 39, 44]\n"
     ]
    }
   ],
   "source": [
    "# ex2. 1 ~ 45 까지의 로또 번호 6개를 추출하여 출력 (오름차순 정렬결과를 출력)\n",
    "\n",
    "lotto = []\n",
    "no = 0\n",
    "\n",
    "# 잘못된 소스 (중복된 수는 없어야 함)\n",
    "for i in range(6) :    \n",
    "    lotto.append(random.randint(1, 45))\n",
    "print(sorted(lotto))"
   ]
  },
  {
   "cell_type": "code",
   "execution_count": 941,
   "id": "5407aa12",
   "metadata": {},
   "outputs": [
    {
     "name": "stdout",
     "output_type": "stream",
     "text": [
      "난수 6 번 뽑아서 로토는 [2, 5, 34, 35, 38, 44]\n"
     ]
    }
   ],
   "source": [
    "# 정답 1\n",
    "# ex2. 1 ~ 45 까지의 로또 번호 6개를 추출하여 출력 (오름차순 정렬결과를 출력) - 리스트 이용\n",
    "\n",
    "lotto = []\n",
    "cnt = 0\n",
    "while len(lotto) < 6 :\n",
    "    # lotto.append(random.randint(1, 45))\n",
    "    cnt += 1\n",
    "    temp = random.randint(1, 45)\n",
    "    if temp not in lotto:\n",
    "        lotto.append(temp)\n",
    "\n",
    "# 정렬하기\n",
    "print(\"난수 {} 번 뽑아서 로토는 {}\".format(cnt, sorted(lotto)))\n",
    "\n",
    "# 또는 lotto.sort()\n",
    "# print(\"난수 {} 번 뽑아서 로토는 {}\".format(cnt, lotto))"
   ]
  },
  {
   "cell_type": "code",
   "execution_count": 940,
   "id": "c8225b9e",
   "metadata": {},
   "outputs": [
    {
     "name": "stdout",
     "output_type": "stream",
     "text": [
      "0번째까지 : [7] / [7, 36, 23, 24, 15, 13]\n",
      "1번째까지 : [7, 13] / [7, 13, 36, 24, 23, 15]\n",
      "2번째까지 : [7, 13, 15] / [7, 13, 15, 36, 24, 23]\n",
      "3번째까지 : [7, 13, 15, 23] / [7, 13, 15, 23, 36, 24]\n",
      "4번째까지 : [7, 13, 15, 23, 24] / [7, 13, 15, 23, 24, 36]\n"
     ]
    }
   ],
   "source": [
    "# 정답 2\n",
    "# ex2. 1 ~ 45 까지의 로또 번호 6개를 추출하여 출력 (오름차순 정렬결과를 출력) - 리스트 이용\n",
    "\n",
    "lotto = []\n",
    "cnt = 0\n",
    "while len(lotto) < 6 :\n",
    "    # lotto.append(random.randint(1, 45))\n",
    "    cnt += 1\n",
    "    temp = random.randint(1, 45)\n",
    "    if temp not in lotto:\n",
    "        lotto.append(temp)\n",
    "\n",
    "# 정렬하기\n",
    "for i in range(0, len(lotto)-1):\n",
    "    for j in range(i, len(lotto)):\n",
    "        if lotto[i] > lotto[j]:\n",
    "            lotto[i], lotto[j] = lotto[j], lotto[i]\n",
    "    print(f\"{i}번째까지 : {lotto[:i+1]} / {lotto}\")\n"
   ]
  },
  {
   "cell_type": "code",
   "execution_count": 1026,
   "id": "99fe11be",
   "metadata": {},
   "outputs": [
    {
     "data": {
      "text/plain": [
       "[9, 10, 11, 18, 30, 44]"
      ]
     },
     "execution_count": 1026,
     "metadata": {},
     "output_type": "execute_result"
    }
   ],
   "source": [
    "# 정답 3\n",
    "# ex2. 1 ~ 45 까지의 로또 번호 6개를 추출하여 출력 (오름차순 정렬결과를 출력) - 셋을 이용\n",
    "\n",
    "lotto = set()\n",
    "\n",
    "while len(lotto) < 6 :\n",
    "    lotto.add(random.randint(1,45))\n",
    "sorted(lotto)"
   ]
  },
  {
   "cell_type": "markdown",
   "id": "9ec49809",
   "metadata": {},
   "source": [
    "### ※ random.sample()"
   ]
  },
  {
   "cell_type": "code",
   "execution_count": 1048,
   "id": "d6d721e8",
   "metadata": {},
   "outputs": [
    {
     "data": {
      "text/plain": [
       "[13, 18, 34, 12, 16, 4]"
      ]
     },
     "execution_count": 1048,
     "metadata": {},
     "output_type": "execute_result"
    }
   ],
   "source": [
    "\n",
    "random.sample([1,2,3,4,5,6,7,8], 2)\n",
    "random.sample(range(1, 45),6)"
   ]
  },
  {
   "cell_type": "markdown",
   "id": "15079c8b",
   "metadata": {},
   "source": [
    "## 2.3 break, continue"
   ]
  },
  {
   "cell_type": "code",
   "execution_count": 8,
   "id": "09096e96",
   "metadata": {},
   "outputs": [
    {
     "name": "stdout",
     "output_type": "stream",
     "text": [
      "1\t2\t3\t4\tDONE\n"
     ]
    }
   ],
   "source": [
    "num = 0\n",
    "while num < 10 :\n",
    "    num += 1\n",
    "    if num == 5 :\n",
    "        break # 반복문을 탈출\n",
    "        # continue # while 블록 수행을 중단하고 조건으로 감\n",
    "    print(num, end=\"\\t\")\n",
    "print(\"DONE\")"
   ]
  },
  {
   "cell_type": "code",
   "execution_count": 642,
   "id": "7232fc7a",
   "metadata": {},
   "outputs": [
    {
     "name": "stdout",
     "output_type": "stream",
     "text": [
      "컴퓨터가 발생한 임의의 수 :  62\n",
      "1 ~ 100사이의 수를 맞춰 보세요 : 61\n",
      "Up ↑\n",
      "1 ~ 100사이의 수를 맞춰 보세요 : 63\n",
      "Down ↓\n",
      "1 ~ 100사이의 수를 맞춰 보세요 : 62\n",
      "축하 축하 맞추셨습니다.\n",
      "끝\n"
     ]
    }
   ],
   "source": [
    "# 10. 1~100\n",
    "# 사이의 정수를 맞추는 프로그램을 구현하시오\n",
    "# (프로그램안에 임의의 숫자가 만들어지고 그 숫자를 맞추도록 합니다\n",
    "# 1단계 . 입력된 숫자가 틀리면 UP/DOWN 메시지를 출력하고 숫자를 맞추면 축하메세지와 함꼐 종료합니다 맞출 때까지 반복\n",
    "\n",
    "import random\n",
    "\n",
    "# (1) 1 ~ 100사이의 난수 발생\n",
    "randomNum = random.randint(1,100)\n",
    "print(\"컴퓨터가 발생한 임의의 수 : \",randomNum)\n",
    "# (2) 수를 입력 받아 틀리면, up/down 메시지를 출력, 맞추면 break (축하축하 메시지를 출력 후)\n",
    "\n",
    "while True:\n",
    "    inputNum = int(input(\"1 ~ 100사이의 수를 맞춰 보세요 : \"))\n",
    "    \n",
    "    if (inputNum < 1) | (inputNum > 100) :\n",
    "        print(\"수의 범위를 벗어났습니다.\")\n",
    "    elif randomNum < inputNum:\n",
    "        print(\"Down ↓\")\n",
    "    elif randomNum > inputNum:\n",
    "        print(\"Up ↑\")\n",
    "    else:\n",
    "        print(\"축하 축하 맞추셨습니다.\")\n",
    "        break\n",
    "print(\"끝\")\n",
    "\n"
   ]
  },
  {
   "cell_type": "markdown",
   "id": "b4575591",
   "metadata": {},
   "source": [
    "# 3절 중첩루프\n",
    "\n",
    "(반복문 안의 반복문)"
   ]
  },
  {
   "cell_type": "code",
   "execution_count": 6,
   "id": "bcd53e08",
   "metadata": {},
   "outputs": [
    {
     "name": "stdout",
     "output_type": "stream",
     "text": [
      "2 X 1 =  2\t3 X 1 =  3\t4 X 1 =  4\t5 X 1 =  5\t6 X 1 =  6\t7 X 1 =  7\t8 X 1 =  8\t9 X 1 =  9\t\n",
      "2 X 2 =  4\t3 X 2 =  6\t4 X 2 =  8\t5 X 2 = 10\t6 X 2 = 12\t7 X 2 = 14\t8 X 2 = 16\t9 X 2 = 18\t\n",
      "2 X 3 =  6\t3 X 3 =  9\t4 X 3 = 12\t5 X 3 = 15\t6 X 3 = 18\t7 X 3 = 21\t8 X 3 = 24\t9 X 3 = 27\t\n",
      "2 X 4 =  8\t3 X 4 = 12\t4 X 4 = 16\t5 X 4 = 20\t6 X 4 = 24\t7 X 4 = 28\t8 X 4 = 32\t9 X 4 = 36\t\n",
      "2 X 5 = 10\t3 X 5 = 15\t4 X 5 = 20\t5 X 5 = 25\t6 X 5 = 30\t7 X 5 = 35\t8 X 5 = 40\t9 X 5 = 45\t\n",
      "2 X 6 = 12\t3 X 6 = 18\t4 X 6 = 24\t5 X 6 = 30\t6 X 6 = 36\t7 X 6 = 42\t8 X 6 = 48\t9 X 6 = 54\t\n",
      "2 X 7 = 14\t3 X 7 = 21\t4 X 7 = 28\t5 X 7 = 35\t6 X 7 = 42\t7 X 7 = 49\t8 X 7 = 56\t9 X 7 = 63\t\n",
      "2 X 8 = 16\t3 X 8 = 24\t4 X 8 = 32\t5 X 8 = 40\t6 X 8 = 48\t7 X 8 = 56\t8 X 8 = 64\t9 X 8 = 72\t\n",
      "2 X 9 = 18\t3 X 9 = 27\t4 X 9 = 36\t5 X 9 = 45\t6 X 9 = 54\t7 X 9 = 63\t8 X 9 = 72\t9 X 9 = 81\t\n"
     ]
    }
   ],
   "source": [
    "for i in range(1,10):\n",
    "    for j in range(2,10):\n",
    "        print(\"{} X {} = {:>2d}\".format(j, i, j*i), end='\\t')\n",
    "    print()"
   ]
  },
  {
   "cell_type": "markdown",
   "id": "61a8fa73",
   "metadata": {},
   "source": [
    "# 4절 중첩루프 탈출"
   ]
  },
  {
   "cell_type": "markdown",
   "id": "44fb2ab0",
   "metadata": {},
   "source": [
    "### ※ 중첩 루프 탈출 하는 방법 1 : 플래그 변수 이용"
   ]
  },
  {
   "cell_type": "code",
   "execution_count": 23,
   "id": "533f1a02",
   "metadata": {},
   "outputs": [
    {
     "name": "stdout",
     "output_type": "stream",
     "text": [
      "0 1\n",
      "0 2\n",
      "Done\n"
     ]
    }
   ],
   "source": [
    "# 중첩 루프 탈출 하는 방법 1 : 플래그 변수 이용\n",
    "flag = False\n",
    "\n",
    "for a in range(0, 3): # a = 0, a = 1, a = 2\n",
    "    for b in range(1, 3): # b = 1, 2\n",
    "        if a == b:\n",
    "            flag = True\n",
    "            break # 반복문을 아예 빠져 나오기\n",
    "        print(a, b)\n",
    "    # break 시 빠져나오는 부분\n",
    "    if flag:\n",
    "        break\n",
    "print(\"Done\")"
   ]
  },
  {
   "cell_type": "markdown",
   "id": "e6147c13",
   "metadata": {},
   "source": [
    "### ※ 중첩 루프 탈출 방법 2 : 예외발생 -> 예외처리"
   ]
  },
  {
   "cell_type": "code",
   "execution_count": 11,
   "id": "f709e9a9",
   "metadata": {
    "ExecuteTime": {
     "end_time": "2025-04-21T08:33:19.648209Z",
     "start_time": "2025-04-21T08:33:19.635075Z"
    }
   },
   "outputs": [
    {
     "name": "stdout",
     "output_type": "stream",
     "text": [
      "0 1\n",
      "0 2\n",
      "DONE\n"
     ]
    }
   ],
   "source": [
    "# 중첩 루프 탈출 방법 2 : 예외발생 -> 예외처리\n",
    "class BreakOutError(Exception):\n",
    "    pass\n",
    "\n",
    "try:\n",
    "    for a in range(0,3): # a = 0, a = 1, a = 2\n",
    "        for b in range(1,3):\n",
    "            if a == b : \n",
    "                raise BreakOutError() # 중첩 루프 빠져나가기\n",
    "            print(a,b)\n",
    "        \n",
    "except BreakOutError as e:\n",
    "    print(\"DONE\")\n",
    "    "
   ]
  },
  {
   "cell_type": "markdown",
   "id": "c324f3ee",
   "metadata": {},
   "source": [
    "# 5 연습문제"
   ]
  },
  {
   "cell_type": "code",
   "execution_count": 27,
   "id": "59903b9c",
   "metadata": {},
   "outputs": [
    {
     "name": "stdout",
     "output_type": "stream",
     "text": [
      "양의 정수를 입력해 주세요. 짝수인지 홀수 인지 판별해 드릴께요-1\n",
      "양의 정수를 입력해 주세요\n",
      "양의 정수를 입력해 주세요. 짝수인지 홀수 인지 판별해 드릴께요10\n",
      "입력하신 10는 짝수 입니다.\n"
     ]
    }
   ],
   "source": [
    "# 1.양의 정수를 입력 받아 홀수인지 짝수인지를 판별하는 프로그램을 작성하세요 . 양의 정수가 아니면 숫자를 다시 입력 받아야 합니다\n",
    "while True:\n",
    "    inputNum = int(input(\"양의 정수를 입력해 주세요. 짝수인지 홀수 인지 판별해 드릴께요\"))\n",
    "    if (inputNum < 0):\n",
    "        print(\"양의 정수를 입력해 주세요\")\n",
    "    else:\n",
    "        if inputNum % 2 :\n",
    "            print(\"입력하신 {}는 홀수 입니다.\".format(inputNum))\n",
    "            break\n",
    "        else :\n",
    "            print(\"입력하신 {}는 짝수 입니다.\".format(inputNum))\n",
    "            break"
   ]
  },
  {
   "cell_type": "code",
   "execution_count": 93,
   "id": "c64035f7",
   "metadata": {},
   "outputs": [
    {
     "name": "stdout",
     "output_type": "stream",
     "text": [
      "양의 정소를 입력하세요9\n",
      "입력하신 양의 정수는 9이고, 홀수 입니다.\n"
     ]
    }
   ],
   "source": [
    "# 문제 풀이\n",
    "num = 0\n",
    "while num <=0:\n",
    "    num = int(input(\"양의 정소를 입력하세요\"))\n",
    "even_odd = \"홀수\" if num % 2 else \"짝수\"\n",
    "print(\"입력하신 양의 정수는 {}이고, {} 입니다.\".format(num, even_odd))"
   ]
  },
  {
   "cell_type": "code",
   "execution_count": 37,
   "id": "58c1002c",
   "metadata": {},
   "outputs": [
    {
     "name": "stdout",
     "output_type": "stream",
     "text": [
      "*****\n",
      "*****\n",
      "*****\n",
      "*****\n",
      "*****\n",
      "-----------------------------------\n",
      "*\n",
      "**\n",
      "***\n",
      "****\n",
      "*****\n"
     ]
    }
   ],
   "source": [
    "# 2.중첩 for 문을 이용하여 아래 패턴의 별을 출력하는 프로그램을 작성하세요.\n",
    "\n",
    "for i in range(5):\n",
    "    for j in range(5):\n",
    "        print(\"*\",end ='')\n",
    "    print()\n",
    "print('-----------------------------------')    \n",
    "for i in range(5):\n",
    "    for j in range(i+1):\n",
    "        print(\"*\",end ='')\n",
    "    print()"
   ]
  },
  {
   "cell_type": "code",
   "execution_count": 10,
   "id": "dbca7570",
   "metadata": {},
   "outputs": [
    {
     "name": "stdout",
     "output_type": "stream",
     "text": [
      "165\n"
     ]
    }
   ],
   "source": [
    "# 3.다음 코드는 1 부터 30 까지 (30 포함 ) 자연수 중에서 3 의 배수의 총 합을 출력하는 프로그램입니다 . 빈칸의 코드를 완성하시오\n",
    "tot = 0\n",
    "list(range(1,31))\n",
    "for i in range(1,31) :\n",
    "    if i % 3 == 0 :\n",
    "        tot += i\n",
    "    else :\n",
    "        pass\n",
    "print(tot)"
   ]
  },
  {
   "cell_type": "code",
   "execution_count": 15,
   "id": "72486858",
   "metadata": {},
   "outputs": [
    {
     "name": "stdout",
     "output_type": "stream",
     "text": [
      "1 3 5 7 9 "
     ]
    }
   ],
   "source": [
    "#4.다음 코드의 실행결과가 “1 3 5 7 가 되도록 빈칸을 완성하시오\n",
    "num = 0\n",
    "while num <= 10 :\n",
    "    if num %2 == 1:\n",
    "        print(num, end=\" \")\n",
    "    num += 1\n"
   ]
  },
  {
   "cell_type": "code",
   "execution_count": 49,
   "id": "1e0fb1c1",
   "metadata": {},
   "outputs": [
    {
     "name": "stdout",
     "output_type": "stream",
     "text": [
      "123\n",
      "4567\n",
      "89\n"
     ]
    }
   ],
   "source": [
    "# 5.다음 2 차원 리스트의 모든 값을 출력하는 코드입니다 . 빈칸을 완성하시오\n",
    "\n",
    "list2d = [[1,2,3], [4,5,6,7],[8,9]]\n",
    "\n",
    "for row in list2d:\n",
    "    for data in row:\n",
    "        print(data, end='')\n",
    "    print()"
   ]
  },
  {
   "cell_type": "code",
   "execution_count": 58,
   "id": "eb36f56c",
   "metadata": {},
   "outputs": [
    {
     "name": "stdout",
     "output_type": "stream",
     "text": [
      "0 apple\n",
      "1 banana\n"
     ]
    }
   ],
   "source": [
    "# 6.다음 빈칸에 들어갈 함수 이름은\n",
    "colors = {\"red\":\"apple\", \"yellow\":\"banana\"}\n",
    "          \n",
    "for i, v in enumerate(colors.values()):\n",
    "    print(i,v)\n"
   ]
  },
  {
   "cell_type": "code",
   "execution_count": 60,
   "id": "bdfaefdb",
   "metadata": {},
   "outputs": [
    {
     "name": "stdout",
     "output_type": "stream",
     "text": [
      "1 0\n"
     ]
    }
   ],
   "source": [
    "#7.다음 코드의 실행결과는\n",
    "\n",
    "for i in range(0, 2):\n",
    "    for j in range(0,2):\n",
    "        if i == j:\n",
    "            break\n",
    "        print(i, j)"
   ]
  },
  {
   "cell_type": "code",
   "execution_count": 61,
   "id": "1ee70656",
   "metadata": {},
   "outputs": [
    {
     "name": "stdout",
     "output_type": "stream",
     "text": [
      "0 0\n",
      "1 0\n",
      "1 1\n"
     ]
    }
   ],
   "source": [
    "#8.다음 코드의 실행 결과로 출력될 수 없는 것은\n",
    "for i in range(0, 2):\n",
    "    for j in range(0,2):\n",
    "        print(i, j)\n",
    "        if i==j:\n",
    "            break"
   ]
  },
  {
   "cell_type": "code",
   "execution_count": 19,
   "id": "5e050fae",
   "metadata": {},
   "outputs": [
    {
     "name": "stdout",
     "output_type": "stream",
     "text": [
      "3 5 7 9 \n",
      "[3, 5, 7, 9]\n"
     ]
    }
   ],
   "source": [
    "#9. 다음 코드의 실행결과는\n",
    "\n",
    "L = [3,4,5,6,7,8,9,10]\n",
    "\n",
    "for i, data in enumerate(L):\n",
    "    if i % 2 == 0:\n",
    "        print(data, end=' ')\n",
    "print()        \n",
    "print(L[::2])"
   ]
  },
  {
   "cell_type": "code",
   "execution_count": 7,
   "id": "2b2788f6",
   "metadata": {},
   "outputs": [
    {
     "name": "stdout",
     "output_type": "stream",
     "text": [
      "컴퓨터가 발생한 임의의 수 :  56\n"
     ]
    }
   ],
   "source": [
    "# 10. 1~100 사이의 정수를 맞추는 프로그램을 구현하시오.\n",
    "# (프로그램안에 임의의 숫자가 만들어지고 그 숫자를 맞추도록 합니다)\n",
    "# 2단계 . 입력된 숫자가 틀리면 min~max 사이의 수라고 알려주고 숫자를 맞추면 축하 메시지와 함께 종료합니다 맞출 때까지 반복\n",
    "# 3단계 . 숫자를 맞출 수 있는 기회를 5 회로 제한하고 5 회 이내에 맞추지 않으면 실패 메세지를 출력합니다\n",
    "\n",
    "import random\n",
    "\n",
    "# (1) 1 ~ 100사이의 난수 발생\n",
    "randomNum = random.randint(1,100)\n",
    "print(\"컴퓨터가 발생한 임의의 수 : \",randomNum)\n",
    "\n",
    "flag = False\n",
    "min_num = 0;\n",
    "max_num = 0\n",
    "try_num = 5\n",
    "prev_num = 0\n",
    "\n",
    "\n",
    "# while True:\n",
    "#     if try_num == -1 :\n",
    "#         flag = True\n",
    "#         print(\"기회를 모두 사용하셨습니다. 실패하셨습니다.\")\n",
    "#         break\n",
    "#     else :\n",
    "        \n",
    "#         if try_num == 5 :\n",
    "#             inputNum = int(input(f\"1 ~ 100사이의 수를 맞춰 보세요 (남은기회 : {try_num}): \"))\n",
    "#             prev_num = inputNum\n",
    "#             try_num -= 1\n",
    "#         else :\n",
    "#             print(f\"prev_num : {prev_num}\");\n",
    "#             if (inputNum < 1) | (inputNum > 100) :\n",
    "#                 print(f\"수의 범위를 벗어났습니다. 수의 범위는 1 ~ 100, {inputNum}를 입력\")\n",
    "#                 inputNum = int(input(f\"1 ~ 100사이의 수를 맞춰 보세요 (남은기회 : {try_num}): \"))\n",
    "#                 prev_num = inputNum\n",
    "#                 try_num -= 1\n",
    "#             elif randomNum < inputNum:\n",
    "#                 print(\"Down ↓\")\n",
    "#                 inputNum = int(input(f\"1 ~ {inputNum-1}사이의 수를 맞춰 보세요 (남은기회 : {try_num}): \"))\n",
    "#                 prev_num = inputNum-1\n",
    "#                 try_num -= 1\n",
    "#             elif randomNum > inputNum:\n",
    "#                 print(\"Up ↑\")\n",
    "#                 inputNum = int(input(f\"{inputNum+1} ~ {prev_num}사이의 수를 맞춰 보세요 (남은기회 : {try_num}): \"))\n",
    "#                 prev_num = inputNum\n",
    "#                 try_num -= 1\n",
    "#             else:\n",
    "#                 print(f\"성공 !! 축하 축하 맞추셨습니다.\")\n",
    "#                 break"
   ]
  },
  {
   "cell_type": "code",
   "execution_count": null,
   "id": "601e876c",
   "metadata": {},
   "outputs": [],
   "source": []
  },
  {
   "cell_type": "code",
   "execution_count": 23,
   "id": "cdc26c6a",
   "metadata": {},
   "outputs": [
    {
     "name": "stdout",
     "output_type": "stream",
     "text": [
      "컴퓨터가 발생한 임의의 수 :  13\n",
      "1 ~ 100사이의 수를 맞춰 보세요 : 10\n",
      "Up ↑\n",
      "11 ~ 100사이의 수를 맞춰 보세요 : 11\n",
      "Up ↑\n",
      "12 ~ 100사이의 수를 맞춰 보세요 : 11\n",
      "수의 범위를 벗어났습니다.\n",
      "12 ~ 100사이의 수를 맞춰 보세요 : 13\n",
      "축하 축하 맞추셨습니다.\n",
      "끝\n"
     ]
    }
   ],
   "source": [
    "# 문제풀이 10 2단계\n",
    "import random\n",
    "\n",
    "# (1) 1 ~ 100사이의 난수 발생\n",
    "fRom, to = 1, 100\n",
    "inputNum = 0\n",
    "randomNum = random.randint(1,100)\n",
    "print(\"컴퓨터가 발생한 임의의 수 : \",randomNum)\n",
    "# (2) 수를 입력 받아 틀리면, up/down 메시지를 출력, 맞추면 break (축하축하 메시지를 출력 후)\n",
    "\n",
    "while randomNum != inputNum:\n",
    "    inputNum = int(input(f\"{fRom} ~ {to}사이의 수를 맞춰 보세요 : \"))\n",
    "#     print(f\"{fRom} ~ {to}사이의 수를 맞춰 보세요 : \")\n",
    "    \n",
    "    \n",
    "    if (inputNum < fRom) | (inputNum > to) :\n",
    "        print(\"수의 범위를 벗어났습니다.\")\n",
    "    elif randomNum < inputNum:\n",
    "        print(\"Down ↓\")\n",
    "        to = inputNum-1\n",
    "    elif randomNum > inputNum:\n",
    "        print(\"Up ↑\")\n",
    "        fRom = inputNum+1\n",
    "    else:\n",
    "        print(\"축하 축하 맞추셨습니다.\")\n",
    "        break\n",
    "print(\"끝\")\n"
   ]
  },
  {
   "cell_type": "code",
   "execution_count": 3,
   "id": "ec63f023",
   "metadata": {},
   "outputs": [
    {
     "name": "stdout",
     "output_type": "stream",
     "text": [
      "컴퓨터가 발생한 임의의 수 :  92\n",
      "1 ~ 100사이의 수를 맞춰 보세요 (남은 기회 5번): 87\n",
      "Up ↑\n",
      "88 ~ 100사이의 수를 맞춰 보세요 (남은 기회 4번): 88\n",
      "Up ↑\n",
      "89 ~ 100사이의 수를 맞춰 보세요 (남은 기회 3번): 89\n",
      "Up ↑\n",
      "90 ~ 100사이의 수를 맞춰 보세요 (남은 기회 2번): 89\n",
      "수의 범위를 벗어났습니다.\n",
      "90 ~ 100사이의 수를 맞춰 보세요 (남은 기회 1번): 90\n",
      "Up ↑\n",
      "모든 기회를 다 쓰셨습니다. 떙!\n",
      "끝\n"
     ]
    }
   ],
   "source": [
    "# 문제풀이 10 3단계\n",
    "import random\n",
    "\n",
    "# (1) 1 ~ 100사이의 난수 발생\n",
    "fRom, to = 1, 100\n",
    "inputNum = 0\n",
    "randomNum = random.randint(1,100)\n",
    "print(\"컴퓨터가 발생한 임의의 수 : \",randomNum)\n",
    "# (2) 수를 입력 받아 틀리면, up/down 메시지를 출력, 맞추면 break (축하축하 메시지를 출력 후)\n",
    "\n",
    "for i in range(5, 0,-1) :\n",
    "    inputNum = int(input(f\"{fRom} ~ {to}사이의 수를 맞춰 보세요 (남은 기회 {i}번): \"))\n",
    "#     print(f\"{fRom} ~ {to}사이의 수를 맞춰 보세요 : \")\n",
    "    \n",
    "    \n",
    "    if (inputNum < fRom) | (inputNum > to) :\n",
    "        print(\"수의 범위를 벗어났습니다.\")\n",
    "    elif randomNum < inputNum:\n",
    "        print(\"Down ↓\")\n",
    "        to = inputNum-1\n",
    "    elif randomNum > inputNum:\n",
    "        print(\"Up ↑\")\n",
    "        fRom = inputNum+1\n",
    "    else:\n",
    "        print(\"축하 축하 맞추셨습니다.\")\n",
    "        break\n",
    "else:\n",
    "    print(\"모든 기회를 다 쓰셨습니다. 떙!\")\n",
    "print(\"끝\")"
   ]
  },
  {
   "cell_type": "code",
   "execution_count": 6,
   "id": "8ce51ea5",
   "metadata": {},
   "outputs": [
    {
     "name": "stdout",
     "output_type": "stream",
     "text": [
      "컴퓨터가 발생한 임의의 수 :  40\n",
      "1 ~ 100사이의 수를 맞춰 보세요 (남은 기회 5번): 35\n",
      "Up ↑\n",
      "36 ~ 100사이의 수를 맞춰 보세요 (남은 기회 4번): 36\n",
      "Up ↑\n",
      "37 ~ 100사이의 수를 맞춰 보세요 (남은 기회 3번): 37\n",
      "Up ↑\n",
      "38 ~ 100사이의 수를 맞춰 보세요 (남은 기회 2번): 38\n",
      "Up ↑\n",
      "39 ~ 100사이의 수를 맞춰 보세요 (남은 기회 1번): 39\n",
      "Up ↑\n",
      "모든 기회를 다 쓰셨습니다. 떙!\n",
      "끝\n"
     ]
    }
   ],
   "source": [
    "# 문제풀이 10 3단계 (message 부분 수정)\n",
    "\n",
    "import random\n",
    "\n",
    "# (1) 1 ~ 100사이의 난수 발생\n",
    "fRom, to = 1, 100\n",
    "inputNum = 0\n",
    "randomNum = random.randint(1,100)\n",
    "print(\"컴퓨터가 발생한 임의의 수 : \",randomNum)\n",
    "# (2) 수를 입력 받아 틀리면, up/down 메시지를 출력, 맞추면 break (축하축하 메시지를 출력 후)\n",
    "message = \"모든 기회를 다 쓰셨습니다. 떙!\"\n",
    "for i in range(5, 0,-1) :\n",
    "    inputNum = int(input(f\"{fRom} ~ {to}사이의 수를 맞춰 보세요 (남은 기회 {i}번): \"))\n",
    "#     print(f\"{fRom} ~ {to}사이의 수를 맞춰 보세요 : \")\n",
    "    \n",
    "    \n",
    "    if (inputNum < fRom) | (inputNum > to) :\n",
    "        print(\"수의 범위를 벗어났습니다.\")\n",
    "    elif randomNum < inputNum:\n",
    "        print(\"Down ↓\")\n",
    "        to = inputNum-1\n",
    "    elif randomNum > inputNum:\n",
    "        print(\"Up ↑\")\n",
    "        fRom = inputNum+1\n",
    "    else:\n",
    "        message = \"축하 축하 맞추셨습니다. {}번만에 딩동댕\".format(6-i)\n",
    "        break\n",
    "print(message)\n",
    "print(\"끝\")\n"
   ]
  }
 ],
 "metadata": {
  "kernelspec": {
   "display_name": "Python 3 (ipykernel)",
   "language": "python",
   "name": "python3"
  },
  "language_info": {
   "codemirror_mode": {
    "name": "ipython",
    "version": 3
   },
   "file_extension": ".py",
   "mimetype": "text/x-python",
   "name": "python",
   "nbconvert_exporter": "python",
   "pygments_lexer": "ipython3",
   "version": "3.10.9"
  },
  "toc": {
   "base_numbering": 1,
   "nav_menu": {},
   "number_sections": false,
   "sideBar": true,
   "skip_h1_title": false,
   "title_cell": "Table of Contents",
   "title_sidebar": "Contents",
   "toc_cell": false,
   "toc_position": {
    "height": "calc(100% - 180px)",
    "left": "10px",
    "top": "150px",
    "width": "185px"
   },
   "toc_section_display": true,
   "toc_window_display": true
  },
  "varInspector": {
   "cols": {
    "lenName": 16,
    "lenType": 16,
    "lenVar": 40
   },
   "kernels_config": {
    "python": {
     "delete_cmd_postfix": "",
     "delete_cmd_prefix": "del ",
     "library": "var_list.py",
     "varRefreshCmd": "print(var_dic_list())"
    },
    "r": {
     "delete_cmd_postfix": ") ",
     "delete_cmd_prefix": "rm(",
     "library": "var_list.r",
     "varRefreshCmd": "cat(var_dic_list()) "
    }
   },
   "types_to_exclude": [
    "module",
    "function",
    "builtin_function_or_method",
    "instance",
    "_Feature"
   ],
   "window_display": false
  }
 },
 "nbformat": 4,
 "nbformat_minor": 5
}
