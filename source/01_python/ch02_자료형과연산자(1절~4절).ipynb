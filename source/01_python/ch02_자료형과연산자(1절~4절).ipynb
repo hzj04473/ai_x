{
 "cells": [
  {
   "cell_type": "code",
   "execution_count": 1,
   "id": "958e6749",
   "metadata": {},
   "outputs": [
    {
     "data": {
      "text/html": [
       "\n",
       "<style>\n",
       "div.container{width:86% !important;}\n",
       "div.cell.code_cell.rendered{width:100%;}\n",
       "div.CodeMirror {font-family:Consolas; font-size:15pt;}\n",
       "div.output {font-size:15pt; font-weight:bold;}\n",
       "div.input {font-family:Consolas; font-size:15pt;}\n",
       "div.prompt {min-width:70px;}\n",
       "div#toc-wrapper{padding-top:120px;}\n",
       "div.text_cell_render ul li{font-size:12pt;padding:5px;}\n",
       "table.dataframe{font-size:15px;}\n",
       "</style>\n"
      ],
      "text/plain": [
       "<IPython.core.display.HTML object>"
      ]
     },
     "metadata": {},
     "output_type": "display_data"
    }
   ],
   "source": [
    "from IPython.display import display, HTML\n",
    "display(HTML(\"\"\"\n",
    "<style>\n",
    "div.container{width:86% !important;}\n",
    "div.cell.code_cell.rendered{width:100%;}\n",
    "div.CodeMirror {font-family:Consolas; font-size:15pt;}\n",
    "div.output {font-size:15pt; font-weight:bold;}\n",
    "div.input {font-family:Consolas; font-size:15pt;}\n",
    "div.prompt {min-width:70px;}\n",
    "div#toc-wrapper{padding-top:120px;}\n",
    "div.text_cell_render ul li{font-size:12pt;padding:5px;}\n",
    "table.dataframe{font-size:15px;}\n",
    "</style>\n",
    "\"\"\"))"
   ]
  },
  {
   "cell_type": "markdown",
   "id": "01fe9063",
   "metadata": {},
   "source": [
    "<font size=\"5\" color=\"red\">ch02 자료형과 연산자</font>\n",
    "\n",
    "# 1절 변수\n",
    "\n",
    "- 파이썬 변수선언을 위한 과정이 없음. 할당과 동시에 타입이 지정되고 값이 할당됨\n",
    "\n",
    "## 1.1 변수할당\n",
    "\n",
    "- 할당연산자(=)를 이용해서 값을 할당하면 타입이 셋팅\n",
    "- 파이썬에서의 모든 변수는 객체로 저장"
   ]
  },
  {
   "cell_type": "code",
   "execution_count": 39,
   "id": "ce66f9c3",
   "metadata": {},
   "outputs": [
    {
     "name": "stdout",
     "output_type": "stream",
     "text": [
      "1. 계산된 넓이는 78.5\n",
      "2. 계산된 넓이는 78.5\n"
     ]
    }
   ],
   "source": [
    "r = 5\n",
    "area = 3.14 * r * r\n",
    "print(\"1. 계산된 넓이는 \" + str(area))\n",
    "print(\"2. 계산된 넓이는\", area)"
   ]
  },
  {
   "cell_type": "code",
   "execution_count": 45,
   "id": "5ec8ec79",
   "metadata": {},
   "outputs": [
    {
     "name": "stdout",
     "output_type": "stream",
     "text": [
      "area = 78.53981633974483\n"
     ]
    }
   ],
   "source": [
    "import numpy as np\n",
    "\n",
    "area = np.pi * r * r\n",
    "print('area =', area)\n"
   ]
  },
  {
   "cell_type": "code",
   "execution_count": 47,
   "id": "0ace71e6",
   "metadata": {},
   "outputs": [
    {
     "data": {
      "text/plain": [
       "False"
      ]
     },
     "execution_count": 47,
     "metadata": {},
     "output_type": "execute_result"
    }
   ],
   "source": [
    "area.is_integer() #area 값이 integer인지 여부 반환"
   ]
  },
  {
   "cell_type": "code",
   "execution_count": 51,
   "id": "323fdc5c",
   "metadata": {},
   "outputs": [
    {
     "name": "stdout",
     "output_type": "stream",
     "text": [
      "area의 주소 2067886835920\n",
      "area의 타입 <class 'float'>\n"
     ]
    }
   ],
   "source": [
    "print(\"area의 주소\", id(area)) #id(area) : area변수의 주소값\n",
    "print(\"area의 타입\", type(area))"
   ]
  },
  {
   "cell_type": "code",
   "execution_count": 56,
   "id": "b89bc77e",
   "metadata": {},
   "outputs": [
    {
     "name": "stdout",
     "output_type": "stream",
     "text": [
      "area의 주소 2067892449040\n",
      "area의 타입 <class 'float'>\n"
     ]
    }
   ],
   "source": [
    "area = 5.5\n",
    "print(\"area의 주소\", id(area)) #id(area) : area변수의 주소값\n",
    "print(\"area의 타입\", type(area))"
   ]
  },
  {
   "cell_type": "code",
   "execution_count": 61,
   "id": "e359226c",
   "metadata": {},
   "outputs": [
    {
     "name": "stdout",
     "output_type": "stream",
     "text": [
      "area의 주소 2067758449168\n",
      "area의 타입 <class 'int'>\n"
     ]
    }
   ],
   "source": [
    "area = 10\n",
    "print(\"area의 주소\", id(area)) #id(area) : area변수의 주소값\n",
    "print(\"area의 타입\", type(area))"
   ]
  },
  {
   "cell_type": "code",
   "execution_count": 63,
   "id": "c2d3d4fa",
   "metadata": {},
   "outputs": [
    {
     "name": "stdout",
     "output_type": "stream",
     "text": [
      "area의 주소 2067896039440\n",
      "area의 타입 <class 'str'>\n"
     ]
    }
   ],
   "source": [
    "area = \"파이썬\"\n",
    "print(\"area의 주소\", id(area)) #id(area) : area변수의 주소값\n",
    "print(\"area의 타입\", type(area))"
   ]
  },
  {
   "cell_type": "markdown",
   "id": "528c338c",
   "metadata": {},
   "source": [
    "## 1.2 변수이름 규칙\n",
    "\n",
    "- 문자로 시작 (숫자시작불가)\n",
    "- 문자, 숫자, _로 변수명 작성\n",
    "- 함수명은 변수이름으로 가능하나, 피한다. 써야한다면 int_ 식으로 _를 이용\n",
    "- 파이썬 예약어 (for, ..)는 변수이름 사용 불가\n",
    "- 한글변수는 꼭 필요시해만 이용\n"
   ]
  },
  {
   "cell_type": "code",
   "execution_count": 65,
   "id": "29715a0d",
   "metadata": {},
   "outputs": [
    {
     "name": "stdout",
     "output_type": "stream",
     "text": [
      "홍길동\n"
     ]
    }
   ],
   "source": [
    "이름 = \"홍길동\"\n",
    "print(이름)"
   ]
  },
  {
   "cell_type": "code",
   "execution_count": 66,
   "id": "fc0a3d27",
   "metadata": {},
   "outputs": [
    {
     "data": {
      "text/plain": [
       "'홍길동'"
      ]
     },
     "execution_count": 66,
     "metadata": {},
     "output_type": "execute_result"
    }
   ],
   "source": [
    "이름"
   ]
  },
  {
   "cell_type": "code",
   "execution_count": 71,
   "id": "014a78c2",
   "metadata": {},
   "outputs": [
    {
     "ename": "SyntaxError",
     "evalue": "invalid syntax (3039934606.py, line 1)",
     "output_type": "error",
     "traceback": [
      "\u001b[1;36m  Cell \u001b[1;32mIn[71], line 1\u001b[1;36m\u001b[0m\n\u001b[1;33m    for = 5\u001b[0m\n\u001b[1;37m        ^\u001b[0m\n\u001b[1;31mSyntaxError\u001b[0m\u001b[1;31m:\u001b[0m invalid syntax\n"
     ]
    }
   ],
   "source": [
    "# 예약어는 변수로 사용이 불가하다\n",
    "for = 5"
   ]
  },
  {
   "cell_type": "code",
   "execution_count": 69,
   "id": "6dd7baae",
   "metadata": {},
   "outputs": [],
   "source": [
    "# member.name = \"홍길동\"\n",
    "member_name = \"홍길동\"\n",
    "memberName = \"홍길동\""
   ]
  },
  {
   "cell_type": "code",
   "execution_count": 70,
   "id": "76e0319b",
   "metadata": {},
   "outputs": [
    {
     "name": "stdout",
     "output_type": "stream",
     "text": [
      "10\n"
     ]
    }
   ],
   "source": [
    "# 대문자로 시작하는 변수, 함수명 강력비추\n",
    "Print = 10 \n",
    "print(Print)"
   ]
  },
  {
   "cell_type": "code",
   "execution_count": 72,
   "id": "723623f9",
   "metadata": {},
   "outputs": [
    {
     "data": {
      "text/plain": [
       "complex"
      ]
     },
     "execution_count": 72,
     "metadata": {},
     "output_type": "execute_result"
    }
   ],
   "source": [
    "# 파이썬에서의 숫자 : 정수, 실수, 복소수\n",
    "i = 3 + 3j # 복소스\n",
    "type(i)"
   ]
  },
  {
   "cell_type": "code",
   "execution_count": 73,
   "id": "453896f9",
   "metadata": {},
   "outputs": [
    {
     "data": {
      "text/plain": [
       "True"
      ]
     },
     "execution_count": 73,
     "metadata": {},
     "output_type": "execute_result"
    }
   ],
   "source": [
    "isinstance(i, complex) # i변수(객체)가 complex인지 여부"
   ]
  },
  {
   "cell_type": "markdown",
   "id": "1234edbe",
   "metadata": {},
   "source": [
    "## 1.3 도움말"
   ]
  },
  {
   "cell_type": "code",
   "execution_count": 74,
   "id": "8042ff2e",
   "metadata": {},
   "outputs": [
    {
     "name": "stdout",
     "output_type": "stream",
     "text": [
      "Help on built-in function print in module builtins:\n",
      "\n",
      "print(...)\n",
      "    print(value, ..., sep=' ', end='\\n', file=sys.stdout, flush=False)\n",
      "    \n",
      "    Prints the values to a stream, or to sys.stdout by default.\n",
      "    Optional keyword arguments:\n",
      "    file:  a file-like object (stream); defaults to the current sys.stdout.\n",
      "    sep:   string inserted between values, default a space.\n",
      "    end:   string appended after the last value, default a newline.\n",
      "    flush: whether to forcibly flush the stream.\n",
      "\n"
     ]
    }
   ],
   "source": [
    "help(print)"
   ]
  },
  {
   "cell_type": "code",
   "execution_count": 84,
   "id": "f660d3ad",
   "metadata": {},
   "outputs": [
    {
     "name": "stdout",
     "output_type": "stream",
     "text": [
      "\n",
      "Welcome to Python 3.10's help utility!\n",
      "\n",
      "If this is your first time using Python, you should definitely check out\n",
      "the tutorial on the internet at https://docs.python.org/3.10/tutorial/.\n",
      "\n",
      "Enter the name of any module, keyword, or topic to get help on writing\n",
      "Python programs and using Python modules.  To quit this help utility and\n",
      "return to the interpreter, just type \"quit\".\n",
      "\n",
      "To get a list of available modules, keywords, symbols, or topics, type\n",
      "\"modules\", \"keywords\", \"symbols\", or \"topics\".  Each module also comes\n",
      "with a one-line summary of what it does; to list the modules whose name\n",
      "or summary contain a given string such as \"spam\", type \"modules spam\".\n",
      "\n",
      "help> q\n",
      "\n",
      "You are now leaving help and returning to the Python interpreter.\n",
      "If you want to ask for help on a particular object directly from the\n",
      "interpreter, you can type \"help(object)\".  Executing \"help('string')\"\n",
      "has the same effect as typing a particular string at the help> prompt.\n"
     ]
    }
   ],
   "source": [
    "# help를 빠져나올려면 q입력 \n",
    "help()\n",
    "# ESC + o : 결과 접기/펴기"
   ]
  },
  {
   "cell_type": "code",
   "execution_count": null,
   "id": "d966fb9c",
   "metadata": {},
   "outputs": [],
   "source": [
    "# 도움말 기능 : shift + tab 키 tab 키\n",
    "print()"
   ]
  },
  {
   "cell_type": "code",
   "execution_count": 85,
   "id": "3660c584",
   "metadata": {},
   "outputs": [],
   "source": [
    "def add(x, y = 0):\n",
    "    '''\n",
    "    매개변수 2개를 받아 두자리 숫자로 만들어요\n",
    "    x = 10 의 자리수가 됨\n",
    "    y = 1의 자리수가 됨\n",
    "    사용법 : add(2, 3) => 23\n",
    "    '''\n",
    "    return x * 10 + y"
   ]
  },
  {
   "cell_type": "code",
   "execution_count": 86,
   "id": "a62dec16",
   "metadata": {},
   "outputs": [
    {
     "data": {
      "text/plain": [
       "20"
      ]
     },
     "execution_count": 86,
     "metadata": {},
     "output_type": "execute_result"
    }
   ],
   "source": [
    "add(2)"
   ]
  },
  {
   "cell_type": "code",
   "execution_count": 92,
   "id": "9f6a6939",
   "metadata": {},
   "outputs": [
    {
     "data": {
      "text/plain": [
       "23"
      ]
     },
     "execution_count": 92,
     "metadata": {},
     "output_type": "execute_result"
    }
   ],
   "source": [
    "# 변수에 함수도 할당할 수 있다.\n",
    "a = add\n",
    "a(2, 3)"
   ]
  },
  {
   "cell_type": "markdown",
   "id": "e9af34bd",
   "metadata": {},
   "source": [
    "## 1.4 다중 변수 할당"
   ]
  },
  {
   "cell_type": "code",
   "execution_count": 93,
   "id": "dd0f576e",
   "metadata": {},
   "outputs": [],
   "source": [
    "a = 10\n",
    "b = 20"
   ]
  },
  {
   "cell_type": "code",
   "execution_count": 95,
   "id": "004ff024",
   "metadata": {},
   "outputs": [
    {
     "name": "stdout",
     "output_type": "stream",
     "text": [
      "10 20\n"
     ]
    }
   ],
   "source": [
    "a, b = 10, 20\n",
    "print(a, b)"
   ]
  },
  {
   "cell_type": "code",
   "execution_count": 96,
   "id": "debb90a1",
   "metadata": {},
   "outputs": [
    {
     "name": "stdout",
     "output_type": "stream",
     "text": [
      "20 30\n"
     ]
    }
   ],
   "source": [
    "# 다중 변수 할당시 순차적 할당이 아니고, 일괄 동시 할당\n",
    "# 뭔 소리야 ~ ㅋㅋㅋ... 많이 쓰지 않지만, 쓸떄가 있다.\n",
    "a, b = b, a+b\n",
    "print(a, b)"
   ]
  },
  {
   "cell_type": "markdown",
   "id": "b00c1389",
   "metadata": {},
   "source": [
    "# 2절 화면입출력(i / o)"
   ]
  },
  {
   "cell_type": "code",
   "execution_count": 2,
   "id": "2e2df6af",
   "metadata": {},
   "outputs": [
    {
     "name": "stdout",
     "output_type": "stream",
     "text": [
      "첫번째 숫자는? 10\n"
     ]
    },
    {
     "data": {
      "text/plain": [
       "'10'"
      ]
     },
     "execution_count": 2,
     "metadata": {},
     "output_type": "execute_result"
    }
   ],
   "source": [
    "# input() : 사용자로부터 값을 입력받기 위한 함수. 문자열로 입력\n",
    "first = input(\"첫번째 숫자는? \")\n",
    "first"
   ]
  },
  {
   "cell_type": "code",
   "execution_count": 3,
   "id": "caaaa77d",
   "metadata": {},
   "outputs": [
    {
     "name": "stdout",
     "output_type": "stream",
     "text": [
      "두번쨰 숫자는? 20\n"
     ]
    },
    {
     "data": {
      "text/plain": [
       "'20'"
      ]
     },
     "execution_count": 3,
     "metadata": {},
     "output_type": "execute_result"
    }
   ],
   "source": [
    "second = input(\"두번쨰 숫자는? \")\n",
    "second"
   ]
  },
  {
   "cell_type": "code",
   "execution_count": 4,
   "id": "18cfc84d",
   "metadata": {},
   "outputs": [
    {
     "name": "stdout",
     "output_type": "stream",
     "text": [
      "합 : 30\n"
     ]
    }
   ],
   "source": [
    "sum = int(first) + int(second)\n",
    "print(\"합 :\", sum)"
   ]
  },
  {
   "cell_type": "code",
   "execution_count": 11,
   "id": "7fdc8f3e",
   "metadata": {},
   "outputs": [
    {
     "name": "stdout",
     "output_type": "stream",
     "text": [
      "첫번째 숫자는? 10\n",
      "두번쨰 숫자는? 20\n",
      "합 30\n"
     ]
    }
   ],
   "source": [
    "first = int(input(\"첫번째 숫자는? \"))\n",
    "second = int(input(\"두번쨰 숫자는? \"))\n",
    "sum = first + second\n",
    "print(\"합\", sum)"
   ]
  },
  {
   "cell_type": "code",
   "execution_count": 22,
   "id": "dccd3707",
   "metadata": {},
   "outputs": [
    {
     "name": "stdout",
     "output_type": "stream",
     "text": [
      "합=30 / 합 ~ 30 / 합 30\n"
     ]
    }
   ],
   "source": [
    "print(\"합\", sum, sep='=', end=' / ')\n",
    "print(\"합\", sum, sep=' ~ ', end=' / ')\n",
    "print(\"합\", sum, sep=' ')"
   ]
  },
  {
   "cell_type": "code",
   "execution_count": 31,
   "id": "317530f2",
   "metadata": {},
   "outputs": [
    {
     "name": "stdout",
     "output_type": "stream",
     "text": [
      "hello, world\n"
     ]
    }
   ],
   "source": [
    "import sys\n",
    "print('hello','world', sep=', ', file=sys.stdout)"
   ]
  },
  {
   "cell_type": "markdown",
   "id": "7682b0bb",
   "metadata": {},
   "source": [
    "# 3절 기본 자료형\n",
    "\n",
    "## 스칼라데이터\n",
    "- 변수 = 값\n",
    "\n",
    "- 자료형에 따라 값이 크기와 저장방식이 달라짐\n",
    "    - 숫자 : int (x), float(x.x), complex\n",
    "    - 문자 : str\n",
    "    - 논리 : bool (True / False)\n",
    "    \n",
    "## 3.1 숫자형"
   ]
  },
  {
   "cell_type": "code",
   "execution_count": 32,
   "id": "eea21399",
   "metadata": {},
   "outputs": [
    {
     "data": {
      "text/plain": [
       "9223372036854775807"
      ]
     },
     "execution_count": 32,
     "metadata": {},
     "output_type": "execute_result"
    }
   ],
   "source": [
    "sys.maxsize # 정수의 최대값 2의 64승 -1 (2**64 - 1)"
   ]
  },
  {
   "cell_type": "code",
   "execution_count": 37,
   "id": "c9d66dd6",
   "metadata": {},
   "outputs": [
    {
     "name": "stdout",
     "output_type": "stream",
     "text": [
      "9223372136854775807\n",
      "<class 'int'>\n"
     ]
    }
   ],
   "source": [
    "i = sys.maxsize + 100000000000\n",
    "print(i)\n",
    "print(type(i))"
   ]
  },
  {
   "cell_type": "code",
   "execution_count": 40,
   "id": "4b8d65d6",
   "metadata": {},
   "outputs": [
    {
     "name": "stdout",
     "output_type": "stream",
     "text": [
      "2.0\n",
      "<class 'float'>\n"
     ]
    }
   ],
   "source": [
    "f = 4 / 2 # 정수 / 정수는 무조건 실수\n",
    "print(f)\n",
    "print(type(f))"
   ]
  },
  {
   "cell_type": "code",
   "execution_count": 45,
   "id": "b3763d03",
   "metadata": {},
   "outputs": [
    {
     "name": "stdout",
     "output_type": "stream",
     "text": [
      "2\n",
      "<class 'int'>\n",
      "2\n",
      "<class 'int'>\n"
     ]
    }
   ],
   "source": [
    "# 자바처럼 정수/정수의 결과를 정수로 \n",
    "f = 4 // 2 #몫연산자\n",
    "print(f)\n",
    "print(type(f))\n",
    "\n",
    "# 몫연산자 사용을 안 할 경우\n",
    "f = int(4 / 2)\n",
    "print(f)\n",
    "print(type(f))"
   ]
  },
  {
   "cell_type": "code",
   "execution_count": 46,
   "id": "3f942a09",
   "metadata": {},
   "outputs": [
    {
     "name": "stdout",
     "output_type": "stream",
     "text": [
      "(-1+0j)\n"
     ]
    }
   ],
   "source": [
    "c = 1j # 수학시간의 0 + 1i\n",
    "print(c ** 2) # ** 승연산자"
   ]
  },
  {
   "cell_type": "code",
   "execution_count": 49,
   "id": "90fe4f28",
   "metadata": {},
   "outputs": [
    {
     "name": "stdout",
     "output_type": "stream",
     "text": [
      "지수형 표현할당시 실수형으로 저장 : 1120000000000.0\n",
      "<class 'float'>\n"
     ]
    }
   ],
   "source": [
    "f = 1.12e12 # 1.12의 10의 12승 1120000000000.0\n",
    "print('지수형 표현할 당시 실수형으로 저장 :',f)\n",
    "print(type(f))"
   ]
  },
  {
   "cell_type": "code",
   "execution_count": 56,
   "id": "31826177",
   "metadata": {},
   "outputs": [
    {
     "name": "stdout",
     "output_type": "stream",
     "text": [
      "지수형 표현할 당시 실수형으로 저장 : 1.12e-12\n",
      "<class 'float'>\n"
     ]
    }
   ],
   "source": [
    "f = 1.12e-12\n",
    "print('지수형 표현할 당시 실수형으로 저장 :',f)\n",
    "print(type(f))"
   ]
  },
  {
   "cell_type": "markdown",
   "id": "88cff4b9",
   "metadata": {},
   "source": [
    "## 3.2 문자형\n",
    "\n",
    "- 쌍따옴표(\"\")나 홑따옴표('') 이용"
   ]
  },
  {
   "cell_type": "code",
   "execution_count": 66,
   "id": "2d7be767",
   "metadata": {},
   "outputs": [
    {
     "name": "stdout",
     "output_type": "stream",
     "text": [
      "홍길동\"짱\" 서울시 관악구 '신림동'\n"
     ]
    }
   ],
   "source": [
    "name = \"홍길동\\\"짱\\\"\" # 홍길동\"짱\"\n",
    "name = '홍길동\"짱\"' # 홍길동\"짱\"\n",
    "address = '서울시 관악구 \\'신림동\\'' # 서울시 관악구 '신림동'\n",
    "address = \"서울시 관악구 '신림동'\" # 서울시 관악구 '신림동'\n",
    "print(name, address)"
   ]
  },
  {
   "cell_type": "code",
   "execution_count": 73,
   "id": "b7b16937",
   "metadata": {},
   "outputs": [
    {
     "name": "stdout",
     "output_type": "stream",
     "text": [
      "여러줄 짜리 내용\n",
      "줄바꿈문자를 쓰기 않고, 따옴표 3개로 처리\n",
      "이처럼 쓰는 경우가 많아요 ㅋㅋ xx 010-9999-9999 020202-1023456\n"
     ]
    }
   ],
   "source": [
    "# 문자형 변수 여러줄\n",
    "text = \"\"\"여러줄 짜리 내용\n",
    "줄바꿈문자를 쓰기 않고, 따옴표 3개로 처리\n",
    "이처럼 쓰는 경우가 많아요 ㅋㅋ xx 010-9999-9999 020202-1023456\"\"\"\n",
    "print(text)"
   ]
  },
  {
   "cell_type": "markdown",
   "id": "44338d22",
   "metadata": {},
   "source": [
    "### ※ 문자열 연산"
   ]
  },
  {
   "cell_type": "code",
   "execution_count": 74,
   "id": "0edcb1af",
   "metadata": {},
   "outputs": [
    {
     "name": "stdout",
     "output_type": "stream",
     "text": [
      "홍길동동해 번쩍 서해 번쩍\n"
     ]
    }
   ],
   "source": [
    "'''\n",
    "    여러 줄 주석 용도\n",
    "    2025.04.08 문자열 연산 소스 by 아무개\n",
    "'''\n",
    "name1 = \"홍길동\"\n",
    "name2 = \"동해 번쩍 서해 번쩍\"\n",
    "print(name1 + name2)"
   ]
  },
  {
   "cell_type": "code",
   "execution_count": 75,
   "id": "0fbbb974",
   "metadata": {},
   "outputs": [
    {
     "name": "stdout",
     "output_type": "stream",
     "text": [
      "홍길동홍길동홍길동\n"
     ]
    }
   ],
   "source": [
    "print(name1 * 3) # 문자열을 곱하면 반복"
   ]
  },
  {
   "cell_type": "markdown",
   "id": "fc100601",
   "metadata": {},
   "source": [
    "### ※ raw 데이터\n",
    "\n",
    "- 용도 : 정규표현식 이용, 디렉토리 경로 표현식 이용"
   ]
  },
  {
   "cell_type": "code",
   "execution_count": 83,
   "id": "a85a07d6",
   "metadata": {},
   "outputs": [
    {
     "name": "stdout",
     "output_type": "stream",
     "text": [
      "Hello\n",
      "World\n",
      "Hello\\nWorld\n",
      "Hello\\nWorld\n"
     ]
    }
   ],
   "source": [
    "print('Hello\\nWorld')\n",
    "# r 을 붙이면 역슬래시 문자를 해석하지 않고 남겨둠\n",
    "print(r'Hello\\nWorld')\n",
    "# 또는\n",
    "print('Hello\\\\nWorld')"
   ]
  },
  {
   "cell_type": "markdown",
   "id": "6beb8feb",
   "metadata": {},
   "source": [
    "### ※ 정규표현식\n",
    "```\n",
    "1. 참조 : 위키백과\n",
    "2. 간략한 문법 : \n",
    "    \\d     (숫자와 매치, [0-9]와 동일)\n",
    "    \\D     (숫자가 아닌것)\n",
    "    \\w     (영문자나 숫자, [a-zA-Z0-9])\n",
    "    \\W     (영문자나 숫자가 아닌 문자)\n",
    "    .      (문자)\n",
    "    \\.     (. 의미)\n",
    "    \\-     (- 의미)\n",
    "    {2, 4} (2~4번 반복)\n",
    "    {4}    (4번 반복)\n",
    "    {2,}   (2번이상 반복)\n",
    "    +      (1번이상 반복)\n",
    "    *      (0번이상 반복)\n",
    "    ?      (0번이나 1번 반복)\n",
    "3. 정규표현식 연습장 (https://regexr.com/)\n",
    "    ex1. 전화번호 : 010-9999-9999 02-7777-8888 01088889999 0277778888 02)713-3456 010 1234 1234 010.1234.1234\n",
    "    ex2. 이메일 : abc@naver.com / abc123@to7.co.kr / abc@한국.com\n",
    "4. 소스 구현    \n",
    " \n",
    "```"
   ]
  },
  {
   "cell_type": "code",
   "execution_count": 137,
   "id": "67bbf592",
   "metadata": {},
   "outputs": [],
   "source": [
    "#phone_pattern = r'[0-9]{2,3}[\\-). ]?[0-9]{3,4}[\\-. ]?[0-9]{4}'\n",
    "#email_pattern = r\"[\\w]{3,}@[0-9a-zA-Z가-힣]+(\\.[a-zA-Z]+){1,2}\""
   ]
  },
  {
   "cell_type": "code",
   "execution_count": 3,
   "id": "a22a343d",
   "metadata": {},
   "outputs": [
    {
     "name": "stdout",
     "output_type": "stream",
     "text": [
      "['041-888-8888', '010-9999-9999', '02-7777-8888', '01088889999', '0277778888', '02)713-3456', '010 1234 1234', '010.1234.1234']\n"
     ]
    }
   ],
   "source": [
    "# 전화번호 뽑기 정규표현식\n",
    "# [0-9]{2, 3}-[0-9]{3, 4}-[0-9]{4}\n",
    "# \\d{2, 3}-\\d{3,4}-\\d{4}\n",
    "# [0-9]{2,3}[\\-) ]?[0-9]{3,4}[\\- ]?[0-9]{4}\n",
    "# [a-zA-Z ]\n",
    "\n",
    "import re\n",
    "phone_data = \"홍길동인데 전번이 041-888-8888 010-9999-9999 02-7777-8888 01088889999 0277778888 \\\n",
    "02)713-3456 010 1234 1234 010.1234.1234 동해번쩍 서해번쩍 ㅋㅋ ㅠㅠ 오늘날씨는 엄청 좋아요 Nice Good Day\"\n",
    "# print(phone_data)\n",
    "phone_pattern = r'[0-9]{2,3}[\\-). ]?[0-9]{3,4}[\\-. ]?[0-9]{4}'\n",
    "# 해당 패턴을 다 찾아줌, 없으면 [] 반환\n",
    "phone = re.findall(phone_pattern, phone_data)\n",
    "print(phone)"
   ]
  },
  {
   "cell_type": "code",
   "execution_count": 219,
   "id": "82fd72ab",
   "metadata": {},
   "outputs": [
    {
     "name": "stdout",
     "output_type": "stream",
     "text": [
      "<re.Match object; span=(10, 22), match='041-888-8888'>\n"
     ]
    }
   ],
   "source": [
    "# search() : 정규표현식 패턴과 일치하는 처음단어만 찾음\n",
    "pattern = \"(\\d{2,3})-(\\d{3,4})-(\\d{4})\"\n",
    "# firstPhone = re.findall(pattern, phone_data)\n",
    "firstPhone = re.search(pattern, phone_data)\n",
    "print(firstPhone)"
   ]
  },
  {
   "cell_type": "code",
   "execution_count": 218,
   "id": "30ce31b5",
   "metadata": {},
   "outputs": [
    {
     "name": "stdout",
     "output_type": "stream",
     "text": [
      "문자 슬라이싱 : 041-888-8888\n"
     ]
    }
   ],
   "source": [
    "# 문자 슬라이싱\n",
    "print(\"문자 슬라이싱 :\",phone_data[10:22])"
   ]
  },
  {
   "cell_type": "code",
   "execution_count": 217,
   "id": "875aa8da",
   "metadata": {},
   "outputs": [
    {
     "name": "stdout",
     "output_type": "stream",
     "text": [
      "전화번호 전체 출력 : 041-888-8888\n",
      "국번 : 041\n",
      "중간번호 : 888\n",
      "끝번호 : 8888\n"
     ]
    }
   ],
   "source": [
    "print('전화번호 전체 출력 :', firstPhone.group(0))\n",
    "print('국번 :', firstPhone.group(1))\n",
    "print('중간번호 :', firstPhone.group(2))\n",
    "print('끝번호 :', firstPhone.group(3))"
   ]
  },
  {
   "cell_type": "code",
   "execution_count": 223,
   "id": "ad2ebd3e",
   "metadata": {},
   "outputs": [
    {
     "data": {
      "text/plain": [
       "'홍길동인데 전번이 0418888888 01099999999 0277778888 01088889999 0277778888 027133456 010 1234 1234 01012341234 동해번쩍 서해번쩍   오늘날씨는 엄청 좋아요 Nice Good Day'"
      ]
     },
     "execution_count": 223,
     "metadata": {},
     "output_type": "execute_result"
    }
   ],
   "source": [
    "# 특수문자, 자음, 모음 없애기\n",
    "re.sub(r'[^a-zA-Z가-힣0-9\\s]','', phone_data) "
   ]
  },
  {
   "cell_type": "code",
   "execution_count": 229,
   "id": "b5bbe87c",
   "metadata": {},
   "outputs": [],
   "source": [
    "# 파일 경로에는 반드시 r, \\\\, / 중 하나를 사용\n",
    "# file_path = r\"C:\\ai_x\\source\\01_python\\test.txt\"\n",
    "# file_path = \"C:\\\\ai_x\\\\source\\\\01_python\\\\test.txt\"\n",
    "file_path = \"C:/ai_x/source/01_python/test.txt\""
   ]
  },
  {
   "cell_type": "code",
   "execution_count": 235,
   "id": "22085ba9",
   "metadata": {},
   "outputs": [
    {
     "name": "stdout",
     "output_type": "stream",
     "text": [
      "Hello ~ World\n"
     ]
    }
   ],
   "source": [
    "file_stream = open(file_path, 'w')\n",
    "print('Hello','World',sep=\" ~ \") # 콘솔출력\n",
    "print('Hello','World',sep=\" ~ \", file=file_stream) # 파일 출력\n",
    "file_stream.close() # close를 하지 않으면 파일저장이 되지 안 됨"
   ]
  },
  {
   "cell_type": "code",
   "execution_count": 4,
   "id": "831c55b9",
   "metadata": {
    "scrolled": true
   },
   "outputs": [
    {
     "name": "stdout",
     "output_type": "stream",
     "text": [
      "['abc@naver.com', 'abc123@to7.co.kr', 'abc@한국.com']\n"
     ]
    }
   ],
   "source": [
    "email_data= \"이메일 : abc@naver.com / abc123@to7.co.kr / abc@한국.com / abc@한국-com\"\n",
    "# email_pattern = r\"[0-9a-zA-Z]+[\\@][0-9a-zA-Z가-힣]*[\\.][0-9a-zA-Z]*\"\n",
    "# email_pattern = r\"[\\w]{3,}@[0-9a-zA-Z가-힣]+(\\.[a-zA-Z]+){1,2}\"\n",
    "# email_pattern = r\"[\\w]{3,}@[0-9a-zA-Z가-힣-]+(\\.[a-zA-Z]{2,})+\"\n",
    "# email_pattern = r\"[a-zA-Z0-9._+-]+@[a-zA-Z0-9]+\\.[a-zA-Z]{2,4}\"\n",
    "email_pattern = r\"[\\w]{3,}@[0-9a-zA-Z가-힣.-]+\\.[a-zA-Z]{2,}\"\n",
    "\n",
    "email = re.findall(email_pattern, email_data)\n",
    "print(email)"
   ]
  },
  {
   "cell_type": "markdown",
   "id": "e4c919de",
   "metadata": {},
   "source": [
    "### 문자열 슬라이싱"
   ]
  },
  {
   "cell_type": "code",
   "execution_count": 247,
   "id": "1bc3c42f",
   "metadata": {},
   "outputs": [
    {
     "data": {
      "text/plain": [
       "'0123456789'"
      ]
     },
     "execution_count": 247,
     "metadata": {},
     "output_type": "execute_result"
    }
   ],
   "source": [
    "str_ = '0123456789'\n",
    "# str_ = 'Python'\n",
    "str_"
   ]
  },
  {
   "cell_type": "code",
   "execution_count": 248,
   "id": "afa792dc",
   "metadata": {},
   "outputs": [
    {
     "data": {
      "text/plain": [
       "('0', '2', '9', '7')"
      ]
     },
     "execution_count": 248,
     "metadata": {},
     "output_type": "execute_result"
    }
   ],
   "source": [
    "# 문자 인덱싱\n",
    "str_[0], str_[2], str_[-1], str_[-3] "
   ]
  },
  {
   "cell_type": "code",
   "execution_count": 249,
   "id": "fb1082d5",
   "metadata": {},
   "outputs": [
    {
     "ename": "IndexError",
     "evalue": "string index out of range",
     "output_type": "error",
     "traceback": [
      "\u001b[1;31m---------------------------------------------------------------------------\u001b[0m",
      "\u001b[1;31mIndexError\u001b[0m                                Traceback (most recent call last)",
      "Cell \u001b[1;32mIn[249], line 1\u001b[0m\n\u001b[1;32m----> 1\u001b[0m \u001b[43mstr_\u001b[49m\u001b[43m[\u001b[49m\u001b[38;5;241;43m20\u001b[39;49m\u001b[43m]\u001b[49m\n",
      "\u001b[1;31mIndexError\u001b[0m: string index out of range"
     ]
    }
   ],
   "source": [
    "str_[20] # 없는 인덱싱은 에레"
   ]
  },
  {
   "cell_type": "code",
   "execution_count": 250,
   "id": "b7c0999c",
   "metadata": {},
   "outputs": [
    {
     "data": {
      "text/plain": [
       "'\\n문자변수[from:stop]\\n'"
      ]
     },
     "execution_count": 250,
     "metadata": {},
     "output_type": "execute_result"
    }
   ],
   "source": [
    "# 문자열 슬라이싱\n",
    "'''\n",
    "문자변수[from:stop] : from 부터 stop 앞까지 추출\n",
    "문자변수[from:stop:step] : from 부터 stop 앞까지 step 씩 전진하면서 추출\n",
    "    step 생략시 1\n",
    "    from 생략시 처음부터\n",
    "    stop 생략시 끝까지\n",
    "'''"
   ]
  },
  {
   "cell_type": "code",
   "execution_count": 260,
   "id": "6304d611",
   "metadata": {},
   "outputs": [
    {
     "data": {
      "text/plain": [
       "'01234'"
      ]
     },
     "execution_count": 260,
     "metadata": {},
     "output_type": "execute_result"
    }
   ],
   "source": [
    "str_[0:5] # 0번쨰 ~ 5번째 앞까지"
   ]
  },
  {
   "cell_type": "code",
   "execution_count": 261,
   "id": "e84dc192",
   "metadata": {},
   "outputs": [
    {
     "data": {
      "text/plain": [
       "'5678'"
      ]
     },
     "execution_count": 261,
     "metadata": {},
     "output_type": "execute_result"
    }
   ],
   "source": [
    "str_[-5:-1] # -5번째부터 -1번째 앞까지"
   ]
  },
  {
   "cell_type": "code",
   "execution_count": 263,
   "id": "c4cf4a6a",
   "metadata": {},
   "outputs": [
    {
     "data": {
      "text/plain": [
       "'6789'"
      ]
     },
     "execution_count": 263,
     "metadata": {},
     "output_type": "execute_result"
    }
   ],
   "source": [
    "str_[-4:] # -4번째부터 끝까지"
   ]
  },
  {
   "cell_type": "code",
   "execution_count": 262,
   "id": "5481f115",
   "metadata": {},
   "outputs": [
    {
     "data": {
      "text/plain": [
       "'6789'"
      ]
     },
     "execution_count": 262,
     "metadata": {},
     "output_type": "execute_result"
    }
   ],
   "source": [
    "str_[-4:20] # 슬라이싱시 인덱스 범위를 벗어나면 끝까지를 의미"
   ]
  },
  {
   "cell_type": "code",
   "execution_count": 254,
   "id": "1b43a4c6",
   "metadata": {},
   "outputs": [
    {
     "data": {
      "text/plain": [
       "'0246'"
      ]
     },
     "execution_count": 254,
     "metadata": {},
     "output_type": "execute_result"
    }
   ],
   "source": [
    "str_[0:8:2]"
   ]
  },
  {
   "cell_type": "code",
   "execution_count": 264,
   "id": "7ef6d182",
   "metadata": {},
   "outputs": [
    {
     "data": {
      "text/plain": [
       "'987654321'"
      ]
     },
     "execution_count": 264,
     "metadata": {},
     "output_type": "execute_result"
    }
   ],
   "source": [
    "str_[9:0:-1]"
   ]
  },
  {
   "cell_type": "code",
   "execution_count": 280,
   "id": "28640260",
   "metadata": {},
   "outputs": [
    {
     "name": "stdout",
     "output_type": "stream",
     "text": [
      "0123456\n",
      "56789\n",
      "9876543210\n",
      "9876543210\n"
     ]
    }
   ],
   "source": [
    "# str_ = '0123456789'\n",
    "# 첫문자 ~ 6번째 인덱스까지 추출\n",
    "print(str_[0:7])\n",
    "# 5번째 인덱스부터 끝까지 추출\n",
    "print(str_[5:])\n",
    "# str...를 꺼구로 추출\n",
    "print(str_[::-1])\n",
    "# 또는\n",
    "print(str_[-1::-1])"
   ]
  },
  {
   "cell_type": "markdown",
   "id": "be879d18",
   "metadata": {},
   "source": [
    "## 3.3 논리형(True/False)"
   ]
  },
  {
   "cell_type": "code",
   "execution_count": 62,
   "id": "0783f22b",
   "metadata": {},
   "outputs": [
    {
     "name": "stdout",
     "output_type": "stream",
     "text": [
      "True\n",
      "<class 'bool'>\n",
      "True\n",
      "a 주소 : 140721454598352\n",
      "b 주소 : 140721454598352\n",
      "b 주소 : 140721454598384\n"
     ]
    }
   ],
   "source": [
    "a = True\n",
    "\n",
    "print(a) # a : 매개변수 = 인자 = arguement\n",
    "print(type(a)) # a변수의 타입\n",
    "print(isinstance(a, bool)) # isinstance(변수, 타입) : 변수가 해당 타입인지 여부\n",
    "print('a 주소 :', id(a))\n",
    "\n",
    "b = True\n",
    "print('b 주소 :', id(b))\n",
    "\n",
    "b = False\n",
    "print('b 주소 :', id(b))"
   ]
  },
  {
   "cell_type": "code",
   "execution_count": 3,
   "id": "c58dd843",
   "metadata": {},
   "outputs": [
    {
     "data": {
      "text/plain": [
       "(1, 0)"
      ]
     },
     "execution_count": 3,
     "metadata": {},
     "output_type": "execute_result"
    }
   ],
   "source": [
    "int(True), int(False)"
   ]
  },
  {
   "cell_type": "code",
   "execution_count": 28,
   "id": "a390544a",
   "metadata": {},
   "outputs": [
    {
     "name": "stdout",
     "output_type": "stream",
     "text": [
      "False\n",
      "False\n",
      "False\n",
      "False\n",
      "False\n",
      "False\n"
     ]
    }
   ],
   "source": [
    "# False로 간주되는 것 : 0, \"\"(빈스트링), None, [](빈리스트), (),{}(빈딕셔너리)\n",
    "# False외의 값은 다 True : \" \"\n",
    "\n",
    "print(isinstance(0, bool))\n",
    "print(isinstance(\"\", bool))\n",
    "print(isinstance(None, bool))\n",
    "print(isinstance([], bool))\n",
    "print(isinstance((), bool))\n",
    "print(isinstance({}, bool))"
   ]
  },
  {
   "cell_type": "code",
   "execution_count": 22,
   "id": "b63af1c6",
   "metadata": {},
   "outputs": [
    {
     "name": "stdout",
     "output_type": "stream",
     "text": [
      "i가 부족하네\n"
     ]
    }
   ],
   "source": [
    "# i = 10\n",
    "i = 4\n",
    "\n",
    "if i > 5:\n",
    "    print('잠깐 테스트')\n",
    "#      print('i가 크다')\n",
    "else:\n",
    "    print('i가 부족하네')\n"
   ]
  },
  {
   "cell_type": "code",
   "execution_count": 61,
   "id": "0ef6baa9",
   "metadata": {},
   "outputs": [
    {
     "name": "stdout",
     "output_type": "stream",
     "text": [
      "False다\n",
      "True다\n"
     ]
    }
   ],
   "source": [
    "if \"\":\n",
    "    print(\"True다\")\n",
    "else:\n",
    "    print(\"False다\")\n",
    "\n",
    "if \" \":\n",
    "    print(\"True다\")\n",
    "else:\n",
    "    print(\"False다\")"
   ]
  },
  {
   "cell_type": "markdown",
   "id": "5292c054",
   "metadata": {},
   "source": [
    "## 3.4 자료형 확인 및 형변환 함수\n",
    "\n",
    "- type(변수)\n",
    "- isinstance(변수, 타입)\n",
    "\n",
    "- int()   : 정수형으로 변환\n",
    "- float() : 실수형으로 변환\n",
    "- str()   : 문자형으로 변환\n",
    "- bool()  : 논리형으로 변환"
   ]
  },
  {
   "cell_type": "code",
   "execution_count": 102,
   "id": "2b44fdc1",
   "metadata": {},
   "outputs": [
    {
     "data": {
      "text/plain": [
       "(123, 123, 1, 0, 10)"
      ]
     },
     "execution_count": 102,
     "metadata": {},
     "output_type": "execute_result"
    }
   ],
   "source": [
    "int(\"123\"), int(123.9), int(True), int(False), int(\"10    \")"
   ]
  },
  {
   "cell_type": "code",
   "execution_count": 100,
   "id": "7b6b7561",
   "metadata": {},
   "outputs": [
    {
     "data": {
      "text/plain": [
       "(123.0, 123.0, 1.0, 0.0, 123.5)"
      ]
     },
     "execution_count": 100,
     "metadata": {},
     "output_type": "execute_result"
    }
   ],
   "source": [
    "float(\"123\"), float(123), float(True), float(False), float(\"      123.5    \")"
   ]
  },
  {
   "cell_type": "code",
   "execution_count": 74,
   "id": "6b5a3ca4",
   "metadata": {},
   "outputs": [
    {
     "data": {
      "text/plain": [
       "123.0"
      ]
     },
     "execution_count": 74,
     "metadata": {},
     "output_type": "execute_result"
    }
   ],
   "source": [
    "float(\"123\")"
   ]
  },
  {
   "cell_type": "markdown",
   "id": "548e26fb",
   "metadata": {},
   "source": [
    "### ※ int() 에러나는 것들\n",
    "- int(\"123.5\")\n",
    "- int(' ')\n",
    "- int('')\n",
    "-int(1,000)"
   ]
  },
  {
   "cell_type": "code",
   "execution_count": 89,
   "id": "0cfdf4e5",
   "metadata": {},
   "outputs": [
    {
     "data": {
      "text/plain": [
       "True"
      ]
     },
     "execution_count": 89,
     "metadata": {},
     "output_type": "execute_result"
    }
   ],
   "source": [
    "# int() 에러나는 것들\n",
    "# int(\"123.5\")\n",
    "# int(' ')\n",
    "# int('')\n",
    "# int(1,000)\n",
    "\n",
    "# 콤마 뺴고, int 형변환\n",
    "isinstance(int(\"1,000\".replace(',','')),int)"
   ]
  },
  {
   "cell_type": "code",
   "execution_count": 99,
   "id": "be88cc9b",
   "metadata": {},
   "outputs": [
    {
     "data": {
      "text/plain": [
       "123.5"
      ]
     },
     "execution_count": 99,
     "metadata": {},
     "output_type": "execute_result"
    }
   ],
   "source": [
    "# float() 에러나는 것들\n",
    "# float(\"1,000.0\")\n",
    "\n",
    "# 콤마 뺴고, float 형변환\n",
    "isinstance(float(\"1,000.0\".replace(',','')),float)\n",
    "\n",
    "# float(\"\")\n",
    "# float(\" \")\n"
   ]
  },
  {
   "cell_type": "code",
   "execution_count": 108,
   "id": "2da30b8c",
   "metadata": {},
   "outputs": [
    {
     "data": {
      "text/plain": [
       "('10', '10.5', 'True', 'False', '1120000000000.0', '1,120,000,000,000.000000')"
      ]
     },
     "execution_count": 108,
     "metadata": {},
     "output_type": "execute_result"
    }
   ],
   "source": [
    "str(\"10\"), str(10.5), str(True), str(False), str(1.12e12), str(format(1.12e12,',f'))"
   ]
  },
  {
   "cell_type": "code",
   "execution_count": 110,
   "id": "226e75d4",
   "metadata": {},
   "outputs": [
    {
     "data": {
      "text/plain": [
       "(False, False, False, False, False, False, False)"
      ]
     },
     "execution_count": 110,
     "metadata": {},
     "output_type": "execute_result"
    }
   ],
   "source": [
    "bool(\"\"), bool(0), bool(0.0), bool([]), bool({}), bool(()), bool(None)"
   ]
  },
  {
   "cell_type": "code",
   "execution_count": 115,
   "id": "d68aeea4",
   "metadata": {},
   "outputs": [
    {
     "data": {
      "text/plain": [
       "False"
      ]
     },
     "execution_count": 115,
     "metadata": {},
     "output_type": "execute_result"
    }
   ],
   "source": [
    "bool(\" \")\n",
    "bool(\" \".strip())"
   ]
  },
  {
   "cell_type": "markdown",
   "id": "74f3430f",
   "metadata": {},
   "source": [
    "### 파이썬 기본 자료형(정리)\n",
    "1. 숫자 - int, float, complex\n",
    "2. 문자 - str, 문자슬라이싱, raw데이터(정규표현식, 파일경로)\n",
    "3. 논리 - False로 판별되는 경우"
   ]
  },
  {
   "cell_type": "markdown",
   "id": "89939b20",
   "metadata": {},
   "source": [
    "# 4절 포맷팅\n",
    "\n",
    "- 포맷팅이란? 출력할 문자, 숫자, 날짜 데이터의 형식을 지정하는 것\n",
    "- 변수와 텍스트를 결합해서 보기 좋은 형식의 새로운 텍스트를 만들 수 있음\n",
    "\n",
    "## 4.1 문자열에 출력형식 지정"
   ]
  },
  {
   "cell_type": "code",
   "execution_count": 129,
   "id": "da65ad90",
   "metadata": {},
   "outputs": [
    {
     "name": "stdout",
     "output_type": "stream",
     "text": [
      "홍길동님의 나이는 30살입니다.\n"
     ]
    }
   ],
   "source": [
    "name = \"홍길동\"\n",
    "age = 30\n",
    "age2 = 430\n",
    "\n",
    "print(name, \"님의 나이는 \", age,\"살입니다.\", sep='')"
   ]
  },
  {
   "cell_type": "code",
   "execution_count": 136,
   "id": "5a2ef677",
   "metadata": {},
   "outputs": [
    {
     "name": "stdout",
     "output_type": "stream",
     "text": [
      "홍길동님의 나이는  30살 입니다.\n",
      "홍길동님의 나이는 30살 입니다.\n",
      "홍길동님의 나이는 430살 입니다.\n",
      "홍길동님의 나이는  30살 입니다.\n",
      "홍길동님의 나이는 430살 입니다.\n"
     ]
    }
   ],
   "source": [
    "# 옛날사람\n",
    "print(\"%s님의 나이는 %3d살 입니다.\"%(name, age))\n",
    "# %s : 문자, 3은 자릿수, %d : 정수, %f : 실수\n",
    "\n",
    "print(f\"{name}님의 나이는 {age}살 입니다.\")\n",
    "print(f\"{name}님의 나이는 {age2}살 입니다.\")\n",
    "\n",
    "print(\"{}님의 나이는 {:3d}살 입니다.\".format(name, age))\n",
    "print(\"{}님의 나이는 {:3d}살 입니다.\".format(name, age2))"
   ]
  },
  {
   "cell_type": "markdown",
   "id": "77495633",
   "metadata": {},
   "source": [
    "## 4.2 format() 문법"
   ]
  },
  {
   "cell_type": "code",
   "execution_count": null,
   "id": "ff06b185",
   "metadata": {},
   "outputs": [],
   "source": [
    "\"{[인덱스]:[공백대체문자][정렬방식][자릿수][타입]}\".format(변수)\n",
    "    # 인텍스 : format함수 안의 매개변수의 순서\n",
    "    # 정렬방식 : <(왼쪽정렬), >(오른쪽정렬), ^(가운데정렬)\n",
    "    # 정수자릿수 : 출력될 자릿수 d, 변수 내용보다 작은 자릿수가 지정되면 자릿수 무시\n",
    "    # 실수자릿수 : 출력된 자릿수.소수점자릿수\n",
    "    # 문자자릿수 : 전체확보될자릿수[.변수중출력할자릿수]s  ----->   10.2s (홍길동 -> 길동)\n",
    "    # 타입 : d(10진수 정수), b(2진수), x(16진수), f(실수), s(문자)\n",
    "    # 공백대체문자를 쓸 경우 정렬방식을 반드시 지입해야 함\n",
    "    # 00101001"
   ]
  },
  {
   "cell_type": "code",
   "execution_count": 150,
   "id": "dcf9f3cb",
   "metadata": {},
   "outputs": [
    {
     "name": "stdout",
     "output_type": "stream",
     "text": [
      "이름은? 오리온\n",
      "나이는? 50\n",
      "-----------------------------------------------\n",
      "나이는 50살 오리온님 반갑습니다.\n",
      "나이는 50살 오리온님 반갑습니다.\n",
      "나이는 *50*살 _______오리온님 반갑습니다.\n"
     ]
    }
   ],
   "source": [
    "name = input(\"이름은? \")\n",
    "age = int(input(\"나이는? \"))\n",
    "print(\"-----------------------------------------------\")\n",
    "print(\"나이는 {}살 {}님 반갑습니다.\".format(age, name))\n",
    "print(\"나이는 {1}살 {0}님 반갑습니다.\".format(name, age))\n",
    "print(\"나이는 {1:*^4d}살 {0:_>10s}님 반갑습니다.\".format(name, age))"
   ]
  },
  {
   "cell_type": "code",
   "execution_count": 157,
   "id": "b2387de8",
   "metadata": {},
   "outputs": [
    {
     "name": "stdout",
     "output_type": "stream",
     "text": [
      "[12345], [     12345], [12345]\n",
      "[12345], [     12345], [12345]\n",
      "[Hello], [Hello     ], [Hello]\n",
      "[Hello], [Hello     ], [Hello]\n"
     ]
    }
   ],
   "source": [
    "# 정렬방식\n",
    "    # 숫자의 경우 : 오른쪽정렬(기본값)\n",
    "    # 문자의 경우 : 왼쪽정렬(기본값)\n",
    "    # 변수보다 작은 자릿수를 지정하면 자릿수가 무시되고 다 출력(정수, 문자 자리수)\n",
    "    \n",
    "i = 12345\n",
    "s = \"Hello\"\n",
    "\n",
    "print(\"[{}], [{:10d}], [{:3d}]\".format(i,i,i))\n",
    "print(\"[{0}], [{0:10d}], [{0:3d}]\".format(i))\n",
    "\n",
    "print(\"[{}], [{:10s}], [{:3s}]\".format(s,s,s))\n",
    "print(\"[{0}], [{0:10s}], [{0:3s}]\".format(s))\n"
   ]
  },
  {
   "cell_type": "code",
   "execution_count": 183,
   "id": "155a4eed",
   "metadata": {},
   "outputs": [
    {
     "name": "stdout",
     "output_type": "stream",
     "text": [
      "f = 2.758\n",
      "-----------------------------------------------\n",
      "f =       2.76\n",
      "f =  2.76\n",
      "-----------------------------------------------\n",
      "f = $$$$$$2.76\n",
      "f = $2.76\n",
      "-----------------------------------------------\n",
      "s = [He        ]\n",
      "s = [He   ]\n",
      "-----------------------------------------------\n",
      "s = [He        ]\n",
      "s = [He   ]\n",
      "-----------------------------------------------\n",
      "s = [He________]\n",
      "s = [He___]\n"
     ]
    }
   ],
   "source": [
    "# 문자 : 전체자리수.표현될자리수\n",
    "# 실수 : 전체자리수.소수점이하 표현될 자리수\n",
    "\n",
    "f = 2.758\n",
    "s = \"Hello\"\n",
    "\n",
    "print(\"f = {}\".format(f))\n",
    "print(\"-----------------------------------------------\")\n",
    "print(\"f = {:10.2f}\".format(f))\n",
    "print(\"f = {:5.2f}\".format(f))\n",
    "print(\"-----------------------------------------------\")\n",
    "print(\"f = {:$>10.2f}\".format(f))\n",
    "print(\"f = {:$>5.2f}\".format(f))\n",
    "print(\"-----------------------------------------------\")\n",
    "print(\"s = [{:10.2s}]\".format(s))\n",
    "print(\"s = [{:5.2s}]\".format(s))\n",
    "print(\"-----------------------------------------------\")\n",
    "print(\"s = [{:10.2s}]\".format(s))\n",
    "print(\"s = [{:5.2s}]\".format(s))\n",
    "print(\"-----------------------------------------------\")\n",
    "print(\"s = [{:_<10.2s}]\".format(s))\n",
    "print(\"s = [{:_<5.2s}]\".format(s))\n"
   ]
  },
  {
   "cell_type": "code",
   "execution_count": 201,
   "id": "da0f117b",
   "metadata": {},
   "outputs": [
    {
     "name": "stdout",
     "output_type": "stream",
     "text": [
      "[  123], [ -123]\n",
      "[ +123], [ -123]\n",
      "[+ 123], [- 123]\n"
     ]
    }
   ],
   "source": [
    "# + : 부호 출력\n",
    "# = : 부호를 맨 앞으로 출력\n",
    "\n",
    "a, b = 123, -123\n",
    "\n",
    "print(\"[{:5d}], [{:5d}]\".format(a, b))\n",
    "print(\"[{:+5d}], [{:+5d}]\".format(a, b))\n",
    "print(\"[{:=+5d}], [{:=+5d}]\".format(a, b))"
   ]
  },
  {
   "cell_type": "code",
   "execution_count": 221,
   "id": "7a1d43e2",
   "metadata": {},
   "outputs": [
    {
     "name": "stdout",
     "output_type": "stream",
     "text": [
      "소수점 2자리 : [     +2.79]\n",
      "소수점 3자리 : [    +2.785]\n",
      "소수점 4자리 : [   +2.7850]\n"
     ]
    }
   ],
   "source": [
    "# \n",
    "f = 2.785\n",
    "print(\"소수점 2자리 : [{:+10.2f}]\".format(f))\n",
    "print(\"소수점 3자리 : [{:+10.3f}]\".format(f))\n",
    "print(\"소수점 4자리 : [{:+10.4f}]\".format(f))"
   ]
  },
  {
   "cell_type": "code",
   "execution_count": 224,
   "id": "fd2c57d6",
   "metadata": {},
   "outputs": [
    {
     "name": "stdout",
     "output_type": "stream",
     "text": [
      "[    +2.785]\n",
      "[    +2.785]\n"
     ]
    }
   ],
   "source": [
    "sign = \"+\"\n",
    "width = 10\n",
    "precision = 3\n",
    "\n",
    "print(\"[{:{}{}.{}f}]\".format(f, sign, width, precision))\n",
    "print(\"[{:{sign}{width}.{precision}f}]\".format(f, sign=sign, width=width, precision=precision))"
   ]
  },
  {
   "cell_type": "code",
   "execution_count": 226,
   "id": "6846ed51",
   "metadata": {},
   "outputs": [
    {
     "name": "stdout",
     "output_type": "stream",
     "text": [
      "10진수 a = [   15]\n",
      "10진수 a = [    f]\n",
      "10진수 a = [ 1111]\n"
     ]
    }
   ],
   "source": [
    "# 10진수, 2진수, 16진수\n",
    "a = 15\n",
    "print(\"10진수 a = [{:5d}]\".format(a))\n",
    "print(\"10진수 a = [{:5x}]\".format(a))\n",
    "print(\"10진수 a = [{:5b}]\".format(a))"
   ]
  },
  {
   "cell_type": "markdown",
   "id": "f9a12161",
   "metadata": {},
   "source": [
    "## 4.3 날짜출력"
   ]
  },
  {
   "cell_type": "code",
   "execution_count": 240,
   "id": "4c593684",
   "metadata": {},
   "outputs": [
    {
     "data": {
      "text/plain": [
       "datetime.datetime(2025, 4, 9, 17, 45, 38, 24760)"
      ]
     },
     "execution_count": 240,
     "metadata": {},
     "output_type": "execute_result"
    }
   ],
   "source": [
    "from datetime import datetime\n",
    "now = datetime.now()\n",
    "now"
   ]
  },
  {
   "cell_type": "code",
   "execution_count": 250,
   "id": "63099e4b",
   "metadata": {},
   "outputs": [
    {
     "name": "stdout",
     "output_type": "stream",
     "text": [
      "2025-04-09 17:45:38.024760\n",
      "2025년 04월 09일 PM 05:50\n",
      "2025년 04월 09일 17:48:50\n"
     ]
    }
   ],
   "source": [
    "print(now)\n",
    "print(\"{:%Y년 %m월 %d일 %p %I:%S}\".format(datetime.now()))\n",
    "print(\"{:%Y년 %m월 %d일 %H:%M:%S}\".format(datetime.now()))\n"
   ]
  },
  {
   "cell_type": "code",
   "execution_count": 258,
   "id": "f7b2c99b",
   "metadata": {},
   "outputs": [
    {
     "name": "stdout",
     "output_type": "stream",
     "text": [
      "2025년 04월 09일 PM 05:38\n",
      "2025년 04월 09일 17:45:38\n"
     ]
    }
   ],
   "source": [
    "print(now.strftime(\"%Y년 %m월 %d일 %p %I:%S\"))\n",
    "print(now.strftime(\"%Y년 %m월 %d일 %H:%M:%S\"))"
   ]
  },
  {
   "cell_type": "code",
   "execution_count": null,
   "id": "49c18541",
   "metadata": {},
   "outputs": [],
   "source": []
  },
  {
   "cell_type": "code",
   "execution_count": null,
   "id": "51aed0a9",
   "metadata": {},
   "outputs": [],
   "source": []
  }
 ],
 "metadata": {
  "kernelspec": {
   "display_name": "Python 3 (ipykernel)",
   "language": "python",
   "name": "python3"
  },
  "language_info": {
   "codemirror_mode": {
    "name": "ipython",
    "version": 3
   },
   "file_extension": ".py",
   "mimetype": "text/x-python",
   "name": "python",
   "nbconvert_exporter": "python",
   "pygments_lexer": "ipython3",
   "version": "3.10.9"
  },
  "toc": {
   "base_numbering": 1,
   "nav_menu": {},
   "number_sections": false,
   "sideBar": true,
   "skip_h1_title": false,
   "title_cell": "Table of Contents",
   "title_sidebar": "Contents",
   "toc_cell": false,
   "toc_position": {
    "height": "calc(100% - 180px)",
    "left": "10px",
    "top": "150px",
    "width": "240px"
   },
   "toc_section_display": true,
   "toc_window_display": true
  }
 },
 "nbformat": 4,
 "nbformat_minor": 5
}
