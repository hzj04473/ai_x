{
 "cells": [
  {
   "cell_type": "code",
   "execution_count": 2,
   "id": "7da8ff75",
   "metadata": {
    "ExecuteTime": {
     "end_time": "2025-04-22T08:29:46.358979Z",
     "start_time": "2025-04-22T08:29:46.330030Z"
    }
   },
   "outputs": [
    {
     "data": {
      "text/html": [
       "\n",
       "<style>\n",
       "* {font-family:Consolas;}\n",
       "div.container{width:87% !important;}\n",
       "div.cell.code_cell.rendered{width:100%;}\n",
       "div.CodeMirror {font-size:12pt;}\n",
       "div.output {font-size:12pt; font-weight:bold;}\n",
       "div.input { font-size:12pt;}\n",
       "div.prompt {min-width:70px;}\n",
       "div#toc-wrapper{padding-top:120px;}\n",
       "div.text_cell_render ul li{font-size:12pt;padding:3px;}\n",
       "table.dataframe{font-size:12px;}\n",
       "</style>\n"
      ],
      "text/plain": [
       "<IPython.core.display.HTML object>"
      ]
     },
     "metadata": {},
     "output_type": "display_data"
    }
   ],
   "source": [
    "from IPython.display import display, HTML\n",
    "\n",
    "display(\n",
    "    HTML(\"\"\"\n",
    "<style>\n",
    "* {font-family:Consolas;}\n",
    "div.container{width:87% !important;}\n",
    "div.cell.code_cell.rendered{width:100%;}\n",
    "div.CodeMirror {font-size:12pt;}\n",
    "div.output {font-size:12pt; font-weight:bold;}\n",
    "div.input { font-size:12pt;}\n",
    "div.prompt {min-width:70px;}\n",
    "div#toc-wrapper{padding-top:120px;}\n",
    "div.text_cell_render ul li{font-size:12pt;padding:3px;}\n",
    "table.dataframe{font-size:12px;}\n",
    "</style>\n",
    "\"\"\"))"
   ]
  },
  {
   "cell_type": "markdown",
   "id": "f7fa3bc2",
   "metadata": {},
   "source": [
    "## 한글\n",
    "\n",
    "- 한글완성형 (믜 X) => euc-kr\n",
    "- 확장된 한글완성형 => cp949\n",
    "- 한글조합형       => utf-8"
   ]
  },
  {
   "cell_type": "markdown",
   "id": "cb161bcf",
   "metadata": {},
   "source": [
    "<b><font size=\"6\" color=\"red\">ch08.예외처리</font></b>\n",
    "\n",
    "# 1절 예외처리\n",
    "\n",
    "- 예외가 날 가능성이 있는 부분에 대해, 미리 예상하고, 그에 대해 처리를 프로그래밍하는 것\n",
    "  (이유 : 좀 더 안정적으로 실행 목적)\n",
    "  ```\n",
    "  ex. - 파일을 다룰 때 : 파일이 없거나, 쓰기금지로 인한 오류\n",
    "      - 데이터베이스 프로그래밍 시 제약조건 등으로 CRUD (CREATE, READ, UPDATE, DELETE)\n",
    "      - 네트워크 프로그래밍시 일시적인 네트워크 장애기 연결 실패 오류\n",
    "      - 리스트나 튜플의 인덱스를 벗어난 오류\n",
    "  ```\n",
    "  "
   ]
  },
  {
   "cell_type": "code",
   "execution_count": null,
   "id": "e26f6916",
   "metadata": {
    "ExecuteTime": {
     "start_time": "2025-04-22T08:02:12.636Z"
    }
   },
   "outputs": [],
   "source": [
    "filename = input('파일명은(ch08.txt)? ')\n",
    "f = open('data/' + filename, 'r')  # 읽기전용으로 파일을 열기\n",
    "f.read()\n",
    "f.close()"
   ]
  },
  {
   "cell_type": "code",
   "execution_count": null,
   "id": "23de6226",
   "metadata": {
    "ExecuteTime": {
     "start_time": "2025-04-22T08:02:12.638Z"
    }
   },
   "outputs": [],
   "source": [
    "4 / 0"
   ]
  },
  {
   "cell_type": "code",
   "execution_count": null,
   "id": "d85d3a34",
   "metadata": {
    "ExecuteTime": {
     "start_time": "2025-04-22T08:02:12.640Z"
    }
   },
   "outputs": [],
   "source": [
    "a = [\n",
    "    1,\n",
    "    2,\n",
    "    3,\n",
    "]\n",
    "a[3]"
   ]
  },
  {
   "cell_type": "markdown",
   "id": "763e1a96",
   "metadata": {},
   "source": [
    "# 2절. try ~ except 로 예외처리\n",
    "\n",
    "## 2-1. try ~ excepy\n",
    "\n",
    "```\n",
    "try :\n",
    "    예외가 발생할 가능성이 있는 명령어들\n",
    "except:\n",
    "    예외가 발생했을 경우 실행할 명여러들\n",
    "```"
   ]
  },
  {
   "cell_type": "code",
   "execution_count": null,
   "id": "99cab9da",
   "metadata": {
    "ExecuteTime": {
     "start_time": "2025-04-22T08:02:12.642Z"
    },
    "scrolled": true
   },
   "outputs": [],
   "source": [
    "# 100을 입력받은 정수값으로 나눠 출력\n",
    "# ZerDivisionError: division by zero\n",
    "# ValueError: invalid literal for int() with base 10: 'a'\n",
    "\n",
    "x = int(input(\"정수를 입력하세요 : \"))\n",
    "print('100을 입력한 정수로 나누면 {:.3f}'.format(100 / x))"
   ]
  },
  {
   "cell_type": "code",
   "execution_count": null,
   "id": "267bbf04",
   "metadata": {
    "ExecuteTime": {
     "start_time": "2025-04-22T08:02:12.644Z"
    }
   },
   "outputs": [],
   "source": [
    "# 100을 입력받은 정수값으로 나눠 출력\n",
    "# ZerDivisionError: division by zero\n",
    "# ValueError: invalid literal for int() with base 10: 'a'\n",
    "\n",
    "try:\n",
    "    x = int(input(\"정수를 입력하세요 : \"))\n",
    "    print('x값 입력 받음', x)\n",
    "    print('100을 입력한 정수로 나누면 {:.3f}'.format(100 / x))\n",
    "    print('예외가 발생 안됨')\n",
    "except:\n",
    "    print(\"유효한 정수가 아닙니다.\")"
   ]
  },
  {
   "cell_type": "code",
   "execution_count": null,
   "id": "e29e70df",
   "metadata": {
    "ExecuteTime": {
     "start_time": "2025-04-22T08:02:12.647Z"
    }
   },
   "outputs": [],
   "source": [
    "# 100을 입력받은 정수값으로 나눠 출력\n",
    "# 유효한 정수를 입력하면, 100을 입력한 수를 나눈 결과를 출력\n",
    "# 나눈 결과가 .0으로 끝나면 정수를 결과를 출력 / .0으로 끝나지 않으면 소수점 2자리까지 출력\n",
    "\n",
    "while True:\n",
    "    try:\n",
    "        x = int(input(\"정수를 입력하세요 : \"))\n",
    "        result = 100 / x\n",
    "        result = f\"{100/x:.0f}\" if round(result) == result else f\"{100/x:.2f}\"\n",
    "        print(result)\n",
    "        break\n",
    "    except:\n",
    "        print(\"유효한 정수가 아닙니다.\")\n",
    "# ZerDivisionError: division by zero\n",
    "# ValueError: invalid literal for int() with base 10: 'a'"
   ]
  },
  {
   "cell_type": "code",
   "execution_count": null,
   "id": "2d02626a",
   "metadata": {
    "ExecuteTime": {
     "start_time": "2025-04-22T08:02:12.651Z"
    }
   },
   "outputs": [],
   "source": [
    "# try :\n",
    "#     while True:\n",
    "#         x = int(input(\"정수를 입력하세요\"))\n",
    "#         result = 100/ x\n",
    "#         result = f\"{100/x:.0f}\" if round(result) == result else f\"{100/x:.2f}\" \n",
    "#         print(result)\n",
    "# except:\n",
    "#     print(\"유효한 정수가 아닙니다.\")"
   ]
  },
  {
   "cell_type": "markdown",
   "id": "da6e3c45",
   "metadata": {},
   "source": [
    "## 2-2. 예외를 지정한 처리\n",
    "\n",
    "```\n",
    "try : \n",
    "    예외가 발생할 수도 있는 문장들\n",
    "except 예외타입1 :\n",
    "    해당 예외가 발생할 경우 실행할 문장\n",
    "except 예외타입2 :\n",
    "    해당 예외가 발생할 경우 실행할 문장\n",
    "```"
   ]
  },
  {
   "cell_type": "code",
   "execution_count": null,
   "id": "3b851e9b",
   "metadata": {},
   "outputs": [],
   "source": []
  },
  {
   "cell_type": "code",
   "execution_count": null,
   "id": "e1806c66",
   "metadata": {
    "ExecuteTime": {
     "start_time": "2025-04-22T08:02:12.654Z"
    }
   },
   "outputs": [],
   "source": [
    "while True:\n",
    "    try:\n",
    "        x = int(input(\"정수를 입력하세요 : \"))\n",
    "        result = 100 / x\n",
    "        result = f\"{100/x:.0f}\" if round(result) == result else f\"{100/x:.2f}\"\n",
    "        print(result)\n",
    "        break\n",
    "    except ZeroDivisionError:\n",
    "        print(\"0으로 나눌수 없어요\")\n",
    "    except ValueError:\n",
    "        print(\"정수를 입력하세요\")\n",
    "    except Exception:\n",
    "        # except절을 많을 경우 하위 클래스(자식클래스)가 위에 나와야 함\n",
    "        print('그외 다른 예외. 다시 시도하세요')\n",
    "# ZerDivisionError: division by zero\n",
    "# ValueError: invalid literal for int() with base 10: 'a'"
   ]
  },
  {
   "cell_type": "code",
   "execution_count": null,
   "id": "a94d40ce",
   "metadata": {
    "ExecuteTime": {
     "start_time": "2025-04-22T08:02:12.655Z"
    }
   },
   "outputs": [],
   "source": [
    "while True:\n",
    "    try:\n",
    "        x = int(input(\"정수를 입력하세요 : \"))\n",
    "        result = 100 / x\n",
    "        result = f\"{100/x:.0f}\" if round(result) == result else f\"{100/x:.2f}\"\n",
    "        print(result)\n",
    "        break\n",
    "    except (ZeroDivisionError, ValueError):\n",
    "        print(\"제대로 입력하세요.\")\n",
    "    except Exception:\n",
    "        # except절을 많을 경우 하위 클래스(자식클래스)가 위에 나와야 함\n",
    "        print('그외 다른 예외. 다시 시도하세요')\n",
    "# ZerDivisionError: division by zero\n",
    "# ValueError: invalid literal for int() with base 10: 'a'"
   ]
  },
  {
   "cell_type": "markdown",
   "id": "8bfebb9f",
   "metadata": {},
   "source": [
    "## 2.3. 예외메시지(예외인수)\n"
   ]
  },
  {
   "cell_type": "code",
   "execution_count": null,
   "id": "6d4412db",
   "metadata": {
    "ExecuteTime": {
     "start_time": "2025-04-22T08:02:12.657Z"
    }
   },
   "outputs": [],
   "source": [
    "while True:\n",
    "    try:\n",
    "        x = int(input(\"정수를 입력하세요 : \"))\n",
    "        result = 100 / x\n",
    "        result = f\"{100/x:.0f}\" if round(result) == result else f\"{100/x:.2f}\"\n",
    "        print(result)\n",
    "        break\n",
    "    except (ZeroDivisionError, ValueError) as e: # e : 예외인수\n",
    "        print(e)  # e.__str__() : 예외메시지\n",
    "        print(type(e))\n",
    "        print('예외메시지 : ', e.args)\n",
    "        print('예외메시지 : ', e.args[0])\n",
    "    except Exception:\n",
    "        # except절을 많을 경우 하위 클래스(자식클래스)가 위에 나와야 함\n",
    "        print('그외 다른 예외. 다시 시도하세요')\n",
    "# ZerDivisionError: division by zero\n",
    "# ValueError: invalid literal for int() with base 10: 'a'"
   ]
  },
  {
   "cell_type": "code",
   "execution_count": null,
   "id": "1823f672",
   "metadata": {
    "ExecuteTime": {
     "start_time": "2025-04-22T08:02:12.659Z"
    }
   },
   "outputs": [],
   "source": [
    "'''\n",
    "try :\n",
    "    예외가 발생할 수도 있는 구문\n",
    "except [예외타입 as e] : \n",
    "    예외가 발생되면 수행할 구문\n",
    "else :\n",
    "    try 절을 수행하거나 예외가 발행 안 되면 else절을 한번 수행\n",
    "finally:\n",
    "    예외가 발행 안 다면 try - else - finally 절 수행\n",
    "    예와가 발생하면 try수행 중 except - finally 절 수정\n",
    "'''"
   ]
  },
  {
   "cell_type": "code",
   "execution_count": null,
   "id": "3a185a8f",
   "metadata": {
    "ExecuteTime": {
     "start_time": "2025-04-22T08:02:12.662Z"
    }
   },
   "outputs": [],
   "source": [
    "try:\n",
    "    f = open('data/ch08.txt','r')\n",
    "except FileNotFoundError as e:\n",
    "    print(e)\n",
    "    print(\"해당 파일이 없습니다.\")\n",
    "else:\n",
    "    data = f.read()\n",
    "    print(data)\n",
    "finally:\n",
    "    f.close()"
   ]
  },
  {
   "cell_type": "code",
   "execution_count": null,
   "id": "75d62e2a",
   "metadata": {
    "ExecuteTime": {
     "start_time": "2025-04-22T08:02:12.664Z"
    }
   },
   "outputs": [],
   "source": [
    "try:\n",
    "    f = open('data/ch08.txt','r')\n",
    "    data = f.read()\n",
    "    print(data)\n",
    "except FileNotFoundError as e:\n",
    "    print(e)\n",
    "    print(\"해당 파일이 없습니다.\")\n",
    "finally:\n",
    "    print('반드시 실행')\n",
    "    f.close()"
   ]
  },
  {
   "cell_type": "markdown",
   "id": "624cf8e5",
   "metadata": {},
   "source": [
    "# 3절 raise\n",
    "\n",
    "- 강제 예외 발생\n",
    "- 심각한 오류로 로그를 남기게 하는 ..."
   ]
  },
  {
   "cell_type": "code",
   "execution_count": null,
   "id": "2932d575",
   "metadata": {
    "ExecuteTime": {
     "start_time": "2025-04-22T08:02:12.665Z"
    }
   },
   "outputs": [],
   "source": [
    "raise NameError(\"예외 발생함\")"
   ]
  },
  {
   "cell_type": "code",
   "execution_count": null,
   "id": "4ee4218b",
   "metadata": {
    "ExecuteTime": {
     "start_time": "2025-04-22T08:02:12.667Z"
    }
   },
   "outputs": [],
   "source": [
    "# 사용자 정의 예외 : Exception 클래스 또는 하위 클래스를 상속받아 구현\n",
    "class LengthZeroError(Exception):\n",
    "    '길이가 0일 떄 발행할 예외'\n",
    "    pass\n",
    "#     def __init__(self, message)\n",
    "#         self.message = message\n",
    "\n",
    "        "
   ]
  },
  {
   "cell_type": "code",
   "execution_count": null,
   "id": "0189465e",
   "metadata": {
    "ExecuteTime": {
     "start_time": "2025-04-22T08:02:12.669Z"
    }
   },
   "outputs": [],
   "source": [
    "def insert(*data):  # 튜플 매개변수\n",
    "    print(data)\n",
    "    if len(data) == 0:\n",
    "        raise LengthZeroError(\"매개변수가 0인 예외입니다.\")\n",
    "    for item in data:\n",
    "        print(item, end=\" \")\n",
    "\n",
    "    print('등을 입력하셨습니다.')"
   ]
  },
  {
   "cell_type": "code",
   "execution_count": null,
   "id": "c4480f4d",
   "metadata": {
    "ExecuteTime": {
     "start_time": "2025-04-22T08:02:12.670Z"
    }
   },
   "outputs": [],
   "source": [
    "data = []\n",
    "try:\n",
    "    insert(*data)\n",
    "except LengthZeroError as e:\n",
    "    print(e)\n",
    "finally:\n",
    "    print('무조건 실행하는 부분 DONE')"
   ]
  },
  {
   "cell_type": "code",
   "execution_count": null,
   "id": "f3491f9e",
   "metadata": {
    "ExecuteTime": {
     "start_time": "2025-04-22T08:02:12.672Z"
    }
   },
   "outputs": [],
   "source": [
    "# 중첩 루프 탈출 방법 2 : 예외발생 -> 예외처리\n",
    "\n",
    "# ch04_제어문 참고\n",
    "\n",
    "# 중첩 루프 탈출 방법 2 : 예외발생 -> 예외처리\n",
    "class BreakOutError(Exception):\n",
    "    pass\n",
    "\n",
    "try:\n",
    "    for a in range(0,3): # a = 0, a = 1, a = 2\n",
    "        for b in range(1,3):\n",
    "            if a == b : \n",
    "                raise BreakOutError() # 중첩 루프 빠져나가기\n",
    "            print(a,b)\n",
    "        \n",
    "except BreakOutError as e:\n",
    "    print(\"DONE\")"
   ]
  },
  {
   "cell_type": "markdown",
   "id": "a1573850",
   "metadata": {},
   "source": [
    "# 4절. 추상클래스\n",
    "\n",
    "- 추상클래스 : 객체를 생성할 수 없는 클래스. 상속받을 클래스의 포맷 제공\n",
    "- 추상메소드 : 호출할 수 없는 메소드. 상속받을 메소드의 포맷 제공\n",
    "- 파이썬 3.4 버전부터 사용할수 있게 됨"
   ]
  },
  {
   "cell_type": "code",
   "execution_count": null,
   "id": "659b4b27",
   "metadata": {
    "ExecuteTime": {
     "start_time": "2025-04-22T08:02:12.675Z"
    }
   },
   "outputs": [],
   "source": [
    "# Shape 클래스 : 객체를 만드는게 목적이 아니고, 자식클래스(서브클래스)를 잘 받들게 하는 것이 목적\n",
    "# Shape 클래스를 상속받은 클래스들의 표준 제시\n",
    "class Shape:\n",
    "    def __init__(self):\n",
    "        raise NotImplementedError('추상 클래스 역할')\n",
    "\n",
    "    def calc_area(self):\n",
    "        raise NotImplementedError('추상 메소드 역할')"
   ]
  },
  {
   "cell_type": "code",
   "execution_count": null,
   "id": "0e1fe7a7",
   "metadata": {
    "ExecuteTime": {
     "start_time": "2025-04-22T08:02:12.678Z"
    }
   },
   "outputs": [],
   "source": [
    "import numpy as np\n",
    "# s = Shape()\n",
    "class Circle(Shape):\n",
    "    def __init__(self, r=3):\n",
    "        self.r = r\n",
    "\n",
    "    def calc_area(self):\n",
    "        return np.pi * self.r * self.r\n",
    "    \n",
    "    \n",
    "c = Circle(3)\n",
    "c.calc_area()\n"
   ]
  },
  {
   "cell_type": "markdown",
   "id": "c4c01a4f",
   "metadata": {},
   "source": [
    "# 5절. 파일 정리 작업(with 절 이용)"
   ]
  },
  {
   "cell_type": "code",
   "execution_count": null,
   "id": "23db8c9e",
   "metadata": {
    "ExecuteTime": {
     "start_time": "2025-04-22T08:02:12.680Z"
    }
   },
   "outputs": [],
   "source": [
    "try:\n",
    "    f = open('data/ch08.txt', 'r')\n",
    "    print(f.read())\n",
    "except Exception as e:\n",
    "    print(e)\n",
    "finally:\n",
    "    f.close()"
   ]
  },
  {
   "cell_type": "code",
   "execution_count": null,
   "id": "324762b7",
   "metadata": {
    "ExecuteTime": {
     "start_time": "2025-04-22T08:02:12.682Z"
    }
   },
   "outputs": [],
   "source": [
    "f = open('data/ch08.txt', 'r')\n",
    "print(f.read())\n",
    "f.close()"
   ]
  },
  {
   "cell_type": "code",
   "execution_count": null,
   "id": "fd37d258",
   "metadata": {
    "ExecuteTime": {
     "start_time": "2025-04-22T08:02:12.684Z"
    }
   },
   "outputs": [],
   "source": [
    "with open('data/ch08.txt','r') as f:\n",
    "    print(f.read())\n",
    "# with 절 이후에는 자동 close() 실행"
   ]
  },
  {
   "cell_type": "markdown",
   "id": "a35bac10",
   "metadata": {},
   "source": [
    "# 6절 연습문제\n",
    "\n",
    "## 연습문제 (실습형)"
   ]
  },
  {
   "cell_type": "code",
   "execution_count": 1,
   "id": "0790af05",
   "metadata": {
    "ExecuteTime": {
     "end_time": "2025-04-22T08:03:20.349204Z",
     "start_time": "2025-04-22T08:03:16.925231Z"
    }
   },
   "outputs": [
    {
     "name": "stdout",
     "output_type": "stream",
     "text": [
      "첫번쨰 숫자를 입력하세요: 10\n",
      "두번쨰 숫자를 입력하세요: 10\n",
      "입력한 수는 10.0와 10.0\n",
      "10.0을 10.0로 나우면 1.0입니다.\n"
     ]
    }
   ],
   "source": [
    "#1.숫자 두 개를 입력받아 나눗셈 연산을 하는 프로그램을 작성하세요.\n",
    "# 두 숫자는 정수 또는 실수일 수 있으며, 0으로 나눌수 없습니다.\n",
    "# 올바른 두 수를 입력하고 나눗셈 연산 결과를 출력한 후 종료해야 합니다.\n",
    "# 다은은 실행 후 출력 예시입니다.\n",
    "# ValueError, ZeroDivisionError\n",
    "while True:\n",
    "    try:\n",
    "        num1 = float(input('첫번쨰 숫자를 입력하세요: '))\n",
    "        num2 = float(input('두번쨰 숫자를 입력하세요: '))\n",
    "\n",
    "        print(\"입력한 수는 {:.1f}와 {:.1f}\".format(num1, num2))\n",
    "        print(\"{}을 {}로 나우면 {}입니다.\".format(num1, num2, (num1/num2)))\n",
    "        break\n",
    "    except:\n",
    "        print(\"유효한 숫자가 아닙니다. 다시 시도하세요\")"
   ]
  },
  {
   "cell_type": "code",
   "execution_count": 1,
   "id": "67c42527",
   "metadata": {
    "ExecuteTime": {
     "end_time": "2025-04-22T08:21:52.499553Z",
     "start_time": "2025-04-22T08:21:49.461652Z"
    }
   },
   "outputs": [
    {
     "name": "stdout",
     "output_type": "stream",
     "text": [
      "첫번쨰 숫자를 입력하세요: 10\n",
      "두번쨰 숫자를 입력하세요: 10\n",
      "입력한 수는 10.0와 10.0\n",
      "10.0을 10.0로 나우면 1.0입니다.\n",
      "언제나 안녕\n"
     ]
    }
   ],
   "source": [
    "#2.1번 코드의 예외처리를 예외에 따라 다르게 처리하세요.\n",
    "# 숫자로 바꿀수 없는 경우 ValueError 가 발생합니다.\n",
    "# 0으로 나누려도 할때 ZeroDivisionError 가 발생합니다.\n",
    "# 다음은 실행 후 출력 예시입니다.\n",
    "# ValueError, ZeroDivisionError\n",
    "while True:\n",
    "    try:\n",
    "        num1 = float(input('첫번쨰 숫자를 입력하세요: '))\n",
    "        num2 = float(input('두번쨰 숫자를 입력하세요: '))\n",
    "\n",
    "#         print(\"입력한 수는 {:.1f}와 {:.1f}\".format(num1, num2))\n",
    "#         print(\"{}을 {}로 나우면 {}입니다.\".format(num1, num2, (num1/num2)))\n",
    "#         break\n",
    "    except ValueError as e:\n",
    "        print(e)\n",
    "    except ZeroDivisionError as e:\n",
    "        print(e)\n",
    "    except Exception as e:\n",
    "        print(e)\n",
    "    else:\n",
    "        print(\"입력한 수는 {:.1f}와 {:.1f}\".format(num1, num2))\n",
    "        print(\"{}을 {}로 나우면 {}입니다.\".format(num1, num2, (num1/num2)))\n",
    "        break\n",
    "    finally:\n",
    "        print('언제나 안녕')\n",
    "    "
   ]
  },
  {
   "cell_type": "markdown",
   "id": "b9408a65",
   "metadata": {},
   "source": [
    "## 연습문제 (문제풀이형)"
   ]
  },
  {
   "cell_type": "code",
   "execution_count": null,
   "id": "c49c7126",
   "metadata": {},
   "outputs": [],
   "source": [
    "# 1. 다음 중 예외 처리에 대해 잘 못 설명한 것은?\n",
    "\n",
    "# 1 try 블록은 예외가 발생할 가능성이 있는 문장을 작성한다.\n",
    "# 2 예외가 발생하면 except 블록이 실행된다.\n",
    "# 3 상위 예외처리를 위한 except 블록은 하위 예외 처리 except 블록에 비해 먼저 선언되어야 한다.\n",
    "# 4 finally 블록은 예외의 발생 유무와 상관없이 실행된다.\n",
    "\n",
    "# 정답 : 3번"
   ]
  },
  {
   "cell_type": "code",
   "execution_count": null,
   "id": "885db7f9",
   "metadata": {},
   "outputs": [],
   "source": [
    "# 2. 다음중 예외 처리에 대한 설명 중 잘못 된 것은?\n",
    "\n",
    "# 1 raise 는 강제로 예외를 발생시킬때 사용한다.\n",
    "# 2 catch 절은 예외를 처리하기 위해 사용하는 구문이다.\n",
    "# 3 다은 예외를 하나의 예외처리 구문으로 처리할 수 있다.\n",
    "# 4 else 절은 예외가 발생하지 않을 경우 실행된다.\n",
    "\n",
    "# 정답 : 2번 "
   ]
  },
  {
   "cell_type": "code",
   "execution_count": null,
   "id": "536465c4",
   "metadata": {},
   "outputs": [],
   "source": [
    "# 3. 다음중 except 절을 잘못 사용한 것은?\n",
    "\n",
    "# 1. except:\n",
    "# 2. except Exception:\n",
    "# 3. except Exception as e:\n",
    "# 4. except Exceptyion e:\n",
    "    \n",
    "# 정답 : 4번"
   ]
  },
  {
   "cell_type": "code",
   "execution_count": null,
   "id": "e8511067",
   "metadata": {},
   "outputs": [],
   "source": [
    "# 4. 다음 중 예외 처리에 사용하지 않는 구문은?\n",
    "\n",
    "# 1 try\n",
    "# 2 except\n",
    "# 3 with\n",
    "# 4 finally\n",
    "\n",
    "# 정답 : 3번"
   ]
  }
 ],
 "metadata": {
  "kernelspec": {
   "display_name": "Python 3 (ipykernel)",
   "language": "python",
   "name": "python3"
  },
  "language_info": {
   "codemirror_mode": {
    "name": "ipython",
    "version": 3
   },
   "file_extension": ".py",
   "mimetype": "text/x-python",
   "name": "python",
   "nbconvert_exporter": "python",
   "pygments_lexer": "ipython3",
   "version": "3.10.9"
  },
  "toc": {
   "base_numbering": 1,
   "nav_menu": {},
   "number_sections": false,
   "sideBar": true,
   "skip_h1_title": false,
   "title_cell": "Table of Contents",
   "title_sidebar": "Contents",
   "toc_cell": false,
   "toc_position": {
    "height": "calc(100% - 180px)",
    "left": "10px",
    "top": "150px",
    "width": "177px"
   },
   "toc_section_display": true,
   "toc_window_display": true
  },
  "varInspector": {
   "cols": {
    "lenName": 16,
    "lenType": 16,
    "lenVar": 40
   },
   "kernels_config": {
    "python": {
     "delete_cmd_postfix": "",
     "delete_cmd_prefix": "del ",
     "library": "var_list.py",
     "varRefreshCmd": "print(var_dic_list())"
    },
    "r": {
     "delete_cmd_postfix": ") ",
     "delete_cmd_prefix": "rm(",
     "library": "var_list.r",
     "varRefreshCmd": "cat(var_dic_list()) "
    }
   },
   "types_to_exclude": [
    "module",
    "function",
    "builtin_function_or_method",
    "instance",
    "_Feature"
   ],
   "window_display": false
  }
 },
 "nbformat": 4,
 "nbformat_minor": 5
}
