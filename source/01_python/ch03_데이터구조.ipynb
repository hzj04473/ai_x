{
 "cells": [
  {
   "cell_type": "code",
   "execution_count": 1,
   "id": "e90722df",
   "metadata": {},
   "outputs": [
    {
     "data": {
      "text/html": [
       "\n",
       "<style>\n",
       "div.container{width:86% !important;}\n",
       "div.cell.code_cell.rendered{width:100%;}\n",
       "div.CodeMirror {font-family:Consolas; font-size:13pt;}\n",
       "div.output {font-size:15pt; font-weight:bold;}\n",
       "div.input {font-family:Consolas; font-size:15pt;}\n",
       "div.prompt {min-width:70px;}\n",
       "div#toc-wrapper{padding-top:120px;}\n",
       "div.text_cell_render ul li{font-size:12pt;padding:5px;}\n",
       "table.dataframe{font-size:15px;}\n",
       "</style>\n"
      ],
      "text/plain": [
       "<IPython.core.display.HTML object>"
      ]
     },
     "metadata": {},
     "output_type": "display_data"
    }
   ],
   "source": [
    "from IPython.display import display, HTML\n",
    "display(HTML(\"\"\"\n",
    "<style>\n",
    "div.container{width:86% !important;}\n",
    "div.cell.code_cell.rendered{width:100%;}\n",
    "div.CodeMirror {font-family:Consolas; font-size:13pt;}\n",
    "div.output {font-size:15pt; font-weight:bold;}\n",
    "div.input {font-family:Consolas; font-size:15pt;}\n",
    "div.prompt {min-width:70px;}\n",
    "div#toc-wrapper{padding-top:120px;}\n",
    "div.text_cell_render ul li{font-size:12pt;padding:5px;}\n",
    "table.dataframe{font-size:15px;}\n",
    "</style>\n",
    "\"\"\"))"
   ]
  },
  {
   "cell_type": "markdown",
   "id": "14da9e41",
   "metadata": {},
   "source": [
    "<font size=\"5\" color=\"red\">ch03 데이터구조</font>\n",
    "\n",
    "- 리스트 [] : 수정가능\n",
    "- 튜플 () : 수정불가\n",
    "- 딕셔너리 {}\n",
    "- 셋\n",
    "\n",
    "# 1절 리스트\n",
    "\n",
    "## 1.1 리스트 만들기\n",
    "\n",
    "- [] 를 이용해서 만들며, 여러개 값(여러 타입)을 하나의 변수에 저장 / 관리할 수 있음\n",
    "- list(리스트로 변환 가능한 자료) 함수 이용도 가능\n",
    "- 인덱스 : 각 요소의 위치. 0부터 시작, 맨 마지막 인덱스는 -1\n",
    "- 슬라이싱 ( [from:stop:step] ) : 부분 데이터셋 추출\n",
    "- 인덱스와 슬라이싱을 이요해서 읽기 / 쓰기 지원"
   ]
  },
  {
   "cell_type": "code",
   "execution_count": 3,
   "id": "e1e449bc",
   "metadata": {},
   "outputs": [
    {
     "name": "stdout",
     "output_type": "stream",
     "text": [
      "<class 'list'>\n"
     ]
    }
   ],
   "source": [
    "fruits = ['banana', 'apple', 'orange', 'grape']\n",
    "print(type(fruits))"
   ]
  },
  {
   "cell_type": "code",
   "execution_count": 12,
   "id": "8b2f39e3",
   "metadata": {},
   "outputs": [
    {
     "name": "stdout",
     "output_type": "stream",
     "text": [
      "['banana', 'apple', 'orange', 'grape']\n",
      "banana\n"
     ]
    }
   ],
   "source": [
    "print(fruits)\n",
    "\n",
    "print(fruits[0])"
   ]
  },
  {
   "cell_type": "code",
   "execution_count": 13,
   "id": "6e714c9f",
   "metadata": {},
   "outputs": [
    {
     "name": "stdout",
     "output_type": "stream",
     "text": [
      "['mango', 'apple', 'orange', 'grape']\n"
     ]
    }
   ],
   "source": [
    "fruits[0] = \"mango\"\n",
    "print(fruits)"
   ]
  },
  {
   "cell_type": "code",
   "execution_count": 20,
   "id": "68649ae1",
   "metadata": {},
   "outputs": [
    {
     "name": "stdout",
     "output_type": "stream",
     "text": [
      "x = mango\n",
      "y = apple\n",
      "z = orange\n",
      "fruits = ['mango', 'apple', 'orange']\n"
     ]
    }
   ],
   "source": [
    "fruits = ['mango', 'apple', 'orange']\n",
    "# fruits = ['mango', 'apple', 'orange', 333] # error too many values to unpack (expected 3)\n",
    "x, y, z = fruits\n",
    "\n",
    "print(f\"x = {x}\")\n",
    "print(f\"y = {y}\")\n",
    "print(\"z = {}\".format(z))\n",
    "print(f\"fruits = {fruits}\")"
   ]
  },
  {
   "cell_type": "code",
   "execution_count": 26,
   "id": "3c5a3987",
   "metadata": {},
   "outputs": [
    {
     "data": {
      "text/plain": [
       "[0, 1, 2, 3, 4, 5, 6, 7, 8, 9]"
      ]
     },
     "execution_count": 26,
     "metadata": {},
     "output_type": "execute_result"
    }
   ],
   "source": [
    "# range( from, to, by) : from부터 to 앞까지 by씩 증가하면서 지정된 범위의 정수\n",
    "    # from 생략시 : 0\n",
    "    # by 생략시 : 1\n",
    "list(range(10))"
   ]
  },
  {
   "cell_type": "code",
   "execution_count": 28,
   "id": "45efc06e",
   "metadata": {},
   "outputs": [
    {
     "data": {
      "text/plain": [
       "range(0, 10)"
      ]
     },
     "execution_count": 28,
     "metadata": {},
     "output_type": "execute_result"
    }
   ],
   "source": [
    "range(0,10)"
   ]
  },
  {
   "cell_type": "code",
   "execution_count": 29,
   "id": "d0239ed6",
   "metadata": {},
   "outputs": [
    {
     "data": {
      "text/plain": [
       "[0, 1, 2, 3, 4, 5, 6, 7, 8, 9]"
      ]
     },
     "execution_count": 29,
     "metadata": {},
     "output_type": "execute_result"
    }
   ],
   "source": [
    "list(range(0,10))"
   ]
  },
  {
   "cell_type": "code",
   "execution_count": 30,
   "id": "5e375739",
   "metadata": {},
   "outputs": [
    {
     "data": {
      "text/plain": [
       "[101, 102, 103, 104, 105, 106, 107, 108, 109, 110]"
      ]
     },
     "execution_count": 30,
     "metadata": {},
     "output_type": "execute_result"
    }
   ],
   "source": [
    "list(range(101,111))"
   ]
  },
  {
   "cell_type": "code",
   "execution_count": 32,
   "id": "aabd8ce5",
   "metadata": {},
   "outputs": [
    {
     "data": {
      "text/plain": [
       "[10, 8, 6, 4, 2, 0]"
      ]
     },
     "execution_count": 32,
     "metadata": {},
     "output_type": "execute_result"
    }
   ],
   "source": [
    "list(range(10,-1,-2))"
   ]
  },
  {
   "cell_type": "code",
   "execution_count": 50,
   "id": "56c73bf1",
   "metadata": {},
   "outputs": [
    {
     "name": "stdout",
     "output_type": "stream",
     "text": [
      "0\n",
      "1\n",
      "2\n"
     ]
    }
   ],
   "source": [
    "# 반복문(3회)\n",
    "for i in range(3):\n",
    "    print(i)"
   ]
  },
  {
   "cell_type": "code",
   "execution_count": 72,
   "id": "fee9360a",
   "metadata": {},
   "outputs": [
    {
     "name": "stdout",
     "output_type": "stream",
     "text": [
      "0번쨰 과일은 mango 입니다.\n",
      "1번쨰 과일은 apple 입니다.\n",
      "2번쨰 과일은 orange 입니다.\n",
      "3번쨰 과일은 grape 입니다.\n"
     ]
    }
   ],
   "source": [
    "fruits = ['mango', 'apple', 'orange','grape']\n",
    "# len(fruits) : 리스트 데이터 수\n",
    "# print(len(fruits))\n",
    "\n",
    "for i in range(len(fruits)):\n",
    "    print(\"{}번쨰 과일은 {} 입니다.\".format(i, fruits[i]))"
   ]
  },
  {
   "cell_type": "code",
   "execution_count": 75,
   "id": "fa908dd6",
   "metadata": {},
   "outputs": [
    {
     "name": "stdout",
     "output_type": "stream",
     "text": [
      "mango\n",
      "apple\n",
      "orange\n",
      "grape\n"
     ]
    }
   ],
   "source": [
    "for value in fruits:\n",
    "    print(value)"
   ]
  },
  {
   "cell_type": "code",
   "execution_count": 76,
   "id": "193f2884",
   "metadata": {},
   "outputs": [
    {
     "name": "stdout",
     "output_type": "stream",
     "text": [
      "1\n",
      "mongo\n"
     ]
    }
   ],
   "source": [
    "i, v = [1, \"mongo\"]\n",
    "print(i)\n",
    "print(v)"
   ]
  },
  {
   "cell_type": "code",
   "execution_count": 88,
   "id": "ce185f7e",
   "metadata": {},
   "outputs": [
    {
     "data": {
      "text/plain": [
       "[(0, 'mango'), (1, 'apple'), (2, 'orange'), (3, 'grape')]"
      ]
     },
     "execution_count": 88,
     "metadata": {},
     "output_type": "execute_result"
    }
   ],
   "source": [
    "list(enumerate(fruits))"
   ]
  },
  {
   "cell_type": "code",
   "execution_count": 84,
   "id": "9639e963",
   "metadata": {},
   "outputs": [
    {
     "name": "stdout",
     "output_type": "stream",
     "text": [
      "0번쨰 과일은 mango 입니다.\n",
      "1번쨰 과일은 apple 입니다.\n",
      "2번쨰 과일은 orange 입니다.\n",
      "3번쨰 과일은 grape 입니다.\n"
     ]
    }
   ],
   "source": [
    "# enumerate (나열가능한 자료) : (index,값) 등의 셋들\n",
    "# for idx, value in [[0, 'mango'],[1, 'apple'],[2, 'orange'],[3, 'grape']]:\n",
    "for idx, value in enumerate(fruits):\n",
    "    print(\"{}번쨰 과일은 {} 입니다.\".format(idx, value))"
   ]
  },
  {
   "cell_type": "code",
   "execution_count": 100,
   "id": "ab870914",
   "metadata": {},
   "outputs": [
    {
     "name": "stdout",
     "output_type": "stream",
     "text": [
      "[0, True, '2', 3, [4, 5, 6]]\n",
      "True 5\n",
      "----------------------------------\n",
      "0 0\n",
      "1 True\n",
      "2 2\n",
      "3 3\n",
      "4 [4, 5, 6]\n",
      "----------------------------------\n"
     ]
    }
   ],
   "source": [
    "# 리스트는 여러 타입의 데이터를 담을 수 있음\n",
    "numbers = [ 0, True, '2', 3, [4, 5, 6] ]\n",
    "\n",
    "print(numbers)\n",
    "print(numbers[1], numbers[4][1])\n",
    "print('----------------------------------')\n",
    "for idx, value in enumerate(numbers):\n",
    "    print(idx, value)\n",
    "print('----------------------------------')    "
   ]
  },
  {
   "cell_type": "code",
   "execution_count": 113,
   "id": "9ef704f4",
   "metadata": {},
   "outputs": [
    {
     "data": {
      "text/plain": [
       "(3, 4)"
      ]
     },
     "execution_count": 113,
     "metadata": {},
     "output_type": "execute_result"
    }
   ],
   "source": [
    "# 2차원 리스트\n",
    "numbers_2d = [ [90, 91, 92, 93],\n",
    "               [80, 81, 82, 83], \n",
    "               [70, 71, 72, 73], ]\n",
    "\n",
    "len(numbers_2d), len(numbers_2d[0])"
   ]
  },
  {
   "cell_type": "code",
   "execution_count": 135,
   "id": "129b141b",
   "metadata": {},
   "outputs": [
    {
     "name": "stdout",
     "output_type": "stream",
     "text": [
      "90\t91\t92\t93\t\n",
      "80\t81\t82\t83\t\n",
      "70\t71\t72\t73\t\n"
     ]
    }
   ],
   "source": [
    "for i, row in enumerate(numbers_2d):\n",
    "\n",
    "    for j, value in enumerate(row):\n",
    "        print(\"{} 행 {} 열 : {}\".format(i, j, value) ,end=\"\\t\")\n",
    "    print() # 개행 (다음줄로)"
   ]
  },
  {
   "cell_type": "code",
   "execution_count": 143,
   "id": "b92fe157",
   "metadata": {},
   "outputs": [
    {
     "name": "stdout",
     "output_type": "stream",
     "text": [
      "90\t91\t92\t93\t\n",
      "80\t81\t82\t83\t\n",
      "70\t71\t72\t73\t\n"
     ]
    }
   ],
   "source": [
    "for row in numbers_2d:\n",
    "#     print(row)\n",
    "    for item in row:\n",
    "#         print(item, end = \"\\t\")\n",
    "        print(\"{}\".format(item), end = '\\t')\n",
    "    print()"
   ]
  },
  {
   "cell_type": "markdown",
   "id": "de433090",
   "metadata": {},
   "source": [
    "## 1.2 기본 정보 조회"
   ]
  },
  {
   "cell_type": "code",
   "execution_count": 165,
   "id": "28e46d2e",
   "metadata": {},
   "outputs": [],
   "source": [
    "numbers = [1, 12, 3, 5, 4]\n",
    "numbers_2d = [ [100, 0], \n",
    "               [9, 100, 1, 2, 3], \n",
    "               [50, 54]]"
   ]
  },
  {
   "cell_type": "code",
   "execution_count": 159,
   "id": "2bbe07a2",
   "metadata": {},
   "outputs": [
    {
     "name": "stdout",
     "output_type": "stream",
     "text": [
      "5 3\n"
     ]
    }
   ],
   "source": [
    "# 요소의 수\n",
    "print(len(numbers), len(numbers_2d))"
   ]
  },
  {
   "cell_type": "code",
   "execution_count": 166,
   "id": "036eed94",
   "metadata": {},
   "outputs": [
    {
     "data": {
      "text/plain": [
       "(1, 12)"
      ]
     },
     "execution_count": 166,
     "metadata": {},
     "output_type": "execute_result"
    }
   ],
   "source": [
    "# 최소값, 최대값\n",
    "min(numbers), max(numbers)"
   ]
  },
  {
   "cell_type": "code",
   "execution_count": 167,
   "id": "020de185",
   "metadata": {},
   "outputs": [
    {
     "data": {
      "text/plain": [
       "([9, 100, 1, 2, 3], [100, 0])"
      ]
     },
     "execution_count": 167,
     "metadata": {},
     "output_type": "execute_result"
    }
   ],
   "source": [
    "# 2차원 list의 min() : 0번 인덱스 요소가 가장 작은 값\n",
    "#             max() : 0번 인덱스 요소가 가장 큰 값\n",
    "min(numbers_2d), max(numbers_2d)"
   ]
  },
  {
   "cell_type": "code",
   "execution_count": 169,
   "id": "f8b7a378",
   "metadata": {},
   "outputs": [
    {
     "data": {
      "text/plain": [
       "('APPLE', 'orange')"
      ]
     },
     "execution_count": 169,
     "metadata": {},
     "output_type": "execute_result"
    }
   ],
   "source": [
    "# 문자 list일 경우 ascii 코드값으로 min(), max() 적용\n",
    "fruits = [\"mongo\", \"apple\", \"orange\", 'APPLE']\n",
    "min(fruits), max(fruits)"
   ]
  },
  {
   "cell_type": "code",
   "execution_count": 186,
   "id": "155ff1bb",
   "metadata": {},
   "outputs": [
    {
     "name": "stdout",
     "output_type": "stream",
     "text": [
      "오름차순 : [1, 3, 4, 5, 12]\n",
      "내림차순 : [12, 5, 4, 3, 1]\n",
      "sorted함수 사용시 리스트 내용이 바뀌지 않음 : [1, 12, 3, 5, 4]\n",
      "합 : 25\n"
     ]
    }
   ],
   "source": [
    "numbers = [1, 12, 3, 5, 4]\n",
    "# 정렬(오름차순, 내림차순)\n",
    "print('오름차순 :', sorted(numbers))\n",
    "print('내림차순 :', sorted(numbers, reverse=True))\n",
    "print(\"sorted함수 사용시 리스트 내용이 바뀌지 않음 :\", numbers)\n",
    "\n",
    "print(\"합 :\", sum(numbers))"
   ]
  },
  {
   "cell_type": "markdown",
   "id": "728a72ca",
   "metadata": {},
   "source": [
    "## 1.3 요소추가\n",
    "\n",
    "```\n",
    "+ : 두 리스트 연결\n",
    "* : 리스트를 곱한 수만 반복\n",
    "append() : 맨 뒤에 요소 추가\n",
    "extend() : 맨 뒤에 리스트를 요소별로 추가\n",
    "insert(idx, 값) : idx번째 인덱스 위치에 추가 (기본 데이터는 shift)\n",
    "```"
   ]
  },
  {
   "cell_type": "code",
   "execution_count": 191,
   "id": "943ae5dc",
   "metadata": {},
   "outputs": [
    {
     "data": {
      "text/plain": [
       "[1, 2, 3, 1, 2, 3]"
      ]
     },
     "execution_count": 191,
     "metadata": {},
     "output_type": "execute_result"
    }
   ],
   "source": [
    "# + : 연결\n",
    "numbers = [1, 2, 3]\n",
    "numbers = numbers + numbers\n",
    "numbers"
   ]
  },
  {
   "cell_type": "code",
   "execution_count": 193,
   "id": "7087d19d",
   "metadata": {},
   "outputs": [
    {
     "data": {
      "text/plain": [
       "[1, 2, 3, 1, 2, 3, 1, 2, 3]"
      ]
     },
     "execution_count": 193,
     "metadata": {},
     "output_type": "execute_result"
    }
   ],
   "source": [
    "# * : 반복\n",
    "numbers = [1, 2, 3]\n",
    "numbers = numbers * 3\n",
    "numbers"
   ]
  },
  {
   "cell_type": "code",
   "execution_count": 197,
   "id": "baa4e573",
   "metadata": {},
   "outputs": [
    {
     "name": "stdout",
     "output_type": "stream",
     "text": [
      "[1, 2, 3, 4]\n"
     ]
    }
   ],
   "source": [
    "# append() : 맨 뒤에 요소 추가\n",
    "numbers = [1, 2, 3]\n",
    "numbers.append(4)\n",
    "print(numbers)"
   ]
  },
  {
   "cell_type": "code",
   "execution_count": 203,
   "id": "241ccb1c",
   "metadata": {},
   "outputs": [
    {
     "name": "stdout",
     "output_type": "stream",
     "text": [
      "[1, 2, 3, [5, 6, 7]]\n"
     ]
    }
   ],
   "source": [
    "numbers = [1, 2, 3]\n",
    "numbers.append([5, 6, 7]) # 맨 뒤에 하나의 요소로 추가\n",
    "print(numbers)"
   ]
  },
  {
   "cell_type": "code",
   "execution_count": 201,
   "id": "46963d34",
   "metadata": {},
   "outputs": [
    {
     "name": "stdout",
     "output_type": "stream",
     "text": [
      "[1, 2, 3, 4, 5, 6]\n"
     ]
    }
   ],
   "source": [
    "# extend() : 맨 뒤에 리스트를 요소별로 추가\n",
    "num = [1, 2, 3]\n",
    "num.extend([4, 5, 6])\n",
    "print(num)"
   ]
  },
  {
   "cell_type": "code",
   "execution_count": 207,
   "id": "a85eb321",
   "metadata": {},
   "outputs": [
    {
     "name": "stdout",
     "output_type": "stream",
     "text": [
      "[1, 2, 'x', 3]\n"
     ]
    }
   ],
   "source": [
    "# insert(idx, 값) : idx번째 인덱스 위치에 추가 (기본 데이터는 shift)\n",
    "num = [1, 2, 3]\n",
    "num.insert(2, 'x')\n",
    "print(num)"
   ]
  },
  {
   "cell_type": "markdown",
   "id": "e33fb2fe",
   "metadata": {},
   "source": [
    "## 1.4 인덱싱과 요소 갯수\n",
    "\n",
    "- 변수[index] : 인덱스를 이용한 접근\n",
    "- index(찾을데이터) : 해당 찾을 데이터가 있는 요소의 index를 반환\n",
    "                     찾을데이타가 없을 경우 오류\n",
    "- count(찾을데이터) : 리스트에서 찾을데이터의 갯수 반환"
   ]
  },
  {
   "cell_type": "code",
   "execution_count": 211,
   "id": "a1fc6563",
   "metadata": {},
   "outputs": [
    {
     "data": {
      "text/plain": [
       "(2, 0)"
      ]
     },
     "execution_count": 211,
     "metadata": {},
     "output_type": "execute_result"
    }
   ],
   "source": [
    "# count(찾을데이터) : 리스트에서 찾을데이터의 갯수 반환\n",
    "numbers = [1, 2, 3, [1, 2, 3], 1, 2, 3]\n",
    "\n",
    "numbers.count(2), numbers.count(9)"
   ]
  },
  {
   "cell_type": "code",
   "execution_count": 213,
   "id": "2325db36",
   "metadata": {},
   "outputs": [
    {
     "data": {
      "text/plain": [
       "1"
      ]
     },
     "execution_count": 213,
     "metadata": {},
     "output_type": "execute_result"
    }
   ],
   "source": [
    "# index(찾을데이터) : 해당 찾을 데이터가 있는 요소의 index를 반환\n",
    "numbers = [1, 2, 3, [1, 2, 3], 1, 2, 3]\n",
    "numbers.index(2) # 0번째 index부터 2가 처음 나오는 index 반환"
   ]
  },
  {
   "cell_type": "code",
   "execution_count": 214,
   "id": "1956de6b",
   "metadata": {},
   "outputs": [
    {
     "data": {
      "text/plain": [
       "5"
      ]
     },
     "execution_count": 214,
     "metadata": {},
     "output_type": "execute_result"
    }
   ],
   "source": [
    "numbers = [1, 2, 3, [1, 2, 3], 1, 2, 3]\n",
    "numbers.index(2, 3) # 3번째 index부터 2가 처음 나오는 index 반환"
   ]
  },
  {
   "cell_type": "markdown",
   "id": "c6f43205",
   "metadata": {},
   "source": [
    "### ※ in 연산자"
   ]
  },
  {
   "cell_type": "code",
   "execution_count": 219,
   "id": "62f6676d",
   "metadata": {},
   "outputs": [
    {
     "name": "stdout",
     "output_type": "stream",
     "text": [
      "9가 없어요\n",
      "9가 없어요\n"
     ]
    }
   ],
   "source": [
    "numbers = [1, 2, 3, [1, 2, 3], 1, 2, 3]\n",
    "\n",
    "if numbers.count(9):\n",
    "    print(numbers.index(9))\n",
    "else:\n",
    "    print(\"9가 없어요\")\n",
    "    \n",
    "# in 연산자    \n",
    "if 9 in numbers:\n",
    "    print(numbers.index(9))\n",
    "else:\n",
    "    print(\"9가 없어요\")"
   ]
  },
  {
   "cell_type": "code",
   "execution_count": 218,
   "id": "bddd88a9",
   "metadata": {},
   "outputs": [
    {
     "data": {
      "text/plain": [
       "False"
      ]
     },
     "execution_count": 218,
     "metadata": {},
     "output_type": "execute_result"
    }
   ],
   "source": [
    "9 in numbers # numbers 리스트에 9가 존재하는지 여부"
   ]
  },
  {
   "cell_type": "markdown",
   "id": "b61ee410",
   "metadata": {},
   "source": [
    "### ※ index 사용자 함수"
   ]
  },
  {
   "cell_type": "code",
   "execution_count": 222,
   "id": "d59f393f",
   "metadata": {},
   "outputs": [],
   "source": [
    "def safe_index(lst, data):\n",
    "    if data in lst: # lst안에 data가 있는지 여부\n",
    "        return lst.index(data)\n",
    "    else:\n",
    "        return -1"
   ]
  },
  {
   "cell_type": "code",
   "execution_count": 226,
   "id": "ea51805d",
   "metadata": {},
   "outputs": [
    {
     "name": "stdout",
     "output_type": "stream",
     "text": [
      "2\n",
      "-1\n"
     ]
    }
   ],
   "source": [
    "print(safe_index(numbers, 3))\n",
    "print(safe_index(numbers, 9))"
   ]
  },
  {
   "cell_type": "code",
   "execution_count": 229,
   "id": "5c0f0e34",
   "metadata": {},
   "outputs": [
    {
     "data": {
      "text/plain": [
       "[1, 2, 3, [1, 2, 3], 1, 2, 3]"
      ]
     },
     "execution_count": 229,
     "metadata": {},
     "output_type": "execute_result"
    }
   ],
   "source": [
    "# numbers.index(9)\n",
    "# numbers[9]\n",
    "# numbers[0:20]"
   ]
  },
  {
   "cell_type": "markdown",
   "id": "a7cf6d66",
   "metadata": {},
   "source": [
    "## 1.5 원하는 요소 추출\n",
    "\n",
    "1. 리스트 슬라이싱 : 리스트에서 원하는 index의 데이터를 추출 (인덱스의 범위 벗어나도 에러 안 남)\n",
    "    - [ from : stop : step] from 부터 stop앞까지 step씩 증가하는 index의 값을 추출\n",
    "    - from 생략시 처음\n",
    "    - stop 생략시 끝\n",
    "    - step 생략시 1. \n",
    "    - 모두 생략 가능\n",
    "    - 음수 인텍스 가능\n",
    "    \n",
    "2. **<font color=\"red\">리스트 컴플리헨션 : </font> : 리스트에서 원하는 데이터를 추출**"
   ]
  },
  {
   "cell_type": "code",
   "execution_count": 233,
   "id": "a0271c4d",
   "metadata": {},
   "outputs": [
    {
     "name": "stdout",
     "output_type": "stream",
     "text": [
      "[1, 5, 10, 13]\n",
      "[20, 13, 12, 10, 9, 5, 3, 1]\n"
     ]
    }
   ],
   "source": [
    "# 리스트 슬라이싱 : 리스트에서 원하는 index의 데이터를 추출 (인덱스의 범위 벗어나도 에러 안 남)\n",
    "numbers = [1, 3, 5, 9, 10, 12, 13, 20]\n",
    "\n",
    "# 짝수번쨰 인덱스 값을 출력\n",
    "print(numbers[::2])\n",
    "\n",
    "# 거꾸로 출력\n",
    "print(numbers[::-1])"
   ]
  },
  {
   "cell_type": "code",
   "execution_count": 270,
   "id": "aff2a68d",
   "metadata": {},
   "outputs": [
    {
     "name": "stdout",
     "output_type": "stream",
     "text": [
      "[1, 3, 5, 9, 10, 12, 13, 20]\n",
      "[10, 12, 20]\n"
     ]
    }
   ],
   "source": [
    "# 리스트 컴플리헨션 : 리스트에서 원하는 데이터를 추출\n",
    "numbers = [1, 3, 5, 9, 10, 12, 13, 20]\n",
    "\n",
    "\n",
    "# 리스트에서 모든 데이터만 변수에 담아 출력하세요.\n",
    "result = []\n",
    "for data in numbers:\n",
    "    result.append(data)\n",
    "print(result)\n",
    "\n",
    "# 리스트에서 짝수 데이터만 변수에 담아 출력하세요.\n",
    "result = []\n",
    "for data in numbers:\n",
    "    if not data % 2:\n",
    "        result.append(data)\n",
    "        \n",
    "print(result)\n"
   ]
  },
  {
   "cell_type": "markdown",
   "id": "c4124bbb",
   "metadata": {},
   "source": [
    "### ※ **리스트 컴플리헨션**"
   ]
  },
  {
   "cell_type": "code",
   "execution_count": 296,
   "id": "f3b7e98c",
   "metadata": {},
   "outputs": [
    {
     "name": "stdout",
     "output_type": "stream",
     "text": [
      "[1, 3, 5, 9, 10, 12, 13, 20]\n"
     ]
    }
   ],
   "source": [
    "# numbers의 모든 데이터를 리스트컴프리헨션으로 추출\n",
    "print([data for data in numbers])"
   ]
  },
  {
   "cell_type": "code",
   "execution_count": 295,
   "id": "fc0a7e17",
   "metadata": {},
   "outputs": [
    {
     "name": "stdout",
     "output_type": "stream",
     "text": [
      "[10, 12, 20]\n"
     ]
    }
   ],
   "source": [
    "# numbers의 짝수 데이터를 리스트컴프리헨션으로 추출\n",
    "\n",
    "print([data for data in numbers if not data % 2])"
   ]
  },
  {
   "cell_type": "code",
   "execution_count": 298,
   "id": "19ec6ea7",
   "metadata": {},
   "outputs": [
    {
     "name": "stdout",
     "output_type": "stream",
     "text": [
      "[10, 12, 13, 20]\n"
     ]
    }
   ],
   "source": [
    "# ex1. numbers에서 10 이상만 추출\n",
    "numbers = [1, 3, 5, 9, 10, 12, 13, 20]\n",
    "\n",
    "numbers_change = [data for data in numbers if data >= 10]\n",
    "print(numbers_change)"
   ]
  },
  {
   "cell_type": "code",
   "execution_count": 302,
   "id": "5a216829",
   "metadata": {},
   "outputs": [
    {
     "name": "stdout",
     "output_type": "stream",
     "text": [
      "['orange']\n"
     ]
    }
   ],
   "source": [
    "# ex2. fruits 에서 5글자 넘는 과일만 추출\n",
    "fruits = ['orange', 'apple', 'mongo', 'kiwi']\n",
    "\n",
    "fruits_change = [data for data in fruits if len(data) > 5]\n",
    "print(fruits_change)"
   ]
  },
  {
   "cell_type": "code",
   "execution_count": 292,
   "id": "f7d1ac78",
   "metadata": {},
   "outputs": [
    {
     "name": "stdout",
     "output_type": "stream",
     "text": [
      "[9, 16, 25]\n"
     ]
    }
   ],
   "source": [
    "# ex3. 3이상의 요소들의 제곱을 추출\n",
    "l = [1, 2, 3, 4, 5]\n",
    "\n",
    "l_change = [data**2 for data in l if data >= 3]\n",
    "print(l_change)"
   ]
  },
  {
   "cell_type": "markdown",
   "id": "69618887",
   "metadata": {},
   "source": [
    "## 1.6 요소 수정하기"
   ]
  },
  {
   "cell_type": "code",
   "execution_count": 314,
   "id": "00223b97",
   "metadata": {},
   "outputs": [
    {
     "data": {
      "text/plain": [
       "[0, 1, 222, 3, 4, 5, 6, 7, 8, 9]"
      ]
     },
     "execution_count": 314,
     "metadata": {},
     "output_type": "execute_result"
    }
   ],
   "source": [
    "numbers = [0, 1, 2, 3, 4, 5, 6, 7, 8, 9]\n",
    "# 인덱스를 이용해서 요소 수정\n",
    "numbers[2] = 222\n",
    "numbers"
   ]
  },
  {
   "cell_type": "code",
   "execution_count": 327,
   "id": "afcb6c1b",
   "metadata": {},
   "outputs": [
    {
     "data": {
      "text/plain": [
       "[0, 'x', 'y', 'z', 'ㅋ', 'ㅎ', 4, 5, 6, 7, 8, 9]"
      ]
     },
     "execution_count": 327,
     "metadata": {},
     "output_type": "execute_result"
    }
   ],
   "source": [
    "# 슬라이싱을 이용해서 요소 수정 (step부분이 미포함 : 부분 리스트가 통쨰로 수정)\n",
    "numbers = [0, 1, 2, 3, 4, 5, 6, 7, 8, 9]\n",
    "numbers[1:4] = ['x', 'y', 'z', 'ㅋ', 'ㅎ']\n",
    "# numbers[1:4] = ['x']\n",
    "numbers"
   ]
  },
  {
   "cell_type": "code",
   "execution_count": 333,
   "id": "385198d0",
   "metadata": {},
   "outputs": [
    {
     "data": {
      "text/plain": [
       "['xx', 1, 'xx', 3, 'xx', 5, 'xx', 7, 'xx', 9]"
      ]
     },
     "execution_count": 333,
     "metadata": {},
     "output_type": "execute_result"
    }
   ],
   "source": [
    "# 슬라이싱을 이용해서 요소 수정 (step부분 포함 : 요소 갯수가 맞아야 함)\n",
    "numbers = [0, 1, 2, 3, 4, 5, 6, 7, 8, 9]\n",
    "\n",
    "# numbers[::2] = [99,99,99,99,99]\n",
    "# 또는\n",
    "numbers[::2] = ['xx']*5\n",
    "numbers"
   ]
  },
  {
   "cell_type": "markdown",
   "id": "515a89d4",
   "metadata": {},
   "source": [
    "## 1.7 요소 삭제\n",
    "\n",
    "- pop() : 가장 마지막 인덱스 요소가 반환되고 삭제\n",
    "- pop(idx) : idx 번째 요소가 반환되고 삭제\n",
    "- remove(지울data) : 리스트안의 data가 삭제\n",
    "- del 변수[idx] : idx번째 요소가 삭제"
   ]
  },
  {
   "cell_type": "code",
   "execution_count": 353,
   "id": "ef1ac9d7",
   "metadata": {},
   "outputs": [
    {
     "name": "stdout",
     "output_type": "stream",
     "text": [
      "삭제된 데이터 : 5, 리스트 : [1, 2, 3, 4]\n",
      "삭제된 데이터 : 1, 리스트 : [2, 3, 4]\n",
      "numbers : [2, 3]\n"
     ]
    }
   ],
   "source": [
    "# pop()\n",
    "numbers = [1, 2, 3, 4, 5]\n",
    "delete_data = numbers.pop()\n",
    "\n",
    "print(\"삭제된 데이터 : {}, 리스트 : {}\".format(delete_data, numbers))\n",
    "\n",
    "# pop(idx)\n",
    "delete_data2 = numbers.pop(0)\n",
    "print(\"삭제된 데이터 : {}, 리스트 : {}\".format(delete_data2, numbers))\n",
    "\n",
    "# del 변수[idx]\n",
    "del numbers[2]\n",
    "print(\"numbers :\", numbers)"
   ]
  },
  {
   "cell_type": "code",
   "execution_count": 358,
   "id": "a1dcee40",
   "metadata": {},
   "outputs": [
    {
     "name": "stdout",
     "output_type": "stream",
     "text": [
      "[1, 2, 4, 5]\n"
     ]
    }
   ],
   "source": [
    "# remove(지울데이터)\n",
    "numbers = [1, 2, 3, 4, 5]\n",
    "\n",
    "# remove()는 반환값이 없고, 해당 데이터만 삭제 데이터가 없으면 오류\n",
    "del_num = numbers.remove(3) \n",
    "print(numbers)"
   ]
  },
  {
   "cell_type": "code",
   "execution_count": 370,
   "id": "1c76c637",
   "metadata": {},
   "outputs": [
    {
     "ename": "ValueError",
     "evalue": "list.remove(x): x not in list",
     "output_type": "error",
     "traceback": [
      "\u001b[1;31m---------------------------------------------------------------------------\u001b[0m",
      "\u001b[1;31mValueError\u001b[0m                                Traceback (most recent call last)",
      "Cell \u001b[1;32mIn[370], line 2\u001b[0m\n\u001b[0;32m      1\u001b[0m \u001b[38;5;66;03m# 해당 데이터만 삭제 데이터가 없으면 오류\u001b[39;00m\n\u001b[1;32m----> 2\u001b[0m \u001b[43mnumbers\u001b[49m\u001b[38;5;241;43m.\u001b[39;49m\u001b[43mremove\u001b[49m\u001b[43m(\u001b[49m\u001b[38;5;241;43m9\u001b[39;49m\u001b[43m)\u001b[49m\n",
      "\u001b[1;31mValueError\u001b[0m: list.remove(x): x not in list"
     ]
    }
   ],
   "source": [
    "# 해당 데이터만 삭제 데이터가 없으면 오류\n",
    "numbers = [1, 2, 3, 4, 5]\n",
    "\n",
    "numbers.remove(9)"
   ]
  },
  {
   "cell_type": "code",
   "execution_count": 371,
   "id": "0f613f03",
   "metadata": {},
   "outputs": [
    {
     "name": "stdout",
     "output_type": "stream",
     "text": [
      "해당 데이터가 없습니다.\n"
     ]
    }
   ],
   "source": [
    "numbers = [1, 2, 3, 4, 5]\n",
    "\n",
    "if 9 in numbers:\n",
    "    numbers.remove(9)\n",
    "else:\n",
    "    print(\"해당 데이터가 없습니다.\")"
   ]
  },
  {
   "cell_type": "code",
   "execution_count": 377,
   "id": "7a699d00",
   "metadata": {},
   "outputs": [
    {
     "name": "stdout",
     "output_type": "stream",
     "text": [
      "9는 없는 아이템입니다.\n",
      "5 는 삭제완료 [1, 2, 3, 4]\n"
     ]
    }
   ],
   "source": [
    "numbers = [1, 2, 3, 4, 5]\n",
    "\n",
    "def safe_remove(lst, remove_data):\n",
    "    if remove_data in lst:\n",
    "        lst.remove(remove_data)\n",
    "        print(remove_data, \"는 삭제완료\", numbers)\n",
    "    else:\n",
    "        print(f\"{remove_data}는 없는 아이템입니다.\")\n",
    "        \n",
    "safe_remove(numbers, 9)\n",
    "safe_remove(numbers, 5)"
   ]
  },
  {
   "cell_type": "markdown",
   "id": "7b5cff13",
   "metadata": {},
   "source": [
    "## 1.8 정렬하기"
   ]
  },
  {
   "cell_type": "code",
   "execution_count": 54,
   "id": "fd9ece17",
   "metadata": {},
   "outputs": [
    {
     "name": "stdout",
     "output_type": "stream",
     "text": [
      "numbers는 변경하지 않고 정렬 [9, 8, 5, 1, 0]\n",
      "numbers [1, 9, 5, 0, 8]\n"
     ]
    }
   ],
   "source": [
    "numbers = [1, 9, 5, 0, 8] # reverse=True : 내림차순\n",
    "print('numbers는 변경하지 않고 정렬', sorted(numbers, reverse=True))\n",
    "print('numbers', numbers)"
   ]
  },
  {
   "cell_type": "code",
   "execution_count": 58,
   "id": "7ac2e366",
   "metadata": {},
   "outputs": [
    {
     "name": "stdout",
     "output_type": "stream",
     "text": [
      "[9, 8, 5, 1, 0]\n"
     ]
    }
   ],
   "source": [
    "numbers.sort(reverse=True) # numbers 자체가 정렬한 결과로 바뀜(기본정렬:오름차순)\n",
    "print(numbers)"
   ]
  },
  {
   "cell_type": "code",
   "execution_count": 67,
   "id": "8fa52609",
   "metadata": {},
   "outputs": [
    {
     "name": "stdout",
     "output_type": "stream",
     "text": [
      "[9, 8, 5, 1, 0]\n"
     ]
    }
   ],
   "source": [
    "numbers.reverse() # numbers 자체가 역순으로 변경\n",
    "print(numbers)"
   ]
  },
  {
   "cell_type": "code",
   "execution_count": 65,
   "id": "6996e8c9",
   "metadata": {},
   "outputs": [
    {
     "data": {
      "text/plain": [
       "[9, 5, 2]"
      ]
     },
     "execution_count": 65,
     "metadata": {},
     "output_type": "execute_result"
    }
   ],
   "source": [
    "lst = [2, 5, 9]\n",
    "# lst.reverse()\n",
    "lst = lst[::-1]\n",
    "lst"
   ]
  },
  {
   "cell_type": "markdown",
   "id": "5800539a",
   "metadata": {},
   "source": [
    "## 1.9 복제하기"
   ]
  },
  {
   "cell_type": "code",
   "execution_count": 72,
   "id": "ee093270",
   "metadata": {},
   "outputs": [
    {
     "name": "stdout",
     "output_type": "stream",
     "text": [
      "원본데이터 10, 복사본데이터 10 / 원본주소는 2255875473936, 복사본주소는 2255875473936\n",
      "원본데이터 10, 복사본데이터 99 / 원본주소는 2255875473936, 복사본주소는 2255875476784\n"
     ]
    }
   ],
   "source": [
    "# 스칼라 데이터의 복제하기\n",
    "i = 10     # 원본\n",
    "copy_i = i # 복제본\n",
    "print(f\"원본데이터 {i}, 복사본데이터 {copy_i} / 원본주소는 {id(i)}, 복사본주소는 {id(copy_i)}\")\n",
    "copy_i = 99\n",
    "print(f\"원본데이터 {i}, 복사본데이터 {copy_i} / 원본주소는 {id(i)}, 복사본주소는 {id(copy_i)}\")"
   ]
  },
  {
   "cell_type": "code",
   "execution_count": 77,
   "id": "bac2ddff",
   "metadata": {},
   "outputs": [
    {
     "name": "stdout",
     "output_type": "stream",
     "text": [
      "원본 :  [9, 8, 1] 2255998636480\n",
      "복제본 :  [9, 8, 1] 2255998636480\n"
     ]
    }
   ],
   "source": [
    "# 리스트(배열, 데이터프레임, 딕셔너리)의 복제 (절대 안 됨)\n",
    "numbers = [5, 8, 1]    # 원본\n",
    "new_numbers = numbers  # 복제본\n",
    "new_numbers[0] = 9\n",
    "print(\"원본 : \", numbers, id(numbers))\n",
    "print(\"복제본 : \", new_numbers, id(new_numbers))"
   ]
  },
  {
   "cell_type": "markdown",
   "id": "8c6c112c",
   "metadata": {},
   "source": [
    "### ※ 얕은복사 : 리스트(배열, 데이터프레임, 딕셔너리)"
   ]
  },
  {
   "cell_type": "code",
   "execution_count": 81,
   "id": "eb1f5abc",
   "metadata": {},
   "outputs": [
    {
     "name": "stdout",
     "output_type": "stream",
     "text": [
      "원본데이터 [5, 8, 1], 복사본데이터 [5, 8, 1] / 원본주소는 2255998075328, 복사본주소는 2255998075328\n",
      "복제본만 지지고 볶고\n",
      "원본데이터 [-99, 1, 8], 복사본데이터 [-99, 1, 8] / 원본주소는 2255998075328, 복사본주소는 2255998075328\n"
     ]
    }
   ],
   "source": [
    "# 얕은 복사(할당)\n",
    "numbers = [5, 8, 1]   # 원본\n",
    "new_numbers = numbers # 얕은 복사 (할당)\n",
    "print(f\"원본데이터 {numbers}, 복사본데이터 {new_numbers} / 원본주소는 {id(numbers)}, 복사본주소는 {id(new_numbers)}\")\n",
    "\n",
    "new_numbers[0] = -99\n",
    "new_numbers.sort()\n",
    "print(\"복제본만 지지고 볶고\")\n",
    "print(f\"원본데이터 {numbers}, 복사본데이터 {new_numbers} / 원본주소는 {id(numbers)}, 복사본주소는 {id(new_numbers)}\")"
   ]
  },
  {
   "cell_type": "markdown",
   "id": "8d37efb6",
   "metadata": {},
   "source": [
    "### ※ 깊은복사 : 리스트(배열, 데이터프레임, 딕셔너리)"
   ]
  },
  {
   "cell_type": "code",
   "execution_count": 85,
   "id": "c88cc5c6",
   "metadata": {},
   "outputs": [
    {
     "name": "stdout",
     "output_type": "stream",
     "text": [
      "원본데이터 [5, 8, 1], 복사본데이터 [5, 8, 1] / 원본주소는 2255999362560, 복사본주소는 2255998977280\n",
      "복제본만 지지고 볶고\n",
      "원본데이터 [5, 8, 1], 복사본데이터 [1, 8] / 원본주소는 2255999362560, 복사본주소는 2255998977280\n"
     ]
    }
   ],
   "source": [
    "# 깊은 복사(복제)\n",
    "numbers = [5, 8, 1]   # 원본\n",
    "new_numbers = numbers.copy() # 깊은 복사 (복제)\n",
    "\n",
    "print(f\"원본데이터 {numbers}, 복사본데이터 {new_numbers} / 원본주소는 {id(numbers)}, 복사본주소는 {id(new_numbers)}\")\n",
    "\n",
    "new_numbers[0] = -99\n",
    "new_numbers.sort()\n",
    "# new_numbers.pop()\n",
    "new_numbers.remove(-99)\n",
    "\n",
    "print(\"복제본만 지지고 볶고\")\n",
    "print(f\"원본데이터 {numbers}, 복사본데이터 {new_numbers} / 원본주소는 {id(numbers)}, 복사본주소는 {id(new_numbers)}\")"
   ]
  },
  {
   "cell_type": "code",
   "execution_count": 87,
   "id": "cd2b6400",
   "metadata": {},
   "outputs": [
    {
     "data": {
      "text/plain": [
       "[]"
      ]
     },
     "execution_count": 87,
     "metadata": {},
     "output_type": "execute_result"
    }
   ],
   "source": [
    "numbers.clear() # 리스트의 요소를 모두 삭제\n",
    "numbers"
   ]
  },
  {
   "cell_type": "markdown",
   "id": "261d4b5c",
   "metadata": {},
   "source": [
    "# 2절 튜플\n",
    "\n",
    "- 리스트와 유사하지만, 읽기전용, 수정이 필요없는 데이터에서 사용\n",
    "- 수정불가하므로, 튜플에 데이터 수정, 추가, 삭제 불가 (제공되는 함수도 많지 않음)\n",
    "- (), tuple() 이용해서 생성"
   ]
  },
  {
   "cell_type": "code",
   "execution_count": 92,
   "id": "b086f630",
   "metadata": {},
   "outputs": [
    {
     "name": "stdout",
     "output_type": "stream",
     "text": [
      "<class 'tuple'>\n",
      "('서울', '부산', '인천', '목포')\n"
     ]
    }
   ],
   "source": [
    "# city = ('서울', '부산', '인천', '목포')\n",
    "# 파이썬은 여러개의 값이 전달될 떄, 튜플 타입으로 전달\n",
    "city = '서울', '부산', '인천', '목포'\n",
    "print(type(city))\n",
    "print(city)"
   ]
  },
  {
   "cell_type": "code",
   "execution_count": 119,
   "id": "e561bc76",
   "metadata": {},
   "outputs": [
    {
     "data": {
      "text/plain": [
       "tuple"
      ]
     },
     "execution_count": 119,
     "metadata": {},
     "output_type": "execute_result"
    }
   ],
   "source": [
    "# city = ['서울', '부산', '인천', '목포']\n",
    "city = ('서울', '부산', '인천', '목포')\n",
    "\" , \".join(city)\n",
    "# type(city)"
   ]
  },
  {
   "cell_type": "code",
   "execution_count": 105,
   "id": "7824b202",
   "metadata": {},
   "outputs": [
    {
     "name": "stdout",
     "output_type": "stream",
     "text": [
      "<class 'list'> ['서울', 3]\n"
     ]
    }
   ],
   "source": [
    "l = ['서울'] # 요소가 하나 있는 리스트\n",
    "print(type(l), l)"
   ]
  },
  {
   "cell_type": "code",
   "execution_count": 107,
   "id": "bbd3d33e",
   "metadata": {},
   "outputs": [
    {
     "name": "stdout",
     "output_type": "stream",
     "text": [
      "<class 'tuple'> ('서울',)\n"
     ]
    }
   ],
   "source": [
    "# t = ('서울') # 요소가 하나 있는 튜플\n",
    "t = ('서울',) # 요소가 하나 있는 튜플 (, 반드시 기입)\n",
    "print(type(t), t)"
   ]
  },
  {
   "cell_type": "code",
   "execution_count": 130,
   "id": "33808d63",
   "metadata": {},
   "outputs": [
    {
     "data": {
      "text/plain": [
       "(1, 3, 6, [3, 2, 1])"
      ]
     },
     "execution_count": 130,
     "metadata": {},
     "output_type": "execute_result"
    }
   ],
   "source": [
    "numbers = (1, 2, 3)\n",
    "min(numbers), max(numbers), sum(numbers), sorted(numbers, reverse=True)\n"
   ]
  },
  {
   "cell_type": "code",
   "execution_count": 124,
   "id": "4f60283b",
   "metadata": {},
   "outputs": [
    {
     "data": {
      "text/plain": [
       "(2, 0)"
      ]
     },
     "execution_count": 124,
     "metadata": {},
     "output_type": "execute_result"
    }
   ],
   "source": [
    "numbers = (0, 1, 2, (1, 2), 0, 1, 2)\n",
    "numbers.count(2), numbers.count(9)"
   ]
  },
  {
   "cell_type": "code",
   "execution_count": 134,
   "id": "39a06e7b",
   "metadata": {},
   "outputs": [
    {
     "name": "stdout",
     "output_type": "stream",
     "text": [
      "9 요소가 없어요\n"
     ]
    }
   ],
   "source": [
    "numbers.index(2)\n",
    "\n",
    "if 9 in numbers:\n",
    "    numbers.index(9)\n",
    "else:\n",
    "    print('9 요소가 없어요')"
   ]
  },
  {
   "cell_type": "code",
   "execution_count": 155,
   "id": "fe500510",
   "metadata": {},
   "outputs": [],
   "source": [
    "# def safe_index(lst, item):\n",
    "#     '''\n",
    "#     lst안에 item 요소가 있으면, item요소의 index를 반환, 없으면 -1반환\n",
    "#     lst : 나열가능한 데이터\n",
    "#     item : 찾을 데이터\n",
    "#     '''\n",
    "# #     if item in lst:\n",
    "# #         return lst.index(item)\n",
    "# #     else:\n",
    "# #         return -1\n",
    "#     return lst.index(item) if item in lst else -1"
   ]
  },
  {
   "cell_type": "code",
   "execution_count": 9,
   "id": "93801109",
   "metadata": {},
   "outputs": [
    {
     "data": {
      "text/plain": [
       "(-1, 2)"
      ]
     },
     "execution_count": 9,
     "metadata": {},
     "output_type": "execute_result"
    }
   ],
   "source": [
    "from safe import safe_index\n",
    "\n",
    "numbers = (0, 1, 2, (1, 2), 0, 1, 2)\n",
    "\n",
    "safe_index(numbers, 9), safe_index(numbers, 2)"
   ]
  },
  {
   "cell_type": "code",
   "execution_count": 12,
   "id": "03fe070d",
   "metadata": {},
   "outputs": [
    {
     "data": {
      "text/plain": [
       "(0, 1, 2, (1, 2), 0, 1, 2, 0, 1, 2, (1, 2), 0, 1, 2, 0, 1, 2, (1, 2), 0, 1, 2)"
      ]
     },
     "execution_count": 12,
     "metadata": {},
     "output_type": "execute_result"
    }
   ],
   "source": [
    "numbers * 3 # 반복"
   ]
  },
  {
   "cell_type": "code",
   "execution_count": 28,
   "id": "699f7a8c",
   "metadata": {},
   "outputs": [
    {
     "data": {
      "text/plain": [
       "(4, 16, 36)"
      ]
     },
     "execution_count": 28,
     "metadata": {},
     "output_type": "execute_result"
    }
   ],
   "source": [
    "# ex. 짝수 요소들을 추출하여 제곱한 데이터를 출력\n",
    "numbers = (1, 2, 3, 4, 5, 6)\n",
    "\n",
    "[num ** 2 for num in numbers if not num % 2]\n",
    "# 리스트 데이터를 튜플로 \n",
    "tuple([num ** 2 for num in numbers if not num % 2])\n"
   ]
  },
  {
   "cell_type": "markdown",
   "id": "dafc6bf9",
   "metadata": {},
   "source": [
    "# 3절 딕셔너리\n",
    "\n",
    "- 중괄호 {} 를 이용해서, 키(key) : 값(value) 쌍으로 구성된 자료구조\n",
    "- 키는 중복불가 (유일한 값만 가능), 키에 list는 사용불가.\n",
    "- 값은 중복가능 \n",
    "- 인덱스를 이용한 참조 지원 안 함"
   ]
  },
  {
   "cell_type": "code",
   "execution_count": 37,
   "id": "ab5f5e2d",
   "metadata": {},
   "outputs": [
    {
     "name": "stdout",
     "output_type": "stream",
     "text": [
      "<class 'dict'>\n",
      "{'name': '홍길동', 1: 22, (1, 2): [1, 2]}\n",
      "데이터 갯수 : 3\n"
     ]
    }
   ],
   "source": [
    "dic = {\"name\": \"홍길동\", 1: 22, (1,2): [1,2]}\n",
    "print(type(dic))\n",
    "print(dic)\n",
    "print(\"데이터 갯수 :\", len(dic))"
   ]
  },
  {
   "cell_type": "code",
   "execution_count": 32,
   "id": "59833ecc",
   "metadata": {},
   "outputs": [
    {
     "name": "stdout",
     "output_type": "stream",
     "text": [
      "<class 'set'>\n",
      "{'name', '홍길동', 1}\n"
     ]
    }
   ],
   "source": [
    "# s = {'name', '홍길동', 1}\n",
    "# print(type(s))\n",
    "# print(s)"
   ]
  },
  {
   "cell_type": "code",
   "execution_count": 42,
   "id": "655887a3",
   "metadata": {},
   "outputs": [
    {
     "data": {
      "text/plain": [
       "{'fruit': 'apple', 'number': 12, 'sport': 'golf'}"
      ]
     },
     "execution_count": 42,
     "metadata": {},
     "output_type": "execute_result"
    }
   ],
   "source": [
    "my_favorite = {'fruit': 'apple', 'number': 12, 'sport':'golf'}\n",
    "my_favorite"
   ]
  },
  {
   "cell_type": "code",
   "execution_count": 49,
   "id": "08067ca0",
   "metadata": {},
   "outputs": [
    {
     "name": "stdout",
     "output_type": "stream",
     "text": [
      "apple\n",
      "apple\n"
     ]
    }
   ],
   "source": [
    "print(my_favorite['fruit'])\n",
    "print(my_favorite.get('fruit')) # ★"
   ]
  },
  {
   "cell_type": "markdown",
   "id": "a5bc131b",
   "metadata": {},
   "source": [
    "### ※ get() "
   ]
  },
  {
   "cell_type": "code",
   "execution_count": 51,
   "id": "e7977333",
   "metadata": {},
   "outputs": [
    {
     "ename": "KeyError",
     "evalue": "'people'",
     "output_type": "error",
     "traceback": [
      "\u001b[1;31m---------------------------------------------------------------------------\u001b[0m",
      "\u001b[1;31mKeyError\u001b[0m                                  Traceback (most recent call last)",
      "Cell \u001b[1;32mIn[51], line 1\u001b[0m\n\u001b[1;32m----> 1\u001b[0m \u001b[38;5;28mprint\u001b[39m(\u001b[43mmy_favorite\u001b[49m\u001b[43m[\u001b[49m\u001b[38;5;124;43m'\u001b[39;49m\u001b[38;5;124;43mpeople\u001b[39;49m\u001b[38;5;124;43m'\u001b[39;49m\u001b[43m]\u001b[49m)\n",
      "\u001b[1;31mKeyError\u001b[0m: 'people'"
     ]
    }
   ],
   "source": [
    "praint(my_favorite['people']) # 없는 키값을 인덱스 방식으로 참조시 에러"
   ]
  },
  {
   "cell_type": "code",
   "execution_count": 55,
   "id": "39613b1d",
   "metadata": {},
   "outputs": [
    {
     "name": "stdout",
     "output_type": "stream",
     "text": [
      "None\n",
      "-\n"
     ]
    }
   ],
   "source": [
    "print(my_favorite.get('people')) # 없는 키를 get함수로 참조시 None\n",
    "print(my_favorite.get('people','-')) # 없는 키를 get함수로 참조시 '-'"
   ]
  },
  {
   "cell_type": "code",
   "execution_count": 72,
   "id": "2d4d2b16",
   "metadata": {},
   "outputs": [
    {
     "name": "stdout",
     "output_type": "stream",
     "text": [
      "fruit 수정 후 : {'fruit': 'mango', 'number': 12, 'sport': 'golf'}\n",
      "my_favorite 추가 후 : {'fruit': 'mango', 'number': 12, 'sport': 'golf', 'people': '홍길동'}\n",
      "fruit 제거 후 : {'number': 12, 'sport': 'golf', 'people': '홍길동'}\n",
      "remove_date 12\n",
      "number 제거 후 딕셔너리 : {'sport': 'golf', 'people': '홍길동'}\n"
     ]
    }
   ],
   "source": [
    "# 딕셔너리 수정\n",
    "my_favorite = {'fruit': 'apple', 'number': 12, 'sport':'golf'}\n",
    "my_favorite['fruit'] = 'mango' # fruit 데이터 수정\n",
    "print('fruit 수정 후 :',my_favorite)\n",
    "\n",
    "my_favorite['people'] = '홍길동' # 데이터 추가\n",
    "print('my_favorite 추가 후 :',my_favorite)\n",
    "\n",
    "del my_favorite['fruit'] # 데이터 제거\n",
    "print('fruit 제거 후 :',my_favorite)\n",
    "\n",
    "remove_date = my_favorite.pop('number') # number키의 값을 반환하고 제거\n",
    "print(\"remove_date\", remove_date)\n",
    "print(\"number 제거 후 딕셔너리 :\", my_favorite)"
   ]
  },
  {
   "cell_type": "code",
   "execution_count": 73,
   "id": "7d969053",
   "metadata": {},
   "outputs": [],
   "source": [
    "# for문을 이용한 튜플(리스트) 출력\n",
    "my_tup = ('홍길동', 30, '010-9999-9999')\n"
   ]
  },
  {
   "cell_type": "code",
   "execution_count": 83,
   "id": "322546fe",
   "metadata": {},
   "outputs": [
    {
     "name": "stdout",
     "output_type": "stream",
     "text": [
      "홍길동\t30\t010-9999-9999\t\n",
      "0번째 홍길동\t1번째 30\t2번째 010-9999-9999\t\n",
      "0번째 홍길동\t1번째 30\t2번째 010-9999-9999\t"
     ]
    }
   ],
   "source": [
    "# 중요\n",
    "for data in my_tup:\n",
    "    print(data, end='\\t')\n",
    "print()    \n",
    "\n",
    "\n",
    "for idx in range(len(my_tup)):\n",
    "    print(f\"{idx}번째 {my_tup[idx]}\", end='\\t')\n",
    "print()    \n",
    "\n",
    "# 중요\n",
    "for idx, value in enumerate(my_tup):\n",
    "    print(f\"{idx}번째 {value}\", end='\\t')"
   ]
  },
  {
   "cell_type": "code",
   "execution_count": 129,
   "id": "d1b0fa28",
   "metadata": {},
   "outputs": [],
   "source": [
    "my_dic = {'name': '홍길동', 'age': 30, 'tel': '010-9999-9999'}"
   ]
  },
  {
   "cell_type": "code",
   "execution_count": 103,
   "id": "5d57f059",
   "metadata": {},
   "outputs": [
    {
     "name": "stdout",
     "output_type": "stream",
     "text": [
      "name\tage\ttel\t"
     ]
    }
   ],
   "source": [
    "for data in my_dic: # my_dic.keys()\n",
    "     print(data, end='\\t')"
   ]
  },
  {
   "cell_type": "code",
   "execution_count": 91,
   "id": "874e7c32",
   "metadata": {},
   "outputs": [
    {
     "name": "stdout",
     "output_type": "stream",
     "text": [
      "홍길동\t30\t010-9999-9999\t"
     ]
    }
   ],
   "source": [
    "# 엄청 비추\n",
    "for key in my_dic:\n",
    "     print(my_dic[key], end='\\t')"
   ]
  },
  {
   "cell_type": "code",
   "execution_count": 92,
   "id": "1ccc1bf0",
   "metadata": {},
   "outputs": [
    {
     "name": "stdout",
     "output_type": "stream",
     "text": [
      "홍길동\t30\t010-9999-9999\t"
     ]
    }
   ],
   "source": [
    "for data in my_dic.values():\n",
    "    print(data, end='\\t')"
   ]
  },
  {
   "cell_type": "code",
   "execution_count": 96,
   "id": "9deda103",
   "metadata": {},
   "outputs": [
    {
     "data": {
      "text/plain": [
       "dict_values(['홍길동', 30, '010-9999-9999'])"
      ]
     },
     "execution_count": 96,
     "metadata": {},
     "output_type": "execute_result"
    }
   ],
   "source": [
    "my_dic.values() # 값만 추출"
   ]
  },
  {
   "cell_type": "code",
   "execution_count": 97,
   "id": "36d15cc3",
   "metadata": {},
   "outputs": [
    {
     "data": {
      "text/plain": [
       "dict_keys(['name', 'age', 'tel'])"
      ]
     },
     "execution_count": 97,
     "metadata": {},
     "output_type": "execute_result"
    }
   ],
   "source": [
    "my_dic.keys() # 키만 추출"
   ]
  },
  {
   "cell_type": "code",
   "execution_count": 98,
   "id": "2e173806",
   "metadata": {},
   "outputs": [
    {
     "data": {
      "text/plain": [
       "dict_items([('name', '홍길동'), ('age', 30), ('tel', '010-9999-9999')])"
      ]
     },
     "execution_count": 98,
     "metadata": {},
     "output_type": "execute_result"
    }
   ],
   "source": [
    "my_dic.items() # (키-값)쌍을 추출"
   ]
  },
  {
   "cell_type": "code",
   "execution_count": 108,
   "id": "84d9bbef",
   "metadata": {},
   "outputs": [
    {
     "name": "stdout",
     "output_type": "stream",
     "text": [
      "name: 홍길동,\tage: 30,\ttel: 010-9999-9999,\t"
     ]
    }
   ],
   "source": [
    "for key, value in my_dic.items():\n",
    "    print(f\"{key}: {value}\", end='\\t')"
   ]
  },
  {
   "cell_type": "code",
   "execution_count": 112,
   "id": "6b56c9a2",
   "metadata": {},
   "outputs": [
    {
     "data": {
      "text/plain": [
       "[(0, ('name', '홍길동')), (1, ('age', 30)), (2, ('tel', '010-9999-9999'))]"
      ]
     },
     "execution_count": 112,
     "metadata": {},
     "output_type": "execute_result"
    }
   ],
   "source": [
    "list(enumerate(my_dic.items()))"
   ]
  },
  {
   "cell_type": "code",
   "execution_count": 123,
   "id": "67459c60",
   "metadata": {},
   "outputs": [
    {
     "name": "stdout",
     "output_type": "stream",
     "text": [
      "1. name : 홍길동\n",
      "2. age  : 30\n",
      "3. tel  : 010-9999-9999\n"
     ]
    }
   ],
   "source": [
    "for idx, (key,value) in enumerate(my_dic.items()):\n",
    "    print(\"{}. {:4s} : {}\".format(idx+1, key, value))"
   ]
  },
  {
   "cell_type": "code",
   "execution_count": 127,
   "id": "1100574e",
   "metadata": {},
   "outputs": [
    {
     "data": {
      "text/plain": [
       "False"
      ]
     },
     "execution_count": 127,
     "metadata": {},
     "output_type": "execute_result"
    }
   ],
   "source": [
    "\"홍길동\" in my_dic"
   ]
  },
  {
   "cell_type": "code",
   "execution_count": 135,
   "id": "9a969568",
   "metadata": {},
   "outputs": [
    {
     "data": {
      "text/plain": [
       "True"
      ]
     },
     "execution_count": 135,
     "metadata": {},
     "output_type": "execute_result"
    }
   ],
   "source": [
    "\"홍길동\" in my_dic.values()"
   ]
  },
  {
   "cell_type": "code",
   "execution_count": 136,
   "id": "5101fcfd",
   "metadata": {},
   "outputs": [
    {
     "name": "stdout",
     "output_type": "stream",
     "text": [
      "{'fruit': 'apple', 'number': 12, 'people': '홍길동'}\n",
      "{'fruit': 'apple', 'number': 12, 'people': '홍길동'}\n"
     ]
    }
   ],
   "source": [
    "# 얕은 복사\n",
    "my_favorite = {\"fruit\": \"apple\", \"number\": 12}\n",
    "new_favorite = my_favorite # 복사본(얕은 복사)\n",
    "new_favorite['people'] = '홍길동'\n",
    "print(my_favorite)\n",
    "print(new_favorite)"
   ]
  },
  {
   "cell_type": "code",
   "execution_count": 139,
   "id": "dec85ffd",
   "metadata": {},
   "outputs": [
    {
     "name": "stdout",
     "output_type": "stream",
     "text": [
      "{'fruit': 'apple', 'number': 12}\n",
      "{'fruit': 'mongo', 'number': 12, 'people': '홍길동'}\n"
     ]
    }
   ],
   "source": [
    "# 깊은 복사\n",
    "my_favorite = {\"fruit\": \"apple\", \"number\": 12}\n",
    "new_favorite = my_favorite.copy() # 복사본 (깊은 복사)\n",
    "new_favorite['people'] = '홍길동'\n",
    "new_favorite['fruit'] = 'mongo'\n",
    "print(my_favorite)\n",
    "print(new_favorite)"
   ]
  },
  {
   "cell_type": "markdown",
   "id": "3a22c736",
   "metadata": {},
   "source": [
    "# 4절 셋\n",
    "\n",
    "- 중복을 허용하지 않는 집합(순서없음 == 인덱스없음)\n",
    "- 중괄호( {} )나 set() 함수를 이용해서 셋 생성\n",
    "- 추가 : add(), update() \n",
    "- 집합연산자 : &, |, -\n",
    "- 삭제 : remove()"
   ]
  },
  {
   "cell_type": "code",
   "execution_count": 147,
   "id": "a0cc02da",
   "metadata": {},
   "outputs": [
    {
     "data": {
      "text/plain": [
       "{'apple', 'banana', 'orange'}"
      ]
     },
     "execution_count": 147,
     "metadata": {},
     "output_type": "execute_result"
    }
   ],
   "source": [
    "fruits = {'banana', 'orange', 'banana', 'banana', 'banana', 'apple'}\n",
    "fruits"
   ]
  },
  {
   "cell_type": "code",
   "execution_count": 149,
   "id": "abaf64de",
   "metadata": {},
   "outputs": [
    {
     "data": {
      "text/plain": [
       "{1, 20, 21, 22}"
      ]
     },
     "execution_count": 149,
     "metadata": {},
     "output_type": "execute_result"
    }
   ],
   "source": [
    "s1 = set([1, 20, 1, 21, 1, 22])\n",
    "s1"
   ]
  },
  {
   "cell_type": "code",
   "execution_count": 150,
   "id": "8111f20f",
   "metadata": {},
   "outputs": [
    {
     "data": {
      "text/plain": [
       "{'fruit', 'number'}"
      ]
     },
     "execution_count": 150,
     "metadata": {},
     "output_type": "execute_result"
    }
   ],
   "source": [
    "# set 함수를 이용해서, 딕셔너리를 셋으로 전환할 떄는 key만 적용\n",
    "my_favorite = {\"fruit\": \"apple\", \"number\": 12}\n",
    "set(my_favorite)"
   ]
  },
  {
   "cell_type": "markdown",
   "id": "2c58be67",
   "metadata": {},
   "source": [
    "## 추가하기\n",
    "- add() : 기본자료형, 튜플데이를 하나를 요소로 추가할 경우\n",
    "- update() : 리스트, 튜플, 딕셔너리, 셋 요소 하나하나씩 추가할 경우. dict 사용시 key만 추가"
   ]
  },
  {
   "cell_type": "code",
   "execution_count": 159,
   "id": "e782bf66",
   "metadata": {},
   "outputs": [
    {
     "data": {
      "text/plain": [
       "{1, 10, 2, 3, 4, 5, 6, 7, 8, 9, 'ele', 'thirg', 'twl'}"
      ]
     },
     "execution_count": 159,
     "metadata": {},
     "output_type": "execute_result"
    }
   ],
   "source": [
    "s2 = {1, 1, 2, 3}\n",
    "s2.add(4)\n",
    "# s2.add([5,6,7]) # unhashable type: 'list'\n",
    "s2.update([5 ,6, 7])\n",
    "s2.update({8 ,9, 10})\n",
    "s2.update({\"ele\":11 ,\"twl\": 12, \"thirg\": 13})\n",
    "s2"
   ]
  },
  {
   "cell_type": "code",
   "execution_count": 172,
   "id": "884def28",
   "metadata": {},
   "outputs": [
    {
     "data": {
      "text/plain": [
       "{False, 1, 2, 3}"
      ]
     },
     "execution_count": 172,
     "metadata": {},
     "output_type": "execute_result"
    }
   ],
   "source": [
    "# 논리값 False는 False, 0 으로\n",
    "# 논리값 True는 True, 1로\n",
    "s = {1, 2, 3}\n",
    "s.add(False)\n",
    "s.add(True)\n",
    "s.add(0)\n",
    "s"
   ]
  },
  {
   "cell_type": "code",
   "execution_count": 173,
   "id": "2241601b",
   "metadata": {},
   "outputs": [
    {
     "data": {
      "text/plain": [
       "{False, 2, 3}"
      ]
     },
     "execution_count": 173,
     "metadata": {},
     "output_type": "execute_result"
    }
   ],
   "source": [
    "s.remove(True)\n",
    "s"
   ]
  },
  {
   "cell_type": "markdown",
   "id": "9e490166",
   "metadata": {},
   "source": [
    "## 연산 : &(교집합), |(합집합), -(차집합)\n",
    "\n",
    "& , | : 집합연산자, 논리연산자, 비트연산자"
   ]
  },
  {
   "cell_type": "code",
   "execution_count": 176,
   "id": "d2178574",
   "metadata": {},
   "outputs": [
    {
     "name": "stdout",
     "output_type": "stream",
     "text": [
      "s1 | s2 = {1, 2, 3, 4, 5, 6, 7}\n",
      "s1 & s2 = {3, 4, 5}\n",
      "s1 - s2 = {1, 2}\n"
     ]
    }
   ],
   "source": [
    "s1 = {1,2,3,4,5}\n",
    "s2 = {3,4,5,6,7}\n",
    "\n",
    "print('s1 | s2 =', s1 | s2)\n",
    "print('s1 & s2 =', s1 & s2)\n",
    "print('s1 - s2 =', s1 - s2)"
   ]
  },
  {
   "cell_type": "markdown",
   "id": "a56855b8",
   "metadata": {},
   "source": [
    "# 5절 enumerate\n",
    "\n",
    "- 반복자 또는 순서 객체로 반복문을 처리할 떄 사용함수\n",
    "- 리스트, 튜플, 딕셔너리, 셋 for문에 사용시\n",
    "- "
   ]
  },
  {
   "cell_type": "code",
   "execution_count": 178,
   "id": "f69643cc",
   "metadata": {},
   "outputs": [
    {
     "name": "stdout",
     "output_type": "stream",
     "text": [
      "길동\t길자\t영자\t"
     ]
    }
   ],
   "source": [
    "names = {'길자', '길동', '영자'}\n",
    "for name in names:\n",
    "    print(name, end=\"\\t\")\n"
   ]
  },
  {
   "cell_type": "code",
   "execution_count": 187,
   "id": "47ef3761",
   "metadata": {},
   "outputs": [
    {
     "name": "stdout",
     "output_type": "stream",
     "text": [
      "0. 길동\n",
      "1. 길자\n",
      "2. 영자\n"
     ]
    }
   ],
   "source": [
    "for no, name in enumerate(names):\n",
    "    print(f\"{no}. {name}\")"
   ]
  },
  {
   "cell_type": "code",
   "execution_count": 221,
   "id": "4fd80300",
   "metadata": {},
   "outputs": [
    {
     "name": "stdout",
     "output_type": "stream",
     "text": [
      "순자\n",
      "길동\n",
      "길자\n",
      "1. 순자의 연락처는 010-9999-9999고, 서울에 살아요\n",
      "2. 길동의 연락처는 010-8888-8888고, 인천에 살아요\n",
      "3. 길자의 연락처는 010-7777-7777고, 판교에 살아요\n"
     ]
    }
   ],
   "source": [
    "names = ['순자','길동','길자']\n",
    "tels = ['010-9999-9999', '010-8888-8888', '010-7777-7777']\n",
    "adds = ['서울', '인천', '판교']\n",
    "\n",
    "for name in names:\n",
    "    print(name)\n",
    "    \n",
    "for idx in range(len(names)):\n",
    "    print(\"{}. {}의 연락처는 {}고, {}에 살아요\".format(idx+1, \n",
    "                                                     names[idx], \n",
    "                                                     tels[idx], \n",
    "                                                     adds[idx]))    \n",
    "# for no, name in enumerate(names):\n",
    "#     print(f\"{names[no]} : {tel[no]} {adds[no]}\")"
   ]
  },
  {
   "cell_type": "markdown",
   "id": "e9810147",
   "metadata": {},
   "source": [
    "# ※ 중요 zip()"
   ]
  },
  {
   "cell_type": "code",
   "execution_count": 243,
   "id": "5c3f8258",
   "metadata": {},
   "outputs": [
    {
     "data": {
      "text/plain": [
       "[('순자', '010-9999-9999', '서울'),\n",
       " ('길동', '010-8888-8888', '인천'),\n",
       " ('길자', '010-7777-7777', '판교')]"
      ]
     },
     "execution_count": 243,
     "metadata": {},
     "output_type": "execute_result"
    }
   ],
   "source": [
    "list(zip(names, tels, adds))"
   ]
  },
  {
   "cell_type": "code",
   "execution_count": 240,
   "id": "0516c7a0",
   "metadata": {},
   "outputs": [
    {
     "name": "stdout",
     "output_type": "stream",
     "text": [
      "2. 순자 : 010-9999-9999 - 서울\n",
      "2. 길동 : 010-8888-8888 - 인천\n",
      "2. 길자 : 010-7777-7777 - 판교\n"
     ]
    }
   ],
   "source": [
    "for name, tel, add in zip(names, tels, adds):\n",
    "    print(f\"{idx}. {name} : {tel} - {add}\")"
   ]
  },
  {
   "cell_type": "code",
   "execution_count": 242,
   "id": "4b248fb8",
   "metadata": {},
   "outputs": [
    {
     "data": {
      "text/plain": [
       "[(0, ('순자', '010-9999-9999', '서울')),\n",
       " (1, ('길동', '010-8888-8888', '인천')),\n",
       " (2, ('길자', '010-7777-7777', '판교'))]"
      ]
     },
     "execution_count": 242,
     "metadata": {},
     "output_type": "execute_result"
    }
   ],
   "source": [
    "list(enumerate(zip(names, tels, adds)))"
   ]
  },
  {
   "cell_type": "code",
   "execution_count": 246,
   "id": "9c1364c0",
   "metadata": {},
   "outputs": [
    {
     "name": "stdout",
     "output_type": "stream",
     "text": [
      "0. 순자 : 010-9999-9999 - 서울\n",
      "1. 길동 : 010-8888-8888 - 인천\n",
      "2. 길자 : 010-7777-7777 - 판교\n"
     ]
    }
   ],
   "source": [
    "for idx, (name, tel, add) in enumerate(zip(names, tels, adds)):\n",
    "    print(\"{}. {} : {} - {}\".format(idx, name, tel, add))"
   ]
  },
  {
   "cell_type": "markdown",
   "id": "91ed045e",
   "metadata": {},
   "source": [
    "# ※ 변수가 담을 수 있는 기본 타입들"
   ]
  },
  {
   "cell_type": "markdown",
   "id": "322cbde3",
   "metadata": {},
   "source": [
    "<a href=\"https://pynative.com/python-data-types/\" target=\"_blank\">https://pynative.com/python-data-types/</a>\n",
    "<img src=\"https://pynative.com/wp-content/uploads/2021/02/python-data-types.jpg\" style=\"width:500px;float:left;\">\n",
    "```\n",
    "![자료형들](https://pynative.com/wp-content/uploads/2021/02/python-data-types.jpg)\n",
    "```"
   ]
  },
  {
   "cell_type": "markdown",
   "id": "f1523501",
   "metadata": {},
   "source": [
    "# 연습문제"
   ]
  },
  {
   "cell_type": "code",
   "execution_count": 6,
   "id": "012423a4",
   "metadata": {},
   "outputs": [],
   "source": [
    "# 실슬형\n",
    "# 다음 리스트가 주어졌을 경우 요구사항대로 코드를 작성하시오\n",
    "numbers = [1, 2, 3, 4, 5, 6, 7, 8, 9, 10]"
   ]
  },
  {
   "cell_type": "code",
   "execution_count": 252,
   "id": "2523dcce",
   "metadata": {},
   "outputs": [
    {
     "data": {
      "text/plain": [
       "[1, 2, 3, 4, 5, 6, 7, 8, 9, 10, 100]"
      ]
     },
     "execution_count": 252,
     "metadata": {},
     "output_type": "execute_result"
    }
   ],
   "source": [
    "# 1. 숫자 100 을 맨 뒤에 추가하세요\n",
    "numbers.append(100)\n",
    "numbers"
   ]
  },
  {
   "cell_type": "code",
   "execution_count": 4,
   "id": "13d58e68",
   "metadata": {},
   "outputs": [
    {
     "data": {
      "text/plain": [
       "[1, 2, 3, 4, 5, 6, 7, 8, 9, 10, 200, 300, 400, 500, 200, 300, 400, 500]"
      ]
     },
     "execution_count": 4,
     "metadata": {},
     "output_type": "execute_result"
    }
   ],
   "source": [
    "#2 다음 리스트를 numbers 리스트 맨 뒤에 추가하세요\n",
    "data = [200, 300, 400, 500]\n",
    "# numbers.extend(data)\n",
    "# numbers = numbers + data\n",
    "numbers += data\n",
    "numbers"
   ]
  },
  {
   "cell_type": "code",
   "execution_count": 259,
   "id": "7736b0c4",
   "metadata": {},
   "outputs": [
    {
     "name": "stdout",
     "output_type": "stream",
     "text": [
      "[1, 2, 3, 4, 5]\n"
     ]
    }
   ],
   "source": [
    "#3. 처음 다섯 개 숫자만 출력하세요\n",
    "print(numbers[0:5])"
   ]
  },
  {
   "cell_type": "code",
   "execution_count": 8,
   "id": "e8a3e557",
   "metadata": {},
   "outputs": [
    {
     "data": {
      "text/plain": [
       "[1, 3, 5, 7, 9]"
      ]
     },
     "execution_count": 8,
     "metadata": {},
     "output_type": "execute_result"
    }
   ],
   "source": [
    "#4. 리스트에서 짝수 번째 데이터만 출력하세요\n",
    "numbers\n",
    "\n",
    "# [item for item in numbers if not item % 2]\n",
    "numbers[::2]"
   ]
  },
  {
   "cell_type": "code",
   "execution_count": 23,
   "id": "9150cda8",
   "metadata": {},
   "outputs": [
    {
     "name": "stdout",
     "output_type": "stream",
     "text": [
      "[0, 2, 0, 4, 0, 6, 0, 8, 0, 10]\n"
     ]
    }
   ],
   "source": [
    "#5. 짝수번째 데이터를 모두 0 으로 바꾸세요\n",
    "numbers = [1,2,3,4,5,6,7,8,9,10]\n",
    "# print(numbers)\n",
    "# print(numbers[::2])\n",
    "# print(len(numbers[::2]))\n",
    "# print([0] * len(numbers[::2]))\n",
    "numbers[::2] = [0] * len(numbers[::2]) # 0을 반복\n",
    "print(numbers)\n",
    "\n"
   ]
  },
  {
   "cell_type": "code",
   "execution_count": 26,
   "id": "cdc7dae5",
   "metadata": {},
   "outputs": [
    {
     "name": "stdout",
     "output_type": "stream",
     "text": [
      "[0, 2, 0, 4, 0, 6, 0, 8, 0, 10]\n"
     ]
    }
   ],
   "source": [
    "numbers = [1,2,3,4,5,6,7,8,9,10]\n",
    "# 또 다른 방법\n",
    "print([numbers[idx] if idx%2!=0 else 0 for idx in range(len(numbers))])"
   ]
  },
  {
   "cell_type": "code",
   "execution_count": 16,
   "id": "fab18bcc",
   "metadata": {},
   "outputs": [
    {
     "data": {
      "text/plain": [
       "[10, 9, 8, 7, 6, 5, 4, 3, 2, 1]"
      ]
     },
     "execution_count": 16,
     "metadata": {},
     "output_type": "execute_result"
    }
   ],
   "source": [
    "#6.데이터를 역순으로 나열하세요 내림차순 정렬이 아닙니다\n",
    "numbers = [1, 2, 3, 4, 5, 6, 7, 8, 9, 10]\n",
    "# numbers.sort(reverse=True)\n",
    "numbers[::-1]\n",
    "# sorted(numbers,reverse=True)\n",
    "# numbers.sort()"
   ]
  },
  {
   "cell_type": "code",
   "execution_count": 28,
   "id": "48943f7b",
   "metadata": {},
   "outputs": [
    {
     "data": {
      "text/plain": [
       "{'name': '홍길동', 'age': 20, 'address': '서울시 마포구', 'score': 90}"
      ]
     },
     "execution_count": 28,
     "metadata": {},
     "output_type": "execute_result"
    }
   ],
   "source": [
    "# 다음 딕셔너리 데이터가 주어졌을 경우 요구사항대로 코드를 작성하세요\n",
    "member_info ={\"name\":\"홍길동\", \"age\":20, \"address\":\"서울시 마포구\",\"score\":90}\n",
    "member_info"
   ]
  },
  {
   "cell_type": "code",
   "execution_count": 30,
   "id": "65b52e9d",
   "metadata": {},
   "outputs": [
    {
     "name": "stdout",
     "output_type": "stream",
     "text": [
      "서울시 마포구\n",
      "서울시 마포구\n"
     ]
    }
   ],
   "source": [
    "# 7. address 값을 출력하세요\n",
    "print(member_info['address'])\n",
    "print(member_info.get('address')) # 강추"
   ]
  },
  {
   "cell_type": "code",
   "execution_count": null,
   "id": "974c9e5a",
   "metadata": {},
   "outputs": [],
   "source": [
    "# 8. score 를 출력하고 member_info 딕셔너리에서 삭제하세요"
   ]
  },
  {
   "cell_type": "code",
   "execution_count": 274,
   "id": "3a09cc05",
   "metadata": {},
   "outputs": [
    {
     "name": "stdout",
     "output_type": "stream",
     "text": [
      "90\n"
     ]
    },
    {
     "data": {
      "text/plain": [
       "{'name': '홍길동', 'age': 20, 'address': '서울시 마포구'}"
      ]
     },
     "execution_count": 274,
     "metadata": {},
     "output_type": "execute_result"
    }
   ],
   "source": [
    "print(member_info.pop('score'))\n",
    "member_info"
   ]
  },
  {
   "cell_type": "code",
   "execution_count": 275,
   "id": "5d866af8",
   "metadata": {},
   "outputs": [
    {
     "data": {
      "text/plain": [
       "{'name': '홍길동', 'age': 20, 'address': '서울시 서대문구'}"
      ]
     },
     "execution_count": 275,
     "metadata": {},
     "output_type": "execute_result"
    }
   ],
   "source": [
    "#9 address 를 서울시 서대문구 로 변경하세요\n",
    "member_info['address'] = '서울시 서대문구'\n",
    "member_info"
   ]
  },
  {
   "cell_type": "code",
   "execution_count": 279,
   "id": "12c31a0e",
   "metadata": {},
   "outputs": [
    {
     "name": "stdout",
     "output_type": "stream",
     "text": [
      "['홍길동', 20, '서울시 서대문구']\n"
     ]
    }
   ],
   "source": [
    "#10 member_info 딕셔너리 데이터의 값을 리스트로 출력하세요\n",
    "print([data for data in member_info.values()])\n"
   ]
  },
  {
   "cell_type": "code",
   "execution_count": 280,
   "id": "f375af16",
   "metadata": {},
   "outputs": [
    {
     "name": "stdout",
     "output_type": "stream",
     "text": [
      "['orange', 'banana']\n"
     ]
    }
   ],
   "source": [
    "# 서술형\n",
    "# 1. 다음 코드를 실행했을떄 출력되는 것은\n",
    "L1 = (\"orange\",\"apple\",\"banana\",\"kiwi\")\n",
    "new_list = [i for i in L1 if len(i) > 5]\n",
    "print(new_list)"
   ]
  },
  {
   "cell_type": "code",
   "execution_count": 283,
   "id": "f7cb3973",
   "metadata": {},
   "outputs": [
    {
     "name": "stdout",
     "output_type": "stream",
     "text": [
      "[0, 1, 2, 3, 4, 5, 6, 7, 8, 9]\n",
      "[5, 6, 7, 8, 9]\n",
      "[]\n",
      "[10, 12, 14, 16, 18]\n"
     ]
    }
   ],
   "source": [
    "#2. 다음 코드와 실행결과가 잘못 짝지어진 것은\n",
    "print(list(range(10)))\n",
    "print(list(range(5,10)))\n",
    "print(list(range(10,0, 1)))\n",
    "print(list(range(10,20,2)))\n",
    "\n",
    "# 정단 : ③"
   ]
  },
  {
   "cell_type": "code",
   "execution_count": 285,
   "id": "6d467fcb",
   "metadata": {},
   "outputs": [
    {
     "data": {
      "text/plain": [
       "1"
      ]
     },
     "execution_count": 285,
     "metadata": {},
     "output_type": "execute_result"
    }
   ],
   "source": [
    "#3. 다음 구문에 의해 출력되는 것은\n",
    "numbers_2d = [ [1,2,3,4,5], [10,20,30,40],[1,3,5],[2,] ]\n",
    "len(numbers_2d[3])"
   ]
  },
  {
   "cell_type": "code",
   "execution_count": 298,
   "id": "deb2346e",
   "metadata": {},
   "outputs": [
    {
     "data": {
      "text/plain": [
       "[1, 2, 3, 4, 5, 10, 20, 30, 40, 50]"
      ]
     },
     "execution_count": 298,
     "metadata": {},
     "output_type": "execute_result"
    }
   ],
   "source": [
    "#4. 다음 코드의 실행결과가 나올 수 있는 빈칸에 들어갈 함수 이름은\n",
    "# numbers = [1,2,3,4,5]\n",
    "# numbers.__________([10,20,30,40,50])\n",
    "# numbers\n",
    "# 결과 : [1,2,3,4,5,10,20,30,40,50]\n",
    "numbers = [1,2,3,4,5]\n",
    "numbers.extend([10,20,30,40,50])\n",
    "numbers"
   ]
  },
  {
   "cell_type": "code",
   "execution_count": 299,
   "id": "93077873",
   "metadata": {},
   "outputs": [
    {
     "name": "stdout",
     "output_type": "stream",
     "text": [
      "[0, 1, 0, 3, 0, 5, 0, 7, 0, 9]\n"
     ]
    }
   ],
   "source": [
    "# 5. 다음 구문을 실행할 때 결과는\n",
    "numbers = list(range(10))\n",
    "numbers\n",
    "numbers[::2] = [0]*len(numbers[::2]) # 0을 짝수 갯수 만큼 반복\n",
    "print(numbers)"
   ]
  },
  {
   "cell_type": "code",
   "execution_count": 302,
   "id": "801af858",
   "metadata": {},
   "outputs": [
    {
     "name": "stdout",
     "output_type": "stream",
     "text": [
      "[0, 1, 2, 3, 4, 5, 6, 7, 8, 9]\n",
      "[5, 1, 6, 3, 7, 5, 8, 7, 9, 9]\n"
     ]
    }
   ],
   "source": [
    "#6. 다음 구문을 실행할 때 결과는\n",
    "numbers = [0,1,2,3,4,5,6,7,8,9]\n",
    "print(numbers)\n",
    "numbers[::2]= numbers[5:] # 짝수번쨰에 5이상 값이 들어갑\n",
    "print(numbers)"
   ]
  },
  {
   "cell_type": "code",
   "execution_count": 382,
   "id": "48721915",
   "metadata": {},
   "outputs": [
    {
     "name": "stdout",
     "output_type": "stream",
     "text": [
      "[0, 1, 2, 3, 4, 5, 6, 7, 8, 9]\n",
      "[0, 1, 1, 3, 2, 5, 3, 7, 4, 9]\n"
     ]
    }
   ],
   "source": [
    "#7.다음 구문을 실행할 때 결과는\n",
    "numbers = [0, 1, 2, 3, 4, 5, 6, 7, 8, 9]\n",
    "print(numbers)\n",
    "# print(numbers[::2])\n",
    "# print(numbers[:5])\n",
    "numbers[::2]= numbers[:5] # 짝수번쨰에 0 ~ 4 숫자가 들어감\n",
    "print(numbers)"
   ]
  },
  {
   "cell_type": "code",
   "execution_count": 373,
   "id": "966f5281",
   "metadata": {},
   "outputs": [
    {
     "ename": "KeyError",
     "evalue": "0",
     "output_type": "error",
     "traceback": [
      "\u001b[1;31m---------------------------------------------------------------------------\u001b[0m",
      "\u001b[1;31mKeyError\u001b[0m                                  Traceback (most recent call last)",
      "Cell \u001b[1;32mIn[373], line 5\u001b[0m\n\u001b[0;32m      2\u001b[0m my_dic \u001b[38;5;241m=\u001b[39m {\u001b[38;5;124m\"\u001b[39m\u001b[38;5;124ma\u001b[39m\u001b[38;5;124m\"\u001b[39m:\u001b[38;5;241m10\u001b[39m, \u001b[38;5;124m\"\u001b[39m\u001b[38;5;124mb\u001b[39m\u001b[38;5;124m\"\u001b[39m:\u001b[38;5;241m20\u001b[39m, \u001b[38;5;124m\"\u001b[39m\u001b[38;5;124mc\u001b[39m\u001b[38;5;124m\"\u001b[39m:\u001b[38;5;241m30\u001b[39m}\n\u001b[0;32m      3\u001b[0m my_dic\n\u001b[1;32m----> 5\u001b[0m \u001b[43mmy_dic\u001b[49m\u001b[43m[\u001b[49m\u001b[38;5;241;43m0\u001b[39;49m\u001b[43m]\u001b[49m\n",
      "\u001b[1;31mKeyError\u001b[0m: 0"
     ]
    }
   ],
   "source": [
    "#8.다음 데이터에서 10 을 출력할 수 없는 구문은\n",
    "my_dic = {\"a\":10, \"b\":20, \"c\":30}\n",
    "my_dic\n",
    "          \n",
    "my_dic[0]\n",
    "# my_dic['a']\n",
    "# list(my_dic.items())[0][1]\n",
    "# list(my_dic.values())[0]\n",
    "# my_dic.get('a')\n",
    "\n",
    "# 정답 : ①"
   ]
  },
  {
   "cell_type": "code",
   "execution_count": 317,
   "id": "e691ee2d",
   "metadata": {},
   "outputs": [
    {
     "name": "stdout",
     "output_type": "stream",
     "text": [
      "apple\n",
      "banana\n",
      "orange\n"
     ]
    }
   ],
   "source": [
    "# 9.다음 프로그램의 결과를 출력하시오\n",
    "fruits = [\"apple\", \"banana\", \"orange\"]\n",
    "x, y, z = fruits\n",
    "print(x)\n",
    "print(y)\n",
    "print(z)"
   ]
  },
  {
   "cell_type": "code",
   "execution_count": 318,
   "id": "7df0a6b5",
   "metadata": {},
   "outputs": [
    {
     "name": "stdout",
     "output_type": "stream",
     "text": [
      "3\n"
     ]
    }
   ],
   "source": [
    "# 10.다음 프로그램의 결과를 출력하시오\n",
    "fruits = [\"apple\", \"banana\", \"orange\"]\n",
    "print(len(fruits))"
   ]
  },
  {
   "cell_type": "code",
   "execution_count": 33,
   "id": "1544952b",
   "metadata": {},
   "outputs": [],
   "source": [
    "#11. 파이썬에서 함수를 만들기 위해 선언하는 단어는\n",
    "\n",
    "# 정답 : def"
   ]
  }
 ],
 "metadata": {
  "kernelspec": {
   "display_name": "Python 3 (ipykernel)",
   "language": "python",
   "name": "python3"
  },
  "language_info": {
   "codemirror_mode": {
    "name": "ipython",
    "version": 3
   },
   "file_extension": ".py",
   "mimetype": "text/x-python",
   "name": "python",
   "nbconvert_exporter": "python",
   "pygments_lexer": "ipython3",
   "version": "3.10.9"
  },
  "toc": {
   "base_numbering": 1,
   "nav_menu": {},
   "number_sections": false,
   "sideBar": true,
   "skip_h1_title": false,
   "title_cell": "Table of Contents",
   "title_sidebar": "Contents",
   "toc_cell": false,
   "toc_position": {
    "height": "calc(100% - 180px)",
    "left": "10px",
    "top": "150px",
    "width": "165px"
   },
   "toc_section_display": true,
   "toc_window_display": true
  }
 },
 "nbformat": 4,
 "nbformat_minor": 5
}
