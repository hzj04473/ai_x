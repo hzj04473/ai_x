{
 "cells": [
  {
   "cell_type": "code",
   "execution_count": 5,
   "id": "e90722df",
   "metadata": {},
   "outputs": [
    {
     "data": {
      "text/html": [
       "\n",
       "<style>\n",
       "div.container{width:86% !important;}\n",
       "div.cell.code_cell.rendered{width:100%;}\n",
       "div.CodeMirror {font-family:Consolas; font-size:13pt;}\n",
       "div.output {font-size:15pt; font-weight:bold;}\n",
       "div.input {font-family:Consolas; font-size:15pt;}\n",
       "div.prompt {min-width:70px;}\n",
       "div#toc-wrapper{padding-top:120px;}\n",
       "div.text_cell_render ul li{font-size:12pt;padding:5px;}\n",
       "table.dataframe{font-size:15px;}\n",
       "</style>\n"
      ],
      "text/plain": [
       "<IPython.core.display.HTML object>"
      ]
     },
     "metadata": {},
     "output_type": "display_data"
    }
   ],
   "source": [
    "from IPython.display import display, HTML\n",
    "display(HTML(\"\"\"\n",
    "<style>\n",
    "div.container{width:86% !important;}\n",
    "div.cell.code_cell.rendered{width:100%;}\n",
    "div.CodeMirror {font-family:Consolas; font-size:13pt;}\n",
    "div.output {font-size:15pt; font-weight:bold;}\n",
    "div.input {font-family:Consolas; font-size:15pt;}\n",
    "div.prompt {min-width:70px;}\n",
    "div#toc-wrapper{padding-top:120px;}\n",
    "div.text_cell_render ul li{font-size:12pt;padding:5px;}\n",
    "table.dataframe{font-size:15px;}\n",
    "</style>\n",
    "\"\"\"))"
   ]
  },
  {
   "cell_type": "markdown",
   "id": "14da9e41",
   "metadata": {},
   "source": [
    "<font size=\"5\" color=\"red\">ch03 데이터구조</font>\n",
    "\n",
    "- 리스트 [] : 수정가능\n",
    "- 튜플 () : 수정불가\n",
    "- 딕셔너리 {}\n",
    "- 셋\n",
    "\n",
    "# 1절 리스트\n",
    "\n",
    "## 1.1 리스트 만들기\n",
    "\n",
    "- [] 를 이용해서 만들며, 여러개 값(여러 타입)을 하나의 변수에 저장 / 관리할 수 있음\n",
    "- list(리스트로 변환 가능한 자료) 함수 이용도 가능\n",
    "- 인덱스 : 각 요소의 위치. 0부터 시작, 맨 마지막 인덱스는 -1\n",
    "- 슬라이싱 ( [from:stop:step] ) : 부분 데이터셋 추출\n",
    "- 인덱스와 슬라이싱을 이요해서 읽기 / 쓰기 지원"
   ]
  },
  {
   "cell_type": "code",
   "execution_count": 9,
   "id": "e1e449bc",
   "metadata": {},
   "outputs": [
    {
     "name": "stdout",
     "output_type": "stream",
     "text": [
      "<class 'list'>\n"
     ]
    }
   ],
   "source": [
    "fruits = ['banana', 'apple', 'orange', 'grape']\n",
    "print(type(fruits))"
   ]
  },
  {
   "cell_type": "code",
   "execution_count": 12,
   "id": "8b2f39e3",
   "metadata": {},
   "outputs": [
    {
     "name": "stdout",
     "output_type": "stream",
     "text": [
      "['banana', 'apple', 'orange', 'grape']\n",
      "banana\n"
     ]
    }
   ],
   "source": [
    "print(fruits)\n",
    "\n",
    "print(fruits[0])"
   ]
  },
  {
   "cell_type": "code",
   "execution_count": 13,
   "id": "6e714c9f",
   "metadata": {},
   "outputs": [
    {
     "name": "stdout",
     "output_type": "stream",
     "text": [
      "['mango', 'apple', 'orange', 'grape']\n"
     ]
    }
   ],
   "source": [
    "fruits[0] = \"mango\"\n",
    "print(fruits)"
   ]
  },
  {
   "cell_type": "code",
   "execution_count": 20,
   "id": "68649ae1",
   "metadata": {},
   "outputs": [
    {
     "name": "stdout",
     "output_type": "stream",
     "text": [
      "x = mango\n",
      "y = apple\n",
      "z = orange\n",
      "fruits = ['mango', 'apple', 'orange']\n"
     ]
    }
   ],
   "source": [
    "fruits = ['mango', 'apple', 'orange']\n",
    "# fruits = ['mango', 'apple', 'orange', 333] # error too many values to unpack (expected 3)\n",
    "x, y, z = fruits\n",
    "\n",
    "print(f\"x = {x}\")\n",
    "print(f\"y = {y}\")\n",
    "print(\"z = {}\".format(z))\n",
    "print(f\"fruits = {fruits}\")"
   ]
  },
  {
   "cell_type": "code",
   "execution_count": 26,
   "id": "3c5a3987",
   "metadata": {},
   "outputs": [
    {
     "data": {
      "text/plain": [
       "[0, 1, 2, 3, 4, 5, 6, 7, 8, 9]"
      ]
     },
     "execution_count": 26,
     "metadata": {},
     "output_type": "execute_result"
    }
   ],
   "source": [
    "# range( from, to, by) : from부터 to 앞까지 by씩 증가하면서 지정된 범위의 정수\n",
    "    # from 생략시 : 0\n",
    "    # by 생략시 : 1\n",
    "list(range(10))"
   ]
  },
  {
   "cell_type": "code",
   "execution_count": 28,
   "id": "45efc06e",
   "metadata": {},
   "outputs": [
    {
     "data": {
      "text/plain": [
       "range(0, 10)"
      ]
     },
     "execution_count": 28,
     "metadata": {},
     "output_type": "execute_result"
    }
   ],
   "source": [
    "range(0,10)"
   ]
  },
  {
   "cell_type": "code",
   "execution_count": 29,
   "id": "d0239ed6",
   "metadata": {},
   "outputs": [
    {
     "data": {
      "text/plain": [
       "[0, 1, 2, 3, 4, 5, 6, 7, 8, 9]"
      ]
     },
     "execution_count": 29,
     "metadata": {},
     "output_type": "execute_result"
    }
   ],
   "source": [
    "list(range(0,10))"
   ]
  },
  {
   "cell_type": "code",
   "execution_count": 30,
   "id": "5e375739",
   "metadata": {},
   "outputs": [
    {
     "data": {
      "text/plain": [
       "[101, 102, 103, 104, 105, 106, 107, 108, 109, 110]"
      ]
     },
     "execution_count": 30,
     "metadata": {},
     "output_type": "execute_result"
    }
   ],
   "source": [
    "list(range(101,111))"
   ]
  },
  {
   "cell_type": "code",
   "execution_count": 32,
   "id": "aabd8ce5",
   "metadata": {},
   "outputs": [
    {
     "data": {
      "text/plain": [
       "[10, 8, 6, 4, 2, 0]"
      ]
     },
     "execution_count": 32,
     "metadata": {},
     "output_type": "execute_result"
    }
   ],
   "source": [
    "list(range(10,-1,-2))"
   ]
  },
  {
   "cell_type": "code",
   "execution_count": 50,
   "id": "56c73bf1",
   "metadata": {},
   "outputs": [
    {
     "name": "stdout",
     "output_type": "stream",
     "text": [
      "0\n",
      "1\n",
      "2\n"
     ]
    }
   ],
   "source": [
    "# 반복문(3회)\n",
    "for i in range(3):\n",
    "    print(i)"
   ]
  },
  {
   "cell_type": "code",
   "execution_count": 72,
   "id": "fee9360a",
   "metadata": {},
   "outputs": [
    {
     "name": "stdout",
     "output_type": "stream",
     "text": [
      "0번쨰 과일은 mango 입니다.\n",
      "1번쨰 과일은 apple 입니다.\n",
      "2번쨰 과일은 orange 입니다.\n",
      "3번쨰 과일은 grape 입니다.\n"
     ]
    }
   ],
   "source": [
    "fruits = ['mango', 'apple', 'orange','grape']\n",
    "# len(fruits) : 리스트 데이터 수\n",
    "# print(len(fruits))\n",
    "\n",
    "for i in range(len(fruits)):\n",
    "    print(\"{}번쨰 과일은 {} 입니다.\".format(i, fruits[i]))"
   ]
  },
  {
   "cell_type": "code",
   "execution_count": 75,
   "id": "fa908dd6",
   "metadata": {},
   "outputs": [
    {
     "name": "stdout",
     "output_type": "stream",
     "text": [
      "mango\n",
      "apple\n",
      "orange\n",
      "grape\n"
     ]
    }
   ],
   "source": [
    "for value in fruits:\n",
    "    print(value)"
   ]
  },
  {
   "cell_type": "code",
   "execution_count": 76,
   "id": "193f2884",
   "metadata": {},
   "outputs": [
    {
     "name": "stdout",
     "output_type": "stream",
     "text": [
      "1\n",
      "mongo\n"
     ]
    }
   ],
   "source": [
    "i, v = [1, \"mongo\"]\n",
    "print(i)\n",
    "print(v)"
   ]
  },
  {
   "cell_type": "code",
   "execution_count": 88,
   "id": "ce185f7e",
   "metadata": {},
   "outputs": [
    {
     "data": {
      "text/plain": [
       "[(0, 'mango'), (1, 'apple'), (2, 'orange'), (3, 'grape')]"
      ]
     },
     "execution_count": 88,
     "metadata": {},
     "output_type": "execute_result"
    }
   ],
   "source": [
    "list(enumerate(fruits))"
   ]
  },
  {
   "cell_type": "code",
   "execution_count": 84,
   "id": "9639e963",
   "metadata": {},
   "outputs": [
    {
     "name": "stdout",
     "output_type": "stream",
     "text": [
      "0번쨰 과일은 mango 입니다.\n",
      "1번쨰 과일은 apple 입니다.\n",
      "2번쨰 과일은 orange 입니다.\n",
      "3번쨰 과일은 grape 입니다.\n"
     ]
    }
   ],
   "source": [
    "# enumerate (나열가능한 자료) : (index,값) 등의 셋들\n",
    "# for idx, value in [[0, 'mango'],[1, 'apple'],[2, 'orange'],[3, 'grape']]:\n",
    "for idx, value in enumerate(fruits):\n",
    "    print(\"{}번쨰 과일은 {} 입니다.\".format(idx, value))"
   ]
  },
  {
   "cell_type": "code",
   "execution_count": 100,
   "id": "ab870914",
   "metadata": {},
   "outputs": [
    {
     "name": "stdout",
     "output_type": "stream",
     "text": [
      "[0, True, '2', 3, [4, 5, 6]]\n",
      "True 5\n",
      "----------------------------------\n",
      "0 0\n",
      "1 True\n",
      "2 2\n",
      "3 3\n",
      "4 [4, 5, 6]\n",
      "----------------------------------\n"
     ]
    }
   ],
   "source": [
    "# 리스트는 여러 타입의 데이터를 담을 수 있음\n",
    "numbers = [ 0, True, '2', 3, [4, 5, 6] ]\n",
    "\n",
    "print(numbers)\n",
    "print(numbers[1], numbers[4][1])\n",
    "print('----------------------------------')\n",
    "for idx, value in enumerate(numbers):\n",
    "    print(idx, value)\n",
    "print('----------------------------------')    "
   ]
  },
  {
   "cell_type": "code",
   "execution_count": 113,
   "id": "9ef704f4",
   "metadata": {},
   "outputs": [
    {
     "data": {
      "text/plain": [
       "(3, 4)"
      ]
     },
     "execution_count": 113,
     "metadata": {},
     "output_type": "execute_result"
    }
   ],
   "source": [
    "# 2차원 리스트\n",
    "numbers_2d = [ [90, 91, 92, 93],\n",
    "               [80, 81, 82, 83], \n",
    "               [70, 71, 72, 73], ]\n",
    "\n",
    "len(numbers_2d), len(numbers_2d[0])"
   ]
  },
  {
   "cell_type": "code",
   "execution_count": 135,
   "id": "129b141b",
   "metadata": {},
   "outputs": [
    {
     "name": "stdout",
     "output_type": "stream",
     "text": [
      "90\t91\t92\t93\t\n",
      "80\t81\t82\t83\t\n",
      "70\t71\t72\t73\t\n"
     ]
    }
   ],
   "source": [
    "for i, row in enumerate(numbers_2d):\n",
    "\n",
    "    for j, value in enumerate(row):\n",
    "        print(\"{} 행 {} 열 : {}\".format(i, j, value) ,end=\"\\t\")\n",
    "    print() # 개행 (다음줄로)"
   ]
  },
  {
   "cell_type": "code",
   "execution_count": 143,
   "id": "b92fe157",
   "metadata": {},
   "outputs": [
    {
     "name": "stdout",
     "output_type": "stream",
     "text": [
      "90\t91\t92\t93\t\n",
      "80\t81\t82\t83\t\n",
      "70\t71\t72\t73\t\n"
     ]
    }
   ],
   "source": [
    "for row in numbers_2d:\n",
    "#     print(row)\n",
    "    for item in row:\n",
    "#         print(item, end = \"\\t\")\n",
    "        print(\"{}\".format(item), end = '\\t')\n",
    "    print()"
   ]
  },
  {
   "cell_type": "markdown",
   "id": "de433090",
   "metadata": {},
   "source": [
    "## 1.2 기본 정보 조회"
   ]
  },
  {
   "cell_type": "code",
   "execution_count": 165,
   "id": "28e46d2e",
   "metadata": {},
   "outputs": [],
   "source": [
    "numbers = [1, 12, 3, 5, 4]\n",
    "numbers_2d = [ [100, 0], \n",
    "               [9, 100, 1, 2, 3], \n",
    "               [50, 54]]"
   ]
  },
  {
   "cell_type": "code",
   "execution_count": 159,
   "id": "2bbe07a2",
   "metadata": {},
   "outputs": [
    {
     "name": "stdout",
     "output_type": "stream",
     "text": [
      "5 3\n"
     ]
    }
   ],
   "source": [
    "# 요소의 수\n",
    "print(len(numbers), len(numbers_2d))"
   ]
  },
  {
   "cell_type": "code",
   "execution_count": 166,
   "id": "036eed94",
   "metadata": {},
   "outputs": [
    {
     "data": {
      "text/plain": [
       "(1, 12)"
      ]
     },
     "execution_count": 166,
     "metadata": {},
     "output_type": "execute_result"
    }
   ],
   "source": [
    "# 최소값, 최대값\n",
    "min(numbers), max(numbers)"
   ]
  },
  {
   "cell_type": "code",
   "execution_count": 167,
   "id": "020de185",
   "metadata": {},
   "outputs": [
    {
     "data": {
      "text/plain": [
       "([9, 100, 1, 2, 3], [100, 0])"
      ]
     },
     "execution_count": 167,
     "metadata": {},
     "output_type": "execute_result"
    }
   ],
   "source": [
    "# 2차원 list의 min() : 0번 인덱스 요소가 가장 작은 값\n",
    "#             max() : 0번 인덱스 요소가 가장 큰 값\n",
    "min(numbers_2d), max(numbers_2d)"
   ]
  },
  {
   "cell_type": "code",
   "execution_count": 169,
   "id": "f8b7a378",
   "metadata": {},
   "outputs": [
    {
     "data": {
      "text/plain": [
       "('APPLE', 'orange')"
      ]
     },
     "execution_count": 169,
     "metadata": {},
     "output_type": "execute_result"
    }
   ],
   "source": [
    "# 문자 list일 경우 ascii 코드값으로 min(), max() 적용\n",
    "fruits = [\"mongo\", \"apple\", \"orange\", 'APPLE']\n",
    "min(fruits), max(fruits)"
   ]
  },
  {
   "cell_type": "code",
   "execution_count": 186,
   "id": "155ff1bb",
   "metadata": {},
   "outputs": [
    {
     "name": "stdout",
     "output_type": "stream",
     "text": [
      "오름차순 : [1, 3, 4, 5, 12]\n",
      "내림차순 : [12, 5, 4, 3, 1]\n",
      "sorted함수 사용시 리스트 내용이 바뀌지 않음 : [1, 12, 3, 5, 4]\n",
      "합 : 25\n"
     ]
    }
   ],
   "source": [
    "numbers = [1, 12, 3, 5, 4]\n",
    "# 정렬(오름차순, 내림차순)\n",
    "print('오름차순 :', sorted(numbers))\n",
    "print('내림차순 :', sorted(numbers, reverse=True))\n",
    "print(\"sorted함수 사용시 리스트 내용이 바뀌지 않음 :\", numbers)\n",
    "\n",
    "print(\"합 :\", sum(numbers))"
   ]
  },
  {
   "cell_type": "markdown",
   "id": "728a72ca",
   "metadata": {},
   "source": [
    "## 1.3 요소추가\n",
    "\n",
    "```\n",
    "+ : 두 리스트 연결\n",
    "* : 리스트를 곱한 수만 반복\n",
    "append() : 맨 뒤에 요소 추가\n",
    "extend() : 맨 뒤에 리스트를 요소별로 추가\n",
    "insert(idx, 값) : idx번째 인덱스 위치에 추가 (기본 데이터는 shift)\n",
    "```"
   ]
  },
  {
   "cell_type": "code",
   "execution_count": 191,
   "id": "943ae5dc",
   "metadata": {},
   "outputs": [
    {
     "data": {
      "text/plain": [
       "[1, 2, 3, 1, 2, 3]"
      ]
     },
     "execution_count": 191,
     "metadata": {},
     "output_type": "execute_result"
    }
   ],
   "source": [
    "# + : 연결\n",
    "numbers = [1, 2, 3]\n",
    "numbers = numbers + numbers\n",
    "numbers"
   ]
  },
  {
   "cell_type": "code",
   "execution_count": 193,
   "id": "7087d19d",
   "metadata": {},
   "outputs": [
    {
     "data": {
      "text/plain": [
       "[1, 2, 3, 1, 2, 3, 1, 2, 3]"
      ]
     },
     "execution_count": 193,
     "metadata": {},
     "output_type": "execute_result"
    }
   ],
   "source": [
    "# * : 반복\n",
    "numbers = [1, 2, 3]\n",
    "numbers = numbers * 3\n",
    "numbers"
   ]
  },
  {
   "cell_type": "code",
   "execution_count": 197,
   "id": "baa4e573",
   "metadata": {},
   "outputs": [
    {
     "name": "stdout",
     "output_type": "stream",
     "text": [
      "[1, 2, 3, 4]\n"
     ]
    }
   ],
   "source": [
    "# append() : 맨 뒤에 요소 추가\n",
    "numbers = [1, 2, 3]\n",
    "numbers.append(4)\n",
    "print(numbers)"
   ]
  },
  {
   "cell_type": "code",
   "execution_count": 203,
   "id": "241ccb1c",
   "metadata": {},
   "outputs": [
    {
     "name": "stdout",
     "output_type": "stream",
     "text": [
      "[1, 2, 3, [5, 6, 7]]\n"
     ]
    }
   ],
   "source": [
    "numbers = [1, 2, 3]\n",
    "numbers.append([5, 6, 7]) # 맨 뒤에 하나의 요소로 추가\n",
    "print(numbers)"
   ]
  },
  {
   "cell_type": "code",
   "execution_count": 201,
   "id": "46963d34",
   "metadata": {},
   "outputs": [
    {
     "name": "stdout",
     "output_type": "stream",
     "text": [
      "[1, 2, 3, 4, 5, 6]\n"
     ]
    }
   ],
   "source": [
    "# extend() : 맨 뒤에 리스트를 요소별로 추가\n",
    "num = [1, 2, 3]\n",
    "num.extend([4, 5, 6])\n",
    "print(num)"
   ]
  },
  {
   "cell_type": "code",
   "execution_count": 207,
   "id": "a85eb321",
   "metadata": {},
   "outputs": [
    {
     "name": "stdout",
     "output_type": "stream",
     "text": [
      "[1, 2, 'x', 3]\n"
     ]
    }
   ],
   "source": [
    "# insert(idx, 값) : idx번째 인덱스 위치에 추가 (기본 데이터는 shift)\n",
    "num = [1, 2, 3]\n",
    "num.insert(2, 'x')\n",
    "print(num)"
   ]
  },
  {
   "cell_type": "markdown",
   "id": "e33fb2fe",
   "metadata": {},
   "source": [
    "## 1.4 인덱싱과 요소 갯수\n",
    "\n",
    "- 변수[index] : 인덱스를 이용한 접근\n",
    "- index(찾을데이터) : 해당 찾을 데이터가 있는 요소의 index를 반환\n",
    "                     찾을데이타가 없을 경우 오류\n",
    "- count(찾을데이터) : 리스트에서 찾을데이터의 갯수 반환"
   ]
  },
  {
   "cell_type": "code",
   "execution_count": 211,
   "id": "a1fc6563",
   "metadata": {},
   "outputs": [
    {
     "data": {
      "text/plain": [
       "(2, 0)"
      ]
     },
     "execution_count": 211,
     "metadata": {},
     "output_type": "execute_result"
    }
   ],
   "source": [
    "# count(찾을데이터) : 리스트에서 찾을데이터의 갯수 반환\n",
    "numbers = [1, 2, 3, [1, 2, 3], 1, 2, 3]\n",
    "\n",
    "numbers.count(2), numbers.count(9)"
   ]
  },
  {
   "cell_type": "code",
   "execution_count": 213,
   "id": "2325db36",
   "metadata": {},
   "outputs": [
    {
     "data": {
      "text/plain": [
       "1"
      ]
     },
     "execution_count": 213,
     "metadata": {},
     "output_type": "execute_result"
    }
   ],
   "source": [
    "# index(찾을데이터) : 해당 찾을 데이터가 있는 요소의 index를 반환\n",
    "numbers = [1, 2, 3, [1, 2, 3], 1, 2, 3]\n",
    "numbers.index(2) # 0번째 index부터 2가 처음 나오는 index 반환"
   ]
  },
  {
   "cell_type": "code",
   "execution_count": 214,
   "id": "1956de6b",
   "metadata": {},
   "outputs": [
    {
     "data": {
      "text/plain": [
       "5"
      ]
     },
     "execution_count": 214,
     "metadata": {},
     "output_type": "execute_result"
    }
   ],
   "source": [
    "numbers = [1, 2, 3, [1, 2, 3], 1, 2, 3]\n",
    "numbers.index(2, 3) # 3번째 index부터 2가 처음 나오는 index 반환"
   ]
  },
  {
   "cell_type": "markdown",
   "id": "c6f43205",
   "metadata": {},
   "source": [
    "### ※ in 연산자"
   ]
  },
  {
   "cell_type": "code",
   "execution_count": 219,
   "id": "62f6676d",
   "metadata": {},
   "outputs": [
    {
     "name": "stdout",
     "output_type": "stream",
     "text": [
      "9가 없어요\n",
      "9가 없어요\n"
     ]
    }
   ],
   "source": [
    "numbers = [1, 2, 3, [1, 2, 3], 1, 2, 3]\n",
    "\n",
    "if numbers.count(9):\n",
    "    print(numbers.index(9))\n",
    "else:\n",
    "    print(\"9가 없어요\")\n",
    "    \n",
    "# in 연산자    \n",
    "if 9 in numbers:\n",
    "    print(numbers.index(9))\n",
    "else:\n",
    "    print(\"9가 없어요\")"
   ]
  },
  {
   "cell_type": "code",
   "execution_count": 218,
   "id": "bddd88a9",
   "metadata": {},
   "outputs": [
    {
     "data": {
      "text/plain": [
       "False"
      ]
     },
     "execution_count": 218,
     "metadata": {},
     "output_type": "execute_result"
    }
   ],
   "source": [
    "9 in numbers # numbers 리스트에 9가 존재하는지 여부"
   ]
  },
  {
   "cell_type": "markdown",
   "id": "b61ee410",
   "metadata": {},
   "source": [
    "### ※ index 사용자 함수"
   ]
  },
  {
   "cell_type": "code",
   "execution_count": 222,
   "id": "d59f393f",
   "metadata": {},
   "outputs": [],
   "source": [
    "def safe_index(lst, data):\n",
    "    if data in lst: # lst안에 data가 있는지 여부\n",
    "        return lst.index(data)\n",
    "    else:\n",
    "        return -1"
   ]
  },
  {
   "cell_type": "code",
   "execution_count": 226,
   "id": "ea51805d",
   "metadata": {},
   "outputs": [
    {
     "name": "stdout",
     "output_type": "stream",
     "text": [
      "2\n",
      "-1\n"
     ]
    }
   ],
   "source": [
    "print(safe_index(numbers, 3))\n",
    "print(safe_index(numbers, 9))"
   ]
  },
  {
   "cell_type": "code",
   "execution_count": 229,
   "id": "5c0f0e34",
   "metadata": {},
   "outputs": [
    {
     "data": {
      "text/plain": [
       "[1, 2, 3, [1, 2, 3], 1, 2, 3]"
      ]
     },
     "execution_count": 229,
     "metadata": {},
     "output_type": "execute_result"
    }
   ],
   "source": [
    "# numbers.index(9)\n",
    "# numbers[9]\n",
    "# numbers[0:20]"
   ]
  },
  {
   "cell_type": "markdown",
   "id": "a7cf6d66",
   "metadata": {},
   "source": [
    "## 1.5 원하는 요소 추출\n",
    "\n",
    "1. 리스트 슬라이싱 : 리스트에서 원하는 index의 데이터를 추출 (인덱스의 범위 벗어나도 에러 안 남)\n",
    "    - [ from : stop : step] from 부터 stop앞까지 step씩 증가하는 index의 값을 추출\n",
    "    - from 생략시 처음\n",
    "    - stop 생략시 끝\n",
    "    - step 생략시 1. \n",
    "    - 모두 생략 가능\n",
    "    - 음수 인텍스 가능\n",
    "    \n",
    "2. **<font color=\"red\">리스트 컴플리헨션 : </font> : 리스트에서 원하는 데이터를 추출**"
   ]
  },
  {
   "cell_type": "code",
   "execution_count": 233,
   "id": "a0271c4d",
   "metadata": {},
   "outputs": [
    {
     "name": "stdout",
     "output_type": "stream",
     "text": [
      "[1, 5, 10, 13]\n",
      "[20, 13, 12, 10, 9, 5, 3, 1]\n"
     ]
    }
   ],
   "source": [
    "# 리스트 슬라이싱 : 리스트에서 원하는 index의 데이터를 추출 (인덱스의 범위 벗어나도 에러 안 남)\n",
    "numbers = [1, 3, 5, 9, 10, 12, 13, 20]\n",
    "\n",
    "# 짝수번쨰 인덱스 값을 출력\n",
    "print(numbers[::2])\n",
    "\n",
    "# 거꾸로 출력\n",
    "print(numbers[::-1])"
   ]
  },
  {
   "cell_type": "code",
   "execution_count": 270,
   "id": "aff2a68d",
   "metadata": {},
   "outputs": [
    {
     "name": "stdout",
     "output_type": "stream",
     "text": [
      "[1, 3, 5, 9, 10, 12, 13, 20]\n",
      "[10, 12, 20]\n"
     ]
    }
   ],
   "source": [
    "# 리스트 컴플리헨션 : 리스트에서 원하는 데이터를 추출\n",
    "numbers = [1, 3, 5, 9, 10, 12, 13, 20]\n",
    "\n",
    "\n",
    "# 리스트에서 모든 데이터만 변수에 담아 출력하세요.\n",
    "result = []\n",
    "for data in numbers:\n",
    "    result.append(data)\n",
    "print(result)\n",
    "\n",
    "# 리스트에서 짝수 데이터만 변수에 담아 출력하세요.\n",
    "result = []\n",
    "for data in numbers:\n",
    "    if not data % 2:\n",
    "        result.append(data)\n",
    "        \n",
    "print(result)\n"
   ]
  },
  {
   "cell_type": "markdown",
   "id": "c4124bbb",
   "metadata": {},
   "source": [
    "**리스트 컴플리헨션**"
   ]
  },
  {
   "cell_type": "code",
   "execution_count": 296,
   "id": "f3b7e98c",
   "metadata": {},
   "outputs": [
    {
     "name": "stdout",
     "output_type": "stream",
     "text": [
      "[1, 3, 5, 9, 10, 12, 13, 20]\n"
     ]
    }
   ],
   "source": [
    "# numbers의 모든 데이터를 리스트컴프리헨션으로 추출\n",
    "print([data for data in numbers])"
   ]
  },
  {
   "cell_type": "code",
   "execution_count": 295,
   "id": "fc0a7e17",
   "metadata": {},
   "outputs": [
    {
     "name": "stdout",
     "output_type": "stream",
     "text": [
      "[10, 12, 20]\n"
     ]
    }
   ],
   "source": [
    "# numbers의 짝수 데이터를 리스트컴프리헨션으로 추출\n",
    "\n",
    "print([data for data in numbers if not data % 2])"
   ]
  },
  {
   "cell_type": "code",
   "execution_count": 298,
   "id": "19ec6ea7",
   "metadata": {},
   "outputs": [
    {
     "name": "stdout",
     "output_type": "stream",
     "text": [
      "[10, 12, 13, 20]\n"
     ]
    }
   ],
   "source": [
    "# ex1. numbers에서 10 이상만 추출\n",
    "numbers = [1, 3, 5, 9, 10, 12, 13, 20]\n",
    "\n",
    "numbers_change = [data for data in numbers if data >= 10]\n",
    "print(numbers_change)"
   ]
  },
  {
   "cell_type": "code",
   "execution_count": 302,
   "id": "5a216829",
   "metadata": {},
   "outputs": [
    {
     "name": "stdout",
     "output_type": "stream",
     "text": [
      "['orange']\n"
     ]
    }
   ],
   "source": [
    "# ex2. fruits 에서 5글자 넘는 과일만 추출\n",
    "fruits = ['orange', 'apple', 'mongo', 'kiwi']\n",
    "\n",
    "fruits_change = [data for data in fruits if len(data) > 5]\n",
    "print(fruits_change)"
   ]
  },
  {
   "cell_type": "code",
   "execution_count": 292,
   "id": "f7d1ac78",
   "metadata": {},
   "outputs": [
    {
     "name": "stdout",
     "output_type": "stream",
     "text": [
      "[9, 16, 25]\n"
     ]
    }
   ],
   "source": [
    "# ex3. 3이상의 요소들의 제곱을 추출\n",
    "l = [1, 2, 3, 4, 5]\n",
    "\n",
    "l_change = [data**2 for data in l if data >= 3]\n",
    "print(l_change)"
   ]
  },
  {
   "cell_type": "markdown",
   "id": "69618887",
   "metadata": {},
   "source": [
    "## 1.6 요소 수정하기"
   ]
  },
  {
   "cell_type": "code",
   "execution_count": 314,
   "id": "00223b97",
   "metadata": {},
   "outputs": [
    {
     "data": {
      "text/plain": [
       "[0, 1, 222, 3, 4, 5, 6, 7, 8, 9]"
      ]
     },
     "execution_count": 314,
     "metadata": {},
     "output_type": "execute_result"
    }
   ],
   "source": [
    "numbers = [0, 1, 2, 3, 4, 5, 6, 7, 8, 9]\n",
    "# 인덱스를 이용해서 요소 수정\n",
    "numbers[2] = 222\n",
    "numbers"
   ]
  },
  {
   "cell_type": "code",
   "execution_count": 327,
   "id": "afcb6c1b",
   "metadata": {},
   "outputs": [
    {
     "data": {
      "text/plain": [
       "[0, 'x', 'y', 'z', 'ㅋ', 'ㅎ', 4, 5, 6, 7, 8, 9]"
      ]
     },
     "execution_count": 327,
     "metadata": {},
     "output_type": "execute_result"
    }
   ],
   "source": [
    "# 슬라이싱을 이용해서 요소 수정 (step부분이 미포함 : 부분 리스트가 통쨰로 수정)\n",
    "numbers = [0, 1, 2, 3, 4, 5, 6, 7, 8, 9]\n",
    "numbers[1:4] = ['x', 'y', 'z', 'ㅋ', 'ㅎ']\n",
    "# numbers[1:4] = ['x']\n",
    "numbers"
   ]
  },
  {
   "cell_type": "code",
   "execution_count": 333,
   "id": "385198d0",
   "metadata": {},
   "outputs": [
    {
     "data": {
      "text/plain": [
       "['xx', 1, 'xx', 3, 'xx', 5, 'xx', 7, 'xx', 9]"
      ]
     },
     "execution_count": 333,
     "metadata": {},
     "output_type": "execute_result"
    }
   ],
   "source": [
    "# 슬라이싱을 이용해서 요소 수정 (step부분 포함 : 요소 갯수가 맞아야 함)\n",
    "numbers = [0, 1, 2, 3, 4, 5, 6, 7, 8, 9]\n",
    "\n",
    "# numbers[::2] = [99,99,99,99,99]\n",
    "# 또는\n",
    "numbers[::2] = ['xx']*5\n",
    "numbers"
   ]
  },
  {
   "cell_type": "markdown",
   "id": "515a89d4",
   "metadata": {},
   "source": [
    "## 1.7 요소 삭제\n",
    "\n",
    "- pop() : 가장 마지막 인덱스 요소가 반환되고 삭제\n",
    "- pop(idx) : idx 번째 요소가 반환되고 삭제\n",
    "- remove(지울data) : 리스트안의 data가 삭제\n",
    "- del 변수[idx] : idx번째 요소가 삭제"
   ]
  },
  {
   "cell_type": "code",
   "execution_count": 353,
   "id": "ef1ac9d7",
   "metadata": {},
   "outputs": [
    {
     "name": "stdout",
     "output_type": "stream",
     "text": [
      "삭제된 데이터 : 5, 리스트 : [1, 2, 3, 4]\n",
      "삭제된 데이터 : 1, 리스트 : [2, 3, 4]\n",
      "numbers : [2, 3]\n"
     ]
    }
   ],
   "source": [
    "# pop()\n",
    "numbers = [1, 2, 3, 4, 5]\n",
    "delete_data = numbers.pop()\n",
    "\n",
    "print(\"삭제된 데이터 : {}, 리스트 : {}\".format(delete_data, numbers))\n",
    "\n",
    "# pop(idx)\n",
    "delete_data2 = numbers.pop(0)\n",
    "print(\"삭제된 데이터 : {}, 리스트 : {}\".format(delete_data2, numbers))\n",
    "\n",
    "# del 변수[idx]\n",
    "del numbers[2]\n",
    "print(\"numbers :\", numbers)"
   ]
  },
  {
   "cell_type": "code",
   "execution_count": 358,
   "id": "a1dcee40",
   "metadata": {},
   "outputs": [
    {
     "name": "stdout",
     "output_type": "stream",
     "text": [
      "[1, 2, 4, 5]\n"
     ]
    }
   ],
   "source": [
    "# remove(지울데이터)\n",
    "numbers = [1, 2, 3, 4, 5]\n",
    "\n",
    "# remove()는 반환값이 없고, 해당 데이터만 삭제 데이터가 없으면 오류\n",
    "del_num = numbers.remove(3) \n",
    "print(numbers)"
   ]
  },
  {
   "cell_type": "code",
   "execution_count": 370,
   "id": "1c76c637",
   "metadata": {},
   "outputs": [
    {
     "ename": "ValueError",
     "evalue": "list.remove(x): x not in list",
     "output_type": "error",
     "traceback": [
      "\u001b[1;31m---------------------------------------------------------------------------\u001b[0m",
      "\u001b[1;31mValueError\u001b[0m                                Traceback (most recent call last)",
      "Cell \u001b[1;32mIn[370], line 2\u001b[0m\n\u001b[0;32m      1\u001b[0m \u001b[38;5;66;03m# 해당 데이터만 삭제 데이터가 없으면 오류\u001b[39;00m\n\u001b[1;32m----> 2\u001b[0m \u001b[43mnumbers\u001b[49m\u001b[38;5;241;43m.\u001b[39;49m\u001b[43mremove\u001b[49m\u001b[43m(\u001b[49m\u001b[38;5;241;43m9\u001b[39;49m\u001b[43m)\u001b[49m\n",
      "\u001b[1;31mValueError\u001b[0m: list.remove(x): x not in list"
     ]
    }
   ],
   "source": [
    "# 해당 데이터만 삭제 데이터가 없으면 오류\n",
    "numbers = [1, 2, 3, 4, 5]\n",
    "\n",
    "numbers.remove(9)"
   ]
  },
  {
   "cell_type": "code",
   "execution_count": 371,
   "id": "0f613f03",
   "metadata": {},
   "outputs": [
    {
     "name": "stdout",
     "output_type": "stream",
     "text": [
      "해당 데이터가 없습니다.\n"
     ]
    }
   ],
   "source": [
    "numbers = [1, 2, 3, 4, 5]\n",
    "\n",
    "if 9 in numbers:\n",
    "    numbers.remove(9)\n",
    "else:\n",
    "    print(\"해당 데이터가 없습니다.\")"
   ]
  },
  {
   "cell_type": "code",
   "execution_count": 377,
   "id": "7a699d00",
   "metadata": {},
   "outputs": [
    {
     "name": "stdout",
     "output_type": "stream",
     "text": [
      "9는 없는 아이템입니다.\n",
      "5 는 삭제완료 [1, 2, 3, 4]\n"
     ]
    }
   ],
   "source": [
    "numbers = [1, 2, 3, 4, 5]\n",
    "\n",
    "def safe_remove(lst, remove_data):\n",
    "    if remove_data in lst:\n",
    "        lst.remove(remove_data)\n",
    "        print(remove_data, \"는 삭제완료\", numbers)\n",
    "    else:\n",
    "        print(f\"{remove_data}는 없는 아이템입니다.\")\n",
    "        \n",
    "safe_remove(numbers, 9)\n",
    "safe_remove(numbers, 5)"
   ]
  },
  {
   "cell_type": "code",
   "execution_count": null,
   "id": "aa56fe11",
   "metadata": {},
   "outputs": [],
   "source": []
  },
  {
   "cell_type": "code",
   "execution_count": null,
   "id": "1b0552d0",
   "metadata": {},
   "outputs": [],
   "source": []
  },
  {
   "cell_type": "code",
   "execution_count": null,
   "id": "95ca2190",
   "metadata": {},
   "outputs": [],
   "source": []
  },
  {
   "cell_type": "code",
   "execution_count": null,
   "id": "a70bd671",
   "metadata": {},
   "outputs": [],
   "source": []
  },
  {
   "cell_type": "code",
   "execution_count": null,
   "id": "cb7c75e0",
   "metadata": {},
   "outputs": [],
   "source": []
  },
  {
   "cell_type": "code",
   "execution_count": null,
   "id": "9aa81d62",
   "metadata": {},
   "outputs": [],
   "source": []
  },
  {
   "cell_type": "code",
   "execution_count": null,
   "id": "90035948",
   "metadata": {},
   "outputs": [],
   "source": []
  },
  {
   "cell_type": "code",
   "execution_count": null,
   "id": "81fac9c8",
   "metadata": {},
   "outputs": [],
   "source": []
  },
  {
   "cell_type": "code",
   "execution_count": null,
   "id": "d2d1c76f",
   "metadata": {},
   "outputs": [],
   "source": []
  }
 ],
 "metadata": {
  "kernelspec": {
   "display_name": "Python 3 (ipykernel)",
   "language": "python",
   "name": "python3"
  },
  "language_info": {
   "codemirror_mode": {
    "name": "ipython",
    "version": 3
   },
   "file_extension": ".py",
   "mimetype": "text/x-python",
   "name": "python",
   "nbconvert_exporter": "python",
   "pygments_lexer": "ipython3",
   "version": "3.10.9"
  },
  "toc": {
   "base_numbering": 1,
   "nav_menu": {},
   "number_sections": false,
   "sideBar": true,
   "skip_h1_title": false,
   "title_cell": "Table of Contents",
   "title_sidebar": "Contents",
   "toc_cell": false,
   "toc_position": {
    "height": "calc(100% - 180px)",
    "left": "10px",
    "top": "150px",
    "width": "165px"
   },
   "toc_section_display": true,
   "toc_window_display": true
  }
 },
 "nbformat": 4,
 "nbformat_minor": 5
}
