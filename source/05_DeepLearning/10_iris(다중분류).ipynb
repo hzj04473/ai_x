{
 "cells": [
  {
   "cell_type": "code",
   "execution_count": 7,
   "id": "c4e558d3",
   "metadata": {},
   "outputs": [
    {
     "data": {
      "text/html": [
       "\n",
       "<style>\n",
       "* {font-family:D2Coding;}\n",
       "div.container{width:87% !important;}\n",
       "div.cell.code_cell.rendered{width:100%;}\n",
       "div.CodeMirror {font-size:12pt;}\n",
       "div.output {font-size:12pt; font-weight:bold;}\n",
       "div.input { font-size:12pt;}\n",
       "div.prompt {min-width:70px;}\n",
       "div#toc-wrapper{padding-top:120px;}\n",
       "div.text_cell_render ul li{font-size:12pt;padding:3px;}\n",
       "table.dataframe{font-size:12px;}\n",
       "</style>\n"
      ],
      "text/plain": [
       "<IPython.core.display.HTML object>"
      ]
     },
     "metadata": {},
     "output_type": "display_data"
    }
   ],
   "source": [
    "from IPython.display import display, HTML\n",
    "\n",
    "display(\n",
    "    HTML(\"\"\"\n",
    "<style>\n",
    "* {font-family:D2Coding;}\n",
    "div.container{width:87% !important;}\n",
    "div.cell.code_cell.rendered{width:100%;}\n",
    "div.CodeMirror {font-size:12pt;}\n",
    "div.output {font-size:12pt; font-weight:bold;}\n",
    "div.input { font-size:12pt;}\n",
    "div.prompt {min-width:70px;}\n",
    "div#toc-wrapper{padding-top:120px;}\n",
    "div.text_cell_render ul li{font-size:12pt;padding:3px;}\n",
    "table.dataframe{font-size:12px;}\n",
    "</style>\n",
    "\"\"\"))"
   ]
  },
  {
   "cell_type": "code",
   "execution_count": null,
   "id": "577c1125",
   "metadata": {},
   "outputs": [],
   "source": [
    "# import\n",
    "import numpy as np\n",
    "import seaborn as sns # iris 데이터\n",
    "import pandas as pd # 원핫 인코팅\n",
    "from sklearn.preprocessing import LabelEncoder # 라벨인코딩(문자 → 숫자)\n",
    "from tensorflow.keras.utils import to_categorical # 원핫인코딩\n",
    "from sklearn.model_selection import train_test_split # 데이터 분할(층화추출로)\n",
    "from tensorflow.keras.models import Sequential, load_model, save_model\n",
    "from tensorflow.keras.layers import Dense, Dropout, Input\n",
    "from tensorflow.keras.callbacks import EarlyStopping, ModelCheckpoint\n",
    "import matplotlib.pyplot as plt # 학습과정 시각화\n",
    "\n",
    "\n"
   ]
  },
  {
   "cell_type": "markdown",
   "id": "e2cf2815",
   "metadata": {},
   "source": [
    "- iris 데이터\n",
    "- sepal_length : 꽃받침길이\n",
    "- sepal_width : 꽃잎넓이\n",
    "- petal_length : 꽃잎길이\n",
    "- species : 종 "
   ]
  },
  {
   "cell_type": "code",
   "execution_count": 30,
   "id": "9239ad4e",
   "metadata": {},
   "outputs": [
    {
     "data": {
      "text/plain": [
       "array([[1., 0., 0.],\n",
       "       [1., 0., 0.],\n",
       "       [0., 1., 0.],\n",
       "       [0., 1., 0.],\n",
       "       [0., 0., 1.],\n",
       "       [0., 0., 1.]], dtype=float32)"
      ]
     },
     "execution_count": 30,
     "metadata": {},
     "output_type": "execute_result"
    }
   ],
   "source": [
    "# 문자변수의 원홧인코딩 방법 1\n",
    "iris = sns.load_dataset('iris')\n",
    "# to_categorical(iris['species']) # to_categorical는 정수형으로...\n",
    "labelEncoder = LabelEncoder()\n",
    "\n",
    "# labelEncoder.fit(iris['species'])\n",
    "# iris['y'] = labelEncoder.transform(iris['species'])\n",
    "\n",
    "iris['y'] = labelEncoder.fit_transform(iris.species)\n",
    "# iris.iloc[::25]\n",
    "to_categorical(iris['y'])[::25] # to_categorical의 결과는 numpy배열\n",
    "\n",
    "# iris\n"
   ]
  },
  {
   "cell_type": "code",
   "execution_count": 32,
   "id": "8d8ffa09",
   "metadata": {},
   "outputs": [
    {
     "data": {
      "text/plain": [
       "array([[1, 0, 0],\n",
       "       [1, 0, 0],\n",
       "       [0, 1, 0],\n",
       "       [0, 1, 0],\n",
       "       [0, 0, 1],\n",
       "       [0, 0, 1]], dtype=uint8)"
      ]
     },
     "execution_count": 32,
     "metadata": {},
     "output_type": "execute_result"
    }
   ],
   "source": [
    "# 문자변수 원핫인코딩 방법 2\n",
    "iris = sns.load_dataset('iris')\n",
    "# iris.head(5)\n",
    "pd.get_dummies(iris.species).values # pd.get_dummies 결과는 데이터 프레임\n",
    "pd.get_dummies(iris.species).to_numpy()[::25] # pd.get_dummies 결과는 데이터 프레임"
   ]
  },
  {
   "cell_type": "code",
   "execution_count": 60,
   "id": "62dc45a8",
   "metadata": {},
   "outputs": [
    {
     "name": "stdout",
     "output_type": "stream",
     "text": [
      "(150, 4) (150, 3)\n",
      "(120, 4) (30, 4) (120, 3) (30, 3)\n"
     ]
    }
   ],
   "source": [
    "# 1. 데이터 생성 및 전처리\n",
    "iris = sns.load_dataset('iris')\n",
    "# iris.info() # 결측치 있으면 결측치 처리\n",
    "# iris['species'].value_counts() # 타켓변수의 분포\n",
    "\n",
    "# 독립변수와 타켓변수 분리\n",
    "iris_X = iris.iloc[:,:-1].to_numpy()\n",
    "# iris_X[:2]\n",
    "iris_y = iris.iloc[:, -1]\n",
    "iris_Y = pd.get_dummies(iris_y).values # 원핫인코딩 (넘파이배열)\n",
    "# iris_Y[::50]\n",
    "\n",
    "# 훈련셋 : 테스트셋 - 8:2\n",
    "X_train, X_test, Y_train, Y_test = train_test_split(iris_X, iris_Y, \n",
    "                                                    train_size=0.8, # 훈련셋 비율\n",
    "                                                    # test_size=0.2, # 테스트 비율\n",
    "                                                    stratify=iris_Y, # 층화추출\n",
    "                                                    random_state=7 # 랜덤시드값\n",
    "                                                    )\n",
    "\n",
    "\n",
    "print(iris_X.shape, iris_Y.shape)\n",
    "print(X_train.shape, X_test.shape, Y_train.shape, Y_test.shape)"
   ]
  },
  {
   "cell_type": "code",
   "execution_count": 64,
   "id": "4a0c7ac3",
   "metadata": {},
   "outputs": [
    {
     "data": {
      "text/plain": [
       "0    50\n",
       "1    50\n",
       "2    50\n",
       "dtype: int64"
      ]
     },
     "execution_count": 64,
     "metadata": {},
     "output_type": "execute_result"
    }
   ],
   "source": [
    "# 층화 추출이 되었는지 확인\n",
    "# iris_Y.argmax(axis=1)\n",
    "pd.Series(np.argmax(iris_Y, axis=1)).value_counts()"
   ]
  },
  {
   "cell_type": "code",
   "execution_count": 63,
   "id": "09253d57",
   "metadata": {},
   "outputs": [
    {
     "name": "stdout",
     "output_type": "stream",
     "text": [
      "0    50\n",
      "1    50\n",
      "2    50\n",
      "dtype: int64\n",
      "0    40\n",
      "2    40\n",
      "1    40\n",
      "dtype: int64\n",
      "0    10\n",
      "2    10\n",
      "1    10\n",
      "dtype: int64\n"
     ]
    }
   ],
   "source": [
    "print(pd.Series(np.argmax(iris_Y, axis=1)).value_counts())\n",
    "print(pd.Series(np.argmax(Y_train, axis=1)).value_counts())\n",
    "print(pd.Series(np.argmax(Y_test, axis=1)).value_counts())"
   ]
  },
  {
   "cell_type": "code",
   "execution_count": 75,
   "id": "6414029c",
   "metadata": {},
   "outputs": [
    {
     "name": "stdout",
     "output_type": "stream",
     "text": [
      "Model: \"sequential_3\"\n",
      "_________________________________________________________________\n",
      " Layer (type)                Output Shape              Param #   \n",
      "=================================================================\n",
      " dense_10 (Dense)            (None, 64)                320       \n",
      "                                                                 \n",
      " dense_11 (Dense)            (None, 128)               8320      \n",
      "                                                                 \n",
      " dropout_4 (Dropout)         (None, 128)               0         \n",
      "                                                                 \n",
      " dense_12 (Dense)            (None, 50)                6450      \n",
      "                                                                 \n",
      " dropout_5 (Dropout)         (None, 50)                0         \n",
      "                                                                 \n",
      " dense_13 (Dense)            (None, 30)                1530      \n",
      "                                                                 \n",
      " dropout_6 (Dropout)         (None, 30)                0         \n",
      "                                                                 \n",
      " dense_14 (Dense)            (None, 3)                 93        \n",
      "                                                                 \n",
      "=================================================================\n",
      "Total params: 16,713\n",
      "Trainable params: 16,713\n",
      "Non-trainable params: 0\n",
      "_________________________________________________________________\n"
     ]
    }
   ],
   "source": [
    "# 2. 모델구성 (입력4, 출력3)\n",
    "model = Sequential()\n",
    "\n",
    "model.add(Dense(units=64, input_dim=4, activation='relu'))\n",
    "model.add(Dense(units=128, activation='relu'))\n",
    "model.add(Dropout(0.2))\n",
    "model.add(Dense(units=50, activation='relu'))\n",
    "model.add(Dropout(0.1))\n",
    "model.add(Dense(units=30, activation='relu'))\n",
    "model.add(Dropout(0.1))\n",
    "model.add(Dense(units=3, activation='softmax')) # 출력층\n",
    "\n",
    "model.summary()"
   ]
  },
  {
   "cell_type": "code",
   "execution_count": 119,
   "id": "7c0fa7c2",
   "metadata": {},
   "outputs": [
    {
     "name": "stdout",
     "output_type": "stream",
     "text": [
      "Epoch 1/500\n",
      "1/3 [=========>....................] - ETA: 1s - loss: 0.0804 - accuracy: 0.9688\n",
      "Epoch 1: val_accuracy improved from -inf to 0.95833, saving model to ./model_iris/iris-epo001-val0.9583.h5\n",
      "3/3 [==============================] - 1s 182ms/step - loss: 0.0535 - accuracy: 0.9896 - val_loss: 0.2151 - val_accuracy: 0.9583\n",
      "Epoch 2/500\n",
      "1/3 [=========>....................] - ETA: 0s - loss: 0.1316 - accuracy: 0.9375\n",
      "Epoch 2: val_accuracy did not improve from 0.95833\n",
      "3/3 [==============================] - 0s 24ms/step - loss: 0.0853 - accuracy: 0.9479 - val_loss: 0.2709 - val_accuracy: 0.9167\n",
      "Epoch 3/500\n",
      "1/3 [=========>....................] - ETA: 0s - loss: 0.0166 - accuracy: 1.0000\n",
      "Epoch 3: val_accuracy did not improve from 0.95833\n",
      "3/3 [==============================] - 0s 22ms/step - loss: 0.0569 - accuracy: 0.9792 - val_loss: 0.2226 - val_accuracy: 0.9583\n",
      "Epoch 4/500\n",
      "1/3 [=========>....................] - ETA: 0s - loss: 0.0890 - accuracy: 0.9688\n",
      "Epoch 4: val_accuracy did not improve from 0.95833\n",
      "3/3 [==============================] - 0s 22ms/step - loss: 0.0742 - accuracy: 0.9688 - val_loss: 0.2334 - val_accuracy: 0.9583\n",
      "Epoch 5/500\n",
      "1/3 [=========>....................] - ETA: 0s - loss: 0.0409 - accuracy: 0.9688\n",
      "Epoch 5: val_accuracy did not improve from 0.95833\n",
      "3/3 [==============================] - 0s 27ms/step - loss: 0.0604 - accuracy: 0.9583 - val_loss: 0.2538 - val_accuracy: 0.9167\n",
      "Epoch 6/500\n",
      "1/3 [=========>....................] - ETA: 0s - loss: 0.1174 - accuracy: 0.9688\n",
      "Epoch 6: val_accuracy did not improve from 0.95833\n",
      "3/3 [==============================] - 0s 46ms/step - loss: 0.0715 - accuracy: 0.9792 - val_loss: 0.2613 - val_accuracy: 0.9167\n",
      "Epoch 7/500\n",
      "1/3 [=========>....................] - ETA: 0s - loss: 0.0305 - accuracy: 1.0000\n",
      "Epoch 7: val_accuracy did not improve from 0.95833\n",
      "3/3 [==============================] - 0s 50ms/step - loss: 0.0601 - accuracy: 0.9896 - val_loss: 0.2338 - val_accuracy: 0.9583\n",
      "Epoch 8/500\n",
      "1/3 [=========>....................] - ETA: 0s - loss: 0.0495 - accuracy: 0.9688\n",
      "Epoch 8: val_accuracy did not improve from 0.95833\n",
      "3/3 [==============================] - 0s 39ms/step - loss: 0.0689 - accuracy: 0.9688 - val_loss: 0.2159 - val_accuracy: 0.9583\n",
      "Epoch 9/500\n",
      "1/3 [=========>....................] - ETA: 0s - loss: 0.1024 - accuracy: 0.9688\n",
      "Epoch 9: val_accuracy did not improve from 0.95833\n",
      "3/3 [==============================] - 0s 37ms/step - loss: 0.0471 - accuracy: 0.9896 - val_loss: 0.2691 - val_accuracy: 0.9167\n",
      "Epoch 10/500\n",
      "2/3 [===================>..........] - ETA: 0s - loss: 0.0527 - accuracy: 0.9688\n",
      "Epoch 10: val_accuracy did not improve from 0.95833\n",
      "3/3 [==============================] - 0s 77ms/step - loss: 0.0599 - accuracy: 0.9688 - val_loss: 0.2785 - val_accuracy: 0.9167\n",
      "Epoch 11/500\n",
      "1/3 [=========>....................] - ETA: 0s - loss: 0.1096 - accuracy: 0.9688\n",
      "Epoch 11: val_accuracy did not improve from 0.95833\n",
      "3/3 [==============================] - 0s 52ms/step - loss: 0.0671 - accuracy: 0.9792 - val_loss: 0.2294 - val_accuracy: 0.9583\n",
      "Epoch 12/500\n",
      "1/3 [=========>....................] - ETA: 0s - loss: 0.0458 - accuracy: 0.9688\n",
      "Epoch 12: val_accuracy did not improve from 0.95833\n",
      "3/3 [==============================] - 0s 34ms/step - loss: 0.0473 - accuracy: 0.9688 - val_loss: 0.2159 - val_accuracy: 0.9583\n",
      "Epoch 13/500\n",
      "1/3 [=========>....................] - ETA: 0s - loss: 0.1385 - accuracy: 0.9062\n",
      "Epoch 13: val_accuracy did not improve from 0.95833\n",
      "3/3 [==============================] - 0s 26ms/step - loss: 0.0808 - accuracy: 0.9583 - val_loss: 0.2620 - val_accuracy: 0.9167\n",
      "Epoch 14/500\n",
      "1/3 [=========>....................] - ETA: 0s - loss: 0.0747 - accuracy: 0.9688\n",
      "Epoch 14: val_accuracy did not improve from 0.95833\n",
      "3/3 [==============================] - 0s 26ms/step - loss: 0.0619 - accuracy: 0.9792 - val_loss: 0.2581 - val_accuracy: 0.9167\n",
      "Epoch 15/500\n",
      "1/3 [=========>....................] - ETA: 0s - loss: 0.0612 - accuracy: 0.9688\n",
      "Epoch 15: val_accuracy did not improve from 0.95833\n",
      "3/3 [==============================] - 0s 62ms/step - loss: 0.0478 - accuracy: 0.9792 - val_loss: 0.2348 - val_accuracy: 0.9583\n",
      "Epoch 16/500\n",
      "1/3 [=========>....................] - ETA: 0s - loss: 0.0313 - accuracy: 1.0000\n",
      "Epoch 16: val_accuracy did not improve from 0.95833\n",
      "3/3 [==============================] - 0s 43ms/step - loss: 0.0528 - accuracy: 0.9792 - val_loss: 0.2545 - val_accuracy: 0.9167\n",
      "Epoch 17/500\n",
      "1/3 [=========>....................] - ETA: 0s - loss: 0.1116 - accuracy: 0.9375\n",
      "Epoch 17: val_accuracy did not improve from 0.95833\n",
      "3/3 [==============================] - 0s 29ms/step - loss: 0.0492 - accuracy: 0.9792 - val_loss: 0.2337 - val_accuracy: 0.9583\n",
      "Epoch 18/500\n",
      "1/3 [=========>....................] - ETA: 0s - loss: 0.0371 - accuracy: 1.0000\n",
      "Epoch 18: val_accuracy did not improve from 0.95833\n",
      "3/3 [==============================] - 0s 28ms/step - loss: 0.0529 - accuracy: 0.9896 - val_loss: 0.2344 - val_accuracy: 0.9583\n",
      "Epoch 19/500\n",
      "1/3 [=========>....................] - ETA: 0s - loss: 0.0483 - accuracy: 0.9688\n",
      "Epoch 19: val_accuracy did not improve from 0.95833\n",
      "3/3 [==============================] - 0s 39ms/step - loss: 0.0633 - accuracy: 0.9583 - val_loss: 0.2248 - val_accuracy: 0.9583\n",
      "Epoch 20/500\n",
      "1/3 [=========>....................] - ETA: 0s - loss: 0.0209 - accuracy: 1.0000\n",
      "Epoch 20: val_accuracy did not improve from 0.95833\n",
      "3/3 [==============================] - 0s 28ms/step - loss: 0.0215 - accuracy: 1.0000 - val_loss: 0.2512 - val_accuracy: 0.9167\n",
      "Epoch 21/500\n",
      "1/3 [=========>....................] - ETA: 0s - loss: 0.1127 - accuracy: 0.9688\n",
      "Epoch 21: val_accuracy did not improve from 0.95833\n",
      "3/3 [==============================] - 0s 35ms/step - loss: 0.0553 - accuracy: 0.9896 - val_loss: 0.2490 - val_accuracy: 0.9167\n",
      "Epoch 22/500\n",
      "1/3 [=========>....................] - ETA: 0s - loss: 0.0320 - accuracy: 1.0000\n",
      "Epoch 22: val_accuracy did not improve from 0.95833\n",
      "3/3 [==============================] - 0s 39ms/step - loss: 0.0445 - accuracy: 0.9896 - val_loss: 0.2413 - val_accuracy: 0.9583\n",
      "Epoch 23/500\n",
      "1/3 [=========>....................] - ETA: 0s - loss: 0.0102 - accuracy: 1.0000\n",
      "Epoch 23: val_accuracy did not improve from 0.95833\n",
      "3/3 [==============================] - 0s 28ms/step - loss: 0.0589 - accuracy: 0.9792 - val_loss: 0.2311 - val_accuracy: 0.9583\n",
      "Epoch 24/500\n",
      "1/3 [=========>....................] - ETA: 0s - loss: 0.0417 - accuracy: 1.0000\n",
      "Epoch 24: val_accuracy did not improve from 0.95833\n",
      "3/3 [==============================] - 0s 29ms/step - loss: 0.0574 - accuracy: 0.9792 - val_loss: 0.2466 - val_accuracy: 0.9583\n",
      "Epoch 25/500\n",
      "1/3 [=========>....................] - ETA: 0s - loss: 0.0136 - accuracy: 1.0000\n",
      "Epoch 25: val_accuracy did not improve from 0.95833\n",
      "3/3 [==============================] - 0s 41ms/step - loss: 0.0572 - accuracy: 0.9896 - val_loss: 0.2544 - val_accuracy: 0.9583\n",
      "Epoch 26/500\n",
      "1/3 [=========>....................] - ETA: 0s - loss: 0.0438 - accuracy: 0.9688\n",
      "Epoch 26: val_accuracy did not improve from 0.95833\n",
      "3/3 [==============================] - 0s 23ms/step - loss: 0.0589 - accuracy: 0.9688 - val_loss: 0.2388 - val_accuracy: 0.9583\n",
      "Epoch 27/500\n",
      "1/3 [=========>....................] - ETA: 0s - loss: 0.0813 - accuracy: 0.9375\n",
      "Epoch 27: val_accuracy did not improve from 0.95833\n",
      "3/3 [==============================] - 0s 22ms/step - loss: 0.0402 - accuracy: 0.9792 - val_loss: 0.2704 - val_accuracy: 0.9167\n",
      "Epoch 28/500\n",
      "1/3 [=========>....................] - ETA: 0s - loss: 0.0679 - accuracy: 0.9688\n",
      "Epoch 28: val_accuracy did not improve from 0.95833\n",
      "3/3 [==============================] - 0s 23ms/step - loss: 0.0474 - accuracy: 0.9792 - val_loss: 0.2593 - val_accuracy: 0.9583\n",
      "Epoch 29/500\n",
      "1/3 [=========>....................] - ETA: 0s - loss: 0.0574 - accuracy: 0.9688\n",
      "Epoch 29: val_accuracy did not improve from 0.95833\n",
      "3/3 [==============================] - 0s 23ms/step - loss: 0.0427 - accuracy: 0.9792 - val_loss: 0.2317 - val_accuracy: 0.9583\n",
      "Epoch 30/500\n",
      "1/3 [=========>....................] - ETA: 0s - loss: 0.0277 - accuracy: 1.0000\n",
      "Epoch 30: val_accuracy did not improve from 0.95833\n",
      "3/3 [==============================] - 0s 21ms/step - loss: 0.0694 - accuracy: 0.9688 - val_loss: 0.2928 - val_accuracy: 0.9167\n",
      "Epoch 31/500\n",
      "1/3 [=========>....................] - ETA: 0s - loss: 0.0881 - accuracy: 0.9375\n",
      "Epoch 31: val_accuracy did not improve from 0.95833\n",
      "3/3 [==============================] - 0s 23ms/step - loss: 0.1323 - accuracy: 0.9479 - val_loss: 0.3315 - val_accuracy: 0.9167\n",
      "Epoch 32/500\n",
      "1/3 [=========>....................] - ETA: 0s - loss: 0.0094 - accuracy: 1.0000\n",
      "Epoch 32: val_accuracy did not improve from 0.95833\n",
      "3/3 [==============================] - 0s 22ms/step - loss: 0.0485 - accuracy: 0.9792 - val_loss: 0.2442 - val_accuracy: 0.9583\n",
      "Epoch 33/500\n",
      "1/3 [=========>....................] - ETA: 0s - loss: 0.0103 - accuracy: 1.0000\n",
      "Epoch 33: val_accuracy did not improve from 0.95833\n",
      "3/3 [==============================] - 0s 22ms/step - loss: 0.0319 - accuracy: 0.9896 - val_loss: 0.2389 - val_accuracy: 0.9167\n",
      "Epoch 34/500\n",
      "1/3 [=========>....................] - ETA: 0s - loss: 0.0987 - accuracy: 0.9688\n",
      "Epoch 34: val_accuracy did not improve from 0.95833\n",
      "3/3 [==============================] - 0s 21ms/step - loss: 0.1055 - accuracy: 0.9583 - val_loss: 0.2459 - val_accuracy: 0.9583\n",
      "Epoch 35/500\n",
      "1/3 [=========>....................] - ETA: 0s - loss: 0.1720 - accuracy: 0.9375\n",
      "Epoch 35: val_accuracy did not improve from 0.95833\n",
      "3/3 [==============================] - 0s 21ms/step - loss: 0.0697 - accuracy: 0.9792 - val_loss: 0.2902 - val_accuracy: 0.9167\n",
      "Epoch 36/500\n",
      "1/3 [=========>....................] - ETA: 0s - loss: 0.1024 - accuracy: 0.9688\n",
      "Epoch 36: val_accuracy did not improve from 0.95833\n",
      "3/3 [==============================] - 0s 33ms/step - loss: 0.0620 - accuracy: 0.9792 - val_loss: 0.2668 - val_accuracy: 0.9167\n",
      "Epoch 37/500\n",
      "1/3 [=========>....................] - ETA: 0s - loss: 0.0476 - accuracy: 0.9688\n",
      "Epoch 37: val_accuracy did not improve from 0.95833\n",
      "3/3 [==============================] - 0s 22ms/step - loss: 0.0507 - accuracy: 0.9792 - val_loss: 0.2249 - val_accuracy: 0.9583\n",
      "Epoch 38/500\n",
      "1/3 [=========>....................] - ETA: 0s - loss: 0.0691 - accuracy: 0.9688\n",
      "Epoch 38: val_accuracy did not improve from 0.95833\n",
      "3/3 [==============================] - 0s 22ms/step - loss: 0.0541 - accuracy: 0.9688 - val_loss: 0.2170 - val_accuracy: 0.9583\n",
      "Epoch 39/500\n",
      "1/3 [=========>....................] - ETA: 0s - loss: 0.0207 - accuracy: 1.0000\n",
      "Epoch 39: val_accuracy did not improve from 0.95833\n",
      "3/3 [==============================] - 0s 22ms/step - loss: 0.0424 - accuracy: 0.9896 - val_loss: 0.2227 - val_accuracy: 0.9583\n",
      "Epoch 40/500\n",
      "1/3 [=========>....................] - ETA: 0s - loss: 0.0859 - accuracy: 0.9688\n",
      "Epoch 40: val_accuracy did not improve from 0.95833\n",
      "3/3 [==============================] - 0s 22ms/step - loss: 0.0485 - accuracy: 0.9896 - val_loss: 0.2320 - val_accuracy: 0.9583\n",
      "Epoch 41/500\n",
      "1/3 [=========>....................] - ETA: 0s - loss: 0.0852 - accuracy: 0.9688\n",
      "Epoch 41: val_accuracy did not improve from 0.95833\n",
      "3/3 [==============================] - 0s 22ms/step - loss: 0.0620 - accuracy: 0.9792 - val_loss: 0.2362 - val_accuracy: 0.9583\n"
     ]
    }
   ],
   "source": [
    "# 3. 학습과정 설정\n",
    "model.compile(loss='categorical_crossentropy', optimizer='adam', metrics=['accuracy'])\n",
    "\n",
    "# 4. 학습 : epoch마다 val_accuracy값이 좋아지고 있으면 model 자동 저장 (콜백주기)\n",
    "    # 모델 자동 저장 경로 : ./model_iris/iris-epo002-val0.8765.h5\n",
    "import os\n",
    "\n",
    "model_save_folder = './model_iris/'\n",
    "if not os.path.exists(model_save_folder): # 폴더가 없으면 폴더생성\n",
    "    os.mkdir(model_save_folder)\n",
    "\n",
    "file = model_save_folder + \"iris-epo{epoch:03d}-val{val_accuracy:.4f}.h5\"\n",
    "\n",
    "# 모델 자동 저장할 콜백 객체\n",
    "checkpoint = ModelCheckpoint(filepath=file, \n",
    "                             monitor='val_accuracy', # 모니터링 지표 (기본값 : val_loss)\n",
    "                             model='max',\n",
    "                             save_best_only=True, # False : 매번 저장\n",
    "                             verbose=1, # 모델 저장시 로그 출력 (0:로그출력안함)\n",
    "                             \n",
    "                             )\n",
    "# 조기 종료 콜백 객체\n",
    "earlyStopping = EarlyStopping(patience=40) # monitor 기본값은 val_loss\n",
    "\n",
    "hist = model.fit(X_train, Y_train,\n",
    "                 # batch_size=40,\n",
    "                 epochs=500,\n",
    "                 validation_split=0.2, # 훈련셋의 20%를 검증셋\n",
    "                 callbacks=[earlyStopping,checkpoint]\n",
    "                 )\n"
   ]
  },
  {
   "cell_type": "code",
   "execution_count": 77,
   "id": "b1ee90b8",
   "metadata": {},
   "outputs": [
    {
     "data": {
      "image/png": "[encoded data removed]",
      "text/plain": [
       "<Figure size 1200x600 with 2 Axes>"
      ]
     },
     "metadata": {},
     "output_type": "display_data"
    }
   ],
   "source": [
    "# 5. 모델 학급과정 시각화\n",
    "fig, loss_ax = plt.subplots(figsize=(12,6))\n",
    "loss_ax.plot(hist.history['loss'], 'y', label='train loss')\n",
    "loss_ax.plot(hist.history['val_loss'], 'r', label='val loss')\n",
    "acc_ax = loss_ax.twinx()\n",
    "acc_ax.plot(hist.history['accuracy'], 'g', label='train accuracy')\n",
    "acc_ax.plot(hist.history['val_accuracy'], 'b', label='val accuracy')\n",
    "loss_ax.set_xlabel('epochs')\n",
    "loss_ax.set_ylabel('loss')\n",
    "acc_ax.set_ylabel('accuracy')\n",
    "loss_ax.legend(loc='center right')\n",
    "acc_ax.legend(loc='upper left')\n",
    "plt.show()"
   ]
  },
  {
   "cell_type": "code",
   "execution_count": 105,
   "id": "b545ac9e",
   "metadata": {},
   "outputs": [
    {
     "name": "stdout",
     "output_type": "stream",
     "text": [
      "1/1 [==============================] - 0s 50ms/step - loss: 0.0107 - accuracy: 1.0000\n"
     ]
    },
    {
     "name": "stdout",
     "output_type": "stream",
     "text": [
      "1/1 [==============================] - 0s 55ms/step\n",
      "model loss : 0.010700186714529991\n",
      "model accuracy : 1.0\n",
      "model recall : 1.0\n",
      "model precision : 1.0\n",
      "model f1 score : 1.0\n",
      "model2 loss : 0.03067566268146038\n",
      "model2 accuracy : 1.0\n",
      "model2 recall : 1.0\n",
      "model2 precision : 1.0\n",
      "model2 f1 score : 1.0\n"
     ]
    }
   ],
   "source": [
    "# 6. 학습 완료된 모델의 evaluate:데스트셋, 교차표, recall, precision : y실제값, y예측값\n",
    "# iris-epo069-val0.9583 모델도 같이 계산\n",
    "from sklearn.metrics import confusion_matrix\n",
    "from sklearn.metrics import recall_score, precision_score, f1_score\n",
    "\n",
    "# 학습된 모델\n",
    "loss, acc = model.evaluate(X_test, Y_test)\n",
    "loss, acc\n",
    "\n",
    "# 모델의 recal과 precision을 위해서 실제값과 예측값\n",
    "# 실재값\n",
    "# print(Y_test)\n",
    "real = np.argmax(Y_test, axis=1)\n",
    "\n",
    "# 예측값\n",
    "pred = np.argmax(model.predict(X_test), axis=1)\n",
    "\n",
    "# recall\n",
    "recall = recall_score(real, pred, average='weighted') # average='weighted' : 다중분류\n",
    "\n",
    "# precision\n",
    "precision = precision_score(real, pred, average='weighted')\n",
    "\n",
    "# f1score\n",
    "f1 = f1_score(real, pred, average='weighted')\n",
    "\n",
    "print('model loss :',loss)\n",
    "print('model accuracy :',acc)\n",
    "print('model recall :', recall)\n",
    "print('model precision :', precision)\n",
    "print('model f1 score :', f1)\n",
    "\n",
    "# 저장된 모델의 평가\n",
    "model2 = load_model('model_iris/iris-epo069-val0.9583.h5')\n",
    "loss2, acc2 = model2.evaluate(X_test, Y_test, verbose=0)\n",
    "\n",
    "pred2 = model2.predict(X_test, verbose=0).argmax(axis=1)\n",
    "recall2 = recall_score(real, pred2, average='weighted')\n",
    "precision2 = precision_score(real, pred2, average='weighted')\n",
    "f12 = f1_score(real, pred2, average='weighted')\n",
    "\n",
    "print('model2 loss :',loss2)\n",
    "print('model2 accuracy :',acc2)\n",
    "print('model2 recall :', recall2)\n",
    "print('model2 precision :', precision2)\n",
    "print('model2 f1 score :', f12)\n",
    "\n"
   ]
  },
  {
   "cell_type": "code",
   "execution_count": 107,
   "id": "e27086c5",
   "metadata": {},
   "outputs": [
    {
     "name": "stdout",
     "output_type": "stream",
     "text": [
      "1/1 [==============================] - 0s 31ms/step\n"
     ]
    },
    {
     "data": {
      "text/html": [
       "<div>\n",
       "<style scoped>\n",
       "    .dataframe tbody tr th:only-of-type {\n",
       "        vertical-align: middle;\n",
       "    }\n",
       "\n",
       "    .dataframe tbody tr th {\n",
       "        vertical-align: top;\n",
       "    }\n",
       "\n",
       "    .dataframe thead th {\n",
       "        text-align: right;\n",
       "    }\n",
       "</style>\n",
       "<table border=\"1\" class=\"dataframe\">\n",
       "  <thead>\n",
       "    <tr style=\"text-align: right;\">\n",
       "      <th>pred</th>\n",
       "      <th>0</th>\n",
       "      <th>1</th>\n",
       "      <th>2</th>\n",
       "    </tr>\n",
       "    <tr>\n",
       "      <th>real</th>\n",
       "      <th></th>\n",
       "      <th></th>\n",
       "      <th></th>\n",
       "    </tr>\n",
       "  </thead>\n",
       "  <tbody>\n",
       "    <tr>\n",
       "      <th>0</th>\n",
       "      <td>10</td>\n",
       "      <td>0</td>\n",
       "      <td>0</td>\n",
       "    </tr>\n",
       "    <tr>\n",
       "      <th>1</th>\n",
       "      <td>0</td>\n",
       "      <td>10</td>\n",
       "      <td>0</td>\n",
       "    </tr>\n",
       "    <tr>\n",
       "      <th>2</th>\n",
       "      <td>0</td>\n",
       "      <td>0</td>\n",
       "      <td>10</td>\n",
       "    </tr>\n",
       "  </tbody>\n",
       "</table>\n",
       "</div>"
      ],
      "text/plain": [
       "pred   0   1   2\n",
       "real            \n",
       "0     10   0   0\n",
       "1      0  10   0\n",
       "2      0   0  10"
      ]
     },
     "execution_count": 107,
     "metadata": {},
     "output_type": "execute_result"
    }
   ],
   "source": [
    "# 교차표\n",
    "pred = np.argmax(model.predict(X_test), axis=1)\n",
    "pd.crosstab(real, pred, rownames=['real'], colnames=['pred'])\n",
    "\n"
   ]
  },
  {
   "cell_type": "code",
   "execution_count": 106,
   "id": "fd82d0f6",
   "metadata": {},
   "outputs": [
    {
     "data": {
      "text/plain": [
       "array([[10,  0,  0],\n",
       "       [ 0, 10,  0],\n",
       "       [ 0,  0, 10]])"
      ]
     },
     "execution_count": 106,
     "metadata": {},
     "output_type": "execute_result"
    }
   ],
   "source": [
    "confusion_matrix(real, pred)"
   ]
  },
  {
   "cell_type": "code",
   "execution_count": 108,
   "id": "be0b882d",
   "metadata": {},
   "outputs": [],
   "source": [
    "# 모델 저장 및 사용\n",
    "save_model(model,'model=iris.h5')\n",
    "model.save('model/iris.h5') # tensorflow2.18 이상일 경우 확장자를 .keras로도 사용 할 수 있다."
   ]
  },
  {
   "cell_type": "code",
   "execution_count": 118,
   "id": "7249a2a1",
   "metadata": {},
   "outputs": [
    {
     "name": "stdout",
     "output_type": "stream",
     "text": [
      "1/1 [==============================] - 0s 64ms/step\n"
     ]
    },
    {
     "data": {
      "text/plain": [
       "2"
      ]
     },
     "execution_count": 118,
     "metadata": {},
     "output_type": "execute_result"
    }
   ],
   "source": [
    "# 모델 예츨하기\n",
    "iris.iloc[100] # (6.3, 3.3, 6.0, 2.5)\n",
    "result = model.predict([[6.3, 3.3, 6.0, 2.5]])\n",
    "np.argmax(result) # virgicolor 로 예측\n"
   ]
  },
  {
   "cell_type": "code",
   "execution_count": null,
   "id": "36acba7c",
   "metadata": {},
   "outputs": [],
   "source": [
    "\n"
   ]
  },
  {
   "cell_type": "code",
   "execution_count": null,
   "id": "9f2078ef",
   "metadata": {},
   "outputs": [],
   "source": []
  },
  {
   "cell_type": "code",
   "execution_count": null,
   "id": "ea577f9c",
   "metadata": {},
   "outputs": [],
   "source": []
  },
  {
   "cell_type": "code",
   "execution_count": null,
   "id": "8c9aef78",
   "metadata": {},
   "outputs": [],
   "source": []
  },
  {
   "cell_type": "code",
   "execution_count": null,
   "id": "c4831686",
   "metadata": {},
   "outputs": [],
   "source": []
  },
  {
   "cell_type": "code",
   "execution_count": null,
   "id": "512a0ec7",
   "metadata": {},
   "outputs": [],
   "source": []
  },
  {
   "cell_type": "code",
   "execution_count": null,
   "id": "6d8fc0bf",
   "metadata": {},
   "outputs": [],
   "source": []
  },
  {
   "cell_type": "code",
   "execution_count": null,
   "id": "47f4fa0d",
   "metadata": {},
   "outputs": [],
   "source": []
  },
  {
   "cell_type": "code",
   "execution_count": null,
   "id": "6461d236",
   "metadata": {},
   "outputs": [],
   "source": []
  },
  {
   "cell_type": "code",
   "execution_count": null,
   "id": "a59d2932",
   "metadata": {},
   "outputs": [],
   "source": []
  },
  {
   "cell_type": "code",
   "execution_count": null,
   "id": "416e550c",
   "metadata": {},
   "outputs": [],
   "source": []
  }
 ],
 "metadata": {
  "kernelspec": {
   "display_name": "ml-dl-nlp",
   "language": "python",
   "name": "python3"
  },
  "language_info": {
   "codemirror_mode": {
    "name": "ipython",
    "version": 3
   },
   "file_extension": ".py",
   "mimetype": "text/x-python",
   "name": "python",
   "nbconvert_exporter": "python",
   "pygments_lexer": "ipython3",
   "version": "3.9.23"
  }
 },
 "nbformat": 4,
 "nbformat_minor": 5
}
