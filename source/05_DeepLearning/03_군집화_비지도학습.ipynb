{
 "cells": [
  {
   "cell_type": "code",
   "execution_count": 2,
   "id": "0053647b",
   "metadata": {},
   "outputs": [
    {
     "data": {
      "text/html": [
       "\n",
       "<style>\n",
       "* {font-family:D2Coding;}\n",
       "div.container{width:87% !important;}\n",
       "div.cell.code_cell.rendered{width:100%;}\n",
       "div.CodeMirror {font-size:12pt;}\n",
       "div.output {font-size:12pt; font-weight:bold;}\n",
       "div.input { font-size:12pt;}\n",
       "div.prompt {min-width:70px;}\n",
       "div#toc-wrapper{padding-top:120px;}\n",
       "div.text_cell_render ul li{font-size:12pt;padding:3px;}\n",
       "table.dataframe{font-size:12px;}\n",
       "</style>\n"
      ],
      "text/plain": [
       "<IPython.core.display.HTML object>"
      ]
     },
     "metadata": {},
     "output_type": "display_data"
    }
   ],
   "source": [
    "from IPython.display import display, HTML\n",
    "\n",
    "display(\n",
    "    HTML(\"\"\"\n",
    "<style>\n",
    "* {font-family:D2Coding;}\n",
    "div.container{width:87% !important;}\n",
    "div.cell.code_cell.rendered{width:100%;}\n",
    "div.CodeMirror {font-size:12pt;}\n",
    "div.output {font-size:12pt; font-weight:bold;}\n",
    "div.input { font-size:12pt;}\n",
    "div.prompt {min-width:70px;}\n",
    "div#toc-wrapper{padding-top:120px;}\n",
    "div.text_cell_render ul li{font-size:12pt;padding:3px;}\n",
    "table.dataframe{font-size:12px;}\n",
    "</style>\n",
    "\"\"\"))"
   ]
  },
  {
   "cell_type": "markdown",
   "id": "c49620c9",
   "metadata": {},
   "source": [
    "<font size=5 color=red>03_군집화_비지도학습</font>\n",
    "\n",
    "# 1. 데이터 생성\n",
    "\n",
    "- 남자, 여자의 키와 몸무게를 데이터를 군집화"
   ]
  },
  {
   "cell_type": "code",
   "execution_count": 3,
   "id": "8318a6ac",
   "metadata": {},
   "outputs": [],
   "source": [
    "import random\n",
    "import numpy as np\n",
    "import matplotlib.pyplot as plt"
   ]
  },
  {
   "cell_type": "code",
   "execution_count": 4,
   "id": "9b3a7a88",
   "metadata": {},
   "outputs": [
    {
     "data": {
      "text/plain": [
       "56"
      ]
     },
     "execution_count": 4,
     "metadata": {},
     "output_type": "execute_result"
    }
   ],
   "source": [
    "random.randint(40, 95) # 40부터 95까지의 정수 중 하나를 무작위 선택 반환"
   ]
  },
  {
   "cell_type": "code",
   "execution_count": 5,
   "id": "4ee901b2",
   "metadata": {},
   "outputs": [],
   "source": [
    "data = []\n",
    "for i in range(50):\n",
    "    # 여자 데이터\n",
    "    data.append([random.randint(40,70), random.randint(140,170)])\n",
    "    # 남자 데이터\n",
    "    data.append([random.randint(60, 95), random.randint(160,195)])\n",
    "# data"
   ]
  },
  {
   "cell_type": "code",
   "execution_count": 6,
   "id": "4c67d428",
   "metadata": {},
   "outputs": [
    {
     "name": "stdout",
     "output_type": "stream",
     "text": [
      "[57, 164] [55, 166] [60, 156] [57, 161] [55, 168] [67, 162] [47, 150] [62, 143] [60, 150] [45, 166] [49, 144] [70, 157] [61, 161] [43, 157] [70, 164] [53, 149] [67, 154] [67, 159] [52, 159] [60, 170] [40, 149] [61, 154] [69, 150] [67, 148] [41, 142] [68, 160] [65, 146] [44, 148] [49, 143] [57, 153] [70, 143] [49, 164] [56, 164] [56, 152] [59, 166] [42, 143] [62, 164] [63, 165] [60, 170] [53, 163] [62, 166] [64, 164] [47, 148] [43, 141] [60, 149] [60, 168] [66, 151] [42, 140] [66, 148] [40, 161] \n",
      "------------------------\n",
      "[75, 186] [71, 188] [72, 168] [68, 190] [86, 187] [63, 177] [92, 171] [65, 189] [93, 163] [84, 191] [83, 171] [73, 177] [77, 171] [88, 187] [92, 183] [84, 171] [89, 189] [69, 170] [83, 162] [76, 162] [74, 186] [66, 171] [73, 160] [90, 164] [74, 188] [65, 163] [74, 172] [87, 170] [70, 193] [78, 162] [77, 195] [77, 192] [82, 165] [64, 193] [80, 164] [78, 180] [75, 190] [71, 195] [72, 193] [80, 160] [80, 195] [64, 180] [63, 165] [88, 176] [61, 171] [61, 179] [77, 172] [63, 162] [83, 176] [79, 164] "
     ]
    }
   ],
   "source": [
    "# 여자 (짝수)\n",
    "for female in data[:100:2]:\n",
    "    print(female, end = ' ')\n",
    "    \n",
    "print('\\n------------------------')\n",
    "# 남자 (홀수)\n",
    "for male in data[1:100:2]:\n",
    "    print(male, end = ' ')"
   ]
  },
  {
   "cell_type": "code",
   "execution_count": 7,
   "id": "33639d92",
   "metadata": {},
   "outputs": [
    {
     "data": {
      "text/plain": [
       "[<matplotlib.lines.Line2D at 0x108fd9be0>]"
      ]
     },
     "execution_count": 7,
     "metadata": {},
     "output_type": "execute_result"
    },
    {
     "data": {
      "image/png": "[encoded data removed]",
      "text/plain": [
       "<Figure size 640x480 with 1 Axes>"
      ]
     },
     "metadata": {},
     "output_type": "display_data"
    }
   ],
   "source": [
    "# print(\"여자 몸무게 :\", [d[0] for d in data[::2]])\n",
    "# print(\"여자 키 :\", [d[1] for d in data[::2]])\n",
    "# print(\"남자 몸무게 :\", [d[0] for d in data[1::2]])\n",
    "# print(\"남자 키 :\", [d[1] for d in data[1::2]])\n",
    "\n",
    "# for d in data[::2]:\n",
    "#     plt.plot(d[0], d[1], 'o', color='r')\n",
    "plt.plot([d[0] for d in data[::2]], [d[1] for d in data[::2]], 'o',color='r')\n",
    "plt.plot([d[0] for d in data[1::2]], [d[1] for d in data[1::2]], '^',color='b')"
   ]
  },
  {
   "cell_type": "markdown",
   "id": "792b7feb",
   "metadata": {},
   "source": [
    "# 2. 군집화 로직"
   ]
  },
  {
   "cell_type": "code",
   "execution_count": 8,
   "id": "e95ae994",
   "metadata": {},
   "outputs": [
    {
     "data": {
      "text/plain": [
       "[[44, 151], [95, 174]]"
      ]
     },
     "execution_count": 8,
     "metadata": {},
     "output_type": "execute_result"
    }
   ],
   "source": [
    "# 초기 랜덤 지전 2개\n",
    "random_points = [[random.randint(40,95), random.randint(140, 195)],\n",
    "                 [random.randint(40,95), random.randint(140, 195)]]\n",
    "random_points"
   ]
  },
  {
   "cell_type": "code",
   "execution_count": 9,
   "id": "86d45bbd",
   "metadata": {},
   "outputs": [
    {
     "data": {
      "text/plain": [
       "[<matplotlib.lines.Line2D at 0x10911ddf0>]"
      ]
     },
     "execution_count": 9,
     "metadata": {},
     "output_type": "execute_result"
    },
    {
     "data": {
      "image/png": "[encoded data removed]",
      "text/plain": [
       "<Figure size 640x480 with 1 Axes>"
      ]
     },
     "metadata": {},
     "output_type": "display_data"
    }
   ],
   "source": [
    "plt.plot([d[0] for d in data], \n",
    "         [d[1] for d in data], 'o',color='k')\n",
    "\n",
    "plt.plot(random_points[0][0], \n",
    "         random_points[0][1], 'x', color='r', markersize=20) # 기준점1\n",
    "\n",
    "plt.plot(random_points[1][0], \n",
    "         random_points[1][1], 'x', color='b', markersize=20) # 기준점2"
   ]
  },
  {
   "cell_type": "code",
   "execution_count": 10,
   "id": "524bba73",
   "metadata": {},
   "outputs": [],
   "source": [
    "# 두 점의 거리를 return (0, 0) ~ (4, 3) : 피타고라스\n",
    "def dist(a, b):\n",
    "    return np.sqrt((a[0]-b[0])**2 + (a[1]-b[1])**2)"
   ]
  },
  {
   "cell_type": "code",
   "execution_count": 11,
   "id": "20442430",
   "metadata": {},
   "outputs": [
    {
     "data": {
      "text/plain": [
       "5.0"
      ]
     },
     "execution_count": 11,
     "metadata": {},
     "output_type": "execute_result"
    }
   ],
   "source": [
    "a = [0, 0]; b = [4, 3]\n",
    "dist(a, b)"
   ]
  },
  {
   "cell_type": "code",
   "execution_count": 12,
   "id": "89af2c33",
   "metadata": {},
   "outputs": [
    {
     "data": {
      "text/plain": [
       "(54, 46)"
      ]
     },
     "execution_count": 12,
     "metadata": {},
     "output_type": "execute_result"
    }
   ],
   "source": [
    "# 두 영역(random_porints[0]과 random_points[1]을 기준으로 나눈 두 영역)\n",
    "group1 = [] # random_porints[0] 에 가까운 그룹\n",
    "group2 = [] # random_porints[1] 에 가까운 그룹\n",
    "\n",
    "for d in data :\n",
    "    if dist(random_points[0], d) < dist(random_points[1], d):\n",
    "        group1.append(d) # 빨간X에 더 가까운 그룹\n",
    "    else :\n",
    "        group2.append(d) # 파랑X에 더 가까운 그룹\n",
    "\n",
    "len(group1) , len(group2)"
   ]
  },
  {
   "cell_type": "code",
   "execution_count": 13,
   "id": "ecf0361d",
   "metadata": {},
   "outputs": [
    {
     "data": {
      "text/plain": [
       "[<matplotlib.lines.Line2D at 0x1091a2cd0>]"
      ]
     },
     "execution_count": 13,
     "metadata": {},
     "output_type": "execute_result"
    },
    {
     "data": {
      "image/png": "[encoded data removed]",
      "text/plain": [
       "<Figure size 640x480 with 1 Axes>"
      ]
     },
     "metadata": {},
     "output_type": "display_data"
    }
   ],
   "source": [
    "# 새로운 그룹 group1과 group2, 초기 랜덤지점\n",
    "plt.plot([d[0] for d in group1], \n",
    "         [d[1] for d in group1], 'o', color='r')\n",
    "plt.plot([d[0] for d in group2], \n",
    "         [d[1] for d in group2], '^', color='b')\n",
    "\n",
    "plt.plot(random_points[0][0],\n",
    "         random_points[0][1], 'x', color='r', markersize=20) # 기준점1\n",
    "\n",
    "plt.plot(random_points[1][0],\n",
    "         random_points[1][1], 'x', color='b', markersize=20) # 기준점2\n"
   ]
  },
  {
   "cell_type": "code",
   "execution_count": 14,
   "id": "f66331dd",
   "metadata": {},
   "outputs": [
    {
     "data": {
      "text/plain": [
       "[[57.05555555555556, 156.64814814814815],\n",
       " [77.52173913043478, 177.67391304347825]]"
      ]
     },
     "execution_count": 14,
     "metadata": {},
     "output_type": "execute_result"
    }
   ],
   "source": [
    "# 기준점 이동 group1의 중심점, group2의 중심점\n",
    "sumX = 0 ; sumY = 0\n",
    "\n",
    "for g in group1:\n",
    "    sumX += g[0]\n",
    "    sumY += g[1]\n",
    "\n",
    "# 새로운 기준점\n",
    "random_points[0] = [sumX/len(group1), sumY/len(group1)]\n",
    "\n",
    "\n",
    "sumX = 0 ; sumY = 0\n",
    "\n",
    "for g in group2:\n",
    "    sumX += g[0]\n",
    "    sumY += g[1]\n",
    "\n",
    "# 새로운 기준점\n",
    "random_points[1] = [sumX/len(group2), sumY/len(group2)]\n",
    "\n",
    "random_points"
   ]
  },
  {
   "cell_type": "code",
   "execution_count": 15,
   "id": "a9c8c378",
   "metadata": {},
   "outputs": [
    {
     "data": {
      "text/plain": [
       "[<matplotlib.lines.Line2D at 0x1092343a0>]"
      ]
     },
     "execution_count": 15,
     "metadata": {},
     "output_type": "execute_result"
    },
    {
     "data": {
      "image/png": "[encoded data removed]",
      "text/plain": [
       "<Figure size 640x480 with 1 Axes>"
      ]
     },
     "metadata": {},
     "output_type": "display_data"
    }
   ],
   "source": [
    "# 새로운 그룹 group1과 group2, 초기 랜덤지점\n",
    "plt.plot([d[0] for d in group1], \n",
    "         [d[1] for d in group1], 'o', color='r')\n",
    "plt.plot([d[0] for d in group2], \n",
    "         [d[1] for d in group2], '^', color='b')\n",
    "\n",
    "plt.plot(random_points[0][0],\n",
    "         random_points[0][1], 'x', color='r', markersize=20) # 기준점1\n",
    "\n",
    "plt.plot(random_points[1][0],\n",
    "         random_points[1][1], 'x', color='b', markersize=20) # 기준점2"
   ]
  },
  {
   "cell_type": "markdown",
   "id": "4c12eddc",
   "metadata": {},
   "source": [
    "# 3. 전체 코드 (for문 이용)\n",
    "\n",
    "- 데이터 생성\n",
    "- 랜덤포인트 2지점\n",
    "\n",
    "- for문\n",
    "    - 랜덤포인트 2지점기준으로 group1, group2 나눈다.\n",
    "    - 랜덤포인트 이동 (group1중간점, group2중간점)"
   ]
  },
  {
   "cell_type": "code",
   "execution_count": 16,
   "id": "ac5daf66",
   "metadata": {},
   "outputs": [
    {
     "name": "stdout",
     "output_type": "stream",
     "text": [
      "초기 포인트 : [[85, 167], [78, 145]]\n",
      "1 번째 포인트 : [[76.0701754385965, 177.859649122807], [52.46511627906977, 153.88372093023256]]\n",
      "2 번째 포인트 : [[78.33333333333333, 179.13725490196077], [53.0, 155.48979591836735]]\n",
      "3 번째 포인트 : [[79.04166666666667, 180.04166666666666], [53.80769230769231, 156.01923076923077]]\n",
      "4 번째 포인트 : [[79.31914893617021, 180.29787234042553], [54.0377358490566, 156.24528301886792]]\n",
      "5 번째 포인트 : [[79.6304347826087, 180.52173913043478], [54.24074074074074, 156.5]]\n",
      "6 번째 포인트 : [[79.6304347826087, 180.52173913043478], [54.24074074074074, 156.5]]\n",
      "7 번째 포인트 : [[79.6304347826087, 180.52173913043478], [54.24074074074074, 156.5]]\n",
      "8 번째 포인트 : [[79.6304347826087, 180.52173913043478], [54.24074074074074, 156.5]]\n",
      "9 번째 포인트 : [[79.6304347826087, 180.52173913043478], [54.24074074074074, 156.5]]\n",
      "10 번째 포인트 : [[79.6304347826087, 180.52173913043478], [54.24074074074074, 156.5]]\n"
     ]
    },
    {
     "data": {
      "text/plain": [
       "(140.0, 193.0)"
      ]
     },
     "execution_count": 16,
     "metadata": {},
     "output_type": "execute_result"
    },
    {
     "data": {
      "image/png": "[encoded data removed]",
      "text/plain": [
       "<Figure size 640x480 with 1 Axes>"
      ]
     },
     "metadata": {},
     "output_type": "display_data"
    }
   ],
   "source": [
    "# 데이터 생성\n",
    "data = []\n",
    "for i in range(50):\n",
    "    # 여자 데이터\n",
    "    data.append([random.randint(40,70), random.randint(140,170)])\n",
    "    # 남자 데이터\n",
    "    data.append([random.randint(60, 95), random.randint(160,195)])\n",
    "\n",
    "# 랜덤포인트 2지점\n",
    "points = [[random.randint(40,95), random.randint(140, 195)],\n",
    "          [random.randint(40,95), random.randint(140, 195)]]\n",
    "print(\"초기 포인트 :\", points)\n",
    "plt.plot(points[0][0], points[0][1], 'x', c='r', markersize=20)\n",
    "plt.plot(points[1][0], points[1][1], 'x', c='b', markersize=20)\n",
    "\n",
    "# 포인트 2지검기준으로 group1, group2\n",
    "for i in range(1, 11):\n",
    "    group1 = [] # points[0]과 가까운 그룹\n",
    "    group2 = [] # points[1]과 가까운 그룹\n",
    "    for d in data :\n",
    "        if dist(d, points[0]) < dist(d, points[1]):\n",
    "            group1.append(d)\n",
    "        else:\n",
    "            group2.append(d)\n",
    "    \n",
    "    # 새로운 포인트로 할당\n",
    "    sumX = 0; sumY = 0\n",
    "    \n",
    "    for g in group1:\n",
    "        sumX += g[0]\n",
    "        sumY += g[1]\n",
    "    points[0] = [sumX / len(group1), sumY/len(group1)]\n",
    "    \n",
    "    sumX = 0; sumY = 0\n",
    "    for g in group2:\n",
    "        sumX += g[0]\n",
    "        sumY += g[1]\n",
    "    points[1] = [sumX / len(group2), sumY/len(group2)]\n",
    "    \n",
    "    print(i, \"번째 포인트 :\", points)\n",
    "    \n",
    "    plt.plot(points[0][0],\n",
    "             points[0][1], '^', color='r') # 기준점1\n",
    "\n",
    "    plt.plot(points[1][0], \n",
    "             points[1][1], '^', color='b') # 기준점2\n",
    "    \n",
    "plt.xlim([140, 193])\n",
    "plt.ylim([140, 193])"
   ]
  },
  {
   "cell_type": "code",
   "execution_count": 17,
   "id": "7c526a83",
   "metadata": {},
   "outputs": [
    {
     "data": {
      "text/plain": [
       "[<matplotlib.lines.Line2D at 0x1091379a0>]"
      ]
     },
     "execution_count": 17,
     "metadata": {},
     "output_type": "execute_result"
    },
    {
     "data": {
      "image/png": "[encoded data removed]",
      "text/plain": [
       "<Figure size 640x480 with 1 Axes>"
      ]
     },
     "metadata": {},
     "output_type": "display_data"
    }
   ],
   "source": [
    "plt.plot([d[0] for d in group1], \n",
    "         [d[1] for d in group1], 'o', color='r')\n",
    "plt.plot([d[0] for d in group2], \n",
    "         [d[1] for d in group2], 'o', color='b')\n",
    "\n",
    "plt.plot(points[0][0], \n",
    "         points[0][1], 'x', color='r', markersize=20)\n",
    "plt.plot(points[1][0], \n",
    "         points[1][1], 'x', color='b', markersize=20)"
   ]
  },
  {
   "cell_type": "markdown",
   "id": "6bf5905a",
   "metadata": {},
   "source": [
    "# 4. api(sklearn) 를 이용한 군집화\n",
    "\n",
    "- sklearn 머신러닝\n",
    "    * 예측함수\n",
    "        : 분류, 회귀, 군집분석\n",
    "        fit(학습), predict(예측)\n",
    "    * 변환함수 \n",
    "        : 전처리 ex. 스케일조정\n",
    "        fit(학습),transform(변환함수)        "
   ]
  },
  {
   "cell_type": "code",
   "execution_count": 18,
   "id": "50055f21",
   "metadata": {},
   "outputs": [],
   "source": [
    "# 군집분석 라이브러리가 joblib충돌 경고 메세지 출력\n",
    "import os\n",
    "# 병렬처리를 하지 않겠다.\n",
    "os.environ[\"OMP_NUM_THREADS\"] = \"1\""
   ]
  },
  {
   "cell_type": "code",
   "execution_count": 19,
   "id": "8f336627",
   "metadata": {},
   "outputs": [
    {
     "data": {
      "text/html": [
       "<style>#sk-container-id-1 {color: black;background-color: white;}#sk-container-id-1 pre{padding: 0;}#sk-container-id-1 div.sk-toggleable {background-color: white;}#sk-container-id-1 label.sk-toggleable__label {cursor: pointer;display: block;width: 100%;margin-bottom: 0;padding: 0.3em;box-sizing: border-box;text-align: center;}#sk-container-id-1 label.sk-toggleable__label-arrow:before {content: \"▸\";float: left;margin-right: 0.25em;color: #696969;}#sk-container-id-1 label.sk-toggleable__label-arrow:hover:before {color: black;}#sk-container-id-1 div.sk-estimator:hover label.sk-toggleable__label-arrow:before {color: black;}#sk-container-id-1 div.sk-toggleable__content {max-height: 0;max-width: 0;overflow: hidden;text-align: left;background-color: #f0f8ff;}#sk-container-id-1 div.sk-toggleable__content pre {margin: 0.2em;color: black;border-radius: 0.25em;background-color: #f0f8ff;}#sk-container-id-1 input.sk-toggleable__control:checked~div.sk-toggleable__content {max-height: 200px;max-width: 100%;overflow: auto;}#sk-container-id-1 input.sk-toggleable__control:checked~label.sk-toggleable__label-arrow:before {content: \"▾\";}#sk-container-id-1 div.sk-estimator input.sk-toggleable__control:checked~label.sk-toggleable__label {background-color: #d4ebff;}#sk-container-id-1 div.sk-label input.sk-toggleable__control:checked~label.sk-toggleable__label {background-color: #d4ebff;}#sk-container-id-1 input.sk-hidden--visually {border: 0;clip: rect(1px 1px 1px 1px);clip: rect(1px, 1px, 1px, 1px);height: 1px;margin: -1px;overflow: hidden;padding: 0;position: absolute;width: 1px;}#sk-container-id-1 div.sk-estimator {font-family: monospace;background-color: #f0f8ff;border: 1px dotted black;border-radius: 0.25em;box-sizing: border-box;margin-bottom: 0.5em;}#sk-container-id-1 div.sk-estimator:hover {background-color: #d4ebff;}#sk-container-id-1 div.sk-parallel-item::after {content: \"\";width: 100%;border-bottom: 1px solid gray;flex-grow: 1;}#sk-container-id-1 div.sk-label:hover label.sk-toggleable__label {background-color: #d4ebff;}#sk-container-id-1 div.sk-serial::before {content: \"\";position: absolute;border-left: 1px solid gray;box-sizing: border-box;top: 0;bottom: 0;left: 50%;z-index: 0;}#sk-container-id-1 div.sk-serial {display: flex;flex-direction: column;align-items: center;background-color: white;padding-right: 0.2em;padding-left: 0.2em;position: relative;}#sk-container-id-1 div.sk-item {position: relative;z-index: 1;}#sk-container-id-1 div.sk-parallel {display: flex;align-items: stretch;justify-content: center;background-color: white;position: relative;}#sk-container-id-1 div.sk-item::before, #sk-container-id-1 div.sk-parallel-item::before {content: \"\";position: absolute;border-left: 1px solid gray;box-sizing: border-box;top: 0;bottom: 0;left: 50%;z-index: -1;}#sk-container-id-1 div.sk-parallel-item {display: flex;flex-direction: column;z-index: 1;position: relative;background-color: white;}#sk-container-id-1 div.sk-parallel-item:first-child::after {align-self: flex-end;width: 50%;}#sk-container-id-1 div.sk-parallel-item:last-child::after {align-self: flex-start;width: 50%;}#sk-container-id-1 div.sk-parallel-item:only-child::after {width: 0;}#sk-container-id-1 div.sk-dashed-wrapped {border: 1px dashed gray;margin: 0 0.4em 0.5em 0.4em;box-sizing: border-box;padding-bottom: 0.4em;background-color: white;}#sk-container-id-1 div.sk-label label {font-family: monospace;font-weight: bold;display: inline-block;line-height: 1.2em;}#sk-container-id-1 div.sk-label-container {text-align: center;}#sk-container-id-1 div.sk-container {/* jupyter's `normalize.less` sets `[hidden] { display: none; }` but bootstrap.min.css set `[hidden] { display: none !important; }` so we also need the `!important` here to be able to override the default hidden behavior on the sphinx rendered scikit-learn.org. See: https://github.com/scikit-learn/scikit-learn/issues/21755 */display: inline-block !important;position: relative;}#sk-container-id-1 div.sk-text-repr-fallback {display: none;}</style><div id=\"sk-container-id-1\" class=\"sk-top-container\"><div class=\"sk-text-repr-fallback\"><pre>KMeans(init=&#x27;random&#x27;, n_clusters=2, n_init=10, random_state=7)</pre><b>In a Jupyter environment, please rerun this cell to show the HTML representation or trust the notebook. <br />On GitHub, the HTML representation is unable to render, please try loading this page with nbviewer.org.</b></div><div class=\"sk-container\" hidden><div class=\"sk-item\"><div class=\"sk-estimator sk-toggleable\"><input class=\"sk-toggleable__control sk-hidden--visually\" id=\"sk-estimator-id-1\" type=\"checkbox\" checked><label for=\"sk-estimator-id-1\" class=\"sk-toggleable__label sk-toggleable__label-arrow\">KMeans</label><div class=\"sk-toggleable__content\"><pre>KMeans(init=&#x27;random&#x27;, n_clusters=2, n_init=10, random_state=7)</pre></div></div></div></div></div>"
      ],
      "text/plain": [
       "KMeans(init='random', n_clusters=2, n_init=10, random_state=7)"
      ]
     },
     "execution_count": 19,
     "metadata": {},
     "output_type": "execute_result"
    }
   ],
   "source": [
    "data = np.array(data)\n",
    "# data\n",
    "from sklearn.cluster import KMeans\n",
    "model = KMeans(n_clusters=2,  # 2개 그룹으로 나눠\n",
    "               init='random', # 초기 중심점 랜덤하게\n",
    "               n_init=10,    # 10번 실행\n",
    "               random_state=7\n",
    "               )\n",
    "model.fit(data)"
   ]
  },
  {
   "cell_type": "code",
   "execution_count": 20,
   "id": "39d1642a",
   "metadata": {},
   "outputs": [
    {
     "data": {
      "text/plain": [
       "array([[ 79.63043478, 180.52173913],\n",
       "       [ 54.24074074, 156.5       ]])"
      ]
     },
     "execution_count": 20,
     "metadata": {},
     "output_type": "execute_result"
    }
   ],
   "source": [
    "# 중심점\n",
    "model.cluster_centers_"
   ]
  },
  {
   "cell_type": "code",
   "execution_count": 21,
   "id": "4071cbb8",
   "metadata": {},
   "outputs": [
    {
     "data": {
      "text/plain": [
       "array([1, 0, 1, 0, 1, 1, 1, 0, 1, 0, 1, 0, 1, 0, 1, 0, 1, 0, 1, 0, 1, 0,\n",
       "       1, 0, 1, 0, 1, 0, 1, 0, 1, 0, 1, 0, 1, 0, 1, 0, 1, 0, 0, 0, 1, 0,\n",
       "       1, 0, 1, 0, 1, 0, 1, 0, 1, 0, 1, 0, 1, 1, 1, 0, 1, 0, 1, 1, 1, 1,\n",
       "       1, 0, 1, 0, 1, 0, 1, 0, 1, 0, 1, 0, 1, 0, 1, 0, 1, 0, 1, 0, 1, 1,\n",
       "       1, 0, 1, 0, 1, 0, 1, 0, 1, 0, 1, 0], dtype=int32)"
      ]
     },
     "execution_count": 21,
     "metadata": {},
     "output_type": "execute_result"
    }
   ],
   "source": [
    "# 나눠진 그룹들의 인덱스\n",
    "model.labels_"
   ]
  },
  {
   "cell_type": "code",
   "execution_count": 22,
   "id": "3dfc507f",
   "metadata": {},
   "outputs": [],
   "source": [
    "group1 = data[model.labels_ == 1]\n",
    "group2 = data[model.labels_ == 0]\n",
    "c1, c2 = model.cluster_centers_\n",
    "# group1, group2, c1,c2"
   ]
  },
  {
   "cell_type": "code",
   "execution_count": 23,
   "id": "ff6b318d",
   "metadata": {},
   "outputs": [
    {
     "data": {
      "text/plain": [
       "[<matplotlib.lines.Line2D at 0x13a262a30>]"
      ]
     },
     "execution_count": 23,
     "metadata": {},
     "output_type": "execute_result"
    },
    {
     "data": {
      "image/png": "[encoded data removed]",
      "text/plain": [
       "<Figure size 640x480 with 1 Axes>"
      ]
     },
     "metadata": {},
     "output_type": "display_data"
    }
   ],
   "source": [
    "plt.plot([d[0] for d in group1], \n",
    "         [d[1] for d in group1], 'o', color='r')\n",
    "plt.plot([d[0] for d in group2], \n",
    "         [d[1] for d in group2], 'o', color='b')\n",
    "\n",
    "plt.plot(c1[0], c1[1], 'x', color='b') # group2의 중심점\n",
    "plt.plot(c2[0], c2[1], 'x', color='r') # group1의 중심점"
   ]
  },
  {
   "cell_type": "code",
   "execution_count": null,
   "id": "61ed8059",
   "metadata": {},
   "outputs": [],
   "source": []
  },
  {
   "cell_type": "code",
   "execution_count": null,
   "id": "c6ec1f2f",
   "metadata": {},
   "outputs": [],
   "source": []
  },
  {
   "cell_type": "code",
   "execution_count": null,
   "id": "bfd8aff2",
   "metadata": {},
   "outputs": [],
   "source": []
  },
  {
   "cell_type": "code",
   "execution_count": null,
   "id": "7b161e8b",
   "metadata": {},
   "outputs": [],
   "source": []
  },
  {
   "cell_type": "code",
   "execution_count": null,
   "id": "9184e965",
   "metadata": {},
   "outputs": [],
   "source": []
  },
  {
   "cell_type": "code",
   "execution_count": null,
   "id": "069a454b",
   "metadata": {},
   "outputs": [],
   "source": []
  },
  {
   "cell_type": "code",
   "execution_count": null,
   "id": "fd0bb68b",
   "metadata": {},
   "outputs": [],
   "source": []
  },
  {
   "cell_type": "code",
   "execution_count": null,
   "id": "b22a08e0",
   "metadata": {},
   "outputs": [],
   "source": []
  },
  {
   "cell_type": "code",
   "execution_count": null,
   "id": "d9c19746",
   "metadata": {},
   "outputs": [],
   "source": []
  }
 ],
 "metadata": {
  "kernelspec": {
   "display_name": "ml-dl-nlp",
   "language": "python",
   "name": "ml-dl-nlp"
  },
  "language_info": {
   "codemirror_mode": {
    "name": "ipython",
    "version": 3
   },
   "file_extension": ".py",
   "mimetype": "text/x-python",
   "name": "python",
   "nbconvert_exporter": "python",
   "pygments_lexer": "ipython3",
   "version": "3.9.23"
  },
  "toc": {
   "base_numbering": 1,
   "nav_menu": {},
   "number_sections": false,
   "sideBar": true,
   "skip_h1_title": false,
   "title_cell": "Table of Contents",
   "title_sidebar": "Contents",
   "toc_cell": false,
   "toc_position": {
    "height": "calc(100% - 180px)",
    "left": "10px",
    "top": "150px",
    "width": "165px"
   },
   "toc_section_display": true,
   "toc_window_display": true
  }
 },
 "nbformat": 4,
 "nbformat_minor": 5
}
