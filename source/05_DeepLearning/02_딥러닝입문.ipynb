{
 "cells": [
  {
   "cell_type": "code",
   "execution_count": 3,
   "id": "26221f9d",
   "metadata": {},
   "outputs": [
    {
     "data": {
      "text/html": [
       "\n",
       "<style>\n",
       "* {font-family:D2Coding;}\n",
       "div.container{width:87% !important;}\n",
       "div.cell.code_cell.rendered{width:100%;}\n",
       "div.CodeMirror {font-size:12pt;}\n",
       "div.output {font-size:12pt; font-weight:bold;}\n",
       "div.input { font-size:12pt;}\n",
       "div.prompt {min-width:70px;}\n",
       "div#toc-wrapper{padding-top:120px;}\n",
       "div.text_cell_render ul li{font-size:12pt;padding:3px;}\n",
       "table.dataframe{font-size:12px;}\n",
       "</style>\n"
      ],
      "text/plain": [
       "<IPython.core.display.HTML object>"
      ]
     },
     "metadata": {},
     "output_type": "display_data"
    }
   ],
   "source": [
    "from IPython.display import display, HTML\n",
    "\n",
    "display(\n",
    "    HTML(\"\"\"\n",
    "<style>\n",
    "* {font-family:D2Coding;}\n",
    "div.container{width:87% !important;}\n",
    "div.cell.code_cell.rendered{width:100%;}\n",
    "div.CodeMirror {font-size:12pt;}\n",
    "div.output {font-size:12pt; font-weight:bold;}\n",
    "div.input { font-size:12pt;}\n",
    "div.prompt {min-width:70px;}\n",
    "div#toc-wrapper{padding-top:120px;}\n",
    "div.text_cell_render ul li{font-size:12pt;padding:3px;}\n",
    "table.dataframe{font-size:12px;}\n",
    "</style>\n",
    "\"\"\"))"
   ]
  },
  {
   "cell_type": "code",
   "execution_count": 62,
   "id": "f7636ab4",
   "metadata": {},
   "outputs": [],
   "source": [
    "from tensorflow.keras.utils import to_categorical # 분류분석시 원핫인코딩\n",
    "from tensorflow.keras.models import Sequential # 모델생성\n",
    "from tensorflow.keras.layers import Dense, Input\n",
    "import numpy as np"
   ]
  },
  {
   "cell_type": "markdown",
   "id": "f2c58ae9",
   "metadata": {},
   "source": [
    "<font size=5 color=red>02_딥러닝입문_분류분석</font>\n",
    "\n",
    "# 머신러닝 / 딥러닝 : 데이터의 법칙성을 추출\n",
    "\n",
    "- 다양한 분야에서 응용 : 글씨인식, 문장분류, 질병진단, 이미지인식, 음성인식\n",
    "\n",
    "※ ML / DL 의 종류\n",
    "\n",
    "- 지도학습 (독립 = 입력변수와 종속=타켓변수=출력변수가 모두 주어졌을 경우)\n",
    "    - 희귀분석 (타켓변수가 연속형) vs 분류분석 (multi, binary)\n",
    "  \n",
    "- 비지도학습(입력변수만)\n",
    "    - 군집화(군집분석)\n",
    "  \n",
    "- 강화학습\n",
    "\n",
    "※ 지도학습에서의 ML/DL 프로그래밍 방식\n",
    "\n",
    "1. 데이터 셋 확보 (input=입력변수, target=종속변수)\n",
    "    - 원본데이터 및 시뮬레이션을 통해 데이터 생성\n",
    "\n",
    "\n",
    "2. 전처리\n",
    "    - 스케일 조정\n",
    "    - 훈련셋(학습셋), 검증셋, 시험셋(테스트셋) = 7 : 2 : 1\n",
    "    - 학습 및 평가 가능한 포멧으로 변환 (*numpy, DataFrame)\n",
    "\n",
    "\n",
    "3. 모델 구성 \n",
    "    - Sequential 객체 생성 뒤 필요한 층을 add() 함수로 추가\n",
    "\n",
    "\n",
    "4. 모델 학습과정 설정\n",
    "    - compile()함수 이용. compile(손실함수, optimizer, metrics(평가지표))\n",
    "\n",
    "\n",
    "5. 모델 학습 시키기 (ft. 학습과정 지켜보기)\n",
    "    - fit() 함수 이용 : fit(훈련셋입력=독립변수, 훈련셋타켓=종속변수, 학습횟수, 검증셋)\n",
    "\n",
    "\n",
    "6. 모델 평가\n",
    "    - 시험셋(테스트셋)을 인자로 넣은 evaluate() 함수 이용, 그래프\n",
    "    \n",
    "\n",
    "7. 모델 사용\n",
    "    - predict() 이용 : 입력데이터는 2차원 [[0]]\n",
    "\n",
    "\n",
    "8. 모델 저장 : 재사용을 위래\n",
    "    - save() 함수이용해서 저장 : 저장된 모델로 load_model() 함수를 이용해서 불러올수 있음."
   ]
  },
  {
   "cell_type": "markdown",
   "id": "414414c6",
   "metadata": {},
   "source": []
  },
  {
   "cell_type": "markdown",
   "id": "6d2458be",
   "metadata": {},
   "source": [
    "# 1. 데이터 셋 생성\n",
    "\n",
    "# 2. 데이터 전처리"
   ]
  },
  {
   "cell_type": "code",
   "execution_count": 63,
   "id": "97957315",
   "metadata": {},
   "outputs": [
    {
     "data": {
      "text/plain": [
       "((90,), (9,), (9,), (90,), (9,), (9,))"
      ]
     },
     "execution_count": 63,
     "metadata": {},
     "output_type": "execute_result"
    }
   ],
   "source": [
    "# 학습데이터 = 훈련데이터\n",
    "x_train = np.array([1,2,3,4,5,6,7,8,9]*10)\n",
    "# y_train = np.array(['a','b','c','d'])\n",
    "y_train = np.array([2,4,6,8,10,12,14,16,18]*10)\n",
    "\n",
    "# 검증데이터\n",
    "x_val = np.array([1,2,3,4,5,6,7,8,9])\n",
    "y_val = np.array([2,4,6,8,10,12,14,16,18])\n",
    "\n",
    "# 시험데이터\n",
    "x_test = np.array([1,2,3,4,5,6,7,8,9])\n",
    "y_test = np.array([2,4,6,8,10,12,14,16,18])\n",
    "\n",
    "x_train.shape, x_val.shape, x_test.shape, y_train.shape, y_val.shape, y_test.shape, "
   ]
  },
  {
   "cell_type": "code",
   "execution_count": 64,
   "id": "03cf7d9b",
   "metadata": {},
   "outputs": [
    {
     "name": "stdout",
     "output_type": "stream",
     "text": [
      "원 데이터 : ['a' 'b' 'c' 'd']\n",
      "라벨인코딩된 데이터 : [0 1 2 3]\n",
      "원핫인코딩 데이터 : [[1. 0. 0. 0.]\n",
      " [0. 1. 0. 0.]\n",
      " [0. 0. 1. 0.]\n",
      " [0. 0. 0. 1.]]\n"
     ]
    }
   ],
   "source": [
    "# 인코딩 종류\n",
    "data = np.array(['a','b','c','d'])\n",
    "print('원 데이터 :', data)\n",
    "\n",
    "\n",
    "from sklearn.preprocessing import LabelEncoder\n",
    "\n",
    "le = LabelEncoder()\n",
    "# le.fit(data)\n",
    "# labeled_data = le.transform(data)\n",
    "labeled_data = le.fit_transform(data)\n",
    "\n",
    "print('라벨인코딩된 데이터 :', labeled_data)\n",
    "# 원핫인코딩\n",
    "one_hot_encorded = to_categorical(labeled_data)\n",
    "print('원핫인코딩 데이터 :', one_hot_encorded)"
   ]
  },
  {
   "cell_type": "code",
   "execution_count": 65,
   "id": "32be1c0d",
   "metadata": {},
   "outputs": [
    {
     "name": "stdout",
     "output_type": "stream",
     "text": [
      "원 데이터 : ['서울' '경기' '인천' '부산']\n",
      "라벨인코딩된 데이터 : [2 0 3 1]\n",
      "원핫인코딩 데이터 : [[0. 0. 1. 0.]\n",
      " [1. 0. 0. 0.]\n",
      " [0. 0. 0. 1.]\n",
      " [0. 1. 0. 0.]]\n"
     ]
    }
   ],
   "source": [
    "data = np.array(['서울','경기','인천','부산'])\n",
    "print('원 데이터 :', data)\n",
    "\n",
    "from sklearn.preprocessing import LabelEncoder\n",
    "\n",
    "le = LabelEncoder()\n",
    "# le.fit(data)\n",
    "# labeled_data = le.transform(data)\n",
    "labeled_data = le.fit_transform(data)\n",
    "print('라벨인코딩된 데이터 :', labeled_data)\n",
    "\n",
    "# 원핫인코딩\n",
    "one_hot_encorded = to_categorical(labeled_data)\n",
    "print('원핫인코딩 데이터 :',one_hot_encorded)"
   ]
  },
  {
   "cell_type": "code",
   "execution_count": 66,
   "id": "fcd7b57a",
   "metadata": {},
   "outputs": [
    {
     "name": "stdout",
     "output_type": "stream",
     "text": [
      "[1 2 2 4 2]\n",
      "to_categorical을 이용한 원핫인코딩 : \n",
      " [[0. 1. 0. 0. 0.]\n",
      " [0. 0. 1. 0. 0.]\n",
      " [0. 0. 1. 0. 0.]\n",
      " [0. 0. 0. 0. 1.]\n",
      " [0. 0. 1. 0. 0.]]\n"
     ]
    },
    {
     "data": {
      "text/plain": [
       "'get_dummies을 이용한 원핫인코딩'"
      ]
     },
     "metadata": {},
     "output_type": "display_data"
    },
    {
     "data": {
      "text/html": [
       "<div>\n",
       "<style scoped>\n",
       "    .dataframe tbody tr th:only-of-type {\n",
       "        vertical-align: middle;\n",
       "    }\n",
       "\n",
       "    .dataframe tbody tr th {\n",
       "        vertical-align: top;\n",
       "    }\n",
       "\n",
       "    .dataframe thead th {\n",
       "        text-align: right;\n",
       "    }\n",
       "</style>\n",
       "<table border=\"1\" class=\"dataframe\">\n",
       "  <thead>\n",
       "    <tr style=\"text-align: right;\">\n",
       "      <th></th>\n",
       "      <th>1</th>\n",
       "      <th>2</th>\n",
       "      <th>4</th>\n",
       "    </tr>\n",
       "  </thead>\n",
       "  <tbody>\n",
       "    <tr>\n",
       "      <th>0</th>\n",
       "      <td>1</td>\n",
       "      <td>0</td>\n",
       "      <td>0</td>\n",
       "    </tr>\n",
       "    <tr>\n",
       "      <th>1</th>\n",
       "      <td>0</td>\n",
       "      <td>1</td>\n",
       "      <td>0</td>\n",
       "    </tr>\n",
       "    <tr>\n",
       "      <th>2</th>\n",
       "      <td>0</td>\n",
       "      <td>1</td>\n",
       "      <td>0</td>\n",
       "    </tr>\n",
       "    <tr>\n",
       "      <th>3</th>\n",
       "      <td>0</td>\n",
       "      <td>0</td>\n",
       "      <td>1</td>\n",
       "    </tr>\n",
       "    <tr>\n",
       "      <th>4</th>\n",
       "      <td>0</td>\n",
       "      <td>1</td>\n",
       "      <td>0</td>\n",
       "    </tr>\n",
       "  </tbody>\n",
       "</table>\n",
       "</div>"
      ],
      "text/plain": [
       "   1  2  4\n",
       "0  1  0  0\n",
       "1  0  1  0\n",
       "2  0  1  0\n",
       "3  0  0  1\n",
       "4  0  1  0"
      ]
     },
     "metadata": {},
     "output_type": "display_data"
    },
    {
     "name": "stdout",
     "output_type": "stream",
     "text": [
      "<class 'numpy.ndarray'>\n",
      "<class 'pandas.core.frame.DataFrame'>\n"
     ]
    }
   ],
   "source": [
    "# 분류분석을 위기 위해, target을 원핫인코딩(라벨링 전환, to_categorical)\n",
    "data = np.array([1,2,2,4,2])\n",
    "print(data)\n",
    "categorical_one_hot = to_categorical(data)\n",
    "print('to_categorical을 이용한 원핫인코딩 : \\n', categorical_one_hot)\n",
    "\n",
    "import pandas as pd\n",
    "\n",
    "get_dumies_one_hot = pd.get_dummies(data)\n",
    "display('get_dummies을 이용한 원핫인코딩', get_dumies_one_hot)\n",
    "print(type(categorical_one_hot))\n",
    "print(type(get_dumies_one_hot))"
   ]
  },
  {
   "cell_type": "code",
   "execution_count": 67,
   "id": "8413ed52",
   "metadata": {},
   "outputs": [],
   "source": [
    "# 분류분석을 위한 target변수 라벨링 전환(원핫인코딩)\n",
    "Y_train = to_categorical(y_train, 19)\n",
    "Y_val = to_categorical(y_val)\n",
    "Y_test = to_categorical(y_test)\n",
    "# Y_test"
   ]
  },
  {
   "cell_type": "code",
   "execution_count": 68,
   "id": "f760bdce",
   "metadata": {},
   "outputs": [
    {
     "name": "stdout",
     "output_type": "stream",
     "text": [
      "훈련데이터셋 구조 : (90,) (90, 19)\n",
      "검증데이터셋 구조 : (9,) (9, 19)\n",
      "테스트데이터셋 구조 : (9,) (9, 19)\n"
     ]
    }
   ],
   "source": [
    "print('훈련데이터셋 구조 :',x_train.shape, Y_train.shape) # 독립변수 1개, 타켓변수 19\n",
    "print('검증데이터셋 구조 :',x_val.shape, Y_val.shape) # 독립변수 1개, 타켓변수 19\n",
    "print('테스트데이터셋 구조 :',x_test.shape, Y_test.shape) # 독립변수 1개, 타켓변수 19"
   ]
  },
  {
   "cell_type": "markdown",
   "id": "d37cf0fe",
   "metadata": {},
   "source": [
    "# 3. 모델 구성하기"
   ]
  },
  {
   "cell_type": "code",
   "execution_count": 69,
   "id": "8efaf7b0",
   "metadata": {},
   "outputs": [
    {
     "name": "stdout",
     "output_type": "stream",
     "text": [
      "Model: \"sequential_2\"\n",
      "_________________________________________________________________\n",
      " Layer (type)                Output Shape              Param #   \n",
      "=================================================================\n",
      " dense_8 (Dense)             (None, 38)                76        \n",
      "                                                                 \n",
      " dense_9 (Dense)             (None, 64)                2496      \n",
      "                                                                 \n",
      " dense_10 (Dense)            (None, 32)                2080      \n",
      "                                                                 \n",
      " dense_11 (Dense)            (None, 19)                627       \n",
      "                                                                 \n",
      "=================================================================\n",
      "Total params: 5,279\n",
      "Trainable params: 5,279\n",
      "Non-trainable params: 0\n",
      "_________________________________________________________________\n"
     ]
    }
   ],
   "source": [
    "model = Sequential()\n",
    "model.add(Input(shape=(1,))) # 입력층\n",
    "model.add(Dense(units=38, activation='sigmoid')) # units 출력수, 활성화함수 : relu, tanh\n",
    "model.add(Dense(units=64, activation='elu'))\n",
    "model.add(Dense(units=32, activation='elu'))\n",
    "model.add(Dense(units=19, activation='softmax'))\n",
    "\n",
    "# softmax : 모든 출력결과의 합이 1. 분류분석 마지막 layer(출력층)에서 activation 으로 사용\n",
    "model.summary()"
   ]
  },
  {
   "cell_type": "markdown",
   "id": "b809d88c",
   "metadata": {},
   "source": [
    "# 4. 모델 학습과정 설정"
   ]
  },
  {
   "cell_type": "code",
   "execution_count": 70,
   "id": "b5a45f45",
   "metadata": {},
   "outputs": [],
   "source": [
    "model.compile(loss='categorical_crossentropy', # 분류분석에서의 손실함수(원핫인코딩 유)\n",
    "              optimizer='sgd',\n",
    "              metrics=['accuracy'] # 평가지표 : accuracy\n",
    "             )"
   ]
  },
  {
   "cell_type": "markdown",
   "id": "6d6e3d93",
   "metadata": {},
   "source": [
    "# 5. 모델 학습 시키기"
   ]
  },
  {
   "cell_type": "code",
   "execution_count": 71,
   "id": "ff897738",
   "metadata": {},
   "outputs": [
    {
     "name": "stdout",
     "output_type": "stream",
     "text": [
      "Epoch 1/300\n",
      "9/9 - 1s - loss: 3.0579 - accuracy: 0.0000e+00 - val_loss: 2.9412 - val_accuracy: 0.0000e+00 - 635ms/epoch - 71ms/step\n",
      "Epoch 2/300\n",
      "9/9 - 0s - loss: 2.8933 - accuracy: 0.0667 - val_loss: 2.8090 - val_accuracy: 0.1111 - 69ms/epoch - 8ms/step\n",
      "Epoch 3/300\n",
      "9/9 - 0s - loss: 2.7763 - accuracy: 0.1222 - val_loss: 2.7119 - val_accuracy: 0.2222 - 71ms/epoch - 8ms/step\n",
      "Epoch 4/300\n",
      "9/9 - 0s - loss: 2.6898 - accuracy: 0.2222 - val_loss: 2.6371 - val_accuracy: 0.2222 - 59ms/epoch - 7ms/step\n",
      "Epoch 5/300\n",
      "9/9 - 0s - loss: 2.6232 - accuracy: 0.2444 - val_loss: 2.5748 - val_accuracy: 0.2222 - 74ms/epoch - 8ms/step\n",
      "Epoch 6/300\n",
      "9/9 - 0s - loss: 2.5599 - accuracy: 0.2222 - val_loss: 2.5199 - val_accuracy: 0.3333 - 93ms/epoch - 10ms/step\n",
      "Epoch 7/300\n",
      "9/9 - 0s - loss: 2.5085 - accuracy: 0.1778 - val_loss: 2.4708 - val_accuracy: 0.3333 - 115ms/epoch - 13ms/step\n",
      "Epoch 8/300\n",
      "9/9 - 0s - loss: 2.4616 - accuracy: 0.2222 - val_loss: 2.4260 - val_accuracy: 0.2222 - 63ms/epoch - 7ms/step\n",
      "Epoch 9/300\n",
      "9/9 - 0s - loss: 2.4175 - accuracy: 0.2444 - val_loss: 2.3847 - val_accuracy: 0.2222 - 55ms/epoch - 6ms/step\n",
      "Epoch 10/300\n",
      "9/9 - 0s - loss: 2.3800 - accuracy: 0.2333 - val_loss: 2.3466 - val_accuracy: 0.2222 - 79ms/epoch - 9ms/step\n",
      "Epoch 11/300\n",
      "9/9 - 0s - loss: 2.3403 - accuracy: 0.2222 - val_loss: 2.3113 - val_accuracy: 0.2222 - 72ms/epoch - 8ms/step\n",
      "Epoch 12/300\n",
      "9/9 - 0s - loss: 2.3184 - accuracy: 0.2000 - val_loss: 2.2787 - val_accuracy: 0.2222 - 55ms/epoch - 6ms/step\n",
      "Epoch 13/300\n",
      "9/9 - 0s - loss: 2.2781 - accuracy: 0.2444 - val_loss: 2.2482 - val_accuracy: 0.2222 - 44ms/epoch - 5ms/step\n",
      "Epoch 14/300\n",
      "9/9 - 0s - loss: 2.2487 - accuracy: 0.2778 - val_loss: 2.2198 - val_accuracy: 0.2222 - 91ms/epoch - 10ms/step\n",
      "Epoch 15/300\n",
      "9/9 - 0s - loss: 2.2181 - accuracy: 0.2111 - val_loss: 2.1932 - val_accuracy: 0.2222 - 51ms/epoch - 6ms/step\n",
      "Epoch 16/300\n",
      "9/9 - 0s - loss: 2.1955 - accuracy: 0.1778 - val_loss: 2.1685 - val_accuracy: 0.2222 - 76ms/epoch - 8ms/step\n",
      "Epoch 17/300\n",
      "9/9 - 0s - loss: 2.1790 - accuracy: 0.1556 - val_loss: 2.1453 - val_accuracy: 0.2222 - 54ms/epoch - 6ms/step\n",
      "Epoch 18/300\n",
      "9/9 - 0s - loss: 2.1505 - accuracy: 0.2222 - val_loss: 2.1234 - val_accuracy: 0.2222 - 75ms/epoch - 8ms/step\n",
      "Epoch 19/300\n",
      "9/9 - 0s - loss: 2.1311 - accuracy: 0.1778 - val_loss: 2.1027 - val_accuracy: 0.2222 - 88ms/epoch - 10ms/step\n",
      "Epoch 20/300\n",
      "9/9 - 0s - loss: 2.1132 - accuracy: 0.2111 - val_loss: 2.0828 - val_accuracy: 0.2222 - 54ms/epoch - 6ms/step\n",
      "Epoch 21/300\n",
      "9/9 - 0s - loss: 2.0920 - accuracy: 0.1889 - val_loss: 2.0641 - val_accuracy: 0.1111 - 86ms/epoch - 10ms/step\n",
      "Epoch 22/300\n",
      "9/9 - 0s - loss: 2.0704 - accuracy: 0.1889 - val_loss: 2.0458 - val_accuracy: 0.2222 - 56ms/epoch - 6ms/step\n",
      "Epoch 23/300\n",
      "9/9 - 0s - loss: 2.0592 - accuracy: 0.1889 - val_loss: 2.0283 - val_accuracy: 0.2222 - 75ms/epoch - 8ms/step\n",
      "Epoch 24/300\n",
      "9/9 - 0s - loss: 2.0409 - accuracy: 0.1889 - val_loss: 2.0112 - val_accuracy: 0.2222 - 76ms/epoch - 8ms/step\n",
      "Epoch 25/300\n",
      "9/9 - 0s - loss: 2.0224 - accuracy: 0.2000 - val_loss: 1.9947 - val_accuracy: 0.2222 - 79ms/epoch - 9ms/step\n",
      "Epoch 26/300\n",
      "9/9 - 0s - loss: 2.0036 - accuracy: 0.1667 - val_loss: 1.9783 - val_accuracy: 0.2222 - 80ms/epoch - 9ms/step\n",
      "Epoch 27/300\n",
      "9/9 - 0s - loss: 1.9888 - accuracy: 0.2111 - val_loss: 1.9625 - val_accuracy: 0.3333 - 57ms/epoch - 6ms/step\n",
      "Epoch 28/300\n",
      "9/9 - 0s - loss: 1.9814 - accuracy: 0.1667 - val_loss: 1.9472 - val_accuracy: 0.3333 - 58ms/epoch - 6ms/step\n",
      "Epoch 29/300\n",
      "9/9 - 0s - loss: 1.9625 - accuracy: 0.2444 - val_loss: 1.9314 - val_accuracy: 0.2222 - 111ms/epoch - 12ms/step\n",
      "Epoch 30/300\n",
      "9/9 - 0s - loss: 1.9433 - accuracy: 0.1333 - val_loss: 1.9160 - val_accuracy: 0.3333 - 91ms/epoch - 10ms/step\n",
      "Epoch 31/300\n",
      "9/9 - 0s - loss: 1.9338 - accuracy: 0.1556 - val_loss: 1.9012 - val_accuracy: 0.3333 - 80ms/epoch - 9ms/step\n",
      "Epoch 32/300\n",
      "9/9 - 0s - loss: 1.9115 - accuracy: 0.1889 - val_loss: 1.8861 - val_accuracy: 0.3333 - 71ms/epoch - 8ms/step\n",
      "Epoch 33/300\n",
      "9/9 - 0s - loss: 1.8964 - accuracy: 0.2778 - val_loss: 1.8714 - val_accuracy: 0.3333 - 103ms/epoch - 11ms/step\n",
      "Epoch 34/300\n",
      "9/9 - 0s - loss: 1.8832 - accuracy: 0.2889 - val_loss: 1.8568 - val_accuracy: 0.2222 - 94ms/epoch - 10ms/step\n",
      "Epoch 35/300\n",
      "9/9 - 0s - loss: 1.8676 - accuracy: 0.2778 - val_loss: 1.8424 - val_accuracy: 0.3333 - 116ms/epoch - 13ms/step\n",
      "Epoch 36/300\n",
      "9/9 - 0s - loss: 1.8576 - accuracy: 0.2778 - val_loss: 1.8286 - val_accuracy: 0.3333 - 102ms/epoch - 11ms/step\n",
      "Epoch 37/300\n",
      "9/9 - 0s - loss: 1.8403 - accuracy: 0.3222 - val_loss: 1.8140 - val_accuracy: 0.3333 - 119ms/epoch - 13ms/step\n",
      "Epoch 38/300\n",
      "9/9 - 0s - loss: 1.8289 - accuracy: 0.2000 - val_loss: 1.8001 - val_accuracy: 0.4444 - 92ms/epoch - 10ms/step\n",
      "Epoch 39/300\n",
      "9/9 - 0s - loss: 1.8165 - accuracy: 0.3000 - val_loss: 1.7867 - val_accuracy: 0.3333 - 133ms/epoch - 15ms/step\n",
      "Epoch 40/300\n",
      "9/9 - 0s - loss: 1.7943 - accuracy: 0.2444 - val_loss: 1.7730 - val_accuracy: 0.4444 - 167ms/epoch - 19ms/step\n",
      "Epoch 41/300\n",
      "9/9 - 0s - loss: 1.7859 - accuracy: 0.2444 - val_loss: 1.7598 - val_accuracy: 0.4444 - 119ms/epoch - 13ms/step\n",
      "Epoch 42/300\n",
      "9/9 - 0s - loss: 1.7804 - accuracy: 0.3444 - val_loss: 1.7468 - val_accuracy: 0.4444 - 55ms/epoch - 6ms/step\n",
      "Epoch 43/300\n",
      "9/9 - 0s - loss: 1.7614 - accuracy: 0.3333 - val_loss: 1.7336 - val_accuracy: 0.3333 - 52ms/epoch - 6ms/step\n",
      "Epoch 44/300\n",
      "9/9 - 0s - loss: 1.7492 - accuracy: 0.3667 - val_loss: 1.7216 - val_accuracy: 0.4444 - 86ms/epoch - 10ms/step\n",
      "Epoch 45/300\n",
      "9/9 - 0s - loss: 1.7343 - accuracy: 0.2333 - val_loss: 1.7080 - val_accuracy: 0.3333 - 96ms/epoch - 11ms/step\n",
      "Epoch 46/300\n",
      "9/9 - 0s - loss: 1.7199 - accuracy: 0.3556 - val_loss: 1.6952 - val_accuracy: 0.4444 - 165ms/epoch - 18ms/step\n",
      "Epoch 47/300\n",
      "9/9 - 0s - loss: 1.7152 - accuracy: 0.3333 - val_loss: 1.6832 - val_accuracy: 0.4444 - 138ms/epoch - 15ms/step\n",
      "Epoch 48/300\n",
      "9/9 - 0s - loss: 1.7059 - accuracy: 0.3556 - val_loss: 1.6711 - val_accuracy: 0.3333 - 124ms/epoch - 14ms/step\n",
      "Epoch 49/300\n",
      "9/9 - 0s - loss: 1.6812 - accuracy: 0.3000 - val_loss: 1.6600 - val_accuracy: 0.3333 - 100ms/epoch - 11ms/step\n",
      "Epoch 50/300\n",
      "9/9 - 0s - loss: 1.6820 - accuracy: 0.3444 - val_loss: 1.6476 - val_accuracy: 0.3333 - 152ms/epoch - 17ms/step\n",
      "Epoch 51/300\n",
      "9/9 - 0s - loss: 1.6715 - accuracy: 0.2778 - val_loss: 1.6358 - val_accuracy: 0.4444 - 120ms/epoch - 13ms/step\n",
      "Epoch 52/300\n",
      "9/9 - 0s - loss: 1.6509 - accuracy: 0.2889 - val_loss: 1.6245 - val_accuracy: 0.5556 - 93ms/epoch - 10ms/step\n",
      "Epoch 53/300\n",
      "9/9 - 0s - loss: 1.6437 - accuracy: 0.3444 - val_loss: 1.6137 - val_accuracy: 0.6667 - 56ms/epoch - 6ms/step\n",
      "Epoch 54/300\n",
      "9/9 - 0s - loss: 1.6243 - accuracy: 0.4333 - val_loss: 1.6021 - val_accuracy: 0.5556 - 45ms/epoch - 5ms/step\n",
      "Epoch 55/300\n",
      "9/9 - 0s - loss: 1.6165 - accuracy: 0.3667 - val_loss: 1.5908 - val_accuracy: 0.4444 - 64ms/epoch - 7ms/step\n",
      "Epoch 56/300\n",
      "9/9 - 0s - loss: 1.6071 - accuracy: 0.3667 - val_loss: 1.5801 - val_accuracy: 0.5556 - 66ms/epoch - 7ms/step\n",
      "Epoch 57/300\n",
      "9/9 - 0s - loss: 1.5932 - accuracy: 0.3778 - val_loss: 1.5692 - val_accuracy: 0.5556 - 62ms/epoch - 7ms/step\n",
      "Epoch 58/300\n",
      "9/9 - 0s - loss: 1.5818 - accuracy: 0.4556 - val_loss: 1.5584 - val_accuracy: 0.5556 - 58ms/epoch - 6ms/step\n",
      "Epoch 59/300\n",
      "9/9 - 0s - loss: 1.5771 - accuracy: 0.5222 - val_loss: 1.5481 - val_accuracy: 0.6667 - 49ms/epoch - 5ms/step\n",
      "Epoch 60/300\n",
      "9/9 - 0s - loss: 1.5668 - accuracy: 0.5111 - val_loss: 1.5378 - val_accuracy: 0.5556 - 55ms/epoch - 6ms/step\n",
      "Epoch 61/300\n",
      "9/9 - 0s - loss: 1.5512 - accuracy: 0.4333 - val_loss: 1.5279 - val_accuracy: 0.5556 - 56ms/epoch - 6ms/step\n",
      "Epoch 62/300\n",
      "9/9 - 0s - loss: 1.5440 - accuracy: 0.4889 - val_loss: 1.5178 - val_accuracy: 0.5556 - 47ms/epoch - 5ms/step\n",
      "Epoch 63/300\n",
      "9/9 - 0s - loss: 1.5316 - accuracy: 0.4667 - val_loss: 1.5084 - val_accuracy: 0.5556 - 49ms/epoch - 5ms/step\n",
      "Epoch 64/300\n",
      "9/9 - 0s - loss: 1.5237 - accuracy: 0.4556 - val_loss: 1.4989 - val_accuracy: 0.6667 - 74ms/epoch - 8ms/step\n",
      "Epoch 65/300\n",
      "9/9 - 0s - loss: 1.5100 - accuracy: 0.5333 - val_loss: 1.4887 - val_accuracy: 0.6667 - 55ms/epoch - 6ms/step\n",
      "Epoch 66/300\n",
      "9/9 - 0s - loss: 1.5033 - accuracy: 0.5444 - val_loss: 1.4796 - val_accuracy: 0.5556 - 51ms/epoch - 6ms/step\n",
      "Epoch 67/300\n",
      "9/9 - 0s - loss: 1.4994 - accuracy: 0.5556 - val_loss: 1.4711 - val_accuracy: 0.5556 - 56ms/epoch - 6ms/step\n"
     ]
    },
    {
     "name": "stdout",
     "output_type": "stream",
     "text": [
      "Epoch 68/300\n",
      "9/9 - 0s - loss: 1.4865 - accuracy: 0.5000 - val_loss: 1.4605 - val_accuracy: 0.5556 - 72ms/epoch - 8ms/step\n",
      "Epoch 69/300\n",
      "9/9 - 0s - loss: 1.4716 - accuracy: 0.5778 - val_loss: 1.4522 - val_accuracy: 0.6667 - 58ms/epoch - 6ms/step\n",
      "Epoch 70/300\n",
      "9/9 - 0s - loss: 1.4743 - accuracy: 0.4444 - val_loss: 1.4434 - val_accuracy: 0.5556 - 46ms/epoch - 5ms/step\n",
      "Epoch 71/300\n",
      "9/9 - 0s - loss: 1.4657 - accuracy: 0.5000 - val_loss: 1.4341 - val_accuracy: 0.6667 - 48ms/epoch - 5ms/step\n",
      "Epoch 72/300\n",
      "9/9 - 0s - loss: 1.4570 - accuracy: 0.5333 - val_loss: 1.4254 - val_accuracy: 0.7778 - 47ms/epoch - 5ms/step\n",
      "Epoch 73/300\n",
      "9/9 - 0s - loss: 1.4382 - accuracy: 0.5889 - val_loss: 1.4163 - val_accuracy: 0.6667 - 43ms/epoch - 5ms/step\n",
      "Epoch 74/300\n",
      "9/9 - 0s - loss: 1.4306 - accuracy: 0.5556 - val_loss: 1.4076 - val_accuracy: 0.6667 - 47ms/epoch - 5ms/step\n",
      "Epoch 75/300\n",
      "9/9 - 0s - loss: 1.4202 - accuracy: 0.4333 - val_loss: 1.4013 - val_accuracy: 0.7778 - 47ms/epoch - 5ms/step\n",
      "Epoch 76/300\n",
      "9/9 - 0s - loss: 1.4203 - accuracy: 0.6111 - val_loss: 1.3913 - val_accuracy: 0.6667 - 40ms/epoch - 4ms/step\n",
      "Epoch 77/300\n",
      "9/9 - 0s - loss: 1.4122 - accuracy: 0.6111 - val_loss: 1.3832 - val_accuracy: 0.6667 - 41ms/epoch - 5ms/step\n",
      "Epoch 78/300\n",
      "9/9 - 0s - loss: 1.4136 - accuracy: 0.6000 - val_loss: 1.3737 - val_accuracy: 0.6667 - 40ms/epoch - 4ms/step\n",
      "Epoch 79/300\n",
      "9/9 - 0s - loss: 1.3984 - accuracy: 0.5222 - val_loss: 1.3664 - val_accuracy: 0.6667 - 48ms/epoch - 5ms/step\n",
      "Epoch 80/300\n",
      "9/9 - 0s - loss: 1.3797 - accuracy: 0.6222 - val_loss: 1.3574 - val_accuracy: 0.6667 - 48ms/epoch - 5ms/step\n",
      "Epoch 81/300\n",
      "9/9 - 0s - loss: 1.3842 - accuracy: 0.5778 - val_loss: 1.3497 - val_accuracy: 0.6667 - 47ms/epoch - 5ms/step\n",
      "Epoch 82/300\n",
      "9/9 - 0s - loss: 1.3705 - accuracy: 0.5222 - val_loss: 1.3420 - val_accuracy: 0.8889 - 47ms/epoch - 5ms/step\n",
      "Epoch 83/300\n",
      "9/9 - 0s - loss: 1.3636 - accuracy: 0.6222 - val_loss: 1.3350 - val_accuracy: 0.6667 - 48ms/epoch - 5ms/step\n",
      "Epoch 84/300\n",
      "9/9 - 0s - loss: 1.3519 - accuracy: 0.5667 - val_loss: 1.3266 - val_accuracy: 0.8889 - 50ms/epoch - 6ms/step\n",
      "Epoch 85/300\n",
      "9/9 - 0s - loss: 1.3400 - accuracy: 0.6333 - val_loss: 1.3207 - val_accuracy: 0.7778 - 48ms/epoch - 5ms/step\n",
      "Epoch 86/300\n",
      "9/9 - 0s - loss: 1.3443 - accuracy: 0.7111 - val_loss: 1.3111 - val_accuracy: 0.7778 - 48ms/epoch - 5ms/step\n",
      "Epoch 87/300\n",
      "9/9 - 0s - loss: 1.3252 - accuracy: 0.7000 - val_loss: 1.3032 - val_accuracy: 0.7778 - 57ms/epoch - 6ms/step\n",
      "Epoch 88/300\n",
      "9/9 - 0s - loss: 1.3251 - accuracy: 0.6111 - val_loss: 1.2961 - val_accuracy: 0.7778 - 96ms/epoch - 11ms/step\n",
      "Epoch 89/300\n",
      "9/9 - 0s - loss: 1.3164 - accuracy: 0.6000 - val_loss: 1.2879 - val_accuracy: 0.7778 - 60ms/epoch - 7ms/step\n",
      "Epoch 90/300\n",
      "9/9 - 0s - loss: 1.3074 - accuracy: 0.7556 - val_loss: 1.2806 - val_accuracy: 0.7778 - 42ms/epoch - 5ms/step\n",
      "Epoch 91/300\n",
      "9/9 - 0s - loss: 1.3035 - accuracy: 0.6667 - val_loss: 1.2736 - val_accuracy: 0.7778 - 47ms/epoch - 5ms/step\n",
      "Epoch 92/300\n",
      "9/9 - 0s - loss: 1.2945 - accuracy: 0.5889 - val_loss: 1.2670 - val_accuracy: 0.8889 - 46ms/epoch - 5ms/step\n",
      "Epoch 93/300\n",
      "9/9 - 0s - loss: 1.2829 - accuracy: 0.7000 - val_loss: 1.2597 - val_accuracy: 0.7778 - 42ms/epoch - 5ms/step\n",
      "Epoch 94/300\n",
      "9/9 - 0s - loss: 1.2793 - accuracy: 0.7333 - val_loss: 1.2521 - val_accuracy: 0.6667 - 43ms/epoch - 5ms/step\n",
      "Epoch 95/300\n",
      "9/9 - 0s - loss: 1.2726 - accuracy: 0.5778 - val_loss: 1.2458 - val_accuracy: 0.8889 - 41ms/epoch - 5ms/step\n",
      "Epoch 96/300\n",
      "9/9 - 0s - loss: 1.2667 - accuracy: 0.6778 - val_loss: 1.2376 - val_accuracy: 0.7778 - 44ms/epoch - 5ms/step\n",
      "Epoch 97/300\n",
      "9/9 - 0s - loss: 1.2645 - accuracy: 0.6667 - val_loss: 1.2315 - val_accuracy: 0.7778 - 45ms/epoch - 5ms/step\n",
      "Epoch 98/300\n",
      "9/9 - 0s - loss: 1.2442 - accuracy: 0.7222 - val_loss: 1.2237 - val_accuracy: 0.7778 - 48ms/epoch - 5ms/step\n",
      "Epoch 99/300\n",
      "9/9 - 0s - loss: 1.2506 - accuracy: 0.6667 - val_loss: 1.2204 - val_accuracy: 0.7778 - 51ms/epoch - 6ms/step\n",
      "Epoch 100/300\n",
      "9/9 - 0s - loss: 1.2334 - accuracy: 0.7444 - val_loss: 1.2115 - val_accuracy: 0.8889 - 53ms/epoch - 6ms/step\n",
      "Epoch 101/300\n",
      "9/9 - 0s - loss: 1.2308 - accuracy: 0.6889 - val_loss: 1.2042 - val_accuracy: 0.8889 - 48ms/epoch - 5ms/step\n",
      "Epoch 102/300\n",
      "9/9 - 0s - loss: 1.2207 - accuracy: 0.7111 - val_loss: 1.1981 - val_accuracy: 0.6667 - 44ms/epoch - 5ms/step\n",
      "Epoch 103/300\n",
      "9/9 - 0s - loss: 1.2183 - accuracy: 0.6111 - val_loss: 1.1911 - val_accuracy: 0.7778 - 83ms/epoch - 9ms/step\n",
      "Epoch 104/300\n",
      "9/9 - 0s - loss: 1.2096 - accuracy: 0.7000 - val_loss: 1.1841 - val_accuracy: 0.7778 - 39ms/epoch - 4ms/step\n",
      "Epoch 105/300\n",
      "9/9 - 0s - loss: 1.2057 - accuracy: 0.7000 - val_loss: 1.1786 - val_accuracy: 0.7778 - 39ms/epoch - 4ms/step\n",
      "Epoch 106/300\n",
      "9/9 - 0s - loss: 1.2123 - accuracy: 0.6889 - val_loss: 1.1710 - val_accuracy: 0.7778 - 46ms/epoch - 5ms/step\n",
      "Epoch 107/300\n",
      "9/9 - 0s - loss: 1.1921 - accuracy: 0.7667 - val_loss: 1.1660 - val_accuracy: 0.7778 - 41ms/epoch - 5ms/step\n",
      "Epoch 108/300\n",
      "9/9 - 0s - loss: 1.1832 - accuracy: 0.7778 - val_loss: 1.1601 - val_accuracy: 0.7778 - 45ms/epoch - 5ms/step\n",
      "Epoch 109/300\n",
      "9/9 - 0s - loss: 1.1757 - accuracy: 0.7000 - val_loss: 1.1532 - val_accuracy: 0.8889 - 72ms/epoch - 8ms/step\n",
      "Epoch 110/300\n",
      "9/9 - 0s - loss: 1.1733 - accuracy: 0.7778 - val_loss: 1.1485 - val_accuracy: 0.7778 - 51ms/epoch - 6ms/step\n",
      "Epoch 111/300\n",
      "9/9 - 0s - loss: 1.1655 - accuracy: 0.6667 - val_loss: 1.1393 - val_accuracy: 0.7778 - 55ms/epoch - 6ms/step\n",
      "Epoch 112/300\n",
      "9/9 - 0s - loss: 1.1554 - accuracy: 0.7556 - val_loss: 1.1324 - val_accuracy: 0.8889 - 41ms/epoch - 5ms/step\n",
      "Epoch 113/300\n",
      "9/9 - 0s - loss: 1.1611 - accuracy: 0.7778 - val_loss: 1.1298 - val_accuracy: 0.7778 - 41ms/epoch - 5ms/step\n",
      "Epoch 114/300\n",
      "9/9 - 0s - loss: 1.1543 - accuracy: 0.6889 - val_loss: 1.1225 - val_accuracy: 0.8889 - 46ms/epoch - 5ms/step\n",
      "Epoch 115/300\n",
      "9/9 - 0s - loss: 1.1436 - accuracy: 0.7333 - val_loss: 1.1153 - val_accuracy: 0.7778 - 39ms/epoch - 4ms/step\n",
      "Epoch 116/300\n",
      "9/9 - 0s - loss: 1.1386 - accuracy: 0.7444 - val_loss: 1.1098 - val_accuracy: 0.8889 - 41ms/epoch - 5ms/step\n",
      "Epoch 117/300\n",
      "9/9 - 0s - loss: 1.1328 - accuracy: 0.7889 - val_loss: 1.1047 - val_accuracy: 0.8889 - 40ms/epoch - 4ms/step\n",
      "Epoch 118/300\n",
      "9/9 - 0s - loss: 1.1228 - accuracy: 0.8111 - val_loss: 1.0971 - val_accuracy: 0.8889 - 52ms/epoch - 6ms/step\n",
      "Epoch 119/300\n",
      "9/9 - 0s - loss: 1.1224 - accuracy: 0.7556 - val_loss: 1.0920 - val_accuracy: 0.7778 - 45ms/epoch - 5ms/step\n",
      "Epoch 120/300\n",
      "9/9 - 0s - loss: 1.1175 - accuracy: 0.7556 - val_loss: 1.0856 - val_accuracy: 0.8889 - 43ms/epoch - 5ms/step\n",
      "Epoch 121/300\n",
      "9/9 - 0s - loss: 1.1086 - accuracy: 0.7778 - val_loss: 1.0806 - val_accuracy: 0.8889 - 57ms/epoch - 6ms/step\n",
      "Epoch 122/300\n",
      "9/9 - 0s - loss: 1.0975 - accuracy: 0.8000 - val_loss: 1.0749 - val_accuracy: 0.8889 - 50ms/epoch - 6ms/step\n",
      "Epoch 123/300\n",
      "9/9 - 0s - loss: 1.0966 - accuracy: 0.8444 - val_loss: 1.0680 - val_accuracy: 0.7778 - 48ms/epoch - 5ms/step\n",
      "Epoch 124/300\n",
      "9/9 - 0s - loss: 1.0833 - accuracy: 0.8222 - val_loss: 1.0666 - val_accuracy: 0.7778 - 49ms/epoch - 5ms/step\n",
      "Epoch 125/300\n",
      "9/9 - 0s - loss: 1.0849 - accuracy: 0.7889 - val_loss: 1.0603 - val_accuracy: 0.8889 - 56ms/epoch - 6ms/step\n",
      "Epoch 126/300\n",
      "9/9 - 0s - loss: 1.0736 - accuracy: 0.7444 - val_loss: 1.0526 - val_accuracy: 0.8889 - 48ms/epoch - 5ms/step\n",
      "Epoch 127/300\n",
      "9/9 - 0s - loss: 1.0713 - accuracy: 0.7444 - val_loss: 1.0475 - val_accuracy: 0.8889 - 48ms/epoch - 5ms/step\n",
      "Epoch 128/300\n",
      "9/9 - 0s - loss: 1.0629 - accuracy: 0.7889 - val_loss: 1.0414 - val_accuracy: 0.7778 - 48ms/epoch - 5ms/step\n",
      "Epoch 129/300\n",
      "9/9 - 0s - loss: 1.0639 - accuracy: 0.7556 - val_loss: 1.0382 - val_accuracy: 1.0000 - 45ms/epoch - 5ms/step\n",
      "Epoch 130/300\n",
      "9/9 - 0s - loss: 1.0500 - accuracy: 0.8444 - val_loss: 1.0290 - val_accuracy: 0.8889 - 40ms/epoch - 4ms/step\n",
      "Epoch 131/300\n",
      "9/9 - 0s - loss: 1.0502 - accuracy: 0.8222 - val_loss: 1.0255 - val_accuracy: 0.8889 - 73ms/epoch - 8ms/step\n",
      "Epoch 132/300\n",
      "9/9 - 0s - loss: 1.0532 - accuracy: 0.8111 - val_loss: 1.0195 - val_accuracy: 0.8889 - 41ms/epoch - 5ms/step\n",
      "Epoch 133/300\n",
      "9/9 - 0s - loss: 1.0465 - accuracy: 0.8222 - val_loss: 1.0143 - val_accuracy: 0.8889 - 42ms/epoch - 5ms/step\n",
      "Epoch 134/300\n",
      "9/9 - 0s - loss: 1.0415 - accuracy: 0.7778 - val_loss: 1.0092 - val_accuracy: 1.0000 - 56ms/epoch - 6ms/step\n"
     ]
    },
    {
     "name": "stdout",
     "output_type": "stream",
     "text": [
      "Epoch 135/300\n",
      "9/9 - 0s - loss: 1.0351 - accuracy: 0.8222 - val_loss: 1.0035 - val_accuracy: 0.8889 - 41ms/epoch - 5ms/step\n",
      "Epoch 136/300\n",
      "9/9 - 0s - loss: 1.0249 - accuracy: 0.8111 - val_loss: 1.0024 - val_accuracy: 0.8889 - 40ms/epoch - 4ms/step\n",
      "Epoch 137/300\n",
      "9/9 - 0s - loss: 1.0182 - accuracy: 0.8667 - val_loss: 0.9947 - val_accuracy: 0.8889 - 40ms/epoch - 4ms/step\n",
      "Epoch 138/300\n",
      "9/9 - 0s - loss: 1.0106 - accuracy: 0.8111 - val_loss: 0.9874 - val_accuracy: 0.8889 - 41ms/epoch - 5ms/step\n",
      "Epoch 139/300\n",
      "9/9 - 0s - loss: 1.0165 - accuracy: 0.8778 - val_loss: 0.9832 - val_accuracy: 0.7778 - 46ms/epoch - 5ms/step\n",
      "Epoch 140/300\n",
      "9/9 - 0s - loss: 1.0059 - accuracy: 0.8889 - val_loss: 0.9799 - val_accuracy: 0.7778 - 50ms/epoch - 6ms/step\n",
      "Epoch 141/300\n",
      "9/9 - 0s - loss: 1.0090 - accuracy: 0.8222 - val_loss: 0.9726 - val_accuracy: 0.8889 - 43ms/epoch - 5ms/step\n",
      "Epoch 142/300\n",
      "9/9 - 0s - loss: 0.9941 - accuracy: 0.8333 - val_loss: 0.9685 - val_accuracy: 0.8889 - 39ms/epoch - 4ms/step\n",
      "Epoch 143/300\n",
      "9/9 - 0s - loss: 0.9870 - accuracy: 0.8111 - val_loss: 0.9626 - val_accuracy: 1.0000 - 50ms/epoch - 6ms/step\n",
      "Epoch 144/300\n",
      "9/9 - 0s - loss: 0.9804 - accuracy: 0.8778 - val_loss: 0.9626 - val_accuracy: 0.8889 - 45ms/epoch - 5ms/step\n",
      "Epoch 145/300\n",
      "9/9 - 0s - loss: 0.9775 - accuracy: 0.7778 - val_loss: 0.9597 - val_accuracy: 0.7778 - 45ms/epoch - 5ms/step\n",
      "Epoch 146/300\n",
      "9/9 - 0s - loss: 0.9848 - accuracy: 0.8000 - val_loss: 0.9543 - val_accuracy: 0.7778 - 45ms/epoch - 5ms/step\n",
      "Epoch 147/300\n",
      "9/9 - 0s - loss: 0.9792 - accuracy: 0.8111 - val_loss: 0.9445 - val_accuracy: 0.8889 - 44ms/epoch - 5ms/step\n",
      "Epoch 148/300\n",
      "9/9 - 0s - loss: 0.9710 - accuracy: 0.8222 - val_loss: 0.9395 - val_accuracy: 0.7778 - 50ms/epoch - 6ms/step\n",
      "Epoch 149/300\n",
      "9/9 - 0s - loss: 0.9621 - accuracy: 0.7778 - val_loss: 0.9340 - val_accuracy: 0.8889 - 65ms/epoch - 7ms/step\n",
      "Epoch 150/300\n",
      "9/9 - 0s - loss: 0.9539 - accuracy: 0.8556 - val_loss: 0.9308 - val_accuracy: 0.8889 - 40ms/epoch - 4ms/step\n",
      "Epoch 151/300\n",
      "9/9 - 0s - loss: 0.9592 - accuracy: 0.7556 - val_loss: 0.9278 - val_accuracy: 0.8889 - 46ms/epoch - 5ms/step\n",
      "Epoch 152/300\n",
      "9/9 - 0s - loss: 0.9534 - accuracy: 0.8778 - val_loss: 0.9190 - val_accuracy: 0.8889 - 45ms/epoch - 5ms/step\n",
      "Epoch 153/300\n",
      "9/9 - 0s - loss: 0.9451 - accuracy: 0.8556 - val_loss: 0.9156 - val_accuracy: 0.8889 - 76ms/epoch - 8ms/step\n",
      "Epoch 154/300\n",
      "9/9 - 0s - loss: 0.9373 - accuracy: 0.8000 - val_loss: 0.9113 - val_accuracy: 1.0000 - 49ms/epoch - 5ms/step\n",
      "Epoch 155/300\n",
      "9/9 - 0s - loss: 0.9330 - accuracy: 0.8667 - val_loss: 0.9087 - val_accuracy: 0.8889 - 50ms/epoch - 6ms/step\n",
      "Epoch 156/300\n",
      "9/9 - 0s - loss: 0.9413 - accuracy: 0.8333 - val_loss: 0.9044 - val_accuracy: 0.8889 - 42ms/epoch - 5ms/step\n",
      "Epoch 157/300\n",
      "9/9 - 0s - loss: 0.9407 - accuracy: 0.8333 - val_loss: 0.8978 - val_accuracy: 1.0000 - 42ms/epoch - 5ms/step\n",
      "Epoch 158/300\n",
      "9/9 - 0s - loss: 0.9190 - accuracy: 0.8556 - val_loss: 0.8913 - val_accuracy: 0.8889 - 39ms/epoch - 4ms/step\n",
      "Epoch 159/300\n",
      "9/9 - 0s - loss: 0.9219 - accuracy: 0.8444 - val_loss: 0.8918 - val_accuracy: 0.8889 - 46ms/epoch - 5ms/step\n",
      "Epoch 160/300\n",
      "9/9 - 0s - loss: 0.9137 - accuracy: 0.8667 - val_loss: 0.8857 - val_accuracy: 0.8889 - 40ms/epoch - 4ms/step\n",
      "Epoch 161/300\n",
      "9/9 - 0s - loss: 0.9064 - accuracy: 0.8778 - val_loss: 0.8781 - val_accuracy: 0.8889 - 53ms/epoch - 6ms/step\n",
      "Epoch 162/300\n",
      "9/9 - 0s - loss: 0.9073 - accuracy: 0.8111 - val_loss: 0.8740 - val_accuracy: 0.8889 - 50ms/epoch - 6ms/step\n",
      "Epoch 163/300\n",
      "9/9 - 0s - loss: 0.8983 - accuracy: 0.8444 - val_loss: 0.8702 - val_accuracy: 0.8889 - 48ms/epoch - 5ms/step\n",
      "Epoch 164/300\n",
      "9/9 - 0s - loss: 0.8974 - accuracy: 0.8778 - val_loss: 0.8645 - val_accuracy: 0.8889 - 48ms/epoch - 5ms/step\n",
      "Epoch 165/300\n",
      "9/9 - 0s - loss: 0.8907 - accuracy: 0.9111 - val_loss: 0.8591 - val_accuracy: 0.8889 - 51ms/epoch - 6ms/step\n",
      "Epoch 166/300\n",
      "9/9 - 0s - loss: 0.8816 - accuracy: 0.8778 - val_loss: 0.8545 - val_accuracy: 1.0000 - 49ms/epoch - 5ms/step\n",
      "Epoch 167/300\n",
      "9/9 - 0s - loss: 0.8835 - accuracy: 0.8556 - val_loss: 0.8537 - val_accuracy: 0.8889 - 44ms/epoch - 5ms/step\n",
      "Epoch 168/300\n",
      "9/9 - 0s - loss: 0.8783 - accuracy: 0.9111 - val_loss: 0.8472 - val_accuracy: 1.0000 - 48ms/epoch - 5ms/step\n",
      "Epoch 169/300\n",
      "9/9 - 0s - loss: 0.8824 - accuracy: 0.8444 - val_loss: 0.8426 - val_accuracy: 0.8889 - 47ms/epoch - 5ms/step\n",
      "Epoch 170/300\n",
      "9/9 - 0s - loss: 0.8696 - accuracy: 0.9000 - val_loss: 0.8446 - val_accuracy: 1.0000 - 109ms/epoch - 12ms/step\n",
      "Epoch 171/300\n",
      "9/9 - 0s - loss: 0.8635 - accuracy: 0.8222 - val_loss: 0.8448 - val_accuracy: 0.8889 - 70ms/epoch - 8ms/step\n",
      "Epoch 172/300\n",
      "9/9 - 0s - loss: 0.8594 - accuracy: 0.8222 - val_loss: 0.8311 - val_accuracy: 0.8889 - 45ms/epoch - 5ms/step\n",
      "Epoch 173/300\n",
      "9/9 - 0s - loss: 0.8480 - accuracy: 0.8444 - val_loss: 0.8365 - val_accuracy: 0.8889 - 46ms/epoch - 5ms/step\n",
      "Epoch 174/300\n",
      "9/9 - 0s - loss: 0.8463 - accuracy: 0.8556 - val_loss: 0.8279 - val_accuracy: 0.8889 - 47ms/epoch - 5ms/step\n",
      "Epoch 175/300\n",
      "9/9 - 0s - loss: 0.8508 - accuracy: 0.8778 - val_loss: 0.8169 - val_accuracy: 0.8889 - 47ms/epoch - 5ms/step\n",
      "Epoch 176/300\n",
      "9/9 - 0s - loss: 0.8383 - accuracy: 0.9444 - val_loss: 0.8127 - val_accuracy: 0.8889 - 47ms/epoch - 5ms/step\n",
      "Epoch 177/300\n",
      "9/9 - 0s - loss: 0.8469 - accuracy: 0.8778 - val_loss: 0.8080 - val_accuracy: 0.8889 - 48ms/epoch - 5ms/step\n",
      "Epoch 178/300\n",
      "9/9 - 0s - loss: 0.8297 - accuracy: 0.8556 - val_loss: 0.8047 - val_accuracy: 0.8889 - 40ms/epoch - 4ms/step\n",
      "Epoch 179/300\n",
      "9/9 - 0s - loss: 0.8659 - accuracy: 0.8444 - val_loss: 0.8024 - val_accuracy: 0.8889 - 61ms/epoch - 7ms/step\n",
      "Epoch 180/300\n",
      "9/9 - 0s - loss: 0.8253 - accuracy: 0.8222 - val_loss: 0.7980 - val_accuracy: 1.0000 - 69ms/epoch - 8ms/step\n",
      "Epoch 181/300\n",
      "9/9 - 0s - loss: 0.8305 - accuracy: 0.9000 - val_loss: 0.7922 - val_accuracy: 0.8889 - 42ms/epoch - 5ms/step\n",
      "Epoch 182/300\n",
      "9/9 - 0s - loss: 0.8142 - accuracy: 0.9000 - val_loss: 0.7927 - val_accuracy: 0.8889 - 43ms/epoch - 5ms/step\n",
      "Epoch 183/300\n",
      "9/9 - 0s - loss: 0.8040 - accuracy: 0.9000 - val_loss: 0.7844 - val_accuracy: 1.0000 - 47ms/epoch - 5ms/step\n",
      "Epoch 184/300\n",
      "9/9 - 0s - loss: 0.8185 - accuracy: 0.8556 - val_loss: 0.7828 - val_accuracy: 0.8889 - 40ms/epoch - 4ms/step\n",
      "Epoch 185/300\n",
      "9/9 - 0s - loss: 0.7966 - accuracy: 0.8778 - val_loss: 0.7775 - val_accuracy: 0.8889 - 41ms/epoch - 5ms/step\n",
      "Epoch 186/300\n",
      "9/9 - 0s - loss: 0.7996 - accuracy: 0.8444 - val_loss: 0.7772 - val_accuracy: 0.8889 - 40ms/epoch - 4ms/step\n",
      "Epoch 187/300\n",
      "9/9 - 0s - loss: 0.7924 - accuracy: 0.8667 - val_loss: 0.7711 - val_accuracy: 0.8889 - 40ms/epoch - 4ms/step\n",
      "Epoch 188/300\n",
      "9/9 - 0s - loss: 0.7934 - accuracy: 0.9222 - val_loss: 0.7650 - val_accuracy: 0.8889 - 53ms/epoch - 6ms/step\n",
      "Epoch 189/300\n",
      "9/9 - 0s - loss: 0.7902 - accuracy: 0.8667 - val_loss: 0.7693 - val_accuracy: 0.7778 - 52ms/epoch - 6ms/step\n",
      "Epoch 190/300\n",
      "9/9 - 0s - loss: 0.7850 - accuracy: 0.8556 - val_loss: 0.7631 - val_accuracy: 0.8889 - 49ms/epoch - 5ms/step\n",
      "Epoch 191/300\n",
      "9/9 - 0s - loss: 0.7877 - accuracy: 0.8778 - val_loss: 0.7533 - val_accuracy: 1.0000 - 45ms/epoch - 5ms/step\n",
      "Epoch 192/300\n",
      "9/9 - 0s - loss: 0.7820 - accuracy: 0.9000 - val_loss: 0.7505 - val_accuracy: 1.0000 - 101ms/epoch - 11ms/step\n",
      "Epoch 193/300\n",
      "9/9 - 0s - loss: 0.8003 - accuracy: 0.9222 - val_loss: 0.7488 - val_accuracy: 0.8889 - 56ms/epoch - 6ms/step\n",
      "Epoch 194/300\n",
      "9/9 - 0s - loss: 0.7660 - accuracy: 0.8778 - val_loss: 0.7509 - val_accuracy: 0.8889 - 47ms/epoch - 5ms/step\n",
      "Epoch 195/300\n",
      "9/9 - 0s - loss: 0.7740 - accuracy: 0.8889 - val_loss: 0.7390 - val_accuracy: 1.0000 - 61ms/epoch - 7ms/step\n",
      "Epoch 196/300\n",
      "9/9 - 0s - loss: 0.7598 - accuracy: 0.9333 - val_loss: 0.7361 - val_accuracy: 1.0000 - 48ms/epoch - 5ms/step\n",
      "Epoch 197/300\n",
      "9/9 - 0s - loss: 0.7535 - accuracy: 0.9000 - val_loss: 0.7367 - val_accuracy: 0.8889 - 41ms/epoch - 5ms/step\n",
      "Epoch 198/300\n",
      "9/9 - 0s - loss: 0.7660 - accuracy: 0.8444 - val_loss: 0.7293 - val_accuracy: 0.8889 - 48ms/epoch - 5ms/step\n",
      "Epoch 199/300\n",
      "9/9 - 0s - loss: 0.7532 - accuracy: 0.8444 - val_loss: 0.7318 - val_accuracy: 1.0000 - 39ms/epoch - 4ms/step\n",
      "Epoch 200/300\n",
      "9/9 - 0s - loss: 0.7401 - accuracy: 0.9111 - val_loss: 0.7254 - val_accuracy: 0.8889 - 42ms/epoch - 5ms/step\n",
      "Epoch 201/300\n",
      "9/9 - 0s - loss: 0.7511 - accuracy: 0.9000 - val_loss: 0.7252 - val_accuracy: 0.8889 - 41ms/epoch - 5ms/step\n"
     ]
    },
    {
     "name": "stdout",
     "output_type": "stream",
     "text": [
      "Epoch 202/300\n",
      "9/9 - 0s - loss: 0.7582 - accuracy: 0.8667 - val_loss: 0.7116 - val_accuracy: 0.8889 - 46ms/epoch - 5ms/step\n",
      "Epoch 203/300\n",
      "9/9 - 0s - loss: 0.7318 - accuracy: 0.9222 - val_loss: 0.7094 - val_accuracy: 1.0000 - 45ms/epoch - 5ms/step\n",
      "Epoch 204/300\n",
      "9/9 - 0s - loss: 0.7366 - accuracy: 0.8222 - val_loss: 0.7095 - val_accuracy: 0.8889 - 40ms/epoch - 4ms/step\n",
      "Epoch 205/300\n",
      "9/9 - 0s - loss: 0.7228 - accuracy: 0.9444 - val_loss: 0.7088 - val_accuracy: 0.8889 - 57ms/epoch - 6ms/step\n",
      "Epoch 206/300\n",
      "9/9 - 0s - loss: 0.7408 - accuracy: 0.9333 - val_loss: 0.7055 - val_accuracy: 0.7778 - 45ms/epoch - 5ms/step\n",
      "Epoch 207/300\n",
      "9/9 - 0s - loss: 0.7421 - accuracy: 0.8333 - val_loss: 0.7058 - val_accuracy: 0.8889 - 40ms/epoch - 4ms/step\n",
      "Epoch 208/300\n",
      "9/9 - 0s - loss: 0.7134 - accuracy: 0.9111 - val_loss: 0.6991 - val_accuracy: 1.0000 - 42ms/epoch - 5ms/step\n",
      "Epoch 209/300\n",
      "9/9 - 0s - loss: 0.7159 - accuracy: 0.9111 - val_loss: 0.6864 - val_accuracy: 1.0000 - 47ms/epoch - 5ms/step\n",
      "Epoch 210/300\n",
      "9/9 - 0s - loss: 0.7020 - accuracy: 0.9000 - val_loss: 0.6911 - val_accuracy: 0.8889 - 45ms/epoch - 5ms/step\n",
      "Epoch 211/300\n",
      "9/9 - 0s - loss: 0.7085 - accuracy: 0.9111 - val_loss: 0.6841 - val_accuracy: 1.0000 - 45ms/epoch - 5ms/step\n",
      "Epoch 212/300\n",
      "9/9 - 0s - loss: 0.7147 - accuracy: 0.9222 - val_loss: 0.6756 - val_accuracy: 1.0000 - 43ms/epoch - 5ms/step\n",
      "Epoch 213/300\n",
      "9/9 - 0s - loss: 0.6984 - accuracy: 0.9111 - val_loss: 0.6820 - val_accuracy: 0.8889 - 44ms/epoch - 5ms/step\n",
      "Epoch 214/300\n",
      "9/9 - 0s - loss: 0.7006 - accuracy: 0.9111 - val_loss: 0.6844 - val_accuracy: 0.8889 - 42ms/epoch - 5ms/step\n",
      "Epoch 215/300\n",
      "9/9 - 0s - loss: 0.7070 - accuracy: 0.9333 - val_loss: 0.6738 - val_accuracy: 0.8889 - 53ms/epoch - 6ms/step\n",
      "Epoch 216/300\n",
      "9/9 - 0s - loss: 0.6930 - accuracy: 0.9222 - val_loss: 0.6707 - val_accuracy: 0.8889 - 43ms/epoch - 5ms/step\n",
      "Epoch 217/300\n",
      "9/9 - 0s - loss: 0.7000 - accuracy: 0.8556 - val_loss: 0.6717 - val_accuracy: 0.8889 - 71ms/epoch - 8ms/step\n",
      "Epoch 218/300\n",
      "9/9 - 0s - loss: 0.6977 - accuracy: 0.8667 - val_loss: 0.6588 - val_accuracy: 0.8889 - 51ms/epoch - 6ms/step\n",
      "Epoch 219/300\n",
      "9/9 - 0s - loss: 0.6879 - accuracy: 0.9222 - val_loss: 0.6547 - val_accuracy: 0.8889 - 49ms/epoch - 5ms/step\n",
      "Epoch 220/300\n",
      "9/9 - 0s - loss: 0.6821 - accuracy: 0.8778 - val_loss: 0.6652 - val_accuracy: 1.0000 - 60ms/epoch - 7ms/step\n",
      "Epoch 221/300\n",
      "9/9 - 0s - loss: 0.6825 - accuracy: 0.9000 - val_loss: 0.6523 - val_accuracy: 1.0000 - 44ms/epoch - 5ms/step\n",
      "Epoch 222/300\n",
      "9/9 - 0s - loss: 0.6824 - accuracy: 0.9222 - val_loss: 0.6488 - val_accuracy: 1.0000 - 55ms/epoch - 6ms/step\n",
      "Epoch 223/300\n",
      "9/9 - 0s - loss: 0.6639 - accuracy: 0.9556 - val_loss: 0.6491 - val_accuracy: 1.0000 - 43ms/epoch - 5ms/step\n",
      "Epoch 224/300\n",
      "9/9 - 0s - loss: 0.6707 - accuracy: 0.9222 - val_loss: 0.6353 - val_accuracy: 0.8889 - 46ms/epoch - 5ms/step\n",
      "Epoch 225/300\n",
      "9/9 - 0s - loss: 0.6753 - accuracy: 0.8444 - val_loss: 0.6382 - val_accuracy: 0.8889 - 42ms/epoch - 5ms/step\n",
      "Epoch 226/300\n",
      "9/9 - 0s - loss: 0.6846 - accuracy: 0.8444 - val_loss: 0.6316 - val_accuracy: 1.0000 - 43ms/epoch - 5ms/step\n",
      "Epoch 227/300\n",
      "9/9 - 0s - loss: 0.6534 - accuracy: 0.9222 - val_loss: 0.6300 - val_accuracy: 0.8889 - 47ms/epoch - 5ms/step\n",
      "Epoch 228/300\n",
      "9/9 - 0s - loss: 0.6456 - accuracy: 0.9111 - val_loss: 0.6230 - val_accuracy: 1.0000 - 85ms/epoch - 9ms/step\n",
      "Epoch 229/300\n",
      "9/9 - 0s - loss: 0.6477 - accuracy: 0.9444 - val_loss: 0.6214 - val_accuracy: 0.8889 - 43ms/epoch - 5ms/step\n",
      "Epoch 230/300\n",
      "9/9 - 0s - loss: 0.6500 - accuracy: 0.8889 - val_loss: 0.6215 - val_accuracy: 1.0000 - 51ms/epoch - 6ms/step\n",
      "Epoch 231/300\n",
      "9/9 - 0s - loss: 0.6418 - accuracy: 0.9556 - val_loss: 0.6167 - val_accuracy: 0.8889 - 51ms/epoch - 6ms/step\n",
      "Epoch 232/300\n",
      "9/9 - 0s - loss: 0.6327 - accuracy: 0.9000 - val_loss: 0.6153 - val_accuracy: 1.0000 - 44ms/epoch - 5ms/step\n",
      "Epoch 233/300\n",
      "9/9 - 0s - loss: 0.6428 - accuracy: 0.9778 - val_loss: 0.6128 - val_accuracy: 0.8889 - 43ms/epoch - 5ms/step\n",
      "Epoch 234/300\n",
      "9/9 - 0s - loss: 0.6282 - accuracy: 0.8667 - val_loss: 0.6048 - val_accuracy: 1.0000 - 41ms/epoch - 5ms/step\n",
      "Epoch 235/300\n",
      "9/9 - 0s - loss: 0.6328 - accuracy: 0.9333 - val_loss: 0.6065 - val_accuracy: 1.0000 - 93ms/epoch - 10ms/step\n",
      "Epoch 236/300\n",
      "9/9 - 0s - loss: 0.6347 - accuracy: 0.9444 - val_loss: 0.6034 - val_accuracy: 0.8889 - 166ms/epoch - 18ms/step\n",
      "Epoch 237/300\n",
      "9/9 - 0s - loss: 0.6256 - accuracy: 0.9111 - val_loss: 0.5974 - val_accuracy: 0.8889 - 61ms/epoch - 7ms/step\n",
      "Epoch 238/300\n",
      "9/9 - 0s - loss: 0.6167 - accuracy: 0.9111 - val_loss: 0.6045 - val_accuracy: 0.8889 - 56ms/epoch - 6ms/step\n",
      "Epoch 239/300\n",
      "9/9 - 0s - loss: 0.6158 - accuracy: 0.8444 - val_loss: 0.5917 - val_accuracy: 0.8889 - 63ms/epoch - 7ms/step\n",
      "Epoch 240/300\n",
      "9/9 - 0s - loss: 0.6106 - accuracy: 0.9444 - val_loss: 0.5942 - val_accuracy: 1.0000 - 42ms/epoch - 5ms/step\n",
      "Epoch 241/300\n",
      "9/9 - 0s - loss: 0.6144 - accuracy: 0.9333 - val_loss: 0.5904 - val_accuracy: 1.0000 - 43ms/epoch - 5ms/step\n",
      "Epoch 242/300\n",
      "9/9 - 0s - loss: 0.6268 - accuracy: 0.8889 - val_loss: 0.5837 - val_accuracy: 1.0000 - 48ms/epoch - 5ms/step\n",
      "Epoch 243/300\n",
      "9/9 - 0s - loss: 0.6062 - accuracy: 0.8889 - val_loss: 0.5793 - val_accuracy: 0.8889 - 48ms/epoch - 5ms/step\n",
      "Epoch 244/300\n",
      "9/9 - 0s - loss: 0.5955 - accuracy: 0.9333 - val_loss: 0.5827 - val_accuracy: 1.0000 - 63ms/epoch - 7ms/step\n",
      "Epoch 245/300\n",
      "9/9 - 0s - loss: 0.6056 - accuracy: 0.9222 - val_loss: 0.5780 - val_accuracy: 1.0000 - 47ms/epoch - 5ms/step\n",
      "Epoch 246/300\n",
      "9/9 - 0s - loss: 0.6275 - accuracy: 0.8778 - val_loss: 0.5675 - val_accuracy: 1.0000 - 73ms/epoch - 8ms/step\n",
      "Epoch 247/300\n",
      "9/9 - 0s - loss: 0.5879 - accuracy: 0.8889 - val_loss: 0.6024 - val_accuracy: 0.7778 - 52ms/epoch - 6ms/step\n",
      "Epoch 248/300\n",
      "9/9 - 0s - loss: 0.5812 - accuracy: 0.8889 - val_loss: 0.5636 - val_accuracy: 0.8889 - 68ms/epoch - 8ms/step\n",
      "Epoch 249/300\n",
      "9/9 - 0s - loss: 0.6209 - accuracy: 0.8889 - val_loss: 0.5789 - val_accuracy: 0.7778 - 52ms/epoch - 6ms/step\n",
      "Epoch 250/300\n",
      "9/9 - 0s - loss: 0.6018 - accuracy: 0.8778 - val_loss: 0.5574 - val_accuracy: 1.0000 - 46ms/epoch - 5ms/step\n",
      "Epoch 251/300\n",
      "9/9 - 0s - loss: 0.5733 - accuracy: 0.9111 - val_loss: 0.5548 - val_accuracy: 1.0000 - 108ms/epoch - 12ms/step\n",
      "Epoch 252/300\n",
      "9/9 - 0s - loss: 0.5816 - accuracy: 0.9333 - val_loss: 0.5620 - val_accuracy: 1.0000 - 46ms/epoch - 5ms/step\n",
      "Epoch 253/300\n",
      "9/9 - 0s - loss: 0.5694 - accuracy: 0.9889 - val_loss: 0.5495 - val_accuracy: 1.0000 - 41ms/epoch - 5ms/step\n",
      "Epoch 254/300\n",
      "9/9 - 0s - loss: 0.5664 - accuracy: 0.9556 - val_loss: 0.5481 - val_accuracy: 1.0000 - 42ms/epoch - 5ms/step\n",
      "Epoch 255/300\n",
      "9/9 - 0s - loss: 0.5628 - accuracy: 0.9667 - val_loss: 0.5470 - val_accuracy: 1.0000 - 43ms/epoch - 5ms/step\n",
      "Epoch 256/300\n",
      "9/9 - 0s - loss: 0.5613 - accuracy: 0.9333 - val_loss: 0.5405 - val_accuracy: 0.8889 - 47ms/epoch - 5ms/step\n",
      "Epoch 257/300\n",
      "9/9 - 0s - loss: 0.5656 - accuracy: 0.9556 - val_loss: 0.5408 - val_accuracy: 0.8889 - 48ms/epoch - 5ms/step\n",
      "Epoch 258/300\n",
      "9/9 - 0s - loss: 0.5602 - accuracy: 0.9556 - val_loss: 0.5510 - val_accuracy: 0.8889 - 48ms/epoch - 5ms/step\n",
      "Epoch 259/300\n",
      "9/9 - 0s - loss: 0.5547 - accuracy: 0.9111 - val_loss: 0.5636 - val_accuracy: 0.7778 - 48ms/epoch - 5ms/step\n",
      "Epoch 260/300\n",
      "9/9 - 0s - loss: 0.5571 - accuracy: 0.8778 - val_loss: 0.5323 - val_accuracy: 1.0000 - 48ms/epoch - 5ms/step\n",
      "Epoch 261/300\n",
      "9/9 - 0s - loss: 0.5603 - accuracy: 0.9333 - val_loss: 0.5426 - val_accuracy: 0.8889 - 44ms/epoch - 5ms/step\n",
      "Epoch 262/300\n",
      "9/9 - 0s - loss: 0.5745 - accuracy: 0.8667 - val_loss: 0.5204 - val_accuracy: 1.0000 - 53ms/epoch - 6ms/step\n",
      "Epoch 263/300\n",
      "9/9 - 0s - loss: 0.5453 - accuracy: 0.9111 - val_loss: 0.5194 - val_accuracy: 1.0000 - 41ms/epoch - 5ms/step\n",
      "Epoch 264/300\n",
      "9/9 - 0s - loss: 0.5433 - accuracy: 0.9667 - val_loss: 0.5144 - val_accuracy: 1.0000 - 69ms/epoch - 8ms/step\n",
      "Epoch 265/300\n",
      "9/9 - 0s - loss: 0.5296 - accuracy: 0.9556 - val_loss: 0.5338 - val_accuracy: 0.8889 - 42ms/epoch - 5ms/step\n",
      "Epoch 266/300\n",
      "9/9 - 0s - loss: 0.5402 - accuracy: 0.8889 - val_loss: 0.5353 - val_accuracy: 0.8889 - 62ms/epoch - 7ms/step\n",
      "Epoch 267/300\n",
      "9/9 - 0s - loss: 0.5454 - accuracy: 0.9111 - val_loss: 0.5148 - val_accuracy: 1.0000 - 56ms/epoch - 6ms/step\n",
      "Epoch 268/300\n",
      "9/9 - 0s - loss: 0.5452 - accuracy: 0.9444 - val_loss: 0.5129 - val_accuracy: 0.8889 - 51ms/epoch - 6ms/step\n"
     ]
    },
    {
     "name": "stdout",
     "output_type": "stream",
     "text": [
      "Epoch 269/300\n",
      "9/9 - 0s - loss: 0.5369 - accuracy: 0.9444 - val_loss: 0.5167 - val_accuracy: 0.8889 - 52ms/epoch - 6ms/step\n",
      "Epoch 270/300\n",
      "9/9 - 0s - loss: 0.5277 - accuracy: 0.9333 - val_loss: 0.5123 - val_accuracy: 1.0000 - 60ms/epoch - 7ms/step\n",
      "Epoch 271/300\n",
      "9/9 - 0s - loss: 0.5262 - accuracy: 0.9222 - val_loss: 0.5030 - val_accuracy: 1.0000 - 42ms/epoch - 5ms/step\n",
      "Epoch 272/300\n",
      "9/9 - 0s - loss: 0.5309 - accuracy: 0.9444 - val_loss: 0.5272 - val_accuracy: 0.8889 - 43ms/epoch - 5ms/step\n",
      "Epoch 273/300\n",
      "9/9 - 0s - loss: 0.5213 - accuracy: 0.9556 - val_loss: 0.5114 - val_accuracy: 0.8889 - 46ms/epoch - 5ms/step\n",
      "Epoch 274/300\n",
      "9/9 - 0s - loss: 0.5299 - accuracy: 0.9333 - val_loss: 0.4906 - val_accuracy: 1.0000 - 46ms/epoch - 5ms/step\n",
      "Epoch 275/300\n",
      "9/9 - 0s - loss: 0.5277 - accuracy: 0.9556 - val_loss: 0.4959 - val_accuracy: 0.8889 - 48ms/epoch - 5ms/step\n",
      "Epoch 276/300\n",
      "9/9 - 0s - loss: 0.5216 - accuracy: 0.9556 - val_loss: 0.4959 - val_accuracy: 1.0000 - 42ms/epoch - 5ms/step\n",
      "Epoch 277/300\n",
      "9/9 - 0s - loss: 0.5072 - accuracy: 0.9556 - val_loss: 0.5003 - val_accuracy: 0.8889 - 96ms/epoch - 11ms/step\n",
      "Epoch 278/300\n",
      "9/9 - 0s - loss: 0.5167 - accuracy: 0.9222 - val_loss: 0.4825 - val_accuracy: 1.0000 - 44ms/epoch - 5ms/step\n",
      "Epoch 279/300\n",
      "9/9 - 0s - loss: 0.5050 - accuracy: 0.9556 - val_loss: 0.5160 - val_accuracy: 0.7778 - 67ms/epoch - 7ms/step\n",
      "Epoch 280/300\n",
      "9/9 - 0s - loss: 0.5203 - accuracy: 0.9333 - val_loss: 0.4826 - val_accuracy: 1.0000 - 48ms/epoch - 5ms/step\n",
      "Epoch 281/300\n",
      "9/9 - 0s - loss: 0.5142 - accuracy: 0.9444 - val_loss: 0.4765 - val_accuracy: 1.0000 - 44ms/epoch - 5ms/step\n",
      "Epoch 282/300\n",
      "9/9 - 0s - loss: 0.4974 - accuracy: 0.9667 - val_loss: 0.4718 - val_accuracy: 1.0000 - 42ms/epoch - 5ms/step\n",
      "Epoch 283/300\n",
      "9/9 - 0s - loss: 0.4903 - accuracy: 0.9667 - val_loss: 0.4735 - val_accuracy: 1.0000 - 41ms/epoch - 5ms/step\n",
      "Epoch 284/300\n",
      "9/9 - 0s - loss: 0.4972 - accuracy: 0.9000 - val_loss: 0.4719 - val_accuracy: 0.8889 - 42ms/epoch - 5ms/step\n",
      "Epoch 285/300\n",
      "9/9 - 0s - loss: 0.5030 - accuracy: 0.9556 - val_loss: 0.4626 - val_accuracy: 1.0000 - 40ms/epoch - 4ms/step\n",
      "Epoch 286/300\n",
      "9/9 - 0s - loss: 0.4799 - accuracy: 0.9778 - val_loss: 0.4845 - val_accuracy: 0.8889 - 90ms/epoch - 10ms/step\n",
      "Epoch 287/300\n",
      "9/9 - 0s - loss: 0.4920 - accuracy: 0.9333 - val_loss: 0.4663 - val_accuracy: 0.8889 - 44ms/epoch - 5ms/step\n",
      "Epoch 288/300\n",
      "9/9 - 0s - loss: 0.4800 - accuracy: 0.9556 - val_loss: 0.4614 - val_accuracy: 0.8889 - 43ms/epoch - 5ms/step\n",
      "Epoch 289/300\n",
      "9/9 - 0s - loss: 0.4961 - accuracy: 0.9556 - val_loss: 0.4775 - val_accuracy: 0.8889 - 66ms/epoch - 7ms/step\n",
      "Epoch 290/300\n",
      "9/9 - 0s - loss: 0.4789 - accuracy: 0.9333 - val_loss: 0.4724 - val_accuracy: 0.8889 - 47ms/epoch - 5ms/step\n",
      "Epoch 291/300\n",
      "9/9 - 0s - loss: 0.4620 - accuracy: 0.9556 - val_loss: 0.4498 - val_accuracy: 1.0000 - 44ms/epoch - 5ms/step\n",
      "Epoch 292/300\n",
      "9/9 - 0s - loss: 0.4866 - accuracy: 0.9444 - val_loss: 0.4487 - val_accuracy: 1.0000 - 44ms/epoch - 5ms/step\n",
      "Epoch 293/300\n",
      "9/9 - 0s - loss: 0.4754 - accuracy: 0.9333 - val_loss: 0.4623 - val_accuracy: 0.8889 - 64ms/epoch - 7ms/step\n",
      "Epoch 294/300\n",
      "9/9 - 0s - loss: 0.4729 - accuracy: 0.9667 - val_loss: 0.4493 - val_accuracy: 0.8889 - 44ms/epoch - 5ms/step\n",
      "Epoch 295/300\n",
      "9/9 - 0s - loss: 0.4653 - accuracy: 0.9222 - val_loss: 0.4436 - val_accuracy: 1.0000 - 43ms/epoch - 5ms/step\n",
      "Epoch 296/300\n",
      "9/9 - 0s - loss: 0.4527 - accuracy: 0.9889 - val_loss: 0.4548 - val_accuracy: 0.8889 - 40ms/epoch - 4ms/step\n",
      "Epoch 297/300\n",
      "9/9 - 0s - loss: 0.4606 - accuracy: 0.9444 - val_loss: 0.4690 - val_accuracy: 0.8889 - 41ms/epoch - 5ms/step\n",
      "Epoch 298/300\n",
      "9/9 - 0s - loss: 0.4750 - accuracy: 0.9778 - val_loss: 0.4486 - val_accuracy: 0.8889 - 44ms/epoch - 5ms/step\n",
      "Epoch 299/300\n",
      "9/9 - 0s - loss: 0.4554 - accuracy: 0.9333 - val_loss: 0.4348 - val_accuracy: 1.0000 - 41ms/epoch - 5ms/step\n",
      "Epoch 300/300\n",
      "9/9 - 0s - loss: 0.4411 - accuracy: 0.9778 - val_loss: 0.4442 - val_accuracy: 1.0000 - 47ms/epoch - 5ms/step\n"
     ]
    }
   ],
   "source": [
    "hist = model.fit(x_train, Y_train, \n",
    "                epochs=300,\n",
    "                batch_size=10, # 한번에 읽어드리는 데이터량\n",
    "                verbose=2, # 학습결과 출력 옵션 : 0:출력없음, 1: 기본값, 2:에포크별로 상세출력 \n",
    "                validation_data=(x_val, Y_val)\n",
    "                )"
   ]
  },
  {
   "cell_type": "markdown",
   "id": "1dd0579d",
   "metadata": {},
   "source": [
    "# 6. 모델 평가하기(모델학습과정 살펴보고, evalute)"
   ]
  },
  {
   "cell_type": "code",
   "execution_count": 73,
   "id": "a311dad7",
   "metadata": {},
   "outputs": [
    {
     "data": {
      "text/plain": [
       "dict_keys(['loss', 'accuracy', 'val_loss', 'val_accuracy'])"
      ]
     },
     "execution_count": 73,
     "metadata": {},
     "output_type": "execute_result"
    }
   ],
   "source": [
    "# hist.history\n",
    "hist.history.keys()"
   ]
  },
  {
   "cell_type": "code",
   "execution_count": 85,
   "id": "a64aeb40",
   "metadata": {},
   "outputs": [
    {
     "data": {
      "image/png": "[encoded data removed]",
      "text/plain": [
       "<Figure size 1000x800 with 2 Axes>"
      ]
     },
     "metadata": {},
     "output_type": "display_data"
    }
   ],
   "source": [
    "# 모델 학습과정 시각화\n",
    "import matplotlib.pyplot as plt\n",
    "\n",
    "fig, loss_ax = plt.subplots(figsize=(10,8))\n",
    "loss_ax.plot(hist.history['loss'],'y',label='train loss')\n",
    "loss_ax.plot(hist.history['val_loss'],'r',label='val loss')\n",
    "\n",
    "loss_ax.set_xlabel('epoch')\n",
    "loss_ax.set_ylabel('loss')\n",
    "\n",
    "acc_ax = loss_ax.twinx() # loss_ax와 x축을 공유하는 acc_ax생성\n",
    "acc_ax.plot(hist.history['accuracy'],'g',label='tarin accuracy') # \n",
    "acc_ax.plot(hist.history['val_accuracy'],'b',label='val accuracy') # \n",
    "acc_ax.set_ylabel('accuracy')\n",
    "loss_ax.legend(loc='upper left')\n",
    "acc_ax.legend(loc='center right')\n",
    "plt.show()"
   ]
  },
  {
   "cell_type": "code",
   "execution_count": 88,
   "id": "1be7271b",
   "metadata": {},
   "outputs": [
    {
     "name": "stdout",
     "output_type": "stream",
     "text": [
      "9/9 [==============================] - 0s 3ms/step - loss: 0.4442 - accuracy: 1.0000\n"
     ]
    }
   ],
   "source": [
    "# 모델 평가\n",
    "score = model.evaluate(x_test, Y_test, batch_size=1)"
   ]
  },
  {
   "cell_type": "code",
   "execution_count": 89,
   "id": "af16b7b1",
   "metadata": {},
   "outputs": [
    {
     "data": {
      "text/plain": [
       "[0.44416558742523193, 1.0]"
      ]
     },
     "execution_count": 89,
     "metadata": {},
     "output_type": "execute_result"
    }
   ],
   "source": [
    "score # loss, accuracy"
   ]
  },
  {
   "cell_type": "code",
   "execution_count": 91,
   "id": "39165d48",
   "metadata": {},
   "outputs": [
    {
     "name": "stdout",
     "output_type": "stream",
     "text": [
      "평가된 loss 0.44416558742523193\n",
      "평가된 accuracy 100.0 %\n"
     ]
    }
   ],
   "source": [
    "print('평가된 loss', score[0])\n",
    "print('평가된 accuracy', score[1]*100, '%')"
   ]
  },
  {
   "cell_type": "markdown",
   "id": "4fce76a7",
   "metadata": {},
   "source": [
    "# 7. 모델 사용하기"
   ]
  },
  {
   "cell_type": "code",
   "execution_count": 94,
   "id": "d16b1bc3",
   "metadata": {},
   "outputs": [
    {
     "name": "stdout",
     "output_type": "stream",
     "text": [
      "1/1 [==============================] - 0s 21ms/step\n"
     ]
    },
    {
     "data": {
      "text/plain": [
       "array([[9.3232067e-10, 1.0298652e-09, 9.7629271e-02, 2.8901423e-12,\n",
       "        7.9225510e-01, 9.5572057e-12, 1.0882133e-01, 5.7588979e-11,\n",
       "        1.2937587e-03, 7.9561288e-11, 4.4566679e-07, 2.4719305e-14,\n",
       "        7.6192511e-11, 3.5766453e-12, 1.1788559e-13, 1.9129958e-11,\n",
       "        3.6813884e-18, 3.5687301e-14, 4.6741975e-22]], dtype=float32)"
      ]
     },
     "execution_count": 94,
     "metadata": {},
     "output_type": "execute_result"
    }
   ],
   "source": [
    "H = model.predict(np.array([[2]]))\n",
    "H"
   ]
  },
  {
   "cell_type": "code",
   "execution_count": 95,
   "id": "6a9f65a4",
   "metadata": {},
   "outputs": [
    {
     "name": "stdout",
     "output_type": "stream",
     "text": [
      "1/1 [==============================] - 0s 22ms/step\n"
     ]
    },
    {
     "data": {
      "text/plain": [
       "4"
      ]
     },
     "execution_count": 95,
     "metadata": {},
     "output_type": "execute_result"
    }
   ],
   "source": [
    "# 분류분석의 예측은 predict결과를 argmax()\n",
    "model.predict(np.array([[2]])).argmax()"
   ]
  },
  {
   "cell_type": "code",
   "execution_count": 96,
   "id": "5cf19cf8",
   "metadata": {},
   "outputs": [
    {
     "data": {
      "text/plain": [
       "79.22551035881042"
      ]
     },
     "execution_count": 96,
     "metadata": {},
     "output_type": "execute_result"
    }
   ],
   "source": [
    "# 4를 몇%확률로 예측했는지\n",
    "H[0, H.argmax()]*100"
   ]
  },
  {
   "cell_type": "markdown",
   "id": "e779ab2a",
   "metadata": {},
   "source": [
    "# 8. 모델 저장하기"
   ]
  },
  {
   "cell_type": "code",
   "execution_count": 100,
   "id": "ea0e695a",
   "metadata": {},
   "outputs": [],
   "source": [
    "# model.save('./model/02_deep.h5')\n",
    "\n",
    "from tensorflow.keras.models import save_model\n",
    "save_model(model,'./model/02_deep.h5')\n",
    "\n"
   ]
  },
  {
   "cell_type": "markdown",
   "id": "d9a24702",
   "metadata": {},
   "source": [
    "### 저장된 모델 사용하기"
   ]
  },
  {
   "cell_type": "code",
   "execution_count": 101,
   "id": "7c5abe68",
   "metadata": {},
   "outputs": [],
   "source": [
    "from tensorflow.keras.models import load_model\n",
    "model2 = load_model('./model/02_deep.h5')"
   ]
  },
  {
   "cell_type": "code",
   "execution_count": 102,
   "id": "a5d48f92",
   "metadata": {},
   "outputs": [
    {
     "name": "stdout",
     "output_type": "stream",
     "text": [
      "1/1 [==============================] - 0s 81ms/step\n"
     ]
    },
    {
     "data": {
      "text/plain": [
       "8"
      ]
     },
     "execution_count": 102,
     "metadata": {},
     "output_type": "execute_result"
    }
   ],
   "source": [
    "model2.predict(np.array([[4]])).argmax()"
   ]
  }
 ],
 "metadata": {
  "kernelspec": {
   "display_name": "ml-dl-nlp",
   "language": "python",
   "name": "ml-dl-nlp"
  },
  "language_info": {
   "codemirror_mode": {
    "name": "ipython",
    "version": 3
   },
   "file_extension": ".py",
   "mimetype": "text/x-python",
   "name": "python",
   "nbconvert_exporter": "python",
   "pygments_lexer": "ipython3",
   "version": "3.9.23"
  },
  "toc": {
   "base_numbering": 1,
   "nav_menu": {},
   "number_sections": false,
   "sideBar": true,
   "skip_h1_title": false,
   "title_cell": "Table of Contents",
   "title_sidebar": "Contents",
   "toc_cell": false,
   "toc_position": {
    "height": "calc(100% - 180px)",
    "left": "10px",
    "top": "150px",
    "width": "262px"
   },
   "toc_section_display": true,
   "toc_window_display": true
  }
 },
 "nbformat": 4,
 "nbformat_minor": 5
}
