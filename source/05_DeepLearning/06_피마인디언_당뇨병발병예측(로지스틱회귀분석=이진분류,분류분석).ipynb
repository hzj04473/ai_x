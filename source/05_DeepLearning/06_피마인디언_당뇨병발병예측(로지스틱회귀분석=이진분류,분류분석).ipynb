{
 "cells": [
  {
   "cell_type": "code",
   "execution_count": 43,
   "id": "3050dd55",
   "metadata": {},
   "outputs": [
    {
     "data": {
      "text/html": [
       "\n",
       "<style>\n",
       "* {font-family:D2Coding;}\n",
       "div.container{width:87% !important;}\n",
       "div.cell.code_cell.rendered{width:100%;}\n",
       "div.CodeMirror {font-size:12pt;}\n",
       "div.output {font-size:12pt; font-weight:bold;}\n",
       "div.input { font-size:12pt;}\n",
       "div.prompt {min-width:70px;}\n",
       "div#toc-wrapper{padding-top:120px;}\n",
       "div.text_cell_render ul li{font-size:12pt;padding:3px;}\n",
       "table.dataframe{font-size:12px;}\n",
       "</style>\n"
      ],
      "text/plain": [
       "<IPython.core.display.HTML object>"
      ]
     },
     "metadata": {},
     "output_type": "display_data"
    }
   ],
   "source": [
    "from IPython.display import display, HTML\n",
    "\n",
    "display(\n",
    "    HTML(\"\"\"\n",
    "<style>\n",
    "* {font-family:D2Coding;}\n",
    "div.container{width:87% !important;}\n",
    "div.cell.code_cell.rendered{width:100%;}\n",
    "div.CodeMirror {font-size:12pt;}\n",
    "div.output {font-size:12pt; font-weight:bold;}\n",
    "div.input { font-size:12pt;}\n",
    "div.prompt {min-width:70px;}\n",
    "div#toc-wrapper{padding-top:120px;}\n",
    "div.text_cell_render ul li{font-size:12pt;padding:3px;}\n",
    "table.dataframe{font-size:12px;}\n",
    "</style>\n",
    "\"\"\"))"
   ]
  },
  {
   "cell_type": "markdown",
   "id": "7fc2ced6",
   "metadata": {},
   "source": [
    "<font size=5 color=red>06_피마인디언_당뇨병발병예측(로지스틱회귀분석=인진분류,분류분석)</font>"
   ]
  },
  {
   "cell_type": "code",
   "execution_count": 44,
   "id": "442a1695",
   "metadata": {},
   "outputs": [],
   "source": [
    "import numpy as np\n",
    "import pandas as pd\n",
    "import sys\n",
    "from tensorflow.keras import utils # utils.tocategorical\n",
    "from tensorflow.keras.models import Sequential\n",
    "from tensorflow.keras.layers import Input, Dense\n",
    "from matplotlib import pyplot as plt"
   ]
  },
  {
   "cell_type": "markdown",
   "id": "77c61cb1",
   "metadata": {},
   "source": [
    "# 로직스틱회귀분석(이진분류)\n",
    "\n",
    "## 1. 데이터셋 생성 & 전처리"
   ]
  },
  {
   "cell_type": "code",
   "execution_count": 3,
   "id": "a2b7d5ed",
   "metadata": {},
   "outputs": [
    {
     "name": "stdout",
     "output_type": "stream",
     "text": [
      "<class 'pandas.core.frame.DataFrame'>\n",
      "RangeIndex: 768 entries, 0 to 767\n",
      "Data columns (total 9 columns):\n",
      " #   Column  Non-Null Count  Dtype  \n",
      "---  ------  --------------  -----  \n",
      " 0   0       768 non-null    int64  \n",
      " 1   1       768 non-null    int64  \n",
      " 2   2       768 non-null    int64  \n",
      " 3   3       768 non-null    int64  \n",
      " 4   4       768 non-null    int64  \n",
      " 5   5       768 non-null    float64\n",
      " 6   6       768 non-null    float64\n",
      " 7   7       768 non-null    int64  \n",
      " 8   8       768 non-null    int64  \n",
      "dtypes: float64(2), int64(7)\n",
      "memory usage: 54.1 KB\n"
     ]
    },
    {
     "data": {
      "text/plain": [
       "(768, 9)"
      ]
     },
     "execution_count": 3,
     "metadata": {},
     "output_type": "execute_result"
    }
   ],
   "source": [
    "df = pd.read_csv('data/pima-indians-diabetes.csv', comment='#', header=None)\n",
    "df.info() # 결측치 없음\n",
    "df.shape"
   ]
  },
  {
   "cell_type": "code",
   "execution_count": 4,
   "id": "f08503cb",
   "metadata": {},
   "outputs": [
    {
     "data": {
      "text/plain": [
       "0    500\n",
       "1    268\n",
       "Name: 8, dtype: int64"
      ]
     },
     "execution_count": 4,
     "metadata": {},
     "output_type": "execute_result"
    }
   ],
   "source": [
    "# 타켓 변수의 균형\n",
    "df.iloc[:,-1].value_counts()"
   ]
  },
  {
   "cell_type": "code",
   "execution_count": 5,
   "id": "bdcec83b",
   "metadata": {},
   "outputs": [
    {
     "data": {
      "text/html": [
       "<div>\n",
       "<style scoped>\n",
       "    .dataframe tbody tr th:only-of-type {\n",
       "        vertical-align: middle;\n",
       "    }\n",
       "\n",
       "    .dataframe tbody tr th {\n",
       "        vertical-align: top;\n",
       "    }\n",
       "\n",
       "    .dataframe thead th {\n",
       "        text-align: right;\n",
       "    }\n",
       "</style>\n",
       "<table border=\"1\" class=\"dataframe\">\n",
       "  <thead>\n",
       "    <tr style=\"text-align: right;\">\n",
       "      <th></th>\n",
       "      <th>0</th>\n",
       "      <th>1</th>\n",
       "      <th>2</th>\n",
       "      <th>3</th>\n",
       "      <th>4</th>\n",
       "      <th>5</th>\n",
       "      <th>6</th>\n",
       "      <th>7</th>\n",
       "      <th>8</th>\n",
       "    </tr>\n",
       "  </thead>\n",
       "  <tbody>\n",
       "    <tr>\n",
       "      <th>0</th>\n",
       "      <td>6</td>\n",
       "      <td>148</td>\n",
       "      <td>72</td>\n",
       "      <td>35</td>\n",
       "      <td>0</td>\n",
       "      <td>33.6</td>\n",
       "      <td>0.627</td>\n",
       "      <td>50</td>\n",
       "      <td>1</td>\n",
       "    </tr>\n",
       "    <tr>\n",
       "      <th>1</th>\n",
       "      <td>1</td>\n",
       "      <td>85</td>\n",
       "      <td>66</td>\n",
       "      <td>29</td>\n",
       "      <td>0</td>\n",
       "      <td>26.6</td>\n",
       "      <td>0.351</td>\n",
       "      <td>31</td>\n",
       "      <td>0</td>\n",
       "    </tr>\n",
       "    <tr>\n",
       "      <th>2</th>\n",
       "      <td>8</td>\n",
       "      <td>183</td>\n",
       "      <td>64</td>\n",
       "      <td>0</td>\n",
       "      <td>0</td>\n",
       "      <td>23.3</td>\n",
       "      <td>0.672</td>\n",
       "      <td>32</td>\n",
       "      <td>1</td>\n",
       "    </tr>\n",
       "    <tr>\n",
       "      <th>3</th>\n",
       "      <td>1</td>\n",
       "      <td>89</td>\n",
       "      <td>66</td>\n",
       "      <td>23</td>\n",
       "      <td>94</td>\n",
       "      <td>28.1</td>\n",
       "      <td>0.167</td>\n",
       "      <td>21</td>\n",
       "      <td>0</td>\n",
       "    </tr>\n",
       "    <tr>\n",
       "      <th>4</th>\n",
       "      <td>0</td>\n",
       "      <td>137</td>\n",
       "      <td>40</td>\n",
       "      <td>35</td>\n",
       "      <td>168</td>\n",
       "      <td>43.1</td>\n",
       "      <td>2.288</td>\n",
       "      <td>33</td>\n",
       "      <td>1</td>\n",
       "    </tr>\n",
       "  </tbody>\n",
       "</table>\n",
       "</div>"
      ],
      "text/plain": [
       "   0    1   2   3    4     5      6   7  8\n",
       "0  6  148  72  35    0  33.6  0.627  50  1\n",
       "1  1   85  66  29    0  26.6  0.351  31  0\n",
       "2  8  183  64   0    0  23.3  0.672  32  1\n",
       "3  1   89  66  23   94  28.1  0.167  21  0\n",
       "4  0  137  40  35  168  43.1  2.288  33  1"
      ]
     },
     "execution_count": 5,
     "metadata": {},
     "output_type": "execute_result"
    }
   ],
   "source": [
    "df.head()\n",
    "# X_data = df.iloc[:,-1].values"
   ]
  },
  {
   "cell_type": "code",
   "execution_count": 6,
   "id": "b62f3f97",
   "metadata": {},
   "outputs": [
    {
     "data": {
      "text/plain": [
       "(768, 9)"
      ]
     },
     "execution_count": 6,
     "metadata": {},
     "output_type": "execute_result"
    }
   ],
   "source": [
    "# csv 파일을 numpy 로 읽어오기 : np.loadtxt(결측치가 없는 경우, header도 없는 경우), np.genformattxt(결측치가 있을 경우)\n",
    "dataset = np.loadtxt('data/pima-indians-diabetes.csv', delimiter=',')\n",
    "dataset.shape"
   ]
  },
  {
   "cell_type": "code",
   "execution_count": 7,
   "id": "41aeb36e",
   "metadata": {},
   "outputs": [
    {
     "data": {
      "text/plain": [
       "((700, 8), (700,), (68, 8), (68,))"
      ]
     },
     "execution_count": 7,
     "metadata": {},
     "output_type": "execute_result"
    }
   ],
   "source": [
    "# 데이터 분할 : 학습데이터셋(모델학습용) + 시험데이터셋(모델평가용)\n",
    "X_train = dataset[:700, :-1]\n",
    "y_train = dataset[:700, -1]\n",
    "\n",
    "X_test = dataset[700:, :-1]\n",
    "y_test = dataset[700:, -1]\n",
    "\n",
    "X_train.shape, y_train.shape, X_test.shape, y_test.shape"
   ]
  },
  {
   "cell_type": "markdown",
   "id": "f79ca564",
   "metadata": {},
   "source": [
    "## 2. 모델 구성"
   ]
  },
  {
   "cell_type": "code",
   "execution_count": 8,
   "id": "db2912c2",
   "metadata": {},
   "outputs": [
    {
     "name": "stdout",
     "output_type": "stream",
     "text": [
      "Model: \"sequential\"\n",
      "_________________________________________________________________\n",
      " Layer (type)                Output Shape              Param #   \n",
      "=================================================================\n",
      " dense (Dense)               (None, 32)                288       \n",
      "                                                                 \n",
      " dense_1 (Dense)             (None, 16)                528       \n",
      "                                                                 \n",
      " dense_2 (Dense)             (None, 1)                 17        \n",
      "                                                                 \n",
      "=================================================================\n",
      "Total params: 833\n",
      "Trainable params: 833\n",
      "Non-trainable params: 0\n",
      "_________________________________________________________________\n"
     ]
    },
    {
     "name": "stderr",
     "output_type": "stream",
     "text": [
      "2025-06-12 14:22:05.110573: I tensorflow/core/platform/cpu_feature_guard.cc:193] This TensorFlow binary is optimized with oneAPI Deep Neural Network Library (oneDNN) to use the following CPU instructions in performance-critical operations:  AVX2 FMA\n",
      "To enable them in other operations, rebuild TensorFlow with the appropriate compiler flags.\n"
     ]
    }
   ],
   "source": [
    "model = Sequential()\n",
    "\n",
    "# 입력이 8개 → 16개 → 32개 → 64개 → 32개 → 16개 → 8개 → 결과 1개 \n",
    "# 시간상 아래와 같이    \n",
    "# 입력이 8개 → 32개 → 16개 → 결과 1개\n",
    "#          relu         sigmoid\n",
    "\n",
    "model.add(Input(shape=(8,)))\n",
    "model.add(Dense(units=32, activation='relu'))\n",
    "model.add(Dense(units=16, activation='relu'))\n",
    "model.add(Dense(units=1, activation='sigmoid'))\n",
    "\n",
    "model.summary()"
   ]
  },
  {
   "cell_type": "markdown",
   "id": "d2d6a898",
   "metadata": {},
   "source": [
    "## 3. 학습과정 설정"
   ]
  },
  {
   "cell_type": "code",
   "execution_count": 9,
   "id": "c737244d",
   "metadata": {},
   "outputs": [],
   "source": [
    "model.compile(loss=\"binary_crossentropy\",\n",
    "              optimizer=\"adam\",\n",
    "              metrics=[\"binary_accuracy\"])"
   ]
  },
  {
   "cell_type": "markdown",
   "id": "09a29310",
   "metadata": {},
   "source": [
    "## 4. 학습"
   ]
  },
  {
   "cell_type": "code",
   "execution_count": 10,
   "id": "7a0b8fbd",
   "metadata": {},
   "outputs": [
    {
     "name": "stdout",
     "output_type": "stream",
     "text": [
      "CPU times: user 1.55 s, sys: 152 ms, total: 1.7 s\n",
      "Wall time: 1.3 s\n"
     ]
    }
   ],
   "source": [
    "%%time\n",
    "hist = model.fit(X_train, y_train, # 훈련테이터\n",
    "                 epochs=200, # 학습횟수\n",
    "                 batch_size=350, # 한번에 읽어들이는 데이터 양 (메모리 상태에 따라 조정)\n",
    "                 # validation_data=[X_test, y_test] # 검증데이터\n",
    "                 # validation_split=0.1, # 자동으로 훈련데이터에서 0.1(10%)를 빼서 검증\n",
    "                 verbose=0 # 학습 로그 출력 여부 (0:출력없음, 1:출력, 2: 출력자세히)\n",
    "                )"
   ]
  },
  {
   "cell_type": "markdown",
   "id": "a63fee94",
   "metadata": {},
   "source": [
    "## 5. 모델 평가하기 (학습과정 보기, 평가, 혼동행렬=교차표)"
   ]
  },
  {
   "cell_type": "code",
   "execution_count": 11,
   "id": "a75ce4fa",
   "metadata": {},
   "outputs": [
    {
     "data": {
      "text/plain": [
       "dict_keys(['loss', 'binary_accuracy'])"
      ]
     },
     "execution_count": 11,
     "metadata": {},
     "output_type": "execute_result"
    }
   ],
   "source": [
    "hist.history\n",
    "hist.history.keys()"
   ]
  },
  {
   "cell_type": "code",
   "execution_count": 12,
   "id": "38427f27",
   "metadata": {},
   "outputs": [
    {
     "data": {
      "text/plain": [
       "[<matplotlib.lines.Line2D at 0x14fdb80d0>]"
      ]
     },
     "execution_count": 12,
     "metadata": {},
     "output_type": "execute_result"
    },
    {
     "data": {
      "image/png": "[encoded data removed]",
      "text/plain": [
       "<Figure size 1000x500 with 2 Axes>"
      ]
     },
     "metadata": {},
     "output_type": "display_data"
    }
   ],
   "source": [
    "# 학습과정 표시 (학습데이터에 대한 'loss', 'accuracy')\n",
    "\n",
    "# 'loss', 'accuracy'\n",
    "fig, loss_ax = plt.subplots(figsize=(10,5))\n",
    "loss_ax.plot(hist.history['loss'],'r')\n",
    "\n",
    "acc_ax = loss_ax.twinx() # loss_ax와 x축을 공유하는 acc_ax\n",
    "acc_ax.plot(hist.history['binary_accuracy'],'b')"
   ]
  },
  {
   "cell_type": "code",
   "execution_count": 13,
   "id": "8a292c76",
   "metadata": {},
   "outputs": [
    {
     "name": "stdout",
     "output_type": "stream",
     "text": [
      "22/22 [==============================] - 0s 2ms/step - loss: 0.5156 - binary_accuracy: 0.7600\n"
     ]
    },
    {
     "data": {
      "text/plain": [
       "[0.5155624747276306, 0.7599999904632568]"
      ]
     },
     "execution_count": 13,
     "metadata": {},
     "output_type": "execute_result"
    }
   ],
   "source": [
    "# 모델 평가 (x)\n",
    "\n",
    "model.evaluate(X_train, y_train)"
   ]
  },
  {
   "cell_type": "code",
   "execution_count": 14,
   "id": "ff0e3dbf",
   "metadata": {},
   "outputs": [
    {
     "name": "stdout",
     "output_type": "stream",
     "text": [
      "3/3 [==============================] - 0s 3ms/step - loss: 0.6126 - binary_accuracy: 0.6471\n"
     ]
    },
    {
     "data": {
      "text/plain": [
       "[0.6126115322113037, 0.6470588445663452]"
      ]
     },
     "execution_count": 14,
     "metadata": {},
     "output_type": "execute_result"
    }
   ],
   "source": [
    "# 모델 평가 (O)\n",
    "\n",
    "model.evaluate(X_test, y_test)"
   ]
  },
  {
   "cell_type": "markdown",
   "id": "a3598719",
   "metadata": {},
   "source": [
    "## 혼동행렬 = 교차표\n",
    "\n",
    "- 테스트 데이터 셋의 실제값과 예측값으로 작성된 교차표"
   ]
  },
  {
   "cell_type": "code",
   "execution_count": 15,
   "id": "bbed4b48",
   "metadata": {},
   "outputs": [
    {
     "data": {
      "text/plain": [
       "array([0., 1., 1., 0., 0.])"
      ]
     },
     "execution_count": 15,
     "metadata": {},
     "output_type": "execute_result"
    }
   ],
   "source": [
    "y_test[:5]"
   ]
  },
  {
   "cell_type": "code",
   "execution_count": 16,
   "id": "d825fcca",
   "metadata": {},
   "outputs": [
    {
     "name": "stdout",
     "output_type": "stream",
     "text": [
      "3/3 [==============================] - 0s 2ms/step\n"
     ]
    },
    {
     "data": {
      "text/plain": [
       "array([[0.],\n",
       "       [0.],\n",
       "       [0.],\n",
       "       [0.],\n",
       "       [0.]])"
      ]
     },
     "execution_count": 16,
     "metadata": {},
     "output_type": "execute_result"
    }
   ],
   "source": [
    "# 실재값 : y_test (68개)\n",
    "# 예측값\n",
    "y_hat = (model.predict(X_test) >= 0.4).astype(float)\n",
    "y_hat[:5]"
   ]
  },
  {
   "cell_type": "code",
   "execution_count": 17,
   "id": "410fb1af",
   "metadata": {},
   "outputs": [
    {
     "name": "stdout",
     "output_type": "stream",
     "text": [
      "(68,) (68, 1)\n",
      "31 10\n",
      "15 12\n"
     ]
    }
   ],
   "source": [
    "TN = 0  # 0을 0으로 예측한 경우의 수(T)\n",
    "FP = 0  # 0을 1로 예측한 경우의 수 (F)\n",
    "FN = 0  # 1을 0으로 예측한 경우의 수 (F)\n",
    "TP = 0  # 1을 1로 예측한 경우의 수 (T)\n",
    "\n",
    "print(y_test.shape, y_hat.shape)\n",
    "\n",
    "for y, h in zip(y_test, y_hat.reshape(-1)):\n",
    "    # print(y, h)\n",
    "    if y == 0 and h == 0:\n",
    "        TN += 1\n",
    "    elif y == 0 and h == 1:\n",
    "        FP += 1\n",
    "    elif y == 1 and h == 0:\n",
    "        FN += 1\n",
    "    else:\n",
    "        TP += 1\n",
    "\n",
    "print(TN, FP)\n",
    "print(FN, TP)"
   ]
  },
  {
   "cell_type": "code",
   "execution_count": 18,
   "id": "f8ccf6ca",
   "metadata": {},
   "outputs": [
    {
     "data": {
      "text/html": [
       "<div>\n",
       "<style scoped>\n",
       "    .dataframe tbody tr th:only-of-type {\n",
       "        vertical-align: middle;\n",
       "    }\n",
       "\n",
       "    .dataframe tbody tr th {\n",
       "        vertical-align: top;\n",
       "    }\n",
       "\n",
       "    .dataframe thead th {\n",
       "        text-align: right;\n",
       "    }\n",
       "</style>\n",
       "<table border=\"1\" class=\"dataframe\">\n",
       "  <thead>\n",
       "    <tr style=\"text-align: right;\">\n",
       "      <th>예측값</th>\n",
       "      <th>0.0</th>\n",
       "      <th>1.0</th>\n",
       "    </tr>\n",
       "    <tr>\n",
       "      <th>실제값</th>\n",
       "      <th></th>\n",
       "      <th></th>\n",
       "    </tr>\n",
       "  </thead>\n",
       "  <tbody>\n",
       "    <tr>\n",
       "      <th>0.0</th>\n",
       "      <td>31</td>\n",
       "      <td>10</td>\n",
       "    </tr>\n",
       "    <tr>\n",
       "      <th>1.0</th>\n",
       "      <td>15</td>\n",
       "      <td>12</td>\n",
       "    </tr>\n",
       "  </tbody>\n",
       "</table>\n",
       "</div>"
      ],
      "text/plain": [
       "예측값  0.0  1.0\n",
       "실제값          \n",
       "0.0   31   10\n",
       "1.0   15   12"
      ]
     },
     "execution_count": 18,
     "metadata": {},
     "output_type": "execute_result"
    }
   ],
   "source": [
    "# 교차표\n",
    "ctab = pd.crosstab(y_test, # 실제값\n",
    "                   y_hat.reshape(-1) # 예측값(1차원으로)\n",
    "                  )\n",
    "\n",
    "ctab.index.name = '실제값'\n",
    "ctab.columns.name = '예측값'\n",
    "ctab\n",
    "\n",
    "pd.crosstab(\n",
    "    y_test,  # 실제값\n",
    "    y_hat.reshape(-1),  # 예측값(1차원으로)\n",
    "    rownames=['실제값'],\n",
    "    colnames=['예측값'])"
   ]
  },
  {
   "cell_type": "code",
   "execution_count": 19,
   "id": "8df60a10",
   "metadata": {},
   "outputs": [
    {
     "data": {
      "text/plain": [
       "array([[31, 10],\n",
       "       [15, 12]])"
      ]
     },
     "execution_count": 19,
     "metadata": {},
     "output_type": "execute_result"
    }
   ],
   "source": [
    "# 혼동행렬\n",
    "from sklearn.metrics import confusion_matrix\n",
    "confusion_matrix(y_test, \n",
    "                 y_hat.reshape(-1))"
   ]
  },
  {
   "cell_type": "code",
   "execution_count": 20,
   "id": "b7de95df",
   "metadata": {},
   "outputs": [],
   "source": [
    "# accuracy (정확도) = (TN + TP) / (TN + FP + FN + TP)\n",
    "# precision (정밀도) = TP / (FP + TP) : 예측값기준\n",
    "# recall (재현율) = TP / (FN + TP) : 실재값기준 \n",
    "\n",
    "# f1 score = recall과 precision 의 조화평균\n",
    "\n",
    "#       precision * recall\n",
    "# 2 *  --------------------\n",
    "#       precision + recall\n",
    "\n",
    "# precision ↑ → recall ↓\n",
    "# recall    ↑ → precision ↓ \n",
    "\n",
    "# precision (정밀도)를 높일려면 확실한 것만 Positive로 예측.\n",
    "# recall (재현율)을 놓일려면 조금이라도 가능성이 있으면 Positive로 예측."
   ]
  },
  {
   "cell_type": "code",
   "execution_count": 21,
   "id": "216bd83f",
   "metadata": {},
   "outputs": [
    {
     "name": "stdout",
     "output_type": "stream",
     "text": [
      "accuracy : 0.6323529411764706\n",
      "recall : 0.4444444444444444\n",
      "precision : 0.5454545454545454\n"
     ]
    }
   ],
   "source": [
    "# accuracy\n",
    "print('accuracy :', (TN + TP) / (TN + FP + FN + TP))\n",
    "print('recall :', (TP) / (FN + TP) )\n",
    "print('precision :', (TP) / (FP + TP))"
   ]
  },
  {
   "cell_type": "markdown",
   "id": "74096861",
   "metadata": {},
   "source": [
    "## 6. 모델사용"
   ]
  },
  {
   "cell_type": "code",
   "execution_count": 22,
   "id": "15e0d3c4",
   "metadata": {},
   "outputs": [
    {
     "data": {
      "text/plain": [
       "array([  2.   , 122.   ,  76.   ,  27.   , 200.   ,  35.9  ,   0.483,\n",
       "        26.   ])"
      ]
     },
     "execution_count": 22,
     "metadata": {},
     "output_type": "execute_result"
    }
   ],
   "source": [
    "X_test[0]"
   ]
  },
  {
   "cell_type": "code",
   "execution_count": 23,
   "id": "ac9c1901",
   "metadata": {},
   "outputs": [
    {
     "name": "stdout",
     "output_type": "stream",
     "text": [
      "1/1 [==============================] - 0s 20ms/step\n"
     ]
    },
    {
     "data": {
      "text/plain": [
       "0"
      ]
     },
     "execution_count": 23,
     "metadata": {},
     "output_type": "execute_result"
    }
   ],
   "source": [
    "int(model.predict(np.array([[2, 122, 76, 27, 200, 35.9, 0.483, 26]])) >=0.5)"
   ]
  },
  {
   "cell_type": "code",
   "execution_count": 24,
   "id": "1e8f4cfb",
   "metadata": {},
   "outputs": [
    {
     "name": "stdout",
     "output_type": "stream",
     "text": [
      "1/1 [==============================] - 0s 39ms/step\n"
     ]
    },
    {
     "data": {
      "text/plain": [
       "array([[0],\n",
       "       [0]])"
      ]
     },
     "execution_count": 24,
     "metadata": {},
     "output_type": "execute_result"
    }
   ],
   "source": [
    "model.predict([[2, 122, 76, 27, 200, 35.9, 0.483, 26],\n",
    "              [6., 125., 78., 31., 0., 27.6, 0.565, 49.]]).astype(int)"
   ]
  },
  {
   "cell_type": "markdown",
   "id": "450c4ade",
   "metadata": {},
   "source": [
    "# 분류분석\n",
    "\n",
    "1. 데이터셋 생성 및 전처리 : 훈련셋(600개), 검증셋(100), 테스트셋(68)\n",
    "2. 모델생성(input 8개, output 2개) : 출력층 softmax(출력합을 1) \n",
    "    * model.summary() 파라미터 수와 메모리 확인\n",
    "3. 모델 학습과정 설정 : loss='categorical_crossentropy', metirics=['accuracy']\n",
    "4. 모델 학습 : 훈련셋과 검증셋\n",
    "5. 모델 평가 : 그래프(hist.history), 평가(테스트셋), 교차표(테스트셋)\n",
    "6. 모델 저장 및 사용 : predict()결과에 argmax()\n",
    "    * 결과물 : [0 99.2, 1 0.8]    "
   ]
  },
  {
   "cell_type": "markdown",
   "id": "16123526",
   "metadata": {},
   "source": [
    "## 1. 데이터셋 생성 및 전처리"
   ]
  },
  {
   "cell_type": "code",
   "execution_count": 25,
   "id": "a8cf92d2",
   "metadata": {},
   "outputs": [
    {
     "data": {
      "text/plain": [
       "(768, 9)"
      ]
     },
     "execution_count": 25,
     "metadata": {},
     "output_type": "execute_result"
    }
   ],
   "source": [
    "dataset = np.loadtxt('./data/pima-indians-diabetes.csv', delimiter=',')\n",
    "dataset.shape"
   ]
  },
  {
   "cell_type": "code",
   "execution_count": 26,
   "id": "dadff841",
   "metadata": {},
   "outputs": [
    {
     "data": {
      "text/plain": [
       "((600, 8), (600,), (100, 8), (100,), (68, 8), (68,))"
      ]
     },
     "execution_count": 26,
     "metadata": {},
     "output_type": "execute_result"
    }
   ],
   "source": [
    "# 훈련셋(600), 검증셋(100), 테스트셋(68)\n",
    "X_train = dataset[:600, :-1]\n",
    "y_train = dataset[:600, -1]\n",
    "\n",
    "X_val = dataset[600:700, :-1]\n",
    "y_val = dataset[600:700, -1]\n",
    "\n",
    "X_test = dataset[700:, :-1]\n",
    "y_test = dataset[700:, -1]\n",
    "\n",
    "X_train.shape, y_train.shape, X_val.shape, y_val.shape, X_test.shape, y_test.shape"
   ]
  },
  {
   "cell_type": "code",
   "execution_count": 27,
   "id": "25e97b83",
   "metadata": {},
   "outputs": [
    {
     "data": {
      "text/plain": [
       "((600,), (600, 2), (100, 2), (68, 2))"
      ]
     },
     "execution_count": 27,
     "metadata": {},
     "output_type": "execute_result"
    }
   ],
   "source": [
    "# 타켓변수의 원핫인코딩 (분류분석)\n",
    "\n",
    "# print(y_train[:5])\n",
    "# print(utils.to_categorical(y_train[:5]))\n",
    "\n",
    "Y_train = utils.to_categorical(y_train)\n",
    "Y_val = utils.to_categorical(y_val)\n",
    "Y_test = utils.to_categorical(y_test)\n",
    "\n",
    "y_train.shape, Y_train.shape, Y_val.shape, Y_test.shape\n"
   ]
  },
  {
   "cell_type": "markdown",
   "id": "affdd929",
   "metadata": {},
   "source": [
    "## 2. 모델 생성(input 8개, output 2개)\n",
    "\n",
    "- 과적합 줄이는 단계 추가 (dropout 추가)"
   ]
  },
  {
   "cell_type": "code",
   "execution_count": 28,
   "id": "78e35ea5",
   "metadata": {},
   "outputs": [
    {
     "name": "stdout",
     "output_type": "stream",
     "text": [
      "Model: \"sequential_1\"\n",
      "_________________________________________________________________\n",
      " Layer (type)                Output Shape              Param #   \n",
      "=================================================================\n",
      " dense_3 (Dense)             (None, 32)                288       \n",
      "                                                                 \n",
      " dropout (Dropout)           (None, 32)                0         \n",
      "                                                                 \n",
      " dense_4 (Dense)             (None, 64)                2112      \n",
      "                                                                 \n",
      " dropout_1 (Dropout)         (None, 64)                0         \n",
      "                                                                 \n",
      " dense_5 (Dense)             (None, 16)                1040      \n",
      "                                                                 \n",
      " dropout_2 (Dropout)         (None, 16)                0         \n",
      "                                                                 \n",
      " dense_6 (Dense)             (None, 8)                 136       \n",
      "                                                                 \n",
      " dense_7 (Dense)             (None, 2)                 18        \n",
      "                                                                 \n",
      "=================================================================\n",
      "Total params: 3,594\n",
      "Trainable params: 3,594\n",
      "Non-trainable params: 0\n",
      "_________________________________________________________________\n"
     ]
    }
   ],
   "source": [
    "# 과적합 줄이는 단계 추가\n",
    "from tensorflow.keras.layers import Dropout\n",
    "\n",
    "model = Sequential()\n",
    "\n",
    "model.add(Input(shape=(8,)))\n",
    "model.add(Dense(units=32, activation='relu'))\n",
    "model.add(Dropout(0.2)) # 과적합을 해결하고자 20%를 버린다.\n",
    "model.add(Dense(units=64, activation='relu'))\n",
    "model.add(Dropout(0.1)) # 과적합을 해결하고자 10%를 버린다.\n",
    "model.add(Dense(units=16, activation='relu'))\n",
    "model.add(Dropout(0.2)) # 과적합을 해결하고자 20%를 버린다.\n",
    "model.add(Dense(units=8, activation='relu'))\n",
    "model.add(Dense(units=2, activation='softmax'))\n",
    "\n",
    "model.summary()"
   ]
  },
  {
   "cell_type": "markdown",
   "id": "97507cc7",
   "metadata": {},
   "source": [
    "## 3. 학습과정 설정"
   ]
  },
  {
   "cell_type": "code",
   "execution_count": 29,
   "id": "dc5402e5",
   "metadata": {},
   "outputs": [],
   "source": [
    "model.compile(loss=\"categorical_crossentropy\",\n",
    "              optimizer=\"nadam\",\n",
    "              metrics=[\"accuracy\"])"
   ]
  },
  {
   "cell_type": "markdown",
   "id": "f42c0be8",
   "metadata": {},
   "source": [
    "## 4. 모델학습"
   ]
  },
  {
   "cell_type": "code",
   "execution_count": 30,
   "id": "e9f4dc55",
   "metadata": {},
   "outputs": [
    {
     "name": "stdout",
     "output_type": "stream",
     "text": [
      "Epoch 1/300\n",
      "19/19 [==============================] - 1s 14ms/step - loss: 4.5239 - accuracy: 0.4633 - val_loss: 1.4231 - val_accuracy: 0.6500\n",
      "Epoch 2/300\n",
      "19/19 [==============================] - 0s 6ms/step - loss: 2.3216 - accuracy: 0.5117 - val_loss: 1.0525 - val_accuracy: 0.6400\n",
      "Epoch 3/300\n",
      "19/19 [==============================] - 0s 4ms/step - loss: 1.7427 - accuracy: 0.5450 - val_loss: 0.6837 - val_accuracy: 0.6300\n",
      "Epoch 4/300\n",
      "19/19 [==============================] - 0s 7ms/step - loss: 1.7132 - accuracy: 0.5500 - val_loss: 0.7434 - val_accuracy: 0.6200\n",
      "Epoch 5/300\n",
      "19/19 [==============================] - 0s 4ms/step - loss: 1.1614 - accuracy: 0.5650 - val_loss: 0.6857 - val_accuracy: 0.6200\n",
      "Epoch 6/300\n",
      "19/19 [==============================] - 0s 4ms/step - loss: 0.9440 - accuracy: 0.5900 - val_loss: 0.6513 - val_accuracy: 0.6100\n",
      "Epoch 7/300\n",
      "19/19 [==============================] - 0s 4ms/step - loss: 1.0423 - accuracy: 0.5933 - val_loss: 0.6400 - val_accuracy: 0.6100\n",
      "Epoch 8/300\n",
      "19/19 [==============================] - 0s 6ms/step - loss: 0.8563 - accuracy: 0.6000 - val_loss: 0.6084 - val_accuracy: 0.6700\n",
      "Epoch 9/300\n",
      "19/19 [==============================] - 0s 4ms/step - loss: 0.7955 - accuracy: 0.5950 - val_loss: 0.6031 - val_accuracy: 0.7100\n",
      "Epoch 10/300\n",
      "19/19 [==============================] - 0s 5ms/step - loss: 0.7272 - accuracy: 0.5983 - val_loss: 0.6086 - val_accuracy: 0.7100\n",
      "Epoch 11/300\n",
      "19/19 [==============================] - 0s 7ms/step - loss: 0.7121 - accuracy: 0.5850 - val_loss: 0.6061 - val_accuracy: 0.7300\n",
      "Epoch 12/300\n",
      "19/19 [==============================] - 0s 4ms/step - loss: 0.7165 - accuracy: 0.6050 - val_loss: 0.6055 - val_accuracy: 0.7000\n",
      "Epoch 13/300\n",
      "19/19 [==============================] - 0s 6ms/step - loss: 0.6997 - accuracy: 0.6200 - val_loss: 0.6083 - val_accuracy: 0.7100\n",
      "Epoch 14/300\n",
      "19/19 [==============================] - 0s 5ms/step - loss: 0.6833 - accuracy: 0.6267 - val_loss: 0.6093 - val_accuracy: 0.7100\n",
      "Epoch 15/300\n",
      "19/19 [==============================] - 0s 7ms/step - loss: 0.6765 - accuracy: 0.6517 - val_loss: 0.6110 - val_accuracy: 0.6900\n",
      "Epoch 16/300\n",
      "19/19 [==============================] - 0s 6ms/step - loss: 0.6767 - accuracy: 0.6383 - val_loss: 0.6146 - val_accuracy: 0.6800\n",
      "Epoch 17/300\n",
      "19/19 [==============================] - 0s 6ms/step - loss: 0.6750 - accuracy: 0.6683 - val_loss: 0.6096 - val_accuracy: 0.6700\n",
      "Epoch 18/300\n",
      "19/19 [==============================] - 0s 6ms/step - loss: 0.6641 - accuracy: 0.6417 - val_loss: 0.6114 - val_accuracy: 0.6800\n",
      "Epoch 19/300\n",
      "19/19 [==============================] - 0s 4ms/step - loss: 0.6802 - accuracy: 0.6417 - val_loss: 0.6160 - val_accuracy: 0.6700\n",
      "Epoch 20/300\n",
      "19/19 [==============================] - 0s 4ms/step - loss: 0.6850 - accuracy: 0.6483 - val_loss: 0.6204 - val_accuracy: 0.6800\n",
      "Epoch 21/300\n",
      "19/19 [==============================] - 0s 7ms/step - loss: 0.6614 - accuracy: 0.6550 - val_loss: 0.6215 - val_accuracy: 0.6800\n",
      "Epoch 22/300\n",
      "19/19 [==============================] - 0s 4ms/step - loss: 0.6317 - accuracy: 0.6567 - val_loss: 0.6136 - val_accuracy: 0.6800\n",
      "Epoch 23/300\n",
      "19/19 [==============================] - 0s 5ms/step - loss: 0.6125 - accuracy: 0.6933 - val_loss: 0.6076 - val_accuracy: 0.6800\n",
      "Epoch 24/300\n",
      "19/19 [==============================] - 0s 9ms/step - loss: 0.6406 - accuracy: 0.6550 - val_loss: 0.5985 - val_accuracy: 0.7000\n",
      "Epoch 25/300\n",
      "19/19 [==============================] - 0s 4ms/step - loss: 0.6340 - accuracy: 0.6767 - val_loss: 0.5920 - val_accuracy: 0.6900\n",
      "Epoch 26/300\n",
      "19/19 [==============================] - 0s 6ms/step - loss: 0.6352 - accuracy: 0.6650 - val_loss: 0.5984 - val_accuracy: 0.6900\n",
      "Epoch 27/300\n",
      "19/19 [==============================] - 0s 5ms/step - loss: 0.6182 - accuracy: 0.6750 - val_loss: 0.6051 - val_accuracy: 0.7100\n",
      "Epoch 28/300\n",
      "19/19 [==============================] - 0s 6ms/step - loss: 0.6364 - accuracy: 0.6717 - val_loss: 0.6013 - val_accuracy: 0.7100\n",
      "Epoch 29/300\n",
      "19/19 [==============================] - 0s 7ms/step - loss: 0.6379 - accuracy: 0.6517 - val_loss: 0.6043 - val_accuracy: 0.6700\n",
      "Epoch 30/300\n",
      "19/19 [==============================] - 0s 7ms/step - loss: 0.6218 - accuracy: 0.6883 - val_loss: 0.6035 - val_accuracy: 0.6900\n",
      "Epoch 31/300\n",
      "19/19 [==============================] - 0s 5ms/step - loss: 0.6444 - accuracy: 0.6750 - val_loss: 0.6011 - val_accuracy: 0.6900\n",
      "Epoch 32/300\n",
      "19/19 [==============================] - 0s 4ms/step - loss: 0.6247 - accuracy: 0.6600 - val_loss: 0.5974 - val_accuracy: 0.6900\n",
      "Epoch 33/300\n",
      "19/19 [==============================] - 0s 6ms/step - loss: 0.6225 - accuracy: 0.6750 - val_loss: 0.5969 - val_accuracy: 0.6900\n",
      "Epoch 34/300\n",
      "19/19 [==============================] - 0s 6ms/step - loss: 0.6704 - accuracy: 0.6483 - val_loss: 0.5977 - val_accuracy: 0.6800\n",
      "Epoch 35/300\n",
      "19/19 [==============================] - 0s 4ms/step - loss: 0.6349 - accuracy: 0.6700 - val_loss: 0.5980 - val_accuracy: 0.6800\n",
      "Epoch 36/300\n",
      "19/19 [==============================] - 0s 4ms/step - loss: 0.6117 - accuracy: 0.6733 - val_loss: 0.5950 - val_accuracy: 0.7100\n",
      "Epoch 37/300\n",
      "19/19 [==============================] - 0s 6ms/step - loss: 0.6112 - accuracy: 0.6700 - val_loss: 0.5919 - val_accuracy: 0.6900\n",
      "Epoch 38/300\n",
      "19/19 [==============================] - 0s 6ms/step - loss: 0.6198 - accuracy: 0.6800 - val_loss: 0.5966 - val_accuracy: 0.6800\n",
      "Epoch 39/300\n",
      "19/19 [==============================] - 0s 6ms/step - loss: 0.5984 - accuracy: 0.6883 - val_loss: 0.5992 - val_accuracy: 0.7100\n",
      "Epoch 40/300\n",
      "19/19 [==============================] - 0s 7ms/step - loss: 0.6484 - accuracy: 0.6567 - val_loss: 0.6003 - val_accuracy: 0.6900\n",
      "Epoch 41/300\n",
      "19/19 [==============================] - 0s 7ms/step - loss: 0.6207 - accuracy: 0.6600 - val_loss: 0.5931 - val_accuracy: 0.6900\n",
      "Epoch 42/300\n",
      "19/19 [==============================] - 0s 6ms/step - loss: 0.6121 - accuracy: 0.6883 - val_loss: 0.5973 - val_accuracy: 0.7100\n",
      "Epoch 43/300\n",
      "19/19 [==============================] - 0s 4ms/step - loss: 0.6193 - accuracy: 0.6550 - val_loss: 0.6010 - val_accuracy: 0.6900\n",
      "Epoch 44/300\n",
      "19/19 [==============================] - 0s 6ms/step - loss: 0.6270 - accuracy: 0.6600 - val_loss: 0.5991 - val_accuracy: 0.7000\n",
      "Epoch 45/300\n",
      "19/19 [==============================] - 0s 7ms/step - loss: 0.6130 - accuracy: 0.6733 - val_loss: 0.5927 - val_accuracy: 0.7000\n",
      "Epoch 46/300\n",
      "19/19 [==============================] - 0s 4ms/step - loss: 0.6363 - accuracy: 0.6617 - val_loss: 0.5951 - val_accuracy: 0.7200\n",
      "Epoch 47/300\n",
      "19/19 [==============================] - 0s 7ms/step - loss: 0.6430 - accuracy: 0.6600 - val_loss: 0.5956 - val_accuracy: 0.7000\n",
      "Epoch 48/300\n",
      "19/19 [==============================] - 0s 6ms/step - loss: 0.6114 - accuracy: 0.6533 - val_loss: 0.5948 - val_accuracy: 0.6800\n",
      "Epoch 49/300\n",
      "19/19 [==============================] - 0s 4ms/step - loss: 0.5990 - accuracy: 0.6983 - val_loss: 0.5913 - val_accuracy: 0.7200\n",
      "Epoch 50/300\n",
      "19/19 [==============================] - 0s 6ms/step - loss: 0.6318 - accuracy: 0.6617 - val_loss: 0.5963 - val_accuracy: 0.7100\n",
      "Epoch 51/300\n",
      "19/19 [==============================] - 0s 4ms/step - loss: 0.6098 - accuracy: 0.6800 - val_loss: 0.5904 - val_accuracy: 0.7000\n",
      "Epoch 52/300\n",
      "19/19 [==============================] - 0s 6ms/step - loss: 0.6185 - accuracy: 0.6667 - val_loss: 0.5918 - val_accuracy: 0.6800\n",
      "Epoch 53/300\n",
      "19/19 [==============================] - 0s 7ms/step - loss: 0.6178 - accuracy: 0.6700 - val_loss: 0.5908 - val_accuracy: 0.6800\n",
      "Epoch 54/300\n",
      "19/19 [==============================] - 0s 6ms/step - loss: 0.6194 - accuracy: 0.6900 - val_loss: 0.5978 - val_accuracy: 0.6800\n",
      "Epoch 55/300\n",
      "19/19 [==============================] - 0s 5ms/step - loss: 0.6124 - accuracy: 0.6683 - val_loss: 0.5975 - val_accuracy: 0.6800\n",
      "Epoch 56/300\n",
      "19/19 [==============================] - 0s 4ms/step - loss: 0.6157 - accuracy: 0.6783 - val_loss: 0.5974 - val_accuracy: 0.6800\n",
      "Epoch 57/300\n",
      "19/19 [==============================] - 0s 4ms/step - loss: 0.6050 - accuracy: 0.6883 - val_loss: 0.5918 - val_accuracy: 0.7100\n",
      "Epoch 58/300\n",
      "19/19 [==============================] - 0s 6ms/step - loss: 0.6101 - accuracy: 0.6700 - val_loss: 0.5882 - val_accuracy: 0.7200\n"
     ]
    },
    {
     "name": "stdout",
     "output_type": "stream",
     "text": [
      "Epoch 59/300\n",
      "19/19 [==============================] - 0s 4ms/step - loss: 0.6172 - accuracy: 0.6483 - val_loss: 0.5894 - val_accuracy: 0.7000\n",
      "Epoch 60/300\n",
      "19/19 [==============================] - 0s 4ms/step - loss: 0.6120 - accuracy: 0.6717 - val_loss: 0.5865 - val_accuracy: 0.7100\n",
      "Epoch 61/300\n",
      "19/19 [==============================] - 0s 3ms/step - loss: 0.6141 - accuracy: 0.6717 - val_loss: 0.5806 - val_accuracy: 0.7200\n",
      "Epoch 62/300\n",
      "19/19 [==============================] - 0s 4ms/step - loss: 0.6129 - accuracy: 0.6717 - val_loss: 0.5800 - val_accuracy: 0.7100\n",
      "Epoch 63/300\n",
      "19/19 [==============================] - 0s 4ms/step - loss: 0.6102 - accuracy: 0.6850 - val_loss: 0.5814 - val_accuracy: 0.7000\n",
      "Epoch 64/300\n",
      "19/19 [==============================] - 0s 3ms/step - loss: 0.6092 - accuracy: 0.6667 - val_loss: 0.5857 - val_accuracy: 0.7000\n",
      "Epoch 65/300\n",
      "19/19 [==============================] - 0s 4ms/step - loss: 0.5975 - accuracy: 0.6750 - val_loss: 0.5804 - val_accuracy: 0.7200\n",
      "Epoch 66/300\n",
      "19/19 [==============================] - 0s 4ms/step - loss: 0.6084 - accuracy: 0.6833 - val_loss: 0.5854 - val_accuracy: 0.6900\n",
      "Epoch 67/300\n",
      "19/19 [==============================] - 0s 3ms/step - loss: 0.6245 - accuracy: 0.6783 - val_loss: 0.5840 - val_accuracy: 0.7000\n",
      "Epoch 68/300\n",
      "19/19 [==============================] - 0s 3ms/step - loss: 0.6032 - accuracy: 0.6717 - val_loss: 0.5837 - val_accuracy: 0.7100\n",
      "Epoch 69/300\n",
      "19/19 [==============================] - 0s 3ms/step - loss: 0.5955 - accuracy: 0.6767 - val_loss: 0.5772 - val_accuracy: 0.7100\n",
      "Epoch 70/300\n",
      "19/19 [==============================] - 0s 3ms/step - loss: 0.6108 - accuracy: 0.6867 - val_loss: 0.5799 - val_accuracy: 0.7000\n",
      "Epoch 71/300\n",
      "19/19 [==============================] - 0s 4ms/step - loss: 0.5984 - accuracy: 0.6967 - val_loss: 0.5830 - val_accuracy: 0.6900\n",
      "Epoch 72/300\n",
      "19/19 [==============================] - 0s 3ms/step - loss: 0.5978 - accuracy: 0.6917 - val_loss: 0.5802 - val_accuracy: 0.6900\n",
      "Epoch 73/300\n",
      "19/19 [==============================] - 0s 3ms/step - loss: 0.6221 - accuracy: 0.6617 - val_loss: 0.5892 - val_accuracy: 0.6900\n",
      "Epoch 74/300\n",
      "19/19 [==============================] - 0s 3ms/step - loss: 0.6146 - accuracy: 0.6767 - val_loss: 0.5848 - val_accuracy: 0.6900\n",
      "Epoch 75/300\n",
      "19/19 [==============================] - 0s 4ms/step - loss: 0.5989 - accuracy: 0.6650 - val_loss: 0.5832 - val_accuracy: 0.7100\n",
      "Epoch 76/300\n",
      "19/19 [==============================] - 0s 4ms/step - loss: 0.5813 - accuracy: 0.7033 - val_loss: 0.5791 - val_accuracy: 0.7100\n",
      "Epoch 77/300\n",
      "19/19 [==============================] - 0s 4ms/step - loss: 0.6043 - accuracy: 0.6833 - val_loss: 0.5765 - val_accuracy: 0.7200\n",
      "Epoch 78/300\n",
      "19/19 [==============================] - 0s 4ms/step - loss: 0.5910 - accuracy: 0.6800 - val_loss: 0.5729 - val_accuracy: 0.7100\n",
      "Epoch 79/300\n",
      "19/19 [==============================] - 0s 4ms/step - loss: 0.6020 - accuracy: 0.6700 - val_loss: 0.5782 - val_accuracy: 0.7100\n",
      "Epoch 80/300\n",
      "19/19 [==============================] - 0s 4ms/step - loss: 0.6211 - accuracy: 0.6683 - val_loss: 0.5790 - val_accuracy: 0.7000\n",
      "Epoch 81/300\n",
      "19/19 [==============================] - 0s 3ms/step - loss: 0.6108 - accuracy: 0.6817 - val_loss: 0.5814 - val_accuracy: 0.7000\n",
      "Epoch 82/300\n",
      "19/19 [==============================] - 0s 4ms/step - loss: 0.6001 - accuracy: 0.6850 - val_loss: 0.5791 - val_accuracy: 0.7000\n",
      "Epoch 83/300\n",
      "19/19 [==============================] - 0s 3ms/step - loss: 0.5924 - accuracy: 0.7017 - val_loss: 0.5782 - val_accuracy: 0.7100\n",
      "Epoch 84/300\n",
      "19/19 [==============================] - 0s 4ms/step - loss: 0.5898 - accuracy: 0.6783 - val_loss: 0.5719 - val_accuracy: 0.7100\n",
      "Epoch 85/300\n",
      "19/19 [==============================] - 0s 3ms/step - loss: 0.5962 - accuracy: 0.6800 - val_loss: 0.5722 - val_accuracy: 0.7100\n",
      "Epoch 86/300\n",
      "19/19 [==============================] - 0s 3ms/step - loss: 0.6150 - accuracy: 0.6817 - val_loss: 0.5836 - val_accuracy: 0.7100\n",
      "Epoch 87/300\n",
      "19/19 [==============================] - 0s 4ms/step - loss: 0.5911 - accuracy: 0.6833 - val_loss: 0.5772 - val_accuracy: 0.7100\n",
      "Epoch 88/300\n",
      "19/19 [==============================] - 0s 6ms/step - loss: 0.6158 - accuracy: 0.6933 - val_loss: 0.5834 - val_accuracy: 0.7100\n",
      "Epoch 89/300\n",
      "19/19 [==============================] - 0s 4ms/step - loss: 0.5894 - accuracy: 0.7033 - val_loss: 0.5840 - val_accuracy: 0.7100\n",
      "Epoch 90/300\n",
      "19/19 [==============================] - 0s 4ms/step - loss: 0.5981 - accuracy: 0.6717 - val_loss: 0.5738 - val_accuracy: 0.7200\n",
      "Epoch 91/300\n",
      "19/19 [==============================] - 0s 4ms/step - loss: 0.6068 - accuracy: 0.6833 - val_loss: 0.5654 - val_accuracy: 0.7200\n",
      "Epoch 92/300\n",
      "19/19 [==============================] - 0s 4ms/step - loss: 0.6091 - accuracy: 0.6850 - val_loss: 0.5794 - val_accuracy: 0.7200\n",
      "Epoch 93/300\n",
      "19/19 [==============================] - 0s 4ms/step - loss: 0.5760 - accuracy: 0.7067 - val_loss: 0.5805 - val_accuracy: 0.7100\n",
      "Epoch 94/300\n",
      "19/19 [==============================] - 0s 4ms/step - loss: 0.6013 - accuracy: 0.6967 - val_loss: 0.5777 - val_accuracy: 0.7000\n",
      "Epoch 95/300\n",
      "19/19 [==============================] - 0s 4ms/step - loss: 0.6047 - accuracy: 0.6767 - val_loss: 0.5812 - val_accuracy: 0.7000\n",
      "Epoch 96/300\n",
      "19/19 [==============================] - 0s 4ms/step - loss: 0.5764 - accuracy: 0.6983 - val_loss: 0.5789 - val_accuracy: 0.7000\n",
      "Epoch 97/300\n",
      "19/19 [==============================] - 0s 4ms/step - loss: 0.5974 - accuracy: 0.6900 - val_loss: 0.5739 - val_accuracy: 0.7300\n",
      "Epoch 98/300\n",
      "19/19 [==============================] - 0s 4ms/step - loss: 0.5979 - accuracy: 0.6600 - val_loss: 0.5731 - val_accuracy: 0.7200\n",
      "Epoch 99/300\n",
      "19/19 [==============================] - 0s 4ms/step - loss: 0.6096 - accuracy: 0.6867 - val_loss: 0.5774 - val_accuracy: 0.7300\n",
      "Epoch 100/300\n",
      "19/19 [==============================] - 0s 4ms/step - loss: 0.5759 - accuracy: 0.7000 - val_loss: 0.5766 - val_accuracy: 0.7200\n",
      "Epoch 101/300\n",
      "19/19 [==============================] - 0s 4ms/step - loss: 0.5985 - accuracy: 0.6800 - val_loss: 0.5904 - val_accuracy: 0.6900\n",
      "Epoch 102/300\n",
      "19/19 [==============================] - 0s 4ms/step - loss: 0.5859 - accuracy: 0.6917 - val_loss: 0.5814 - val_accuracy: 0.7000\n",
      "Epoch 103/300\n",
      "19/19 [==============================] - 0s 4ms/step - loss: 0.5935 - accuracy: 0.6917 - val_loss: 0.5793 - val_accuracy: 0.7100\n",
      "Epoch 104/300\n",
      "19/19 [==============================] - 0s 4ms/step - loss: 0.5875 - accuracy: 0.6917 - val_loss: 0.5748 - val_accuracy: 0.7000\n",
      "Epoch 105/300\n",
      "19/19 [==============================] - 0s 4ms/step - loss: 0.5935 - accuracy: 0.6883 - val_loss: 0.5706 - val_accuracy: 0.7000\n",
      "Epoch 106/300\n",
      "19/19 [==============================] - 0s 4ms/step - loss: 0.5898 - accuracy: 0.6767 - val_loss: 0.5789 - val_accuracy: 0.6900\n",
      "Epoch 107/300\n",
      "19/19 [==============================] - 0s 5ms/step - loss: 0.5793 - accuracy: 0.7050 - val_loss: 0.5749 - val_accuracy: 0.7200\n",
      "Epoch 108/300\n",
      "19/19 [==============================] - 0s 4ms/step - loss: 0.5693 - accuracy: 0.7183 - val_loss: 0.5651 - val_accuracy: 0.7200\n",
      "Epoch 109/300\n",
      "19/19 [==============================] - 0s 6ms/step - loss: 0.5925 - accuracy: 0.6983 - val_loss: 0.5761 - val_accuracy: 0.7100\n",
      "Epoch 110/300\n",
      "19/19 [==============================] - 0s 3ms/step - loss: 0.5810 - accuracy: 0.6900 - val_loss: 0.5753 - val_accuracy: 0.7100\n",
      "Epoch 111/300\n",
      "19/19 [==============================] - 0s 4ms/step - loss: 0.5715 - accuracy: 0.7183 - val_loss: 0.5700 - val_accuracy: 0.7000\n",
      "Epoch 112/300\n",
      "19/19 [==============================] - 0s 4ms/step - loss: 0.5810 - accuracy: 0.7017 - val_loss: 0.5735 - val_accuracy: 0.7000\n",
      "Epoch 113/300\n",
      "19/19 [==============================] - 0s 4ms/step - loss: 0.5851 - accuracy: 0.6917 - val_loss: 0.5751 - val_accuracy: 0.6900\n",
      "Epoch 114/300\n",
      "19/19 [==============================] - 0s 4ms/step - loss: 0.5793 - accuracy: 0.6833 - val_loss: 0.5773 - val_accuracy: 0.6900\n",
      "Epoch 115/300\n",
      "19/19 [==============================] - 0s 4ms/step - loss: 0.5837 - accuracy: 0.7000 - val_loss: 0.5781 - val_accuracy: 0.6900\n",
      "Epoch 116/300\n",
      "19/19 [==============================] - 0s 3ms/step - loss: 0.5556 - accuracy: 0.7000 - val_loss: 0.5663 - val_accuracy: 0.7100\n",
      "Epoch 117/300\n",
      "19/19 [==============================] - 0s 4ms/step - loss: 0.5704 - accuracy: 0.7133 - val_loss: 0.5678 - val_accuracy: 0.7100\n",
      "Epoch 118/300\n",
      "19/19 [==============================] - 0s 4ms/step - loss: 0.5800 - accuracy: 0.6867 - val_loss: 0.5643 - val_accuracy: 0.7200\n",
      "Epoch 119/300\n",
      "19/19 [==============================] - 0s 4ms/step - loss: 0.5677 - accuracy: 0.7083 - val_loss: 0.5753 - val_accuracy: 0.7000\n",
      "Epoch 120/300\n",
      "19/19 [==============================] - 0s 3ms/step - loss: 0.5886 - accuracy: 0.6850 - val_loss: 0.5735 - val_accuracy: 0.7000\n",
      "Epoch 121/300\n",
      "19/19 [==============================] - 0s 4ms/step - loss: 0.5748 - accuracy: 0.7133 - val_loss: 0.5653 - val_accuracy: 0.7100\n",
      "Epoch 122/300\n",
      "19/19 [==============================] - 0s 4ms/step - loss: 0.5788 - accuracy: 0.6967 - val_loss: 0.5672 - val_accuracy: 0.7200\n",
      "Epoch 123/300\n",
      "19/19 [==============================] - 0s 4ms/step - loss: 0.5607 - accuracy: 0.6983 - val_loss: 0.5655 - val_accuracy: 0.7100\n",
      "Epoch 124/300\n",
      "19/19 [==============================] - 0s 4ms/step - loss: 0.5853 - accuracy: 0.7017 - val_loss: 0.5749 - val_accuracy: 0.7100\n",
      "Epoch 125/300\n",
      "19/19 [==============================] - 0s 3ms/step - loss: 0.5763 - accuracy: 0.7067 - val_loss: 0.5747 - val_accuracy: 0.7000\n",
      "Epoch 126/300\n",
      "19/19 [==============================] - 0s 4ms/step - loss: 0.5824 - accuracy: 0.6850 - val_loss: 0.5754 - val_accuracy: 0.7000\n",
      "Epoch 127/300\n",
      "19/19 [==============================] - 0s 3ms/step - loss: 0.5682 - accuracy: 0.7033 - val_loss: 0.5776 - val_accuracy: 0.6900\n",
      "Epoch 128/300\n",
      "19/19 [==============================] - 0s 3ms/step - loss: 0.5741 - accuracy: 0.7100 - val_loss: 0.5797 - val_accuracy: 0.7000\n",
      "Epoch 129/300\n",
      "19/19 [==============================] - 0s 4ms/step - loss: 0.5863 - accuracy: 0.6900 - val_loss: 0.5795 - val_accuracy: 0.7000\n",
      "Epoch 130/300\n",
      "19/19 [==============================] - 0s 4ms/step - loss: 0.5672 - accuracy: 0.7050 - val_loss: 0.5707 - val_accuracy: 0.7200\n",
      "Epoch 131/300\n",
      "19/19 [==============================] - 0s 4ms/step - loss: 0.5553 - accuracy: 0.7100 - val_loss: 0.5587 - val_accuracy: 0.7200\n",
      "Epoch 132/300\n",
      "19/19 [==============================] - 0s 4ms/step - loss: 0.5909 - accuracy: 0.6950 - val_loss: 0.5662 - val_accuracy: 0.7100\n",
      "Epoch 133/300\n",
      "19/19 [==============================] - 0s 4ms/step - loss: 0.5883 - accuracy: 0.6917 - val_loss: 0.5666 - val_accuracy: 0.7100\n",
      "Epoch 134/300\n",
      "19/19 [==============================] - 0s 4ms/step - loss: 0.5822 - accuracy: 0.7033 - val_loss: 0.5600 - val_accuracy: 0.7200\n",
      "Epoch 135/300\n",
      "19/19 [==============================] - 0s 4ms/step - loss: 0.5542 - accuracy: 0.7267 - val_loss: 0.5583 - val_accuracy: 0.7100\n",
      "Epoch 136/300\n",
      "19/19 [==============================] - 0s 3ms/step - loss: 0.5619 - accuracy: 0.7050 - val_loss: 0.5574 - val_accuracy: 0.7000\n",
      "Epoch 137/300\n",
      "19/19 [==============================] - 0s 4ms/step - loss: 0.5759 - accuracy: 0.6900 - val_loss: 0.5621 - val_accuracy: 0.6900\n",
      "Epoch 138/300\n",
      "19/19 [==============================] - 0s 4ms/step - loss: 0.5629 - accuracy: 0.7100 - val_loss: 0.5655 - val_accuracy: 0.6900\n",
      "Epoch 139/300\n",
      "19/19 [==============================] - 0s 4ms/step - loss: 0.5672 - accuracy: 0.7167 - val_loss: 0.5554 - val_accuracy: 0.7100\n",
      "Epoch 140/300\n",
      "19/19 [==============================] - 0s 4ms/step - loss: 0.5789 - accuracy: 0.6950 - val_loss: 0.5600 - val_accuracy: 0.7000\n",
      "Epoch 141/300\n",
      "19/19 [==============================] - 0s 4ms/step - loss: 0.5724 - accuracy: 0.7033 - val_loss: 0.5553 - val_accuracy: 0.7200\n",
      "Epoch 142/300\n",
      "19/19 [==============================] - 0s 4ms/step - loss: 0.5556 - accuracy: 0.7267 - val_loss: 0.5521 - val_accuracy: 0.7300\n",
      "Epoch 143/300\n",
      "19/19 [==============================] - 0s 3ms/step - loss: 0.5610 - accuracy: 0.7033 - val_loss: 0.5557 - val_accuracy: 0.7200\n",
      "Epoch 144/300\n",
      "19/19 [==============================] - 0s 4ms/step - loss: 0.5629 - accuracy: 0.7117 - val_loss: 0.5547 - val_accuracy: 0.7100\n",
      "Epoch 145/300\n",
      "19/19 [==============================] - 0s 4ms/step - loss: 0.5668 - accuracy: 0.7083 - val_loss: 0.5575 - val_accuracy: 0.7100\n",
      "Epoch 146/300\n",
      "19/19 [==============================] - 0s 4ms/step - loss: 0.5557 - accuracy: 0.7233 - val_loss: 0.5568 - val_accuracy: 0.7400\n",
      "Epoch 147/300\n",
      "19/19 [==============================] - 0s 6ms/step - loss: 0.5624 - accuracy: 0.7100 - val_loss: 0.5605 - val_accuracy: 0.7100\n",
      "Epoch 148/300\n",
      "19/19 [==============================] - 0s 4ms/step - loss: 0.5370 - accuracy: 0.7350 - val_loss: 0.5514 - val_accuracy: 0.7200\n",
      "Epoch 149/300\n",
      "19/19 [==============================] - 0s 3ms/step - loss: 0.5634 - accuracy: 0.7100 - val_loss: 0.5526 - val_accuracy: 0.7400\n",
      "Epoch 150/300\n",
      "19/19 [==============================] - 0s 3ms/step - loss: 0.5628 - accuracy: 0.7017 - val_loss: 0.5526 - val_accuracy: 0.7100\n",
      "Epoch 151/300\n",
      "19/19 [==============================] - 0s 4ms/step - loss: 0.5858 - accuracy: 0.7017 - val_loss: 0.5670 - val_accuracy: 0.7000\n",
      "Epoch 152/300\n",
      "19/19 [==============================] - 0s 4ms/step - loss: 0.5757 - accuracy: 0.6983 - val_loss: 0.5517 - val_accuracy: 0.7100\n",
      "Epoch 153/300\n",
      "19/19 [==============================] - 0s 3ms/step - loss: 0.5639 - accuracy: 0.7017 - val_loss: 0.5549 - val_accuracy: 0.7100\n",
      "Epoch 154/300\n",
      "19/19 [==============================] - 0s 4ms/step - loss: 0.5776 - accuracy: 0.6900 - val_loss: 0.5559 - val_accuracy: 0.6900\n",
      "Epoch 155/300\n",
      "19/19 [==============================] - 0s 3ms/step - loss: 0.5458 - accuracy: 0.7200 - val_loss: 0.5483 - val_accuracy: 0.7400\n",
      "Epoch 156/300\n",
      "19/19 [==============================] - 0s 4ms/step - loss: 0.5379 - accuracy: 0.7233 - val_loss: 0.5484 - val_accuracy: 0.7300\n",
      "Epoch 157/300\n",
      "19/19 [==============================] - 0s 3ms/step - loss: 0.5481 - accuracy: 0.7317 - val_loss: 0.5433 - val_accuracy: 0.7400\n",
      "Epoch 158/300\n",
      "19/19 [==============================] - 0s 4ms/step - loss: 0.5639 - accuracy: 0.7100 - val_loss: 0.5589 - val_accuracy: 0.7100\n",
      "Epoch 159/300\n",
      "19/19 [==============================] - 0s 4ms/step - loss: 0.5732 - accuracy: 0.6967 - val_loss: 0.5528 - val_accuracy: 0.7200\n",
      "Epoch 160/300\n",
      "19/19 [==============================] - 0s 4ms/step - loss: 0.5663 - accuracy: 0.7083 - val_loss: 0.5518 - val_accuracy: 0.7000\n",
      "Epoch 161/300\n",
      "19/19 [==============================] - 0s 4ms/step - loss: 0.5475 - accuracy: 0.7267 - val_loss: 0.5513 - val_accuracy: 0.7000\n",
      "Epoch 162/300\n",
      "19/19 [==============================] - 0s 4ms/step - loss: 0.5555 - accuracy: 0.7250 - val_loss: 0.5592 - val_accuracy: 0.7100\n",
      "Epoch 163/300\n",
      "19/19 [==============================] - 0s 4ms/step - loss: 0.5490 - accuracy: 0.7183 - val_loss: 0.5383 - val_accuracy: 0.7400\n",
      "Epoch 164/300\n",
      "19/19 [==============================] - 0s 4ms/step - loss: 0.5452 - accuracy: 0.7267 - val_loss: 0.5380 - val_accuracy: 0.7400\n",
      "Epoch 165/300\n",
      "19/19 [==============================] - 0s 4ms/step - loss: 0.5568 - accuracy: 0.7067 - val_loss: 0.5627 - val_accuracy: 0.7200\n",
      "Epoch 166/300\n",
      "19/19 [==============================] - 0s 4ms/step - loss: 0.5452 - accuracy: 0.7150 - val_loss: 0.5474 - val_accuracy: 0.7200\n",
      "Epoch 167/300\n",
      "19/19 [==============================] - 0s 4ms/step - loss: 0.5669 - accuracy: 0.7133 - val_loss: 0.5511 - val_accuracy: 0.7000\n",
      "Epoch 168/300\n",
      "19/19 [==============================] - 0s 4ms/step - loss: 0.5503 - accuracy: 0.7350 - val_loss: 0.5434 - val_accuracy: 0.7200\n",
      "Epoch 169/300\n",
      "19/19 [==============================] - 0s 4ms/step - loss: 0.5608 - accuracy: 0.7100 - val_loss: 0.5477 - val_accuracy: 0.7100\n",
      "Epoch 170/300\n",
      "19/19 [==============================] - 0s 6ms/step - loss: 0.5632 - accuracy: 0.7133 - val_loss: 0.5590 - val_accuracy: 0.7100\n",
      "Epoch 171/300\n",
      "19/19 [==============================] - 0s 4ms/step - loss: 0.5498 - accuracy: 0.7200 - val_loss: 0.5435 - val_accuracy: 0.7400\n",
      "Epoch 172/300\n",
      "19/19 [==============================] - 0s 3ms/step - loss: 0.5593 - accuracy: 0.7117 - val_loss: 0.5514 - val_accuracy: 0.7300\n",
      "Epoch 173/300\n"
     ]
    },
    {
     "name": "stdout",
     "output_type": "stream",
     "text": [
      "19/19 [==============================] - 0s 4ms/step - loss: 0.5403 - accuracy: 0.7117 - val_loss: 0.5333 - val_accuracy: 0.7400\n",
      "Epoch 174/300\n",
      "19/19 [==============================] - 0s 4ms/step - loss: 0.5633 - accuracy: 0.7083 - val_loss: 0.5515 - val_accuracy: 0.7200\n",
      "Epoch 175/300\n",
      "19/19 [==============================] - 0s 4ms/step - loss: 0.5556 - accuracy: 0.7067 - val_loss: 0.5519 - val_accuracy: 0.7300\n",
      "Epoch 176/300\n",
      "19/19 [==============================] - 0s 4ms/step - loss: 0.5639 - accuracy: 0.7033 - val_loss: 0.5604 - val_accuracy: 0.7200\n",
      "Epoch 177/300\n",
      "19/19 [==============================] - 0s 4ms/step - loss: 0.5431 - accuracy: 0.7200 - val_loss: 0.5420 - val_accuracy: 0.7400\n",
      "Epoch 178/300\n",
      "19/19 [==============================] - 0s 3ms/step - loss: 0.5599 - accuracy: 0.6917 - val_loss: 0.5414 - val_accuracy: 0.7400\n",
      "Epoch 179/300\n",
      "19/19 [==============================] - 0s 4ms/step - loss: 0.5419 - accuracy: 0.7417 - val_loss: 0.5415 - val_accuracy: 0.7400\n",
      "Epoch 180/300\n",
      "19/19 [==============================] - 0s 4ms/step - loss: 0.5654 - accuracy: 0.7117 - val_loss: 0.5517 - val_accuracy: 0.7200\n",
      "Epoch 181/300\n",
      "19/19 [==============================] - 0s 4ms/step - loss: 0.5646 - accuracy: 0.6967 - val_loss: 0.5429 - val_accuracy: 0.7200\n",
      "Epoch 182/300\n",
      "19/19 [==============================] - 0s 4ms/step - loss: 0.5584 - accuracy: 0.7033 - val_loss: 0.5371 - val_accuracy: 0.7400\n",
      "Epoch 183/300\n",
      "19/19 [==============================] - 0s 3ms/step - loss: 0.5452 - accuracy: 0.7233 - val_loss: 0.5474 - val_accuracy: 0.7200\n",
      "Epoch 184/300\n",
      "19/19 [==============================] - 0s 4ms/step - loss: 0.5348 - accuracy: 0.7217 - val_loss: 0.5416 - val_accuracy: 0.7200\n",
      "Epoch 185/300\n",
      "19/19 [==============================] - 0s 4ms/step - loss: 0.5541 - accuracy: 0.7150 - val_loss: 0.5335 - val_accuracy: 0.7300\n",
      "Epoch 186/300\n",
      "19/19 [==============================] - 0s 4ms/step - loss: 0.5537 - accuracy: 0.7050 - val_loss: 0.5444 - val_accuracy: 0.7000\n",
      "Epoch 187/300\n",
      "19/19 [==============================] - 0s 4ms/step - loss: 0.5336 - accuracy: 0.7150 - val_loss: 0.5366 - val_accuracy: 0.7500\n",
      "Epoch 188/300\n",
      "19/19 [==============================] - 0s 4ms/step - loss: 0.5338 - accuracy: 0.7217 - val_loss: 0.5646 - val_accuracy: 0.7100\n",
      "Epoch 189/300\n",
      "19/19 [==============================] - 0s 4ms/step - loss: 0.5356 - accuracy: 0.7333 - val_loss: 0.5501 - val_accuracy: 0.7400\n",
      "Epoch 190/300\n",
      "19/19 [==============================] - 0s 4ms/step - loss: 0.5373 - accuracy: 0.7200 - val_loss: 0.5590 - val_accuracy: 0.7000\n",
      "Epoch 191/300\n",
      "19/19 [==============================] - 0s 4ms/step - loss: 0.5520 - accuracy: 0.7200 - val_loss: 0.5435 - val_accuracy: 0.7400\n",
      "Epoch 192/300\n",
      "19/19 [==============================] - 0s 4ms/step - loss: 0.5640 - accuracy: 0.7150 - val_loss: 0.5466 - val_accuracy: 0.7400\n",
      "Epoch 193/300\n",
      "19/19 [==============================] - 0s 4ms/step - loss: 0.5409 - accuracy: 0.7200 - val_loss: 0.5589 - val_accuracy: 0.7100\n",
      "Epoch 194/300\n",
      "19/19 [==============================] - 0s 4ms/step - loss: 0.5436 - accuracy: 0.7067 - val_loss: 0.5594 - val_accuracy: 0.7100\n",
      "Epoch 195/300\n",
      "19/19 [==============================] - 0s 4ms/step - loss: 0.5455 - accuracy: 0.7200 - val_loss: 0.5580 - val_accuracy: 0.7300\n",
      "Epoch 196/300\n",
      "19/19 [==============================] - 0s 4ms/step - loss: 0.5416 - accuracy: 0.7167 - val_loss: 0.5600 - val_accuracy: 0.7200\n",
      "Epoch 197/300\n",
      "19/19 [==============================] - 0s 4ms/step - loss: 0.5345 - accuracy: 0.7367 - val_loss: 0.5598 - val_accuracy: 0.6900\n",
      "Epoch 198/300\n",
      "19/19 [==============================] - 0s 4ms/step - loss: 0.5709 - accuracy: 0.6933 - val_loss: 0.5503 - val_accuracy: 0.7300\n",
      "Epoch 199/300\n",
      "19/19 [==============================] - 0s 4ms/step - loss: 0.5314 - accuracy: 0.7083 - val_loss: 0.5403 - val_accuracy: 0.7400\n",
      "Epoch 200/300\n",
      "19/19 [==============================] - 0s 4ms/step - loss: 0.5343 - accuracy: 0.7333 - val_loss: 0.5615 - val_accuracy: 0.7100\n",
      "Epoch 201/300\n",
      "19/19 [==============================] - 0s 4ms/step - loss: 0.5438 - accuracy: 0.7017 - val_loss: 0.5421 - val_accuracy: 0.7400\n",
      "Epoch 202/300\n",
      "19/19 [==============================] - 0s 4ms/step - loss: 0.5429 - accuracy: 0.7233 - val_loss: 0.5604 - val_accuracy: 0.7000\n",
      "Epoch 203/300\n",
      "19/19 [==============================] - 0s 4ms/step - loss: 0.5468 - accuracy: 0.7233 - val_loss: 0.5351 - val_accuracy: 0.7300\n",
      "Epoch 204/300\n",
      "19/19 [==============================] - 0s 3ms/step - loss: 0.5307 - accuracy: 0.7317 - val_loss: 0.5451 - val_accuracy: 0.7100\n",
      "Epoch 205/300\n",
      "19/19 [==============================] - 0s 3ms/step - loss: 0.5444 - accuracy: 0.7183 - val_loss: 0.5417 - val_accuracy: 0.7000\n",
      "Epoch 206/300\n",
      "19/19 [==============================] - 0s 4ms/step - loss: 0.5331 - accuracy: 0.7283 - val_loss: 0.5460 - val_accuracy: 0.7300\n",
      "Epoch 207/300\n",
      "19/19 [==============================] - 0s 4ms/step - loss: 0.5450 - accuracy: 0.7117 - val_loss: 0.5558 - val_accuracy: 0.7100\n",
      "Epoch 208/300\n",
      "19/19 [==============================] - 0s 5ms/step - loss: 0.5345 - accuracy: 0.7200 - val_loss: 0.5392 - val_accuracy: 0.7300\n",
      "Epoch 209/300\n",
      "19/19 [==============================] - 0s 12ms/step - loss: 0.5379 - accuracy: 0.7317 - val_loss: 0.5354 - val_accuracy: 0.7400\n",
      "Epoch 210/300\n",
      "19/19 [==============================] - 0s 8ms/step - loss: 0.5285 - accuracy: 0.7400 - val_loss: 0.5311 - val_accuracy: 0.7300\n",
      "Epoch 211/300\n",
      "19/19 [==============================] - 0s 6ms/step - loss: 0.5545 - accuracy: 0.7133 - val_loss: 0.5306 - val_accuracy: 0.7400\n",
      "Epoch 212/300\n",
      "19/19 [==============================] - 0s 4ms/step - loss: 0.5255 - accuracy: 0.7233 - val_loss: 0.5288 - val_accuracy: 0.7300\n",
      "Epoch 213/300\n",
      "19/19 [==============================] - 0s 6ms/step - loss: 0.5350 - accuracy: 0.7317 - val_loss: 0.5481 - val_accuracy: 0.7000\n",
      "Epoch 214/300\n",
      "19/19 [==============================] - 0s 5ms/step - loss: 0.5311 - accuracy: 0.7250 - val_loss: 0.5434 - val_accuracy: 0.7700\n",
      "Epoch 215/300\n",
      "19/19 [==============================] - 0s 4ms/step - loss: 0.5435 - accuracy: 0.7317 - val_loss: 0.5514 - val_accuracy: 0.7400\n",
      "Epoch 216/300\n",
      "19/19 [==============================] - 0s 5ms/step - loss: 0.5232 - accuracy: 0.7300 - val_loss: 0.5455 - val_accuracy: 0.7400\n",
      "Epoch 217/300\n",
      "19/19 [==============================] - 0s 4ms/step - loss: 0.5393 - accuracy: 0.7333 - val_loss: 0.5536 - val_accuracy: 0.7300\n",
      "Epoch 218/300\n",
      "19/19 [==============================] - 0s 4ms/step - loss: 0.5164 - accuracy: 0.7383 - val_loss: 0.5459 - val_accuracy: 0.7500\n",
      "Epoch 219/300\n",
      "19/19 [==============================] - 0s 4ms/step - loss: 0.5423 - accuracy: 0.7333 - val_loss: 0.5664 - val_accuracy: 0.7000\n",
      "Epoch 220/300\n",
      "19/19 [==============================] - 0s 4ms/step - loss: 0.5211 - accuracy: 0.7217 - val_loss: 0.5452 - val_accuracy: 0.7500\n",
      "Epoch 221/300\n",
      "19/19 [==============================] - 0s 4ms/step - loss: 0.5307 - accuracy: 0.7083 - val_loss: 0.5538 - val_accuracy: 0.7100\n",
      "Epoch 222/300\n",
      "19/19 [==============================] - 0s 4ms/step - loss: 0.5389 - accuracy: 0.7000 - val_loss: 0.5620 - val_accuracy: 0.6900\n",
      "Epoch 223/300\n",
      "19/19 [==============================] - 0s 4ms/step - loss: 0.5280 - accuracy: 0.7250 - val_loss: 0.5440 - val_accuracy: 0.7400\n",
      "Epoch 224/300\n",
      "19/19 [==============================] - 0s 6ms/step - loss: 0.5212 - accuracy: 0.7300 - val_loss: 0.5529 - val_accuracy: 0.7000\n",
      "Epoch 225/300\n",
      "19/19 [==============================] - 0s 4ms/step - loss: 0.5386 - accuracy: 0.7217 - val_loss: 0.5563 - val_accuracy: 0.7100\n",
      "Epoch 226/300\n",
      "19/19 [==============================] - 0s 4ms/step - loss: 0.5344 - accuracy: 0.7233 - val_loss: 0.5378 - val_accuracy: 0.7400\n",
      "Epoch 227/300\n",
      "19/19 [==============================] - 0s 4ms/step - loss: 0.5245 - accuracy: 0.7267 - val_loss: 0.5487 - val_accuracy: 0.7500\n",
      "Epoch 228/300\n",
      "19/19 [==============================] - 0s 4ms/step - loss: 0.5179 - accuracy: 0.7250 - val_loss: 0.5608 - val_accuracy: 0.7000\n",
      "Epoch 229/300\n",
      "19/19 [==============================] - 0s 4ms/step - loss: 0.5401 - accuracy: 0.7267 - val_loss: 0.5589 - val_accuracy: 0.7000\n",
      "Epoch 230/300\n",
      "19/19 [==============================] - 0s 4ms/step - loss: 0.5340 - accuracy: 0.7333 - val_loss: 0.5405 - val_accuracy: 0.7400\n",
      "Epoch 231/300\n",
      "19/19 [==============================] - 0s 5ms/step - loss: 0.5320 - accuracy: 0.7133 - val_loss: 0.5501 - val_accuracy: 0.7000\n",
      "Epoch 232/300\n",
      "19/19 [==============================] - 0s 4ms/step - loss: 0.5432 - accuracy: 0.7033 - val_loss: 0.5446 - val_accuracy: 0.7200\n",
      "Epoch 233/300\n",
      "19/19 [==============================] - 0s 4ms/step - loss: 0.5117 - accuracy: 0.7333 - val_loss: 0.5625 - val_accuracy: 0.7100\n",
      "Epoch 234/300\n",
      "19/19 [==============================] - 0s 5ms/step - loss: 0.5374 - accuracy: 0.7217 - val_loss: 0.5413 - val_accuracy: 0.7200\n",
      "Epoch 235/300\n",
      "19/19 [==============================] - 0s 4ms/step - loss: 0.5409 - accuracy: 0.7217 - val_loss: 0.5458 - val_accuracy: 0.7000\n",
      "Epoch 236/300\n",
      "19/19 [==============================] - 0s 4ms/step - loss: 0.5204 - accuracy: 0.7317 - val_loss: 0.5393 - val_accuracy: 0.7300\n",
      "Epoch 237/300\n",
      "19/19 [==============================] - 0s 4ms/step - loss: 0.5229 - accuracy: 0.7300 - val_loss: 0.5568 - val_accuracy: 0.6800\n",
      "Epoch 238/300\n",
      "19/19 [==============================] - 0s 4ms/step - loss: 0.5258 - accuracy: 0.7133 - val_loss: 0.5457 - val_accuracy: 0.7000\n",
      "Epoch 239/300\n",
      "19/19 [==============================] - 0s 4ms/step - loss: 0.5449 - accuracy: 0.7117 - val_loss: 0.5376 - val_accuracy: 0.7000\n",
      "Epoch 240/300\n",
      "19/19 [==============================] - 0s 4ms/step - loss: 0.5373 - accuracy: 0.7217 - val_loss: 0.5467 - val_accuracy: 0.6800\n",
      "Epoch 241/300\n",
      "19/19 [==============================] - 0s 4ms/step - loss: 0.5286 - accuracy: 0.7350 - val_loss: 0.5447 - val_accuracy: 0.6900\n",
      "Epoch 242/300\n",
      "19/19 [==============================] - 0s 4ms/step - loss: 0.5154 - accuracy: 0.7400 - val_loss: 0.5574 - val_accuracy: 0.7100\n",
      "Epoch 243/300\n",
      "19/19 [==============================] - 0s 4ms/step - loss: 0.5309 - accuracy: 0.7233 - val_loss: 0.5515 - val_accuracy: 0.7200\n",
      "Epoch 244/300\n",
      "19/19 [==============================] - 0s 4ms/step - loss: 0.5236 - accuracy: 0.7467 - val_loss: 0.5684 - val_accuracy: 0.6800\n",
      "Epoch 245/300\n",
      "19/19 [==============================] - 0s 4ms/step - loss: 0.5045 - accuracy: 0.7283 - val_loss: 0.5493 - val_accuracy: 0.7200\n",
      "Epoch 246/300\n",
      "19/19 [==============================] - 0s 6ms/step - loss: 0.5205 - accuracy: 0.7367 - val_loss: 0.5581 - val_accuracy: 0.7100\n",
      "Epoch 247/300\n",
      "19/19 [==============================] - 0s 8ms/step - loss: 0.5405 - accuracy: 0.7233 - val_loss: 0.5725 - val_accuracy: 0.7000\n",
      "Epoch 248/300\n",
      "19/19 [==============================] - 0s 4ms/step - loss: 0.5302 - accuracy: 0.7117 - val_loss: 0.5614 - val_accuracy: 0.7000\n",
      "Epoch 249/300\n",
      "19/19 [==============================] - 0s 4ms/step - loss: 0.5274 - accuracy: 0.7250 - val_loss: 0.5432 - val_accuracy: 0.7000\n",
      "Epoch 250/300\n",
      "19/19 [==============================] - 0s 4ms/step - loss: 0.5442 - accuracy: 0.7250 - val_loss: 0.5544 - val_accuracy: 0.6900\n",
      "Epoch 251/300\n",
      "19/19 [==============================] - 0s 4ms/step - loss: 0.5208 - accuracy: 0.7483 - val_loss: 0.5473 - val_accuracy: 0.7100\n",
      "Epoch 252/300\n",
      "19/19 [==============================] - 0s 5ms/step - loss: 0.5326 - accuracy: 0.7133 - val_loss: 0.5616 - val_accuracy: 0.7000\n",
      "Epoch 253/300\n",
      "19/19 [==============================] - 0s 6ms/step - loss: 0.5349 - accuracy: 0.7333 - val_loss: 0.5741 - val_accuracy: 0.7000\n",
      "Epoch 254/300\n",
      "19/19 [==============================] - 0s 4ms/step - loss: 0.5274 - accuracy: 0.7467 - val_loss: 0.5676 - val_accuracy: 0.7000\n",
      "Epoch 255/300\n",
      "19/19 [==============================] - 0s 7ms/step - loss: 0.5443 - accuracy: 0.7267 - val_loss: 0.5528 - val_accuracy: 0.6800\n",
      "Epoch 256/300\n",
      "19/19 [==============================] - 0s 4ms/step - loss: 0.5300 - accuracy: 0.7367 - val_loss: 0.5536 - val_accuracy: 0.7000\n",
      "Epoch 257/300\n",
      "19/19 [==============================] - 0s 4ms/step - loss: 0.5271 - accuracy: 0.7200 - val_loss: 0.5573 - val_accuracy: 0.7000\n",
      "Epoch 258/300\n",
      "19/19 [==============================] - 0s 4ms/step - loss: 0.5307 - accuracy: 0.7267 - val_loss: 0.5678 - val_accuracy: 0.6900\n",
      "Epoch 259/300\n",
      "19/19 [==============================] - 0s 5ms/step - loss: 0.5303 - accuracy: 0.7300 - val_loss: 0.5764 - val_accuracy: 0.6900\n",
      "Epoch 260/300\n",
      "19/19 [==============================] - 0s 5ms/step - loss: 0.5209 - accuracy: 0.7317 - val_loss: 0.5641 - val_accuracy: 0.6900\n",
      "Epoch 261/300\n",
      "19/19 [==============================] - 0s 5ms/step - loss: 0.5242 - accuracy: 0.7233 - val_loss: 0.5487 - val_accuracy: 0.7100\n",
      "Epoch 262/300\n",
      "19/19 [==============================] - 0s 5ms/step - loss: 0.5175 - accuracy: 0.7550 - val_loss: 0.5519 - val_accuracy: 0.6900\n",
      "Epoch 263/300\n",
      "19/19 [==============================] - 0s 5ms/step - loss: 0.5245 - accuracy: 0.7383 - val_loss: 0.5532 - val_accuracy: 0.7100\n",
      "Epoch 264/300\n",
      "19/19 [==============================] - 0s 5ms/step - loss: 0.5229 - accuracy: 0.7233 - val_loss: 0.5735 - val_accuracy: 0.6900\n",
      "Epoch 265/300\n",
      "19/19 [==============================] - 0s 5ms/step - loss: 0.5343 - accuracy: 0.7167 - val_loss: 0.5785 - val_accuracy: 0.6900\n",
      "Epoch 266/300\n",
      "19/19 [==============================] - 0s 4ms/step - loss: 0.5256 - accuracy: 0.7267 - val_loss: 0.5714 - val_accuracy: 0.7100\n",
      "Epoch 267/300\n",
      "19/19 [==============================] - 0s 4ms/step - loss: 0.5301 - accuracy: 0.7333 - val_loss: 0.5696 - val_accuracy: 0.7100\n",
      "Epoch 268/300\n",
      "19/19 [==============================] - 0s 5ms/step - loss: 0.5223 - accuracy: 0.7217 - val_loss: 0.5673 - val_accuracy: 0.7000\n",
      "Epoch 269/300\n",
      "19/19 [==============================] - 0s 5ms/step - loss: 0.5168 - accuracy: 0.7467 - val_loss: 0.5668 - val_accuracy: 0.7000\n",
      "Epoch 270/300\n",
      "19/19 [==============================] - 0s 5ms/step - loss: 0.5116 - accuracy: 0.7367 - val_loss: 0.5756 - val_accuracy: 0.6900\n",
      "Epoch 271/300\n",
      "19/19 [==============================] - 0s 5ms/step - loss: 0.5315 - accuracy: 0.7250 - val_loss: 0.5655 - val_accuracy: 0.6900\n",
      "Epoch 272/300\n",
      "19/19 [==============================] - 0s 4ms/step - loss: 0.5082 - accuracy: 0.7433 - val_loss: 0.5761 - val_accuracy: 0.6800\n",
      "Epoch 273/300\n",
      "19/19 [==============================] - 0s 5ms/step - loss: 0.5175 - accuracy: 0.7383 - val_loss: 0.5593 - val_accuracy: 0.7200\n",
      "Epoch 274/300\n",
      "19/19 [==============================] - 0s 8ms/step - loss: 0.5197 - accuracy: 0.7283 - val_loss: 0.5724 - val_accuracy: 0.7100\n",
      "Epoch 275/300\n",
      "19/19 [==============================] - 0s 5ms/step - loss: 0.4996 - accuracy: 0.7517 - val_loss: 0.5845 - val_accuracy: 0.6800\n",
      "Epoch 276/300\n",
      "19/19 [==============================] - 0s 5ms/step - loss: 0.5385 - accuracy: 0.7183 - val_loss: 0.5855 - val_accuracy: 0.6800\n",
      "Epoch 277/300\n",
      "19/19 [==============================] - 0s 7ms/step - loss: 0.5121 - accuracy: 0.7350 - val_loss: 0.5888 - val_accuracy: 0.6800\n",
      "Epoch 278/300\n",
      "19/19 [==============================] - 0s 4ms/step - loss: 0.5131 - accuracy: 0.7200 - val_loss: 0.5713 - val_accuracy: 0.6900\n",
      "Epoch 279/300\n",
      "19/19 [==============================] - 0s 6ms/step - loss: 0.5091 - accuracy: 0.7450 - val_loss: 0.5588 - val_accuracy: 0.7200\n",
      "Epoch 280/300\n",
      "19/19 [==============================] - 0s 5ms/step - loss: 0.5062 - accuracy: 0.7500 - val_loss: 0.5566 - val_accuracy: 0.6900\n",
      "Epoch 281/300\n",
      "19/19 [==============================] - 0s 5ms/step - loss: 0.5333 - accuracy: 0.7183 - val_loss: 0.5589 - val_accuracy: 0.6900\n",
      "Epoch 282/300\n",
      "19/19 [==============================] - 0s 4ms/step - loss: 0.5133 - accuracy: 0.7367 - val_loss: 0.5522 - val_accuracy: 0.7100\n",
      "Epoch 283/300\n",
      "19/19 [==============================] - 0s 4ms/step - loss: 0.5102 - accuracy: 0.7233 - val_loss: 0.5485 - val_accuracy: 0.7200\n",
      "Epoch 284/300\n",
      "19/19 [==============================] - 0s 4ms/step - loss: 0.5026 - accuracy: 0.7333 - val_loss: 0.5690 - val_accuracy: 0.7100\n",
      "Epoch 285/300\n",
      "19/19 [==============================] - 0s 5ms/step - loss: 0.5093 - accuracy: 0.7317 - val_loss: 0.5730 - val_accuracy: 0.6900\n",
      "Epoch 286/300\n",
      "19/19 [==============================] - 0s 5ms/step - loss: 0.5168 - accuracy: 0.7517 - val_loss: 0.5613 - val_accuracy: 0.6900\n",
      "Epoch 287/300\n"
     ]
    },
    {
     "name": "stdout",
     "output_type": "stream",
     "text": [
      "19/19 [==============================] - 0s 4ms/step - loss: 0.5108 - accuracy: 0.7583 - val_loss: 0.5701 - val_accuracy: 0.7000\n",
      "Epoch 288/300\n",
      "19/19 [==============================] - 0s 4ms/step - loss: 0.5255 - accuracy: 0.7317 - val_loss: 0.5827 - val_accuracy: 0.6900\n",
      "Epoch 289/300\n",
      "19/19 [==============================] - 0s 5ms/step - loss: 0.5106 - accuracy: 0.7350 - val_loss: 0.5681 - val_accuracy: 0.7000\n",
      "Epoch 290/300\n",
      "19/19 [==============================] - 0s 5ms/step - loss: 0.5171 - accuracy: 0.7433 - val_loss: 0.5678 - val_accuracy: 0.7000\n",
      "Epoch 291/300\n",
      "19/19 [==============================] - 0s 4ms/step - loss: 0.5231 - accuracy: 0.7283 - val_loss: 0.5704 - val_accuracy: 0.6900\n",
      "Epoch 292/300\n",
      "19/19 [==============================] - 0s 4ms/step - loss: 0.5323 - accuracy: 0.7233 - val_loss: 0.5747 - val_accuracy: 0.7100\n",
      "Epoch 293/300\n",
      "19/19 [==============================] - 0s 5ms/step - loss: 0.5221 - accuracy: 0.7233 - val_loss: 0.5428 - val_accuracy: 0.6800\n",
      "Epoch 294/300\n",
      "19/19 [==============================] - 0s 4ms/step - loss: 0.5155 - accuracy: 0.7450 - val_loss: 0.5632 - val_accuracy: 0.6900\n",
      "Epoch 295/300\n",
      "19/19 [==============================] - 0s 4ms/step - loss: 0.5101 - accuracy: 0.7333 - val_loss: 0.5575 - val_accuracy: 0.6800\n",
      "Epoch 296/300\n",
      "19/19 [==============================] - 0s 4ms/step - loss: 0.5066 - accuracy: 0.7433 - val_loss: 0.5496 - val_accuracy: 0.7000\n",
      "Epoch 297/300\n",
      "19/19 [==============================] - 0s 5ms/step - loss: 0.5218 - accuracy: 0.7300 - val_loss: 0.5841 - val_accuracy: 0.7100\n",
      "Epoch 298/300\n",
      "19/19 [==============================] - 0s 5ms/step - loss: 0.5162 - accuracy: 0.7533 - val_loss: 0.5722 - val_accuracy: 0.6900\n",
      "Epoch 299/300\n",
      "19/19 [==============================] - 0s 5ms/step - loss: 0.4975 - accuracy: 0.7417 - val_loss: 0.5614 - val_accuracy: 0.7300\n",
      "Epoch 300/300\n",
      "19/19 [==============================] - 0s 13ms/step - loss: 0.4937 - accuracy: 0.7483 - val_loss: 0.5824 - val_accuracy: 0.7100\n"
     ]
    }
   ],
   "source": [
    "hist = model.fit(X_train, Y_train, \n",
    "                epochs=300,\n",
    "                validation_data=(X_val, Y_val),\n",
    "                verbose=1\n",
    "                )"
   ]
  },
  {
   "cell_type": "markdown",
   "id": "1cd44928",
   "metadata": {},
   "source": [
    "## 5. 학습과정 살펴보기"
   ]
  },
  {
   "cell_type": "code",
   "execution_count": 31,
   "id": "f6170910",
   "metadata": {},
   "outputs": [
    {
     "data": {
      "text/plain": [
       "dict_keys(['loss', 'accuracy', 'val_loss', 'val_accuracy'])"
      ]
     },
     "execution_count": 31,
     "metadata": {},
     "output_type": "execute_result"
    }
   ],
   "source": [
    "hist.history\n",
    "hist.history.keys()"
   ]
  },
  {
   "cell_type": "code",
   "execution_count": 32,
   "id": "ac6bf23d",
   "metadata": {},
   "outputs": [
    {
     "data": {
      "image/png": "[encoded data removed]",
      "text/plain": [
       "<Figure size 1200x600 with 2 Axes>"
      ]
     },
     "metadata": {},
     "output_type": "display_data"
    }
   ],
   "source": [
    "# 학습과정 표시 (학습데이터에 대한 'loss', 'accuracy')\n",
    "\n",
    "# 'loss', 'accuracy'\n",
    "fig, loss_ax = plt.subplots(figsize=(12,6))\n",
    "loss_ax.plot(hist.history['loss'],'y', label='train loss')\n",
    "loss_ax.plot(hist.history['val_loss'],'r', label='val loss')\n",
    "\n",
    "\n",
    "\n",
    "acc_ax = loss_ax.twinx() # loss_ax와 x축을 공유하는 acc_ax\n",
    "acc_ax.plot(hist.history['accuracy'],'g', label='train accuracy')\n",
    "acc_ax.plot(hist.history['val_accuracy'],'b', label='val accuracy')\n",
    "\n",
    "loss_ax.set_xlabel('epochs')\n",
    "loss_ax.set_ylabel('loss')\n",
    "acc_ax.set_ylabel('accuracy')\n",
    "\n",
    "loss_ax.legend(loc='center right')\n",
    "acc_ax.legend()\n",
    "plt.show()"
   ]
  },
  {
   "cell_type": "markdown",
   "id": "0a75dd0a",
   "metadata": {},
   "source": [
    "## 6. 모델 평가 & 교차표"
   ]
  },
  {
   "cell_type": "code",
   "execution_count": 33,
   "id": "2c3092ce",
   "metadata": {},
   "outputs": [
    {
     "name": "stdout",
     "output_type": "stream",
     "text": [
      "loss : 0.7020083069801331, 정확도 : 0.6323529481887817\n"
     ]
    }
   ],
   "source": [
    "loss, accuracy = model.evaluate(X_test, Y_test, verbose=0)\n",
    "print(f'loss : {loss}, 정확도 : {accuracy}')"
   ]
  },
  {
   "cell_type": "code",
   "execution_count": 34,
   "id": "8cca3cd2",
   "metadata": {},
   "outputs": [
    {
     "data": {
      "text/plain": [
       "array([0, 1, 1, 0, 0, 0, 1, 0, 1, 1, 0, 0, 1, 0, 0, 1, 1, 0, 0, 1, 0, 0,\n",
       "       1, 0, 0, 0, 0, 0, 0, 0, 1, 1, 1, 0, 0, 0, 0, 0, 0, 1, 1, 0, 0, 1,\n",
       "       0, 0, 1, 0, 1, 1, 1, 0, 0, 1, 1, 1, 0, 1, 0, 1, 0, 1, 0, 0, 0, 0,\n",
       "       1, 0])"
      ]
     },
     "execution_count": 34,
     "metadata": {},
     "output_type": "execute_result"
    }
   ],
   "source": [
    "# 교차표\n",
    "# y_test\n",
    "Y_test.argmax(axis=1) # 실제값 y_test"
   ]
  },
  {
   "cell_type": "code",
   "execution_count": 35,
   "id": "f1757d06",
   "metadata": {},
   "outputs": [
    {
     "name": "stdout",
     "output_type": "stream",
     "text": [
      "3/3 [==============================] - 0s 2ms/step\n"
     ]
    },
    {
     "data": {
      "text/plain": [
       "array([0, 0, 0, 0, 0, 0, 0, 0, 0, 0, 0, 0, 0, 0, 0, 1, 0, 0, 0, 0, 0, 0,\n",
       "       0, 0, 0, 0, 0, 0, 0, 0, 0, 0, 0, 0, 0, 0, 0, 0, 0, 0, 0, 0, 0, 0,\n",
       "       0, 0, 0, 0, 1, 0, 0, 0, 0, 0, 0, 0, 0, 0, 0, 0, 0, 0, 0, 0, 0, 0,\n",
       "       0, 0])"
      ]
     },
     "execution_count": 35,
     "metadata": {},
     "output_type": "execute_result"
    }
   ],
   "source": [
    "y_hat = model.predict(X_test).argmax(axis=1)\n",
    "y_hat"
   ]
  },
  {
   "cell_type": "code",
   "execution_count": 36,
   "id": "9b150538",
   "metadata": {},
   "outputs": [
    {
     "data": {
      "text/html": [
       "<div>\n",
       "<style scoped>\n",
       "    .dataframe tbody tr th:only-of-type {\n",
       "        vertical-align: middle;\n",
       "    }\n",
       "\n",
       "    .dataframe tbody tr th {\n",
       "        vertical-align: top;\n",
       "    }\n",
       "\n",
       "    .dataframe thead th {\n",
       "        text-align: right;\n",
       "    }\n",
       "</style>\n",
       "<table border=\"1\" class=\"dataframe\">\n",
       "  <thead>\n",
       "    <tr style=\"text-align: right;\">\n",
       "      <th>예측값</th>\n",
       "      <th>0</th>\n",
       "      <th>1</th>\n",
       "    </tr>\n",
       "    <tr>\n",
       "      <th>실제값</th>\n",
       "      <th></th>\n",
       "      <th></th>\n",
       "    </tr>\n",
       "  </thead>\n",
       "  <tbody>\n",
       "    <tr>\n",
       "      <th>0.0</th>\n",
       "      <td>41</td>\n",
       "      <td>0</td>\n",
       "    </tr>\n",
       "    <tr>\n",
       "      <th>1.0</th>\n",
       "      <td>25</td>\n",
       "      <td>2</td>\n",
       "    </tr>\n",
       "  </tbody>\n",
       "</table>\n",
       "</div>"
      ],
      "text/plain": [
       "예측값   0  1\n",
       "실제값       \n",
       "0.0  41  0\n",
       "1.0  25  2"
      ]
     },
     "execution_count": 36,
     "metadata": {},
     "output_type": "execute_result"
    }
   ],
   "source": [
    "pd.crosstab(y_test, y_hat, rownames=['실제값'], colnames=['예측값'])"
   ]
  },
  {
   "cell_type": "code",
   "execution_count": 37,
   "id": "1a313188",
   "metadata": {},
   "outputs": [
    {
     "data": {
      "text/plain": [
       "array([[41,  0],\n",
       "       [25,  2]])"
      ]
     },
     "execution_count": 37,
     "metadata": {},
     "output_type": "execute_result"
    }
   ],
   "source": [
    "confusion_matrix(y_test, y_hat)"
   ]
  },
  {
   "cell_type": "markdown",
   "id": "d3167f43",
   "metadata": {},
   "source": [
    "## 7. 모델 저장 및 사용"
   ]
  },
  {
   "cell_type": "code",
   "execution_count": 38,
   "id": "fc434303",
   "metadata": {},
   "outputs": [
    {
     "name": "stdout",
     "output_type": "stream",
     "text": [
      "[  2.    122.     76.     27.    200.     35.9     0.483  26.   ]\n",
      "[  6.    125.     78.     31.      0.     27.6     0.565  49.   ]\n"
     ]
    }
   ],
   "source": [
    "print(X_test[0])\n",
    "print(X_test[1])"
   ]
  },
  {
   "cell_type": "code",
   "execution_count": 39,
   "id": "9c113743",
   "metadata": {},
   "outputs": [],
   "source": [
    "from tensorflow.keras.models import save_model, load_model\n",
    "\n",
    "# model.save('./model/06_pima.h5')\n",
    "save_model(model,'./model/06_pima.h5')"
   ]
  },
  {
   "cell_type": "code",
   "execution_count": 40,
   "id": "6715b5e0",
   "metadata": {},
   "outputs": [],
   "source": [
    "model2 = load_model('./model/06_pima.h5')"
   ]
  },
  {
   "cell_type": "code",
   "execution_count": 41,
   "id": "188d4b23",
   "metadata": {},
   "outputs": [
    {
     "name": "stdout",
     "output_type": "stream",
     "text": [
      "1/1 [==============================] - 0s 99ms/step\n"
     ]
    },
    {
     "data": {
      "text/plain": [
       "array([0, 0])"
      ]
     },
     "execution_count": 41,
     "metadata": {},
     "output_type": "execute_result"
    }
   ],
   "source": [
    "pred = model2.predict([[2., 122., 76., 27., 200., 35.9, 0.483, 26.],\n",
    "                [6., 125., 78., 31., 0., 27.6, 0.565, 49.]])\n",
    "pred.argmax(axis=1)"
   ]
  },
  {
   "cell_type": "code",
   "execution_count": 42,
   "id": "922974d3",
   "metadata": {},
   "outputs": [
    {
     "data": {
      "text/plain": [
       "array([0, 0])"
      ]
     },
     "execution_count": 42,
     "metadata": {},
     "output_type": "execute_result"
    }
   ],
   "source": [
    "np.argmax(pred, axis=1)"
   ]
  },
  {
   "cell_type": "code",
   "execution_count": null,
   "id": "fd3b3767",
   "metadata": {},
   "outputs": [],
   "source": []
  },
  {
   "cell_type": "code",
   "execution_count": null,
   "id": "2e9ae930",
   "metadata": {},
   "outputs": [],
   "source": []
  }
 ],
 "metadata": {
  "kernelspec": {
   "display_name": "ml-dl-nlp",
   "language": "python",
   "name": "ml-dl-nlp"
  },
  "language_info": {
   "codemirror_mode": {
    "name": "ipython",
    "version": 3
   },
   "file_extension": ".py",
   "mimetype": "text/x-python",
   "name": "python",
   "nbconvert_exporter": "python",
   "pygments_lexer": "ipython3",
   "version": "3.9.23"
  },
  "toc": {
   "base_numbering": 1,
   "nav_menu": {},
   "number_sections": false,
   "sideBar": true,
   "skip_h1_title": false,
   "title_cell": "Table of Contents",
   "title_sidebar": "Contents",
   "toc_cell": false,
   "toc_position": {
    "height": "calc(100% - 180px)",
    "left": "10px",
    "top": "150px",
    "width": "217px"
   },
   "toc_section_display": true,
   "toc_window_display": false
  }
 },
 "nbformat": 4,
 "nbformat_minor": 5
}
