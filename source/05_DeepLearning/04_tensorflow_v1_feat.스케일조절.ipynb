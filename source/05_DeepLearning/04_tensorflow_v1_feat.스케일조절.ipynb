{
 "cells": [
  {
   "cell_type": "code",
   "execution_count": 292,
   "id": "ae756b22",
   "metadata": {},
   "outputs": [
    {
     "data": {
      "text/html": [
       "\n",
       "<style>\n",
       "* {font-family:D2Coding;}\n",
       "div.container{width:87% !important;}\n",
       "div.cell.code_cell.rendered{width:100%;}\n",
       "div.CodeMirror {font-size:12pt;}\n",
       "div.output {font-size:12pt; font-weight:bold;}\n",
       "div.input { font-size:12pt;}\n",
       "div.prompt {min-width:70px;}\n",
       "div#toc-wrapper{padding-top:120px;}\n",
       "div.text_cell_render ul li{font-size:12pt;padding:3px;}\n",
       "table.dataframe{font-size:12px;}\n",
       "</style>\n"
      ],
      "text/plain": [
       "<IPython.core.display.HTML object>"
      ]
     },
     "metadata": {},
     "output_type": "display_data"
    }
   ],
   "source": [
    "from IPython.display import display, HTML\n",
    "\n",
    "display(\n",
    "    HTML(\"\"\"\n",
    "<style>\n",
    "* {font-family:D2Coding;}\n",
    "div.container{width:87% !important;}\n",
    "div.cell.code_cell.rendered{width:100%;}\n",
    "div.CodeMirror {font-size:12pt;}\n",
    "div.output {font-size:12pt; font-weight:bold;}\n",
    "div.input { font-size:12pt;}\n",
    "div.prompt {min-width:70px;}\n",
    "div#toc-wrapper{padding-top:120px;}\n",
    "div.text_cell_render ul li{font-size:12pt;padding:3px;}\n",
    "table.dataframe{font-size:12px;}\n",
    "</style>\n",
    "\"\"\"))"
   ]
  },
  {
   "cell_type": "markdown",
   "id": "30e68d9d",
   "metadata": {},
   "source": [
    "<font size=5 color=red>04_tensorflow_v1_feat.스케일조절</font>\n",
    "\n",
    "# 1. tensorflow v2.xx 에서 v1사용하기"
   ]
  },
  {
   "cell_type": "code",
   "execution_count": 3,
   "id": "51dd2183",
   "metadata": {},
   "outputs": [],
   "source": [
    "import tensorflow.compat.v1 as tf\n",
    "\n",
    "tf.disable_v2_behavior()  # v2를 비활성화하고 v1활성화\n",
    "import numpy as np\n",
    "import pandas as pd"
   ]
  },
  {
   "cell_type": "markdown",
   "id": "6503d969",
   "metadata": {},
   "source": [
    "## 1.1. Tensorflow\n",
    "\n",
    "- 데이터 흐름를 그래프(Tensor 객체의 흐름)\n",
    "- 이 그래프는 node(상수, 변수 , 연산)의 edge로 구성\n",
    "- sess = tf.Session()으로 실행\n",
    "- sess.run()을 통해 값을 확인"
   ]
  },
  {
   "cell_type": "code",
   "execution_count": 11,
   "id": "12422fe8",
   "metadata": {},
   "outputs": [
    {
     "name": "stdout",
     "output_type": "stream",
     "text": [
      "b'Hello, Tensorflow'\n"
     ]
    }
   ],
   "source": [
    "# tensor = data(상수, 변수)와 연산\n",
    "node1 = tf.constant('Hello, Tensorflow')\n",
    "sess = tf.Session()\n",
    "print(sess.run(node1))"
   ]
  },
  {
   "cell_type": "code",
   "execution_count": 12,
   "id": "a1dc5b1e",
   "metadata": {},
   "outputs": [
    {
     "name": "stdout",
     "output_type": "stream",
     "text": [
      "[10.0, 20.0, 30.0]\n"
     ]
    }
   ],
   "source": [
    "# 간단한 연산 tensor 그래프\n",
    "node1 = tf.constant(10, dtype=tf.float16)\n",
    "node2 = tf.constant(20, dtype=tf.float16)\n",
    "\n",
    "node3 = tf.add(node1, node2)\n",
    "\n",
    "sess = tf.Session()\n",
    "\n",
    "print(sess.run([node1, node2, node3]))"
   ]
  },
  {
   "cell_type": "code",
   "execution_count": 13,
   "id": "9bccd2c9",
   "metadata": {},
   "outputs": [
    {
     "data": {
      "text/plain": [
       "[array([1, 2, 3], dtype=int16), array([1., 2., 3.], dtype=float32)]"
      ]
     },
     "execution_count": 13,
     "metadata": {},
     "output_type": "execute_result"
    }
   ],
   "source": [
    "# 타입 변경\n",
    "node1 = tf.constant(np.array([1, 2, 3]), dtype=tf.int16)\n",
    "node2 = tf.cast(node1, dtype=tf.float32)\n",
    "sess = tf.Session()\n",
    "sess.run([node1, node2])"
   ]
  },
  {
   "cell_type": "code",
   "execution_count": 14,
   "id": "20872e85",
   "metadata": {},
   "outputs": [
    {
     "data": {
      "text/plain": [
       "2.0"
      ]
     },
     "execution_count": 14,
     "metadata": {},
     "output_type": "execute_result"
    }
   ],
   "source": [
    "# 평균값 계산 : tf.reduce_mean()\n",
    "data = np.array([1., 2., 3.])\n",
    "tensor = tf.reduce_mean(data)\n",
    "sess = tf.Session()\n",
    "sess.run(tensor)"
   ]
  },
  {
   "cell_type": "code",
   "execution_count": 16,
   "id": "53245ab2",
   "metadata": {},
   "outputs": [
    {
     "data": {
      "text/plain": [
       "[array([-1.0298789 ,  0.12366588], dtype=float32),\n",
       " array([0.3535142], dtype=float32)]"
      ]
     },
     "execution_count": 16,
     "metadata": {},
     "output_type": "execute_result"
    }
   ],
   "source": [
    "# 랜덤값을 갖는 tensor\n",
    "a = tf.random_normal([2])  # 평균이 0, 표준편차가 1인 난수 실수 2개 (정규분포를 이루는 난수)\n",
    "b = tf.random_normal([1])\n",
    "\n",
    "sess = tf.Session()\n",
    "sess.run([a, b])"
   ]
  },
  {
   "cell_type": "code",
   "execution_count": 25,
   "id": "393366d1",
   "metadata": {},
   "outputs": [
    {
     "data": {
      "text/plain": [
       "array([1.4015666], dtype=float32)"
      ]
     },
     "execution_count": 25,
     "metadata": {},
     "output_type": "execute_result"
    }
   ],
   "source": [
    "w = tf.Variable(tf.random.normal([1]))\n",
    "sess = tf.Session()\n",
    "sess.run(tf.global_variables_initializer()) # w변수의 난수 초기화\n",
    "sess.run(w)"
   ]
  },
  {
   "cell_type": "markdown",
   "id": "a2fa7757",
   "metadata": {},
   "source": [
    "# 2. tensorflow v1을 이용한 linear regression 을 구현\n",
    "\n",
    "## 2.1. 입력(독립)변수 x가 1개, 타켓(종속)변수 y가 1개"
   ]
  },
  {
   "cell_type": "code",
   "execution_count": 28,
   "id": "3335fd33",
   "metadata": {},
   "outputs": [
    {
     "name": "stdout",
     "output_type": "stream",
     "text": [
      "0번쨰 cost : 2.2897613048553467, W : [0.35435513], b : [1.0525901]\n",
      "200번쨰 cost : 0.004378287587314844, W : [0.92333394], b : [1.1742799]\n",
      "400번쨰 cost : 0.0016718626720830798, W : [0.95262486], b : [1.1076949]\n",
      "600번쨰 cost : 0.0006383901927620173, W : [0.9707252], b : [1.0665486]\n",
      "800번쨰 cost : 0.00024376895453315228, W : [0.98191], b : [1.0411232]\n",
      "1000번쨰 cost : 9.308511653216556e-05, W : [0.98882127], b : [1.0254117]\n",
      "1200번쨰 cost : 3.554214708856307e-05, W : [0.9930925], b : [1.0157025]\n",
      "1400번쨰 cost : 1.357246219413355e-05, W : [0.9957314], b : [1.0097034]\n",
      "1600번쨰 cost : 5.1831561904691625e-06, W : [0.9973622], b : [1.0059963]\n",
      "1800번쨰 cost : 1.9791875729424646e-06, W : [0.99836993], b : [1.0037055]\n",
      "2000번쨰 cost : 7.558618904113246e-07, W : [0.9989926], b : [1.00229]\n",
      "2200번쨰 cost : 2.88811406790046e-07, W : [0.99937725], b : [1.0014153]\n",
      "2400번쨰 cost : 1.1048596348928186e-07, W : [0.9996149], b : [1.0008755]\n",
      "2600번쨰 cost : 4.2422112045414906e-08, W : [0.9997614], b : [1.0005425]\n",
      "2800번쨰 cost : 1.6279599890367535e-08, W : [0.999852], b : [1.0003358]\n",
      "3000번쨰 cost : 6.376566830113006e-09, W : [0.9999077], b : [1.0002103]\n",
      "3200번쨰 cost : 2.4503208351234207e-09, W : [0.9999426], b : [1.0001302]\n",
      "3400번쨰 cost : 9.458887006985606e-10, W : [0.99996436], b : [1.000081]\n",
      "3600번쨰 cost : 4.2088288410013774e-10, W : [0.99997646], b : [1.0000541]\n",
      "3800번쨰 cost : 1.3249727703890102e-10, W : [0.9999867], b : [1.0000303]\n",
      "4000번쨰 cost : 8.733517381509515e-11, W : [0.9999891], b : [1.0000248]\n",
      "4200번쨰 cost : 8.733517381509515e-11, W : [0.9999891], b : [1.0000248]\n",
      "4400번쨰 cost : 8.733517381509515e-11, W : [0.9999891], b : [1.0000248]\n",
      "4600번쨰 cost : 8.733517381509515e-11, W : [0.9999891], b : [1.0000248]\n",
      "4800번쨰 cost : 8.733517381509515e-11, W : [0.9999891], b : [1.0000248]\n",
      "5000번쨰 cost : 8.733517381509515e-11, W : [0.9999891], b : [1.0000248]\n"
     ]
    }
   ],
   "source": [
    "x = np.array([1, 2, 3])\n",
    "y = np.array([2, 3, 4])\n",
    "\n",
    "# weigh의 bias(처음엔 랜덤값으로 셋팅, 학습과정에서 변경)\n",
    "W = tf.Variable(tf.random_normal([1]), name='weight')\n",
    "b = tf.Variable(tf.random_normal([1]), name='bias')\n",
    "\n",
    "# Hypothesis(예측값)\n",
    "H = W * x + b\n",
    "\n",
    "# cost function(손실함수 = mse ; 최소제곱법)\n",
    "cost = tf.reduce_mean(tf.square(H - y))\n",
    "'''\n",
    "학습목적 = cost가 최소화 되는 W, b를 찾아내는 것\n",
    "cost 는 2차 함수이므로 곡선그래프, 곡선위 미분값이 줄어드는 방향으로 학습(경사하강)\n",
    "→ Gradient Descent Optimizer\n",
    "'''\n",
    "optimizer = tf.train.GradientDescentOptimizer(learning_rate=0.01)  # 미분\n",
    "train = optimizer.minimize(cost)\n",
    "# Session 생성\n",
    "sess = tf.Session()\n",
    "\n",
    "# W, b 변수 노드에 초기화\n",
    "sess.run(tf.global_variables_initializer())\n",
    "\n",
    "# 5000번 학습 (v2에서는 fit함수)\n",
    "for step in range(5001):\n",
    "    _, cost_val, W_val, b_val = sess.run([train, cost, W, b])\n",
    "    \n",
    "    if step%200 == 0:\n",
    "        print(\"{}번쨰 cost : {}, W : {}, b : {}\".format(step, cost_val, W_val, b_val))\n",
    "            "
   ]
  },
  {
   "cell_type": "code",
   "execution_count": 30,
   "id": "f3470b78",
   "metadata": {},
   "outputs": [
    {
     "data": {
      "text/plain": [
       "[array([0.9999891], dtype=float32), array([1.0000248], dtype=float32)]"
      ]
     },
     "execution_count": 30,
     "metadata": {},
     "output_type": "execute_result"
    }
   ],
   "source": [
    "# 최종적으로 나온 희귀식 : H = W * x + b\n",
    "sess.run([W, b])"
   ]
  },
  {
   "cell_type": "code",
   "execution_count": 35,
   "id": "c28e9c9a",
   "metadata": {},
   "outputs": [
    {
     "data": {
      "text/plain": [
       "(0.9999891, 1.0000248)"
      ]
     },
     "execution_count": 35,
     "metadata": {},
     "output_type": "execute_result"
    }
   ],
   "source": [
    "W_, b_ = sess.run([W, b])\n",
    "W_[0], b_[0]"
   ]
  },
  {
   "cell_type": "code",
   "execution_count": 38,
   "id": "e01ccdea",
   "metadata": {},
   "outputs": [],
   "source": [
    "def predict(x):\n",
    "    return W_[0] * x + b_[0]"
   ]
  },
  {
   "cell_type": "code",
   "execution_count": 42,
   "id": "a2fc1f7b",
   "metadata": {},
   "outputs": [
    {
     "name": "stdout",
     "output_type": "stream",
     "text": [
      "입력값은 ?3\n",
      "예측값은 3.999992072582245\n"
     ]
    }
   ],
   "source": [
    "input_x = int(input('입력값은 ?'))\n",
    "print('예측값은', predict(input_x))"
   ]
  },
  {
   "cell_type": "markdown",
   "id": "ff6c15e8",
   "metadata": {},
   "source": [
    "## 2.2. predict를 위한 placeholder 이용\n",
    "\n",
    "- placeholder : 텐서플로우 외부에서 데이터를 입력받는 노드\n"
   ]
  },
  {
   "cell_type": "code",
   "execution_count": 48,
   "id": "08355f91",
   "metadata": {},
   "outputs": [
    {
     "data": {
      "text/plain": [
       "array([2., 3., 4.], dtype=float16)"
      ]
     },
     "execution_count": 48,
     "metadata": {},
     "output_type": "execute_result"
    }
   ],
   "source": [
    "# x = np.array([1, 2, 3])\n",
    "x = tf.placeholder(tf.float16)\n",
    "H = 1 * x + 1\n",
    "sess = tf.Session()\n",
    "sess.run(H, feed_dict={x: 5})\n",
    "sess.run(H, feed_dict={x: np.array([1, 2, 3])})"
   ]
  },
  {
   "cell_type": "code",
   "execution_count": 51,
   "id": "5dcee6bf",
   "metadata": {},
   "outputs": [
    {
     "name": "stdout",
     "output_type": "stream",
     "text": [
      "0번쨰 cost : 223.6167449951172, W : [0.396142], b : [-0.5246403]\n",
      "200번쨰 cost : 0.04167274385690689, W : [2.0694227], b : [0.62893605]\n",
      "400번쨰 cost : 0.00409886846318841, W : [2.0217726], b : [0.8836266]\n",
      "600번쨰 cost : 0.0004031683783978224, W : [2.0068283], b : [0.96350265]\n",
      "800번쨰 cost : 3.96532668673899e-05, W : [2.0021415], b : [0.9885538]\n",
      "1000번쨰 cost : 3.90126933780266e-06, W : [2.0006716], b : [0.99640995]\n",
      "1200번쨰 cost : 3.8388907341868617e-07, W : [2.0002108], b : [0.9988737]\n",
      "1400번쨰 cost : 3.786517410730994e-08, W : [2.000066], b : [0.99964654]\n",
      "1600번쨰 cost : 3.739216936082812e-09, W : [2.0000207], b : [0.99988925]\n",
      "1800번쨰 cost : 3.793161340581719e-10, W : [2.0000067], b : [0.9999645]\n",
      "2000번쨰 cost : 5.184119800105691e-11, W : [2.0000026], b : [0.99998695]\n",
      "2200번쨰 cost : 2.060005464821213e-11, W : [2.0000017], b : [0.99999213]\n",
      "2400번쨰 cost : 2.060005464821213e-11, W : [2.0000017], b : [0.99999213]\n",
      "2600번쨰 cost : 2.060005464821213e-11, W : [2.0000017], b : [0.99999213]\n",
      "2800번쨰 cost : 2.060005464821213e-11, W : [2.0000017], b : [0.99999213]\n",
      "3000번쨰 cost : 2.060005464821213e-11, W : [2.0000017], b : [0.99999213]\n",
      "3200번쨰 cost : 2.060005464821213e-11, W : [2.0000017], b : [0.99999213]\n",
      "3400번쨰 cost : 2.060005464821213e-11, W : [2.0000017], b : [0.99999213]\n",
      "3600번쨰 cost : 2.060005464821213e-11, W : [2.0000017], b : [0.99999213]\n",
      "3800번쨰 cost : 2.060005464821213e-11, W : [2.0000017], b : [0.99999213]\n",
      "4000번쨰 cost : 2.060005464821213e-11, W : [2.0000017], b : [0.99999213]\n",
      "4200번쨰 cost : 2.060005464821213e-11, W : [2.0000017], b : [0.99999213]\n",
      "4400번쨰 cost : 2.060005464821213e-11, W : [2.0000017], b : [0.99999213]\n",
      "4600번쨰 cost : 2.060005464821213e-11, W : [2.0000017], b : [0.99999213]\n",
      "4800번쨰 cost : 2.060005464821213e-11, W : [2.0000017], b : [0.99999213]\n",
      "5000번쨰 cost : 2.060005464821213e-11, W : [2.0000017], b : [0.99999213]\n"
     ]
    }
   ],
   "source": [
    "# H = 2x + 3\n",
    "x_data = np.array([1, 2, 3, 5, 8])\n",
    "y_data = np.array([3, 5, 7, 11, 17])\n",
    "\n",
    "# placeholder 설정 (입렵변수 x, 타겟변수 y)\n",
    "x = tf.placeholder(dtype=tf.float32)\n",
    "y = tf.placeholder(dtype=tf.float32)\n",
    "\n",
    "# W, b\n",
    "W = tf.Variable(tf.random_normal([1]))\n",
    "b = tf.Variable(tf.random_normal([1]))\n",
    "\n",
    "# Hypothesis (예측값)\n",
    "\n",
    "H = W * x + b\n",
    "\n",
    "# 손실함수\n",
    "cost = tf.reduce_mean(tf.square(H-y))\n",
    "\n",
    "# 경사하강법\n",
    "train = tf.train.GradientDescentOptimizer(learning_rate=0.01).minimize(cost)\n",
    "\n",
    "# Session 객체 생성\n",
    "sess = tf.Session()\n",
    "sess.run(tf.global_variables_initializer()) # W, b 초기화\n",
    "\n",
    "# 5000번 학습\n",
    "for step in range(5001):\n",
    "    _, cost_val, W_val, b_val = sess.run([train, cost, W, b], \n",
    "                                         feed_dict={x:x_data, y:y_data})\n",
    "    \n",
    "    if step%200 == 0:\n",
    "        print(\"{}번쨰 cost : {}, W : {}, b : {}\".format(step, cost_val, W_val, b_val))"
   ]
  },
  {
   "cell_type": "code",
   "execution_count": 53,
   "id": "48e64b16",
   "metadata": {},
   "outputs": [
    {
     "data": {
      "text/plain": [
       "array([11.000001], dtype=float32)"
      ]
     },
     "execution_count": 53,
     "metadata": {},
     "output_type": "execute_result"
    }
   ],
   "source": [
    "# 예측하기\n",
    "sess.run(H, feed_dict={x:5})"
   ]
  },
  {
   "cell_type": "code",
   "execution_count": 54,
   "id": "a8560219",
   "metadata": {},
   "outputs": [
    {
     "data": {
      "text/plain": [
       "array([11.000001, 13.000002, 15.000004], dtype=float32)"
      ]
     },
     "execution_count": 54,
     "metadata": {},
     "output_type": "execute_result"
    }
   ],
   "source": [
    "sess.run(H, feed_dict={x: np.array([5, 6, 7])})"
   ]
  },
  {
   "cell_type": "markdown",
   "id": "cd1deecd",
   "metadata": {},
   "source": [
    "## 2.3. scale 이 다른 데이터의 linear regression 구현 (scale 조정 X)"
   ]
  },
  {
   "cell_type": "code",
   "execution_count": 101,
   "id": "6cb92571",
   "metadata": {},
   "outputs": [
    {
     "name": "stdout",
     "output_type": "stream",
     "text": [
      "0번쨰 cost : 3985.20654296875, W : [7.7205787], b : [2.1635752]\n",
      "200번쨰 cost : 83.89234924316406, W : [10.146583], b : [-0.21805583]\n",
      "400번쨰 cost : 83.51993560791016, W : [10.255428], b : [-1.0239772]\n",
      "600번쨰 cost : 83.48575592041016, W : [10.288396], b : [-1.2680846]\n",
      "800번쨰 cost : 83.4826431274414, W : [10.298382], b : [-1.3420228]\n"
     ]
    }
   ],
   "source": [
    "# H = 2x + 3\n",
    "x_data = np.array([1, 2, 5, 8, 10])\n",
    "y_data = np.array([3, 15, 68, 80, 95])\n",
    "\n",
    "# placeholder 설정 (입렵변수 x, 타겟변수 y)\n",
    "x = tf.placeholder(dtype=tf.float32)\n",
    "y = tf.placeholder(dtype=tf.float32)\n",
    "\n",
    "# W, b\n",
    "W = tf.Variable(tf.random_normal([1]))\n",
    "b = tf.Variable(tf.random_normal([1]))\n",
    "\n",
    "# Hypothesis (예측값)\n",
    "\n",
    "H = W * x + b\n",
    "\n",
    "# 손실함수\n",
    "cost = tf.reduce_mean(tf.square(H-y))\n",
    "\n",
    "# 경사하강법\n",
    "train = tf.train.GradientDescentOptimizer(learning_rate=0.01).minimize(cost)\n",
    "\n",
    "# Session 객체 생성\n",
    "sess = tf.Session()\n",
    "sess.run(tf.global_variables_initializer()) # W, b 초기화\n",
    "\n",
    "# 5000번 학습\n",
    "for step in range(1000):\n",
    "    _, cost_val, W_val, b_val = sess.run([train, cost, W, b], \n",
    "                                         feed_dict={x:x_data, y:y_data})\n",
    "    \n",
    "    if step%200 == 0:\n",
    "        print(\"{}번쨰 cost : {}, W : {}, b : {}\".format(step, cost_val, W_val, b_val))"
   ]
  },
  {
   "cell_type": "code",
   "execution_count": null,
   "id": "9b750dc6",
   "metadata": {},
   "outputs": [],
   "source": [
    "# cost값이 멈춤 : local 최소값"
   ]
  },
  {
   "cell_type": "markdown",
   "id": "923226bb",
   "metadata": {},
   "source": [
    "## 2.4. scale 이 다른 데이터의 linear regression을 구현 (scale 조정 ㅇ)\n",
    "\n",
    "### 1) scale 을 맞추기 : 모든 데이터를 일정 범위내로 조정\n",
    "\n",
    "- normalization (정규화) : 0 ~ 1로 조정\n",
    "\n",
    "                            X - Xmin\n",
    "    - normalization = --------------------------\n",
    "                            Xmax - Xmin\n",
    "    - 위의 식을 써도 되지만, 라이브러리를 씀(sklearn.preprocessing.MinMaxScaler이용)                    \n",
    "                        \n",
    "- standardization (표준화) : 평균0, 표준편차 1로 조정\n",
    "\n",
    "                            X - Xmean(평균)\n",
    "    - standardization = --------------------------\n",
    "                            Xstd(표준편차)\n",
    "    - 위의 식을 써도 되지만, 라이브러리를 씀(sklearn.preprocessing.StandardScaler이용)                    "
   ]
  },
  {
   "cell_type": "code",
   "execution_count": 107,
   "id": "1ec384bb",
   "metadata": {},
   "outputs": [
    {
     "name": "stdout",
     "output_type": "stream",
     "text": [
      "[0.         0.11111111 0.44444444 0.77777778 1.        ]\n",
      "[0.         0.13043478 0.70652174 0.83695652 1.        ]\n"
     ]
    }
   ],
   "source": [
    "# 라이브러리를 쓰지 않고, 정규화\n",
    "x_data = np.array([1, 2, 5, 8, 10])\n",
    "y_data = np.array([3, 15, 68, 80, 95])\n",
    "\n",
    "scaled_x_data = (x_data - x_data.min()) / (x_data.max() - x_data.min())\n",
    "scaled_y_data = (y_data - y_data.min()) / (y_data.max() - y_data.min())\n",
    "\n",
    "print(scaled_x_data)\n",
    "print(scaled_y_data)"
   ]
  },
  {
   "cell_type": "code",
   "execution_count": 108,
   "id": "ee14cd4c",
   "metadata": {},
   "outputs": [
    {
     "name": "stdout",
     "output_type": "stream",
     "text": [
      "0번쨰 cost : 0.28556233644485474, W : [-0.2977222], b : [0.5069252]\n",
      "500번쨰 cost : 0.18581125140190125, W : [-0.09262364], b : [0.57477194]\n",
      "1000번쨰 cost : 0.14574575424194336, W : [0.04605191], b : [0.55210006]\n",
      "1500번쨰 cost : 0.11721716821193695, W : [0.1568849], b : [0.50807774]\n",
      "2000번쨰 cost : 0.09488210827112198, W : [0.25191557], b : [0.46205106]\n",
      "2500번쨰 cost : 0.07721078395843506, W : [0.33545876], b : [0.4191211]\n",
      "3000번쨰 cost : 0.06321386247873306, W : [0.4095176], b : [0.38034752]\n",
      "3500번쨰 cost : 0.05212609842419624, W : [0.475347], b : [0.3456757]\n",
      "4000번쨰 cost : 0.04334265738725662, W : [0.5339137], b : [0.31476995]\n",
      "4500번쨰 cost : 0.03638466075062752, W : [0.5860333], b : [0.28724912]\n",
      "5000번쨰 cost : 0.03087274357676506, W : [0.6324198], b : [0.2627507]\n",
      "5500번쨰 cost : 0.026506343856453896, W : [0.6737053], b : [0.24094495]\n",
      "6000번쨰 cost : 0.023047424852848053, W : [0.71045065], b : [0.2215367]\n",
      "6500번쨰 cost : 0.020307384431362152, W : [0.7431552], b : [0.20426254]\n",
      "7000번쨰 cost : 0.018136797472834587, W : [0.77226365], b : [0.18888782]\n",
      "7500번쨰 cost : 0.01641731522977352, W : [0.7981714], b : [0.17520371]\n",
      "8000번쨰 cost : 0.015055185183882713, W : [0.8212304], b : [0.16302425]\n",
      "8500번쨰 cost : 0.013976147398352623, W : [0.8417537], b : [0.1521841]\n",
      "9000번쨰 cost : 0.013121361844241619, W : [0.8600205], b : [0.14253587]\n",
      "9500번쨰 cost : 0.012444229796528816, W : [0.87627846], b : [0.13394856]\n",
      "10000번쨰 cost : 0.011907825246453285, W : [0.89074874], b : [0.12630548]\n",
      "10500번쨰 cost : 0.011482900008559227, W : [0.90362793], b : [0.11950292]\n",
      "11000번쨰 cost : 0.011146282777190208, W : [0.91509104], b : [0.1134483]\n",
      "11500번쨰 cost : 0.010879619047045708, W : [0.9252938], b : [0.10805933]\n",
      "12000번쨰 cost : 0.010668382979929447, W : [0.93437433], b : [0.10326306]\n",
      "12500번쨰 cost : 0.010501047596335411, W : [0.9424564], b : [0.0989942]\n",
      "13000번쨰 cost : 0.01036849245429039, W : [0.9496498], b : [0.09519475]\n",
      "13500번쨰 cost : 0.010263482108712196, W : [0.9560523], b : [0.09181307]\n",
      "14000번쨰 cost : 0.010180297307670116, W : [0.9617507], b : [0.08880324]\n",
      "14500번쨰 cost : 0.010114399716258049, W : [0.9668225], b : [0.08612438]\n",
      "15000번쨰 cost : 0.010062195360660553, W : [0.9713365], b : [0.08374009]\n"
     ]
    }
   ],
   "source": [
    "# 라이브러리를 쓰고 정규화 (MinmaxScaler 이용)\n",
    "x_data = np.array([1, 2, 5, 8, 10]).reshape(-1, 1)\n",
    "y_data = np.array([3, 15, 68, 80, 95]).reshape(-1, 1)\n",
    "# np.column_stack([x_data, y_data])\n",
    "from sklearn.preprocessing import MinMaxScaler\n",
    "\n",
    "scaler_x = MinMaxScaler()  # x_data를 정규화시킬 객체\n",
    "\n",
    "# scaler_x.fit(x_data)\n",
    "# scaled_x_data = scaler_x.transform(x_data)\n",
    "scaled_x_data = scaler_x.fit_transform(x_data)\n",
    "\n",
    "scaler_y = MinMaxScaler()  # y_data를 정규화시킬 객체\n",
    "scaled_y_data = scaler_y.fit_transform(y_data)\n",
    "\n",
    "np.column_stack([x_data, y_data, scaled_x_data, scaled_y_data])\n",
    "\n",
    "# placeholder 설정 (입렵변수 x, 타겟변수 y)\n",
    "x = tf.placeholder(dtype=tf.float32)\n",
    "y = tf.placeholder(dtype=tf.float32)\n",
    "\n",
    "# W, b\n",
    "W = tf.Variable(tf.random_normal([1]))\n",
    "b = tf.Variable(tf.random_normal([1]))\n",
    "\n",
    "# Hypothesis (예측값)\n",
    "\n",
    "H = W * x + b\n",
    "\n",
    "# 손실함수\n",
    "cost = tf.reduce_mean(tf.square(H - y))\n",
    "\n",
    "# 경사하강법\n",
    "train = tf.train.GradientDescentOptimizer(learning_rate=0.001).minimize(cost)\n",
    "\n",
    "# Session 객체 생성\n",
    "sess = tf.Session()\n",
    "sess.run(tf.global_variables_initializer())  # W, b 초기화\n",
    "\n",
    "# 15000 학습\n",
    "for step in range(15001):\n",
    "    _, cost_val, W_val, b_val = sess.run([train, cost, W, b],\n",
    "                                         feed_dict={\n",
    "                                             x: scaled_x_data,\n",
    "                                             y: scaled_y_data\n",
    "                                         })\n",
    "\n",
    "    if step % 500 == 0:\n",
    "        print(\"{}번쨰 cost : {}, W : {}, b : {}\".format(step, cost_val, W_val,\n",
    "                                                      b_val))"
   ]
  },
  {
   "cell_type": "code",
   "execution_count": 109,
   "id": "2919b762",
   "metadata": {},
   "outputs": [
    {
     "name": "stdout",
     "output_type": "stream",
     "text": [
      "모델 예측 위한 입력 :\n",
      "[[0.11111111]\n",
      " [0.22222222]]\n",
      "모델 예측 결과 :\n",
      "[[0.19166636]\n",
      " [0.29959264]]\n",
      "결과 :\n",
      "[[20.633307]\n",
      " [30.562523]]\n"
     ]
    }
   ],
   "source": [
    "# 예측 : 모델에 scale 조정된 값으로 예측=>scale 조정된 y값\n",
    "# scaled_input\n",
    "scaled_input = scaler_x.transform(np.array([[2], [3]]))\n",
    "scaled_input\n",
    "print('모델 예측 위한 입력 :', scaled_input, sep='\\n')\n",
    "# scaled_output\n",
    "scaled_output = sess.run(H, feed_dict={x: scaled_input})\n",
    "print('모델 예측 결과 :', scaled_output, sep='\\n')\n",
    "\n",
    "print('결과 :', scaler_y.inverse_transform(scaled_output), sep='\\n')"
   ]
  },
  {
   "cell_type": "code",
   "execution_count": 110,
   "id": "d11fd87b",
   "metadata": {},
   "outputs": [],
   "source": [
    "# x_data들의 예측값\n",
    "scaled_y_hat = sess.run(H, feed_dict={x: scaled_x_data})\n",
    "y_hat = scaler_y.inverse_transform(scaled_y_hat)"
   ]
  },
  {
   "cell_type": "code",
   "execution_count": 111,
   "id": "3579fe09",
   "metadata": {},
   "outputs": [
    {
     "data": {
      "text/plain": [
       "[<matplotlib.lines.Line2D at 0x17ae9b7f0>]"
      ]
     },
     "execution_count": 111,
     "metadata": {},
     "output_type": "execute_result"
    },
    {
     "data": {
      "image/png": "[encoded data removed]",
      "text/plain": [
       "<Figure size 640x480 with 1 Axes>"
      ]
     },
     "metadata": {},
     "output_type": "display_data"
    }
   ],
   "source": [
    "import matplotlib.pyplot as plt\n",
    "\n",
    "plt.plot(x_data, y_data, 'r')\n",
    "plt.plot(x_data, y_hat, 'b')"
   ]
  },
  {
   "cell_type": "code",
   "execution_count": 120,
   "id": "801ae9dd",
   "metadata": {},
   "outputs": [
    {
     "name": "stdout",
     "output_type": "stream",
     "text": [
      "0번쨰 cost : 9.610828399658203, W : [-2.0292697], b : [0.724889]\n",
      "500번쨰 cost : 1.3523017168045044, W : [-0.13343576], b : [0.2664049]\n",
      "1000번쨰 cost : 0.23686687648296356, W : [0.563305], b : [0.09790672]\n",
      "1500번쨰 cost : 0.08621138334274292, W : [0.8193649], b : [0.03598184]\n",
      "2000번쨰 cost : 0.06586316227912903, W : [0.9134699], b : [0.01322374]\n",
      "2500번쨰 cost : 0.06311487406492233, W : [0.9480539], b : [0.00485988]\n",
      "3000번쨰 cost : 0.06274367868900299, W : [0.9607642], b : [0.00178607]\n",
      "3500번쨰 cost : 0.0626935213804245, W : [0.9654354], b : [0.00065641]\n",
      "4000번쨰 cost : 0.06268675625324249, W : [0.9671523], b : [0.00024125]\n",
      "4500번쨰 cost : 0.06268583238124847, W : [0.96778315], b : [8.8667846e-05]\n",
      "5000번쨰 cost : 0.06268572062253952, W : [0.9680154], b : [3.259456e-05]\n",
      "5500번쨰 cost : 0.06268570572137833, W : [0.96810013], b : [1.1986471e-05]\n",
      "6000번쨰 cost : 0.06268569827079773, W : [0.9681325], b : [4.413136e-06]\n",
      "6500번쨰 cost : 0.06268569827079773, W : [0.96813506], b : [1.6381791e-06]\n",
      "7000번쨰 cost : 0.06268569082021713, W : [0.96813506], b : [6.193623e-07]\n",
      "7500번쨰 cost : 0.06268569082021713, W : [0.96813506], b : [2.467076e-07]\n",
      "8000번쨰 cost : 0.06268569082021713, W : [0.96813506], b : [1.09593266e-07]\n",
      "8500번쨰 cost : 0.06268568336963654, W : [0.96813506], b : [5.7305108e-08]\n",
      "9000번쨰 cost : 0.06268568336963654, W : [0.96813506], b : [4.9855068e-08]\n",
      "9500번쨰 cost : 0.06268568336963654, W : [0.96813506], b : [4.2405027e-08]\n",
      "10000번쨰 cost : 0.06268569827079773, W : [0.96813506], b : [3.4954986e-08]\n",
      "10500번쨰 cost : 0.06268569827079773, W : [0.96813506], b : [2.9799557e-08]\n",
      "11000번쨰 cost : 0.06268569827079773, W : [0.96813506], b : [2.980701e-08]\n",
      "11500번쨰 cost : 0.06268569827079773, W : [0.96813506], b : [2.981446e-08]\n",
      "12000번쨰 cost : 0.06268569827079773, W : [0.96813506], b : [2.982191e-08]\n",
      "12500번쨰 cost : 0.06268569082021713, W : [0.96813506], b : [2.982936e-08]\n",
      "13000번쨰 cost : 0.06268569082021713, W : [0.96813506], b : [2.983681e-08]\n",
      "13500번쨰 cost : 0.06268569827079773, W : [0.96813506], b : [2.9792107e-08]\n",
      "14000번쨰 cost : 0.06268569827079773, W : [0.96813506], b : [2.9799557e-08]\n",
      "14500번쨰 cost : 0.06268569827079773, W : [0.96813506], b : [2.980701e-08]\n",
      "15000번쨰 cost : 0.06268569827079773, W : [0.96813506], b : [2.981446e-08]\n"
     ]
    }
   ],
   "source": [
    "# 라이브러리를 쓰고 표준화 (StandardScaler 이용)\n",
    "x_data = np.array([1, 2, 5, 8, 10]).reshape(-1, 1)\n",
    "y_data = np.array([3, 15, 68, 80, 95]).reshape(-1, 1)\n",
    "\n",
    "from sklearn.preprocessing import StandardScaler\n",
    "\n",
    "scaler_x = StandardScaler() # x_data를 표준화할 객체\n",
    "scaler_y = StandardScaler() # y_data를 표준화할 객체\n",
    "\n",
    "scaled_x_data = scaler_x.fit_transform(x_data)\n",
    "scaled_y_data = scaler_y.fit_transform(y_data)\n",
    "\n",
    "# print(np.column_stack([x_data, y_data]))\n",
    "# print(np.column_stack([scaled_x_data, scaled_y_data]))\n",
    "\n",
    "# placeholder 설정 (입렵변수 x, 타겟변수 y)\n",
    "x = tf.placeholder(dtype=tf.float32)\n",
    "y = tf.placeholder(dtype=tf.float32)\n",
    "\n",
    "# W, b\n",
    "W = tf.Variable(tf.random_normal([1]))\n",
    "b = tf.Variable(tf.random_normal([1]))\n",
    "\n",
    "# Hypothesis (예측값)\n",
    "\n",
    "H = W * x + b\n",
    "\n",
    "# 손실함수\n",
    "cost = tf.reduce_mean(tf.square(H - y))\n",
    "\n",
    "# 경사하강법\n",
    "train = tf.train.GradientDescentOptimizer(learning_rate=0.001).minimize(cost)\n",
    "\n",
    "# Session 객체 생성\n",
    "sess = tf.Session()\n",
    "sess.run(tf.global_variables_initializer())  # W, b 초기화\n",
    "\n",
    "# 15000 학습\n",
    "for step in range(15001):\n",
    "    _, cost_val, W_val, b_val = sess.run([train, cost, W, b],\n",
    "                                         feed_dict={\n",
    "                                             x: scaled_x_data,\n",
    "                                             y: scaled_y_data\n",
    "                                         })\n",
    "\n",
    "    if step % 500 == 0:\n",
    "        print(\"{}번쨰 cost : {}, W : {}, b : {}\".format(step, cost_val, W_val,\n",
    "                                                      b_val))"
   ]
  },
  {
   "cell_type": "code",
   "execution_count": 121,
   "id": "3053702d",
   "metadata": {},
   "outputs": [
    {
     "name": "stdout",
     "output_type": "stream",
     "text": [
      "모델 예측 위한 입력 :\n",
      "[[-0.93313895]\n",
      " [-0.64153303]]\n",
      "모델 예측 결과 :\n",
      "[[-0.9034045 ]\n",
      " [-0.62109053]]\n",
      "결과 :\n",
      "[[19.2318  ]\n",
      " [29.534367]]\n"
     ]
    }
   ],
   "source": [
    "# 예측 : 모델에 scale 조정된 값으로 예측=>scale 조정된 y값\n",
    "# scaled_input\n",
    "scaled_input = scaler_x.transform(np.array([[2], [3]]))\n",
    "scaled_input\n",
    "print('모델 예측 위한 입력 :', scaled_input, sep='\\n')\n",
    "# scaled_output\n",
    "scaled_output = sess.run(H, feed_dict={x: scaled_input})\n",
    "print('모델 예측 결과 :', scaled_output, sep='\\n')\n",
    "\n",
    "print('결과 :', scaler_y.inverse_transform(scaled_output), sep='\\n')"
   ]
  },
  {
   "cell_type": "code",
   "execution_count": 122,
   "id": "12261872",
   "metadata": {},
   "outputs": [],
   "source": [
    "# x_data들의 예측값\n",
    "scaled_y_hat = sess.run(H, feed_dict={x: scaled_x_data})\n",
    "y_hat = scaler_y.inverse_transform(scaled_y_hat)"
   ]
  },
  {
   "cell_type": "code",
   "execution_count": 123,
   "id": "6c2c4164",
   "metadata": {},
   "outputs": [
    {
     "data": {
      "text/plain": [
       "[<matplotlib.lines.Line2D at 0x17afaaa30>]"
      ]
     },
     "execution_count": 123,
     "metadata": {},
     "output_type": "execute_result"
    },
    {
     "data": {
      "image/png": "[encoded data removed]",
      "text/plain": [
       "<Figure size 640x480 with 1 Axes>"
      ]
     },
     "metadata": {},
     "output_type": "display_data"
    }
   ],
   "source": [
    "import matplotlib.pyplot as plt\n",
    "\n",
    "plt.plot(x_data, y_data, 'r')\n",
    "plt.plot(x_data, y_hat, 'b')"
   ]
  },
  {
   "cell_type": "markdown",
   "id": "7adabb81",
   "metadata": {},
   "source": [
    "## 2.5. 입력(독립)변수 x가 3개, 타켓(종속)변수 y가 1개 (csv → array)"
   ]
  },
  {
   "cell_type": "code",
   "execution_count": 189,
   "id": "8765075c",
   "metadata": {},
   "outputs": [
    {
     "data": {
      "text/plain": [
       "array([[ 41. , 190. ,   7.4,  67. ,   5. ,   1. ],\n",
       "       [ 36. , 118. ,   8. ,  72. ,   5. ,   2. ],\n",
       "       [ 12. , 149. ,  12.6,  74. ,   5. ,   3. ],\n",
       "       [ 18. , 313. ,  11.5,  62. ,   5. ,   4. ],\n",
       "       [  nan,   nan,  14.3,  56. ,   5. ,   5. ]])"
      ]
     },
     "execution_count": 189,
     "metadata": {},
     "output_type": "execute_result"
    }
   ],
   "source": [
    "# 방법1 : csv → array\n",
    "import numpy as np\n",
    "# data = np.loadtxt('./data/pima-indians-diabetes.csv', delimiter=',', encoding='utf-8') # 결측치와, header가 없어야 함\n",
    "# data # → 에러 발생\n",
    "\n",
    "data = np.genfromtxt('data/ozone.csv',\n",
    "                     delimiter=',',\n",
    "                     skip_header=1,\n",
    "                     missing_values='NA',\n",
    "                     filling_values=np.nan)\n",
    "data[:5]"
   ]
  },
  {
   "cell_type": "code",
   "execution_count": 190,
   "id": "ac2832d2",
   "metadata": {},
   "outputs": [
    {
     "name": "stdout",
     "output_type": "stream",
     "text": [
      "<class 'pandas.core.frame.DataFrame'>\n",
      "RangeIndex: 153 entries, 0 to 152\n",
      "Data columns (total 6 columns):\n",
      " #   Column   Non-Null Count  Dtype  \n",
      "---  ------   --------------  -----  \n",
      " 0   Ozone    116 non-null    float64\n",
      " 1   Solar.R  146 non-null    float64\n",
      " 2   Wind     153 non-null    float64\n",
      " 3   Temp     153 non-null    int64  \n",
      " 4   Month    153 non-null    int64  \n",
      " 5   Day      153 non-null    int64  \n",
      "dtypes: float64(3), int64(3)\n",
      "memory usage: 7.3 KB\n"
     ]
    },
    {
     "data": {
      "text/plain": [
       "Ozone      37\n",
       "Solar.R     7\n",
       "Wind        0\n",
       "Temp        0\n",
       "Month       0\n",
       "Day         0\n",
       "dtype: int64"
      ]
     },
     "execution_count": 190,
     "metadata": {},
     "output_type": "execute_result"
    }
   ],
   "source": [
    "# 방법2 : csv 파일 → dataFrame → 결측치처리 → numpy array → 머신러닝\n",
    "# 1. csv 를 데이터프레임으로 읽기\n",
    "import pandas as pd\n",
    "data = pd.read_csv('./data/ozone.csv')\n",
    "# data.head()\n",
    "data.info() # Ozone , Solar.R 열에만 결측치 \n",
    "data.isna().sum() # 열별 결측치 갯수"
   ]
  },
  {
   "cell_type": "code",
   "execution_count": 191,
   "id": "db75ec2e",
   "metadata": {},
   "outputs": [
    {
     "data": {
      "text/html": [
       "<div>\n",
       "<style scoped>\n",
       "    .dataframe tbody tr th:only-of-type {\n",
       "        vertical-align: middle;\n",
       "    }\n",
       "\n",
       "    .dataframe tbody tr th {\n",
       "        vertical-align: top;\n",
       "    }\n",
       "\n",
       "    .dataframe thead th {\n",
       "        text-align: right;\n",
       "    }\n",
       "</style>\n",
       "<table border=\"1\" class=\"dataframe\">\n",
       "  <thead>\n",
       "    <tr style=\"text-align: right;\">\n",
       "      <th></th>\n",
       "      <th>Ozone</th>\n",
       "      <th>Solar.R</th>\n",
       "    </tr>\n",
       "    <tr>\n",
       "      <th>Month</th>\n",
       "      <th></th>\n",
       "      <th></th>\n",
       "    </tr>\n",
       "  </thead>\n",
       "  <tbody>\n",
       "    <tr>\n",
       "      <th>5</th>\n",
       "      <td>23.615385</td>\n",
       "      <td>181.296296</td>\n",
       "    </tr>\n",
       "    <tr>\n",
       "      <th>6</th>\n",
       "      <td>29.444444</td>\n",
       "      <td>190.166667</td>\n",
       "    </tr>\n",
       "    <tr>\n",
       "      <th>7</th>\n",
       "      <td>59.115385</td>\n",
       "      <td>216.483871</td>\n",
       "    </tr>\n",
       "    <tr>\n",
       "      <th>8</th>\n",
       "      <td>59.961538</td>\n",
       "      <td>171.857143</td>\n",
       "    </tr>\n",
       "    <tr>\n",
       "      <th>9</th>\n",
       "      <td>31.448276</td>\n",
       "      <td>167.433333</td>\n",
       "    </tr>\n",
       "  </tbody>\n",
       "</table>\n",
       "</div>"
      ],
      "text/plain": [
       "           Ozone     Solar.R\n",
       "Month                       \n",
       "5      23.615385  181.296296\n",
       "6      29.444444  190.166667\n",
       "7      59.115385  216.483871\n",
       "8      59.961538  171.857143\n",
       "9      31.448276  167.433333"
      ]
     },
     "metadata": {},
     "output_type": "display_data"
    },
    {
     "name": "stdout",
     "output_type": "stream",
     "text": [
      "6월에 Ozone으로 대체할 값 : 29.444444444444443\n"
     ]
    }
   ],
   "source": [
    "# 2. 결측치 처리\n",
    "# 결측치 처리방법1 : 2-1. 결측치가 있는 행을 제거\n",
    "# data.dropna(how='all') # 모두 \n",
    "# data.dropna(how='any', axis=0).shape\n",
    "\n",
    "# data = data.dropna(how='any', axis=0) \n",
    "# data.dropna(how='any', axis=0, inplace=True) \n",
    "\n",
    "\n",
    "# 결측치 처리 방법2 : 결측치 대체(열별 평균값으로 대체)\n",
    "data.mean() # 열별평균\n",
    "# data.fillna(value=data.mean(), inplace=True)\n",
    "\n",
    "# 결측치 처리 방법2 : 결측치 대체(월별 평균값으로 대체)\n",
    "mean_data = data.groupby('Month')[['Ozone','Solar.R']].mean() # 월별평균\n",
    "display(mean_data)\n",
    "\n",
    "print('6월에 Ozone으로 대체할 값 :', mean_data.loc[6, 'Ozone'])"
   ]
  },
  {
   "cell_type": "code",
   "execution_count": 192,
   "id": "14633af3",
   "metadata": {},
   "outputs": [
    {
     "data": {
      "text/html": [
       "<div>\n",
       "<style scoped>\n",
       "    .dataframe tbody tr th:only-of-type {\n",
       "        vertical-align: middle;\n",
       "    }\n",
       "\n",
       "    .dataframe tbody tr th {\n",
       "        vertical-align: top;\n",
       "    }\n",
       "\n",
       "    .dataframe thead th {\n",
       "        text-align: right;\n",
       "    }\n",
       "</style>\n",
       "<table border=\"1\" class=\"dataframe\">\n",
       "  <thead>\n",
       "    <tr style=\"text-align: right;\">\n",
       "      <th></th>\n",
       "      <th>Ozone</th>\n",
       "      <th>Solar.R</th>\n",
       "      <th>Wind</th>\n",
       "      <th>Temp</th>\n",
       "      <th>Month</th>\n",
       "      <th>Day</th>\n",
       "    </tr>\n",
       "  </thead>\n",
       "  <tbody>\n",
       "    <tr>\n",
       "      <th>4</th>\n",
       "      <td>NaN</td>\n",
       "      <td>NaN</td>\n",
       "      <td>14.3</td>\n",
       "      <td>56</td>\n",
       "      <td>5</td>\n",
       "      <td>5</td>\n",
       "    </tr>\n",
       "    <tr>\n",
       "      <th>5</th>\n",
       "      <td>28.0</td>\n",
       "      <td>NaN</td>\n",
       "      <td>14.9</td>\n",
       "      <td>66</td>\n",
       "      <td>5</td>\n",
       "      <td>6</td>\n",
       "    </tr>\n",
       "    <tr>\n",
       "      <th>9</th>\n",
       "      <td>NaN</td>\n",
       "      <td>194.0</td>\n",
       "      <td>8.6</td>\n",
       "      <td>69</td>\n",
       "      <td>5</td>\n",
       "      <td>10</td>\n",
       "    </tr>\n",
       "    <tr>\n",
       "      <th>10</th>\n",
       "      <td>7.0</td>\n",
       "      <td>NaN</td>\n",
       "      <td>6.9</td>\n",
       "      <td>74</td>\n",
       "      <td>5</td>\n",
       "      <td>11</td>\n",
       "    </tr>\n",
       "    <tr>\n",
       "      <th>24</th>\n",
       "      <td>NaN</td>\n",
       "      <td>66.0</td>\n",
       "      <td>16.6</td>\n",
       "      <td>57</td>\n",
       "      <td>5</td>\n",
       "      <td>25</td>\n",
       "    </tr>\n",
       "  </tbody>\n",
       "</table>\n",
       "</div>"
      ],
      "text/plain": [
       "    Ozone  Solar.R  Wind  Temp  Month  Day\n",
       "4     NaN      NaN  14.3    56      5    5\n",
       "5    28.0      NaN  14.9    66      5    6\n",
       "9     NaN    194.0   8.6    69      5   10\n",
       "10    7.0      NaN   6.9    74      5   11\n",
       "24    NaN     66.0  16.6    57      5   25"
      ]
     },
     "execution_count": 192,
     "metadata": {},
     "output_type": "execute_result"
    }
   ],
   "source": [
    "# 결측치가 있는 데이터\n",
    "# data['Ozone'].isna()\n",
    "# data['Solar.R'].isna()\n",
    "data[data['Ozone'].isna() | data['Solar.R'].isna()].head()"
   ]
  },
  {
   "cell_type": "code",
   "execution_count": 193,
   "id": "8d6d7eb0",
   "metadata": {},
   "outputs": [
    {
     "data": {
      "text/plain": [
       "Ozone       23.615385\n",
       "Solar.R    181.296296\n",
       "Wind        14.300000\n",
       "Temp        56.000000\n",
       "Month        5.000000\n",
       "Day          5.000000\n",
       "Name: 4, dtype: float64"
      ]
     },
     "execution_count": 193,
     "metadata": {},
     "output_type": "execute_result"
    }
   ],
   "source": [
    "def fill_nan(row):\n",
    "    # print(row['Ozone'], row['Solar.R'])\n",
    "    # print(row.isna())\n",
    "    \"row['Ozone']이나 row['Solar.R']가 결측치면 mean_data[월, 열이름]으로 대체\"\n",
    "    # if np.isna(row['Ozone']):\n",
    "    pd.options.mode.copy_on_write = True\n",
    "    # row = row.copy() # 깊은 복사\n",
    "    if row.isna()['Ozone']:\n",
    "        row['Ozone'] = mean_data.loc[row.Month, 'Ozone']\n",
    "    if row.isna()['Solar.R']:\n",
    "        row['Solar.R'] = mean_data.loc[row.Month, 'Solar.R']\n",
    "\n",
    "    return row\n",
    "\n",
    "fill_nan(data.loc[4])"
   ]
  },
  {
   "cell_type": "code",
   "execution_count": 1,
   "id": "e570aa6f",
   "metadata": {},
   "outputs": [
    {
     "ename": "NameError",
     "evalue": "name 'data' is not defined",
     "output_type": "error",
     "traceback": [
      "\u001b[0;31m---------------------------------------------------------------------------\u001b[0m",
      "\u001b[0;31mNameError\u001b[0m                                 Traceback (most recent call last)",
      "Cell \u001b[0;32mIn[1], line 1\u001b[0m\n\u001b[0;32m----> 1\u001b[0m data \u001b[38;5;241m=\u001b[39m \u001b[43mdata\u001b[49m\u001b[38;5;241m.\u001b[39mapply(fill_nan, axis\u001b[38;5;241m=\u001b[39m\u001b[38;5;241m1\u001b[39m)\n\u001b[1;32m      2\u001b[0m \u001b[38;5;66;03m# data.head()\u001b[39;00m\n\u001b[1;32m      3\u001b[0m X_data \u001b[38;5;241m=\u001b[39m data[[\u001b[38;5;124m'\u001b[39m\u001b[38;5;124mSolar.R\u001b[39m\u001b[38;5;124m'\u001b[39m, \u001b[38;5;124m'\u001b[39m\u001b[38;5;124mWind\u001b[39m\u001b[38;5;124m'\u001b[39m, \u001b[38;5;124m'\u001b[39m\u001b[38;5;124mTemp\u001b[39m\u001b[38;5;124m'\u001b[39m]]\u001b[38;5;241m.\u001b[39mvalues \u001b[38;5;66;03m# 독립변수\u001b[39;00m\n",
      "\u001b[0;31mNameError\u001b[0m: name 'data' is not defined"
     ]
    }
   ],
   "source": [
    "data = data.apply(fill_nan, axis=1)\n",
    "# data.head()\n",
    "X_data = data[['Solar.R', 'Wind', 'Temp']].values # 독립변수\n",
    "y_data = data[['Ozone']].values # 타켓변수\n",
    "\n",
    "\n",
    "X_data.shape, y_data.shape"
   ]
  },
  {
   "cell_type": "code",
   "execution_count": 195,
   "id": "db38a3fb",
   "metadata": {},
   "outputs": [
    {
     "name": "stdout",
     "output_type": "stream",
     "text": [
      "1000번쨰 cost:558.4839477539062\n",
      "2000번쨰 cost:509.7488708496094\n",
      "3000번쨰 cost:485.31561279296875\n",
      "4000번쨰 cost:473.0638732910156\n",
      "5000번쨰 cost:466.91839599609375\n",
      "6000번쨰 cost:463.8336486816406\n",
      "7000번쨰 cost:462.2832336425781\n",
      "8000번쨰 cost:461.50189208984375\n",
      "9000번쨰 cost:461.10601806640625\n",
      "10000번쨰 cost:460.90350341796875\n",
      "11000번쨰 cost:460.7977294921875\n",
      "12000번쨰 cost:460.7404479980469\n",
      "13000번쨰 cost:460.7076721191406\n",
      "14000번쨰 cost:460.6870422363281\n",
      "15000번쨰 cost:460.67254638671875\n",
      "16000번쨰 cost:460.6611022949219\n",
      "17000번쨰 cost:460.6511535644531\n",
      "18000번쨰 cost:460.6421203613281\n",
      "19000번쨰 cost:460.6333312988281\n",
      "20000번쨰 cost:460.62469482421875\n",
      "최종 cost:460.62469482421875, W:[[ 0.05526647]\n",
      " [-3.5552058 ]\n",
      " [ 0.87721205]], b:[-1.8628497]\n"
     ]
    }
   ],
   "source": [
    "# tensorflow 구현\n",
    "\n",
    "# 1. X, y\n",
    "X = tf.placeholder(shape=[None, 3], dtype=tf.float32)\n",
    "y = tf.placeholder(shape=[None, 1], dtype=tf.float32)\n",
    "\n",
    "# 2. 독립변수 3개, 타켓변수 1개인 모델의 weight, bias\n",
    "W = tf.Variable(tf.random_normal([3, 1]))\n",
    "b = tf.Variable(tf.random_normal([1]))\n",
    "\n",
    "# 3. Hypothesis\n",
    "# H = X @ W + b\n",
    "H = tf.matmul(X, W) + b\n",
    "\n",
    "# 4. cost 함수 (손실함수) : mse\n",
    "cost = tf.reduce_mean(tf.square(H - y))\n",
    "\n",
    "# 5. train\n",
    "train = tf.train.GradientDescentOptimizer(learning_rate=1e-5).minimize(cost)\n",
    "\n",
    "# sess 객체 생성, b 초기화\n",
    "sess = tf.Session()\n",
    "sess.run(tf.global_variables_initializer())\n",
    "\n",
    "# 6. 학습\n",
    "for step in range(1, 20001):\n",
    "    _, cost_val = sess.run([train, cost], feed_dict={X: X_data, y: y_data})\n",
    "    \n",
    "    if step%1000 == 0:\n",
    "        print(\"{}번쨰 cost:{}\".format(step, cost_val))\n",
    "print(\"최종 cost:{}, W:{}, b:{}\".format(cost_val,\n",
    "                                     sess.run(W),\n",
    "                                     sess.run(b)))"
   ]
  },
  {
   "cell_type": "code",
   "execution_count": 196,
   "id": "bc317abc",
   "metadata": {},
   "outputs": [
    {
     "data": {
      "text/plain": [
       "array([[190.        ,   7.4       ,  67.        ,  41.        ],\n",
       "       [118.        ,   8.        ,  72.        ,  36.        ],\n",
       "       [149.        ,  12.6       ,  74.        ,  12.        ],\n",
       "       [313.        ,  11.5       ,  62.        ,  18.        ],\n",
       "       [181.2962963 ,  14.3       ,  56.        ,  23.61538462]])"
      ]
     },
     "execution_count": 196,
     "metadata": {},
     "output_type": "execute_result"
    }
   ],
   "source": [
    "np.column_stack([X_data, y_data])[:5]"
   ]
  },
  {
   "cell_type": "code",
   "execution_count": 197,
   "id": "c6500e88",
   "metadata": {},
   "outputs": [
    {
     "data": {
      "text/plain": [
       "array([[39.376213]], dtype=float32)"
      ]
     },
     "execution_count": 197,
     "metadata": {},
     "output_type": "execute_result"
    }
   ],
   "source": [
    "# 예측하기\n",
    "input_data = np.array([[118., 8., 72.]])\n",
    "# X_data[0], y_data[0]\n",
    "sess.run(H, feed_dict={X: input_data})"
   ]
  },
  {
   "cell_type": "markdown",
   "id": "dba103ab",
   "metadata": {},
   "source": [
    "### 스케일 조정 \n",
    "```\n",
    "MinMaxScaler, StandardScaler\n",
    "      0~1        -2 ~ 2. 주로 0근처\n",
    "```"
   ]
  },
  {
   "cell_type": "code",
   "execution_count": 198,
   "id": "03263243",
   "metadata": {},
   "outputs": [
    {
     "data": {
      "text/plain": [
       "((153, 3), (153, 1))"
      ]
     },
     "execution_count": 198,
     "metadata": {},
     "output_type": "execute_result"
    }
   ],
   "source": [
    "from sklearn.preprocessing import MinMaxScaler\n",
    "\n",
    "x_scaler = MinMaxScaler()\n",
    "y_scaler = MinMaxScaler()\n",
    "\n",
    "scaled_X_data = x_scaler.fit_transform(X_data)\n",
    "scaled_y_data = y_scaler.fit_transform(y_data)\n",
    "\n",
    "scaled_X_data.shape, scaled_y_data.shape"
   ]
  },
  {
   "cell_type": "code",
   "execution_count": 199,
   "id": "71ab4062",
   "metadata": {},
   "outputs": [
    {
     "data": {
      "text/plain": [
       "array([[0.55963303, 0.3       , 0.26829268, 0.23952096],\n",
       "       [0.33944954, 0.33157895, 0.3902439 , 0.20958084]])"
      ]
     },
     "execution_count": 199,
     "metadata": {},
     "output_type": "execute_result"
    }
   ],
   "source": [
    "np.column_stack([scaled_X_data, scaled_y_data])[:2]"
   ]
  },
  {
   "cell_type": "code",
   "execution_count": 204,
   "id": "4e72eef4",
   "metadata": {},
   "outputs": [
    {
     "name": "stdout",
     "output_type": "stream",
     "text": [
      "1000번째 cost:1.0064939260482788\n",
      "2000번째 cost:0.9525971412658691\n",
      "3000번째 cost:0.9023994207382202\n",
      "4000번째 cost:0.8556453585624695\n",
      "5000번째 cost:0.8121229410171509\n",
      "6000번째 cost:0.7715693712234497\n",
      "7000번째 cost:0.7337849140167236\n",
      "8000번째 cost:0.698621392250061\n",
      "9000번째 cost:0.6658585667610168\n",
      "10000번째 cost:0.6353327035903931\n",
      "11000번째 cost:0.6068910956382751\n",
      "12000번째 cost:0.5803905129432678\n",
      "13000번째 cost:0.5556986927986145\n",
      "14000번째 cost:0.5326887965202332\n",
      "15000번째 cost:0.5112442374229431\n",
      "16000번째 cost:0.49125567078590393\n",
      "17000번째 cost:0.4726196527481079\n",
      "18000번째 cost:0.45525360107421875\n",
      "19000번째 cost:0.4390598237514496\n",
      "20000번째 cost:0.42395374178886414\n",
      "21000번째 cost:0.40987464785575867\n",
      "22000번째 cost:0.396733820438385\n",
      "23000번째 cost:0.3844815790653229\n",
      "24000번째 cost:0.37304678559303284\n",
      "25000번째 cost:0.36237016320228577\n",
      "26000번째 cost:0.35241422057151794\n",
      "27000번째 cost:0.3431170880794525\n",
      "28000번째 cost:0.3344331979751587\n",
      "29000번째 cost:0.3263212740421295\n",
      "30000번째 cost:0.3187424838542938\n",
      "최종 cost:0.3187424838542938, W:[[ 1.8858913 ]\n",
      " [ 0.18446961]\n",
      " [-0.28022456]], b:[-0.44836685]\n"
     ]
    }
   ],
   "source": [
    "# tensorflow 구현\n",
    "# 1. X, y\n",
    "X = tf.placeholder(shape=[None, 3], dtype=tf.float32)\n",
    "y = tf.placeholder(shape=[None, 1], dtype=tf.float32)\n",
    "# 2. 독립변수 3개, 타겟변수1개인 모델의 weight, bias\n",
    "W = tf.Variable(tf.random.normal([3, 1]))\n",
    "b = tf.Variable(tf.random_normal([1]))\n",
    "# 3. Hypothesis\n",
    "# H = X@W + b\n",
    "H = tf.matmul(X, W) + b\n",
    "# 4. cost함수(손실함수) : mse\n",
    "cost = tf.reduce_mean(tf.square(H-y))\n",
    "# 5. train\n",
    "train = tf.train.GradientDescentOptimizer(learning_rate=1e-5).minimize(cost)\n",
    "# sess 객체 생성 & W, b 초기화\n",
    "sess = tf.Session()\n",
    "sess.run(tf.global_variables_initializer())\n",
    "# 6. 학습\n",
    "for step in range(1, 30001):\n",
    "    _, cost_val = sess.run([train, cost], feed_dict={X:scaled_X_data,\n",
    "                                                    y:scaled_y_data})\n",
    "    if step%1000 == 0:\n",
    "        print(\"{}번째 cost:{}\".format(step, cost_val))\n",
    "print(\"최종 cost:{}, W:{}, b:{}\".format(cost_val,\n",
    "                                     sess.run(W),\n",
    "                                     sess.run(b)))"
   ]
  },
  {
   "cell_type": "code",
   "execution_count": 207,
   "id": "82e63805",
   "metadata": {},
   "outputs": [
    {
     "data": {
      "text/plain": [
       "array([[99.0622]], dtype=float32)"
      ]
     },
     "execution_count": 207,
     "metadata": {},
     "output_type": "execute_result"
    }
   ],
   "source": [
    "# 예측하기\n",
    "input_data = np.array([[190. ,   7.4,  67. ]])\n",
    "scaled_y_hat = sess.run(H, feed_dict={X:x_scaler.transform(input_data)})\n",
    "y_scaler.inverse_transform(scaled_y_hat)"
   ]
  },
  {
   "cell_type": "markdown",
   "id": "569f30be",
   "metadata": {},
   "source": [
    "# 3. 이진분류 = logistic Regression (분류분석)\n",
    "\n",
    "- logistic 회귀분석 : 기본의 회귀분석과 다른 처리 필요"
   ]
  },
  {
   "cell_type": "code",
   "execution_count": 202,
   "id": "2ff5c96d",
   "metadata": {},
   "outputs": [
    {
     "data": {
      "text/plain": [
       "<matplotlib.collections.PathCollection at 0x17fe9ce80>"
      ]
     },
     "execution_count": 202,
     "metadata": {},
     "output_type": "execute_result"
    },
    {
     "data": {
      "image/png": "[encoded data removed]",
      "text/plain": [
       "<Figure size 640x480 with 1 Axes>"
      ]
     },
     "metadata": {},
     "output_type": "display_data"
    }
   ],
   "source": [
    "x = np.array([1, 2, 5, 8, 10])\n",
    "y = np.array([0, 0, 0, 1, 1]) # 실제값\n",
    "\n",
    "from scipy import stats\n",
    "lm = stats.linregress(x,y) # 기울기(W)와 y절편(b)\n",
    "\n",
    "H = lm[0]*x + lm[1]\n",
    "\n",
    "import matplotlib.pyplot as plt\n",
    "plt.plot(x, H, 'r')\n",
    "plt.scatter(x, y)"
   ]
  },
  {
   "cell_type": "code",
   "execution_count": 208,
   "id": "daa09e29",
   "metadata": {},
   "outputs": [
    {
     "data": {
      "text/plain": [
       "<matplotlib.collections.PathCollection at 0x17ffb31f0>"
      ]
     },
     "execution_count": 208,
     "metadata": {},
     "output_type": "execute_result"
    },
    {
     "data": {
      "image/png": "[encoded data removed]",
      "text/plain": [
       "<Figure size 640x480 with 1 Axes>"
      ]
     },
     "metadata": {},
     "output_type": "display_data"
    }
   ],
   "source": [
    "x = np.array([1, 2, 5, 8, 10, 40])\n",
    "y = np.array([0, 0, 0, 1, 1, 1]) # 실제값\n",
    "\n",
    "from scipy import stats\n",
    "lm = stats.linregress(x,y) # 기울기(W)와 y절편(b)\n",
    "\n",
    "H = lm[0]*x + lm[1]\n",
    "\n",
    "import matplotlib.pyplot as plt\n",
    "plt.plot(x, H, 'r')\n",
    "plt.scatter(x, y)"
   ]
  },
  {
   "cell_type": "code",
   "execution_count": 250,
   "id": "673fb0fb",
   "metadata": {},
   "outputs": [
    {
     "name": "stdout",
     "output_type": "stream",
     "text": [
      "800번째 cost : 0.29811525344848633\n",
      "1600번째 cost : 0.2728879749774933\n",
      "2400번째 cost : 0.2551293671131134\n",
      "3200번째 cost : 0.24153372645378113\n",
      "4000번째 cost : 0.23061396181583405\n",
      "4800번째 cost : 0.22152434289455414\n",
      "5600번째 cost : 0.21374738216400146\n",
      "6400번째 cost : 0.20694886147975922\n",
      "7200번째 cost : 0.20090307295322418\n",
      "8000번째 cost : 0.1954517513513565\n"
     ]
    }
   ],
   "source": [
    "# 교안 50page\n",
    "X_data = np.array([[10, 0], [8, 1], [3, 3], [2, 3], [5, 1], [2, 0], [1, 0]])\n",
    "y_data = np.array([[1], [1], [1], [1], [0], [0], [0]])\n",
    "\n",
    "X_data.shape\n",
    "# tensorflow 구현 (tensor 그래프)\n",
    "X = tf.placeholder(shape=[None, 2], dtype=tf.float32)\n",
    "y = tf.placeholder(shape=[None, 1], dtype=tf.float32)\n",
    "# 독립변수가 2개, 종속변수가 1개의 weighr, bias\n",
    "W = tf.Variable(tf.random_normal([2, 1]))\n",
    "b = tf.Variable(tf.random_normal([1]))\n",
    "# Hypothesis\n",
    "logits = tf.matmul(X, W) + b  # H = X@W + b\n",
    "# Sigmoid\n",
    "H = tf.sigmoid(logits)\n",
    "\n",
    "# cost 함수\n",
    "# cost = tf.reduce_mean(tf.square(H - y))\n",
    "cost = tf.reduce_mean(\n",
    "    tf.nn.sigmoid_cross_entropy_with_logits(logits=logits, labels=y))\n",
    "\n",
    "# train\n",
    "train = tf.train.GradientDescentOptimizer(learning_rate=0.01).minimize(cost)\n",
    "\n",
    "# Session 객체 생성\n",
    "sess = tf.Session()\n",
    "sess.run(tf.global_variables_initializer())\n",
    "\n",
    "# 학습\n",
    "for step in range(1, 8001):\n",
    "    \n",
    "    _, cost_val = sess.run([train, cost], feed_dict={X: X_data, y: y_data})\n",
    "    if step % 800 == 0:\n",
    "        print(f'{step}번째 cost : {cost_val}')"
   ]
  },
  {
   "cell_type": "code",
   "execution_count": 251,
   "id": "1b7179e1",
   "metadata": {},
   "outputs": [
    {
     "data": {
      "text/plain": [
       "array([[1.]], dtype=float32)"
      ]
     },
     "execution_count": 251,
     "metadata": {},
     "output_type": "execute_result"
    }
   ],
   "source": [
    "# 모델 사용\n",
    "input_data = np.array([[5, 2]])\n",
    "predict = tf.cast(H>=0.5, dtype=tf.float32)\n",
    "\n",
    "sess.run(predict, feed_dict={X:input_data})"
   ]
  },
  {
   "cell_type": "code",
   "execution_count": 254,
   "id": "2d5ef3a2",
   "metadata": {},
   "outputs": [
    {
     "name": "stdout",
     "output_type": "stream",
     "text": [
      "모델 정확도 : 0.85714287\n"
     ]
    }
   ],
   "source": [
    "# accuracy\n",
    "correct = tf.equal(predict, y)\n",
    "\n",
    "sess.run(correct, feed_dict={X:X_data, \n",
    "                             y:y_data})\n",
    "\n",
    "accuracy = tf.reduce_mean(tf.cast(correct, dtype=tf.float32))\n",
    "print('모델 정확도 :', sess.run(accuracy, feed_dict={X:X_data, y:y_data}))"
   ]
  },
  {
   "cell_type": "markdown",
   "id": "8663bc76",
   "metadata": {},
   "source": [
    "# 4. XOR\n"
   ]
  },
  {
   "cell_type": "code",
   "execution_count": 271,
   "id": "eb55fdb5",
   "metadata": {},
   "outputs": [
    {
     "name": "stdout",
     "output_type": "stream",
     "text": [
      "1000번째 cost : 0.7199892997741699\n",
      "2000번째 cost : 0.7050159573554993\n",
      "3000번째 cost : 0.6984618902206421\n",
      "4000번째 cost : 0.6955382227897644\n",
      "5000번째 cost : 0.6942273378372192\n",
      "6000번째 cost : 0.6936367154121399\n",
      "7000번째 cost : 0.6933695077896118\n"
     ]
    }
   ],
   "source": [
    "X_data = np.array([[0, 0], [0, 1], [1, 0], [1, 1]])\n",
    "y_data = np.array([[0], [1], [1], [0]])\n",
    "\n",
    "# X, y\n",
    "X = tf.placeholder(shape=[None, 2], dtype=tf.float32)\n",
    "y = tf.placeholder(shape=[None, 1], dtype=tf.float32)\n",
    "\n",
    "# 독립변수 2개, 종속변수 1개 W,b\n",
    "W = tf.Variable(tf.random_normal([2, 1]))\n",
    "b = tf.Variable(tf.random_normal([1]))\n",
    "\n",
    "# H\n",
    "logits = tf.matmul(X, W) + b\n",
    "H = tf.sigmoid(logits)\n",
    "\n",
    "# cost \n",
    "cost = tf.reduce_mean(tf.nn.sigmoid_cross_entropy_with_logits(logits=logits, labels=y))\n",
    "\n",
    "# train\n",
    "train = tf.train.GradientDescentOptimizer(learning_rate=0.01).minimize(cost)\n",
    "\n",
    "#sess\n",
    "sess = tf.Session()\n",
    "sess.run(tf.global_variables_initializer())\n",
    "\n",
    "# 학습\n",
    "for step in range(1, 7001):\n",
    "    _, cost_val = sess.run([train, cost], feed_dict={X: X_data, y: y_data})\n",
    "    if step % 1000 == 0:\n",
    "        print(f'{step}번째 cost : {cost_val}')\n"
   ]
  },
  {
   "cell_type": "code",
   "execution_count": 272,
   "id": "562ed980",
   "metadata": {},
   "outputs": [
    {
     "name": "stdout",
     "output_type": "stream",
     "text": [
      "모델 정확도 : 0.75\n"
     ]
    }
   ],
   "source": [
    "# accuracy\n",
    "predict = tf.cast(H >= 0.5, dtype=tf.float32)\n",
    "correct = tf.equal(predict, y)\n",
    "sess.run(correct, feed_dict={X: X_data, y: y_data})\n",
    "\n",
    "accuracy = tf.reduce_mean(tf.cast(correct, dtype=tf.float32))\n",
    "print('모델 정확도 :', sess.run(accuracy, feed_dict={X: X_data, y: y_data}))"
   ]
  },
  {
   "cell_type": "markdown",
   "id": "e0bcde16",
   "metadata": {},
   "source": [
    "# 5. Deep Learning XOR 예제"
   ]
  },
  {
   "cell_type": "code",
   "execution_count": 273,
   "id": "dfd31f9e",
   "metadata": {},
   "outputs": [
    {
     "name": "stdout",
     "output_type": "stream",
     "text": [
      "1000번째 cost : 0.44983094930648804\n",
      "2000번째 cost : 0.2998769283294678\n",
      "3000번째 cost : 0.18022215366363525\n",
      "4000번째 cost : 0.11073201894760132\n",
      "5000번째 cost : 0.07327849417924881\n",
      "6000번째 cost : 0.05208522826433182\n",
      "7000번째 cost : 0.03918124735355377\n"
     ]
    }
   ],
   "source": [
    "X_data = np.array([[0, 0], [0, 1], [1, 0], [1, 1]])\n",
    "y_data = np.array([[0], [1], [1], [0]])\n",
    "\n",
    "# X, y\n",
    "X = tf.placeholder(shape=[None, 2], dtype=tf.float32)\n",
    "y = tf.placeholder(shape=[None, 1], dtype=tf.float32)\n",
    "\n",
    "\n",
    "################ 변경 부분 전 ################ \n",
    "# 독립변수 2개, 종속변수 1개 W,b\n",
    "# W = tf.Variable(tf.random_normal([2, 1]))\n",
    "# b = tf.Variable(tf.random_normal([1]))\n",
    "\n",
    "# H\n",
    "# logits = tf.matmul(X, W) + b\n",
    "# H = tf.sigmoid(logits)\n",
    "################ 변경 부분 전 ################ \n",
    "\n",
    "################ 변경 부분 (공식이 많아질...) ################ \n",
    "\n",
    "## layer1 : (입력2개, 출력4개)\n",
    "W1 = tf.Variable(tf.random_normal([2, 4]))\n",
    "b1 = tf.Variable(tf.random_normal([4]))\n",
    "\n",
    "# H\n",
    "layer1 = tf.nn.relu(tf.matmul(X, W1) + b1)\n",
    "\n",
    "\n",
    "## layer2 : (입력4개, 출력1개)\n",
    "W2 = tf.Variable(tf.random_normal([4, 1]))\n",
    "b2 = tf.Variable(tf.random_normal([1]))\n",
    "\n",
    "# H\n",
    "logits = tf.matmul(layer1, W2) + b2\n",
    "\n",
    "H = tf.sigmoid(logits)\n",
    "\n",
    "################ 변경 부분 (공식이 많아질...) ################ \n",
    "\n",
    "# cost \n",
    "cost = tf.reduce_mean(tf.nn.sigmoid_cross_entropy_with_logits(logits=logits, labels=y))\n",
    "\n",
    "# train\n",
    "train = tf.train.GradientDescentOptimizer(learning_rate=0.01).minimize(cost)\n",
    "\n",
    "#sess\n",
    "sess = tf.Session()\n",
    "sess.run(tf.global_variables_initializer())\n",
    "\n",
    "# 학습\n",
    "for step in range(1, 7001):\n",
    "    _, cost_val = sess.run([train, cost], feed_dict={X: X_data, y: y_data})\n",
    "    if step % 1000 == 0:\n",
    "        print(f'{step}번째 cost : {cost_val}')\n"
   ]
  },
  {
   "cell_type": "code",
   "execution_count": 276,
   "id": "f66ac5ab",
   "metadata": {},
   "outputs": [
    {
     "name": "stdout",
     "output_type": "stream",
     "text": [
      "모델 정확도 : 1.0\n"
     ]
    }
   ],
   "source": [
    "# accuracy\n",
    "predict = tf.cast(H >= 0.5, dtype=tf.float32)\n",
    "correct = tf.equal(predict, y)\n",
    "sess.run(correct, feed_dict={X: X_data, y: y_data})\n",
    "\n",
    "accuracy = tf.reduce_mean(tf.cast(correct, dtype=tf.float32))\n",
    "print('모델 정확도 :', sess.run(accuracy, feed_dict={X: X_data, y: y_data}))"
   ]
  },
  {
   "cell_type": "markdown",
   "id": "fff33343",
   "metadata": {},
   "source": [
    "## layer층 x_data 2개 → 4개 → 1개을\n",
    "\n",
    "## layer층 x_data 2개 → 10개 → 20개 → 10개 → 1개\n",
    "-            입력층   →     hidden(reiu)     →      출력층(sigmoid)"
   ]
  },
  {
   "cell_type": "code",
   "execution_count": 291,
   "id": "c1da7ace",
   "metadata": {},
   "outputs": [
    {
     "name": "stdout",
     "output_type": "stream",
     "text": [
      "50번째 cost_val : 0.04435167461633682\n",
      "100번째 cost_val : 0.027512915432453156\n",
      "150번째 cost_val : 0.019704632461071014\n",
      "200번째 cost_val : 0.016149550676345825\n",
      "250번째 cost_val : 0.013609858229756355\n"
     ]
    }
   ],
   "source": [
    "X_data = np.array([[0, 0], [0, 1], [1, 0], [1, 1]])\n",
    "y_data = np.array([[0], [1], [1], [0]])\n",
    "\n",
    "# X, y\n",
    "X = tf.placeholder(shape=[None, 2], dtype=tf.float32)\n",
    "y = tf.placeholder(shape=[None, 1], dtype=tf.float32)\n",
    "\n",
    "\n",
    "## layer1 : (입력2개, 출력10개)\n",
    "W1 = tf.Variable(tf.random_normal([2, 10]))\n",
    "b1 = tf.Variable(tf.random_normal([10]))\n",
    "\n",
    "# H(relu)\n",
    "layer1 = tf.nn.relu(tf.matmul(X, W1) + b1)\n",
    "\n",
    "## layer2 : (입력10개, 출력20개)\n",
    "W2 = tf.Variable(tf.random_normal([10, 20]))\n",
    "b2 = tf.Variable(tf.random_normal([20]))\n",
    "\n",
    "# H(relu)\n",
    "layer2 = tf.nn.relu(tf.matmul(layer1, W2) + b2)\n",
    "\n",
    "## layer3 : (입력20개, 출력10개)\n",
    "W3 = tf.Variable(tf.random_normal([20, 10]))\n",
    "b3 = tf.Variable(tf.random_normal([10]))\n",
    "\n",
    "# H(relu)\n",
    "layer3 = tf.nn.relu(tf.matmul(layer2, W3) + b3)\n",
    "\n",
    "\n",
    "## layer4 : (입력10개, 출력1개)\n",
    "W4 = tf.Variable(tf.random_normal([10, 1]))\n",
    "b4 = tf.Variable(tf.random_normal([1]))\n",
    "\n",
    "# H (sigmoid)\n",
    "logits = tf.matmul(layer3, W4) + b4\n",
    "H = tf.sigmoid(logits)\n",
    "# H = tf.nn.softmax(logits)\n",
    "\n",
    "################ 변경 부분 (공식이 많아질...) ################ \n",
    "\n",
    "# cost \n",
    "cost = tf.reduce_mean(tf.nn.sigmoid_cross_entropy_with_logits(logits=logits, labels=y))\n",
    "\n",
    "# train\n",
    "train = tf.train.GradientDescentOptimizer(learning_rate=0.01).minimize(cost)\n",
    "\n",
    "#sess\n",
    "sess = tf.Session()\n",
    "sess.run(tf.global_variables_initializer())\n",
    "\n",
    "# 학습\n",
    "for step in range(1, 300):\n",
    "    _, cost_val = sess.run([train, cost], feed_dict={X: X_data, y: y_data})\n",
    "    if step % 50 == 0:\n",
    "        print(f'{step}번째 cost_val : {cost_val}')"
   ]
  },
  {
   "cell_type": "code",
   "execution_count": 285,
   "id": "4c9041d9",
   "metadata": {},
   "outputs": [
    {
     "name": "stdout",
     "output_type": "stream",
     "text": [
      "모델 정확도 : 1.0\n"
     ]
    }
   ],
   "source": [
    "# accuracy\n",
    "predict = tf.cast(H >= 0.5, dtype=tf.float32)\n",
    "correct = tf.equal(predict, y)\n",
    "sess.run(correct, feed_dict={X: X_data, y: y_data})\n",
    "\n",
    "accuracy = tf.reduce_mean(tf.cast(correct, dtype=tf.float32))\n",
    "print('모델 정확도 :', sess.run(accuracy, feed_dict={X: X_data, y: y_data}))"
   ]
  }
 ],
 "metadata": {
  "kernelspec": {
   "display_name": "ml-dl-nlp",
   "language": "python",
   "name": "ml-dl-nlp"
  },
  "language_info": {
   "codemirror_mode": {
    "name": "ipython",
    "version": 3
   },
   "file_extension": ".py",
   "mimetype": "text/x-python",
   "name": "python",
   "nbconvert_exporter": "python",
   "pygments_lexer": "ipython3",
   "version": "3.9.23"
  },
  "toc": {
   "base_numbering": 1,
   "nav_menu": {},
   "number_sections": false,
   "sideBar": true,
   "skip_h1_title": false,
   "title_cell": "Table of Contents",
   "title_sidebar": "Contents",
   "toc_cell": false,
   "toc_position": {
    "height": "calc(100% - 180px)",
    "left": "10px",
    "top": "150px",
    "width": "276px"
   },
   "toc_section_display": true,
   "toc_window_display": true
  }
 },
 "nbformat": 4,
 "nbformat_minor": 5
}
