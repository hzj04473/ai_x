{
 "cells": [
  {
   "cell_type": "code",
   "execution_count": 1,
   "id": "ae756b22",
   "metadata": {},
   "outputs": [
    {
     "data": {
      "text/html": [
       "\n",
       "<style>\n",
       "* {font-family:D2Coding;}\n",
       "div.container{width:87% !important;}\n",
       "div.cell.code_cell.rendered{width:100%;}\n",
       "div.CodeMirror {font-size:12pt;}\n",
       "div.output {font-size:12pt; font-weight:bold;}\n",
       "div.input { font-size:12pt;}\n",
       "div.prompt {min-width:70px;}\n",
       "div#toc-wrapper{padding-top:120px;}\n",
       "div.text_cell_render ul li{font-size:12pt;padding:3px;}\n",
       "table.dataframe{font-size:12px;}\n",
       "</style>\n"
      ],
      "text/plain": [
       "<IPython.core.display.HTML object>"
      ]
     },
     "metadata": {},
     "output_type": "display_data"
    }
   ],
   "source": [
    "from IPython.display import display, HTML\n",
    "\n",
    "display(\n",
    "    HTML(\"\"\"\n",
    "<style>\n",
    "* {font-family:D2Coding;}\n",
    "div.container{width:87% !important;}\n",
    "div.cell.code_cell.rendered{width:100%;}\n",
    "div.CodeMirror {font-size:12pt;}\n",
    "div.output {font-size:12pt; font-weight:bold;}\n",
    "div.input { font-size:12pt;}\n",
    "div.prompt {min-width:70px;}\n",
    "div#toc-wrapper{padding-top:120px;}\n",
    "div.text_cell_render ul li{font-size:12pt;padding:3px;}\n",
    "table.dataframe{font-size:12px;}\n",
    "</style>\n",
    "\"\"\"))"
   ]
  },
  {
   "cell_type": "markdown",
   "id": "30e68d9d",
   "metadata": {},
   "source": [
    "<font size=5 color=red>04_tensorflow_v1_feat.스케일조절</font>\n",
    "\n",
    "# 1. tensorflow v2.xx 에서 v1사용하기"
   ]
  },
  {
   "cell_type": "code",
   "execution_count": 10,
   "id": "51dd2183",
   "metadata": {},
   "outputs": [],
   "source": [
    "import tensorflow.compat.v1 as tf\n",
    "\n",
    "tf.disable_v2_behavior()  # v2를 비활성화하고 v1활성화\n",
    "import numpy as np\n",
    "import pandas as pd"
   ]
  },
  {
   "cell_type": "markdown",
   "id": "6503d969",
   "metadata": {},
   "source": [
    "## 1.1. Tensorflow\n",
    "\n",
    "- 데이터 흐름를 그래프(Tensor 객체의 흐름)\n",
    "- 이 그래프는 node(상수, 변수 , 연산)의 edge로 구성\n",
    "- sess = tf.Session()으로 실행\n",
    "- sess.run()을 통해 값을 확인"
   ]
  },
  {
   "cell_type": "code",
   "execution_count": 11,
   "id": "12422fe8",
   "metadata": {},
   "outputs": [
    {
     "name": "stdout",
     "output_type": "stream",
     "text": [
      "b'Hello, Tensorflow'\n"
     ]
    }
   ],
   "source": [
    "# tensor = data(상수, 변수)와 연산\n",
    "node1 = tf.constant('Hello, Tensorflow')\n",
    "sess = tf.Session()\n",
    "print(sess.run(node1))"
   ]
  },
  {
   "cell_type": "code",
   "execution_count": 12,
   "id": "a1dc5b1e",
   "metadata": {},
   "outputs": [
    {
     "name": "stdout",
     "output_type": "stream",
     "text": [
      "[10.0, 20.0, 30.0]\n"
     ]
    }
   ],
   "source": [
    "# 간단한 연산 tensor 그래프\n",
    "node1 = tf.constant(10, dtype=tf.float16)\n",
    "node2 = tf.constant(20, dtype=tf.float16)\n",
    "\n",
    "node3 = tf.add(node1, node2)\n",
    "\n",
    "sess = tf.Session()\n",
    "\n",
    "print(sess.run([node1, node2, node3]))"
   ]
  },
  {
   "cell_type": "code",
   "execution_count": 13,
   "id": "9bccd2c9",
   "metadata": {},
   "outputs": [
    {
     "data": {
      "text/plain": [
       "[array([1, 2, 3], dtype=int16), array([1., 2., 3.], dtype=float32)]"
      ]
     },
     "execution_count": 13,
     "metadata": {},
     "output_type": "execute_result"
    }
   ],
   "source": [
    "# 타입 변경\n",
    "node1 = tf.constant(np.array([1, 2, 3]), dtype=tf.int16)\n",
    "node2 = tf.cast(node1, dtype=tf.float32)\n",
    "sess = tf.Session()\n",
    "sess.run([node1, node2])"
   ]
  },
  {
   "cell_type": "code",
   "execution_count": 14,
   "id": "20872e85",
   "metadata": {},
   "outputs": [
    {
     "data": {
      "text/plain": [
       "2.0"
      ]
     },
     "execution_count": 14,
     "metadata": {},
     "output_type": "execute_result"
    }
   ],
   "source": [
    "# 평균값 계산 : tf.reduce_mean()\n",
    "data = np.array([1., 2., 3.])\n",
    "tensor = tf.reduce_mean(data)\n",
    "sess = tf.Session()\n",
    "sess.run(tensor)"
   ]
  },
  {
   "cell_type": "code",
   "execution_count": 16,
   "id": "53245ab2",
   "metadata": {},
   "outputs": [
    {
     "data": {
      "text/plain": [
       "[array([-1.0298789 ,  0.12366588], dtype=float32),\n",
       " array([0.3535142], dtype=float32)]"
      ]
     },
     "execution_count": 16,
     "metadata": {},
     "output_type": "execute_result"
    }
   ],
   "source": [
    "# 랜덤값을 갖는 tensor\n",
    "a = tf.random_normal([2])  # 평균이 0, 표준편차가 1인 난수 실수 2개 (정규분포를 이루는 난수)\n",
    "b = tf.random_normal([1])\n",
    "\n",
    "sess = tf.Session()\n",
    "sess.run([a, b])"
   ]
  },
  {
   "cell_type": "code",
   "execution_count": 25,
   "id": "393366d1",
   "metadata": {},
   "outputs": [
    {
     "data": {
      "text/plain": [
       "array([1.4015666], dtype=float32)"
      ]
     },
     "execution_count": 25,
     "metadata": {},
     "output_type": "execute_result"
    }
   ],
   "source": [
    "w = tf.Variable(tf.random.normal([1]))\n",
    "sess = tf.Session()\n",
    "sess.run(tf.global_variables_initializer()) # w변수의 난수 초기화\n",
    "sess.run(w)"
   ]
  },
  {
   "cell_type": "markdown",
   "id": "a2fa7757",
   "metadata": {},
   "source": [
    "# 2. tensorflow v1을 이용한 linear regression 을 구현\n",
    "\n",
    "## 2.1. 입력(독립)변수 x가 1개, 타켓(종속)변수 y가 1개"
   ]
  },
  {
   "cell_type": "code",
   "execution_count": 28,
   "id": "3335fd33",
   "metadata": {},
   "outputs": [
    {
     "name": "stdout",
     "output_type": "stream",
     "text": [
      "0번쨰 cost : 2.2897613048553467, W : [0.35435513], b : [1.0525901]\n",
      "200번쨰 cost : 0.004378287587314844, W : [0.92333394], b : [1.1742799]\n",
      "400번쨰 cost : 0.0016718626720830798, W : [0.95262486], b : [1.1076949]\n",
      "600번쨰 cost : 0.0006383901927620173, W : [0.9707252], b : [1.0665486]\n",
      "800번쨰 cost : 0.00024376895453315228, W : [0.98191], b : [1.0411232]\n",
      "1000번쨰 cost : 9.308511653216556e-05, W : [0.98882127], b : [1.0254117]\n",
      "1200번쨰 cost : 3.554214708856307e-05, W : [0.9930925], b : [1.0157025]\n",
      "1400번쨰 cost : 1.357246219413355e-05, W : [0.9957314], b : [1.0097034]\n",
      "1600번쨰 cost : 5.1831561904691625e-06, W : [0.9973622], b : [1.0059963]\n",
      "1800번쨰 cost : 1.9791875729424646e-06, W : [0.99836993], b : [1.0037055]\n",
      "2000번쨰 cost : 7.558618904113246e-07, W : [0.9989926], b : [1.00229]\n",
      "2200번쨰 cost : 2.88811406790046e-07, W : [0.99937725], b : [1.0014153]\n",
      "2400번쨰 cost : 1.1048596348928186e-07, W : [0.9996149], b : [1.0008755]\n",
      "2600번쨰 cost : 4.2422112045414906e-08, W : [0.9997614], b : [1.0005425]\n",
      "2800번쨰 cost : 1.6279599890367535e-08, W : [0.999852], b : [1.0003358]\n",
      "3000번쨰 cost : 6.376566830113006e-09, W : [0.9999077], b : [1.0002103]\n",
      "3200번쨰 cost : 2.4503208351234207e-09, W : [0.9999426], b : [1.0001302]\n",
      "3400번쨰 cost : 9.458887006985606e-10, W : [0.99996436], b : [1.000081]\n",
      "3600번쨰 cost : 4.2088288410013774e-10, W : [0.99997646], b : [1.0000541]\n",
      "3800번쨰 cost : 1.3249727703890102e-10, W : [0.9999867], b : [1.0000303]\n",
      "4000번쨰 cost : 8.733517381509515e-11, W : [0.9999891], b : [1.0000248]\n",
      "4200번쨰 cost : 8.733517381509515e-11, W : [0.9999891], b : [1.0000248]\n",
      "4400번쨰 cost : 8.733517381509515e-11, W : [0.9999891], b : [1.0000248]\n",
      "4600번쨰 cost : 8.733517381509515e-11, W : [0.9999891], b : [1.0000248]\n",
      "4800번쨰 cost : 8.733517381509515e-11, W : [0.9999891], b : [1.0000248]\n",
      "5000번쨰 cost : 8.733517381509515e-11, W : [0.9999891], b : [1.0000248]\n"
     ]
    }
   ],
   "source": [
    "x = np.array([1, 2, 3])\n",
    "y = np.array([2, 3, 4])\n",
    "\n",
    "# weigh의 bias(처음엔 랜덤값으로 셋팅, 학습과정에서 변경)\n",
    "W = tf.Variable(tf.random_normal([1]), name='weight')\n",
    "b = tf.Variable(tf.random_normal([1]), name='bias')\n",
    "\n",
    "# Hypothesis(예측값)\n",
    "H = W * x + b\n",
    "\n",
    "# cost function(손실함수 = mse ; 최소제곱법)\n",
    "cost = tf.reduce_mean(tf.square(H - y))\n",
    "'''\n",
    "학습목적 = cost가 최소화 되는 W, b를 찾아내는 것\n",
    "cost 는 2차 함수이므로 곡선그래프, 곡선위 미분값이 줄어드는 방향으로 학습(경사하강)\n",
    "→ Gradient Descent Optimizer\n",
    "'''\n",
    "optimizer = tf.train.GradientDescentOptimizer(learning_rate=0.01)  # 미분\n",
    "train = optimizer.minimize(cost)\n",
    "# Session 생성\n",
    "sess = tf.Session()\n",
    "\n",
    "# W, b 변수 노드에 초기화\n",
    "sess.run(tf.global_variables_initializer())\n",
    "\n",
    "# 5000번 학습 (v2에서는 fit함수)\n",
    "for step in range(5001):\n",
    "    _, cost_val, W_val, b_val = sess.run([train, cost, W, b])\n",
    "    \n",
    "    if step%200 == 0:\n",
    "        print(\"{}번쨰 cost : {}, W : {}, b : {}\".format(step, cost_val, W_val, b_val))\n",
    "            "
   ]
  },
  {
   "cell_type": "code",
   "execution_count": 30,
   "id": "f3470b78",
   "metadata": {},
   "outputs": [
    {
     "data": {
      "text/plain": [
       "[array([0.9999891], dtype=float32), array([1.0000248], dtype=float32)]"
      ]
     },
     "execution_count": 30,
     "metadata": {},
     "output_type": "execute_result"
    }
   ],
   "source": [
    "# 최종적으로 나온 희귀식 : H = W * x + b\n",
    "sess.run([W, b])"
   ]
  },
  {
   "cell_type": "code",
   "execution_count": 35,
   "id": "c28e9c9a",
   "metadata": {},
   "outputs": [
    {
     "data": {
      "text/plain": [
       "(0.9999891, 1.0000248)"
      ]
     },
     "execution_count": 35,
     "metadata": {},
     "output_type": "execute_result"
    }
   ],
   "source": [
    "W_, b_ = sess.run([W, b])\n",
    "W_[0], b_[0]"
   ]
  },
  {
   "cell_type": "code",
   "execution_count": 38,
   "id": "e01ccdea",
   "metadata": {},
   "outputs": [],
   "source": [
    "def predict(x):\n",
    "    return W_[0] * x + b_[0]"
   ]
  },
  {
   "cell_type": "code",
   "execution_count": 42,
   "id": "a2fc1f7b",
   "metadata": {},
   "outputs": [
    {
     "name": "stdout",
     "output_type": "stream",
     "text": [
      "입력값은 ?3\n",
      "예측값은 3.999992072582245\n"
     ]
    }
   ],
   "source": [
    "input_x = int(input('입력값은 ?'))\n",
    "print('예측값은', predict(input_x))"
   ]
  },
  {
   "cell_type": "markdown",
   "id": "ff6c15e8",
   "metadata": {},
   "source": [
    "## 2.2. predict를 위한 placeholder 이용\n",
    "\n",
    "- placeholder : 텐서플로우 외부에서 데이터를 입력받는 노드\n"
   ]
  },
  {
   "cell_type": "code",
   "execution_count": 48,
   "id": "08355f91",
   "metadata": {},
   "outputs": [
    {
     "data": {
      "text/plain": [
       "array([2., 3., 4.], dtype=float16)"
      ]
     },
     "execution_count": 48,
     "metadata": {},
     "output_type": "execute_result"
    }
   ],
   "source": [
    "# x = np.array([1, 2, 3])\n",
    "x = tf.placeholder(tf.float16)\n",
    "H = 1 * x + 1\n",
    "sess = tf.Session()\n",
    "sess.run(H, feed_dict={x: 5})\n",
    "sess.run(H, feed_dict={x: np.array([1, 2, 3])})"
   ]
  },
  {
   "cell_type": "code",
   "execution_count": 51,
   "id": "5dcee6bf",
   "metadata": {},
   "outputs": [
    {
     "name": "stdout",
     "output_type": "stream",
     "text": [
      "0번쨰 cost : 223.6167449951172, W : [0.396142], b : [-0.5246403]\n",
      "200번쨰 cost : 0.04167274385690689, W : [2.0694227], b : [0.62893605]\n",
      "400번쨰 cost : 0.00409886846318841, W : [2.0217726], b : [0.8836266]\n",
      "600번쨰 cost : 0.0004031683783978224, W : [2.0068283], b : [0.96350265]\n",
      "800번쨰 cost : 3.96532668673899e-05, W : [2.0021415], b : [0.9885538]\n",
      "1000번쨰 cost : 3.90126933780266e-06, W : [2.0006716], b : [0.99640995]\n",
      "1200번쨰 cost : 3.8388907341868617e-07, W : [2.0002108], b : [0.9988737]\n",
      "1400번쨰 cost : 3.786517410730994e-08, W : [2.000066], b : [0.99964654]\n",
      "1600번쨰 cost : 3.739216936082812e-09, W : [2.0000207], b : [0.99988925]\n",
      "1800번쨰 cost : 3.793161340581719e-10, W : [2.0000067], b : [0.9999645]\n",
      "2000번쨰 cost : 5.184119800105691e-11, W : [2.0000026], b : [0.99998695]\n",
      "2200번쨰 cost : 2.060005464821213e-11, W : [2.0000017], b : [0.99999213]\n",
      "2400번쨰 cost : 2.060005464821213e-11, W : [2.0000017], b : [0.99999213]\n",
      "2600번쨰 cost : 2.060005464821213e-11, W : [2.0000017], b : [0.99999213]\n",
      "2800번쨰 cost : 2.060005464821213e-11, W : [2.0000017], b : [0.99999213]\n",
      "3000번쨰 cost : 2.060005464821213e-11, W : [2.0000017], b : [0.99999213]\n",
      "3200번쨰 cost : 2.060005464821213e-11, W : [2.0000017], b : [0.99999213]\n",
      "3400번쨰 cost : 2.060005464821213e-11, W : [2.0000017], b : [0.99999213]\n",
      "3600번쨰 cost : 2.060005464821213e-11, W : [2.0000017], b : [0.99999213]\n",
      "3800번쨰 cost : 2.060005464821213e-11, W : [2.0000017], b : [0.99999213]\n",
      "4000번쨰 cost : 2.060005464821213e-11, W : [2.0000017], b : [0.99999213]\n",
      "4200번쨰 cost : 2.060005464821213e-11, W : [2.0000017], b : [0.99999213]\n",
      "4400번쨰 cost : 2.060005464821213e-11, W : [2.0000017], b : [0.99999213]\n",
      "4600번쨰 cost : 2.060005464821213e-11, W : [2.0000017], b : [0.99999213]\n",
      "4800번쨰 cost : 2.060005464821213e-11, W : [2.0000017], b : [0.99999213]\n",
      "5000번쨰 cost : 2.060005464821213e-11, W : [2.0000017], b : [0.99999213]\n"
     ]
    }
   ],
   "source": [
    "# H = 2x + 3\n",
    "x_data = np.array([1, 2, 3, 5, 8])\n",
    "y_data = np.array([3, 5, 7, 11, 17])\n",
    "\n",
    "# placeholder 설정 (입렵변수 x, 타겟변수 y)\n",
    "x = tf.placeholder(dtype=tf.float32)\n",
    "y = tf.placeholder(dtype=tf.float32)\n",
    "\n",
    "# W, b\n",
    "W = tf.Variable(tf.random_normal([1]))\n",
    "b = tf.Variable(tf.random_normal([1]))\n",
    "\n",
    "# Hypothesis (예측값)\n",
    "\n",
    "H = W * x + b\n",
    "\n",
    "# 손실함수\n",
    "cost = tf.reduce_mean(tf.square(H-y))\n",
    "\n",
    "# 경사하강법\n",
    "train = tf.train.GradientDescentOptimizer(learning_rate=0.01).minimize(cost)\n",
    "\n",
    "# Session 객체 생성\n",
    "sess = tf.Session()\n",
    "sess.run(tf.global_variables_initializer()) # W, b 초기화\n",
    "\n",
    "# 5000번 학습\n",
    "for step in range(5001):\n",
    "    _, cost_val, W_val, b_val = sess.run([train, cost, W, b], \n",
    "                                         feed_dict={x:x_data, y:y_data})\n",
    "    \n",
    "    if step%200 == 0:\n",
    "        print(\"{}번쨰 cost : {}, W : {}, b : {}\".format(step, cost_val, W_val, b_val))"
   ]
  },
  {
   "cell_type": "code",
   "execution_count": 53,
   "id": "48e64b16",
   "metadata": {},
   "outputs": [
    {
     "data": {
      "text/plain": [
       "array([11.000001], dtype=float32)"
      ]
     },
     "execution_count": 53,
     "metadata": {},
     "output_type": "execute_result"
    }
   ],
   "source": [
    "# 예측하기\n",
    "sess.run(H, feed_dict={x:5})"
   ]
  },
  {
   "cell_type": "code",
   "execution_count": 54,
   "id": "a8560219",
   "metadata": {},
   "outputs": [
    {
     "data": {
      "text/plain": [
       "array([11.000001, 13.000002, 15.000004], dtype=float32)"
      ]
     },
     "execution_count": 54,
     "metadata": {},
     "output_type": "execute_result"
    }
   ],
   "source": [
    "sess.run(H, feed_dict={x: np.array([5, 6, 7])})"
   ]
  },
  {
   "cell_type": "markdown",
   "id": "cd1deecd",
   "metadata": {},
   "source": [
    "## 2.3. scale 이 다른 데이터의 linear regression 구현 (scale 조정 X)"
   ]
  },
  {
   "cell_type": "code",
   "execution_count": 101,
   "id": "6cb92571",
   "metadata": {},
   "outputs": [
    {
     "name": "stdout",
     "output_type": "stream",
     "text": [
      "0번쨰 cost : 3985.20654296875, W : [7.7205787], b : [2.1635752]\n",
      "200번쨰 cost : 83.89234924316406, W : [10.146583], b : [-0.21805583]\n",
      "400번쨰 cost : 83.51993560791016, W : [10.255428], b : [-1.0239772]\n",
      "600번쨰 cost : 83.48575592041016, W : [10.288396], b : [-1.2680846]\n",
      "800번쨰 cost : 83.4826431274414, W : [10.298382], b : [-1.3420228]\n"
     ]
    }
   ],
   "source": [
    "# H = 2x + 3\n",
    "x_data = np.array([1, 2, 5, 8, 10])\n",
    "y_data = np.array([3, 15, 68, 80, 95])\n",
    "\n",
    "# placeholder 설정 (입렵변수 x, 타겟변수 y)\n",
    "x = tf.placeholder(dtype=tf.float32)\n",
    "y = tf.placeholder(dtype=tf.float32)\n",
    "\n",
    "# W, b\n",
    "W = tf.Variable(tf.random_normal([1]))\n",
    "b = tf.Variable(tf.random_normal([1]))\n",
    "\n",
    "# Hypothesis (예측값)\n",
    "\n",
    "H = W * x + b\n",
    "\n",
    "# 손실함수\n",
    "cost = tf.reduce_mean(tf.square(H-y))\n",
    "\n",
    "# 경사하강법\n",
    "train = tf.train.GradientDescentOptimizer(learning_rate=0.01).minimize(cost)\n",
    "\n",
    "# Session 객체 생성\n",
    "sess = tf.Session()\n",
    "sess.run(tf.global_variables_initializer()) # W, b 초기화\n",
    "\n",
    "# 5000번 학습\n",
    "for step in range(1000):\n",
    "    _, cost_val, W_val, b_val = sess.run([train, cost, W, b], \n",
    "                                         feed_dict={x:x_data, y:y_data})\n",
    "    \n",
    "    if step%200 == 0:\n",
    "        print(\"{}번쨰 cost : {}, W : {}, b : {}\".format(step, cost_val, W_val, b_val))"
   ]
  },
  {
   "cell_type": "code",
   "execution_count": null,
   "id": "9b750dc6",
   "metadata": {},
   "outputs": [],
   "source": [
    "# cost값이 멈춤 : local 최소값"
   ]
  },
  {
   "cell_type": "markdown",
   "id": "923226bb",
   "metadata": {},
   "source": [
    "## 2.4. scale 이 다른 데이터의 linear regression을 구현 (scale 조정 ㅇ)\n",
    "\n",
    "### 1) scale 을 맞추기 : 모든 데이터를 일정 범위내로 조정\n",
    "\n",
    "- normalization (정규화) : 0 ~ 1로 조정\n",
    "\n",
    "                            X - Xmin\n",
    "    - normalization = --------------------------\n",
    "                            Xmax - Xmin\n",
    "    - 위의 식을 써도 되지만, 라이브러리를 씀(sklearn.preprocessing.MinMaxScaler이용)                    \n",
    "                        \n",
    "- standardization (표준화) : 평균0, 표준편차 1로 조정\n",
    "\n",
    "                            X - Xmean(평균)\n",
    "    - standardization = --------------------------\n",
    "                            Xstd(표준편차)\n",
    "    - 위의 식을 써도 되지만, 라이브러리를 씀(sklearn.preprocessing.StandardScaler이용)                    "
   ]
  },
  {
   "cell_type": "code",
   "execution_count": 107,
   "id": "1ec384bb",
   "metadata": {},
   "outputs": [
    {
     "name": "stdout",
     "output_type": "stream",
     "text": [
      "[0.         0.11111111 0.44444444 0.77777778 1.        ]\n",
      "[0.         0.13043478 0.70652174 0.83695652 1.        ]\n"
     ]
    }
   ],
   "source": [
    "# 라이브러리를 쓰지 않고, 정규화\n",
    "x_data = np.array([1, 2, 5, 8, 10])\n",
    "y_data = np.array([3, 15, 68, 80, 95])\n",
    "\n",
    "scaled_x_data = (x_data - x_data.min()) / (x_data.max() - x_data.min())\n",
    "scaled_y_data = (y_data - y_data.min()) / (y_data.max() - y_data.min())\n",
    "\n",
    "print(scaled_x_data)\n",
    "print(scaled_y_data)"
   ]
  },
  {
   "cell_type": "code",
   "execution_count": 108,
   "id": "ee14cd4c",
   "metadata": {},
   "outputs": [
    {
     "name": "stdout",
     "output_type": "stream",
     "text": [
      "0번쨰 cost : 0.28556233644485474, W : [-0.2977222], b : [0.5069252]\n",
      "500번쨰 cost : 0.18581125140190125, W : [-0.09262364], b : [0.57477194]\n",
      "1000번쨰 cost : 0.14574575424194336, W : [0.04605191], b : [0.55210006]\n",
      "1500번쨰 cost : 0.11721716821193695, W : [0.1568849], b : [0.50807774]\n",
      "2000번쨰 cost : 0.09488210827112198, W : [0.25191557], b : [0.46205106]\n",
      "2500번쨰 cost : 0.07721078395843506, W : [0.33545876], b : [0.4191211]\n",
      "3000번쨰 cost : 0.06321386247873306, W : [0.4095176], b : [0.38034752]\n",
      "3500번쨰 cost : 0.05212609842419624, W : [0.475347], b : [0.3456757]\n",
      "4000번쨰 cost : 0.04334265738725662, W : [0.5339137], b : [0.31476995]\n",
      "4500번쨰 cost : 0.03638466075062752, W : [0.5860333], b : [0.28724912]\n",
      "5000번쨰 cost : 0.03087274357676506, W : [0.6324198], b : [0.2627507]\n",
      "5500번쨰 cost : 0.026506343856453896, W : [0.6737053], b : [0.24094495]\n",
      "6000번쨰 cost : 0.023047424852848053, W : [0.71045065], b : [0.2215367]\n",
      "6500번쨰 cost : 0.020307384431362152, W : [0.7431552], b : [0.20426254]\n",
      "7000번쨰 cost : 0.018136797472834587, W : [0.77226365], b : [0.18888782]\n",
      "7500번쨰 cost : 0.01641731522977352, W : [0.7981714], b : [0.17520371]\n",
      "8000번쨰 cost : 0.015055185183882713, W : [0.8212304], b : [0.16302425]\n",
      "8500번쨰 cost : 0.013976147398352623, W : [0.8417537], b : [0.1521841]\n",
      "9000번쨰 cost : 0.013121361844241619, W : [0.8600205], b : [0.14253587]\n",
      "9500번쨰 cost : 0.012444229796528816, W : [0.87627846], b : [0.13394856]\n",
      "10000번쨰 cost : 0.011907825246453285, W : [0.89074874], b : [0.12630548]\n",
      "10500번쨰 cost : 0.011482900008559227, W : [0.90362793], b : [0.11950292]\n",
      "11000번쨰 cost : 0.011146282777190208, W : [0.91509104], b : [0.1134483]\n",
      "11500번쨰 cost : 0.010879619047045708, W : [0.9252938], b : [0.10805933]\n",
      "12000번쨰 cost : 0.010668382979929447, W : [0.93437433], b : [0.10326306]\n",
      "12500번쨰 cost : 0.010501047596335411, W : [0.9424564], b : [0.0989942]\n",
      "13000번쨰 cost : 0.01036849245429039, W : [0.9496498], b : [0.09519475]\n",
      "13500번쨰 cost : 0.010263482108712196, W : [0.9560523], b : [0.09181307]\n",
      "14000번쨰 cost : 0.010180297307670116, W : [0.9617507], b : [0.08880324]\n",
      "14500번쨰 cost : 0.010114399716258049, W : [0.9668225], b : [0.08612438]\n",
      "15000번쨰 cost : 0.010062195360660553, W : [0.9713365], b : [0.08374009]\n"
     ]
    }
   ],
   "source": [
    "# 라이브러리를 쓰고 정규화 (MinmaxScaler 이용)\n",
    "x_data = np.array([1, 2, 5, 8, 10]).reshape(-1, 1)\n",
    "y_data = np.array([3, 15, 68, 80, 95]).reshape(-1, 1)\n",
    "# np.column_stack([x_data, y_data])\n",
    "from sklearn.preprocessing import MinMaxScaler\n",
    "\n",
    "scaler_x = MinMaxScaler()  # x_data를 정규화시킬 객체\n",
    "\n",
    "# scaler_x.fit(x_data)\n",
    "# scaled_x_data = scaler_x.transform(x_data)\n",
    "scaled_x_data = scaler_x.fit_transform(x_data)\n",
    "\n",
    "scaler_y = MinMaxScaler()  # y_data를 정규화시킬 객체\n",
    "scaled_y_data = scaler_y.fit_transform(y_data)\n",
    "\n",
    "np.column_stack([x_data, y_data, scaled_x_data, scaled_y_data])\n",
    "\n",
    "# placeholder 설정 (입렵변수 x, 타겟변수 y)\n",
    "x = tf.placeholder(dtype=tf.float32)\n",
    "y = tf.placeholder(dtype=tf.float32)\n",
    "\n",
    "# W, b\n",
    "W = tf.Variable(tf.random_normal([1]))\n",
    "b = tf.Variable(tf.random_normal([1]))\n",
    "\n",
    "# Hypothesis (예측값)\n",
    "\n",
    "H = W * x + b\n",
    "\n",
    "# 손실함수\n",
    "cost = tf.reduce_mean(tf.square(H - y))\n",
    "\n",
    "# 경사하강법\n",
    "train = tf.train.GradientDescentOptimizer(learning_rate=0.001).minimize(cost)\n",
    "\n",
    "# Session 객체 생성\n",
    "sess = tf.Session()\n",
    "sess.run(tf.global_variables_initializer())  # W, b 초기화\n",
    "\n",
    "# 15000 학습\n",
    "for step in range(15001):\n",
    "    _, cost_val, W_val, b_val = sess.run([train, cost, W, b],\n",
    "                                         feed_dict={\n",
    "                                             x: scaled_x_data,\n",
    "                                             y: scaled_y_data\n",
    "                                         })\n",
    "\n",
    "    if step % 500 == 0:\n",
    "        print(\"{}번쨰 cost : {}, W : {}, b : {}\".format(step, cost_val, W_val,\n",
    "                                                      b_val))"
   ]
  },
  {
   "cell_type": "code",
   "execution_count": 109,
   "id": "2919b762",
   "metadata": {},
   "outputs": [
    {
     "name": "stdout",
     "output_type": "stream",
     "text": [
      "모델 예측 위한 입력 :\n",
      "[[0.11111111]\n",
      " [0.22222222]]\n",
      "모델 예측 결과 :\n",
      "[[0.19166636]\n",
      " [0.29959264]]\n",
      "결과 :\n",
      "[[20.633307]\n",
      " [30.562523]]\n"
     ]
    }
   ],
   "source": [
    "# 예측 : 모델에 scale 조정된 값으로 예측=>scale 조정된 y값\n",
    "# scaled_input\n",
    "scaled_input = scaler_x.transform(np.array([[2], [3]]))\n",
    "scaled_input\n",
    "print('모델 예측 위한 입력 :', scaled_input, sep='\\n')\n",
    "# scaled_output\n",
    "scaled_output = sess.run(H, feed_dict={x: scaled_input})\n",
    "print('모델 예측 결과 :', scaled_output, sep='\\n')\n",
    "\n",
    "print('결과 :', scaler_y.inverse_transform(scaled_output), sep='\\n')"
   ]
  },
  {
   "cell_type": "code",
   "execution_count": 110,
   "id": "d11fd87b",
   "metadata": {},
   "outputs": [],
   "source": [
    "# x_data들의 예측값\n",
    "scaled_y_hat = sess.run(H, feed_dict={x: scaled_x_data})\n",
    "y_hat = scaler_y.inverse_transform(scaled_y_hat)"
   ]
  },
  {
   "cell_type": "code",
   "execution_count": 111,
   "id": "3579fe09",
   "metadata": {},
   "outputs": [
    {
     "data": {
      "text/plain": [
       "[<matplotlib.lines.Line2D at 0x17ae9b7f0>]"
      ]
     },
     "execution_count": 111,
     "metadata": {},
     "output_type": "execute_result"
    },
    {
     "data": {
      "image/png": "[encoded data removed]",
      "text/plain": [
       "<Figure size 640x480 with 1 Axes>"
      ]
     },
     "metadata": {},
     "output_type": "display_data"
    }
   ],
   "source": [
    "import matplotlib.pyplot as plt\n",
    "\n",
    "plt.plot(x_data, y_data, 'r')\n",
    "plt.plot(x_data, y_hat, 'b')"
   ]
  },
  {
   "cell_type": "code",
   "execution_count": 120,
   "id": "801ae9dd",
   "metadata": {},
   "outputs": [
    {
     "name": "stdout",
     "output_type": "stream",
     "text": [
      "0번쨰 cost : 9.610828399658203, W : [-2.0292697], b : [0.724889]\n",
      "500번쨰 cost : 1.3523017168045044, W : [-0.13343576], b : [0.2664049]\n",
      "1000번쨰 cost : 0.23686687648296356, W : [0.563305], b : [0.09790672]\n",
      "1500번쨰 cost : 0.08621138334274292, W : [0.8193649], b : [0.03598184]\n",
      "2000번쨰 cost : 0.06586316227912903, W : [0.9134699], b : [0.01322374]\n",
      "2500번쨰 cost : 0.06311487406492233, W : [0.9480539], b : [0.00485988]\n",
      "3000번쨰 cost : 0.06274367868900299, W : [0.9607642], b : [0.00178607]\n",
      "3500번쨰 cost : 0.0626935213804245, W : [0.9654354], b : [0.00065641]\n",
      "4000번쨰 cost : 0.06268675625324249, W : [0.9671523], b : [0.00024125]\n",
      "4500번쨰 cost : 0.06268583238124847, W : [0.96778315], b : [8.8667846e-05]\n",
      "5000번쨰 cost : 0.06268572062253952, W : [0.9680154], b : [3.259456e-05]\n",
      "5500번쨰 cost : 0.06268570572137833, W : [0.96810013], b : [1.1986471e-05]\n",
      "6000번쨰 cost : 0.06268569827079773, W : [0.9681325], b : [4.413136e-06]\n",
      "6500번쨰 cost : 0.06268569827079773, W : [0.96813506], b : [1.6381791e-06]\n",
      "7000번쨰 cost : 0.06268569082021713, W : [0.96813506], b : [6.193623e-07]\n",
      "7500번쨰 cost : 0.06268569082021713, W : [0.96813506], b : [2.467076e-07]\n",
      "8000번쨰 cost : 0.06268569082021713, W : [0.96813506], b : [1.09593266e-07]\n",
      "8500번쨰 cost : 0.06268568336963654, W : [0.96813506], b : [5.7305108e-08]\n",
      "9000번쨰 cost : 0.06268568336963654, W : [0.96813506], b : [4.9855068e-08]\n",
      "9500번쨰 cost : 0.06268568336963654, W : [0.96813506], b : [4.2405027e-08]\n",
      "10000번쨰 cost : 0.06268569827079773, W : [0.96813506], b : [3.4954986e-08]\n",
      "10500번쨰 cost : 0.06268569827079773, W : [0.96813506], b : [2.9799557e-08]\n",
      "11000번쨰 cost : 0.06268569827079773, W : [0.96813506], b : [2.980701e-08]\n",
      "11500번쨰 cost : 0.06268569827079773, W : [0.96813506], b : [2.981446e-08]\n",
      "12000번쨰 cost : 0.06268569827079773, W : [0.96813506], b : [2.982191e-08]\n",
      "12500번쨰 cost : 0.06268569082021713, W : [0.96813506], b : [2.982936e-08]\n",
      "13000번쨰 cost : 0.06268569082021713, W : [0.96813506], b : [2.983681e-08]\n",
      "13500번쨰 cost : 0.06268569827079773, W : [0.96813506], b : [2.9792107e-08]\n",
      "14000번쨰 cost : 0.06268569827079773, W : [0.96813506], b : [2.9799557e-08]\n",
      "14500번쨰 cost : 0.06268569827079773, W : [0.96813506], b : [2.980701e-08]\n",
      "15000번쨰 cost : 0.06268569827079773, W : [0.96813506], b : [2.981446e-08]\n"
     ]
    }
   ],
   "source": [
    "# 라이브러리를 쓰고 표준화 (StandardScaler 이용)\n",
    "x_data = np.array([1, 2, 5, 8, 10]).reshape(-1, 1)\n",
    "y_data = np.array([3, 15, 68, 80, 95]).reshape(-1, 1)\n",
    "\n",
    "from sklearn.preprocessing import StandardScaler\n",
    "\n",
    "scaler_x = StandardScaler() # x_data를 표준화할 객체\n",
    "scaler_y = StandardScaler() # y_data를 표준화할 객체\n",
    "\n",
    "scaled_x_data = scaler_x.fit_transform(x_data)\n",
    "scaled_y_data = scaler_y.fit_transform(y_data)\n",
    "\n",
    "# print(np.column_stack([x_data, y_data]))\n",
    "# print(np.column_stack([scaled_x_data, scaled_y_data]))\n",
    "\n",
    "# placeholder 설정 (입렵변수 x, 타겟변수 y)\n",
    "x = tf.placeholder(dtype=tf.float32)\n",
    "y = tf.placeholder(dtype=tf.float32)\n",
    "\n",
    "# W, b\n",
    "W = tf.Variable(tf.random_normal([1]))\n",
    "b = tf.Variable(tf.random_normal([1]))\n",
    "\n",
    "# Hypothesis (예측값)\n",
    "\n",
    "H = W * x + b\n",
    "\n",
    "# 손실함수\n",
    "cost = tf.reduce_mean(tf.square(H - y))\n",
    "\n",
    "# 경사하강법\n",
    "train = tf.train.GradientDescentOptimizer(learning_rate=0.001).minimize(cost)\n",
    "\n",
    "# Session 객체 생성\n",
    "sess = tf.Session()\n",
    "sess.run(tf.global_variables_initializer())  # W, b 초기화\n",
    "\n",
    "# 15000 학습\n",
    "for step in range(15001):\n",
    "    _, cost_val, W_val, b_val = sess.run([train, cost, W, b],\n",
    "                                         feed_dict={\n",
    "                                             x: scaled_x_data,\n",
    "                                             y: scaled_y_data\n",
    "                                         })\n",
    "\n",
    "    if step % 500 == 0:\n",
    "        print(\"{}번쨰 cost : {}, W : {}, b : {}\".format(step, cost_val, W_val,\n",
    "                                                      b_val))"
   ]
  },
  {
   "cell_type": "code",
   "execution_count": 121,
   "id": "3053702d",
   "metadata": {},
   "outputs": [
    {
     "name": "stdout",
     "output_type": "stream",
     "text": [
      "모델 예측 위한 입력 :\n",
      "[[-0.93313895]\n",
      " [-0.64153303]]\n",
      "모델 예측 결과 :\n",
      "[[-0.9034045 ]\n",
      " [-0.62109053]]\n",
      "결과 :\n",
      "[[19.2318  ]\n",
      " [29.534367]]\n"
     ]
    }
   ],
   "source": [
    "# 예측 : 모델에 scale 조정된 값으로 예측=>scale 조정된 y값\n",
    "# scaled_input\n",
    "scaled_input = scaler_x.transform(np.array([[2], [3]]))\n",
    "scaled_input\n",
    "print('모델 예측 위한 입력 :', scaled_input, sep='\\n')\n",
    "# scaled_output\n",
    "scaled_output = sess.run(H, feed_dict={x: scaled_input})\n",
    "print('모델 예측 결과 :', scaled_output, sep='\\n')\n",
    "\n",
    "print('결과 :', scaler_y.inverse_transform(scaled_output), sep='\\n')"
   ]
  },
  {
   "cell_type": "code",
   "execution_count": 122,
   "id": "12261872",
   "metadata": {},
   "outputs": [],
   "source": [
    "# x_data들의 예측값\n",
    "scaled_y_hat = sess.run(H, feed_dict={x: scaled_x_data})\n",
    "y_hat = scaler_y.inverse_transform(scaled_y_hat)"
   ]
  },
  {
   "cell_type": "code",
   "execution_count": 123,
   "id": "6c2c4164",
   "metadata": {},
   "outputs": [
    {
     "data": {
      "text/plain": [
       "[<matplotlib.lines.Line2D at 0x17afaaa30>]"
      ]
     },
     "execution_count": 123,
     "metadata": {},
     "output_type": "execute_result"
    },
    {
     "data": {
      "image/png": "[encoded data removed]",
      "text/plain": [
       "<Figure size 640x480 with 1 Axes>"
      ]
     },
     "metadata": {},
     "output_type": "display_data"
    }
   ],
   "source": [
    "import matplotlib.pyplot as plt\n",
    "\n",
    "plt.plot(x_data, y_data, 'r')\n",
    "plt.plot(x_data, y_hat, 'b')"
   ]
  }
 ],
 "metadata": {
  "kernelspec": {
   "display_name": "ml-dl-nlp",
   "language": "python",
   "name": "ml-dl-nlp"
  },
  "language_info": {
   "codemirror_mode": {
    "name": "ipython",
    "version": 3
   },
   "file_extension": ".py",
   "mimetype": "text/x-python",
   "name": "python",
   "nbconvert_exporter": "python",
   "pygments_lexer": "ipython3",
   "version": "3.9.23"
  },
  "toc": {
   "base_numbering": 1,
   "nav_menu": {},
   "number_sections": false,
   "sideBar": true,
   "skip_h1_title": false,
   "title_cell": "Table of Contents",
   "title_sidebar": "Contents",
   "toc_cell": false,
   "toc_position": {
    "height": "calc(100% - 180px)",
    "left": "10px",
    "top": "150px",
    "width": "198px"
   },
   "toc_section_display": true,
   "toc_window_display": true
  }
 },
 "nbformat": 4,
 "nbformat_minor": 5
}
