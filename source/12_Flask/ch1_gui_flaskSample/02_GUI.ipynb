{
 "cells": [
  {
   "cell_type": "code",
   "execution_count": 16,
   "id": "37180a60",
   "metadata": {},
   "outputs": [
    {
     "data": {
      "text/html": [
       "<style>\n",
       "* {font-family:D2Coding;}\n",
       "div.container{width:87% !important;}\n",
       "div.cell.code_cell.rendered{width:100%;}\n",
       "div.CodeMirror {font-size:12pt;}\n",
       "div.output {font-size:12pt; font-weight:bold;}\n",
       "div.input { font-size:12pt;}\n",
       "div.prompt {min-width:70px;}\n",
       "div#toc-wrapper{padding-top:120px;}\n",
       "div.text_cell_render ul li{font-size:12pt;padding:3px;}\n",
       "table.dataframe{font-size:12px;}\n",
       "</style>\n"
      ],
      "text/plain": [
       "<IPython.core.display.HTML object>"
      ]
     },
     "metadata": {},
     "output_type": "display_data"
    }
   ],
   "source": [
    "from IPython.display import display, HTML\n",
    "\n",
    "display(\n",
    "    HTML(\n",
    "        \"\"\"<style>\n",
    "* {font-family:D2Coding;}\n",
    "div.container{width:87% !important;}\n",
    "div.cell.code_cell.rendered{width:100%;}\n",
    "div.CodeMirror {font-size:12pt;}\n",
    "div.output {font-size:12pt; font-weight:bold;}\n",
    "div.input { font-size:12pt;}\n",
    "div.prompt {min-width:70px;}\n",
    "div#toc-wrapper{padding-top:120px;}\n",
    "div.text_cell_render ul li{font-size:12pt;padding:3px;}\n",
    "table.dataframe{font-size:12px;}\n",
    "</style>\n",
    "\"\"\"\n",
    "    )\n",
    ")"
   ]
  },
  {
   "cell_type": "markdown",
   "id": "70319377",
   "metadata": {},
   "source": [
    "- 모델 load하여, GUI(윈도우즈) 창을 통해 입력받은 값으로 예측한 결과 GUI창에 출력"
   ]
  },
  {
   "cell_type": "markdown",
   "id": "3c3976c7",
   "metadata": {},
   "source": [
    "# <span style='color:red'>Ch2. GUI</span>"
   ]
  },
  {
   "cell_type": "code",
   "execution_count": 17,
   "id": "991d90f6",
   "metadata": {},
   "outputs": [],
   "source": [
    "import joblib\n",
    "import tkinter as tk # GUI (그래픽 사용자 인터페이지 창을 띄우기 위함)"
   ]
  },
  {
   "cell_type": "code",
   "execution_count": 18,
   "id": "80697511",
   "metadata": {},
   "outputs": [],
   "source": [
    "model = joblib.load('../model/ex1_apt_price_regression.joblib')\n",
    "# model.summary()"
   ]
  },
  {
   "cell_type": "code",
   "execution_count": 20,
   "id": "4d1933ae",
   "metadata": {},
   "outputs": [],
   "source": [
    "def on_submit(event=None):\n",
    "    \"입력된 건축연년도, 전용면적, 층수를 예측한 결과 출력\"\n",
    "    year = int(year_entry.get())\n",
    "    square = int(square_entry.get())\n",
    "    floor  = int(floor_entry.get())\n",
    "    model = joblib.load('../model/ex1_apt_price_regression.joblib')\n",
    "    result = round(model.predict([year, square, floor, 1])[0])\n",
    "    result_msg = \"예상금액 : {}만원입니다\".format( format(result, ',') )\n",
    "    pred_label.configure(text=result_msg)\n",
    "    print(result_msg)\n",
    "\n",
    "    # 예상 금액 출력 후 입력값 비우기\n",
    "    year_entry.delete(0, len(year_entry.get())) # 비추\n",
    "    square_entry.delete(0, tk.END) # 추천\n",
    "    floor_entry.delete(0, tk.END)\n",
    "    year_entry.focus_set()"
   ]
  },
  {
   "cell_type": "code",
   "execution_count": 21,
   "id": "fe7b23ea",
   "metadata": {},
   "outputs": [
    {
     "name": "stderr",
     "output_type": "stream",
     "text": [
      "2025-07-09 11:38:50.008 python[18294:205371] error messaging the mach port for IMKCFRunLoopWakeUpReliable\n"
     ]
    },
    {
     "name": "stdout",
     "output_type": "stream",
     "text": [
      "예상금액 : 80,511만원입니다\n"
     ]
    }
   ],
   "source": [
    "# 라이브러리 불러오기\n",
    "root = tk.Tk()\n",
    "\n",
    "# 윈도우 창 크기 설정\n",
    "root.geometry(\"300x350\")\n",
    "\n",
    "# 라벨 생성\n",
    "# 건축년도 입력 필드\n",
    "year_label = tk.Label(root, text=\"건축년도\")\n",
    "year_label.pack()\n",
    "year_entry = tk.Entry(root)\n",
    "year_entry.pack(pady=5)  # pady: 위아래 여백\n",
    "\n",
    "# 전용면적 입력 필드\n",
    "square_label = tk.Label(root, text=\"전용면적\")\n",
    "square_label.pack()\n",
    "square_entry = tk.Entry(root)\n",
    "square_entry.pack(pady=5)  # pady: 위아래 여백\n",
    "\n",
    "# 층 입력 필드\n",
    "floor_label = tk.Label(root, text=\"층 수\")\n",
    "floor_label.pack()\n",
    "floor_entry = tk.Entry(root)\n",
    "floor_entry.pack(pady=5)  # pady: 위아래 여백\n",
    "\n",
    "# 예측 버튼 생성\n",
    "submit_button = tk.Button(root, text=\"예측\", command=\"on_submit\")\n",
    "submit_button.pack(pady=15)  # pady: 위아래 여백\n",
    "\n",
    "# 예측 결과 라벨 생성\n",
    "pred_label = tk.Label(root, text=\"예측 금액 출력 예정\")\n",
    "pred_label.pack(pady=10)  # pady: 위아래 여백\n",
    "\n",
    "# GUI 창이 뜨면 건축년도 입력 필드에 커서가 있게 함\n",
    "year_entry.focus_set() \n",
    "\n",
    "root.bind('<Return>', on_submit)\n",
    "\n",
    "# 윈도우 창 띄우기\n",
    "root.mainloop()"
   ]
  },
  {
   "cell_type": "code",
   "execution_count": null,
   "id": "419c05b0",
   "metadata": {},
   "outputs": [],
   "source": []
  },
  {
   "cell_type": "code",
   "execution_count": null,
   "id": "1fe63e85",
   "metadata": {},
   "outputs": [],
   "source": []
  },
  {
   "cell_type": "code",
   "execution_count": null,
   "id": "05073376",
   "metadata": {},
   "outputs": [],
   "source": []
  },
  {
   "cell_type": "code",
   "execution_count": null,
   "id": "c4831a74",
   "metadata": {},
   "outputs": [],
   "source": []
  },
  {
   "cell_type": "code",
   "execution_count": null,
   "id": "4f960e29",
   "metadata": {},
   "outputs": [],
   "source": []
  },
  {
   "cell_type": "code",
   "execution_count": null,
   "id": "7021ecc2",
   "metadata": {},
   "outputs": [],
   "source": []
  },
  {
   "cell_type": "code",
   "execution_count": null,
   "id": "367745ca",
   "metadata": {},
   "outputs": [],
   "source": []
  },
  {
   "cell_type": "code",
   "execution_count": null,
   "id": "25b7376f",
   "metadata": {},
   "outputs": [],
   "source": []
  },
  {
   "cell_type": "code",
   "execution_count": null,
   "id": "b1db189b",
   "metadata": {},
   "outputs": [],
   "source": []
  },
  {
   "cell_type": "code",
   "execution_count": null,
   "id": "6305016c",
   "metadata": {},
   "outputs": [],
   "source": []
  }
 ],
 "metadata": {
  "kernelspec": {
   "display_name": "base",
   "language": "python",
   "name": "python3"
  },
  "language_info": {
   "codemirror_mode": {
    "name": "ipython",
    "version": 3
   },
   "file_extension": ".py",
   "mimetype": "text/x-python",
   "name": "python",
   "nbconvert_exporter": "python",
   "pygments_lexer": "ipython3",
   "version": "3.10.9"
  }
 },
 "nbformat": 4,
 "nbformat_minor": 5
}
