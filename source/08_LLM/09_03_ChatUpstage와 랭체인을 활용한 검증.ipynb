{
 "cells": [
  {
   "cell_type": "code",
   "execution_count": 2,
   "id": "1324d7a4",
   "metadata": {},
   "outputs": [
    {
     "data": {
      "text/html": [
       "<style>\n",
       "* {font-family:D2Coding;}\n",
       "div.container{width:87% !important;}\n",
       "div.cell.code_cell.rendered{width:100%;}\n",
       "div.CodeMirror {font-size:12pt;}\n",
       "div.output {font-size:12pt; font-weight:bold;}\n",
       "div.input { font-size:12pt;}\n",
       "div.prompt {min-width:70px;}\n",
       "div#toc-wrapper{padding-top:120px;}\n",
       "div.text_cell_render ul li{font-size:12pt;padding:3px;}\n",
       "table.dataframe{font-size:12px;}\n",
       "</style>\n"
      ],
      "text/plain": [
       "<IPython.core.display.HTML object>"
      ]
     },
     "metadata": {},
     "output_type": "display_data"
    }
   ],
   "source": [
    "from IPython.display import display, HTML\n",
    "\n",
    "display(\n",
    "    HTML(\n",
    "        \"\"\"<style>\n",
    "* {font-family:D2Coding;}\n",
    "div.container{width:87% !important;}\n",
    "div.cell.code_cell.rendered{width:100%;}\n",
    "div.CodeMirror {font-size:12pt;}\n",
    "div.output {font-size:12pt; font-weight:bold;}\n",
    "div.input { font-size:12pt;}\n",
    "div.prompt {min-width:70px;}\n",
    "div#toc-wrapper{padding-top:120px;}\n",
    "div.text_cell_render ul li{font-size:12pt;padding:3px;}\n",
    "table.dataframe{font-size:12px;}\n",
    "</style>\n",
    "\"\"\"\n",
    "    )\n",
    ")"
   ]
  },
  {
   "cell_type": "markdown",
   "id": "02acf054",
   "metadata": {},
   "source": [
    "# 1. 환경(패키지 및 환경변수)"
   ]
  },
  {
   "cell_type": "code",
   "execution_count": 3,
   "id": "85688542",
   "metadata": {},
   "outputs": [],
   "source": [
    "# %pip install -q langchain-upstage"
   ]
  },
  {
   "cell_type": "code",
   "execution_count": 4,
   "id": "29fd5743",
   "metadata": {},
   "outputs": [
    {
     "data": {
      "text/plain": [
       "True"
      ]
     },
     "execution_count": 4,
     "metadata": {},
     "output_type": "execute_result"
    }
   ],
   "source": [
    "from dotenv import load_dotenv\n",
    "load_dotenv()"
   ]
  },
  {
   "cell_type": "markdown",
   "id": "5282bffb",
   "metadata": {},
   "source": [
    "# 2. LLM 답변 생성\n",
    "\n",
    "## 2-1. OpenAI SDK을 사용 "
   ]
  },
  {
   "cell_type": "code",
   "execution_count": null,
   "id": "31eb763d",
   "metadata": {},
   "outputs": [],
   "source": [
    "from openai import OpenAI # openai==1.52.2\n",
    "import os\n",
    "\n",
    "upstage_api_key = os.environ.get(\"UPSTAGE_API_KEY\")\n",
    "\n",
    "client = OpenAI(\n",
    "    api_key=upstage_api_key,\n",
    "    base_url=\"https://api.upstage.ai/v1\"\n",
    ")"
   ]
  },
  {
   "cell_type": "code",
   "execution_count": 8,
   "id": "4e38bfc5",
   "metadata": {},
   "outputs": [],
   "source": [
    "\n",
    "stream = client.chat.completions.create(\n",
    "    model=\"solar-pro2\",\n",
    "    messages=[\n",
    "        {\n",
    "            \"role\": \"user\",\n",
    "            \"content\": \"2020년 월드시리즈 누가 우승했나요?\"\n",
    "        }\n",
    "    ],\n",
    "    stream=False,\n",
    ")"
   ]
  },
  {
   "cell_type": "code",
   "execution_count": 12,
   "id": "7717d986",
   "metadata": {},
   "outputs": [
    {
     "name": "stdout",
     "output_type": "stream",
     "text": [
      "2020년 월드시리즈는 **로스앤젤레스 다저스(Los Angeles Dodgers)**가 우승했습니다. 다저스는 탬파베이 레이스(Tampa Bay Rays)를 4승 2패로 꺾고, 프랜차이즈 역사상 3번째 월드시리즈 타이틀을 차지했습니다. \n",
      "\n",
      "특히 이 시리즈는 코로나19 팬데믹 영향으로 무관중 경기로 진행되었으며, 다저스는 1988년 이후 32년 만의 우승을 달성했습니다. 주요 활약 선수로는 코리 시거(Corey Seager)와 클레이턴 커쇼(Clayton Kershaw) 등이 있었습니다.\n"
     ]
    }
   ],
   "source": [
    "print(stream.choices[0].message.content)"
   ]
  },
  {
   "cell_type": "markdown",
   "id": "626f321c",
   "metadata": {},
   "source": [
    "# 2.2. LangChain을 선택\n",
    "\n",
    "- 발급받은 API_KEY를 .env UPSTAGE_API_KEY라고 저장하면 별도의 설정없이 ChatUpstage를 바로 사용"
   ]
  },
  {
   "cell_type": "code",
   "execution_count": 14,
   "id": "a57cc335",
   "metadata": {},
   "outputs": [],
   "source": [
    "from langchain_upstage import ChatUpstage\n",
    "from langchain_core.messages import HumanMessage, SystemMessage\n",
    "\n",
    "lim = ChatUpstage()"
   ]
  },
  {
   "cell_type": "code",
   "execution_count": null,
   "id": "3389eba7",
   "metadata": {},
   "outputs": [],
   "source": [
    "messages = [\n",
    "    SystemMessage(content=\"너는 친철하게 대답해 주는 비서야\"),\n",
    "    HumanMessage(content=\"2020년 월드 시리즈는 누가 우승했어?\"),\n",
    "]"
   ]
  },
  {
   "cell_type": "code",
   "execution_count": 16,
   "id": "2390e6fc",
   "metadata": {},
   "outputs": [
    {
     "data": {
      "text/plain": [
       "AIMessage(content='2020년 월드 시리즈는 로스앤젤레스 다저스가 우승했습니다. 그들은 탬파베이 레이스를 4승 2패로 꺾고 32년 만에 월드 시리즈 우승을 차지했습니다.', additional_kwargs={'refusal': None}, response_metadata={'token_usage': {'completion_tokens': 47, 'prompt_tokens': 38, 'total_tokens': 85, 'completion_tokens_details': None, 'prompt_tokens_details': None}, 'model_name': 'solar-mini-250422', 'system_fingerprint': None, 'id': 'ac568b65-901d-4249-8ff6-3b3f76ff1efa', 'service_tier': None, 'finish_reason': 'stop', 'logprobs': None}, id='run--73d70074-ff66-4301-a47b-b6e1c277f7c2-0', usage_metadata={'input_tokens': 38, 'output_tokens': 47, 'total_tokens': 85, 'input_token_details': {}, 'output_token_details': {}})"
      ]
     },
     "execution_count": 16,
     "metadata": {},
     "output_type": "execute_result"
    }
   ],
   "source": [
    "ai_message = lim.invoke(messages)\n",
    "ai_message"
   ]
  },
  {
   "cell_type": "code",
   "execution_count": 17,
   "id": "578a9e0e",
   "metadata": {},
   "outputs": [
    {
     "data": {
      "text/plain": [
       "'2020년 월드 시리즈는 로스앤젤레스 다저스가 우승했습니다. 그들은 탬파베이 레이스를 4승 2패로 꺾고 32년 만에 월드 시리즈 우승을 차지했습니다.'"
      ]
     },
     "execution_count": 17,
     "metadata": {},
     "output_type": "execute_result"
    }
   ],
   "source": [
    "ai_message.content"
   ]
  },
  {
   "cell_type": "code",
   "execution_count": null,
   "id": "1ff6aaed",
   "metadata": {},
   "outputs": [],
   "source": []
  }
 ],
 "metadata": {
  "kernelspec": {
   "display_name": "llm",
   "language": "python",
   "name": "python3"
  },
  "language_info": {
   "codemirror_mode": {
    "name": "ipython",
    "version": 3
   },
   "file_extension": ".py",
   "mimetype": "text/x-python",
   "name": "python",
   "nbconvert_exporter": "python",
   "pygments_lexer": "ipython3",
   "version": "3.10.18"
  }
 },
 "nbformat": 4,
 "nbformat_minor": 5
}
