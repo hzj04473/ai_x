{
 "cells": [
  {
   "cell_type": "code",
   "execution_count": 2,
   "id": "57961d11",
   "metadata": {},
   "outputs": [
    {
     "data": {
      "text/html": [
       "<style>\n",
       "* {font-family:D2Coding;}\n",
       "div.container{width:87% !important;}\n",
       "div.cell.code_cell.rendered{width:100%;}\n",
       "div.CodeMirror {font-size:12pt;}\n",
       "div.output {font-size:12pt; font-weight:bold;}\n",
       "div.input { font-size:12pt;}\n",
       "div.prompt {min-width:70px;}\n",
       "div#toc-wrapper{padding-top:120px;}\n",
       "div.text_cell_render ul li{font-size:12pt;padding:3px;}\n",
       "table.dataframe{font-size:12px;}\n",
       "</style>\n"
      ],
      "text/plain": [
       "<IPython.core.display.HTML object>"
      ]
     },
     "metadata": {},
     "output_type": "display_data"
    }
   ],
   "source": [
    "from IPython.display import display, HTML\n",
    "\n",
    "display(\n",
    "    HTML(\n",
    "        \"\"\"<style>\n",
    "* {font-family:D2Coding;}\n",
    "div.container{width:87% !important;}\n",
    "div.cell.code_cell.rendered{width:100%;}\n",
    "div.CodeMirror {font-size:12pt;}\n",
    "div.output {font-size:12pt; font-weight:bold;}\n",
    "div.input { font-size:12pt;}\n",
    "div.prompt {min-width:70px;}\n",
    "div#toc-wrapper{padding-top:120px;}\n",
    "div.text_cell_render ul li{font-size:12pt;padding:3px;}\n",
    "table.dataframe{font-size:12px;}\n",
    "</style>\n",
    "\"\"\"\n",
    "    )\n",
    ")"
   ]
  },
  {
   "cell_type": "markdown",
   "id": "3e264c38",
   "metadata": {},
   "source": [
    "# 문장 - 벡터 (1차원 숫자 배열 [8.1, 9.1, 2, 5, 4, 3])\n",
    "\n",
    "- openai API : https://platform.openai.com/ 의 키(OPENAI_API_KEY)를 .env 등록\n",
    "- upstage : https://console.upstage.ai/ 의 키(UPSTAGE_API_KEY)를 .env 등록\n",
    "\n",
    "\n",
    "# 1. 환경변수 load"
   ]
  },
  {
   "cell_type": "code",
   "execution_count": 1,
   "id": "788794b1",
   "metadata": {},
   "outputs": [
    {
     "data": {
      "text/plain": [
       "True"
      ]
     },
     "execution_count": 1,
     "metadata": {},
     "output_type": "execute_result"
    }
   ],
   "source": [
    "from dotenv import load_dotenv\n",
    "load_dotenv()"
   ]
  },
  {
   "cell_type": "markdown",
   "id": "c8df6d83",
   "metadata": {},
   "source": [
    "# 2. 유사도 게싼하는 방법 : https://www.pinecone.io/learn/vector-similarity \n",
    "\n",
    "1. 유클리드 거리 : 두 벡터간의 거리가 가까운지\n",
    "2. 코사인유사도: 두 벡터간 방향이 유사한지\n",
    "3. dot product : 두 벡터간의 곱을 사용하여 거리와 방향을 모두 고려"
   ]
  },
  {
   "cell_type": "code",
   "execution_count": 14,
   "id": "122e9b78",
   "metadata": {},
   "outputs": [],
   "source": [
    "import numpy as np\n",
    "def cosine_similarity(vec1, vec2):\n",
    "    \"\"\"두 백터 사이의 코사인 유사도 계산\"\"\"\n",
    "    dot_product = np.dot(vec1, vec2)\n",
    "    norm_vec1 = np.linalg.norm(vec1) # 벡터의 길이\n",
    "    norm_vec2 = np.linalg.norm(vec2)\n",
    "    if norm_vec1==0 or norm_vec2==0:\n",
    "        return 0.0\n",
    "    return dot_product / (norm_vec1*norm_vec2)"
   ]
  },
  {
   "cell_type": "markdown",
   "id": "d3a99ce6",
   "metadata": {},
   "source": [
    "# 3. openAI API 의 embedding model 사용 \n",
    "- 한글의 경우 유사도 측정이 별루 좋지 않다. 그래서 upstage 를 이용"
   ]
  },
  {
   "cell_type": "code",
   "execution_count": null,
   "id": "90e4a521",
   "metadata": {},
   "outputs": [],
   "source": [
    "from openai import OpenAI\n",
    "openai_client = OpenAI()"
   ]
  },
  {
   "cell_type": "code",
   "execution_count": null,
   "id": "09e31b1d",
   "metadata": {},
   "outputs": [],
   "source": [
    "# text-embedding-3-large\n",
    "# 영어 문장을 벡터로 바꿔도 유사도는 비슷해야 할 듯\n",
    "response = openai_client.embeddings.create(\n",
    "    input=\"king\",\n",
    "    model=\"text-embedding-3-large\"\n",
    ")"
   ]
  },
  {
   "cell_type": "code",
   "execution_count": 9,
   "id": "5c450c52",
   "metadata": {},
   "outputs": [
    {
     "name": "stdout",
     "output_type": "stream",
     "text": [
      "(3072,)\n",
      "[ 0.01040417  0.02499519 -0.0014776  ...  0.00835009  0.01049861\n",
      " -0.00254005]\n"
     ]
    }
   ],
   "source": [
    "import numpy as np\n",
    "king_vector = np.array(response.data[0].embedding)\n",
    "print(king_vector.shape)\n",
    "print(king_vector)"
   ]
  },
  {
   "cell_type": "code",
   "execution_count": 10,
   "id": "7fa56d63",
   "metadata": {},
   "outputs": [],
   "source": [
    "queen_response = openai_client.embeddings.create(\n",
    "    input=\"queen\",\n",
    "    model=\"text-embedding-3-large\"\n",
    ")"
   ]
  },
  {
   "cell_type": "code",
   "execution_count": 12,
   "id": "fad2c8a0",
   "metadata": {},
   "outputs": [
    {
     "name": "stdout",
     "output_type": "stream",
     "text": [
      "(3072,)\n",
      "[-0.01385735  0.0008602  -0.0167823  ...  0.00017693  0.01159847\n",
      "  0.00638929]\n"
     ]
    }
   ],
   "source": [
    "queen_vector = np.array(queen_response.data[0].embedding)\n",
    "print(queen_vector.shape)\n",
    "print(queen_vector)"
   ]
  },
  {
   "cell_type": "code",
   "execution_count": 19,
   "id": "f1ce286a",
   "metadata": {},
   "outputs": [
    {
     "name": "stdout",
     "output_type": "stream",
     "text": [
      "king과 queen의 유사도 :  0.5552268369726675\n"
     ]
    }
   ],
   "source": [
    "king_queen_similarity = cosine_similarity(king_vector, queen_vector)\n",
    "print(\"king과 queen의 유사도 : \", king_queen_similarity)"
   ]
  },
  {
   "cell_type": "code",
   "execution_count": 16,
   "id": "08b64fc3",
   "metadata": {},
   "outputs": [],
   "source": [
    "slave_response = openai_client.embeddings.create(\n",
    "    input=\"slave\",\n",
    "    model=\"text-embedding-3-large\"\n",
    ")"
   ]
  },
  {
   "cell_type": "code",
   "execution_count": 17,
   "id": "5a437497",
   "metadata": {},
   "outputs": [
    {
     "name": "stdout",
     "output_type": "stream",
     "text": [
      "(3072,)\n",
      "[-0.02000881  0.00614965  0.01193179 ...  0.00095144 -0.02677098\n",
      " -0.00585972]\n"
     ]
    }
   ],
   "source": [
    "slave_vector = np.array(slave_response.data[0].embedding)\n",
    "print(slave_vector.shape)\n",
    "print(slave_vector)"
   ]
  },
  {
   "cell_type": "code",
   "execution_count": 20,
   "id": "f61a4607",
   "metadata": {},
   "outputs": [
    {
     "name": "stdout",
     "output_type": "stream",
     "text": [
      "king과 slave의 유사도 :  0.2948359989366531\n"
     ]
    }
   ],
   "source": [
    "king_slave_similarity = cosine_similarity(king_vector, slave_vector)\n",
    "print(\"king과 slave의 유사도 : \", king_slave_similarity)"
   ]
  },
  {
   "cell_type": "code",
   "execution_count": null,
   "id": "1ca2659f",
   "metadata": {},
   "outputs": [],
   "source": [
    "# 한국어 문장을 벡터로 바꿔도 유사도는 비슷해야 할 듯"
   ]
  },
  {
   "cell_type": "code",
   "execution_count": 23,
   "id": "e9a76051",
   "metadata": {},
   "outputs": [],
   "source": [
    "kor_king_response = openai_client.embeddings.create(\n",
    "    input=\"왕\",\n",
    "    model=\"text-embedding-3-large\"\n",
    ")"
   ]
  },
  {
   "cell_type": "code",
   "execution_count": 24,
   "id": "098d8f28",
   "metadata": {},
   "outputs": [
    {
     "name": "stdout",
     "output_type": "stream",
     "text": [
      "(3072,)\n",
      "[-0.00595223  0.01159333 -0.01316932 ... -0.00357134  0.01323696\n",
      " -0.00083999]\n"
     ]
    }
   ],
   "source": [
    "kor_king_vector = np.array(kor_king_response.data[0].embedding)\n",
    "print(kor_king_vector.shape)\n",
    "print(kor_king_vector)"
   ]
  },
  {
   "cell_type": "code",
   "execution_count": 26,
   "id": "e0e5a8d1",
   "metadata": {},
   "outputs": [],
   "source": [
    "kor_queen_response = openai_client.embeddings.create(\n",
    "    input=\"여왕\",\n",
    "    model=\"text-embedding-3-large\"\n",
    ")"
   ]
  },
  {
   "cell_type": "code",
   "execution_count": 27,
   "id": "c530f825",
   "metadata": {},
   "outputs": [
    {
     "name": "stdout",
     "output_type": "stream",
     "text": [
      "(3072,)\n",
      "[-0.01307151 -0.00921458 -0.00532257 ... -0.00482468 -0.00204418\n",
      "  0.02035061]\n"
     ]
    }
   ],
   "source": [
    "kor_queen_vector = np.array(kor_queen_response.data[0].embedding)\n",
    "print(kor_queen_vector.shape)\n",
    "print(kor_queen_vector)"
   ]
  },
  {
   "cell_type": "code",
   "execution_count": 28,
   "id": "4960cc8f",
   "metadata": {},
   "outputs": [
    {
     "name": "stdout",
     "output_type": "stream",
     "text": [
      "king과 slave의 유사도 :  0.48733449549538954\n"
     ]
    }
   ],
   "source": [
    "# 왕과 여왕의 유사\n",
    "kor_king_queen_similarity = cosine_similarity(kor_king_vector, kor_queen_vector)\n",
    "print(\"king과 slave의 유사도 : \", kor_king_queen_similarity)"
   ]
  },
  {
   "cell_type": "code",
   "execution_count": 29,
   "id": "a82c4fb9",
   "metadata": {},
   "outputs": [],
   "source": [
    "kor_slave_response = openai_client.embeddings.create(\n",
    "    input=\"거자\",\n",
    "    model=\"text-embedding-3-large\"\n",
    ")"
   ]
  },
  {
   "cell_type": "code",
   "execution_count": 30,
   "id": "fe19ce91",
   "metadata": {},
   "outputs": [
    {
     "name": "stdout",
     "output_type": "stream",
     "text": [
      "(3072,)\n",
      "[-0.00554396 -0.0408888  -0.00825767 ... -0.00328476 -0.01956536\n",
      "  0.0113543 ]\n"
     ]
    }
   ],
   "source": [
    "# 왕과 거지의 유사\n",
    "kor_slave_vector = np.array(kor_slave_response.data[0].embedding)\n",
    "print(kor_slave_vector.shape)\n",
    "print(kor_slave_vector)"
   ]
  },
  {
   "cell_type": "code",
   "execution_count": 31,
   "id": "09645519",
   "metadata": {},
   "outputs": [
    {
     "name": "stdout",
     "output_type": "stream",
     "text": [
      "king과 slave의 유사도 :  0.21912431861711115\n"
     ]
    }
   ],
   "source": [
    "kor_king_slave_similarity = cosine_similarity(kor_king_vector, kor_slave_vector)\n",
    "print(\"king과 slave의 유사도 : \", kor_king_slave_similarity)"
   ]
  },
  {
   "cell_type": "code",
   "execution_count": 33,
   "id": "ba865d1f",
   "metadata": {},
   "outputs": [
    {
     "name": "stdout",
     "output_type": "stream",
     "text": [
      "king과 slave의 유사도 :  0.5474873912140233\n"
     ]
    }
   ],
   "source": [
    "# king 과 왕의 유사도\n",
    "king_korenKing_similarity = cosine_similarity(king_vector, kor_king_vector)\n",
    "print(\"king과 slave의 유사도 : \", king_korenKing_similarity)"
   ]
  },
  {
   "cell_type": "markdown",
   "id": "dae0ecc6",
   "metadata": {},
   "source": [
    "# 4. upstage의 embedding model 사용\n",
    "- 한국에 embedding 에는 openai 의 embedding 데이터를 사용하는 것이 좋음"
   ]
  },
  {
   "cell_type": "code",
   "execution_count": 35,
   "id": "13b3e491",
   "metadata": {},
   "outputs": [
    {
     "data": {
      "text/plain": [
       "<openai.OpenAI at 0x17df0588c10>"
      ]
     },
     "execution_count": 35,
     "metadata": {},
     "output_type": "execute_result"
    }
   ],
   "source": [
    "import os\n",
    "\n",
    "upstage_api_key = os.environ.get(\"UPSTAGE_API_KEY\")\n",
    "\n",
    "upstage_client = OpenAI(\n",
    "    api_key=upstage_api_key,\n",
    "    base_url=\"https://api.upstage.ai/v1\"\n",
    ")"
   ]
  },
  {
   "cell_type": "code",
   "execution_count": 36,
   "id": "23167cc2",
   "metadata": {},
   "outputs": [],
   "source": [
    "up_king_response = upstage_client.embeddings.create(\n",
    "    input=\"king\",\n",
    "    model=\"embedding-query\"\n",
    ")"
   ]
  },
  {
   "cell_type": "code",
   "execution_count": 40,
   "id": "70b86db6",
   "metadata": {},
   "outputs": [
    {
     "name": "stdout",
     "output_type": "stream",
     "text": [
      "(4096,)\n",
      "[-0.01187134 -0.02062988 -0.00674057 ... -0.01081848  0.00247955\n",
      "  0.01520538]\n"
     ]
    }
   ],
   "source": [
    "up_king_vector = np.array(up_king_response.data[0].embedding)\n",
    "print(up_king_vector.shape)\n",
    "print(up_king_vector)"
   ]
  },
  {
   "cell_type": "code",
   "execution_count": 41,
   "id": "db182f97",
   "metadata": {},
   "outputs": [],
   "source": [
    "up_queen_response = upstage_client.embeddings.create(\n",
    "    input=\"queen\",\n",
    "    model=\"embedding-query\"\n",
    ")"
   ]
  },
  {
   "cell_type": "code",
   "execution_count": 42,
   "id": "7bab66ad",
   "metadata": {},
   "outputs": [
    {
     "name": "stdout",
     "output_type": "stream",
     "text": [
      "(4096,)\n",
      "[-0.00164413 -0.00951385 -0.00470734 ...  0.00989532 -0.00730133\n",
      "  0.02600098]\n"
     ]
    }
   ],
   "source": [
    "up_queen_vector = np.array(up_queen_response.data[0].embedding)\n",
    "print(up_queen_vector.shape)\n",
    "print(up_queen_vector)"
   ]
  },
  {
   "cell_type": "code",
   "execution_count": 43,
   "id": "b3fe5f8e",
   "metadata": {},
   "outputs": [
    {
     "name": "stdout",
     "output_type": "stream",
     "text": [
      "king과 slave의 유사도 :  0.6279103035110143\n"
     ]
    }
   ],
   "source": [
    "up_king_queen_similarity = cosine_similarity(up_king_vector, up_queen_vector)\n",
    "print(\"king과 slave의 유사도 : \", up_king_queen_similarity)"
   ]
  },
  {
   "cell_type": "code",
   "execution_count": 44,
   "id": "7b8acf6c",
   "metadata": {},
   "outputs": [],
   "source": [
    "up_kor_king_response = upstage_client.embeddings.create(\n",
    "    input=\"왕\",\n",
    "    model=\"embedding-query\"\n",
    ")"
   ]
  },
  {
   "cell_type": "code",
   "execution_count": 45,
   "id": "445402e7",
   "metadata": {},
   "outputs": [
    {
     "name": "stdout",
     "output_type": "stream",
     "text": [
      "(4096,)\n",
      "[-0.01207733 -0.0224762  -0.01322937 ... -0.00020826  0.00362587\n",
      "  0.01420593]\n"
     ]
    }
   ],
   "source": [
    "up_kor_king_vector = np.array(up_kor_king_response.data[0].embedding)\n",
    "print(up_kor_king_vector.shape)\n",
    "print(up_kor_king_vector)"
   ]
  },
  {
   "cell_type": "code",
   "execution_count": 50,
   "id": "e684a9d9",
   "metadata": {},
   "outputs": [
    {
     "name": "stdout",
     "output_type": "stream",
     "text": [
      "0.852188301320326\n"
     ]
    }
   ],
   "source": [
    "# upstage 에서의 king 과 왕의 유사도\n",
    "up_king_korenKing_similarity = cosine_similarity(up_king_vector, up_kor_king_vector)\n",
    "print(up_king_korenKing_similarity)"
   ]
  },
  {
   "cell_type": "code",
   "execution_count": null,
   "id": "8494fa20",
   "metadata": {},
   "outputs": [],
   "source": []
  },
  {
   "cell_type": "code",
   "execution_count": null,
   "id": "d729230f",
   "metadata": {},
   "outputs": [],
   "source": []
  },
  {
   "cell_type": "code",
   "execution_count": null,
   "id": "a274c8ff",
   "metadata": {},
   "outputs": [],
   "source": []
  },
  {
   "cell_type": "code",
   "execution_count": null,
   "id": "4baf16cc",
   "metadata": {},
   "outputs": [],
   "source": []
  },
  {
   "cell_type": "code",
   "execution_count": null,
   "id": "814244cc",
   "metadata": {},
   "outputs": [],
   "source": []
  },
  {
   "cell_type": "code",
   "execution_count": null,
   "id": "b708dd87",
   "metadata": {},
   "outputs": [],
   "source": []
  },
  {
   "cell_type": "code",
   "execution_count": null,
   "id": "bd310243",
   "metadata": {},
   "outputs": [],
   "source": []
  }
 ],
 "metadata": {
  "kernelspec": {
   "display_name": "llm",
   "language": "python",
   "name": "python3"
  },
  "language_info": {
   "codemirror_mode": {
    "name": "ipython",
    "version": 3
   },
   "file_extension": ".py",
   "mimetype": "text/x-python",
   "name": "python",
   "nbconvert_exporter": "python",
   "pygments_lexer": "ipython3",
   "version": "3.10.18"
  }
 },
 "nbformat": 4,
 "nbformat_minor": 5
}
