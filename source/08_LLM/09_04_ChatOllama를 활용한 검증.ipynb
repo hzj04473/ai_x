{
 "cells": [
  {
   "cell_type": "code",
   "execution_count": 1,
   "id": "b9db5cf8",
   "metadata": {},
   "outputs": [
    {
     "data": {
      "text/html": [
       "<style>\n",
       "* {font-family:D2Coding;}\n",
       "div.container{width:87% !important;}\n",
       "div.cell.code_cell.rendered{width:100%;}\n",
       "div.CodeMirror {font-size:12pt;}\n",
       "div.output {font-size:12pt; font-weight:bold;}\n",
       "div.input { font-size:12pt;}\n",
       "div.prompt {min-width:70px;}\n",
       "div#toc-wrapper{padding-top:120px;}\n",
       "div.text_cell_render ul li{font-size:12pt;padding:3px;}\n",
       "table.dataframe{font-size:12px;}\n",
       "</style>\n"
      ],
      "text/plain": [
       "<IPython.core.display.HTML object>"
      ]
     },
     "metadata": {},
     "output_type": "display_data"
    }
   ],
   "source": [
    "from IPython.display import display, HTML\n",
    "\n",
    "display(\n",
    "    HTML(\n",
    "        \"\"\"<style>\n",
    "* {font-family:D2Coding;}\n",
    "div.container{width:87% !important;}\n",
    "div.cell.code_cell.rendered{width:100%;}\n",
    "div.CodeMirror {font-size:12pt;}\n",
    "div.output {font-size:12pt; font-weight:bold;}\n",
    "div.input { font-size:12pt;}\n",
    "div.prompt {min-width:70px;}\n",
    "div#toc-wrapper{padding-top:120px;}\n",
    "div.text_cell_render ul li{font-size:12pt;padding:3px;}\n",
    "table.dataframe{font-size:12px;}\n",
    "</style>\n",
    "\"\"\"\n",
    "    )\n",
    ")"
   ]
  },
  {
   "cell_type": "markdown",
   "id": "1ef96a13",
   "metadata": {},
   "source": [
    "# 1. 환경(패키지 및 환경변수)\n",
    "\n",
    "- pip install langchain-ollama\n",
    "- pip install langchain-community"
   ]
  },
  {
   "cell_type": "code",
   "execution_count": 4,
   "id": "a698c1a8",
   "metadata": {},
   "outputs": [],
   "source": [
    "# %pip install langchain-community"
   ]
  },
  {
   "cell_type": "markdown",
   "id": "288fca79",
   "metadata": {},
   "source": [
    "# 2. LLM 답변 생성\n",
    "\n",
    "- https://ollama.com 에서 모델 선택 (llama3.2:1b) \n",
    "- powersgell 이나 cmd 창에서 ollama pull llama3.2:1b "
   ]
  },
  {
   "cell_type": "code",
   "execution_count": 7,
   "metadata": {},
   "outputs": [
    {
     "data": {
      "text/plain": [
       "'2020 년 월드 시리즈는 NCsoft에서 phát hành되었으며, NVIDIA TITAN X GPU 및 GeForce RTX 3080 GPU를 사용했습니다. \\n\\n이 전자는 1년 동안 세계의 여러 지역에서 11개 팀에서 진행ed는 tournament로, 특히 3-4인 팀은 7일간 치러졌고, 승부는 전투에 따라 determine되었다. \\n\\n이전은 2020 년 8 월에 시작되었으며, NVIDIA가 이에 대한 배치 및 테스트를 진행했을 때, NCsoft가 이 시리즈의 배경이 되는 게임을 발표했습니다.'"
      ]
     },
     "execution_count": 7,
     "metadata": {},
     "output_type": "execute_result"
    }
   ],
   "source": [
    "from langchain_ollama import ChatOllama\n",
    "# from langchain_community.chat_models import ChatOllama\n",
    "\n",
    "llm = ChatOllama(model=\"llama3.2:1b\")\n",
    "ai_message = llm.invoke(\"2020년 월드 시리즈에서 누가 우승했나요?\")\n",
    "ai_message.content"
   ]
  },
  {
   "cell_type": "markdown",
   "id": "c309c67a",
   "metadata": {},
   "source": [
    "# 3. 코랩에서 ollama (exaone3.5:2.4b)\n",
    "- http://bit.ly/3IKpnVH"
   ]
  },
  {
   "cell_type": "code",
   "execution_count": null,
   "id": "d9db25f8",
   "metadata": {},
   "outputs": [],
   "source": []
  },
  {
   "cell_type": "code",
   "execution_count": null,
   "id": "565c8adb",
   "metadata": {},
   "outputs": [],
   "source": []
  },
  {
   "cell_type": "code",
   "execution_count": null,
   "id": "3a0a7d16",
   "metadata": {},
   "outputs": [],
   "source": []
  },
  {
   "cell_type": "code",
   "execution_count": null,
   "id": "7bb64d1b",
   "metadata": {},
   "outputs": [],
   "source": []
  }
 ],
 "metadata": {
  "kernelspec": {
   "display_name": "llm",
   "language": "python",
   "name": "python3"
  },
  "language_info": {
   "codemirror_mode": {
    "name": "ipython",
    "version": 3
   },
   "file_extension": ".py",
   "mimetype": "text/x-python",
   "name": "python",
   "nbconvert_exporter": "python",
   "pygments_lexer": "ipython3",
   "version": "3.10.18"
  }
 },
 "nbformat": 4,
 "nbformat_minor": 5
}
