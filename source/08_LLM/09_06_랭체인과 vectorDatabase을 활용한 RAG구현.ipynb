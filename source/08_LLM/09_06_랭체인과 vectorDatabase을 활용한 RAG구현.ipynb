{
 "cells": [
  {
   "cell_type": "code",
   "execution_count": null,
   "id": "93206255",
   "metadata": {},
   "outputs": [],
   "source": [
    "from IPython.display import display, HTML\n",
    "\n",
    "display(\n",
    "    HTML(\n",
    "        \"\"\"<style>\n",
    "* {font-family:D2Coding;}\n",
    "div.container{width:87% !important;}\n",
    "div.cell.code_cell.rendered{width:100%;}\n",
    "div.CodeMirror {font-size:12pt;}\n",
    "div.output {font-size:12pt; font-weight:bold;}\n",
    "div.input { font-size:12pt;}\n",
    "div.prompt {min-width:70px;}\n",
    "div#toc-wrapper{padding-top:120px;}\n",
    "div.text_cell_render ul li{font-size:12pt;padding:3px;}\n",
    "table.dataframe{font-size:12px;}\n",
    "</style>\n",
    "\"\"\"\n",
    "    )\n",
    ")"
   ]
  },
  {
   "cell_type": "markdown",
   "id": "00f68ed2",
   "metadata": {},
   "source": [
    "# RAG 절차\n",
    "- https://law.go.kr/%EB%B2%95%EB%A0%B9/%EC%86%8C%EB%93%9D%EC%84%B8%EB%B2%95 에서 doc다운로드 (hwp는 파이껀 못 읽음, pdf는 한글의 경우 짤림) 받아 파일형식을 docx로 변경\n",
    "\n",
    "1. 문서읽는다 (document_loader 이용)\n",
    "2. 읽어온 문서 쪼갠다. (tiktoken 이용)\n",
    "  - 모델의 context window를 초과 (128,000 context window)\n",
    "  - 문서가 길면(input이 길면), 비용과 시간이 오래 걸림\n",
    "3. 쪼갠 문서를 임베딩 -> veltor database에 저장 -> chroma(local vector DB), pinecorn(클라우드 vector DB)\n",
    "4. 질문과 vector Database의 유사도 검색\n",
    "5. 유사도 검색으로 가져도 문서를 LLM에 질문과 같이 전달하여 답변을 생성\n",
    "\n",
    "# 1. 문서읽는다 (document_loader 이용)"
   ]
  },
  {
   "cell_type": "code",
   "execution_count": null,
   "id": "85ab81da",
   "metadata": {},
   "outputs": [],
   "source": []
  },
  {
   "cell_type": "code",
   "execution_count": null,
   "id": "7e57ef5c",
   "metadata": {},
   "outputs": [],
   "source": []
  },
  {
   "cell_type": "code",
   "execution_count": null,
   "id": "1324dd65",
   "metadata": {},
   "outputs": [],
   "source": []
  },
  {
   "cell_type": "code",
   "execution_count": null,
   "id": "52a21491",
   "metadata": {},
   "outputs": [],
   "source": []
  }
 ],
 "metadata": {
  "language_info": {
   "name": "python"
  }
 },
 "nbformat": 4,
 "nbformat_minor": 5
}
