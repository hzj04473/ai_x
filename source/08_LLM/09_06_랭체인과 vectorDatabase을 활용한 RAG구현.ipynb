{
 "cells": [
  {
   "cell_type": "code",
   "execution_count": 1,
   "id": "93206255",
   "metadata": {},
   "outputs": [
    {
     "data": {
      "text/html": [
       "<style>\n",
       "* {font-family:D2Coding;}\n",
       "div.container{width:87% !important;}\n",
       "div.cell.code_cell.rendered{width:100%;}\n",
       "div.CodeMirror {font-size:12pt;}\n",
       "div.output {font-size:12pt; font-weight:bold;}\n",
       "div.input { font-size:12pt;}\n",
       "div.prompt {min-width:70px;}\n",
       "div#toc-wrapper{padding-top:120px;}\n",
       "div.text_cell_render ul li{font-size:12pt;padding:3px;}\n",
       "table.dataframe{font-size:12px;}\n",
       "</style>\n"
      ],
      "text/plain": [
       "<IPython.core.display.HTML object>"
      ]
     },
     "metadata": {},
     "output_type": "display_data"
    }
   ],
   "source": [
    "from IPython.display import display, HTML\n",
    "\n",
    "display(\n",
    "    HTML(\n",
    "        \"\"\"<style>\n",
    "* {font-family:D2Coding;}\n",
    "div.container{width:87% !important;}\n",
    "div.cell.code_cell.rendered{width:100%;}\n",
    "div.CodeMirror {font-size:12pt;}\n",
    "div.output {font-size:12pt; font-weight:bold;}\n",
    "div.input { font-size:12pt;}\n",
    "div.prompt {min-width:70px;}\n",
    "div#toc-wrapper{padding-top:120px;}\n",
    "div.text_cell_render ul li{font-size:12pt;padding:3px;}\n",
    "table.dataframe{font-size:12px;}\n",
    "</style>\n",
    "\"\"\"\n",
    "    )\n",
    ")"
   ]
  },
  {
   "cell_type": "markdown",
   "id": "00f68ed2",
   "metadata": {},
   "source": [
    "[ RAG 구현 절차 ]\n",
    "\n",
    "1. 문서의 내용을 읽는다(document_loader를 이용)\n",
    "\n",
    "- (1) https://python.langchain.com/v0.2/docs/integrations/document_loaders/\n",
    "- (2) https://python.langchain.com/v0.2/docs/integrations/document_loaders/microsoft_word/\n",
    "- %pip install --upgrade --quiet docx2txt\n",
    "\n",
    "2. 문서를 쪼갠다(한번에 이해하고 처리할 수 있는 입력+출력 토큰수가 제한)\n",
    "\n",
    "- (1) https://python.langchain.com/v0.2/docs/how_to/recursive_text_splitter/#splitting-text-from-languages-without-word-boundaries\n",
    "- %pip install -qU langchain-text-splitters\n",
    "\n",
    "3. 쪼갠 문서를 임베딩하여 vector database에 넣음\n",
    "\n",
    "- (1) OpenAIEmbeddings나 UpstageEmbeddings이용해서 임베딩\n",
    "- (2) https://python.langchain.com/v0.2/docs/integrations/vectorstores/chroma/\n",
    "- %pip install –q langchain-chroma\n",
    "\n",
    "4. 질문을 이용해 유사도 검색\n",
    "5. 유사도 검색한 문서를 LLM에 질문으로 전달하여 답변 얻음(제공되는 Prompt활용)\n",
    "\n",
    "- (1) https://python.langchain.com/v0.2/docs/tutorials/rag/\n",
    "- %pip install –q langchain langchainhub\n",
    "\n",
    "- https://smith.langchain.com/ 에서 key 생성 .env key 추가\n"
   ]
  },
  {
   "cell_type": "code",
   "execution_count": null,
   "id": "a0f008d2",
   "metadata": {},
   "outputs": [
    {
     "name": "stdout",
     "output_type": "stream",
     "text": [
      "Note: you may need to restart the kernel to use updated packages.\n"
     ]
    }
   ],
   "source": [
    "# 문서 읽어오기\n",
    "# %pip install --upgrade --quiet docx2txt"
   ]
  },
  {
   "cell_type": "code",
   "execution_count": null,
   "id": "85ab81da",
   "metadata": {},
   "outputs": [
    {
     "name": "stdout",
     "output_type": "stream",
     "text": [
      "Note: you may need to restart the kernel to use updated packages.\n"
     ]
    }
   ],
   "source": [
    "# 텍스트를 정크로 나누는 기능만 있는 경량 모듈\n",
    "# %pip install -qU langchain-text-splitters"
   ]
  },
  {
   "cell_type": "code",
   "execution_count": null,
   "id": "7e57ef5c",
   "metadata": {},
   "outputs": [
    {
     "name": "stdout",
     "output_type": "stream",
     "text": [
      "Note: you may need to restart the kernel to use updated packages.\n"
     ]
    }
   ],
   "source": [
    "# 벡터 데이터베이스 (로컬 데이터베이스)\n",
    "# %pip install -q langchain-chroma"
   ]
  },
  {
   "cell_type": "code",
   "execution_count": null,
   "id": "1324dd65",
   "metadata": {},
   "outputs": [
    {
     "name": "stdout",
     "output_type": "stream",
     "text": [
      "Note: you may need to restart the kernel to use updated packages.\n"
     ]
    }
   ],
   "source": [
    "# 제공 되는 prompt 사용\n",
    "# %pip install -q langchain langchainhub"
   ]
  },
  {
   "cell_type": "markdown",
   "id": "98f0f32d",
   "metadata": {},
   "source": [
    "<!-- # 1. 문서 읽기 (X) -->\n"
   ]
  },
  {
   "cell_type": "code",
   "execution_count": 9,
   "id": "1bec52de",
   "metadata": {},
   "outputs": [],
   "source": [
    "from langchain_community.document_loaders import Docx2txtLoader\n",
    "\n",
    "loader = Docx2txtLoader(\"./tax_docs/소득세법(법률)(제20615호)(20250701).docx\")\n",
    "document = loader.load()\n",
    "# documents\n"
   ]
  },
  {
   "cell_type": "code",
   "execution_count": 11,
   "id": "663334f4",
   "metadata": {},
   "outputs": [
    {
     "data": {
      "text/plain": [
       "1"
      ]
     },
     "execution_count": 11,
     "metadata": {},
     "output_type": "execute_result"
    }
   ],
   "source": [
    "len(document)"
   ]
  },
  {
   "cell_type": "code",
   "execution_count": 12,
   "id": "f0a24237",
   "metadata": {},
   "outputs": [
    {
     "data": {
      "text/plain": [
       "'소득세법\\n\\n소득세법\\n\\n[시행 2025. 7. 1.] [법률 제20615호, 2024. 12. 31., 일부개정]\\n\\n기획재정부(재산세제과(양도소득세)) 044-215-4312\\n\\n기획재정부(소득세제과(근로소득)) 044-215-4216\\n\\n기획재정부(금융세제과(이자소득, 배당소득)) 044-215-4233\\n\\n기획재정부(소득세제과(사업소득, 기타소득)) 044-2'"
      ]
     },
     "execution_count": 12,
     "metadata": {},
     "output_type": "execute_result"
    }
   ],
   "source": [
    "document[0].page_content[:200]"
   ]
  },
  {
   "cell_type": "markdown",
   "id": "50ee2da4",
   "metadata": {},
   "source": [
    "# 2. 문서를 쪼개면서 읽기 (O)\n"
   ]
  },
  {
   "cell_type": "code",
   "execution_count": 13,
   "id": "120fcb6f",
   "metadata": {},
   "outputs": [
    {
     "name": "stdout",
     "output_type": "stream",
     "text": [
      "문서 쪼개면서 읽는 시간 1.6555850505828857\n"
     ]
    }
   ],
   "source": [
    "import time\n",
    "\n",
    "start = time.time()\n",
    "\n",
    "from langchain_community.document_loaders import Docx2txtLoader\n",
    "from langchain_text_splitters import (\n",
    "    RecursiveCharacterTextSplitter,\n",
    ")  # 문서를 읽어오면서 겹치게 발라줌\n",
    "\n",
    "loader = Docx2txtLoader(\"./tax_docs/소득세법(법률)(제20615호)(20250701).docx\")\n",
    "\n",
    "# 문자단위로 쪼갬\n",
    "text_splitter = RecursiveCharacterTextSplitter(\n",
    "    chunk_size=1500, chunk_overlap=200  # 문서를 쪼갤떄 1500글자씩 쪼개\n",
    ")\n",
    "# 1번째 chunk 1 ~ 1450글자\n",
    "# 2번쨰 chunk 1250 ~ 1750글자\n",
    "\n",
    "document = loader.load_and_split(text_splitter=text_splitter)\n",
    "\n",
    "runtime = time.time() - start\n",
    "print(\"문서 쪼개면서 읽는 시간\", runtime)"
   ]
  },
  {
   "cell_type": "code",
   "execution_count": 14,
   "id": "2b46c9a0",
   "metadata": {},
   "outputs": [
    {
     "data": {
      "text/plain": [
       "183"
      ]
     },
     "execution_count": 14,
     "metadata": {},
     "output_type": "execute_result"
    }
   ],
   "source": [
    "# chunk 갯수\n",
    "len(document)"
   ]
  },
  {
   "cell_type": "code",
   "execution_count": 15,
   "id": "f0dd495b",
   "metadata": {},
   "outputs": [
    {
     "data": {
      "text/plain": [
       "1464"
      ]
     },
     "execution_count": 15,
     "metadata": {},
     "output_type": "execute_result"
    }
   ],
   "source": [
    "len(document[0].page_content)"
   ]
  },
  {
   "cell_type": "code",
   "execution_count": 16,
   "id": "be92ee74",
   "metadata": {},
   "outputs": [
    {
     "name": "stdout",
     "output_type": "stream",
     "text": [
      "1497\n",
      "1055\n"
     ]
    }
   ],
   "source": [
    "# chunk의 글자수들\n",
    "# [len(doc.page_content) for doc in document]\n",
    "print(max(len(doc.page_content) for doc in document))\n",
    "print(min(len(doc.page_content) for doc in document))"
   ]
  },
  {
   "cell_type": "markdown",
   "id": "2bec47ed",
   "metadata": {},
   "source": [
    "# 3. 쪼갠문서를 임베딩 -> 벡터 데이터베이스 저장\n",
    "\n",
    "- Embedding Model : openAI API text-embedding-3-large (기본 : text-embedding-ada-002)\n",
    "- 벡터 데이터베이스 : chroma\n"
   ]
  },
  {
   "cell_type": "code",
   "execution_count": 17,
   "id": "ea3bb91c",
   "metadata": {},
   "outputs": [],
   "source": [
    "# 사용법 : https://python.langchain.com/v0.2/docs/how_to/embed_text/\n",
    "from dotenv import load_dotenv\n",
    "from langchain_openai import OpenAIEmbeddings\n",
    "\n",
    "load_dotenv()\n",
    "#\n",
    "embedding = OpenAIEmbeddings(\n",
    "    model=\"text-embedding-3-large\",\n",
    ")"
   ]
  },
  {
   "cell_type": "code",
   "execution_count": 18,
   "id": "46c47324",
   "metadata": {},
   "outputs": [],
   "source": [
    "embeddings = embedding.embed_documents(\n",
    "    [\"소득세법 어쩌구 저쩌구\", document[0].page_content]\n",
    ")"
   ]
  },
  {
   "cell_type": "code",
   "execution_count": 19,
   "id": "552a230a",
   "metadata": {},
   "outputs": [
    {
     "data": {
      "text/plain": [
       "(2, 3072, 3072)"
      ]
     },
     "execution_count": 19,
     "metadata": {},
     "output_type": "execute_result"
    }
   ],
   "source": [
    "len(embeddings), len(embeddings[0]), len(embeddings[1])"
   ]
  },
  {
   "cell_type": "code",
   "execution_count": 20,
   "id": "8849337d",
   "metadata": {},
   "outputs": [
    {
     "data": {
      "text/plain": [
       "2"
      ]
     },
     "execution_count": 20,
     "metadata": {},
     "output_type": "execute_result"
    }
   ],
   "source": [
    "len(embeddings)"
   ]
  },
  {
   "cell_type": "code",
   "execution_count": 21,
   "id": "59d62d95",
   "metadata": {},
   "outputs": [
    {
     "name": "stdout",
     "output_type": "stream",
     "text": [
      "CPU times: user 155 ms, sys: 22 ms, total: 177 ms\n",
      "Wall time: 206 ms\n"
     ]
    }
   ],
   "source": [
    "%%time\n",
    "from langchain_chroma import Chroma\n",
    "\n",
    "# 데이터를 처음 저잘할떄\n",
    "# database = Chroma.from_documents(\n",
    "#     documents=document,\n",
    "#     embedding=embedding,\n",
    "#     collection_name='tax_collection',# 생략시 이름 랜덤\n",
    "#     persist_directory='./chroma',# 생략시 로컬데이터베이스에 저장안됨, 프로그램 종료시 db날라감\n",
    "# )\n",
    "# 계속 실행하면 하면 안됨. 꼭 한번만. 그래서 주석처리\n"
   ]
  },
  {
   "cell_type": "code",
   "execution_count": 22,
   "id": "c28a15c9",
   "metadata": {},
   "outputs": [
    {
     "name": "stdout",
     "output_type": "stream",
     "text": [
      "CPU times: user 2 μs, sys: 1e+03 ns, total: 3 μs\n",
      "Wall time: 5.72 μs\n"
     ]
    }
   ],
   "source": [
    "from dotenv import load_dotenv\n",
    "from langchain_openai import OpenAIEmbeddings\n",
    "from langchain_chroma import Chroma\n",
    "%time\n",
    "load_dotenv()\n",
    "embedding = OpenAIEmbeddings(\n",
    "    model=\"text-embedding-3-large\",\n",
    ")\n",
    "\n",
    "# 이미 저장된 vector DB를 사용할떄\n",
    "database = Chroma(\n",
    "    embedding_function=embedding,\n",
    "    collection_name='tax_collection',\n",
    "    persist_directory='./chroma'\n",
    ")"
   ]
  },
  {
   "cell_type": "markdown",
   "id": "340214ef",
   "metadata": {},
   "source": [
    "# 4. vector DB 에 질문과 유사도 검색 (답변 생성을 위한 retrieval)\n"
   ]
  },
  {
   "cell_type": "code",
   "execution_count": 23,
   "id": "b2fe033d",
   "metadata": {},
   "outputs": [],
   "source": [
    "query = \"연봉 5000만원인 직장인의 소득세는 얼마인가요?\"\n",
    "\n",
    "retrieved_docs = database.similarity_search(query, k=3)  # 기본 k값이 4"
   ]
  },
  {
   "cell_type": "markdown",
   "id": "a1d1f860",
   "metadata": {},
   "source": [
    "# 5. 유사도 검색으로 가져온 문서를 질문과 같이 LLM 전달하여 답변 생성\n"
   ]
  },
  {
   "cell_type": "code",
   "execution_count": 24,
   "id": "313a36c8",
   "metadata": {},
   "outputs": [],
   "source": [
    "from langchain_openai import ChatOpenAI\n",
    "\n",
    "llm = ChatOpenAI(model=\"gpt-4.1-nano\")"
   ]
  },
  {
   "cell_type": "code",
   "execution_count": 25,
   "id": "7a48d101",
   "metadata": {},
   "outputs": [],
   "source": [
    "prompt = f\"\"\"[identity]\n",
    "- 당신은 최고의 한국 소득세 전문가입니다.\n",
    "- [context]를 참고해서 사용자의 질문에 답변해 주세요.\n",
    "[context]는 다음과 같습니다.\n",
    "{retrieved_docs}\n",
    "Question: {query}\n",
    "\"\"\""
   ]
  },
  {
   "cell_type": "code",
   "execution_count": 26,
   "id": "2479709a",
   "metadata": {},
   "outputs": [],
   "source": [
    "ai_message = llm.invoke(prompt)"
   ]
  },
  {
   "cell_type": "code",
   "execution_count": 27,
   "id": "40ac7d72",
   "metadata": {},
   "outputs": [
    {
     "name": "stdout",
     "output_type": "stream",
     "text": [
      "연봉이 5,000만 원인 직장인의 경우, 소득세는 과세표준과 세율에 따라 계산됩니다. 기본적으로 근로소득세 계산 방법은 아래와 같습니다.\n",
      "\n",
      "1. 근로소득 공제액 산정  \n",
      "연봉에 따라 공제액이 차감됩니다. 2023년 기준으로 연봉 5,000만 원인 경우 근로소득 공제액은 약 1,230만 원입니다.  \n",
      "(공제액은 매년 조정되기 때문에 최신 공제액은 국세청 자료를 참고하는 것이 좋습니다.)\n",
      "\n",
      "2. 과세표준 계산  \n",
      "과세표준 = 연봉 - 근로소득 공제액 = 50,000,000원 - 12,300,000원 = 37,700,000원\n",
      "\n",
      "3. 세율 적용  \n",
      "2023년 한국의 근로소득세 세율 구간에 따라 계산  \n",
      "- 1,200만 원 이하: 6%  \n",
      "- 1,200만 원 초과 ~ 4,600만 원 이하: 15% (초과분에 대해 적용)\n",
      "\n",
      "계산순서:  \n",
      "- 1,200만 원까지: 1,200만 원 x 6% = 72만 원  \n",
      "- 1,200만 원 초과 ~ 3,770만 원(과세표준): (3,770만 원 - 1,200만 원) = 2,570만 원  \n",
      "- 15% 세율 적용액: 2,570만 원 x 15% = 385.5만 원\n",
      "\n",
      "이때, 세액 계산 공식은 누진 공제액을 고려하는데, 이를 반영하면 최종 소득세는 대략 50만 ~ 60만 원대가 될 수 있습니다.\n",
      "\n",
      "**대략적인 계산 예시:**  \n",
      "소득세 ≈ (72만 원 + 385.5만 원) - 세액공제(근로소득세액공제 등)  \n",
      "세액공제는 개인 상황에 따라 다르지만, 대체로 10~20% 정도 공제받을 수 있으니 최종 세금은 약 46만 원 내외로 예상됩니다.\n",
      "\n",
      "**참고:**  \n",
      "- 지방소득세(소득세의 10%)가 별도로 부과됩니다.  \n",
      "- 정확한 금액은 개인 소득공제, 연금보험료, 의료비, 기타 공제 요소에 따라 차이 날 수 있습니다.\n",
      "\n",
      "**요약:**  \n",
      "연봉 5,000만 원인 직장인의 예상 소득세는 대략 46만 원 내외입니다. 정확한 계산을 원하시면, 연말 정산 자료와 공제 내역을 반영해 세무사 또는 국세청 홈택스의 계산기를 이용하시길 권장드립니다.\n"
     ]
    }
   ],
   "source": [
    "print(ai_message.content)"
   ]
  },
  {
   "cell_type": "markdown",
   "id": "296b3036",
   "metadata": {},
   "source": [
    "# 5. Agumentation 을 위한 제공하는 Prompt 활용하여, langchain으로 답변 생성\n",
    "\n",
    "- 사용법 : https://python.langchain.com/v0.2/docs/tutorials/rag/\n"
   ]
  },
  {
   "cell_type": "code",
   "execution_count": 28,
   "id": "5f2e106b",
   "metadata": {},
   "outputs": [
    {
     "name": "stderr",
     "output_type": "stream",
     "text": [
      "/Users/teamkim/anaconda3/envs/llm/lib/python3.10/site-packages/langsmith/client.py:272: LangSmithMissingAPIKeyWarning: API key must be provided when using hosted LangSmith API\n",
      "  warnings.warn(\n"
     ]
    },
    {
     "data": {
      "text/plain": [
       "ChatPromptTemplate(input_variables=['context', 'question'], input_types={}, partial_variables={}, metadata={'lc_hub_owner': 'rlm', 'lc_hub_repo': 'rag-prompt', 'lc_hub_commit_hash': '50442af133e61576e74536c6556cefe1fac147cad032f4377b60c436e6cdcb6e'}, messages=[HumanMessagePromptTemplate(prompt=PromptTemplate(input_variables=['context', 'question'], input_types={}, partial_variables={}, template=\"You are an assistant for question-answering tasks. Use the following pieces of retrieved context to answer the question. If you don't know the answer, just say that you don't know. Use three sentences maximum and keep the answer concise.\\nQuestion: {question} \\nContext: {context} \\nAnswer:\"), additional_kwargs={})])"
      ]
     },
     "execution_count": 28,
     "metadata": {},
     "output_type": "execute_result"
    }
   ],
   "source": [
    "query = \"연봉 5000만원인 직장인의 소득세는 얼마인가요?\"\n",
    "\n",
    "from langchain import hub\n",
    "\n",
    "prompt = hub.pull(\"rlm/rag-prompt\")\n",
    "prompt"
   ]
  },
  {
   "cell_type": "markdown",
   "id": "92f78413",
   "metadata": {},
   "source": [
    "## RetrievalQA를 통해 LLM전달 (create_retrieval_chain이 대체)\n",
    "\n",
    "```\n",
    " query -> retriever 전달(벡터 검색 수행)\n",
    " -> retriever문서 -> prompt의 {context}에 삽입\n",
    " -> query -> prompt의 (question)에 삽입\n",
    "```\n"
   ]
  },
  {
   "cell_type": "code",
   "execution_count": 29,
   "id": "1bef6d1f",
   "metadata": {},
   "outputs": [],
   "source": [
    "from langchain.chains import RetrievalQA\n",
    "\n",
    "qa_chain = RetrievalQA.from_chain_type(\n",
    "    llm=llm,\n",
    "    retriever=database.as_retriever(search_kwargs={\"k\": 5}),\n",
    "    chain_type_kwargs={\"prompt\": prompt},\n",
    ")"
   ]
  },
  {
   "cell_type": "code",
   "execution_count": 30,
   "id": "52a21491",
   "metadata": {},
   "outputs": [],
   "source": [
    "ai_message = qa_chain.invoke({\"query\": query})"
   ]
  },
  {
   "cell_type": "code",
   "execution_count": 31,
   "id": "c1f16b34",
   "metadata": {},
   "outputs": [
    {
     "data": {
      "text/plain": [
       "{'query': '연봉 5000만원인 직장인의 소득세는 얼마인가요?',\n",
       " 'result': '소득세는 소득 수준, 공제액 등에 따라 달라지기 때문에 정확한 금액을 계산하려면 자세한 세액 계산이 필요합니다. 일반적으로 연봉 5000만원인 경우, 근로소득세는 차감 공제 후 과세표준에 따라 결정됩니다. 따라서 정확한 금액은 세법과 공제 조건을 고려한 계산이 필요하며, 구체적인 세액을 알려면 세무 전문가 또는 세금 계산기를 이용하는 것이 좋습니다.'}"
      ]
     },
     "execution_count": 31,
     "metadata": {},
     "output_type": "execute_result"
    }
   ],
   "source": [
    "ai_message"
   ]
  },
  {
   "cell_type": "code",
   "execution_count": null,
   "id": "db1993d1",
   "metadata": {},
   "outputs": [],
   "source": []
  },
  {
   "cell_type": "code",
   "execution_count": null,
   "id": "f803cc08",
   "metadata": {},
   "outputs": [],
   "source": []
  },
  {
   "cell_type": "code",
   "execution_count": null,
   "id": "d1e13c23",
   "metadata": {},
   "outputs": [],
   "source": []
  },
  {
   "cell_type": "code",
   "execution_count": null,
   "id": "0aa3791b",
   "metadata": {},
   "outputs": [],
   "source": []
  },
  {
   "cell_type": "code",
   "execution_count": null,
   "id": "021f5a01",
   "metadata": {},
   "outputs": [],
   "source": []
  },
  {
   "cell_type": "code",
   "execution_count": null,
   "id": "02982f07",
   "metadata": {},
   "outputs": [],
   "source": []
  },
  {
   "cell_type": "code",
   "execution_count": null,
   "id": "0509c4b5",
   "metadata": {},
   "outputs": [],
   "source": []
  },
  {
   "cell_type": "code",
   "execution_count": null,
   "id": "a20b7f6c",
   "metadata": {},
   "outputs": [],
   "source": []
  },
  {
   "cell_type": "code",
   "execution_count": null,
   "id": "34cee01d",
   "metadata": {},
   "outputs": [],
   "source": []
  },
  {
   "cell_type": "code",
   "execution_count": null,
   "id": "31aaaf69",
   "metadata": {},
   "outputs": [],
   "source": []
  },
  {
   "cell_type": "code",
   "execution_count": null,
   "id": "ee02f493",
   "metadata": {},
   "outputs": [],
   "source": []
  }
 ],
 "metadata": {
  "kernelspec": {
   "display_name": "llm(ipykernel)",
   "language": "python",
   "name": "llm"
  },
  "language_info": {
   "codemirror_mode": {
    "name": "ipython",
    "version": 3
   },
   "file_extension": ".py",
   "mimetype": "text/x-python",
   "name": "python",
   "nbconvert_exporter": "python",
   "pygments_lexer": "ipython3",
   "version": "3.10.18"
  }
 },
 "nbformat": 4,
 "nbformat_minor": 5
}
