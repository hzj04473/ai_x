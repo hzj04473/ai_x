{
 "cells": [
  {
   "cell_type": "code",
   "execution_count": 76,
   "id": "d8e194a1",
   "metadata": {},
   "outputs": [
    {
     "data": {
      "text/html": [
       "<style>\n",
       "* {font-family:D2Coding;}\n",
       "div.container{width:87% !important;}\n",
       "div.cell.code_cell.rendered{width:100%;}\n",
       "div.CodeMirror {font-size:12pt;}\n",
       "div.output {font-size:12pt; font-weight:bold;}\n",
       "div.input { font-size:12pt;}\n",
       "div.prompt {min-width:70px;}\n",
       "div#toc-wrapper{padding-top:120px;}\n",
       "div.text_cell_render ul li{font-size:12pt;padding:3px;}\n",
       "table.dataframe{font-size:12px;}\n",
       "</style>\n"
      ],
      "text/plain": [
       "<IPython.core.display.HTML object>"
      ]
     },
     "metadata": {},
     "output_type": "display_data"
    }
   ],
   "source": [
    "from IPython.display import display, HTML\n",
    "\n",
    "display(\n",
    "    HTML(\n",
    "        \"\"\"<style>\n",
    "* {font-family:D2Coding;}\n",
    "div.container{width:87% !important;}\n",
    "div.cell.code_cell.rendered{width:100%;}\n",
    "div.CodeMirror {font-size:12pt;}\n",
    "div.output {font-size:12pt; font-weight:bold;}\n",
    "div.input { font-size:12pt;}\n",
    "div.prompt {min-width:70px;}\n",
    "div#toc-wrapper{padding-top:120px;}\n",
    "div.text_cell_render ul li{font-size:12pt;padding:3px;}\n",
    "table.dataframe{font-size:12px;}\n",
    "</style>\n",
    "\"\"\"\n",
    "    )\n",
    ")"
   ]
  },
  {
   "cell_type": "markdown",
   "id": "210846c6",
   "metadata": {},
   "source": [
    "# 벡터 DB : Chroma vs Pinecone\n",
    "\n",
    "- Chroma : 인메모리DB, 로컬메모리 DB\n",
    "- Pinecone : 클라우드 vector DB\n",
    "  - [Pinecone console 에 api key 생성 -> .env (PINECONE_API_KEY)]\n",
    "- pip install langchain-pinecone\n",
    "- pip install pinecone-client pinecone-text\n"
   ]
  },
  {
   "cell_type": "code",
   "execution_count": 77,
   "id": "022d26de",
   "metadata": {},
   "outputs": [],
   "source": [
    "# %pip install langchain-pinecone pinecone-client pinecone-text"
   ]
  },
  {
   "cell_type": "markdown",
   "id": "38c63192",
   "metadata": {},
   "source": [
    "# 1. Knowledge Base 구성을 위한 데이터 생성\n"
   ]
  },
  {
   "cell_type": "code",
   "execution_count": 78,
   "id": "70e46d13",
   "metadata": {},
   "outputs": [],
   "source": [
    "from langchain_community.document_loaders import Docx2txtLoader\n",
    "from langchain_text_splitters import RecursiveCharacterTextSplitter\n",
    "\n",
    "loader = Docx2txtLoader(\"./tax_docs/소득세법(법률)(제20615호)(20250701).docx\")\n",
    "text_splitter = RecursiveCharacterTextSplitter(chunk_size=1500, chunk_overlap=200)\n",
    "\n",
    "document_list = loader.load_and_split(text_splitter=text_splitter)"
   ]
  },
  {
   "cell_type": "code",
   "execution_count": 79,
   "id": "ff90ddbb",
   "metadata": {},
   "outputs": [
    {
     "data": {
      "text/plain": [
       "183"
      ]
     },
     "execution_count": 79,
     "metadata": {},
     "output_type": "execute_result"
    }
   ],
   "source": [
    "len(document_list)"
   ]
  },
  {
   "cell_type": "code",
   "execution_count": 80,
   "id": "8c97da19",
   "metadata": {},
   "outputs": [],
   "source": [
    "# embedding : upstage embedding-query\n",
    "from dotenv import load_dotenv\n",
    "from langchain_upstage import UpstageEmbeddings\n",
    "\n",
    "load_dotenv()\n",
    "embeddings = UpstageEmbeddings(\n",
    "    model=\"solar-embedding-1-large\",\n",
    "    # model=\"embedding-query\"\n",
    ")"
   ]
  },
  {
   "cell_type": "code",
   "execution_count": 81,
   "id": "844f7a9c",
   "metadata": {},
   "outputs": [],
   "source": [
    "# pinecon vector database\n",
    "from pinecone import Pinecone\n",
    "from langchain_pinecone import PineconeVectorStore\n",
    "\n",
    "pc = Pinecone()\n",
    "\n",
    "# 데어터를 처음 업로드할 떄\n",
    "index_name = \"tax-index-upstage\"\n",
    "# database = PineconeVectorStore.from_documents(\n",
    "#     documents=document_list,\n",
    "#     embedding=embeddings,\n",
    "#     index_name=index_name,\n",
    "# )"
   ]
  },
  {
   "cell_type": "code",
   "execution_count": 82,
   "id": "ba22930a",
   "metadata": {},
   "outputs": [],
   "source": [
    "# 업로드한 벡터DB 가져올 떄\n",
    "database = PineconeVectorStore(\n",
    "    embedding=embeddings, # 질문에 입배딩하여 유사도 검색\n",
    "    index_name=index_name,\n",
    ")\n"
   ]
  },
  {
   "cell_type": "markdown",
   "id": "d352eadf",
   "metadata": {},
   "source": [
    "# 2. 답변 생성을 위한 Retrieval\n"
   ]
  },
  {
   "cell_type": "code",
   "execution_count": 83,
   "id": "523d34e6",
   "metadata": {},
   "outputs": [
    {
     "data": {
      "text/plain": [
       "[Document(id='89e4f9c1-24dd-4a2a-8c92-7742f4db7bbd', metadata={'source': './tax_docs/소득세법(법률)(제20615호)(20250701).docx'}, page_content='2. 2명인 경우: 연 55만원\\n\\n3. 3명 이상인 경우: 연 55만원과 2명을 초과하는 1명당 연 40만원을 합한 금액\\n\\n② 삭제<2017. 12. 19.>\\n\\n③ 해당 과세기간에 출산하거나 입양 신고한 공제대상자녀가 있는 경우 다음 각 호의 구분에 따른 금액을 종합소득산출세액에서 공제한다.<신설 2015. 5. 13., 2016. 12. 20.>\\n\\n1. 출산하거나 입양 신고한 공제대상자녀가 첫째인 경우: 연 30만원\\n\\n2. 출산하거나 입양 신고한 공제대상자녀가 둘째인 경우: 연 50만원\\n\\n3. 출산하거나 입양 신고한 공제대상자녀가 셋째 이상인 경우: 연 70만원\\n\\n④ 제1항 및 제3항에 따른 공제를 “자녀세액공제”라 한다.<신설 2015. 5. 13., 2017. 12. 19.>\\n\\n[본조신설 2014. 1. 1.]\\n\\n[종전 제59조의2는 제59조의5로 이동 <2014. 1. 1.>]\\n\\n\\n\\n제59조의3(연금계좌세액공제) ① 종합소득이 있는 거주자가 연금계좌에 납입한 금액 중 다음 각 호에 해당하는 금액을 제외한 금액(이하 “연금계좌 납입액”이라 한다)의 100분의 12[해당 과세기간에 종합소득과세표준을 계산할 때 합산하는 종합소득금액이 4천 500만원 이하(근로소득만 있는 경우에는 총급여액 5천 500만원 이하)인 거주자에 대해서는 100분의 15]에 해당하는 금액을 해당 과세기간의 종합소득산출세액에서 공제한다. 다만, 연금계좌 중 연금저축계좌에 납입한 금액이 연 600만원을 초과하는 경우에는 그 초과하는 금액은 없는 것으로 하고, 연금저축계좌에 납입한 금액 중 600만원 이내의 금액과 퇴직연금계좌에 납입한 금액을 합한 금액이 연 900만원을 초과하는 경우에는 그 초과하는 금액은 없는 것으로 한다. <개정 2014. 12. 23., 2015. 5. 13., 2016. 12. 20., 2022. 12. 31.>\\n\\n1. 제146조제2항에 따라 소득세가 원천징수되지 아니한 퇴직소득 등 과세가 이연된 소득\\n\\n2. 연금계좌에서 다른 연금계좌로 계약을 이전함으로써 납입되는 금액\\n\\n② 제1항에 따른 공제를 “연금계좌세액공제”라 한다.\\n\\n③ 「조세특례제한법」 제91조의18에 따른 개인종합자산관리계좌의 계약기간이 만료되고 해당 계좌 잔액의 전부 또는 일부를 대통령령으로 정하는 방법으로 연금계좌로 납입한 경우 그 납입한 금액(이하 이 조에서 “전환금액”이라 한다)을 납입한 날이 속하는 과세기간의 연금계좌 납입액에 포함한다.<신설 2019. 12. 31.>\\n\\n④ 전환금액이 있는 경우에는 제1항 각 호 외의 부분 단서에도 불구하고 같은 항을 적용할 때 전환금액의 100분의 10 또는 300만원(직전 과세기간과 해당 과세기간에 걸쳐 납입한 경우에는 300만원에서 직전 과세기간에 적용된 금액을 차감한 금액으로 한다) 중 적은 금액과 제1항 각 호 외의 부분 단서에 따라 연금계좌에 납입한 금액으로 하는 금액을 합한 금액을 초과하는 금액은 없는 것으로 한다.<신설 2019. 12. 31.>'),\n",
       " Document(id='eefc5f74-9d34-4668-a2f1-68b89f0afc41', metadata={'source': './tax_docs/소득세법(법률)(제20615호)(20250701).docx'}, page_content='제5관 근로소득공제ㆍ연금소득공제 및 퇴직소득공제 <개정 2009. 12. 31.>\\n\\n\\n\\n제47조(근로소득공제) ①근로소득이 있는 거주자에 대해서는 해당 과세기간에 받는 총급여액에서 다음의 금액을 공제한다. 다만, 공제액이 2천만원을 초과하는 경우에는 2천만원을 공제한다. <개정 2012. 1. 1., 2014. 1. 1., 2019. 12. 31.>\\n\\n\\n\\n② 일용근로자에 대한 공제액은 제1항에도 불구하고 1일 15만원으로 한다.<개정 2018. 12. 31.>\\n\\n③ 근로소득이 있는 거주자의 해당 과세기간의 총급여액이 제1항 또는 제2항의 공제액에 미달하는 경우에는 그 총급여액을 공제액으로 한다.\\n\\n④ 제1항부터 제3항까지의 규정에 따른 공제를 “근로소득공제”라 한다.\\n\\n⑤ 제1항의 경우에 2인 이상으로부터 근로소득을 받는 사람(일용근로자는 제외한다)에 대하여는 그 근로소득의 합계액을 총급여액으로 하여 제1항에 따라 계산한 근로소득공제액을 총급여액에서 공제한다.<개정 2010. 12. 27.>\\n\\n⑥ 삭제<2010. 12. 27.>\\n\\n[전문개정 2009. 12. 31.]\\n\\n\\n\\n제47조의2(연금소득공제) ①연금소득이 있는 거주자에 대해서는 해당 과세기간에 받은 총연금액(분리과세연금소득은 제외하며, 이하 이 항에서 같다)에서 다음 표에 규정된 금액을 공제한다. 다만, 공제액이 900만원을 초과하는 경우에는 900만원을 공제한다. <개정 2013. 1. 1.>\\n\\n\\n\\n② 제1항에 따른 공제를 “연금소득공제”라 한다.\\n\\n[전문개정 2009. 12. 31.]\\n\\n\\n\\n제48조(퇴직소득공제) ① 퇴직소득이 있는 거주자에 대해서는 해당 과세기간의 퇴직소득금액에서 제1호의 구분에 따른 금액을 공제하고, 그 금액을 근속연수(1년 미만의 기간이 있는 경우에는 이를 1년으로 보며, 제22조제1항제1호의 경우에는 대통령령으로 정하는 방법에 따라 계산한 연수를 말한다. 이하 같다)로 나누고 12를 곱한 후의 금액(이하 이 항에서 “환산급여”라 한다)에서 제2호의 구분에 따른 금액을 공제한다. <개정 2014. 12. 23., 2022. 12. 31.>\\n\\n1. 근속연수에 따라 정한 다음의 금액\\n\\n\\n\\n2. 환산급여에 따라 정한 다음의 금액\\n\\n\\n\\n② 해당 과세기간의 퇴직소득금액이 제1항제1호에 따른 공제금액에 미달하는 경우에는 그 퇴직소득금액을 공제액으로 한다.<개정 2014. 12. 23.>\\n\\n③ 제1항과 제2항에 따른 공제를 “퇴직소득공제”라 한다.\\n\\n④ 퇴직소득공제의 계산 방법에 관하여 필요한 사항은 대통령령으로 정한다.<개정 2013. 1. 1.>\\n\\n⑤ 삭제<2013. 1. 1.>\\n\\n[전문개정 2009. 12. 31.]\\n\\n\\n\\n제49조 삭제 <2006. 12. 30.>\\n\\n\\n\\n제6관 종합소득공제 <개정 2009. 12. 31.>'),\n",
       " Document(id='f5872b0f-6b30-46d5-bcbf-c449c3fb0792', metadata={'source': './tax_docs/소득세법(법률)(제20615호)(20250701).docx'}, page_content='③ 제1항에 따른 공제를 “재해손실세액공제”라 한다.\\n\\n④ 재해손실세액공제를 적용받으려는 자는 대통령령으로 정하는 바에 따라 관할 세무서장에게 신청할 수 있다.\\n\\n⑤ 관할 세무서장이 제4항의 신청을 받았을 때에는 그 공제할 세액을 결정하여 신청인에게 알려야 한다.\\n\\n⑥ 제4항의 신청이 없는 경우에도 제1항을 적용한다.\\n\\n⑦ 집단적으로 재해가 발생한 경우에는 대통령령으로 정하는 바에 따라 관할 세무서장이 조사결정한 자산상실비율에 따라 제1항을 적용한다.\\n\\n⑧ 재해손실세액공제에 관하여 필요한 사항은 대통령령으로 정한다.\\n\\n[전문개정 2009. 12. 31.]\\n\\n\\n\\n제59조(근로소득세액공제) ①근로소득이 있는 거주자에 대해서는 그 근로소득에 대한 종합소득산출세액에서 다음의 금액을 공제한다. <개정 2014. 1. 1., 2015. 5. 13.>\\n\\n\\n\\n② 제1항에도 불구하고 공제세액이 다음 각 호의 구분에 따른 금액을 초과하는 경우에 그 초과하는 금액은 없는 것으로 한다.<신설 2014. 1. 1., 2015. 5. 13., 2022. 12. 31.>\\n\\n1. 총급여액이 3천 300만원 이하인 경우: 74만원\\n\\n2. 총급여액이 3천 300만원 초과 7천만원 이하인 경우: 74만원 - [(총급여액 - 3천 300만원) × 8/1000]. 다만, 위 금액이 66만원보다 적은 경우에는 66만원으로 한다.\\n\\n3. 총급여액이 7천만원 초과 1억2천만원 이하인 경우: 66만원 - [(총급여액 - 7천만원) × 1/2]. 다만, 위 금액이 50만원보다 적은 경우에는 50만원으로 한다.\\n\\n4. 총급여액이 1억2천만원을 초과하는 경우: 50만원 - [(총급여액 - 1억2천만원) × 1/2]. 다만, 위 금액이 20만원보다 적은 경우에는 20만원으로 한다.\\n\\n③ 일용근로자의 근로소득에 대해서 제134조제3항에 따른 원천징수를 하는 경우에는 해당 근로소득에 대한 산출세액의 100분의 55에 해당하는 금액을 그 산출세액에서 공제한다.<개정 2014. 1. 1.>\\n\\n[전문개정 2012. 1. 1.]\\n\\n\\n\\n제59조의2(자녀세액공제) ①종합소득이 있는 거주자의 기본공제대상자에 해당하는 자녀(입양자 및 위탁아동을 포함하며, 이하 이 조에서 “공제대상자녀”라 한다) 및 손자녀로서 8세 이상의 사람에 대해서는 다음 각 호의 구분에 따른 금액을 종합소득산출세액에서 공제한다. <개정 2015. 5. 13., 2017. 12. 19., 2018. 12. 31., 2019. 12. 31., 2022. 12. 31., 2023. 12. 31., 2024. 12. 31.>\\n\\n1. 1명인 경우: 연 25만원\\n\\n2. 2명인 경우: 연 55만원\\n\\n3. 3명 이상인 경우: 연 55만원과 2명을 초과하는 1명당 연 40만원을 합한 금액\\n\\n② 삭제<2017. 12. 19.>\\n\\n③ 해당 과세기간에 출산하거나 입양 신고한 공제대상자녀가 있는 경우 다음 각 호의 구분에 따른 금액을 종합소득산출세액에서 공제한다.<신설 2015. 5. 13., 2016. 12. 20.>'),\n",
       " Document(id='516dc306-8ae3-4c57-9e7a-b929e7b618d8', metadata={'source': './tax_docs/소득세법(법률)(제20615호)(20250701).docx'}, page_content='⑥ 제1항과 제2항에 따라 결손금 및 이월결손금을 공제할 때 해당 과세기간에 결손금이 발생하고 이월결손금이 있는 경우에는 그 과세기간의 결손금을 먼저 소득금액에서 공제한다.\\n\\n[전문개정 2009. 12. 31.]\\n\\n\\n\\n제46조(채권 등에 대한 소득금액의 계산 특례) ① 거주자가 제16조제1항제1호ㆍ제2호ㆍ제5호 및 제6호에 해당하는 채권 또는 증권과 타인에게 양도가 가능한 증권으로서 대통령령으로 정하는 것(이하 이 조, 제133조의2 및 제156조의3에서 “채권등”이라 한다)의 발행법인으로부터 해당 채권등에서 발생하는 이자 또는 할인액(이하 이 조, 제133조의2 및 제156조의3에서 “이자등”이라 한다)을 지급[전환사채의 주식전환, 교환사채의 주식교환 및 신주인수권부사채의 신주인수권행사(신주 발행대금을 해당 신주인수권부사채로 납입하는 경우만 해당한다) 및 「자본시장과 금융투자업에 관한 법률」 제4조제7항제3호ㆍ제3호의2 및 제3호의3에 해당하는 채권등이 주식으로 전환ㆍ상환되는 경우를 포함한다. 이하 같다]받거나 해당 채권등을 매도(증여ㆍ변제 및 출자 등으로 채권등의 소유권 또는 이자소득의 수급권의 변동이 있는 경우와 매도를 위탁하거나 중개 또는 알선시키는 경우를 포함하되, 환매조건부채권매매거래 등 대통령령으로 정하는 경우는 제외한다. 이하 제133조의2에서 같다)하는 경우에는 거주자에게 그 보유기간별로 귀속되는 이자등 상당액을 해당 거주자의 제16조에 따른 이자소득으로 보아 소득금액을 계산한다. <개정 2010. 12. 27., 2012. 1. 1., 2020. 12. 29., 2024. 12. 31.>\\n\\n② 제1항을 적용할 때 해당 거주자가 해당 채권등을 보유한 기간을 대통령령으로 정하는 바에 따라 입증하지 못하는 경우에는 제133조의2제1항에 따른 원천징수기간의 이자등 상당액이 해당 거주자에게 귀속되는 것으로 보아 소득금액을 계산한다.<개정 2010. 12. 27.>\\n\\n③ 제1항 및 제2항에 따른 이자등 상당액의 계산방법과 그 밖에 필요한 사항은 대통령령으로 정한다.\\n\\n[전문개정 2009. 12. 31.]\\n\\n\\n\\n제46조의2(중도 해지로 인한 이자소득금액 계산의 특례) 종합소득과세표준 확정신고 후 예금 또는 신탁계약의 중도 해지로 이미 지난 과세기간에 속하는 이자소득금액이 감액된 경우 그 중도 해지일이 속하는 과세기간의 종합소득금액에 포함된 이자소득금액에서 그 감액된 이자소득금액을 뺄 수 있다. 다만, 「국세기본법」 제45조의2에 따라 과세표준 및 세액의 경정(更正)을 청구한 경우에는 그러하지 아니하다.\\n\\n[전문개정 2009. 12. 31.]\\n\\n\\n\\n제5관 근로소득공제ㆍ연금소득공제 및 퇴직소득공제 <개정 2009. 12. 31.>\\n\\n\\n\\n제47조(근로소득공제) ①근로소득이 있는 거주자에 대해서는 해당 과세기간에 받는 총급여액에서 다음의 금액을 공제한다. 다만, 공제액이 2천만원을 초과하는 경우에는 2천만원을 공제한다. <개정 2012. 1. 1., 2014. 1. 1., 2019. 12. 31.>')]"
      ]
     },
     "execution_count": 83,
     "metadata": {},
     "output_type": "execute_result"
    }
   ],
   "source": [
    "query = \"연봉 5천만원인 직장인의 소득세는 얼마인가요?\"\n",
    "\n",
    "retriever = database.as_retriever(\n",
    "    # search_kwargs={\"k\": 10},\n",
    ")\n",
    "\n",
    "retriever.invoke(query)\n"
   ]
  },
  {
   "cell_type": "markdown",
   "id": "01a45cc4",
   "metadata": {},
   "source": [
    "# 3. 제동되는 prompt 를 활용하여 답변 생성\n"
   ]
  },
  {
   "cell_type": "code",
   "execution_count": 84,
   "id": "4b47afc6",
   "metadata": {},
   "outputs": [],
   "source": [
    "from langchain import hub\n",
    "prompt = hub.pull(\"rlm/rag-prompt\")\n",
    "\n",
    "from langchain_openai import ChatOpenAI\n",
    "\n",
    "llm = ChatOpenAI(model_name=\"gpt-4.1-nano\")\n",
    "\n",
    "from langchain.chains import RetrievalQA\n",
    "\n",
    "qa_chain = RetrievalQA.from_chain_type(\n",
    "    llm=llm,\n",
    "    chain_type_kwargs={\"prompt\": prompt},\n",
    "    retriever=retriever, # database.as_retriver()\n",
    ")"
   ]
  },
  {
   "cell_type": "code",
   "execution_count": 85,
   "id": "4b4101da",
   "metadata": {},
   "outputs": [
    {
     "data": {
      "text/plain": [
       "{'query': '연봉 5천만원인 직장인의 소득세는 얼마인가요?',\n",
       " 'result': '연봉 5천만원인 직장인의 소득세는 공식적으로 계산된 세액이 아닌, 연 55만원 또는 55만원과 40만원의 합인 95만원 수준일 가능성이 높습니다. 그러나 정확한 세액은 각종 공제와 세율에 따라 달라지므로 구체적 계산이 필요합니다. 일반적으로 이 수준은 공제 후 세율 적용 전에 예상할 수 있는 대략적인 금액입니다.'}"
      ]
     },
     "execution_count": 85,
     "metadata": {},
     "output_type": "execute_result"
    }
   ],
   "source": [
    "ai_message = qa_chain.invoke({'query':query})\n",
    "ai_message"
   ]
  },
  {
   "cell_type": "code",
   "execution_count": null,
   "id": "d53aee9a",
   "metadata": {},
   "outputs": [],
   "source": []
  }
 ],
 "metadata": {
  "kernelspec": {
   "display_name": "llm",
   "language": "python",
   "name": "python3"
  },
  "language_info": {
   "codemirror_mode": {
    "name": "ipython",
    "version": 3
   },
   "file_extension": ".py",
   "mimetype": "text/x-python",
   "name": "python",
   "nbconvert_exporter": "python",
   "pygments_lexer": "ipython3",
   "version": "3.10.18"
  }
 },
 "nbformat": 4,
 "nbformat_minor": 5
}
