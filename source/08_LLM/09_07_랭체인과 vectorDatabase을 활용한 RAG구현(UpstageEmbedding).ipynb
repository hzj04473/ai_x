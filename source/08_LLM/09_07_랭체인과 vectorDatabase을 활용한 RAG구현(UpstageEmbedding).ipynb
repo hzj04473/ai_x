{
 "cells": [
  {
   "cell_type": "code",
   "execution_count": 1,
   "id": "93206255",
   "metadata": {},
   "outputs": [
    {
     "data": {
      "text/html": [
       "<style>\n",
       "* {font-family:D2Coding;}\n",
       "div.container{width:87% !important;}\n",
       "div.cell.code_cell.rendered{width:100%;}\n",
       "div.CodeMirror {font-size:12pt;}\n",
       "div.output {font-size:12pt; font-weight:bold;}\n",
       "div.input { font-size:12pt;}\n",
       "div.prompt {min-width:70px;}\n",
       "div#toc-wrapper{padding-top:120px;}\n",
       "div.text_cell_render ul li{font-size:12pt;padding:3px;}\n",
       "table.dataframe{font-size:12px;}\n",
       "</style>\n"
      ],
      "text/plain": [
       "<IPython.core.display.HTML object>"
      ]
     },
     "metadata": {},
     "output_type": "display_data"
    }
   ],
   "source": [
    "from IPython.display import display, HTML\n",
    "\n",
    "display(\n",
    "    HTML(\n",
    "        \"\"\"<style>\n",
    "* {font-family:D2Coding;}\n",
    "div.container{width:87% !important;}\n",
    "div.cell.code_cell.rendered{width:100%;}\n",
    "div.CodeMirror {font-size:12pt;}\n",
    "div.output {font-size:12pt; font-weight:bold;}\n",
    "div.input { font-size:12pt;}\n",
    "div.prompt {min-width:70px;}\n",
    "div#toc-wrapper{padding-top:120px;}\n",
    "div.text_cell_render ul li{font-size:12pt;padding:3px;}\n",
    "table.dataframe{font-size:12px;}\n",
    "</style>\n",
    "\"\"\"\n",
    "    )\n",
    ")"
   ]
  },
  {
   "cell_type": "markdown",
   "id": "00f68ed2",
   "metadata": {},
   "source": [
    "[ RAG 구현 절차 ]\n",
    "\n",
    "1. 문서의 내용을 읽는다(document_loader를 이용)\n",
    "\n",
    "- (1) https://python.langchain.com/v0.2/docs/integrations/document_loaders/\n",
    "- (2) https://python.langchain.com/v0.2/docs/integrations/document_loaders/microsoft_word/\n",
    "- %pip install --upgrade --quiet docx2txt\n",
    "\n",
    "2. 문서를 쪼갠다(한번에 이해하고 처리할 수 있는 입력+출력 토큰수가 제한)\n",
    "\n",
    "- (1) https://python.langchain.com/v0.2/docs/how_to/recursive_text_splitter/#splitting-text-from-languages-without-word-boundaries\n",
    "- %pip install -qU langchain-text-splitters\n",
    "\n",
    "3. 쪼갠 문서를 임베딩하여 vector database에 넣음\n",
    "\n",
    "- (1) OpenAIEmbeddings나 UpstageEmbeddings이용해서 임베딩\n",
    "- (2) https://python.langchain.com/v0.2/docs/integrations/vectorstores/chroma/\n",
    "- %pip install –q langchain-chroma\n",
    "\n",
    "4. 질문을 이용해 유사도 검색\n",
    "5. 유사도 검색한 문서를 LLM에 질문으로 전달하여 답변 얻음(제공되는 Prompt활용)\n",
    "\n",
    "- (1) https://python.langchain.com/v0.2/docs/tutorials/rag/\n",
    "- %pip install –q langchain langchainhub\n",
    "\n",
    "- https://smith.langchain.com/ 에서 key 생성 .env key 추가\n"
   ]
  },
  {
   "cell_type": "markdown",
   "id": "50ee2da4",
   "metadata": {},
   "source": [
    "# 2. 문서를 쪼개면서 읽기 (O)\n"
   ]
  },
  {
   "cell_type": "code",
   "execution_count": 1,
   "id": "120fcb6f",
   "metadata": {},
   "outputs": [
    {
     "name": "stdout",
     "output_type": "stream",
     "text": [
      "문서 쪼개면서 읽는 시간 10.986136198043823\n"
     ]
    }
   ],
   "source": [
    "import time\n",
    "\n",
    "start = time.time()\n",
    "\n",
    "from langchain_community.document_loaders import Docx2txtLoader\n",
    "from langchain_text_splitters import (\n",
    "    RecursiveCharacterTextSplitter,\n",
    ")  # 문서를 읽어오면서 겹치게 발라줌\n",
    "\n",
    "loader = Docx2txtLoader(\"./tax_docs/소득세법(법률)(제20615호)(20250701).docx\")\n",
    "\n",
    "# 문자단위로 쪼갬\n",
    "text_splitter = RecursiveCharacterTextSplitter(\n",
    "    chunk_size=1500, chunk_overlap=200  # 문서를 쪼갤떄 1500글자씩 쪼개\n",
    ")\n",
    "# 1번째 chunk 1 ~ 1450글자\n",
    "# 2번쨰 chunk 1250 ~ 1750글자\n",
    "\n",
    "documents = loader.load_and_split(text_splitter=text_splitter)\n",
    "\n",
    "runtime = time.time() - start\n",
    "print(\"문서 쪼개면서 읽는 시간\", runtime)"
   ]
  },
  {
   "cell_type": "markdown",
   "id": "2bec47ed",
   "metadata": {},
   "source": [
    "# 3. 쪼갠문서를 임베딩 -> 벡터 데이터베이스 저장\n",
    "\n",
    "- Embedding Model : Upstage solar-embedding-1-large, embedding-query\n",
    "- 벡터 데이터베이스 : chroma\n"
   ]
  },
  {
   "cell_type": "code",
   "execution_count": 2,
   "id": "ea3bb91c",
   "metadata": {},
   "outputs": [],
   "source": [
    "# 사용법 : https://python.langchain.com/v0.2/docs/integrations/text_embedding/upstage/\n",
    "from dotenv import load_dotenv\n",
    "from langchain_upstage import UpstageEmbeddings\n",
    "\n",
    "load_dotenv()\n",
    "embeddings = UpstageEmbeddings(\n",
    "    model=\"solar-embedding-1-large\",\n",
    "    # model=\"embedding-query\"\n",
    ")"
   ]
  },
  {
   "cell_type": "code",
   "execution_count": 4,
   "id": "46c47324",
   "metadata": {},
   "outputs": [
    {
     "name": "stdout",
     "output_type": "stream",
     "text": [
      "2 4096 4096\n"
     ]
    }
   ],
   "source": [
    "doc_result = embeddings.embed_documents(\n",
    "    [\"소득세법 어쩌구 저쩌구\", documents[0].page_content]\n",
    ")\n",
    "print(len(doc_result), len(doc_result[0]), len(doc_result[1]))"
   ]
  },
  {
   "cell_type": "code",
   "execution_count": null,
   "id": "59d62d95",
   "metadata": {},
   "outputs": [
    {
     "name": "stdout",
     "output_type": "stream",
     "text": [
      "CPU times: total: 15.6 s\n",
      "Wall time: 55.8 s\n"
     ]
    }
   ],
   "source": [
    "%%time\n",
    "from langchain_chroma import Chroma\n",
    "\n",
    "# 데이터를 처음 저잘할떄\n",
    "# database = Chroma.from_documents(\n",
    "#     documents=documents,\n",
    "#     embedding=embeddings,\n",
    "#     collection_name='tax_collection',# 생략시 이름 랜덤\n",
    "#     persist_directory='./chroma_upstage',# 생략시 로컬데이터베이스에 저장안됨, 프로그램 종료시 db날라감\n",
    "# )\n",
    "# 계속 실행하면 하면 안됨. 꼭 한번만. 그래서 주석처리\n"
   ]
  },
  {
   "cell_type": "code",
   "execution_count": 7,
   "id": "c28a15c9",
   "metadata": {},
   "outputs": [
    {
     "name": "stdout",
     "output_type": "stream",
     "text": [
      "CPU times: total: 0 ns\n",
      "Wall time: 0 ns\n"
     ]
    }
   ],
   "source": [
    "from dotenv import load_dotenv\n",
    "from langchain_upstage import UpstageEmbeddings\n",
    "from langchain_chroma import Chroma\n",
    "%time\n",
    "load_dotenv()\n",
    "embeddings = UpstageEmbeddings(\n",
    "    model=\"solar-embedding-1-large\",\n",
    "    # model=\"embedding-query\"\n",
    ")\n",
    "\n",
    "# 이미 저장된 vector DB를 사용할떄\n",
    "database = Chroma(\n",
    "    embedding_function=embeddings,\n",
    "    collection_name='tax_collection',\n",
    "    persist_directory='./chroma_upstage'\n",
    ")"
   ]
  },
  {
   "cell_type": "markdown",
   "id": "340214ef",
   "metadata": {},
   "source": [
    "# 4. vector DB 에 질문과 유사도 검색 (답변 생성을 위한 retrieval)\n"
   ]
  },
  {
   "cell_type": "code",
   "execution_count": null,
   "id": "b2fe033d",
   "metadata": {},
   "outputs": [],
   "source": [
    "query = \"연봉 5000만원인 직장인의 소득세는 얼마인가요?\"\n",
    "\n",
    "retrieved_docs = database.similarity_search(query, k=3)  # 기본 k값이 4"
   ]
  },
  {
   "cell_type": "code",
   "execution_count": 9,
   "id": "917b075f",
   "metadata": {},
   "outputs": [
    {
     "data": {
      "text/plain": [
       "[Document(id='be52c9e4-4e47-4783-b4ae-6427de957f58', metadata={'source': './tax_docs/소득세법(법률)(제20615호)(20250701).docx'}, page_content='2. 2명인 경우: 연 55만원\\n\\n3. 3명 이상인 경우: 연 55만원과 2명을 초과하는 1명당 연 40만원을 합한 금액\\n\\n② 삭제<2017. 12. 19.>\\n\\n③ 해당 과세기간에 출산하거나 입양 신고한 공제대상자녀가 있는 경우 다음 각 호의 구분에 따른 금액을 종합소득산출세액에서 공제한다.<신설 2015. 5. 13., 2016. 12. 20.>\\n\\n1. 출산하거나 입양 신고한 공제대상자녀가 첫째인 경우: 연 30만원\\n\\n2. 출산하거나 입양 신고한 공제대상자녀가 둘째인 경우: 연 50만원\\n\\n3. 출산하거나 입양 신고한 공제대상자녀가 셋째 이상인 경우: 연 70만원\\n\\n④ 제1항 및 제3항에 따른 공제를 “자녀세액공제”라 한다.<신설 2015. 5. 13., 2017. 12. 19.>\\n\\n[본조신설 2014. 1. 1.]\\n\\n[종전 제59조의2는 제59조의5로 이동 <2014. 1. 1.>]\\n\\n\\n\\n제59조의3(연금계좌세액공제) ① 종합소득이 있는 거주자가 연금계좌에 납입한 금액 중 다음 각 호에 해당하는 금액을 제외한 금액(이하 “연금계좌 납입액”이라 한다)의 100분의 12[해당 과세기간에 종합소득과세표준을 계산할 때 합산하는 종합소득금액이 4천 500만원 이하(근로소득만 있는 경우에는 총급여액 5천 500만원 이하)인 거주자에 대해서는 100분의 15]에 해당하는 금액을 해당 과세기간의 종합소득산출세액에서 공제한다. 다만, 연금계좌 중 연금저축계좌에 납입한 금액이 연 600만원을 초과하는 경우에는 그 초과하는 금액은 없는 것으로 하고, 연금저축계좌에 납입한 금액 중 600만원 이내의 금액과 퇴직연금계좌에 납입한 금액을 합한 금액이 연 900만원을 초과하는 경우에는 그 초과하는 금액은 없는 것으로 한다. <개정 2014. 12. 23., 2015. 5. 13., 2016. 12. 20., 2022. 12. 31.>\\n\\n1. 제146조제2항에 따라 소득세가 원천징수되지 아니한 퇴직소득 등 과세가 이연된 소득\\n\\n2. 연금계좌에서 다른 연금계좌로 계약을 이전함으로써 납입되는 금액\\n\\n② 제1항에 따른 공제를 “연금계좌세액공제”라 한다.\\n\\n③ 「조세특례제한법」 제91조의18에 따른 개인종합자산관리계좌의 계약기간이 만료되고 해당 계좌 잔액의 전부 또는 일부를 대통령령으로 정하는 방법으로 연금계좌로 납입한 경우 그 납입한 금액(이하 이 조에서 “전환금액”이라 한다)을 납입한 날이 속하는 과세기간의 연금계좌 납입액에 포함한다.<신설 2019. 12. 31.>\\n\\n④ 전환금액이 있는 경우에는 제1항 각 호 외의 부분 단서에도 불구하고 같은 항을 적용할 때 전환금액의 100분의 10 또는 300만원(직전 과세기간과 해당 과세기간에 걸쳐 납입한 경우에는 300만원에서 직전 과세기간에 적용된 금액을 차감한 금액으로 한다) 중 적은 금액과 제1항 각 호 외의 부분 단서에 따라 연금계좌에 납입한 금액으로 하는 금액을 합한 금액을 초과하는 금액은 없는 것으로 한다.<신설 2019. 12. 31.>'),\n",
       " Document(id='a2431442-0753-4aab-8632-39ba6af93469', metadata={'source': './tax_docs/소득세법(법률)(제20615호)(20250701).docx'}, page_content='제5관 근로소득공제ㆍ연금소득공제 및 퇴직소득공제 <개정 2009. 12. 31.>\\n\\n\\n\\n제47조(근로소득공제) ①근로소득이 있는 거주자에 대해서는 해당 과세기간에 받는 총급여액에서 다음의 금액을 공제한다. 다만, 공제액이 2천만원을 초과하는 경우에는 2천만원을 공제한다. <개정 2012. 1. 1., 2014. 1. 1., 2019. 12. 31.>\\n\\n\\n\\n② 일용근로자에 대한 공제액은 제1항에도 불구하고 1일 15만원으로 한다.<개정 2018. 12. 31.>\\n\\n③ 근로소득이 있는 거주자의 해당 과세기간의 총급여액이 제1항 또는 제2항의 공제액에 미달하는 경우에는 그 총급여액을 공제액으로 한다.\\n\\n④ 제1항부터 제3항까지의 규정에 따른 공제를 “근로소득공제”라 한다.\\n\\n⑤ 제1항의 경우에 2인 이상으로부터 근로소득을 받는 사람(일용근로자는 제외한다)에 대하여는 그 근로소득의 합계액을 총급여액으로 하여 제1항에 따라 계산한 근로소득공제액을 총급여액에서 공제한다.<개정 2010. 12. 27.>\\n\\n⑥ 삭제<2010. 12. 27.>\\n\\n[전문개정 2009. 12. 31.]\\n\\n\\n\\n제47조의2(연금소득공제) ①연금소득이 있는 거주자에 대해서는 해당 과세기간에 받은 총연금액(분리과세연금소득은 제외하며, 이하 이 항에서 같다)에서 다음 표에 규정된 금액을 공제한다. 다만, 공제액이 900만원을 초과하는 경우에는 900만원을 공제한다. <개정 2013. 1. 1.>\\n\\n\\n\\n② 제1항에 따른 공제를 “연금소득공제”라 한다.\\n\\n[전문개정 2009. 12. 31.]\\n\\n\\n\\n제48조(퇴직소득공제) ① 퇴직소득이 있는 거주자에 대해서는 해당 과세기간의 퇴직소득금액에서 제1호의 구분에 따른 금액을 공제하고, 그 금액을 근속연수(1년 미만의 기간이 있는 경우에는 이를 1년으로 보며, 제22조제1항제1호의 경우에는 대통령령으로 정하는 방법에 따라 계산한 연수를 말한다. 이하 같다)로 나누고 12를 곱한 후의 금액(이하 이 항에서 “환산급여”라 한다)에서 제2호의 구분에 따른 금액을 공제한다. <개정 2014. 12. 23., 2022. 12. 31.>\\n\\n1. 근속연수에 따라 정한 다음의 금액\\n\\n\\n\\n2. 환산급여에 따라 정한 다음의 금액\\n\\n\\n\\n② 해당 과세기간의 퇴직소득금액이 제1항제1호에 따른 공제금액에 미달하는 경우에는 그 퇴직소득금액을 공제액으로 한다.<개정 2014. 12. 23.>\\n\\n③ 제1항과 제2항에 따른 공제를 “퇴직소득공제”라 한다.\\n\\n④ 퇴직소득공제의 계산 방법에 관하여 필요한 사항은 대통령령으로 정한다.<개정 2013. 1. 1.>\\n\\n⑤ 삭제<2013. 1. 1.>\\n\\n[전문개정 2009. 12. 31.]\\n\\n\\n\\n제49조 삭제 <2006. 12. 30.>\\n\\n\\n\\n제6관 종합소득공제 <개정 2009. 12. 31.>'),\n",
       " Document(id='ce355230-bc1c-41d9-a6bc-6404963d8a13', metadata={'source': './tax_docs/소득세법(법률)(제20615호)(20250701).docx'}, page_content='③ 거주자의 부양가족 중 거주자(그 배우자를 포함한다)의 직계존속이 주거 형편에 따라 별거하고 있는 경우에는 제1항에도 불구하고 제50조에서 규정하는 생계를 같이 하는 사람으로 본다.\\n\\n④ 제50조, 제51조 및 제59조의2에 따른 공제대상 배우자, 공제대상 부양가족, 공제대상 장애인 또는 공제대상 경로우대자에 해당하는지 여부의 판정은 해당 과세기간의 과세기간 종료일 현재의 상황에 따른다. 다만, 과세기간 종료일 전에 사망한 사람 또는 장애가 치유된 사람에 대해서는 사망일 전날 또는 치유일 전날의 상황에 따른다.<개정 2014. 1. 1.>\\n\\n⑤ 제50조제1항제3호 및 제59조의2에 따라 적용대상 나이가 정해진 경우에는 제4항 본문에도 불구하고 해당 과세기간의 과세기간 중에 해당 나이에 해당되는 날이 있는 경우에 공제대상자로 본다.<개정 2014. 1. 1.>\\n\\n[전문개정 2009. 12. 31.]\\n\\n\\n\\n제54조(종합소득공제 등의 배제) ① 분리과세이자소득, 분리과세배당소득, 분리과세연금소득과 분리과세기타소득만이 있는 자에 대해서는 종합소득공제를 적용하지 아니한다. <개정 2013. 1. 1.>\\n\\n② 제70조제1항, 제70조의2제2항 또는 제74조에 따라 과세표준확정신고를 하여야 할 자가 제70조제4항제1호에 따른 서류를 제출하지 아니한 경우에는 기본공제 중 거주자 본인에 대한 분(分)과 제59조의4제9항에 따른 표준세액공제만을 공제한다. 다만, 과세표준확정신고 여부와 관계없이 그 서류를 나중에 제출한 경우에는 그러하지 아니하다.<개정 2013. 1. 1., 2014. 1. 1.>\\n\\n③ 제82조에 따른 수시부과 결정의 경우에는 기본공제 중 거주자 본인에 대한 분(分)만을 공제한다.\\n\\n[전문개정 2009. 12. 31.]\\n\\n[제목개정 2014. 1. 1.]\\n\\n\\n\\n제54조의2(공동사업에 대한 소득공제 등 특례) 제51조의3 또는 「조세특례제한법」에 따른 소득공제를 적용하거나 제59조의3에 따른 세액공제를 적용하는 경우 제43조제3항에 따라 소득금액이 주된 공동사업자의 소득금액에 합산과세되는 특수관계인이 지출ㆍ납입ㆍ투자ㆍ출자 등을 한 금액이 있으면 주된 공동사업자의 소득에 합산과세되는 소득금액의 한도에서 주된 공동사업자가 지출ㆍ납입ㆍ투자ㆍ출자 등을 한 금액으로 보아 주된 공동사업자의 합산과세되는 종합소득금액 또는 종합소득산출세액을 계산할 때에 소득공제 또는 세액공제를 받을 수 있다. <개정 2012. 1. 1., 2014. 1. 1.>\\n\\n[전문개정 2009. 12. 31.]\\n\\n[제목개정 2014. 1. 1.]\\n\\n\\n\\n제4절 세액의 계산 <개정 2009. 12. 31.>\\n\\n\\n\\n제1관 세율 <개정 2009. 12. 31.>\\n\\n\\n\\n제55조(세율) ①거주자의 종합소득에 대한 소득세는 해당 연도의 종합소득과세표준에 다음의 세율을 적용하여 계산한 금액(이하 “종합소득산출세액”이라 한다)을 그 세액으로 한다. <개정 2014. 1. 1., 2016. 12. 20., 2017. 12. 19., 2020. 12. 29., 2022. 12. 31.>')]"
      ]
     },
     "execution_count": 9,
     "metadata": {},
     "output_type": "execute_result"
    }
   ],
   "source": [
    "retrieved_docs"
   ]
  },
  {
   "cell_type": "markdown",
   "id": "a1d1f860",
   "metadata": {},
   "source": [
    "# 5. 유사도 검색으로 가져온 문서를 질문과 같이 LLM 전달하여 답변 생성\n"
   ]
  },
  {
   "cell_type": "code",
   "execution_count": 10,
   "id": "313a36c8",
   "metadata": {},
   "outputs": [],
   "source": [
    "from langchain_openai import ChatOpenAI\n",
    "\n",
    "llm = ChatOpenAI(model=\"gpt-4.1-nano\")"
   ]
  },
  {
   "cell_type": "code",
   "execution_count": 11,
   "id": "7a48d101",
   "metadata": {},
   "outputs": [],
   "source": [
    "prompt = f\"\"\"[identity]\n",
    "- 당신은 최고의 한국 소득세 전문가입니다.\n",
    "- [context]를 참고해서 사용자의 질문에 답변해 주세요.\n",
    "[context]는 다음과 같습니다.\n",
    "{retrieved_docs}\n",
    "Question: {query}\n",
    "\"\"\""
   ]
  },
  {
   "cell_type": "code",
   "execution_count": 12,
   "id": "2479709a",
   "metadata": {},
   "outputs": [],
   "source": [
    "ai_message = llm.invoke(prompt)"
   ]
  },
  {
   "cell_type": "code",
   "execution_count": 13,
   "id": "40ac7d72",
   "metadata": {},
   "outputs": [
    {
     "name": "stdout",
     "output_type": "stream",
     "text": [
      "연봉 5000만원인 직장인의 소득세를 계산하기 위해서는 먼저 근로소득공제와 표준세율을 적용하여 과세표준을 산출한 후, 해당 과세표준에 따른 세율을 적용해야 합니다. 아래는 일반적인 계산 방법입니다.\n",
      "\n",
      "1. 근로소득공제 계산\n",
      "- 연봉 5000만원의 경우, 근로소득공제는 2천만원이 최대 공제액이므로, 연봉이 5000만원일 때는 2천만원이 공제됩니다.\n",
      "- 따라서 과세표준은 5000만원 - 2000만원 = 3000만원입니다.\n",
      "\n",
      "2. 세율 적용\n",
      "- 제55조에 따른 세율 표에 따라 3000만원의 과세표준에 해당하는 세율을 적용합니다.\n",
      "- 2022년 기준 세율 구조는 대략 다음과 같습니다. (구체적 세율은 세법 개정에 따라 변동 가능, 참고용)\n",
      "\n",
      "| 과세표준                            | 세율  | 누진공제액  |\n",
      "|----------------------------------|-------|------------|\n",
      "| 1,200만원 이하                   | 6%    | 0원        |\n",
      "| 1,200만원 초과 ~ 4,600만원 이하 | 15%   | 108만원    |\n",
      "| 4,600만원 초과                   | 24%   | 522만원    |\n",
      "\n",
      "3. 과세표준 3000만원에 대한 세금 계산\n",
      "- 1,200만원에 대해서는 6% 적용 → 1,200만원 × 0.06 = 72만원\n",
      "- 나머지 1,800만원에 대해서는 15% 적용 → 1,800만원 × 0.15 = 270만원\n",
      "- 전체 세액 = 72만원 + 270만원 = 342만원\n",
      "- 세액에서 공제액(누진공제액)을 뺌 → 세금 = 342만원 - 108만원(누진공제액) = 234만원\n",
      "\n",
      "※ 참고로, 주민세(지역소득세) 및 근로소득공제, 기타 공제액을 감안하면 최종 납부세액은 조금 차이날 수 있습니다.\n",
      "\n",
      "결론적으로, 연봉 5000만원인 직장인의 예상 소득세는 약 234만원 정도입니다. 정확한 세액 계산을 위해서는 구체적인 공제내역과 연말정산 내용 등을 반영해야 하며, 세법 개정에 따른 세율 변경도 고려해야 합니다. 추가 문의가 있으시면 언제든 말씀해 주세요.\n"
     ]
    }
   ],
   "source": [
    "print(ai_message.content)"
   ]
  },
  {
   "cell_type": "markdown",
   "id": "296b3036",
   "metadata": {},
   "source": [
    "# 5. Agumentation 을 위한 제공하는 Prompt 활용하여, langchain으로 답변 생성\n",
    "\n",
    "- 사용법 : https://python.langchain.com/v0.2/docs/tutorials/rag/\n"
   ]
  },
  {
   "cell_type": "code",
   "execution_count": 14,
   "id": "5f2e106b",
   "metadata": {},
   "outputs": [
    {
     "data": {
      "text/plain": [
       "ChatPromptTemplate(input_variables=['context', 'question'], input_types={}, partial_variables={}, metadata={'lc_hub_owner': 'rlm', 'lc_hub_repo': 'rag-prompt', 'lc_hub_commit_hash': '50442af133e61576e74536c6556cefe1fac147cad032f4377b60c436e6cdcb6e'}, messages=[HumanMessagePromptTemplate(prompt=PromptTemplate(input_variables=['context', 'question'], input_types={}, partial_variables={}, template=\"You are an assistant for question-answering tasks. Use the following pieces of retrieved context to answer the question. If you don't know the answer, just say that you don't know. Use three sentences maximum and keep the answer concise.\\nQuestion: {question} \\nContext: {context} \\nAnswer:\"), additional_kwargs={})])"
      ]
     },
     "execution_count": 14,
     "metadata": {},
     "output_type": "execute_result"
    }
   ],
   "source": [
    "query = \"연봉 5000만원인 직장인의 소득세는 얼마인가요?\"\n",
    "\n",
    "from langchain import hub\n",
    "\n",
    "prompt = hub.pull(\"rlm/rag-prompt\")\n",
    "prompt"
   ]
  },
  {
   "cell_type": "markdown",
   "id": "92f78413",
   "metadata": {},
   "source": [
    "## RetrievalQA를 통해 LLM전달 (create_retrieval_chain이 대체)\n",
    "\n",
    "```\n",
    " query -> retriever 전달(벡터 검색 수행)\n",
    " -> retriever문서 -> prompt의 {context}에 삽입\n",
    " -> query -> prompt의 (question)에 삽입\n",
    "```\n"
   ]
  },
  {
   "cell_type": "code",
   "execution_count": 15,
   "id": "1bef6d1f",
   "metadata": {},
   "outputs": [],
   "source": [
    "from langchain.chains import RetrievalQA\n",
    "\n",
    "qa_chain = RetrievalQA.from_chain_type(\n",
    "    llm=llm,\n",
    "    retriever=database.as_retriever(search_kwargs={\"k\": 5}),\n",
    "    chain_type_kwargs={\"prompt\": prompt},\n",
    ")"
   ]
  },
  {
   "cell_type": "code",
   "execution_count": 16,
   "id": "52a21491",
   "metadata": {},
   "outputs": [],
   "source": [
    "ai_message = qa_chain.invoke({\"query\": query})"
   ]
  },
  {
   "cell_type": "code",
   "execution_count": 17,
   "id": "c1f16b34",
   "metadata": {},
   "outputs": [
    {
     "data": {
      "text/plain": [
       "{'query': '연봉 5000만원인 직장인의 소득세는 얼마인가요?',\n",
       " 'result': '연봉 5000만원인 직장인의 소득세는 약 835만원입니다. 이 금액은 근로소득공제, 자녀세액공제, 그리고 세율에 따라 계산된 결과입니다. 정확한 금액은 개인의 상세 상황에 따라 달라질 수 있습니다.'}"
      ]
     },
     "execution_count": 17,
     "metadata": {},
     "output_type": "execute_result"
    }
   ],
   "source": [
    "ai_message"
   ]
  },
  {
   "cell_type": "code",
   "execution_count": null,
   "id": "db1993d1",
   "metadata": {},
   "outputs": [],
   "source": []
  },
  {
   "cell_type": "code",
   "execution_count": null,
   "id": "f803cc08",
   "metadata": {},
   "outputs": [],
   "source": []
  },
  {
   "cell_type": "code",
   "execution_count": null,
   "id": "d1e13c23",
   "metadata": {},
   "outputs": [],
   "source": []
  },
  {
   "cell_type": "code",
   "execution_count": null,
   "id": "0aa3791b",
   "metadata": {},
   "outputs": [],
   "source": []
  },
  {
   "cell_type": "code",
   "execution_count": null,
   "id": "021f5a01",
   "metadata": {},
   "outputs": [],
   "source": []
  },
  {
   "cell_type": "code",
   "execution_count": null,
   "id": "02982f07",
   "metadata": {},
   "outputs": [],
   "source": []
  },
  {
   "cell_type": "code",
   "execution_count": null,
   "id": "0509c4b5",
   "metadata": {},
   "outputs": [],
   "source": []
  },
  {
   "cell_type": "code",
   "execution_count": null,
   "id": "a20b7f6c",
   "metadata": {},
   "outputs": [],
   "source": []
  },
  {
   "cell_type": "code",
   "execution_count": null,
   "id": "34cee01d",
   "metadata": {},
   "outputs": [],
   "source": []
  },
  {
   "cell_type": "code",
   "execution_count": null,
   "id": "31aaaf69",
   "metadata": {},
   "outputs": [],
   "source": []
  },
  {
   "cell_type": "code",
   "execution_count": null,
   "id": "ee02f493",
   "metadata": {},
   "outputs": [],
   "source": []
  }
 ],
 "metadata": {
  "kernelspec": {
   "display_name": "llm",
   "language": "python",
   "name": "python3"
  },
  "language_info": {
   "codemirror_mode": {
    "name": "ipython",
    "version": 3
   },
   "file_extension": ".py",
   "mimetype": "text/x-python",
   "name": "python",
   "nbconvert_exporter": "python",
   "pygments_lexer": "ipython3",
   "version": "3.10.18"
  }
 },
 "nbformat": 4,
 "nbformat_minor": 5
}
