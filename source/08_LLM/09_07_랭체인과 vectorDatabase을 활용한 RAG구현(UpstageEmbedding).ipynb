{
 "cells": [
  {
   "cell_type": "code",
   "execution_count": 10,
   "id": "93206255",
   "metadata": {},
   "outputs": [
    {
     "data": {
      "text/html": [
       "<style>\n",
       "* {font-family:D2Coding;}\n",
       "div.container{width:87% !important;}\n",
       "div.cell.code_cell.rendered{width:100%;}\n",
       "div.CodeMirror {font-size:12pt;}\n",
       "div.output {font-size:12pt; font-weight:bold;}\n",
       "div.input { font-size:12pt;}\n",
       "div.prompt {min-width:70px;}\n",
       "div#toc-wrapper{padding-top:120px;}\n",
       "div.text_cell_render ul li{font-size:12pt;padding:3px;}\n",
       "table.dataframe{font-size:12px;}\n",
       "</style>\n"
      ],
      "text/plain": [
       "<IPython.core.display.HTML object>"
      ]
     },
     "metadata": {},
     "output_type": "display_data"
    }
   ],
   "source": [
    "from IPython.display import display, HTML\n",
    "\n",
    "display(\n",
    "    HTML(\n",
    "        \"\"\"<style>\n",
    "* {font-family:D2Coding;}\n",
    "div.container{width:87% !important;}\n",
    "div.cell.code_cell.rendered{width:100%;}\n",
    "div.CodeMirror {font-size:12pt;}\n",
    "div.output {font-size:12pt; font-weight:bold;}\n",
    "div.input { font-size:12pt;}\n",
    "div.prompt {min-width:70px;}\n",
    "div#toc-wrapper{padding-top:120px;}\n",
    "div.text_cell_render ul li{font-size:12pt;padding:3px;}\n",
    "table.dataframe{font-size:12px;}\n",
    "</style>\n",
    "\"\"\"\n",
    "    )\n",
    ")"
   ]
  },
  {
   "cell_type": "markdown",
   "id": "00f68ed2",
   "metadata": {},
   "source": [
    "[ RAG 구현 절차 ]\n",
    "\n",
    "1. 문서의 내용을 읽는다(document_loader를 이용)\n",
    "\n",
    "- (1) https://python.langchain.com/v0.2/docs/integrations/document_loaders/\n",
    "- (2) https://python.langchain.com/v0.2/docs/integrations/document_loaders/microsoft_word/\n",
    "- %pip install --upgrade --quiet docx2txt\n",
    "\n",
    "2. 문서를 쪼갠다(한번에 이해하고 처리할 수 있는 입력+출력 토큰수가 제한)\n",
    "\n",
    "- (1) https://python.langchain.com/v0.2/docs/how_to/recursive_text_splitter/#splitting-text-from-languages-without-word-boundaries\n",
    "- %pip install -qU langchain-text-splitters\n",
    "\n",
    "3. 쪼갠 문서를 임베딩하여 vector database에 넣음\n",
    "\n",
    "- (1) OpenAIEmbeddings나 UpstageEmbeddings이용해서 임베딩\n",
    "- (2) https://python.langchain.com/v0.2/docs/integrations/vectorstores/chroma/\n",
    "- %pip install –q langchain-chroma\n",
    "\n",
    "4. 질문을 이용해 유사도 검색\n",
    "5. 유사도 검색한 문서를 LLM에 질문으로 전달하여 답변 얻음(제공되는 Prompt활용)\n",
    "\n",
    "- (1) https://python.langchain.com/v0.2/docs/tutorials/rag/\n",
    "- %pip install –q langchain langchainhub\n",
    "\n",
    "- https://smith.langchain.com/ 에서 key 생성 .env key 추가\n"
   ]
  },
  {
   "cell_type": "markdown",
   "id": "50ee2da4",
   "metadata": {},
   "source": [
    "# 2. 문서를 쪼개면서 읽기 (O)\n"
   ]
  },
  {
   "cell_type": "code",
   "execution_count": 11,
   "id": "120fcb6f",
   "metadata": {},
   "outputs": [
    {
     "name": "stdout",
     "output_type": "stream",
     "text": [
      "문서 쪼개면서 읽는 시간 1.8499813079833984\n"
     ]
    }
   ],
   "source": [
    "import time\n",
    "\n",
    "start = time.time()\n",
    "\n",
    "from langchain_community.document_loaders import Docx2txtLoader\n",
    "from langchain_text_splitters import (\n",
    "    RecursiveCharacterTextSplitter,\n",
    ")  # 문서를 읽어오면서 겹치게 발라줌\n",
    "\n",
    "loader = Docx2txtLoader(\"./tax_docs/소득세법(법률)(제20615호)(20250701).docx\")\n",
    "\n",
    "# 문자단위로 쪼갬\n",
    "text_splitter = RecursiveCharacterTextSplitter(\n",
    "    chunk_size=1500, chunk_overlap=200  # 문서를 쪼갤떄 1500글자씩 쪼개\n",
    ")\n",
    "# 1번째 chunk 1 ~ 1450글자\n",
    "# 2번쨰 chunk 1250 ~ 1750글자\n",
    "\n",
    "documents = loader.load_and_split(text_splitter=text_splitter)\n",
    "\n",
    "runtime = time.time() - start\n",
    "print(\"문서 쪼개면서 읽는 시간\", runtime)"
   ]
  },
  {
   "cell_type": "markdown",
   "id": "2bec47ed",
   "metadata": {},
   "source": [
    "# 3. 쪼갠문서를 임베딩 -> 벡터 데이터베이스 저장\n",
    "\n",
    "- Embedding Model : Upstage solar-embedding-1-large, embedding-query\n",
    "- 벡터 데이터베이스 : chroma\n"
   ]
  },
  {
   "cell_type": "code",
   "execution_count": 12,
   "id": "ea3bb91c",
   "metadata": {},
   "outputs": [],
   "source": [
    "# 사용법 : https://python.langchain.com/v0.2/docs/integrations/text_embedding/upstage/\n",
    "from dotenv import load_dotenv\n",
    "from langchain_upstage import UpstageEmbeddings\n",
    "\n",
    "load_dotenv()\n",
    "embeddings = UpstageEmbeddings(\n",
    "    model=\"solar-embedding-1-large\",\n",
    "    # model=\"embedding-query\"\n",
    ")"
   ]
  },
  {
   "cell_type": "code",
   "execution_count": 13,
   "id": "46c47324",
   "metadata": {},
   "outputs": [
    {
     "name": "stdout",
     "output_type": "stream",
     "text": [
      "2 4096 4096\n"
     ]
    }
   ],
   "source": [
    "doc_result = embeddings.embed_documents(\n",
    "    [\"소득세법 어쩌구 저쩌구\", documents[0].page_content]\n",
    ")\n",
    "print(len(doc_result), len(doc_result[0]), len(doc_result[1]))"
   ]
  },
  {
   "cell_type": "code",
   "execution_count": 14,
   "id": "59d62d95",
   "metadata": {},
   "outputs": [
    {
     "name": "stdout",
     "output_type": "stream",
     "text": [
      "CPU times: user 5 μs, sys: 0 ns, total: 5 μs\n",
      "Wall time: 5.72 μs\n"
     ]
    }
   ],
   "source": [
    "%%time\n",
    "from langchain_chroma import Chroma\n",
    "\n",
    "# 데이터를 처음 저잘할떄\n",
    "# database = Chroma.from_documents(\n",
    "#     documents=documents,\n",
    "#     embedding=embeddings,\n",
    "#     collection_name='tax_collection',# 생략시 이름 랜덤\n",
    "#     persist_directory='./chroma_upstage',# 생략시 로컬데이터베이스에 저장안됨, 프로그램 종료시 db날라감\n",
    "# )\n",
    "# 계속 실행하면 하면 안됨. 꼭 한번만. 그래서 주석처리\n"
   ]
  },
  {
   "cell_type": "code",
   "execution_count": 15,
   "id": "c28a15c9",
   "metadata": {},
   "outputs": [
    {
     "name": "stdout",
     "output_type": "stream",
     "text": [
      "CPU times: user 1 μs, sys: 1 μs, total: 2 μs\n",
      "Wall time: 2.15 μs\n"
     ]
    }
   ],
   "source": [
    "from dotenv import load_dotenv\n",
    "from langchain_upstage import UpstageEmbeddings\n",
    "from langchain_chroma import Chroma\n",
    "%time\n",
    "load_dotenv()\n",
    "embeddings = UpstageEmbeddings(\n",
    "    model=\"solar-embedding-1-large\",\n",
    "    # model=\"embedding-query\"\n",
    ")\n",
    "\n",
    "# 이미 저장된 vector DB를 사용할떄\n",
    "database = Chroma(\n",
    "    embedding_function=embeddings,\n",
    "    collection_name='tax_collection',\n",
    "    persist_directory='./chroma_upstage'\n",
    ")"
   ]
  },
  {
   "cell_type": "markdown",
   "id": "340214ef",
   "metadata": {},
   "source": [
    "# 4. vector DB 에 질문과 유사도 검색 (답변 생성을 위한 retrieval)\n"
   ]
  },
  {
   "cell_type": "code",
   "execution_count": 16,
   "id": "b2fe033d",
   "metadata": {},
   "outputs": [],
   "source": [
    "query = \"연봉 5000만원인 직장인의 소득세는 얼마인가요?\"\n",
    "\n",
    "retrieved_docs = database.similarity_search(query, k=3)  # 기본 k값이 4"
   ]
  },
  {
   "cell_type": "code",
   "execution_count": 17,
   "id": "917b075f",
   "metadata": {},
   "outputs": [
    {
     "data": {
      "text/plain": [
       "[]"
      ]
     },
     "execution_count": 17,
     "metadata": {},
     "output_type": "execute_result"
    }
   ],
   "source": [
    "retrieved_docs"
   ]
  },
  {
   "cell_type": "markdown",
   "id": "a1d1f860",
   "metadata": {},
   "source": [
    "# 5. 유사도 검색으로 가져온 문서를 질문과 같이 LLM 전달하여 답변 생성\n"
   ]
  },
  {
   "cell_type": "code",
   "execution_count": 18,
   "id": "313a36c8",
   "metadata": {},
   "outputs": [],
   "source": [
    "from langchain_openai import ChatOpenAI\n",
    "\n",
    "llm = ChatOpenAI(model=\"gpt-4.1-nano\")"
   ]
  },
  {
   "cell_type": "code",
   "execution_count": 19,
   "id": "7a48d101",
   "metadata": {},
   "outputs": [],
   "source": [
    "prompt = f\"\"\"[identity]\n",
    "- 당신은 최고의 한국 소득세 전문가입니다.\n",
    "- [context]를 참고해서 사용자의 질문에 답변해 주세요.\n",
    "[context]는 다음과 같습니다.\n",
    "{retrieved_docs}\n",
    "Question: {query}\n",
    "\"\"\""
   ]
  },
  {
   "cell_type": "code",
   "execution_count": 20,
   "id": "2479709a",
   "metadata": {},
   "outputs": [],
   "source": [
    "ai_message = llm.invoke(prompt)"
   ]
  },
  {
   "cell_type": "code",
   "execution_count": 21,
   "id": "40ac7d72",
   "metadata": {},
   "outputs": [
    {
     "name": "stdout",
     "output_type": "stream",
     "text": [
      "연봉이 5,000만 원인 직장인의 소득세 계산은 여러 공제와 세율에 따라 달라질 수 있지만, 기본적인 계산 방법을 안내드리겠습니다.\n",
      "\n",
      "1. **근로소득세 과세표준 산정:**\n",
      "- 연봉 5,000만 원에서 근로소득공제와 기타 공제(인적공제, 보험료공제 등)를 차감한 금액이 과세표준이 됩니다.\n",
      "\n",
      "2. **근로소득공제 계산:**\n",
      "- 1,200만 원 이하: 80%\n",
      "- 1,200만 원 초과 4,600만 원 이하: 1,200만 원 + (연봉 - 1,200만 원) × 40%\n",
      "- 4,600만 원 초과: 연봉 × 15% + 1,560만 원\n",
      "\n",
      "연봉 5,000만 원의 경우,\n",
      "근로소득공제는:\n",
      "4,600만 원 이하 구간이 아니므로, 4,600만 원 초과 구간에 해당합니다.\n",
      "공제액 = 1,200만 원 + (5,000만 원 - 1,200만 원) × 40%\n",
      "= 1,200만 원 + 3,800만 원 × 40%\n",
      "= 1,200만 원 + 1,520만 원\n",
      "= 2,720만 원\n",
      "\n",
      "이에 따라,\n",
      "과세표준 ≈ 연봉 5,000만 원 - 공제액 2,720만 원 = 2,280만 원\n",
      "\n",
      "3. **기본 세율 적용:**\n",
      "연간 소득세 표에 따라, 과세표준 2,280만 원은 다음 구간에 해당:\n",
      "- 1,200만 원 초과 ~ 4,600만 원 이하: 15%\n",
      "\n",
      "초과 구간에 따라 세율과 누진세액이 적용됩니다.\n",
      "\n",
      "4. **세액 계산 (대략):**\n",
      "- 1,200만 원까지: 1,200만 원 × 6% = 72,000원\n",
      "- 나머지 1,080만 원: 1,080만 원 × 15% = 162만 원\n",
      "- 합산: 약 162만 원 + 7만2천 원 = 234만 원\n",
      "\n",
      "여기에 주민세(10%)와 기타 공제, 세액공제 등을 반영하지 않은 단순 계산이며, 실제 세액은 인적공제, 보험료공제, 연금보험료공제, 소득세 세액공제 등에 따라 차이가 있을 수 있습니다.\n",
      "\n",
      "**요약:**  \n",
      "대략적인 소득세는 약 230만 원 내외로 예상되며, 상세 계산과 정확한 세액 산정을 위해서는 맞춤 공제 항목과 세액공제를 반영하는 것이 필요합니다.\n",
      "\n",
      "추가 문의 사항이나 구체적인 공제 내용이 있다면 알려 주세요!\n"
     ]
    }
   ],
   "source": [
    "print(ai_message.content)"
   ]
  },
  {
   "cell_type": "markdown",
   "id": "296b3036",
   "metadata": {},
   "source": [
    "# 5. Agumentation 을 위한 제공하는 Prompt 활용하여, langchain으로 답변 생성\n",
    "\n",
    "- 사용법 : https://python.langchain.com/v0.2/docs/tutorials/rag/\n"
   ]
  },
  {
   "cell_type": "code",
   "execution_count": 22,
   "id": "5f2e106b",
   "metadata": {},
   "outputs": [
    {
     "data": {
      "text/plain": [
       "ChatPromptTemplate(input_variables=['context', 'question'], input_types={}, partial_variables={}, metadata={'lc_hub_owner': 'rlm', 'lc_hub_repo': 'rag-prompt', 'lc_hub_commit_hash': '50442af133e61576e74536c6556cefe1fac147cad032f4377b60c436e6cdcb6e'}, messages=[HumanMessagePromptTemplate(prompt=PromptTemplate(input_variables=['context', 'question'], input_types={}, partial_variables={}, template=\"You are an assistant for question-answering tasks. Use the following pieces of retrieved context to answer the question. If you don't know the answer, just say that you don't know. Use three sentences maximum and keep the answer concise.\\nQuestion: {question} \\nContext: {context} \\nAnswer:\"), additional_kwargs={})])"
      ]
     },
     "execution_count": 22,
     "metadata": {},
     "output_type": "execute_result"
    }
   ],
   "source": [
    "query = \"연봉 5000만원인 직장인의 소득세는 얼마인가요?\"\n",
    "\n",
    "from langchain import hub\n",
    "\n",
    "prompt = hub.pull(\"rlm/rag-prompt\")\n",
    "prompt"
   ]
  },
  {
   "cell_type": "markdown",
   "id": "92f78413",
   "metadata": {},
   "source": [
    "## RetrievalQA를 통해 LLM전달 (create_retrieval_chain이 대체)\n",
    "\n",
    "```\n",
    " query -> retriever 전달(벡터 검색 수행)\n",
    " -> retriever문서 -> prompt의 {context}에 삽입\n",
    " -> query -> prompt의 (question)에 삽입\n",
    "```\n"
   ]
  },
  {
   "cell_type": "code",
   "execution_count": 23,
   "id": "1bef6d1f",
   "metadata": {},
   "outputs": [],
   "source": [
    "from langchain.chains import RetrievalQA\n",
    "\n",
    "qa_chain = RetrievalQA.from_chain_type(\n",
    "    llm=llm,\n",
    "    retriever=database.as_retriever(search_kwargs={\"k\": 5}),\n",
    "    chain_type_kwargs={\"prompt\": prompt},\n",
    ")"
   ]
  },
  {
   "cell_type": "code",
   "execution_count": 24,
   "id": "52a21491",
   "metadata": {},
   "outputs": [],
   "source": [
    "ai_message = qa_chain.invoke({\"query\": query})"
   ]
  },
  {
   "cell_type": "code",
   "execution_count": 25,
   "id": "c1f16b34",
   "metadata": {},
   "outputs": [
    {
     "data": {
      "text/plain": [
       "{'query': '연봉 5000만원인 직장인의 소득세는 얼마인가요?',\n",
       " 'result': '소득세는 과세표준, 세율, 공제액 등에 따라 달라집니다. 연봉 5000만원의 경우, 총소득세 계산은 복잡하며, 공제액과 세율에 따라 달라집니다. 정확한 금액을 알기 위해서는 상세한 세법 규정을 참고하거나 세무 전문가와 상담하는 것이 좋습니다.'}"
      ]
     },
     "execution_count": 25,
     "metadata": {},
     "output_type": "execute_result"
    }
   ],
   "source": [
    "ai_message"
   ]
  },
  {
   "cell_type": "code",
   "execution_count": null,
   "id": "db1993d1",
   "metadata": {},
   "outputs": [],
   "source": []
  },
  {
   "cell_type": "code",
   "execution_count": null,
   "id": "f803cc08",
   "metadata": {},
   "outputs": [],
   "source": []
  },
  {
   "cell_type": "code",
   "execution_count": null,
   "id": "d1e13c23",
   "metadata": {},
   "outputs": [],
   "source": []
  },
  {
   "cell_type": "code",
   "execution_count": null,
   "id": "0aa3791b",
   "metadata": {},
   "outputs": [],
   "source": []
  },
  {
   "cell_type": "code",
   "execution_count": null,
   "id": "021f5a01",
   "metadata": {},
   "outputs": [],
   "source": []
  },
  {
   "cell_type": "code",
   "execution_count": null,
   "id": "02982f07",
   "metadata": {},
   "outputs": [],
   "source": []
  },
  {
   "cell_type": "code",
   "execution_count": null,
   "id": "0509c4b5",
   "metadata": {},
   "outputs": [],
   "source": []
  },
  {
   "cell_type": "code",
   "execution_count": null,
   "id": "a20b7f6c",
   "metadata": {},
   "outputs": [],
   "source": []
  },
  {
   "cell_type": "code",
   "execution_count": null,
   "id": "34cee01d",
   "metadata": {},
   "outputs": [],
   "source": []
  },
  {
   "cell_type": "code",
   "execution_count": null,
   "id": "31aaaf69",
   "metadata": {},
   "outputs": [],
   "source": []
  },
  {
   "cell_type": "code",
   "execution_count": null,
   "id": "ee02f493",
   "metadata": {},
   "outputs": [],
   "source": []
  }
 ],
 "metadata": {
  "kernelspec": {
   "display_name": "llm(ipykernel)",
   "language": "python",
   "name": "llm"
  },
  "language_info": {
   "codemirror_mode": {
    "name": "ipython",
    "version": 3
   },
   "file_extension": ".py",
   "mimetype": "text/x-python",
   "name": "python",
   "nbconvert_exporter": "python",
   "pygments_lexer": "ipython3",
   "version": "3.10.18"
  }
 },
 "nbformat": 4,
 "nbformat_minor": 5
}
