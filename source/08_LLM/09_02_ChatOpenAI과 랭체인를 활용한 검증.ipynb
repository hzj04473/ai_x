{
 "cells": [
  {
   "cell_type": "code",
   "execution_count": 2,
   "id": "642d7112",
   "metadata": {},
   "outputs": [
    {
     "data": {
      "text/html": [
       "<style>\n",
       "* {font-family:D2Coding;}\n",
       "div.container{width:87% !important;}\n",
       "div.cell.code_cell.rendered{width:100%;}\n",
       "div.CodeMirror {font-size:12pt;}\n",
       "div.output {font-size:12pt; font-weight:bold;}\n",
       "div.input { font-size:12pt;}\n",
       "div.prompt {min-width:70px;}\n",
       "div#toc-wrapper{padding-top:120px;}\n",
       "div.text_cell_render ul li{font-size:12pt;padding:3px;}\n",
       "table.dataframe{font-size:12px;}\n",
       "</style>\n"
      ],
      "text/plain": [
       "<IPython.core.display.HTML object>"
      ]
     },
     "metadata": {},
     "output_type": "display_data"
    }
   ],
   "source": [
    "from IPython.display import display, HTML\n",
    "\n",
    "display(\n",
    "    HTML(\n",
    "        \"\"\"<style>\n",
    "* {font-family:D2Coding;}\n",
    "div.container{width:87% !important;}\n",
    "div.cell.code_cell.rendered{width:100%;}\n",
    "div.CodeMirror {font-size:12pt;}\n",
    "div.output {font-size:12pt; font-weight:bold;}\n",
    "div.input { font-size:12pt;}\n",
    "div.prompt {min-width:70px;}\n",
    "div#toc-wrapper{padding-top:120px;}\n",
    "div.text_cell_render ul li{font-size:12pt;padding:3px;}\n",
    "table.dataframe{font-size:12px;}\n",
    "</style>\n",
    "\"\"\"\n",
    "    )\n",
    ")"
   ]
  },
  {
   "cell_type": "markdown",
   "id": "41033d8c",
   "metadata": {},
   "source": [
    "# 1. 환경(패키지 및 환경변수)\n",
    "\n",
    "- pip install openai langchain-openai"
   ]
  },
  {
   "cell_type": "code",
   "execution_count": 3,
   "id": "db119376",
   "metadata": {},
   "outputs": [
    {
     "data": {
      "text/plain": [
       "True"
      ]
     },
     "execution_count": 3,
     "metadata": {},
     "output_type": "execute_result"
    }
   ],
   "source": [
    "from dotenv import load_dotenv\n",
    "load_dotenv()"
   ]
  },
  {
   "cell_type": "markdown",
   "id": "0bfa7633",
   "metadata": {},
   "source": [
    "# 2. LLM 답변 생성\n",
    "\n",
    "## 2-1. openAI SDK를 선택\n",
    "\n",
    "- 세밀한 제어가 필요할 때, 성능 최적화가 중요할 때 (렝체인X) "
   ]
  },
  {
   "cell_type": "code",
   "execution_count": 4,
   "id": "4c781d9a",
   "metadata": {},
   "outputs": [],
   "source": [
    "from openai import OpenAI\n",
    "\n",
    "client = OpenAI()\n",
    "\n",
    "response = client.chat.completions.create(\n",
    "    model=\"gpt-4.1-nano\",\n",
    "    messages=[\n",
    "        {\"role\": \"system\", \"content\":\"너는 친철하게 대답해 주는 비서야\"},\n",
    "        {\"role\": \"user\", \"content\":\"2020년 월드 시리즈 누가 우승했어?\"},\n",
    "    ]\n",
    ")"
   ]
  },
  {
   "cell_type": "code",
   "execution_count": 5,
   "id": "b9bc2d71",
   "metadata": {},
   "outputs": [
    {
     "data": {
      "text/plain": [
       "'2020년 월드 시리즈 우승은 워싱턴 내셔널스(Washington Nationals)가 차지했어요. 내셔널스는 텍사스 레인저스(Los Angeles Dodgers)를 4승 3패로 이기고 우승을 차지했답니다. 이 시리즈는 코로나19 팬데믹으로 인해 특별한 시기였어요. 궁금한 점이 더 있나요?'"
      ]
     },
     "execution_count": 5,
     "metadata": {},
     "output_type": "execute_result"
    }
   ],
   "source": [
    "response.choices[0].message.content"
   ]
  },
  {
   "cell_type": "markdown",
   "id": "6e144921",
   "metadata": {},
   "source": [
    "## 2.2. LangChain을 선택\n",
    "\n",
    "- 내부적으로 자동 메시지 형채를 변환해 줌"
   ]
  },
  {
   "cell_type": "code",
   "execution_count": 6,
   "id": "367c12dd",
   "metadata": {},
   "outputs": [],
   "source": [
    "from langchain_openai import ChatOpenAI\n",
    "\n",
    "# env OPENAI_API_KEY 가 등록\n",
    "lim = ChatOpenAI(\n",
    "    model=\"gpt-4.1-nano\" # 기본모델 : gpt-3.5-turbo\n",
    ")\n",
    "\n",
    "ai_message = lim.invoke(\"2020년 월드 시리즈 누가 우승했나요?\")"
   ]
  },
  {
   "cell_type": "code",
   "execution_count": 7,
   "id": "adcc2f4e",
   "metadata": {},
   "outputs": [
    {
     "data": {
      "text/plain": [
       "'2020년 월드 시리즈에서는 텍사스 레인저스가 우승을 차지했습니다. 하지만 이는 사실과 다릅니다. 사실 2020년 메이저 리그 야구 월드 시리즈에서는 워싱턴 내셔널스가 템파베이 레이스를 상대로 승리를 거두어 우승하였으며, 내셔널스는 2019년 우승팀입니다. 정확히 말하면, 2020년 월드 시리즈의 우승팀은 워싱턴 내셔널스입니다.'"
      ]
     },
     "execution_count": 7,
     "metadata": {},
     "output_type": "execute_result"
    }
   ],
   "source": [
    "ai_message.content"
   ]
  },
  {
   "cell_type": "code",
   "execution_count": null,
   "id": "5a2a9eb8",
   "metadata": {},
   "outputs": [],
   "source": []
  },
  {
   "cell_type": "code",
   "execution_count": null,
   "id": "a0df22ce",
   "metadata": {},
   "outputs": [],
   "source": []
  },
  {
   "cell_type": "code",
   "execution_count": null,
   "id": "3502bc57",
   "metadata": {},
   "outputs": [],
   "source": []
  },
  {
   "cell_type": "code",
   "execution_count": null,
   "id": "eaa0cbf5",
   "metadata": {},
   "outputs": [],
   "source": []
  },
  {
   "cell_type": "code",
   "execution_count": null,
   "id": "5dd87a4a",
   "metadata": {},
   "outputs": [],
   "source": []
  }
 ],
 "metadata": {
  "kernelspec": {
   "display_name": "llm",
   "language": "python",
   "name": "python3"
  },
  "language_info": {
   "codemirror_mode": {
    "name": "ipython",
    "version": 3
   },
   "file_extension": ".py",
   "mimetype": "text/x-python",
   "name": "python",
   "nbconvert_exporter": "python",
   "pygments_lexer": "ipython3",
   "version": "3.10.18"
  }
 },
 "nbformat": 4,
 "nbformat_minor": 5
}
